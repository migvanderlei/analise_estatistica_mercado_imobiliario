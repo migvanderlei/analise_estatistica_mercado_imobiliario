{
  "nbformat": 4,
  "nbformat_minor": 0,
  "metadata": {
    "colab": {
      "provenance": [],
      "collapsed_sections": [],
      "toc_visible": true
    },
    "kernelspec": {
      "name": "python3",
      "display_name": "Python 3"
    },
    "language_info": {
      "name": "python"
    }
  },
  "cells": [
    {
      "cell_type": "code",
      "source": [
        "import pandas as pd\n",
        "import matplotlib.pyplot as plt\n",
        "import numpy as np\n",
        "import seaborn as sns"
      ],
      "metadata": {
        "id": "5Cj8rqaJ7pq1"
      },
      "execution_count": 510,
      "outputs": []
    },
    {
      "cell_type": "code",
      "execution_count": 511,
      "metadata": {
        "colab": {
          "base_uri": "https://localhost:8080/",
          "height": 74
        },
        "id": "4dJsXTyN7JOM",
        "outputId": "45692ef3-bd14-41c1-bbf6-204431633f5d"
      },
      "outputs": [
        {
          "output_type": "display_data",
          "data": {
            "text/plain": [
              "<IPython.core.display.HTML object>"
            ],
            "text/html": [
              "\n",
              "     <input type=\"file\" id=\"files-31bc580d-a5ae-407c-9d16-dcff7429e39b\" name=\"files[]\" multiple disabled\n",
              "        style=\"border:none\" />\n",
              "     <output id=\"result-31bc580d-a5ae-407c-9d16-dcff7429e39b\">\n",
              "      Upload widget is only available when the cell has been executed in the\n",
              "      current browser session. Please rerun this cell to enable.\n",
              "      </output>\n",
              "      <script>// Copyright 2017 Google LLC\n",
              "//\n",
              "// Licensed under the Apache License, Version 2.0 (the \"License\");\n",
              "// you may not use this file except in compliance with the License.\n",
              "// You may obtain a copy of the License at\n",
              "//\n",
              "//      http://www.apache.org/licenses/LICENSE-2.0\n",
              "//\n",
              "// Unless required by applicable law or agreed to in writing, software\n",
              "// distributed under the License is distributed on an \"AS IS\" BASIS,\n",
              "// WITHOUT WARRANTIES OR CONDITIONS OF ANY KIND, either express or implied.\n",
              "// See the License for the specific language governing permissions and\n",
              "// limitations under the License.\n",
              "\n",
              "/**\n",
              " * @fileoverview Helpers for google.colab Python module.\n",
              " */\n",
              "(function(scope) {\n",
              "function span(text, styleAttributes = {}) {\n",
              "  const element = document.createElement('span');\n",
              "  element.textContent = text;\n",
              "  for (const key of Object.keys(styleAttributes)) {\n",
              "    element.style[key] = styleAttributes[key];\n",
              "  }\n",
              "  return element;\n",
              "}\n",
              "\n",
              "// Max number of bytes which will be uploaded at a time.\n",
              "const MAX_PAYLOAD_SIZE = 100 * 1024;\n",
              "\n",
              "function _uploadFiles(inputId, outputId) {\n",
              "  const steps = uploadFilesStep(inputId, outputId);\n",
              "  const outputElement = document.getElementById(outputId);\n",
              "  // Cache steps on the outputElement to make it available for the next call\n",
              "  // to uploadFilesContinue from Python.\n",
              "  outputElement.steps = steps;\n",
              "\n",
              "  return _uploadFilesContinue(outputId);\n",
              "}\n",
              "\n",
              "// This is roughly an async generator (not supported in the browser yet),\n",
              "// where there are multiple asynchronous steps and the Python side is going\n",
              "// to poll for completion of each step.\n",
              "// This uses a Promise to block the python side on completion of each step,\n",
              "// then passes the result of the previous step as the input to the next step.\n",
              "function _uploadFilesContinue(outputId) {\n",
              "  const outputElement = document.getElementById(outputId);\n",
              "  const steps = outputElement.steps;\n",
              "\n",
              "  const next = steps.next(outputElement.lastPromiseValue);\n",
              "  return Promise.resolve(next.value.promise).then((value) => {\n",
              "    // Cache the last promise value to make it available to the next\n",
              "    // step of the generator.\n",
              "    outputElement.lastPromiseValue = value;\n",
              "    return next.value.response;\n",
              "  });\n",
              "}\n",
              "\n",
              "/**\n",
              " * Generator function which is called between each async step of the upload\n",
              " * process.\n",
              " * @param {string} inputId Element ID of the input file picker element.\n",
              " * @param {string} outputId Element ID of the output display.\n",
              " * @return {!Iterable<!Object>} Iterable of next steps.\n",
              " */\n",
              "function* uploadFilesStep(inputId, outputId) {\n",
              "  const inputElement = document.getElementById(inputId);\n",
              "  inputElement.disabled = false;\n",
              "\n",
              "  const outputElement = document.getElementById(outputId);\n",
              "  outputElement.innerHTML = '';\n",
              "\n",
              "  const pickedPromise = new Promise((resolve) => {\n",
              "    inputElement.addEventListener('change', (e) => {\n",
              "      resolve(e.target.files);\n",
              "    });\n",
              "  });\n",
              "\n",
              "  const cancel = document.createElement('button');\n",
              "  inputElement.parentElement.appendChild(cancel);\n",
              "  cancel.textContent = 'Cancel upload';\n",
              "  const cancelPromise = new Promise((resolve) => {\n",
              "    cancel.onclick = () => {\n",
              "      resolve(null);\n",
              "    };\n",
              "  });\n",
              "\n",
              "  // Wait for the user to pick the files.\n",
              "  const files = yield {\n",
              "    promise: Promise.race([pickedPromise, cancelPromise]),\n",
              "    response: {\n",
              "      action: 'starting',\n",
              "    }\n",
              "  };\n",
              "\n",
              "  cancel.remove();\n",
              "\n",
              "  // Disable the input element since further picks are not allowed.\n",
              "  inputElement.disabled = true;\n",
              "\n",
              "  if (!files) {\n",
              "    return {\n",
              "      response: {\n",
              "        action: 'complete',\n",
              "      }\n",
              "    };\n",
              "  }\n",
              "\n",
              "  for (const file of files) {\n",
              "    const li = document.createElement('li');\n",
              "    li.append(span(file.name, {fontWeight: 'bold'}));\n",
              "    li.append(span(\n",
              "        `(${file.type || 'n/a'}) - ${file.size} bytes, ` +\n",
              "        `last modified: ${\n",
              "            file.lastModifiedDate ? file.lastModifiedDate.toLocaleDateString() :\n",
              "                                    'n/a'} - `));\n",
              "    const percent = span('0% done');\n",
              "    li.appendChild(percent);\n",
              "\n",
              "    outputElement.appendChild(li);\n",
              "\n",
              "    const fileDataPromise = new Promise((resolve) => {\n",
              "      const reader = new FileReader();\n",
              "      reader.onload = (e) => {\n",
              "        resolve(e.target.result);\n",
              "      };\n",
              "      reader.readAsArrayBuffer(file);\n",
              "    });\n",
              "    // Wait for the data to be ready.\n",
              "    let fileData = yield {\n",
              "      promise: fileDataPromise,\n",
              "      response: {\n",
              "        action: 'continue',\n",
              "      }\n",
              "    };\n",
              "\n",
              "    // Use a chunked sending to avoid message size limits. See b/62115660.\n",
              "    let position = 0;\n",
              "    do {\n",
              "      const length = Math.min(fileData.byteLength - position, MAX_PAYLOAD_SIZE);\n",
              "      const chunk = new Uint8Array(fileData, position, length);\n",
              "      position += length;\n",
              "\n",
              "      const base64 = btoa(String.fromCharCode.apply(null, chunk));\n",
              "      yield {\n",
              "        response: {\n",
              "          action: 'append',\n",
              "          file: file.name,\n",
              "          data: base64,\n",
              "        },\n",
              "      };\n",
              "\n",
              "      let percentDone = fileData.byteLength === 0 ?\n",
              "          100 :\n",
              "          Math.round((position / fileData.byteLength) * 100);\n",
              "      percent.textContent = `${percentDone}% done`;\n",
              "\n",
              "    } while (position < fileData.byteLength);\n",
              "  }\n",
              "\n",
              "  // All done.\n",
              "  yield {\n",
              "    response: {\n",
              "      action: 'complete',\n",
              "    }\n",
              "  };\n",
              "}\n",
              "\n",
              "scope.google = scope.google || {};\n",
              "scope.google.colab = scope.google.colab || {};\n",
              "scope.google.colab._files = {\n",
              "  _uploadFiles,\n",
              "  _uploadFilesContinue,\n",
              "};\n",
              "})(self);\n",
              "</script> "
            ]
          },
          "metadata": {}
        },
        {
          "output_type": "stream",
          "name": "stdout",
          "text": [
            "Saving data_amostra_2.csv to data_amostra_2 (2).csv\n"
          ]
        }
      ],
      "source": [
        "from google.colab import files\n",
        "\n",
        "uploaded = files.upload()"
      ]
    },
    {
      "cell_type": "code",
      "source": [
        "df = pd.read_csv('data_amostra_2.csv')\n",
        "\n",
        "tamanho_amostra = len(df)\n",
        "df[\"qtde_quartos\"], df[\"qtde_banheiros\"], df[\"qtde_vagas\"] = df[\"qtde_quartos\"].astype(int), df[\"qtde_banheiros\"].astype(int), df[\"qtde_vagas\"].astype(int)"
      ],
      "metadata": {
        "id": "7S5_YIsHR_g7"
      },
      "execution_count": 512,
      "outputs": []
    },
    {
      "cell_type": "code",
      "source": [
        "def printModa(variavel_moda):\n",
        "  print(\"Moda: \")\n",
        "  for i in range(len(variavel_moda)):\n",
        "    print(f\"{variavel_moda[i]:.0f}\")\n",
        "\n",
        "def checar_moda(variavel_moda, qtde_var):\n",
        "  if len(variavel_moda) == qtde_var:\n",
        "      print(\"Nenhum valor se repete\")\n",
        "  "
      ],
      "metadata": {
        "id": "aLq6OA_3PgfX"
      },
      "execution_count": 513,
      "outputs": []
    },
    {
      "cell_type": "markdown",
      "source": [
        "#Instruções\n",
        "\n",
        "\n",
        "---\n",
        "\n",
        "\n",
        "\n"
      ],
      "metadata": {
        "id": "UaVz8qPDKQIK"
      }
    },
    {
      "cell_type": "markdown",
      "source": [
        "Obs: *NÃO* esquecer de rodar o conjunto de células com os Dataframes \n",
        "\n",
        "É possível se guiar pela área de índice:\n",
        "\n",
        "![alt text](https://drive.google.com/uc?=view&id=1cCkqC8e1Y_jLv6cdCgGcsdPOXXMHxBY6)\n",
        "\n",
        "Para **exibir** a tabela com as medidas de dispersão correspondentes à variável:\n",
        "\n",
        "1. **Executar as células correspondentes à variável:**\n",
        "\n",
        "![alt text](https://drive.google.com/uc?=view&id=1dGzXSQaLbT0Z3Ofz0iAZc64TKcVPBjAA)\n",
        "\n",
        "2. **Executar as células correspondentes aos resultados:**\n",
        "\n",
        "![alt text](https://drive.google.com/uc?=view&id=1Istx8M6R5kKgSDFJXVEsdl8MUGP4Xzq9)\n",
        "\n",
        "3. **Abrir a aba de 'Resultados'**:**negrito**\n",
        "\n",
        "\n",
        "![alt text](https://drive.google.com/uc?=view&id=1QnBUvTPJMSM0AbT-lL95XnfOzbIBtSPN)"
      ],
      "metadata": {
        "id": "nxMZq1gt89m3"
      }
    },
    {
      "cell_type": "markdown",
      "source": [
        "#**Dataframes separados**"
      ],
      "metadata": {
        "id": "Vn-12c4ymluY"
      }
    },
    {
      "cell_type": "code",
      "source": [
        "df_apartamentos = df[df[\"categoria\"] == \"Apartamentos\"]\n",
        "df_casas = df[df[\"categoria\"] == \"Casas\"]"
      ],
      "metadata": {
        "id": "-JRV8BwfmoaI"
      },
      "execution_count": 515,
      "outputs": []
    },
    {
      "cell_type": "markdown",
      "source": [
        "Geral, sem distinção entre casas e apartamentos:"
      ],
      "metadata": {
        "id": "um8tUKPzzAVf"
      }
    },
    {
      "cell_type": "code",
      "source": [
        "df_norte = df[df[\"zona\"] == \"Norte\"]\n",
        "df_sul = df[df[\"zona\"] == \"Sul\"]\n",
        "df_leste = df[df[\"zona\"] == \"Leste\"]\n",
        "df_oeste = df[df[\"zona\"] == \"Oeste\"]\n",
        "df_co = df[df[\"zona\"] == \"Centro-Oeste\"]\n",
        "df_cs = df[df[\"zona\"] == \"Centro-Sul\"]"
      ],
      "metadata": {
        "id": "RseO3JOynVPC"
      },
      "execution_count": 516,
      "outputs": []
    },
    {
      "cell_type": "markdown",
      "source": [
        "Casas:"
      ],
      "metadata": {
        "id": "o_XOLEGDzEtF"
      }
    },
    {
      "cell_type": "code",
      "source": [
        "df_casas_norte = df_norte.loc[df[\"categoria\"] == \"Casas\"]\n",
        "df_casas_sul = df_sul.loc[df_sul[\"categoria\"] == \"Casas\"]\n",
        "df_casas_leste = df_leste.loc[df_leste[\"categoria\"] == \"Casas\"]\n",
        "df_casas_oeste = df_oeste.loc[df_oeste[\"categoria\"] == \"Casas\"]\n",
        "df_casas_co = df_co.loc[df_co[\"categoria\"] == \"Casas\"]\n",
        "df_casas_cs = df_cs.loc[df_cs[\"categoria\"] == \"Casas\"]"
      ],
      "metadata": {
        "id": "MLC31VqoygV2"
      },
      "execution_count": 517,
      "outputs": []
    },
    {
      "cell_type": "markdown",
      "source": [
        "Apartamentos:"
      ],
      "metadata": {
        "id": "SIa6vEbKzHhH"
      }
    },
    {
      "cell_type": "code",
      "source": [
        "df_apartamentos_norte= df_norte.loc[df[\"categoria\"] == \"Apartamentos\"]\n",
        "df_apartamentos_sul = df_sul.loc[df_sul[\"categoria\"] == \"Apartamentos\"]\n",
        "df_apartamentos_leste = df_leste.loc[df[\"categoria\"] == \"Apartamentos\"]\n",
        "df_apartamentos_oeste = df_oeste.loc[df_oeste[\"categoria\"] == \"Apartamentos\"]\n",
        "df_apartamentos_co = df_co.loc[df_co[\"categoria\"] == \"Apartamentos\"]\n",
        "df_apartamentos_cs = df_cs.loc[df_cs[\"categoria\"] == \"Apartamentos\"]"
      ],
      "metadata": {
        "id": "TRDgCOicyfRm"
      },
      "execution_count": 518,
      "outputs": []
    },
    {
      "cell_type": "markdown",
      "source": [
        "# 🟆 Variável: Valor do Imóvel (Quantitativa)\n",
        "---\n",
        "\n"
      ],
      "metadata": {
        "id": "ER36xwZdcPD-"
      }
    },
    {
      "cell_type": "markdown",
      "source": [
        "## Medidas Gerais"
      ],
      "metadata": {
        "id": "A0eEIKWNceCh"
      }
    },
    {
      "cell_type": "markdown",
      "source": [
        "### *Geral*"
      ],
      "metadata": {
        "id": "qAPzPQjfceCj"
      }
    },
    {
      "cell_type": "code",
      "source": [
        "mediana = df[\"valor\"].median()"
      ],
      "metadata": {
        "id": "EZ7FunoBceCj"
      },
      "execution_count": 519,
      "outputs": []
    },
    {
      "cell_type": "code",
      "source": [
        "media = df[\"valor\"].mean()"
      ],
      "metadata": {
        "id": "vPsA4DasceCj"
      },
      "execution_count": 520,
      "outputs": []
    },
    {
      "cell_type": "code",
      "source": [
        "moda = df[\"valor\"].mode()"
      ],
      "metadata": {
        "id": "fdEEdyeVceCj"
      },
      "execution_count": 521,
      "outputs": []
    },
    {
      "cell_type": "code",
      "source": [
        "desvio_padrao = df[\"valor\"].std()"
      ],
      "metadata": {
        "id": "6KMp9ENNceCj"
      },
      "execution_count": 522,
      "outputs": []
    },
    {
      "cell_type": "code",
      "source": [
        "coeficiente_de_variacao = desvio_padrao/media\n",
        "coeficiente_porcentagem = coeficiente_de_variacao * 100"
      ],
      "metadata": {
        "id": "ZvFhAf11ceCj"
      },
      "execution_count": 523,
      "outputs": []
    },
    {
      "cell_type": "code",
      "source": [
        "print(f'Média: {media:.2f}')\n",
        "print(f'Mediana: {mediana:.0f}')\n",
        "print(f'Moda: {moda}')\n",
        "print(f'Desvio Padrão: {desvio_padrao:.2f}')\n",
        "print(f'Coeficiente de Variação: {coeficiente_porcentagem:.2f}%')"
      ],
      "metadata": {
        "id": "DV2mjGesceCj",
        "colab": {
          "base_uri": "https://localhost:8080/"
        },
        "outputId": "d97ac774-d4e8-4884-d375-15319a710c73"
      },
      "execution_count": 524,
      "outputs": [
        {
          "output_type": "stream",
          "name": "stdout",
          "text": [
            "Média: 813271.86\n",
            "Mediana: 450000\n",
            "Moda: 0    250000.0\n",
            "1    450000.0\n",
            "dtype: float64\n",
            "Desvio Padrão: 987299.91\n",
            "Coeficiente de Variação: 121.40%\n"
          ]
        }
      ]
    },
    {
      "cell_type": "markdown",
      "source": [
        "### *Casas*\n"
      ],
      "metadata": {
        "id": "xpPPkgWPceCi"
      }
    },
    {
      "cell_type": "code",
      "source": [
        "media_casas = df[\"valor\"].mean()\n",
        "moda_casas = df[\"valor\"].mode()\n",
        "mediana_casas = df[\"valor\"].median()\n",
        "desvio_padrao_casas = df[\"valor\"].std()\n",
        "coeficiente_de_variacao_casas = desvio_padrao/media"
      ],
      "metadata": {
        "id": "p5O46l4dceCi"
      },
      "execution_count": 525,
      "outputs": []
    },
    {
      "cell_type": "code",
      "source": [
        "print(f'Média: {media_casas:.2f}')\n",
        "print(f'Mediana: {mediana_casas:.0f}')\n",
        "print(f'Moda: {moda_casas}')\n",
        "print(f'Desvio Padrão: {desvio_padrao_casas:.2f}')\n",
        "print(f'Coeficiente de Variação: {coeficiente_de_variacao_casas:.2f}%')"
      ],
      "metadata": {
        "id": "fCkkVm1HceCi",
        "colab": {
          "base_uri": "https://localhost:8080/"
        },
        "outputId": "655e5e0f-459f-4414-b4f8-6b3ff76385ad"
      },
      "execution_count": 526,
      "outputs": [
        {
          "output_type": "stream",
          "name": "stdout",
          "text": [
            "Média: 813271.86\n",
            "Mediana: 450000\n",
            "Moda: 0    250000.0\n",
            "1    450000.0\n",
            "dtype: float64\n",
            "Desvio Padrão: 987299.91\n",
            "Coeficiente de Variação: 1.21%\n"
          ]
        }
      ]
    },
    {
      "cell_type": "markdown",
      "source": [
        "###*Apartamentos*"
      ],
      "metadata": {
        "id": "Zp8Ls1tzceCj"
      }
    },
    {
      "cell_type": "code",
      "source": [
        "media_valor = df_apartamentos[\"valor\"].mean()\n",
        "moda_valor = df_apartamentos[\"valor\"].mode()\n",
        "mediana_valor = df_apartamentos[\"valor\"].median()\n",
        "desvio_padrao_valor = df_apartamentos[\"valor\"].std()\n",
        "coeficiente_de_variacao_casas = desvio_padrao_valor/media_valor"
      ],
      "metadata": {
        "id": "pVQzSA5imb8p"
      },
      "execution_count": 527,
      "outputs": []
    },
    {
      "cell_type": "code",
      "source": [
        "print(f'Média: {media_casas:.2f}')\n",
        "print(f'Mediana: {mediana_casas:.0f}')\n",
        "print(f'Moda: {moda_casas}')\n",
        "print(f'Desvio Padrão: {desvio_padrao_casas:.2f}')\n",
        "print(f'Coeficiente de Variação: {coeficiente_de_variacao_casas * 100:.2f}%')"
      ],
      "metadata": {
        "id": "Yjv9Dfwpc3ML",
        "colab": {
          "base_uri": "https://localhost:8080/"
        },
        "outputId": "d220acfa-7224-43f3-99e7-f9e5274ba313"
      },
      "execution_count": 528,
      "outputs": [
        {
          "output_type": "stream",
          "name": "stdout",
          "text": [
            "Média: 813271.86\n",
            "Mediana: 450000\n",
            "Moda: 0    250000.0\n",
            "1    450000.0\n",
            "dtype: float64\n",
            "Desvio Padrão: 987299.91\n",
            "Coeficiente de Variação: 108.88%\n"
          ]
        }
      ]
    },
    {
      "cell_type": "markdown",
      "source": [
        "## Região Norte"
      ],
      "metadata": {
        "id": "dS01DZ7WdFWb"
      }
    },
    {
      "cell_type": "markdown",
      "source": [
        "### *Medidas Gerais*"
      ],
      "metadata": {
        "id": "LVXLd9NJdFWc"
      }
    },
    {
      "cell_type": "code",
      "source": [
        "len(df_norte)"
      ],
      "metadata": {
        "id": "f0SqhztBdFWc",
        "colab": {
          "base_uri": "https://localhost:8080/"
        },
        "outputId": "fa8a78c8-103c-414b-a6cf-3d05b421302f"
      },
      "execution_count": 529,
      "outputs": [
        {
          "output_type": "execute_result",
          "data": {
            "text/plain": [
              "73"
            ]
          },
          "metadata": {},
          "execution_count": 529
        }
      ]
    },
    {
      "cell_type": "code",
      "source": [
        "media_norte = df_norte[\"valor\"].mean()"
      ],
      "metadata": {
        "id": "jn0qpfOpdFWd"
      },
      "execution_count": 530,
      "outputs": []
    },
    {
      "cell_type": "code",
      "source": [
        "mediana_norte = df_norte[\"valor\"].median()"
      ],
      "metadata": {
        "id": "Zp0OEc6LdFWd"
      },
      "execution_count": 531,
      "outputs": []
    },
    {
      "cell_type": "code",
      "source": [
        "moda_norte = df_norte[\"valor\"].mode()"
      ],
      "metadata": {
        "id": "55DzZLHldFWd"
      },
      "execution_count": 532,
      "outputs": []
    },
    {
      "cell_type": "code",
      "source": [
        "desvio_padrao_norte = df_norte[\"valor\"].std()"
      ],
      "metadata": {
        "id": "B51WI4WXdFWd"
      },
      "execution_count": 533,
      "outputs": []
    },
    {
      "cell_type": "code",
      "source": [
        "coeficiente_de_variacao_norte = desvio_padrao_norte/media_norte"
      ],
      "metadata": {
        "id": "2PAQsL9zdFWd"
      },
      "execution_count": 534,
      "outputs": []
    },
    {
      "cell_type": "code",
      "source": [
        "print(\"MEDIDAS GERAIS DA VARIÁVEL 'QUANTIDADE DE QUARTOS' DA REGIÃO NORTE\")\n",
        "print(f\"Média: {media_norte:.2f}\")\n",
        "print(f\"Mediana: {mediana_norte:.0f}\")\n",
        "print(f\"Moda: {moda_norte}\")\n",
        "print(f\"Desvio Padrão: {desvio_padrao_norte:.2f}\")\n",
        "print(f\"Coeficiente de Variação: {coeficiente_de_variacao_norte * 100:.2f}%\")"
      ],
      "metadata": {
        "id": "ZfkW91nHdFWd",
        "colab": {
          "base_uri": "https://localhost:8080/"
        },
        "outputId": "0548089c-b676-4490-b971-6adc5e6f7e1d"
      },
      "execution_count": 535,
      "outputs": [
        {
          "output_type": "stream",
          "name": "stdout",
          "text": [
            "MEDIDAS GERAIS DA VARIÁVEL 'QUANTIDADE DE QUARTOS' DA REGIÃO NORTE\n",
            "Média: 327017.11\n",
            "Mediana: 275000\n",
            "Moda: 0    280000.0\n",
            "dtype: float64\n",
            "Desvio Padrão: 259740.58\n",
            "Coeficiente de Variação: 79.43%\n"
          ]
        }
      ]
    },
    {
      "cell_type": "markdown",
      "source": [
        "###*Casas*\n",
        "\n",
        "Aproximadamente 67,5% de todos os imóveis disponíveis na *Região Norte*"
      ],
      "metadata": {
        "id": "W5kORehZdFWe"
      }
    },
    {
      "cell_type": "code",
      "source": [
        "len(df_casas_norte)"
      ],
      "metadata": {
        "id": "3s1cT8GrdFWe",
        "colab": {
          "base_uri": "https://localhost:8080/"
        },
        "outputId": "7e28fb90-bfe6-4567-b5a4-5ac2d459add8"
      },
      "execution_count": 536,
      "outputs": [
        {
          "output_type": "execute_result",
          "data": {
            "text/plain": [
              "62"
            ]
          },
          "metadata": {},
          "execution_count": 536
        }
      ]
    },
    {
      "cell_type": "code",
      "source": [
        "media_casas_norte = df_casas_norte[\"valor\"].mean()"
      ],
      "metadata": {
        "id": "uT2a7oKQdFWe"
      },
      "execution_count": 537,
      "outputs": []
    },
    {
      "cell_type": "code",
      "source": [
        "mediana_casas_norte = df_casas_norte[\"valor\"].median()"
      ],
      "metadata": {
        "id": "VccodXIYdFWe"
      },
      "execution_count": 538,
      "outputs": []
    },
    {
      "cell_type": "code",
      "source": [
        "moda_casas_norte = df_casas_norte[\"valor\"].mode()"
      ],
      "metadata": {
        "id": "ihipIBPydFWe"
      },
      "execution_count": 539,
      "outputs": []
    },
    {
      "cell_type": "code",
      "source": [
        "desvio_padrao_casas_norte = df_casas_norte[\"valor\"].std()"
      ],
      "metadata": {
        "id": "xnoco8rNdFWf"
      },
      "execution_count": 540,
      "outputs": []
    },
    {
      "cell_type": "code",
      "source": [
        "coeficiente_de_variacao_casas_norte = desvio_padrao_casas_norte/media_casas_norte"
      ],
      "metadata": {
        "id": "9RI6nWlpdFWf"
      },
      "execution_count": 541,
      "outputs": []
    },
    {
      "cell_type": "code",
      "source": [
        "print(\"MEDIDAS DO 'VALOR' DAS CASAS DA REGIÃO NORTE\")\n",
        "print(f\"Média: {media_casas_norte:.2f}\")\n",
        "printModa(moda_casas_norte)\n",
        "print(f\"Mediana: {mediana_casas_norte:.0f}\")\n",
        "print(f\"Desvio Padrão: {desvio_padrao_casas_norte:.2f}\")\n",
        "print(f\"Coeficiente de Variação: {coeficiente_de_variacao_casas_norte * 100:.2f}%\")"
      ],
      "metadata": {
        "id": "T1RfZWmadFWf",
        "colab": {
          "base_uri": "https://localhost:8080/"
        },
        "outputId": "e2d9cc82-5480-4ca9-e6f2-34d4e80265a8"
      },
      "execution_count": 542,
      "outputs": [
        {
          "output_type": "stream",
          "name": "stdout",
          "text": [
            "MEDIDAS DO 'VALOR' DAS CASAS DA REGIÃO NORTE\n",
            "Média: 346165.31\n",
            "Moda: \n",
            "180000\n",
            "250000\n",
            "280000\n",
            "Mediana: 280000\n",
            "Desvio Padrão: 269673.15\n",
            "Coeficiente de Variação: 77.90%\n"
          ]
        }
      ]
    },
    {
      "cell_type": "markdown",
      "source": [
        "### *Apartamentos*\n",
        "\n",
        "Aproximadamente 32,5% de todos os imóveis disponíveis na *Região Norte*"
      ],
      "metadata": {
        "id": "H9V7WYIVdFWf"
      }
    },
    {
      "cell_type": "code",
      "source": [
        "len(df_apartamentos_norte)"
      ],
      "metadata": {
        "id": "b3yzNyMadFWf",
        "colab": {
          "base_uri": "https://localhost:8080/"
        },
        "outputId": "76730af3-bca2-4035-ad94-4fbb183ec248"
      },
      "execution_count": 543,
      "outputs": [
        {
          "output_type": "execute_result",
          "data": {
            "text/plain": [
              "11"
            ]
          },
          "metadata": {},
          "execution_count": 543
        }
      ]
    },
    {
      "cell_type": "code",
      "source": [
        "media_apartamentos_norte= df_apartamentos_norte[\"valor\"].mean()\n",
        "mediana_apartamentos_norte= df_apartamentos_norte[\"valor\"].median()\n",
        "moda_apartamentos_norte= df_apartamentos_norte[\"valor\"].mode()\n",
        "desvio_padrao_apartamentos_norte= df_apartamentos_norte[\"valor\"].std()\n",
        "coeficiente_de_variacao_apartamentos_norte= desvio_padrao_apartamentos_norte/media_apartamentos_norte"
      ],
      "metadata": {
        "id": "QZ_49G4NdFWf"
      },
      "execution_count": 544,
      "outputs": []
    },
    {
      "cell_type": "code",
      "source": [],
      "metadata": {
        "id": "AhDy-puidFWg"
      },
      "execution_count": 544,
      "outputs": []
    },
    {
      "cell_type": "code",
      "source": [
        "print(\"MEDIDAS DO 'VALOR' DOS APARTAMENTOS DA REGIÃO NORTE\")\n",
        "print(f\"Média: {media_apartamentos_norte:.2f}\")\n",
        "print(f\"Moda: {moda_apartamentos_norte}\")\n",
        "print(f\"Mediana: {mediana_apartamentos_norte:.0f}\")\n",
        "print(f\"Desvio Padrão: {desvio_padrao_casas_norte:.2f}%\")\n",
        "print(f\"Coeficiente de Variação: {coeficiente_de_variacao_casas_norte * 100:.2f}%\")"
      ],
      "metadata": {
        "id": "mHk0WV6zdFWg",
        "colab": {
          "base_uri": "https://localhost:8080/"
        },
        "outputId": "b3970f3f-8e27-43e9-e20a-02c4bcc9cee7"
      },
      "execution_count": 545,
      "outputs": [
        {
          "output_type": "stream",
          "name": "stdout",
          "text": [
            "MEDIDAS DO 'VALOR' DOS APARTAMENTOS DA REGIÃO NORTE\n",
            "Média: 219090.91\n",
            "Moda: 0     55000.0\n",
            "1    160000.0\n",
            "2    450000.0\n",
            "dtype: float64\n",
            "Mediana: 160000\n",
            "Desvio Padrão: 269673.15%\n",
            "Coeficiente de Variação: 77.90%\n"
          ]
        }
      ]
    },
    {
      "cell_type": "markdown",
      "source": [
        "## Região Sul"
      ],
      "metadata": {
        "id": "vTiH0wemdk4j"
      }
    },
    {
      "cell_type": "markdown",
      "source": [
        "### *Medidas Gerais*"
      ],
      "metadata": {
        "id": "pjiBh39vdk4j"
      }
    },
    {
      "cell_type": "code",
      "source": [
        "len(df_sul)"
      ],
      "metadata": {
        "id": "n0NLZl2Bdk4j",
        "colab": {
          "base_uri": "https://localhost:8080/"
        },
        "outputId": "d72d712c-2a51-4a96-b5ef-75d351e31db2"
      },
      "execution_count": 546,
      "outputs": [
        {
          "output_type": "execute_result",
          "data": {
            "text/plain": [
              "15"
            ]
          },
          "metadata": {},
          "execution_count": 546
        }
      ]
    },
    {
      "cell_type": "code",
      "source": [
        "media_sul = df_sul[\"valor\"].mean()"
      ],
      "metadata": {
        "id": "yfx5vC0Udk4k"
      },
      "execution_count": 547,
      "outputs": []
    },
    {
      "cell_type": "code",
      "source": [
        "mediana_sul = df_sul[\"valor\"].median()"
      ],
      "metadata": {
        "id": "AUxse0vcdk4k"
      },
      "execution_count": 548,
      "outputs": []
    },
    {
      "cell_type": "code",
      "source": [
        "moda_sul = df_sul[\"valor\"].mode()"
      ],
      "metadata": {
        "id": "vZ7vwIOVdk4k"
      },
      "execution_count": 549,
      "outputs": []
    },
    {
      "cell_type": "code",
      "source": [
        "desvio_padrao_sul = df_sul[\"valor\"].std()"
      ],
      "metadata": {
        "id": "noMfFYbSdk4k"
      },
      "execution_count": 550,
      "outputs": []
    },
    {
      "cell_type": "code",
      "source": [
        "coeficiente_de_variacao_sul = desvio_padrao_sul/media_sul"
      ],
      "metadata": {
        "id": "tHPakmNbdk4k"
      },
      "execution_count": 551,
      "outputs": []
    },
    {
      "cell_type": "code",
      "source": [
        "print(\"MEDIDAS DA VARIAVEL 'VALOR DE IMÓVEIS' DA REGIÃO SUL\")\n",
        "print(f\"Média: {media_sul:.0f}\")\n",
        "print(f\"Moda: {moda_sul}\")\n",
        "print(f\"Mediana: {mediana_sul:.0f}\")\n",
        "print(f\"Desvio Padrão:  {desvio_padrao_sul:.2f}\")\n",
        "print(f\"Coeficiente de variação:  {coeficiente_de_variacao_sul *100:.2f}%\")"
      ],
      "metadata": {
        "id": "me6ASWwBdk4k",
        "colab": {
          "base_uri": "https://localhost:8080/"
        },
        "outputId": "4911f274-fc1b-48df-d0af-708543e2e187"
      },
      "execution_count": 552,
      "outputs": [
        {
          "output_type": "stream",
          "name": "stdout",
          "text": [
            "MEDIDAS DA VARIAVEL 'VALOR DE IMÓVEIS' DA REGIÃO SUL\n",
            "Média: 382667\n",
            "Moda: 0      65000.0\n",
            "1     150000.0\n",
            "2     190000.0\n",
            "3     230000.0\n",
            "4     260000.0\n",
            "5     265000.0\n",
            "6     300000.0\n",
            "7     350000.0\n",
            "8     400000.0\n",
            "9     410000.0\n",
            "10    450000.0\n",
            "11    500000.0\n",
            "12    550000.0\n",
            "13    730000.0\n",
            "14    890000.0\n",
            "dtype: float64\n",
            "Mediana: 350000\n",
            "Desvio Padrão:  220007.03\n",
            "Coeficiente de variação:  57.49%\n"
          ]
        }
      ]
    },
    {
      "cell_type": "markdown",
      "source": [
        "### *Casas*"
      ],
      "metadata": {
        "id": "8UIdoLSKdk4k"
      }
    },
    {
      "cell_type": "code",
      "source": [
        "len(df_casas_sul)"
      ],
      "metadata": {
        "id": "wgAubA9Pdk4k",
        "colab": {
          "base_uri": "https://localhost:8080/"
        },
        "outputId": "b5d4fd68-6399-4521-b581-514b03aa9a95"
      },
      "execution_count": 553,
      "outputs": [
        {
          "output_type": "execute_result",
          "data": {
            "text/plain": [
              "10"
            ]
          },
          "metadata": {},
          "execution_count": 553
        }
      ]
    },
    {
      "cell_type": "code",
      "source": [
        "media_casas_sul = df_casas_sul[\"valor\"].mean()\n",
        "moda_casas_sul = df_casas_sul[\"valor\"].mode()\n",
        "mediana_casas_sul = df_casas_sul[\"valor\"].median()\n",
        "desvio_padrao_casas_sul = df_casas_sul[\"valor\"].std()\n",
        "coeficiente_de_variacao_casas_sul = desvio_padrao_casas_sul/media_casas_sul"
      ],
      "metadata": {
        "id": "yCU9DVuydk4k"
      },
      "execution_count": 554,
      "outputs": []
    },
    {
      "cell_type": "code",
      "source": [
        "print(\"MEDIDAS DA VARIAVEL DO 'VALOR' DAS CASAS DA REGIÃO SUL\")\n",
        "print(f\"Média: {media_casas_sul:.2f}\")\n",
        "printModa(moda_casas_sul)\n",
        "print(f\"Mediana: {mediana_casas_sul:.0f}\")\n",
        "print(f\"Desvio Padrão:  {desvio_padrao_casas_sul:.2f}\")\n",
        "print(f\"Coeficiente de variação:  {coeficiente_de_variacao_casas_sul *100:.2f}%\")"
      ],
      "metadata": {
        "id": "ugktS_5idk4k",
        "colab": {
          "base_uri": "https://localhost:8080/"
        },
        "outputId": "dba0c80a-5810-408c-b034-90ca39ae2fec"
      },
      "execution_count": 555,
      "outputs": [
        {
          "output_type": "stream",
          "name": "stdout",
          "text": [
            "MEDIDAS DA VARIAVEL DO 'VALOR' DAS CASAS DA REGIÃO SUL\n",
            "Média: 402000.00\n",
            "Moda: \n",
            "65000\n",
            "265000\n",
            "300000\n",
            "350000\n",
            "400000\n",
            "410000\n",
            "450000\n",
            "500000\n",
            "550000\n",
            "730000\n",
            "Mediana: 405000\n",
            "Desvio Padrão:  178546.60\n",
            "Coeficiente de variação:  44.41%\n"
          ]
        }
      ]
    },
    {
      "cell_type": "markdown",
      "source": [
        "### *Apartamentos*"
      ],
      "metadata": {
        "id": "bZz4uLd7dk4l"
      }
    },
    {
      "cell_type": "code",
      "source": [
        "len(df_apartamentos_sul)"
      ],
      "metadata": {
        "id": "S5AR92axdk4l",
        "colab": {
          "base_uri": "https://localhost:8080/"
        },
        "outputId": "c4d86ab8-1e72-4839-e3a3-78145874d302"
      },
      "execution_count": 556,
      "outputs": [
        {
          "output_type": "execute_result",
          "data": {
            "text/plain": [
              "5"
            ]
          },
          "metadata": {},
          "execution_count": 556
        }
      ]
    },
    {
      "cell_type": "code",
      "source": [
        "media_apartamentos_sul = df_apartamentos_sul[\"valor\"].mean()\n",
        "moda_apartamentos_sul = df_apartamentos_sul[\"valor\"].mode()\n",
        "mediana_apartamentos_sul = df_apartamentos_sul[\"valor\"].median()\n",
        "desvio_padrao_apartamentos_sul = df_apartamentos_sul[\"valor\"].std()\n",
        "coeficiente_de_variacao_apartamentos_sul = desvio_padrao_apartamentos_sul/media_apartamentos_sul"
      ],
      "metadata": {
        "id": "jVvlx91Adk4l"
      },
      "execution_count": 557,
      "outputs": []
    },
    {
      "cell_type": "code",
      "source": [
        "print(\"MEDIDAS DA VARIAVEL 'VALOR' DE APARTAMENTOS DA REGIÃO SUL\")\n",
        "print(f\"Média: {media_apartamentos_sul:.2f}\")\n",
        "printModa(moda_apartamentos_sul)\n",
        "print(f\"Mediana: {mediana_apartamentos_sul:.0f}\")\n",
        "print(f\"Desvio Padrão:  {desvio_padrao_apartamentos_sul:.2f}\")\n",
        "print(f\"Coeficiente de variação:  {coeficiente_de_variacao_apartamentos_sul *100:.2f}%\")"
      ],
      "metadata": {
        "id": "Vr7jezLFdk4l",
        "colab": {
          "base_uri": "https://localhost:8080/"
        },
        "outputId": "45a56bd9-3a62-426d-cb4b-65b98782aace"
      },
      "execution_count": 558,
      "outputs": [
        {
          "output_type": "stream",
          "name": "stdout",
          "text": [
            "MEDIDAS DA VARIAVEL 'VALOR' DE APARTAMENTOS DA REGIÃO SUL\n",
            "Média: 344000.00\n",
            "Moda: \n",
            "150000\n",
            "190000\n",
            "230000\n",
            "260000\n",
            "890000\n",
            "Mediana: 230000\n",
            "Desvio Padrão:  308025.97\n",
            "Coeficiente de variação:  89.54%\n"
          ]
        }
      ]
    },
    {
      "cell_type": "markdown",
      "source": [
        "## Região Leste"
      ],
      "metadata": {
        "id": "uHg-Ym_ndmyZ"
      }
    },
    {
      "cell_type": "markdown",
      "source": [
        "### *Medidas Gerais*"
      ],
      "metadata": {
        "id": "c8Oz7KJ_dmyZ"
      }
    },
    {
      "cell_type": "code",
      "source": [
        "len(df_leste)"
      ],
      "metadata": {
        "id": "LMgb5eZHdmyZ",
        "colab": {
          "base_uri": "https://localhost:8080/"
        },
        "outputId": "a2fd2ce5-4f59-41ef-b830-7e8d395ab39d"
      },
      "execution_count": 559,
      "outputs": [
        {
          "output_type": "execute_result",
          "data": {
            "text/plain": [
              "10"
            ]
          },
          "metadata": {},
          "execution_count": 559
        }
      ]
    },
    {
      "cell_type": "code",
      "source": [
        "media_leste = df_leste[\"valor\"].mean()\n",
        "moda_leste = df_leste[\"valor\"].mode()\n",
        "mediana_leste = df_leste[\"valor\"].median()\n",
        "desvio_padrao_leste = df_leste[\"valor\"].std()\n",
        "coeficiente_de_variacao_leste = desvio_padrao_leste/media_leste"
      ],
      "metadata": {
        "id": "RWKeSCzHdmya"
      },
      "execution_count": 560,
      "outputs": []
    },
    {
      "cell_type": "code",
      "source": [
        "print(\"MEDIDAS DA VARIAVEL 'VALOR' DA REGIÃO LESTE\")\n",
        "print(f\"Média: {media_leste:.2f}\")\n",
        "printModa(moda_leste)\n",
        "print(f\"Mediana: {mediana_leste:.0f}\")\n",
        "print(f\"Desvio Padrão:  {desvio_padrao_leste :.2f}\")\n",
        "print(f\"Coeficiente de variação:  {coeficiente_de_variacao_leste *100:.2f}%\")"
      ],
      "metadata": {
        "id": "lebv9OA4dmya",
        "colab": {
          "base_uri": "https://localhost:8080/"
        },
        "outputId": "229ff7bf-9175-4f6d-9c48-480d2f02592f"
      },
      "execution_count": 561,
      "outputs": [
        {
          "output_type": "stream",
          "name": "stdout",
          "text": [
            "MEDIDAS DA VARIAVEL 'VALOR' DA REGIÃO LESTE\n",
            "Média: 284101.20\n",
            "Moda: \n",
            "120000\n",
            "150000\n",
            "162000\n",
            "180010\n",
            "190002\n",
            "200000\n",
            "269000\n",
            "300000\n",
            "320000\n",
            "950000\n",
            "Mediana: 195001\n",
            "Desvio Padrão:  243076.22\n",
            "Coeficiente de variação:  85.56%\n"
          ]
        }
      ]
    },
    {
      "cell_type": "markdown",
      "source": [
        "### *Casas*"
      ],
      "metadata": {
        "id": "dni8nZl9dmyb"
      }
    },
    {
      "cell_type": "code",
      "source": [
        "len(df_casas_leste)"
      ],
      "metadata": {
        "id": "elqONsl-dmyb",
        "colab": {
          "base_uri": "https://localhost:8080/"
        },
        "outputId": "7980dd44-9a23-4c3e-cd78-a6d12a8f330f"
      },
      "execution_count": 562,
      "outputs": [
        {
          "output_type": "execute_result",
          "data": {
            "text/plain": [
              "5"
            ]
          },
          "metadata": {},
          "execution_count": 562
        }
      ]
    },
    {
      "cell_type": "code",
      "source": [
        "media_casas_leste = df_casas_leste[\"valor\"].mean()\n",
        "moda_casas_leste = df_casas_leste[\"valor\"].mode()\n",
        "mediana_casas_leste = df_casas_leste[\"valor\"].median()\n",
        "desvio_padrao_casas_leste = df_casas_leste[\"valor\"].std()\n",
        "coeficiente_de_variacao_casas_leste = desvio_padrao_casas_leste/media_casas_leste"
      ],
      "metadata": {
        "id": "H1_KJkhZdmyb"
      },
      "execution_count": 563,
      "outputs": []
    },
    {
      "cell_type": "code",
      "source": [
        "print(\"MEDIDAS DA VARIAVEL 'VALOR' DAS CASAS DA REGIÃO SUL\")\n",
        "print(f\"Média: {media_casas_leste:.1f}\")\n",
        "printModa(moda_casas_leste)\n",
        "print(f\"Mediana: {mediana_casas_leste:.0f}\")\n",
        "print(f\"Desvio Padrão:  {desvio_padrao_casas_leste:.2f}\")\n",
        "print(f\"Coeficiente de variação:  {coeficiente_de_variacao_casas_leste *100:.2f}%\")"
      ],
      "metadata": {
        "id": "Egbvk4T7dmyb",
        "colab": {
          "base_uri": "https://localhost:8080/"
        },
        "outputId": "c8e0846a-63c3-4b63-e362-3a4296e21d7a"
      },
      "execution_count": 564,
      "outputs": [
        {
          "output_type": "stream",
          "name": "stdout",
          "text": [
            "MEDIDAS DA VARIAVEL 'VALOR' DAS CASAS DA REGIÃO SUL\n",
            "Média: 348000.0\n",
            "Moda: \n",
            "120000\n",
            "150000\n",
            "200000\n",
            "320000\n",
            "950000\n",
            "Mediana: 200000\n",
            "Desvio Padrão:  345065.21\n",
            "Coeficiente de variação:  99.16%\n"
          ]
        }
      ]
    },
    {
      "cell_type": "markdown",
      "source": [
        "### *Apartamentos*"
      ],
      "metadata": {
        "id": "-d0R9HxCdmyc"
      }
    },
    {
      "cell_type": "code",
      "source": [
        "len(df_apartamentos_leste)"
      ],
      "metadata": {
        "id": "uQomyWX8dmyc",
        "colab": {
          "base_uri": "https://localhost:8080/"
        },
        "outputId": "3b74211e-6d0e-4fd4-8b1f-3f372c59d172"
      },
      "execution_count": 565,
      "outputs": [
        {
          "output_type": "execute_result",
          "data": {
            "text/plain": [
              "5"
            ]
          },
          "metadata": {},
          "execution_count": 565
        }
      ]
    },
    {
      "cell_type": "code",
      "source": [
        "media_apartamentos_leste = df_apartamentos_leste[\"valor\"].mean()\n",
        "moda_apartamentos_leste = df_apartamentos_leste[\"valor\"].mode()\n",
        "mediana_apartamentos_leste = df_apartamentos_leste[\"valor\"].median()\n",
        "desvio_padrao_apartamentos_leste = df_apartamentos_leste[\"valor\"].std()\n",
        "coeficiente_de_variacao_apartamentos_leste = desvio_padrao_apartamentos_leste/media_apartamentos_leste"
      ],
      "metadata": {
        "id": "nKstciiEdmyc"
      },
      "execution_count": 566,
      "outputs": []
    },
    {
      "cell_type": "code",
      "source": [
        "print(\"MEDIDAS DA VARIAVEL 'QUANTIDADE DE QUARTOS' DOS APARTAMENTOS DA REGIÃO LESTE\")\n",
        "print(f\"Média: {media_apartamentos_leste:.1f}\")\n",
        "printModa(moda_apartamentos_leste)\n",
        "print(f\"Mediana: {mediana_apartamentos_leste:.0f}\")\n",
        "print(f\"Desvio Padrão:  {desvio_padrao_apartamentos_leste:.2f}\")\n",
        "print(f\"Coeficiente de variação:  {coeficiente_de_variacao_apartamentos_leste *100:.2f}%\")"
      ],
      "metadata": {
        "id": "ETnzEUt8dmyc",
        "colab": {
          "base_uri": "https://localhost:8080/"
        },
        "outputId": "391822c4-b317-4f1d-e874-480ebb355065"
      },
      "execution_count": 567,
      "outputs": [
        {
          "output_type": "stream",
          "name": "stdout",
          "text": [
            "MEDIDAS DA VARIAVEL 'QUANTIDADE DE QUARTOS' DOS APARTAMENTOS DA REGIÃO LESTE\n",
            "Média: 220202.4\n",
            "Moda: \n",
            "162000\n",
            "180010\n",
            "190002\n",
            "269000\n",
            "300000\n",
            "Mediana: 190002\n",
            "Desvio Padrão:  60547.24\n",
            "Coeficiente de variação:  27.50%\n"
          ]
        }
      ]
    },
    {
      "cell_type": "markdown",
      "source": [
        "## Região Oeste"
      ],
      "metadata": {
        "id": "R8SUuHJNduYP"
      }
    },
    {
      "cell_type": "markdown",
      "source": [
        "### *Medidas Gerais*"
      ],
      "metadata": {
        "id": "c4KjhKfRduYP"
      }
    },
    {
      "cell_type": "code",
      "source": [
        "len(df_oeste)"
      ],
      "metadata": {
        "id": "ITPaC3iVduYP",
        "colab": {
          "base_uri": "https://localhost:8080/"
        },
        "outputId": "e877749c-ac34-4959-8a9c-239d00200054"
      },
      "execution_count": 568,
      "outputs": [
        {
          "output_type": "execute_result",
          "data": {
            "text/plain": [
              "128"
            ]
          },
          "metadata": {},
          "execution_count": 568
        }
      ]
    },
    {
      "cell_type": "code",
      "source": [
        "media_oeste = df_oeste[\"valor\"].mean()\n",
        "moda_oeste = df_oeste[\"valor\"].mode()\n",
        "mediana_oeste = df_oeste[\"valor\"].median()\n",
        "desvio_padrao_oeste = df_oeste[\"valor\"].std()\n",
        "coeficiente_de_variacao_oeste = desvio_padrao_oeste/media_oeste"
      ],
      "metadata": {
        "id": "nj7OhjmgduYP"
      },
      "execution_count": 569,
      "outputs": []
    },
    {
      "cell_type": "code",
      "source": [
        "print(\"MEDIDAS DA VARIAVEL 'QUANTIDADE DE QUARTOS' DA REGIÃO OESTE\")\n",
        "print(f\"Média: {media_oeste:.1f}\")\n",
        "printModa(moda_oeste)\n",
        "print(f\"Mediana: {mediana_oeste:.0f}\")\n",
        "print(f\"Desvio Padrão:  {desvio_padrao_oeste :.2f}\")\n",
        "print(f\"Coeficiente de variação:  {coeficiente_de_variacao_oeste *100:.2f}%\")"
      ],
      "metadata": {
        "id": "eQo_vX4HduYP",
        "colab": {
          "base_uri": "https://localhost:8080/"
        },
        "outputId": "dbdb5aec-c79b-4053-871a-856dfa937c1d"
      },
      "execution_count": 570,
      "outputs": [
        {
          "output_type": "stream",
          "name": "stdout",
          "text": [
            "MEDIDAS DA VARIAVEL 'QUANTIDADE DE QUARTOS' DA REGIÃO OESTE\n",
            "Média: 1127844.1\n",
            "Moda: \n",
            "850000\n",
            "1500000\n",
            "1600000\n",
            "Mediana: 790000\n",
            "Desvio Padrão:  1189769.99\n",
            "Coeficiente de variação:  105.49%\n"
          ]
        }
      ]
    },
    {
      "cell_type": "markdown",
      "source": [
        "### *Casas*"
      ],
      "metadata": {
        "id": "iicsf9-yduYQ"
      }
    },
    {
      "cell_type": "code",
      "source": [
        "len(df_casas_oeste)"
      ],
      "metadata": {
        "id": "CFgDfmqyduYQ",
        "colab": {
          "base_uri": "https://localhost:8080/"
        },
        "outputId": "2b35731a-69fb-4804-a4c6-edd5dddf5cf3"
      },
      "execution_count": 571,
      "outputs": [
        {
          "output_type": "execute_result",
          "data": {
            "text/plain": [
              "78"
            ]
          },
          "metadata": {},
          "execution_count": 571
        }
      ]
    },
    {
      "cell_type": "code",
      "source": [
        "media_casas_oeste = df_casas_oeste[\"valor\"].mean()\n",
        "moda_casas_oeste = df_casas_oeste[\"valor\"].mode()\n",
        "mediana_casas_oeste = df_casas_oeste[\"valor\"].median()\n",
        "desvio_padrao_casas_oeste = df_casas_oeste[\"valor\"].std()\n",
        "coeficiente_de_variacao_casas_oeste = desvio_padrao_casas_oeste/media_casas_oeste"
      ],
      "metadata": {
        "id": "wnhX3p9jduYQ"
      },
      "execution_count": 572,
      "outputs": []
    },
    {
      "cell_type": "code",
      "source": [
        "print(\"MEDIDAS DA VARIAVEL 'VALOR' DAS CASAS DA REGIÃO OESTE\")\n",
        "print(f\"Média: {media_casas_oeste:.1f}\")\n",
        "printModa(moda_casas_oeste)\n",
        "print(f\"Mediana: {mediana_casas_oeste:.0f}\")\n",
        "print(f\"Desvio Padrão:  {desvio_padrao_casas_oeste:.2f}\")\n",
        "print(f\"Coeficiente de variação:  {coeficiente_de_variacao_casas_oeste *100:.2f}%\")"
      ],
      "metadata": {
        "id": "qwZ5znn5duYQ",
        "colab": {
          "base_uri": "https://localhost:8080/"
        },
        "outputId": "06df91e2-e307-41fb-b259-8a1769bf41dc"
      },
      "execution_count": 573,
      "outputs": [
        {
          "output_type": "stream",
          "name": "stdout",
          "text": [
            "MEDIDAS DA VARIAVEL 'VALOR' DAS CASAS DA REGIÃO OESTE\n",
            "Média: 1483461.9\n",
            "Moda: \n",
            "850000\n",
            "Mediana: 1050000\n",
            "Desvio Padrão:  1353400.57\n",
            "Coeficiente de variação:  91.23%\n"
          ]
        }
      ]
    },
    {
      "cell_type": "markdown",
      "source": [
        "### *Apartamentos*"
      ],
      "metadata": {
        "id": "dien4In9duYQ"
      }
    },
    {
      "cell_type": "code",
      "source": [
        "len(df_apartamentos_oeste)"
      ],
      "metadata": {
        "id": "JLh5Jsl-duYQ",
        "colab": {
          "base_uri": "https://localhost:8080/"
        },
        "outputId": "2a709a72-1eff-4904-b53c-b7e1cddc02ec"
      },
      "execution_count": 574,
      "outputs": [
        {
          "output_type": "execute_result",
          "data": {
            "text/plain": [
              "50"
            ]
          },
          "metadata": {},
          "execution_count": 574
        }
      ]
    },
    {
      "cell_type": "code",
      "source": [
        "media_apartamentos_oeste = df_apartamentos_oeste[\"valor\"].mean()\n",
        "moda_apartamentos_oeste = df_apartamentos_oeste[\"valor\"].mode()\n",
        "mediana_apartamentos_oeste = df_apartamentos_oeste[\"valor\"].median()\n",
        "desvio_padrao_apartamentos_oeste = df_apartamentos_oeste[\"valor\"].std()\n",
        "coeficiente_de_variacao_apartamentos_oeste = desvio_padrao_apartamentos_oeste/media_apartamentos_oeste"
      ],
      "metadata": {
        "id": "oRV0wHijduYQ"
      },
      "execution_count": 575,
      "outputs": []
    },
    {
      "cell_type": "code",
      "source": [
        "print(\"MEDIDAS DA VARIAVEL 'VALOR' DOS APARTAMENTOS DA REGIÃO OESTE\")\n",
        "print(f\"Média: {media_apartamentos_oeste:.2f}\")\n",
        "printModa(moda_apartamentos_oeste)\n",
        "print(f\"Mediana: {mediana_apartamentos_oeste:.0f}\")\n",
        "print(f\"Desvio Padrão:  {desvio_padrao_apartamentos_oeste:.2f}\")\n",
        "print(f\"Coeficiente de variação:  {coeficiente_de_variacao_apartamentos_oeste *100:.2f}%\")"
      ],
      "metadata": {
        "id": "YFYHD9mYduYQ",
        "colab": {
          "base_uri": "https://localhost:8080/"
        },
        "outputId": "7c0246bb-8ad2-4e7b-9b65-bbda17a417b9"
      },
      "execution_count": 576,
      "outputs": [
        {
          "output_type": "stream",
          "name": "stdout",
          "text": [
            "MEDIDAS DA VARIAVEL 'VALOR' DOS APARTAMENTOS DA REGIÃO OESTE\n",
            "Média: 573080.46\n",
            "Moda: \n",
            "320000\n",
            "Mediana: 330000\n",
            "Desvio Padrão:  524550.09\n",
            "Coeficiente de variação:  91.53%\n"
          ]
        }
      ]
    },
    {
      "cell_type": "markdown",
      "source": [
        "## Região Centro-Oeste"
      ],
      "metadata": {
        "id": "NW3YiMvPdwb9"
      }
    },
    {
      "cell_type": "markdown",
      "source": [
        "### *Medidas Gerais*"
      ],
      "metadata": {
        "id": "PZ4slLhFdwb9"
      }
    },
    {
      "cell_type": "code",
      "source": [
        "len(df_co)"
      ],
      "metadata": {
        "id": "MKfLk7B9dwb9",
        "colab": {
          "base_uri": "https://localhost:8080/"
        },
        "outputId": "d67f6757-94fb-48e6-e43a-12f7dc88938c"
      },
      "execution_count": 577,
      "outputs": [
        {
          "output_type": "execute_result",
          "data": {
            "text/plain": [
              "42"
            ]
          },
          "metadata": {},
          "execution_count": 577
        }
      ]
    },
    {
      "cell_type": "code",
      "source": [
        "media_co = df_co[\"valor\"].mean()\n",
        "moda_co = df_co[\"valor\"].mode()\n",
        "mediana_co = df_co[\"valor\"].median()\n",
        "desvio_padrao_co = df_co[\"valor\"].std()\n",
        "coeficiente_de_variacao_co = desvio_padrao_co/media_co"
      ],
      "metadata": {
        "id": "fsvRkMvUdwb9"
      },
      "execution_count": 578,
      "outputs": []
    },
    {
      "cell_type": "code",
      "source": [
        "print(\"MEDIDAS DA VARIAVEL 'VALOR' DA REGIÃO CENTRO-OESTE\")\n",
        "print(f\"Média: {media_co:.1f}\")\n",
        "printModa(moda_co)\n",
        "print(f\"Mediana: {mediana_co:.0f}\")\n",
        "print(f\"Desvio Padrão:  {desvio_padrao_co:.2f}%\")\n",
        "print(f\"Coeficiente de variação:  {coeficiente_de_variacao_co *100:.2f}%\")"
      ],
      "metadata": {
        "id": "GOjqOYqvdwb9",
        "colab": {
          "base_uri": "https://localhost:8080/"
        },
        "outputId": "effbc1c1-7f2b-4fe8-feab-3ceca99d5437"
      },
      "execution_count": 579,
      "outputs": [
        {
          "output_type": "stream",
          "name": "stdout",
          "text": [
            "MEDIDAS DA VARIAVEL 'VALOR' DA REGIÃO CENTRO-OESTE\n",
            "Média: 466321.6\n",
            "Moda: \n",
            "550000\n",
            "Mediana: 340000\n",
            "Desvio Padrão:  399056.16%\n",
            "Coeficiente de variação:  85.58%\n"
          ]
        }
      ]
    },
    {
      "cell_type": "markdown",
      "source": [
        "### *Casas*"
      ],
      "metadata": {
        "id": "BK4Ws0Kcdwb9"
      }
    },
    {
      "cell_type": "code",
      "source": [
        "len(df_casas_co)"
      ],
      "metadata": {
        "id": "g--3UGF3dwb-",
        "colab": {
          "base_uri": "https://localhost:8080/"
        },
        "outputId": "8f4886a0-6df0-43a9-e79e-84b3221a0971"
      },
      "execution_count": 580,
      "outputs": [
        {
          "output_type": "execute_result",
          "data": {
            "text/plain": [
              "24"
            ]
          },
          "metadata": {},
          "execution_count": 580
        }
      ]
    },
    {
      "cell_type": "code",
      "source": [
        "media_casas_co = df_casas_co[\"valor\"].mean()\n",
        "moda_casas_co = df_casas_co[\"valor\"].mode()\n",
        "mediana_casas_co = df_casas_co[\"valor\"].median()\n",
        "desvio_padrao_casas_co = df_casas_co[\"valor\"].std()\n",
        "coeficiente_de_variacao_casas_co = desvio_padrao_casas_co/media_casas_co"
      ],
      "metadata": {
        "id": "revEYTRndwb-"
      },
      "execution_count": 581,
      "outputs": []
    },
    {
      "cell_type": "code",
      "source": [
        "print(\"MEDIDAS DA VARIAVEL 'VALOR' DAS CASAS DA REGIÃO CENTRO-OESTE\")\n",
        "print(f\"Média: {media_casas_co:.1f}\")\n",
        "printModa(moda_casas_co)\n",
        "print(f\"Mediana: {mediana_casas_co:.0f}\")\n",
        "print(f\"Desvio Padrão:  {desvio_padrao_casas_co :.2f}\")\n",
        "print(f\"Coeficiente de variação:  {coeficiente_de_variacao_casas_co *100:.2f}%\")"
      ],
      "metadata": {
        "id": "0JZhyt_Qdwb-",
        "colab": {
          "base_uri": "https://localhost:8080/"
        },
        "outputId": "47854638-e254-4956-a7b4-c1a439d87e27"
      },
      "execution_count": 582,
      "outputs": [
        {
          "output_type": "stream",
          "name": "stdout",
          "text": [
            "MEDIDAS DA VARIAVEL 'VALOR' DAS CASAS DA REGIÃO CENTRO-OESTE\n",
            "Média: 483889.4\n",
            "Moda: \n",
            "550000\n",
            "Mediana: 340032\n",
            "Desvio Padrão:  479667.97\n",
            "Coeficiente de variação:  99.13%\n"
          ]
        }
      ]
    },
    {
      "cell_type": "markdown",
      "source": [
        "### *Apartamentos*"
      ],
      "metadata": {
        "id": "1PxKnvXodwb-"
      }
    },
    {
      "cell_type": "code",
      "source": [
        "len(df_apartamentos_co)"
      ],
      "metadata": {
        "id": "Z6_d9lkNdwb-",
        "colab": {
          "base_uri": "https://localhost:8080/"
        },
        "outputId": "706975cd-f8f1-4ed5-dff5-3f7817b0f81d"
      },
      "execution_count": 583,
      "outputs": [
        {
          "output_type": "execute_result",
          "data": {
            "text/plain": [
              "18"
            ]
          },
          "metadata": {},
          "execution_count": 583
        }
      ]
    },
    {
      "cell_type": "code",
      "source": [
        "media_apartamentos_co = df_apartamentos_co[\"valor\"].mean()\n",
        "moda_apartamentos_co = df_apartamentos_co[\"valor\"].mode()\n",
        "mediana_apartamentos_co = df_apartamentos_co[\"valor\"].median()\n",
        "desvio_padrao_apartamentos_co = df_apartamentos_co[\"valor\"].std()\n",
        "coeficiente_de_variacao_apartamentos_co = desvio_padrao_apartamentos_co/media_apartamentos_co\n",
        "\n",
        "df_apartamentos_co[\"valor\"].median()"
      ],
      "metadata": {
        "id": "9CMhzc7hdwb-",
        "colab": {
          "base_uri": "https://localhost:8080/"
        },
        "outputId": "3121a721-3baa-46b9-d996-4cb660ed0b01"
      },
      "execution_count": 584,
      "outputs": [
        {
          "output_type": "execute_result",
          "data": {
            "text/plain": [
              "336495.0"
            ]
          },
          "metadata": {},
          "execution_count": 584
        }
      ]
    },
    {
      "cell_type": "code",
      "source": [
        "print(\"MEDIDAS DA VARIAVEL 'VALOR' DOS APARTAMENTOS DA REGIÃO CENTRO-OESTE\")\n",
        "print(f\"Média: {media_apartamentos_co:.2f}\")\n",
        "printModa(moda_apartamentos_co)\n",
        "print(f\"Mediana: {mediana_apartamentos_co:.0f}\")\n",
        "print(f\"Desvio Padrão:  {desvio_padrao_apartamentos_co:.2f}\")\n",
        "print(f\"Coeficiente de variação:  {coeficiente_de_variacao_apartamentos_co *100:.2f}%\")"
      ],
      "metadata": {
        "id": "CI6i3Ro_dwb-",
        "colab": {
          "base_uri": "https://localhost:8080/"
        },
        "outputId": "c49d34ce-677f-4456-b970-57d7b3bcfb94"
      },
      "execution_count": 585,
      "outputs": [
        {
          "output_type": "stream",
          "name": "stdout",
          "text": [
            "MEDIDAS DA VARIAVEL 'VALOR' DOS APARTAMENTOS DA REGIÃO CENTRO-OESTE\n",
            "Média: 442897.83\n",
            "Moda: \n",
            "175000\n",
            "189990\n",
            "207490\n",
            "210390\n",
            "215000\n",
            "248300\n",
            "310000\n",
            "319000\n",
            "322990\n",
            "350000\n",
            "424000\n",
            "430000\n",
            "500000\n",
            "650000\n",
            "680000\n",
            "750000\n",
            "890000\n",
            "1100001\n",
            "Mediana: 336495\n",
            "Desvio Padrão:  267881.01\n",
            "Coeficiente de variação:  60.48%\n"
          ]
        }
      ]
    },
    {
      "cell_type": "markdown",
      "source": [
        "## Região Centro-Sul"
      ],
      "metadata": {
        "id": "LOkKCueJdyOs"
      }
    },
    {
      "cell_type": "markdown",
      "source": [
        "### *Medidas Gerais*"
      ],
      "metadata": {
        "id": "IISyurncdyOt"
      }
    },
    {
      "cell_type": "code",
      "source": [
        "len(df_cs)"
      ],
      "metadata": {
        "id": "jaKTgWbTdyOt",
        "colab": {
          "base_uri": "https://localhost:8080/"
        },
        "outputId": "00199fab-b382-49ae-f8cc-88fca5d6cf6e"
      },
      "execution_count": 586,
      "outputs": [
        {
          "output_type": "execute_result",
          "data": {
            "text/plain": [
              "122"
            ]
          },
          "metadata": {},
          "execution_count": 586
        }
      ]
    },
    {
      "cell_type": "code",
      "source": [
        "media_cs = df_cs[\"valor\"].mean()\n",
        "moda_cs = df_cs[\"valor\"].mode()\n",
        "mediana_cs = df_cs[\"valor\"].median()\n",
        "desvio_padrao_cs = df_cs[\"valor\"].std()\n",
        "coeficiente_de_variacao_cs = desvio_padrao_cs/media_cs"
      ],
      "metadata": {
        "id": "keOXRFmCdyOt"
      },
      "execution_count": 587,
      "outputs": []
    },
    {
      "cell_type": "code",
      "source": [
        "print(\"MEDIDAS DA VARIAVEL 'VALOR' DA REGIÃO CENTRO-SUL\")\n",
        "print(f\"Média: {media_cs:.2f}\")\n",
        "printModa(moda_cs)\n",
        "print(f\"Mediana: {mediana_cs:.0f}\")\n",
        "print(f\"Desvio Padrão:  {desvio_padrao_cs:.2f}\")\n",
        "print(f\"Coeficiente de variação:  {coeficiente_de_variacao_cs *100:.2f}%\")"
      ],
      "metadata": {
        "id": "A2m4m6RudyOt",
        "colab": {
          "base_uri": "https://localhost:8080/"
        },
        "outputId": "1b63dd20-f080-4387-f689-225a9031f8e5"
      },
      "execution_count": 588,
      "outputs": [
        {
          "output_type": "stream",
          "name": "stdout",
          "text": [
            "MEDIDAS DA VARIAVEL 'VALOR' DA REGIÃO CENTRO-SUL\n",
            "Média: 989944.35\n",
            "Moda: \n",
            "250000\n",
            "Mediana: 565000\n",
            "Desvio Padrão:  1084979.78\n",
            "Coeficiente de variação:  109.60%\n"
          ]
        }
      ]
    },
    {
      "cell_type": "markdown",
      "source": [
        "### *Casas*"
      ],
      "metadata": {
        "id": "KctEcdWsdyOt"
      }
    },
    {
      "cell_type": "code",
      "source": [
        "len(df_casas_cs)"
      ],
      "metadata": {
        "id": "NhemJ06IdyOt",
        "colab": {
          "base_uri": "https://localhost:8080/"
        },
        "outputId": "3f77de3a-11d6-4ae9-843b-2333090a9b8e"
      },
      "execution_count": 589,
      "outputs": [
        {
          "output_type": "execute_result",
          "data": {
            "text/plain": [
              "58"
            ]
          },
          "metadata": {},
          "execution_count": 589
        }
      ]
    },
    {
      "cell_type": "code",
      "source": [
        "media_casas_cs = df_casas_cs[\"valor\"].mean()\n",
        "moda_casas_cs = df_casas_cs[\"valor\"].mode()\n",
        "mediana_casas_cs = df_casas_cs[\"valor\"].median()\n",
        "desvio_padrao_casas_cs = df_casas_cs[\"valor\"].std()\n",
        "coeficiente_de_variacao_casas_cs = desvio_padrao_casas_cs/media_casas_cs\n",
        "variancia = df_casas_cs[\"valor\"].var()\n"
      ],
      "metadata": {
        "id": "wjfkqQA9dyOt"
      },
      "execution_count": 590,
      "outputs": []
    },
    {
      "cell_type": "code",
      "source": [
        "print(\"MEDIDAS DA VARIAVEL 'VALOR' DAS CASAS DA REGIÃO CENTRO-SUL\")\n",
        "print(f\"Média: {media_casas_cs:.2f}\")\n",
        "printModa(moda_casas_cs)\n",
        "print(f\"Mediana: {mediana_casas_cs:.0f}\")\n",
        "print(f\"Desvio Padrão:  {desvio_padrao_casas_cs:.2f}%\")\n",
        "print(f\"Coeficiente de variação:  {coeficiente_de_variacao_casas_cs *100:.2f}%\")"
      ],
      "metadata": {
        "id": "m1WL8ES9dyOt",
        "colab": {
          "base_uri": "https://localhost:8080/"
        },
        "outputId": "9ae20428-936c-4ab0-a675-badcd70c407e"
      },
      "execution_count": 591,
      "outputs": [
        {
          "output_type": "stream",
          "name": "stdout",
          "text": [
            "MEDIDAS DA VARIAVEL 'VALOR' DAS CASAS DA REGIÃO CENTRO-SUL\n",
            "Média: 1107811.10\n",
            "Moda: \n",
            "250000\n",
            "Mediana: 542500\n",
            "Desvio Padrão:  1254760.05%\n",
            "Coeficiente de variação:  113.26%\n"
          ]
        }
      ]
    },
    {
      "cell_type": "markdown",
      "source": [
        "### *Apartamentos*"
      ],
      "metadata": {
        "id": "q_GjgVDPdyOt"
      }
    },
    {
      "cell_type": "code",
      "source": [
        "len(df_apartamentos_cs)"
      ],
      "metadata": {
        "id": "WcPqxP7mdyOt",
        "colab": {
          "base_uri": "https://localhost:8080/"
        },
        "outputId": "00ea9e96-7d06-49c3-ac09-d87905d3d473"
      },
      "execution_count": 592,
      "outputs": [
        {
          "output_type": "execute_result",
          "data": {
            "text/plain": [
              "64"
            ]
          },
          "metadata": {},
          "execution_count": 592
        }
      ]
    },
    {
      "cell_type": "code",
      "source": [
        "media_apartamentos_cs = df_apartamentos_cs[\"valor\"].mean()\n",
        "moda_apartamentos_cs = df_apartamentos_cs[\"valor\"].mode()\n",
        "mediana_apartamentos_cs = df_apartamentos_cs[\"valor\"].median()\n",
        "desvio_padrao_apartamentos_cs = df_apartamentos_cs[\"valor\"].std()\n",
        "coeficiente_de_variacao_apartamentos_cs = desvio_padrao_apartamentos_cs/media_apartamentos_cs"
      ],
      "metadata": {
        "id": "SDr3s2NVdyOu"
      },
      "execution_count": 593,
      "outputs": []
    },
    {
      "cell_type": "code",
      "source": [
        "print(\"MEDIDAS DA VARIAVEL 'QUANTIDADE DE QUARTOS' DOS APARTAMENTOS DA REGIÃO CENTRO-OESTE\")\n",
        "print(f\"Média: {media_apartamentos_cs:.2f}\")\n",
        "printModa(moda_apartamentos_cs)\n",
        "print(f\"Mediana: {mediana_apartamentos_cs:.0f}\")\n",
        "print(f\"Desvio Padrão:  {desvio_padrao_apartamentos_cs:.2f}\")\n",
        "print(f\"Coeficiente de variação:  {coeficiente_de_variacao_apartamentos_cs *100:.2f}%\")"
      ],
      "metadata": {
        "id": "WYSGEdUydyOu",
        "colab": {
          "base_uri": "https://localhost:8080/"
        },
        "outputId": "a5b687ce-6e55-45f2-eb81-ac8c9ca19318"
      },
      "execution_count": 594,
      "outputs": [
        {
          "output_type": "stream",
          "name": "stdout",
          "text": [
            "MEDIDAS DA VARIAVEL 'QUANTIDADE DE QUARTOS' DOS APARTAMENTOS DA REGIÃO CENTRO-OESTE\n",
            "Média: 883127.61\n",
            "Moda: \n",
            "450000\n",
            "850000\n",
            "Mediana: 565000\n",
            "Desvio Padrão:  901152.87\n",
            "Coeficiente de variação:  102.04%\n"
          ]
        }
      ]
    },
    {
      "cell_type": "markdown",
      "source": [
        "# → ***Resultados: Valor do Imóvel (Quantitativa)***\n",
        "\n",
        "\n",
        "---\n",
        "\n"
      ],
      "metadata": {
        "id": "8vtHdsHjhJVW"
      }
    },
    {
      "cell_type": "markdown",
      "source": [
        "## Dados Gerais"
      ],
      "metadata": {
        "id": "jFZVSFPKhJVW"
      }
    },
    {
      "cell_type": "code",
      "source": [
        "df_resultados = pd.DataFrame([\n",
        "    (len(df_norte), f'{media_norte:.2f}', mediana_norte, list(moda_norte), f'{desvio_padrao_norte:.2f}', f'{coeficiente_de_variacao_norte * 100:.2f}%'),\n",
        "    (len(df_sul), f'{media_sul:.2f}', mediana_sul, list(moda_sul), f'{desvio_padrao_sul:.2f}', f'{coeficiente_de_variacao_sul * 100:.2f}%'),\n",
        "    (len(df_leste), f'{media_leste:.2f}', mediana_leste, list(moda_leste), f'{desvio_padrao_leste:.2f}', f'{coeficiente_de_variacao_leste * 100:.2f}%'),\n",
        "    (len(df_oeste), f'{media_oeste:.2f}', mediana_oeste, list(moda_oeste), f'{desvio_padrao_oeste:.2f}', f'{coeficiente_de_variacao_oeste * 100:.2f}%'),\n",
        "    (len(df_co), f'{media_co:.2f}', mediana_co, list(moda_co), f'{desvio_padrao_co:.2f}', f'{coeficiente_de_variacao_co:.2f}%'),\n",
        "    (len(df_cs), f'{media_cs:.2f}', mediana_cs, list(moda_cs), f'{desvio_padrao_cs:.2f}', f'{coeficiente_de_variacao_cs:.2f}%')],\n",
        "    index=('Zona Norte', 'Zona Sul', 'Zona Leste', 'Zona Oeste', 'Zona Centro Oeste', 'Zona Centro-Sul'),\n",
        "    columns=('Total Imóveis', 'Média', 'Mediana', 'Moda', 'Desvio Padrão', 'Coeficiente de Variação'))\n",
        "\n",
        "df_resultados"
      ],
      "metadata": {
        "id": "L7C43eGyhJVX",
        "colab": {
          "base_uri": "https://localhost:8080/",
          "height": 237
        },
        "outputId": "9d22d90e-62bb-425c-e43f-2f553244c2a4"
      },
      "execution_count": 595,
      "outputs": [
        {
          "output_type": "execute_result",
          "data": {
            "text/plain": [
              "                   Total Imóveis       Média   Mediana  \\\n",
              "Zona Norte                    73   327017.11  275000.0   \n",
              "Zona Sul                      15   382666.67  350000.0   \n",
              "Zona Leste                    10   284101.20  195001.0   \n",
              "Zona Oeste                   128  1127844.13  790000.5   \n",
              "Zona Centro Oeste             42   466321.57  340000.0   \n",
              "Zona Centro-Sul              122   989944.35  565000.0   \n",
              "\n",
              "                                                                Moda  \\\n",
              "Zona Norte                                                [280000.0]   \n",
              "Zona Sul           [65000.0, 150000.0, 190000.0, 230000.0, 260000...   \n",
              "Zona Leste         [120000.0, 150000.0, 162000.0, 180010.0, 19000...   \n",
              "Zona Oeste                          [850000.0, 1500000.0, 1600000.0]   \n",
              "Zona Centro Oeste                                         [550000.0]   \n",
              "Zona Centro-Sul                                           [250000.0]   \n",
              "\n",
              "                  Desvio Padrão Coeficiente de Variação  \n",
              "Zona Norte            259740.58                  79.43%  \n",
              "Zona Sul              220007.03                  57.49%  \n",
              "Zona Leste            243076.22                  85.56%  \n",
              "Zona Oeste           1189769.99                 105.49%  \n",
              "Zona Centro Oeste     399056.16                   0.86%  \n",
              "Zona Centro-Sul      1084979.78                   1.10%  "
            ],
            "text/html": [
              "\n",
              "  <div id=\"df-2ef23a30-0ebc-423e-8f59-ecd99c638ee8\">\n",
              "    <div class=\"colab-df-container\">\n",
              "      <div>\n",
              "<style scoped>\n",
              "    .dataframe tbody tr th:only-of-type {\n",
              "        vertical-align: middle;\n",
              "    }\n",
              "\n",
              "    .dataframe tbody tr th {\n",
              "        vertical-align: top;\n",
              "    }\n",
              "\n",
              "    .dataframe thead th {\n",
              "        text-align: right;\n",
              "    }\n",
              "</style>\n",
              "<table border=\"1\" class=\"dataframe\">\n",
              "  <thead>\n",
              "    <tr style=\"text-align: right;\">\n",
              "      <th></th>\n",
              "      <th>Total Imóveis</th>\n",
              "      <th>Média</th>\n",
              "      <th>Mediana</th>\n",
              "      <th>Moda</th>\n",
              "      <th>Desvio Padrão</th>\n",
              "      <th>Coeficiente de Variação</th>\n",
              "    </tr>\n",
              "  </thead>\n",
              "  <tbody>\n",
              "    <tr>\n",
              "      <th>Zona Norte</th>\n",
              "      <td>73</td>\n",
              "      <td>327017.11</td>\n",
              "      <td>275000.0</td>\n",
              "      <td>[280000.0]</td>\n",
              "      <td>259740.58</td>\n",
              "      <td>79.43%</td>\n",
              "    </tr>\n",
              "    <tr>\n",
              "      <th>Zona Sul</th>\n",
              "      <td>15</td>\n",
              "      <td>382666.67</td>\n",
              "      <td>350000.0</td>\n",
              "      <td>[65000.0, 150000.0, 190000.0, 230000.0, 260000...</td>\n",
              "      <td>220007.03</td>\n",
              "      <td>57.49%</td>\n",
              "    </tr>\n",
              "    <tr>\n",
              "      <th>Zona Leste</th>\n",
              "      <td>10</td>\n",
              "      <td>284101.20</td>\n",
              "      <td>195001.0</td>\n",
              "      <td>[120000.0, 150000.0, 162000.0, 180010.0, 19000...</td>\n",
              "      <td>243076.22</td>\n",
              "      <td>85.56%</td>\n",
              "    </tr>\n",
              "    <tr>\n",
              "      <th>Zona Oeste</th>\n",
              "      <td>128</td>\n",
              "      <td>1127844.13</td>\n",
              "      <td>790000.5</td>\n",
              "      <td>[850000.0, 1500000.0, 1600000.0]</td>\n",
              "      <td>1189769.99</td>\n",
              "      <td>105.49%</td>\n",
              "    </tr>\n",
              "    <tr>\n",
              "      <th>Zona Centro Oeste</th>\n",
              "      <td>42</td>\n",
              "      <td>466321.57</td>\n",
              "      <td>340000.0</td>\n",
              "      <td>[550000.0]</td>\n",
              "      <td>399056.16</td>\n",
              "      <td>0.86%</td>\n",
              "    </tr>\n",
              "    <tr>\n",
              "      <th>Zona Centro-Sul</th>\n",
              "      <td>122</td>\n",
              "      <td>989944.35</td>\n",
              "      <td>565000.0</td>\n",
              "      <td>[250000.0]</td>\n",
              "      <td>1084979.78</td>\n",
              "      <td>1.10%</td>\n",
              "    </tr>\n",
              "  </tbody>\n",
              "</table>\n",
              "</div>\n",
              "      <button class=\"colab-df-convert\" onclick=\"convertToInteractive('df-2ef23a30-0ebc-423e-8f59-ecd99c638ee8')\"\n",
              "              title=\"Convert this dataframe to an interactive table.\"\n",
              "              style=\"display:none;\">\n",
              "        \n",
              "  <svg xmlns=\"http://www.w3.org/2000/svg\" height=\"24px\"viewBox=\"0 0 24 24\"\n",
              "       width=\"24px\">\n",
              "    <path d=\"M0 0h24v24H0V0z\" fill=\"none\"/>\n",
              "    <path d=\"M18.56 5.44l.94 2.06.94-2.06 2.06-.94-2.06-.94-.94-2.06-.94 2.06-2.06.94zm-11 1L8.5 8.5l.94-2.06 2.06-.94-2.06-.94L8.5 2.5l-.94 2.06-2.06.94zm10 10l.94 2.06.94-2.06 2.06-.94-2.06-.94-.94-2.06-.94 2.06-2.06.94z\"/><path d=\"M17.41 7.96l-1.37-1.37c-.4-.4-.92-.59-1.43-.59-.52 0-1.04.2-1.43.59L10.3 9.45l-7.72 7.72c-.78.78-.78 2.05 0 2.83L4 21.41c.39.39.9.59 1.41.59.51 0 1.02-.2 1.41-.59l7.78-7.78 2.81-2.81c.8-.78.8-2.07 0-2.86zM5.41 20L4 18.59l7.72-7.72 1.47 1.35L5.41 20z\"/>\n",
              "  </svg>\n",
              "      </button>\n",
              "      \n",
              "  <style>\n",
              "    .colab-df-container {\n",
              "      display:flex;\n",
              "      flex-wrap:wrap;\n",
              "      gap: 12px;\n",
              "    }\n",
              "\n",
              "    .colab-df-convert {\n",
              "      background-color: #E8F0FE;\n",
              "      border: none;\n",
              "      border-radius: 50%;\n",
              "      cursor: pointer;\n",
              "      display: none;\n",
              "      fill: #1967D2;\n",
              "      height: 32px;\n",
              "      padding: 0 0 0 0;\n",
              "      width: 32px;\n",
              "    }\n",
              "\n",
              "    .colab-df-convert:hover {\n",
              "      background-color: #E2EBFA;\n",
              "      box-shadow: 0px 1px 2px rgba(60, 64, 67, 0.3), 0px 1px 3px 1px rgba(60, 64, 67, 0.15);\n",
              "      fill: #174EA6;\n",
              "    }\n",
              "\n",
              "    [theme=dark] .colab-df-convert {\n",
              "      background-color: #3B4455;\n",
              "      fill: #D2E3FC;\n",
              "    }\n",
              "\n",
              "    [theme=dark] .colab-df-convert:hover {\n",
              "      background-color: #434B5C;\n",
              "      box-shadow: 0px 1px 3px 1px rgba(0, 0, 0, 0.15);\n",
              "      filter: drop-shadow(0px 1px 2px rgba(0, 0, 0, 0.3));\n",
              "      fill: #FFFFFF;\n",
              "    }\n",
              "  </style>\n",
              "\n",
              "      <script>\n",
              "        const buttonEl =\n",
              "          document.querySelector('#df-2ef23a30-0ebc-423e-8f59-ecd99c638ee8 button.colab-df-convert');\n",
              "        buttonEl.style.display =\n",
              "          google.colab.kernel.accessAllowed ? 'block' : 'none';\n",
              "\n",
              "        async function convertToInteractive(key) {\n",
              "          const element = document.querySelector('#df-2ef23a30-0ebc-423e-8f59-ecd99c638ee8');\n",
              "          const dataTable =\n",
              "            await google.colab.kernel.invokeFunction('convertToInteractive',\n",
              "                                                     [key], {});\n",
              "          if (!dataTable) return;\n",
              "\n",
              "          const docLinkHtml = 'Like what you see? Visit the ' +\n",
              "            '<a target=\"_blank\" href=https://colab.research.google.com/notebooks/data_table.ipynb>data table notebook</a>'\n",
              "            + ' to learn more about interactive tables.';\n",
              "          element.innerHTML = '';\n",
              "          dataTable['output_type'] = 'display_data';\n",
              "          await google.colab.output.renderOutput(dataTable, element);\n",
              "          const docLink = document.createElement('div');\n",
              "          docLink.innerHTML = docLinkHtml;\n",
              "          element.appendChild(docLink);\n",
              "        }\n",
              "      </script>\n",
              "    </div>\n",
              "  </div>\n",
              "  "
            ]
          },
          "metadata": {},
          "execution_count": 595
        }
      ]
    },
    {
      "cell_type": "code",
      "source": [
        "checar_moda(moda_sul, len(df[df[\"zona\"]== \"Sul\"]))\n",
        "checar_moda(moda_leste, len(df[df[\"zona\"] == \"Leste\"]))"
      ],
      "metadata": {
        "colab": {
          "base_uri": "https://localhost:8080/"
        },
        "id": "vqhtnkxQOV-8",
        "outputId": "6b1edea1-3764-4005-f5bb-7a0cabbd5865"
      },
      "execution_count": 596,
      "outputs": [
        {
          "output_type": "stream",
          "name": "stdout",
          "text": [
            "Nenhum valor se repete\n",
            "Nenhum valor se repete\n"
          ]
        }
      ]
    },
    {
      "cell_type": "markdown",
      "source": [
        "## Casas"
      ],
      "metadata": {
        "id": "7zcJMJGNhJVY"
      }
    },
    {
      "cell_type": "code",
      "source": [
        "pct = 100\n",
        "df_resultados_casas = pd.DataFrame([\n",
        "    (len(df_casas_norte), f'{media_casas_norte:.2f}', mediana_casas_norte, list(moda_casas_norte), f'{desvio_padrao_casas_norte:.2f}', f'{coeficiente_de_variacao_casas_norte * pct:.2f}%'),\n",
        "    (len(df_casas_sul), f'{media_casas_sul:.2f}', mediana_casas_sul, list(moda_casas_sul), f'{desvio_padrao_casas_sul:.2f}', f'{coeficiente_de_variacao_casas_sul * pct:.2f}%'),\n",
        "    (len(df_casas_sul), f'{media_casas_leste:.2f}', mediana_casas_leste, list(moda_casas_leste), f'{desvio_padrao_casas_leste:.2f}', f'{coeficiente_de_variacao_casas_leste * pct:.2f}%'),\n",
        "    (len(df_casas_oeste), f'{media_casas_oeste:.2f}', mediana_casas_oeste, list(moda_casas_oeste), f'{desvio_padrao_casas_oeste:.2f}', f'{coeficiente_de_variacao_casas_oeste * pct:.2f}%'),\n",
        "    (len(df_casas_co), f'{media_casas_co:.2f}', mediana_casas_co, list(moda_casas_co), f'{desvio_padrao_casas_co:.2f}', f'{coeficiente_de_variacao_casas_co * pct:.2f}%'),\n",
        "    (len(df_casas_cs), f'{media_casas_cs:.2f}', mediana_casas_cs, list(moda_casas_cs), f'{desvio_padrao_casas_cs:.2f}', f'{coeficiente_de_variacao_casas_cs * pct:.2f}%')],\n",
        "    index=('Zona Norte', 'Zona Sul', 'Zona Leste', 'Zona Oeste', 'Zona Centro Oeste', 'Zona Centro-Sul'),\n",
        "    columns=('Total Imóveis', 'Média', 'Mediana', 'Moda', 'Desvio Padrão', 'Coeficiente de Variação'))\n",
        "\n",
        "df_resultados_casas"
      ],
      "metadata": {
        "id": "mBTDVmS1hJVY",
        "colab": {
          "base_uri": "https://localhost:8080/",
          "height": 237
        },
        "outputId": "2d2560ef-0320-4513-c4ad-4b745489a5cb"
      },
      "execution_count": 597,
      "outputs": [
        {
          "output_type": "execute_result",
          "data": {
            "text/plain": [
              "                   Total Imóveis       Média    Mediana  \\\n",
              "Zona Norte                    62   346165.31   280000.0   \n",
              "Zona Sul                      10   402000.00   405000.0   \n",
              "Zona Leste                    10   348000.00   200000.0   \n",
              "Zona Oeste                    78  1483461.87  1050000.0   \n",
              "Zona Centro Oeste             24   483889.38   340032.5   \n",
              "Zona Centro-Sul               58  1107811.10   542500.0   \n",
              "\n",
              "                                                                Moda  \\\n",
              "Zona Norte                            [180000.0, 250000.0, 280000.0]   \n",
              "Zona Sul           [65000.0, 265000.0, 300000.0, 350000.0, 400000...   \n",
              "Zona Leste         [120000.0, 150000.0, 200000.0, 320000.0, 95000...   \n",
              "Zona Oeste                                                [850000.0]   \n",
              "Zona Centro Oeste                                         [550000.0]   \n",
              "Zona Centro-Sul                                           [250000.0]   \n",
              "\n",
              "                  Desvio Padrão Coeficiente de Variação  \n",
              "Zona Norte            269673.15                  77.90%  \n",
              "Zona Sul              178546.60                  44.41%  \n",
              "Zona Leste            345065.21                  99.16%  \n",
              "Zona Oeste           1353400.57                  91.23%  \n",
              "Zona Centro Oeste     479667.97                  99.13%  \n",
              "Zona Centro-Sul      1254760.05                 113.26%  "
            ],
            "text/html": [
              "\n",
              "  <div id=\"df-b501dc90-9129-4981-98ed-d51af50190b7\">\n",
              "    <div class=\"colab-df-container\">\n",
              "      <div>\n",
              "<style scoped>\n",
              "    .dataframe tbody tr th:only-of-type {\n",
              "        vertical-align: middle;\n",
              "    }\n",
              "\n",
              "    .dataframe tbody tr th {\n",
              "        vertical-align: top;\n",
              "    }\n",
              "\n",
              "    .dataframe thead th {\n",
              "        text-align: right;\n",
              "    }\n",
              "</style>\n",
              "<table border=\"1\" class=\"dataframe\">\n",
              "  <thead>\n",
              "    <tr style=\"text-align: right;\">\n",
              "      <th></th>\n",
              "      <th>Total Imóveis</th>\n",
              "      <th>Média</th>\n",
              "      <th>Mediana</th>\n",
              "      <th>Moda</th>\n",
              "      <th>Desvio Padrão</th>\n",
              "      <th>Coeficiente de Variação</th>\n",
              "    </tr>\n",
              "  </thead>\n",
              "  <tbody>\n",
              "    <tr>\n",
              "      <th>Zona Norte</th>\n",
              "      <td>62</td>\n",
              "      <td>346165.31</td>\n",
              "      <td>280000.0</td>\n",
              "      <td>[180000.0, 250000.0, 280000.0]</td>\n",
              "      <td>269673.15</td>\n",
              "      <td>77.90%</td>\n",
              "    </tr>\n",
              "    <tr>\n",
              "      <th>Zona Sul</th>\n",
              "      <td>10</td>\n",
              "      <td>402000.00</td>\n",
              "      <td>405000.0</td>\n",
              "      <td>[65000.0, 265000.0, 300000.0, 350000.0, 400000...</td>\n",
              "      <td>178546.60</td>\n",
              "      <td>44.41%</td>\n",
              "    </tr>\n",
              "    <tr>\n",
              "      <th>Zona Leste</th>\n",
              "      <td>10</td>\n",
              "      <td>348000.00</td>\n",
              "      <td>200000.0</td>\n",
              "      <td>[120000.0, 150000.0, 200000.0, 320000.0, 95000...</td>\n",
              "      <td>345065.21</td>\n",
              "      <td>99.16%</td>\n",
              "    </tr>\n",
              "    <tr>\n",
              "      <th>Zona Oeste</th>\n",
              "      <td>78</td>\n",
              "      <td>1483461.87</td>\n",
              "      <td>1050000.0</td>\n",
              "      <td>[850000.0]</td>\n",
              "      <td>1353400.57</td>\n",
              "      <td>91.23%</td>\n",
              "    </tr>\n",
              "    <tr>\n",
              "      <th>Zona Centro Oeste</th>\n",
              "      <td>24</td>\n",
              "      <td>483889.38</td>\n",
              "      <td>340032.5</td>\n",
              "      <td>[550000.0]</td>\n",
              "      <td>479667.97</td>\n",
              "      <td>99.13%</td>\n",
              "    </tr>\n",
              "    <tr>\n",
              "      <th>Zona Centro-Sul</th>\n",
              "      <td>58</td>\n",
              "      <td>1107811.10</td>\n",
              "      <td>542500.0</td>\n",
              "      <td>[250000.0]</td>\n",
              "      <td>1254760.05</td>\n",
              "      <td>113.26%</td>\n",
              "    </tr>\n",
              "  </tbody>\n",
              "</table>\n",
              "</div>\n",
              "      <button class=\"colab-df-convert\" onclick=\"convertToInteractive('df-b501dc90-9129-4981-98ed-d51af50190b7')\"\n",
              "              title=\"Convert this dataframe to an interactive table.\"\n",
              "              style=\"display:none;\">\n",
              "        \n",
              "  <svg xmlns=\"http://www.w3.org/2000/svg\" height=\"24px\"viewBox=\"0 0 24 24\"\n",
              "       width=\"24px\">\n",
              "    <path d=\"M0 0h24v24H0V0z\" fill=\"none\"/>\n",
              "    <path d=\"M18.56 5.44l.94 2.06.94-2.06 2.06-.94-2.06-.94-.94-2.06-.94 2.06-2.06.94zm-11 1L8.5 8.5l.94-2.06 2.06-.94-2.06-.94L8.5 2.5l-.94 2.06-2.06.94zm10 10l.94 2.06.94-2.06 2.06-.94-2.06-.94-.94-2.06-.94 2.06-2.06.94z\"/><path d=\"M17.41 7.96l-1.37-1.37c-.4-.4-.92-.59-1.43-.59-.52 0-1.04.2-1.43.59L10.3 9.45l-7.72 7.72c-.78.78-.78 2.05 0 2.83L4 21.41c.39.39.9.59 1.41.59.51 0 1.02-.2 1.41-.59l7.78-7.78 2.81-2.81c.8-.78.8-2.07 0-2.86zM5.41 20L4 18.59l7.72-7.72 1.47 1.35L5.41 20z\"/>\n",
              "  </svg>\n",
              "      </button>\n",
              "      \n",
              "  <style>\n",
              "    .colab-df-container {\n",
              "      display:flex;\n",
              "      flex-wrap:wrap;\n",
              "      gap: 12px;\n",
              "    }\n",
              "\n",
              "    .colab-df-convert {\n",
              "      background-color: #E8F0FE;\n",
              "      border: none;\n",
              "      border-radius: 50%;\n",
              "      cursor: pointer;\n",
              "      display: none;\n",
              "      fill: #1967D2;\n",
              "      height: 32px;\n",
              "      padding: 0 0 0 0;\n",
              "      width: 32px;\n",
              "    }\n",
              "\n",
              "    .colab-df-convert:hover {\n",
              "      background-color: #E2EBFA;\n",
              "      box-shadow: 0px 1px 2px rgba(60, 64, 67, 0.3), 0px 1px 3px 1px rgba(60, 64, 67, 0.15);\n",
              "      fill: #174EA6;\n",
              "    }\n",
              "\n",
              "    [theme=dark] .colab-df-convert {\n",
              "      background-color: #3B4455;\n",
              "      fill: #D2E3FC;\n",
              "    }\n",
              "\n",
              "    [theme=dark] .colab-df-convert:hover {\n",
              "      background-color: #434B5C;\n",
              "      box-shadow: 0px 1px 3px 1px rgba(0, 0, 0, 0.15);\n",
              "      filter: drop-shadow(0px 1px 2px rgba(0, 0, 0, 0.3));\n",
              "      fill: #FFFFFF;\n",
              "    }\n",
              "  </style>\n",
              "\n",
              "      <script>\n",
              "        const buttonEl =\n",
              "          document.querySelector('#df-b501dc90-9129-4981-98ed-d51af50190b7 button.colab-df-convert');\n",
              "        buttonEl.style.display =\n",
              "          google.colab.kernel.accessAllowed ? 'block' : 'none';\n",
              "\n",
              "        async function convertToInteractive(key) {\n",
              "          const element = document.querySelector('#df-b501dc90-9129-4981-98ed-d51af50190b7');\n",
              "          const dataTable =\n",
              "            await google.colab.kernel.invokeFunction('convertToInteractive',\n",
              "                                                     [key], {});\n",
              "          if (!dataTable) return;\n",
              "\n",
              "          const docLinkHtml = 'Like what you see? Visit the ' +\n",
              "            '<a target=\"_blank\" href=https://colab.research.google.com/notebooks/data_table.ipynb>data table notebook</a>'\n",
              "            + ' to learn more about interactive tables.';\n",
              "          element.innerHTML = '';\n",
              "          dataTable['output_type'] = 'display_data';\n",
              "          await google.colab.output.renderOutput(dataTable, element);\n",
              "          const docLink = document.createElement('div');\n",
              "          docLink.innerHTML = docLinkHtml;\n",
              "          element.appendChild(docLink);\n",
              "        }\n",
              "      </script>\n",
              "    </div>\n",
              "  </div>\n",
              "  "
            ]
          },
          "metadata": {},
          "execution_count": 597
        }
      ]
    },
    {
      "cell_type": "code",
      "source": [
        "checar_moda(moda_sul, len(df[df[\"zona\"]== \"Sul\"]))\n",
        "checar_moda(moda_leste, len(df[df[\"zona\"]== \"Leste\"]))"
      ],
      "metadata": {
        "id": "keBqwTyG0LZX",
        "colab": {
          "base_uri": "https://localhost:8080/"
        },
        "outputId": "ecced6d0-65f9-4ef3-ed56-43c11ee01710"
      },
      "execution_count": 598,
      "outputs": [
        {
          "output_type": "stream",
          "name": "stdout",
          "text": [
            "Nenhum valor se repete\n",
            "Nenhum valor se repete\n"
          ]
        }
      ]
    },
    {
      "cell_type": "markdown",
      "source": [
        "## Apartamentos"
      ],
      "metadata": {
        "id": "qbQuof5NhJVZ"
      }
    },
    {
      "cell_type": "code",
      "source": [
        "pct = 100\n",
        "df_resultados_apartamentos = pd.DataFrame([\n",
        "    (len(df_apartamentos_norte), f'{media_apartamentos_norte:.2f}', mediana_apartamentos_norte, list(moda_apartamentos_norte), f'{desvio_padrao_apartamentos_norte:.2f}', f'{coeficiente_de_variacao_apartamentos_norte * pct:.2f}%'),\n",
        "    (len(df_apartamentos_sul), f'{media_apartamentos_sul:.2f}', mediana_apartamentos_sul, list(moda_apartamentos_sul), f'{desvio_padrao_apartamentos_sul:.2f}', f'{coeficiente_de_variacao_apartamentos_sul * pct:.2f}%'),\n",
        "    (len(df_apartamentos_leste), f'{media_apartamentos_leste:.2f}', mediana_apartamentos_leste, list(moda_apartamentos_leste), f'{desvio_padrao_apartamentos_leste:.2f}', f'{coeficiente_de_variacao_apartamentos_leste * pct:.2f}%'),\n",
        "    (len(df_apartamentos_oeste), f'{media_apartamentos_oeste:.2f}', mediana_apartamentos_oeste, list(moda_apartamentos_oeste), f'{desvio_padrao_apartamentos_oeste:.2f}', f'{coeficiente_de_variacao_apartamentos_oeste * pct:.2f}%'),\n",
        "    (len(df_apartamentos_co), f'{media_apartamentos_co:.2f}', mediana_apartamentos_co, list(moda_apartamentos_oeste), f'{desvio_padrao_apartamentos_co:.2f}', f'{coeficiente_de_variacao_apartamentos_co * pct:.2f}%'),\n",
        "    (len(df_apartamentos_cs), f'{media_apartamentos_cs:.2f}', mediana_apartamentos_cs, list(moda_apartamentos_cs), f'{desvio_padrao_apartamentos_cs:.2f}', f'{coeficiente_de_variacao_apartamentos_cs * pct:.2f}%')],\n",
        "    index=('Zona Norte', 'Zona Sul', 'Zona Leste', 'Zona Oeste', 'Zona Centro Oeste', 'Zona Centro-Sul'),\n",
        "    columns=('Total Imóveis', 'Média', 'Mediana', 'Moda', 'Desvio Padrão', 'Coeficiente de Variação'))\n",
        "\n",
        "df_resultados_apartamentos"
      ],
      "metadata": {
        "id": "Sx1nRzfPhJVZ",
        "colab": {
          "base_uri": "https://localhost:8080/",
          "height": 237
        },
        "outputId": "84d4780f-db4e-45c1-d0f7-71a3fbce66ca"
      },
      "execution_count": 599,
      "outputs": [
        {
          "output_type": "execute_result",
          "data": {
            "text/plain": [
              "                   Total Imóveis      Média   Mediana  \\\n",
              "Zona Norte                    11  219090.91  160000.0   \n",
              "Zona Sul                       5  344000.00  230000.0   \n",
              "Zona Leste                     5  220202.40  190002.0   \n",
              "Zona Oeste                    50  573080.46  330000.0   \n",
              "Zona Centro Oeste             18  442897.83  336495.0   \n",
              "Zona Centro-Sul               64  883127.61  565000.0   \n",
              "\n",
              "                                                                Moda  \\\n",
              "Zona Norte                             [55000.0, 160000.0, 450000.0]   \n",
              "Zona Sul           [150000.0, 190000.0, 230000.0, 260000.0, 89000...   \n",
              "Zona Leste         [162000.0, 180010.0, 190002.0, 269000.0, 30000...   \n",
              "Zona Oeste                                                [320000.0]   \n",
              "Zona Centro Oeste                                         [320000.0]   \n",
              "Zona Centro-Sul                                 [450000.0, 850000.0]   \n",
              "\n",
              "                  Desvio Padrão Coeficiente de Variação  \n",
              "Zona Norte            164466.08                  75.07%  \n",
              "Zona Sul              308025.97                  89.54%  \n",
              "Zona Leste             60547.24                  27.50%  \n",
              "Zona Oeste            524550.09                  91.53%  \n",
              "Zona Centro Oeste     267881.01                  60.48%  \n",
              "Zona Centro-Sul       901152.87                 102.04%  "
            ],
            "text/html": [
              "\n",
              "  <div id=\"df-226508a2-a420-4443-b469-6eba472bd60e\">\n",
              "    <div class=\"colab-df-container\">\n",
              "      <div>\n",
              "<style scoped>\n",
              "    .dataframe tbody tr th:only-of-type {\n",
              "        vertical-align: middle;\n",
              "    }\n",
              "\n",
              "    .dataframe tbody tr th {\n",
              "        vertical-align: top;\n",
              "    }\n",
              "\n",
              "    .dataframe thead th {\n",
              "        text-align: right;\n",
              "    }\n",
              "</style>\n",
              "<table border=\"1\" class=\"dataframe\">\n",
              "  <thead>\n",
              "    <tr style=\"text-align: right;\">\n",
              "      <th></th>\n",
              "      <th>Total Imóveis</th>\n",
              "      <th>Média</th>\n",
              "      <th>Mediana</th>\n",
              "      <th>Moda</th>\n",
              "      <th>Desvio Padrão</th>\n",
              "      <th>Coeficiente de Variação</th>\n",
              "    </tr>\n",
              "  </thead>\n",
              "  <tbody>\n",
              "    <tr>\n",
              "      <th>Zona Norte</th>\n",
              "      <td>11</td>\n",
              "      <td>219090.91</td>\n",
              "      <td>160000.0</td>\n",
              "      <td>[55000.0, 160000.0, 450000.0]</td>\n",
              "      <td>164466.08</td>\n",
              "      <td>75.07%</td>\n",
              "    </tr>\n",
              "    <tr>\n",
              "      <th>Zona Sul</th>\n",
              "      <td>5</td>\n",
              "      <td>344000.00</td>\n",
              "      <td>230000.0</td>\n",
              "      <td>[150000.0, 190000.0, 230000.0, 260000.0, 89000...</td>\n",
              "      <td>308025.97</td>\n",
              "      <td>89.54%</td>\n",
              "    </tr>\n",
              "    <tr>\n",
              "      <th>Zona Leste</th>\n",
              "      <td>5</td>\n",
              "      <td>220202.40</td>\n",
              "      <td>190002.0</td>\n",
              "      <td>[162000.0, 180010.0, 190002.0, 269000.0, 30000...</td>\n",
              "      <td>60547.24</td>\n",
              "      <td>27.50%</td>\n",
              "    </tr>\n",
              "    <tr>\n",
              "      <th>Zona Oeste</th>\n",
              "      <td>50</td>\n",
              "      <td>573080.46</td>\n",
              "      <td>330000.0</td>\n",
              "      <td>[320000.0]</td>\n",
              "      <td>524550.09</td>\n",
              "      <td>91.53%</td>\n",
              "    </tr>\n",
              "    <tr>\n",
              "      <th>Zona Centro Oeste</th>\n",
              "      <td>18</td>\n",
              "      <td>442897.83</td>\n",
              "      <td>336495.0</td>\n",
              "      <td>[320000.0]</td>\n",
              "      <td>267881.01</td>\n",
              "      <td>60.48%</td>\n",
              "    </tr>\n",
              "    <tr>\n",
              "      <th>Zona Centro-Sul</th>\n",
              "      <td>64</td>\n",
              "      <td>883127.61</td>\n",
              "      <td>565000.0</td>\n",
              "      <td>[450000.0, 850000.0]</td>\n",
              "      <td>901152.87</td>\n",
              "      <td>102.04%</td>\n",
              "    </tr>\n",
              "  </tbody>\n",
              "</table>\n",
              "</div>\n",
              "      <button class=\"colab-df-convert\" onclick=\"convertToInteractive('df-226508a2-a420-4443-b469-6eba472bd60e')\"\n",
              "              title=\"Convert this dataframe to an interactive table.\"\n",
              "              style=\"display:none;\">\n",
              "        \n",
              "  <svg xmlns=\"http://www.w3.org/2000/svg\" height=\"24px\"viewBox=\"0 0 24 24\"\n",
              "       width=\"24px\">\n",
              "    <path d=\"M0 0h24v24H0V0z\" fill=\"none\"/>\n",
              "    <path d=\"M18.56 5.44l.94 2.06.94-2.06 2.06-.94-2.06-.94-.94-2.06-.94 2.06-2.06.94zm-11 1L8.5 8.5l.94-2.06 2.06-.94-2.06-.94L8.5 2.5l-.94 2.06-2.06.94zm10 10l.94 2.06.94-2.06 2.06-.94-2.06-.94-.94-2.06-.94 2.06-2.06.94z\"/><path d=\"M17.41 7.96l-1.37-1.37c-.4-.4-.92-.59-1.43-.59-.52 0-1.04.2-1.43.59L10.3 9.45l-7.72 7.72c-.78.78-.78 2.05 0 2.83L4 21.41c.39.39.9.59 1.41.59.51 0 1.02-.2 1.41-.59l7.78-7.78 2.81-2.81c.8-.78.8-2.07 0-2.86zM5.41 20L4 18.59l7.72-7.72 1.47 1.35L5.41 20z\"/>\n",
              "  </svg>\n",
              "      </button>\n",
              "      \n",
              "  <style>\n",
              "    .colab-df-container {\n",
              "      display:flex;\n",
              "      flex-wrap:wrap;\n",
              "      gap: 12px;\n",
              "    }\n",
              "\n",
              "    .colab-df-convert {\n",
              "      background-color: #E8F0FE;\n",
              "      border: none;\n",
              "      border-radius: 50%;\n",
              "      cursor: pointer;\n",
              "      display: none;\n",
              "      fill: #1967D2;\n",
              "      height: 32px;\n",
              "      padding: 0 0 0 0;\n",
              "      width: 32px;\n",
              "    }\n",
              "\n",
              "    .colab-df-convert:hover {\n",
              "      background-color: #E2EBFA;\n",
              "      box-shadow: 0px 1px 2px rgba(60, 64, 67, 0.3), 0px 1px 3px 1px rgba(60, 64, 67, 0.15);\n",
              "      fill: #174EA6;\n",
              "    }\n",
              "\n",
              "    [theme=dark] .colab-df-convert {\n",
              "      background-color: #3B4455;\n",
              "      fill: #D2E3FC;\n",
              "    }\n",
              "\n",
              "    [theme=dark] .colab-df-convert:hover {\n",
              "      background-color: #434B5C;\n",
              "      box-shadow: 0px 1px 3px 1px rgba(0, 0, 0, 0.15);\n",
              "      filter: drop-shadow(0px 1px 2px rgba(0, 0, 0, 0.3));\n",
              "      fill: #FFFFFF;\n",
              "    }\n",
              "  </style>\n",
              "\n",
              "      <script>\n",
              "        const buttonEl =\n",
              "          document.querySelector('#df-226508a2-a420-4443-b469-6eba472bd60e button.colab-df-convert');\n",
              "        buttonEl.style.display =\n",
              "          google.colab.kernel.accessAllowed ? 'block' : 'none';\n",
              "\n",
              "        async function convertToInteractive(key) {\n",
              "          const element = document.querySelector('#df-226508a2-a420-4443-b469-6eba472bd60e');\n",
              "          const dataTable =\n",
              "            await google.colab.kernel.invokeFunction('convertToInteractive',\n",
              "                                                     [key], {});\n",
              "          if (!dataTable) return;\n",
              "\n",
              "          const docLinkHtml = 'Like what you see? Visit the ' +\n",
              "            '<a target=\"_blank\" href=https://colab.research.google.com/notebooks/data_table.ipynb>data table notebook</a>'\n",
              "            + ' to learn more about interactive tables.';\n",
              "          element.innerHTML = '';\n",
              "          dataTable['output_type'] = 'display_data';\n",
              "          await google.colab.output.renderOutput(dataTable, element);\n",
              "          const docLink = document.createElement('div');\n",
              "          docLink.innerHTML = docLinkHtml;\n",
              "          element.appendChild(docLink);\n",
              "        }\n",
              "      </script>\n",
              "    </div>\n",
              "  </div>\n",
              "  "
            ]
          },
          "metadata": {},
          "execution_count": 599
        }
      ]
    },
    {
      "cell_type": "code",
      "source": [
        "checar_moda(moda_sul, len(df[df[\"zona\"]== \"Sul\"]))\n",
        "checar_moda(moda_leste, len(df[df[\"zona\"]== \"Leste\"]))"
      ],
      "metadata": {
        "id": "13o7Npks1sln",
        "colab": {
          "base_uri": "https://localhost:8080/"
        },
        "outputId": "f89f3178-9cc9-4424-ab3a-c0cd078c820c"
      },
      "execution_count": 600,
      "outputs": [
        {
          "output_type": "stream",
          "name": "stdout",
          "text": [
            "Nenhum valor se repete\n",
            "Nenhum valor se repete\n"
          ]
        }
      ]
    },
    {
      "cell_type": "markdown",
      "source": [
        "# 🟆 Variável: Área (Quantitativa)\n",
        "\n",
        "\n",
        "---\n",
        "\n",
        "\n",
        "\n"
      ],
      "metadata": {
        "id": "jwy6-M0lCqgT"
      }
    },
    {
      "cell_type": "markdown",
      "source": [
        "## Medidas Gerais"
      ],
      "metadata": {
        "id": "hWvKjQeXCqgU"
      }
    },
    {
      "cell_type": "markdown",
      "source": [
        "### *Geral*"
      ],
      "metadata": {
        "id": "U8RiITDnCqgU"
      }
    },
    {
      "cell_type": "code",
      "source": [
        "mediana = df[\"area\"].median()"
      ],
      "metadata": {
        "id": "yiBcYcKKCqgU"
      },
      "execution_count": 262,
      "outputs": []
    },
    {
      "cell_type": "code",
      "source": [
        "media = df[\"area\"].mean()"
      ],
      "metadata": {
        "id": "H0u2gJhxCqgU"
      },
      "execution_count": 263,
      "outputs": []
    },
    {
      "cell_type": "code",
      "source": [
        "moda = df[\"area\"].mode()"
      ],
      "metadata": {
        "id": "glWUQ7WkCqgU"
      },
      "execution_count": 264,
      "outputs": []
    },
    {
      "cell_type": "code",
      "source": [
        "desvio_padrao = df[\"area\"].std()"
      ],
      "metadata": {
        "id": "yw3G9lPMCqgU"
      },
      "execution_count": 265,
      "outputs": []
    },
    {
      "cell_type": "code",
      "source": [
        "coeficiente_de_variacao = desvio_padrao/media\n",
        "coeficiente_porcentagem = coeficiente_de_variacao * 100"
      ],
      "metadata": {
        "id": "VRamOBHaCqgU"
      },
      "execution_count": 266,
      "outputs": []
    },
    {
      "cell_type": "code",
      "source": [
        "print(f'Média: {media:.2f}')\n",
        "print(f'Mediana: {mediana:.0f}')\n",
        "print(f'Moda: {moda}')\n",
        "print(f'Desvio Padrão: {desvio_padrao:.2f}')\n",
        "print(f'Coeficiente de Variação: {coeficiente_porcentagem:.2f}%')"
      ],
      "metadata": {
        "id": "VmTeuT4FCqgU",
        "colab": {
          "base_uri": "https://localhost:8080/"
        },
        "outputId": "32129a64-1ed7-4701-8ddb-9218128fd1be"
      },
      "execution_count": 267,
      "outputs": [
        {
          "output_type": "stream",
          "name": "stdout",
          "text": [
            "Média: 198.92\n",
            "Mediana: 131\n",
            "Moda: 0    60.0\n",
            "dtype: float64\n",
            "Desvio Padrão: 233.78\n",
            "Coeficiente de Variação: 117.52%\n"
          ]
        }
      ]
    },
    {
      "cell_type": "markdown",
      "source": [
        "### *Casas*\n"
      ],
      "metadata": {
        "id": "R7lwyOIaCqgU"
      }
    },
    {
      "cell_type": "code",
      "source": [
        "media_casas = df[\"area\"].mean()\n",
        "moda_casas = df[\"area\"].mode()\n",
        "mediana_casas = df[\"area\"].median()\n",
        "desvio_padrao_casas = df[\"area\"].std()\n",
        "coeficiente_de_variacao_casas = desvio_padrao/media"
      ],
      "metadata": {
        "id": "YBChF_EdCqgV"
      },
      "execution_count": 268,
      "outputs": []
    },
    {
      "cell_type": "code",
      "source": [
        "print(f'Média: {media_casas:.2f}')\n",
        "print(f'Mediana: {mediana_casas:.0f}')\n",
        "print(f'Moda: {moda_casas}')\n",
        "print(f'Desvio Padrão: {desvio_padrao_casas:.2f}')\n",
        "print(f'Coeficiente de Variação: {coeficiente_de_variacao_casas:.2f}%')"
      ],
      "metadata": {
        "id": "EQgm36kNCqgV",
        "colab": {
          "base_uri": "https://localhost:8080/"
        },
        "outputId": "88e600c3-4bf6-4194-c44a-a7c05a98bae1"
      },
      "execution_count": 269,
      "outputs": [
        {
          "output_type": "stream",
          "name": "stdout",
          "text": [
            "Média: 198.92\n",
            "Mediana: 131\n",
            "Moda: 0    60.0\n",
            "dtype: float64\n",
            "Desvio Padrão: 233.78\n",
            "Coeficiente de Variação: 1.18%\n"
          ]
        }
      ]
    },
    {
      "cell_type": "markdown",
      "source": [
        "###*Apartamentos*"
      ],
      "metadata": {
        "id": "ITL9sxs1CqgV"
      }
    },
    {
      "cell_type": "code",
      "source": [
        "media_area = df_apartamentos[\"area\"].mean()\n",
        "moda_area = df_apartamentos[\"area\"].mode()\n",
        "mediana_area = df_apartamentos[\"area\"].median()\n",
        "desvio_padrao_area = df_apartamentos[\"area\"].std()\n",
        "coeficiente_de_variacao_casas = desvio_padrao_area/media_area"
      ],
      "metadata": {
        "id": "Ekg1u2r9CqgV"
      },
      "execution_count": 270,
      "outputs": []
    },
    {
      "cell_type": "code",
      "source": [
        "print(f'Média: {media_casas:.2f}')\n",
        "print(f'Mediana: {mediana_casas:.0f}')\n",
        "print(f'Moda: {moda_casas}')\n",
        "print(f'Desvio Padrão: {desvio_padrao_casas:.2f}')\n",
        "print(f'Coeficiente de Variação: {coeficiente_de_variacao_casas * 100:.2f}%')"
      ],
      "metadata": {
        "id": "jh02vjlxCqgV",
        "colab": {
          "base_uri": "https://localhost:8080/"
        },
        "outputId": "1a80e91e-9af8-489d-8528-fe7997df82ca"
      },
      "execution_count": 271,
      "outputs": [
        {
          "output_type": "stream",
          "name": "stdout",
          "text": [
            "Média: 198.92\n",
            "Mediana: 131\n",
            "Moda: 0    60.0\n",
            "dtype: float64\n",
            "Desvio Padrão: 233.78\n",
            "Coeficiente de Variação: 68.32%\n"
          ]
        }
      ]
    },
    {
      "cell_type": "markdown",
      "source": [
        "## Região Norte"
      ],
      "metadata": {
        "id": "XnBeVNWLCqgW"
      }
    },
    {
      "cell_type": "markdown",
      "source": [
        "### *Medidas Gerais*"
      ],
      "metadata": {
        "id": "fa96yIgyCqgW"
      }
    },
    {
      "cell_type": "code",
      "source": [
        "len(df_norte)"
      ],
      "metadata": {
        "id": "kQwW4fq4CqgW",
        "colab": {
          "base_uri": "https://localhost:8080/"
        },
        "outputId": "73da42e1-9c17-44b9-a8cd-90200aeda5e4"
      },
      "execution_count": 272,
      "outputs": [
        {
          "output_type": "execute_result",
          "data": {
            "text/plain": [
              "73"
            ]
          },
          "metadata": {},
          "execution_count": 272
        }
      ]
    },
    {
      "cell_type": "code",
      "source": [
        "media_norte = df_norte[\"area\"].mean()"
      ],
      "metadata": {
        "id": "IWFzRUKiCqgW"
      },
      "execution_count": 273,
      "outputs": []
    },
    {
      "cell_type": "code",
      "source": [
        "mediana_norte = df_norte[\"area\"].median()"
      ],
      "metadata": {
        "id": "51sIJ8ufCqgW"
      },
      "execution_count": 274,
      "outputs": []
    },
    {
      "cell_type": "code",
      "source": [
        "moda_norte = df_norte[\"area\"].mode()"
      ],
      "metadata": {
        "id": "z_i52WrzCqgW"
      },
      "execution_count": 275,
      "outputs": []
    },
    {
      "cell_type": "code",
      "source": [
        "desvio_padrao_norte = df_norte[\"area\"].std()"
      ],
      "metadata": {
        "id": "TtHO0-tQCqgW"
      },
      "execution_count": 276,
      "outputs": []
    },
    {
      "cell_type": "code",
      "source": [
        "coeficiente_de_variacao_norte = desvio_padrao_norte/media_norte"
      ],
      "metadata": {
        "id": "FmWElF_fCqgW"
      },
      "execution_count": 277,
      "outputs": []
    },
    {
      "cell_type": "code",
      "source": [
        "print(\"MEDIDAS GERAIS DA VARIÁVEL 'ÁREA' DA REGIÃO NORTE\")\n",
        "print(f\"Média: {media_norte:.2f}\")\n",
        "print(f\"Mediana: {mediana_norte:.0f}\")\n",
        "print(f\"Moda: {moda_norte}\")\n",
        "print(f\"Desvio Padrão: {desvio_padrao_norte:.2f}\")\n",
        "print(f\"Coeficiente de Variação: {coeficiente_de_variacao_norte * 100:.2f}%\")"
      ],
      "metadata": {
        "id": "XutYkI0LCqgX",
        "colab": {
          "base_uri": "https://localhost:8080/"
        },
        "outputId": "b8f4d538-5bc4-46b7-f043-939bc7c98bcc"
      },
      "execution_count": 278,
      "outputs": [
        {
          "output_type": "stream",
          "name": "stdout",
          "text": [
            "MEDIDAS GERAIS DA VARIÁVEL 'ÁREA' DA REGIÃO NORTE\n",
            "Média: 188.96\n",
            "Mediana: 104\n",
            "Moda: 0     80.0\n",
            "1    170.0\n",
            "dtype: float64\n",
            "Desvio Padrão: 306.04\n",
            "Coeficiente de Variação: 161.96%\n"
          ]
        }
      ]
    },
    {
      "cell_type": "markdown",
      "source": [
        "###*Casas*"
      ],
      "metadata": {
        "id": "mkf5qOsPCqgX"
      }
    },
    {
      "cell_type": "code",
      "source": [
        "len(df_casas_norte)"
      ],
      "metadata": {
        "id": "T3xdujAyCqgX",
        "colab": {
          "base_uri": "https://localhost:8080/"
        },
        "outputId": "cd48f82c-86b8-40e6-98f9-83c7da31bcf8"
      },
      "execution_count": 279,
      "outputs": [
        {
          "output_type": "execute_result",
          "data": {
            "text/plain": [
              "62"
            ]
          },
          "metadata": {},
          "execution_count": 279
        }
      ]
    },
    {
      "cell_type": "code",
      "source": [
        "media_casas_norte = df_casas_norte[\"area\"].mean()"
      ],
      "metadata": {
        "id": "4aTTx0TpCqgX"
      },
      "execution_count": 280,
      "outputs": []
    },
    {
      "cell_type": "code",
      "source": [
        "mediana_casas_norte = df_casas_norte[\"area\"].median()"
      ],
      "metadata": {
        "id": "1_Neyok_CqgX"
      },
      "execution_count": 281,
      "outputs": []
    },
    {
      "cell_type": "code",
      "source": [
        "moda_casas_norte = df_casas_norte[\"area\"].mode()"
      ],
      "metadata": {
        "id": "aY3AFAPtCqgY"
      },
      "execution_count": 282,
      "outputs": []
    },
    {
      "cell_type": "code",
      "source": [
        "desvio_padrao_casas_norte = df_casas_norte[\"area\"].std()"
      ],
      "metadata": {
        "id": "4YpBK3DZCqgY"
      },
      "execution_count": 283,
      "outputs": []
    },
    {
      "cell_type": "code",
      "source": [
        "coeficiente_de_variacao_casas_norte = desvio_padrao_casas_norte/media_casas_norte"
      ],
      "metadata": {
        "id": "wuWy7X45CqgZ"
      },
      "execution_count": 284,
      "outputs": []
    },
    {
      "cell_type": "code",
      "source": [
        "print(\"MEDIDAS DA 'ÁREA' DAS CASAS DA REGIÃO NORTE\")\n",
        "print(f\"Média: {media_casas_norte:.2f}\")\n",
        "printModa(moda_casas_norte)\n",
        "print(f\"Mediana: {mediana_casas_norte:.0f}\")\n",
        "print(f\"Desvio Padrão: {desvio_padrao_casas_norte:.2f}\")\n",
        "print(f\"Coeficiente de Variação: {coeficiente_de_variacao_casas_norte * 100:.2f}%\")"
      ],
      "metadata": {
        "id": "rjBtASueCqgZ",
        "colab": {
          "base_uri": "https://localhost:8080/"
        },
        "outputId": "f86309a2-afec-4cf4-b7af-ac8aab8f647d"
      },
      "execution_count": 285,
      "outputs": [
        {
          "output_type": "stream",
          "name": "stdout",
          "text": [
            "MEDIDAS DA 'ÁREA' DAS CASAS DA REGIÃO NORTE\n",
            "Média: 211.45\n",
            "Moda: \n",
            "80\n",
            "170\n",
            "Mediana: 135\n",
            "Desvio Padrão: 327.23\n",
            "Coeficiente de Variação: 154.75%\n"
          ]
        }
      ]
    },
    {
      "cell_type": "markdown",
      "source": [
        "### *Apartamentos*"
      ],
      "metadata": {
        "id": "Sr6ev-g6CqgZ"
      }
    },
    {
      "cell_type": "code",
      "source": [
        "len(df_apartamentos_norte)"
      ],
      "metadata": {
        "id": "Rz3nZM7gCqga",
        "colab": {
          "base_uri": "https://localhost:8080/"
        },
        "outputId": "ce34d8ca-a032-4f99-bbff-46deab3ac66f"
      },
      "execution_count": 286,
      "outputs": [
        {
          "output_type": "execute_result",
          "data": {
            "text/plain": [
              "11"
            ]
          },
          "metadata": {},
          "execution_count": 286
        }
      ]
    },
    {
      "cell_type": "code",
      "source": [
        "media_apartamentos_norte= df_apartamentos_norte[\"area\"].mean()\n",
        "mediana_apartamentos_norte= df_apartamentos_norte[\"area\"].median()\n",
        "moda_apartamentos_norte= df_apartamentos_norte[\"area\"].mode()\n",
        "desvio_padrao_apartamentos_norte= df_apartamentos_norte[\"area\"].std()\n",
        "coeficiente_de_variacao_apartamentos_norte= desvio_padrao_apartamentos_norte/media_apartamentos_norte"
      ],
      "metadata": {
        "id": "m0Yvu6DyCqga"
      },
      "execution_count": 287,
      "outputs": []
    },
    {
      "cell_type": "code",
      "source": [
        "print(\"MEDIDAS DA 'ÁREA' DOS APARTAMENTOS DA REGIÃO NORTE\")\n",
        "print(f\"Média: {media_apartamentos_norte:.2f}\")\n",
        "print(f\"Moda: {moda_apartamentos_norte}\")\n",
        "print(f\"Mediana: {mediana_apartamentos_norte:.0f}\")\n",
        "print(f\"Desvio Padrão: {desvio_padrao_casas_norte:.2f}%\")\n",
        "print(f\"Coeficiente de Variação: {coeficiente_de_variacao_casas_norte * 100:.2f}%\")"
      ],
      "metadata": {
        "id": "Dgo5x0uTCqgb",
        "colab": {
          "base_uri": "https://localhost:8080/"
        },
        "outputId": "cab9d80d-6c49-4e88-ee83-29e46d4afc36"
      },
      "execution_count": 288,
      "outputs": [
        {
          "output_type": "stream",
          "name": "stdout",
          "text": [
            "MEDIDAS DA 'ÁREA' DOS APARTAMENTOS DA REGIÃO NORTE\n",
            "Média: 62.18\n",
            "Moda: 0    42.0\n",
            "1    60.0\n",
            "2    85.0\n",
            "dtype: float64\n",
            "Mediana: 60\n",
            "Desvio Padrão: 327.23%\n",
            "Coeficiente de Variação: 154.75%\n"
          ]
        }
      ]
    },
    {
      "cell_type": "markdown",
      "source": [
        "## Região Sul"
      ],
      "metadata": {
        "id": "Y2eHFhNfCqgb"
      }
    },
    {
      "cell_type": "markdown",
      "source": [
        "### *Medidas Gerais*"
      ],
      "metadata": {
        "id": "NaC4dm-YCqgb"
      }
    },
    {
      "cell_type": "code",
      "source": [
        "len(df_sul)"
      ],
      "metadata": {
        "id": "af7SoxMyCqgb",
        "colab": {
          "base_uri": "https://localhost:8080/"
        },
        "outputId": "bd4dfd3b-159c-4ca9-8fb0-daffb8ffbb69"
      },
      "execution_count": 289,
      "outputs": [
        {
          "output_type": "execute_result",
          "data": {
            "text/plain": [
              "15"
            ]
          },
          "metadata": {},
          "execution_count": 289
        }
      ]
    },
    {
      "cell_type": "code",
      "source": [
        "media_sul = df_sul[\"area\"].mean()"
      ],
      "metadata": {
        "id": "dlwOws0ACqgc"
      },
      "execution_count": 290,
      "outputs": []
    },
    {
      "cell_type": "code",
      "source": [
        "mediana_sul = df_sul[\"area\"].median()"
      ],
      "metadata": {
        "id": "Ln2IfuWCCqgc"
      },
      "execution_count": 291,
      "outputs": []
    },
    {
      "cell_type": "code",
      "source": [
        "moda_sul = df_sul[\"area\"].mode()"
      ],
      "metadata": {
        "id": "JbOHfQYVCqgc"
      },
      "execution_count": 292,
      "outputs": []
    },
    {
      "cell_type": "code",
      "source": [
        "desvio_padrao_sul = df_sul[\"area\"].std()"
      ],
      "metadata": {
        "id": "Ol92qDllCqgc"
      },
      "execution_count": 293,
      "outputs": []
    },
    {
      "cell_type": "code",
      "source": [
        "coeficiente_de_variacao_sul = desvio_padrao_sul/media_sul"
      ],
      "metadata": {
        "id": "BQrxPg6KCqgc"
      },
      "execution_count": 294,
      "outputs": []
    },
    {
      "cell_type": "code",
      "source": [
        "print(\"MEDIDAS DA VARIAVEL 'ÁREA DE IMÓVEIS' DA REGIÃO SUL\")\n",
        "print(f\"Média: {media_sul:.0f}\")\n",
        "print(f\"Moda: {moda_sul}\")\n",
        "print(f\"Mediana: {mediana_sul:.0f}\")\n",
        "print(f\"Desvio Padrão:  {desvio_padrao_sul:.2f}\")\n",
        "print(f\"Coeficiente de variação:  {coeficiente_de_variacao_sul *100:.2f}%\")"
      ],
      "metadata": {
        "id": "_5O4-RC4Cqgd",
        "colab": {
          "base_uri": "https://localhost:8080/"
        },
        "outputId": "839092ef-2dc4-4fe8-d62c-3b64481a3534"
      },
      "execution_count": 295,
      "outputs": [
        {
          "output_type": "stream",
          "name": "stdout",
          "text": [
            "MEDIDAS DA VARIAVEL 'ÁREA DE IMÓVEIS' DA REGIÃO SUL\n",
            "Média: 181\n",
            "Moda: 0    300.0\n",
            "dtype: float64\n",
            "Mediana: 170\n",
            "Desvio Padrão:  123.95\n",
            "Coeficiente de variação:  68.31%\n"
          ]
        }
      ]
    },
    {
      "cell_type": "markdown",
      "source": [
        "### *Casas*"
      ],
      "metadata": {
        "id": "qC5NOCKRCqgd"
      }
    },
    {
      "cell_type": "code",
      "source": [
        "len(df_casas_sul)"
      ],
      "metadata": {
        "id": "40UoPSmHCqgd",
        "colab": {
          "base_uri": "https://localhost:8080/"
        },
        "outputId": "d3549434-a8dc-4d40-c908-6c38e4c9c41e"
      },
      "execution_count": 296,
      "outputs": [
        {
          "output_type": "execute_result",
          "data": {
            "text/plain": [
              "10"
            ]
          },
          "metadata": {},
          "execution_count": 296
        }
      ]
    },
    {
      "cell_type": "code",
      "source": [
        "media_casas_sul = df_casas_sul[\"area\"].mean()\n",
        "moda_casas_sul = df_casas_sul[\"area\"].mode()\n",
        "mediana_casas_sul = df_casas_sul[\"area\"].median()\n",
        "desvio_padrao_casas_sul = df_casas_sul[\"area\"].std()\n",
        "coeficiente_de_variacao_casas_sul = desvio_padrao_casas_sul/media_casas_sul"
      ],
      "metadata": {
        "id": "G9I3R-TrCqgd"
      },
      "execution_count": 297,
      "outputs": []
    },
    {
      "cell_type": "code",
      "source": [
        "print(\"MEDIDAS DA VARIAVEL 'ÁREA' DAS CASAS DA REGIÃO SUL\")\n",
        "print(f\"Média: {media_casas_sul:.2f}\")\n",
        "printModa(moda_casas_sul)\n",
        "print(f\"Mediana: {mediana_casas_sul:.0f}\")\n",
        "print(f\"Desvio Padrão:  {desvio_padrao_casas_sul:.2f}\")\n",
        "print(f\"Coeficiente de variação:  {coeficiente_de_variacao_casas_sul *100:.2f}%\")"
      ],
      "metadata": {
        "id": "FXTKMvOhCqge",
        "colab": {
          "base_uri": "https://localhost:8080/"
        },
        "outputId": "770094f1-3495-4834-f6bf-d1414aec6d5a"
      },
      "execution_count": 298,
      "outputs": [
        {
          "output_type": "stream",
          "name": "stdout",
          "text": [
            "MEDIDAS DA VARIAVEL 'ÁREA' DAS CASAS DA REGIÃO SUL\n",
            "Média: 213.30\n",
            "Moda: \n",
            "300\n",
            "Mediana: 248\n",
            "Desvio Padrão:  110.73\n",
            "Coeficiente de variação:  51.91%\n"
          ]
        }
      ]
    },
    {
      "cell_type": "markdown",
      "source": [
        "### *Apartamentos*"
      ],
      "metadata": {
        "id": "XjRbQLF0Cqge"
      }
    },
    {
      "cell_type": "code",
      "source": [
        "len(df_apartamentos_sul)"
      ],
      "metadata": {
        "id": "ZbI6iZJUCqge",
        "colab": {
          "base_uri": "https://localhost:8080/"
        },
        "outputId": "b0363ed6-f3d8-4fd0-efac-374b5ce71e37"
      },
      "execution_count": 299,
      "outputs": [
        {
          "output_type": "execute_result",
          "data": {
            "text/plain": [
              "5"
            ]
          },
          "metadata": {},
          "execution_count": 299
        }
      ]
    },
    {
      "cell_type": "code",
      "source": [
        "media_apartamentos_sul = df_apartamentos_sul[\"area\"].mean()\n",
        "moda_apartamentos_sul = df_apartamentos_sul[\"area\"].mode()\n",
        "mediana_apartamentos_sul = df_apartamentos_sul[\"area\"].median()\n",
        "desvio_padrao_apartamentos_sul = df_apartamentos_sul[\"area\"].std()\n",
        "coeficiente_de_variacao_apartamentos_sul = desvio_padrao_apartamentos_sul/media_apartamentos_sul"
      ],
      "metadata": {
        "id": "2fv7RLMYCqgf"
      },
      "execution_count": 300,
      "outputs": []
    },
    {
      "cell_type": "code",
      "source": [
        "print(\"MEDIDAS DA VARIAVEL 'ÁREA' DE APARTAMENTOS DA REGIÃO SUL\")\n",
        "print(f\"Média: {media_apartamentos_sul:.2f}\")\n",
        "printModa(moda_apartamentos_sul)\n",
        "print(f\"Mediana: {mediana_apartamentos_sul:.0f}\")\n",
        "print(f\"Desvio Padrão:  {desvio_padrao_apartamentos_sul:.2f}\")\n",
        "print(f\"Coeficiente de variação:  {coeficiente_de_variacao_apartamentos_sul *100:.2f}%\")"
      ],
      "metadata": {
        "id": "5_uQi9yUCqgf",
        "colab": {
          "base_uri": "https://localhost:8080/"
        },
        "outputId": "79d2310c-26ff-4c6c-828f-ca57efbd8711"
      },
      "execution_count": 301,
      "outputs": [
        {
          "output_type": "stream",
          "name": "stdout",
          "text": [
            "MEDIDAS DA VARIAVEL 'ÁREA' DE APARTAMENTOS DA REGIÃO SUL\n",
            "Média: 117.80\n",
            "Moda: \n",
            "32\n",
            "55\n",
            "70\n",
            "72\n",
            "360\n",
            "Mediana: 70\n",
            "Desvio Padrão:  136.33\n",
            "Coeficiente de variação:  115.73%\n"
          ]
        }
      ]
    },
    {
      "cell_type": "markdown",
      "source": [
        "## Região Leste"
      ],
      "metadata": {
        "id": "B8hC7lUjCqgf"
      }
    },
    {
      "cell_type": "markdown",
      "source": [
        "### *Medidas Gerais*"
      ],
      "metadata": {
        "id": "xkSvTaUGCqgf"
      }
    },
    {
      "cell_type": "code",
      "source": [
        "len(df_leste)"
      ],
      "metadata": {
        "id": "FMwTCZ0mCqgf",
        "colab": {
          "base_uri": "https://localhost:8080/"
        },
        "outputId": "d9a13a28-141c-4388-baf9-d50fe1e1bec5"
      },
      "execution_count": 302,
      "outputs": [
        {
          "output_type": "execute_result",
          "data": {
            "text/plain": [
              "10"
            ]
          },
          "metadata": {},
          "execution_count": 302
        }
      ]
    },
    {
      "cell_type": "code",
      "source": [
        "media_leste = df_leste[\"area\"].mean()\n",
        "moda_leste = df_leste[\"area\"].mode()\n",
        "mediana_leste = df_leste[\"area\"].median()\n",
        "desvio_padrao_leste = df_leste[\"area\"].std()\n",
        "coeficiente_de_variacao_leste = desvio_padrao_leste/media_leste"
      ],
      "metadata": {
        "id": "r29ZRCZCCqgg"
      },
      "execution_count": 303,
      "outputs": []
    },
    {
      "cell_type": "code",
      "source": [
        "print(\"MEDIDAS DA VARIAVEL 'ÁREA' DA REGIÃO LESTE\")\n",
        "print(f\"Média: {media_leste:.2f}\")\n",
        "printModa(moda_leste)\n",
        "print(f\"Mediana: {mediana_leste:.0f}\")\n",
        "print(f\"Desvio Padrão:  {desvio_padrao_leste :.2f}\")\n",
        "print(f\"Coeficiente de variação:  {coeficiente_de_variacao_leste *100:.2f}%\")"
      ],
      "metadata": {
        "id": "UojAD1SVCqgg",
        "colab": {
          "base_uri": "https://localhost:8080/"
        },
        "outputId": "b1baa535-982c-46fd-9424-2306c9a7e797"
      },
      "execution_count": 304,
      "outputs": [
        {
          "output_type": "stream",
          "name": "stdout",
          "text": [
            "MEDIDAS DA VARIAVEL 'ÁREA' DA REGIÃO LESTE\n",
            "Média: 138.30\n",
            "Moda: \n",
            "43\n",
            "44\n",
            "55\n",
            "69\n",
            "70\n",
            "71\n",
            "120\n",
            "204\n",
            "207\n",
            "500\n",
            "Mediana: 70\n",
            "Desvio Padrão:  141.07\n",
            "Coeficiente de variação:  102.00%\n"
          ]
        }
      ]
    },
    {
      "cell_type": "markdown",
      "source": [
        "### *Casas*"
      ],
      "metadata": {
        "id": "QvJJb0_jCqgg"
      }
    },
    {
      "cell_type": "code",
      "source": [
        "len(df_casas_leste)"
      ],
      "metadata": {
        "id": "hdg2k8mHCqgg",
        "colab": {
          "base_uri": "https://localhost:8080/"
        },
        "outputId": "5a9f5be7-0ea6-4e0f-9e1d-4a61ba31b537"
      },
      "execution_count": 305,
      "outputs": [
        {
          "output_type": "execute_result",
          "data": {
            "text/plain": [
              "5"
            ]
          },
          "metadata": {},
          "execution_count": 305
        }
      ]
    },
    {
      "cell_type": "code",
      "source": [
        "media_casas_leste = df_casas_leste[\"area\"].mean()\n",
        "moda_casas_leste = df_casas_leste[\"area\"].mode()\n",
        "mediana_casas_leste = df_casas_leste[\"area\"].median()\n",
        "desvio_padrao_casas_leste = df_casas_leste[\"area\"].std()\n",
        "coeficiente_de_variacao_casas_leste = desvio_padrao_casas_leste/media_casas_leste"
      ],
      "metadata": {
        "id": "tUckDPJ7Cqgg"
      },
      "execution_count": 306,
      "outputs": []
    },
    {
      "cell_type": "code",
      "source": [
        "print(\"MEDIDAS DA VARIAVEL 'ÁREA' DAS CASAS DA REGIÃO SUL\")\n",
        "print(f\"Média: {media_casas_leste:.1f}\")\n",
        "printModa(moda_casas_leste)\n",
        "print(f\"Mediana: {mediana_casas_leste:.0f}\")\n",
        "print(f\"Desvio Padrão:  {desvio_padrao_casas_leste:.2f}\")\n",
        "print(f\"Coeficiente de variação:  {coeficiente_de_variacao_casas_leste *100:.2f}%\")"
      ],
      "metadata": {
        "id": "fe1qgMtPCqgg",
        "colab": {
          "base_uri": "https://localhost:8080/"
        },
        "outputId": "d20bb75f-e599-4c3e-a643-48c30569b0dc"
      },
      "execution_count": 307,
      "outputs": [
        {
          "output_type": "stream",
          "name": "stdout",
          "text": [
            "MEDIDAS DA VARIAVEL 'ÁREA' DAS CASAS DA REGIÃO SUL\n",
            "Média: 220.2\n",
            "Moda: \n",
            "70\n",
            "120\n",
            "204\n",
            "207\n",
            "500\n",
            "Mediana: 204\n",
            "Desvio Padrão:  166.83\n",
            "Coeficiente de variação:  75.76%\n"
          ]
        }
      ]
    },
    {
      "cell_type": "markdown",
      "source": [
        "### *Apartamentos*"
      ],
      "metadata": {
        "id": "JgYPD6qwCqgg"
      }
    },
    {
      "cell_type": "code",
      "source": [
        "len(df_apartamentos_leste)"
      ],
      "metadata": {
        "id": "mA02ov2hCqgg",
        "colab": {
          "base_uri": "https://localhost:8080/"
        },
        "outputId": "5b656a4e-cfff-4756-8d9f-8fb45db4c68e"
      },
      "execution_count": 308,
      "outputs": [
        {
          "output_type": "execute_result",
          "data": {
            "text/plain": [
              "5"
            ]
          },
          "metadata": {},
          "execution_count": 308
        }
      ]
    },
    {
      "cell_type": "code",
      "source": [
        "media_apartamentos_leste = df_apartamentos_leste[\"area\"].mean()\n",
        "moda_apartamentos_leste = df_apartamentos_leste[\"area\"].mode()\n",
        "mediana_apartamentos_leste = df_apartamentos_leste[\"area\"].median()\n",
        "desvio_padrao_apartamentos_leste = df_apartamentos_leste[\"area\"].std()\n",
        "coeficiente_de_variacao_apartamentos_leste = desvio_padrao_apartamentos_leste/media_apartamentos_leste"
      ],
      "metadata": {
        "id": "Wj8bJm92Cqgh"
      },
      "execution_count": 309,
      "outputs": []
    },
    {
      "cell_type": "code",
      "source": [
        "print(\"MEDIDAS DA VARIAVEL 'ÁREA' DOS APARTAMENTOS DA REGIÃO LESTE\")\n",
        "print(f\"Média: {media_apartamentos_leste:.1f}\")\n",
        "printModa(moda_apartamentos_leste)\n",
        "print(f\"Mediana: {mediana_apartamentos_leste:.0f}\")\n",
        "print(f\"Desvio Padrão:  {desvio_padrao_apartamentos_leste:.2f}\")\n",
        "print(f\"Coeficiente de variação:  {coeficiente_de_variacao_apartamentos_leste *100:.2f}%\")"
      ],
      "metadata": {
        "id": "o0t7YfrmCqgh",
        "colab": {
          "base_uri": "https://localhost:8080/"
        },
        "outputId": "cc1b57d0-251d-403d-deaa-8e61ed303b41"
      },
      "execution_count": 310,
      "outputs": [
        {
          "output_type": "stream",
          "name": "stdout",
          "text": [
            "MEDIDAS DA VARIAVEL 'ÁREA' DOS APARTAMENTOS DA REGIÃO LESTE\n",
            "Média: 56.4\n",
            "Moda: \n",
            "43\n",
            "44\n",
            "55\n",
            "69\n",
            "71\n",
            "Mediana: 55\n",
            "Desvio Padrão:  13.30\n",
            "Coeficiente de variação:  23.58%\n"
          ]
        }
      ]
    },
    {
      "cell_type": "markdown",
      "source": [
        "## Região Oeste"
      ],
      "metadata": {
        "id": "fV7U-tWoCqgh"
      }
    },
    {
      "cell_type": "markdown",
      "source": [
        "### *Medidas Gerais*"
      ],
      "metadata": {
        "id": "QCqCv5S_Cqgh"
      }
    },
    {
      "cell_type": "code",
      "source": [
        "len(df_oeste)"
      ],
      "metadata": {
        "id": "r9nB8M7JCqgh",
        "colab": {
          "base_uri": "https://localhost:8080/"
        },
        "outputId": "04ebb77b-d259-4812-f6cd-047f7d788497"
      },
      "execution_count": 311,
      "outputs": [
        {
          "output_type": "execute_result",
          "data": {
            "text/plain": [
              "128"
            ]
          },
          "metadata": {},
          "execution_count": 311
        }
      ]
    },
    {
      "cell_type": "code",
      "source": [
        "media_oeste = df_oeste[\"area\"].mean()\n",
        "moda_oeste = df_oeste[\"area\"].mode()\n",
        "mediana_oeste = df_oeste[\"area\"].median()\n",
        "desvio_padrao_oeste = df_oeste[\"area\"].std()\n",
        "coeficiente_de_variacao_oeste = desvio_padrao_oeste/media_oeste"
      ],
      "metadata": {
        "id": "j0IbfLqLCqgh"
      },
      "execution_count": 312,
      "outputs": []
    },
    {
      "cell_type": "code",
      "source": [
        "print(\"MEDIDAS DA VARIAVEL 'ÁREA' DA REGIÃO OESTE\")\n",
        "print(f\"Média: {media_oeste:.1f}\")\n",
        "printModa(moda_oeste)\n",
        "print(f\"Mediana: {mediana_oeste:.0f}\")\n",
        "print(f\"Desvio Padrão:  {desvio_padrao_oeste :.2f}\")\n",
        "print(f\"Coeficiente de variação:  {coeficiente_de_variacao_oeste *100:.2f}%\")"
      ],
      "metadata": {
        "id": "SqUfLi55Cqgh",
        "colab": {
          "base_uri": "https://localhost:8080/"
        },
        "outputId": "7e36105e-dc7f-4a14-ae9c-526534f52913"
      },
      "execution_count": 313,
      "outputs": [
        {
          "output_type": "stream",
          "name": "stdout",
          "text": [
            "MEDIDAS DA VARIAVEL 'ÁREA' DA REGIÃO OESTE\n",
            "Média: 243.6\n",
            "Moda: \n",
            "88\n",
            "Mediana: 153\n",
            "Desvio Padrão:  289.09\n",
            "Coeficiente de variação:  118.67%\n"
          ]
        }
      ]
    },
    {
      "cell_type": "markdown",
      "source": [
        "### *Casas*"
      ],
      "metadata": {
        "id": "pxAshdC8Cqgh"
      }
    },
    {
      "cell_type": "code",
      "source": [
        "len(df_casas_oeste)"
      ],
      "metadata": {
        "id": "AmK6DHVSCqgh",
        "colab": {
          "base_uri": "https://localhost:8080/"
        },
        "outputId": "7143b78c-75ef-4169-cf6c-f21d440aaf8c"
      },
      "execution_count": 314,
      "outputs": [
        {
          "output_type": "execute_result",
          "data": {
            "text/plain": [
              "78"
            ]
          },
          "metadata": {},
          "execution_count": 314
        }
      ]
    },
    {
      "cell_type": "code",
      "source": [
        "media_casas_oeste = df_casas_oeste[\"area\"].mean()\n",
        "moda_casas_oeste = df_casas_oeste[\"area\"].mode()\n",
        "mediana_casas_oeste = df_casas_oeste[\"area\"].median()\n",
        "desvio_padrao_casas_oeste = df_casas_oeste[\"area\"].std()\n",
        "coeficiente_de_variacao_casas_oeste = desvio_padrao_casas_oeste/media_casas_oeste"
      ],
      "metadata": {
        "id": "9WYA1bwnCqgh"
      },
      "execution_count": 315,
      "outputs": []
    },
    {
      "cell_type": "code",
      "source": [
        "print(\"MEDIDAS DA VARIAVEL 'ÁREA' DAS CASAS DA REGIÃO OESTE\")\n",
        "print(f\"Média: {media_casas_oeste:.1f}\")\n",
        "printModa(moda_casas_oeste)\n",
        "print(f\"Mediana: {mediana_casas_oeste:.0f}\")\n",
        "print(f\"Desvio Padrão:  {desvio_padrao_casas_oeste:.2f}\")\n",
        "print(f\"Coeficiente de variação:  {coeficiente_de_variacao_casas_oeste *100:.2f}%\")"
      ],
      "metadata": {
        "id": "tVS0z4AqCqgi",
        "colab": {
          "base_uri": "https://localhost:8080/"
        },
        "outputId": "5eddf644-4352-4bcf-cf56-8194c69ae9d9"
      },
      "execution_count": 316,
      "outputs": [
        {
          "output_type": "stream",
          "name": "stdout",
          "text": [
            "MEDIDAS DA VARIAVEL 'ÁREA' DAS CASAS DA REGIÃO OESTE\n",
            "Média: 341.5\n",
            "Moda: \n",
            "170\n",
            "Mediana: 248\n",
            "Desvio Padrão:  334.13\n",
            "Coeficiente de variação:  97.85%\n"
          ]
        }
      ]
    },
    {
      "cell_type": "markdown",
      "source": [
        "### *Apartamentos*"
      ],
      "metadata": {
        "id": "B-Wf5AvyCqgi"
      }
    },
    {
      "cell_type": "code",
      "source": [
        "len(df_apartamentos_oeste)"
      ],
      "metadata": {
        "id": "liuaMiaqCqgi",
        "colab": {
          "base_uri": "https://localhost:8080/"
        },
        "outputId": "d2b78f13-5caf-4731-c2af-0915ea95a2f9"
      },
      "execution_count": 317,
      "outputs": [
        {
          "output_type": "execute_result",
          "data": {
            "text/plain": [
              "50"
            ]
          },
          "metadata": {},
          "execution_count": 317
        }
      ]
    },
    {
      "cell_type": "code",
      "source": [
        "media_apartamentos_oeste = df_apartamentos_oeste[\"area\"].mean()\n",
        "moda_apartamentos_oeste = df_apartamentos_oeste[\"area\"].mode()\n",
        "mediana_apartamentos_oeste = df_apartamentos_oeste[\"area\"].median()\n",
        "desvio_padrao_apartamentos_oeste = df_apartamentos_oeste[\"area\"].std()\n",
        "coeficiente_de_variacao_apartamentos_oeste = desvio_padrao_apartamentos_oeste/media_apartamentos_oeste"
      ],
      "metadata": {
        "id": "1ubYg-ZqCqgi"
      },
      "execution_count": 318,
      "outputs": []
    },
    {
      "cell_type": "code",
      "source": [
        "print(\"MEDIDAS DA VARIAVEL 'ÁREA' DOS APARTAMENTOS DA REGIÃO OESTE\")\n",
        "print(f\"Média: {media_apartamentos_oeste:.2f}\")\n",
        "printModa(moda_apartamentos_oeste)\n",
        "print(f\"Mediana: {mediana_apartamentos_oeste:.0f}\")\n",
        "print(f\"Desvio Padrão:  {desvio_padrao_apartamentos_oeste:.2f}\")\n",
        "print(f\"Coeficiente de variação:  {coeficiente_de_variacao_apartamentos_oeste *100:.2f}%\")"
      ],
      "metadata": {
        "id": "RVvTp4qeCqgi",
        "colab": {
          "base_uri": "https://localhost:8080/"
        },
        "outputId": "8643df26-f4dc-4a72-d46e-aa9768ae12a6"
      },
      "execution_count": 319,
      "outputs": [
        {
          "output_type": "stream",
          "name": "stdout",
          "text": [
            "MEDIDAS DA VARIAVEL 'ÁREA' DOS APARTAMENTOS DA REGIÃO OESTE\n",
            "Média: 90.94\n",
            "Moda: \n",
            "88\n",
            "169\n",
            "Mediana: 80\n",
            "Desvio Padrão:  46.24\n",
            "Coeficiente de variação:  50.85%\n"
          ]
        }
      ]
    },
    {
      "cell_type": "markdown",
      "source": [
        "## Região Centro-Oeste"
      ],
      "metadata": {
        "id": "jssp_UKPCqgi"
      }
    },
    {
      "cell_type": "markdown",
      "source": [
        "### *Medidas Gerais*"
      ],
      "metadata": {
        "id": "TTMuZPJsCqgi"
      }
    },
    {
      "cell_type": "code",
      "source": [
        "len(df_co)"
      ],
      "metadata": {
        "id": "kXs5GGapCqgi",
        "colab": {
          "base_uri": "https://localhost:8080/"
        },
        "outputId": "f50a1fa2-5b69-4352-9fd5-9f8793f4d9d5"
      },
      "execution_count": 320,
      "outputs": [
        {
          "output_type": "execute_result",
          "data": {
            "text/plain": [
              "42"
            ]
          },
          "metadata": {},
          "execution_count": 320
        }
      ]
    },
    {
      "cell_type": "code",
      "source": [
        "media_co = df_co[\"area\"].mean()\n",
        "moda_co = df_co[\"area\"].mode()\n",
        "mediana_co = df_co[\"area\"].median()\n",
        "desvio_padrao_co = df_co[\"area\"].std()\n",
        "coeficiente_de_variacao_co = desvio_padrao_co/media_co"
      ],
      "metadata": {
        "id": "vSj_L-uiCqgi"
      },
      "execution_count": 321,
      "outputs": []
    },
    {
      "cell_type": "code",
      "source": [
        "print(\"MEDIDAS DA VARIAVEL 'ÁREA' DA REGIÃO CENTRO-OESTE\")\n",
        "print(f\"Média: {media_co:.1f}\")\n",
        "printModa(moda_co)\n",
        "print(f\"Mediana: {mediana_co:.0f}\")\n",
        "print(f\"Desvio Padrão:  {desvio_padrao_co:.2f}%\")\n",
        "print(f\"Coeficiente de variação:  {coeficiente_de_variacao_co *100:.2f}%\")"
      ],
      "metadata": {
        "id": "OHZabAlOCqgi",
        "colab": {
          "base_uri": "https://localhost:8080/"
        },
        "outputId": "75cecf76-d3b2-4b39-81a1-4d0dd04b75a0"
      },
      "execution_count": 322,
      "outputs": [
        {
          "output_type": "stream",
          "name": "stdout",
          "text": [
            "MEDIDAS DA VARIAVEL 'ÁREA' DA REGIÃO CENTRO-OESTE\n",
            "Média: 174.9\n",
            "Moda: \n",
            "300\n",
            "Mediana: 121\n",
            "Desvio Padrão:  146.83%\n",
            "Coeficiente de variação:  83.96%\n"
          ]
        }
      ]
    },
    {
      "cell_type": "markdown",
      "source": [
        "### *Casas*"
      ],
      "metadata": {
        "id": "qFrfkTBuCqgj"
      }
    },
    {
      "cell_type": "code",
      "source": [
        "len(df_casas_co)"
      ],
      "metadata": {
        "id": "vHrgPBkFCqgj",
        "colab": {
          "base_uri": "https://localhost:8080/"
        },
        "outputId": "9977ccf2-478d-4327-e7c3-35cdb0c39da6"
      },
      "execution_count": 323,
      "outputs": [
        {
          "output_type": "execute_result",
          "data": {
            "text/plain": [
              "24"
            ]
          },
          "metadata": {},
          "execution_count": 323
        }
      ]
    },
    {
      "cell_type": "code",
      "source": [
        "media_casas_co = df_casas_co[\"area\"].mean()\n",
        "moda_casas_co = df_casas_co[\"area\"].mode()\n",
        "mediana_casas_co = df_casas_co[\"area\"].median()\n",
        "desvio_padrao_casas_co = df_casas_co[\"area\"].std()\n",
        "coeficiente_de_variacao_casas_co = desvio_padrao_casas_co/media_casas_co"
      ],
      "metadata": {
        "id": "jugzduI8Cqgj"
      },
      "execution_count": 324,
      "outputs": []
    },
    {
      "cell_type": "code",
      "source": [
        "print(\"MEDIDAS DA VARIAVEL 'ÁREA' DAS CASAS DA REGIÃO CENTRO-OESTE\")\n",
        "print(f\"Média: {media_casas_co:.1f}\")\n",
        "printModa(moda_casas_co)\n",
        "print(f\"Mediana: {mediana_casas_co:.0f}\")\n",
        "print(f\"Desvio Padrão:  {desvio_padrao_casas_co :.2f}\")\n",
        "print(f\"Coeficiente de variação:  {coeficiente_de_variacao_casas_co *100:.2f}%\")"
      ],
      "metadata": {
        "id": "bwX5uKBYCqgj",
        "colab": {
          "base_uri": "https://localhost:8080/"
        },
        "outputId": "e2565edb-5495-42a5-d80c-1fe3295110a5"
      },
      "execution_count": 325,
      "outputs": [
        {
          "output_type": "stream",
          "name": "stdout",
          "text": [
            "MEDIDAS DA VARIAVEL 'ÁREA' DAS CASAS DA REGIÃO CENTRO-OESTE\n",
            "Média: 249.6\n",
            "Moda: \n",
            "300\n",
            "Mediana: 200\n",
            "Desvio Padrão:  154.36\n",
            "Coeficiente de variação:  61.84%\n"
          ]
        }
      ]
    },
    {
      "cell_type": "markdown",
      "source": [
        "### *Apartamentos*"
      ],
      "metadata": {
        "id": "RVU_be7GCqgj"
      }
    },
    {
      "cell_type": "code",
      "source": [
        "len(df_apartamentos_co)"
      ],
      "metadata": {
        "id": "9v9eY9uDCqgl",
        "colab": {
          "base_uri": "https://localhost:8080/"
        },
        "outputId": "a84515a7-0040-4975-e618-2802ed17dcdb"
      },
      "execution_count": 326,
      "outputs": [
        {
          "output_type": "execute_result",
          "data": {
            "text/plain": [
              "18"
            ]
          },
          "metadata": {},
          "execution_count": 326
        }
      ]
    },
    {
      "cell_type": "code",
      "source": [
        "media_apartamentos_co = df_apartamentos_co[\"area\"].mean()\n",
        "moda_apartamentos_co = df_apartamentos_co[\"area\"].mode()\n",
        "mediana_apartamentos_co = df_apartamentos_co[\"area\"].median()\n",
        "desvio_padrao_apartamentos_co = df_apartamentos_co[\"area\"].std()\n",
        "coeficiente_de_variacao_apartamentos_co = desvio_padrao_apartamentos_co/media_apartamentos_co"
      ],
      "metadata": {
        "id": "DB57nYk_Cqgl"
      },
      "execution_count": 327,
      "outputs": []
    },
    {
      "cell_type": "code",
      "source": [
        "print(\"MEDIDAS DA VARIAVEL 'ÁREA' DOS APARTAMENTOS DA REGIÃO CENTRO-OESTE\")\n",
        "print(f\"Média: {media_apartamentos_co:.2f}\")\n",
        "printModa(moda_apartamentos_co)\n",
        "print(f\"Mediana: {mediana_apartamentos_co:.0f}\")\n",
        "print(f\"Desvio Padrão:  {desvio_padrao_apartamentos_co:.2f}\")\n",
        "print(f\"Coeficiente de variação:  {coeficiente_de_variacao_apartamentos_co *100:.2f}%\")"
      ],
      "metadata": {
        "id": "9eyDDXoXCqgl",
        "colab": {
          "base_uri": "https://localhost:8080/"
        },
        "outputId": "047ef390-4b8d-42b5-bdd3-8748948177bd"
      },
      "execution_count": 328,
      "outputs": [
        {
          "output_type": "stream",
          "name": "stdout",
          "text": [
            "MEDIDAS DA VARIAVEL 'ÁREA' DOS APARTAMENTOS DA REGIÃO CENTRO-OESTE\n",
            "Média: 75.22\n",
            "Moda: \n",
            "38\n",
            "43\n",
            "56\n",
            "Mediana: 60\n",
            "Desvio Padrão:  36.78\n",
            "Coeficiente de variação:  48.89%\n"
          ]
        }
      ]
    },
    {
      "cell_type": "markdown",
      "source": [
        "## Região Centro-Sul"
      ],
      "metadata": {
        "id": "kqml_B4aCqgl"
      }
    },
    {
      "cell_type": "markdown",
      "source": [
        "### *Medidas Gerais*"
      ],
      "metadata": {
        "id": "CienwV_wCqgl"
      }
    },
    {
      "cell_type": "code",
      "source": [
        "len(df_cs)"
      ],
      "metadata": {
        "id": "ypRfwktnCqgl",
        "colab": {
          "base_uri": "https://localhost:8080/"
        },
        "outputId": "3a9f30c9-668f-4c28-9f12-a9f27304ba29"
      },
      "execution_count": 329,
      "outputs": [
        {
          "output_type": "execute_result",
          "data": {
            "text/plain": [
              "122"
            ]
          },
          "metadata": {},
          "execution_count": 329
        }
      ]
    },
    {
      "cell_type": "code",
      "source": [
        "media_cs = df_cs[\"area\"].mean()\n",
        "moda_cs = df_cs[\"area\"].mode()\n",
        "mediana_cs = df_cs[\"area\"].median()\n",
        "desvio_padrao_cs = df_cs[\"area\"].std()\n",
        "coeficiente_de_variacao_cs = desvio_padrao_cs/media_cs"
      ],
      "metadata": {
        "id": "NKyd1KugCqgl"
      },
      "execution_count": 330,
      "outputs": []
    },
    {
      "cell_type": "code",
      "source": [
        "print(\"MEDIDAS DA VARIAVEL 'ÁREA' DA REGIÃO CENTRO-SUL\")\n",
        "print(f\"Média: {media_cs:.2f}\")\n",
        "printModa(moda_cs)\n",
        "print(f\"Mediana: {mediana_cs:.0f}\")\n",
        "print(f\"Desvio Padrão:  {desvio_padrao_cs:.2f}\")\n",
        "print(f\"Coeficiente de variação:  {coeficiente_de_variacao_cs *100:.2f}%\")"
      ],
      "metadata": {
        "id": "CF2i2729Cqgl",
        "colab": {
          "base_uri": "https://localhost:8080/"
        },
        "outputId": "049069ac-2988-46c4-bee4-b4eb3d5c0e32"
      },
      "execution_count": 331,
      "outputs": [
        {
          "output_type": "stream",
          "name": "stdout",
          "text": [
            "MEDIDAS DA VARIAVEL 'ÁREA' DA REGIÃO CENTRO-SUL\n",
            "Média: 173.40\n",
            "Moda: \n",
            "60\n",
            "Mediana: 128\n",
            "Desvio Padrão:  135.33\n",
            "Coeficiente de variação:  78.05%\n"
          ]
        }
      ]
    },
    {
      "cell_type": "markdown",
      "source": [
        "### *Casas*"
      ],
      "metadata": {
        "id": "3ZkZzvjzCqgm"
      }
    },
    {
      "cell_type": "code",
      "source": [
        "len(df_casas_cs)"
      ],
      "metadata": {
        "id": "20BSoR3TCqgm",
        "colab": {
          "base_uri": "https://localhost:8080/"
        },
        "outputId": "1fddc55c-589d-4f5b-bfaf-bb9053913e2a"
      },
      "execution_count": 332,
      "outputs": [
        {
          "output_type": "execute_result",
          "data": {
            "text/plain": [
              "58"
            ]
          },
          "metadata": {},
          "execution_count": 332
        }
      ]
    },
    {
      "cell_type": "code",
      "source": [
        "media_casas_cs = df_casas_cs[\"area\"].mean()\n",
        "moda_casas_cs = df_casas_cs[\"area\"].mode()\n",
        "mediana_casas_cs = df_casas_cs[\"area\"].median()\n",
        "desvio_padrao_casas_cs = df_casas_cs[\"area\"].std()\n",
        "coeficiente_de_variacao_casas_cs = desvio_padrao_casas_cs/media_casas_cs\n",
        "variancia = df_casas_cs[\"area\"].var()\n"
      ],
      "metadata": {
        "id": "bvA8JGMcCqgm"
      },
      "execution_count": 333,
      "outputs": []
    },
    {
      "cell_type": "code",
      "source": [
        "print(\"MEDIDAS DA VARIAVEL 'ÁREA' DAS CASAS DA REGIÃO CENTRO-SUL\")\n",
        "print(f\"Média: {media_casas_cs:.2f}\")\n",
        "printModa(moda_casas_cs)\n",
        "print(f\"Mediana: {mediana_casas_cs:.0f}\")\n",
        "print(f\"Desvio Padrão:  {desvio_padrao_casas_cs:.2f}%\")\n",
        "print(f\"Coeficiente de variação:  {coeficiente_de_variacao_casas_cs *100:.2f}%\")"
      ],
      "metadata": {
        "id": "FrAiksUjCqgm",
        "colab": {
          "base_uri": "https://localhost:8080/"
        },
        "outputId": "8062b1a1-73f3-4770-cb2c-c594ebee4d80"
      },
      "execution_count": 334,
      "outputs": [
        {
          "output_type": "stream",
          "name": "stdout",
          "text": [
            "MEDIDAS DA VARIAVEL 'ÁREA' DAS CASAS DA REGIÃO CENTRO-SUL\n",
            "Média: 218.47\n",
            "Moda: \n",
            "70\n",
            "Mediana: 161\n",
            "Desvio Padrão:  164.13%\n",
            "Coeficiente de variação:  75.13%\n"
          ]
        }
      ]
    },
    {
      "cell_type": "markdown",
      "source": [
        "### *Apartamentos*"
      ],
      "metadata": {
        "id": "dj25N_xWCqgm"
      }
    },
    {
      "cell_type": "code",
      "source": [
        "len(df_apartamentos_cs)"
      ],
      "metadata": {
        "id": "2G4SmS0uCqgm",
        "colab": {
          "base_uri": "https://localhost:8080/"
        },
        "outputId": "ba008394-c015-4ab8-c40f-ff6e13f5f1e9"
      },
      "execution_count": 335,
      "outputs": [
        {
          "output_type": "execute_result",
          "data": {
            "text/plain": [
              "64"
            ]
          },
          "metadata": {},
          "execution_count": 335
        }
      ]
    },
    {
      "cell_type": "code",
      "source": [
        "media_apartamentos_cs = df_apartamentos_cs[\"area\"].mean()\n",
        "moda_apartamentos_cs = df_apartamentos_cs[\"area\"].mode()\n",
        "mediana_apartamentos_cs = df_apartamentos_cs[\"area\"].median()\n",
        "desvio_padrao_apartamentos_cs = df_apartamentos_cs[\"area\"].std()\n",
        "coeficiente_de_variacao_apartamentos_cs = desvio_padrao_apartamentos_cs/media_apartamentos_cs"
      ],
      "metadata": {
        "id": "pIPAMa9nCqgm"
      },
      "execution_count": 336,
      "outputs": []
    },
    {
      "cell_type": "code",
      "source": [
        "print(\"MEDIDAS DA VARIAVEL 'ÁREA' DOS APARTAMENTOS DA REGIÃO CENTRO-OESTE\")\n",
        "print(f\"Média: {media_apartamentos_cs:.2f}\")\n",
        "printModa(moda_apartamentos_cs)\n",
        "print(f\"Mediana: {mediana_apartamentos_cs:.0f}\")\n",
        "print(f\"Desvio Padrão:  {desvio_padrao_apartamentos_cs:.2f}\")\n",
        "print(f\"Coeficiente de variação:  {coeficiente_de_variacao_apartamentos_cs *100:.2f}%\")"
      ],
      "metadata": {
        "id": "7Q-vMJAACqgm",
        "colab": {
          "base_uri": "https://localhost:8080/"
        },
        "outputId": "bb7181bf-fd84-4348-9d3f-74a61b9ac5cf"
      },
      "execution_count": 337,
      "outputs": [
        {
          "output_type": "stream",
          "name": "stdout",
          "text": [
            "MEDIDAS DA VARIAVEL 'ÁREA' DOS APARTAMENTOS DA REGIÃO CENTRO-OESTE\n",
            "Média: 132.56\n",
            "Moda: \n",
            "60\n",
            "96\n",
            "Mediana: 114\n",
            "Desvio Padrão:  85.09\n",
            "Coeficiente de variação:  64.19%\n"
          ]
        }
      ]
    },
    {
      "cell_type": "markdown",
      "source": [
        "# → ***Resultados: Área (Quantitativa)***\n",
        "\n",
        "\n",
        "---\n",
        "\n"
      ],
      "metadata": {
        "id": "n1N_K8QYDUhG"
      }
    },
    {
      "cell_type": "markdown",
      "source": [
        "## Dados Gerais"
      ],
      "metadata": {
        "id": "T7btpijGDUhG"
      }
    },
    {
      "cell_type": "code",
      "source": [
        "df_resultados = pd.DataFrame([\n",
        "    (len(df_norte), f'{media_norte:.2f}', mediana_norte, list(moda_norte), f'{desvio_padrao_norte:.2f}', f'{coeficiente_de_variacao_norte * 100:.2f}%'),\n",
        "    (len(df_sul), f'{media_sul:.2f}', mediana_sul, list(moda_sul), f'{desvio_padrao_sul:.2f}', f'{coeficiente_de_variacao_sul * 100:.2f}%'),\n",
        "    (len(df_leste), f'{media_leste:.2f}', mediana_leste, list(moda_leste), f'{desvio_padrao_leste:.2f}', f'{coeficiente_de_variacao_leste * 100:.2f}%'),\n",
        "    (len(df_oeste), f'{media_oeste:.2f}', mediana_oeste, list(moda_oeste), f'{desvio_padrao_oeste:.2f}', f'{coeficiente_de_variacao_oeste * 100:.2f}%'),\n",
        "    (len(df_co), f'{media_co:.2f}', mediana_co, list(moda_co), f'{desvio_padrao_co:.2f}', f'{coeficiente_de_variacao_co * 100:.2f}%'),\n",
        "    (len(df_cs), f'{media_cs:.2f}', mediana_cs, list(moda_cs), f'{desvio_padrao_cs:.2f}', f'{coeficiente_de_variacao_cs * 100:.2f}%')],\n",
        "    index=('Zona Norte', 'Zona Sul', 'Zona Leste', 'Zona Oeste', 'Zona Centro Oeste', 'Zona Centro-Sul'),\n",
        "    columns=('Total Imóveis', 'Média', 'Mediana', 'Moda', 'Desvio Padrão', 'Coeficiente de Variação'))\n",
        "\n",
        "df_resultados"
      ],
      "metadata": {
        "id": "C5J1xTQaDUhG",
        "colab": {
          "base_uri": "https://localhost:8080/",
          "height": 237
        },
        "outputId": "c5e8b4c3-6a66-4c5e-dbb0-a454ec039133"
      },
      "execution_count": 338,
      "outputs": [
        {
          "output_type": "execute_result",
          "data": {
            "text/plain": [
              "                   Total Imóveis   Média  Mediana  \\\n",
              "Zona Norte                    73  188.96    104.0   \n",
              "Zona Sul                      15  181.47    170.0   \n",
              "Zona Leste                    10  138.30     70.5   \n",
              "Zona Oeste                   128  243.60    153.0   \n",
              "Zona Centro Oeste             42  174.88    121.0   \n",
              "Zona Centro-Sul              122  173.40    128.0   \n",
              "\n",
              "                                                                Moda  \\\n",
              "Zona Norte                                             [80.0, 170.0]   \n",
              "Zona Sul                                                     [300.0]   \n",
              "Zona Leste         [43.0, 44.0, 55.0, 69.0, 70.0, 71.0, 120.0, 20...   \n",
              "Zona Oeste                                                    [88.0]   \n",
              "Zona Centro Oeste                                            [300.0]   \n",
              "Zona Centro-Sul                                               [60.0]   \n",
              "\n",
              "                  Desvio Padrão Coeficiente de Variação  \n",
              "Zona Norte               306.04                 161.96%  \n",
              "Zona Sul                 123.95                  68.31%  \n",
              "Zona Leste               141.07                 102.00%  \n",
              "Zona Oeste               289.09                 118.67%  \n",
              "Zona Centro Oeste        146.83                  83.96%  \n",
              "Zona Centro-Sul          135.33                  78.05%  "
            ],
            "text/html": [
              "\n",
              "  <div id=\"df-bf616859-1c9c-4446-a598-93d258d162a3\">\n",
              "    <div class=\"colab-df-container\">\n",
              "      <div>\n",
              "<style scoped>\n",
              "    .dataframe tbody tr th:only-of-type {\n",
              "        vertical-align: middle;\n",
              "    }\n",
              "\n",
              "    .dataframe tbody tr th {\n",
              "        vertical-align: top;\n",
              "    }\n",
              "\n",
              "    .dataframe thead th {\n",
              "        text-align: right;\n",
              "    }\n",
              "</style>\n",
              "<table border=\"1\" class=\"dataframe\">\n",
              "  <thead>\n",
              "    <tr style=\"text-align: right;\">\n",
              "      <th></th>\n",
              "      <th>Total Imóveis</th>\n",
              "      <th>Média</th>\n",
              "      <th>Mediana</th>\n",
              "      <th>Moda</th>\n",
              "      <th>Desvio Padrão</th>\n",
              "      <th>Coeficiente de Variação</th>\n",
              "    </tr>\n",
              "  </thead>\n",
              "  <tbody>\n",
              "    <tr>\n",
              "      <th>Zona Norte</th>\n",
              "      <td>73</td>\n",
              "      <td>188.96</td>\n",
              "      <td>104.0</td>\n",
              "      <td>[80.0, 170.0]</td>\n",
              "      <td>306.04</td>\n",
              "      <td>161.96%</td>\n",
              "    </tr>\n",
              "    <tr>\n",
              "      <th>Zona Sul</th>\n",
              "      <td>15</td>\n",
              "      <td>181.47</td>\n",
              "      <td>170.0</td>\n",
              "      <td>[300.0]</td>\n",
              "      <td>123.95</td>\n",
              "      <td>68.31%</td>\n",
              "    </tr>\n",
              "    <tr>\n",
              "      <th>Zona Leste</th>\n",
              "      <td>10</td>\n",
              "      <td>138.30</td>\n",
              "      <td>70.5</td>\n",
              "      <td>[43.0, 44.0, 55.0, 69.0, 70.0, 71.0, 120.0, 20...</td>\n",
              "      <td>141.07</td>\n",
              "      <td>102.00%</td>\n",
              "    </tr>\n",
              "    <tr>\n",
              "      <th>Zona Oeste</th>\n",
              "      <td>128</td>\n",
              "      <td>243.60</td>\n",
              "      <td>153.0</td>\n",
              "      <td>[88.0]</td>\n",
              "      <td>289.09</td>\n",
              "      <td>118.67%</td>\n",
              "    </tr>\n",
              "    <tr>\n",
              "      <th>Zona Centro Oeste</th>\n",
              "      <td>42</td>\n",
              "      <td>174.88</td>\n",
              "      <td>121.0</td>\n",
              "      <td>[300.0]</td>\n",
              "      <td>146.83</td>\n",
              "      <td>83.96%</td>\n",
              "    </tr>\n",
              "    <tr>\n",
              "      <th>Zona Centro-Sul</th>\n",
              "      <td>122</td>\n",
              "      <td>173.40</td>\n",
              "      <td>128.0</td>\n",
              "      <td>[60.0]</td>\n",
              "      <td>135.33</td>\n",
              "      <td>78.05%</td>\n",
              "    </tr>\n",
              "  </tbody>\n",
              "</table>\n",
              "</div>\n",
              "      <button class=\"colab-df-convert\" onclick=\"convertToInteractive('df-bf616859-1c9c-4446-a598-93d258d162a3')\"\n",
              "              title=\"Convert this dataframe to an interactive table.\"\n",
              "              style=\"display:none;\">\n",
              "        \n",
              "  <svg xmlns=\"http://www.w3.org/2000/svg\" height=\"24px\"viewBox=\"0 0 24 24\"\n",
              "       width=\"24px\">\n",
              "    <path d=\"M0 0h24v24H0V0z\" fill=\"none\"/>\n",
              "    <path d=\"M18.56 5.44l.94 2.06.94-2.06 2.06-.94-2.06-.94-.94-2.06-.94 2.06-2.06.94zm-11 1L8.5 8.5l.94-2.06 2.06-.94-2.06-.94L8.5 2.5l-.94 2.06-2.06.94zm10 10l.94 2.06.94-2.06 2.06-.94-2.06-.94-.94-2.06-.94 2.06-2.06.94z\"/><path d=\"M17.41 7.96l-1.37-1.37c-.4-.4-.92-.59-1.43-.59-.52 0-1.04.2-1.43.59L10.3 9.45l-7.72 7.72c-.78.78-.78 2.05 0 2.83L4 21.41c.39.39.9.59 1.41.59.51 0 1.02-.2 1.41-.59l7.78-7.78 2.81-2.81c.8-.78.8-2.07 0-2.86zM5.41 20L4 18.59l7.72-7.72 1.47 1.35L5.41 20z\"/>\n",
              "  </svg>\n",
              "      </button>\n",
              "      \n",
              "  <style>\n",
              "    .colab-df-container {\n",
              "      display:flex;\n",
              "      flex-wrap:wrap;\n",
              "      gap: 12px;\n",
              "    }\n",
              "\n",
              "    .colab-df-convert {\n",
              "      background-color: #E8F0FE;\n",
              "      border: none;\n",
              "      border-radius: 50%;\n",
              "      cursor: pointer;\n",
              "      display: none;\n",
              "      fill: #1967D2;\n",
              "      height: 32px;\n",
              "      padding: 0 0 0 0;\n",
              "      width: 32px;\n",
              "    }\n",
              "\n",
              "    .colab-df-convert:hover {\n",
              "      background-color: #E2EBFA;\n",
              "      box-shadow: 0px 1px 2px rgba(60, 64, 67, 0.3), 0px 1px 3px 1px rgba(60, 64, 67, 0.15);\n",
              "      fill: #174EA6;\n",
              "    }\n",
              "\n",
              "    [theme=dark] .colab-df-convert {\n",
              "      background-color: #3B4455;\n",
              "      fill: #D2E3FC;\n",
              "    }\n",
              "\n",
              "    [theme=dark] .colab-df-convert:hover {\n",
              "      background-color: #434B5C;\n",
              "      box-shadow: 0px 1px 3px 1px rgba(0, 0, 0, 0.15);\n",
              "      filter: drop-shadow(0px 1px 2px rgba(0, 0, 0, 0.3));\n",
              "      fill: #FFFFFF;\n",
              "    }\n",
              "  </style>\n",
              "\n",
              "      <script>\n",
              "        const buttonEl =\n",
              "          document.querySelector('#df-bf616859-1c9c-4446-a598-93d258d162a3 button.colab-df-convert');\n",
              "        buttonEl.style.display =\n",
              "          google.colab.kernel.accessAllowed ? 'block' : 'none';\n",
              "\n",
              "        async function convertToInteractive(key) {\n",
              "          const element = document.querySelector('#df-bf616859-1c9c-4446-a598-93d258d162a3');\n",
              "          const dataTable =\n",
              "            await google.colab.kernel.invokeFunction('convertToInteractive',\n",
              "                                                     [key], {});\n",
              "          if (!dataTable) return;\n",
              "\n",
              "          const docLinkHtml = 'Like what you see? Visit the ' +\n",
              "            '<a target=\"_blank\" href=https://colab.research.google.com/notebooks/data_table.ipynb>data table notebook</a>'\n",
              "            + ' to learn more about interactive tables.';\n",
              "          element.innerHTML = '';\n",
              "          dataTable['output_type'] = 'display_data';\n",
              "          await google.colab.output.renderOutput(dataTable, element);\n",
              "          const docLink = document.createElement('div');\n",
              "          docLink.innerHTML = docLinkHtml;\n",
              "          element.appendChild(docLink);\n",
              "        }\n",
              "      </script>\n",
              "    </div>\n",
              "  </div>\n",
              "  "
            ]
          },
          "metadata": {},
          "execution_count": 338
        }
      ]
    },
    {
      "cell_type": "code",
      "source": [
        "checar_moda(moda_leste, len(df[df[\"zona\"] == \"Leste\"]))"
      ],
      "metadata": {
        "colab": {
          "base_uri": "https://localhost:8080/"
        },
        "id": "UvRDvA4-ROvo",
        "outputId": "142e7ea4-5141-4f8a-cd05-8248db75c286"
      },
      "execution_count": 339,
      "outputs": [
        {
          "output_type": "stream",
          "name": "stdout",
          "text": [
            "Nenhum valor se repete\n"
          ]
        }
      ]
    },
    {
      "cell_type": "markdown",
      "source": [
        "## Casas"
      ],
      "metadata": {
        "id": "pUDlrm7WDUhG"
      }
    },
    {
      "cell_type": "code",
      "source": [
        "pct = 100\n",
        "df_resultados_casas = pd.DataFrame([\n",
        "    (len(df_casas_norte), f'{media_casas_norte:.2f}', mediana_casas_norte, list(moda_casas_norte), f'{desvio_padrao_casas_norte:.2f}', f'{coeficiente_de_variacao_casas_norte * pct:.2f}%'),\n",
        "    (len(df_casas_sul), f'{media_casas_sul:.2f}', mediana_casas_sul, list(moda_casas_sul), f'{desvio_padrao_casas_sul:.2f}', f'{coeficiente_de_variacao_casas_sul * pct:.2f}%'),\n",
        "    (len(df_casas_sul), f'{media_casas_leste:.2f}', mediana_casas_leste, list(moda_casas_leste), f'{desvio_padrao_casas_leste:.2f}', f'{coeficiente_de_variacao_casas_leste * pct:.2f}%'),\n",
        "    (len(df_casas_oeste), f'{media_casas_oeste:.2f}', mediana_casas_oeste, list(moda_casas_oeste), f'{desvio_padrao_casas_oeste:.2f}', f'{coeficiente_de_variacao_casas_oeste * pct:.2f}%'),\n",
        "    (len(df_casas_co), f'{media_casas_co:.2f}', mediana_casas_co, list(moda_casas_co), f'{desvio_padrao_casas_co:.2f}', f'{coeficiente_de_variacao_casas_co * pct:.2f}%'),\n",
        "    (len(df_casas_cs), f'{media_casas_cs:.2f}', mediana_casas_cs, list(moda_casas_cs), f'{desvio_padrao_casas_cs:.2f}', f'{coeficiente_de_variacao_casas_cs * pct:.2f}%')],\n",
        "    index=('Zona Norte', 'Zona Sul', 'Zona Leste', 'Zona Oeste', 'Zona Centro Oeste', 'Zona Centro-Sul'),\n",
        "    columns=('Total Imóveis', 'Média', 'Mediana', 'Moda', 'Desvio Padrão', 'Coeficiente de Variação'))\n",
        "\n",
        "df_resultados_casas"
      ],
      "metadata": {
        "id": "ePaRNuC-DUhG",
        "colab": {
          "base_uri": "https://localhost:8080/",
          "height": 237
        },
        "outputId": "c60bf570-098a-4b57-9cec-187d992ac5b3"
      },
      "execution_count": 340,
      "outputs": [
        {
          "output_type": "execute_result",
          "data": {
            "text/plain": [
              "                   Total Imóveis   Média  Mediana  \\\n",
              "Zona Norte                    62  211.45    135.0   \n",
              "Zona Sul                      10  213.30    247.5   \n",
              "Zona Leste                    10  220.20    204.0   \n",
              "Zona Oeste                    78  341.46    248.0   \n",
              "Zona Centro Oeste             24  249.62    200.0   \n",
              "Zona Centro-Sul               58  218.47    161.0   \n",
              "\n",
              "                                                 Moda Desvio Padrão  \\\n",
              "Zona Norte                              [80.0, 170.0]        327.23   \n",
              "Zona Sul                                      [300.0]        110.73   \n",
              "Zona Leste         [70.0, 120.0, 204.0, 207.0, 500.0]        166.83   \n",
              "Zona Oeste                                    [170.0]        334.13   \n",
              "Zona Centro Oeste                             [300.0]        154.36   \n",
              "Zona Centro-Sul                                [70.0]        164.13   \n",
              "\n",
              "                  Coeficiente de Variação  \n",
              "Zona Norte                        154.75%  \n",
              "Zona Sul                           51.91%  \n",
              "Zona Leste                         75.76%  \n",
              "Zona Oeste                         97.85%  \n",
              "Zona Centro Oeste                  61.84%  \n",
              "Zona Centro-Sul                    75.13%  "
            ],
            "text/html": [
              "\n",
              "  <div id=\"df-74289a31-27bd-417f-a41d-5933848181f6\">\n",
              "    <div class=\"colab-df-container\">\n",
              "      <div>\n",
              "<style scoped>\n",
              "    .dataframe tbody tr th:only-of-type {\n",
              "        vertical-align: middle;\n",
              "    }\n",
              "\n",
              "    .dataframe tbody tr th {\n",
              "        vertical-align: top;\n",
              "    }\n",
              "\n",
              "    .dataframe thead th {\n",
              "        text-align: right;\n",
              "    }\n",
              "</style>\n",
              "<table border=\"1\" class=\"dataframe\">\n",
              "  <thead>\n",
              "    <tr style=\"text-align: right;\">\n",
              "      <th></th>\n",
              "      <th>Total Imóveis</th>\n",
              "      <th>Média</th>\n",
              "      <th>Mediana</th>\n",
              "      <th>Moda</th>\n",
              "      <th>Desvio Padrão</th>\n",
              "      <th>Coeficiente de Variação</th>\n",
              "    </tr>\n",
              "  </thead>\n",
              "  <tbody>\n",
              "    <tr>\n",
              "      <th>Zona Norte</th>\n",
              "      <td>62</td>\n",
              "      <td>211.45</td>\n",
              "      <td>135.0</td>\n",
              "      <td>[80.0, 170.0]</td>\n",
              "      <td>327.23</td>\n",
              "      <td>154.75%</td>\n",
              "    </tr>\n",
              "    <tr>\n",
              "      <th>Zona Sul</th>\n",
              "      <td>10</td>\n",
              "      <td>213.30</td>\n",
              "      <td>247.5</td>\n",
              "      <td>[300.0]</td>\n",
              "      <td>110.73</td>\n",
              "      <td>51.91%</td>\n",
              "    </tr>\n",
              "    <tr>\n",
              "      <th>Zona Leste</th>\n",
              "      <td>10</td>\n",
              "      <td>220.20</td>\n",
              "      <td>204.0</td>\n",
              "      <td>[70.0, 120.0, 204.0, 207.0, 500.0]</td>\n",
              "      <td>166.83</td>\n",
              "      <td>75.76%</td>\n",
              "    </tr>\n",
              "    <tr>\n",
              "      <th>Zona Oeste</th>\n",
              "      <td>78</td>\n",
              "      <td>341.46</td>\n",
              "      <td>248.0</td>\n",
              "      <td>[170.0]</td>\n",
              "      <td>334.13</td>\n",
              "      <td>97.85%</td>\n",
              "    </tr>\n",
              "    <tr>\n",
              "      <th>Zona Centro Oeste</th>\n",
              "      <td>24</td>\n",
              "      <td>249.62</td>\n",
              "      <td>200.0</td>\n",
              "      <td>[300.0]</td>\n",
              "      <td>154.36</td>\n",
              "      <td>61.84%</td>\n",
              "    </tr>\n",
              "    <tr>\n",
              "      <th>Zona Centro-Sul</th>\n",
              "      <td>58</td>\n",
              "      <td>218.47</td>\n",
              "      <td>161.0</td>\n",
              "      <td>[70.0]</td>\n",
              "      <td>164.13</td>\n",
              "      <td>75.13%</td>\n",
              "    </tr>\n",
              "  </tbody>\n",
              "</table>\n",
              "</div>\n",
              "      <button class=\"colab-df-convert\" onclick=\"convertToInteractive('df-74289a31-27bd-417f-a41d-5933848181f6')\"\n",
              "              title=\"Convert this dataframe to an interactive table.\"\n",
              "              style=\"display:none;\">\n",
              "        \n",
              "  <svg xmlns=\"http://www.w3.org/2000/svg\" height=\"24px\"viewBox=\"0 0 24 24\"\n",
              "       width=\"24px\">\n",
              "    <path d=\"M0 0h24v24H0V0z\" fill=\"none\"/>\n",
              "    <path d=\"M18.56 5.44l.94 2.06.94-2.06 2.06-.94-2.06-.94-.94-2.06-.94 2.06-2.06.94zm-11 1L8.5 8.5l.94-2.06 2.06-.94-2.06-.94L8.5 2.5l-.94 2.06-2.06.94zm10 10l.94 2.06.94-2.06 2.06-.94-2.06-.94-.94-2.06-.94 2.06-2.06.94z\"/><path d=\"M17.41 7.96l-1.37-1.37c-.4-.4-.92-.59-1.43-.59-.52 0-1.04.2-1.43.59L10.3 9.45l-7.72 7.72c-.78.78-.78 2.05 0 2.83L4 21.41c.39.39.9.59 1.41.59.51 0 1.02-.2 1.41-.59l7.78-7.78 2.81-2.81c.8-.78.8-2.07 0-2.86zM5.41 20L4 18.59l7.72-7.72 1.47 1.35L5.41 20z\"/>\n",
              "  </svg>\n",
              "      </button>\n",
              "      \n",
              "  <style>\n",
              "    .colab-df-container {\n",
              "      display:flex;\n",
              "      flex-wrap:wrap;\n",
              "      gap: 12px;\n",
              "    }\n",
              "\n",
              "    .colab-df-convert {\n",
              "      background-color: #E8F0FE;\n",
              "      border: none;\n",
              "      border-radius: 50%;\n",
              "      cursor: pointer;\n",
              "      display: none;\n",
              "      fill: #1967D2;\n",
              "      height: 32px;\n",
              "      padding: 0 0 0 0;\n",
              "      width: 32px;\n",
              "    }\n",
              "\n",
              "    .colab-df-convert:hover {\n",
              "      background-color: #E2EBFA;\n",
              "      box-shadow: 0px 1px 2px rgba(60, 64, 67, 0.3), 0px 1px 3px 1px rgba(60, 64, 67, 0.15);\n",
              "      fill: #174EA6;\n",
              "    }\n",
              "\n",
              "    [theme=dark] .colab-df-convert {\n",
              "      background-color: #3B4455;\n",
              "      fill: #D2E3FC;\n",
              "    }\n",
              "\n",
              "    [theme=dark] .colab-df-convert:hover {\n",
              "      background-color: #434B5C;\n",
              "      box-shadow: 0px 1px 3px 1px rgba(0, 0, 0, 0.15);\n",
              "      filter: drop-shadow(0px 1px 2px rgba(0, 0, 0, 0.3));\n",
              "      fill: #FFFFFF;\n",
              "    }\n",
              "  </style>\n",
              "\n",
              "      <script>\n",
              "        const buttonEl =\n",
              "          document.querySelector('#df-74289a31-27bd-417f-a41d-5933848181f6 button.colab-df-convert');\n",
              "        buttonEl.style.display =\n",
              "          google.colab.kernel.accessAllowed ? 'block' : 'none';\n",
              "\n",
              "        async function convertToInteractive(key) {\n",
              "          const element = document.querySelector('#df-74289a31-27bd-417f-a41d-5933848181f6');\n",
              "          const dataTable =\n",
              "            await google.colab.kernel.invokeFunction('convertToInteractive',\n",
              "                                                     [key], {});\n",
              "          if (!dataTable) return;\n",
              "\n",
              "          const docLinkHtml = 'Like what you see? Visit the ' +\n",
              "            '<a target=\"_blank\" href=https://colab.research.google.com/notebooks/data_table.ipynb>data table notebook</a>'\n",
              "            + ' to learn more about interactive tables.';\n",
              "          element.innerHTML = '';\n",
              "          dataTable['output_type'] = 'display_data';\n",
              "          await google.colab.output.renderOutput(dataTable, element);\n",
              "          const docLink = document.createElement('div');\n",
              "          docLink.innerHTML = docLinkHtml;\n",
              "          element.appendChild(docLink);\n",
              "        }\n",
              "      </script>\n",
              "    </div>\n",
              "  </div>\n",
              "  "
            ]
          },
          "metadata": {},
          "execution_count": 340
        }
      ]
    },
    {
      "cell_type": "markdown",
      "source": [
        "## Apartamentos"
      ],
      "metadata": {
        "id": "AMD2oHMcDUhH"
      }
    },
    {
      "cell_type": "code",
      "source": [
        "pct = 100\n",
        "df_resultados_apartamentos = pd.DataFrame([\n",
        "    (len(df_apartamentos_norte), f'{media_apartamentos_norte:.2f}', mediana_apartamentos_norte, list(moda_apartamentos_norte), f'{desvio_padrao_apartamentos_norte:.2f}', f'{coeficiente_de_variacao_apartamentos_norte * pct:.2f}%'),\n",
        "    (len(df_apartamentos_sul), f'{media_apartamentos_sul:.2f}', mediana_apartamentos_sul, list(moda_apartamentos_sul), f'{desvio_padrao_apartamentos_sul:.2f}', f'{coeficiente_de_variacao_apartamentos_sul * pct:.2f}%'),\n",
        "    (len(df_apartamentos_leste), f'{media_apartamentos_leste:.2f}', mediana_apartamentos_leste, list(moda_apartamentos_leste), f'{desvio_padrao_apartamentos_leste:.2f}', f'{coeficiente_de_variacao_apartamentos_leste * pct:.2f}%'),\n",
        "    (len(df_apartamentos_oeste), f'{media_apartamentos_oeste:.2f}', mediana_apartamentos_oeste, list(moda_apartamentos_oeste), f'{desvio_padrao_apartamentos_oeste:.2f}', f'{coeficiente_de_variacao_apartamentos_oeste * pct:.2f}%'),\n",
        "    (len(df_apartamentos_co), f'{media_apartamentos_co:.2f}', mediana_apartamentos_co, list(moda_apartamentos_co), f'{desvio_padrao_apartamentos_co:.2f}', f'{coeficiente_de_variacao_apartamentos_co * pct:.2f}%'),\n",
        "    (len(df_apartamentos_cs), f'{media_apartamentos_cs:.2f}', mediana_apartamentos_cs, list(moda_apartamentos_cs), f'{desvio_padrao_apartamentos_cs:.2f}', f'{coeficiente_de_variacao_apartamentos_cs * pct:.2f}%')],\n",
        "    index=('Zona Norte', 'Zona Sul', 'Zona Leste', 'Zona Oeste', 'Zona Centro Oeste', 'Zona Centro-Sul'),\n",
        "    columns=('Total Imóveis', 'Média', 'Mediana', 'Moda', 'Desvio Padrão', 'Coeficiente de Variação'))\n",
        "\n",
        "df_resultados_apartamentos"
      ],
      "metadata": {
        "id": "RBslPMkODUhH",
        "colab": {
          "base_uri": "https://localhost:8080/",
          "height": 237
        },
        "outputId": "8b16f528-3f3b-48c8-8b1d-a13cec32e1ae"
      },
      "execution_count": 341,
      "outputs": [
        {
          "output_type": "execute_result",
          "data": {
            "text/plain": [
              "                   Total Imóveis   Média  Mediana  \\\n",
              "Zona Norte                    11   62.18     60.0   \n",
              "Zona Sul                       5  117.80     70.0   \n",
              "Zona Leste                     5   56.40     55.0   \n",
              "Zona Oeste                    50   90.94     80.0   \n",
              "Zona Centro Oeste             18   75.22     59.5   \n",
              "Zona Centro-Sul               64  132.56    113.5   \n",
              "\n",
              "                                              Moda Desvio Padrão  \\\n",
              "Zona Norte                      [42.0, 60.0, 85.0]         19.82   \n",
              "Zona Sul           [32.0, 55.0, 70.0, 72.0, 360.0]        136.33   \n",
              "Zona Leste          [43.0, 44.0, 55.0, 69.0, 71.0]         13.30   \n",
              "Zona Oeste                           [88.0, 169.0]         46.24   \n",
              "Zona Centro Oeste               [38.0, 43.0, 56.0]         36.78   \n",
              "Zona Centro-Sul                       [60.0, 96.0]         85.09   \n",
              "\n",
              "                  Coeficiente de Variação  \n",
              "Zona Norte                         31.87%  \n",
              "Zona Sul                          115.73%  \n",
              "Zona Leste                         23.58%  \n",
              "Zona Oeste                         50.85%  \n",
              "Zona Centro Oeste                  48.89%  \n",
              "Zona Centro-Sul                    64.19%  "
            ],
            "text/html": [
              "\n",
              "  <div id=\"df-708ac2ee-2b31-4e8e-b216-95a540b0dccb\">\n",
              "    <div class=\"colab-df-container\">\n",
              "      <div>\n",
              "<style scoped>\n",
              "    .dataframe tbody tr th:only-of-type {\n",
              "        vertical-align: middle;\n",
              "    }\n",
              "\n",
              "    .dataframe tbody tr th {\n",
              "        vertical-align: top;\n",
              "    }\n",
              "\n",
              "    .dataframe thead th {\n",
              "        text-align: right;\n",
              "    }\n",
              "</style>\n",
              "<table border=\"1\" class=\"dataframe\">\n",
              "  <thead>\n",
              "    <tr style=\"text-align: right;\">\n",
              "      <th></th>\n",
              "      <th>Total Imóveis</th>\n",
              "      <th>Média</th>\n",
              "      <th>Mediana</th>\n",
              "      <th>Moda</th>\n",
              "      <th>Desvio Padrão</th>\n",
              "      <th>Coeficiente de Variação</th>\n",
              "    </tr>\n",
              "  </thead>\n",
              "  <tbody>\n",
              "    <tr>\n",
              "      <th>Zona Norte</th>\n",
              "      <td>11</td>\n",
              "      <td>62.18</td>\n",
              "      <td>60.0</td>\n",
              "      <td>[42.0, 60.0, 85.0]</td>\n",
              "      <td>19.82</td>\n",
              "      <td>31.87%</td>\n",
              "    </tr>\n",
              "    <tr>\n",
              "      <th>Zona Sul</th>\n",
              "      <td>5</td>\n",
              "      <td>117.80</td>\n",
              "      <td>70.0</td>\n",
              "      <td>[32.0, 55.0, 70.0, 72.0, 360.0]</td>\n",
              "      <td>136.33</td>\n",
              "      <td>115.73%</td>\n",
              "    </tr>\n",
              "    <tr>\n",
              "      <th>Zona Leste</th>\n",
              "      <td>5</td>\n",
              "      <td>56.40</td>\n",
              "      <td>55.0</td>\n",
              "      <td>[43.0, 44.0, 55.0, 69.0, 71.0]</td>\n",
              "      <td>13.30</td>\n",
              "      <td>23.58%</td>\n",
              "    </tr>\n",
              "    <tr>\n",
              "      <th>Zona Oeste</th>\n",
              "      <td>50</td>\n",
              "      <td>90.94</td>\n",
              "      <td>80.0</td>\n",
              "      <td>[88.0, 169.0]</td>\n",
              "      <td>46.24</td>\n",
              "      <td>50.85%</td>\n",
              "    </tr>\n",
              "    <tr>\n",
              "      <th>Zona Centro Oeste</th>\n",
              "      <td>18</td>\n",
              "      <td>75.22</td>\n",
              "      <td>59.5</td>\n",
              "      <td>[38.0, 43.0, 56.0]</td>\n",
              "      <td>36.78</td>\n",
              "      <td>48.89%</td>\n",
              "    </tr>\n",
              "    <tr>\n",
              "      <th>Zona Centro-Sul</th>\n",
              "      <td>64</td>\n",
              "      <td>132.56</td>\n",
              "      <td>113.5</td>\n",
              "      <td>[60.0, 96.0]</td>\n",
              "      <td>85.09</td>\n",
              "      <td>64.19%</td>\n",
              "    </tr>\n",
              "  </tbody>\n",
              "</table>\n",
              "</div>\n",
              "      <button class=\"colab-df-convert\" onclick=\"convertToInteractive('df-708ac2ee-2b31-4e8e-b216-95a540b0dccb')\"\n",
              "              title=\"Convert this dataframe to an interactive table.\"\n",
              "              style=\"display:none;\">\n",
              "        \n",
              "  <svg xmlns=\"http://www.w3.org/2000/svg\" height=\"24px\"viewBox=\"0 0 24 24\"\n",
              "       width=\"24px\">\n",
              "    <path d=\"M0 0h24v24H0V0z\" fill=\"none\"/>\n",
              "    <path d=\"M18.56 5.44l.94 2.06.94-2.06 2.06-.94-2.06-.94-.94-2.06-.94 2.06-2.06.94zm-11 1L8.5 8.5l.94-2.06 2.06-.94-2.06-.94L8.5 2.5l-.94 2.06-2.06.94zm10 10l.94 2.06.94-2.06 2.06-.94-2.06-.94-.94-2.06-.94 2.06-2.06.94z\"/><path d=\"M17.41 7.96l-1.37-1.37c-.4-.4-.92-.59-1.43-.59-.52 0-1.04.2-1.43.59L10.3 9.45l-7.72 7.72c-.78.78-.78 2.05 0 2.83L4 21.41c.39.39.9.59 1.41.59.51 0 1.02-.2 1.41-.59l7.78-7.78 2.81-2.81c.8-.78.8-2.07 0-2.86zM5.41 20L4 18.59l7.72-7.72 1.47 1.35L5.41 20z\"/>\n",
              "  </svg>\n",
              "      </button>\n",
              "      \n",
              "  <style>\n",
              "    .colab-df-container {\n",
              "      display:flex;\n",
              "      flex-wrap:wrap;\n",
              "      gap: 12px;\n",
              "    }\n",
              "\n",
              "    .colab-df-convert {\n",
              "      background-color: #E8F0FE;\n",
              "      border: none;\n",
              "      border-radius: 50%;\n",
              "      cursor: pointer;\n",
              "      display: none;\n",
              "      fill: #1967D2;\n",
              "      height: 32px;\n",
              "      padding: 0 0 0 0;\n",
              "      width: 32px;\n",
              "    }\n",
              "\n",
              "    .colab-df-convert:hover {\n",
              "      background-color: #E2EBFA;\n",
              "      box-shadow: 0px 1px 2px rgba(60, 64, 67, 0.3), 0px 1px 3px 1px rgba(60, 64, 67, 0.15);\n",
              "      fill: #174EA6;\n",
              "    }\n",
              "\n",
              "    [theme=dark] .colab-df-convert {\n",
              "      background-color: #3B4455;\n",
              "      fill: #D2E3FC;\n",
              "    }\n",
              "\n",
              "    [theme=dark] .colab-df-convert:hover {\n",
              "      background-color: #434B5C;\n",
              "      box-shadow: 0px 1px 3px 1px rgba(0, 0, 0, 0.15);\n",
              "      filter: drop-shadow(0px 1px 2px rgba(0, 0, 0, 0.3));\n",
              "      fill: #FFFFFF;\n",
              "    }\n",
              "  </style>\n",
              "\n",
              "      <script>\n",
              "        const buttonEl =\n",
              "          document.querySelector('#df-708ac2ee-2b31-4e8e-b216-95a540b0dccb button.colab-df-convert');\n",
              "        buttonEl.style.display =\n",
              "          google.colab.kernel.accessAllowed ? 'block' : 'none';\n",
              "\n",
              "        async function convertToInteractive(key) {\n",
              "          const element = document.querySelector('#df-708ac2ee-2b31-4e8e-b216-95a540b0dccb');\n",
              "          const dataTable =\n",
              "            await google.colab.kernel.invokeFunction('convertToInteractive',\n",
              "                                                     [key], {});\n",
              "          if (!dataTable) return;\n",
              "\n",
              "          const docLinkHtml = 'Like what you see? Visit the ' +\n",
              "            '<a target=\"_blank\" href=https://colab.research.google.com/notebooks/data_table.ipynb>data table notebook</a>'\n",
              "            + ' to learn more about interactive tables.';\n",
              "          element.innerHTML = '';\n",
              "          dataTable['output_type'] = 'display_data';\n",
              "          await google.colab.output.renderOutput(dataTable, element);\n",
              "          const docLink = document.createElement('div');\n",
              "          docLink.innerHTML = docLinkHtml;\n",
              "          element.appendChild(docLink);\n",
              "        }\n",
              "      </script>\n",
              "    </div>\n",
              "  </div>\n",
              "  "
            ]
          },
          "metadata": {},
          "execution_count": 341
        }
      ]
    },
    {
      "cell_type": "code",
      "source": [],
      "metadata": {
        "id": "jkFLidOiDUhH"
      },
      "execution_count": 341,
      "outputs": []
    },
    {
      "cell_type": "markdown",
      "source": [
        "#  🟆 Variável: Quantidade de Quartos (Quantitativa)\n",
        "\n",
        "\n",
        "---\n",
        "\n"
      ],
      "metadata": {
        "id": "eKoxidwkYD84"
      }
    },
    {
      "cell_type": "markdown",
      "source": [
        "## Medidas Gerais\n",
        "\n",
        "Medidas de todos os elementos da amostra, sem distinção de Região."
      ],
      "metadata": {
        "id": "e8NFhcY5pDgC"
      }
    },
    {
      "cell_type": "markdown",
      "source": [
        "### *Geral*"
      ],
      "metadata": {
        "id": "aSGp_5wC04Zi"
      }
    },
    {
      "cell_type": "code",
      "source": [
        "mediana = df[\"qtde_quartos\"].median()"
      ],
      "metadata": {
        "id": "00fsznAs9FkG"
      },
      "execution_count": 342,
      "outputs": []
    },
    {
      "cell_type": "code",
      "source": [
        "media = df[\"qtde_quartos\"].mean()"
      ],
      "metadata": {
        "id": "RQuR_nQ895kh"
      },
      "execution_count": 343,
      "outputs": []
    },
    {
      "cell_type": "code",
      "source": [
        "moda = df[\"qtde_quartos\"].mode()"
      ],
      "metadata": {
        "id": "3Ugxbf-N95a8"
      },
      "execution_count": 344,
      "outputs": []
    },
    {
      "cell_type": "code",
      "source": [
        "desvio_padrao = df[\"qtde_quartos\"].std()"
      ],
      "metadata": {
        "id": "Xn7Xg4Q_95O_"
      },
      "execution_count": 345,
      "outputs": []
    },
    {
      "cell_type": "code",
      "source": [
        "coeficiente_de_variacao = desvio_padrao/media"
      ],
      "metadata": {
        "id": "gnx4PRBF-Cnz"
      },
      "execution_count": 346,
      "outputs": []
    },
    {
      "cell_type": "markdown",
      "source": [
        "Resultados de cada cálculo:"
      ],
      "metadata": {
        "id": "j9zqIXdQAtUo"
      }
    },
    {
      "cell_type": "code",
      "source": [
        "print(f'Média: {media:.2f}')\n",
        "print(f'Mediana: {mediana:.0f}')\n",
        "print(f'Moda: {moda}')\n",
        "print(f'Desvio Padrão: {desvio_padrao:.2f}')\n",
        "print(f'Coeficiente de Variação: {coeficiente_de_variacao * 100:.2f}%')"
      ],
      "metadata": {
        "id": "cU6Zl9WP-xp8",
        "colab": {
          "base_uri": "https://localhost:8080/"
        },
        "outputId": "1d7cad02-332c-4f88-aef6-a7645f006be4"
      },
      "execution_count": 347,
      "outputs": [
        {
          "output_type": "stream",
          "name": "stdout",
          "text": [
            "Média: 3.00\n",
            "Mediana: 3\n",
            "Moda: 0    3\n",
            "dtype: int64\n",
            "Desvio Padrão: 0.90\n",
            "Coeficiente de Variação: 29.87%\n"
          ]
        }
      ]
    },
    {
      "cell_type": "markdown",
      "source": [
        "###*Casas*"
      ],
      "metadata": {
        "id": "dXvEabN60bFt"
      }
    },
    {
      "cell_type": "code",
      "source": [
        "len(df_casas)"
      ],
      "metadata": {
        "id": "jweO3jqD0l7T",
        "colab": {
          "base_uri": "https://localhost:8080/"
        },
        "outputId": "0d7c4577-1dd3-42d8-b33b-c8b551fbb5af"
      },
      "execution_count": 348,
      "outputs": [
        {
          "output_type": "execute_result",
          "data": {
            "text/plain": [
              "237"
            ]
          },
          "metadata": {},
          "execution_count": 348
        }
      ]
    },
    {
      "cell_type": "code",
      "source": [
        "media_casas = df_casas[\"qtde_quartos\"].mean()\n",
        "moda_casas = df_casas[\"qtde_quartos\"].mode()\n",
        "mediana_casas = df_casas[\"qtde_quartos\"].median()\n",
        "desvio_padrao_casas = df_casas[\"qtde_quartos\"].std()\n",
        "coeficiente_de_variacao_casas = desvio_padrao_casas/media_casas"
      ],
      "metadata": {
        "id": "QfH9FlZl1Ff_"
      },
      "execution_count": 349,
      "outputs": []
    },
    {
      "cell_type": "markdown",
      "source": [
        "###*Apartamentos*"
      ],
      "metadata": {
        "id": "02FaDHgV0dFE"
      }
    },
    {
      "cell_type": "code",
      "source": [
        "len(df_apartamentos)"
      ],
      "metadata": {
        "id": "nYaEO6rIEz57",
        "colab": {
          "base_uri": "https://localhost:8080/"
        },
        "outputId": "303476b9-79a1-467b-bd20-539c065373e6"
      },
      "execution_count": 350,
      "outputs": [
        {
          "output_type": "execute_result",
          "data": {
            "text/plain": [
              "153"
            ]
          },
          "metadata": {},
          "execution_count": 350
        }
      ]
    },
    {
      "cell_type": "code",
      "source": [
        "media_apartamentos = df_apartamentos[\"qtde_quartos\"].mean()\n",
        "moda_apartamentos = df_apartamentos[\"qtde_quartos\"].mode()\n",
        "mediana_apartamentos = df_apartamentos[\"qtde_quartos\"].median()\n",
        "desvio_padrao_apartamentos = df_apartamentos[\"qtde_quartos\"].std()\n",
        "coeficiente_de_variacao_apartamentos = desvio_padrao_apartamentos/media_apartamentos\n",
        "coeficiente_porcentagem_apartamentos = coeficiente_de_variacao_apartamentos * 100"
      ],
      "metadata": {
        "id": "m3jK7mYx2xVp"
      },
      "execution_count": 351,
      "outputs": []
    },
    {
      "cell_type": "code",
      "source": [
        "print(f'Média: {media_apartamentos:.2f}')\n",
        "print(f'Mediana: {mediana_apartamentos:.0f}')\n",
        "print(f'Moda: {moda_apartamentos}')\n",
        "print(f'Desvio Padrão: {desvio_padrao_apartamentos:.2f}')\n",
        "print(f'Coeficiente de Variação: {coeficiente_porcentagem_apartamentos:.2f}%')"
      ],
      "metadata": {
        "id": "S6QNW86O2xKQ",
        "colab": {
          "base_uri": "https://localhost:8080/"
        },
        "outputId": "5491b6a0-2bae-4e08-8435-0ab558990dd8"
      },
      "execution_count": 352,
      "outputs": [
        {
          "output_type": "stream",
          "name": "stdout",
          "text": [
            "Média: 2.74\n",
            "Mediana: 3\n",
            "Moda: 0    3\n",
            "dtype: int64\n",
            "Desvio Padrão: 0.76\n",
            "Coeficiente de Variação: 27.71%\n"
          ]
        }
      ]
    },
    {
      "cell_type": "markdown",
      "source": [
        "## Região Norte"
      ],
      "metadata": {
        "id": "YdWRMs4S-yfq"
      }
    },
    {
      "cell_type": "markdown",
      "source": [
        "### *Medidas Gerais*"
      ],
      "metadata": {
        "id": "SBVTBIgTwmWb"
      }
    },
    {
      "cell_type": "code",
      "source": [
        "len(df_norte)"
      ],
      "metadata": {
        "id": "emcwh0chpVhF",
        "colab": {
          "base_uri": "https://localhost:8080/"
        },
        "outputId": "08b84d73-de65-405d-9bb6-d7e3085d6d52"
      },
      "execution_count": 353,
      "outputs": [
        {
          "output_type": "execute_result",
          "data": {
            "text/plain": [
              "73"
            ]
          },
          "metadata": {},
          "execution_count": 353
        }
      ]
    },
    {
      "cell_type": "code",
      "source": [
        "media_norte = df_norte[\"qtde_quartos\"].mean()"
      ],
      "metadata": {
        "id": "BGJrbMP1ujNn"
      },
      "execution_count": 354,
      "outputs": []
    },
    {
      "cell_type": "code",
      "source": [
        "mediana_norte = df_norte[\"qtde_quartos\"].median()"
      ],
      "metadata": {
        "id": "YbiQluruuyRF"
      },
      "execution_count": 355,
      "outputs": []
    },
    {
      "cell_type": "code",
      "source": [
        "moda_norte = df_norte[\"qtde_quartos\"].mode()"
      ],
      "metadata": {
        "id": "uMVh7SYju4im"
      },
      "execution_count": 356,
      "outputs": []
    },
    {
      "cell_type": "code",
      "source": [
        "desvio_padrao_norte = df_norte[\"qtde_quartos\"].std()"
      ],
      "metadata": {
        "id": "L0mF6-O1u6KE"
      },
      "execution_count": 357,
      "outputs": []
    },
    {
      "cell_type": "code",
      "source": [
        "coeficiente_de_variacao_norte = desvio_padrao_norte/media_norte"
      ],
      "metadata": {
        "id": "s8fvZHx5vFfm"
      },
      "execution_count": 358,
      "outputs": []
    },
    {
      "cell_type": "code",
      "source": [
        "print(\"MEDIDAS GERAIS DA VARIÁVEL 'QUANTIDADE DE QUARTOS' DA REGIÃO NORTE\")\n",
        "print(f\"Média: {media_norte:.2f}\")\n",
        "print(f\"Mediana: {mediana_norte:.0f}\")\n",
        "print(f\"Moda: {moda_norte}\")\n",
        "print(f\"Desvio Padrão: {desvio_padrao_norte:.2f}\")\n",
        "print(f\"Coeficiente de Variação: {coeficiente_de_variacao_norte * 100:.2f}%\")"
      ],
      "metadata": {
        "id": "TeoBzx3xvMnQ",
        "colab": {
          "base_uri": "https://localhost:8080/"
        },
        "outputId": "d6d672fc-3c02-4129-c80b-7b1b468cf829"
      },
      "execution_count": 359,
      "outputs": [
        {
          "output_type": "stream",
          "name": "stdout",
          "text": [
            "MEDIDAS GERAIS DA VARIÁVEL 'QUANTIDADE DE QUARTOS' DA REGIÃO NORTE\n",
            "Média: 2.84\n",
            "Mediana: 3\n",
            "Moda: 0    3\n",
            "dtype: int64\n",
            "Desvio Padrão: 0.88\n",
            "Coeficiente de Variação: 31.11%\n"
          ]
        }
      ]
    },
    {
      "cell_type": "markdown",
      "source": [
        "###*Casas*\n",
        "\n",
        "Aproximadamente 67,5% de todos os imóveis disponíveis na *Região Norte*"
      ],
      "metadata": {
        "id": "wRdqPXFyq0gs"
      }
    },
    {
      "cell_type": "code",
      "source": [
        "len(df_casas_norte)"
      ],
      "metadata": {
        "id": "F-aujYXFqyQr",
        "colab": {
          "base_uri": "https://localhost:8080/"
        },
        "outputId": "dfd2367b-d824-415a-cb17-6fc817e070bc"
      },
      "execution_count": 360,
      "outputs": [
        {
          "output_type": "execute_result",
          "data": {
            "text/plain": [
              "62"
            ]
          },
          "metadata": {},
          "execution_count": 360
        }
      ]
    },
    {
      "cell_type": "code",
      "source": [
        "media_casas_norte = df_casas_norte[\"qtde_quartos\"].mean()"
      ],
      "metadata": {
        "id": "q06RevryrMhQ"
      },
      "execution_count": 361,
      "outputs": []
    },
    {
      "cell_type": "code",
      "source": [
        "mediana_casas_norte = df_casas_norte[\"qtde_quartos\"].median()"
      ],
      "metadata": {
        "id": "_zIo6KA2rqkC"
      },
      "execution_count": 362,
      "outputs": []
    },
    {
      "cell_type": "code",
      "source": [
        "moda_casas_norte = df_casas_norte[\"qtde_quartos\"].mode()"
      ],
      "metadata": {
        "id": "CE4ON1O6r6a9"
      },
      "execution_count": 363,
      "outputs": []
    },
    {
      "cell_type": "code",
      "source": [
        "desvio_padrao_casas_norte = df_casas_norte[\"qtde_quartos\"].std()"
      ],
      "metadata": {
        "id": "v7nB1sywr8-1"
      },
      "execution_count": 364,
      "outputs": []
    },
    {
      "cell_type": "code",
      "source": [
        "coeficiente_de_variacao_casas_norte = desvio_padrao_casas_norte/media_casas_norte"
      ],
      "metadata": {
        "id": "YSsmw1-ZsPSj"
      },
      "execution_count": 365,
      "outputs": []
    },
    {
      "cell_type": "code",
      "source": [
        "print(\"MEDIDAS DA 'QUANTIDADE DE QUARTOS' DAS CASAS DA REGIÃO NORTE\")\n",
        "print(f\"Média: {media_casas_norte:.2f}\")\n",
        "printModa(moda_casas_norte)\n",
        "print(f\"Mediana: {mediana_casas_norte:.0f}\")\n",
        "print(f\"Desvio Padrão: {desvio_padrao_casas_norte:.2f}\")\n",
        "print(f\"Coeficiente de Variação: {coeficiente_de_variacao_casas_norte * 100:.2f}%\")"
      ],
      "metadata": {
        "id": "FxDtAMOR20jM",
        "colab": {
          "base_uri": "https://localhost:8080/"
        },
        "outputId": "e8757708-c457-4e01-c225-e0a39184f042"
      },
      "execution_count": 366,
      "outputs": [
        {
          "output_type": "stream",
          "name": "stdout",
          "text": [
            "MEDIDAS DA 'QUANTIDADE DE QUARTOS' DAS CASAS DA REGIÃO NORTE\n",
            "Média: 2.92\n",
            "Moda: \n",
            "3\n",
            "Mediana: 3\n",
            "Desvio Padrão: 0.91\n",
            "Coeficiente de Variação: 31.20%\n"
          ]
        }
      ]
    },
    {
      "cell_type": "markdown",
      "source": [
        "### *Apartamentos*\n",
        "\n",
        "Aproximadamente 32,5% de todos os imóveis disponíveis na *Região Norte*"
      ],
      "metadata": {
        "id": "QwBXulgSstdl"
      }
    },
    {
      "cell_type": "code",
      "source": [
        "len(df_apartamentos_norte)"
      ],
      "metadata": {
        "id": "tgU3k2fbswy0",
        "colab": {
          "base_uri": "https://localhost:8080/"
        },
        "outputId": "72f13453-ee6a-4a5c-e3e7-49a9e9dabe86"
      },
      "execution_count": 367,
      "outputs": [
        {
          "output_type": "execute_result",
          "data": {
            "text/plain": [
              "11"
            ]
          },
          "metadata": {},
          "execution_count": 367
        }
      ]
    },
    {
      "cell_type": "code",
      "source": [
        "media_apartamentos_norte= df_apartamentos_norte[\"qtde_quartos\"].mean()\n",
        "mediana_apartamentos_norte= df_apartamentos_norte[\"qtde_quartos\"].median()\n",
        "moda_apartamentos_norte= df_apartamentos_norte[\"qtde_quartos\"].mode()\n",
        "desvio_padrao_apartamentos_norte= df_apartamentos_norte[\"qtde_quartos\"].std()\n",
        "coeficiente_de_variacao_apartamentos_norte= desvio_padrao_apartamentos_norte/media_apartamentos_norte"
      ],
      "metadata": {
        "id": "Mkbm86b2tnKd"
      },
      "execution_count": 368,
      "outputs": []
    },
    {
      "cell_type": "code",
      "source": [
        "print(\"MEDIDAS DA 'QUANTIDADE DE QUARTOS' DOS APARTAMENTOS DA REGIÃO NORTE\")\n",
        "print(f\"Média: {media_apartamentos_norte:.2f}\")\n",
        "print(f\"Moda: {moda_apartamentos_norte}\")\n",
        "print(f\"Mediana: {mediana_apartamentos_norte:.0f}\")\n",
        "print(f\"Desvio Padrão: {desvio_padrao_casas_norte:.2f}\")\n",
        "print(f\"Coeficiente de Variação: {coeficiente_de_variacao_casas_norte * 100:.2f}%\")"
      ],
      "metadata": {
        "id": "TUpiKRfo3b3G",
        "colab": {
          "base_uri": "https://localhost:8080/"
        },
        "outputId": "04b5ba84-e69b-4a43-d73e-8a7d611f4ceb"
      },
      "execution_count": 369,
      "outputs": [
        {
          "output_type": "stream",
          "name": "stdout",
          "text": [
            "MEDIDAS DA 'QUANTIDADE DE QUARTOS' DOS APARTAMENTOS DA REGIÃO NORTE\n",
            "Média: 2.36\n",
            "Moda: 0    2\n",
            "dtype: int64\n",
            "Mediana: 2\n",
            "Desvio Padrão: 0.91\n",
            "Coeficiente de Variação: 31.20%\n"
          ]
        }
      ]
    },
    {
      "cell_type": "markdown",
      "source": [
        "## Região Sul"
      ],
      "metadata": {
        "id": "ePnI5rhu4PCd"
      }
    },
    {
      "cell_type": "markdown",
      "source": [
        "### *Medidas Gerais*"
      ],
      "metadata": {
        "id": "dfxd3UMb4Vd8"
      }
    },
    {
      "cell_type": "code",
      "source": [
        "len(df_sul)"
      ],
      "metadata": {
        "id": "GbR0Vnp84kVQ",
        "colab": {
          "base_uri": "https://localhost:8080/"
        },
        "outputId": "15246038-77d5-4da9-9673-42837137437c"
      },
      "execution_count": 370,
      "outputs": [
        {
          "output_type": "execute_result",
          "data": {
            "text/plain": [
              "15"
            ]
          },
          "metadata": {},
          "execution_count": 370
        }
      ]
    },
    {
      "cell_type": "code",
      "source": [
        "media_sul = df_sul[\"qtde_quartos\"].mean()\n",
        "mediana_sul = df_sul[\"qtde_quartos\"].median()\n",
        "moda_sul = df_sul[\"qtde_quartos\"].mode()\n",
        "desvio_padrao_sul = df_sul[\"qtde_quartos\"].std()\n",
        "coeficiente_de_variacao_sul = desvio_padrao_sul/media_sul"
      ],
      "metadata": {
        "id": "eASVP9JwNWkb"
      },
      "execution_count": 371,
      "outputs": []
    },
    {
      "cell_type": "code",
      "source": [
        "print(\"MEDIDAS DA VARIAVEL 'QUANTIDADE DE QUARTOS' DA REGIÃO SUL\")\n",
        "print(f\"Média: {media_sul:.0f}\")\n",
        "print(f\"Moda: {moda_sul}\")\n",
        "print(f\"Mediana: {mediana_sul:.0f}\")\n",
        "print(f\"Desvio Padrão:  {desvio_padrao_sul:.2f}\")\n",
        "print(f\"Coeficiente de variação:  {coeficiente_de_variacao_sul *100:.2f}%\")"
      ],
      "metadata": {
        "id": "4WCVn0QZN5bR",
        "colab": {
          "base_uri": "https://localhost:8080/"
        },
        "outputId": "faabfeb2-4e7a-4308-8b91-182298e35107"
      },
      "execution_count": 372,
      "outputs": [
        {
          "output_type": "stream",
          "name": "stdout",
          "text": [
            "MEDIDAS DA VARIAVEL 'QUANTIDADE DE QUARTOS' DA REGIÃO SUL\n",
            "Média: 3\n",
            "Moda: 0    3\n",
            "dtype: int64\n",
            "Mediana: 3\n",
            "Desvio Padrão:  1.06\n",
            "Coeficiente de variação:  36.98%\n"
          ]
        }
      ]
    },
    {
      "cell_type": "markdown",
      "source": [
        "### *Casas*"
      ],
      "metadata": {
        "id": "bRgC-mA34Xa0"
      }
    },
    {
      "cell_type": "code",
      "source": [
        "len(df_casas_sul)"
      ],
      "metadata": {
        "id": "kC6KuIK14jpX",
        "colab": {
          "base_uri": "https://localhost:8080/"
        },
        "outputId": "cd7338fd-355e-4093-ee8a-bcd2b0d9c9e2"
      },
      "execution_count": 373,
      "outputs": [
        {
          "output_type": "execute_result",
          "data": {
            "text/plain": [
              "10"
            ]
          },
          "metadata": {},
          "execution_count": 373
        }
      ]
    },
    {
      "cell_type": "code",
      "source": [
        "media_casas_sul = df_casas_sul[\"qtde_quartos\"].mean()\n",
        "moda_casas_sul = df_casas_sul[\"qtde_quartos\"].mode()\n",
        "mediana_casas_sul = df_casas_sul[\"qtde_quartos\"].median()\n",
        "desvio_padrao_casas_sul = df_casas_sul[\"qtde_quartos\"].std()\n",
        "coeficiente_de_variacao_casas_sul = desvio_padrao_casas_sul/media_casas_sul"
      ],
      "metadata": {
        "id": "5c21MRiAQ_g0"
      },
      "execution_count": 374,
      "outputs": []
    },
    {
      "cell_type": "code",
      "source": [
        "print(\"MEDIDAS DA VARIAVEL 'QUANTIDADE DE QUARTOS'DAS CASAS DA REGIÃO SUL\")\n",
        "print(f\"Média: {media_casas_sul:.2f}\")\n",
        "printModa(moda_casas_sul)\n",
        "print(f\"Mediana: {mediana_casas_sul:.0f}\")\n",
        "print(f\"Desvio Padrão:  {desvio_padrao_casas_sul:.2f}\")\n",
        "print(f\"Coeficiente de variação:  {coeficiente_de_variacao_casas_sul *100:.2f}%\")"
      ],
      "metadata": {
        "id": "6fPQXOH8RfBg",
        "colab": {
          "base_uri": "https://localhost:8080/"
        },
        "outputId": "776eddc6-4cd7-4d37-bb3a-8b25aeb74fda"
      },
      "execution_count": 375,
      "outputs": [
        {
          "output_type": "stream",
          "name": "stdout",
          "text": [
            "MEDIDAS DA VARIAVEL 'QUANTIDADE DE QUARTOS'DAS CASAS DA REGIÃO SUL\n",
            "Média: 3.10\n",
            "Moda: \n",
            "3\n",
            "Mediana: 3\n",
            "Desvio Padrão:  0.88\n",
            "Coeficiente de variação:  28.25%\n"
          ]
        }
      ]
    },
    {
      "cell_type": "markdown",
      "source": [
        "### *Apartamentos*"
      ],
      "metadata": {
        "id": "woRPYbe24ZJz"
      }
    },
    {
      "cell_type": "code",
      "source": [
        "len(df_apartamentos_co)"
      ],
      "metadata": {
        "id": "_WvQdlw534t4",
        "colab": {
          "base_uri": "https://localhost:8080/"
        },
        "outputId": "b429bb1b-27ba-4690-f6a2-8946664e78c3"
      },
      "execution_count": 376,
      "outputs": [
        {
          "output_type": "execute_result",
          "data": {
            "text/plain": [
              "18"
            ]
          },
          "metadata": {},
          "execution_count": 376
        }
      ]
    },
    {
      "cell_type": "code",
      "source": [
        "media_apartamentos_sul = df_apartamentos_sul[\"qtde_quartos\"].mean()\n",
        "moda_apartamentos_sul = df_apartamentos_sul[\"qtde_quartos\"].mode()\n",
        "mediana_apartamentos_sul = df_apartamentos_sul[\"qtde_quartos\"].median()\n",
        "desvio_padrao_apartamentos_sul = df_apartamentos_sul[\"qtde_quartos\"].std()\n",
        "coeficiente_de_variacao_apartamentos_sul = desvio_padrao_apartamentos_sul/media_apartamentos_sul"
      ],
      "metadata": {
        "id": "FT7PdHarIOSe"
      },
      "execution_count": 377,
      "outputs": []
    },
    {
      "cell_type": "code",
      "source": [
        "print(\"MEDIDAS DA VARIAVEL 'QUANTIDADE DE QUARTOS' DA REGIÃO SUL\")\n",
        "print(f\"Média: {media_apartamentos_sul:.2f}\")\n",
        "printModa(moda_apartamentos_sul)\n",
        "print(f\"Mediana: {mediana_apartamentos_sul:.0f}\")\n",
        "print(f\"Desvio Padrão:  {desvio_padrao_apartamentos_sul:.2f}\")\n",
        "print(f\"Coeficiente de variação:  {coeficiente_de_variacao_apartamentos_sul *100:.2f}%\")"
      ],
      "metadata": {
        "id": "zO11GS-GJmKS",
        "colab": {
          "base_uri": "https://localhost:8080/"
        },
        "outputId": "21620ce6-aa06-4724-a5cd-0cac760e1ab5"
      },
      "execution_count": 378,
      "outputs": [
        {
          "output_type": "stream",
          "name": "stdout",
          "text": [
            "MEDIDAS DA VARIAVEL 'QUANTIDADE DE QUARTOS' DA REGIÃO SUL\n",
            "Média: 2.40\n",
            "Moda: \n",
            "1\n",
            "3\n",
            "Mediana: 3\n",
            "Desvio Padrão:  1.34\n",
            "Coeficiente de variação:  55.90%\n"
          ]
        }
      ]
    },
    {
      "cell_type": "markdown",
      "source": [
        "## Região Leste"
      ],
      "metadata": {
        "id": "I5sYxBBg4wwZ"
      }
    },
    {
      "cell_type": "markdown",
      "source": [
        "### *Medidas Gerais*"
      ],
      "metadata": {
        "id": "Znlq7iSi41Nu"
      }
    },
    {
      "cell_type": "code",
      "source": [
        "len(df_leste)"
      ],
      "metadata": {
        "id": "c3lC6TbiNMXN",
        "colab": {
          "base_uri": "https://localhost:8080/"
        },
        "outputId": "4be78d29-67d5-42ea-e6aa-823fd0a2a488"
      },
      "execution_count": 379,
      "outputs": [
        {
          "output_type": "execute_result",
          "data": {
            "text/plain": [
              "10"
            ]
          },
          "metadata": {},
          "execution_count": 379
        }
      ]
    },
    {
      "cell_type": "code",
      "source": [
        "media_leste = df_leste[\"qtde_quartos\"].mean()\n",
        "moda_leste = df_leste[\"qtde_quartos\"].mode()\n",
        "mediana_leste = df_leste[\"qtde_quartos\"].median()\n",
        "desvio_padrao_leste = df_leste[\"qtde_quartos\"].std()\n",
        "coeficiente_de_variacao_leste = desvio_padrao_leste/media_leste"
      ],
      "metadata": {
        "id": "MO16s-32QGCK"
      },
      "execution_count": 380,
      "outputs": []
    },
    {
      "cell_type": "code",
      "source": [
        "print(\"MEDIDAS DA VARIAVEL 'QUANTIDADE DE QUARTOS' DA REGIÃO LESTE\")\n",
        "print(f\"Média: {media_leste:.2f}\")\n",
        "printModa(moda_leste)\n",
        "print(f\"Mediana: {mediana_leste:.0f}\")\n",
        "print(f\"Desvio Padrão:  {desvio_padrao_leste:.2f}%\")\n",
        "print(f\"Coeficiente de variação:  {coeficiente_de_variacao_leste *100:.2f}%\")"
      ],
      "metadata": {
        "id": "qj8nzCDe41Nu",
        "colab": {
          "base_uri": "https://localhost:8080/"
        },
        "outputId": "66bd44e9-7a89-410a-ddfc-65bc9fa6709e"
      },
      "execution_count": 381,
      "outputs": [
        {
          "output_type": "stream",
          "name": "stdout",
          "text": [
            "MEDIDAS DA VARIAVEL 'QUANTIDADE DE QUARTOS' DA REGIÃO LESTE\n",
            "Média: 2.90\n",
            "Moda: \n",
            "2\n",
            "3\n",
            "Mediana: 3\n",
            "Desvio Padrão:  0.99%\n",
            "Coeficiente de variação:  34.29%\n"
          ]
        }
      ]
    },
    {
      "cell_type": "markdown",
      "source": [
        "### *Casas*"
      ],
      "metadata": {
        "id": "Dz1LbG0C41Nv"
      }
    },
    {
      "cell_type": "code",
      "source": [
        "len(df_casas_leste)"
      ],
      "metadata": {
        "id": "eKUPIvzDQ2ri",
        "colab": {
          "base_uri": "https://localhost:8080/"
        },
        "outputId": "40f82a8e-0621-4627-e258-d1eaf67a5247"
      },
      "execution_count": 382,
      "outputs": [
        {
          "output_type": "execute_result",
          "data": {
            "text/plain": [
              "5"
            ]
          },
          "metadata": {},
          "execution_count": 382
        }
      ]
    },
    {
      "cell_type": "code",
      "source": [
        "media_casas_leste = df_casas_leste[\"qtde_quartos\"].mean()\n",
        "moda_casas_leste = df_casas_leste[\"qtde_quartos\"].mode()\n",
        "mediana_casas_leste = df_casas_leste[\"qtde_quartos\"].median()\n",
        "desvio_padrao_casas_leste = df_casas_leste[\"qtde_quartos\"].std()\n",
        "coeficiente_de_variacao_casas_leste = desvio_padrao_casas_leste/media_casas_leste"
      ],
      "metadata": {
        "id": "RuhkKpDbSlJA"
      },
      "execution_count": 383,
      "outputs": []
    },
    {
      "cell_type": "code",
      "source": [
        "print(\"MEDIDAS DA VARIAVEL 'QUANTIDADE DE QUARTOS' DAS CASAS DA REGIÃO SUL\")\n",
        "print(f\"Média: {media_casas_leste:.1f}\")\n",
        "printModa(moda_casas_leste)\n",
        "print(f\"Mediana: {mediana_casas_leste:.0f}\")\n",
        "print(f\"Desvio Padrão:  {desvio_padrao_casas_leste:.2f}\")\n",
        "print(f\"Coeficiente de variação:  {coeficiente_de_variacao_casas_leste *100:.2f}%\")"
      ],
      "metadata": {
        "id": "0YdGNcN941Nv",
        "colab": {
          "base_uri": "https://localhost:8080/"
        },
        "outputId": "06da966d-8146-41d4-cc92-44658222338a"
      },
      "execution_count": 384,
      "outputs": [
        {
          "output_type": "stream",
          "name": "stdout",
          "text": [
            "MEDIDAS DA VARIAVEL 'QUANTIDADE DE QUARTOS' DAS CASAS DA REGIÃO SUL\n",
            "Média: 3.4\n",
            "Moda: \n",
            "3\n",
            "Mediana: 3\n",
            "Desvio Padrão:  1.14\n",
            "Coeficiente de variação:  33.53%\n"
          ]
        }
      ]
    },
    {
      "cell_type": "markdown",
      "source": [
        "### *Apartamentos*"
      ],
      "metadata": {
        "id": "n_2XqHuS41Nv"
      }
    },
    {
      "cell_type": "code",
      "source": [
        "len(df_apartamentos_leste)"
      ],
      "metadata": {
        "id": "MZbknWv4TJFk",
        "colab": {
          "base_uri": "https://localhost:8080/"
        },
        "outputId": "ea8f7f30-440e-43c4-e330-9735116b222c"
      },
      "execution_count": 385,
      "outputs": [
        {
          "output_type": "execute_result",
          "data": {
            "text/plain": [
              "5"
            ]
          },
          "metadata": {},
          "execution_count": 385
        }
      ]
    },
    {
      "cell_type": "code",
      "source": [
        "media_apartamentos_leste = df_apartamentos_leste[\"qtde_quartos\"].mean()\n",
        "moda_apartamentos_leste = df_apartamentos_leste[\"qtde_quartos\"].mode()\n",
        "mediana_apartamentos_leste = df_apartamentos_leste[\"qtde_quartos\"].median()\n",
        "desvio_padrao_apartamentos_leste = df_apartamentos_leste[\"qtde_quartos\"].std()\n",
        "coeficiente_de_variacao_apartamentos_leste = desvio_padrao_apartamentos_leste/media_apartamentos_leste"
      ],
      "metadata": {
        "id": "AI85dl-WTI30"
      },
      "execution_count": 386,
      "outputs": []
    },
    {
      "cell_type": "code",
      "source": [
        "print(\"MEDIDAS DA VARIAVEL 'QUANTIDADE DE QUARTOS' DOS APARTAMENTOS DA REGIÃO LESTE\")\n",
        "print(f\"Média: {media_apartamentos_leste:.1f}\")\n",
        "printModa(moda_apartamentos_leste)\n",
        "print(f\"Mediana: {mediana_apartamentos_leste:.0f}\")\n",
        "print(f\"Desvio Padrão:  {desvio_padrao_apartamentos_leste:.2f}\")\n",
        "print(f\"Coeficiente de variação:  {coeficiente_de_variacao_apartamentos_leste *100:.2f}%\")"
      ],
      "metadata": {
        "id": "YKBjol_r41Nv",
        "colab": {
          "base_uri": "https://localhost:8080/"
        },
        "outputId": "6f7b530c-b7c4-4dfc-ee2e-7d042aebb391"
      },
      "execution_count": 387,
      "outputs": [
        {
          "output_type": "stream",
          "name": "stdout",
          "text": [
            "MEDIDAS DA VARIAVEL 'QUANTIDADE DE QUARTOS' DOS APARTAMENTOS DA REGIÃO LESTE\n",
            "Média: 2.4\n",
            "Moda: \n",
            "2\n",
            "Mediana: 2\n",
            "Desvio Padrão:  0.55\n",
            "Coeficiente de variação:  22.82%\n"
          ]
        }
      ]
    },
    {
      "cell_type": "code",
      "source": [],
      "metadata": {
        "id": "ZaDHyGA2WR96"
      },
      "execution_count": 387,
      "outputs": []
    },
    {
      "cell_type": "markdown",
      "source": [
        "## Região Oeste"
      ],
      "metadata": {
        "id": "h_kWIgsz41Nt"
      }
    },
    {
      "cell_type": "markdown",
      "source": [
        "### *Medidas Gerais*"
      ],
      "metadata": {
        "id": "HekEOnT74wwa"
      }
    },
    {
      "cell_type": "code",
      "source": [
        "len(df_oeste)"
      ],
      "metadata": {
        "id": "hhd-sf_hbjhW",
        "colab": {
          "base_uri": "https://localhost:8080/"
        },
        "outputId": "ca9eec60-9473-447f-aa29-1adac9732b00"
      },
      "execution_count": 388,
      "outputs": [
        {
          "output_type": "execute_result",
          "data": {
            "text/plain": [
              "128"
            ]
          },
          "metadata": {},
          "execution_count": 388
        }
      ]
    },
    {
      "cell_type": "code",
      "source": [
        "media_oeste = df_oeste[\"qtde_quartos\"].mean()\n",
        "moda_oeste = df_oeste[\"qtde_quartos\"].mode()\n",
        "mediana_oeste = df_oeste[\"qtde_quartos\"].median()\n",
        "desvio_padrao_oeste = df_oeste[\"qtde_quartos\"].std()\n",
        "coeficiente_de_variacao_oeste = desvio_padrao_oeste/media_oeste"
      ],
      "metadata": {
        "id": "SMaBcrr5bjSG"
      },
      "execution_count": 389,
      "outputs": []
    },
    {
      "cell_type": "code",
      "source": [
        "print(\"MEDIDAS DA VARIAVEL 'QUANTIDADE DE QUARTOS' DA REGIÃO OESTE\")\n",
        "print(f\"Média: {media_oeste:.1f}\")\n",
        "printModa(moda_oeste)\n",
        "print(f\"Mediana: {mediana_oeste:.0f}\")\n",
        "print(f\"Desvio Padrão:  {desvio_padrao_oeste:.2f}\")\n",
        "print(f\"Coeficiente de variação:  {coeficiente_de_variacao_oeste *100:.2f}%\")"
      ],
      "metadata": {
        "id": "_1ItFGvE4wwb",
        "colab": {
          "base_uri": "https://localhost:8080/"
        },
        "outputId": "ae36c4e3-0a84-4882-b369-20d5d4c5a5c5"
      },
      "execution_count": 390,
      "outputs": [
        {
          "output_type": "stream",
          "name": "stdout",
          "text": [
            "MEDIDAS DA VARIAVEL 'QUANTIDADE DE QUARTOS' DA REGIÃO OESTE\n",
            "Média: 3.1\n",
            "Moda: \n",
            "3\n",
            "Mediana: 3\n",
            "Desvio Padrão:  0.84\n",
            "Coeficiente de variação:  26.89%\n"
          ]
        }
      ]
    },
    {
      "cell_type": "markdown",
      "source": [
        "### *Casas*"
      ],
      "metadata": {
        "id": "5DwQeBYO4wwc"
      }
    },
    {
      "cell_type": "code",
      "source": [
        "len(df_casas_oeste)"
      ],
      "metadata": {
        "id": "kEuJs9KlcVPn",
        "colab": {
          "base_uri": "https://localhost:8080/"
        },
        "outputId": "3bc9e49f-eb86-4dbc-b3d0-c703711294a7"
      },
      "execution_count": 391,
      "outputs": [
        {
          "output_type": "execute_result",
          "data": {
            "text/plain": [
              "78"
            ]
          },
          "metadata": {},
          "execution_count": 391
        }
      ]
    },
    {
      "cell_type": "code",
      "source": [
        "media_casas_oeste = df_casas_oeste[\"qtde_quartos\"].mean()\n",
        "moda_casas_oeste = df_casas_oeste[\"qtde_quartos\"].mode()\n",
        "mediana_casas_oeste = df_casas_oeste[\"qtde_quartos\"].median()\n",
        "desvio_padrao_casas_oeste = df_casas_oeste[\"qtde_quartos\"].std()\n",
        "coeficiente_de_variacao_casas_oeste = desvio_padrao_casas_oeste/media_casas_oeste"
      ],
      "metadata": {
        "id": "EOskvlnNcVC3"
      },
      "execution_count": 392,
      "outputs": []
    },
    {
      "cell_type": "code",
      "source": [
        "print(\"MEDIDAS DA VARIAVEL 'QUANTIDADE DE QUARTOS' DAS CASAS DA REGIÃO OESTE\")\n",
        "print(f\"Média: {media_casas_oeste:.1f}\")\n",
        "printModa(moda_casas_oeste)\n",
        "print(f\"Mediana: {mediana_casas_oeste:.0f}\")\n",
        "print(f\"Desvio Padrão:  {desvio_padrao_casas_oeste:.2f}\")\n",
        "print(f\"Coeficiente de variação:  {coeficiente_de_variacao_casas_oeste *100:.2f}%\")"
      ],
      "metadata": {
        "id": "PMN_7ToR4wwc",
        "colab": {
          "base_uri": "https://localhost:8080/"
        },
        "outputId": "5b375ac3-6e1c-47db-822b-5d4f664be1bb"
      },
      "execution_count": 393,
      "outputs": [
        {
          "output_type": "stream",
          "name": "stdout",
          "text": [
            "MEDIDAS DA VARIAVEL 'QUANTIDADE DE QUARTOS' DAS CASAS DA REGIÃO OESTE\n",
            "Média: 3.4\n",
            "Moda: \n",
            "3\n",
            "Mediana: 3\n",
            "Desvio Padrão:  0.84\n",
            "Coeficiente de variação:  24.80%\n"
          ]
        }
      ]
    },
    {
      "cell_type": "markdown",
      "source": [
        "### *Apartamentos*"
      ],
      "metadata": {
        "id": "em4Xl5D94wwc"
      }
    },
    {
      "cell_type": "code",
      "source": [
        "len(df_casas_oeste)"
      ],
      "metadata": {
        "id": "_Y0SMtUUlcQ4",
        "colab": {
          "base_uri": "https://localhost:8080/"
        },
        "outputId": "74bef3fa-8b2d-4570-ecf7-4b0a13c47fef"
      },
      "execution_count": 394,
      "outputs": [
        {
          "output_type": "execute_result",
          "data": {
            "text/plain": [
              "78"
            ]
          },
          "metadata": {},
          "execution_count": 394
        }
      ]
    },
    {
      "cell_type": "code",
      "source": [
        "media_apartamentos_oeste = df_apartamentos_oeste[\"qtde_quartos\"].mean()\n",
        "moda_apartamentos_oeste = df_apartamentos_oeste[\"qtde_quartos\"].mode()\n",
        "mediana_apartamentos_oeste = df_apartamentos_oeste[\"qtde_quartos\"].median()\n",
        "desvio_padrao_apartamentos_oeste = df_apartamentos_oeste[\"qtde_quartos\"].std()\n",
        "coeficiente_de_variacao_apartamentos_oeste = desvio_padrao_apartamentos_oeste/media_apartamentos_oeste"
      ],
      "metadata": {
        "id": "wH5uLgQ0lcJB"
      },
      "execution_count": 395,
      "outputs": []
    },
    {
      "cell_type": "code",
      "source": [
        "print(\"MEDIDAS DA VARIAVEL 'QUANTIDADE DE QUARTOS' DOS APARTAMENTOS DA REGIÃO OESTE\")\n",
        "print(f\"Média: {media_apartamentos_oeste:.2f}\")\n",
        "printModa(moda_apartamentos_oeste)\n",
        "print(f\"Mediana: {mediana_apartamentos_oeste:.0f}\")\n",
        "print(f\"Desvio Padrão:  {desvio_padrao_apartamentos_oeste:.2f}\")\n",
        "print(f\"Coeficiente de variação:  {coeficiente_de_variacao_apartamentos_oeste *100:.2f}%\")"
      ],
      "metadata": {
        "id": "I_3Du5WV4wwc",
        "colab": {
          "base_uri": "https://localhost:8080/"
        },
        "outputId": "28f9d7bd-4e47-4924-8b4b-58cc4f377995"
      },
      "execution_count": 396,
      "outputs": [
        {
          "output_type": "stream",
          "name": "stdout",
          "text": [
            "MEDIDAS DA VARIAVEL 'QUANTIDADE DE QUARTOS' DOS APARTAMENTOS DA REGIÃO OESTE\n",
            "Média: 2.68\n",
            "Moda: \n",
            "3\n",
            "Mediana: 3\n",
            "Desvio Padrão:  0.62\n",
            "Coeficiente de variação:  23.16%\n"
          ]
        }
      ]
    },
    {
      "cell_type": "markdown",
      "source": [
        "## Região Centro-Oeste"
      ],
      "metadata": {
        "id": "_S4VdOHV4pKS"
      }
    },
    {
      "cell_type": "markdown",
      "source": [
        "### *Medidas Gerais*"
      ],
      "metadata": {
        "id": "9wIUh1Q94pKS"
      }
    },
    {
      "cell_type": "code",
      "source": [
        "len(df_co)"
      ],
      "metadata": {
        "id": "WZubFZoEfnM1",
        "colab": {
          "base_uri": "https://localhost:8080/"
        },
        "outputId": "6ad3def4-a088-44af-83d3-39ac647d7f94"
      },
      "execution_count": 397,
      "outputs": [
        {
          "output_type": "execute_result",
          "data": {
            "text/plain": [
              "42"
            ]
          },
          "metadata": {},
          "execution_count": 397
        }
      ]
    },
    {
      "cell_type": "code",
      "source": [
        "media_co = df_co[\"qtde_quartos\"].mean()\n",
        "moda_co = df_co[\"qtde_quartos\"].mode()\n",
        "mediana_co = df_co[\"qtde_quartos\"].median()\n",
        "desvio_padrao_co = df_co[\"qtde_quartos\"].std()\n",
        "coeficiente_de_variacao_co = desvio_padrao_co/media_co"
      ],
      "metadata": {
        "id": "XTEerRbqfnBe"
      },
      "execution_count": 398,
      "outputs": []
    },
    {
      "cell_type": "code",
      "source": [
        "print(\"MEDIDAS DA VARIAVEL 'QUANTIDADE DE QUARTOS' DA REGIÃO CENTRO-OESTE\")\n",
        "print(f\"Média: {media_co:.1f}\")\n",
        "printModa(moda_co)\n",
        "print(f\"Mediana: {mediana_co:.0f}\")\n",
        "print(f\"Desvio Padrão:  {desvio_padrao_co:.2f}\")\n",
        "print(f\"Coeficiente de variação:  {coeficiente_de_variacao_co *100:.2f}%\")"
      ],
      "metadata": {
        "id": "HEmGb9v34pKS",
        "colab": {
          "base_uri": "https://localhost:8080/"
        },
        "outputId": "b9dd26ed-8588-4ef1-dc36-4986804c91a6"
      },
      "execution_count": 399,
      "outputs": [
        {
          "output_type": "stream",
          "name": "stdout",
          "text": [
            "MEDIDAS DA VARIAVEL 'QUANTIDADE DE QUARTOS' DA REGIÃO CENTRO-OESTE\n",
            "Média: 2.9\n",
            "Moda: \n",
            "3\n",
            "Mediana: 3\n",
            "Desvio Padrão:  0.87\n",
            "Coeficiente de variação:  29.59%\n"
          ]
        }
      ]
    },
    {
      "cell_type": "markdown",
      "source": [
        "### *Casas*"
      ],
      "metadata": {
        "id": "phx5xp8e4pKT"
      }
    },
    {
      "cell_type": "code",
      "source": [
        "len(df_casas_co)"
      ],
      "metadata": {
        "id": "aQB5o4IZgPIm",
        "colab": {
          "base_uri": "https://localhost:8080/"
        },
        "outputId": "64a0fddb-16c5-427d-b2f0-67cf578dca0f"
      },
      "execution_count": 400,
      "outputs": [
        {
          "output_type": "execute_result",
          "data": {
            "text/plain": [
              "24"
            ]
          },
          "metadata": {},
          "execution_count": 400
        }
      ]
    },
    {
      "cell_type": "code",
      "source": [
        "media_casas_co = df_casas_co[\"qtde_quartos\"].mean()\n",
        "moda_casas_co = df_casas_co[\"qtde_quartos\"].mode()\n",
        "mediana_casas_co = df_casas_co[\"qtde_quartos\"].median()\n",
        "desvio_padrao_casas_co = df_casas_co[\"qtde_quartos\"].std()\n",
        "coeficiente_de_variacao_casas_co = desvio_padrao_casas_co/media_casas_co"
      ],
      "metadata": {
        "id": "Lsu78pbngOvG"
      },
      "execution_count": 401,
      "outputs": []
    },
    {
      "cell_type": "code",
      "source": [
        "print(\"MEDIDAS DA VARIAVEL 'QUANTIDADE DE QUARTOS' DAS CASAS DA REGIÃO CENTRO-OESTE\")\n",
        "print(f\"Média: {media_casas_co:.1f}\")\n",
        "printModa(moda_casas_co)\n",
        "print(f\"Mediana: {mediana_casas_co:.0f}\")\n",
        "print(f\"Desvio Padrão:  {desvio_padrao_casas_co:.2f}\")\n",
        "print(f\"Coeficiente de variação:  {coeficiente_de_variacao_casas_co *100:.2f}%\")"
      ],
      "metadata": {
        "id": "VfO4FxoH4pKT",
        "colab": {
          "base_uri": "https://localhost:8080/"
        },
        "outputId": "b73d7f6e-5ce8-4703-8972-9076ce6f9e7e"
      },
      "execution_count": 402,
      "outputs": [
        {
          "output_type": "stream",
          "name": "stdout",
          "text": [
            "MEDIDAS DA VARIAVEL 'QUANTIDADE DE QUARTOS' DAS CASAS DA REGIÃO CENTRO-OESTE\n",
            "Média: 3.2\n",
            "Moda: \n",
            "3\n",
            "Mediana: 3\n",
            "Desvio Padrão:  0.88\n",
            "Coeficiente de variação:  27.54%\n"
          ]
        }
      ]
    },
    {
      "cell_type": "markdown",
      "source": [
        "### *Apartamentos*"
      ],
      "metadata": {
        "id": "SC9okbAV4pKT"
      }
    },
    {
      "cell_type": "code",
      "source": [
        "len(df_apartamentos_co)"
      ],
      "metadata": {
        "id": "yRCAVBe-h-tD",
        "colab": {
          "base_uri": "https://localhost:8080/"
        },
        "outputId": "984e47a8-2809-44e2-b088-05ca47135e9d"
      },
      "execution_count": 403,
      "outputs": [
        {
          "output_type": "execute_result",
          "data": {
            "text/plain": [
              "18"
            ]
          },
          "metadata": {},
          "execution_count": 403
        }
      ]
    },
    {
      "cell_type": "code",
      "source": [
        "media_apartamentos_co = df_apartamentos_co[\"qtde_quartos\"].mean()\n",
        "moda_apartamentos_co = df_apartamentos_co[\"qtde_quartos\"].mode()\n",
        "mediana_apartamentos_co = df_apartamentos_co[\"qtde_quartos\"].median()\n",
        "desvio_padrao_apartamentos_co = df_apartamentos_co[\"qtde_quartos\"].std()\n",
        "coeficiente_de_variacao_apartamentos_co = desvio_padrao_apartamentos_co/media_apartamentos_co"
      ],
      "metadata": {
        "id": "mc8uVTrzh-nn"
      },
      "execution_count": 404,
      "outputs": []
    },
    {
      "cell_type": "code",
      "source": [
        "print(\"MEDIDAS DA VARIAVEL 'QUANTIDADE DE QUARTOS' DOS APARTAMENTOS DA REGIÃO CENTRO-OESTE\")\n",
        "print(f\"Média: {media_apartamentos_co:.2f}\")\n",
        "printModa(moda_apartamentos_co)\n",
        "print(f\"Mediana: {mediana_apartamentos_co:.0f}\")\n",
        "print(f\"Desvio Padrão:  {desvio_padrao_apartamentos_co:.2f}\")\n",
        "print(f\"Coeficiente de variação:  {coeficiente_de_variacao_apartamentos_co *100:.2f}%\")"
      ],
      "metadata": {
        "id": "0DQkUzlr4pKT",
        "colab": {
          "base_uri": "https://localhost:8080/"
        },
        "outputId": "35dbcc31-ae19-4e31-f3cc-945bd5f0fef0"
      },
      "execution_count": 405,
      "outputs": [
        {
          "output_type": "stream",
          "name": "stdout",
          "text": [
            "MEDIDAS DA VARIAVEL 'QUANTIDADE DE QUARTOS' DOS APARTAMENTOS DA REGIÃO CENTRO-OESTE\n",
            "Média: 2.56\n",
            "Moda: \n",
            "3\n",
            "Mediana: 3\n",
            "Desvio Padrão:  0.70\n",
            "Coeficiente de variação:  27.58%\n"
          ]
        }
      ]
    },
    {
      "cell_type": "markdown",
      "source": [
        "## Região Centro-Sul"
      ],
      "metadata": {
        "id": "SeWMACQ15NRw"
      }
    },
    {
      "cell_type": "markdown",
      "source": [
        "### *Medidas Gerais*"
      ],
      "metadata": {
        "id": "s0M6I0M55NRx"
      }
    },
    {
      "cell_type": "code",
      "source": [
        "len(df_cs)"
      ],
      "metadata": {
        "id": "3DZAxnRVmGtF",
        "colab": {
          "base_uri": "https://localhost:8080/"
        },
        "outputId": "88fc03c6-908c-4bcd-c463-24d1bda79e10"
      },
      "execution_count": 406,
      "outputs": [
        {
          "output_type": "execute_result",
          "data": {
            "text/plain": [
              "122"
            ]
          },
          "metadata": {},
          "execution_count": 406
        }
      ]
    },
    {
      "cell_type": "code",
      "source": [
        "media_cs = df_cs[\"qtde_quartos\"].mean()\n",
        "moda_cs = df_cs[\"qtde_quartos\"].mode()\n",
        "mediana_cs = df_cs[\"qtde_quartos\"].median()\n",
        "desvio_padrao_cs = df_cs[\"qtde_quartos\"].std()\n",
        "coeficiente_de_variacao_cs = desvio_padrao_cs/media_cs"
      ],
      "metadata": {
        "id": "-GUMJZ1vmGf4"
      },
      "execution_count": 407,
      "outputs": []
    },
    {
      "cell_type": "code",
      "source": [
        "print(\"MEDIDAS DA VARIAVEL 'QUANTIDADE DE QUARTOS' DA REGIÃO CENTRO-SUL\")\n",
        "print(f\"Média: {media_cs:.2f}\")\n",
        "printModa(moda_cs)\n",
        "print(f\"Mediana: {mediana_cs:.0f}\")\n",
        "print(f\"Desvio Padrão:  {desvio_padrao_cs:.2f}\")\n",
        "print(f\"Coeficiente de variação:  {coeficiente_de_variacao_cs *100:.2f}%\")"
      ],
      "metadata": {
        "id": "GzjiX5Hq5NRx",
        "colab": {
          "base_uri": "https://localhost:8080/"
        },
        "outputId": "ca7eac40-b762-4cb4-85b0-43987b053601"
      },
      "execution_count": 408,
      "outputs": [
        {
          "output_type": "stream",
          "name": "stdout",
          "text": [
            "MEDIDAS DA VARIAVEL 'QUANTIDADE DE QUARTOS' DA REGIÃO CENTRO-SUL\n",
            "Média: 3.03\n",
            "Moda: \n",
            "3\n",
            "Mediana: 3\n",
            "Desvio Padrão:  0.94\n",
            "Coeficiente de variação:  31.13%\n"
          ]
        }
      ]
    },
    {
      "cell_type": "markdown",
      "source": [
        "### *Casas*"
      ],
      "metadata": {
        "id": "s8L5XlnK5NRy"
      }
    },
    {
      "cell_type": "code",
      "source": [
        "len(df_casas_cs)"
      ],
      "metadata": {
        "id": "aqa_wWQ4mt9d",
        "colab": {
          "base_uri": "https://localhost:8080/"
        },
        "outputId": "974fdfcd-8554-44d1-b8ee-2c4a4e356af1"
      },
      "execution_count": 409,
      "outputs": [
        {
          "output_type": "execute_result",
          "data": {
            "text/plain": [
              "58"
            ]
          },
          "metadata": {},
          "execution_count": 409
        }
      ]
    },
    {
      "cell_type": "code",
      "source": [
        "media_casas_cs = df_casas_cs[\"qtde_quartos\"].mean()\n",
        "moda_casas_cs = df_casas_cs[\"qtde_quartos\"].mode()\n",
        "mediana_casas_cs = df_casas_cs[\"qtde_quartos\"].median()\n",
        "desvio_padrao_casas_cs = df_casas_cs[\"qtde_quartos\"].std()\n",
        "coeficiente_de_variacao_casas_cs = desvio_padrao_casas_cs/media_casas_cs\n",
        "variancia = df_casas_cs[\"qtde_quartos\"].var()"
      ],
      "metadata": {
        "id": "uHAsobLWmtxX"
      },
      "execution_count": 410,
      "outputs": []
    },
    {
      "cell_type": "code",
      "source": [
        "print(\"MEDIDAS DA VARIAVEL 'QUANTIDADE DE QUARTOS' DAS CASAS DA REGIÃO CENTRO-SUL\")\n",
        "print(f\"Média: {media_casas_cs:.2f}\")\n",
        "printModa(moda_casas_cs)\n",
        "print(f\"Mediana: {mediana_casas_cs:.0f}\")\n",
        "print(f\"Desvio Padrão:  {desvio_padrao_casas_cs:.2f}\")\n",
        "print(f\"Coeficiente de variação:  {coeficiente_de_variacao_casas_cs *100:.2f}%\")"
      ],
      "metadata": {
        "id": "JrkeEf_N5NRy",
        "colab": {
          "base_uri": "https://localhost:8080/"
        },
        "outputId": "9e1885a7-9eca-4cf1-f408-796a1f949ed5"
      },
      "execution_count": 411,
      "outputs": [
        {
          "output_type": "stream",
          "name": "stdout",
          "text": [
            "MEDIDAS DA VARIAVEL 'QUANTIDADE DE QUARTOS' DAS CASAS DA REGIÃO CENTRO-SUL\n",
            "Média: 3.12\n",
            "Moda: \n",
            "3\n",
            "Mediana: 3\n",
            "Desvio Padrão:  1.06\n",
            "Coeficiente de variação:  34.00%\n"
          ]
        }
      ]
    },
    {
      "cell_type": "markdown",
      "source": [
        "### *Apartamentos*"
      ],
      "metadata": {
        "id": "2teOgXip5NRy"
      }
    },
    {
      "cell_type": "code",
      "source": [
        "len(df_apartamentos_cs)"
      ],
      "metadata": {
        "id": "kUJhORhpnfuL",
        "colab": {
          "base_uri": "https://localhost:8080/"
        },
        "outputId": "ae5ef96f-c69e-4598-c959-1e054ac53c44"
      },
      "execution_count": 412,
      "outputs": [
        {
          "output_type": "execute_result",
          "data": {
            "text/plain": [
              "64"
            ]
          },
          "metadata": {},
          "execution_count": 412
        }
      ]
    },
    {
      "cell_type": "code",
      "source": [
        "media_apartamentos_cs = df_apartamentos_cs[\"qtde_quartos\"].mean()\n",
        "moda_apartamentos_cs = df_apartamentos_cs[\"qtde_quartos\"].mode()\n",
        "mediana_apartamentos_cs = df_apartamentos_cs[\"qtde_quartos\"].median()\n",
        "desvio_padrao_apartamentos_cs = df_apartamentos_cs[\"qtde_quartos\"].std()\n",
        "coeficiente_de_variacao_apartamentos_cs = desvio_padrao_apartamentos_cs/media_apartamentos_cs"
      ],
      "metadata": {
        "id": "0k7EL-C1nfm2"
      },
      "execution_count": 413,
      "outputs": []
    },
    {
      "cell_type": "code",
      "source": [
        "print(\"MEDIDAS DA VARIAVEL 'QUANTIDADE DE QUARTOS' DOS APARTAMENTOS DA REGIÃO CENTRO-OESTE\")\n",
        "print(f\"Média: {media_apartamentos_cs:.2f}\")\n",
        "printModa(moda_apartamentos_cs)\n",
        "print(f\"Mediana: {mediana_apartamentos_cs:.0f}\")\n",
        "print(f\"Desvio Padrão:  {desvio_padrao_apartamentos_cs:.2f}\")\n",
        "print(f\"Coeficiente de variação:  {coeficiente_de_variacao_apartamentos_cs *100:.2f}%\")"
      ],
      "metadata": {
        "id": "6wKaIvRh5NRy",
        "colab": {
          "base_uri": "https://localhost:8080/"
        },
        "outputId": "2b3d890d-867a-4783-d6c2-b8ad39a032ad"
      },
      "execution_count": 414,
      "outputs": [
        {
          "output_type": "stream",
          "name": "stdout",
          "text": [
            "MEDIDAS DA VARIAVEL 'QUANTIDADE DE QUARTOS' DOS APARTAMENTOS DA REGIÃO CENTRO-OESTE\n",
            "Média: 2.95\n",
            "Moda: \n",
            "3\n",
            "Mediana: 3\n",
            "Desvio Padrão:  0.82\n",
            "Coeficiente de variação:  27.93%\n"
          ]
        }
      ]
    },
    {
      "cell_type": "code",
      "source": [],
      "metadata": {
        "id": "yqGPP3487Y6G"
      },
      "execution_count": 414,
      "outputs": []
    },
    {
      "cell_type": "markdown",
      "source": [
        "# → ***Resultados: Quantidade de Quartos***\n",
        "\n",
        "\n",
        "---\n",
        "\n"
      ],
      "metadata": {
        "id": "3EaxPG-b3fj_"
      }
    },
    {
      "cell_type": "markdown",
      "source": [
        "### *Geral*"
      ],
      "metadata": {
        "id": "k7OEZZfU5Nlj"
      }
    },
    {
      "cell_type": "code",
      "source": [
        "df_resultados = pd.DataFrame([\n",
        "    (len(df_norte), f'{media_norte:.2f}', mediana_norte, list(moda_norte), f'{desvio_padrao_norte:.2f}', f'{coeficiente_de_variacao_norte * 100:.2f}%'),\n",
        "    (len(df_sul), f'{media_sul:.2f}', mediana_sul, list(moda_sul), f'{desvio_padrao_sul:.2f}', f'{coeficiente_de_variacao_sul * 100:.2f}%'),\n",
        "    (len(df_leste), f'{media_leste:.2f}', mediana_leste, list(moda_leste), f'{desvio_padrao_leste:.2f}', f'{coeficiente_de_variacao_leste * 100:.2f}%'),\n",
        "    (len(df_oeste), f'{media_oeste:.2f}', mediana_oeste, list(moda_oeste), f'{desvio_padrao_oeste:.2f}', f'{coeficiente_de_variacao_oeste * 100:.2f}%'),\n",
        "    (len(df_co), f'{media_co:.2f}', mediana_co, list(moda_co), f'{desvio_padrao_co:.2f}', f'{coeficiente_de_variacao_co:.2f}%'),\n",
        "    (len(df_cs), f'{media_cs:.2f}', mediana_cs, list(moda_cs), f'{desvio_padrao_cs:.2f}', f'{coeficiente_de_variacao_cs:.2f}%')],\n",
        "    index=('Zona Norte', 'Zona Sul', 'Zona Leste', 'Zona Oeste', 'Zona Centro Oeste', 'Zona Centro-Sul'),\n",
        "    columns=('Total Imóveis', 'Média', 'Mediana', 'Moda', 'Desvio Padrão', 'Coeficiente de Variação'))\n",
        "\n",
        "df_resultados"
      ],
      "metadata": {
        "id": "wCGjPX4i3iqH",
        "colab": {
          "base_uri": "https://localhost:8080/",
          "height": 0
        },
        "outputId": "e371a2f0-70fa-4a54-e5dc-2cdee04f0c2e"
      },
      "execution_count": 415,
      "outputs": [
        {
          "output_type": "execute_result",
          "data": {
            "text/plain": [
              "                   Total Imóveis Média  Mediana    Moda Desvio Padrão  \\\n",
              "Zona Norte                    73  2.84      3.0     [3]          0.88   \n",
              "Zona Sul                      15  2.87      3.0     [3]          1.06   \n",
              "Zona Leste                    10  2.90      3.0  [2, 3]          0.99   \n",
              "Zona Oeste                   128  3.12      3.0     [3]          0.84   \n",
              "Zona Centro Oeste             42  2.93      3.0     [3]          0.87   \n",
              "Zona Centro-Sul              122  3.03      3.0     [3]          0.94   \n",
              "\n",
              "                  Coeficiente de Variação  \n",
              "Zona Norte                         31.11%  \n",
              "Zona Sul                           36.98%  \n",
              "Zona Leste                         34.29%  \n",
              "Zona Oeste                         26.89%  \n",
              "Zona Centro Oeste                   0.30%  \n",
              "Zona Centro-Sul                     0.31%  "
            ],
            "text/html": [
              "\n",
              "  <div id=\"df-1c798ba2-8abb-4812-844a-927f5e91fc6f\">\n",
              "    <div class=\"colab-df-container\">\n",
              "      <div>\n",
              "<style scoped>\n",
              "    .dataframe tbody tr th:only-of-type {\n",
              "        vertical-align: middle;\n",
              "    }\n",
              "\n",
              "    .dataframe tbody tr th {\n",
              "        vertical-align: top;\n",
              "    }\n",
              "\n",
              "    .dataframe thead th {\n",
              "        text-align: right;\n",
              "    }\n",
              "</style>\n",
              "<table border=\"1\" class=\"dataframe\">\n",
              "  <thead>\n",
              "    <tr style=\"text-align: right;\">\n",
              "      <th></th>\n",
              "      <th>Total Imóveis</th>\n",
              "      <th>Média</th>\n",
              "      <th>Mediana</th>\n",
              "      <th>Moda</th>\n",
              "      <th>Desvio Padrão</th>\n",
              "      <th>Coeficiente de Variação</th>\n",
              "    </tr>\n",
              "  </thead>\n",
              "  <tbody>\n",
              "    <tr>\n",
              "      <th>Zona Norte</th>\n",
              "      <td>73</td>\n",
              "      <td>2.84</td>\n",
              "      <td>3.0</td>\n",
              "      <td>[3]</td>\n",
              "      <td>0.88</td>\n",
              "      <td>31.11%</td>\n",
              "    </tr>\n",
              "    <tr>\n",
              "      <th>Zona Sul</th>\n",
              "      <td>15</td>\n",
              "      <td>2.87</td>\n",
              "      <td>3.0</td>\n",
              "      <td>[3]</td>\n",
              "      <td>1.06</td>\n",
              "      <td>36.98%</td>\n",
              "    </tr>\n",
              "    <tr>\n",
              "      <th>Zona Leste</th>\n",
              "      <td>10</td>\n",
              "      <td>2.90</td>\n",
              "      <td>3.0</td>\n",
              "      <td>[2, 3]</td>\n",
              "      <td>0.99</td>\n",
              "      <td>34.29%</td>\n",
              "    </tr>\n",
              "    <tr>\n",
              "      <th>Zona Oeste</th>\n",
              "      <td>128</td>\n",
              "      <td>3.12</td>\n",
              "      <td>3.0</td>\n",
              "      <td>[3]</td>\n",
              "      <td>0.84</td>\n",
              "      <td>26.89%</td>\n",
              "    </tr>\n",
              "    <tr>\n",
              "      <th>Zona Centro Oeste</th>\n",
              "      <td>42</td>\n",
              "      <td>2.93</td>\n",
              "      <td>3.0</td>\n",
              "      <td>[3]</td>\n",
              "      <td>0.87</td>\n",
              "      <td>0.30%</td>\n",
              "    </tr>\n",
              "    <tr>\n",
              "      <th>Zona Centro-Sul</th>\n",
              "      <td>122</td>\n",
              "      <td>3.03</td>\n",
              "      <td>3.0</td>\n",
              "      <td>[3]</td>\n",
              "      <td>0.94</td>\n",
              "      <td>0.31%</td>\n",
              "    </tr>\n",
              "  </tbody>\n",
              "</table>\n",
              "</div>\n",
              "      <button class=\"colab-df-convert\" onclick=\"convertToInteractive('df-1c798ba2-8abb-4812-844a-927f5e91fc6f')\"\n",
              "              title=\"Convert this dataframe to an interactive table.\"\n",
              "              style=\"display:none;\">\n",
              "        \n",
              "  <svg xmlns=\"http://www.w3.org/2000/svg\" height=\"24px\"viewBox=\"0 0 24 24\"\n",
              "       width=\"24px\">\n",
              "    <path d=\"M0 0h24v24H0V0z\" fill=\"none\"/>\n",
              "    <path d=\"M18.56 5.44l.94 2.06.94-2.06 2.06-.94-2.06-.94-.94-2.06-.94 2.06-2.06.94zm-11 1L8.5 8.5l.94-2.06 2.06-.94-2.06-.94L8.5 2.5l-.94 2.06-2.06.94zm10 10l.94 2.06.94-2.06 2.06-.94-2.06-.94-.94-2.06-.94 2.06-2.06.94z\"/><path d=\"M17.41 7.96l-1.37-1.37c-.4-.4-.92-.59-1.43-.59-.52 0-1.04.2-1.43.59L10.3 9.45l-7.72 7.72c-.78.78-.78 2.05 0 2.83L4 21.41c.39.39.9.59 1.41.59.51 0 1.02-.2 1.41-.59l7.78-7.78 2.81-2.81c.8-.78.8-2.07 0-2.86zM5.41 20L4 18.59l7.72-7.72 1.47 1.35L5.41 20z\"/>\n",
              "  </svg>\n",
              "      </button>\n",
              "      \n",
              "  <style>\n",
              "    .colab-df-container {\n",
              "      display:flex;\n",
              "      flex-wrap:wrap;\n",
              "      gap: 12px;\n",
              "    }\n",
              "\n",
              "    .colab-df-convert {\n",
              "      background-color: #E8F0FE;\n",
              "      border: none;\n",
              "      border-radius: 50%;\n",
              "      cursor: pointer;\n",
              "      display: none;\n",
              "      fill: #1967D2;\n",
              "      height: 32px;\n",
              "      padding: 0 0 0 0;\n",
              "      width: 32px;\n",
              "    }\n",
              "\n",
              "    .colab-df-convert:hover {\n",
              "      background-color: #E2EBFA;\n",
              "      box-shadow: 0px 1px 2px rgba(60, 64, 67, 0.3), 0px 1px 3px 1px rgba(60, 64, 67, 0.15);\n",
              "      fill: #174EA6;\n",
              "    }\n",
              "\n",
              "    [theme=dark] .colab-df-convert {\n",
              "      background-color: #3B4455;\n",
              "      fill: #D2E3FC;\n",
              "    }\n",
              "\n",
              "    [theme=dark] .colab-df-convert:hover {\n",
              "      background-color: #434B5C;\n",
              "      box-shadow: 0px 1px 3px 1px rgba(0, 0, 0, 0.15);\n",
              "      filter: drop-shadow(0px 1px 2px rgba(0, 0, 0, 0.3));\n",
              "      fill: #FFFFFF;\n",
              "    }\n",
              "  </style>\n",
              "\n",
              "      <script>\n",
              "        const buttonEl =\n",
              "          document.querySelector('#df-1c798ba2-8abb-4812-844a-927f5e91fc6f button.colab-df-convert');\n",
              "        buttonEl.style.display =\n",
              "          google.colab.kernel.accessAllowed ? 'block' : 'none';\n",
              "\n",
              "        async function convertToInteractive(key) {\n",
              "          const element = document.querySelector('#df-1c798ba2-8abb-4812-844a-927f5e91fc6f');\n",
              "          const dataTable =\n",
              "            await google.colab.kernel.invokeFunction('convertToInteractive',\n",
              "                                                     [key], {});\n",
              "          if (!dataTable) return;\n",
              "\n",
              "          const docLinkHtml = 'Like what you see? Visit the ' +\n",
              "            '<a target=\"_blank\" href=https://colab.research.google.com/notebooks/data_table.ipynb>data table notebook</a>'\n",
              "            + ' to learn more about interactive tables.';\n",
              "          element.innerHTML = '';\n",
              "          dataTable['output_type'] = 'display_data';\n",
              "          await google.colab.output.renderOutput(dataTable, element);\n",
              "          const docLink = document.createElement('div');\n",
              "          docLink.innerHTML = docLinkHtml;\n",
              "          element.appendChild(docLink);\n",
              "        }\n",
              "      </script>\n",
              "    </div>\n",
              "  </div>\n",
              "  "
            ]
          },
          "metadata": {},
          "execution_count": 415
        }
      ]
    },
    {
      "cell_type": "markdown",
      "source": [
        "### *Casas*"
      ],
      "metadata": {
        "id": "4ayGp7Mb5Yez"
      }
    },
    {
      "cell_type": "code",
      "source": [
        "df_resultados = pd.DataFrame([\n",
        "    (len(df_casas_norte), f'{media_casas_norte:.2f}', mediana_casas_norte, list(moda_casas_norte), f'{desvio_padrao_casas_norte:.2f}', f'{coeficiente_de_variacao_casas_norte * 100:.2f}%'),\n",
        "    (len(df_casas_sul), f'{media_casas_sul:.2f}', mediana_casas_sul, list(moda_casas_sul), f'{desvio_padrao_casas_sul:.2f}', f'{coeficiente_de_variacao_casas_sul * 100:.2f}%'),\n",
        "    (len(df_casas_leste), f'{media_casas_leste:.2f}', mediana_casas_leste, list(moda_casas_leste), f'{desvio_padrao_casas_leste:.2f}', f'{coeficiente_de_variacao_casas_leste * 100:.2f}%'),\n",
        "    (len(df_casas_oeste), f'{media_casas_oeste:.2f}', mediana_casas_oeste, list(moda_casas_oeste), f'{desvio_padrao_casas_oeste:.2f}', f'{coeficiente_de_variacao_casas_oeste * 100:.2f}%'),\n",
        "    (len(df_casas_co), f'{media_casas_co:.2f}', mediana_casas_co, list(moda_casas_co), f'{desvio_padrao_casas_co:.2f}', f'{coeficiente_de_variacao_casas_co * 100:.2f}%'),\n",
        "    (len(df_casas_cs), f'{media_casas_cs:.2f}', mediana_casas_cs, list(moda_casas_cs), f'{desvio_padrao_casas_cs:.2f}', f'{coeficiente_de_variacao_casas_cs * 100:.2f}%')],\n",
        "    index=('Zona Norte', 'Zona Sul', 'Zona Leste', 'Zona Oeste', 'Zona Centro Oeste', 'Zona Centro-Sul'),\n",
        "    columns=('Total Imóveis', 'Média', 'Mediana', 'Moda', 'Desvio Padrão', 'Coeficiente de Variação'))\n",
        "\n",
        "df_resultados"
      ],
      "metadata": {
        "id": "iyKJ6DS35cTi",
        "colab": {
          "base_uri": "https://localhost:8080/",
          "height": 0
        },
        "outputId": "1a0bb2b8-437c-4ff1-8356-cbe7ec80693c"
      },
      "execution_count": 416,
      "outputs": [
        {
          "output_type": "execute_result",
          "data": {
            "text/plain": [
              "                   Total Imóveis Média  Mediana Moda Desvio Padrão  \\\n",
              "Zona Norte                    62  2.92      3.0  [3]          0.91   \n",
              "Zona Sul                      10  3.10      3.0  [3]          0.88   \n",
              "Zona Leste                     5  3.40      3.0  [3]          1.14   \n",
              "Zona Oeste                    78  3.40      3.0  [3]          0.84   \n",
              "Zona Centro Oeste             24  3.21      3.0  [3]          0.88   \n",
              "Zona Centro-Sul               58  3.12      3.0  [3]          1.06   \n",
              "\n",
              "                  Coeficiente de Variação  \n",
              "Zona Norte                         31.20%  \n",
              "Zona Sul                           28.25%  \n",
              "Zona Leste                         33.53%  \n",
              "Zona Oeste                         24.80%  \n",
              "Zona Centro Oeste                  27.54%  \n",
              "Zona Centro-Sul                    34.00%  "
            ],
            "text/html": [
              "\n",
              "  <div id=\"df-a238206d-7104-42ff-9078-43d92037b425\">\n",
              "    <div class=\"colab-df-container\">\n",
              "      <div>\n",
              "<style scoped>\n",
              "    .dataframe tbody tr th:only-of-type {\n",
              "        vertical-align: middle;\n",
              "    }\n",
              "\n",
              "    .dataframe tbody tr th {\n",
              "        vertical-align: top;\n",
              "    }\n",
              "\n",
              "    .dataframe thead th {\n",
              "        text-align: right;\n",
              "    }\n",
              "</style>\n",
              "<table border=\"1\" class=\"dataframe\">\n",
              "  <thead>\n",
              "    <tr style=\"text-align: right;\">\n",
              "      <th></th>\n",
              "      <th>Total Imóveis</th>\n",
              "      <th>Média</th>\n",
              "      <th>Mediana</th>\n",
              "      <th>Moda</th>\n",
              "      <th>Desvio Padrão</th>\n",
              "      <th>Coeficiente de Variação</th>\n",
              "    </tr>\n",
              "  </thead>\n",
              "  <tbody>\n",
              "    <tr>\n",
              "      <th>Zona Norte</th>\n",
              "      <td>62</td>\n",
              "      <td>2.92</td>\n",
              "      <td>3.0</td>\n",
              "      <td>[3]</td>\n",
              "      <td>0.91</td>\n",
              "      <td>31.20%</td>\n",
              "    </tr>\n",
              "    <tr>\n",
              "      <th>Zona Sul</th>\n",
              "      <td>10</td>\n",
              "      <td>3.10</td>\n",
              "      <td>3.0</td>\n",
              "      <td>[3]</td>\n",
              "      <td>0.88</td>\n",
              "      <td>28.25%</td>\n",
              "    </tr>\n",
              "    <tr>\n",
              "      <th>Zona Leste</th>\n",
              "      <td>5</td>\n",
              "      <td>3.40</td>\n",
              "      <td>3.0</td>\n",
              "      <td>[3]</td>\n",
              "      <td>1.14</td>\n",
              "      <td>33.53%</td>\n",
              "    </tr>\n",
              "    <tr>\n",
              "      <th>Zona Oeste</th>\n",
              "      <td>78</td>\n",
              "      <td>3.40</td>\n",
              "      <td>3.0</td>\n",
              "      <td>[3]</td>\n",
              "      <td>0.84</td>\n",
              "      <td>24.80%</td>\n",
              "    </tr>\n",
              "    <tr>\n",
              "      <th>Zona Centro Oeste</th>\n",
              "      <td>24</td>\n",
              "      <td>3.21</td>\n",
              "      <td>3.0</td>\n",
              "      <td>[3]</td>\n",
              "      <td>0.88</td>\n",
              "      <td>27.54%</td>\n",
              "    </tr>\n",
              "    <tr>\n",
              "      <th>Zona Centro-Sul</th>\n",
              "      <td>58</td>\n",
              "      <td>3.12</td>\n",
              "      <td>3.0</td>\n",
              "      <td>[3]</td>\n",
              "      <td>1.06</td>\n",
              "      <td>34.00%</td>\n",
              "    </tr>\n",
              "  </tbody>\n",
              "</table>\n",
              "</div>\n",
              "      <button class=\"colab-df-convert\" onclick=\"convertToInteractive('df-a238206d-7104-42ff-9078-43d92037b425')\"\n",
              "              title=\"Convert this dataframe to an interactive table.\"\n",
              "              style=\"display:none;\">\n",
              "        \n",
              "  <svg xmlns=\"http://www.w3.org/2000/svg\" height=\"24px\"viewBox=\"0 0 24 24\"\n",
              "       width=\"24px\">\n",
              "    <path d=\"M0 0h24v24H0V0z\" fill=\"none\"/>\n",
              "    <path d=\"M18.56 5.44l.94 2.06.94-2.06 2.06-.94-2.06-.94-.94-2.06-.94 2.06-2.06.94zm-11 1L8.5 8.5l.94-2.06 2.06-.94-2.06-.94L8.5 2.5l-.94 2.06-2.06.94zm10 10l.94 2.06.94-2.06 2.06-.94-2.06-.94-.94-2.06-.94 2.06-2.06.94z\"/><path d=\"M17.41 7.96l-1.37-1.37c-.4-.4-.92-.59-1.43-.59-.52 0-1.04.2-1.43.59L10.3 9.45l-7.72 7.72c-.78.78-.78 2.05 0 2.83L4 21.41c.39.39.9.59 1.41.59.51 0 1.02-.2 1.41-.59l7.78-7.78 2.81-2.81c.8-.78.8-2.07 0-2.86zM5.41 20L4 18.59l7.72-7.72 1.47 1.35L5.41 20z\"/>\n",
              "  </svg>\n",
              "      </button>\n",
              "      \n",
              "  <style>\n",
              "    .colab-df-container {\n",
              "      display:flex;\n",
              "      flex-wrap:wrap;\n",
              "      gap: 12px;\n",
              "    }\n",
              "\n",
              "    .colab-df-convert {\n",
              "      background-color: #E8F0FE;\n",
              "      border: none;\n",
              "      border-radius: 50%;\n",
              "      cursor: pointer;\n",
              "      display: none;\n",
              "      fill: #1967D2;\n",
              "      height: 32px;\n",
              "      padding: 0 0 0 0;\n",
              "      width: 32px;\n",
              "    }\n",
              "\n",
              "    .colab-df-convert:hover {\n",
              "      background-color: #E2EBFA;\n",
              "      box-shadow: 0px 1px 2px rgba(60, 64, 67, 0.3), 0px 1px 3px 1px rgba(60, 64, 67, 0.15);\n",
              "      fill: #174EA6;\n",
              "    }\n",
              "\n",
              "    [theme=dark] .colab-df-convert {\n",
              "      background-color: #3B4455;\n",
              "      fill: #D2E3FC;\n",
              "    }\n",
              "\n",
              "    [theme=dark] .colab-df-convert:hover {\n",
              "      background-color: #434B5C;\n",
              "      box-shadow: 0px 1px 3px 1px rgba(0, 0, 0, 0.15);\n",
              "      filter: drop-shadow(0px 1px 2px rgba(0, 0, 0, 0.3));\n",
              "      fill: #FFFFFF;\n",
              "    }\n",
              "  </style>\n",
              "\n",
              "      <script>\n",
              "        const buttonEl =\n",
              "          document.querySelector('#df-a238206d-7104-42ff-9078-43d92037b425 button.colab-df-convert');\n",
              "        buttonEl.style.display =\n",
              "          google.colab.kernel.accessAllowed ? 'block' : 'none';\n",
              "\n",
              "        async function convertToInteractive(key) {\n",
              "          const element = document.querySelector('#df-a238206d-7104-42ff-9078-43d92037b425');\n",
              "          const dataTable =\n",
              "            await google.colab.kernel.invokeFunction('convertToInteractive',\n",
              "                                                     [key], {});\n",
              "          if (!dataTable) return;\n",
              "\n",
              "          const docLinkHtml = 'Like what you see? Visit the ' +\n",
              "            '<a target=\"_blank\" href=https://colab.research.google.com/notebooks/data_table.ipynb>data table notebook</a>'\n",
              "            + ' to learn more about interactive tables.';\n",
              "          element.innerHTML = '';\n",
              "          dataTable['output_type'] = 'display_data';\n",
              "          await google.colab.output.renderOutput(dataTable, element);\n",
              "          const docLink = document.createElement('div');\n",
              "          docLink.innerHTML = docLinkHtml;\n",
              "          element.appendChild(docLink);\n",
              "        }\n",
              "      </script>\n",
              "    </div>\n",
              "  </div>\n",
              "  "
            ]
          },
          "metadata": {},
          "execution_count": 416
        }
      ]
    },
    {
      "cell_type": "markdown",
      "source": [
        "### *Apartamentos*"
      ],
      "metadata": {
        "id": "-7Ke-2ih5aGD"
      }
    },
    {
      "cell_type": "code",
      "source": [
        "df_resultados = pd.DataFrame([\n",
        "    (len(df_apartamentos_norte), f'{media_apartamentos_norte:.2f}', mediana_apartamentos_norte, list(moda_apartamentos_norte), f'{desvio_padrao_apartamentos_norte:.2f}', f'{coeficiente_de_variacao_apartamentos_norte * 100:.2f}%'),\n",
        "    (len(df_apartamentos_sul), f'{media_apartamentos_sul:.2f}', mediana_apartamentos_sul, list(moda_apartamentos_sul), f'{desvio_padrao_apartamentos_sul:.2f}', f'{coeficiente_de_variacao_apartamentos_sul * 100:.2f}%'),\n",
        "    (len(df_apartamentos_leste), f'{media_apartamentos_leste:.2f}', mediana_apartamentos_leste, list(moda_apartamentos_leste), f'{desvio_padrao_apartamentos_leste:.2f}', f'{coeficiente_de_variacao_apartamentos_leste * 100:.2f}%'),\n",
        "    (len(df_apartamentos_oeste), f'{media_apartamentos_oeste:.2f}', mediana_oeste, list(moda_oeste), f'{desvio_padrao_apartamentos_oeste:.2f}', f'{coeficiente_de_variacao_apartamentos_oeste * 100:.2f}%'),\n",
        "    (len(df_apartamentos_co), f'{media_apartamentos_co:.2f}', mediana_apartamentos_co, list(moda_apartamentos_co), f'{desvio_padrao_apartamentos_co:.2f}', f'{coeficiente_de_variacao_apartamentos_co * 100:.2f}%'),\n",
        "    (len(df_apartamentos_cs), f'{media_apartamentos_cs:.2f}', mediana_apartamentos_cs, list(moda_apartamentos_cs), f'{desvio_padrao_apartamentos_cs:.2f}', f'{coeficiente_de_variacao_apartamentos_cs * 100:.2f}%')],\n",
        "    index=('Zona Norte', 'Zona Sul', 'Zona Leste', 'Zona Oeste', 'Zona Centro Oeste', 'Zona Centro-Sul'),\n",
        "    columns=('Total Imóveis', 'Média', 'Mediana', 'Moda', 'Desvio Padrão', 'Coeficiente de Variação'))\n",
        "\n",
        "df_resultados"
      ],
      "metadata": {
        "id": "S1zg6oAl6nGc",
        "colab": {
          "base_uri": "https://localhost:8080/",
          "height": 0
        },
        "outputId": "a6f4308e-c759-4248-c204-bfb6a3807efe"
      },
      "execution_count": 417,
      "outputs": [
        {
          "output_type": "execute_result",
          "data": {
            "text/plain": [
              "                   Total Imóveis Média  Mediana    Moda Desvio Padrão  \\\n",
              "Zona Norte                    11  2.36      2.0     [2]          0.50   \n",
              "Zona Sul                       5  2.40      3.0  [1, 3]          1.34   \n",
              "Zona Leste                     5  2.40      2.0     [2]          0.55   \n",
              "Zona Oeste                    50  2.68      3.0     [3]          0.62   \n",
              "Zona Centro Oeste             18  2.56      3.0     [3]          0.70   \n",
              "Zona Centro-Sul               64  2.95      3.0     [3]          0.82   \n",
              "\n",
              "                  Coeficiente de Variação  \n",
              "Zona Norte                         21.35%  \n",
              "Zona Sul                           55.90%  \n",
              "Zona Leste                         22.82%  \n",
              "Zona Oeste                         23.16%  \n",
              "Zona Centro Oeste                  27.58%  \n",
              "Zona Centro-Sul                    27.93%  "
            ],
            "text/html": [
              "\n",
              "  <div id=\"df-0f23deaf-e759-4bbe-a000-d087c1390e4c\">\n",
              "    <div class=\"colab-df-container\">\n",
              "      <div>\n",
              "<style scoped>\n",
              "    .dataframe tbody tr th:only-of-type {\n",
              "        vertical-align: middle;\n",
              "    }\n",
              "\n",
              "    .dataframe tbody tr th {\n",
              "        vertical-align: top;\n",
              "    }\n",
              "\n",
              "    .dataframe thead th {\n",
              "        text-align: right;\n",
              "    }\n",
              "</style>\n",
              "<table border=\"1\" class=\"dataframe\">\n",
              "  <thead>\n",
              "    <tr style=\"text-align: right;\">\n",
              "      <th></th>\n",
              "      <th>Total Imóveis</th>\n",
              "      <th>Média</th>\n",
              "      <th>Mediana</th>\n",
              "      <th>Moda</th>\n",
              "      <th>Desvio Padrão</th>\n",
              "      <th>Coeficiente de Variação</th>\n",
              "    </tr>\n",
              "  </thead>\n",
              "  <tbody>\n",
              "    <tr>\n",
              "      <th>Zona Norte</th>\n",
              "      <td>11</td>\n",
              "      <td>2.36</td>\n",
              "      <td>2.0</td>\n",
              "      <td>[2]</td>\n",
              "      <td>0.50</td>\n",
              "      <td>21.35%</td>\n",
              "    </tr>\n",
              "    <tr>\n",
              "      <th>Zona Sul</th>\n",
              "      <td>5</td>\n",
              "      <td>2.40</td>\n",
              "      <td>3.0</td>\n",
              "      <td>[1, 3]</td>\n",
              "      <td>1.34</td>\n",
              "      <td>55.90%</td>\n",
              "    </tr>\n",
              "    <tr>\n",
              "      <th>Zona Leste</th>\n",
              "      <td>5</td>\n",
              "      <td>2.40</td>\n",
              "      <td>2.0</td>\n",
              "      <td>[2]</td>\n",
              "      <td>0.55</td>\n",
              "      <td>22.82%</td>\n",
              "    </tr>\n",
              "    <tr>\n",
              "      <th>Zona Oeste</th>\n",
              "      <td>50</td>\n",
              "      <td>2.68</td>\n",
              "      <td>3.0</td>\n",
              "      <td>[3]</td>\n",
              "      <td>0.62</td>\n",
              "      <td>23.16%</td>\n",
              "    </tr>\n",
              "    <tr>\n",
              "      <th>Zona Centro Oeste</th>\n",
              "      <td>18</td>\n",
              "      <td>2.56</td>\n",
              "      <td>3.0</td>\n",
              "      <td>[3]</td>\n",
              "      <td>0.70</td>\n",
              "      <td>27.58%</td>\n",
              "    </tr>\n",
              "    <tr>\n",
              "      <th>Zona Centro-Sul</th>\n",
              "      <td>64</td>\n",
              "      <td>2.95</td>\n",
              "      <td>3.0</td>\n",
              "      <td>[3]</td>\n",
              "      <td>0.82</td>\n",
              "      <td>27.93%</td>\n",
              "    </tr>\n",
              "  </tbody>\n",
              "</table>\n",
              "</div>\n",
              "      <button class=\"colab-df-convert\" onclick=\"convertToInteractive('df-0f23deaf-e759-4bbe-a000-d087c1390e4c')\"\n",
              "              title=\"Convert this dataframe to an interactive table.\"\n",
              "              style=\"display:none;\">\n",
              "        \n",
              "  <svg xmlns=\"http://www.w3.org/2000/svg\" height=\"24px\"viewBox=\"0 0 24 24\"\n",
              "       width=\"24px\">\n",
              "    <path d=\"M0 0h24v24H0V0z\" fill=\"none\"/>\n",
              "    <path d=\"M18.56 5.44l.94 2.06.94-2.06 2.06-.94-2.06-.94-.94-2.06-.94 2.06-2.06.94zm-11 1L8.5 8.5l.94-2.06 2.06-.94-2.06-.94L8.5 2.5l-.94 2.06-2.06.94zm10 10l.94 2.06.94-2.06 2.06-.94-2.06-.94-.94-2.06-.94 2.06-2.06.94z\"/><path d=\"M17.41 7.96l-1.37-1.37c-.4-.4-.92-.59-1.43-.59-.52 0-1.04.2-1.43.59L10.3 9.45l-7.72 7.72c-.78.78-.78 2.05 0 2.83L4 21.41c.39.39.9.59 1.41.59.51 0 1.02-.2 1.41-.59l7.78-7.78 2.81-2.81c.8-.78.8-2.07 0-2.86zM5.41 20L4 18.59l7.72-7.72 1.47 1.35L5.41 20z\"/>\n",
              "  </svg>\n",
              "      </button>\n",
              "      \n",
              "  <style>\n",
              "    .colab-df-container {\n",
              "      display:flex;\n",
              "      flex-wrap:wrap;\n",
              "      gap: 12px;\n",
              "    }\n",
              "\n",
              "    .colab-df-convert {\n",
              "      background-color: #E8F0FE;\n",
              "      border: none;\n",
              "      border-radius: 50%;\n",
              "      cursor: pointer;\n",
              "      display: none;\n",
              "      fill: #1967D2;\n",
              "      height: 32px;\n",
              "      padding: 0 0 0 0;\n",
              "      width: 32px;\n",
              "    }\n",
              "\n",
              "    .colab-df-convert:hover {\n",
              "      background-color: #E2EBFA;\n",
              "      box-shadow: 0px 1px 2px rgba(60, 64, 67, 0.3), 0px 1px 3px 1px rgba(60, 64, 67, 0.15);\n",
              "      fill: #174EA6;\n",
              "    }\n",
              "\n",
              "    [theme=dark] .colab-df-convert {\n",
              "      background-color: #3B4455;\n",
              "      fill: #D2E3FC;\n",
              "    }\n",
              "\n",
              "    [theme=dark] .colab-df-convert:hover {\n",
              "      background-color: #434B5C;\n",
              "      box-shadow: 0px 1px 3px 1px rgba(0, 0, 0, 0.15);\n",
              "      filter: drop-shadow(0px 1px 2px rgba(0, 0, 0, 0.3));\n",
              "      fill: #FFFFFF;\n",
              "    }\n",
              "  </style>\n",
              "\n",
              "      <script>\n",
              "        const buttonEl =\n",
              "          document.querySelector('#df-0f23deaf-e759-4bbe-a000-d087c1390e4c button.colab-df-convert');\n",
              "        buttonEl.style.display =\n",
              "          google.colab.kernel.accessAllowed ? 'block' : 'none';\n",
              "\n",
              "        async function convertToInteractive(key) {\n",
              "          const element = document.querySelector('#df-0f23deaf-e759-4bbe-a000-d087c1390e4c');\n",
              "          const dataTable =\n",
              "            await google.colab.kernel.invokeFunction('convertToInteractive',\n",
              "                                                     [key], {});\n",
              "          if (!dataTable) return;\n",
              "\n",
              "          const docLinkHtml = 'Like what you see? Visit the ' +\n",
              "            '<a target=\"_blank\" href=https://colab.research.google.com/notebooks/data_table.ipynb>data table notebook</a>'\n",
              "            + ' to learn more about interactive tables.';\n",
              "          element.innerHTML = '';\n",
              "          dataTable['output_type'] = 'display_data';\n",
              "          await google.colab.output.renderOutput(dataTable, element);\n",
              "          const docLink = document.createElement('div');\n",
              "          docLink.innerHTML = docLinkHtml;\n",
              "          element.appendChild(docLink);\n",
              "        }\n",
              "      </script>\n",
              "    </div>\n",
              "  </div>\n",
              "  "
            ]
          },
          "metadata": {},
          "execution_count": 417
        }
      ]
    },
    {
      "cell_type": "markdown",
      "source": [
        "# 🟆 Variável: Quantidade de Banheiros (Quantitativa)\n",
        "\n",
        "\n",
        "---\n",
        "\n"
      ],
      "metadata": {
        "id": "qFO9kw-Zea2t"
      }
    },
    {
      "cell_type": "markdown",
      "source": [
        "## Medidas Gerais"
      ],
      "metadata": {
        "id": "QxfRp0FaRh7o"
      }
    },
    {
      "cell_type": "markdown",
      "source": [
        "### *Geral*"
      ],
      "metadata": {
        "id": "AQ11hYvqU67f"
      }
    },
    {
      "cell_type": "code",
      "source": [
        "media = df[\"qtde_banheiros\"].mean()\n",
        "moda = int(df[\"qtde_banheiros\"].mode())\n",
        "mediana = df[\"qtde_banheiros\"].median()\n",
        "desvio_padrao = df[\"qtde_banheiros\"].std()\n",
        "coeficiente_de_variacao = desvio_padrao/media\n",
        "coeficiente_porcentagem = coeficiente_de_variacao * 100"
      ],
      "metadata": {
        "id": "8SLvBnUJP47E"
      },
      "execution_count": 418,
      "outputs": []
    },
    {
      "cell_type": "code",
      "source": [
        "print(f'Média: {media:.2f}')\n",
        "print(f'Mediana: {mediana:.0f}')\n",
        "print(f'Moda: {moda}')\n",
        "print(f'Desvio Padrão: {desvio_padrao:.2f}%')\n",
        "print(f'Coeficiente de Variação: {coeficiente_porcentagem:.2f}%')"
      ],
      "metadata": {
        "id": "HbXWRHAWQDlg",
        "colab": {
          "base_uri": "https://localhost:8080/"
        },
        "outputId": "c3ece68b-36cd-4b94-9670-590879539fa0"
      },
      "execution_count": 419,
      "outputs": [
        {
          "output_type": "stream",
          "name": "stdout",
          "text": [
            "Média: 2.76\n",
            "Mediana: 2\n",
            "Moda: 2\n",
            "Desvio Padrão: 1.41%\n",
            "Coeficiente de Variação: 51.10%\n"
          ]
        }
      ]
    },
    {
      "cell_type": "markdown",
      "source": [
        "### *Casas*"
      ],
      "metadata": {
        "id": "Z1rdmW4HU21D"
      }
    },
    {
      "cell_type": "code",
      "source": [
        "len(df_casas)"
      ],
      "metadata": {
        "id": "VPFyUI9vPxMi",
        "colab": {
          "base_uri": "https://localhost:8080/"
        },
        "outputId": "a2e38993-5dd3-4b51-e803-49532e91e237"
      },
      "execution_count": 420,
      "outputs": [
        {
          "output_type": "execute_result",
          "data": {
            "text/plain": [
              "237"
            ]
          },
          "metadata": {},
          "execution_count": 420
        }
      ]
    },
    {
      "cell_type": "code",
      "source": [
        "media_casas = df_casas[\"qtde_banheiros\"].mean()\n",
        "moda_casas = df_casas[\"qtde_banheiros\"].mode()\n",
        "mediana_casas = df_casas[\"qtde_banheiros\"].median()\n",
        "desvio_padrao_casas = df_casas[\"qtde_banheiros\"].std()\n",
        "coeficiente_de_variacao_casas = desvio_padrao_casas/media_casas\n",
        "coeficiente_porcentagem_casas = coeficiente_de_variacao_casas * 100"
      ],
      "metadata": {
        "id": "LBmplHP7P1pG"
      },
      "execution_count": 421,
      "outputs": []
    },
    {
      "cell_type": "code",
      "source": [
        "print(f'Média: {media_casas:.2f}')\n",
        "print(f'Mediana: {mediana_casas:.0f}')\n",
        "print(f'Moda: {moda_casas}')\n",
        "print(f'Desvio Padrão: {desvio_padrao_casas:.2f}%')\n",
        "print(f'Coeficiente de Variação: {coeficiente_porcentagem_casas:.2f}%')"
      ],
      "metadata": {
        "id": "gIf6i0PkYzRu",
        "colab": {
          "base_uri": "https://localhost:8080/"
        },
        "outputId": "7e32304a-c185-4179-c640-342cb4fb3282"
      },
      "execution_count": 422,
      "outputs": [
        {
          "output_type": "stream",
          "name": "stdout",
          "text": [
            "Média: 2.97\n",
            "Mediana: 3\n",
            "Moda: 0    2\n",
            "dtype: int64\n",
            "Desvio Padrão: 1.44%\n",
            "Coeficiente de Variação: 48.45%\n"
          ]
        }
      ]
    },
    {
      "cell_type": "markdown",
      "source": [
        "### *Apartamentos*"
      ],
      "metadata": {
        "id": "WsLzajjRU47x"
      }
    },
    {
      "cell_type": "code",
      "source": [
        "len(df_apartamentos)"
      ],
      "metadata": {
        "id": "LPnTIqnuWLkA",
        "colab": {
          "base_uri": "https://localhost:8080/"
        },
        "outputId": "b7d5225f-9887-494b-c302-1ad7324af241"
      },
      "execution_count": 423,
      "outputs": [
        {
          "output_type": "execute_result",
          "data": {
            "text/plain": [
              "153"
            ]
          },
          "metadata": {},
          "execution_count": 423
        }
      ]
    },
    {
      "cell_type": "code",
      "source": [
        "media_apartamentos = df_apartamentos[\"qtde_banheiros\"].mean()\n",
        "moda_apartamentos = df_apartamentos[\"qtde_banheiros\"].mode()\n",
        "mediana_apartamentos = df_apartamentos[\"qtde_banheiros\"].median()\n",
        "desvio_padrao_apartamentos = df_apartamentos[\"qtde_banheiros\"].std()\n",
        "coeficiente_de_variacao_apartamentos = desvio_padrao_apartamentos/media_apartamentos\n",
        "coeficiente_porcentagem_apartamentos = coeficiente_de_variacao_apartamentos * 100"
      ],
      "metadata": {
        "id": "dGQgVCGHWSRK"
      },
      "execution_count": 424,
      "outputs": []
    },
    {
      "cell_type": "code",
      "source": [
        "print(f'Média: {media_apartamentos:.2f}')\n",
        "print(f'Mediana: {mediana_apartamentos:.0f}')\n",
        "print(f'Moda: {moda_apartamentos}')\n",
        "print(f'Desvio Padrão: {desvio_padrao_apartamentos:.2f}%')\n",
        "print(f'Coeficiente de Variação: {coeficiente_porcentagem_apartamentos:.2f}%')"
      ],
      "metadata": {
        "id": "BB4rbvM1W7sE",
        "colab": {
          "base_uri": "https://localhost:8080/"
        },
        "outputId": "06712d93-a7f6-4280-a14d-942ffc499732"
      },
      "execution_count": 425,
      "outputs": [
        {
          "output_type": "stream",
          "name": "stdout",
          "text": [
            "Média: 2.42\n",
            "Mediana: 2\n",
            "Moda: 0    2\n",
            "dtype: int64\n",
            "Desvio Padrão: 1.30%\n",
            "Coeficiente de Variação: 53.46%\n"
          ]
        }
      ]
    },
    {
      "cell_type": "markdown",
      "source": [
        "## Região Norte"
      ],
      "metadata": {
        "id": "u0vbjxkYRxsT"
      }
    },
    {
      "cell_type": "code",
      "source": [
        "len(df_norte)"
      ],
      "metadata": {
        "id": "WmcsvfjXkxRa",
        "colab": {
          "base_uri": "https://localhost:8080/"
        },
        "outputId": "22cd2fd5-c975-484c-a38c-b072f5b7cb0f"
      },
      "execution_count": 426,
      "outputs": [
        {
          "output_type": "execute_result",
          "data": {
            "text/plain": [
              "73"
            ]
          },
          "metadata": {},
          "execution_count": 426
        }
      ]
    },
    {
      "cell_type": "markdown",
      "source": [
        "### *Casas*"
      ],
      "metadata": {
        "id": "NH_bcEVpVQDX"
      }
    },
    {
      "cell_type": "code",
      "source": [
        "df_casas_norte = df_norte.loc[df[\"categoria\"] == \"Casas\"]\n",
        "\n",
        "len(df_casas_norte)"
      ],
      "metadata": {
        "id": "iets2wWwk_Xm",
        "colab": {
          "base_uri": "https://localhost:8080/"
        },
        "outputId": "dc998f0f-8987-4478-fcfd-877cedf3321f"
      },
      "execution_count": 427,
      "outputs": [
        {
          "output_type": "execute_result",
          "data": {
            "text/plain": [
              "62"
            ]
          },
          "metadata": {},
          "execution_count": 427
        }
      ]
    },
    {
      "cell_type": "code",
      "source": [
        "media_casas_norte = df_casas_norte[\"qtde_banheiros\"].mean()\n",
        "moda_casas_norte = df_casas_norte[\"qtde_banheiros\"].mode()\n",
        "mediana_casas_norte = df_casas_norte[\"qtde_banheiros\"].median()\n",
        "desvio_padrao_casas_norte = df_casas_norte[\"qtde_banheiros\"].std()\n",
        "coeficiente_de_variacao_casas_norte = desvio_padrao_casas_norte/media_casas_norte\n",
        "coeficiente_porcentagem_casas_norte = coeficiente_de_variacao_casas_norte * 100"
      ],
      "metadata": {
        "id": "hxEdCW6Wledf"
      },
      "execution_count": 428,
      "outputs": []
    },
    {
      "cell_type": "code",
      "source": [
        "print(f'Média: {media_casas_norte:.2f}')\n",
        "print(f'Mediana: {mediana_casas_norte:.0f}')\n",
        "print(f'Moda: {moda_casas_norte}')\n",
        "print(f'Desvio Padrão: {desvio_padrao_casas_norte:.2f}%')\n",
        "print(f'Coeficiente de Variação: {coeficiente_porcentagem_casas_norte:.2f}%')"
      ],
      "metadata": {
        "id": "auFAGdx4lv83",
        "colab": {
          "base_uri": "https://localhost:8080/"
        },
        "outputId": "ceccbcfb-721a-4578-c503-3a6d40b5404a"
      },
      "execution_count": 429,
      "outputs": [
        {
          "output_type": "stream",
          "name": "stdout",
          "text": [
            "Média: 2.39\n",
            "Mediana: 2\n",
            "Moda: 0    2\n",
            "dtype: int64\n",
            "Desvio Padrão: 1.15%\n",
            "Coeficiente de Variação: 48.19%\n"
          ]
        }
      ]
    },
    {
      "cell_type": "markdown",
      "source": [
        "### *Apartamentos*"
      ],
      "metadata": {
        "id": "8SiNjiGCVRQW"
      }
    },
    {
      "cell_type": "code",
      "source": [
        "len(df_apartamentos_sul)"
      ],
      "metadata": {
        "id": "ANZazOPql62X",
        "colab": {
          "base_uri": "https://localhost:8080/"
        },
        "outputId": "8c422309-5d03-4d5e-f71e-370f1857e173"
      },
      "execution_count": 430,
      "outputs": [
        {
          "output_type": "execute_result",
          "data": {
            "text/plain": [
              "5"
            ]
          },
          "metadata": {},
          "execution_count": 430
        }
      ]
    },
    {
      "cell_type": "code",
      "source": [
        "media_apartamentos_norte= df_apartamentos_norte[\"qtde_banheiros\"].mean()\n",
        "moda_apartamentos_norte = df_apartamentos_norte[\"qtde_banheiros\"].mode()\n",
        "mediana_apartamentos_norte = df_apartamentos_norte[\"qtde_banheiros\"].median()\n",
        "desvio_padrao_apartamentos_norte = df_apartamentos_norte[\"qtde_banheiros\"].std()\n",
        "coeficiente_de_variacao_apartamentos_norte = desvio_padrao_apartamentos_norte/media_apartamentos_norte\n",
        "coeficiente_porcentagem_apartamentos_norte = coeficiente_de_variacao_apartamentos_norte * 100"
      ],
      "metadata": {
        "id": "JBWqqgsemFOw"
      },
      "execution_count": 431,
      "outputs": []
    },
    {
      "cell_type": "code",
      "source": [
        "print(f'Média: {media_apartamentos_norte:.2f}')\n",
        "print(f'Mediana: {mediana_apartamentos_norte:.0f}')\n",
        "print(f'Moda: {moda_apartamentos_norte}')\n",
        "print(f'Desvio Padrão: {desvio_padrao_apartamentos_norte:.2f}%')\n",
        "print(f'Coeficiente de Variação: {coeficiente_porcentagem_apartamentos_norte:.2f}%')"
      ],
      "metadata": {
        "id": "pYOMfB3TmHW7",
        "colab": {
          "base_uri": "https://localhost:8080/"
        },
        "outputId": "d82e598c-43ab-49d8-c8ab-00dcb05ebac6"
      },
      "execution_count": 432,
      "outputs": [
        {
          "output_type": "stream",
          "name": "stdout",
          "text": [
            "Média: 1.45\n",
            "Mediana: 1\n",
            "Moda: 0    1\n",
            "dtype: int64\n",
            "Desvio Padrão: 0.52%\n",
            "Coeficiente de Variação: 35.90%\n"
          ]
        }
      ]
    },
    {
      "cell_type": "markdown",
      "source": [
        "### *Geral*"
      ],
      "metadata": {
        "id": "PkeBNgP5VS4G"
      }
    },
    {
      "cell_type": "code",
      "source": [
        "media_norte = df_norte[\"qtde_banheiros\"].mean()\n",
        "moda_norte = int(df_norte[\"qtde_banheiros\"].mode())\n",
        "mediana_norte = df_norte[\"qtde_banheiros\"].median()\n",
        "desvio_padrao_norte = df_norte[\"qtde_banheiros\"].std()\n",
        "coeficiente_de_variacao_norte = desvio_padrao_norte/media_norte\n",
        "coeficiente_porcentagem_norte = coeficiente_de_variacao_norte * 100"
      ],
      "metadata": {
        "id": "i-9khW5JmkmE"
      },
      "execution_count": 433,
      "outputs": []
    },
    {
      "cell_type": "code",
      "source": [
        "print(f'Média: {media_norte:.2f}')\n",
        "print(f'Mediana: {mediana_norte:.0f}')\n",
        "print(f'Moda: {moda_norte}')\n",
        "print(f'Desvio Padrão: {desvio_padrao_norte:.2f}%')\n",
        "print(f'Coeficiente de Variação: {coeficiente_porcentagem_norte:.2f}%')"
      ],
      "metadata": {
        "id": "8ITocRGVmnQV",
        "colab": {
          "base_uri": "https://localhost:8080/"
        },
        "outputId": "7c262240-8742-4877-8414-f922ef2615b6"
      },
      "execution_count": 434,
      "outputs": [
        {
          "output_type": "stream",
          "name": "stdout",
          "text": [
            "Média: 2.25\n",
            "Mediana: 2\n",
            "Moda: 2\n",
            "Desvio Padrão: 1.13%\n",
            "Coeficiente de Variação: 50.20%\n"
          ]
        }
      ]
    },
    {
      "cell_type": "markdown",
      "source": [
        "## Região Sul"
      ],
      "metadata": {
        "id": "icw2I1QIR3T8"
      }
    },
    {
      "cell_type": "code",
      "source": [
        "len(df_sul)"
      ],
      "metadata": {
        "id": "-UZ20sJ2m54R",
        "colab": {
          "base_uri": "https://localhost:8080/"
        },
        "outputId": "96ac6c0c-f8c5-45f2-d0b5-119c22c2d509"
      },
      "execution_count": 435,
      "outputs": [
        {
          "output_type": "execute_result",
          "data": {
            "text/plain": [
              "15"
            ]
          },
          "metadata": {},
          "execution_count": 435
        }
      ]
    },
    {
      "cell_type": "markdown",
      "source": [
        "### *Casas*"
      ],
      "metadata": {
        "id": "wT37kZ1WVUOx"
      }
    },
    {
      "cell_type": "code",
      "source": [
        "len(df_casas_sul)"
      ],
      "metadata": {
        "id": "Ns43wDmdnFgR",
        "colab": {
          "base_uri": "https://localhost:8080/"
        },
        "outputId": "0d3d46e6-c8e3-46a9-9795-71c383a01c2b"
      },
      "execution_count": 436,
      "outputs": [
        {
          "output_type": "execute_result",
          "data": {
            "text/plain": [
              "10"
            ]
          },
          "metadata": {},
          "execution_count": 436
        }
      ]
    },
    {
      "cell_type": "code",
      "source": [
        "media_casas_sul = df_casas_sul[\"qtde_banheiros\"].mean()\n",
        "moda_casas_sul = df_casas_sul[\"qtde_banheiros\"].mode()\n",
        "mediana_casas_sul = df_casas_sul[\"qtde_banheiros\"].median()\n",
        "desvio_padrao_casas_sul = df_casas_sul[\"qtde_banheiros\"].std()\n",
        "coeficiente_de_variacao_casas_sul = desvio_padrao_casas_sul/media_casas\n",
        "coeficiente_porcentagem_casas_sul = coeficiente_de_variacao_casas_sul * 100"
      ],
      "metadata": {
        "id": "PR4hveIJnHie"
      },
      "execution_count": 437,
      "outputs": []
    },
    {
      "cell_type": "code",
      "source": [
        "print(f'Média: {media_casas_sul:.2f}')\n",
        "print(f'Mediana: {mediana_casas_sul:.0f}')\n",
        "print(f'Moda: {moda_casas_sul}')\n",
        "print(f'Desvio Padrão: {desvio_padrao_casas_sul:.2f}%')\n",
        "print(f'Coeficiente de Variação: {coeficiente_porcentagem_casas_sul:.2f}%')"
      ],
      "metadata": {
        "id": "gaB1eWfKnJe1",
        "colab": {
          "base_uri": "https://localhost:8080/"
        },
        "outputId": "ca2b76f0-4587-471d-b1ed-13e662d023b8"
      },
      "execution_count": 438,
      "outputs": [
        {
          "output_type": "stream",
          "name": "stdout",
          "text": [
            "Média: 2.60\n",
            "Mediana: 3\n",
            "Moda: 0    3\n",
            "dtype: int64\n",
            "Desvio Padrão: 1.35%\n",
            "Coeficiente de Variação: 45.44%\n"
          ]
        }
      ]
    },
    {
      "cell_type": "markdown",
      "source": [
        "### *Apartamentos*"
      ],
      "metadata": {
        "id": "887rao6RVVet"
      }
    },
    {
      "cell_type": "code",
      "source": [
        "\n",
        "len(df_apartamentos_sul)"
      ],
      "metadata": {
        "id": "C7ZRoii-njTM",
        "colab": {
          "base_uri": "https://localhost:8080/"
        },
        "outputId": "994f8372-9144-4169-8b37-d0d30587a2bd"
      },
      "execution_count": 439,
      "outputs": [
        {
          "output_type": "execute_result",
          "data": {
            "text/plain": [
              "5"
            ]
          },
          "metadata": {},
          "execution_count": 439
        }
      ]
    },
    {
      "cell_type": "code",
      "source": [
        "media_apartamentos_sul = df_apartamentos_sul[\"qtde_banheiros\"].mean()\n",
        "moda_apartamentos_sul = df_apartamentos_sul[\"qtde_banheiros\"].mode()\n",
        "mediana_apartamentos_sul = df_apartamentos_sul[\"qtde_banheiros\"].median()\n",
        "desvio_padrao_apartamentos_sul = df_apartamentos_sul[\"qtde_banheiros\"].std()\n",
        "coeficiente_de_variacao_apartamentos_sul = desvio_padrao_apartamentos_sul/media_apartamentos_sul\n",
        "coeficiente_porcentagem_apartamentos_sul = coeficiente_de_variacao_apartamentos_sul * 100"
      ],
      "metadata": {
        "id": "o6QQo9lRnr9u"
      },
      "execution_count": 440,
      "outputs": []
    },
    {
      "cell_type": "code",
      "source": [
        "print(f'Média: {media_apartamentos_sul:.2f}')\n",
        "print(f'Mediana: {mediana_apartamentos_sul:.0f}')\n",
        "print(f'Moda: {moda_apartamentos_sul}')\n",
        "print(f'Desvio Padrão: {desvio_padrao_apartamentos_sul:.2f}%')\n",
        "print(f'Coeficiente de Variação: {coeficiente_porcentagem_apartamentos_sul:.2f}%')"
      ],
      "metadata": {
        "id": "a6KG7jv2nt7w",
        "colab": {
          "base_uri": "https://localhost:8080/"
        },
        "outputId": "c60e3539-a772-4c85-dad6-fd441d1c776b"
      },
      "execution_count": 441,
      "outputs": [
        {
          "output_type": "stream",
          "name": "stdout",
          "text": [
            "Média: 2.00\n",
            "Mediana: 1\n",
            "Moda: 0    1\n",
            "dtype: int64\n",
            "Desvio Padrão: 1.73%\n",
            "Coeficiente de Variação: 86.60%\n"
          ]
        }
      ]
    },
    {
      "cell_type": "markdown",
      "source": [
        "### *Geral*"
      ],
      "metadata": {
        "id": "MnRUATGoVW6h"
      }
    },
    {
      "cell_type": "code",
      "source": [
        "media_sul = df_sul[\"qtde_banheiros\"].mean()\n",
        "moda_sul = int(df_sul[\"qtde_banheiros\"].mode())\n",
        "mediana_sul = df_sul[\"qtde_banheiros\"].median()\n",
        "desvio_padrao_sul = df_sul[\"qtde_banheiros\"].std()\n",
        "coeficiente_de_variacao_sul = desvio_padrao_sul/media_sul\n",
        "coeficiente_porcentagem_sul = coeficiente_de_variacao_sul * 100"
      ],
      "metadata": {
        "id": "gFxQMpt5osMB"
      },
      "execution_count": 442,
      "outputs": []
    },
    {
      "cell_type": "code",
      "source": [
        "print(f'Média: {media_sul:.2f}')\n",
        "print(f'Mediana: {mediana_sul:.0f}')\n",
        "print(f'Moda: {moda_sul}')\n",
        "print(f'Desvio Padrão: {desvio_padrao_sul:.2f}%')\n",
        "print(f'Coeficiente de Variação: {coeficiente_porcentagem_sul:.2f}%')"
      ],
      "metadata": {
        "id": "hdoQwDgFouMi",
        "colab": {
          "base_uri": "https://localhost:8080/"
        },
        "outputId": "4e2ff341-b651-4b3f-e94d-e14e7c856e50"
      },
      "execution_count": 443,
      "outputs": [
        {
          "output_type": "stream",
          "name": "stdout",
          "text": [
            "Média: 2.40\n",
            "Mediana: 2\n",
            "Moda: 1\n",
            "Desvio Padrão: 1.45%\n",
            "Coeficiente de Variação: 60.59%\n"
          ]
        }
      ]
    },
    {
      "cell_type": "markdown",
      "source": [
        "## Região Leste"
      ],
      "metadata": {
        "id": "V25lq9icR5MN"
      }
    },
    {
      "cell_type": "code",
      "source": [
        "len(df_leste)"
      ],
      "metadata": {
        "id": "Wg-mbi4zo_pE",
        "colab": {
          "base_uri": "https://localhost:8080/"
        },
        "outputId": "bdff58a8-0ac2-47f0-dd11-ead5cf1ccafb"
      },
      "execution_count": 444,
      "outputs": [
        {
          "output_type": "execute_result",
          "data": {
            "text/plain": [
              "10"
            ]
          },
          "metadata": {},
          "execution_count": 444
        }
      ]
    },
    {
      "cell_type": "markdown",
      "source": [
        "### *Casas*"
      ],
      "metadata": {
        "id": "3PnJc6LUVaP2"
      }
    },
    {
      "cell_type": "code",
      "source": [
        "\n",
        "len(df_casas_leste)"
      ],
      "metadata": {
        "id": "zmst6ku-pIRb",
        "colab": {
          "base_uri": "https://localhost:8080/"
        },
        "outputId": "64717e6e-7644-4d30-87d0-9db0f098be33"
      },
      "execution_count": 445,
      "outputs": [
        {
          "output_type": "execute_result",
          "data": {
            "text/plain": [
              "5"
            ]
          },
          "metadata": {},
          "execution_count": 445
        }
      ]
    },
    {
      "cell_type": "code",
      "source": [
        "media_casas_leste = df_casas_leste[\"qtde_banheiros\"].mean()\n",
        "moda_casas_leste = df_casas_leste[\"qtde_banheiros\"].mode()\n",
        "mediana_casas_leste = df_casas_leste[\"qtde_banheiros\"].median()\n",
        "desvio_padrao_casas_leste = df_casas_leste[\"qtde_banheiros\"].std()\n",
        "coeficiente_de_variacao_casas_leste = desvio_padrao_casas_leste/media_casas_leste\n",
        "coeficiente_porcentagem_casas_leste = coeficiente_de_variacao_casas_leste * 100"
      ],
      "metadata": {
        "id": "IFUR2-P6pKg9"
      },
      "execution_count": 446,
      "outputs": []
    },
    {
      "cell_type": "code",
      "source": [
        "print(f'Média: {media_casas_leste:.2f}')\n",
        "print(f'Mediana: {mediana_casas_leste:.0f}')\n",
        "print(f'Moda: {moda_casas_leste}')\n",
        "print(f'Desvio Padrão: {desvio_padrao_casas_leste:.2f}%')\n",
        "print(f'Coeficiente de Variação: {coeficiente_porcentagem_casas_leste:.2f}%')"
      ],
      "metadata": {
        "id": "zbS83QADpOuc",
        "colab": {
          "base_uri": "https://localhost:8080/"
        },
        "outputId": "dbb2eafa-4cd4-4c06-a941-a1a8d7d9b0e5"
      },
      "execution_count": 447,
      "outputs": [
        {
          "output_type": "stream",
          "name": "stdout",
          "text": [
            "Média: 3.00\n",
            "Mediana: 3\n",
            "Moda: 0    2\n",
            "1    4\n",
            "dtype: int64\n",
            "Desvio Padrão: 1.00%\n",
            "Coeficiente de Variação: 33.33%\n"
          ]
        }
      ]
    },
    {
      "cell_type": "markdown",
      "source": [
        "### *Apartamentos*"
      ],
      "metadata": {
        "id": "dUtZ5QjEVbOZ"
      }
    },
    {
      "cell_type": "code",
      "source": [
        "len(df_apartamentos_oeste)"
      ],
      "metadata": {
        "id": "CH2BrP0wpjRB",
        "colab": {
          "base_uri": "https://localhost:8080/"
        },
        "outputId": "bb1b0793-4d14-4205-f981-193a487f7835"
      },
      "execution_count": 448,
      "outputs": [
        {
          "output_type": "execute_result",
          "data": {
            "text/plain": [
              "50"
            ]
          },
          "metadata": {},
          "execution_count": 448
        }
      ]
    },
    {
      "cell_type": "code",
      "source": [
        "media_apartamentos_leste = df_apartamentos_leste[\"qtde_banheiros\"].mean()\n",
        "moda_apartamentos_leste = df_apartamentos_leste[\"qtde_banheiros\"].mode()\n",
        "mediana_apartamentos_leste = df_apartamentos_leste[\"qtde_banheiros\"].median()\n",
        "desvio_padrao_apartamentos_leste = df_apartamentos_leste[\"qtde_banheiros\"].std()\n",
        "coeficiente_de_variacao_apartamentos_leste = desvio_padrao_apartamentos_leste/media_apartamentos_leste\n",
        "coeficiente_porcentagem_apartamentos_leste = coeficiente_de_variacao_apartamentos_leste * 100"
      ],
      "metadata": {
        "id": "nxTW3_cmplWd"
      },
      "execution_count": 449,
      "outputs": []
    },
    {
      "cell_type": "code",
      "source": [
        "print(f'Média: {media_apartamentos_leste:.2f}')\n",
        "print(f'Mediana: {mediana_apartamentos_leste:.0f}')\n",
        "print(f'Moda: {moda_apartamentos_leste}')\n",
        "print(f'Desvio Padrão: {desvio_padrao_apartamentos_leste:.2f}%')\n",
        "print(f'Coeficiente de Variação: {coeficiente_porcentagem_apartamentos_leste:.2f}%')"
      ],
      "metadata": {
        "id": "sZOi1HzwpnMb",
        "colab": {
          "base_uri": "https://localhost:8080/"
        },
        "outputId": "0b1b71c0-c2b9-4bc7-bc9a-10cbc983e501"
      },
      "execution_count": 450,
      "outputs": [
        {
          "output_type": "stream",
          "name": "stdout",
          "text": [
            "Média: 1.60\n",
            "Mediana: 2\n",
            "Moda: 0    2\n",
            "dtype: int64\n",
            "Desvio Padrão: 0.55%\n",
            "Coeficiente de Variação: 34.23%\n"
          ]
        }
      ]
    },
    {
      "cell_type": "markdown",
      "source": [
        "### *Geral*"
      ],
      "metadata": {
        "id": "8ViC63u_Vc4Z"
      }
    },
    {
      "cell_type": "code",
      "source": [
        "media_leste = df_leste[\"qtde_banheiros\"].mean()\n",
        "moda_leste = int(df_leste[\"qtde_banheiros\"].mode())\n",
        "mediana_leste = df_leste[\"qtde_banheiros\"].median()\n",
        "desvio_padrao_leste = df_leste[\"qtde_banheiros\"].std()\n",
        "coeficiente_de_variacao_leste = desvio_padrao_leste/media_leste\n",
        "coeficiente_porcentagem_leste = coeficiente_de_variacao_leste * 100"
      ],
      "metadata": {
        "id": "szYLsBqcp_t9"
      },
      "execution_count": 451,
      "outputs": []
    },
    {
      "cell_type": "code",
      "source": [
        "print(f'Média: {media_leste:.2f}')\n",
        "print(f'Mediana: {mediana_leste:.0f}')\n",
        "print(f'Moda: {moda_leste}')\n",
        "print(f'Desvio Padrão: {desvio_padrao_leste:.2f}%')\n",
        "print(f'Coeficiente de Variação: {coeficiente_porcentagem_leste:.2f}%')"
      ],
      "metadata": {
        "id": "AuuMUnxQqBrR",
        "colab": {
          "base_uri": "https://localhost:8080/"
        },
        "outputId": "6540e4f2-c62b-4555-9449-b46242da6e41"
      },
      "execution_count": 452,
      "outputs": [
        {
          "output_type": "stream",
          "name": "stdout",
          "text": [
            "Média: 2.30\n",
            "Mediana: 2\n",
            "Moda: 2\n",
            "Desvio Padrão: 1.06%\n",
            "Coeficiente de Variação: 46.06%\n"
          ]
        }
      ]
    },
    {
      "cell_type": "markdown",
      "source": [
        "## Região Oeste"
      ],
      "metadata": {
        "id": "bXmthrXtR5kZ"
      }
    },
    {
      "cell_type": "code",
      "source": [
        "len(df_oeste)"
      ],
      "metadata": {
        "id": "ioISrrvrqdWw",
        "colab": {
          "base_uri": "https://localhost:8080/"
        },
        "outputId": "242e4408-cb3e-4bab-96b7-835850885f4d"
      },
      "execution_count": 453,
      "outputs": [
        {
          "output_type": "execute_result",
          "data": {
            "text/plain": [
              "128"
            ]
          },
          "metadata": {},
          "execution_count": 453
        }
      ]
    },
    {
      "cell_type": "markdown",
      "source": [
        "### *Geral*"
      ],
      "metadata": {
        "id": "1ajiUl43VhPf"
      }
    },
    {
      "cell_type": "code",
      "source": [
        "media_oeste = df_oeste[\"qtde_banheiros\"].mean()\n",
        "moda_oeste = int(df_oeste[\"qtde_banheiros\"].mode())\n",
        "mediana_oeste = df_oeste[\"qtde_banheiros\"].median()\n",
        "desvio_padrao_oeste = df_oeste[\"qtde_banheiros\"].std()\n",
        "coeficiente_de_variacao_oeste = desvio_padrao_oeste/media_oeste\n",
        "coeficiente_porcentagem_oeste = coeficiente_de_variacao_oeste * 100"
      ],
      "metadata": {
        "id": "DlR5Si6sraaR"
      },
      "execution_count": 454,
      "outputs": []
    },
    {
      "cell_type": "code",
      "source": [
        "print(f'Média: {media_oeste:.2f}')\n",
        "print(f'Mediana: {mediana_oeste:.0f}')\n",
        "print(f'Moda: {moda_oeste}')\n",
        "print(f'Desvio Padrão: {desvio_padrao_oeste:.2f}%')\n",
        "print(f'Coeficiente de Variação: {coeficiente_porcentagem_oeste:.2f}%')"
      ],
      "metadata": {
        "id": "z8RNcIOOrcRd",
        "colab": {
          "base_uri": "https://localhost:8080/"
        },
        "outputId": "885f9d1e-b4d8-4bec-a550-19ff74d8b61c"
      },
      "execution_count": 455,
      "outputs": [
        {
          "output_type": "stream",
          "name": "stdout",
          "text": [
            "Média: 3.09\n",
            "Mediana: 3\n",
            "Moda: 5\n",
            "Desvio Padrão: 1.53%\n",
            "Coeficiente de Variação: 49.48%\n"
          ]
        }
      ]
    },
    {
      "cell_type": "markdown",
      "source": [
        "### *Casas*"
      ],
      "metadata": {
        "id": "WJWRTKQiVe56"
      }
    },
    {
      "cell_type": "code",
      "source": [
        "len(df_casas_oeste)"
      ],
      "metadata": {
        "id": "0VFIcx0uqpe1",
        "colab": {
          "base_uri": "https://localhost:8080/"
        },
        "outputId": "30611fbc-ee6d-4fb2-de2b-268ae5f1021c"
      },
      "execution_count": 456,
      "outputs": [
        {
          "output_type": "execute_result",
          "data": {
            "text/plain": [
              "78"
            ]
          },
          "metadata": {},
          "execution_count": 456
        }
      ]
    },
    {
      "cell_type": "code",
      "source": [
        "media_casas_oeste = df_casas_oeste[\"qtde_banheiros\"].mean()\n",
        "moda_casas_oeste = df_casas_oeste[\"qtde_banheiros\"].mode()\n",
        "mediana_casas_oeste = df_casas_oeste[\"qtde_banheiros\"].median()\n",
        "desvio_padrao_casas_oeste = df_casas_oeste[\"qtde_banheiros\"].std()\n",
        "coeficiente_de_variacao_casas_oeste = desvio_padrao_casas_oeste/media_casas_oeste\n",
        "coeficiente_porcentagem_casas_oeste = coeficiente_de_variacao_casas_oeste * 100"
      ],
      "metadata": {
        "id": "sn75mtF0qrZG"
      },
      "execution_count": 457,
      "outputs": []
    },
    {
      "cell_type": "code",
      "source": [
        "print(f'Média: {media_casas_oeste:.2f}')\n",
        "print(f'Mediana: {mediana_casas_oeste:.0f}')\n",
        "print(f'Moda: {moda_casas_oeste}')\n",
        "print(f'Desvio Padrão: {desvio_padrao_casas_oeste:.2f}%')\n",
        "print(f'Coeficiente de Variação: {coeficiente_porcentagem_casas_oeste:.2f}%')"
      ],
      "metadata": {
        "id": "nWSoZsiiqtYg",
        "colab": {
          "base_uri": "https://localhost:8080/"
        },
        "outputId": "973d6e6d-6a0f-4736-988c-d6fb4630d74c"
      },
      "execution_count": 458,
      "outputs": [
        {
          "output_type": "stream",
          "name": "stdout",
          "text": [
            "Média: 3.62\n",
            "Mediana: 4\n",
            "Moda: 0    5\n",
            "dtype: int64\n",
            "Desvio Padrão: 1.43%\n",
            "Coeficiente de Variação: 39.68%\n"
          ]
        }
      ]
    },
    {
      "cell_type": "markdown",
      "source": [
        "### *Apartamentos*"
      ],
      "metadata": {
        "id": "-Nrddie_Vf8z"
      }
    },
    {
      "cell_type": "code",
      "source": [
        "len(df_apartamentos_oeste)"
      ],
      "metadata": {
        "id": "-qzKWRoPrDP_",
        "colab": {
          "base_uri": "https://localhost:8080/"
        },
        "outputId": "0df4b63e-adf7-47c7-f82f-480d0d1886c4"
      },
      "execution_count": 459,
      "outputs": [
        {
          "output_type": "execute_result",
          "data": {
            "text/plain": [
              "50"
            ]
          },
          "metadata": {},
          "execution_count": 459
        }
      ]
    },
    {
      "cell_type": "code",
      "source": [
        "media_apartamentos_oeste = df_apartamentos_oeste[\"qtde_banheiros\"].mean()\n",
        "moda_apartamentos_oeste = df_apartamentos_oeste[\"qtde_banheiros\"].mode()\n",
        "mediana_apartamentos_oeste = df_apartamentos_oeste[\"qtde_banheiros\"].median()\n",
        "desvio_padrao_apartamentos_oeste = df_apartamentos_oeste[\"qtde_banheiros\"].std()\n",
        "coeficiente_de_variacao_apartamentos_oeste = desvio_padrao_apartamentos_oeste/media_apartamentos_oeste\n",
        "coeficiente_porcentagem_apartamentos_oeste = coeficiente_de_variacao_apartamentos_oeste * 100"
      ],
      "metadata": {
        "id": "J6GK4XdSrFzB"
      },
      "execution_count": 460,
      "outputs": []
    },
    {
      "cell_type": "code",
      "source": [
        "print(f'Média: {media_apartamentos_oeste:.2f}')\n",
        "print(f'Mediana: {mediana_apartamentos_oeste:.0f}')\n",
        "print(f'Moda: {moda_apartamentos_oeste}')\n",
        "print(f'Desvio Padrão: {desvio_padrao_apartamentos_oeste:.2f}%')\n",
        "print(f'Coeficiente de Variação: {coeficiente_porcentagem_apartamentos_oeste:.2f}%')"
      ],
      "metadata": {
        "id": "UrJk3fzjrHuS",
        "colab": {
          "base_uri": "https://localhost:8080/"
        },
        "outputId": "fd9e8129-20a4-4e5e-d218-a2ef351f9025"
      },
      "execution_count": 461,
      "outputs": [
        {
          "output_type": "stream",
          "name": "stdout",
          "text": [
            "Média: 2.26\n",
            "Mediana: 2\n",
            "Moda: 0    1\n",
            "dtype: int64\n",
            "Desvio Padrão: 1.29%\n",
            "Coeficiente de Variação: 57.11%\n"
          ]
        }
      ]
    },
    {
      "cell_type": "markdown",
      "source": [
        "## Região Centro Oeste"
      ],
      "metadata": {
        "id": "Bit832NQR53R"
      }
    },
    {
      "cell_type": "code",
      "source": [
        "len(df_co)"
      ],
      "metadata": {
        "id": "PRKU2_ybr4Cj",
        "colab": {
          "base_uri": "https://localhost:8080/"
        },
        "outputId": "10a1b2cb-0d15-4bf8-c849-d912b0b4200a"
      },
      "execution_count": 462,
      "outputs": [
        {
          "output_type": "execute_result",
          "data": {
            "text/plain": [
              "42"
            ]
          },
          "metadata": {},
          "execution_count": 462
        }
      ]
    },
    {
      "cell_type": "markdown",
      "source": [
        "### *Casas*"
      ],
      "metadata": {
        "id": "D_VWmNuUVjjF"
      }
    },
    {
      "cell_type": "code",
      "source": [
        "len(df_casas_co)"
      ],
      "metadata": {
        "id": "MvWDeKUUsAoz",
        "colab": {
          "base_uri": "https://localhost:8080/"
        },
        "outputId": "3a534380-3de5-458f-8f29-a10d7b5f1040"
      },
      "execution_count": 463,
      "outputs": [
        {
          "output_type": "execute_result",
          "data": {
            "text/plain": [
              "24"
            ]
          },
          "metadata": {},
          "execution_count": 463
        }
      ]
    },
    {
      "cell_type": "code",
      "source": [
        "media_casas_co = df_casas_co[\"qtde_banheiros\"].mean()\n",
        "moda_casas_co = df_casas_co[\"qtde_banheiros\"].mode()\n",
        "mediana_casas_co = df_casas_co[\"qtde_banheiros\"].median()\n",
        "desvio_padrao_casas_co = df_casas_co[\"qtde_banheiros\"].std()\n",
        "coeficiente_de_variacao_casas_co = desvio_padrao_casas_co/media_casas_co\n",
        "coeficiente_porcentagem_casas_co = coeficiente_de_variacao_casas_co * 100"
      ],
      "metadata": {
        "id": "o_P5dr0_sCdw"
      },
      "execution_count": 464,
      "outputs": []
    },
    {
      "cell_type": "code",
      "source": [
        "print(f'Média: {media_casas_co:.2f}')\n",
        "print(f'Mediana: {mediana_casas_co:.0f}')\n",
        "print(f'Moda: {moda_casas_co}')\n",
        "print(f'Desvio Padrão: {desvio_padrao_casas_co:.2f}%')\n",
        "print(f'Coeficiente de Variação: {coeficiente_porcentagem_casas_co:.2f}%')"
      ],
      "metadata": {
        "id": "_1AAYroasElX",
        "colab": {
          "base_uri": "https://localhost:8080/"
        },
        "outputId": "a04499ce-a2fc-4024-fe85-a2f9ff7b85af"
      },
      "execution_count": 465,
      "outputs": [
        {
          "output_type": "stream",
          "name": "stdout",
          "text": [
            "Média: 2.54\n",
            "Mediana: 2\n",
            "Moda: 0    2\n",
            "dtype: int64\n",
            "Desvio Padrão: 1.22%\n",
            "Coeficiente de Variação: 47.81%\n"
          ]
        }
      ]
    },
    {
      "cell_type": "markdown",
      "source": [
        "### *Apartamentos*"
      ],
      "metadata": {
        "id": "lD9gFhrKVkwj"
      }
    },
    {
      "cell_type": "code",
      "source": [
        "len(df_apartamentos_co)"
      ],
      "metadata": {
        "id": "XYFCpoH3sXm8",
        "colab": {
          "base_uri": "https://localhost:8080/"
        },
        "outputId": "7674b353-36a1-4c4a-ff9b-8f6c9643894e"
      },
      "execution_count": 466,
      "outputs": [
        {
          "output_type": "execute_result",
          "data": {
            "text/plain": [
              "18"
            ]
          },
          "metadata": {},
          "execution_count": 466
        }
      ]
    },
    {
      "cell_type": "code",
      "source": [
        "media_apartamentos_co = df_apartamentos_co[\"qtde_banheiros\"].mean()\n",
        "moda_apartamentos_co = df_apartamentos_co[\"qtde_banheiros\"].mode()\n",
        "mediana_apartamentos_co = df_apartamentos_co[\"qtde_banheiros\"].median()\n",
        "desvio_padrao_apartamentos_co = df_apartamentos_co[\"qtde_banheiros\"].std()\n",
        "coeficiente_de_variacao_apartamentos_co = desvio_padrao_apartamentos_co/media_apartamentos_co\n",
        "coeficiente_porcentagem_apartamentos_co = coeficiente_de_variacao_apartamentos_co * 100"
      ],
      "metadata": {
        "id": "yKk2Iy7usZgg"
      },
      "execution_count": 467,
      "outputs": []
    },
    {
      "cell_type": "code",
      "source": [
        "print(f'Média: {media_apartamentos_co:.2f}')\n",
        "print(f'Mediana: {mediana_apartamentos_co:.0f}')\n",
        "print(f'Moda: {moda_apartamentos_co}')\n",
        "print(f'Desvio Padrão: {desvio_padrao_apartamentos_co:.2f}%')\n",
        "print(f'Coeficiente de Variação: {coeficiente_porcentagem_apartamentos_co:.2f}%')"
      ],
      "metadata": {
        "id": "sn1csSiEsb6m",
        "colab": {
          "base_uri": "https://localhost:8080/"
        },
        "outputId": "f3e4f18d-2ece-444e-f047-ea3c0ab2adc3"
      },
      "execution_count": 468,
      "outputs": [
        {
          "output_type": "stream",
          "name": "stdout",
          "text": [
            "Média: 1.94\n",
            "Mediana: 2\n",
            "Moda: 0    2\n",
            "dtype: int64\n",
            "Desvio Padrão: 0.87%\n",
            "Coeficiente de Variação: 44.88%\n"
          ]
        }
      ]
    },
    {
      "cell_type": "markdown",
      "source": [
        "### *Geral*"
      ],
      "metadata": {
        "id": "oV-N1WqmVmJS"
      }
    },
    {
      "cell_type": "code",
      "source": [
        "media_co = df_co[\"qtde_banheiros\"].mean()\n",
        "moda_co = int(df_co[\"qtde_banheiros\"].mode())\n",
        "mediana_co = df_co[\"qtde_banheiros\"].median()\n",
        "desvio_padrao_co = df_co[\"qtde_banheiros\"].std()\n",
        "coeficiente_de_variacao_co = desvio_padrao_co/media_co\n",
        "coeficiente_porcentagem_co = coeficiente_de_variacao_co * 100"
      ],
      "metadata": {
        "id": "0IxWUxWCs2xN"
      },
      "execution_count": 469,
      "outputs": []
    },
    {
      "cell_type": "code",
      "source": [
        "print(f'Média: {media_co:.2f}')\n",
        "print(f'Mediana: {mediana_co:.0f}')\n",
        "print(f'Moda: {moda_co}')\n",
        "print(f'Desvio Padrão: {desvio_padrao_co:.2f}%')\n",
        "print(f'Coeficiente de Variação: {coeficiente_porcentagem_co:.2f}%')"
      ],
      "metadata": {
        "id": "fpmKoSHDs4zm",
        "colab": {
          "base_uri": "https://localhost:8080/"
        },
        "outputId": "178e1e2c-7537-4b1f-e941-60e3a24cc4c0"
      },
      "execution_count": 470,
      "outputs": [
        {
          "output_type": "stream",
          "name": "stdout",
          "text": [
            "Média: 2.29\n",
            "Mediana: 2\n",
            "Moda: 2\n",
            "Desvio Padrão: 1.11%\n",
            "Coeficiente de Variação: 48.59%\n"
          ]
        }
      ]
    },
    {
      "cell_type": "markdown",
      "source": [
        "## Região Centro-Sul"
      ],
      "metadata": {
        "id": "IHY7Gz-kR6Hj"
      }
    },
    {
      "cell_type": "code",
      "source": [
        "len(df_cs)"
      ],
      "metadata": {
        "id": "4ggX2tHDtFds",
        "colab": {
          "base_uri": "https://localhost:8080/"
        },
        "outputId": "7eac288e-354d-4e46-99b7-2aae01d0f6fe"
      },
      "execution_count": 471,
      "outputs": [
        {
          "output_type": "execute_result",
          "data": {
            "text/plain": [
              "122"
            ]
          },
          "metadata": {},
          "execution_count": 471
        }
      ]
    },
    {
      "cell_type": "markdown",
      "source": [
        "### *Casas*"
      ],
      "metadata": {
        "id": "ajzZQGEXVnXR"
      }
    },
    {
      "cell_type": "code",
      "source": [
        "len(df_casas_cs)"
      ],
      "metadata": {
        "id": "sZrBxwuKtL2M",
        "colab": {
          "base_uri": "https://localhost:8080/"
        },
        "outputId": "482f0230-9ce6-40f9-f25b-00cd6c87c2cf"
      },
      "execution_count": 472,
      "outputs": [
        {
          "output_type": "execute_result",
          "data": {
            "text/plain": [
              "58"
            ]
          },
          "metadata": {},
          "execution_count": 472
        }
      ]
    },
    {
      "cell_type": "code",
      "source": [
        "media_casas_cs = df_casas_cs[\"qtde_banheiros\"].mean()\n",
        "moda_casas_cs = df_casas_cs[\"qtde_banheiros\"].mode()\n",
        "mediana_casas_cs = df_casas_cs[\"qtde_banheiros\"].median()\n",
        "desvio_padrao_casas_cs = df_casas_cs[\"qtde_banheiros\"].std()\n",
        "coeficiente_de_variacao_casas_cs = desvio_padrao_casas_cs/media_casas_cs\n",
        "coeficiente_porcentagem_casas_cs = coeficiente_de_variacao_casas_cs * 100"
      ],
      "metadata": {
        "id": "RX4w1tzntNkr"
      },
      "execution_count": 473,
      "outputs": []
    },
    {
      "cell_type": "code",
      "source": [
        "print(f'Média: {media_casas_cs:.2f}')\n",
        "print(f'Mediana: {mediana_casas_cs:.0f}')\n",
        "print(f'Moda: {moda_casas_cs}')\n",
        "print(f'Desvio Padrão: {desvio_padrao_casas_cs:.2f}%')\n",
        "print(f'Coeficiente de Variação: {coeficiente_porcentagem_casas_cs:.2f}%')"
      ],
      "metadata": {
        "id": "OOaJ31d8tPY8",
        "colab": {
          "base_uri": "https://localhost:8080/"
        },
        "outputId": "ac2d0a9c-abc6-489e-966f-95062a272a53"
      },
      "execution_count": 474,
      "outputs": [
        {
          "output_type": "stream",
          "name": "stdout",
          "text": [
            "Média: 2.97\n",
            "Mediana: 2\n",
            "Moda: 0    2\n",
            "dtype: int64\n",
            "Desvio Padrão: 1.54%\n",
            "Coeficiente de Variação: 52.07%\n"
          ]
        }
      ]
    },
    {
      "cell_type": "markdown",
      "source": [
        "### *Apartamentos*"
      ],
      "metadata": {
        "id": "usFh9UPmVouY"
      }
    },
    {
      "cell_type": "code",
      "source": [
        "len(df_apartamentos_cs)"
      ],
      "metadata": {
        "id": "T8VFrhHoteqw",
        "colab": {
          "base_uri": "https://localhost:8080/"
        },
        "outputId": "1043e61e-4d87-4167-93c9-228bb8c411bf"
      },
      "execution_count": 475,
      "outputs": [
        {
          "output_type": "execute_result",
          "data": {
            "text/plain": [
              "64"
            ]
          },
          "metadata": {},
          "execution_count": 475
        }
      ]
    },
    {
      "cell_type": "code",
      "source": [
        "media_apartamentos_cs = df_apartamentos_cs[\"qtde_banheiros\"].mean()\n",
        "moda_apartamentos_cs = df_apartamentos_cs[\"qtde_banheiros\"].mode()\n",
        "mediana_apartamentos_cs = df_apartamentos_cs[\"qtde_banheiros\"].median()\n",
        "desvio_padrao_apartamentos_cs = df_apartamentos_cs[\"qtde_banheiros\"].std()\n",
        "coeficiente_de_variacao_apartamentos_cs = desvio_padrao_apartamentos_cs/media_apartamentos_cs\n",
        "coeficiente_porcentagem_apartamentos_cs = coeficiente_de_variacao_apartamentos_cs * 100"
      ],
      "metadata": {
        "id": "xw7fxG_ctgw5"
      },
      "execution_count": 476,
      "outputs": []
    },
    {
      "cell_type": "code",
      "source": [
        "print(f'Média: {media_apartamentos_cs:.2f}')\n",
        "print(f'Mediana: {mediana_apartamentos_cs:.0f}')\n",
        "print(f'Moda: {moda_apartamentos_cs}')\n",
        "print(f'Desvio Padrão: {desvio_padrao_apartamentos_cs:.2f}%')\n",
        "print(f'Coeficiente de Variação: {coeficiente_porcentagem_apartamentos_cs:.2f}%')"
      ],
      "metadata": {
        "id": "zdvmEzV0tjf-",
        "colab": {
          "base_uri": "https://localhost:8080/"
        },
        "outputId": "cb5c0cfe-8692-4b5a-ad1d-27363130026d"
      },
      "execution_count": 477,
      "outputs": [
        {
          "output_type": "stream",
          "name": "stdout",
          "text": [
            "Média: 2.95\n",
            "Mediana: 3\n",
            "Moda: 0    2\n",
            "dtype: int64\n",
            "Desvio Padrão: 1.30%\n",
            "Coeficiente de Variação: 44.10%\n"
          ]
        }
      ]
    },
    {
      "cell_type": "markdown",
      "source": [
        "### *Geral*"
      ],
      "metadata": {
        "id": "yS24azWUVqAb"
      }
    },
    {
      "cell_type": "code",
      "source": [
        "media_cs = df_cs[\"qtde_banheiros\"].mean()\n",
        "moda_cs = int(df_cs[\"qtde_banheiros\"].mode())\n",
        "mediana_cs = df_cs[\"qtde_banheiros\"].median()\n",
        "desvio_padrao_cs = df_cs[\"qtde_banheiros\"].std()\n",
        "coeficiente_de_variacao_cs = desvio_padrao_cs/media_cs\n",
        "coeficiente_porcentagem_cs = coeficiente_de_variacao_cs * 100"
      ],
      "metadata": {
        "id": "0S0E4X6ktylj"
      },
      "execution_count": 478,
      "outputs": []
    },
    {
      "cell_type": "code",
      "source": [
        "print(f'Média: {media_cs:.2f}')\n",
        "print(f'Mediana: {mediana_cs:.0f}')\n",
        "print(f'Moda: {moda_cs}')\n",
        "print(f'Desvio Padrão: {desvio_padrao_cs:.2f}%')\n",
        "print(f'Coeficiente de Variação: {coeficiente_porcentagem_cs:.2f}%')"
      ],
      "metadata": {
        "id": "-fITQvISt2kf",
        "colab": {
          "base_uri": "https://localhost:8080/"
        },
        "outputId": "7f6f0388-ab68-40b1-9525-cb49c63e7ad8"
      },
      "execution_count": 479,
      "outputs": [
        {
          "output_type": "stream",
          "name": "stdout",
          "text": [
            "Média: 2.96\n",
            "Mediana: 3\n",
            "Moda: 2\n",
            "Desvio Padrão: 1.42%\n",
            "Coeficiente de Variação: 47.87%\n"
          ]
        }
      ]
    },
    {
      "cell_type": "markdown",
      "source": [
        "# → ***Resultados: Quantidade de Banheiros (Quantitativa)***\n",
        "\n",
        "---\n",
        "\n"
      ],
      "metadata": {
        "id": "KHInlhKNv4e3"
      }
    },
    {
      "cell_type": "markdown",
      "source": [
        "## Dados Gerais"
      ],
      "metadata": {
        "id": "vml158vr-D2s"
      }
    },
    {
      "cell_type": "code",
      "source": [
        "df_resultados = pd.DataFrame([\n",
        "    (len(df_norte), f'{media_norte:.2f}', mediana_norte, moda_norte, f'{desvio_padrao_norte:.2f}', f'{coeficiente_porcentagem_norte:.2f}%'),\n",
        "    (len(df_sul), f'{media_sul:.2f}', mediana_sul, moda_sul, f'{desvio_padrao_sul:.2f}', f'{coeficiente_porcentagem_sul:.2f}%'),\n",
        "    (len(df_leste), f'{media_leste:.2f}', mediana_leste, moda_leste, f'{desvio_padrao_leste:.2f}', f'{coeficiente_porcentagem_leste:.2f}%'),\n",
        "    (len(df_oeste), f'{media_oeste:.2f}', mediana_oeste, moda_oeste, f'{desvio_padrao_oeste:.2f}', f'{coeficiente_porcentagem_oeste:.2f}%'),\n",
        "    (len(df_co), f'{media_co:.2f}', mediana_co, moda_co, f'{desvio_padrao_co:.2f}', f'{coeficiente_porcentagem_co:.2f}%'),\n",
        "    (len(df_cs), f'{media_cs:.2f}', mediana_cs, moda_cs, f'{desvio_padrao_cs:.2f}', f'{coeficiente_porcentagem_cs:.2f}%')],\n",
        "    index=('Zona Norte', 'Zona Sul', 'Zona Leste', 'Zona Oeste', 'Zona Centro Oeste', 'Zona Centro-Sul'),\n",
        "    columns=('Total Imóveis', 'Média', 'Mediana', 'Moda', 'Desvio Padrão', 'Coeficiente de Variação'))\n",
        "\n",
        "df_resultados"
      ],
      "metadata": {
        "id": "Edpc2csK1Ksx",
        "colab": {
          "base_uri": "https://localhost:8080/",
          "height": 0
        },
        "outputId": "21b9ada7-b2b8-47d2-f156-edcc7fa75464"
      },
      "execution_count": 480,
      "outputs": [
        {
          "output_type": "execute_result",
          "data": {
            "text/plain": [
              "                   Total Imóveis Média  Mediana  Moda Desvio Padrão  \\\n",
              "Zona Norte                    73  2.25      2.0     2          1.13   \n",
              "Zona Sul                      15  2.40      2.0     1          1.45   \n",
              "Zona Leste                    10  2.30      2.0     2          1.06   \n",
              "Zona Oeste                   128  3.09      3.0     5          1.53   \n",
              "Zona Centro Oeste             42  2.29      2.0     2          1.11   \n",
              "Zona Centro-Sul              122  2.96      3.0     2          1.42   \n",
              "\n",
              "                  Coeficiente de Variação  \n",
              "Zona Norte                         50.20%  \n",
              "Zona Sul                           60.59%  \n",
              "Zona Leste                         46.06%  \n",
              "Zona Oeste                         49.48%  \n",
              "Zona Centro Oeste                  48.59%  \n",
              "Zona Centro-Sul                    47.87%  "
            ],
            "text/html": [
              "\n",
              "  <div id=\"df-b102309b-4c0e-495a-8fd9-d8ac5dd30cd0\">\n",
              "    <div class=\"colab-df-container\">\n",
              "      <div>\n",
              "<style scoped>\n",
              "    .dataframe tbody tr th:only-of-type {\n",
              "        vertical-align: middle;\n",
              "    }\n",
              "\n",
              "    .dataframe tbody tr th {\n",
              "        vertical-align: top;\n",
              "    }\n",
              "\n",
              "    .dataframe thead th {\n",
              "        text-align: right;\n",
              "    }\n",
              "</style>\n",
              "<table border=\"1\" class=\"dataframe\">\n",
              "  <thead>\n",
              "    <tr style=\"text-align: right;\">\n",
              "      <th></th>\n",
              "      <th>Total Imóveis</th>\n",
              "      <th>Média</th>\n",
              "      <th>Mediana</th>\n",
              "      <th>Moda</th>\n",
              "      <th>Desvio Padrão</th>\n",
              "      <th>Coeficiente de Variação</th>\n",
              "    </tr>\n",
              "  </thead>\n",
              "  <tbody>\n",
              "    <tr>\n",
              "      <th>Zona Norte</th>\n",
              "      <td>73</td>\n",
              "      <td>2.25</td>\n",
              "      <td>2.0</td>\n",
              "      <td>2</td>\n",
              "      <td>1.13</td>\n",
              "      <td>50.20%</td>\n",
              "    </tr>\n",
              "    <tr>\n",
              "      <th>Zona Sul</th>\n",
              "      <td>15</td>\n",
              "      <td>2.40</td>\n",
              "      <td>2.0</td>\n",
              "      <td>1</td>\n",
              "      <td>1.45</td>\n",
              "      <td>60.59%</td>\n",
              "    </tr>\n",
              "    <tr>\n",
              "      <th>Zona Leste</th>\n",
              "      <td>10</td>\n",
              "      <td>2.30</td>\n",
              "      <td>2.0</td>\n",
              "      <td>2</td>\n",
              "      <td>1.06</td>\n",
              "      <td>46.06%</td>\n",
              "    </tr>\n",
              "    <tr>\n",
              "      <th>Zona Oeste</th>\n",
              "      <td>128</td>\n",
              "      <td>3.09</td>\n",
              "      <td>3.0</td>\n",
              "      <td>5</td>\n",
              "      <td>1.53</td>\n",
              "      <td>49.48%</td>\n",
              "    </tr>\n",
              "    <tr>\n",
              "      <th>Zona Centro Oeste</th>\n",
              "      <td>42</td>\n",
              "      <td>2.29</td>\n",
              "      <td>2.0</td>\n",
              "      <td>2</td>\n",
              "      <td>1.11</td>\n",
              "      <td>48.59%</td>\n",
              "    </tr>\n",
              "    <tr>\n",
              "      <th>Zona Centro-Sul</th>\n",
              "      <td>122</td>\n",
              "      <td>2.96</td>\n",
              "      <td>3.0</td>\n",
              "      <td>2</td>\n",
              "      <td>1.42</td>\n",
              "      <td>47.87%</td>\n",
              "    </tr>\n",
              "  </tbody>\n",
              "</table>\n",
              "</div>\n",
              "      <button class=\"colab-df-convert\" onclick=\"convertToInteractive('df-b102309b-4c0e-495a-8fd9-d8ac5dd30cd0')\"\n",
              "              title=\"Convert this dataframe to an interactive table.\"\n",
              "              style=\"display:none;\">\n",
              "        \n",
              "  <svg xmlns=\"http://www.w3.org/2000/svg\" height=\"24px\"viewBox=\"0 0 24 24\"\n",
              "       width=\"24px\">\n",
              "    <path d=\"M0 0h24v24H0V0z\" fill=\"none\"/>\n",
              "    <path d=\"M18.56 5.44l.94 2.06.94-2.06 2.06-.94-2.06-.94-.94-2.06-.94 2.06-2.06.94zm-11 1L8.5 8.5l.94-2.06 2.06-.94-2.06-.94L8.5 2.5l-.94 2.06-2.06.94zm10 10l.94 2.06.94-2.06 2.06-.94-2.06-.94-.94-2.06-.94 2.06-2.06.94z\"/><path d=\"M17.41 7.96l-1.37-1.37c-.4-.4-.92-.59-1.43-.59-.52 0-1.04.2-1.43.59L10.3 9.45l-7.72 7.72c-.78.78-.78 2.05 0 2.83L4 21.41c.39.39.9.59 1.41.59.51 0 1.02-.2 1.41-.59l7.78-7.78 2.81-2.81c.8-.78.8-2.07 0-2.86zM5.41 20L4 18.59l7.72-7.72 1.47 1.35L5.41 20z\"/>\n",
              "  </svg>\n",
              "      </button>\n",
              "      \n",
              "  <style>\n",
              "    .colab-df-container {\n",
              "      display:flex;\n",
              "      flex-wrap:wrap;\n",
              "      gap: 12px;\n",
              "    }\n",
              "\n",
              "    .colab-df-convert {\n",
              "      background-color: #E8F0FE;\n",
              "      border: none;\n",
              "      border-radius: 50%;\n",
              "      cursor: pointer;\n",
              "      display: none;\n",
              "      fill: #1967D2;\n",
              "      height: 32px;\n",
              "      padding: 0 0 0 0;\n",
              "      width: 32px;\n",
              "    }\n",
              "\n",
              "    .colab-df-convert:hover {\n",
              "      background-color: #E2EBFA;\n",
              "      box-shadow: 0px 1px 2px rgba(60, 64, 67, 0.3), 0px 1px 3px 1px rgba(60, 64, 67, 0.15);\n",
              "      fill: #174EA6;\n",
              "    }\n",
              "\n",
              "    [theme=dark] .colab-df-convert {\n",
              "      background-color: #3B4455;\n",
              "      fill: #D2E3FC;\n",
              "    }\n",
              "\n",
              "    [theme=dark] .colab-df-convert:hover {\n",
              "      background-color: #434B5C;\n",
              "      box-shadow: 0px 1px 3px 1px rgba(0, 0, 0, 0.15);\n",
              "      filter: drop-shadow(0px 1px 2px rgba(0, 0, 0, 0.3));\n",
              "      fill: #FFFFFF;\n",
              "    }\n",
              "  </style>\n",
              "\n",
              "      <script>\n",
              "        const buttonEl =\n",
              "          document.querySelector('#df-b102309b-4c0e-495a-8fd9-d8ac5dd30cd0 button.colab-df-convert');\n",
              "        buttonEl.style.display =\n",
              "          google.colab.kernel.accessAllowed ? 'block' : 'none';\n",
              "\n",
              "        async function convertToInteractive(key) {\n",
              "          const element = document.querySelector('#df-b102309b-4c0e-495a-8fd9-d8ac5dd30cd0');\n",
              "          const dataTable =\n",
              "            await google.colab.kernel.invokeFunction('convertToInteractive',\n",
              "                                                     [key], {});\n",
              "          if (!dataTable) return;\n",
              "\n",
              "          const docLinkHtml = 'Like what you see? Visit the ' +\n",
              "            '<a target=\"_blank\" href=https://colab.research.google.com/notebooks/data_table.ipynb>data table notebook</a>'\n",
              "            + ' to learn more about interactive tables.';\n",
              "          element.innerHTML = '';\n",
              "          dataTable['output_type'] = 'display_data';\n",
              "          await google.colab.output.renderOutput(dataTable, element);\n",
              "          const docLink = document.createElement('div');\n",
              "          docLink.innerHTML = docLinkHtml;\n",
              "          element.appendChild(docLink);\n",
              "        }\n",
              "      </script>\n",
              "    </div>\n",
              "  </div>\n",
              "  "
            ]
          },
          "metadata": {},
          "execution_count": 480
        }
      ]
    },
    {
      "cell_type": "markdown",
      "source": [
        "## Casas"
      ],
      "metadata": {
        "id": "qRAOgxhA-Hl-"
      }
    },
    {
      "cell_type": "code",
      "source": [
        "df_resultados_casas = pd.DataFrame([\n",
        "    (len(df_casas_norte), f'{media_casas_norte:.2f}', mediana_casas_norte, list(moda_casas_norte), f'{desvio_padrao_casas_norte:.2f}', f'{coeficiente_porcentagem_casas_norte:.2f}%'),\n",
        "    (len(df_casas_sul), f'{media_casas_sul:.2f}', mediana_casas_sul, list(moda_casas_sul), f'{desvio_padrao_casas_sul:.2f}', f'{coeficiente_porcentagem_casas_sul:.2f}%'),\n",
        "    (len(df_casas_leste), f'{media_casas_leste:.2f}', mediana_casas_leste, list(moda_casas_leste), f'{desvio_padrao_casas_leste:.2f}', f'{coeficiente_porcentagem_casas_leste:.2f}%'),\n",
        "    (len(df_casas_oeste), f'{media_casas_oeste:.2f}', mediana_casas_oeste, list(moda_casas_oeste), f'{desvio_padrao_casas_oeste:.2f}', f'{coeficiente_porcentagem_casas_oeste:.2f}%'),\n",
        "    (len(df_casas_co), f'{media_casas_co:.2f}', mediana_casas_co, list(moda_casas_co), f'{desvio_padrao_casas_co:.2f}', f'{coeficiente_porcentagem_casas_co:.2f}%'),\n",
        "    (len(df_casas_cs), f'{media_casas_cs:.2f}', mediana_casas_cs, list(moda_casas_cs), f'{desvio_padrao_casas_cs:.2f}', f'{coeficiente_porcentagem_casas_cs:.2f}%')],\n",
        "    index=('Zona Norte', 'Zona Sul', 'Zona Leste', 'Zona Oeste', 'Zona Centro Oeste', 'Zona Centro-Sul'),\n",
        "    columns=('Total Imóveis', 'Média', 'Mediana', 'Moda', 'Desvio Padrão', 'Coeficiente de Variação'))\n",
        "\n",
        "df_resultados_casas"
      ],
      "metadata": {
        "id": "pj-teKDSAURz",
        "colab": {
          "base_uri": "https://localhost:8080/",
          "height": 0
        },
        "outputId": "ab0c5f2d-e092-4143-e044-ef5a312e065e"
      },
      "execution_count": 481,
      "outputs": [
        {
          "output_type": "execute_result",
          "data": {
            "text/plain": [
              "                   Total Imóveis Média  Mediana    Moda Desvio Padrão  \\\n",
              "Zona Norte                    62  2.39      2.0     [2]          1.15   \n",
              "Zona Sul                      10  2.60      3.0     [3]          1.35   \n",
              "Zona Leste                     5  3.00      3.0  [2, 4]          1.00   \n",
              "Zona Oeste                    78  3.62      4.0     [5]          1.43   \n",
              "Zona Centro Oeste             24  2.54      2.0     [2]          1.22   \n",
              "Zona Centro-Sul               58  2.97      2.5     [2]          1.54   \n",
              "\n",
              "                  Coeficiente de Variação  \n",
              "Zona Norte                         48.19%  \n",
              "Zona Sul                           45.44%  \n",
              "Zona Leste                         33.33%  \n",
              "Zona Oeste                         39.68%  \n",
              "Zona Centro Oeste                  47.81%  \n",
              "Zona Centro-Sul                    52.07%  "
            ],
            "text/html": [
              "\n",
              "  <div id=\"df-961c9223-5171-41fe-8890-e37cd13ff965\">\n",
              "    <div class=\"colab-df-container\">\n",
              "      <div>\n",
              "<style scoped>\n",
              "    .dataframe tbody tr th:only-of-type {\n",
              "        vertical-align: middle;\n",
              "    }\n",
              "\n",
              "    .dataframe tbody tr th {\n",
              "        vertical-align: top;\n",
              "    }\n",
              "\n",
              "    .dataframe thead th {\n",
              "        text-align: right;\n",
              "    }\n",
              "</style>\n",
              "<table border=\"1\" class=\"dataframe\">\n",
              "  <thead>\n",
              "    <tr style=\"text-align: right;\">\n",
              "      <th></th>\n",
              "      <th>Total Imóveis</th>\n",
              "      <th>Média</th>\n",
              "      <th>Mediana</th>\n",
              "      <th>Moda</th>\n",
              "      <th>Desvio Padrão</th>\n",
              "      <th>Coeficiente de Variação</th>\n",
              "    </tr>\n",
              "  </thead>\n",
              "  <tbody>\n",
              "    <tr>\n",
              "      <th>Zona Norte</th>\n",
              "      <td>62</td>\n",
              "      <td>2.39</td>\n",
              "      <td>2.0</td>\n",
              "      <td>[2]</td>\n",
              "      <td>1.15</td>\n",
              "      <td>48.19%</td>\n",
              "    </tr>\n",
              "    <tr>\n",
              "      <th>Zona Sul</th>\n",
              "      <td>10</td>\n",
              "      <td>2.60</td>\n",
              "      <td>3.0</td>\n",
              "      <td>[3]</td>\n",
              "      <td>1.35</td>\n",
              "      <td>45.44%</td>\n",
              "    </tr>\n",
              "    <tr>\n",
              "      <th>Zona Leste</th>\n",
              "      <td>5</td>\n",
              "      <td>3.00</td>\n",
              "      <td>3.0</td>\n",
              "      <td>[2, 4]</td>\n",
              "      <td>1.00</td>\n",
              "      <td>33.33%</td>\n",
              "    </tr>\n",
              "    <tr>\n",
              "      <th>Zona Oeste</th>\n",
              "      <td>78</td>\n",
              "      <td>3.62</td>\n",
              "      <td>4.0</td>\n",
              "      <td>[5]</td>\n",
              "      <td>1.43</td>\n",
              "      <td>39.68%</td>\n",
              "    </tr>\n",
              "    <tr>\n",
              "      <th>Zona Centro Oeste</th>\n",
              "      <td>24</td>\n",
              "      <td>2.54</td>\n",
              "      <td>2.0</td>\n",
              "      <td>[2]</td>\n",
              "      <td>1.22</td>\n",
              "      <td>47.81%</td>\n",
              "    </tr>\n",
              "    <tr>\n",
              "      <th>Zona Centro-Sul</th>\n",
              "      <td>58</td>\n",
              "      <td>2.97</td>\n",
              "      <td>2.5</td>\n",
              "      <td>[2]</td>\n",
              "      <td>1.54</td>\n",
              "      <td>52.07%</td>\n",
              "    </tr>\n",
              "  </tbody>\n",
              "</table>\n",
              "</div>\n",
              "      <button class=\"colab-df-convert\" onclick=\"convertToInteractive('df-961c9223-5171-41fe-8890-e37cd13ff965')\"\n",
              "              title=\"Convert this dataframe to an interactive table.\"\n",
              "              style=\"display:none;\">\n",
              "        \n",
              "  <svg xmlns=\"http://www.w3.org/2000/svg\" height=\"24px\"viewBox=\"0 0 24 24\"\n",
              "       width=\"24px\">\n",
              "    <path d=\"M0 0h24v24H0V0z\" fill=\"none\"/>\n",
              "    <path d=\"M18.56 5.44l.94 2.06.94-2.06 2.06-.94-2.06-.94-.94-2.06-.94 2.06-2.06.94zm-11 1L8.5 8.5l.94-2.06 2.06-.94-2.06-.94L8.5 2.5l-.94 2.06-2.06.94zm10 10l.94 2.06.94-2.06 2.06-.94-2.06-.94-.94-2.06-.94 2.06-2.06.94z\"/><path d=\"M17.41 7.96l-1.37-1.37c-.4-.4-.92-.59-1.43-.59-.52 0-1.04.2-1.43.59L10.3 9.45l-7.72 7.72c-.78.78-.78 2.05 0 2.83L4 21.41c.39.39.9.59 1.41.59.51 0 1.02-.2 1.41-.59l7.78-7.78 2.81-2.81c.8-.78.8-2.07 0-2.86zM5.41 20L4 18.59l7.72-7.72 1.47 1.35L5.41 20z\"/>\n",
              "  </svg>\n",
              "      </button>\n",
              "      \n",
              "  <style>\n",
              "    .colab-df-container {\n",
              "      display:flex;\n",
              "      flex-wrap:wrap;\n",
              "      gap: 12px;\n",
              "    }\n",
              "\n",
              "    .colab-df-convert {\n",
              "      background-color: #E8F0FE;\n",
              "      border: none;\n",
              "      border-radius: 50%;\n",
              "      cursor: pointer;\n",
              "      display: none;\n",
              "      fill: #1967D2;\n",
              "      height: 32px;\n",
              "      padding: 0 0 0 0;\n",
              "      width: 32px;\n",
              "    }\n",
              "\n",
              "    .colab-df-convert:hover {\n",
              "      background-color: #E2EBFA;\n",
              "      box-shadow: 0px 1px 2px rgba(60, 64, 67, 0.3), 0px 1px 3px 1px rgba(60, 64, 67, 0.15);\n",
              "      fill: #174EA6;\n",
              "    }\n",
              "\n",
              "    [theme=dark] .colab-df-convert {\n",
              "      background-color: #3B4455;\n",
              "      fill: #D2E3FC;\n",
              "    }\n",
              "\n",
              "    [theme=dark] .colab-df-convert:hover {\n",
              "      background-color: #434B5C;\n",
              "      box-shadow: 0px 1px 3px 1px rgba(0, 0, 0, 0.15);\n",
              "      filter: drop-shadow(0px 1px 2px rgba(0, 0, 0, 0.3));\n",
              "      fill: #FFFFFF;\n",
              "    }\n",
              "  </style>\n",
              "\n",
              "      <script>\n",
              "        const buttonEl =\n",
              "          document.querySelector('#df-961c9223-5171-41fe-8890-e37cd13ff965 button.colab-df-convert');\n",
              "        buttonEl.style.display =\n",
              "          google.colab.kernel.accessAllowed ? 'block' : 'none';\n",
              "\n",
              "        async function convertToInteractive(key) {\n",
              "          const element = document.querySelector('#df-961c9223-5171-41fe-8890-e37cd13ff965');\n",
              "          const dataTable =\n",
              "            await google.colab.kernel.invokeFunction('convertToInteractive',\n",
              "                                                     [key], {});\n",
              "          if (!dataTable) return;\n",
              "\n",
              "          const docLinkHtml = 'Like what you see? Visit the ' +\n",
              "            '<a target=\"_blank\" href=https://colab.research.google.com/notebooks/data_table.ipynb>data table notebook</a>'\n",
              "            + ' to learn more about interactive tables.';\n",
              "          element.innerHTML = '';\n",
              "          dataTable['output_type'] = 'display_data';\n",
              "          await google.colab.output.renderOutput(dataTable, element);\n",
              "          const docLink = document.createElement('div');\n",
              "          docLink.innerHTML = docLinkHtml;\n",
              "          element.appendChild(docLink);\n",
              "        }\n",
              "      </script>\n",
              "    </div>\n",
              "  </div>\n",
              "  "
            ]
          },
          "metadata": {},
          "execution_count": 481
        }
      ]
    },
    {
      "cell_type": "markdown",
      "source": [
        "## Apartamentos"
      ],
      "metadata": {
        "id": "SXHFjuy--JLh"
      }
    },
    {
      "cell_type": "code",
      "source": [
        "df_resultados_apartamentos = pd.DataFrame([\n",
        "    (len(df_apartamentos_sul), f'{media_apartamentos_norte:.2f}', mediana_apartamentos_norte, list(moda_apartamentos_norte), f'{desvio_padrao_apartamentos_norte:.2f}', f'{coeficiente_porcentagem_apartamentos_norte:.2f}%'),\n",
        "    (len(df_apartamentos_sul), f'{media_apartamentos_sul:.2f}', mediana_apartamentos_sul, list(moda_apartamentos_sul), f'{desvio_padrao_apartamentos_sul:.2f}', f'{coeficiente_porcentagem_apartamentos_sul:.2f}%'),\n",
        "    (len(df_apartamentos_leste), f'{media_apartamentos_leste:.2f}', mediana_apartamentos_leste, list(moda_apartamentos_leste), f'{desvio_padrao_apartamentos_leste:.2f}', f'{coeficiente_porcentagem_apartamentos_leste:.2f}%'),\n",
        "    (len(df_apartamentos_oeste), f'{media_apartamentos_oeste:.2f}', mediana_apartamentos_oeste, list(moda_apartamentos_oeste), f'{desvio_padrao_apartamentos_oeste:.2f}', f'{coeficiente_porcentagem_apartamentos_oeste:.2f}%'),\n",
        "    (len(df_apartamentos_co), f'{media_apartamentos_co:.2f}', mediana_apartamentos_co, list(moda_apartamentos_co), f'{desvio_padrao_apartamentos_co:.2f}', f'{coeficiente_porcentagem_apartamentos_co:.2f}%'),\n",
        "    (len(df_apartamentos_cs), f'{media_apartamentos_cs:.2f}', mediana_apartamentos_cs, list(moda_apartamentos_cs), f'{desvio_padrao_apartamentos_cs:.2f}', f'{coeficiente_porcentagem_apartamentos_cs:.2f}%')],\n",
        "    index=('Zona Norte', 'Zona Sul', 'Zona Leste', 'Zona Oeste', 'Zona Centro Oeste', 'Zona Centro-Sul'),\n",
        "    columns=('Total Imóveis', 'Média', 'Mediana', 'Moda', 'Desvio Padrão', 'Coeficiente de Variação'))\n",
        "\n",
        "df_resultados_apartamentos"
      ],
      "metadata": {
        "id": "grJDHfU6BUJ_",
        "colab": {
          "base_uri": "https://localhost:8080/",
          "height": 0
        },
        "outputId": "903fc6c3-472b-42b8-9a24-8cba26a9ea4e"
      },
      "execution_count": 482,
      "outputs": [
        {
          "output_type": "execute_result",
          "data": {
            "text/plain": [
              "                   Total Imóveis Média  Mediana Moda Desvio Padrão  \\\n",
              "Zona Norte                     5  1.45      1.0  [1]          0.52   \n",
              "Zona Sul                       5  2.00      1.0  [1]          1.73   \n",
              "Zona Leste                     5  1.60      2.0  [2]          0.55   \n",
              "Zona Oeste                    50  2.26      2.0  [1]          1.29   \n",
              "Zona Centro Oeste             18  1.94      2.0  [2]          0.87   \n",
              "Zona Centro-Sul               64  2.95      3.0  [2]          1.30   \n",
              "\n",
              "                  Coeficiente de Variação  \n",
              "Zona Norte                         35.90%  \n",
              "Zona Sul                           86.60%  \n",
              "Zona Leste                         34.23%  \n",
              "Zona Oeste                         57.11%  \n",
              "Zona Centro Oeste                  44.88%  \n",
              "Zona Centro-Sul                    44.10%  "
            ],
            "text/html": [
              "\n",
              "  <div id=\"df-6bf5a6be-a13f-4a63-95eb-66c415bb8e0f\">\n",
              "    <div class=\"colab-df-container\">\n",
              "      <div>\n",
              "<style scoped>\n",
              "    .dataframe tbody tr th:only-of-type {\n",
              "        vertical-align: middle;\n",
              "    }\n",
              "\n",
              "    .dataframe tbody tr th {\n",
              "        vertical-align: top;\n",
              "    }\n",
              "\n",
              "    .dataframe thead th {\n",
              "        text-align: right;\n",
              "    }\n",
              "</style>\n",
              "<table border=\"1\" class=\"dataframe\">\n",
              "  <thead>\n",
              "    <tr style=\"text-align: right;\">\n",
              "      <th></th>\n",
              "      <th>Total Imóveis</th>\n",
              "      <th>Média</th>\n",
              "      <th>Mediana</th>\n",
              "      <th>Moda</th>\n",
              "      <th>Desvio Padrão</th>\n",
              "      <th>Coeficiente de Variação</th>\n",
              "    </tr>\n",
              "  </thead>\n",
              "  <tbody>\n",
              "    <tr>\n",
              "      <th>Zona Norte</th>\n",
              "      <td>5</td>\n",
              "      <td>1.45</td>\n",
              "      <td>1.0</td>\n",
              "      <td>[1]</td>\n",
              "      <td>0.52</td>\n",
              "      <td>35.90%</td>\n",
              "    </tr>\n",
              "    <tr>\n",
              "      <th>Zona Sul</th>\n",
              "      <td>5</td>\n",
              "      <td>2.00</td>\n",
              "      <td>1.0</td>\n",
              "      <td>[1]</td>\n",
              "      <td>1.73</td>\n",
              "      <td>86.60%</td>\n",
              "    </tr>\n",
              "    <tr>\n",
              "      <th>Zona Leste</th>\n",
              "      <td>5</td>\n",
              "      <td>1.60</td>\n",
              "      <td>2.0</td>\n",
              "      <td>[2]</td>\n",
              "      <td>0.55</td>\n",
              "      <td>34.23%</td>\n",
              "    </tr>\n",
              "    <tr>\n",
              "      <th>Zona Oeste</th>\n",
              "      <td>50</td>\n",
              "      <td>2.26</td>\n",
              "      <td>2.0</td>\n",
              "      <td>[1]</td>\n",
              "      <td>1.29</td>\n",
              "      <td>57.11%</td>\n",
              "    </tr>\n",
              "    <tr>\n",
              "      <th>Zona Centro Oeste</th>\n",
              "      <td>18</td>\n",
              "      <td>1.94</td>\n",
              "      <td>2.0</td>\n",
              "      <td>[2]</td>\n",
              "      <td>0.87</td>\n",
              "      <td>44.88%</td>\n",
              "    </tr>\n",
              "    <tr>\n",
              "      <th>Zona Centro-Sul</th>\n",
              "      <td>64</td>\n",
              "      <td>2.95</td>\n",
              "      <td>3.0</td>\n",
              "      <td>[2]</td>\n",
              "      <td>1.30</td>\n",
              "      <td>44.10%</td>\n",
              "    </tr>\n",
              "  </tbody>\n",
              "</table>\n",
              "</div>\n",
              "      <button class=\"colab-df-convert\" onclick=\"convertToInteractive('df-6bf5a6be-a13f-4a63-95eb-66c415bb8e0f')\"\n",
              "              title=\"Convert this dataframe to an interactive table.\"\n",
              "              style=\"display:none;\">\n",
              "        \n",
              "  <svg xmlns=\"http://www.w3.org/2000/svg\" height=\"24px\"viewBox=\"0 0 24 24\"\n",
              "       width=\"24px\">\n",
              "    <path d=\"M0 0h24v24H0V0z\" fill=\"none\"/>\n",
              "    <path d=\"M18.56 5.44l.94 2.06.94-2.06 2.06-.94-2.06-.94-.94-2.06-.94 2.06-2.06.94zm-11 1L8.5 8.5l.94-2.06 2.06-.94-2.06-.94L8.5 2.5l-.94 2.06-2.06.94zm10 10l.94 2.06.94-2.06 2.06-.94-2.06-.94-.94-2.06-.94 2.06-2.06.94z\"/><path d=\"M17.41 7.96l-1.37-1.37c-.4-.4-.92-.59-1.43-.59-.52 0-1.04.2-1.43.59L10.3 9.45l-7.72 7.72c-.78.78-.78 2.05 0 2.83L4 21.41c.39.39.9.59 1.41.59.51 0 1.02-.2 1.41-.59l7.78-7.78 2.81-2.81c.8-.78.8-2.07 0-2.86zM5.41 20L4 18.59l7.72-7.72 1.47 1.35L5.41 20z\"/>\n",
              "  </svg>\n",
              "      </button>\n",
              "      \n",
              "  <style>\n",
              "    .colab-df-container {\n",
              "      display:flex;\n",
              "      flex-wrap:wrap;\n",
              "      gap: 12px;\n",
              "    }\n",
              "\n",
              "    .colab-df-convert {\n",
              "      background-color: #E8F0FE;\n",
              "      border: none;\n",
              "      border-radius: 50%;\n",
              "      cursor: pointer;\n",
              "      display: none;\n",
              "      fill: #1967D2;\n",
              "      height: 32px;\n",
              "      padding: 0 0 0 0;\n",
              "      width: 32px;\n",
              "    }\n",
              "\n",
              "    .colab-df-convert:hover {\n",
              "      background-color: #E2EBFA;\n",
              "      box-shadow: 0px 1px 2px rgba(60, 64, 67, 0.3), 0px 1px 3px 1px rgba(60, 64, 67, 0.15);\n",
              "      fill: #174EA6;\n",
              "    }\n",
              "\n",
              "    [theme=dark] .colab-df-convert {\n",
              "      background-color: #3B4455;\n",
              "      fill: #D2E3FC;\n",
              "    }\n",
              "\n",
              "    [theme=dark] .colab-df-convert:hover {\n",
              "      background-color: #434B5C;\n",
              "      box-shadow: 0px 1px 3px 1px rgba(0, 0, 0, 0.15);\n",
              "      filter: drop-shadow(0px 1px 2px rgba(0, 0, 0, 0.3));\n",
              "      fill: #FFFFFF;\n",
              "    }\n",
              "  </style>\n",
              "\n",
              "      <script>\n",
              "        const buttonEl =\n",
              "          document.querySelector('#df-6bf5a6be-a13f-4a63-95eb-66c415bb8e0f button.colab-df-convert');\n",
              "        buttonEl.style.display =\n",
              "          google.colab.kernel.accessAllowed ? 'block' : 'none';\n",
              "\n",
              "        async function convertToInteractive(key) {\n",
              "          const element = document.querySelector('#df-6bf5a6be-a13f-4a63-95eb-66c415bb8e0f');\n",
              "          const dataTable =\n",
              "            await google.colab.kernel.invokeFunction('convertToInteractive',\n",
              "                                                     [key], {});\n",
              "          if (!dataTable) return;\n",
              "\n",
              "          const docLinkHtml = 'Like what you see? Visit the ' +\n",
              "            '<a target=\"_blank\" href=https://colab.research.google.com/notebooks/data_table.ipynb>data table notebook</a>'\n",
              "            + ' to learn more about interactive tables.';\n",
              "          element.innerHTML = '';\n",
              "          dataTable['output_type'] = 'display_data';\n",
              "          await google.colab.output.renderOutput(dataTable, element);\n",
              "          const docLink = document.createElement('div');\n",
              "          docLink.innerHTML = docLinkHtml;\n",
              "          element.appendChild(docLink);\n",
              "        }\n",
              "      </script>\n",
              "    </div>\n",
              "  </div>\n",
              "  "
            ]
          },
          "metadata": {},
          "execution_count": 482
        }
      ]
    },
    {
      "cell_type": "markdown",
      "source": [
        "# ✴ Distribuição de Frequência"
      ],
      "metadata": {
        "id": "3yfySFemPsUI"
      }
    },
    {
      "cell_type": "markdown",
      "source": [
        "#### *Função para mostrar valores no topo do gráfico*"
      ],
      "metadata": {
        "id": "pMJe6sllXaTv"
      }
    },
    {
      "cell_type": "code",
      "source": [
        "def show_values(axs, space=0.6):\n",
        "    def _single(ax):\n",
        "            for p in ax.patches:\n",
        "                _x = p.get_x() + p.get_width() / 2\n",
        "                _y = p.get_y() + p.get_height() + space\n",
        "                value = f'{p.get_height():.2f}%'\n",
        "                ax.text(_x, _y, value, ha=\"center\") \n",
        "\n",
        "    if isinstance(axs, np.ndarray):\n",
        "        for idx, ax in np.ndenumerate(axs):\n",
        "            _single(ax)\n",
        "    else:\n",
        "        _single(axs)"
      ],
      "metadata": {
        "id": "-JdiXhqDqBcw"
      },
      "execution_count": 110,
      "outputs": []
    },
    {
      "cell_type": "markdown",
      "source": [
        "## ✧ Para variáveis qualitativas"
      ],
      "metadata": {
        "id": "Yky_GaxpXLF5"
      }
    },
    {
      "cell_type": "markdown",
      "source": [
        "### Zona (Nominal)"
      ],
      "metadata": {
        "id": "h-ha7UwKRpzl"
      }
    },
    {
      "cell_type": "markdown",
      "source": [
        "#### *Medidas Gerais*"
      ],
      "metadata": {
        "id": "htEVmQsIXEC1"
      }
    },
    {
      "cell_type": "code",
      "source": [
        "frequencia = df[\"zona\"].value_counts()\n",
        "percentual = round(df[\"zona\"].value_counts(normalize=True) * 100, 2)\n",
        "zonas = 'Centro-Sul', 'Oeste', 'Norte', 'Centro-Oeste', 'Sul', 'Leste'"
      ],
      "metadata": {
        "id": "J9TPIePMQokG"
      },
      "execution_count": 111,
      "outputs": []
    },
    {
      "cell_type": "code",
      "source": [
        "distribuicao_frequencia = pd.DataFrame({\"Zona\": zonas, \"Frequencia\": frequencia, \"Percentual (%)\": percentual})\n",
        "distribuicao_frequencia.reset_index(inplace=True)\n",
        "distribuicao_frequencia = distribuicao_frequencia.drop('index', axis=1)\n",
        "\n",
        "distribuicao_frequencia"
      ],
      "metadata": {
        "id": "Bg6TwA-PT3bK",
        "colab": {
          "base_uri": "https://localhost:8080/",
          "height": 237
        },
        "outputId": "6f521a89-dee9-4392-94d8-12f64b4aa0d2"
      },
      "execution_count": 112,
      "outputs": [
        {
          "output_type": "execute_result",
          "data": {
            "text/plain": [
              "           Zona  Frequencia  Percentual (%)\n",
              "0    Centro-Sul         128           32.82\n",
              "1         Oeste         122           31.28\n",
              "2         Norte          73           18.72\n",
              "3  Centro-Oeste          42           10.77\n",
              "4           Sul          15            3.85\n",
              "5         Leste          10            2.56"
            ],
            "text/html": [
              "\n",
              "  <div id=\"df-20f2b4e9-9d44-4609-9c5d-1bc9c4186f56\">\n",
              "    <div class=\"colab-df-container\">\n",
              "      <div>\n",
              "<style scoped>\n",
              "    .dataframe tbody tr th:only-of-type {\n",
              "        vertical-align: middle;\n",
              "    }\n",
              "\n",
              "    .dataframe tbody tr th {\n",
              "        vertical-align: top;\n",
              "    }\n",
              "\n",
              "    .dataframe thead th {\n",
              "        text-align: right;\n",
              "    }\n",
              "</style>\n",
              "<table border=\"1\" class=\"dataframe\">\n",
              "  <thead>\n",
              "    <tr style=\"text-align: right;\">\n",
              "      <th></th>\n",
              "      <th>Zona</th>\n",
              "      <th>Frequencia</th>\n",
              "      <th>Percentual (%)</th>\n",
              "    </tr>\n",
              "  </thead>\n",
              "  <tbody>\n",
              "    <tr>\n",
              "      <th>0</th>\n",
              "      <td>Centro-Sul</td>\n",
              "      <td>128</td>\n",
              "      <td>32.82</td>\n",
              "    </tr>\n",
              "    <tr>\n",
              "      <th>1</th>\n",
              "      <td>Oeste</td>\n",
              "      <td>122</td>\n",
              "      <td>31.28</td>\n",
              "    </tr>\n",
              "    <tr>\n",
              "      <th>2</th>\n",
              "      <td>Norte</td>\n",
              "      <td>73</td>\n",
              "      <td>18.72</td>\n",
              "    </tr>\n",
              "    <tr>\n",
              "      <th>3</th>\n",
              "      <td>Centro-Oeste</td>\n",
              "      <td>42</td>\n",
              "      <td>10.77</td>\n",
              "    </tr>\n",
              "    <tr>\n",
              "      <th>4</th>\n",
              "      <td>Sul</td>\n",
              "      <td>15</td>\n",
              "      <td>3.85</td>\n",
              "    </tr>\n",
              "    <tr>\n",
              "      <th>5</th>\n",
              "      <td>Leste</td>\n",
              "      <td>10</td>\n",
              "      <td>2.56</td>\n",
              "    </tr>\n",
              "  </tbody>\n",
              "</table>\n",
              "</div>\n",
              "      <button class=\"colab-df-convert\" onclick=\"convertToInteractive('df-20f2b4e9-9d44-4609-9c5d-1bc9c4186f56')\"\n",
              "              title=\"Convert this dataframe to an interactive table.\"\n",
              "              style=\"display:none;\">\n",
              "        \n",
              "  <svg xmlns=\"http://www.w3.org/2000/svg\" height=\"24px\"viewBox=\"0 0 24 24\"\n",
              "       width=\"24px\">\n",
              "    <path d=\"M0 0h24v24H0V0z\" fill=\"none\"/>\n",
              "    <path d=\"M18.56 5.44l.94 2.06.94-2.06 2.06-.94-2.06-.94-.94-2.06-.94 2.06-2.06.94zm-11 1L8.5 8.5l.94-2.06 2.06-.94-2.06-.94L8.5 2.5l-.94 2.06-2.06.94zm10 10l.94 2.06.94-2.06 2.06-.94-2.06-.94-.94-2.06-.94 2.06-2.06.94z\"/><path d=\"M17.41 7.96l-1.37-1.37c-.4-.4-.92-.59-1.43-.59-.52 0-1.04.2-1.43.59L10.3 9.45l-7.72 7.72c-.78.78-.78 2.05 0 2.83L4 21.41c.39.39.9.59 1.41.59.51 0 1.02-.2 1.41-.59l7.78-7.78 2.81-2.81c.8-.78.8-2.07 0-2.86zM5.41 20L4 18.59l7.72-7.72 1.47 1.35L5.41 20z\"/>\n",
              "  </svg>\n",
              "      </button>\n",
              "      \n",
              "  <style>\n",
              "    .colab-df-container {\n",
              "      display:flex;\n",
              "      flex-wrap:wrap;\n",
              "      gap: 12px;\n",
              "    }\n",
              "\n",
              "    .colab-df-convert {\n",
              "      background-color: #E8F0FE;\n",
              "      border: none;\n",
              "      border-radius: 50%;\n",
              "      cursor: pointer;\n",
              "      display: none;\n",
              "      fill: #1967D2;\n",
              "      height: 32px;\n",
              "      padding: 0 0 0 0;\n",
              "      width: 32px;\n",
              "    }\n",
              "\n",
              "    .colab-df-convert:hover {\n",
              "      background-color: #E2EBFA;\n",
              "      box-shadow: 0px 1px 2px rgba(60, 64, 67, 0.3), 0px 1px 3px 1px rgba(60, 64, 67, 0.15);\n",
              "      fill: #174EA6;\n",
              "    }\n",
              "\n",
              "    [theme=dark] .colab-df-convert {\n",
              "      background-color: #3B4455;\n",
              "      fill: #D2E3FC;\n",
              "    }\n",
              "\n",
              "    [theme=dark] .colab-df-convert:hover {\n",
              "      background-color: #434B5C;\n",
              "      box-shadow: 0px 1px 3px 1px rgba(0, 0, 0, 0.15);\n",
              "      filter: drop-shadow(0px 1px 2px rgba(0, 0, 0, 0.3));\n",
              "      fill: #FFFFFF;\n",
              "    }\n",
              "  </style>\n",
              "\n",
              "      <script>\n",
              "        const buttonEl =\n",
              "          document.querySelector('#df-20f2b4e9-9d44-4609-9c5d-1bc9c4186f56 button.colab-df-convert');\n",
              "        buttonEl.style.display =\n",
              "          google.colab.kernel.accessAllowed ? 'block' : 'none';\n",
              "\n",
              "        async function convertToInteractive(key) {\n",
              "          const element = document.querySelector('#df-20f2b4e9-9d44-4609-9c5d-1bc9c4186f56');\n",
              "          const dataTable =\n",
              "            await google.colab.kernel.invokeFunction('convertToInteractive',\n",
              "                                                     [key], {});\n",
              "          if (!dataTable) return;\n",
              "\n",
              "          const docLinkHtml = 'Like what you see? Visit the ' +\n",
              "            '<a target=\"_blank\" href=https://colab.research.google.com/notebooks/data_table.ipynb>data table notebook</a>'\n",
              "            + ' to learn more about interactive tables.';\n",
              "          element.innerHTML = '';\n",
              "          dataTable['output_type'] = 'display_data';\n",
              "          await google.colab.output.renderOutput(dataTable, element);\n",
              "          const docLink = document.createElement('div');\n",
              "          docLink.innerHTML = docLinkHtml;\n",
              "          element.appendChild(docLink);\n",
              "        }\n",
              "      </script>\n",
              "    </div>\n",
              "  </div>\n",
              "  "
            ]
          },
          "metadata": {},
          "execution_count": 112
        }
      ]
    },
    {
      "cell_type": "code",
      "source": [
        "ax = sns.barplot(data=distribuicao_frequencia, x=\"Zona\", y=\"Percentual (%)\", color=\"blue\")\n",
        "show_values(ax)"
      ],
      "metadata": {
        "colab": {
          "base_uri": "https://localhost:8080/",
          "height": 281
        },
        "id": "gAIqBB3chwAB",
        "outputId": "f933f213-eab8-4147-a63b-32b293ca1c98"
      },
      "execution_count": 623,
      "outputs": [
        {
          "output_type": "display_data",
          "data": {
            "text/plain": [
              "<Figure size 432x288 with 1 Axes>"
            ],
            "image/png": "[encoded data removed]"
          },
          "metadata": {
            "needs_background": "light"
          }
        }
      ]
    },
    {
      "cell_type": "markdown",
      "source": [
        "#### *Casas*"
      ],
      "metadata": {
        "id": "gHSr-mZdVCrC"
      }
    },
    {
      "cell_type": "code",
      "source": [
        "frequencia = df_casas[\"zona\"].value_counts()\n",
        "percentual = round(df_casas[\"zona\"].value_counts(normalize=True) * 100, 2)"
      ],
      "metadata": {
        "id": "2T47iDigVHZM"
      },
      "execution_count": 609,
      "outputs": []
    },
    {
      "cell_type": "code",
      "source": [
        "distribuicao_frequencia = pd.DataFrame({\"Zona\": zonas, \"Frequencia\": frequencia, \"Percentual (%)\": percentual})\n",
        "distribuicao_frequencia.reset_index(inplace=True)\n",
        "distribuicao_frequencia = distribuicao_frequencia.drop('index', axis=1)\n",
        "\n",
        "distribuicao_frequencia"
      ],
      "metadata": {
        "colab": {
          "base_uri": "https://localhost:8080/",
          "height": 237
        },
        "id": "wQ7x1QOkVG65",
        "outputId": "171ebe62-8145-44e3-ec70-983878e6b241"
      },
      "execution_count": 610,
      "outputs": [
        {
          "output_type": "execute_result",
          "data": {
            "text/plain": [
              "           Zona  Frequencia  Percentual (%)\n",
              "0    Centro-Sul          78           32.91\n",
              "1         Oeste          62           26.16\n",
              "2         Norte          58           24.47\n",
              "3  Centro-Oeste          24           10.13\n",
              "4           Sul          10            4.22\n",
              "5         Leste           5            2.11"
            ],
            "text/html": [
              "\n",
              "  <div id=\"df-9ffc2c7c-adf1-46ee-8aa2-64b5797a7e88\">\n",
              "    <div class=\"colab-df-container\">\n",
              "      <div>\n",
              "<style scoped>\n",
              "    .dataframe tbody tr th:only-of-type {\n",
              "        vertical-align: middle;\n",
              "    }\n",
              "\n",
              "    .dataframe tbody tr th {\n",
              "        vertical-align: top;\n",
              "    }\n",
              "\n",
              "    .dataframe thead th {\n",
              "        text-align: right;\n",
              "    }\n",
              "</style>\n",
              "<table border=\"1\" class=\"dataframe\">\n",
              "  <thead>\n",
              "    <tr style=\"text-align: right;\">\n",
              "      <th></th>\n",
              "      <th>Zona</th>\n",
              "      <th>Frequencia</th>\n",
              "      <th>Percentual (%)</th>\n",
              "    </tr>\n",
              "  </thead>\n",
              "  <tbody>\n",
              "    <tr>\n",
              "      <th>0</th>\n",
              "      <td>Centro-Sul</td>\n",
              "      <td>78</td>\n",
              "      <td>32.91</td>\n",
              "    </tr>\n",
              "    <tr>\n",
              "      <th>1</th>\n",
              "      <td>Oeste</td>\n",
              "      <td>62</td>\n",
              "      <td>26.16</td>\n",
              "    </tr>\n",
              "    <tr>\n",
              "      <th>2</th>\n",
              "      <td>Norte</td>\n",
              "      <td>58</td>\n",
              "      <td>24.47</td>\n",
              "    </tr>\n",
              "    <tr>\n",
              "      <th>3</th>\n",
              "      <td>Centro-Oeste</td>\n",
              "      <td>24</td>\n",
              "      <td>10.13</td>\n",
              "    </tr>\n",
              "    <tr>\n",
              "      <th>4</th>\n",
              "      <td>Sul</td>\n",
              "      <td>10</td>\n",
              "      <td>4.22</td>\n",
              "    </tr>\n",
              "    <tr>\n",
              "      <th>5</th>\n",
              "      <td>Leste</td>\n",
              "      <td>5</td>\n",
              "      <td>2.11</td>\n",
              "    </tr>\n",
              "  </tbody>\n",
              "</table>\n",
              "</div>\n",
              "      <button class=\"colab-df-convert\" onclick=\"convertToInteractive('df-9ffc2c7c-adf1-46ee-8aa2-64b5797a7e88')\"\n",
              "              title=\"Convert this dataframe to an interactive table.\"\n",
              "              style=\"display:none;\">\n",
              "        \n",
              "  <svg xmlns=\"http://www.w3.org/2000/svg\" height=\"24px\"viewBox=\"0 0 24 24\"\n",
              "       width=\"24px\">\n",
              "    <path d=\"M0 0h24v24H0V0z\" fill=\"none\"/>\n",
              "    <path d=\"M18.56 5.44l.94 2.06.94-2.06 2.06-.94-2.06-.94-.94-2.06-.94 2.06-2.06.94zm-11 1L8.5 8.5l.94-2.06 2.06-.94-2.06-.94L8.5 2.5l-.94 2.06-2.06.94zm10 10l.94 2.06.94-2.06 2.06-.94-2.06-.94-.94-2.06-.94 2.06-2.06.94z\"/><path d=\"M17.41 7.96l-1.37-1.37c-.4-.4-.92-.59-1.43-.59-.52 0-1.04.2-1.43.59L10.3 9.45l-7.72 7.72c-.78.78-.78 2.05 0 2.83L4 21.41c.39.39.9.59 1.41.59.51 0 1.02-.2 1.41-.59l7.78-7.78 2.81-2.81c.8-.78.8-2.07 0-2.86zM5.41 20L4 18.59l7.72-7.72 1.47 1.35L5.41 20z\"/>\n",
              "  </svg>\n",
              "      </button>\n",
              "      \n",
              "  <style>\n",
              "    .colab-df-container {\n",
              "      display:flex;\n",
              "      flex-wrap:wrap;\n",
              "      gap: 12px;\n",
              "    }\n",
              "\n",
              "    .colab-df-convert {\n",
              "      background-color: #E8F0FE;\n",
              "      border: none;\n",
              "      border-radius: 50%;\n",
              "      cursor: pointer;\n",
              "      display: none;\n",
              "      fill: #1967D2;\n",
              "      height: 32px;\n",
              "      padding: 0 0 0 0;\n",
              "      width: 32px;\n",
              "    }\n",
              "\n",
              "    .colab-df-convert:hover {\n",
              "      background-color: #E2EBFA;\n",
              "      box-shadow: 0px 1px 2px rgba(60, 64, 67, 0.3), 0px 1px 3px 1px rgba(60, 64, 67, 0.15);\n",
              "      fill: #174EA6;\n",
              "    }\n",
              "\n",
              "    [theme=dark] .colab-df-convert {\n",
              "      background-color: #3B4455;\n",
              "      fill: #D2E3FC;\n",
              "    }\n",
              "\n",
              "    [theme=dark] .colab-df-convert:hover {\n",
              "      background-color: #434B5C;\n",
              "      box-shadow: 0px 1px 3px 1px rgba(0, 0, 0, 0.15);\n",
              "      filter: drop-shadow(0px 1px 2px rgba(0, 0, 0, 0.3));\n",
              "      fill: #FFFFFF;\n",
              "    }\n",
              "  </style>\n",
              "\n",
              "      <script>\n",
              "        const buttonEl =\n",
              "          document.querySelector('#df-9ffc2c7c-adf1-46ee-8aa2-64b5797a7e88 button.colab-df-convert');\n",
              "        buttonEl.style.display =\n",
              "          google.colab.kernel.accessAllowed ? 'block' : 'none';\n",
              "\n",
              "        async function convertToInteractive(key) {\n",
              "          const element = document.querySelector('#df-9ffc2c7c-adf1-46ee-8aa2-64b5797a7e88');\n",
              "          const dataTable =\n",
              "            await google.colab.kernel.invokeFunction('convertToInteractive',\n",
              "                                                     [key], {});\n",
              "          if (!dataTable) return;\n",
              "\n",
              "          const docLinkHtml = 'Like what you see? Visit the ' +\n",
              "            '<a target=\"_blank\" href=https://colab.research.google.com/notebooks/data_table.ipynb>data table notebook</a>'\n",
              "            + ' to learn more about interactive tables.';\n",
              "          element.innerHTML = '';\n",
              "          dataTable['output_type'] = 'display_data';\n",
              "          await google.colab.output.renderOutput(dataTable, element);\n",
              "          const docLink = document.createElement('div');\n",
              "          docLink.innerHTML = docLinkHtml;\n",
              "          element.appendChild(docLink);\n",
              "        }\n",
              "      </script>\n",
              "    </div>\n",
              "  </div>\n",
              "  "
            ]
          },
          "metadata": {},
          "execution_count": 610
        }
      ]
    },
    {
      "cell_type": "code",
      "source": [
        "ax = sns.barplot(data=distribuicao_frequencia, x=\"Zona\", y=\"Percentual (%)\", color= \"#565555\")\n",
        "show_values(ax)"
      ],
      "metadata": {
        "colab": {
          "base_uri": "https://localhost:8080/",
          "height": 281
        },
        "id": "AoHHBCSamDs4",
        "outputId": "c69538c4-33ca-49bc-8cdc-8eae5105dbbb"
      },
      "execution_count": 611,
      "outputs": [
        {
          "output_type": "display_data",
          "data": {
            "text/plain": [
              "<Figure size 432x288 with 1 Axes>"
            ],
            "image/png": "[encoded data removed]"
          },
          "metadata": {
            "needs_background": "light"
          }
        }
      ]
    },
    {
      "cell_type": "markdown",
      "source": [
        "#### *Apartamentos*"
      ],
      "metadata": {
        "id": "-gpTXi1GWmLo"
      }
    },
    {
      "cell_type": "code",
      "source": [
        "frequencia = df_apartamentos[\"zona\"].value_counts()\n",
        "percentual = round(df_apartamentos[\"zona\"].value_counts(normalize=True) * 100, 2)"
      ],
      "metadata": {
        "id": "xyK14LWuWo5D"
      },
      "execution_count": 613,
      "outputs": []
    },
    {
      "cell_type": "code",
      "source": [
        "distribuicao_frequencia = pd.DataFrame({\"Zona\": zonas, \"Frequencia\": frequencia, \"Percentual (%)\": percentual})\n",
        "distribuicao_frequencia.reset_index(inplace=True)\n",
        "distribuicao_frequencia = distribuicao_frequencia.drop('index', axis=1)\n",
        "\n",
        "distribuicao_frequencia"
      ],
      "metadata": {
        "colab": {
          "base_uri": "https://localhost:8080/",
          "height": 237
        },
        "id": "0_nCT5h7388w",
        "outputId": "3d3e9811-2991-44ff-9fd1-25763f27859f"
      },
      "execution_count": 614,
      "outputs": [
        {
          "output_type": "execute_result",
          "data": {
            "text/plain": [
              "           Zona  Frequencia  Percentual (%)\n",
              "0    Centro-Sul          64           41.83\n",
              "1         Oeste          50           32.68\n",
              "2         Norte          18           11.76\n",
              "3  Centro-Oeste          11            7.19\n",
              "4           Sul           5            3.27\n",
              "5         Leste           5            3.27"
            ],
            "text/html": [
              "\n",
              "  <div id=\"df-e000f1e7-4003-4074-ba13-db203ffc63e6\">\n",
              "    <div class=\"colab-df-container\">\n",
              "      <div>\n",
              "<style scoped>\n",
              "    .dataframe tbody tr th:only-of-type {\n",
              "        vertical-align: middle;\n",
              "    }\n",
              "\n",
              "    .dataframe tbody tr th {\n",
              "        vertical-align: top;\n",
              "    }\n",
              "\n",
              "    .dataframe thead th {\n",
              "        text-align: right;\n",
              "    }\n",
              "</style>\n",
              "<table border=\"1\" class=\"dataframe\">\n",
              "  <thead>\n",
              "    <tr style=\"text-align: right;\">\n",
              "      <th></th>\n",
              "      <th>Zona</th>\n",
              "      <th>Frequencia</th>\n",
              "      <th>Percentual (%)</th>\n",
              "    </tr>\n",
              "  </thead>\n",
              "  <tbody>\n",
              "    <tr>\n",
              "      <th>0</th>\n",
              "      <td>Centro-Sul</td>\n",
              "      <td>64</td>\n",
              "      <td>41.83</td>\n",
              "    </tr>\n",
              "    <tr>\n",
              "      <th>1</th>\n",
              "      <td>Oeste</td>\n",
              "      <td>50</td>\n",
              "      <td>32.68</td>\n",
              "    </tr>\n",
              "    <tr>\n",
              "      <th>2</th>\n",
              "      <td>Norte</td>\n",
              "      <td>18</td>\n",
              "      <td>11.76</td>\n",
              "    </tr>\n",
              "    <tr>\n",
              "      <th>3</th>\n",
              "      <td>Centro-Oeste</td>\n",
              "      <td>11</td>\n",
              "      <td>7.19</td>\n",
              "    </tr>\n",
              "    <tr>\n",
              "      <th>4</th>\n",
              "      <td>Sul</td>\n",
              "      <td>5</td>\n",
              "      <td>3.27</td>\n",
              "    </tr>\n",
              "    <tr>\n",
              "      <th>5</th>\n",
              "      <td>Leste</td>\n",
              "      <td>5</td>\n",
              "      <td>3.27</td>\n",
              "    </tr>\n",
              "  </tbody>\n",
              "</table>\n",
              "</div>\n",
              "      <button class=\"colab-df-convert\" onclick=\"convertToInteractive('df-e000f1e7-4003-4074-ba13-db203ffc63e6')\"\n",
              "              title=\"Convert this dataframe to an interactive table.\"\n",
              "              style=\"display:none;\">\n",
              "        \n",
              "  <svg xmlns=\"http://www.w3.org/2000/svg\" height=\"24px\"viewBox=\"0 0 24 24\"\n",
              "       width=\"24px\">\n",
              "    <path d=\"M0 0h24v24H0V0z\" fill=\"none\"/>\n",
              "    <path d=\"M18.56 5.44l.94 2.06.94-2.06 2.06-.94-2.06-.94-.94-2.06-.94 2.06-2.06.94zm-11 1L8.5 8.5l.94-2.06 2.06-.94-2.06-.94L8.5 2.5l-.94 2.06-2.06.94zm10 10l.94 2.06.94-2.06 2.06-.94-2.06-.94-.94-2.06-.94 2.06-2.06.94z\"/><path d=\"M17.41 7.96l-1.37-1.37c-.4-.4-.92-.59-1.43-.59-.52 0-1.04.2-1.43.59L10.3 9.45l-7.72 7.72c-.78.78-.78 2.05 0 2.83L4 21.41c.39.39.9.59 1.41.59.51 0 1.02-.2 1.41-.59l7.78-7.78 2.81-2.81c.8-.78.8-2.07 0-2.86zM5.41 20L4 18.59l7.72-7.72 1.47 1.35L5.41 20z\"/>\n",
              "  </svg>\n",
              "      </button>\n",
              "      \n",
              "  <style>\n",
              "    .colab-df-container {\n",
              "      display:flex;\n",
              "      flex-wrap:wrap;\n",
              "      gap: 12px;\n",
              "    }\n",
              "\n",
              "    .colab-df-convert {\n",
              "      background-color: #E8F0FE;\n",
              "      border: none;\n",
              "      border-radius: 50%;\n",
              "      cursor: pointer;\n",
              "      display: none;\n",
              "      fill: #1967D2;\n",
              "      height: 32px;\n",
              "      padding: 0 0 0 0;\n",
              "      width: 32px;\n",
              "    }\n",
              "\n",
              "    .colab-df-convert:hover {\n",
              "      background-color: #E2EBFA;\n",
              "      box-shadow: 0px 1px 2px rgba(60, 64, 67, 0.3), 0px 1px 3px 1px rgba(60, 64, 67, 0.15);\n",
              "      fill: #174EA6;\n",
              "    }\n",
              "\n",
              "    [theme=dark] .colab-df-convert {\n",
              "      background-color: #3B4455;\n",
              "      fill: #D2E3FC;\n",
              "    }\n",
              "\n",
              "    [theme=dark] .colab-df-convert:hover {\n",
              "      background-color: #434B5C;\n",
              "      box-shadow: 0px 1px 3px 1px rgba(0, 0, 0, 0.15);\n",
              "      filter: drop-shadow(0px 1px 2px rgba(0, 0, 0, 0.3));\n",
              "      fill: #FFFFFF;\n",
              "    }\n",
              "  </style>\n",
              "\n",
              "      <script>\n",
              "        const buttonEl =\n",
              "          document.querySelector('#df-e000f1e7-4003-4074-ba13-db203ffc63e6 button.colab-df-convert');\n",
              "        buttonEl.style.display =\n",
              "          google.colab.kernel.accessAllowed ? 'block' : 'none';\n",
              "\n",
              "        async function convertToInteractive(key) {\n",
              "          const element = document.querySelector('#df-e000f1e7-4003-4074-ba13-db203ffc63e6');\n",
              "          const dataTable =\n",
              "            await google.colab.kernel.invokeFunction('convertToInteractive',\n",
              "                                                     [key], {});\n",
              "          if (!dataTable) return;\n",
              "\n",
              "          const docLinkHtml = 'Like what you see? Visit the ' +\n",
              "            '<a target=\"_blank\" href=https://colab.research.google.com/notebooks/data_table.ipynb>data table notebook</a>'\n",
              "            + ' to learn more about interactive tables.';\n",
              "          element.innerHTML = '';\n",
              "          dataTable['output_type'] = 'display_data';\n",
              "          await google.colab.output.renderOutput(dataTable, element);\n",
              "          const docLink = document.createElement('div');\n",
              "          docLink.innerHTML = docLinkHtml;\n",
              "          element.appendChild(docLink);\n",
              "        }\n",
              "      </script>\n",
              "    </div>\n",
              "  </div>\n",
              "  "
            ]
          },
          "metadata": {},
          "execution_count": 614
        }
      ]
    },
    {
      "cell_type": "code",
      "source": [
        "ax = sns.barplot(data=distribuicao_frequencia, x=\"Zona\", y=\"Percentual (%)\", color= \"#565555\")\n",
        "show_values(ax)"
      ],
      "metadata": {
        "colab": {
          "base_uri": "https://localhost:8080/",
          "height": 280
        },
        "id": "vzjVeuV2mdgF",
        "outputId": "36a40505-6f66-440a-9d96-4c15f86a6cf1"
      },
      "execution_count": 615,
      "outputs": [
        {
          "output_type": "display_data",
          "data": {
            "text/plain": [
              "<Figure size 432x288 with 1 Axes>"
            ],
            "image/png": "[encoded data removed]"
          },
          "metadata": {
            "needs_background": "light"
          }
        }
      ]
    },
    {
      "cell_type": "markdown",
      "source": [
        "### Categoria (Nominal)"
      ],
      "metadata": {
        "id": "g-spMKIOk9cR"
      }
    },
    {
      "cell_type": "code",
      "source": [
        "frequencia = df[\"categoria\"].value_counts()\n",
        "percentual = round(df[\"categoria\"].value_counts(normalize=True) * 100, 2)\n",
        "categorias = 'Casas', 'Apartamentos'"
      ],
      "metadata": {
        "id": "oCixzHVkk9cS"
      },
      "execution_count": 636,
      "outputs": []
    },
    {
      "cell_type": "code",
      "source": [
        "distribuicao_frequencia = pd.DataFrame({\"Categoria\":categorias,\"Frequencia\": frequencia, \"Percentual (%)\": percentual})\n",
        "distribuicao_frequencia.reset_index(inplace=True)\n",
        "distribuicao_frequencia = distribuicao_frequencia.drop('index', axis=1)\n",
        "\n",
        "distribuicao_frequencia"
      ],
      "metadata": {
        "colab": {
          "base_uri": "https://localhost:8080/",
          "height": 112
        },
        "outputId": "d48f8caa-b950-4c57-a07d-96ae474e95ce",
        "id": "E34_04Fik9cT"
      },
      "execution_count": 637,
      "outputs": [
        {
          "output_type": "execute_result",
          "data": {
            "text/plain": [
              "      Categoria  Frequencia  Percentual (%)\n",
              "0         Casas         237           60.77\n",
              "1  Apartamentos         153           39.23"
            ],
            "text/html": [
              "\n",
              "  <div id=\"df-31a572d8-0105-4d1c-b962-499c3389469e\">\n",
              "    <div class=\"colab-df-container\">\n",
              "      <div>\n",
              "<style scoped>\n",
              "    .dataframe tbody tr th:only-of-type {\n",
              "        vertical-align: middle;\n",
              "    }\n",
              "\n",
              "    .dataframe tbody tr th {\n",
              "        vertical-align: top;\n",
              "    }\n",
              "\n",
              "    .dataframe thead th {\n",
              "        text-align: right;\n",
              "    }\n",
              "</style>\n",
              "<table border=\"1\" class=\"dataframe\">\n",
              "  <thead>\n",
              "    <tr style=\"text-align: right;\">\n",
              "      <th></th>\n",
              "      <th>Categoria</th>\n",
              "      <th>Frequencia</th>\n",
              "      <th>Percentual (%)</th>\n",
              "    </tr>\n",
              "  </thead>\n",
              "  <tbody>\n",
              "    <tr>\n",
              "      <th>0</th>\n",
              "      <td>Casas</td>\n",
              "      <td>237</td>\n",
              "      <td>60.77</td>\n",
              "    </tr>\n",
              "    <tr>\n",
              "      <th>1</th>\n",
              "      <td>Apartamentos</td>\n",
              "      <td>153</td>\n",
              "      <td>39.23</td>\n",
              "    </tr>\n",
              "  </tbody>\n",
              "</table>\n",
              "</div>\n",
              "      <button class=\"colab-df-convert\" onclick=\"convertToInteractive('df-31a572d8-0105-4d1c-b962-499c3389469e')\"\n",
              "              title=\"Convert this dataframe to an interactive table.\"\n",
              "              style=\"display:none;\">\n",
              "        \n",
              "  <svg xmlns=\"http://www.w3.org/2000/svg\" height=\"24px\"viewBox=\"0 0 24 24\"\n",
              "       width=\"24px\">\n",
              "    <path d=\"M0 0h24v24H0V0z\" fill=\"none\"/>\n",
              "    <path d=\"M18.56 5.44l.94 2.06.94-2.06 2.06-.94-2.06-.94-.94-2.06-.94 2.06-2.06.94zm-11 1L8.5 8.5l.94-2.06 2.06-.94-2.06-.94L8.5 2.5l-.94 2.06-2.06.94zm10 10l.94 2.06.94-2.06 2.06-.94-2.06-.94-.94-2.06-.94 2.06-2.06.94z\"/><path d=\"M17.41 7.96l-1.37-1.37c-.4-.4-.92-.59-1.43-.59-.52 0-1.04.2-1.43.59L10.3 9.45l-7.72 7.72c-.78.78-.78 2.05 0 2.83L4 21.41c.39.39.9.59 1.41.59.51 0 1.02-.2 1.41-.59l7.78-7.78 2.81-2.81c.8-.78.8-2.07 0-2.86zM5.41 20L4 18.59l7.72-7.72 1.47 1.35L5.41 20z\"/>\n",
              "  </svg>\n",
              "      </button>\n",
              "      \n",
              "  <style>\n",
              "    .colab-df-container {\n",
              "      display:flex;\n",
              "      flex-wrap:wrap;\n",
              "      gap: 12px;\n",
              "    }\n",
              "\n",
              "    .colab-df-convert {\n",
              "      background-color: #E8F0FE;\n",
              "      border: none;\n",
              "      border-radius: 50%;\n",
              "      cursor: pointer;\n",
              "      display: none;\n",
              "      fill: #1967D2;\n",
              "      height: 32px;\n",
              "      padding: 0 0 0 0;\n",
              "      width: 32px;\n",
              "    }\n",
              "\n",
              "    .colab-df-convert:hover {\n",
              "      background-color: #E2EBFA;\n",
              "      box-shadow: 0px 1px 2px rgba(60, 64, 67, 0.3), 0px 1px 3px 1px rgba(60, 64, 67, 0.15);\n",
              "      fill: #174EA6;\n",
              "    }\n",
              "\n",
              "    [theme=dark] .colab-df-convert {\n",
              "      background-color: #3B4455;\n",
              "      fill: #D2E3FC;\n",
              "    }\n",
              "\n",
              "    [theme=dark] .colab-df-convert:hover {\n",
              "      background-color: #434B5C;\n",
              "      box-shadow: 0px 1px 3px 1px rgba(0, 0, 0, 0.15);\n",
              "      filter: drop-shadow(0px 1px 2px rgba(0, 0, 0, 0.3));\n",
              "      fill: #FFFFFF;\n",
              "    }\n",
              "  </style>\n",
              "\n",
              "      <script>\n",
              "        const buttonEl =\n",
              "          document.querySelector('#df-31a572d8-0105-4d1c-b962-499c3389469e button.colab-df-convert');\n",
              "        buttonEl.style.display =\n",
              "          google.colab.kernel.accessAllowed ? 'block' : 'none';\n",
              "\n",
              "        async function convertToInteractive(key) {\n",
              "          const element = document.querySelector('#df-31a572d8-0105-4d1c-b962-499c3389469e');\n",
              "          const dataTable =\n",
              "            await google.colab.kernel.invokeFunction('convertToInteractive',\n",
              "                                                     [key], {});\n",
              "          if (!dataTable) return;\n",
              "\n",
              "          const docLinkHtml = 'Like what you see? Visit the ' +\n",
              "            '<a target=\"_blank\" href=https://colab.research.google.com/notebooks/data_table.ipynb>data table notebook</a>'\n",
              "            + ' to learn more about interactive tables.';\n",
              "          element.innerHTML = '';\n",
              "          dataTable['output_type'] = 'display_data';\n",
              "          await google.colab.output.renderOutput(dataTable, element);\n",
              "          const docLink = document.createElement('div');\n",
              "          docLink.innerHTML = docLinkHtml;\n",
              "          element.appendChild(docLink);\n",
              "        }\n",
              "      </script>\n",
              "    </div>\n",
              "  </div>\n",
              "  "
            ]
          },
          "metadata": {},
          "execution_count": 637
        }
      ]
    },
    {
      "cell_type": "code",
      "source": [
        "ax = sns.barplot(data=distribuicao_frequencia, x=\"Categoria\", y=\"Percentual (%)\", color=\"blue\")\n",
        "show_values(ax)"
      ],
      "metadata": {
        "colab": {
          "base_uri": "https://localhost:8080/",
          "height": 279
        },
        "outputId": "9a2843bf-a52a-4f74-810c-b555ae1f9cb4",
        "id": "t7KgFrZFk9cT"
      },
      "execution_count": 638,
      "outputs": [
        {
          "output_type": "display_data",
          "data": {
            "text/plain": [
              "<Figure size 432x288 with 1 Axes>"
            ],
            "image/png": "[encoded data removed]"
          },
          "metadata": {
            "needs_background": "light"
          }
        }
      ]
    },
    {
      "cell_type": "markdown",
      "source": [
        "## ✧ Para variáveis quantitativas"
      ],
      "metadata": {
        "id": "ndU4FHQUUIre"
      }
    },
    {
      "cell_type": "markdown",
      "source": [
        "#### Função para Distribuição de Frequência de Variáveis Contínuas"
      ],
      "metadata": {
        "id": "s_-rp0-F85tK"
      }
    },
    {
      "cell_type": "code",
      "source": [
        "def n_classes(dados: pd.Series, tipo='Padrão'):\n",
        "    n_obs = len(dados)\n",
        "    if tipo=='Padrão':\n",
        "        return 5 if n_obs<25 else np.ceil(np.sqrt(n_obs)).astype(int)\n",
        "    if tipo=='Sturges':\n",
        "        return (1 + np.ceil(np.log2(n_obs))).astype(int)\n",
        "\n",
        "def amplitude_classes(dados: pd.Series, tipo='Padrão', arredondar=True):\n",
        "    amplitude = np.ceil((dados.max() - dados.min())/n_classes(dados, tipo=tipo)) \\\n",
        "    if arredondar else (dados.max() - dados.min())/n_classes(dados, tipo=tipo)\n",
        "    return amplitude\n",
        "\n",
        "def construir_tabela(dados, tipo='Padrão', direita=False, arredondar=True):\n",
        "    dados_series = pd.Series(dados)\n",
        "    n_class = n_classes(dados_series, tipo=tipo)\n",
        "    amp_class = amplitude_classes(dados_series, tipo=tipo, arredondar=arredondar)\n",
        "    bins = [dados_series.min() + i*amp_class for i in range(n_class+1)]\n",
        "    return pd.cut(dados_series, bins=bins, right=direita).value_counts(sort=False).rename('Frequência')\n",
        "\n",
        "def formatar_intervalos(intervalos, prec, direita=False):   \n",
        "    fechado = 'right' if direita else 'left'\n",
        "    return [pd.Interval(left=np.round(intervalo.left,prec), \n",
        "                        right=np.round(intervalo.right,prec), closed=fechado) for intervalo in intervalos]\n",
        "\n",
        "\n",
        "def dist_freq(dados, tipo='Padrão', prec=2, direita=False, arredondar=True, exibir_total=True):    \n",
        "    df_dist_freq = pd.DataFrame(construir_tabela(dados, tipo=tipo, direita=direita, arredondar=arredondar))\n",
        "    df_dist_freq.index = formatar_intervalos(df_dist_freq.index.array, prec, direita=direita)\n",
        "    df_dist_freq.index = df_dist_freq.index.rename('Classes')\n",
        "    if exibir_total:\n",
        "        total_dist = pd.DataFrame({'Frequência':df_dist_freq['Frequência'].sum()}, index=['Total'])\n",
        "        total_dist.index = total_dist.index.rename('Classes')\n",
        "        df_dist_freq = pd.concat([df_dist_freq, total_dist])\n",
        "    return  df_dist_freq.query('Frequência>0')"
      ],
      "metadata": {
        "id": "4nN88q5-7Tgs"
      },
      "execution_count": 639,
      "outputs": []
    },
    {
      "cell_type": "markdown",
      "source": [
        "### Valor do Imóvel (Quantitativa Contínua)"
      ],
      "metadata": {
        "id": "EY7ZzV9HnIJy"
      }
    },
    {
      "cell_type": "markdown",
      "source": [
        "#### Geral"
      ],
      "metadata": {
        "id": "VYUWAvJMnIJy"
      }
    },
    {
      "cell_type": "code",
      "source": [
        "distribuicao_frequencia = dist_freq(df[\"valor\"], 'Sturges')\n",
        "distribuicao_frequencia.reset_index(inplace=True)"
      ],
      "metadata": {
        "id": "_Y-XzOKM7rMq"
      },
      "execution_count": 640,
      "outputs": []
    },
    {
      "cell_type": "code",
      "source": [
        "distribuicao_frequencia"
      ],
      "metadata": {
        "colab": {
          "base_uri": "https://localhost:8080/",
          "height": 332
        },
        "outputId": "55a7712c-dbdb-408d-ccc5-b023f309f982",
        "id": "e5g8QOA_nIJz"
      },
      "execution_count": 641,
      "outputs": [
        {
          "output_type": "execute_result",
          "data": {
            "text/plain": [
              "                  Classes  Frequência\n",
              "0     [40000.0, 786000.0)         271\n",
              "1   [786000.0, 1532000.0)          66\n",
              "2  [1532000.0, 2278000.0)          23\n",
              "3  [2278000.0, 3024000.0)          11\n",
              "4  [3024000.0, 3770000.0)           6\n",
              "5  [3770000.0, 4516000.0)           9\n",
              "6  [4516000.0, 5262000.0)           2\n",
              "7  [5262000.0, 6008000.0)           1\n",
              "8                   Total         389"
            ],
            "text/html": [
              "\n",
              "  <div id=\"df-7767cd95-7c1e-4baa-b21f-02eaaccc46bb\">\n",
              "    <div class=\"colab-df-container\">\n",
              "      <div>\n",
              "<style scoped>\n",
              "    .dataframe tbody tr th:only-of-type {\n",
              "        vertical-align: middle;\n",
              "    }\n",
              "\n",
              "    .dataframe tbody tr th {\n",
              "        vertical-align: top;\n",
              "    }\n",
              "\n",
              "    .dataframe thead th {\n",
              "        text-align: right;\n",
              "    }\n",
              "</style>\n",
              "<table border=\"1\" class=\"dataframe\">\n",
              "  <thead>\n",
              "    <tr style=\"text-align: right;\">\n",
              "      <th></th>\n",
              "      <th>Classes</th>\n",
              "      <th>Frequência</th>\n",
              "    </tr>\n",
              "  </thead>\n",
              "  <tbody>\n",
              "    <tr>\n",
              "      <th>0</th>\n",
              "      <td>[40000.0, 786000.0)</td>\n",
              "      <td>271</td>\n",
              "    </tr>\n",
              "    <tr>\n",
              "      <th>1</th>\n",
              "      <td>[786000.0, 1532000.0)</td>\n",
              "      <td>66</td>\n",
              "    </tr>\n",
              "    <tr>\n",
              "      <th>2</th>\n",
              "      <td>[1532000.0, 2278000.0)</td>\n",
              "      <td>23</td>\n",
              "    </tr>\n",
              "    <tr>\n",
              "      <th>3</th>\n",
              "      <td>[2278000.0, 3024000.0)</td>\n",
              "      <td>11</td>\n",
              "    </tr>\n",
              "    <tr>\n",
              "      <th>4</th>\n",
              "      <td>[3024000.0, 3770000.0)</td>\n",
              "      <td>6</td>\n",
              "    </tr>\n",
              "    <tr>\n",
              "      <th>5</th>\n",
              "      <td>[3770000.0, 4516000.0)</td>\n",
              "      <td>9</td>\n",
              "    </tr>\n",
              "    <tr>\n",
              "      <th>6</th>\n",
              "      <td>[4516000.0, 5262000.0)</td>\n",
              "      <td>2</td>\n",
              "    </tr>\n",
              "    <tr>\n",
              "      <th>7</th>\n",
              "      <td>[5262000.0, 6008000.0)</td>\n",
              "      <td>1</td>\n",
              "    </tr>\n",
              "    <tr>\n",
              "      <th>8</th>\n",
              "      <td>Total</td>\n",
              "      <td>389</td>\n",
              "    </tr>\n",
              "  </tbody>\n",
              "</table>\n",
              "</div>\n",
              "      <button class=\"colab-df-convert\" onclick=\"convertToInteractive('df-7767cd95-7c1e-4baa-b21f-02eaaccc46bb')\"\n",
              "              title=\"Convert this dataframe to an interactive table.\"\n",
              "              style=\"display:none;\">\n",
              "        \n",
              "  <svg xmlns=\"http://www.w3.org/2000/svg\" height=\"24px\"viewBox=\"0 0 24 24\"\n",
              "       width=\"24px\">\n",
              "    <path d=\"M0 0h24v24H0V0z\" fill=\"none\"/>\n",
              "    <path d=\"M18.56 5.44l.94 2.06.94-2.06 2.06-.94-2.06-.94-.94-2.06-.94 2.06-2.06.94zm-11 1L8.5 8.5l.94-2.06 2.06-.94-2.06-.94L8.5 2.5l-.94 2.06-2.06.94zm10 10l.94 2.06.94-2.06 2.06-.94-2.06-.94-.94-2.06-.94 2.06-2.06.94z\"/><path d=\"M17.41 7.96l-1.37-1.37c-.4-.4-.92-.59-1.43-.59-.52 0-1.04.2-1.43.59L10.3 9.45l-7.72 7.72c-.78.78-.78 2.05 0 2.83L4 21.41c.39.39.9.59 1.41.59.51 0 1.02-.2 1.41-.59l7.78-7.78 2.81-2.81c.8-.78.8-2.07 0-2.86zM5.41 20L4 18.59l7.72-7.72 1.47 1.35L5.41 20z\"/>\n",
              "  </svg>\n",
              "      </button>\n",
              "      \n",
              "  <style>\n",
              "    .colab-df-container {\n",
              "      display:flex;\n",
              "      flex-wrap:wrap;\n",
              "      gap: 12px;\n",
              "    }\n",
              "\n",
              "    .colab-df-convert {\n",
              "      background-color: #E8F0FE;\n",
              "      border: none;\n",
              "      border-radius: 50%;\n",
              "      cursor: pointer;\n",
              "      display: none;\n",
              "      fill: #1967D2;\n",
              "      height: 32px;\n",
              "      padding: 0 0 0 0;\n",
              "      width: 32px;\n",
              "    }\n",
              "\n",
              "    .colab-df-convert:hover {\n",
              "      background-color: #E2EBFA;\n",
              "      box-shadow: 0px 1px 2px rgba(60, 64, 67, 0.3), 0px 1px 3px 1px rgba(60, 64, 67, 0.15);\n",
              "      fill: #174EA6;\n",
              "    }\n",
              "\n",
              "    [theme=dark] .colab-df-convert {\n",
              "      background-color: #3B4455;\n",
              "      fill: #D2E3FC;\n",
              "    }\n",
              "\n",
              "    [theme=dark] .colab-df-convert:hover {\n",
              "      background-color: #434B5C;\n",
              "      box-shadow: 0px 1px 3px 1px rgba(0, 0, 0, 0.15);\n",
              "      filter: drop-shadow(0px 1px 2px rgba(0, 0, 0, 0.3));\n",
              "      fill: #FFFFFF;\n",
              "    }\n",
              "  </style>\n",
              "\n",
              "      <script>\n",
              "        const buttonEl =\n",
              "          document.querySelector('#df-7767cd95-7c1e-4baa-b21f-02eaaccc46bb button.colab-df-convert');\n",
              "        buttonEl.style.display =\n",
              "          google.colab.kernel.accessAllowed ? 'block' : 'none';\n",
              "\n",
              "        async function convertToInteractive(key) {\n",
              "          const element = document.querySelector('#df-7767cd95-7c1e-4baa-b21f-02eaaccc46bb');\n",
              "          const dataTable =\n",
              "            await google.colab.kernel.invokeFunction('convertToInteractive',\n",
              "                                                     [key], {});\n",
              "          if (!dataTable) return;\n",
              "\n",
              "          const docLinkHtml = 'Like what you see? Visit the ' +\n",
              "            '<a target=\"_blank\" href=https://colab.research.google.com/notebooks/data_table.ipynb>data table notebook</a>'\n",
              "            + ' to learn more about interactive tables.';\n",
              "          element.innerHTML = '';\n",
              "          dataTable['output_type'] = 'display_data';\n",
              "          await google.colab.output.renderOutput(dataTable, element);\n",
              "          const docLink = document.createElement('div');\n",
              "          docLink.innerHTML = docLinkHtml;\n",
              "          element.appendChild(docLink);\n",
              "        }\n",
              "      </script>\n",
              "    </div>\n",
              "  </div>\n",
              "  "
            ]
          },
          "metadata": {},
          "execution_count": 641
        }
      ]
    },
    {
      "cell_type": "markdown",
      "source": [
        "#### Casas"
      ],
      "metadata": {
        "id": "bMYZpTpXnIJ0"
      }
    },
    {
      "cell_type": "code",
      "source": [
        "distribuicao_frequencia = dist_freq(df_casas[\"valor\"])"
      ],
      "metadata": {
        "id": "40nRacG6D_F5"
      },
      "execution_count": 646,
      "outputs": []
    },
    {
      "cell_type": "code",
      "source": [
        "distribuicao_frequencia"
      ],
      "metadata": {
        "colab": {
          "base_uri": "https://localhost:8080/",
          "height": 520
        },
        "outputId": "39b7f11e-ffdb-4537-d736-5e5d83ecac58",
        "id": "1r90liOpnIJ0"
      },
      "execution_count": 647,
      "outputs": [
        {
          "output_type": "execute_result",
          "data": {
            "text/plain": [
              "                        Frequência\n",
              "Classes                           \n",
              "[45000.0, 510938.0)            127\n",
              "[510938.0, 976876.0)            50\n",
              "[976876.0, 1442814.0)           10\n",
              "[1442814.0, 1908752.0)          20\n",
              "[1908752.0, 2374690.0)           7\n",
              "[2374690.0, 2840628.0)           5\n",
              "[2840628.0, 3306566.0)           4\n",
              "[3306566.0, 3772504.0)           3\n",
              "[3772504.0, 4238442.0)           5\n",
              "[4238442.0, 4704380.0)           3\n",
              "[4704380.0, 5170318.0)           1\n",
              "[5170318.0, 5636256.0)           1\n",
              "[7034070.0, 7500008.0)           1\n",
              "Total                          237"
            ],
            "text/html": [
              "\n",
              "  <div id=\"df-bcc65b14-2e29-4d36-81bb-9aa7a12fdcf9\">\n",
              "    <div class=\"colab-df-container\">\n",
              "      <div>\n",
              "<style scoped>\n",
              "    .dataframe tbody tr th:only-of-type {\n",
              "        vertical-align: middle;\n",
              "    }\n",
              "\n",
              "    .dataframe tbody tr th {\n",
              "        vertical-align: top;\n",
              "    }\n",
              "\n",
              "    .dataframe thead th {\n",
              "        text-align: right;\n",
              "    }\n",
              "</style>\n",
              "<table border=\"1\" class=\"dataframe\">\n",
              "  <thead>\n",
              "    <tr style=\"text-align: right;\">\n",
              "      <th></th>\n",
              "      <th>Frequência</th>\n",
              "    </tr>\n",
              "    <tr>\n",
              "      <th>Classes</th>\n",
              "      <th></th>\n",
              "    </tr>\n",
              "  </thead>\n",
              "  <tbody>\n",
              "    <tr>\n",
              "      <th>[45000.0, 510938.0)</th>\n",
              "      <td>127</td>\n",
              "    </tr>\n",
              "    <tr>\n",
              "      <th>[510938.0, 976876.0)</th>\n",
              "      <td>50</td>\n",
              "    </tr>\n",
              "    <tr>\n",
              "      <th>[976876.0, 1442814.0)</th>\n",
              "      <td>10</td>\n",
              "    </tr>\n",
              "    <tr>\n",
              "      <th>[1442814.0, 1908752.0)</th>\n",
              "      <td>20</td>\n",
              "    </tr>\n",
              "    <tr>\n",
              "      <th>[1908752.0, 2374690.0)</th>\n",
              "      <td>7</td>\n",
              "    </tr>\n",
              "    <tr>\n",
              "      <th>[2374690.0, 2840628.0)</th>\n",
              "      <td>5</td>\n",
              "    </tr>\n",
              "    <tr>\n",
              "      <th>[2840628.0, 3306566.0)</th>\n",
              "      <td>4</td>\n",
              "    </tr>\n",
              "    <tr>\n",
              "      <th>[3306566.0, 3772504.0)</th>\n",
              "      <td>3</td>\n",
              "    </tr>\n",
              "    <tr>\n",
              "      <th>[3772504.0, 4238442.0)</th>\n",
              "      <td>5</td>\n",
              "    </tr>\n",
              "    <tr>\n",
              "      <th>[4238442.0, 4704380.0)</th>\n",
              "      <td>3</td>\n",
              "    </tr>\n",
              "    <tr>\n",
              "      <th>[4704380.0, 5170318.0)</th>\n",
              "      <td>1</td>\n",
              "    </tr>\n",
              "    <tr>\n",
              "      <th>[5170318.0, 5636256.0)</th>\n",
              "      <td>1</td>\n",
              "    </tr>\n",
              "    <tr>\n",
              "      <th>[7034070.0, 7500008.0)</th>\n",
              "      <td>1</td>\n",
              "    </tr>\n",
              "    <tr>\n",
              "      <th>Total</th>\n",
              "      <td>237</td>\n",
              "    </tr>\n",
              "  </tbody>\n",
              "</table>\n",
              "</div>\n",
              "      <button class=\"colab-df-convert\" onclick=\"convertToInteractive('df-bcc65b14-2e29-4d36-81bb-9aa7a12fdcf9')\"\n",
              "              title=\"Convert this dataframe to an interactive table.\"\n",
              "              style=\"display:none;\">\n",
              "        \n",
              "  <svg xmlns=\"http://www.w3.org/2000/svg\" height=\"24px\"viewBox=\"0 0 24 24\"\n",
              "       width=\"24px\">\n",
              "    <path d=\"M0 0h24v24H0V0z\" fill=\"none\"/>\n",
              "    <path d=\"M18.56 5.44l.94 2.06.94-2.06 2.06-.94-2.06-.94-.94-2.06-.94 2.06-2.06.94zm-11 1L8.5 8.5l.94-2.06 2.06-.94-2.06-.94L8.5 2.5l-.94 2.06-2.06.94zm10 10l.94 2.06.94-2.06 2.06-.94-2.06-.94-.94-2.06-.94 2.06-2.06.94z\"/><path d=\"M17.41 7.96l-1.37-1.37c-.4-.4-.92-.59-1.43-.59-.52 0-1.04.2-1.43.59L10.3 9.45l-7.72 7.72c-.78.78-.78 2.05 0 2.83L4 21.41c.39.39.9.59 1.41.59.51 0 1.02-.2 1.41-.59l7.78-7.78 2.81-2.81c.8-.78.8-2.07 0-2.86zM5.41 20L4 18.59l7.72-7.72 1.47 1.35L5.41 20z\"/>\n",
              "  </svg>\n",
              "      </button>\n",
              "      \n",
              "  <style>\n",
              "    .colab-df-container {\n",
              "      display:flex;\n",
              "      flex-wrap:wrap;\n",
              "      gap: 12px;\n",
              "    }\n",
              "\n",
              "    .colab-df-convert {\n",
              "      background-color: #E8F0FE;\n",
              "      border: none;\n",
              "      border-radius: 50%;\n",
              "      cursor: pointer;\n",
              "      display: none;\n",
              "      fill: #1967D2;\n",
              "      height: 32px;\n",
              "      padding: 0 0 0 0;\n",
              "      width: 32px;\n",
              "    }\n",
              "\n",
              "    .colab-df-convert:hover {\n",
              "      background-color: #E2EBFA;\n",
              "      box-shadow: 0px 1px 2px rgba(60, 64, 67, 0.3), 0px 1px 3px 1px rgba(60, 64, 67, 0.15);\n",
              "      fill: #174EA6;\n",
              "    }\n",
              "\n",
              "    [theme=dark] .colab-df-convert {\n",
              "      background-color: #3B4455;\n",
              "      fill: #D2E3FC;\n",
              "    }\n",
              "\n",
              "    [theme=dark] .colab-df-convert:hover {\n",
              "      background-color: #434B5C;\n",
              "      box-shadow: 0px 1px 3px 1px rgba(0, 0, 0, 0.15);\n",
              "      filter: drop-shadow(0px 1px 2px rgba(0, 0, 0, 0.3));\n",
              "      fill: #FFFFFF;\n",
              "    }\n",
              "  </style>\n",
              "\n",
              "      <script>\n",
              "        const buttonEl =\n",
              "          document.querySelector('#df-bcc65b14-2e29-4d36-81bb-9aa7a12fdcf9 button.colab-df-convert');\n",
              "        buttonEl.style.display =\n",
              "          google.colab.kernel.accessAllowed ? 'block' : 'none';\n",
              "\n",
              "        async function convertToInteractive(key) {\n",
              "          const element = document.querySelector('#df-bcc65b14-2e29-4d36-81bb-9aa7a12fdcf9');\n",
              "          const dataTable =\n",
              "            await google.colab.kernel.invokeFunction('convertToInteractive',\n",
              "                                                     [key], {});\n",
              "          if (!dataTable) return;\n",
              "\n",
              "          const docLinkHtml = 'Like what you see? Visit the ' +\n",
              "            '<a target=\"_blank\" href=https://colab.research.google.com/notebooks/data_table.ipynb>data table notebook</a>'\n",
              "            + ' to learn more about interactive tables.';\n",
              "          element.innerHTML = '';\n",
              "          dataTable['output_type'] = 'display_data';\n",
              "          await google.colab.output.renderOutput(dataTable, element);\n",
              "          const docLink = document.createElement('div');\n",
              "          docLink.innerHTML = docLinkHtml;\n",
              "          element.appendChild(docLink);\n",
              "        }\n",
              "      </script>\n",
              "    </div>\n",
              "  </div>\n",
              "  "
            ]
          },
          "metadata": {},
          "execution_count": 647
        }
      ]
    },
    {
      "cell_type": "markdown",
      "source": [
        "#### Apartamentos"
      ],
      "metadata": {
        "id": "WeJiyAkpnIJ0"
      }
    },
    {
      "cell_type": "code",
      "source": [
        "distribuicao_frequencia = dist_freq(df_apartamentos[\"valor\"])"
      ],
      "metadata": {
        "id": "n5uy_DT2EFVo"
      },
      "execution_count": 644,
      "outputs": []
    },
    {
      "cell_type": "code",
      "source": [
        "distribuicao_frequencia"
      ],
      "metadata": {
        "colab": {
          "base_uri": "https://localhost:8080/",
          "height": 426
        },
        "outputId": "339b4aba-7820-422f-9e74-ee4ec1c984ac",
        "id": "egf6liBtnIJ1"
      },
      "execution_count": 645,
      "outputs": [
        {
          "output_type": "execute_result",
          "data": {
            "text/plain": [
              "                        Frequência\n",
              "Classes                           \n",
              "[40000.0, 413847.0)             73\n",
              "[413847.0, 787694.0)            42\n",
              "[787694.0, 1161541.0)           17\n",
              "[1161541.0, 1535388.0)          10\n",
              "[1535388.0, 1909235.0)           4\n",
              "[1909235.0, 2283082.0)           2\n",
              "[2283082.0, 2656929.0)           2\n",
              "[2656929.0, 3030776.0)           1\n",
              "[4152317.0, 4526164.0)           1\n",
              "[4526164.0, 4900011.0)           1\n",
              "Total                          153"
            ],
            "text/html": [
              "\n",
              "  <div id=\"df-5ebbe588-b23f-45ea-89ce-a7dd01d03c0a\">\n",
              "    <div class=\"colab-df-container\">\n",
              "      <div>\n",
              "<style scoped>\n",
              "    .dataframe tbody tr th:only-of-type {\n",
              "        vertical-align: middle;\n",
              "    }\n",
              "\n",
              "    .dataframe tbody tr th {\n",
              "        vertical-align: top;\n",
              "    }\n",
              "\n",
              "    .dataframe thead th {\n",
              "        text-align: right;\n",
              "    }\n",
              "</style>\n",
              "<table border=\"1\" class=\"dataframe\">\n",
              "  <thead>\n",
              "    <tr style=\"text-align: right;\">\n",
              "      <th></th>\n",
              "      <th>Frequência</th>\n",
              "    </tr>\n",
              "    <tr>\n",
              "      <th>Classes</th>\n",
              "      <th></th>\n",
              "    </tr>\n",
              "  </thead>\n",
              "  <tbody>\n",
              "    <tr>\n",
              "      <th>[40000.0, 413847.0)</th>\n",
              "      <td>73</td>\n",
              "    </tr>\n",
              "    <tr>\n",
              "      <th>[413847.0, 787694.0)</th>\n",
              "      <td>42</td>\n",
              "    </tr>\n",
              "    <tr>\n",
              "      <th>[787694.0, 1161541.0)</th>\n",
              "      <td>17</td>\n",
              "    </tr>\n",
              "    <tr>\n",
              "      <th>[1161541.0, 1535388.0)</th>\n",
              "      <td>10</td>\n",
              "    </tr>\n",
              "    <tr>\n",
              "      <th>[1535388.0, 1909235.0)</th>\n",
              "      <td>4</td>\n",
              "    </tr>\n",
              "    <tr>\n",
              "      <th>[1909235.0, 2283082.0)</th>\n",
              "      <td>2</td>\n",
              "    </tr>\n",
              "    <tr>\n",
              "      <th>[2283082.0, 2656929.0)</th>\n",
              "      <td>2</td>\n",
              "    </tr>\n",
              "    <tr>\n",
              "      <th>[2656929.0, 3030776.0)</th>\n",
              "      <td>1</td>\n",
              "    </tr>\n",
              "    <tr>\n",
              "      <th>[4152317.0, 4526164.0)</th>\n",
              "      <td>1</td>\n",
              "    </tr>\n",
              "    <tr>\n",
              "      <th>[4526164.0, 4900011.0)</th>\n",
              "      <td>1</td>\n",
              "    </tr>\n",
              "    <tr>\n",
              "      <th>Total</th>\n",
              "      <td>153</td>\n",
              "    </tr>\n",
              "  </tbody>\n",
              "</table>\n",
              "</div>\n",
              "      <button class=\"colab-df-convert\" onclick=\"convertToInteractive('df-5ebbe588-b23f-45ea-89ce-a7dd01d03c0a')\"\n",
              "              title=\"Convert this dataframe to an interactive table.\"\n",
              "              style=\"display:none;\">\n",
              "        \n",
              "  <svg xmlns=\"http://www.w3.org/2000/svg\" height=\"24px\"viewBox=\"0 0 24 24\"\n",
              "       width=\"24px\">\n",
              "    <path d=\"M0 0h24v24H0V0z\" fill=\"none\"/>\n",
              "    <path d=\"M18.56 5.44l.94 2.06.94-2.06 2.06-.94-2.06-.94-.94-2.06-.94 2.06-2.06.94zm-11 1L8.5 8.5l.94-2.06 2.06-.94-2.06-.94L8.5 2.5l-.94 2.06-2.06.94zm10 10l.94 2.06.94-2.06 2.06-.94-2.06-.94-.94-2.06-.94 2.06-2.06.94z\"/><path d=\"M17.41 7.96l-1.37-1.37c-.4-.4-.92-.59-1.43-.59-.52 0-1.04.2-1.43.59L10.3 9.45l-7.72 7.72c-.78.78-.78 2.05 0 2.83L4 21.41c.39.39.9.59 1.41.59.51 0 1.02-.2 1.41-.59l7.78-7.78 2.81-2.81c.8-.78.8-2.07 0-2.86zM5.41 20L4 18.59l7.72-7.72 1.47 1.35L5.41 20z\"/>\n",
              "  </svg>\n",
              "      </button>\n",
              "      \n",
              "  <style>\n",
              "    .colab-df-container {\n",
              "      display:flex;\n",
              "      flex-wrap:wrap;\n",
              "      gap: 12px;\n",
              "    }\n",
              "\n",
              "    .colab-df-convert {\n",
              "      background-color: #E8F0FE;\n",
              "      border: none;\n",
              "      border-radius: 50%;\n",
              "      cursor: pointer;\n",
              "      display: none;\n",
              "      fill: #1967D2;\n",
              "      height: 32px;\n",
              "      padding: 0 0 0 0;\n",
              "      width: 32px;\n",
              "    }\n",
              "\n",
              "    .colab-df-convert:hover {\n",
              "      background-color: #E2EBFA;\n",
              "      box-shadow: 0px 1px 2px rgba(60, 64, 67, 0.3), 0px 1px 3px 1px rgba(60, 64, 67, 0.15);\n",
              "      fill: #174EA6;\n",
              "    }\n",
              "\n",
              "    [theme=dark] .colab-df-convert {\n",
              "      background-color: #3B4455;\n",
              "      fill: #D2E3FC;\n",
              "    }\n",
              "\n",
              "    [theme=dark] .colab-df-convert:hover {\n",
              "      background-color: #434B5C;\n",
              "      box-shadow: 0px 1px 3px 1px rgba(0, 0, 0, 0.15);\n",
              "      filter: drop-shadow(0px 1px 2px rgba(0, 0, 0, 0.3));\n",
              "      fill: #FFFFFF;\n",
              "    }\n",
              "  </style>\n",
              "\n",
              "      <script>\n",
              "        const buttonEl =\n",
              "          document.querySelector('#df-5ebbe588-b23f-45ea-89ce-a7dd01d03c0a button.colab-df-convert');\n",
              "        buttonEl.style.display =\n",
              "          google.colab.kernel.accessAllowed ? 'block' : 'none';\n",
              "\n",
              "        async function convertToInteractive(key) {\n",
              "          const element = document.querySelector('#df-5ebbe588-b23f-45ea-89ce-a7dd01d03c0a');\n",
              "          const dataTable =\n",
              "            await google.colab.kernel.invokeFunction('convertToInteractive',\n",
              "                                                     [key], {});\n",
              "          if (!dataTable) return;\n",
              "\n",
              "          const docLinkHtml = 'Like what you see? Visit the ' +\n",
              "            '<a target=\"_blank\" href=https://colab.research.google.com/notebooks/data_table.ipynb>data table notebook</a>'\n",
              "            + ' to learn more about interactive tables.';\n",
              "          element.innerHTML = '';\n",
              "          dataTable['output_type'] = 'display_data';\n",
              "          await google.colab.output.renderOutput(dataTable, element);\n",
              "          const docLink = document.createElement('div');\n",
              "          docLink.innerHTML = docLinkHtml;\n",
              "          element.appendChild(docLink);\n",
              "        }\n",
              "      </script>\n",
              "    </div>\n",
              "  </div>\n",
              "  "
            ]
          },
          "metadata": {},
          "execution_count": 645
        }
      ]
    },
    {
      "cell_type": "markdown",
      "source": [
        "### Área Construída (Quantitativa Contínua)"
      ],
      "metadata": {
        "id": "0s1g8cNAFXWw"
      }
    },
    {
      "cell_type": "markdown",
      "source": [
        "#### *Geral*"
      ],
      "metadata": {
        "id": "hx-svseRFXWw"
      }
    },
    {
      "cell_type": "code",
      "source": [
        "distribuicao_frequencia = dist_freq(df[\"area\"])"
      ],
      "metadata": {
        "id": "MljYVKjiFXWw"
      },
      "execution_count": 648,
      "outputs": []
    },
    {
      "cell_type": "code",
      "source": [
        "distribuicao_frequencia"
      ],
      "metadata": {
        "colab": {
          "base_uri": "https://localhost:8080/",
          "height": 488
        },
        "outputId": "00508466-f8d4-4ea4-ea79-e7036c1cc9ef",
        "id": "FdrWJyNjFXWx"
      },
      "execution_count": 127,
      "outputs": [
        {
          "output_type": "execute_result",
          "data": {
            "text/plain": [
              "                  Frequência\n",
              "Classes                     \n",
              "[30.0, 153.0)            222\n",
              "[153.0, 276.0)            89\n",
              "[276.0, 399.0)            39\n",
              "[399.0, 522.0)            20\n",
              "[522.0, 645.0)             8\n",
              "[645.0, 768.0)             4\n",
              "[768.0, 891.0)             2\n",
              "[891.0, 1014.0)            2\n",
              "[1014.0, 1137.0)           1\n",
              "[1506.0, 1629.0)           1\n",
              "[1998.0, 2121.0)           1\n",
              "[2367.0, 2490.0)           1\n",
              "Total                    390"
            ],
            "text/html": [
              "\n",
              "  <div id=\"df-737293fc-1e11-4fd1-876b-34a1701fa19a\">\n",
              "    <div class=\"colab-df-container\">\n",
              "      <div>\n",
              "<style scoped>\n",
              "    .dataframe tbody tr th:only-of-type {\n",
              "        vertical-align: middle;\n",
              "    }\n",
              "\n",
              "    .dataframe tbody tr th {\n",
              "        vertical-align: top;\n",
              "    }\n",
              "\n",
              "    .dataframe thead th {\n",
              "        text-align: right;\n",
              "    }\n",
              "</style>\n",
              "<table border=\"1\" class=\"dataframe\">\n",
              "  <thead>\n",
              "    <tr style=\"text-align: right;\">\n",
              "      <th></th>\n",
              "      <th>Frequência</th>\n",
              "    </tr>\n",
              "    <tr>\n",
              "      <th>Classes</th>\n",
              "      <th></th>\n",
              "    </tr>\n",
              "  </thead>\n",
              "  <tbody>\n",
              "    <tr>\n",
              "      <th>[30.0, 153.0)</th>\n",
              "      <td>222</td>\n",
              "    </tr>\n",
              "    <tr>\n",
              "      <th>[153.0, 276.0)</th>\n",
              "      <td>89</td>\n",
              "    </tr>\n",
              "    <tr>\n",
              "      <th>[276.0, 399.0)</th>\n",
              "      <td>39</td>\n",
              "    </tr>\n",
              "    <tr>\n",
              "      <th>[399.0, 522.0)</th>\n",
              "      <td>20</td>\n",
              "    </tr>\n",
              "    <tr>\n",
              "      <th>[522.0, 645.0)</th>\n",
              "      <td>8</td>\n",
              "    </tr>\n",
              "    <tr>\n",
              "      <th>[645.0, 768.0)</th>\n",
              "      <td>4</td>\n",
              "    </tr>\n",
              "    <tr>\n",
              "      <th>[768.0, 891.0)</th>\n",
              "      <td>2</td>\n",
              "    </tr>\n",
              "    <tr>\n",
              "      <th>[891.0, 1014.0)</th>\n",
              "      <td>2</td>\n",
              "    </tr>\n",
              "    <tr>\n",
              "      <th>[1014.0, 1137.0)</th>\n",
              "      <td>1</td>\n",
              "    </tr>\n",
              "    <tr>\n",
              "      <th>[1506.0, 1629.0)</th>\n",
              "      <td>1</td>\n",
              "    </tr>\n",
              "    <tr>\n",
              "      <th>[1998.0, 2121.0)</th>\n",
              "      <td>1</td>\n",
              "    </tr>\n",
              "    <tr>\n",
              "      <th>[2367.0, 2490.0)</th>\n",
              "      <td>1</td>\n",
              "    </tr>\n",
              "    <tr>\n",
              "      <th>Total</th>\n",
              "      <td>390</td>\n",
              "    </tr>\n",
              "  </tbody>\n",
              "</table>\n",
              "</div>\n",
              "      <button class=\"colab-df-convert\" onclick=\"convertToInteractive('df-737293fc-1e11-4fd1-876b-34a1701fa19a')\"\n",
              "              title=\"Convert this dataframe to an interactive table.\"\n",
              "              style=\"display:none;\">\n",
              "        \n",
              "  <svg xmlns=\"http://www.w3.org/2000/svg\" height=\"24px\"viewBox=\"0 0 24 24\"\n",
              "       width=\"24px\">\n",
              "    <path d=\"M0 0h24v24H0V0z\" fill=\"none\"/>\n",
              "    <path d=\"M18.56 5.44l.94 2.06.94-2.06 2.06-.94-2.06-.94-.94-2.06-.94 2.06-2.06.94zm-11 1L8.5 8.5l.94-2.06 2.06-.94-2.06-.94L8.5 2.5l-.94 2.06-2.06.94zm10 10l.94 2.06.94-2.06 2.06-.94-2.06-.94-.94-2.06-.94 2.06-2.06.94z\"/><path d=\"M17.41 7.96l-1.37-1.37c-.4-.4-.92-.59-1.43-.59-.52 0-1.04.2-1.43.59L10.3 9.45l-7.72 7.72c-.78.78-.78 2.05 0 2.83L4 21.41c.39.39.9.59 1.41.59.51 0 1.02-.2 1.41-.59l7.78-7.78 2.81-2.81c.8-.78.8-2.07 0-2.86zM5.41 20L4 18.59l7.72-7.72 1.47 1.35L5.41 20z\"/>\n",
              "  </svg>\n",
              "      </button>\n",
              "      \n",
              "  <style>\n",
              "    .colab-df-container {\n",
              "      display:flex;\n",
              "      flex-wrap:wrap;\n",
              "      gap: 12px;\n",
              "    }\n",
              "\n",
              "    .colab-df-convert {\n",
              "      background-color: #E8F0FE;\n",
              "      border: none;\n",
              "      border-radius: 50%;\n",
              "      cursor: pointer;\n",
              "      display: none;\n",
              "      fill: #1967D2;\n",
              "      height: 32px;\n",
              "      padding: 0 0 0 0;\n",
              "      width: 32px;\n",
              "    }\n",
              "\n",
              "    .colab-df-convert:hover {\n",
              "      background-color: #E2EBFA;\n",
              "      box-shadow: 0px 1px 2px rgba(60, 64, 67, 0.3), 0px 1px 3px 1px rgba(60, 64, 67, 0.15);\n",
              "      fill: #174EA6;\n",
              "    }\n",
              "\n",
              "    [theme=dark] .colab-df-convert {\n",
              "      background-color: #3B4455;\n",
              "      fill: #D2E3FC;\n",
              "    }\n",
              "\n",
              "    [theme=dark] .colab-df-convert:hover {\n",
              "      background-color: #434B5C;\n",
              "      box-shadow: 0px 1px 3px 1px rgba(0, 0, 0, 0.15);\n",
              "      filter: drop-shadow(0px 1px 2px rgba(0, 0, 0, 0.3));\n",
              "      fill: #FFFFFF;\n",
              "    }\n",
              "  </style>\n",
              "\n",
              "      <script>\n",
              "        const buttonEl =\n",
              "          document.querySelector('#df-737293fc-1e11-4fd1-876b-34a1701fa19a button.colab-df-convert');\n",
              "        buttonEl.style.display =\n",
              "          google.colab.kernel.accessAllowed ? 'block' : 'none';\n",
              "\n",
              "        async function convertToInteractive(key) {\n",
              "          const element = document.querySelector('#df-737293fc-1e11-4fd1-876b-34a1701fa19a');\n",
              "          const dataTable =\n",
              "            await google.colab.kernel.invokeFunction('convertToInteractive',\n",
              "                                                     [key], {});\n",
              "          if (!dataTable) return;\n",
              "\n",
              "          const docLinkHtml = 'Like what you see? Visit the ' +\n",
              "            '<a target=\"_blank\" href=https://colab.research.google.com/notebooks/data_table.ipynb>data table notebook</a>'\n",
              "            + ' to learn more about interactive tables.';\n",
              "          element.innerHTML = '';\n",
              "          dataTable['output_type'] = 'display_data';\n",
              "          await google.colab.output.renderOutput(dataTable, element);\n",
              "          const docLink = document.createElement('div');\n",
              "          docLink.innerHTML = docLinkHtml;\n",
              "          element.appendChild(docLink);\n",
              "        }\n",
              "      </script>\n",
              "    </div>\n",
              "  </div>\n",
              "  "
            ]
          },
          "metadata": {},
          "execution_count": 127
        }
      ]
    },
    {
      "cell_type": "markdown",
      "source": [
        "#### *Casas*"
      ],
      "metadata": {
        "id": "4whov5KbFXWx"
      }
    },
    {
      "cell_type": "code",
      "source": [
        "distribuicao_frequencia = dist_freq(df_casas[\"area\"])"
      ],
      "metadata": {
        "id": "MUhb5ymKFXWx"
      },
      "execution_count": 656,
      "outputs": []
    },
    {
      "cell_type": "code",
      "source": [
        "distribuicao_frequencia"
      ],
      "metadata": {
        "colab": {
          "base_uri": "https://localhost:8080/",
          "height": 0
        },
        "id": "J3mLwI6O6I0Z",
        "outputId": "5155ba95-2a3a-4289-d423-4474a7ac7a28"
      },
      "execution_count": 657,
      "outputs": [
        {
          "output_type": "execute_result",
          "data": {
            "text/plain": [
              "                  Frequência\n",
              "Classes                     \n",
              "[30.0, 183.0)            121\n",
              "[183.0, 336.0)            60\n",
              "[336.0, 489.0)            30\n",
              "[489.0, 642.0)            14\n",
              "[642.0, 795.0)             4\n",
              "[795.0, 948.0)             2\n",
              "[948.0, 1101.0)            2\n",
              "[1101.0, 1254.0)           1\n",
              "[1560.0, 1713.0)           1\n",
              "[2019.0, 2172.0)           1\n",
              "Total                    236"
            ],
            "text/html": [
              "\n",
              "  <div id=\"df-ff08683f-5ea6-4c58-a477-3b396a931817\">\n",
              "    <div class=\"colab-df-container\">\n",
              "      <div>\n",
              "<style scoped>\n",
              "    .dataframe tbody tr th:only-of-type {\n",
              "        vertical-align: middle;\n",
              "    }\n",
              "\n",
              "    .dataframe tbody tr th {\n",
              "        vertical-align: top;\n",
              "    }\n",
              "\n",
              "    .dataframe thead th {\n",
              "        text-align: right;\n",
              "    }\n",
              "</style>\n",
              "<table border=\"1\" class=\"dataframe\">\n",
              "  <thead>\n",
              "    <tr style=\"text-align: right;\">\n",
              "      <th></th>\n",
              "      <th>Frequência</th>\n",
              "    </tr>\n",
              "    <tr>\n",
              "      <th>Classes</th>\n",
              "      <th></th>\n",
              "    </tr>\n",
              "  </thead>\n",
              "  <tbody>\n",
              "    <tr>\n",
              "      <th>[30.0, 183.0)</th>\n",
              "      <td>121</td>\n",
              "    </tr>\n",
              "    <tr>\n",
              "      <th>[183.0, 336.0)</th>\n",
              "      <td>60</td>\n",
              "    </tr>\n",
              "    <tr>\n",
              "      <th>[336.0, 489.0)</th>\n",
              "      <td>30</td>\n",
              "    </tr>\n",
              "    <tr>\n",
              "      <th>[489.0, 642.0)</th>\n",
              "      <td>14</td>\n",
              "    </tr>\n",
              "    <tr>\n",
              "      <th>[642.0, 795.0)</th>\n",
              "      <td>4</td>\n",
              "    </tr>\n",
              "    <tr>\n",
              "      <th>[795.0, 948.0)</th>\n",
              "      <td>2</td>\n",
              "    </tr>\n",
              "    <tr>\n",
              "      <th>[948.0, 1101.0)</th>\n",
              "      <td>2</td>\n",
              "    </tr>\n",
              "    <tr>\n",
              "      <th>[1101.0, 1254.0)</th>\n",
              "      <td>1</td>\n",
              "    </tr>\n",
              "    <tr>\n",
              "      <th>[1560.0, 1713.0)</th>\n",
              "      <td>1</td>\n",
              "    </tr>\n",
              "    <tr>\n",
              "      <th>[2019.0, 2172.0)</th>\n",
              "      <td>1</td>\n",
              "    </tr>\n",
              "    <tr>\n",
              "      <th>Total</th>\n",
              "      <td>236</td>\n",
              "    </tr>\n",
              "  </tbody>\n",
              "</table>\n",
              "</div>\n",
              "      <button class=\"colab-df-convert\" onclick=\"convertToInteractive('df-ff08683f-5ea6-4c58-a477-3b396a931817')\"\n",
              "              title=\"Convert this dataframe to an interactive table.\"\n",
              "              style=\"display:none;\">\n",
              "        \n",
              "  <svg xmlns=\"http://www.w3.org/2000/svg\" height=\"24px\"viewBox=\"0 0 24 24\"\n",
              "       width=\"24px\">\n",
              "    <path d=\"M0 0h24v24H0V0z\" fill=\"none\"/>\n",
              "    <path d=\"M18.56 5.44l.94 2.06.94-2.06 2.06-.94-2.06-.94-.94-2.06-.94 2.06-2.06.94zm-11 1L8.5 8.5l.94-2.06 2.06-.94-2.06-.94L8.5 2.5l-.94 2.06-2.06.94zm10 10l.94 2.06.94-2.06 2.06-.94-2.06-.94-.94-2.06-.94 2.06-2.06.94z\"/><path d=\"M17.41 7.96l-1.37-1.37c-.4-.4-.92-.59-1.43-.59-.52 0-1.04.2-1.43.59L10.3 9.45l-7.72 7.72c-.78.78-.78 2.05 0 2.83L4 21.41c.39.39.9.59 1.41.59.51 0 1.02-.2 1.41-.59l7.78-7.78 2.81-2.81c.8-.78.8-2.07 0-2.86zM5.41 20L4 18.59l7.72-7.72 1.47 1.35L5.41 20z\"/>\n",
              "  </svg>\n",
              "      </button>\n",
              "      \n",
              "  <style>\n",
              "    .colab-df-container {\n",
              "      display:flex;\n",
              "      flex-wrap:wrap;\n",
              "      gap: 12px;\n",
              "    }\n",
              "\n",
              "    .colab-df-convert {\n",
              "      background-color: #E8F0FE;\n",
              "      border: none;\n",
              "      border-radius: 50%;\n",
              "      cursor: pointer;\n",
              "      display: none;\n",
              "      fill: #1967D2;\n",
              "      height: 32px;\n",
              "      padding: 0 0 0 0;\n",
              "      width: 32px;\n",
              "    }\n",
              "\n",
              "    .colab-df-convert:hover {\n",
              "      background-color: #E2EBFA;\n",
              "      box-shadow: 0px 1px 2px rgba(60, 64, 67, 0.3), 0px 1px 3px 1px rgba(60, 64, 67, 0.15);\n",
              "      fill: #174EA6;\n",
              "    }\n",
              "\n",
              "    [theme=dark] .colab-df-convert {\n",
              "      background-color: #3B4455;\n",
              "      fill: #D2E3FC;\n",
              "    }\n",
              "\n",
              "    [theme=dark] .colab-df-convert:hover {\n",
              "      background-color: #434B5C;\n",
              "      box-shadow: 0px 1px 3px 1px rgba(0, 0, 0, 0.15);\n",
              "      filter: drop-shadow(0px 1px 2px rgba(0, 0, 0, 0.3));\n",
              "      fill: #FFFFFF;\n",
              "    }\n",
              "  </style>\n",
              "\n",
              "      <script>\n",
              "        const buttonEl =\n",
              "          document.querySelector('#df-ff08683f-5ea6-4c58-a477-3b396a931817 button.colab-df-convert');\n",
              "        buttonEl.style.display =\n",
              "          google.colab.kernel.accessAllowed ? 'block' : 'none';\n",
              "\n",
              "        async function convertToInteractive(key) {\n",
              "          const element = document.querySelector('#df-ff08683f-5ea6-4c58-a477-3b396a931817');\n",
              "          const dataTable =\n",
              "            await google.colab.kernel.invokeFunction('convertToInteractive',\n",
              "                                                     [key], {});\n",
              "          if (!dataTable) return;\n",
              "\n",
              "          const docLinkHtml = 'Like what you see? Visit the ' +\n",
              "            '<a target=\"_blank\" href=https://colab.research.google.com/notebooks/data_table.ipynb>data table notebook</a>'\n",
              "            + ' to learn more about interactive tables.';\n",
              "          element.innerHTML = '';\n",
              "          dataTable['output_type'] = 'display_data';\n",
              "          await google.colab.output.renderOutput(dataTable, element);\n",
              "          const docLink = document.createElement('div');\n",
              "          docLink.innerHTML = docLinkHtml;\n",
              "          element.appendChild(docLink);\n",
              "        }\n",
              "      </script>\n",
              "    </div>\n",
              "  </div>\n",
              "  "
            ]
          },
          "metadata": {},
          "execution_count": 657
        }
      ]
    },
    {
      "cell_type": "markdown",
      "source": [
        "#### *Apartamentos*"
      ],
      "metadata": {
        "id": "aex4gnWUFXWy"
      }
    },
    {
      "cell_type": "code",
      "source": [
        "distribuicao_frequencia = dist_freq(df_apartamentos[\"area\"])"
      ],
      "metadata": {
        "id": "fCJcS6qSFXWy"
      },
      "execution_count": 652,
      "outputs": []
    },
    {
      "cell_type": "code",
      "source": [
        "distribuicao_frequencia"
      ],
      "metadata": {
        "colab": {
          "base_uri": "https://localhost:8080/",
          "height": 426
        },
        "outputId": "e5846c9c-ccb6-45c4-fe59-e1a9a36cb595",
        "id": "lb26JUrWFXWy"
      },
      "execution_count": 653,
      "outputs": [
        {
          "output_type": "execute_result",
          "data": {
            "text/plain": [
              "                Frequência\n",
              "Classes                   \n",
              "[32.0, 68.0)            57\n",
              "[68.0, 104.0)           40\n",
              "[104.0, 140.0)          23\n",
              "[140.0, 176.0)          18\n",
              "[176.0, 212.0)           4\n",
              "[212.0, 248.0)           4\n",
              "[248.0, 284.0)           3\n",
              "[284.0, 320.0)           1\n",
              "[356.0, 392.0)           1\n",
              "[392.0, 428.0)           1\n",
              "Total                  152"
            ],
            "text/html": [
              "\n",
              "  <div id=\"df-def48f4d-ff71-4fa7-abe3-b28f858ce9b0\">\n",
              "    <div class=\"colab-df-container\">\n",
              "      <div>\n",
              "<style scoped>\n",
              "    .dataframe tbody tr th:only-of-type {\n",
              "        vertical-align: middle;\n",
              "    }\n",
              "\n",
              "    .dataframe tbody tr th {\n",
              "        vertical-align: top;\n",
              "    }\n",
              "\n",
              "    .dataframe thead th {\n",
              "        text-align: right;\n",
              "    }\n",
              "</style>\n",
              "<table border=\"1\" class=\"dataframe\">\n",
              "  <thead>\n",
              "    <tr style=\"text-align: right;\">\n",
              "      <th></th>\n",
              "      <th>Frequência</th>\n",
              "    </tr>\n",
              "    <tr>\n",
              "      <th>Classes</th>\n",
              "      <th></th>\n",
              "    </tr>\n",
              "  </thead>\n",
              "  <tbody>\n",
              "    <tr>\n",
              "      <th>[32.0, 68.0)</th>\n",
              "      <td>57</td>\n",
              "    </tr>\n",
              "    <tr>\n",
              "      <th>[68.0, 104.0)</th>\n",
              "      <td>40</td>\n",
              "    </tr>\n",
              "    <tr>\n",
              "      <th>[104.0, 140.0)</th>\n",
              "      <td>23</td>\n",
              "    </tr>\n",
              "    <tr>\n",
              "      <th>[140.0, 176.0)</th>\n",
              "      <td>18</td>\n",
              "    </tr>\n",
              "    <tr>\n",
              "      <th>[176.0, 212.0)</th>\n",
              "      <td>4</td>\n",
              "    </tr>\n",
              "    <tr>\n",
              "      <th>[212.0, 248.0)</th>\n",
              "      <td>4</td>\n",
              "    </tr>\n",
              "    <tr>\n",
              "      <th>[248.0, 284.0)</th>\n",
              "      <td>3</td>\n",
              "    </tr>\n",
              "    <tr>\n",
              "      <th>[284.0, 320.0)</th>\n",
              "      <td>1</td>\n",
              "    </tr>\n",
              "    <tr>\n",
              "      <th>[356.0, 392.0)</th>\n",
              "      <td>1</td>\n",
              "    </tr>\n",
              "    <tr>\n",
              "      <th>[392.0, 428.0)</th>\n",
              "      <td>1</td>\n",
              "    </tr>\n",
              "    <tr>\n",
              "      <th>Total</th>\n",
              "      <td>152</td>\n",
              "    </tr>\n",
              "  </tbody>\n",
              "</table>\n",
              "</div>\n",
              "      <button class=\"colab-df-convert\" onclick=\"convertToInteractive('df-def48f4d-ff71-4fa7-abe3-b28f858ce9b0')\"\n",
              "              title=\"Convert this dataframe to an interactive table.\"\n",
              "              style=\"display:none;\">\n",
              "        \n",
              "  <svg xmlns=\"http://www.w3.org/2000/svg\" height=\"24px\"viewBox=\"0 0 24 24\"\n",
              "       width=\"24px\">\n",
              "    <path d=\"M0 0h24v24H0V0z\" fill=\"none\"/>\n",
              "    <path d=\"M18.56 5.44l.94 2.06.94-2.06 2.06-.94-2.06-.94-.94-2.06-.94 2.06-2.06.94zm-11 1L8.5 8.5l.94-2.06 2.06-.94-2.06-.94L8.5 2.5l-.94 2.06-2.06.94zm10 10l.94 2.06.94-2.06 2.06-.94-2.06-.94-.94-2.06-.94 2.06-2.06.94z\"/><path d=\"M17.41 7.96l-1.37-1.37c-.4-.4-.92-.59-1.43-.59-.52 0-1.04.2-1.43.59L10.3 9.45l-7.72 7.72c-.78.78-.78 2.05 0 2.83L4 21.41c.39.39.9.59 1.41.59.51 0 1.02-.2 1.41-.59l7.78-7.78 2.81-2.81c.8-.78.8-2.07 0-2.86zM5.41 20L4 18.59l7.72-7.72 1.47 1.35L5.41 20z\"/>\n",
              "  </svg>\n",
              "      </button>\n",
              "      \n",
              "  <style>\n",
              "    .colab-df-container {\n",
              "      display:flex;\n",
              "      flex-wrap:wrap;\n",
              "      gap: 12px;\n",
              "    }\n",
              "\n",
              "    .colab-df-convert {\n",
              "      background-color: #E8F0FE;\n",
              "      border: none;\n",
              "      border-radius: 50%;\n",
              "      cursor: pointer;\n",
              "      display: none;\n",
              "      fill: #1967D2;\n",
              "      height: 32px;\n",
              "      padding: 0 0 0 0;\n",
              "      width: 32px;\n",
              "    }\n",
              "\n",
              "    .colab-df-convert:hover {\n",
              "      background-color: #E2EBFA;\n",
              "      box-shadow: 0px 1px 2px rgba(60, 64, 67, 0.3), 0px 1px 3px 1px rgba(60, 64, 67, 0.15);\n",
              "      fill: #174EA6;\n",
              "    }\n",
              "\n",
              "    [theme=dark] .colab-df-convert {\n",
              "      background-color: #3B4455;\n",
              "      fill: #D2E3FC;\n",
              "    }\n",
              "\n",
              "    [theme=dark] .colab-df-convert:hover {\n",
              "      background-color: #434B5C;\n",
              "      box-shadow: 0px 1px 3px 1px rgba(0, 0, 0, 0.15);\n",
              "      filter: drop-shadow(0px 1px 2px rgba(0, 0, 0, 0.3));\n",
              "      fill: #FFFFFF;\n",
              "    }\n",
              "  </style>\n",
              "\n",
              "      <script>\n",
              "        const buttonEl =\n",
              "          document.querySelector('#df-def48f4d-ff71-4fa7-abe3-b28f858ce9b0 button.colab-df-convert');\n",
              "        buttonEl.style.display =\n",
              "          google.colab.kernel.accessAllowed ? 'block' : 'none';\n",
              "\n",
              "        async function convertToInteractive(key) {\n",
              "          const element = document.querySelector('#df-def48f4d-ff71-4fa7-abe3-b28f858ce9b0');\n",
              "          const dataTable =\n",
              "            await google.colab.kernel.invokeFunction('convertToInteractive',\n",
              "                                                     [key], {});\n",
              "          if (!dataTable) return;\n",
              "\n",
              "          const docLinkHtml = 'Like what you see? Visit the ' +\n",
              "            '<a target=\"_blank\" href=https://colab.research.google.com/notebooks/data_table.ipynb>data table notebook</a>'\n",
              "            + ' to learn more about interactive tables.';\n",
              "          element.innerHTML = '';\n",
              "          dataTable['output_type'] = 'display_data';\n",
              "          await google.colab.output.renderOutput(dataTable, element);\n",
              "          const docLink = document.createElement('div');\n",
              "          docLink.innerHTML = docLinkHtml;\n",
              "          element.appendChild(docLink);\n",
              "        }\n",
              "      </script>\n",
              "    </div>\n",
              "  </div>\n",
              "  "
            ]
          },
          "metadata": {},
          "execution_count": 653
        }
      ]
    },
    {
      "cell_type": "markdown",
      "source": [
        "### Quantidade de Quartos (Quantitativa Discreta)"
      ],
      "metadata": {
        "id": "aNVhPY-vUP8_"
      }
    },
    {
      "cell_type": "markdown",
      "source": [
        "#### Geral"
      ],
      "metadata": {
        "id": "rK2ob9-pkK0n"
      }
    },
    {
      "cell_type": "code",
      "source": [
        "frequencia = df[\"qtde_quartos\"].value_counts()\n",
        "percentual = round(df[\"qtde_quartos\"].value_counts(normalize=True) * 100, 2)"
      ],
      "metadata": {
        "id": "bNtxP5_TU_qP"
      },
      "execution_count": 132,
      "outputs": []
    },
    {
      "cell_type": "code",
      "source": [
        "distribuicao_frequencia = pd.DataFrame({\"Frequencia\": frequencia, \"Percentual (%)\": percentual})\n",
        "distribuicao_frequencia.reset_index(inplace=True)\n",
        "distribuicao_frequencia.rename(columns={\"index\":\"Qtde. Quartos\"}, inplace=True)"
      ],
      "metadata": {
        "id": "2MYw9yW0XRTw"
      },
      "execution_count": 133,
      "outputs": []
    },
    {
      "cell_type": "markdown",
      "source": [
        "#### *Geral: Resultados*"
      ],
      "metadata": {
        "id": "2hRcG_5ekUKo"
      }
    },
    {
      "cell_type": "code",
      "source": [
        "distribuicao_frequencia"
      ],
      "metadata": {
        "colab": {
          "base_uri": "https://localhost:8080/",
          "height": 206
        },
        "id": "IpgO83TekgRV",
        "outputId": "5a5cc2fa-afc7-4fb9-cc72-2c918db68e3c"
      },
      "execution_count": 134,
      "outputs": [
        {
          "output_type": "execute_result",
          "data": {
            "text/plain": [
              "   Qtde. Quartos  Frequencia  Percentual (%)\n",
              "0              3         194           49.74\n",
              "1              2          99           25.38\n",
              "2              4          58           14.87\n",
              "3              5          30            7.69\n",
              "4              1           9            2.31"
            ],
            "text/html": [
              "\n",
              "  <div id=\"df-b1fb0dd4-ce9b-4eef-a72b-8995e86c8c9f\">\n",
              "    <div class=\"colab-df-container\">\n",
              "      <div>\n",
              "<style scoped>\n",
              "    .dataframe tbody tr th:only-of-type {\n",
              "        vertical-align: middle;\n",
              "    }\n",
              "\n",
              "    .dataframe tbody tr th {\n",
              "        vertical-align: top;\n",
              "    }\n",
              "\n",
              "    .dataframe thead th {\n",
              "        text-align: right;\n",
              "    }\n",
              "</style>\n",
              "<table border=\"1\" class=\"dataframe\">\n",
              "  <thead>\n",
              "    <tr style=\"text-align: right;\">\n",
              "      <th></th>\n",
              "      <th>Qtde. Quartos</th>\n",
              "      <th>Frequencia</th>\n",
              "      <th>Percentual (%)</th>\n",
              "    </tr>\n",
              "  </thead>\n",
              "  <tbody>\n",
              "    <tr>\n",
              "      <th>0</th>\n",
              "      <td>3</td>\n",
              "      <td>194</td>\n",
              "      <td>49.74</td>\n",
              "    </tr>\n",
              "    <tr>\n",
              "      <th>1</th>\n",
              "      <td>2</td>\n",
              "      <td>99</td>\n",
              "      <td>25.38</td>\n",
              "    </tr>\n",
              "    <tr>\n",
              "      <th>2</th>\n",
              "      <td>4</td>\n",
              "      <td>58</td>\n",
              "      <td>14.87</td>\n",
              "    </tr>\n",
              "    <tr>\n",
              "      <th>3</th>\n",
              "      <td>5</td>\n",
              "      <td>30</td>\n",
              "      <td>7.69</td>\n",
              "    </tr>\n",
              "    <tr>\n",
              "      <th>4</th>\n",
              "      <td>1</td>\n",
              "      <td>9</td>\n",
              "      <td>2.31</td>\n",
              "    </tr>\n",
              "  </tbody>\n",
              "</table>\n",
              "</div>\n",
              "      <button class=\"colab-df-convert\" onclick=\"convertToInteractive('df-b1fb0dd4-ce9b-4eef-a72b-8995e86c8c9f')\"\n",
              "              title=\"Convert this dataframe to an interactive table.\"\n",
              "              style=\"display:none;\">\n",
              "        \n",
              "  <svg xmlns=\"http://www.w3.org/2000/svg\" height=\"24px\"viewBox=\"0 0 24 24\"\n",
              "       width=\"24px\">\n",
              "    <path d=\"M0 0h24v24H0V0z\" fill=\"none\"/>\n",
              "    <path d=\"M18.56 5.44l.94 2.06.94-2.06 2.06-.94-2.06-.94-.94-2.06-.94 2.06-2.06.94zm-11 1L8.5 8.5l.94-2.06 2.06-.94-2.06-.94L8.5 2.5l-.94 2.06-2.06.94zm10 10l.94 2.06.94-2.06 2.06-.94-2.06-.94-.94-2.06-.94 2.06-2.06.94z\"/><path d=\"M17.41 7.96l-1.37-1.37c-.4-.4-.92-.59-1.43-.59-.52 0-1.04.2-1.43.59L10.3 9.45l-7.72 7.72c-.78.78-.78 2.05 0 2.83L4 21.41c.39.39.9.59 1.41.59.51 0 1.02-.2 1.41-.59l7.78-7.78 2.81-2.81c.8-.78.8-2.07 0-2.86zM5.41 20L4 18.59l7.72-7.72 1.47 1.35L5.41 20z\"/>\n",
              "  </svg>\n",
              "      </button>\n",
              "      \n",
              "  <style>\n",
              "    .colab-df-container {\n",
              "      display:flex;\n",
              "      flex-wrap:wrap;\n",
              "      gap: 12px;\n",
              "    }\n",
              "\n",
              "    .colab-df-convert {\n",
              "      background-color: #E8F0FE;\n",
              "      border: none;\n",
              "      border-radius: 50%;\n",
              "      cursor: pointer;\n",
              "      display: none;\n",
              "      fill: #1967D2;\n",
              "      height: 32px;\n",
              "      padding: 0 0 0 0;\n",
              "      width: 32px;\n",
              "    }\n",
              "\n",
              "    .colab-df-convert:hover {\n",
              "      background-color: #E2EBFA;\n",
              "      box-shadow: 0px 1px 2px rgba(60, 64, 67, 0.3), 0px 1px 3px 1px rgba(60, 64, 67, 0.15);\n",
              "      fill: #174EA6;\n",
              "    }\n",
              "\n",
              "    [theme=dark] .colab-df-convert {\n",
              "      background-color: #3B4455;\n",
              "      fill: #D2E3FC;\n",
              "    }\n",
              "\n",
              "    [theme=dark] .colab-df-convert:hover {\n",
              "      background-color: #434B5C;\n",
              "      box-shadow: 0px 1px 3px 1px rgba(0, 0, 0, 0.15);\n",
              "      filter: drop-shadow(0px 1px 2px rgba(0, 0, 0, 0.3));\n",
              "      fill: #FFFFFF;\n",
              "    }\n",
              "  </style>\n",
              "\n",
              "      <script>\n",
              "        const buttonEl =\n",
              "          document.querySelector('#df-b1fb0dd4-ce9b-4eef-a72b-8995e86c8c9f button.colab-df-convert');\n",
              "        buttonEl.style.display =\n",
              "          google.colab.kernel.accessAllowed ? 'block' : 'none';\n",
              "\n",
              "        async function convertToInteractive(key) {\n",
              "          const element = document.querySelector('#df-b1fb0dd4-ce9b-4eef-a72b-8995e86c8c9f');\n",
              "          const dataTable =\n",
              "            await google.colab.kernel.invokeFunction('convertToInteractive',\n",
              "                                                     [key], {});\n",
              "          if (!dataTable) return;\n",
              "\n",
              "          const docLinkHtml = 'Like what you see? Visit the ' +\n",
              "            '<a target=\"_blank\" href=https://colab.research.google.com/notebooks/data_table.ipynb>data table notebook</a>'\n",
              "            + ' to learn more about interactive tables.';\n",
              "          element.innerHTML = '';\n",
              "          dataTable['output_type'] = 'display_data';\n",
              "          await google.colab.output.renderOutput(dataTable, element);\n",
              "          const docLink = document.createElement('div');\n",
              "          docLink.innerHTML = docLinkHtml;\n",
              "          element.appendChild(docLink);\n",
              "        }\n",
              "      </script>\n",
              "    </div>\n",
              "  </div>\n",
              "  "
            ]
          },
          "metadata": {},
          "execution_count": 134
        }
      ]
    },
    {
      "cell_type": "code",
      "source": [
        "plot = sns.barplot(data=distribuicao_frequencia, x=\"Qtde. Quartos\", y=\"Percentual (%)\", color= \"blue\")\n",
        "show_values(plot)"
      ],
      "metadata": {
        "colab": {
          "base_uri": "https://localhost:8080/",
          "height": 279
        },
        "id": "seyoDMSokghO",
        "outputId": "ae2850c0-38ca-4503-b0e9-1496123d2840"
      },
      "execution_count": 135,
      "outputs": [
        {
          "output_type": "display_data",
          "data": {
            "text/plain": [
              "<Figure size 432x288 with 1 Axes>"
            ],
            "image/png": "[encoded data removed]"
          },
          "metadata": {
            "needs_background": "light"
          }
        }
      ]
    },
    {
      "cell_type": "markdown",
      "source": [
        "#### Casas"
      ],
      "metadata": {
        "id": "N1_JK0tHkNpu"
      }
    },
    {
      "cell_type": "code",
      "source": [
        "frequencia = df_casas[\"qtde_quartos\"].value_counts()\n",
        "percentual = round(df_casas[\"qtde_quartos\"].value_counts(normalize=True) * 100, 2)"
      ],
      "metadata": {
        "id": "cqXf5cMakPsf"
      },
      "execution_count": 136,
      "outputs": []
    },
    {
      "cell_type": "code",
      "source": [
        "distribuicao_frequencia = pd.DataFrame({\"Frequencia\": frequencia, \"Percentual (%)\": percentual})\n",
        "distribuicao_frequencia.reset_index(inplace=True)\n",
        "distribuicao_frequencia.rename(columns={\"index\":\"Qtde. Quartos\"}, inplace=True)"
      ],
      "metadata": {
        "id": "AB-elm82k8e9"
      },
      "execution_count": 137,
      "outputs": []
    },
    {
      "cell_type": "markdown",
      "source": [
        "#### *Casas: Resultados*"
      ],
      "metadata": {
        "id": "qwAYz38wlGMV"
      }
    },
    {
      "cell_type": "code",
      "source": [
        "distribuicao_frequencia"
      ],
      "metadata": {
        "colab": {
          "base_uri": "https://localhost:8080/",
          "height": 206
        },
        "id": "nz_VhUoPlH-P",
        "outputId": "626b8d7c-aea6-44c0-851c-3a5491d98052"
      },
      "execution_count": 138,
      "outputs": [
        {
          "output_type": "execute_result",
          "data": {
            "text/plain": [
              "   Qtde. Quartos  Frequencia  Percentual (%)\n",
              "0              3         115           48.52\n",
              "1              2          50           21.10\n",
              "2              4          41           17.30\n",
              "3              5          28           11.81\n",
              "4              1           3            1.27"
            ],
            "text/html": [
              "\n",
              "  <div id=\"df-996f0a8e-b72b-4d03-9d2d-b6b1523f4afa\">\n",
              "    <div class=\"colab-df-container\">\n",
              "      <div>\n",
              "<style scoped>\n",
              "    .dataframe tbody tr th:only-of-type {\n",
              "        vertical-align: middle;\n",
              "    }\n",
              "\n",
              "    .dataframe tbody tr th {\n",
              "        vertical-align: top;\n",
              "    }\n",
              "\n",
              "    .dataframe thead th {\n",
              "        text-align: right;\n",
              "    }\n",
              "</style>\n",
              "<table border=\"1\" class=\"dataframe\">\n",
              "  <thead>\n",
              "    <tr style=\"text-align: right;\">\n",
              "      <th></th>\n",
              "      <th>Qtde. Quartos</th>\n",
              "      <th>Frequencia</th>\n",
              "      <th>Percentual (%)</th>\n",
              "    </tr>\n",
              "  </thead>\n",
              "  <tbody>\n",
              "    <tr>\n",
              "      <th>0</th>\n",
              "      <td>3</td>\n",
              "      <td>115</td>\n",
              "      <td>48.52</td>\n",
              "    </tr>\n",
              "    <tr>\n",
              "      <th>1</th>\n",
              "      <td>2</td>\n",
              "      <td>50</td>\n",
              "      <td>21.10</td>\n",
              "    </tr>\n",
              "    <tr>\n",
              "      <th>2</th>\n",
              "      <td>4</td>\n",
              "      <td>41</td>\n",
              "      <td>17.30</td>\n",
              "    </tr>\n",
              "    <tr>\n",
              "      <th>3</th>\n",
              "      <td>5</td>\n",
              "      <td>28</td>\n",
              "      <td>11.81</td>\n",
              "    </tr>\n",
              "    <tr>\n",
              "      <th>4</th>\n",
              "      <td>1</td>\n",
              "      <td>3</td>\n",
              "      <td>1.27</td>\n",
              "    </tr>\n",
              "  </tbody>\n",
              "</table>\n",
              "</div>\n",
              "      <button class=\"colab-df-convert\" onclick=\"convertToInteractive('df-996f0a8e-b72b-4d03-9d2d-b6b1523f4afa')\"\n",
              "              title=\"Convert this dataframe to an interactive table.\"\n",
              "              style=\"display:none;\">\n",
              "        \n",
              "  <svg xmlns=\"http://www.w3.org/2000/svg\" height=\"24px\"viewBox=\"0 0 24 24\"\n",
              "       width=\"24px\">\n",
              "    <path d=\"M0 0h24v24H0V0z\" fill=\"none\"/>\n",
              "    <path d=\"M18.56 5.44l.94 2.06.94-2.06 2.06-.94-2.06-.94-.94-2.06-.94 2.06-2.06.94zm-11 1L8.5 8.5l.94-2.06 2.06-.94-2.06-.94L8.5 2.5l-.94 2.06-2.06.94zm10 10l.94 2.06.94-2.06 2.06-.94-2.06-.94-.94-2.06-.94 2.06-2.06.94z\"/><path d=\"M17.41 7.96l-1.37-1.37c-.4-.4-.92-.59-1.43-.59-.52 0-1.04.2-1.43.59L10.3 9.45l-7.72 7.72c-.78.78-.78 2.05 0 2.83L4 21.41c.39.39.9.59 1.41.59.51 0 1.02-.2 1.41-.59l7.78-7.78 2.81-2.81c.8-.78.8-2.07 0-2.86zM5.41 20L4 18.59l7.72-7.72 1.47 1.35L5.41 20z\"/>\n",
              "  </svg>\n",
              "      </button>\n",
              "      \n",
              "  <style>\n",
              "    .colab-df-container {\n",
              "      display:flex;\n",
              "      flex-wrap:wrap;\n",
              "      gap: 12px;\n",
              "    }\n",
              "\n",
              "    .colab-df-convert {\n",
              "      background-color: #E8F0FE;\n",
              "      border: none;\n",
              "      border-radius: 50%;\n",
              "      cursor: pointer;\n",
              "      display: none;\n",
              "      fill: #1967D2;\n",
              "      height: 32px;\n",
              "      padding: 0 0 0 0;\n",
              "      width: 32px;\n",
              "    }\n",
              "\n",
              "    .colab-df-convert:hover {\n",
              "      background-color: #E2EBFA;\n",
              "      box-shadow: 0px 1px 2px rgba(60, 64, 67, 0.3), 0px 1px 3px 1px rgba(60, 64, 67, 0.15);\n",
              "      fill: #174EA6;\n",
              "    }\n",
              "\n",
              "    [theme=dark] .colab-df-convert {\n",
              "      background-color: #3B4455;\n",
              "      fill: #D2E3FC;\n",
              "    }\n",
              "\n",
              "    [theme=dark] .colab-df-convert:hover {\n",
              "      background-color: #434B5C;\n",
              "      box-shadow: 0px 1px 3px 1px rgba(0, 0, 0, 0.15);\n",
              "      filter: drop-shadow(0px 1px 2px rgba(0, 0, 0, 0.3));\n",
              "      fill: #FFFFFF;\n",
              "    }\n",
              "  </style>\n",
              "\n",
              "      <script>\n",
              "        const buttonEl =\n",
              "          document.querySelector('#df-996f0a8e-b72b-4d03-9d2d-b6b1523f4afa button.colab-df-convert');\n",
              "        buttonEl.style.display =\n",
              "          google.colab.kernel.accessAllowed ? 'block' : 'none';\n",
              "\n",
              "        async function convertToInteractive(key) {\n",
              "          const element = document.querySelector('#df-996f0a8e-b72b-4d03-9d2d-b6b1523f4afa');\n",
              "          const dataTable =\n",
              "            await google.colab.kernel.invokeFunction('convertToInteractive',\n",
              "                                                     [key], {});\n",
              "          if (!dataTable) return;\n",
              "\n",
              "          const docLinkHtml = 'Like what you see? Visit the ' +\n",
              "            '<a target=\"_blank\" href=https://colab.research.google.com/notebooks/data_table.ipynb>data table notebook</a>'\n",
              "            + ' to learn more about interactive tables.';\n",
              "          element.innerHTML = '';\n",
              "          dataTable['output_type'] = 'display_data';\n",
              "          await google.colab.output.renderOutput(dataTable, element);\n",
              "          const docLink = document.createElement('div');\n",
              "          docLink.innerHTML = docLinkHtml;\n",
              "          element.appendChild(docLink);\n",
              "        }\n",
              "      </script>\n",
              "    </div>\n",
              "  </div>\n",
              "  "
            ]
          },
          "metadata": {},
          "execution_count": 138
        }
      ]
    },
    {
      "cell_type": "code",
      "source": [
        "plot = sns.barplot(data=distribuicao_frequencia, x=\"Qtde. Quartos\", y=\"Percentual (%)\", color= \"blue\")\n",
        "\n",
        "show_values(plot)"
      ],
      "metadata": {
        "colab": {
          "base_uri": "https://localhost:8080/",
          "height": 280
        },
        "id": "6tg2U0EsmeOS",
        "outputId": "7553a13d-2721-4551-893e-1a4e5a4439d9"
      },
      "execution_count": 139,
      "outputs": [
        {
          "output_type": "display_data",
          "data": {
            "text/plain": [
              "<Figure size 432x288 with 1 Axes>"
            ],
            "image/png": "[encoded data removed]"
          },
          "metadata": {
            "needs_background": "light"
          }
        }
      ]
    },
    {
      "cell_type": "markdown",
      "source": [
        "#### Apartamentos"
      ],
      "metadata": {
        "id": "eJcRinJ9lKj2"
      }
    },
    {
      "cell_type": "code",
      "source": [
        "frequencia = df_apartamentos[\"qtde_quartos\"].value_counts()\n",
        "percentual = round(df_apartamentos[\"qtde_quartos\"].value_counts(normalize=True) * 100, 2)"
      ],
      "metadata": {
        "id": "MvNaB3pwlNMf"
      },
      "execution_count": 140,
      "outputs": []
    },
    {
      "cell_type": "code",
      "source": [
        "distribuicao_frequencia = pd.DataFrame({\"Frequencia\": frequencia, \"Percentual (%)\": percentual})\n",
        "distribuicao_frequencia.reset_index(inplace=True)\n",
        "distribuicao_frequencia.rename(columns={\"index\":\"Qtde. Quartos\"}, inplace=True)"
      ],
      "metadata": {
        "id": "vDw9zeSpmZ5h"
      },
      "execution_count": 141,
      "outputs": []
    },
    {
      "cell_type": "markdown",
      "source": [
        "#### *Apartamentos: Resultado*"
      ],
      "metadata": {
        "id": "0YUN66zdmC4g"
      }
    },
    {
      "cell_type": "code",
      "source": [
        "distribuicao_frequencia"
      ],
      "metadata": {
        "colab": {
          "base_uri": "https://localhost:8080/",
          "height": 206
        },
        "id": "hgwVkQvzmCBx",
        "outputId": "8542dd38-7d09-46d7-f589-2ea5cc829459"
      },
      "execution_count": 142,
      "outputs": [
        {
          "output_type": "execute_result",
          "data": {
            "text/plain": [
              "   Qtde. Quartos  Frequencia  Percentual (%)\n",
              "0              3          79           51.63\n",
              "1              2          49           32.03\n",
              "2              4          17           11.11\n",
              "3              1           6            3.92\n",
              "4              5           2            1.31"
            ],
            "text/html": [
              "\n",
              "  <div id=\"df-be6a25ac-d62b-4137-a27d-146e137c5f57\">\n",
              "    <div class=\"colab-df-container\">\n",
              "      <div>\n",
              "<style scoped>\n",
              "    .dataframe tbody tr th:only-of-type {\n",
              "        vertical-align: middle;\n",
              "    }\n",
              "\n",
              "    .dataframe tbody tr th {\n",
              "        vertical-align: top;\n",
              "    }\n",
              "\n",
              "    .dataframe thead th {\n",
              "        text-align: right;\n",
              "    }\n",
              "</style>\n",
              "<table border=\"1\" class=\"dataframe\">\n",
              "  <thead>\n",
              "    <tr style=\"text-align: right;\">\n",
              "      <th></th>\n",
              "      <th>Qtde. Quartos</th>\n",
              "      <th>Frequencia</th>\n",
              "      <th>Percentual (%)</th>\n",
              "    </tr>\n",
              "  </thead>\n",
              "  <tbody>\n",
              "    <tr>\n",
              "      <th>0</th>\n",
              "      <td>3</td>\n",
              "      <td>79</td>\n",
              "      <td>51.63</td>\n",
              "    </tr>\n",
              "    <tr>\n",
              "      <th>1</th>\n",
              "      <td>2</td>\n",
              "      <td>49</td>\n",
              "      <td>32.03</td>\n",
              "    </tr>\n",
              "    <tr>\n",
              "      <th>2</th>\n",
              "      <td>4</td>\n",
              "      <td>17</td>\n",
              "      <td>11.11</td>\n",
              "    </tr>\n",
              "    <tr>\n",
              "      <th>3</th>\n",
              "      <td>1</td>\n",
              "      <td>6</td>\n",
              "      <td>3.92</td>\n",
              "    </tr>\n",
              "    <tr>\n",
              "      <th>4</th>\n",
              "      <td>5</td>\n",
              "      <td>2</td>\n",
              "      <td>1.31</td>\n",
              "    </tr>\n",
              "  </tbody>\n",
              "</table>\n",
              "</div>\n",
              "      <button class=\"colab-df-convert\" onclick=\"convertToInteractive('df-be6a25ac-d62b-4137-a27d-146e137c5f57')\"\n",
              "              title=\"Convert this dataframe to an interactive table.\"\n",
              "              style=\"display:none;\">\n",
              "        \n",
              "  <svg xmlns=\"http://www.w3.org/2000/svg\" height=\"24px\"viewBox=\"0 0 24 24\"\n",
              "       width=\"24px\">\n",
              "    <path d=\"M0 0h24v24H0V0z\" fill=\"none\"/>\n",
              "    <path d=\"M18.56 5.44l.94 2.06.94-2.06 2.06-.94-2.06-.94-.94-2.06-.94 2.06-2.06.94zm-11 1L8.5 8.5l.94-2.06 2.06-.94-2.06-.94L8.5 2.5l-.94 2.06-2.06.94zm10 10l.94 2.06.94-2.06 2.06-.94-2.06-.94-.94-2.06-.94 2.06-2.06.94z\"/><path d=\"M17.41 7.96l-1.37-1.37c-.4-.4-.92-.59-1.43-.59-.52 0-1.04.2-1.43.59L10.3 9.45l-7.72 7.72c-.78.78-.78 2.05 0 2.83L4 21.41c.39.39.9.59 1.41.59.51 0 1.02-.2 1.41-.59l7.78-7.78 2.81-2.81c.8-.78.8-2.07 0-2.86zM5.41 20L4 18.59l7.72-7.72 1.47 1.35L5.41 20z\"/>\n",
              "  </svg>\n",
              "      </button>\n",
              "      \n",
              "  <style>\n",
              "    .colab-df-container {\n",
              "      display:flex;\n",
              "      flex-wrap:wrap;\n",
              "      gap: 12px;\n",
              "    }\n",
              "\n",
              "    .colab-df-convert {\n",
              "      background-color: #E8F0FE;\n",
              "      border: none;\n",
              "      border-radius: 50%;\n",
              "      cursor: pointer;\n",
              "      display: none;\n",
              "      fill: #1967D2;\n",
              "      height: 32px;\n",
              "      padding: 0 0 0 0;\n",
              "      width: 32px;\n",
              "    }\n",
              "\n",
              "    .colab-df-convert:hover {\n",
              "      background-color: #E2EBFA;\n",
              "      box-shadow: 0px 1px 2px rgba(60, 64, 67, 0.3), 0px 1px 3px 1px rgba(60, 64, 67, 0.15);\n",
              "      fill: #174EA6;\n",
              "    }\n",
              "\n",
              "    [theme=dark] .colab-df-convert {\n",
              "      background-color: #3B4455;\n",
              "      fill: #D2E3FC;\n",
              "    }\n",
              "\n",
              "    [theme=dark] .colab-df-convert:hover {\n",
              "      background-color: #434B5C;\n",
              "      box-shadow: 0px 1px 3px 1px rgba(0, 0, 0, 0.15);\n",
              "      filter: drop-shadow(0px 1px 2px rgba(0, 0, 0, 0.3));\n",
              "      fill: #FFFFFF;\n",
              "    }\n",
              "  </style>\n",
              "\n",
              "      <script>\n",
              "        const buttonEl =\n",
              "          document.querySelector('#df-be6a25ac-d62b-4137-a27d-146e137c5f57 button.colab-df-convert');\n",
              "        buttonEl.style.display =\n",
              "          google.colab.kernel.accessAllowed ? 'block' : 'none';\n",
              "\n",
              "        async function convertToInteractive(key) {\n",
              "          const element = document.querySelector('#df-be6a25ac-d62b-4137-a27d-146e137c5f57');\n",
              "          const dataTable =\n",
              "            await google.colab.kernel.invokeFunction('convertToInteractive',\n",
              "                                                     [key], {});\n",
              "          if (!dataTable) return;\n",
              "\n",
              "          const docLinkHtml = 'Like what you see? Visit the ' +\n",
              "            '<a target=\"_blank\" href=https://colab.research.google.com/notebooks/data_table.ipynb>data table notebook</a>'\n",
              "            + ' to learn more about interactive tables.';\n",
              "          element.innerHTML = '';\n",
              "          dataTable['output_type'] = 'display_data';\n",
              "          await google.colab.output.renderOutput(dataTable, element);\n",
              "          const docLink = document.createElement('div');\n",
              "          docLink.innerHTML = docLinkHtml;\n",
              "          element.appendChild(docLink);\n",
              "        }\n",
              "      </script>\n",
              "    </div>\n",
              "  </div>\n",
              "  "
            ]
          },
          "metadata": {},
          "execution_count": 142
        }
      ]
    },
    {
      "cell_type": "code",
      "source": [
        "plot = sns.barplot(data=distribuicao_frequencia, x=\"Qtde. Quartos\", y=\"Percentual (%)\", color= \"blue\")\n",
        "show_values(plot)"
      ],
      "metadata": {
        "colab": {
          "base_uri": "https://localhost:8080/",
          "height": 279
        },
        "id": "80Z1gicHmdQw",
        "outputId": "a08fad0b-9e42-473c-8e85-dbfb648b1078"
      },
      "execution_count": 143,
      "outputs": [
        {
          "output_type": "display_data",
          "data": {
            "text/plain": [
              "<Figure size 432x288 with 1 Axes>"
            ],
            "image/png": "[encoded data removed]"
          },
          "metadata": {
            "needs_background": "light"
          }
        }
      ]
    },
    {
      "cell_type": "markdown",
      "source": [
        "### Quantidade de Banheiros (Quantitativa Discreta)"
      ],
      "metadata": {
        "id": "TOjDbIUoETu3"
      }
    },
    {
      "cell_type": "markdown",
      "source": [
        "#### Geral"
      ],
      "metadata": {
        "id": "ZowBZwlAETu3"
      }
    },
    {
      "cell_type": "code",
      "source": [
        "frequencia = df[\"qtde_banheiros\"].value_counts()\n",
        "percentual = round(df[\"qtde_banheiros\"].value_counts(normalize=True) * 100, 2)"
      ],
      "metadata": {
        "id": "ord2P6bIETu4"
      },
      "execution_count": 144,
      "outputs": []
    },
    {
      "cell_type": "code",
      "source": [
        "distribuicao_frequencia = pd.DataFrame({\"Frequencia\": frequencia, \"Percentual (%)\": percentual})\n",
        "distribuicao_frequencia.reset_index(inplace=True)\n",
        "distribuicao_frequencia.rename(columns={\"index\":\"Qtde. Banheiros\"}, inplace=True)"
      ],
      "metadata": {
        "id": "BcNXZlRUETu4"
      },
      "execution_count": 145,
      "outputs": []
    },
    {
      "cell_type": "markdown",
      "source": [
        "#### *Geral: Resultados*"
      ],
      "metadata": {
        "id": "YQLaNTX6ETu4"
      }
    },
    {
      "cell_type": "code",
      "source": [
        "distribuicao_frequencia"
      ],
      "metadata": {
        "colab": {
          "base_uri": "https://localhost:8080/",
          "height": 206
        },
        "outputId": "b14d63a1-dec5-4f94-b205-bfa549210625",
        "id": "-cGcf5vKETu4"
      },
      "execution_count": 146,
      "outputs": [
        {
          "output_type": "execute_result",
          "data": {
            "text/plain": [
              "   Qtde. Banheiros  Frequencia  Percentual (%)\n",
              "0                2         126           32.31\n",
              "1                1          83           21.28\n",
              "2                5          70           17.95\n",
              "3                4          57           14.62\n",
              "4                3          54           13.85"
            ],
            "text/html": [
              "\n",
              "  <div id=\"df-725e2d8d-bf04-4b4d-a7b9-5392fd97754d\">\n",
              "    <div class=\"colab-df-container\">\n",
              "      <div>\n",
              "<style scoped>\n",
              "    .dataframe tbody tr th:only-of-type {\n",
              "        vertical-align: middle;\n",
              "    }\n",
              "\n",
              "    .dataframe tbody tr th {\n",
              "        vertical-align: top;\n",
              "    }\n",
              "\n",
              "    .dataframe thead th {\n",
              "        text-align: right;\n",
              "    }\n",
              "</style>\n",
              "<table border=\"1\" class=\"dataframe\">\n",
              "  <thead>\n",
              "    <tr style=\"text-align: right;\">\n",
              "      <th></th>\n",
              "      <th>Qtde. Banheiros</th>\n",
              "      <th>Frequencia</th>\n",
              "      <th>Percentual (%)</th>\n",
              "    </tr>\n",
              "  </thead>\n",
              "  <tbody>\n",
              "    <tr>\n",
              "      <th>0</th>\n",
              "      <td>2</td>\n",
              "      <td>126</td>\n",
              "      <td>32.31</td>\n",
              "    </tr>\n",
              "    <tr>\n",
              "      <th>1</th>\n",
              "      <td>1</td>\n",
              "      <td>83</td>\n",
              "      <td>21.28</td>\n",
              "    </tr>\n",
              "    <tr>\n",
              "      <th>2</th>\n",
              "      <td>5</td>\n",
              "      <td>70</td>\n",
              "      <td>17.95</td>\n",
              "    </tr>\n",
              "    <tr>\n",
              "      <th>3</th>\n",
              "      <td>4</td>\n",
              "      <td>57</td>\n",
              "      <td>14.62</td>\n",
              "    </tr>\n",
              "    <tr>\n",
              "      <th>4</th>\n",
              "      <td>3</td>\n",
              "      <td>54</td>\n",
              "      <td>13.85</td>\n",
              "    </tr>\n",
              "  </tbody>\n",
              "</table>\n",
              "</div>\n",
              "      <button class=\"colab-df-convert\" onclick=\"convertToInteractive('df-725e2d8d-bf04-4b4d-a7b9-5392fd97754d')\"\n",
              "              title=\"Convert this dataframe to an interactive table.\"\n",
              "              style=\"display:none;\">\n",
              "        \n",
              "  <svg xmlns=\"http://www.w3.org/2000/svg\" height=\"24px\"viewBox=\"0 0 24 24\"\n",
              "       width=\"24px\">\n",
              "    <path d=\"M0 0h24v24H0V0z\" fill=\"none\"/>\n",
              "    <path d=\"M18.56 5.44l.94 2.06.94-2.06 2.06-.94-2.06-.94-.94-2.06-.94 2.06-2.06.94zm-11 1L8.5 8.5l.94-2.06 2.06-.94-2.06-.94L8.5 2.5l-.94 2.06-2.06.94zm10 10l.94 2.06.94-2.06 2.06-.94-2.06-.94-.94-2.06-.94 2.06-2.06.94z\"/><path d=\"M17.41 7.96l-1.37-1.37c-.4-.4-.92-.59-1.43-.59-.52 0-1.04.2-1.43.59L10.3 9.45l-7.72 7.72c-.78.78-.78 2.05 0 2.83L4 21.41c.39.39.9.59 1.41.59.51 0 1.02-.2 1.41-.59l7.78-7.78 2.81-2.81c.8-.78.8-2.07 0-2.86zM5.41 20L4 18.59l7.72-7.72 1.47 1.35L5.41 20z\"/>\n",
              "  </svg>\n",
              "      </button>\n",
              "      \n",
              "  <style>\n",
              "    .colab-df-container {\n",
              "      display:flex;\n",
              "      flex-wrap:wrap;\n",
              "      gap: 12px;\n",
              "    }\n",
              "\n",
              "    .colab-df-convert {\n",
              "      background-color: #E8F0FE;\n",
              "      border: none;\n",
              "      border-radius: 50%;\n",
              "      cursor: pointer;\n",
              "      display: none;\n",
              "      fill: #1967D2;\n",
              "      height: 32px;\n",
              "      padding: 0 0 0 0;\n",
              "      width: 32px;\n",
              "    }\n",
              "\n",
              "    .colab-df-convert:hover {\n",
              "      background-color: #E2EBFA;\n",
              "      box-shadow: 0px 1px 2px rgba(60, 64, 67, 0.3), 0px 1px 3px 1px rgba(60, 64, 67, 0.15);\n",
              "      fill: #174EA6;\n",
              "    }\n",
              "\n",
              "    [theme=dark] .colab-df-convert {\n",
              "      background-color: #3B4455;\n",
              "      fill: #D2E3FC;\n",
              "    }\n",
              "\n",
              "    [theme=dark] .colab-df-convert:hover {\n",
              "      background-color: #434B5C;\n",
              "      box-shadow: 0px 1px 3px 1px rgba(0, 0, 0, 0.15);\n",
              "      filter: drop-shadow(0px 1px 2px rgba(0, 0, 0, 0.3));\n",
              "      fill: #FFFFFF;\n",
              "    }\n",
              "  </style>\n",
              "\n",
              "      <script>\n",
              "        const buttonEl =\n",
              "          document.querySelector('#df-725e2d8d-bf04-4b4d-a7b9-5392fd97754d button.colab-df-convert');\n",
              "        buttonEl.style.display =\n",
              "          google.colab.kernel.accessAllowed ? 'block' : 'none';\n",
              "\n",
              "        async function convertToInteractive(key) {\n",
              "          const element = document.querySelector('#df-725e2d8d-bf04-4b4d-a7b9-5392fd97754d');\n",
              "          const dataTable =\n",
              "            await google.colab.kernel.invokeFunction('convertToInteractive',\n",
              "                                                     [key], {});\n",
              "          if (!dataTable) return;\n",
              "\n",
              "          const docLinkHtml = 'Like what you see? Visit the ' +\n",
              "            '<a target=\"_blank\" href=https://colab.research.google.com/notebooks/data_table.ipynb>data table notebook</a>'\n",
              "            + ' to learn more about interactive tables.';\n",
              "          element.innerHTML = '';\n",
              "          dataTable['output_type'] = 'display_data';\n",
              "          await google.colab.output.renderOutput(dataTable, element);\n",
              "          const docLink = document.createElement('div');\n",
              "          docLink.innerHTML = docLinkHtml;\n",
              "          element.appendChild(docLink);\n",
              "        }\n",
              "      </script>\n",
              "    </div>\n",
              "  </div>\n",
              "  "
            ]
          },
          "metadata": {},
          "execution_count": 146
        }
      ]
    },
    {
      "cell_type": "code",
      "source": [
        "plot = sns.barplot(data=distribuicao_frequencia, x=\"Qtde. Banheiros\", y=\"Percentual (%)\", color= \"blue\")\n",
        "show_values(plot)"
      ],
      "metadata": {
        "colab": {
          "base_uri": "https://localhost:8080/",
          "height": 281
        },
        "outputId": "123cce92-3229-4423-f34c-cac062f61d57",
        "id": "mXYlNAmTETu4"
      },
      "execution_count": 147,
      "outputs": [
        {
          "output_type": "display_data",
          "data": {
            "text/plain": [
              "<Figure size 432x288 with 1 Axes>"
            ],
            "image/png": "[encoded data removed]"
          },
          "metadata": {
            "needs_background": "light"
          }
        }
      ]
    },
    {
      "cell_type": "markdown",
      "source": [
        "#### Casas"
      ],
      "metadata": {
        "id": "eYwAHaahETu5"
      }
    },
    {
      "cell_type": "code",
      "source": [
        "frequencia = df_casas[\"qtde_banheiros\"].value_counts()\n",
        "percentual = round(df_casas[\"qtde_banheiros\"].value_counts(normalize=True) * 100, 2)"
      ],
      "metadata": {
        "id": "ELYMOtvTETu5"
      },
      "execution_count": 148,
      "outputs": []
    },
    {
      "cell_type": "code",
      "source": [
        "distribuicao_frequencia = pd.DataFrame({\"Frequencia\": frequencia, \"Percentual (%)\": percentual})\n",
        "distribuicao_frequencia.reset_index(inplace=True)\n",
        "distribuicao_frequencia.rename(columns={\"index\":\"Qtde. Banheiros\"}, inplace=True)"
      ],
      "metadata": {
        "id": "74zDY5YSETu5"
      },
      "execution_count": 149,
      "outputs": []
    },
    {
      "cell_type": "markdown",
      "source": [
        "#### *Casas: Resultados*"
      ],
      "metadata": {
        "id": "LBU19FxpETu5"
      }
    },
    {
      "cell_type": "code",
      "source": [
        "distribuicao_frequencia"
      ],
      "metadata": {
        "colab": {
          "base_uri": "https://localhost:8080/",
          "height": 206
        },
        "outputId": "5353c8e4-667a-4fa9-e5da-764de5229df2",
        "id": "scInYRHiETu5"
      },
      "execution_count": 150,
      "outputs": [
        {
          "output_type": "execute_result",
          "data": {
            "text/plain": [
              "   Qtde. Banheiros  Frequencia  Percentual (%)\n",
              "0                2          77           32.49\n",
              "1                5          57           24.05\n",
              "2                1          38           16.03\n",
              "3                3          33           13.92\n",
              "4                4          32           13.50"
            ],
            "text/html": [
              "\n",
              "  <div id=\"df-c577575e-2dff-46d3-bbf0-fae1b699cb8d\">\n",
              "    <div class=\"colab-df-container\">\n",
              "      <div>\n",
              "<style scoped>\n",
              "    .dataframe tbody tr th:only-of-type {\n",
              "        vertical-align: middle;\n",
              "    }\n",
              "\n",
              "    .dataframe tbody tr th {\n",
              "        vertical-align: top;\n",
              "    }\n",
              "\n",
              "    .dataframe thead th {\n",
              "        text-align: right;\n",
              "    }\n",
              "</style>\n",
              "<table border=\"1\" class=\"dataframe\">\n",
              "  <thead>\n",
              "    <tr style=\"text-align: right;\">\n",
              "      <th></th>\n",
              "      <th>Qtde. Banheiros</th>\n",
              "      <th>Frequencia</th>\n",
              "      <th>Percentual (%)</th>\n",
              "    </tr>\n",
              "  </thead>\n",
              "  <tbody>\n",
              "    <tr>\n",
              "      <th>0</th>\n",
              "      <td>2</td>\n",
              "      <td>77</td>\n",
              "      <td>32.49</td>\n",
              "    </tr>\n",
              "    <tr>\n",
              "      <th>1</th>\n",
              "      <td>5</td>\n",
              "      <td>57</td>\n",
              "      <td>24.05</td>\n",
              "    </tr>\n",
              "    <tr>\n",
              "      <th>2</th>\n",
              "      <td>1</td>\n",
              "      <td>38</td>\n",
              "      <td>16.03</td>\n",
              "    </tr>\n",
              "    <tr>\n",
              "      <th>3</th>\n",
              "      <td>3</td>\n",
              "      <td>33</td>\n",
              "      <td>13.92</td>\n",
              "    </tr>\n",
              "    <tr>\n",
              "      <th>4</th>\n",
              "      <td>4</td>\n",
              "      <td>32</td>\n",
              "      <td>13.50</td>\n",
              "    </tr>\n",
              "  </tbody>\n",
              "</table>\n",
              "</div>\n",
              "      <button class=\"colab-df-convert\" onclick=\"convertToInteractive('df-c577575e-2dff-46d3-bbf0-fae1b699cb8d')\"\n",
              "              title=\"Convert this dataframe to an interactive table.\"\n",
              "              style=\"display:none;\">\n",
              "        \n",
              "  <svg xmlns=\"http://www.w3.org/2000/svg\" height=\"24px\"viewBox=\"0 0 24 24\"\n",
              "       width=\"24px\">\n",
              "    <path d=\"M0 0h24v24H0V0z\" fill=\"none\"/>\n",
              "    <path d=\"M18.56 5.44l.94 2.06.94-2.06 2.06-.94-2.06-.94-.94-2.06-.94 2.06-2.06.94zm-11 1L8.5 8.5l.94-2.06 2.06-.94-2.06-.94L8.5 2.5l-.94 2.06-2.06.94zm10 10l.94 2.06.94-2.06 2.06-.94-2.06-.94-.94-2.06-.94 2.06-2.06.94z\"/><path d=\"M17.41 7.96l-1.37-1.37c-.4-.4-.92-.59-1.43-.59-.52 0-1.04.2-1.43.59L10.3 9.45l-7.72 7.72c-.78.78-.78 2.05 0 2.83L4 21.41c.39.39.9.59 1.41.59.51 0 1.02-.2 1.41-.59l7.78-7.78 2.81-2.81c.8-.78.8-2.07 0-2.86zM5.41 20L4 18.59l7.72-7.72 1.47 1.35L5.41 20z\"/>\n",
              "  </svg>\n",
              "      </button>\n",
              "      \n",
              "  <style>\n",
              "    .colab-df-container {\n",
              "      display:flex;\n",
              "      flex-wrap:wrap;\n",
              "      gap: 12px;\n",
              "    }\n",
              "\n",
              "    .colab-df-convert {\n",
              "      background-color: #E8F0FE;\n",
              "      border: none;\n",
              "      border-radius: 50%;\n",
              "      cursor: pointer;\n",
              "      display: none;\n",
              "      fill: #1967D2;\n",
              "      height: 32px;\n",
              "      padding: 0 0 0 0;\n",
              "      width: 32px;\n",
              "    }\n",
              "\n",
              "    .colab-df-convert:hover {\n",
              "      background-color: #E2EBFA;\n",
              "      box-shadow: 0px 1px 2px rgba(60, 64, 67, 0.3), 0px 1px 3px 1px rgba(60, 64, 67, 0.15);\n",
              "      fill: #174EA6;\n",
              "    }\n",
              "\n",
              "    [theme=dark] .colab-df-convert {\n",
              "      background-color: #3B4455;\n",
              "      fill: #D2E3FC;\n",
              "    }\n",
              "\n",
              "    [theme=dark] .colab-df-convert:hover {\n",
              "      background-color: #434B5C;\n",
              "      box-shadow: 0px 1px 3px 1px rgba(0, 0, 0, 0.15);\n",
              "      filter: drop-shadow(0px 1px 2px rgba(0, 0, 0, 0.3));\n",
              "      fill: #FFFFFF;\n",
              "    }\n",
              "  </style>\n",
              "\n",
              "      <script>\n",
              "        const buttonEl =\n",
              "          document.querySelector('#df-c577575e-2dff-46d3-bbf0-fae1b699cb8d button.colab-df-convert');\n",
              "        buttonEl.style.display =\n",
              "          google.colab.kernel.accessAllowed ? 'block' : 'none';\n",
              "\n",
              "        async function convertToInteractive(key) {\n",
              "          const element = document.querySelector('#df-c577575e-2dff-46d3-bbf0-fae1b699cb8d');\n",
              "          const dataTable =\n",
              "            await google.colab.kernel.invokeFunction('convertToInteractive',\n",
              "                                                     [key], {});\n",
              "          if (!dataTable) return;\n",
              "\n",
              "          const docLinkHtml = 'Like what you see? Visit the ' +\n",
              "            '<a target=\"_blank\" href=https://colab.research.google.com/notebooks/data_table.ipynb>data table notebook</a>'\n",
              "            + ' to learn more about interactive tables.';\n",
              "          element.innerHTML = '';\n",
              "          dataTable['output_type'] = 'display_data';\n",
              "          await google.colab.output.renderOutput(dataTable, element);\n",
              "          const docLink = document.createElement('div');\n",
              "          docLink.innerHTML = docLinkHtml;\n",
              "          element.appendChild(docLink);\n",
              "        }\n",
              "      </script>\n",
              "    </div>\n",
              "  </div>\n",
              "  "
            ]
          },
          "metadata": {},
          "execution_count": 150
        }
      ]
    },
    {
      "cell_type": "code",
      "source": [
        "plot = sns.barplot(data=distribuicao_frequencia, x=\"Qtde. Banheiros\", y=\"Percentual (%)\", color= \"blue\")\n",
        "\n",
        "show_values(plot)"
      ],
      "metadata": {
        "colab": {
          "base_uri": "https://localhost:8080/",
          "height": 281
        },
        "outputId": "267dfad5-4ceb-4978-e0c2-4dd694354cdd",
        "id": "pJtSR6Q7ETu6"
      },
      "execution_count": 151,
      "outputs": [
        {
          "output_type": "display_data",
          "data": {
            "text/plain": [
              "<Figure size 432x288 with 1 Axes>"
            ],
            "image/png": "[encoded data removed]"
          },
          "metadata": {
            "needs_background": "light"
          }
        }
      ]
    },
    {
      "cell_type": "markdown",
      "source": [
        "#### Apartamentos"
      ],
      "metadata": {
        "id": "jQuAnlZjETu6"
      }
    },
    {
      "cell_type": "code",
      "source": [
        "frequencia = df_apartamentos[\"qtde_banheiros\"].value_counts()\n",
        "percentual = round(df_apartamentos[\"qtde_banheiros\"].value_counts(normalize=True) * 100, 2)"
      ],
      "metadata": {
        "id": "Q0o-mbSJETu6"
      },
      "execution_count": 152,
      "outputs": []
    },
    {
      "cell_type": "code",
      "source": [
        "distribuicao_frequencia = pd.DataFrame({\"Frequencia\": frequencia, \"Percentual (%)\": percentual})\n",
        "distribuicao_frequencia.reset_index(inplace=True)\n",
        "distribuicao_frequencia.rename(columns={\"index\":\"Qtde. Banheiros\"}, inplace=True)"
      ],
      "metadata": {
        "id": "XinfhKbAETu6"
      },
      "execution_count": 153,
      "outputs": []
    },
    {
      "cell_type": "markdown",
      "source": [
        "#### *Apartamentos: Resultado*"
      ],
      "metadata": {
        "id": "1ioUgvZrETu6"
      }
    },
    {
      "cell_type": "code",
      "source": [
        "distribuicao_frequencia"
      ],
      "metadata": {
        "colab": {
          "base_uri": "https://localhost:8080/",
          "height": 206
        },
        "outputId": "225748cf-d131-41c1-e17b-cf0a937d857f",
        "id": "0OWN75d4ETu6"
      },
      "execution_count": 154,
      "outputs": [
        {
          "output_type": "execute_result",
          "data": {
            "text/plain": [
              "   Qtde. Banheiros  Frequencia  Percentual (%)\n",
              "0                2          49           32.03\n",
              "1                1          45           29.41\n",
              "2                4          25           16.34\n",
              "3                3          21           13.73\n",
              "4                5          13            8.50"
            ],
            "text/html": [
              "\n",
              "  <div id=\"df-e592e4ca-c593-48a6-9e05-82f3bc1901db\">\n",
              "    <div class=\"colab-df-container\">\n",
              "      <div>\n",
              "<style scoped>\n",
              "    .dataframe tbody tr th:only-of-type {\n",
              "        vertical-align: middle;\n",
              "    }\n",
              "\n",
              "    .dataframe tbody tr th {\n",
              "        vertical-align: top;\n",
              "    }\n",
              "\n",
              "    .dataframe thead th {\n",
              "        text-align: right;\n",
              "    }\n",
              "</style>\n",
              "<table border=\"1\" class=\"dataframe\">\n",
              "  <thead>\n",
              "    <tr style=\"text-align: right;\">\n",
              "      <th></th>\n",
              "      <th>Qtde. Banheiros</th>\n",
              "      <th>Frequencia</th>\n",
              "      <th>Percentual (%)</th>\n",
              "    </tr>\n",
              "  </thead>\n",
              "  <tbody>\n",
              "    <tr>\n",
              "      <th>0</th>\n",
              "      <td>2</td>\n",
              "      <td>49</td>\n",
              "      <td>32.03</td>\n",
              "    </tr>\n",
              "    <tr>\n",
              "      <th>1</th>\n",
              "      <td>1</td>\n",
              "      <td>45</td>\n",
              "      <td>29.41</td>\n",
              "    </tr>\n",
              "    <tr>\n",
              "      <th>2</th>\n",
              "      <td>4</td>\n",
              "      <td>25</td>\n",
              "      <td>16.34</td>\n",
              "    </tr>\n",
              "    <tr>\n",
              "      <th>3</th>\n",
              "      <td>3</td>\n",
              "      <td>21</td>\n",
              "      <td>13.73</td>\n",
              "    </tr>\n",
              "    <tr>\n",
              "      <th>4</th>\n",
              "      <td>5</td>\n",
              "      <td>13</td>\n",
              "      <td>8.50</td>\n",
              "    </tr>\n",
              "  </tbody>\n",
              "</table>\n",
              "</div>\n",
              "      <button class=\"colab-df-convert\" onclick=\"convertToInteractive('df-e592e4ca-c593-48a6-9e05-82f3bc1901db')\"\n",
              "              title=\"Convert this dataframe to an interactive table.\"\n",
              "              style=\"display:none;\">\n",
              "        \n",
              "  <svg xmlns=\"http://www.w3.org/2000/svg\" height=\"24px\"viewBox=\"0 0 24 24\"\n",
              "       width=\"24px\">\n",
              "    <path d=\"M0 0h24v24H0V0z\" fill=\"none\"/>\n",
              "    <path d=\"M18.56 5.44l.94 2.06.94-2.06 2.06-.94-2.06-.94-.94-2.06-.94 2.06-2.06.94zm-11 1L8.5 8.5l.94-2.06 2.06-.94-2.06-.94L8.5 2.5l-.94 2.06-2.06.94zm10 10l.94 2.06.94-2.06 2.06-.94-2.06-.94-.94-2.06-.94 2.06-2.06.94z\"/><path d=\"M17.41 7.96l-1.37-1.37c-.4-.4-.92-.59-1.43-.59-.52 0-1.04.2-1.43.59L10.3 9.45l-7.72 7.72c-.78.78-.78 2.05 0 2.83L4 21.41c.39.39.9.59 1.41.59.51 0 1.02-.2 1.41-.59l7.78-7.78 2.81-2.81c.8-.78.8-2.07 0-2.86zM5.41 20L4 18.59l7.72-7.72 1.47 1.35L5.41 20z\"/>\n",
              "  </svg>\n",
              "      </button>\n",
              "      \n",
              "  <style>\n",
              "    .colab-df-container {\n",
              "      display:flex;\n",
              "      flex-wrap:wrap;\n",
              "      gap: 12px;\n",
              "    }\n",
              "\n",
              "    .colab-df-convert {\n",
              "      background-color: #E8F0FE;\n",
              "      border: none;\n",
              "      border-radius: 50%;\n",
              "      cursor: pointer;\n",
              "      display: none;\n",
              "      fill: #1967D2;\n",
              "      height: 32px;\n",
              "      padding: 0 0 0 0;\n",
              "      width: 32px;\n",
              "    }\n",
              "\n",
              "    .colab-df-convert:hover {\n",
              "      background-color: #E2EBFA;\n",
              "      box-shadow: 0px 1px 2px rgba(60, 64, 67, 0.3), 0px 1px 3px 1px rgba(60, 64, 67, 0.15);\n",
              "      fill: #174EA6;\n",
              "    }\n",
              "\n",
              "    [theme=dark] .colab-df-convert {\n",
              "      background-color: #3B4455;\n",
              "      fill: #D2E3FC;\n",
              "    }\n",
              "\n",
              "    [theme=dark] .colab-df-convert:hover {\n",
              "      background-color: #434B5C;\n",
              "      box-shadow: 0px 1px 3px 1px rgba(0, 0, 0, 0.15);\n",
              "      filter: drop-shadow(0px 1px 2px rgba(0, 0, 0, 0.3));\n",
              "      fill: #FFFFFF;\n",
              "    }\n",
              "  </style>\n",
              "\n",
              "      <script>\n",
              "        const buttonEl =\n",
              "          document.querySelector('#df-e592e4ca-c593-48a6-9e05-82f3bc1901db button.colab-df-convert');\n",
              "        buttonEl.style.display =\n",
              "          google.colab.kernel.accessAllowed ? 'block' : 'none';\n",
              "\n",
              "        async function convertToInteractive(key) {\n",
              "          const element = document.querySelector('#df-e592e4ca-c593-48a6-9e05-82f3bc1901db');\n",
              "          const dataTable =\n",
              "            await google.colab.kernel.invokeFunction('convertToInteractive',\n",
              "                                                     [key], {});\n",
              "          if (!dataTable) return;\n",
              "\n",
              "          const docLinkHtml = 'Like what you see? Visit the ' +\n",
              "            '<a target=\"_blank\" href=https://colab.research.google.com/notebooks/data_table.ipynb>data table notebook</a>'\n",
              "            + ' to learn more about interactive tables.';\n",
              "          element.innerHTML = '';\n",
              "          dataTable['output_type'] = 'display_data';\n",
              "          await google.colab.output.renderOutput(dataTable, element);\n",
              "          const docLink = document.createElement('div');\n",
              "          docLink.innerHTML = docLinkHtml;\n",
              "          element.appendChild(docLink);\n",
              "        }\n",
              "      </script>\n",
              "    </div>\n",
              "  </div>\n",
              "  "
            ]
          },
          "metadata": {},
          "execution_count": 154
        }
      ]
    },
    {
      "cell_type": "code",
      "source": [
        "plot = sns.barplot(data=distribuicao_frequencia, x=\"Qtde. Banheiros\", y=\"Percentual (%)\", color= \"blue\")\n",
        "show_values(plot)"
      ],
      "metadata": {
        "colab": {
          "base_uri": "https://localhost:8080/",
          "height": 281
        },
        "outputId": "e73c4880-224e-4c09-e770-4092f7c2f81f",
        "id": "eXjEGupmETu6"
      },
      "execution_count": 155,
      "outputs": [
        {
          "output_type": "display_data",
          "data": {
            "text/plain": [
              "<Figure size 432x288 with 1 Axes>"
            ],
            "image/png": "[encoded data removed]"
          },
          "metadata": {
            "needs_background": "light"
          }
        }
      ]
    },
    {
      "cell_type": "markdown",
      "source": [
        "### Quantidade de Vagas de Garagem (Quantitativa Discreta)"
      ],
      "metadata": {
        "id": "CrfVlBTxE5H1"
      }
    },
    {
      "cell_type": "markdown",
      "source": [
        "#### Geral"
      ],
      "metadata": {
        "id": "SoO-J1I-E5H2"
      }
    },
    {
      "cell_type": "code",
      "source": [
        "frequencia = df[\"qtde_vagas\"].value_counts()\n",
        "percentual = round(df[\"qtde_vagas\"].value_counts(normalize=True) * 100, 2)"
      ],
      "metadata": {
        "id": "WDjFTyvJE5H2"
      },
      "execution_count": 659,
      "outputs": []
    },
    {
      "cell_type": "code",
      "source": [
        "distribuicao_frequencia = pd.DataFrame({\"Frequencia\": frequencia, \"Percentual (%)\": percentual})\n",
        "distribuicao_frequencia.reset_index(inplace=True)\n",
        "distribuicao_frequencia.rename(columns={\"index\":\"Qtde. Vagas\"}, inplace=True)"
      ],
      "metadata": {
        "id": "nWay2gfnE5H2"
      },
      "execution_count": 660,
      "outputs": []
    },
    {
      "cell_type": "markdown",
      "source": [
        "#### *Geral: Resultados*"
      ],
      "metadata": {
        "id": "3ztGUa_CE5H2"
      }
    },
    {
      "cell_type": "code",
      "source": [
        "distribuicao_frequencia"
      ],
      "metadata": {
        "colab": {
          "base_uri": "https://localhost:8080/",
          "height": 237
        },
        "outputId": "1b8fc2f3-f5c3-4788-846b-48258ddf23ad",
        "id": "24BdzvQbE5H2"
      },
      "execution_count": 661,
      "outputs": [
        {
          "output_type": "execute_result",
          "data": {
            "text/plain": [
              "   Qtde. Vagas  Frequencia  Percentual (%)\n",
              "0            2         145           37.18\n",
              "1            1          88           22.56\n",
              "2            4          66           16.92\n",
              "3            3          55           14.10\n",
              "4            5          31            7.95\n",
              "5            0           5            1.28"
            ],
            "text/html": [
              "\n",
              "  <div id=\"df-8bbc8173-9c13-4ff9-adaf-2fb4362b1010\">\n",
              "    <div class=\"colab-df-container\">\n",
              "      <div>\n",
              "<style scoped>\n",
              "    .dataframe tbody tr th:only-of-type {\n",
              "        vertical-align: middle;\n",
              "    }\n",
              "\n",
              "    .dataframe tbody tr th {\n",
              "        vertical-align: top;\n",
              "    }\n",
              "\n",
              "    .dataframe thead th {\n",
              "        text-align: right;\n",
              "    }\n",
              "</style>\n",
              "<table border=\"1\" class=\"dataframe\">\n",
              "  <thead>\n",
              "    <tr style=\"text-align: right;\">\n",
              "      <th></th>\n",
              "      <th>Qtde. Vagas</th>\n",
              "      <th>Frequencia</th>\n",
              "      <th>Percentual (%)</th>\n",
              "    </tr>\n",
              "  </thead>\n",
              "  <tbody>\n",
              "    <tr>\n",
              "      <th>0</th>\n",
              "      <td>2</td>\n",
              "      <td>145</td>\n",
              "      <td>37.18</td>\n",
              "    </tr>\n",
              "    <tr>\n",
              "      <th>1</th>\n",
              "      <td>1</td>\n",
              "      <td>88</td>\n",
              "      <td>22.56</td>\n",
              "    </tr>\n",
              "    <tr>\n",
              "      <th>2</th>\n",
              "      <td>4</td>\n",
              "      <td>66</td>\n",
              "      <td>16.92</td>\n",
              "    </tr>\n",
              "    <tr>\n",
              "      <th>3</th>\n",
              "      <td>3</td>\n",
              "      <td>55</td>\n",
              "      <td>14.10</td>\n",
              "    </tr>\n",
              "    <tr>\n",
              "      <th>4</th>\n",
              "      <td>5</td>\n",
              "      <td>31</td>\n",
              "      <td>7.95</td>\n",
              "    </tr>\n",
              "    <tr>\n",
              "      <th>5</th>\n",
              "      <td>0</td>\n",
              "      <td>5</td>\n",
              "      <td>1.28</td>\n",
              "    </tr>\n",
              "  </tbody>\n",
              "</table>\n",
              "</div>\n",
              "      <button class=\"colab-df-convert\" onclick=\"convertToInteractive('df-8bbc8173-9c13-4ff9-adaf-2fb4362b1010')\"\n",
              "              title=\"Convert this dataframe to an interactive table.\"\n",
              "              style=\"display:none;\">\n",
              "        \n",
              "  <svg xmlns=\"http://www.w3.org/2000/svg\" height=\"24px\"viewBox=\"0 0 24 24\"\n",
              "       width=\"24px\">\n",
              "    <path d=\"M0 0h24v24H0V0z\" fill=\"none\"/>\n",
              "    <path d=\"M18.56 5.44l.94 2.06.94-2.06 2.06-.94-2.06-.94-.94-2.06-.94 2.06-2.06.94zm-11 1L8.5 8.5l.94-2.06 2.06-.94-2.06-.94L8.5 2.5l-.94 2.06-2.06.94zm10 10l.94 2.06.94-2.06 2.06-.94-2.06-.94-.94-2.06-.94 2.06-2.06.94z\"/><path d=\"M17.41 7.96l-1.37-1.37c-.4-.4-.92-.59-1.43-.59-.52 0-1.04.2-1.43.59L10.3 9.45l-7.72 7.72c-.78.78-.78 2.05 0 2.83L4 21.41c.39.39.9.59 1.41.59.51 0 1.02-.2 1.41-.59l7.78-7.78 2.81-2.81c.8-.78.8-2.07 0-2.86zM5.41 20L4 18.59l7.72-7.72 1.47 1.35L5.41 20z\"/>\n",
              "  </svg>\n",
              "      </button>\n",
              "      \n",
              "  <style>\n",
              "    .colab-df-container {\n",
              "      display:flex;\n",
              "      flex-wrap:wrap;\n",
              "      gap: 12px;\n",
              "    }\n",
              "\n",
              "    .colab-df-convert {\n",
              "      background-color: #E8F0FE;\n",
              "      border: none;\n",
              "      border-radius: 50%;\n",
              "      cursor: pointer;\n",
              "      display: none;\n",
              "      fill: #1967D2;\n",
              "      height: 32px;\n",
              "      padding: 0 0 0 0;\n",
              "      width: 32px;\n",
              "    }\n",
              "\n",
              "    .colab-df-convert:hover {\n",
              "      background-color: #E2EBFA;\n",
              "      box-shadow: 0px 1px 2px rgba(60, 64, 67, 0.3), 0px 1px 3px 1px rgba(60, 64, 67, 0.15);\n",
              "      fill: #174EA6;\n",
              "    }\n",
              "\n",
              "    [theme=dark] .colab-df-convert {\n",
              "      background-color: #3B4455;\n",
              "      fill: #D2E3FC;\n",
              "    }\n",
              "\n",
              "    [theme=dark] .colab-df-convert:hover {\n",
              "      background-color: #434B5C;\n",
              "      box-shadow: 0px 1px 3px 1px rgba(0, 0, 0, 0.15);\n",
              "      filter: drop-shadow(0px 1px 2px rgba(0, 0, 0, 0.3));\n",
              "      fill: #FFFFFF;\n",
              "    }\n",
              "  </style>\n",
              "\n",
              "      <script>\n",
              "        const buttonEl =\n",
              "          document.querySelector('#df-8bbc8173-9c13-4ff9-adaf-2fb4362b1010 button.colab-df-convert');\n",
              "        buttonEl.style.display =\n",
              "          google.colab.kernel.accessAllowed ? 'block' : 'none';\n",
              "\n",
              "        async function convertToInteractive(key) {\n",
              "          const element = document.querySelector('#df-8bbc8173-9c13-4ff9-adaf-2fb4362b1010');\n",
              "          const dataTable =\n",
              "            await google.colab.kernel.invokeFunction('convertToInteractive',\n",
              "                                                     [key], {});\n",
              "          if (!dataTable) return;\n",
              "\n",
              "          const docLinkHtml = 'Like what you see? Visit the ' +\n",
              "            '<a target=\"_blank\" href=https://colab.research.google.com/notebooks/data_table.ipynb>data table notebook</a>'\n",
              "            + ' to learn more about interactive tables.';\n",
              "          element.innerHTML = '';\n",
              "          dataTable['output_type'] = 'display_data';\n",
              "          await google.colab.output.renderOutput(dataTable, element);\n",
              "          const docLink = document.createElement('div');\n",
              "          docLink.innerHTML = docLinkHtml;\n",
              "          element.appendChild(docLink);\n",
              "        }\n",
              "      </script>\n",
              "    </div>\n",
              "  </div>\n",
              "  "
            ]
          },
          "metadata": {},
          "execution_count": 661
        }
      ]
    },
    {
      "cell_type": "code",
      "source": [
        "plot = sns.barplot(data=distribuicao_frequencia, x=\"Qtde. Vagas\", y=\"Percentual (%)\", color= \"blue\")\n",
        "show_values(plot)"
      ],
      "metadata": {
        "colab": {
          "base_uri": "https://localhost:8080/",
          "height": 280
        },
        "outputId": "1460552a-3e32-4992-8edc-73b9f8cb320c",
        "id": "iLFMuEkKE5H2"
      },
      "execution_count": 662,
      "outputs": [
        {
          "output_type": "display_data",
          "data": {
            "text/plain": [
              "<Figure size 432x288 with 1 Axes>"
            ],
            "image/png": "[encoded data removed]"
          },
          "metadata": {
            "needs_background": "light"
          }
        }
      ]
    },
    {
      "cell_type": "markdown",
      "source": [
        "#### Casas"
      ],
      "metadata": {
        "id": "yaFSAy2HE5H2"
      }
    },
    {
      "cell_type": "code",
      "source": [
        "frequencia = df_casas[\"qtde_vagas\"].value_counts()\n",
        "percentual = round(df_casas[\"qtde_vagas\"].value_counts(normalize=True) * 100, 2)"
      ],
      "metadata": {
        "id": "BbMjFM4qE5H2"
      },
      "execution_count": 663,
      "outputs": []
    },
    {
      "cell_type": "code",
      "source": [
        "distribuicao_frequencia = pd.DataFrame({\"Frequencia\": frequencia, \"Percentual (%)\": percentual})\n",
        "distribuicao_frequencia.reset_index(inplace=True)\n",
        "distribuicao_frequencia.rename(columns={\"index\":\"Qtde. Vagas\"}, inplace=True)"
      ],
      "metadata": {
        "id": "YJ_SPWekE5H3"
      },
      "execution_count": 664,
      "outputs": []
    },
    {
      "cell_type": "markdown",
      "source": [
        "#### *Casas: Resultados*"
      ],
      "metadata": {
        "id": "JVW9cqS2E5H3"
      }
    },
    {
      "cell_type": "code",
      "source": [
        "distribuicao_frequencia"
      ],
      "metadata": {
        "colab": {
          "base_uri": "https://localhost:8080/",
          "height": 237
        },
        "outputId": "65a8ff51-a2cf-48f6-f316-a01f89d5e689",
        "id": "B_KNh8OvE5H3"
      },
      "execution_count": 665,
      "outputs": [
        {
          "output_type": "execute_result",
          "data": {
            "text/plain": [
              "   Qtde. Vagas  Frequencia  Percentual (%)\n",
              "0            2          87           36.71\n",
              "1            4          59           24.89\n",
              "2            3          40           16.88\n",
              "3            5          26           10.97\n",
              "4            1          22            9.28\n",
              "5            0           3            1.27"
            ],
            "text/html": [
              "\n",
              "  <div id=\"df-a3341025-ef69-4134-8796-10a8d7aa7582\">\n",
              "    <div class=\"colab-df-container\">\n",
              "      <div>\n",
              "<style scoped>\n",
              "    .dataframe tbody tr th:only-of-type {\n",
              "        vertical-align: middle;\n",
              "    }\n",
              "\n",
              "    .dataframe tbody tr th {\n",
              "        vertical-align: top;\n",
              "    }\n",
              "\n",
              "    .dataframe thead th {\n",
              "        text-align: right;\n",
              "    }\n",
              "</style>\n",
              "<table border=\"1\" class=\"dataframe\">\n",
              "  <thead>\n",
              "    <tr style=\"text-align: right;\">\n",
              "      <th></th>\n",
              "      <th>Qtde. Vagas</th>\n",
              "      <th>Frequencia</th>\n",
              "      <th>Percentual (%)</th>\n",
              "    </tr>\n",
              "  </thead>\n",
              "  <tbody>\n",
              "    <tr>\n",
              "      <th>0</th>\n",
              "      <td>2</td>\n",
              "      <td>87</td>\n",
              "      <td>36.71</td>\n",
              "    </tr>\n",
              "    <tr>\n",
              "      <th>1</th>\n",
              "      <td>4</td>\n",
              "      <td>59</td>\n",
              "      <td>24.89</td>\n",
              "    </tr>\n",
              "    <tr>\n",
              "      <th>2</th>\n",
              "      <td>3</td>\n",
              "      <td>40</td>\n",
              "      <td>16.88</td>\n",
              "    </tr>\n",
              "    <tr>\n",
              "      <th>3</th>\n",
              "      <td>5</td>\n",
              "      <td>26</td>\n",
              "      <td>10.97</td>\n",
              "    </tr>\n",
              "    <tr>\n",
              "      <th>4</th>\n",
              "      <td>1</td>\n",
              "      <td>22</td>\n",
              "      <td>9.28</td>\n",
              "    </tr>\n",
              "    <tr>\n",
              "      <th>5</th>\n",
              "      <td>0</td>\n",
              "      <td>3</td>\n",
              "      <td>1.27</td>\n",
              "    </tr>\n",
              "  </tbody>\n",
              "</table>\n",
              "</div>\n",
              "      <button class=\"colab-df-convert\" onclick=\"convertToInteractive('df-a3341025-ef69-4134-8796-10a8d7aa7582')\"\n",
              "              title=\"Convert this dataframe to an interactive table.\"\n",
              "              style=\"display:none;\">\n",
              "        \n",
              "  <svg xmlns=\"http://www.w3.org/2000/svg\" height=\"24px\"viewBox=\"0 0 24 24\"\n",
              "       width=\"24px\">\n",
              "    <path d=\"M0 0h24v24H0V0z\" fill=\"none\"/>\n",
              "    <path d=\"M18.56 5.44l.94 2.06.94-2.06 2.06-.94-2.06-.94-.94-2.06-.94 2.06-2.06.94zm-11 1L8.5 8.5l.94-2.06 2.06-.94-2.06-.94L8.5 2.5l-.94 2.06-2.06.94zm10 10l.94 2.06.94-2.06 2.06-.94-2.06-.94-.94-2.06-.94 2.06-2.06.94z\"/><path d=\"M17.41 7.96l-1.37-1.37c-.4-.4-.92-.59-1.43-.59-.52 0-1.04.2-1.43.59L10.3 9.45l-7.72 7.72c-.78.78-.78 2.05 0 2.83L4 21.41c.39.39.9.59 1.41.59.51 0 1.02-.2 1.41-.59l7.78-7.78 2.81-2.81c.8-.78.8-2.07 0-2.86zM5.41 20L4 18.59l7.72-7.72 1.47 1.35L5.41 20z\"/>\n",
              "  </svg>\n",
              "      </button>\n",
              "      \n",
              "  <style>\n",
              "    .colab-df-container {\n",
              "      display:flex;\n",
              "      flex-wrap:wrap;\n",
              "      gap: 12px;\n",
              "    }\n",
              "\n",
              "    .colab-df-convert {\n",
              "      background-color: #E8F0FE;\n",
              "      border: none;\n",
              "      border-radius: 50%;\n",
              "      cursor: pointer;\n",
              "      display: none;\n",
              "      fill: #1967D2;\n",
              "      height: 32px;\n",
              "      padding: 0 0 0 0;\n",
              "      width: 32px;\n",
              "    }\n",
              "\n",
              "    .colab-df-convert:hover {\n",
              "      background-color: #E2EBFA;\n",
              "      box-shadow: 0px 1px 2px rgba(60, 64, 67, 0.3), 0px 1px 3px 1px rgba(60, 64, 67, 0.15);\n",
              "      fill: #174EA6;\n",
              "    }\n",
              "\n",
              "    [theme=dark] .colab-df-convert {\n",
              "      background-color: #3B4455;\n",
              "      fill: #D2E3FC;\n",
              "    }\n",
              "\n",
              "    [theme=dark] .colab-df-convert:hover {\n",
              "      background-color: #434B5C;\n",
              "      box-shadow: 0px 1px 3px 1px rgba(0, 0, 0, 0.15);\n",
              "      filter: drop-shadow(0px 1px 2px rgba(0, 0, 0, 0.3));\n",
              "      fill: #FFFFFF;\n",
              "    }\n",
              "  </style>\n",
              "\n",
              "      <script>\n",
              "        const buttonEl =\n",
              "          document.querySelector('#df-a3341025-ef69-4134-8796-10a8d7aa7582 button.colab-df-convert');\n",
              "        buttonEl.style.display =\n",
              "          google.colab.kernel.accessAllowed ? 'block' : 'none';\n",
              "\n",
              "        async function convertToInteractive(key) {\n",
              "          const element = document.querySelector('#df-a3341025-ef69-4134-8796-10a8d7aa7582');\n",
              "          const dataTable =\n",
              "            await google.colab.kernel.invokeFunction('convertToInteractive',\n",
              "                                                     [key], {});\n",
              "          if (!dataTable) return;\n",
              "\n",
              "          const docLinkHtml = 'Like what you see? Visit the ' +\n",
              "            '<a target=\"_blank\" href=https://colab.research.google.com/notebooks/data_table.ipynb>data table notebook</a>'\n",
              "            + ' to learn more about interactive tables.';\n",
              "          element.innerHTML = '';\n",
              "          dataTable['output_type'] = 'display_data';\n",
              "          await google.colab.output.renderOutput(dataTable, element);\n",
              "          const docLink = document.createElement('div');\n",
              "          docLink.innerHTML = docLinkHtml;\n",
              "          element.appendChild(docLink);\n",
              "        }\n",
              "      </script>\n",
              "    </div>\n",
              "  </div>\n",
              "  "
            ]
          },
          "metadata": {},
          "execution_count": 665
        }
      ]
    },
    {
      "cell_type": "code",
      "source": [
        "plot = sns.barplot(data=distribuicao_frequencia, x=\"Qtde. Vagas\", y=\"Percentual (%)\", color= \"blue\")\n",
        "\n",
        "show_values(plot)"
      ],
      "metadata": {
        "colab": {
          "base_uri": "https://localhost:8080/",
          "height": 280
        },
        "outputId": "15ee9cfd-2649-4a47-8016-dde3ac1aae14",
        "id": "eidMxdTZE5H3"
      },
      "execution_count": 666,
      "outputs": [
        {
          "output_type": "display_data",
          "data": {
            "text/plain": [
              "<Figure size 432x288 with 1 Axes>"
            ],
            "image/png": "[encoded data removed]"
          },
          "metadata": {
            "needs_background": "light"
          }
        }
      ]
    },
    {
      "cell_type": "markdown",
      "source": [
        "#### Apartamentos"
      ],
      "metadata": {
        "id": "m3U917qIE5H3"
      }
    },
    {
      "cell_type": "code",
      "source": [
        "frequencia = df_apartamentos[\"qtde_vagas\"].value_counts()\n",
        "percentual = round(df_apartamentos[\"qtde_vagas\"].value_counts(normalize=True) * 100, 2)"
      ],
      "metadata": {
        "id": "Q9v3yM3tE5H3"
      },
      "execution_count": 667,
      "outputs": []
    },
    {
      "cell_type": "code",
      "source": [
        "distribuicao_frequencia = pd.DataFrame({\"Frequencia\": frequencia, \"Percentual (%)\": percentual})\n",
        "distribuicao_frequencia.reset_index(inplace=True)\n",
        "distribuicao_frequencia.rename(columns={\"index\":\"Qtde. Vagas\"}, inplace=True)"
      ],
      "metadata": {
        "id": "QUEC_V3FE5H3"
      },
      "execution_count": 668,
      "outputs": []
    },
    {
      "cell_type": "markdown",
      "source": [
        "#### *Apartamentos: Resultado*"
      ],
      "metadata": {
        "id": "sQxVjulZE5H3"
      }
    },
    {
      "cell_type": "code",
      "source": [
        "distribuicao_frequencia"
      ],
      "metadata": {
        "colab": {
          "base_uri": "https://localhost:8080/",
          "height": 237
        },
        "outputId": "32381e2e-6765-4ff2-e15b-61ed9220030f",
        "id": "wEmU8alRE5H3"
      },
      "execution_count": 669,
      "outputs": [
        {
          "output_type": "execute_result",
          "data": {
            "text/plain": [
              "   Qtde. Vagas  Frequencia  Percentual (%)\n",
              "0            1          66           43.14\n",
              "1            2          58           37.91\n",
              "2            3          15            9.80\n",
              "3            4           7            4.58\n",
              "4            5           5            3.27\n",
              "5            0           2            1.31"
            ],
            "text/html": [
              "\n",
              "  <div id=\"df-4e3b5584-a324-423f-a95e-75114d6d36cf\">\n",
              "    <div class=\"colab-df-container\">\n",
              "      <div>\n",
              "<style scoped>\n",
              "    .dataframe tbody tr th:only-of-type {\n",
              "        vertical-align: middle;\n",
              "    }\n",
              "\n",
              "    .dataframe tbody tr th {\n",
              "        vertical-align: top;\n",
              "    }\n",
              "\n",
              "    .dataframe thead th {\n",
              "        text-align: right;\n",
              "    }\n",
              "</style>\n",
              "<table border=\"1\" class=\"dataframe\">\n",
              "  <thead>\n",
              "    <tr style=\"text-align: right;\">\n",
              "      <th></th>\n",
              "      <th>Qtde. Vagas</th>\n",
              "      <th>Frequencia</th>\n",
              "      <th>Percentual (%)</th>\n",
              "    </tr>\n",
              "  </thead>\n",
              "  <tbody>\n",
              "    <tr>\n",
              "      <th>0</th>\n",
              "      <td>1</td>\n",
              "      <td>66</td>\n",
              "      <td>43.14</td>\n",
              "    </tr>\n",
              "    <tr>\n",
              "      <th>1</th>\n",
              "      <td>2</td>\n",
              "      <td>58</td>\n",
              "      <td>37.91</td>\n",
              "    </tr>\n",
              "    <tr>\n",
              "      <th>2</th>\n",
              "      <td>3</td>\n",
              "      <td>15</td>\n",
              "      <td>9.80</td>\n",
              "    </tr>\n",
              "    <tr>\n",
              "      <th>3</th>\n",
              "      <td>4</td>\n",
              "      <td>7</td>\n",
              "      <td>4.58</td>\n",
              "    </tr>\n",
              "    <tr>\n",
              "      <th>4</th>\n",
              "      <td>5</td>\n",
              "      <td>5</td>\n",
              "      <td>3.27</td>\n",
              "    </tr>\n",
              "    <tr>\n",
              "      <th>5</th>\n",
              "      <td>0</td>\n",
              "      <td>2</td>\n",
              "      <td>1.31</td>\n",
              "    </tr>\n",
              "  </tbody>\n",
              "</table>\n",
              "</div>\n",
              "      <button class=\"colab-df-convert\" onclick=\"convertToInteractive('df-4e3b5584-a324-423f-a95e-75114d6d36cf')\"\n",
              "              title=\"Convert this dataframe to an interactive table.\"\n",
              "              style=\"display:none;\">\n",
              "        \n",
              "  <svg xmlns=\"http://www.w3.org/2000/svg\" height=\"24px\"viewBox=\"0 0 24 24\"\n",
              "       width=\"24px\">\n",
              "    <path d=\"M0 0h24v24H0V0z\" fill=\"none\"/>\n",
              "    <path d=\"M18.56 5.44l.94 2.06.94-2.06 2.06-.94-2.06-.94-.94-2.06-.94 2.06-2.06.94zm-11 1L8.5 8.5l.94-2.06 2.06-.94-2.06-.94L8.5 2.5l-.94 2.06-2.06.94zm10 10l.94 2.06.94-2.06 2.06-.94-2.06-.94-.94-2.06-.94 2.06-2.06.94z\"/><path d=\"M17.41 7.96l-1.37-1.37c-.4-.4-.92-.59-1.43-.59-.52 0-1.04.2-1.43.59L10.3 9.45l-7.72 7.72c-.78.78-.78 2.05 0 2.83L4 21.41c.39.39.9.59 1.41.59.51 0 1.02-.2 1.41-.59l7.78-7.78 2.81-2.81c.8-.78.8-2.07 0-2.86zM5.41 20L4 18.59l7.72-7.72 1.47 1.35L5.41 20z\"/>\n",
              "  </svg>\n",
              "      </button>\n",
              "      \n",
              "  <style>\n",
              "    .colab-df-container {\n",
              "      display:flex;\n",
              "      flex-wrap:wrap;\n",
              "      gap: 12px;\n",
              "    }\n",
              "\n",
              "    .colab-df-convert {\n",
              "      background-color: #E8F0FE;\n",
              "      border: none;\n",
              "      border-radius: 50%;\n",
              "      cursor: pointer;\n",
              "      display: none;\n",
              "      fill: #1967D2;\n",
              "      height: 32px;\n",
              "      padding: 0 0 0 0;\n",
              "      width: 32px;\n",
              "    }\n",
              "\n",
              "    .colab-df-convert:hover {\n",
              "      background-color: #E2EBFA;\n",
              "      box-shadow: 0px 1px 2px rgba(60, 64, 67, 0.3), 0px 1px 3px 1px rgba(60, 64, 67, 0.15);\n",
              "      fill: #174EA6;\n",
              "    }\n",
              "\n",
              "    [theme=dark] .colab-df-convert {\n",
              "      background-color: #3B4455;\n",
              "      fill: #D2E3FC;\n",
              "    }\n",
              "\n",
              "    [theme=dark] .colab-df-convert:hover {\n",
              "      background-color: #434B5C;\n",
              "      box-shadow: 0px 1px 3px 1px rgba(0, 0, 0, 0.15);\n",
              "      filter: drop-shadow(0px 1px 2px rgba(0, 0, 0, 0.3));\n",
              "      fill: #FFFFFF;\n",
              "    }\n",
              "  </style>\n",
              "\n",
              "      <script>\n",
              "        const buttonEl =\n",
              "          document.querySelector('#df-4e3b5584-a324-423f-a95e-75114d6d36cf button.colab-df-convert');\n",
              "        buttonEl.style.display =\n",
              "          google.colab.kernel.accessAllowed ? 'block' : 'none';\n",
              "\n",
              "        async function convertToInteractive(key) {\n",
              "          const element = document.querySelector('#df-4e3b5584-a324-423f-a95e-75114d6d36cf');\n",
              "          const dataTable =\n",
              "            await google.colab.kernel.invokeFunction('convertToInteractive',\n",
              "                                                     [key], {});\n",
              "          if (!dataTable) return;\n",
              "\n",
              "          const docLinkHtml = 'Like what you see? Visit the ' +\n",
              "            '<a target=\"_blank\" href=https://colab.research.google.com/notebooks/data_table.ipynb>data table notebook</a>'\n",
              "            + ' to learn more about interactive tables.';\n",
              "          element.innerHTML = '';\n",
              "          dataTable['output_type'] = 'display_data';\n",
              "          await google.colab.output.renderOutput(dataTable, element);\n",
              "          const docLink = document.createElement('div');\n",
              "          docLink.innerHTML = docLinkHtml;\n",
              "          element.appendChild(docLink);\n",
              "        }\n",
              "      </script>\n",
              "    </div>\n",
              "  </div>\n",
              "  "
            ]
          },
          "metadata": {},
          "execution_count": 669
        }
      ]
    },
    {
      "cell_type": "code",
      "source": [
        "plot = sns.barplot(data=distribuicao_frequencia, x=\"Qtde. Vagas\", y=\"Percentual (%)\", color= \"blue\")\n",
        "show_values(plot)"
      ],
      "metadata": {
        "colab": {
          "base_uri": "https://localhost:8080/",
          "height": 280
        },
        "outputId": "7d311255-bc40-4274-c509-2af9cc02623a",
        "id": "d9BgrfykE5H3"
      },
      "execution_count": 670,
      "outputs": [
        {
          "output_type": "display_data",
          "data": {
            "text/plain": [
              "<Figure size 432x288 with 1 Axes>"
            ],
            "image/png": "[encoded data removed]"
          },
          "metadata": {
            "needs_background": "light"
          }
        }
      ]
    }
  ]
}