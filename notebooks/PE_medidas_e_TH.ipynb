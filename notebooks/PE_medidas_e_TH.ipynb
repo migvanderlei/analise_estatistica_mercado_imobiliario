{
  "nbformat": 4,
  "nbformat_minor": 0,
  "metadata": {
    "colab": {
      "provenance": [],
      "collapsed_sections": []
    },
    "kernelspec": {
      "name": "python3",
      "display_name": "Python 3"
    },
    "language_info": {
      "name": "python"
    }
  },
  "cells": [
    {
      "cell_type": "code",
      "source": [
        "import pandas as pd\n",
        "import matplotlib.pyplot as plt\n",
        "import numpy as np\n",
        "import seaborn as sns\n",
        "import scipy.stats"
      ],
      "metadata": {
        "id": "5Cj8rqaJ7pq1"
      },
      "execution_count": 551,
      "outputs": []
    },
    {
      "cell_type": "code",
      "execution_count": 552,
      "metadata": {
        "colab": {
          "base_uri": "https://localhost:8080/",
          "height": 74
        },
        "id": "4dJsXTyN7JOM",
        "outputId": "abef0fe9-3032-42c4-c7cd-9db504613a1c"
      },
      "outputs": [
        {
          "output_type": "display_data",
          "data": {
            "text/plain": [
              "<IPython.core.display.HTML object>"
            ],
            "text/html": [
              "\n",
              "     <input type=\"file\" id=\"files-5310f195-6132-447a-8b04-a941ddd40970\" name=\"files[]\" multiple disabled\n",
              "        style=\"border:none\" />\n",
              "     <output id=\"result-5310f195-6132-447a-8b04-a941ddd40970\">\n",
              "      Upload widget is only available when the cell has been executed in the\n",
              "      current browser session. Please rerun this cell to enable.\n",
              "      </output>\n",
              "      <script>// Copyright 2017 Google LLC\n",
              "//\n",
              "// Licensed under the Apache License, Version 2.0 (the \"License\");\n",
              "// you may not use this file except in compliance with the License.\n",
              "// You may obtain a copy of the License at\n",
              "//\n",
              "//      http://www.apache.org/licenses/LICENSE-2.0\n",
              "//\n",
              "// Unless required by applicable law or agreed to in writing, software\n",
              "// distributed under the License is distributed on an \"AS IS\" BASIS,\n",
              "// WITHOUT WARRANTIES OR CONDITIONS OF ANY KIND, either express or implied.\n",
              "// See the License for the specific language governing permissions and\n",
              "// limitations under the License.\n",
              "\n",
              "/**\n",
              " * @fileoverview Helpers for google.colab Python module.\n",
              " */\n",
              "(function(scope) {\n",
              "function span(text, styleAttributes = {}) {\n",
              "  const element = document.createElement('span');\n",
              "  element.textContent = text;\n",
              "  for (const key of Object.keys(styleAttributes)) {\n",
              "    element.style[key] = styleAttributes[key];\n",
              "  }\n",
              "  return element;\n",
              "}\n",
              "\n",
              "// Max number of bytes which will be uploaded at a time.\n",
              "const MAX_PAYLOAD_SIZE = 100 * 1024;\n",
              "\n",
              "function _uploadFiles(inputId, outputId) {\n",
              "  const steps = uploadFilesStep(inputId, outputId);\n",
              "  const outputElement = document.getElementById(outputId);\n",
              "  // Cache steps on the outputElement to make it available for the next call\n",
              "  // to uploadFilesContinue from Python.\n",
              "  outputElement.steps = steps;\n",
              "\n",
              "  return _uploadFilesContinue(outputId);\n",
              "}\n",
              "\n",
              "// This is roughly an async generator (not supported in the browser yet),\n",
              "// where there are multiple asynchronous steps and the Python side is going\n",
              "// to poll for completion of each step.\n",
              "// This uses a Promise to block the python side on completion of each step,\n",
              "// then passes the result of the previous step as the input to the next step.\n",
              "function _uploadFilesContinue(outputId) {\n",
              "  const outputElement = document.getElementById(outputId);\n",
              "  const steps = outputElement.steps;\n",
              "\n",
              "  const next = steps.next(outputElement.lastPromiseValue);\n",
              "  return Promise.resolve(next.value.promise).then((value) => {\n",
              "    // Cache the last promise value to make it available to the next\n",
              "    // step of the generator.\n",
              "    outputElement.lastPromiseValue = value;\n",
              "    return next.value.response;\n",
              "  });\n",
              "}\n",
              "\n",
              "/**\n",
              " * Generator function which is called between each async step of the upload\n",
              " * process.\n",
              " * @param {string} inputId Element ID of the input file picker element.\n",
              " * @param {string} outputId Element ID of the output display.\n",
              " * @return {!Iterable<!Object>} Iterable of next steps.\n",
              " */\n",
              "function* uploadFilesStep(inputId, outputId) {\n",
              "  const inputElement = document.getElementById(inputId);\n",
              "  inputElement.disabled = false;\n",
              "\n",
              "  const outputElement = document.getElementById(outputId);\n",
              "  outputElement.innerHTML = '';\n",
              "\n",
              "  const pickedPromise = new Promise((resolve) => {\n",
              "    inputElement.addEventListener('change', (e) => {\n",
              "      resolve(e.target.files);\n",
              "    });\n",
              "  });\n",
              "\n",
              "  const cancel = document.createElement('button');\n",
              "  inputElement.parentElement.appendChild(cancel);\n",
              "  cancel.textContent = 'Cancel upload';\n",
              "  const cancelPromise = new Promise((resolve) => {\n",
              "    cancel.onclick = () => {\n",
              "      resolve(null);\n",
              "    };\n",
              "  });\n",
              "\n",
              "  // Wait for the user to pick the files.\n",
              "  const files = yield {\n",
              "    promise: Promise.race([pickedPromise, cancelPromise]),\n",
              "    response: {\n",
              "      action: 'starting',\n",
              "    }\n",
              "  };\n",
              "\n",
              "  cancel.remove();\n",
              "\n",
              "  // Disable the input element since further picks are not allowed.\n",
              "  inputElement.disabled = true;\n",
              "\n",
              "  if (!files) {\n",
              "    return {\n",
              "      response: {\n",
              "        action: 'complete',\n",
              "      }\n",
              "    };\n",
              "  }\n",
              "\n",
              "  for (const file of files) {\n",
              "    const li = document.createElement('li');\n",
              "    li.append(span(file.name, {fontWeight: 'bold'}));\n",
              "    li.append(span(\n",
              "        `(${file.type || 'n/a'}) - ${file.size} bytes, ` +\n",
              "        `last modified: ${\n",
              "            file.lastModifiedDate ? file.lastModifiedDate.toLocaleDateString() :\n",
              "                                    'n/a'} - `));\n",
              "    const percent = span('0% done');\n",
              "    li.appendChild(percent);\n",
              "\n",
              "    outputElement.appendChild(li);\n",
              "\n",
              "    const fileDataPromise = new Promise((resolve) => {\n",
              "      const reader = new FileReader();\n",
              "      reader.onload = (e) => {\n",
              "        resolve(e.target.result);\n",
              "      };\n",
              "      reader.readAsArrayBuffer(file);\n",
              "    });\n",
              "    // Wait for the data to be ready.\n",
              "    let fileData = yield {\n",
              "      promise: fileDataPromise,\n",
              "      response: {\n",
              "        action: 'continue',\n",
              "      }\n",
              "    };\n",
              "\n",
              "    // Use a chunked sending to avoid message size limits. See b/62115660.\n",
              "    let position = 0;\n",
              "    do {\n",
              "      const length = Math.min(fileData.byteLength - position, MAX_PAYLOAD_SIZE);\n",
              "      const chunk = new Uint8Array(fileData, position, length);\n",
              "      position += length;\n",
              "\n",
              "      const base64 = btoa(String.fromCharCode.apply(null, chunk));\n",
              "      yield {\n",
              "        response: {\n",
              "          action: 'append',\n",
              "          file: file.name,\n",
              "          data: base64,\n",
              "        },\n",
              "      };\n",
              "\n",
              "      let percentDone = fileData.byteLength === 0 ?\n",
              "          100 :\n",
              "          Math.round((position / fileData.byteLength) * 100);\n",
              "      percent.textContent = `${percentDone}% done`;\n",
              "\n",
              "    } while (position < fileData.byteLength);\n",
              "  }\n",
              "\n",
              "  // All done.\n",
              "  yield {\n",
              "    response: {\n",
              "      action: 'complete',\n",
              "    }\n",
              "  };\n",
              "}\n",
              "\n",
              "scope.google = scope.google || {};\n",
              "scope.google.colab = scope.google.colab || {};\n",
              "scope.google.colab._files = {\n",
              "  _uploadFiles,\n",
              "  _uploadFilesContinue,\n",
              "};\n",
              "})(self);\n",
              "</script> "
            ]
          },
          "metadata": {}
        },
        {
          "output_type": "stream",
          "name": "stdout",
          "text": [
            "Saving data_amostra_2.csv to data_amostra_2 (2).csv\n"
          ]
        }
      ],
      "source": [
        "from google.colab import files\n",
        "\n",
        "uploaded = files.upload()"
      ]
    },
    {
      "cell_type": "code",
      "source": [
        "df = pd.read_csv('data_amostra_2.csv')\n",
        "\n",
        "tamanho_amostra = len(df)\n",
        "df[\"qtde_quartos\"], df[\"qtde_banheiros\"], df[\"qtde_vagas\"] = df[\"qtde_quartos\"].astype(int), df[\"qtde_banheiros\"].astype(int), df[\"qtde_vagas\"].astype(int)"
      ],
      "metadata": {
        "id": "7S5_YIsHR_g7"
      },
      "execution_count": 553,
      "outputs": []
    },
    {
      "cell_type": "code",
      "source": [
        "def printModa(variavel_moda):\n",
        "  print(\"Moda: \")\n",
        "  for i in range(len(variavel_moda)):\n",
        "    print(f\"{variavel_moda[i]:.0f}\")\n",
        "\n",
        "def checar_moda(variavel_moda, qtde_var):\n",
        "  if len(variavel_moda) == qtde_var:\n",
        "      print(\"Distribuição amodal\")\n",
        "  "
      ],
      "metadata": {
        "id": "aLq6OA_3PgfX"
      },
      "execution_count": 554,
      "outputs": []
    },
    {
      "cell_type": "markdown",
      "source": [
        "#Instruções\n",
        "\n",
        "\n",
        "---\n",
        "\n",
        "\n",
        "\n"
      ],
      "metadata": {
        "id": "UaVz8qPDKQIK"
      }
    },
    {
      "cell_type": "markdown",
      "source": [
        "Obs: *NÃO* esquecer de rodar o conjunto de células com os Dataframes e ***NÃO*** clicar em rodar tudo.\n",
        "\n",
        "É possível se guiar pela área de índice:\n",
        "\n",
        "![alt text](https://drive.google.com/uc?=view&id=1cCkqC8e1Y_jLv6cdCgGcsdPOXXMHxBY6)\n",
        "\n",
        "Para **exibir** a tabela com as medidas de tendência central e variância correspondentes à variável:\n",
        "\n",
        "1. **Executar as células correspondentes à variável:**\n",
        "\n",
        "![alt text](https://drive.google.com/uc?=view&id=1dGzXSQaLbT0Z3Ofz0iAZc64TKcVPBjAA)\n",
        "\n",
        "2. **Executar as células correspondentes aos resultados:**\n",
        "\n",
        "![alt text](https://drive.google.com/uc?=view&id=1Istx8M6R5kKgSDFJXVEsdl8MUGP4Xzq9)\n",
        "\n",
        "3. **Abrir a aba de 'Resultados'**:**negrito**\n",
        "\n",
        "\n",
        "![alt text](https://drive.google.com/uc?=view&id=1QnBUvTPJMSM0AbT-lL95XnfOzbIBtSPN)"
      ],
      "metadata": {
        "id": "nxMZq1gt89m3"
      }
    },
    {
      "cell_type": "markdown",
      "source": [
        "#**Dataframes separados**"
      ],
      "metadata": {
        "id": "Vn-12c4ymluY"
      }
    },
    {
      "cell_type": "code",
      "source": [
        "df_apartamentos = df[df[\"categoria\"] == \"Apartamentos\"]\n",
        "df_casas = df[df[\"categoria\"] == \"Casas\"]"
      ],
      "metadata": {
        "id": "-JRV8BwfmoaI"
      },
      "execution_count": 555,
      "outputs": []
    },
    {
      "cell_type": "markdown",
      "source": [
        "Geral, sem distinção entre casas e apartamentos:"
      ],
      "metadata": {
        "id": "um8tUKPzzAVf"
      }
    },
    {
      "cell_type": "code",
      "source": [
        "df_norte = df[df[\"zona\"] == \"Norte\"]\n",
        "df_sul = df[df[\"zona\"] == \"Sul\"]\n",
        "df_leste = df[df[\"zona\"] == \"Leste\"]\n",
        "df_oeste = df[df[\"zona\"] == \"Oeste\"]\n",
        "df_co = df[df[\"zona\"] == \"Centro-Oeste\"]\n",
        "df_cs = df[df[\"zona\"] == \"Centro-Sul\"]"
      ],
      "metadata": {
        "id": "RseO3JOynVPC"
      },
      "execution_count": 556,
      "outputs": []
    },
    {
      "cell_type": "markdown",
      "source": [
        "Casas:"
      ],
      "metadata": {
        "id": "o_XOLEGDzEtF"
      }
    },
    {
      "cell_type": "code",
      "source": [
        "df_casas_norte = df_norte.loc[df[\"categoria\"] == \"Casas\"]\n",
        "df_casas_sul = df_sul.loc[df_sul[\"categoria\"] == \"Casas\"]\n",
        "df_casas_leste = df_leste.loc[df_leste[\"categoria\"] == \"Casas\"]\n",
        "df_casas_oeste = df_oeste.loc[df_oeste[\"categoria\"] == \"Casas\"]\n",
        "df_casas_co = df_co.loc[df_co[\"categoria\"] == \"Casas\"]\n",
        "df_casas_cs = df_cs.loc[df_cs[\"categoria\"] == \"Casas\"]"
      ],
      "metadata": {
        "id": "MLC31VqoygV2"
      },
      "execution_count": 557,
      "outputs": []
    },
    {
      "cell_type": "markdown",
      "source": [
        "Apartamentos:"
      ],
      "metadata": {
        "id": "SIa6vEbKzHhH"
      }
    },
    {
      "cell_type": "code",
      "source": [
        "df_apartamentos_norte= df_norte.loc[df[\"categoria\"] == \"Apartamentos\"]\n",
        "df_apartamentos_sul = df_sul.loc[df_sul[\"categoria\"] == \"Apartamentos\"]\n",
        "df_apartamentos_leste = df_leste.loc[df[\"categoria\"] == \"Apartamentos\"]\n",
        "df_apartamentos_oeste = df_oeste.loc[df_oeste[\"categoria\"] == \"Apartamentos\"]\n",
        "df_apartamentos_co = df_co.loc[df_co[\"categoria\"] == \"Apartamentos\"]\n",
        "df_apartamentos_cs = df_cs.loc[df_cs[\"categoria\"] == \"Apartamentos\"]"
      ],
      "metadata": {
        "id": "TRDgCOicyfRm"
      },
      "execution_count": 558,
      "outputs": []
    },
    {
      "cell_type": "markdown",
      "source": [
        "# 🟆 Variável: Valor do Imóvel (Quantitativa)\n",
        "---\n",
        "\n"
      ],
      "metadata": {
        "id": "ER36xwZdcPD-"
      }
    },
    {
      "cell_type": "markdown",
      "source": [
        "## Medidas Gerais"
      ],
      "metadata": {
        "id": "A0eEIKWNceCh"
      }
    },
    {
      "cell_type": "markdown",
      "source": [
        "### *Geral*"
      ],
      "metadata": {
        "id": "qAPzPQjfceCj"
      }
    },
    {
      "cell_type": "code",
      "source": [
        "mediana = df[\"valor\"].median()"
      ],
      "metadata": {
        "id": "EZ7FunoBceCj"
      },
      "execution_count": 559,
      "outputs": []
    },
    {
      "cell_type": "code",
      "source": [
        "media = df[\"valor\"].mean()"
      ],
      "metadata": {
        "id": "vPsA4DasceCj"
      },
      "execution_count": 560,
      "outputs": []
    },
    {
      "cell_type": "code",
      "source": [
        "moda = df[\"valor\"].mode()"
      ],
      "metadata": {
        "id": "fdEEdyeVceCj"
      },
      "execution_count": 561,
      "outputs": []
    },
    {
      "cell_type": "code",
      "source": [
        "desvio_padrao = df[\"valor\"].std()"
      ],
      "metadata": {
        "id": "6KMp9ENNceCj"
      },
      "execution_count": 562,
      "outputs": []
    },
    {
      "cell_type": "code",
      "source": [
        "coeficiente_de_variacao = desvio_padrao/media\n",
        "coeficiente_porcentagem = coeficiente_de_variacao * 100"
      ],
      "metadata": {
        "id": "ZvFhAf11ceCj"
      },
      "execution_count": 563,
      "outputs": []
    },
    {
      "cell_type": "code",
      "source": [
        "print(f'Média: {media:.2f}')\n",
        "print(f'Mediana: {mediana:.0f}')\n",
        "print(f'Moda: {moda}')\n",
        "print(f'Desvio Padrão: {desvio_padrao:.2f}')\n",
        "print(f'Coeficiente de Variação: {coeficiente_porcentagem:.2f}%')"
      ],
      "metadata": {
        "id": "DV2mjGesceCj",
        "colab": {
          "base_uri": "https://localhost:8080/"
        },
        "outputId": "6031cf92-c730-42e7-9812-caf812e01599"
      },
      "execution_count": 564,
      "outputs": [
        {
          "output_type": "stream",
          "name": "stdout",
          "text": [
            "Média: 813271.86\n",
            "Mediana: 450000\n",
            "Moda: 0    250000.0\n",
            "1    450000.0\n",
            "dtype: float64\n",
            "Desvio Padrão: 987299.91\n",
            "Coeficiente de Variação: 121.40%\n"
          ]
        }
      ]
    },
    {
      "cell_type": "markdown",
      "source": [
        "### *Casas*\n"
      ],
      "metadata": {
        "id": "xpPPkgWPceCi"
      }
    },
    {
      "cell_type": "code",
      "source": [
        "media_casas = df[\"valor\"].mean()\n",
        "moda_casas = df[\"valor\"].mode()\n",
        "mediana_casas = df[\"valor\"].median()\n",
        "desvio_padrao_casas = df[\"valor\"].std()\n",
        "coeficiente_de_variacao_casas = desvio_padrao/media"
      ],
      "metadata": {
        "id": "p5O46l4dceCi"
      },
      "execution_count": 565,
      "outputs": []
    },
    {
      "cell_type": "code",
      "source": [
        "print(f'Média: {media_casas:.2f}')\n",
        "print(f'Mediana: {mediana_casas:.0f}')\n",
        "print(f'Moda: {moda_casas}')\n",
        "print(f'Desvio Padrão: {desvio_padrao_casas:.2f}')\n",
        "print(f'Coeficiente de Variação: {coeficiente_de_variacao_casas:.2f}%')"
      ],
      "metadata": {
        "id": "fCkkVm1HceCi",
        "colab": {
          "base_uri": "https://localhost:8080/"
        },
        "outputId": "a0b7576c-7483-461f-fdcb-2059f7ff3c1b"
      },
      "execution_count": 566,
      "outputs": [
        {
          "output_type": "stream",
          "name": "stdout",
          "text": [
            "Média: 813271.86\n",
            "Mediana: 450000\n",
            "Moda: 0    250000.0\n",
            "1    450000.0\n",
            "dtype: float64\n",
            "Desvio Padrão: 987299.91\n",
            "Coeficiente de Variação: 1.21%\n"
          ]
        }
      ]
    },
    {
      "cell_type": "markdown",
      "source": [
        "###*Apartamentos*"
      ],
      "metadata": {
        "id": "Zp8Ls1tzceCj"
      }
    },
    {
      "cell_type": "code",
      "source": [
        "media_valor = df_apartamentos[\"valor\"].mean()\n",
        "moda_valor = df_apartamentos[\"valor\"].mode()\n",
        "mediana_valor = df_apartamentos[\"valor\"].median()\n",
        "desvio_padrao_valor = df_apartamentos[\"valor\"].std()\n",
        "coeficiente_de_variacao_casas = desvio_padrao_valor/media_valor"
      ],
      "metadata": {
        "id": "pVQzSA5imb8p"
      },
      "execution_count": 567,
      "outputs": []
    },
    {
      "cell_type": "code",
      "source": [
        "print(f'Média: {media_casas:.2f}')\n",
        "print(f'Mediana: {mediana_casas:.0f}')\n",
        "print(f'Moda: {moda_casas}')\n",
        "print(f'Desvio Padrão: {desvio_padrao_casas:.2f}')\n",
        "print(f'Coeficiente de Variação: {coeficiente_de_variacao_casas * 100:.2f}%')"
      ],
      "metadata": {
        "id": "Yjv9Dfwpc3ML",
        "colab": {
          "base_uri": "https://localhost:8080/"
        },
        "outputId": "02b2f13a-0f22-430f-e3f8-9618e3e405e9"
      },
      "execution_count": 568,
      "outputs": [
        {
          "output_type": "stream",
          "name": "stdout",
          "text": [
            "Média: 813271.86\n",
            "Mediana: 450000\n",
            "Moda: 0    250000.0\n",
            "1    450000.0\n",
            "dtype: float64\n",
            "Desvio Padrão: 987299.91\n",
            "Coeficiente de Variação: 108.88%\n"
          ]
        }
      ]
    },
    {
      "cell_type": "markdown",
      "source": [
        "## Região Norte"
      ],
      "metadata": {
        "id": "dS01DZ7WdFWb"
      }
    },
    {
      "cell_type": "markdown",
      "source": [
        "### *Medidas Gerais*"
      ],
      "metadata": {
        "id": "LVXLd9NJdFWc"
      }
    },
    {
      "cell_type": "code",
      "source": [
        "len(df_norte)"
      ],
      "metadata": {
        "id": "f0SqhztBdFWc",
        "colab": {
          "base_uri": "https://localhost:8080/"
        },
        "outputId": "31fb773d-cf69-423f-8d5e-0c7e932f845e"
      },
      "execution_count": 569,
      "outputs": [
        {
          "output_type": "execute_result",
          "data": {
            "text/plain": [
              "73"
            ]
          },
          "metadata": {},
          "execution_count": 569
        }
      ]
    },
    {
      "cell_type": "code",
      "source": [
        "media_norte = df_norte[\"valor\"].mean()"
      ],
      "metadata": {
        "id": "jn0qpfOpdFWd"
      },
      "execution_count": 570,
      "outputs": []
    },
    {
      "cell_type": "code",
      "source": [
        "mediana_norte = df_norte[\"valor\"].median()"
      ],
      "metadata": {
        "id": "Zp0OEc6LdFWd"
      },
      "execution_count": 571,
      "outputs": []
    },
    {
      "cell_type": "code",
      "source": [
        "moda_norte = df_norte[\"valor\"].mode()"
      ],
      "metadata": {
        "id": "55DzZLHldFWd"
      },
      "execution_count": 572,
      "outputs": []
    },
    {
      "cell_type": "code",
      "source": [
        "desvio_padrao_norte = df_norte[\"valor\"].std()"
      ],
      "metadata": {
        "id": "B51WI4WXdFWd"
      },
      "execution_count": 573,
      "outputs": []
    },
    {
      "cell_type": "code",
      "source": [
        "coeficiente_de_variacao_norte = desvio_padrao_norte/media_norte"
      ],
      "metadata": {
        "id": "2PAQsL9zdFWd"
      },
      "execution_count": 574,
      "outputs": []
    },
    {
      "cell_type": "code",
      "source": [
        "print(\"MEDIDAS GERAIS DA VARIÁVEL 'QUANTIDADE DE QUARTOS' DA REGIÃO NORTE\")\n",
        "print(f\"Média: {media_norte:.2f}\")\n",
        "print(f\"Mediana: {mediana_norte:.0f}\")\n",
        "print(f\"Moda: {moda_norte}\")\n",
        "print(f\"Desvio Padrão: {desvio_padrao_norte:.2f}\")\n",
        "print(f\"Coeficiente de Variação: {coeficiente_de_variacao_norte * 100:.2f}%\")"
      ],
      "metadata": {
        "id": "ZfkW91nHdFWd",
        "colab": {
          "base_uri": "https://localhost:8080/"
        },
        "outputId": "f61aea6b-c3c6-4008-9ab4-cd71f5b5daff"
      },
      "execution_count": 575,
      "outputs": [
        {
          "output_type": "stream",
          "name": "stdout",
          "text": [
            "MEDIDAS GERAIS DA VARIÁVEL 'QUANTIDADE DE QUARTOS' DA REGIÃO NORTE\n",
            "Média: 327017.11\n",
            "Mediana: 275000\n",
            "Moda: 0    280000.0\n",
            "dtype: float64\n",
            "Desvio Padrão: 259740.58\n",
            "Coeficiente de Variação: 79.43%\n"
          ]
        }
      ]
    },
    {
      "cell_type": "markdown",
      "source": [
        "###*Casas*\n",
        "\n",
        "Aproximadamente 67,5% de todos os imóveis disponíveis na *Região Norte*"
      ],
      "metadata": {
        "id": "W5kORehZdFWe"
      }
    },
    {
      "cell_type": "code",
      "source": [
        "len(df_casas_norte)"
      ],
      "metadata": {
        "id": "3s1cT8GrdFWe",
        "colab": {
          "base_uri": "https://localhost:8080/"
        },
        "outputId": "8700d3e2-014d-4739-ce0f-3df0b5fb19fa"
      },
      "execution_count": 576,
      "outputs": [
        {
          "output_type": "execute_result",
          "data": {
            "text/plain": [
              "62"
            ]
          },
          "metadata": {},
          "execution_count": 576
        }
      ]
    },
    {
      "cell_type": "code",
      "source": [
        "media_casas_norte = df_casas_norte[\"valor\"].mean()"
      ],
      "metadata": {
        "id": "uT2a7oKQdFWe"
      },
      "execution_count": 577,
      "outputs": []
    },
    {
      "cell_type": "code",
      "source": [
        "mediana_casas_norte = df_casas_norte[\"valor\"].median()"
      ],
      "metadata": {
        "id": "VccodXIYdFWe"
      },
      "execution_count": 578,
      "outputs": []
    },
    {
      "cell_type": "code",
      "source": [
        "moda_casas_norte = df_casas_norte[\"valor\"].mode()"
      ],
      "metadata": {
        "id": "ihipIBPydFWe"
      },
      "execution_count": 579,
      "outputs": []
    },
    {
      "cell_type": "code",
      "source": [
        "desvio_padrao_casas_norte = df_casas_norte[\"valor\"].std()"
      ],
      "metadata": {
        "id": "xnoco8rNdFWf"
      },
      "execution_count": 580,
      "outputs": []
    },
    {
      "cell_type": "code",
      "source": [
        "coeficiente_de_variacao_casas_norte = desvio_padrao_casas_norte/media_casas_norte"
      ],
      "metadata": {
        "id": "9RI6nWlpdFWf"
      },
      "execution_count": 581,
      "outputs": []
    },
    {
      "cell_type": "code",
      "source": [
        "print(\"MEDIDAS DO 'VALOR' DAS CASAS DA REGIÃO NORTE\")\n",
        "print(f\"Média: {media_casas_norte:.2f}\")\n",
        "printModa(moda_casas_norte)\n",
        "print(f\"Mediana: {mediana_casas_norte:.0f}\")\n",
        "print(f\"Desvio Padrão: {desvio_padrao_casas_norte:.2f}\")\n",
        "print(f\"Coeficiente de Variação: {coeficiente_de_variacao_casas_norte * 100:.2f}%\")"
      ],
      "metadata": {
        "id": "T1RfZWmadFWf",
        "colab": {
          "base_uri": "https://localhost:8080/"
        },
        "outputId": "2b55c4eb-43d4-43a0-b52b-cd29cdb1d592"
      },
      "execution_count": 582,
      "outputs": [
        {
          "output_type": "stream",
          "name": "stdout",
          "text": [
            "MEDIDAS DO 'VALOR' DAS CASAS DA REGIÃO NORTE\n",
            "Média: 346165.31\n",
            "Moda: \n",
            "180000\n",
            "250000\n",
            "280000\n",
            "Mediana: 280000\n",
            "Desvio Padrão: 269673.15\n",
            "Coeficiente de Variação: 77.90%\n"
          ]
        }
      ]
    },
    {
      "cell_type": "markdown",
      "source": [
        "### *Apartamentos*\n",
        "\n",
        "Aproximadamente 32,5% de todos os imóveis disponíveis na *Região Norte*"
      ],
      "metadata": {
        "id": "H9V7WYIVdFWf"
      }
    },
    {
      "cell_type": "code",
      "source": [
        "len(df_apartamentos_norte)"
      ],
      "metadata": {
        "id": "b3yzNyMadFWf",
        "colab": {
          "base_uri": "https://localhost:8080/"
        },
        "outputId": "b75b86b0-1c9e-496c-ab7b-a900244bda8b"
      },
      "execution_count": 583,
      "outputs": [
        {
          "output_type": "execute_result",
          "data": {
            "text/plain": [
              "11"
            ]
          },
          "metadata": {},
          "execution_count": 583
        }
      ]
    },
    {
      "cell_type": "code",
      "source": [
        "media_apartamentos_norte= df_apartamentos_norte[\"valor\"].mean()\n",
        "mediana_apartamentos_norte= df_apartamentos_norte[\"valor\"].median()\n",
        "moda_apartamentos_norte= df_apartamentos_norte[\"valor\"].mode()\n",
        "desvio_padrao_apartamentos_norte= df_apartamentos_norte[\"valor\"].std()\n",
        "coeficiente_de_variacao_apartamentos_norte= desvio_padrao_apartamentos_norte/media_apartamentos_norte"
      ],
      "metadata": {
        "id": "QZ_49G4NdFWf"
      },
      "execution_count": 584,
      "outputs": []
    },
    {
      "cell_type": "code",
      "source": [],
      "metadata": {
        "id": "AhDy-puidFWg"
      },
      "execution_count": 584,
      "outputs": []
    },
    {
      "cell_type": "code",
      "source": [
        "print(\"MEDIDAS DO 'VALOR' DOS APARTAMENTOS DA REGIÃO NORTE\")\n",
        "print(f\"Média: {media_apartamentos_norte:.2f}\")\n",
        "print(f\"Moda: {moda_apartamentos_norte}\")\n",
        "print(f\"Mediana: {mediana_apartamentos_norte:.0f}\")\n",
        "print(f\"Desvio Padrão: {desvio_padrao_casas_norte:.2f}%\")\n",
        "print(f\"Coeficiente de Variação: {coeficiente_de_variacao_casas_norte * 100:.2f}%\")"
      ],
      "metadata": {
        "id": "mHk0WV6zdFWg",
        "colab": {
          "base_uri": "https://localhost:8080/"
        },
        "outputId": "046f27a7-9849-41f5-fdb9-97bb1f15fdae"
      },
      "execution_count": 585,
      "outputs": [
        {
          "output_type": "stream",
          "name": "stdout",
          "text": [
            "MEDIDAS DO 'VALOR' DOS APARTAMENTOS DA REGIÃO NORTE\n",
            "Média: 219090.91\n",
            "Moda: 0     55000.0\n",
            "1    160000.0\n",
            "2    450000.0\n",
            "dtype: float64\n",
            "Mediana: 160000\n",
            "Desvio Padrão: 269673.15%\n",
            "Coeficiente de Variação: 77.90%\n"
          ]
        }
      ]
    },
    {
      "cell_type": "markdown",
      "source": [
        "## Região Sul"
      ],
      "metadata": {
        "id": "vTiH0wemdk4j"
      }
    },
    {
      "cell_type": "markdown",
      "source": [
        "### *Medidas Gerais*"
      ],
      "metadata": {
        "id": "pjiBh39vdk4j"
      }
    },
    {
      "cell_type": "code",
      "source": [
        "len(df_sul)"
      ],
      "metadata": {
        "id": "n0NLZl2Bdk4j",
        "colab": {
          "base_uri": "https://localhost:8080/"
        },
        "outputId": "20f53874-ba4c-4029-ea6e-4f487254ec50"
      },
      "execution_count": 586,
      "outputs": [
        {
          "output_type": "execute_result",
          "data": {
            "text/plain": [
              "15"
            ]
          },
          "metadata": {},
          "execution_count": 586
        }
      ]
    },
    {
      "cell_type": "code",
      "source": [
        "media_sul = df_sul[\"valor\"].mean()"
      ],
      "metadata": {
        "id": "yfx5vC0Udk4k"
      },
      "execution_count": 587,
      "outputs": []
    },
    {
      "cell_type": "code",
      "source": [
        "mediana_sul = df_sul[\"valor\"].median()"
      ],
      "metadata": {
        "id": "AUxse0vcdk4k"
      },
      "execution_count": 588,
      "outputs": []
    },
    {
      "cell_type": "code",
      "source": [
        "moda_sul = df_sul[\"valor\"].mode()"
      ],
      "metadata": {
        "id": "vZ7vwIOVdk4k"
      },
      "execution_count": 589,
      "outputs": []
    },
    {
      "cell_type": "code",
      "source": [
        "desvio_padrao_sul = df_sul[\"valor\"].std()"
      ],
      "metadata": {
        "id": "noMfFYbSdk4k"
      },
      "execution_count": 590,
      "outputs": []
    },
    {
      "cell_type": "code",
      "source": [
        "coeficiente_de_variacao_sul = desvio_padrao_sul/media_sul"
      ],
      "metadata": {
        "id": "tHPakmNbdk4k"
      },
      "execution_count": 591,
      "outputs": []
    },
    {
      "cell_type": "code",
      "source": [
        "print(\"MEDIDAS DA VARIAVEL 'VALOR DE IMÓVEIS' DA REGIÃO SUL\")\n",
        "print(f\"Média: {media_sul:.0f}\")\n",
        "print(f\"Moda: {moda_sul}\")\n",
        "print(f\"Mediana: {mediana_sul:.0f}\")\n",
        "print(f\"Desvio Padrão:  {desvio_padrao_sul:.2f}\")\n",
        "print(f\"Coeficiente de variação:  {coeficiente_de_variacao_sul *100:.2f}%\")"
      ],
      "metadata": {
        "id": "me6ASWwBdk4k",
        "colab": {
          "base_uri": "https://localhost:8080/"
        },
        "outputId": "9b1bae4e-7e59-4027-9cd1-65db2afc69a5"
      },
      "execution_count": 592,
      "outputs": [
        {
          "output_type": "stream",
          "name": "stdout",
          "text": [
            "MEDIDAS DA VARIAVEL 'VALOR DE IMÓVEIS' DA REGIÃO SUL\n",
            "Média: 382667\n",
            "Moda: 0      65000.0\n",
            "1     150000.0\n",
            "2     190000.0\n",
            "3     230000.0\n",
            "4     260000.0\n",
            "5     265000.0\n",
            "6     300000.0\n",
            "7     350000.0\n",
            "8     400000.0\n",
            "9     410000.0\n",
            "10    450000.0\n",
            "11    500000.0\n",
            "12    550000.0\n",
            "13    730000.0\n",
            "14    890000.0\n",
            "dtype: float64\n",
            "Mediana: 350000\n",
            "Desvio Padrão:  220007.03\n",
            "Coeficiente de variação:  57.49%\n"
          ]
        }
      ]
    },
    {
      "cell_type": "markdown",
      "source": [
        "### *Casas*"
      ],
      "metadata": {
        "id": "8UIdoLSKdk4k"
      }
    },
    {
      "cell_type": "code",
      "source": [
        "len(df_casas_sul)"
      ],
      "metadata": {
        "id": "wgAubA9Pdk4k",
        "colab": {
          "base_uri": "https://localhost:8080/"
        },
        "outputId": "df4d624f-347e-44a8-a7c9-f9bc3da7c19d"
      },
      "execution_count": 593,
      "outputs": [
        {
          "output_type": "execute_result",
          "data": {
            "text/plain": [
              "10"
            ]
          },
          "metadata": {},
          "execution_count": 593
        }
      ]
    },
    {
      "cell_type": "code",
      "source": [
        "media_casas_sul = df_casas_sul[\"valor\"].mean()\n",
        "moda_casas_sul = df_casas_sul[\"valor\"].mode()\n",
        "mediana_casas_sul = df_casas_sul[\"valor\"].median()\n",
        "desvio_padrao_casas_sul = df_casas_sul[\"valor\"].std()\n",
        "coeficiente_de_variacao_casas_sul = desvio_padrao_casas_sul/media_casas_sul"
      ],
      "metadata": {
        "id": "yCU9DVuydk4k"
      },
      "execution_count": 594,
      "outputs": []
    },
    {
      "cell_type": "code",
      "source": [
        "print(\"MEDIDAS DA VARIAVEL DO 'VALOR' DAS CASAS DA REGIÃO SUL\")\n",
        "print(f\"Média: {media_casas_sul:.2f}\")\n",
        "printModa(moda_casas_sul)\n",
        "print(f\"Mediana: {mediana_casas_sul:.0f}\")\n",
        "print(f\"Desvio Padrão:  {desvio_padrao_casas_sul:.2f}\")\n",
        "print(f\"Coeficiente de variação:  {coeficiente_de_variacao_casas_sul *100:.2f}%\")"
      ],
      "metadata": {
        "id": "ugktS_5idk4k",
        "colab": {
          "base_uri": "https://localhost:8080/"
        },
        "outputId": "3c39fa11-fbf3-445d-a7c4-46cf2adee1fd"
      },
      "execution_count": 595,
      "outputs": [
        {
          "output_type": "stream",
          "name": "stdout",
          "text": [
            "MEDIDAS DA VARIAVEL DO 'VALOR' DAS CASAS DA REGIÃO SUL\n",
            "Média: 402000.00\n",
            "Moda: \n",
            "65000\n",
            "265000\n",
            "300000\n",
            "350000\n",
            "400000\n",
            "410000\n",
            "450000\n",
            "500000\n",
            "550000\n",
            "730000\n",
            "Mediana: 405000\n",
            "Desvio Padrão:  178546.60\n",
            "Coeficiente de variação:  44.41%\n"
          ]
        }
      ]
    },
    {
      "cell_type": "markdown",
      "source": [
        "### *Apartamentos*"
      ],
      "metadata": {
        "id": "bZz4uLd7dk4l"
      }
    },
    {
      "cell_type": "code",
      "source": [
        "len(df_apartamentos_sul)"
      ],
      "metadata": {
        "id": "S5AR92axdk4l",
        "colab": {
          "base_uri": "https://localhost:8080/"
        },
        "outputId": "d6b314e1-2d88-42e2-862e-cc72fa495d7b"
      },
      "execution_count": 596,
      "outputs": [
        {
          "output_type": "execute_result",
          "data": {
            "text/plain": [
              "5"
            ]
          },
          "metadata": {},
          "execution_count": 596
        }
      ]
    },
    {
      "cell_type": "code",
      "source": [
        "media_apartamentos_sul = df_apartamentos_sul[\"valor\"].mean()\n",
        "moda_apartamentos_sul = df_apartamentos_sul[\"valor\"].mode()\n",
        "mediana_apartamentos_sul = df_apartamentos_sul[\"valor\"].median()\n",
        "desvio_padrao_apartamentos_sul = df_apartamentos_sul[\"valor\"].std()\n",
        "coeficiente_de_variacao_apartamentos_sul = desvio_padrao_apartamentos_sul/media_apartamentos_sul"
      ],
      "metadata": {
        "id": "jVvlx91Adk4l"
      },
      "execution_count": 597,
      "outputs": []
    },
    {
      "cell_type": "code",
      "source": [
        "print(\"MEDIDAS DA VARIAVEL 'VALOR' DE APARTAMENTOS DA REGIÃO SUL\")\n",
        "print(f\"Média: {media_apartamentos_sul:.2f}\")\n",
        "printModa(moda_apartamentos_sul)\n",
        "print(f\"Mediana: {mediana_apartamentos_sul:.0f}\")\n",
        "print(f\"Desvio Padrão:  {desvio_padrao_apartamentos_sul:.2f}\")\n",
        "print(f\"Coeficiente de variação:  {coeficiente_de_variacao_apartamentos_sul *100:.2f}%\")"
      ],
      "metadata": {
        "id": "Vr7jezLFdk4l",
        "colab": {
          "base_uri": "https://localhost:8080/"
        },
        "outputId": "13289b56-7f65-4ca5-9223-66dbd4203663"
      },
      "execution_count": 598,
      "outputs": [
        {
          "output_type": "stream",
          "name": "stdout",
          "text": [
            "MEDIDAS DA VARIAVEL 'VALOR' DE APARTAMENTOS DA REGIÃO SUL\n",
            "Média: 344000.00\n",
            "Moda: \n",
            "150000\n",
            "190000\n",
            "230000\n",
            "260000\n",
            "890000\n",
            "Mediana: 230000\n",
            "Desvio Padrão:  308025.97\n",
            "Coeficiente de variação:  89.54%\n"
          ]
        }
      ]
    },
    {
      "cell_type": "markdown",
      "source": [
        "## Região Leste"
      ],
      "metadata": {
        "id": "uHg-Ym_ndmyZ"
      }
    },
    {
      "cell_type": "markdown",
      "source": [
        "### *Medidas Gerais*"
      ],
      "metadata": {
        "id": "c8Oz7KJ_dmyZ"
      }
    },
    {
      "cell_type": "code",
      "source": [
        "len(df_leste)"
      ],
      "metadata": {
        "id": "LMgb5eZHdmyZ",
        "colab": {
          "base_uri": "https://localhost:8080/"
        },
        "outputId": "39b175a3-cf37-4369-8647-aa86ce16e99a"
      },
      "execution_count": 599,
      "outputs": [
        {
          "output_type": "execute_result",
          "data": {
            "text/plain": [
              "10"
            ]
          },
          "metadata": {},
          "execution_count": 599
        }
      ]
    },
    {
      "cell_type": "code",
      "source": [
        "media_leste = df_leste[\"valor\"].mean()\n",
        "moda_leste = df_leste[\"valor\"].mode()\n",
        "mediana_leste = df_leste[\"valor\"].median()\n",
        "desvio_padrao_leste = df_leste[\"valor\"].std()\n",
        "coeficiente_de_variacao_leste = desvio_padrao_leste/media_leste"
      ],
      "metadata": {
        "id": "RWKeSCzHdmya"
      },
      "execution_count": 600,
      "outputs": []
    },
    {
      "cell_type": "code",
      "source": [
        "print(\"MEDIDAS DA VARIAVEL 'VALOR' DA REGIÃO LESTE\")\n",
        "print(f\"Média: {media_leste:.2f}\")\n",
        "printModa(moda_leste)\n",
        "print(f\"Mediana: {mediana_leste:.0f}\")\n",
        "print(f\"Desvio Padrão:  {desvio_padrao_leste :.2f}\")\n",
        "print(f\"Coeficiente de variação:  {coeficiente_de_variacao_leste *100:.2f}%\")"
      ],
      "metadata": {
        "id": "lebv9OA4dmya",
        "colab": {
          "base_uri": "https://localhost:8080/"
        },
        "outputId": "aa37f83c-578d-49db-f18f-997bc1eb2b65"
      },
      "execution_count": 601,
      "outputs": [
        {
          "output_type": "stream",
          "name": "stdout",
          "text": [
            "MEDIDAS DA VARIAVEL 'VALOR' DA REGIÃO LESTE\n",
            "Média: 284101.20\n",
            "Moda: \n",
            "120000\n",
            "150000\n",
            "162000\n",
            "180010\n",
            "190002\n",
            "200000\n",
            "269000\n",
            "300000\n",
            "320000\n",
            "950000\n",
            "Mediana: 195001\n",
            "Desvio Padrão:  243076.22\n",
            "Coeficiente de variação:  85.56%\n"
          ]
        }
      ]
    },
    {
      "cell_type": "markdown",
      "source": [
        "### *Casas*"
      ],
      "metadata": {
        "id": "dni8nZl9dmyb"
      }
    },
    {
      "cell_type": "code",
      "source": [
        "len(df_casas_leste)"
      ],
      "metadata": {
        "id": "elqONsl-dmyb",
        "colab": {
          "base_uri": "https://localhost:8080/"
        },
        "outputId": "e220e2eb-2586-4fbd-bee6-de1c8c3f1bdb"
      },
      "execution_count": 602,
      "outputs": [
        {
          "output_type": "execute_result",
          "data": {
            "text/plain": [
              "5"
            ]
          },
          "metadata": {},
          "execution_count": 602
        }
      ]
    },
    {
      "cell_type": "code",
      "source": [
        "media_casas_leste = df_casas_leste[\"valor\"].mean()\n",
        "moda_casas_leste = df_casas_leste[\"valor\"].mode()\n",
        "mediana_casas_leste = df_casas_leste[\"valor\"].median()\n",
        "desvio_padrao_casas_leste = df_casas_leste[\"valor\"].std()\n",
        "coeficiente_de_variacao_casas_leste = desvio_padrao_casas_leste/media_casas_leste"
      ],
      "metadata": {
        "id": "H1_KJkhZdmyb"
      },
      "execution_count": 603,
      "outputs": []
    },
    {
      "cell_type": "code",
      "source": [
        "print(\"MEDIDAS DA VARIAVEL 'VALOR' DAS CASAS DA REGIÃO SUL\")\n",
        "print(f\"Média: {media_casas_leste:.1f}\")\n",
        "printModa(moda_casas_leste)\n",
        "print(f\"Mediana: {mediana_casas_leste:.0f}\")\n",
        "print(f\"Desvio Padrão:  {desvio_padrao_casas_leste:.2f}\")\n",
        "print(f\"Coeficiente de variação:  {coeficiente_de_variacao_casas_leste *100:.2f}%\")"
      ],
      "metadata": {
        "id": "Egbvk4T7dmyb",
        "colab": {
          "base_uri": "https://localhost:8080/"
        },
        "outputId": "f3c80b9b-a6c4-4ac7-ffee-b8d727082cd1"
      },
      "execution_count": 604,
      "outputs": [
        {
          "output_type": "stream",
          "name": "stdout",
          "text": [
            "MEDIDAS DA VARIAVEL 'VALOR' DAS CASAS DA REGIÃO SUL\n",
            "Média: 348000.0\n",
            "Moda: \n",
            "120000\n",
            "150000\n",
            "200000\n",
            "320000\n",
            "950000\n",
            "Mediana: 200000\n",
            "Desvio Padrão:  345065.21\n",
            "Coeficiente de variação:  99.16%\n"
          ]
        }
      ]
    },
    {
      "cell_type": "markdown",
      "source": [
        "### *Apartamentos*"
      ],
      "metadata": {
        "id": "-d0R9HxCdmyc"
      }
    },
    {
      "cell_type": "code",
      "source": [
        "len(df_apartamentos_leste)"
      ],
      "metadata": {
        "id": "uQomyWX8dmyc",
        "colab": {
          "base_uri": "https://localhost:8080/"
        },
        "outputId": "60114ea7-08b7-4ff3-9c19-6e65ca51ef0a"
      },
      "execution_count": 605,
      "outputs": [
        {
          "output_type": "execute_result",
          "data": {
            "text/plain": [
              "5"
            ]
          },
          "metadata": {},
          "execution_count": 605
        }
      ]
    },
    {
      "cell_type": "code",
      "source": [
        "media_apartamentos_leste = df_apartamentos_leste[\"valor\"].mean()\n",
        "moda_apartamentos_leste = df_apartamentos_leste[\"valor\"].mode()\n",
        "mediana_apartamentos_leste = df_apartamentos_leste[\"valor\"].median()\n",
        "desvio_padrao_apartamentos_leste = df_apartamentos_leste[\"valor\"].std()\n",
        "coeficiente_de_variacao_apartamentos_leste = desvio_padrao_apartamentos_leste/media_apartamentos_leste"
      ],
      "metadata": {
        "id": "nKstciiEdmyc"
      },
      "execution_count": 606,
      "outputs": []
    },
    {
      "cell_type": "code",
      "source": [
        "print(\"MEDIDAS DA VARIAVEL 'QUANTIDADE DE QUARTOS' DOS APARTAMENTOS DA REGIÃO LESTE\")\n",
        "print(f\"Média: {media_apartamentos_leste:.1f}\")\n",
        "printModa(moda_apartamentos_leste)\n",
        "print(f\"Mediana: {mediana_apartamentos_leste:.0f}\")\n",
        "print(f\"Desvio Padrão:  {desvio_padrao_apartamentos_leste:.2f}\")\n",
        "print(f\"Coeficiente de variação:  {coeficiente_de_variacao_apartamentos_leste *100:.2f}%\")"
      ],
      "metadata": {
        "id": "ETnzEUt8dmyc",
        "colab": {
          "base_uri": "https://localhost:8080/"
        },
        "outputId": "542c9c70-2919-4f1b-ac4a-a30a51c77012"
      },
      "execution_count": 607,
      "outputs": [
        {
          "output_type": "stream",
          "name": "stdout",
          "text": [
            "MEDIDAS DA VARIAVEL 'QUANTIDADE DE QUARTOS' DOS APARTAMENTOS DA REGIÃO LESTE\n",
            "Média: 220202.4\n",
            "Moda: \n",
            "162000\n",
            "180010\n",
            "190002\n",
            "269000\n",
            "300000\n",
            "Mediana: 190002\n",
            "Desvio Padrão:  60547.24\n",
            "Coeficiente de variação:  27.50%\n"
          ]
        }
      ]
    },
    {
      "cell_type": "markdown",
      "source": [
        "## Região Oeste"
      ],
      "metadata": {
        "id": "R8SUuHJNduYP"
      }
    },
    {
      "cell_type": "markdown",
      "source": [
        "### *Medidas Gerais*"
      ],
      "metadata": {
        "id": "c4KjhKfRduYP"
      }
    },
    {
      "cell_type": "code",
      "source": [
        "len(df_oeste)"
      ],
      "metadata": {
        "id": "ITPaC3iVduYP",
        "colab": {
          "base_uri": "https://localhost:8080/"
        },
        "outputId": "2ae95482-e096-4dcd-8108-8fd0a9e3968a"
      },
      "execution_count": 608,
      "outputs": [
        {
          "output_type": "execute_result",
          "data": {
            "text/plain": [
              "128"
            ]
          },
          "metadata": {},
          "execution_count": 608
        }
      ]
    },
    {
      "cell_type": "code",
      "source": [
        "media_oeste = df_oeste[\"valor\"].mean()\n",
        "moda_oeste = df_oeste[\"valor\"].mode()\n",
        "mediana_oeste = df_oeste[\"valor\"].median()\n",
        "desvio_padrao_oeste = df_oeste[\"valor\"].std()\n",
        "coeficiente_de_variacao_oeste = desvio_padrao_oeste/media_oeste"
      ],
      "metadata": {
        "id": "nj7OhjmgduYP"
      },
      "execution_count": 609,
      "outputs": []
    },
    {
      "cell_type": "code",
      "source": [
        "print(\"MEDIDAS DA VARIAVEL 'QUANTIDADE DE QUARTOS' DA REGIÃO OESTE\")\n",
        "print(f\"Média: {media_oeste:.1f}\")\n",
        "printModa(moda_oeste)\n",
        "print(f\"Mediana: {mediana_oeste:.0f}\")\n",
        "print(f\"Desvio Padrão:  {desvio_padrao_oeste :.2f}\")\n",
        "print(f\"Coeficiente de variação:  {coeficiente_de_variacao_oeste *100:.2f}%\")"
      ],
      "metadata": {
        "id": "eQo_vX4HduYP",
        "colab": {
          "base_uri": "https://localhost:8080/"
        },
        "outputId": "1a20e007-8ed7-4075-af6f-8e6ba55798e6"
      },
      "execution_count": 610,
      "outputs": [
        {
          "output_type": "stream",
          "name": "stdout",
          "text": [
            "MEDIDAS DA VARIAVEL 'QUANTIDADE DE QUARTOS' DA REGIÃO OESTE\n",
            "Média: 1127844.1\n",
            "Moda: \n",
            "850000\n",
            "1500000\n",
            "1600000\n",
            "Mediana: 790000\n",
            "Desvio Padrão:  1189769.99\n",
            "Coeficiente de variação:  105.49%\n"
          ]
        }
      ]
    },
    {
      "cell_type": "markdown",
      "source": [
        "### *Casas*"
      ],
      "metadata": {
        "id": "iicsf9-yduYQ"
      }
    },
    {
      "cell_type": "code",
      "source": [
        "len(df_casas_oeste)"
      ],
      "metadata": {
        "id": "CFgDfmqyduYQ",
        "colab": {
          "base_uri": "https://localhost:8080/"
        },
        "outputId": "1383100c-21f9-4842-d736-533b5c5c25ac"
      },
      "execution_count": 611,
      "outputs": [
        {
          "output_type": "execute_result",
          "data": {
            "text/plain": [
              "78"
            ]
          },
          "metadata": {},
          "execution_count": 611
        }
      ]
    },
    {
      "cell_type": "code",
      "source": [
        "media_casas_oeste = df_casas_oeste[\"valor\"].mean()\n",
        "moda_casas_oeste = df_casas_oeste[\"valor\"].mode()\n",
        "mediana_casas_oeste = df_casas_oeste[\"valor\"].median()\n",
        "desvio_padrao_casas_oeste = df_casas_oeste[\"valor\"].std()\n",
        "coeficiente_de_variacao_casas_oeste = desvio_padrao_casas_oeste/media_casas_oeste"
      ],
      "metadata": {
        "id": "wnhX3p9jduYQ"
      },
      "execution_count": 612,
      "outputs": []
    },
    {
      "cell_type": "code",
      "source": [
        "print(\"MEDIDAS DA VARIAVEL 'VALOR' DAS CASAS DA REGIÃO OESTE\")\n",
        "print(f\"Média: {media_casas_oeste:.1f}\")\n",
        "printModa(moda_casas_oeste)\n",
        "print(f\"Mediana: {mediana_casas_oeste:.0f}\")\n",
        "print(f\"Desvio Padrão:  {desvio_padrao_casas_oeste:.2f}\")\n",
        "print(f\"Coeficiente de variação:  {coeficiente_de_variacao_casas_oeste *100:.2f}%\")"
      ],
      "metadata": {
        "id": "qwZ5znn5duYQ",
        "colab": {
          "base_uri": "https://localhost:8080/"
        },
        "outputId": "76bbffd6-35a7-4eb7-f9a0-64162d2301d3"
      },
      "execution_count": 613,
      "outputs": [
        {
          "output_type": "stream",
          "name": "stdout",
          "text": [
            "MEDIDAS DA VARIAVEL 'VALOR' DAS CASAS DA REGIÃO OESTE\n",
            "Média: 1483461.9\n",
            "Moda: \n",
            "850000\n",
            "Mediana: 1050000\n",
            "Desvio Padrão:  1353400.57\n",
            "Coeficiente de variação:  91.23%\n"
          ]
        }
      ]
    },
    {
      "cell_type": "markdown",
      "source": [
        "### *Apartamentos*"
      ],
      "metadata": {
        "id": "dien4In9duYQ"
      }
    },
    {
      "cell_type": "code",
      "source": [
        "len(df_apartamentos_oeste)"
      ],
      "metadata": {
        "id": "JLh5Jsl-duYQ",
        "colab": {
          "base_uri": "https://localhost:8080/"
        },
        "outputId": "0ede0769-e0cf-49cd-b828-c7cf33efa4e4"
      },
      "execution_count": 614,
      "outputs": [
        {
          "output_type": "execute_result",
          "data": {
            "text/plain": [
              "50"
            ]
          },
          "metadata": {},
          "execution_count": 614
        }
      ]
    },
    {
      "cell_type": "code",
      "source": [
        "media_apartamentos_oeste = df_apartamentos_oeste[\"valor\"].mean()\n",
        "moda_apartamentos_oeste = df_apartamentos_oeste[\"valor\"].mode()\n",
        "mediana_apartamentos_oeste = df_apartamentos_oeste[\"valor\"].median()\n",
        "desvio_padrao_apartamentos_oeste = df_apartamentos_oeste[\"valor\"].std()\n",
        "coeficiente_de_variacao_apartamentos_oeste = desvio_padrao_apartamentos_oeste/media_apartamentos_oeste"
      ],
      "metadata": {
        "id": "oRV0wHijduYQ"
      },
      "execution_count": 615,
      "outputs": []
    },
    {
      "cell_type": "code",
      "source": [
        "print(\"MEDIDAS DA VARIAVEL 'VALOR' DOS APARTAMENTOS DA REGIÃO OESTE\")\n",
        "print(f\"Média: {media_apartamentos_oeste:.2f}\")\n",
        "printModa(moda_apartamentos_oeste)\n",
        "print(f\"Mediana: {mediana_apartamentos_oeste:.0f}\")\n",
        "print(f\"Desvio Padrão:  {desvio_padrao_apartamentos_oeste:.2f}\")\n",
        "print(f\"Coeficiente de variação:  {coeficiente_de_variacao_apartamentos_oeste *100:.2f}%\")"
      ],
      "metadata": {
        "id": "YFYHD9mYduYQ",
        "colab": {
          "base_uri": "https://localhost:8080/"
        },
        "outputId": "17fcb73f-8f31-4960-bb2e-aba0e9e82fb8"
      },
      "execution_count": 616,
      "outputs": [
        {
          "output_type": "stream",
          "name": "stdout",
          "text": [
            "MEDIDAS DA VARIAVEL 'VALOR' DOS APARTAMENTOS DA REGIÃO OESTE\n",
            "Média: 573080.46\n",
            "Moda: \n",
            "320000\n",
            "Mediana: 330000\n",
            "Desvio Padrão:  524550.09\n",
            "Coeficiente de variação:  91.53%\n"
          ]
        }
      ]
    },
    {
      "cell_type": "markdown",
      "source": [
        "## Região Centro-Oeste"
      ],
      "metadata": {
        "id": "NW3YiMvPdwb9"
      }
    },
    {
      "cell_type": "markdown",
      "source": [
        "### *Medidas Gerais*"
      ],
      "metadata": {
        "id": "PZ4slLhFdwb9"
      }
    },
    {
      "cell_type": "code",
      "source": [
        "len(df_co)"
      ],
      "metadata": {
        "id": "MKfLk7B9dwb9",
        "colab": {
          "base_uri": "https://localhost:8080/"
        },
        "outputId": "3aa1d24e-369f-41fa-9d44-b2bc899ae8fe"
      },
      "execution_count": 617,
      "outputs": [
        {
          "output_type": "execute_result",
          "data": {
            "text/plain": [
              "42"
            ]
          },
          "metadata": {},
          "execution_count": 617
        }
      ]
    },
    {
      "cell_type": "code",
      "source": [
        "media_co = df_co[\"valor\"].mean()\n",
        "moda_co = df_co[\"valor\"].mode()\n",
        "mediana_co = df_co[\"valor\"].median()\n",
        "desvio_padrao_co = df_co[\"valor\"].std()\n",
        "coeficiente_de_variacao_co = desvio_padrao_co/media_co"
      ],
      "metadata": {
        "id": "fsvRkMvUdwb9"
      },
      "execution_count": 618,
      "outputs": []
    },
    {
      "cell_type": "code",
      "source": [
        "print(\"MEDIDAS DA VARIAVEL 'VALOR' DA REGIÃO CENTRO-OESTE\")\n",
        "print(f\"Média: {media_co:.1f}\")\n",
        "printModa(moda_co)\n",
        "print(f\"Mediana: {mediana_co:.0f}\")\n",
        "print(f\"Desvio Padrão:  {desvio_padrao_co:.2f}%\")\n",
        "print(f\"Coeficiente de variação:  {coeficiente_de_variacao_co *100:.2f}%\")"
      ],
      "metadata": {
        "id": "GOjqOYqvdwb9",
        "colab": {
          "base_uri": "https://localhost:8080/"
        },
        "outputId": "59329f9e-a7aa-4cc2-e55c-411dbda48d87"
      },
      "execution_count": 619,
      "outputs": [
        {
          "output_type": "stream",
          "name": "stdout",
          "text": [
            "MEDIDAS DA VARIAVEL 'VALOR' DA REGIÃO CENTRO-OESTE\n",
            "Média: 466321.6\n",
            "Moda: \n",
            "550000\n",
            "Mediana: 340000\n",
            "Desvio Padrão:  399056.16%\n",
            "Coeficiente de variação:  85.58%\n"
          ]
        }
      ]
    },
    {
      "cell_type": "markdown",
      "source": [
        "### *Casas*"
      ],
      "metadata": {
        "id": "BK4Ws0Kcdwb9"
      }
    },
    {
      "cell_type": "code",
      "source": [
        "len(df_casas_co)"
      ],
      "metadata": {
        "id": "g--3UGF3dwb-",
        "colab": {
          "base_uri": "https://localhost:8080/"
        },
        "outputId": "e58b3979-2b1a-4045-e3ed-bf9e16829ad9"
      },
      "execution_count": 620,
      "outputs": [
        {
          "output_type": "execute_result",
          "data": {
            "text/plain": [
              "24"
            ]
          },
          "metadata": {},
          "execution_count": 620
        }
      ]
    },
    {
      "cell_type": "code",
      "source": [
        "media_casas_co = df_casas_co[\"valor\"].mean()\n",
        "moda_casas_co = df_casas_co[\"valor\"].mode()\n",
        "mediana_casas_co = df_casas_co[\"valor\"].median()\n",
        "desvio_padrao_casas_co = df_casas_co[\"valor\"].std()\n",
        "coeficiente_de_variacao_casas_co = desvio_padrao_casas_co/media_casas_co"
      ],
      "metadata": {
        "id": "revEYTRndwb-"
      },
      "execution_count": 621,
      "outputs": []
    },
    {
      "cell_type": "code",
      "source": [
        "print(\"MEDIDAS DA VARIAVEL 'VALOR' DAS CASAS DA REGIÃO CENTRO-OESTE\")\n",
        "print(f\"Média: {media_casas_co:.1f}\")\n",
        "printModa(moda_casas_co)\n",
        "print(f\"Mediana: {mediana_casas_co:.0f}\")\n",
        "print(f\"Desvio Padrão:  {desvio_padrao_casas_co :.2f}\")\n",
        "print(f\"Coeficiente de variação:  {coeficiente_de_variacao_casas_co *100:.2f}%\")"
      ],
      "metadata": {
        "id": "0JZhyt_Qdwb-",
        "colab": {
          "base_uri": "https://localhost:8080/"
        },
        "outputId": "37aea629-9139-4eee-d082-2ed768932b9e"
      },
      "execution_count": 622,
      "outputs": [
        {
          "output_type": "stream",
          "name": "stdout",
          "text": [
            "MEDIDAS DA VARIAVEL 'VALOR' DAS CASAS DA REGIÃO CENTRO-OESTE\n",
            "Média: 483889.4\n",
            "Moda: \n",
            "550000\n",
            "Mediana: 340032\n",
            "Desvio Padrão:  479667.97\n",
            "Coeficiente de variação:  99.13%\n"
          ]
        }
      ]
    },
    {
      "cell_type": "markdown",
      "source": [
        "### *Apartamentos*"
      ],
      "metadata": {
        "id": "1PxKnvXodwb-"
      }
    },
    {
      "cell_type": "code",
      "source": [
        "len(df_apartamentos_co)"
      ],
      "metadata": {
        "id": "Z6_d9lkNdwb-",
        "colab": {
          "base_uri": "https://localhost:8080/"
        },
        "outputId": "d7ab29cc-dbb2-4458-9483-5d8d8834921b"
      },
      "execution_count": 623,
      "outputs": [
        {
          "output_type": "execute_result",
          "data": {
            "text/plain": [
              "18"
            ]
          },
          "metadata": {},
          "execution_count": 623
        }
      ]
    },
    {
      "cell_type": "code",
      "source": [
        "media_apartamentos_co = df_apartamentos_co[\"valor\"].mean()\n",
        "moda_apartamentos_co = df_apartamentos_co[\"valor\"].mode()\n",
        "mediana_apartamentos_co = df_apartamentos_co[\"valor\"].median()\n",
        "desvio_padrao_apartamentos_co = df_apartamentos_co[\"valor\"].std()\n",
        "coeficiente_de_variacao_apartamentos_co = desvio_padrao_apartamentos_co/media_apartamentos_co\n",
        "\n",
        "df_apartamentos_co[\"valor\"].median()"
      ],
      "metadata": {
        "id": "9CMhzc7hdwb-",
        "colab": {
          "base_uri": "https://localhost:8080/"
        },
        "outputId": "4232a5c5-e311-4007-b40f-2c66e99a65cd"
      },
      "execution_count": 624,
      "outputs": [
        {
          "output_type": "execute_result",
          "data": {
            "text/plain": [
              "336495.0"
            ]
          },
          "metadata": {},
          "execution_count": 624
        }
      ]
    },
    {
      "cell_type": "code",
      "source": [
        "print(\"MEDIDAS DA VARIAVEL 'VALOR' DOS APARTAMENTOS DA REGIÃO CENTRO-OESTE\")\n",
        "print(f\"Média: {media_apartamentos_co:.2f}\")\n",
        "printModa(moda_apartamentos_co)\n",
        "print(f\"Mediana: {mediana_apartamentos_co:.0f}\")\n",
        "print(f\"Desvio Padrão:  {desvio_padrao_apartamentos_co:.2f}\")\n",
        "print(f\"Coeficiente de variação:  {coeficiente_de_variacao_apartamentos_co *100:.2f}%\")"
      ],
      "metadata": {
        "id": "CI6i3Ro_dwb-",
        "colab": {
          "base_uri": "https://localhost:8080/"
        },
        "outputId": "303c059a-86f4-4bff-81c1-6c5a2e6684c8"
      },
      "execution_count": 625,
      "outputs": [
        {
          "output_type": "stream",
          "name": "stdout",
          "text": [
            "MEDIDAS DA VARIAVEL 'VALOR' DOS APARTAMENTOS DA REGIÃO CENTRO-OESTE\n",
            "Média: 442897.83\n",
            "Moda: \n",
            "175000\n",
            "189990\n",
            "207490\n",
            "210390\n",
            "215000\n",
            "248300\n",
            "310000\n",
            "319000\n",
            "322990\n",
            "350000\n",
            "424000\n",
            "430000\n",
            "500000\n",
            "650000\n",
            "680000\n",
            "750000\n",
            "890000\n",
            "1100001\n",
            "Mediana: 336495\n",
            "Desvio Padrão:  267881.01\n",
            "Coeficiente de variação:  60.48%\n"
          ]
        }
      ]
    },
    {
      "cell_type": "markdown",
      "source": [
        "## Região Centro-Sul"
      ],
      "metadata": {
        "id": "LOkKCueJdyOs"
      }
    },
    {
      "cell_type": "markdown",
      "source": [
        "### *Medidas Gerais*"
      ],
      "metadata": {
        "id": "IISyurncdyOt"
      }
    },
    {
      "cell_type": "code",
      "source": [
        "len(df_cs)"
      ],
      "metadata": {
        "id": "jaKTgWbTdyOt",
        "colab": {
          "base_uri": "https://localhost:8080/"
        },
        "outputId": "f38371f1-b054-4c3a-d880-35928b997c21"
      },
      "execution_count": 626,
      "outputs": [
        {
          "output_type": "execute_result",
          "data": {
            "text/plain": [
              "122"
            ]
          },
          "metadata": {},
          "execution_count": 626
        }
      ]
    },
    {
      "cell_type": "code",
      "source": [
        "media_cs = df_cs[\"valor\"].mean()\n",
        "moda_cs = df_cs[\"valor\"].mode()\n",
        "mediana_cs = df_cs[\"valor\"].median()\n",
        "desvio_padrao_cs = df_cs[\"valor\"].std()\n",
        "coeficiente_de_variacao_cs = desvio_padrao_cs/media_cs"
      ],
      "metadata": {
        "id": "keOXRFmCdyOt"
      },
      "execution_count": 627,
      "outputs": []
    },
    {
      "cell_type": "code",
      "source": [
        "print(\"MEDIDAS DA VARIAVEL 'VALOR' DA REGIÃO CENTRO-SUL\")\n",
        "print(f\"Média: {media_cs:.2f}\")\n",
        "printModa(moda_cs)\n",
        "print(f\"Mediana: {mediana_cs:.0f}\")\n",
        "print(f\"Desvio Padrão:  {desvio_padrao_cs:.2f}\")\n",
        "print(f\"Coeficiente de variação:  {coeficiente_de_variacao_cs *100:.2f}%\")"
      ],
      "metadata": {
        "id": "A2m4m6RudyOt",
        "colab": {
          "base_uri": "https://localhost:8080/"
        },
        "outputId": "53b6201e-2306-46ee-c67a-c0338df834b6"
      },
      "execution_count": 628,
      "outputs": [
        {
          "output_type": "stream",
          "name": "stdout",
          "text": [
            "MEDIDAS DA VARIAVEL 'VALOR' DA REGIÃO CENTRO-SUL\n",
            "Média: 989944.35\n",
            "Moda: \n",
            "250000\n",
            "Mediana: 565000\n",
            "Desvio Padrão:  1084979.78\n",
            "Coeficiente de variação:  109.60%\n"
          ]
        }
      ]
    },
    {
      "cell_type": "markdown",
      "source": [
        "### *Casas*"
      ],
      "metadata": {
        "id": "KctEcdWsdyOt"
      }
    },
    {
      "cell_type": "code",
      "source": [
        "len(df_casas_cs)"
      ],
      "metadata": {
        "id": "NhemJ06IdyOt",
        "colab": {
          "base_uri": "https://localhost:8080/"
        },
        "outputId": "2b46eadf-2bb2-45a3-adc1-5b9232417cc1"
      },
      "execution_count": 629,
      "outputs": [
        {
          "output_type": "execute_result",
          "data": {
            "text/plain": [
              "58"
            ]
          },
          "metadata": {},
          "execution_count": 629
        }
      ]
    },
    {
      "cell_type": "code",
      "source": [
        "media_casas_cs = df_casas_cs[\"valor\"].mean()\n",
        "moda_casas_cs = df_casas_cs[\"valor\"].mode()\n",
        "mediana_casas_cs = df_casas_cs[\"valor\"].median()\n",
        "desvio_padrao_casas_cs = df_casas_cs[\"valor\"].std()\n",
        "coeficiente_de_variacao_casas_cs = desvio_padrao_casas_cs/media_casas_cs\n",
        "variancia = df_casas_cs[\"valor\"].var()\n"
      ],
      "metadata": {
        "id": "wjfkqQA9dyOt"
      },
      "execution_count": 630,
      "outputs": []
    },
    {
      "cell_type": "code",
      "source": [
        "print(\"MEDIDAS DA VARIAVEL 'VALOR' DAS CASAS DA REGIÃO CENTRO-SUL\")\n",
        "print(f\"Média: {media_casas_cs:.2f}\")\n",
        "printModa(moda_casas_cs)\n",
        "print(f\"Mediana: {mediana_casas_cs:.0f}\")\n",
        "print(f\"Desvio Padrão:  {desvio_padrao_casas_cs:.2f}%\")\n",
        "print(f\"Coeficiente de variação:  {coeficiente_de_variacao_casas_cs *100:.2f}%\")"
      ],
      "metadata": {
        "id": "m1WL8ES9dyOt",
        "colab": {
          "base_uri": "https://localhost:8080/"
        },
        "outputId": "7c2f99a7-2c10-45b4-f6ae-4dacb2ebb5a9"
      },
      "execution_count": 631,
      "outputs": [
        {
          "output_type": "stream",
          "name": "stdout",
          "text": [
            "MEDIDAS DA VARIAVEL 'VALOR' DAS CASAS DA REGIÃO CENTRO-SUL\n",
            "Média: 1107811.10\n",
            "Moda: \n",
            "250000\n",
            "Mediana: 542500\n",
            "Desvio Padrão:  1254760.05%\n",
            "Coeficiente de variação:  113.26%\n"
          ]
        }
      ]
    },
    {
      "cell_type": "markdown",
      "source": [
        "### *Apartamentos*"
      ],
      "metadata": {
        "id": "q_GjgVDPdyOt"
      }
    },
    {
      "cell_type": "code",
      "source": [
        "len(df_apartamentos_cs)"
      ],
      "metadata": {
        "id": "WcPqxP7mdyOt",
        "colab": {
          "base_uri": "https://localhost:8080/"
        },
        "outputId": "f35c6bf0-59dd-4ec9-d1f3-7733d9a7f0a8"
      },
      "execution_count": 632,
      "outputs": [
        {
          "output_type": "execute_result",
          "data": {
            "text/plain": [
              "64"
            ]
          },
          "metadata": {},
          "execution_count": 632
        }
      ]
    },
    {
      "cell_type": "code",
      "source": [
        "media_apartamentos_cs = df_apartamentos_cs[\"valor\"].mean()\n",
        "moda_apartamentos_cs = df_apartamentos_cs[\"valor\"].mode()\n",
        "mediana_apartamentos_cs = df_apartamentos_cs[\"valor\"].median()\n",
        "desvio_padrao_apartamentos_cs = df_apartamentos_cs[\"valor\"].std()\n",
        "coeficiente_de_variacao_apartamentos_cs = desvio_padrao_apartamentos_cs/media_apartamentos_cs"
      ],
      "metadata": {
        "id": "SDr3s2NVdyOu"
      },
      "execution_count": 633,
      "outputs": []
    },
    {
      "cell_type": "code",
      "source": [
        "print(\"MEDIDAS DA VARIAVEL 'QUANTIDADE DE QUARTOS' DOS APARTAMENTOS DA REGIÃO CENTRO-OESTE\")\n",
        "print(f\"Média: {media_apartamentos_cs:.2f}\")\n",
        "printModa(moda_apartamentos_cs)\n",
        "print(f\"Mediana: {mediana_apartamentos_cs:.0f}\")\n",
        "print(f\"Desvio Padrão:  {desvio_padrao_apartamentos_cs:.2f}\")\n",
        "print(f\"Coeficiente de variação:  {coeficiente_de_variacao_apartamentos_cs *100:.2f}%\")"
      ],
      "metadata": {
        "id": "WYSGEdUydyOu",
        "colab": {
          "base_uri": "https://localhost:8080/"
        },
        "outputId": "ab3e5d99-69c2-459c-e2c0-9496abb4275b"
      },
      "execution_count": 634,
      "outputs": [
        {
          "output_type": "stream",
          "name": "stdout",
          "text": [
            "MEDIDAS DA VARIAVEL 'QUANTIDADE DE QUARTOS' DOS APARTAMENTOS DA REGIÃO CENTRO-OESTE\n",
            "Média: 883127.61\n",
            "Moda: \n",
            "450000\n",
            "850000\n",
            "Mediana: 565000\n",
            "Desvio Padrão:  901152.87\n",
            "Coeficiente de variação:  102.04%\n"
          ]
        }
      ]
    },
    {
      "cell_type": "markdown",
      "source": [
        "# → ***Resultados: Valor do Imóvel (Quantitativa)***\n",
        "\n",
        "\n",
        "---\n",
        "\n"
      ],
      "metadata": {
        "id": "8vtHdsHjhJVW"
      }
    },
    {
      "cell_type": "markdown",
      "source": [
        "## Dados Gerais"
      ],
      "metadata": {
        "id": "jFZVSFPKhJVW"
      }
    },
    {
      "cell_type": "code",
      "source": [
        "df_resultados = pd.DataFrame([\n",
        "    (len(df_norte), f'{media_norte:.2f}', mediana_norte, list(moda_norte), f'{desvio_padrao_norte:.2f}', f'{coeficiente_de_variacao_norte * 100:.2f}%'),\n",
        "    (len(df_sul), f'{media_sul:.2f}', mediana_sul, list(moda_sul), f'{desvio_padrao_sul:.2f}', f'{coeficiente_de_variacao_sul * 100:.2f}%'),\n",
        "    (len(df_leste), f'{media_leste:.2f}', mediana_leste, list(moda_leste), f'{desvio_padrao_leste:.2f}', f'{coeficiente_de_variacao_leste * 100:.2f}%'),\n",
        "    (len(df_oeste), f'{media_oeste:.2f}', mediana_oeste, list(moda_oeste), f'{desvio_padrao_oeste:.2f}', f'{coeficiente_de_variacao_oeste * 100:.2f}%'),\n",
        "    (len(df_co), f'{media_co:.2f}', mediana_co, list(moda_co), f'{desvio_padrao_co:.2f}', f'{coeficiente_de_variacao_co:.2f}%'),\n",
        "    (len(df_cs), f'{media_cs:.2f}', mediana_cs, list(moda_cs), f'{desvio_padrao_cs:.2f}', f'{coeficiente_de_variacao_cs:.2f}%')],\n",
        "    index=('Zona Norte', 'Zona Sul', 'Zona Leste', 'Zona Oeste', 'Zona Centro Oeste', 'Zona Centro-Sul'),\n",
        "    columns=('Total Imóveis', 'Média', 'Mediana', 'Moda', 'Desvio Padrão', 'Coeficiente de Variação'))\n",
        "\n",
        "df_resultados"
      ],
      "metadata": {
        "id": "L7C43eGyhJVX",
        "colab": {
          "base_uri": "https://localhost:8080/",
          "height": 0
        },
        "outputId": "5b434445-ad1c-4096-ebb3-c38e05dd89ad"
      },
      "execution_count": 635,
      "outputs": [
        {
          "output_type": "execute_result",
          "data": {
            "text/plain": [
              "                   Total Imóveis       Média   Mediana  \\\n",
              "Zona Norte                    73   327017.11  275000.0   \n",
              "Zona Sul                      15   382666.67  350000.0   \n",
              "Zona Leste                    10   284101.20  195001.0   \n",
              "Zona Oeste                   128  1127844.13  790000.5   \n",
              "Zona Centro Oeste             42   466321.57  340000.0   \n",
              "Zona Centro-Sul              122   989944.35  565000.0   \n",
              "\n",
              "                                                                Moda  \\\n",
              "Zona Norte                                                [280000.0]   \n",
              "Zona Sul           [65000.0, 150000.0, 190000.0, 230000.0, 260000...   \n",
              "Zona Leste         [120000.0, 150000.0, 162000.0, 180010.0, 19000...   \n",
              "Zona Oeste                          [850000.0, 1500000.0, 1600000.0]   \n",
              "Zona Centro Oeste                                         [550000.0]   \n",
              "Zona Centro-Sul                                           [250000.0]   \n",
              "\n",
              "                  Desvio Padrão Coeficiente de Variação  \n",
              "Zona Norte            259740.58                  79.43%  \n",
              "Zona Sul              220007.03                  57.49%  \n",
              "Zona Leste            243076.22                  85.56%  \n",
              "Zona Oeste           1189769.99                 105.49%  \n",
              "Zona Centro Oeste     399056.16                   0.86%  \n",
              "Zona Centro-Sul      1084979.78                   1.10%  "
            ],
            "text/html": [
              "\n",
              "  <div id=\"df-82ed3544-82c1-494e-9e5f-c2b68298ed5f\">\n",
              "    <div class=\"colab-df-container\">\n",
              "      <div>\n",
              "<style scoped>\n",
              "    .dataframe tbody tr th:only-of-type {\n",
              "        vertical-align: middle;\n",
              "    }\n",
              "\n",
              "    .dataframe tbody tr th {\n",
              "        vertical-align: top;\n",
              "    }\n",
              "\n",
              "    .dataframe thead th {\n",
              "        text-align: right;\n",
              "    }\n",
              "</style>\n",
              "<table border=\"1\" class=\"dataframe\">\n",
              "  <thead>\n",
              "    <tr style=\"text-align: right;\">\n",
              "      <th></th>\n",
              "      <th>Total Imóveis</th>\n",
              "      <th>Média</th>\n",
              "      <th>Mediana</th>\n",
              "      <th>Moda</th>\n",
              "      <th>Desvio Padrão</th>\n",
              "      <th>Coeficiente de Variação</th>\n",
              "    </tr>\n",
              "  </thead>\n",
              "  <tbody>\n",
              "    <tr>\n",
              "      <th>Zona Norte</th>\n",
              "      <td>73</td>\n",
              "      <td>327017.11</td>\n",
              "      <td>275000.0</td>\n",
              "      <td>[280000.0]</td>\n",
              "      <td>259740.58</td>\n",
              "      <td>79.43%</td>\n",
              "    </tr>\n",
              "    <tr>\n",
              "      <th>Zona Sul</th>\n",
              "      <td>15</td>\n",
              "      <td>382666.67</td>\n",
              "      <td>350000.0</td>\n",
              "      <td>[65000.0, 150000.0, 190000.0, 230000.0, 260000...</td>\n",
              "      <td>220007.03</td>\n",
              "      <td>57.49%</td>\n",
              "    </tr>\n",
              "    <tr>\n",
              "      <th>Zona Leste</th>\n",
              "      <td>10</td>\n",
              "      <td>284101.20</td>\n",
              "      <td>195001.0</td>\n",
              "      <td>[120000.0, 150000.0, 162000.0, 180010.0, 19000...</td>\n",
              "      <td>243076.22</td>\n",
              "      <td>85.56%</td>\n",
              "    </tr>\n",
              "    <tr>\n",
              "      <th>Zona Oeste</th>\n",
              "      <td>128</td>\n",
              "      <td>1127844.13</td>\n",
              "      <td>790000.5</td>\n",
              "      <td>[850000.0, 1500000.0, 1600000.0]</td>\n",
              "      <td>1189769.99</td>\n",
              "      <td>105.49%</td>\n",
              "    </tr>\n",
              "    <tr>\n",
              "      <th>Zona Centro Oeste</th>\n",
              "      <td>42</td>\n",
              "      <td>466321.57</td>\n",
              "      <td>340000.0</td>\n",
              "      <td>[550000.0]</td>\n",
              "      <td>399056.16</td>\n",
              "      <td>0.86%</td>\n",
              "    </tr>\n",
              "    <tr>\n",
              "      <th>Zona Centro-Sul</th>\n",
              "      <td>122</td>\n",
              "      <td>989944.35</td>\n",
              "      <td>565000.0</td>\n",
              "      <td>[250000.0]</td>\n",
              "      <td>1084979.78</td>\n",
              "      <td>1.10%</td>\n",
              "    </tr>\n",
              "  </tbody>\n",
              "</table>\n",
              "</div>\n",
              "      <button class=\"colab-df-convert\" onclick=\"convertToInteractive('df-82ed3544-82c1-494e-9e5f-c2b68298ed5f')\"\n",
              "              title=\"Convert this dataframe to an interactive table.\"\n",
              "              style=\"display:none;\">\n",
              "        \n",
              "  <svg xmlns=\"http://www.w3.org/2000/svg\" height=\"24px\"viewBox=\"0 0 24 24\"\n",
              "       width=\"24px\">\n",
              "    <path d=\"M0 0h24v24H0V0z\" fill=\"none\"/>\n",
              "    <path d=\"M18.56 5.44l.94 2.06.94-2.06 2.06-.94-2.06-.94-.94-2.06-.94 2.06-2.06.94zm-11 1L8.5 8.5l.94-2.06 2.06-.94-2.06-.94L8.5 2.5l-.94 2.06-2.06.94zm10 10l.94 2.06.94-2.06 2.06-.94-2.06-.94-.94-2.06-.94 2.06-2.06.94z\"/><path d=\"M17.41 7.96l-1.37-1.37c-.4-.4-.92-.59-1.43-.59-.52 0-1.04.2-1.43.59L10.3 9.45l-7.72 7.72c-.78.78-.78 2.05 0 2.83L4 21.41c.39.39.9.59 1.41.59.51 0 1.02-.2 1.41-.59l7.78-7.78 2.81-2.81c.8-.78.8-2.07 0-2.86zM5.41 20L4 18.59l7.72-7.72 1.47 1.35L5.41 20z\"/>\n",
              "  </svg>\n",
              "      </button>\n",
              "      \n",
              "  <style>\n",
              "    .colab-df-container {\n",
              "      display:flex;\n",
              "      flex-wrap:wrap;\n",
              "      gap: 12px;\n",
              "    }\n",
              "\n",
              "    .colab-df-convert {\n",
              "      background-color: #E8F0FE;\n",
              "      border: none;\n",
              "      border-radius: 50%;\n",
              "      cursor: pointer;\n",
              "      display: none;\n",
              "      fill: #1967D2;\n",
              "      height: 32px;\n",
              "      padding: 0 0 0 0;\n",
              "      width: 32px;\n",
              "    }\n",
              "\n",
              "    .colab-df-convert:hover {\n",
              "      background-color: #E2EBFA;\n",
              "      box-shadow: 0px 1px 2px rgba(60, 64, 67, 0.3), 0px 1px 3px 1px rgba(60, 64, 67, 0.15);\n",
              "      fill: #174EA6;\n",
              "    }\n",
              "\n",
              "    [theme=dark] .colab-df-convert {\n",
              "      background-color: #3B4455;\n",
              "      fill: #D2E3FC;\n",
              "    }\n",
              "\n",
              "    [theme=dark] .colab-df-convert:hover {\n",
              "      background-color: #434B5C;\n",
              "      box-shadow: 0px 1px 3px 1px rgba(0, 0, 0, 0.15);\n",
              "      filter: drop-shadow(0px 1px 2px rgba(0, 0, 0, 0.3));\n",
              "      fill: #FFFFFF;\n",
              "    }\n",
              "  </style>\n",
              "\n",
              "      <script>\n",
              "        const buttonEl =\n",
              "          document.querySelector('#df-82ed3544-82c1-494e-9e5f-c2b68298ed5f button.colab-df-convert');\n",
              "        buttonEl.style.display =\n",
              "          google.colab.kernel.accessAllowed ? 'block' : 'none';\n",
              "\n",
              "        async function convertToInteractive(key) {\n",
              "          const element = document.querySelector('#df-82ed3544-82c1-494e-9e5f-c2b68298ed5f');\n",
              "          const dataTable =\n",
              "            await google.colab.kernel.invokeFunction('convertToInteractive',\n",
              "                                                     [key], {});\n",
              "          if (!dataTable) return;\n",
              "\n",
              "          const docLinkHtml = 'Like what you see? Visit the ' +\n",
              "            '<a target=\"_blank\" href=https://colab.research.google.com/notebooks/data_table.ipynb>data table notebook</a>'\n",
              "            + ' to learn more about interactive tables.';\n",
              "          element.innerHTML = '';\n",
              "          dataTable['output_type'] = 'display_data';\n",
              "          await google.colab.output.renderOutput(dataTable, element);\n",
              "          const docLink = document.createElement('div');\n",
              "          docLink.innerHTML = docLinkHtml;\n",
              "          element.appendChild(docLink);\n",
              "        }\n",
              "      </script>\n",
              "    </div>\n",
              "  </div>\n",
              "  "
            ]
          },
          "metadata": {},
          "execution_count": 635
        }
      ]
    },
    {
      "cell_type": "code",
      "source": [
        "checar_moda(moda_sul, len(df[df[\"zona\"]== \"Sul\"]))\n",
        "checar_moda(moda_leste, len(df[df[\"zona\"] == \"Leste\"]))"
      ],
      "metadata": {
        "colab": {
          "base_uri": "https://localhost:8080/"
        },
        "id": "vqhtnkxQOV-8",
        "outputId": "80289cb4-9e6a-47c7-e2ab-50d44807d91d"
      },
      "execution_count": 636,
      "outputs": [
        {
          "output_type": "stream",
          "name": "stdout",
          "text": [
            "Distribuição amodal\n",
            "Distribuição amodal\n"
          ]
        }
      ]
    },
    {
      "cell_type": "markdown",
      "source": [
        "## Casas"
      ],
      "metadata": {
        "id": "7zcJMJGNhJVY"
      }
    },
    {
      "cell_type": "code",
      "source": [
        "pct = 100\n",
        "df_resultados_casas = pd.DataFrame([\n",
        "    (len(df_casas_norte), f'{media_casas_norte:.2f}', mediana_casas_norte, list(moda_casas_norte), f'{desvio_padrao_casas_norte:.2f}', f'{coeficiente_de_variacao_casas_norte * pct:.2f}%'),\n",
        "    (len(df_casas_sul), f'{media_casas_sul:.2f}', mediana_casas_sul, list(moda_casas_sul), f'{desvio_padrao_casas_sul:.2f}', f'{coeficiente_de_variacao_casas_sul * pct:.2f}%'),\n",
        "    (len(df_casas_sul), f'{media_casas_leste:.2f}', mediana_casas_leste, list(moda_casas_leste), f'{desvio_padrao_casas_leste:.2f}', f'{coeficiente_de_variacao_casas_leste * pct:.2f}%'),\n",
        "    (len(df_casas_oeste), f'{media_casas_oeste:.2f}', mediana_casas_oeste, list(moda_casas_oeste), f'{desvio_padrao_casas_oeste:.2f}', f'{coeficiente_de_variacao_casas_oeste * pct:.2f}%'),\n",
        "    (len(df_casas_co), f'{media_casas_co:.2f}', mediana_casas_co, list(moda_casas_co), f'{desvio_padrao_casas_co:.2f}', f'{coeficiente_de_variacao_casas_co * pct:.2f}%'),\n",
        "    (len(df_casas_cs), f'{media_casas_cs:.2f}', mediana_casas_cs, list(moda_casas_cs), f'{desvio_padrao_casas_cs:.2f}', f'{coeficiente_de_variacao_casas_cs * pct:.2f}%')],\n",
        "    index=('Zona Norte', 'Zona Sul', 'Zona Leste', 'Zona Oeste', 'Zona Centro Oeste', 'Zona Centro-Sul'),\n",
        "    columns=('Total Imóveis', 'Média', 'Mediana', 'Moda', 'Desvio Padrão', 'Coeficiente de Variação'))\n",
        "\n",
        "df_resultados_casas"
      ],
      "metadata": {
        "id": "mBTDVmS1hJVY",
        "colab": {
          "base_uri": "https://localhost:8080/",
          "height": 0
        },
        "outputId": "8c9d4ea6-e974-4510-cf21-532998e713db"
      },
      "execution_count": 637,
      "outputs": [
        {
          "output_type": "execute_result",
          "data": {
            "text/plain": [
              "                   Total Imóveis       Média    Mediana  \\\n",
              "Zona Norte                    62   346165.31   280000.0   \n",
              "Zona Sul                      10   402000.00   405000.0   \n",
              "Zona Leste                    10   348000.00   200000.0   \n",
              "Zona Oeste                    78  1483461.87  1050000.0   \n",
              "Zona Centro Oeste             24   483889.38   340032.5   \n",
              "Zona Centro-Sul               58  1107811.10   542500.0   \n",
              "\n",
              "                                                                Moda  \\\n",
              "Zona Norte                            [180000.0, 250000.0, 280000.0]   \n",
              "Zona Sul           [65000.0, 265000.0, 300000.0, 350000.0, 400000...   \n",
              "Zona Leste         [120000.0, 150000.0, 200000.0, 320000.0, 95000...   \n",
              "Zona Oeste                                                [850000.0]   \n",
              "Zona Centro Oeste                                         [550000.0]   \n",
              "Zona Centro-Sul                                           [250000.0]   \n",
              "\n",
              "                  Desvio Padrão Coeficiente de Variação  \n",
              "Zona Norte            269673.15                  77.90%  \n",
              "Zona Sul              178546.60                  44.41%  \n",
              "Zona Leste            345065.21                  99.16%  \n",
              "Zona Oeste           1353400.57                  91.23%  \n",
              "Zona Centro Oeste     479667.97                  99.13%  \n",
              "Zona Centro-Sul      1254760.05                 113.26%  "
            ],
            "text/html": [
              "\n",
              "  <div id=\"df-ff5601bd-1533-4ed1-9080-da785f1af8b5\">\n",
              "    <div class=\"colab-df-container\">\n",
              "      <div>\n",
              "<style scoped>\n",
              "    .dataframe tbody tr th:only-of-type {\n",
              "        vertical-align: middle;\n",
              "    }\n",
              "\n",
              "    .dataframe tbody tr th {\n",
              "        vertical-align: top;\n",
              "    }\n",
              "\n",
              "    .dataframe thead th {\n",
              "        text-align: right;\n",
              "    }\n",
              "</style>\n",
              "<table border=\"1\" class=\"dataframe\">\n",
              "  <thead>\n",
              "    <tr style=\"text-align: right;\">\n",
              "      <th></th>\n",
              "      <th>Total Imóveis</th>\n",
              "      <th>Média</th>\n",
              "      <th>Mediana</th>\n",
              "      <th>Moda</th>\n",
              "      <th>Desvio Padrão</th>\n",
              "      <th>Coeficiente de Variação</th>\n",
              "    </tr>\n",
              "  </thead>\n",
              "  <tbody>\n",
              "    <tr>\n",
              "      <th>Zona Norte</th>\n",
              "      <td>62</td>\n",
              "      <td>346165.31</td>\n",
              "      <td>280000.0</td>\n",
              "      <td>[180000.0, 250000.0, 280000.0]</td>\n",
              "      <td>269673.15</td>\n",
              "      <td>77.90%</td>\n",
              "    </tr>\n",
              "    <tr>\n",
              "      <th>Zona Sul</th>\n",
              "      <td>10</td>\n",
              "      <td>402000.00</td>\n",
              "      <td>405000.0</td>\n",
              "      <td>[65000.0, 265000.0, 300000.0, 350000.0, 400000...</td>\n",
              "      <td>178546.60</td>\n",
              "      <td>44.41%</td>\n",
              "    </tr>\n",
              "    <tr>\n",
              "      <th>Zona Leste</th>\n",
              "      <td>10</td>\n",
              "      <td>348000.00</td>\n",
              "      <td>200000.0</td>\n",
              "      <td>[120000.0, 150000.0, 200000.0, 320000.0, 95000...</td>\n",
              "      <td>345065.21</td>\n",
              "      <td>99.16%</td>\n",
              "    </tr>\n",
              "    <tr>\n",
              "      <th>Zona Oeste</th>\n",
              "      <td>78</td>\n",
              "      <td>1483461.87</td>\n",
              "      <td>1050000.0</td>\n",
              "      <td>[850000.0]</td>\n",
              "      <td>1353400.57</td>\n",
              "      <td>91.23%</td>\n",
              "    </tr>\n",
              "    <tr>\n",
              "      <th>Zona Centro Oeste</th>\n",
              "      <td>24</td>\n",
              "      <td>483889.38</td>\n",
              "      <td>340032.5</td>\n",
              "      <td>[550000.0]</td>\n",
              "      <td>479667.97</td>\n",
              "      <td>99.13%</td>\n",
              "    </tr>\n",
              "    <tr>\n",
              "      <th>Zona Centro-Sul</th>\n",
              "      <td>58</td>\n",
              "      <td>1107811.10</td>\n",
              "      <td>542500.0</td>\n",
              "      <td>[250000.0]</td>\n",
              "      <td>1254760.05</td>\n",
              "      <td>113.26%</td>\n",
              "    </tr>\n",
              "  </tbody>\n",
              "</table>\n",
              "</div>\n",
              "      <button class=\"colab-df-convert\" onclick=\"convertToInteractive('df-ff5601bd-1533-4ed1-9080-da785f1af8b5')\"\n",
              "              title=\"Convert this dataframe to an interactive table.\"\n",
              "              style=\"display:none;\">\n",
              "        \n",
              "  <svg xmlns=\"http://www.w3.org/2000/svg\" height=\"24px\"viewBox=\"0 0 24 24\"\n",
              "       width=\"24px\">\n",
              "    <path d=\"M0 0h24v24H0V0z\" fill=\"none\"/>\n",
              "    <path d=\"M18.56 5.44l.94 2.06.94-2.06 2.06-.94-2.06-.94-.94-2.06-.94 2.06-2.06.94zm-11 1L8.5 8.5l.94-2.06 2.06-.94-2.06-.94L8.5 2.5l-.94 2.06-2.06.94zm10 10l.94 2.06.94-2.06 2.06-.94-2.06-.94-.94-2.06-.94 2.06-2.06.94z\"/><path d=\"M17.41 7.96l-1.37-1.37c-.4-.4-.92-.59-1.43-.59-.52 0-1.04.2-1.43.59L10.3 9.45l-7.72 7.72c-.78.78-.78 2.05 0 2.83L4 21.41c.39.39.9.59 1.41.59.51 0 1.02-.2 1.41-.59l7.78-7.78 2.81-2.81c.8-.78.8-2.07 0-2.86zM5.41 20L4 18.59l7.72-7.72 1.47 1.35L5.41 20z\"/>\n",
              "  </svg>\n",
              "      </button>\n",
              "      \n",
              "  <style>\n",
              "    .colab-df-container {\n",
              "      display:flex;\n",
              "      flex-wrap:wrap;\n",
              "      gap: 12px;\n",
              "    }\n",
              "\n",
              "    .colab-df-convert {\n",
              "      background-color: #E8F0FE;\n",
              "      border: none;\n",
              "      border-radius: 50%;\n",
              "      cursor: pointer;\n",
              "      display: none;\n",
              "      fill: #1967D2;\n",
              "      height: 32px;\n",
              "      padding: 0 0 0 0;\n",
              "      width: 32px;\n",
              "    }\n",
              "\n",
              "    .colab-df-convert:hover {\n",
              "      background-color: #E2EBFA;\n",
              "      box-shadow: 0px 1px 2px rgba(60, 64, 67, 0.3), 0px 1px 3px 1px rgba(60, 64, 67, 0.15);\n",
              "      fill: #174EA6;\n",
              "    }\n",
              "\n",
              "    [theme=dark] .colab-df-convert {\n",
              "      background-color: #3B4455;\n",
              "      fill: #D2E3FC;\n",
              "    }\n",
              "\n",
              "    [theme=dark] .colab-df-convert:hover {\n",
              "      background-color: #434B5C;\n",
              "      box-shadow: 0px 1px 3px 1px rgba(0, 0, 0, 0.15);\n",
              "      filter: drop-shadow(0px 1px 2px rgba(0, 0, 0, 0.3));\n",
              "      fill: #FFFFFF;\n",
              "    }\n",
              "  </style>\n",
              "\n",
              "      <script>\n",
              "        const buttonEl =\n",
              "          document.querySelector('#df-ff5601bd-1533-4ed1-9080-da785f1af8b5 button.colab-df-convert');\n",
              "        buttonEl.style.display =\n",
              "          google.colab.kernel.accessAllowed ? 'block' : 'none';\n",
              "\n",
              "        async function convertToInteractive(key) {\n",
              "          const element = document.querySelector('#df-ff5601bd-1533-4ed1-9080-da785f1af8b5');\n",
              "          const dataTable =\n",
              "            await google.colab.kernel.invokeFunction('convertToInteractive',\n",
              "                                                     [key], {});\n",
              "          if (!dataTable) return;\n",
              "\n",
              "          const docLinkHtml = 'Like what you see? Visit the ' +\n",
              "            '<a target=\"_blank\" href=https://colab.research.google.com/notebooks/data_table.ipynb>data table notebook</a>'\n",
              "            + ' to learn more about interactive tables.';\n",
              "          element.innerHTML = '';\n",
              "          dataTable['output_type'] = 'display_data';\n",
              "          await google.colab.output.renderOutput(dataTable, element);\n",
              "          const docLink = document.createElement('div');\n",
              "          docLink.innerHTML = docLinkHtml;\n",
              "          element.appendChild(docLink);\n",
              "        }\n",
              "      </script>\n",
              "    </div>\n",
              "  </div>\n",
              "  "
            ]
          },
          "metadata": {},
          "execution_count": 637
        }
      ]
    },
    {
      "cell_type": "code",
      "source": [
        "checar_moda(moda_sul, len(df[df[\"zona\"]== \"Sul\"]))\n",
        "checar_moda(moda_leste, len(df[df[\"zona\"]== \"Leste\"]))"
      ],
      "metadata": {
        "id": "keBqwTyG0LZX",
        "colab": {
          "base_uri": "https://localhost:8080/"
        },
        "outputId": "76668e1c-cdb0-42c3-a2fe-9251d0b4aae4"
      },
      "execution_count": 638,
      "outputs": [
        {
          "output_type": "stream",
          "name": "stdout",
          "text": [
            "Distribuição amodal\n",
            "Distribuição amodal\n"
          ]
        }
      ]
    },
    {
      "cell_type": "markdown",
      "source": [
        "## Apartamentos"
      ],
      "metadata": {
        "id": "qbQuof5NhJVZ"
      }
    },
    {
      "cell_type": "code",
      "source": [
        "pct = 100\n",
        "df_resultados_apartamentos = pd.DataFrame([\n",
        "    (len(df_apartamentos_norte), f'{media_apartamentos_norte:.2f}', mediana_apartamentos_norte, list(moda_apartamentos_norte), f'{desvio_padrao_apartamentos_norte:.2f}', f'{coeficiente_de_variacao_apartamentos_norte * pct:.2f}%'),\n",
        "    (len(df_apartamentos_sul), f'{media_apartamentos_sul:.2f}', mediana_apartamentos_sul, list(moda_apartamentos_sul), f'{desvio_padrao_apartamentos_sul:.2f}', f'{coeficiente_de_variacao_apartamentos_sul * pct:.2f}%'),\n",
        "    (len(df_apartamentos_leste), f'{media_apartamentos_leste:.2f}', mediana_apartamentos_leste, list(moda_apartamentos_leste), f'{desvio_padrao_apartamentos_leste:.2f}', f'{coeficiente_de_variacao_apartamentos_leste * pct:.2f}%'),\n",
        "    (len(df_apartamentos_oeste), f'{media_apartamentos_oeste:.2f}', mediana_apartamentos_oeste, list(moda_apartamentos_oeste), f'{desvio_padrao_apartamentos_oeste:.2f}', f'{coeficiente_de_variacao_apartamentos_oeste * pct:.2f}%'),\n",
        "    (len(df_apartamentos_co), f'{media_apartamentos_co:.2f}', mediana_apartamentos_co, list(moda_apartamentos_oeste), f'{desvio_padrao_apartamentos_co:.2f}', f'{coeficiente_de_variacao_apartamentos_co * pct:.2f}%'),\n",
        "    (len(df_apartamentos_cs), f'{media_apartamentos_cs:.2f}', mediana_apartamentos_cs, list(moda_apartamentos_cs), f'{desvio_padrao_apartamentos_cs:.2f}', f'{coeficiente_de_variacao_apartamentos_cs * pct:.2f}%')],\n",
        "    index=('Zona Norte', 'Zona Sul', 'Zona Leste', 'Zona Oeste', 'Zona Centro Oeste', 'Zona Centro-Sul'),\n",
        "    columns=('Total Imóveis', 'Média', 'Mediana', 'Moda', 'Desvio Padrão', 'Coeficiente de Variação'))\n",
        "\n",
        "df_resultados_apartamentos"
      ],
      "metadata": {
        "id": "Sx1nRzfPhJVZ",
        "colab": {
          "base_uri": "https://localhost:8080/",
          "height": 0
        },
        "outputId": "94f76c57-1b06-45a6-9cf4-866ab563fff2"
      },
      "execution_count": 639,
      "outputs": [
        {
          "output_type": "execute_result",
          "data": {
            "text/plain": [
              "                   Total Imóveis      Média   Mediana  \\\n",
              "Zona Norte                    11  219090.91  160000.0   \n",
              "Zona Sul                       5  344000.00  230000.0   \n",
              "Zona Leste                     5  220202.40  190002.0   \n",
              "Zona Oeste                    50  573080.46  330000.0   \n",
              "Zona Centro Oeste             18  442897.83  336495.0   \n",
              "Zona Centro-Sul               64  883127.61  565000.0   \n",
              "\n",
              "                                                                Moda  \\\n",
              "Zona Norte                             [55000.0, 160000.0, 450000.0]   \n",
              "Zona Sul           [150000.0, 190000.0, 230000.0, 260000.0, 89000...   \n",
              "Zona Leste         [162000.0, 180010.0, 190002.0, 269000.0, 30000...   \n",
              "Zona Oeste                                                [320000.0]   \n",
              "Zona Centro Oeste                                         [320000.0]   \n",
              "Zona Centro-Sul                                 [450000.0, 850000.0]   \n",
              "\n",
              "                  Desvio Padrão Coeficiente de Variação  \n",
              "Zona Norte            164466.08                  75.07%  \n",
              "Zona Sul              308025.97                  89.54%  \n",
              "Zona Leste             60547.24                  27.50%  \n",
              "Zona Oeste            524550.09                  91.53%  \n",
              "Zona Centro Oeste     267881.01                  60.48%  \n",
              "Zona Centro-Sul       901152.87                 102.04%  "
            ],
            "text/html": [
              "\n",
              "  <div id=\"df-22effcec-c1ef-4e4a-bdd2-25cbcdd574c8\">\n",
              "    <div class=\"colab-df-container\">\n",
              "      <div>\n",
              "<style scoped>\n",
              "    .dataframe tbody tr th:only-of-type {\n",
              "        vertical-align: middle;\n",
              "    }\n",
              "\n",
              "    .dataframe tbody tr th {\n",
              "        vertical-align: top;\n",
              "    }\n",
              "\n",
              "    .dataframe thead th {\n",
              "        text-align: right;\n",
              "    }\n",
              "</style>\n",
              "<table border=\"1\" class=\"dataframe\">\n",
              "  <thead>\n",
              "    <tr style=\"text-align: right;\">\n",
              "      <th></th>\n",
              "      <th>Total Imóveis</th>\n",
              "      <th>Média</th>\n",
              "      <th>Mediana</th>\n",
              "      <th>Moda</th>\n",
              "      <th>Desvio Padrão</th>\n",
              "      <th>Coeficiente de Variação</th>\n",
              "    </tr>\n",
              "  </thead>\n",
              "  <tbody>\n",
              "    <tr>\n",
              "      <th>Zona Norte</th>\n",
              "      <td>11</td>\n",
              "      <td>219090.91</td>\n",
              "      <td>160000.0</td>\n",
              "      <td>[55000.0, 160000.0, 450000.0]</td>\n",
              "      <td>164466.08</td>\n",
              "      <td>75.07%</td>\n",
              "    </tr>\n",
              "    <tr>\n",
              "      <th>Zona Sul</th>\n",
              "      <td>5</td>\n",
              "      <td>344000.00</td>\n",
              "      <td>230000.0</td>\n",
              "      <td>[150000.0, 190000.0, 230000.0, 260000.0, 89000...</td>\n",
              "      <td>308025.97</td>\n",
              "      <td>89.54%</td>\n",
              "    </tr>\n",
              "    <tr>\n",
              "      <th>Zona Leste</th>\n",
              "      <td>5</td>\n",
              "      <td>220202.40</td>\n",
              "      <td>190002.0</td>\n",
              "      <td>[162000.0, 180010.0, 190002.0, 269000.0, 30000...</td>\n",
              "      <td>60547.24</td>\n",
              "      <td>27.50%</td>\n",
              "    </tr>\n",
              "    <tr>\n",
              "      <th>Zona Oeste</th>\n",
              "      <td>50</td>\n",
              "      <td>573080.46</td>\n",
              "      <td>330000.0</td>\n",
              "      <td>[320000.0]</td>\n",
              "      <td>524550.09</td>\n",
              "      <td>91.53%</td>\n",
              "    </tr>\n",
              "    <tr>\n",
              "      <th>Zona Centro Oeste</th>\n",
              "      <td>18</td>\n",
              "      <td>442897.83</td>\n",
              "      <td>336495.0</td>\n",
              "      <td>[320000.0]</td>\n",
              "      <td>267881.01</td>\n",
              "      <td>60.48%</td>\n",
              "    </tr>\n",
              "    <tr>\n",
              "      <th>Zona Centro-Sul</th>\n",
              "      <td>64</td>\n",
              "      <td>883127.61</td>\n",
              "      <td>565000.0</td>\n",
              "      <td>[450000.0, 850000.0]</td>\n",
              "      <td>901152.87</td>\n",
              "      <td>102.04%</td>\n",
              "    </tr>\n",
              "  </tbody>\n",
              "</table>\n",
              "</div>\n",
              "      <button class=\"colab-df-convert\" onclick=\"convertToInteractive('df-22effcec-c1ef-4e4a-bdd2-25cbcdd574c8')\"\n",
              "              title=\"Convert this dataframe to an interactive table.\"\n",
              "              style=\"display:none;\">\n",
              "        \n",
              "  <svg xmlns=\"http://www.w3.org/2000/svg\" height=\"24px\"viewBox=\"0 0 24 24\"\n",
              "       width=\"24px\">\n",
              "    <path d=\"M0 0h24v24H0V0z\" fill=\"none\"/>\n",
              "    <path d=\"M18.56 5.44l.94 2.06.94-2.06 2.06-.94-2.06-.94-.94-2.06-.94 2.06-2.06.94zm-11 1L8.5 8.5l.94-2.06 2.06-.94-2.06-.94L8.5 2.5l-.94 2.06-2.06.94zm10 10l.94 2.06.94-2.06 2.06-.94-2.06-.94-.94-2.06-.94 2.06-2.06.94z\"/><path d=\"M17.41 7.96l-1.37-1.37c-.4-.4-.92-.59-1.43-.59-.52 0-1.04.2-1.43.59L10.3 9.45l-7.72 7.72c-.78.78-.78 2.05 0 2.83L4 21.41c.39.39.9.59 1.41.59.51 0 1.02-.2 1.41-.59l7.78-7.78 2.81-2.81c.8-.78.8-2.07 0-2.86zM5.41 20L4 18.59l7.72-7.72 1.47 1.35L5.41 20z\"/>\n",
              "  </svg>\n",
              "      </button>\n",
              "      \n",
              "  <style>\n",
              "    .colab-df-container {\n",
              "      display:flex;\n",
              "      flex-wrap:wrap;\n",
              "      gap: 12px;\n",
              "    }\n",
              "\n",
              "    .colab-df-convert {\n",
              "      background-color: #E8F0FE;\n",
              "      border: none;\n",
              "      border-radius: 50%;\n",
              "      cursor: pointer;\n",
              "      display: none;\n",
              "      fill: #1967D2;\n",
              "      height: 32px;\n",
              "      padding: 0 0 0 0;\n",
              "      width: 32px;\n",
              "    }\n",
              "\n",
              "    .colab-df-convert:hover {\n",
              "      background-color: #E2EBFA;\n",
              "      box-shadow: 0px 1px 2px rgba(60, 64, 67, 0.3), 0px 1px 3px 1px rgba(60, 64, 67, 0.15);\n",
              "      fill: #174EA6;\n",
              "    }\n",
              "\n",
              "    [theme=dark] .colab-df-convert {\n",
              "      background-color: #3B4455;\n",
              "      fill: #D2E3FC;\n",
              "    }\n",
              "\n",
              "    [theme=dark] .colab-df-convert:hover {\n",
              "      background-color: #434B5C;\n",
              "      box-shadow: 0px 1px 3px 1px rgba(0, 0, 0, 0.15);\n",
              "      filter: drop-shadow(0px 1px 2px rgba(0, 0, 0, 0.3));\n",
              "      fill: #FFFFFF;\n",
              "    }\n",
              "  </style>\n",
              "\n",
              "      <script>\n",
              "        const buttonEl =\n",
              "          document.querySelector('#df-22effcec-c1ef-4e4a-bdd2-25cbcdd574c8 button.colab-df-convert');\n",
              "        buttonEl.style.display =\n",
              "          google.colab.kernel.accessAllowed ? 'block' : 'none';\n",
              "\n",
              "        async function convertToInteractive(key) {\n",
              "          const element = document.querySelector('#df-22effcec-c1ef-4e4a-bdd2-25cbcdd574c8');\n",
              "          const dataTable =\n",
              "            await google.colab.kernel.invokeFunction('convertToInteractive',\n",
              "                                                     [key], {});\n",
              "          if (!dataTable) return;\n",
              "\n",
              "          const docLinkHtml = 'Like what you see? Visit the ' +\n",
              "            '<a target=\"_blank\" href=https://colab.research.google.com/notebooks/data_table.ipynb>data table notebook</a>'\n",
              "            + ' to learn more about interactive tables.';\n",
              "          element.innerHTML = '';\n",
              "          dataTable['output_type'] = 'display_data';\n",
              "          await google.colab.output.renderOutput(dataTable, element);\n",
              "          const docLink = document.createElement('div');\n",
              "          docLink.innerHTML = docLinkHtml;\n",
              "          element.appendChild(docLink);\n",
              "        }\n",
              "      </script>\n",
              "    </div>\n",
              "  </div>\n",
              "  "
            ]
          },
          "metadata": {},
          "execution_count": 639
        }
      ]
    },
    {
      "cell_type": "code",
      "source": [
        "checar_moda(moda_sul, len(df[df[\"zona\"]== \"Sul\"]))\n",
        "checar_moda(moda_leste, len(df[df[\"zona\"]== \"Leste\"]))"
      ],
      "metadata": {
        "id": "13o7Npks1sln",
        "colab": {
          "base_uri": "https://localhost:8080/"
        },
        "outputId": "6a87f345-1c8c-4800-af76-e5fb1c6b1ce2"
      },
      "execution_count": 640,
      "outputs": [
        {
          "output_type": "stream",
          "name": "stdout",
          "text": [
            "Distribuição amodal\n",
            "Distribuição amodal\n"
          ]
        }
      ]
    },
    {
      "cell_type": "markdown",
      "source": [
        "# 🟆 Variável: Área (Quantitativa)\n",
        "\n",
        "\n",
        "---\n",
        "\n",
        "\n",
        "\n"
      ],
      "metadata": {
        "id": "jwy6-M0lCqgT"
      }
    },
    {
      "cell_type": "markdown",
      "source": [
        "## Medidas Gerais"
      ],
      "metadata": {
        "id": "hWvKjQeXCqgU"
      }
    },
    {
      "cell_type": "markdown",
      "source": [
        "### *Geral*"
      ],
      "metadata": {
        "id": "U8RiITDnCqgU"
      }
    },
    {
      "cell_type": "code",
      "source": [
        "mediana = df[\"area\"].median()"
      ],
      "metadata": {
        "id": "yiBcYcKKCqgU"
      },
      "execution_count": null,
      "outputs": []
    },
    {
      "cell_type": "code",
      "source": [
        "media = df[\"area\"].mean()"
      ],
      "metadata": {
        "id": "H0u2gJhxCqgU"
      },
      "execution_count": null,
      "outputs": []
    },
    {
      "cell_type": "code",
      "source": [
        "moda = df[\"area\"].mode()"
      ],
      "metadata": {
        "id": "glWUQ7WkCqgU"
      },
      "execution_count": null,
      "outputs": []
    },
    {
      "cell_type": "code",
      "source": [
        "desvio_padrao = df[\"area\"].std()"
      ],
      "metadata": {
        "id": "yw3G9lPMCqgU"
      },
      "execution_count": null,
      "outputs": []
    },
    {
      "cell_type": "code",
      "source": [
        "coeficiente_de_variacao = desvio_padrao/media\n",
        "coeficiente_porcentagem = coeficiente_de_variacao * 100"
      ],
      "metadata": {
        "id": "VRamOBHaCqgU"
      },
      "execution_count": null,
      "outputs": []
    },
    {
      "cell_type": "code",
      "source": [
        "print(f'Média: {media:.2f}')\n",
        "print(f'Mediana: {mediana:.0f}')\n",
        "print(f'Moda: {moda}')\n",
        "print(f'Desvio Padrão: {desvio_padrao:.2f}')\n",
        "print(f'Coeficiente de Variação: {coeficiente_porcentagem:.2f}%')"
      ],
      "metadata": {
        "id": "VmTeuT4FCqgU",
        "colab": {
          "base_uri": "https://localhost:8080/"
        },
        "outputId": "b3fd7f5c-0a32-413e-b8a8-4dbab25da1b7"
      },
      "execution_count": null,
      "outputs": [
        {
          "output_type": "stream",
          "name": "stdout",
          "text": [
            "Média: 198.92\n",
            "Mediana: 131\n",
            "Moda: 0    60.0\n",
            "dtype: float64\n",
            "Desvio Padrão: 233.78\n",
            "Coeficiente de Variação: 117.52%\n"
          ]
        }
      ]
    },
    {
      "cell_type": "markdown",
      "source": [
        "### *Casas*\n"
      ],
      "metadata": {
        "id": "R7lwyOIaCqgU"
      }
    },
    {
      "cell_type": "code",
      "source": [
        "media_casas = df[\"area\"].mean()\n",
        "moda_casas = df[\"area\"].mode()\n",
        "mediana_casas = df[\"area\"].median()\n",
        "desvio_padrao_casas = df[\"area\"].std()\n",
        "coeficiente_de_variacao_casas = desvio_padrao/media"
      ],
      "metadata": {
        "id": "YBChF_EdCqgV"
      },
      "execution_count": null,
      "outputs": []
    },
    {
      "cell_type": "code",
      "source": [
        "print(f'Média: {media_casas:.2f}')\n",
        "print(f'Mediana: {mediana_casas:.0f}')\n",
        "print(f'Moda: {moda_casas}')\n",
        "print(f'Desvio Padrão: {desvio_padrao_casas:.2f}')\n",
        "print(f'Coeficiente de Variação: {coeficiente_de_variacao_casas:.2f}%')"
      ],
      "metadata": {
        "id": "EQgm36kNCqgV",
        "colab": {
          "base_uri": "https://localhost:8080/"
        },
        "outputId": "1ebd37a7-d273-4098-e6f4-38a8d356ed09"
      },
      "execution_count": null,
      "outputs": [
        {
          "output_type": "stream",
          "name": "stdout",
          "text": [
            "Média: 198.92\n",
            "Mediana: 131\n",
            "Moda: 0    60.0\n",
            "dtype: float64\n",
            "Desvio Padrão: 233.78\n",
            "Coeficiente de Variação: 1.18%\n"
          ]
        }
      ]
    },
    {
      "cell_type": "markdown",
      "source": [
        "###*Apartamentos*"
      ],
      "metadata": {
        "id": "ITL9sxs1CqgV"
      }
    },
    {
      "cell_type": "code",
      "source": [
        "media_area = df_apartamentos[\"area\"].mean()\n",
        "moda_area = df_apartamentos[\"area\"].mode()\n",
        "mediana_area = df_apartamentos[\"area\"].median()\n",
        "desvio_padrao_area = df_apartamentos[\"area\"].std()\n",
        "coeficiente_de_variacao_casas = desvio_padrao_area/media_area"
      ],
      "metadata": {
        "id": "Ekg1u2r9CqgV"
      },
      "execution_count": null,
      "outputs": []
    },
    {
      "cell_type": "code",
      "source": [
        "print(f'Média: {media_casas:.2f}')\n",
        "print(f'Mediana: {mediana_casas:.0f}')\n",
        "print(f'Moda: {moda_casas}')\n",
        "print(f'Desvio Padrão: {desvio_padrao_casas:.2f}')\n",
        "print(f'Coeficiente de Variação: {coeficiente_de_variacao_casas * 100:.2f}%')"
      ],
      "metadata": {
        "id": "jh02vjlxCqgV",
        "colab": {
          "base_uri": "https://localhost:8080/"
        },
        "outputId": "34167ba6-528f-46d8-b4d4-81f94c74cb57"
      },
      "execution_count": null,
      "outputs": [
        {
          "output_type": "stream",
          "name": "stdout",
          "text": [
            "Média: 198.92\n",
            "Mediana: 131\n",
            "Moda: 0    60.0\n",
            "dtype: float64\n",
            "Desvio Padrão: 233.78\n",
            "Coeficiente de Variação: 68.32%\n"
          ]
        }
      ]
    },
    {
      "cell_type": "markdown",
      "source": [
        "## Região Norte"
      ],
      "metadata": {
        "id": "XnBeVNWLCqgW"
      }
    },
    {
      "cell_type": "markdown",
      "source": [
        "### *Medidas Gerais*"
      ],
      "metadata": {
        "id": "fa96yIgyCqgW"
      }
    },
    {
      "cell_type": "code",
      "source": [
        "len(df_norte)"
      ],
      "metadata": {
        "id": "kQwW4fq4CqgW",
        "colab": {
          "base_uri": "https://localhost:8080/"
        },
        "outputId": "3a4779c6-5944-4057-d4e5-ebc68726fa3c"
      },
      "execution_count": null,
      "outputs": [
        {
          "output_type": "execute_result",
          "data": {
            "text/plain": [
              "73"
            ]
          },
          "metadata": {},
          "execution_count": 491
        }
      ]
    },
    {
      "cell_type": "code",
      "source": [
        "media_norte = df_norte[\"area\"].mean()"
      ],
      "metadata": {
        "id": "IWFzRUKiCqgW"
      },
      "execution_count": null,
      "outputs": []
    },
    {
      "cell_type": "code",
      "source": [
        "mediana_norte = df_norte[\"area\"].median()"
      ],
      "metadata": {
        "id": "51sIJ8ufCqgW"
      },
      "execution_count": null,
      "outputs": []
    },
    {
      "cell_type": "code",
      "source": [
        "moda_norte = df_norte[\"area\"].mode()"
      ],
      "metadata": {
        "id": "z_i52WrzCqgW"
      },
      "execution_count": null,
      "outputs": []
    },
    {
      "cell_type": "code",
      "source": [
        "desvio_padrao_norte = df_norte[\"area\"].std()"
      ],
      "metadata": {
        "id": "TtHO0-tQCqgW"
      },
      "execution_count": null,
      "outputs": []
    },
    {
      "cell_type": "code",
      "source": [
        "coeficiente_de_variacao_norte = desvio_padrao_norte/media_norte"
      ],
      "metadata": {
        "id": "FmWElF_fCqgW"
      },
      "execution_count": null,
      "outputs": []
    },
    {
      "cell_type": "code",
      "source": [
        "print(\"MEDIDAS GERAIS DA VARIÁVEL 'ÁREA' DA REGIÃO NORTE\")\n",
        "print(f\"Média: {media_norte:.2f}\")\n",
        "print(f\"Mediana: {mediana_norte:.0f}\")\n",
        "print(f\"Moda: {moda_norte}\")\n",
        "print(f\"Desvio Padrão: {desvio_padrao_norte:.2f}\")\n",
        "print(f\"Coeficiente de Variação: {coeficiente_de_variacao_norte * 100:.2f}%\")"
      ],
      "metadata": {
        "id": "XutYkI0LCqgX",
        "colab": {
          "base_uri": "https://localhost:8080/"
        },
        "outputId": "e1a010a3-a142-4c50-ca8f-b4fadf5956df"
      },
      "execution_count": null,
      "outputs": [
        {
          "output_type": "stream",
          "name": "stdout",
          "text": [
            "MEDIDAS GERAIS DA VARIÁVEL 'ÁREA' DA REGIÃO NORTE\n",
            "Média: 188.96\n",
            "Mediana: 104\n",
            "Moda: 0     80.0\n",
            "1    170.0\n",
            "dtype: float64\n",
            "Desvio Padrão: 306.04\n",
            "Coeficiente de Variação: 161.96%\n"
          ]
        }
      ]
    },
    {
      "cell_type": "markdown",
      "source": [
        "###*Casas*"
      ],
      "metadata": {
        "id": "mkf5qOsPCqgX"
      }
    },
    {
      "cell_type": "code",
      "source": [
        "len(df_casas_norte)"
      ],
      "metadata": {
        "id": "T3xdujAyCqgX",
        "colab": {
          "base_uri": "https://localhost:8080/"
        },
        "outputId": "e91c9742-0a71-4784-a239-73703241e627"
      },
      "execution_count": null,
      "outputs": [
        {
          "output_type": "execute_result",
          "data": {
            "text/plain": [
              "62"
            ]
          },
          "metadata": {},
          "execution_count": 498
        }
      ]
    },
    {
      "cell_type": "code",
      "source": [
        "media_casas_norte = df_casas_norte[\"area\"].mean()"
      ],
      "metadata": {
        "id": "4aTTx0TpCqgX"
      },
      "execution_count": null,
      "outputs": []
    },
    {
      "cell_type": "code",
      "source": [
        "mediana_casas_norte = df_casas_norte[\"area\"].median()"
      ],
      "metadata": {
        "id": "1_Neyok_CqgX"
      },
      "execution_count": null,
      "outputs": []
    },
    {
      "cell_type": "code",
      "source": [
        "moda_casas_norte = df_casas_norte[\"area\"].mode()"
      ],
      "metadata": {
        "id": "aY3AFAPtCqgY"
      },
      "execution_count": null,
      "outputs": []
    },
    {
      "cell_type": "code",
      "source": [
        "desvio_padrao_casas_norte = df_casas_norte[\"area\"].std()"
      ],
      "metadata": {
        "id": "4YpBK3DZCqgY"
      },
      "execution_count": null,
      "outputs": []
    },
    {
      "cell_type": "code",
      "source": [
        "coeficiente_de_variacao_casas_norte = desvio_padrao_casas_norte/media_casas_norte"
      ],
      "metadata": {
        "id": "wuWy7X45CqgZ"
      },
      "execution_count": null,
      "outputs": []
    },
    {
      "cell_type": "code",
      "source": [
        "print(\"MEDIDAS DA 'ÁREA' DAS CASAS DA REGIÃO NORTE\")\n",
        "print(f\"Média: {media_casas_norte:.2f}\")\n",
        "printModa(moda_casas_norte)\n",
        "print(f\"Mediana: {mediana_casas_norte:.0f}\")\n",
        "print(f\"Desvio Padrão: {desvio_padrao_casas_norte:.2f}\")\n",
        "print(f\"Coeficiente de Variação: {coeficiente_de_variacao_casas_norte * 100:.2f}%\")"
      ],
      "metadata": {
        "id": "rjBtASueCqgZ",
        "colab": {
          "base_uri": "https://localhost:8080/"
        },
        "outputId": "1de0e1e8-e2d8-4cab-870f-f9b71e5fc3a6"
      },
      "execution_count": null,
      "outputs": [
        {
          "output_type": "stream",
          "name": "stdout",
          "text": [
            "MEDIDAS DA 'ÁREA' DAS CASAS DA REGIÃO NORTE\n",
            "Média: 211.45\n",
            "Moda: \n",
            "80\n",
            "170\n",
            "Mediana: 135\n",
            "Desvio Padrão: 327.23\n",
            "Coeficiente de Variação: 154.75%\n"
          ]
        }
      ]
    },
    {
      "cell_type": "markdown",
      "source": [
        "### *Apartamentos*"
      ],
      "metadata": {
        "id": "Sr6ev-g6CqgZ"
      }
    },
    {
      "cell_type": "code",
      "source": [
        "len(df_apartamentos_norte)"
      ],
      "metadata": {
        "id": "Rz3nZM7gCqga",
        "colab": {
          "base_uri": "https://localhost:8080/"
        },
        "outputId": "3c494b11-c6b3-4563-8bf6-dfad4b85acef"
      },
      "execution_count": null,
      "outputs": [
        {
          "output_type": "execute_result",
          "data": {
            "text/plain": [
              "11"
            ]
          },
          "metadata": {},
          "execution_count": 505
        }
      ]
    },
    {
      "cell_type": "code",
      "source": [
        "media_apartamentos_norte= df_apartamentos_norte[\"area\"].mean()\n",
        "mediana_apartamentos_norte= df_apartamentos_norte[\"area\"].median()\n",
        "moda_apartamentos_norte= df_apartamentos_norte[\"area\"].mode()\n",
        "desvio_padrao_apartamentos_norte= df_apartamentos_norte[\"area\"].std()\n",
        "coeficiente_de_variacao_apartamentos_norte= desvio_padrao_apartamentos_norte/media_apartamentos_norte"
      ],
      "metadata": {
        "id": "m0Yvu6DyCqga"
      },
      "execution_count": null,
      "outputs": []
    },
    {
      "cell_type": "code",
      "source": [
        "print(\"MEDIDAS DA 'ÁREA' DOS APARTAMENTOS DA REGIÃO NORTE\")\n",
        "print(f\"Média: {media_apartamentos_norte:.2f}\")\n",
        "print(f\"Moda: {moda_apartamentos_norte}\")\n",
        "print(f\"Mediana: {mediana_apartamentos_norte:.0f}\")\n",
        "print(f\"Desvio Padrão: {desvio_padrao_casas_norte:.2f}%\")\n",
        "print(f\"Coeficiente de Variação: {coeficiente_de_variacao_casas_norte * 100:.2f}%\")"
      ],
      "metadata": {
        "id": "Dgo5x0uTCqgb",
        "colab": {
          "base_uri": "https://localhost:8080/"
        },
        "outputId": "cb1fed23-3d18-45b6-cbe9-43985506e22a"
      },
      "execution_count": null,
      "outputs": [
        {
          "output_type": "stream",
          "name": "stdout",
          "text": [
            "MEDIDAS DA 'ÁREA' DOS APARTAMENTOS DA REGIÃO NORTE\n",
            "Média: 62.18\n",
            "Moda: 0    42.0\n",
            "1    60.0\n",
            "2    85.0\n",
            "dtype: float64\n",
            "Mediana: 60\n",
            "Desvio Padrão: 327.23%\n",
            "Coeficiente de Variação: 154.75%\n"
          ]
        }
      ]
    },
    {
      "cell_type": "markdown",
      "source": [
        "## Região Sul"
      ],
      "metadata": {
        "id": "Y2eHFhNfCqgb"
      }
    },
    {
      "cell_type": "markdown",
      "source": [
        "### *Medidas Gerais*"
      ],
      "metadata": {
        "id": "NaC4dm-YCqgb"
      }
    },
    {
      "cell_type": "code",
      "source": [
        "len(df_sul)"
      ],
      "metadata": {
        "id": "af7SoxMyCqgb",
        "colab": {
          "base_uri": "https://localhost:8080/"
        },
        "outputId": "24b2c937-df84-4873-ec4d-9200673cdf6d"
      },
      "execution_count": null,
      "outputs": [
        {
          "output_type": "execute_result",
          "data": {
            "text/plain": [
              "15"
            ]
          },
          "metadata": {},
          "execution_count": 508
        }
      ]
    },
    {
      "cell_type": "code",
      "source": [
        "media_sul = df_sul[\"area\"].mean()"
      ],
      "metadata": {
        "id": "dlwOws0ACqgc"
      },
      "execution_count": null,
      "outputs": []
    },
    {
      "cell_type": "code",
      "source": [
        "mediana_sul = df_sul[\"area\"].median()"
      ],
      "metadata": {
        "id": "Ln2IfuWCCqgc"
      },
      "execution_count": null,
      "outputs": []
    },
    {
      "cell_type": "code",
      "source": [
        "moda_sul = df_sul[\"area\"].mode()"
      ],
      "metadata": {
        "id": "JbOHfQYVCqgc"
      },
      "execution_count": null,
      "outputs": []
    },
    {
      "cell_type": "code",
      "source": [
        "desvio_padrao_sul = df_sul[\"area\"].std()"
      ],
      "metadata": {
        "id": "Ol92qDllCqgc"
      },
      "execution_count": null,
      "outputs": []
    },
    {
      "cell_type": "code",
      "source": [
        "coeficiente_de_variacao_sul = desvio_padrao_sul/media_sul"
      ],
      "metadata": {
        "id": "BQrxPg6KCqgc"
      },
      "execution_count": null,
      "outputs": []
    },
    {
      "cell_type": "code",
      "source": [
        "print(\"MEDIDAS DA VARIAVEL 'ÁREA DE IMÓVEIS' DA REGIÃO SUL\")\n",
        "print(f\"Média: {media_sul:.0f}\")\n",
        "print(f\"Moda: {moda_sul}\")\n",
        "print(f\"Mediana: {mediana_sul:.0f}\")\n",
        "print(f\"Desvio Padrão:  {desvio_padrao_sul:.2f}\")\n",
        "print(f\"Coeficiente de variação:  {coeficiente_de_variacao_sul *100:.2f}%\")"
      ],
      "metadata": {
        "id": "_5O4-RC4Cqgd",
        "colab": {
          "base_uri": "https://localhost:8080/"
        },
        "outputId": "044fe39f-6e69-4ff6-f55c-c4425a60b655"
      },
      "execution_count": null,
      "outputs": [
        {
          "output_type": "stream",
          "name": "stdout",
          "text": [
            "MEDIDAS DA VARIAVEL 'ÁREA DE IMÓVEIS' DA REGIÃO SUL\n",
            "Média: 181\n",
            "Moda: 0    300.0\n",
            "dtype: float64\n",
            "Mediana: 170\n",
            "Desvio Padrão:  123.95\n",
            "Coeficiente de variação:  68.31%\n"
          ]
        }
      ]
    },
    {
      "cell_type": "markdown",
      "source": [
        "### *Casas*"
      ],
      "metadata": {
        "id": "qC5NOCKRCqgd"
      }
    },
    {
      "cell_type": "code",
      "source": [
        "len(df_casas_sul)"
      ],
      "metadata": {
        "id": "40UoPSmHCqgd",
        "colab": {
          "base_uri": "https://localhost:8080/"
        },
        "outputId": "25fa85f9-8480-4cb3-daa1-d19cdfc6ef95"
      },
      "execution_count": null,
      "outputs": [
        {
          "output_type": "execute_result",
          "data": {
            "text/plain": [
              "10"
            ]
          },
          "metadata": {},
          "execution_count": 515
        }
      ]
    },
    {
      "cell_type": "code",
      "source": [
        "media_casas_sul = df_casas_sul[\"area\"].mean()\n",
        "moda_casas_sul = df_casas_sul[\"area\"].mode()\n",
        "mediana_casas_sul = df_casas_sul[\"area\"].median()\n",
        "desvio_padrao_casas_sul = df_casas_sul[\"area\"].std()\n",
        "coeficiente_de_variacao_casas_sul = desvio_padrao_casas_sul/media_casas_sul"
      ],
      "metadata": {
        "id": "G9I3R-TrCqgd"
      },
      "execution_count": null,
      "outputs": []
    },
    {
      "cell_type": "code",
      "source": [
        "print(\"MEDIDAS DA VARIAVEL 'ÁREA' DAS CASAS DA REGIÃO SUL\")\n",
        "print(f\"Média: {media_casas_sul:.2f}\")\n",
        "printModa(moda_casas_sul)\n",
        "print(f\"Mediana: {mediana_casas_sul:.0f}\")\n",
        "print(f\"Desvio Padrão:  {desvio_padrao_casas_sul:.2f}\")\n",
        "print(f\"Coeficiente de variação:  {coeficiente_de_variacao_casas_sul *100:.2f}%\")"
      ],
      "metadata": {
        "id": "FXTKMvOhCqge",
        "colab": {
          "base_uri": "https://localhost:8080/"
        },
        "outputId": "a6046369-33c9-4e9e-ae42-c01c47d03234"
      },
      "execution_count": null,
      "outputs": [
        {
          "output_type": "stream",
          "name": "stdout",
          "text": [
            "MEDIDAS DA VARIAVEL 'ÁREA' DAS CASAS DA REGIÃO SUL\n",
            "Média: 213.30\n",
            "Moda: \n",
            "300\n",
            "Mediana: 248\n",
            "Desvio Padrão:  110.73\n",
            "Coeficiente de variação:  51.91%\n"
          ]
        }
      ]
    },
    {
      "cell_type": "markdown",
      "source": [
        "### *Apartamentos*"
      ],
      "metadata": {
        "id": "XjRbQLF0Cqge"
      }
    },
    {
      "cell_type": "code",
      "source": [
        "len(df_apartamentos_sul)"
      ],
      "metadata": {
        "id": "ZbI6iZJUCqge",
        "colab": {
          "base_uri": "https://localhost:8080/"
        },
        "outputId": "010edacd-57d5-4dec-ddc7-94d428bd28eb"
      },
      "execution_count": null,
      "outputs": [
        {
          "output_type": "execute_result",
          "data": {
            "text/plain": [
              "5"
            ]
          },
          "metadata": {},
          "execution_count": 518
        }
      ]
    },
    {
      "cell_type": "code",
      "source": [
        "media_apartamentos_sul = df_apartamentos_sul[\"area\"].mean()\n",
        "moda_apartamentos_sul = df_apartamentos_sul[\"area\"].mode()\n",
        "mediana_apartamentos_sul = df_apartamentos_sul[\"area\"].median()\n",
        "desvio_padrao_apartamentos_sul = df_apartamentos_sul[\"area\"].std()\n",
        "coeficiente_de_variacao_apartamentos_sul = desvio_padrao_apartamentos_sul/media_apartamentos_sul"
      ],
      "metadata": {
        "id": "2fv7RLMYCqgf"
      },
      "execution_count": null,
      "outputs": []
    },
    {
      "cell_type": "code",
      "source": [
        "print(\"MEDIDAS DA VARIAVEL 'ÁREA' DE APARTAMENTOS DA REGIÃO SUL\")\n",
        "print(f\"Média: {media_apartamentos_sul:.2f}\")\n",
        "printModa(moda_apartamentos_sul)\n",
        "print(f\"Mediana: {mediana_apartamentos_sul:.0f}\")\n",
        "print(f\"Desvio Padrão:  {desvio_padrao_apartamentos_sul:.2f}\")\n",
        "print(f\"Coeficiente de variação:  {coeficiente_de_variacao_apartamentos_sul *100:.2f}%\")"
      ],
      "metadata": {
        "id": "5_uQi9yUCqgf",
        "colab": {
          "base_uri": "https://localhost:8080/"
        },
        "outputId": "d83a0519-a73e-4883-d2f6-6dee2c7e4d56"
      },
      "execution_count": null,
      "outputs": [
        {
          "output_type": "stream",
          "name": "stdout",
          "text": [
            "MEDIDAS DA VARIAVEL 'ÁREA' DE APARTAMENTOS DA REGIÃO SUL\n",
            "Média: 117.80\n",
            "Moda: \n",
            "32\n",
            "55\n",
            "70\n",
            "72\n",
            "360\n",
            "Mediana: 70\n",
            "Desvio Padrão:  136.33\n",
            "Coeficiente de variação:  115.73%\n"
          ]
        }
      ]
    },
    {
      "cell_type": "markdown",
      "source": [
        "## Região Leste"
      ],
      "metadata": {
        "id": "B8hC7lUjCqgf"
      }
    },
    {
      "cell_type": "markdown",
      "source": [
        "### *Medidas Gerais*"
      ],
      "metadata": {
        "id": "xkSvTaUGCqgf"
      }
    },
    {
      "cell_type": "code",
      "source": [
        "len(df_leste)"
      ],
      "metadata": {
        "id": "FMwTCZ0mCqgf",
        "colab": {
          "base_uri": "https://localhost:8080/"
        },
        "outputId": "0a4ed8c8-5969-4ce7-d9db-84e0914eb462"
      },
      "execution_count": null,
      "outputs": [
        {
          "output_type": "execute_result",
          "data": {
            "text/plain": [
              "10"
            ]
          },
          "metadata": {},
          "execution_count": 521
        }
      ]
    },
    {
      "cell_type": "code",
      "source": [
        "media_leste = df_leste[\"area\"].mean()\n",
        "moda_leste = df_leste[\"area\"].mode()\n",
        "mediana_leste = df_leste[\"area\"].median()\n",
        "desvio_padrao_leste = df_leste[\"area\"].std()\n",
        "coeficiente_de_variacao_leste = desvio_padrao_leste/media_leste"
      ],
      "metadata": {
        "id": "r29ZRCZCCqgg"
      },
      "execution_count": null,
      "outputs": []
    },
    {
      "cell_type": "code",
      "source": [
        "print(\"MEDIDAS DA VARIAVEL 'ÁREA' DA REGIÃO LESTE\")\n",
        "print(f\"Média: {media_leste:.2f}\")\n",
        "printModa(moda_leste)\n",
        "print(f\"Mediana: {mediana_leste:.0f}\")\n",
        "print(f\"Desvio Padrão:  {desvio_padrao_leste :.2f}\")\n",
        "print(f\"Coeficiente de variação:  {coeficiente_de_variacao_leste *100:.2f}%\")"
      ],
      "metadata": {
        "id": "UojAD1SVCqgg",
        "colab": {
          "base_uri": "https://localhost:8080/"
        },
        "outputId": "0399c1e6-35cf-4a2f-f2e3-56a5e08777d1"
      },
      "execution_count": null,
      "outputs": [
        {
          "output_type": "stream",
          "name": "stdout",
          "text": [
            "MEDIDAS DA VARIAVEL 'ÁREA' DA REGIÃO LESTE\n",
            "Média: 138.30\n",
            "Moda: \n",
            "43\n",
            "44\n",
            "55\n",
            "69\n",
            "70\n",
            "71\n",
            "120\n",
            "204\n",
            "207\n",
            "500\n",
            "Mediana: 70\n",
            "Desvio Padrão:  141.07\n",
            "Coeficiente de variação:  102.00%\n"
          ]
        }
      ]
    },
    {
      "cell_type": "markdown",
      "source": [
        "### *Casas*"
      ],
      "metadata": {
        "id": "QvJJb0_jCqgg"
      }
    },
    {
      "cell_type": "code",
      "source": [
        "len(df_casas_leste)"
      ],
      "metadata": {
        "id": "hdg2k8mHCqgg",
        "colab": {
          "base_uri": "https://localhost:8080/"
        },
        "outputId": "8a760154-60ed-4704-ff82-c46ccd101b0e"
      },
      "execution_count": null,
      "outputs": [
        {
          "output_type": "execute_result",
          "data": {
            "text/plain": [
              "5"
            ]
          },
          "metadata": {},
          "execution_count": 524
        }
      ]
    },
    {
      "cell_type": "code",
      "source": [
        "media_casas_leste = df_casas_leste[\"area\"].mean()\n",
        "moda_casas_leste = df_casas_leste[\"area\"].mode()\n",
        "mediana_casas_leste = df_casas_leste[\"area\"].median()\n",
        "desvio_padrao_casas_leste = df_casas_leste[\"area\"].std()\n",
        "coeficiente_de_variacao_casas_leste = desvio_padrao_casas_leste/media_casas_leste"
      ],
      "metadata": {
        "id": "tUckDPJ7Cqgg"
      },
      "execution_count": null,
      "outputs": []
    },
    {
      "cell_type": "code",
      "source": [
        "print(\"MEDIDAS DA VARIAVEL 'ÁREA' DAS CASAS DA REGIÃO SUL\")\n",
        "print(f\"Média: {media_casas_leste:.1f}\")\n",
        "printModa(moda_casas_leste)\n",
        "print(f\"Mediana: {mediana_casas_leste:.0f}\")\n",
        "print(f\"Desvio Padrão:  {desvio_padrao_casas_leste:.2f}\")\n",
        "print(f\"Coeficiente de variação:  {coeficiente_de_variacao_casas_leste *100:.2f}%\")"
      ],
      "metadata": {
        "id": "fe1qgMtPCqgg",
        "colab": {
          "base_uri": "https://localhost:8080/"
        },
        "outputId": "42a1435a-0ffd-465f-fddf-49282a28eb26"
      },
      "execution_count": null,
      "outputs": [
        {
          "output_type": "stream",
          "name": "stdout",
          "text": [
            "MEDIDAS DA VARIAVEL 'ÁREA' DAS CASAS DA REGIÃO SUL\n",
            "Média: 220.2\n",
            "Moda: \n",
            "70\n",
            "120\n",
            "204\n",
            "207\n",
            "500\n",
            "Mediana: 204\n",
            "Desvio Padrão:  166.83\n",
            "Coeficiente de variação:  75.76%\n"
          ]
        }
      ]
    },
    {
      "cell_type": "markdown",
      "source": [
        "### *Apartamentos*"
      ],
      "metadata": {
        "id": "JgYPD6qwCqgg"
      }
    },
    {
      "cell_type": "code",
      "source": [
        "len(df_apartamentos_leste)"
      ],
      "metadata": {
        "id": "mA02ov2hCqgg",
        "colab": {
          "base_uri": "https://localhost:8080/"
        },
        "outputId": "49e1406a-7659-482b-8608-f025dbf808a0"
      },
      "execution_count": null,
      "outputs": [
        {
          "output_type": "execute_result",
          "data": {
            "text/plain": [
              "5"
            ]
          },
          "metadata": {},
          "execution_count": 527
        }
      ]
    },
    {
      "cell_type": "code",
      "source": [
        "media_apartamentos_leste = df_apartamentos_leste[\"area\"].mean()\n",
        "moda_apartamentos_leste = df_apartamentos_leste[\"area\"].mode()\n",
        "mediana_apartamentos_leste = df_apartamentos_leste[\"area\"].median()\n",
        "desvio_padrao_apartamentos_leste = df_apartamentos_leste[\"area\"].std()\n",
        "coeficiente_de_variacao_apartamentos_leste = desvio_padrao_apartamentos_leste/media_apartamentos_leste"
      ],
      "metadata": {
        "id": "Wj8bJm92Cqgh"
      },
      "execution_count": null,
      "outputs": []
    },
    {
      "cell_type": "code",
      "source": [
        "print(\"MEDIDAS DA VARIAVEL 'ÁREA' DOS APARTAMENTOS DA REGIÃO LESTE\")\n",
        "print(f\"Média: {media_apartamentos_leste:.1f}\")\n",
        "printModa(moda_apartamentos_leste)\n",
        "print(f\"Mediana: {mediana_apartamentos_leste:.0f}\")\n",
        "print(f\"Desvio Padrão:  {desvio_padrao_apartamentos_leste:.2f}\")\n",
        "print(f\"Coeficiente de variação:  {coeficiente_de_variacao_apartamentos_leste *100:.2f}%\")"
      ],
      "metadata": {
        "id": "o0t7YfrmCqgh",
        "colab": {
          "base_uri": "https://localhost:8080/"
        },
        "outputId": "c93f81d8-3da1-4735-d078-31043e4ed8c2"
      },
      "execution_count": null,
      "outputs": [
        {
          "output_type": "stream",
          "name": "stdout",
          "text": [
            "MEDIDAS DA VARIAVEL 'ÁREA' DOS APARTAMENTOS DA REGIÃO LESTE\n",
            "Média: 56.4\n",
            "Moda: \n",
            "43\n",
            "44\n",
            "55\n",
            "69\n",
            "71\n",
            "Mediana: 55\n",
            "Desvio Padrão:  13.30\n",
            "Coeficiente de variação:  23.58%\n"
          ]
        }
      ]
    },
    {
      "cell_type": "markdown",
      "source": [
        "## Região Oeste"
      ],
      "metadata": {
        "id": "fV7U-tWoCqgh"
      }
    },
    {
      "cell_type": "markdown",
      "source": [
        "### *Medidas Gerais*"
      ],
      "metadata": {
        "id": "QCqCv5S_Cqgh"
      }
    },
    {
      "cell_type": "code",
      "source": [
        "len(df_oeste)"
      ],
      "metadata": {
        "id": "r9nB8M7JCqgh",
        "colab": {
          "base_uri": "https://localhost:8080/"
        },
        "outputId": "54d38f74-e4bf-45c8-d155-ef562c10bf32"
      },
      "execution_count": null,
      "outputs": [
        {
          "output_type": "execute_result",
          "data": {
            "text/plain": [
              "128"
            ]
          },
          "metadata": {},
          "execution_count": 530
        }
      ]
    },
    {
      "cell_type": "code",
      "source": [
        "media_oeste = df_oeste[\"area\"].mean()\n",
        "moda_oeste = df_oeste[\"area\"].mode()\n",
        "mediana_oeste = df_oeste[\"area\"].median()\n",
        "desvio_padrao_oeste = df_oeste[\"area\"].std()\n",
        "coeficiente_de_variacao_oeste = desvio_padrao_oeste/media_oeste"
      ],
      "metadata": {
        "id": "j0IbfLqLCqgh"
      },
      "execution_count": null,
      "outputs": []
    },
    {
      "cell_type": "code",
      "source": [
        "print(\"MEDIDAS DA VARIAVEL 'ÁREA' DA REGIÃO OESTE\")\n",
        "print(f\"Média: {media_oeste:.1f}\")\n",
        "printModa(moda_oeste)\n",
        "print(f\"Mediana: {mediana_oeste:.0f}\")\n",
        "print(f\"Desvio Padrão:  {desvio_padrao_oeste :.2f}\")\n",
        "print(f\"Coeficiente de variação:  {coeficiente_de_variacao_oeste *100:.2f}%\")"
      ],
      "metadata": {
        "id": "SqUfLi55Cqgh",
        "colab": {
          "base_uri": "https://localhost:8080/"
        },
        "outputId": "52640057-736e-4cd3-c5c1-3fbf15d22199"
      },
      "execution_count": null,
      "outputs": [
        {
          "output_type": "stream",
          "name": "stdout",
          "text": [
            "MEDIDAS DA VARIAVEL 'ÁREA' DA REGIÃO OESTE\n",
            "Média: 243.6\n",
            "Moda: \n",
            "88\n",
            "Mediana: 153\n",
            "Desvio Padrão:  289.09\n",
            "Coeficiente de variação:  118.67%\n"
          ]
        }
      ]
    },
    {
      "cell_type": "markdown",
      "source": [
        "### *Casas*"
      ],
      "metadata": {
        "id": "pxAshdC8Cqgh"
      }
    },
    {
      "cell_type": "code",
      "source": [
        "len(df_casas_oeste)"
      ],
      "metadata": {
        "id": "AmK6DHVSCqgh",
        "colab": {
          "base_uri": "https://localhost:8080/"
        },
        "outputId": "cd8252d8-c52a-41df-caa9-8b640b75ca96"
      },
      "execution_count": null,
      "outputs": [
        {
          "output_type": "execute_result",
          "data": {
            "text/plain": [
              "78"
            ]
          },
          "metadata": {},
          "execution_count": 533
        }
      ]
    },
    {
      "cell_type": "code",
      "source": [
        "media_casas_oeste = df_casas_oeste[\"area\"].mean()\n",
        "moda_casas_oeste = df_casas_oeste[\"area\"].mode()\n",
        "mediana_casas_oeste = df_casas_oeste[\"area\"].median()\n",
        "desvio_padrao_casas_oeste = df_casas_oeste[\"area\"].std()\n",
        "coeficiente_de_variacao_casas_oeste = desvio_padrao_casas_oeste/media_casas_oeste"
      ],
      "metadata": {
        "id": "9WYA1bwnCqgh"
      },
      "execution_count": null,
      "outputs": []
    },
    {
      "cell_type": "code",
      "source": [
        "print(\"MEDIDAS DA VARIAVEL 'ÁREA' DAS CASAS DA REGIÃO OESTE\")\n",
        "print(f\"Média: {media_casas_oeste:.1f}\")\n",
        "printModa(moda_casas_oeste)\n",
        "print(f\"Mediana: {mediana_casas_oeste:.0f}\")\n",
        "print(f\"Desvio Padrão:  {desvio_padrao_casas_oeste:.2f}\")\n",
        "print(f\"Coeficiente de variação:  {coeficiente_de_variacao_casas_oeste *100:.2f}%\")"
      ],
      "metadata": {
        "id": "tVS0z4AqCqgi",
        "colab": {
          "base_uri": "https://localhost:8080/"
        },
        "outputId": "8abceed5-5859-4918-96a7-1fa30496a6f0"
      },
      "execution_count": null,
      "outputs": [
        {
          "output_type": "stream",
          "name": "stdout",
          "text": [
            "MEDIDAS DA VARIAVEL 'ÁREA' DAS CASAS DA REGIÃO OESTE\n",
            "Média: 341.5\n",
            "Moda: \n",
            "170\n",
            "Mediana: 248\n",
            "Desvio Padrão:  334.13\n",
            "Coeficiente de variação:  97.85%\n"
          ]
        }
      ]
    },
    {
      "cell_type": "markdown",
      "source": [
        "### *Apartamentos*"
      ],
      "metadata": {
        "id": "B-Wf5AvyCqgi"
      }
    },
    {
      "cell_type": "code",
      "source": [
        "len(df_apartamentos_oeste)"
      ],
      "metadata": {
        "id": "liuaMiaqCqgi",
        "colab": {
          "base_uri": "https://localhost:8080/"
        },
        "outputId": "a8e7d734-2595-4adb-8da0-011e2130d0ac"
      },
      "execution_count": null,
      "outputs": [
        {
          "output_type": "execute_result",
          "data": {
            "text/plain": [
              "50"
            ]
          },
          "metadata": {},
          "execution_count": 536
        }
      ]
    },
    {
      "cell_type": "code",
      "source": [
        "media_apartamentos_oeste = df_apartamentos_oeste[\"area\"].mean()\n",
        "moda_apartamentos_oeste = df_apartamentos_oeste[\"area\"].mode()\n",
        "mediana_apartamentos_oeste = df_apartamentos_oeste[\"area\"].median()\n",
        "desvio_padrao_apartamentos_oeste = df_apartamentos_oeste[\"area\"].std()\n",
        "coeficiente_de_variacao_apartamentos_oeste = desvio_padrao_apartamentos_oeste/media_apartamentos_oeste"
      ],
      "metadata": {
        "id": "1ubYg-ZqCqgi"
      },
      "execution_count": null,
      "outputs": []
    },
    {
      "cell_type": "code",
      "source": [
        "print(\"MEDIDAS DA VARIAVEL 'ÁREA' DOS APARTAMENTOS DA REGIÃO OESTE\")\n",
        "print(f\"Média: {media_apartamentos_oeste:.2f}\")\n",
        "printModa(moda_apartamentos_oeste)\n",
        "print(f\"Mediana: {mediana_apartamentos_oeste:.0f}\")\n",
        "print(f\"Desvio Padrão:  {desvio_padrao_apartamentos_oeste:.2f}\")\n",
        "print(f\"Coeficiente de variação:  {coeficiente_de_variacao_apartamentos_oeste *100:.2f}%\")"
      ],
      "metadata": {
        "id": "RVvTp4qeCqgi",
        "colab": {
          "base_uri": "https://localhost:8080/"
        },
        "outputId": "90aa044c-0d94-467e-d904-b20bc8e93590"
      },
      "execution_count": null,
      "outputs": [
        {
          "output_type": "stream",
          "name": "stdout",
          "text": [
            "MEDIDAS DA VARIAVEL 'ÁREA' DOS APARTAMENTOS DA REGIÃO OESTE\n",
            "Média: 90.94\n",
            "Moda: \n",
            "88\n",
            "169\n",
            "Mediana: 80\n",
            "Desvio Padrão:  46.24\n",
            "Coeficiente de variação:  50.85%\n"
          ]
        }
      ]
    },
    {
      "cell_type": "markdown",
      "source": [
        "## Região Centro-Oeste"
      ],
      "metadata": {
        "id": "jssp_UKPCqgi"
      }
    },
    {
      "cell_type": "markdown",
      "source": [
        "### *Medidas Gerais*"
      ],
      "metadata": {
        "id": "TTMuZPJsCqgi"
      }
    },
    {
      "cell_type": "code",
      "source": [
        "len(df_co)"
      ],
      "metadata": {
        "id": "kXs5GGapCqgi",
        "colab": {
          "base_uri": "https://localhost:8080/"
        },
        "outputId": "05ab67da-a221-4d39-9143-438c10d43939"
      },
      "execution_count": null,
      "outputs": [
        {
          "output_type": "execute_result",
          "data": {
            "text/plain": [
              "42"
            ]
          },
          "metadata": {},
          "execution_count": 539
        }
      ]
    },
    {
      "cell_type": "code",
      "source": [
        "media_co = df_co[\"area\"].mean()\n",
        "moda_co = df_co[\"area\"].mode()\n",
        "mediana_co = df_co[\"area\"].median()\n",
        "desvio_padrao_co = df_co[\"area\"].std()\n",
        "coeficiente_de_variacao_co = desvio_padrao_co/media_co"
      ],
      "metadata": {
        "id": "vSj_L-uiCqgi"
      },
      "execution_count": null,
      "outputs": []
    },
    {
      "cell_type": "code",
      "source": [
        "print(\"MEDIDAS DA VARIAVEL 'ÁREA' DA REGIÃO CENTRO-OESTE\")\n",
        "print(f\"Média: {media_co:.1f}\")\n",
        "printModa(moda_co)\n",
        "print(f\"Mediana: {mediana_co:.0f}\")\n",
        "print(f\"Desvio Padrão:  {desvio_padrao_co:.2f}%\")\n",
        "print(f\"Coeficiente de variação:  {coeficiente_de_variacao_co *100:.2f}%\")"
      ],
      "metadata": {
        "id": "OHZabAlOCqgi",
        "colab": {
          "base_uri": "https://localhost:8080/"
        },
        "outputId": "fe495044-c6e8-42a4-f15d-a553840ba006"
      },
      "execution_count": null,
      "outputs": [
        {
          "output_type": "stream",
          "name": "stdout",
          "text": [
            "MEDIDAS DA VARIAVEL 'ÁREA' DA REGIÃO CENTRO-OESTE\n",
            "Média: 174.9\n",
            "Moda: \n",
            "300\n",
            "Mediana: 121\n",
            "Desvio Padrão:  146.83%\n",
            "Coeficiente de variação:  83.96%\n"
          ]
        }
      ]
    },
    {
      "cell_type": "markdown",
      "source": [
        "### *Casas*"
      ],
      "metadata": {
        "id": "qFrfkTBuCqgj"
      }
    },
    {
      "cell_type": "code",
      "source": [
        "len(df_casas_co)"
      ],
      "metadata": {
        "id": "vHrgPBkFCqgj",
        "colab": {
          "base_uri": "https://localhost:8080/"
        },
        "outputId": "76b1ef30-f8dc-4436-8630-39e1ff2484e6"
      },
      "execution_count": null,
      "outputs": [
        {
          "output_type": "execute_result",
          "data": {
            "text/plain": [
              "24"
            ]
          },
          "metadata": {},
          "execution_count": 542
        }
      ]
    },
    {
      "cell_type": "code",
      "source": [
        "media_casas_co = df_casas_co[\"area\"].mean()\n",
        "moda_casas_co = df_casas_co[\"area\"].mode()\n",
        "mediana_casas_co = df_casas_co[\"area\"].median()\n",
        "desvio_padrao_casas_co = df_casas_co[\"area\"].std()\n",
        "coeficiente_de_variacao_casas_co = desvio_padrao_casas_co/media_casas_co"
      ],
      "metadata": {
        "id": "jugzduI8Cqgj"
      },
      "execution_count": null,
      "outputs": []
    },
    {
      "cell_type": "code",
      "source": [
        "print(\"MEDIDAS DA VARIAVEL 'ÁREA' DAS CASAS DA REGIÃO CENTRO-OESTE\")\n",
        "print(f\"Média: {media_casas_co:.1f}\")\n",
        "printModa(moda_casas_co)\n",
        "print(f\"Mediana: {mediana_casas_co:.0f}\")\n",
        "print(f\"Desvio Padrão:  {desvio_padrao_casas_co :.2f}\")\n",
        "print(f\"Coeficiente de variação:  {coeficiente_de_variacao_casas_co *100:.2f}%\")"
      ],
      "metadata": {
        "id": "bwX5uKBYCqgj",
        "colab": {
          "base_uri": "https://localhost:8080/"
        },
        "outputId": "77710027-3231-48fc-f57c-81ec92c86614"
      },
      "execution_count": null,
      "outputs": [
        {
          "output_type": "stream",
          "name": "stdout",
          "text": [
            "MEDIDAS DA VARIAVEL 'ÁREA' DAS CASAS DA REGIÃO CENTRO-OESTE\n",
            "Média: 249.6\n",
            "Moda: \n",
            "300\n",
            "Mediana: 200\n",
            "Desvio Padrão:  154.36\n",
            "Coeficiente de variação:  61.84%\n"
          ]
        }
      ]
    },
    {
      "cell_type": "markdown",
      "source": [
        "### *Apartamentos*"
      ],
      "metadata": {
        "id": "RVU_be7GCqgj"
      }
    },
    {
      "cell_type": "code",
      "source": [
        "len(df_apartamentos_co)"
      ],
      "metadata": {
        "id": "9v9eY9uDCqgl",
        "colab": {
          "base_uri": "https://localhost:8080/"
        },
        "outputId": "d37b8de4-9c90-4ce1-a1aa-679abd2e28b2"
      },
      "execution_count": null,
      "outputs": [
        {
          "output_type": "execute_result",
          "data": {
            "text/plain": [
              "18"
            ]
          },
          "metadata": {},
          "execution_count": 545
        }
      ]
    },
    {
      "cell_type": "code",
      "source": [
        "media_apartamentos_co = df_apartamentos_co[\"area\"].mean()\n",
        "moda_apartamentos_co = df_apartamentos_co[\"area\"].mode()\n",
        "mediana_apartamentos_co = df_apartamentos_co[\"area\"].median()\n",
        "desvio_padrao_apartamentos_co = df_apartamentos_co[\"area\"].std()\n",
        "coeficiente_de_variacao_apartamentos_co = desvio_padrao_apartamentos_co/media_apartamentos_co"
      ],
      "metadata": {
        "id": "DB57nYk_Cqgl"
      },
      "execution_count": null,
      "outputs": []
    },
    {
      "cell_type": "code",
      "source": [
        "print(\"MEDIDAS DA VARIAVEL 'ÁREA' DOS APARTAMENTOS DA REGIÃO CENTRO-OESTE\")\n",
        "print(f\"Média: {media_apartamentos_co:.2f}\")\n",
        "printModa(moda_apartamentos_co)\n",
        "print(f\"Mediana: {mediana_apartamentos_co:.0f}\")\n",
        "print(f\"Desvio Padrão:  {desvio_padrao_apartamentos_co:.2f}\")\n",
        "print(f\"Coeficiente de variação:  {coeficiente_de_variacao_apartamentos_co *100:.2f}%\")"
      ],
      "metadata": {
        "id": "9eyDDXoXCqgl",
        "colab": {
          "base_uri": "https://localhost:8080/"
        },
        "outputId": "c7bd9ffe-cf3b-4021-c4fd-d7c83f389c59"
      },
      "execution_count": null,
      "outputs": [
        {
          "output_type": "stream",
          "name": "stdout",
          "text": [
            "MEDIDAS DA VARIAVEL 'ÁREA' DOS APARTAMENTOS DA REGIÃO CENTRO-OESTE\n",
            "Média: 75.22\n",
            "Moda: \n",
            "38\n",
            "43\n",
            "56\n",
            "Mediana: 60\n",
            "Desvio Padrão:  36.78\n",
            "Coeficiente de variação:  48.89%\n"
          ]
        }
      ]
    },
    {
      "cell_type": "markdown",
      "source": [
        "## Região Centro-Sul"
      ],
      "metadata": {
        "id": "kqml_B4aCqgl"
      }
    },
    {
      "cell_type": "markdown",
      "source": [
        "### *Medidas Gerais*"
      ],
      "metadata": {
        "id": "CienwV_wCqgl"
      }
    },
    {
      "cell_type": "code",
      "source": [
        "len(df_cs)"
      ],
      "metadata": {
        "id": "ypRfwktnCqgl",
        "colab": {
          "base_uri": "https://localhost:8080/"
        },
        "outputId": "3f7faf7f-37ac-411b-ab29-b001317b1870"
      },
      "execution_count": null,
      "outputs": [
        {
          "output_type": "execute_result",
          "data": {
            "text/plain": [
              "122"
            ]
          },
          "metadata": {},
          "execution_count": 548
        }
      ]
    },
    {
      "cell_type": "code",
      "source": [
        "media_cs = df_cs[\"area\"].mean()\n",
        "moda_cs = df_cs[\"area\"].mode()\n",
        "mediana_cs = df_cs[\"area\"].median()\n",
        "desvio_padrao_cs = df_cs[\"area\"].std()\n",
        "coeficiente_de_variacao_cs = desvio_padrao_cs/media_cs"
      ],
      "metadata": {
        "id": "NKyd1KugCqgl"
      },
      "execution_count": null,
      "outputs": []
    },
    {
      "cell_type": "code",
      "source": [
        "print(\"MEDIDAS DA VARIAVEL 'ÁREA' DA REGIÃO CENTRO-SUL\")\n",
        "print(f\"Média: {media_cs:.2f}\")\n",
        "printModa(moda_cs)\n",
        "print(f\"Mediana: {mediana_cs:.0f}\")\n",
        "print(f\"Desvio Padrão:  {desvio_padrao_cs:.2f}\")\n",
        "print(f\"Coeficiente de variação:  {coeficiente_de_variacao_cs *100:.2f}%\")"
      ],
      "metadata": {
        "id": "CF2i2729Cqgl",
        "colab": {
          "base_uri": "https://localhost:8080/"
        },
        "outputId": "aa6b6dd9-eb6e-4ad8-ae54-8608774e4ebf"
      },
      "execution_count": null,
      "outputs": [
        {
          "output_type": "stream",
          "name": "stdout",
          "text": [
            "MEDIDAS DA VARIAVEL 'ÁREA' DA REGIÃO CENTRO-SUL\n",
            "Média: 173.40\n",
            "Moda: \n",
            "60\n",
            "Mediana: 128\n",
            "Desvio Padrão:  135.33\n",
            "Coeficiente de variação:  78.05%\n"
          ]
        }
      ]
    },
    {
      "cell_type": "markdown",
      "source": [
        "### *Casas*"
      ],
      "metadata": {
        "id": "3ZkZzvjzCqgm"
      }
    },
    {
      "cell_type": "code",
      "source": [
        "len(df_casas_cs)"
      ],
      "metadata": {
        "id": "20BSoR3TCqgm",
        "colab": {
          "base_uri": "https://localhost:8080/"
        },
        "outputId": "51aa65dc-0986-442d-b5d6-393d97ae3ea3"
      },
      "execution_count": null,
      "outputs": [
        {
          "output_type": "execute_result",
          "data": {
            "text/plain": [
              "58"
            ]
          },
          "metadata": {},
          "execution_count": 551
        }
      ]
    },
    {
      "cell_type": "code",
      "source": [
        "media_casas_cs = df_casas_cs[\"area\"].mean()\n",
        "moda_casas_cs = df_casas_cs[\"area\"].mode()\n",
        "mediana_casas_cs = df_casas_cs[\"area\"].median()\n",
        "desvio_padrao_casas_cs = df_casas_cs[\"area\"].std()\n",
        "coeficiente_de_variacao_casas_cs = desvio_padrao_casas_cs/media_casas_cs\n",
        "variancia = df_casas_cs[\"area\"].var()\n"
      ],
      "metadata": {
        "id": "bvA8JGMcCqgm"
      },
      "execution_count": null,
      "outputs": []
    },
    {
      "cell_type": "code",
      "source": [
        "print(\"MEDIDAS DA VARIAVEL 'ÁREA' DAS CASAS DA REGIÃO CENTRO-SUL\")\n",
        "print(f\"Média: {media_casas_cs:.2f}\")\n",
        "printModa(moda_casas_cs)\n",
        "print(f\"Mediana: {mediana_casas_cs:.0f}\")\n",
        "print(f\"Desvio Padrão:  {desvio_padrao_casas_cs:.2f}%\")\n",
        "print(f\"Coeficiente de variação:  {coeficiente_de_variacao_casas_cs *100:.2f}%\")"
      ],
      "metadata": {
        "id": "FrAiksUjCqgm",
        "colab": {
          "base_uri": "https://localhost:8080/"
        },
        "outputId": "098a6eeb-6c34-4d44-d5d2-c4f0bb46702c"
      },
      "execution_count": null,
      "outputs": [
        {
          "output_type": "stream",
          "name": "stdout",
          "text": [
            "MEDIDAS DA VARIAVEL 'ÁREA' DAS CASAS DA REGIÃO CENTRO-SUL\n",
            "Média: 218.47\n",
            "Moda: \n",
            "70\n",
            "Mediana: 161\n",
            "Desvio Padrão:  164.13%\n",
            "Coeficiente de variação:  75.13%\n"
          ]
        }
      ]
    },
    {
      "cell_type": "markdown",
      "source": [
        "### *Apartamentos*"
      ],
      "metadata": {
        "id": "dj25N_xWCqgm"
      }
    },
    {
      "cell_type": "code",
      "source": [
        "len(df_apartamentos_cs)"
      ],
      "metadata": {
        "id": "2G4SmS0uCqgm",
        "colab": {
          "base_uri": "https://localhost:8080/"
        },
        "outputId": "e8adc411-1913-47d9-9e65-49bbff50bc66"
      },
      "execution_count": null,
      "outputs": [
        {
          "output_type": "execute_result",
          "data": {
            "text/plain": [
              "64"
            ]
          },
          "metadata": {},
          "execution_count": 554
        }
      ]
    },
    {
      "cell_type": "code",
      "source": [
        "media_apartamentos_cs = df_apartamentos_cs[\"area\"].mean()\n",
        "moda_apartamentos_cs = df_apartamentos_cs[\"area\"].mode()\n",
        "mediana_apartamentos_cs = df_apartamentos_cs[\"area\"].median()\n",
        "desvio_padrao_apartamentos_cs = df_apartamentos_cs[\"area\"].std()\n",
        "coeficiente_de_variacao_apartamentos_cs = desvio_padrao_apartamentos_cs/media_apartamentos_cs"
      ],
      "metadata": {
        "id": "pIPAMa9nCqgm"
      },
      "execution_count": null,
      "outputs": []
    },
    {
      "cell_type": "code",
      "source": [
        "print(\"MEDIDAS DA VARIAVEL 'ÁREA' DOS APARTAMENTOS DA REGIÃO CENTRO-OESTE\")\n",
        "print(f\"Média: {media_apartamentos_cs:.2f}\")\n",
        "printModa(moda_apartamentos_cs)\n",
        "print(f\"Mediana: {mediana_apartamentos_cs:.0f}\")\n",
        "print(f\"Desvio Padrão:  {desvio_padrao_apartamentos_cs:.2f}\")\n",
        "print(f\"Coeficiente de variação:  {coeficiente_de_variacao_apartamentos_cs *100:.2f}%\")"
      ],
      "metadata": {
        "id": "7Q-vMJAACqgm",
        "colab": {
          "base_uri": "https://localhost:8080/"
        },
        "outputId": "251a5c1a-a581-4c31-9f7d-0725154b9f41"
      },
      "execution_count": null,
      "outputs": [
        {
          "output_type": "stream",
          "name": "stdout",
          "text": [
            "MEDIDAS DA VARIAVEL 'ÁREA' DOS APARTAMENTOS DA REGIÃO CENTRO-OESTE\n",
            "Média: 132.56\n",
            "Moda: \n",
            "60\n",
            "96\n",
            "Mediana: 114\n",
            "Desvio Padrão:  85.09\n",
            "Coeficiente de variação:  64.19%\n"
          ]
        }
      ]
    },
    {
      "cell_type": "markdown",
      "source": [
        "# → ***Resultados: Área (Quantitativa)***\n",
        "\n",
        "\n",
        "---\n",
        "\n"
      ],
      "metadata": {
        "id": "n1N_K8QYDUhG"
      }
    },
    {
      "cell_type": "markdown",
      "source": [
        "## Dados Gerais"
      ],
      "metadata": {
        "id": "T7btpijGDUhG"
      }
    },
    {
      "cell_type": "code",
      "source": [
        "df_resultados = pd.DataFrame([\n",
        "    (len(df_norte), f'{media_norte:.2f}', mediana_norte, list(moda_norte), f'{desvio_padrao_norte:.2f}', f'{coeficiente_de_variacao_norte * 100:.2f}%'),\n",
        "    (len(df_sul), f'{media_sul:.2f}', mediana_sul, list(moda_sul), f'{desvio_padrao_sul:.2f}', f'{coeficiente_de_variacao_sul * 100:.2f}%'),\n",
        "    (len(df_leste), f'{media_leste:.2f}', mediana_leste, list(moda_leste), f'{desvio_padrao_leste:.2f}', f'{coeficiente_de_variacao_leste * 100:.2f}%'),\n",
        "    (len(df_oeste), f'{media_oeste:.2f}', mediana_oeste, list(moda_oeste), f'{desvio_padrao_oeste:.2f}', f'{coeficiente_de_variacao_oeste * 100:.2f}%'),\n",
        "    (len(df_co), f'{media_co:.2f}', mediana_co, list(moda_co), f'{desvio_padrao_co:.2f}', f'{coeficiente_de_variacao_co * 100:.2f}%'),\n",
        "    (len(df_cs), f'{media_cs:.2f}', mediana_cs, list(moda_cs), f'{desvio_padrao_cs:.2f}', f'{coeficiente_de_variacao_cs * 100:.2f}%')],\n",
        "    index=('Zona Norte', 'Zona Sul', 'Zona Leste', 'Zona Oeste', 'Zona Centro Oeste', 'Zona Centro-Sul'),\n",
        "    columns=('Total Imóveis', 'Média', 'Mediana', 'Moda', 'Desvio Padrão', 'Coeficiente de Variação'))\n",
        "\n",
        "df_resultados"
      ],
      "metadata": {
        "id": "C5J1xTQaDUhG",
        "colab": {
          "base_uri": "https://localhost:8080/",
          "height": 237
        },
        "outputId": "f1e2288c-d648-4284-a00f-b70b582ea74c"
      },
      "execution_count": null,
      "outputs": [
        {
          "output_type": "execute_result",
          "data": {
            "text/plain": [
              "                   Total Imóveis   Média  Mediana  \\\n",
              "Zona Norte                    73  188.96    104.0   \n",
              "Zona Sul                      15  181.47    170.0   \n",
              "Zona Leste                    10  138.30     70.5   \n",
              "Zona Oeste                   128  243.60    153.0   \n",
              "Zona Centro Oeste             42  174.88    121.0   \n",
              "Zona Centro-Sul              122  173.40    128.0   \n",
              "\n",
              "                                                                Moda  \\\n",
              "Zona Norte                                             [80.0, 170.0]   \n",
              "Zona Sul                                                     [300.0]   \n",
              "Zona Leste         [43.0, 44.0, 55.0, 69.0, 70.0, 71.0, 120.0, 20...   \n",
              "Zona Oeste                                                    [88.0]   \n",
              "Zona Centro Oeste                                            [300.0]   \n",
              "Zona Centro-Sul                                               [60.0]   \n",
              "\n",
              "                  Desvio Padrão Coeficiente de Variação  \n",
              "Zona Norte               306.04                 161.96%  \n",
              "Zona Sul                 123.95                  68.31%  \n",
              "Zona Leste               141.07                 102.00%  \n",
              "Zona Oeste               289.09                 118.67%  \n",
              "Zona Centro Oeste        146.83                  83.96%  \n",
              "Zona Centro-Sul          135.33                  78.05%  "
            ],
            "text/html": [
              "\n",
              "  <div id=\"df-1cf34892-af0e-4136-bd04-662ebfc5b43e\">\n",
              "    <div class=\"colab-df-container\">\n",
              "      <div>\n",
              "<style scoped>\n",
              "    .dataframe tbody tr th:only-of-type {\n",
              "        vertical-align: middle;\n",
              "    }\n",
              "\n",
              "    .dataframe tbody tr th {\n",
              "        vertical-align: top;\n",
              "    }\n",
              "\n",
              "    .dataframe thead th {\n",
              "        text-align: right;\n",
              "    }\n",
              "</style>\n",
              "<table border=\"1\" class=\"dataframe\">\n",
              "  <thead>\n",
              "    <tr style=\"text-align: right;\">\n",
              "      <th></th>\n",
              "      <th>Total Imóveis</th>\n",
              "      <th>Média</th>\n",
              "      <th>Mediana</th>\n",
              "      <th>Moda</th>\n",
              "      <th>Desvio Padrão</th>\n",
              "      <th>Coeficiente de Variação</th>\n",
              "    </tr>\n",
              "  </thead>\n",
              "  <tbody>\n",
              "    <tr>\n",
              "      <th>Zona Norte</th>\n",
              "      <td>73</td>\n",
              "      <td>188.96</td>\n",
              "      <td>104.0</td>\n",
              "      <td>[80.0, 170.0]</td>\n",
              "      <td>306.04</td>\n",
              "      <td>161.96%</td>\n",
              "    </tr>\n",
              "    <tr>\n",
              "      <th>Zona Sul</th>\n",
              "      <td>15</td>\n",
              "      <td>181.47</td>\n",
              "      <td>170.0</td>\n",
              "      <td>[300.0]</td>\n",
              "      <td>123.95</td>\n",
              "      <td>68.31%</td>\n",
              "    </tr>\n",
              "    <tr>\n",
              "      <th>Zona Leste</th>\n",
              "      <td>10</td>\n",
              "      <td>138.30</td>\n",
              "      <td>70.5</td>\n",
              "      <td>[43.0, 44.0, 55.0, 69.0, 70.0, 71.0, 120.0, 20...</td>\n",
              "      <td>141.07</td>\n",
              "      <td>102.00%</td>\n",
              "    </tr>\n",
              "    <tr>\n",
              "      <th>Zona Oeste</th>\n",
              "      <td>128</td>\n",
              "      <td>243.60</td>\n",
              "      <td>153.0</td>\n",
              "      <td>[88.0]</td>\n",
              "      <td>289.09</td>\n",
              "      <td>118.67%</td>\n",
              "    </tr>\n",
              "    <tr>\n",
              "      <th>Zona Centro Oeste</th>\n",
              "      <td>42</td>\n",
              "      <td>174.88</td>\n",
              "      <td>121.0</td>\n",
              "      <td>[300.0]</td>\n",
              "      <td>146.83</td>\n",
              "      <td>83.96%</td>\n",
              "    </tr>\n",
              "    <tr>\n",
              "      <th>Zona Centro-Sul</th>\n",
              "      <td>122</td>\n",
              "      <td>173.40</td>\n",
              "      <td>128.0</td>\n",
              "      <td>[60.0]</td>\n",
              "      <td>135.33</td>\n",
              "      <td>78.05%</td>\n",
              "    </tr>\n",
              "  </tbody>\n",
              "</table>\n",
              "</div>\n",
              "      <button class=\"colab-df-convert\" onclick=\"convertToInteractive('df-1cf34892-af0e-4136-bd04-662ebfc5b43e')\"\n",
              "              title=\"Convert this dataframe to an interactive table.\"\n",
              "              style=\"display:none;\">\n",
              "        \n",
              "  <svg xmlns=\"http://www.w3.org/2000/svg\" height=\"24px\"viewBox=\"0 0 24 24\"\n",
              "       width=\"24px\">\n",
              "    <path d=\"M0 0h24v24H0V0z\" fill=\"none\"/>\n",
              "    <path d=\"M18.56 5.44l.94 2.06.94-2.06 2.06-.94-2.06-.94-.94-2.06-.94 2.06-2.06.94zm-11 1L8.5 8.5l.94-2.06 2.06-.94-2.06-.94L8.5 2.5l-.94 2.06-2.06.94zm10 10l.94 2.06.94-2.06 2.06-.94-2.06-.94-.94-2.06-.94 2.06-2.06.94z\"/><path d=\"M17.41 7.96l-1.37-1.37c-.4-.4-.92-.59-1.43-.59-.52 0-1.04.2-1.43.59L10.3 9.45l-7.72 7.72c-.78.78-.78 2.05 0 2.83L4 21.41c.39.39.9.59 1.41.59.51 0 1.02-.2 1.41-.59l7.78-7.78 2.81-2.81c.8-.78.8-2.07 0-2.86zM5.41 20L4 18.59l7.72-7.72 1.47 1.35L5.41 20z\"/>\n",
              "  </svg>\n",
              "      </button>\n",
              "      \n",
              "  <style>\n",
              "    .colab-df-container {\n",
              "      display:flex;\n",
              "      flex-wrap:wrap;\n",
              "      gap: 12px;\n",
              "    }\n",
              "\n",
              "    .colab-df-convert {\n",
              "      background-color: #E8F0FE;\n",
              "      border: none;\n",
              "      border-radius: 50%;\n",
              "      cursor: pointer;\n",
              "      display: none;\n",
              "      fill: #1967D2;\n",
              "      height: 32px;\n",
              "      padding: 0 0 0 0;\n",
              "      width: 32px;\n",
              "    }\n",
              "\n",
              "    .colab-df-convert:hover {\n",
              "      background-color: #E2EBFA;\n",
              "      box-shadow: 0px 1px 2px rgba(60, 64, 67, 0.3), 0px 1px 3px 1px rgba(60, 64, 67, 0.15);\n",
              "      fill: #174EA6;\n",
              "    }\n",
              "\n",
              "    [theme=dark] .colab-df-convert {\n",
              "      background-color: #3B4455;\n",
              "      fill: #D2E3FC;\n",
              "    }\n",
              "\n",
              "    [theme=dark] .colab-df-convert:hover {\n",
              "      background-color: #434B5C;\n",
              "      box-shadow: 0px 1px 3px 1px rgba(0, 0, 0, 0.15);\n",
              "      filter: drop-shadow(0px 1px 2px rgba(0, 0, 0, 0.3));\n",
              "      fill: #FFFFFF;\n",
              "    }\n",
              "  </style>\n",
              "\n",
              "      <script>\n",
              "        const buttonEl =\n",
              "          document.querySelector('#df-1cf34892-af0e-4136-bd04-662ebfc5b43e button.colab-df-convert');\n",
              "        buttonEl.style.display =\n",
              "          google.colab.kernel.accessAllowed ? 'block' : 'none';\n",
              "\n",
              "        async function convertToInteractive(key) {\n",
              "          const element = document.querySelector('#df-1cf34892-af0e-4136-bd04-662ebfc5b43e');\n",
              "          const dataTable =\n",
              "            await google.colab.kernel.invokeFunction('convertToInteractive',\n",
              "                                                     [key], {});\n",
              "          if (!dataTable) return;\n",
              "\n",
              "          const docLinkHtml = 'Like what you see? Visit the ' +\n",
              "            '<a target=\"_blank\" href=https://colab.research.google.com/notebooks/data_table.ipynb>data table notebook</a>'\n",
              "            + ' to learn more about interactive tables.';\n",
              "          element.innerHTML = '';\n",
              "          dataTable['output_type'] = 'display_data';\n",
              "          await google.colab.output.renderOutput(dataTable, element);\n",
              "          const docLink = document.createElement('div');\n",
              "          docLink.innerHTML = docLinkHtml;\n",
              "          element.appendChild(docLink);\n",
              "        }\n",
              "      </script>\n",
              "    </div>\n",
              "  </div>\n",
              "  "
            ]
          },
          "metadata": {},
          "execution_count": 557
        }
      ]
    },
    {
      "cell_type": "code",
      "source": [
        "checar_moda(moda_leste, len(df[df[\"zona\"] == \"Leste\"]))"
      ],
      "metadata": {
        "colab": {
          "base_uri": "https://localhost:8080/"
        },
        "id": "UvRDvA4-ROvo",
        "outputId": "9fcc04ab-8ce9-4c73-e616-8f833aed9d5c"
      },
      "execution_count": null,
      "outputs": [
        {
          "output_type": "stream",
          "name": "stdout",
          "text": [
            "Distribuição amodal\n"
          ]
        }
      ]
    },
    {
      "cell_type": "markdown",
      "source": [
        "## Casas"
      ],
      "metadata": {
        "id": "pUDlrm7WDUhG"
      }
    },
    {
      "cell_type": "code",
      "source": [
        "pct = 100\n",
        "df_resultados_casas = pd.DataFrame([\n",
        "    (len(df_casas_norte), f'{media_casas_norte:.2f}', mediana_casas_norte, list(moda_casas_norte), f'{desvio_padrao_casas_norte:.2f}', f'{coeficiente_de_variacao_casas_norte * pct:.2f}%'),\n",
        "    (len(df_casas_sul), f'{media_casas_sul:.2f}', mediana_casas_sul, list(moda_casas_sul), f'{desvio_padrao_casas_sul:.2f}', f'{coeficiente_de_variacao_casas_sul * pct:.2f}%'),\n",
        "    (len(df_casas_sul), f'{media_casas_leste:.2f}', mediana_casas_leste, list(moda_casas_leste), f'{desvio_padrao_casas_leste:.2f}', f'{coeficiente_de_variacao_casas_leste * pct:.2f}%'),\n",
        "    (len(df_casas_oeste), f'{media_casas_oeste:.2f}', mediana_casas_oeste, list(moda_casas_oeste), f'{desvio_padrao_casas_oeste:.2f}', f'{coeficiente_de_variacao_casas_oeste * pct:.2f}%'),\n",
        "    (len(df_casas_co), f'{media_casas_co:.2f}', mediana_casas_co, list(moda_casas_co), f'{desvio_padrao_casas_co:.2f}', f'{coeficiente_de_variacao_casas_co * pct:.2f}%'),\n",
        "    (len(df_casas_cs), f'{media_casas_cs:.2f}', mediana_casas_cs, list(moda_casas_cs), f'{desvio_padrao_casas_cs:.2f}', f'{coeficiente_de_variacao_casas_cs * pct:.2f}%')],\n",
        "    index=('Zona Norte', 'Zona Sul', 'Zona Leste', 'Zona Oeste', 'Zona Centro Oeste', 'Zona Centro-Sul'),\n",
        "    columns=('Total Imóveis', 'Média', 'Mediana', 'Moda', 'Desvio Padrão', 'Coeficiente de Variação'))\n",
        "\n",
        "df_resultados_casas"
      ],
      "metadata": {
        "id": "ePaRNuC-DUhG",
        "colab": {
          "base_uri": "https://localhost:8080/",
          "height": 237
        },
        "outputId": "56fbcde8-0564-451e-970d-a442eeda1d89"
      },
      "execution_count": null,
      "outputs": [
        {
          "output_type": "execute_result",
          "data": {
            "text/plain": [
              "                   Total Imóveis   Média  Mediana  \\\n",
              "Zona Norte                    62  211.45    135.0   \n",
              "Zona Sul                      10  213.30    247.5   \n",
              "Zona Leste                    10  220.20    204.0   \n",
              "Zona Oeste                    78  341.46    248.0   \n",
              "Zona Centro Oeste             24  249.62    200.0   \n",
              "Zona Centro-Sul               58  218.47    161.0   \n",
              "\n",
              "                                                 Moda Desvio Padrão  \\\n",
              "Zona Norte                              [80.0, 170.0]        327.23   \n",
              "Zona Sul                                      [300.0]        110.73   \n",
              "Zona Leste         [70.0, 120.0, 204.0, 207.0, 500.0]        166.83   \n",
              "Zona Oeste                                    [170.0]        334.13   \n",
              "Zona Centro Oeste                             [300.0]        154.36   \n",
              "Zona Centro-Sul                                [70.0]        164.13   \n",
              "\n",
              "                  Coeficiente de Variação  \n",
              "Zona Norte                        154.75%  \n",
              "Zona Sul                           51.91%  \n",
              "Zona Leste                         75.76%  \n",
              "Zona Oeste                         97.85%  \n",
              "Zona Centro Oeste                  61.84%  \n",
              "Zona Centro-Sul                    75.13%  "
            ],
            "text/html": [
              "\n",
              "  <div id=\"df-c80ed18f-c79b-4a4f-a78a-c9a38c9843c4\">\n",
              "    <div class=\"colab-df-container\">\n",
              "      <div>\n",
              "<style scoped>\n",
              "    .dataframe tbody tr th:only-of-type {\n",
              "        vertical-align: middle;\n",
              "    }\n",
              "\n",
              "    .dataframe tbody tr th {\n",
              "        vertical-align: top;\n",
              "    }\n",
              "\n",
              "    .dataframe thead th {\n",
              "        text-align: right;\n",
              "    }\n",
              "</style>\n",
              "<table border=\"1\" class=\"dataframe\">\n",
              "  <thead>\n",
              "    <tr style=\"text-align: right;\">\n",
              "      <th></th>\n",
              "      <th>Total Imóveis</th>\n",
              "      <th>Média</th>\n",
              "      <th>Mediana</th>\n",
              "      <th>Moda</th>\n",
              "      <th>Desvio Padrão</th>\n",
              "      <th>Coeficiente de Variação</th>\n",
              "    </tr>\n",
              "  </thead>\n",
              "  <tbody>\n",
              "    <tr>\n",
              "      <th>Zona Norte</th>\n",
              "      <td>62</td>\n",
              "      <td>211.45</td>\n",
              "      <td>135.0</td>\n",
              "      <td>[80.0, 170.0]</td>\n",
              "      <td>327.23</td>\n",
              "      <td>154.75%</td>\n",
              "    </tr>\n",
              "    <tr>\n",
              "      <th>Zona Sul</th>\n",
              "      <td>10</td>\n",
              "      <td>213.30</td>\n",
              "      <td>247.5</td>\n",
              "      <td>[300.0]</td>\n",
              "      <td>110.73</td>\n",
              "      <td>51.91%</td>\n",
              "    </tr>\n",
              "    <tr>\n",
              "      <th>Zona Leste</th>\n",
              "      <td>10</td>\n",
              "      <td>220.20</td>\n",
              "      <td>204.0</td>\n",
              "      <td>[70.0, 120.0, 204.0, 207.0, 500.0]</td>\n",
              "      <td>166.83</td>\n",
              "      <td>75.76%</td>\n",
              "    </tr>\n",
              "    <tr>\n",
              "      <th>Zona Oeste</th>\n",
              "      <td>78</td>\n",
              "      <td>341.46</td>\n",
              "      <td>248.0</td>\n",
              "      <td>[170.0]</td>\n",
              "      <td>334.13</td>\n",
              "      <td>97.85%</td>\n",
              "    </tr>\n",
              "    <tr>\n",
              "      <th>Zona Centro Oeste</th>\n",
              "      <td>24</td>\n",
              "      <td>249.62</td>\n",
              "      <td>200.0</td>\n",
              "      <td>[300.0]</td>\n",
              "      <td>154.36</td>\n",
              "      <td>61.84%</td>\n",
              "    </tr>\n",
              "    <tr>\n",
              "      <th>Zona Centro-Sul</th>\n",
              "      <td>58</td>\n",
              "      <td>218.47</td>\n",
              "      <td>161.0</td>\n",
              "      <td>[70.0]</td>\n",
              "      <td>164.13</td>\n",
              "      <td>75.13%</td>\n",
              "    </tr>\n",
              "  </tbody>\n",
              "</table>\n",
              "</div>\n",
              "      <button class=\"colab-df-convert\" onclick=\"convertToInteractive('df-c80ed18f-c79b-4a4f-a78a-c9a38c9843c4')\"\n",
              "              title=\"Convert this dataframe to an interactive table.\"\n",
              "              style=\"display:none;\">\n",
              "        \n",
              "  <svg xmlns=\"http://www.w3.org/2000/svg\" height=\"24px\"viewBox=\"0 0 24 24\"\n",
              "       width=\"24px\">\n",
              "    <path d=\"M0 0h24v24H0V0z\" fill=\"none\"/>\n",
              "    <path d=\"M18.56 5.44l.94 2.06.94-2.06 2.06-.94-2.06-.94-.94-2.06-.94 2.06-2.06.94zm-11 1L8.5 8.5l.94-2.06 2.06-.94-2.06-.94L8.5 2.5l-.94 2.06-2.06.94zm10 10l.94 2.06.94-2.06 2.06-.94-2.06-.94-.94-2.06-.94 2.06-2.06.94z\"/><path d=\"M17.41 7.96l-1.37-1.37c-.4-.4-.92-.59-1.43-.59-.52 0-1.04.2-1.43.59L10.3 9.45l-7.72 7.72c-.78.78-.78 2.05 0 2.83L4 21.41c.39.39.9.59 1.41.59.51 0 1.02-.2 1.41-.59l7.78-7.78 2.81-2.81c.8-.78.8-2.07 0-2.86zM5.41 20L4 18.59l7.72-7.72 1.47 1.35L5.41 20z\"/>\n",
              "  </svg>\n",
              "      </button>\n",
              "      \n",
              "  <style>\n",
              "    .colab-df-container {\n",
              "      display:flex;\n",
              "      flex-wrap:wrap;\n",
              "      gap: 12px;\n",
              "    }\n",
              "\n",
              "    .colab-df-convert {\n",
              "      background-color: #E8F0FE;\n",
              "      border: none;\n",
              "      border-radius: 50%;\n",
              "      cursor: pointer;\n",
              "      display: none;\n",
              "      fill: #1967D2;\n",
              "      height: 32px;\n",
              "      padding: 0 0 0 0;\n",
              "      width: 32px;\n",
              "    }\n",
              "\n",
              "    .colab-df-convert:hover {\n",
              "      background-color: #E2EBFA;\n",
              "      box-shadow: 0px 1px 2px rgba(60, 64, 67, 0.3), 0px 1px 3px 1px rgba(60, 64, 67, 0.15);\n",
              "      fill: #174EA6;\n",
              "    }\n",
              "\n",
              "    [theme=dark] .colab-df-convert {\n",
              "      background-color: #3B4455;\n",
              "      fill: #D2E3FC;\n",
              "    }\n",
              "\n",
              "    [theme=dark] .colab-df-convert:hover {\n",
              "      background-color: #434B5C;\n",
              "      box-shadow: 0px 1px 3px 1px rgba(0, 0, 0, 0.15);\n",
              "      filter: drop-shadow(0px 1px 2px rgba(0, 0, 0, 0.3));\n",
              "      fill: #FFFFFF;\n",
              "    }\n",
              "  </style>\n",
              "\n",
              "      <script>\n",
              "        const buttonEl =\n",
              "          document.querySelector('#df-c80ed18f-c79b-4a4f-a78a-c9a38c9843c4 button.colab-df-convert');\n",
              "        buttonEl.style.display =\n",
              "          google.colab.kernel.accessAllowed ? 'block' : 'none';\n",
              "\n",
              "        async function convertToInteractive(key) {\n",
              "          const element = document.querySelector('#df-c80ed18f-c79b-4a4f-a78a-c9a38c9843c4');\n",
              "          const dataTable =\n",
              "            await google.colab.kernel.invokeFunction('convertToInteractive',\n",
              "                                                     [key], {});\n",
              "          if (!dataTable) return;\n",
              "\n",
              "          const docLinkHtml = 'Like what you see? Visit the ' +\n",
              "            '<a target=\"_blank\" href=https://colab.research.google.com/notebooks/data_table.ipynb>data table notebook</a>'\n",
              "            + ' to learn more about interactive tables.';\n",
              "          element.innerHTML = '';\n",
              "          dataTable['output_type'] = 'display_data';\n",
              "          await google.colab.output.renderOutput(dataTable, element);\n",
              "          const docLink = document.createElement('div');\n",
              "          docLink.innerHTML = docLinkHtml;\n",
              "          element.appendChild(docLink);\n",
              "        }\n",
              "      </script>\n",
              "    </div>\n",
              "  </div>\n",
              "  "
            ]
          },
          "metadata": {},
          "execution_count": 559
        }
      ]
    },
    {
      "cell_type": "markdown",
      "source": [
        "## Apartamentos"
      ],
      "metadata": {
        "id": "AMD2oHMcDUhH"
      }
    },
    {
      "cell_type": "code",
      "source": [
        "pct = 100\n",
        "df_resultados_apartamentos = pd.DataFrame([\n",
        "    (len(df_apartamentos_norte), f'{media_apartamentos_norte:.2f}', mediana_apartamentos_norte, list(moda_apartamentos_norte), f'{desvio_padrao_apartamentos_norte:.2f}', f'{coeficiente_de_variacao_apartamentos_norte * pct:.2f}%'),\n",
        "    (len(df_apartamentos_sul), f'{media_apartamentos_sul:.2f}', mediana_apartamentos_sul, list(moda_apartamentos_sul), f'{desvio_padrao_apartamentos_sul:.2f}', f'{coeficiente_de_variacao_apartamentos_sul * pct:.2f}%'),\n",
        "    (len(df_apartamentos_leste), f'{media_apartamentos_leste:.2f}', mediana_apartamentos_leste, list(moda_apartamentos_leste), f'{desvio_padrao_apartamentos_leste:.2f}', f'{coeficiente_de_variacao_apartamentos_leste * pct:.2f}%'),\n",
        "    (len(df_apartamentos_oeste), f'{media_apartamentos_oeste:.2f}', mediana_apartamentos_oeste, list(moda_apartamentos_oeste), f'{desvio_padrao_apartamentos_oeste:.2f}', f'{coeficiente_de_variacao_apartamentos_oeste * pct:.2f}%'),\n",
        "    (len(df_apartamentos_co), f'{media_apartamentos_co:.2f}', mediana_apartamentos_co, list(moda_apartamentos_co), f'{desvio_padrao_apartamentos_co:.2f}', f'{coeficiente_de_variacao_apartamentos_co * pct:.2f}%'),\n",
        "    (len(df_apartamentos_cs), f'{media_apartamentos_cs:.2f}', mediana_apartamentos_cs, list(moda_apartamentos_cs), f'{desvio_padrao_apartamentos_cs:.2f}', f'{coeficiente_de_variacao_apartamentos_cs * pct:.2f}%')],\n",
        "    index=('Zona Norte', 'Zona Sul', 'Zona Leste', 'Zona Oeste', 'Zona Centro Oeste', 'Zona Centro-Sul'),\n",
        "    columns=('Total Imóveis', 'Média', 'Mediana', 'Moda', 'Desvio Padrão', 'Coeficiente de Variação'))\n",
        "\n",
        "df_resultados_apartamentos"
      ],
      "metadata": {
        "id": "RBslPMkODUhH",
        "colab": {
          "base_uri": "https://localhost:8080/",
          "height": 237
        },
        "outputId": "1bee8612-c65c-4bb2-d47d-388299195721"
      },
      "execution_count": null,
      "outputs": [
        {
          "output_type": "execute_result",
          "data": {
            "text/plain": [
              "                   Total Imóveis   Média  Mediana  \\\n",
              "Zona Norte                    11   62.18     60.0   \n",
              "Zona Sul                       5  117.80     70.0   \n",
              "Zona Leste                     5   56.40     55.0   \n",
              "Zona Oeste                    50   90.94     80.0   \n",
              "Zona Centro Oeste             18   75.22     59.5   \n",
              "Zona Centro-Sul               64  132.56    113.5   \n",
              "\n",
              "                                              Moda Desvio Padrão  \\\n",
              "Zona Norte                      [42.0, 60.0, 85.0]         19.82   \n",
              "Zona Sul           [32.0, 55.0, 70.0, 72.0, 360.0]        136.33   \n",
              "Zona Leste          [43.0, 44.0, 55.0, 69.0, 71.0]         13.30   \n",
              "Zona Oeste                           [88.0, 169.0]         46.24   \n",
              "Zona Centro Oeste               [38.0, 43.0, 56.0]         36.78   \n",
              "Zona Centro-Sul                       [60.0, 96.0]         85.09   \n",
              "\n",
              "                  Coeficiente de Variação  \n",
              "Zona Norte                         31.87%  \n",
              "Zona Sul                          115.73%  \n",
              "Zona Leste                         23.58%  \n",
              "Zona Oeste                         50.85%  \n",
              "Zona Centro Oeste                  48.89%  \n",
              "Zona Centro-Sul                    64.19%  "
            ],
            "text/html": [
              "\n",
              "  <div id=\"df-e1e430a5-afdc-4327-a374-9d932ba4b479\">\n",
              "    <div class=\"colab-df-container\">\n",
              "      <div>\n",
              "<style scoped>\n",
              "    .dataframe tbody tr th:only-of-type {\n",
              "        vertical-align: middle;\n",
              "    }\n",
              "\n",
              "    .dataframe tbody tr th {\n",
              "        vertical-align: top;\n",
              "    }\n",
              "\n",
              "    .dataframe thead th {\n",
              "        text-align: right;\n",
              "    }\n",
              "</style>\n",
              "<table border=\"1\" class=\"dataframe\">\n",
              "  <thead>\n",
              "    <tr style=\"text-align: right;\">\n",
              "      <th></th>\n",
              "      <th>Total Imóveis</th>\n",
              "      <th>Média</th>\n",
              "      <th>Mediana</th>\n",
              "      <th>Moda</th>\n",
              "      <th>Desvio Padrão</th>\n",
              "      <th>Coeficiente de Variação</th>\n",
              "    </tr>\n",
              "  </thead>\n",
              "  <tbody>\n",
              "    <tr>\n",
              "      <th>Zona Norte</th>\n",
              "      <td>11</td>\n",
              "      <td>62.18</td>\n",
              "      <td>60.0</td>\n",
              "      <td>[42.0, 60.0, 85.0]</td>\n",
              "      <td>19.82</td>\n",
              "      <td>31.87%</td>\n",
              "    </tr>\n",
              "    <tr>\n",
              "      <th>Zona Sul</th>\n",
              "      <td>5</td>\n",
              "      <td>117.80</td>\n",
              "      <td>70.0</td>\n",
              "      <td>[32.0, 55.0, 70.0, 72.0, 360.0]</td>\n",
              "      <td>136.33</td>\n",
              "      <td>115.73%</td>\n",
              "    </tr>\n",
              "    <tr>\n",
              "      <th>Zona Leste</th>\n",
              "      <td>5</td>\n",
              "      <td>56.40</td>\n",
              "      <td>55.0</td>\n",
              "      <td>[43.0, 44.0, 55.0, 69.0, 71.0]</td>\n",
              "      <td>13.30</td>\n",
              "      <td>23.58%</td>\n",
              "    </tr>\n",
              "    <tr>\n",
              "      <th>Zona Oeste</th>\n",
              "      <td>50</td>\n",
              "      <td>90.94</td>\n",
              "      <td>80.0</td>\n",
              "      <td>[88.0, 169.0]</td>\n",
              "      <td>46.24</td>\n",
              "      <td>50.85%</td>\n",
              "    </tr>\n",
              "    <tr>\n",
              "      <th>Zona Centro Oeste</th>\n",
              "      <td>18</td>\n",
              "      <td>75.22</td>\n",
              "      <td>59.5</td>\n",
              "      <td>[38.0, 43.0, 56.0]</td>\n",
              "      <td>36.78</td>\n",
              "      <td>48.89%</td>\n",
              "    </tr>\n",
              "    <tr>\n",
              "      <th>Zona Centro-Sul</th>\n",
              "      <td>64</td>\n",
              "      <td>132.56</td>\n",
              "      <td>113.5</td>\n",
              "      <td>[60.0, 96.0]</td>\n",
              "      <td>85.09</td>\n",
              "      <td>64.19%</td>\n",
              "    </tr>\n",
              "  </tbody>\n",
              "</table>\n",
              "</div>\n",
              "      <button class=\"colab-df-convert\" onclick=\"convertToInteractive('df-e1e430a5-afdc-4327-a374-9d932ba4b479')\"\n",
              "              title=\"Convert this dataframe to an interactive table.\"\n",
              "              style=\"display:none;\">\n",
              "        \n",
              "  <svg xmlns=\"http://www.w3.org/2000/svg\" height=\"24px\"viewBox=\"0 0 24 24\"\n",
              "       width=\"24px\">\n",
              "    <path d=\"M0 0h24v24H0V0z\" fill=\"none\"/>\n",
              "    <path d=\"M18.56 5.44l.94 2.06.94-2.06 2.06-.94-2.06-.94-.94-2.06-.94 2.06-2.06.94zm-11 1L8.5 8.5l.94-2.06 2.06-.94-2.06-.94L8.5 2.5l-.94 2.06-2.06.94zm10 10l.94 2.06.94-2.06 2.06-.94-2.06-.94-.94-2.06-.94 2.06-2.06.94z\"/><path d=\"M17.41 7.96l-1.37-1.37c-.4-.4-.92-.59-1.43-.59-.52 0-1.04.2-1.43.59L10.3 9.45l-7.72 7.72c-.78.78-.78 2.05 0 2.83L4 21.41c.39.39.9.59 1.41.59.51 0 1.02-.2 1.41-.59l7.78-7.78 2.81-2.81c.8-.78.8-2.07 0-2.86zM5.41 20L4 18.59l7.72-7.72 1.47 1.35L5.41 20z\"/>\n",
              "  </svg>\n",
              "      </button>\n",
              "      \n",
              "  <style>\n",
              "    .colab-df-container {\n",
              "      display:flex;\n",
              "      flex-wrap:wrap;\n",
              "      gap: 12px;\n",
              "    }\n",
              "\n",
              "    .colab-df-convert {\n",
              "      background-color: #E8F0FE;\n",
              "      border: none;\n",
              "      border-radius: 50%;\n",
              "      cursor: pointer;\n",
              "      display: none;\n",
              "      fill: #1967D2;\n",
              "      height: 32px;\n",
              "      padding: 0 0 0 0;\n",
              "      width: 32px;\n",
              "    }\n",
              "\n",
              "    .colab-df-convert:hover {\n",
              "      background-color: #E2EBFA;\n",
              "      box-shadow: 0px 1px 2px rgba(60, 64, 67, 0.3), 0px 1px 3px 1px rgba(60, 64, 67, 0.15);\n",
              "      fill: #174EA6;\n",
              "    }\n",
              "\n",
              "    [theme=dark] .colab-df-convert {\n",
              "      background-color: #3B4455;\n",
              "      fill: #D2E3FC;\n",
              "    }\n",
              "\n",
              "    [theme=dark] .colab-df-convert:hover {\n",
              "      background-color: #434B5C;\n",
              "      box-shadow: 0px 1px 3px 1px rgba(0, 0, 0, 0.15);\n",
              "      filter: drop-shadow(0px 1px 2px rgba(0, 0, 0, 0.3));\n",
              "      fill: #FFFFFF;\n",
              "    }\n",
              "  </style>\n",
              "\n",
              "      <script>\n",
              "        const buttonEl =\n",
              "          document.querySelector('#df-e1e430a5-afdc-4327-a374-9d932ba4b479 button.colab-df-convert');\n",
              "        buttonEl.style.display =\n",
              "          google.colab.kernel.accessAllowed ? 'block' : 'none';\n",
              "\n",
              "        async function convertToInteractive(key) {\n",
              "          const element = document.querySelector('#df-e1e430a5-afdc-4327-a374-9d932ba4b479');\n",
              "          const dataTable =\n",
              "            await google.colab.kernel.invokeFunction('convertToInteractive',\n",
              "                                                     [key], {});\n",
              "          if (!dataTable) return;\n",
              "\n",
              "          const docLinkHtml = 'Like what you see? Visit the ' +\n",
              "            '<a target=\"_blank\" href=https://colab.research.google.com/notebooks/data_table.ipynb>data table notebook</a>'\n",
              "            + ' to learn more about interactive tables.';\n",
              "          element.innerHTML = '';\n",
              "          dataTable['output_type'] = 'display_data';\n",
              "          await google.colab.output.renderOutput(dataTable, element);\n",
              "          const docLink = document.createElement('div');\n",
              "          docLink.innerHTML = docLinkHtml;\n",
              "          element.appendChild(docLink);\n",
              "        }\n",
              "      </script>\n",
              "    </div>\n",
              "  </div>\n",
              "  "
            ]
          },
          "metadata": {},
          "execution_count": 560
        }
      ]
    },
    {
      "cell_type": "code",
      "source": [],
      "metadata": {
        "id": "jkFLidOiDUhH"
      },
      "execution_count": null,
      "outputs": []
    },
    {
      "cell_type": "markdown",
      "source": [
        "#  🟆 Variável: Quantidade de Quartos (Quantitativa)\n",
        "\n",
        "\n",
        "---\n",
        "\n"
      ],
      "metadata": {
        "id": "eKoxidwkYD84"
      }
    },
    {
      "cell_type": "markdown",
      "source": [
        "## Medidas Gerais\n",
        "\n",
        "Medidas de todos os elementos da amostra, sem distinção de Região."
      ],
      "metadata": {
        "id": "e8NFhcY5pDgC"
      }
    },
    {
      "cell_type": "markdown",
      "source": [
        "### *Geral*"
      ],
      "metadata": {
        "id": "aSGp_5wC04Zi"
      }
    },
    {
      "cell_type": "code",
      "source": [
        "mediana = df[\"qtde_quartos\"].median()"
      ],
      "metadata": {
        "id": "00fsznAs9FkG"
      },
      "execution_count": null,
      "outputs": []
    },
    {
      "cell_type": "code",
      "source": [
        "media = df[\"qtde_quartos\"].mean()"
      ],
      "metadata": {
        "id": "RQuR_nQ895kh"
      },
      "execution_count": null,
      "outputs": []
    },
    {
      "cell_type": "code",
      "source": [
        "moda = df[\"qtde_quartos\"].mode()"
      ],
      "metadata": {
        "id": "3Ugxbf-N95a8"
      },
      "execution_count": null,
      "outputs": []
    },
    {
      "cell_type": "code",
      "source": [
        "desvio_padrao = df[\"qtde_quartos\"].std()"
      ],
      "metadata": {
        "id": "Xn7Xg4Q_95O_"
      },
      "execution_count": null,
      "outputs": []
    },
    {
      "cell_type": "code",
      "source": [
        "coeficiente_de_variacao = desvio_padrao/media"
      ],
      "metadata": {
        "id": "gnx4PRBF-Cnz"
      },
      "execution_count": null,
      "outputs": []
    },
    {
      "cell_type": "markdown",
      "source": [
        "Resultados de cada cálculo:"
      ],
      "metadata": {
        "id": "j9zqIXdQAtUo"
      }
    },
    {
      "cell_type": "code",
      "source": [
        "print(f'Média: {media:.2f}')\n",
        "print(f'Mediana: {mediana:.0f}')\n",
        "print(f'Moda: {moda}')\n",
        "print(f'Desvio Padrão: {desvio_padrao:.2f}')\n",
        "print(f'Coeficiente de Variação: {coeficiente_de_variacao * 100:.2f}%')"
      ],
      "metadata": {
        "id": "cU6Zl9WP-xp8",
        "colab": {
          "base_uri": "https://localhost:8080/"
        },
        "outputId": "c10b5722-9e52-43bc-9f56-f8ad90b0be7c"
      },
      "execution_count": null,
      "outputs": [
        {
          "output_type": "stream",
          "name": "stdout",
          "text": [
            "Média: 3.00\n",
            "Mediana: 3\n",
            "Moda: 0    3\n",
            "dtype: int64\n",
            "Desvio Padrão: 0.90\n",
            "Coeficiente de Variação: 29.87%\n"
          ]
        }
      ]
    },
    {
      "cell_type": "markdown",
      "source": [
        "###*Casas*"
      ],
      "metadata": {
        "id": "dXvEabN60bFt"
      }
    },
    {
      "cell_type": "code",
      "source": [
        "len(df_casas)"
      ],
      "metadata": {
        "id": "jweO3jqD0l7T",
        "colab": {
          "base_uri": "https://localhost:8080/"
        },
        "outputId": "6bdfdcc1-426c-4a5d-9de3-68a30c5e53e5"
      },
      "execution_count": null,
      "outputs": [
        {
          "output_type": "execute_result",
          "data": {
            "text/plain": [
              "237"
            ]
          },
          "metadata": {},
          "execution_count": 567
        }
      ]
    },
    {
      "cell_type": "code",
      "source": [
        "media_casas = df_casas[\"qtde_quartos\"].mean()\n",
        "moda_casas = df_casas[\"qtde_quartos\"].mode()\n",
        "mediana_casas = df_casas[\"qtde_quartos\"].median()\n",
        "desvio_padrao_casas = df_casas[\"qtde_quartos\"].std()\n",
        "coeficiente_de_variacao_casas = desvio_padrao_casas/media_casas"
      ],
      "metadata": {
        "id": "QfH9FlZl1Ff_"
      },
      "execution_count": null,
      "outputs": []
    },
    {
      "cell_type": "markdown",
      "source": [
        "###*Apartamentos*"
      ],
      "metadata": {
        "id": "02FaDHgV0dFE"
      }
    },
    {
      "cell_type": "code",
      "source": [
        "len(df_apartamentos)"
      ],
      "metadata": {
        "id": "nYaEO6rIEz57",
        "colab": {
          "base_uri": "https://localhost:8080/"
        },
        "outputId": "af80aac8-901c-453e-e052-f20d6460b6fd"
      },
      "execution_count": null,
      "outputs": [
        {
          "output_type": "execute_result",
          "data": {
            "text/plain": [
              "153"
            ]
          },
          "metadata": {},
          "execution_count": 569
        }
      ]
    },
    {
      "cell_type": "code",
      "source": [
        "media_apartamentos = df_apartamentos[\"qtde_quartos\"].mean()\n",
        "moda_apartamentos = df_apartamentos[\"qtde_quartos\"].mode()\n",
        "mediana_apartamentos = df_apartamentos[\"qtde_quartos\"].median()\n",
        "desvio_padrao_apartamentos = df_apartamentos[\"qtde_quartos\"].std()\n",
        "coeficiente_de_variacao_apartamentos = desvio_padrao_apartamentos/media_apartamentos\n",
        "coeficiente_porcentagem_apartamentos = coeficiente_de_variacao_apartamentos * 100"
      ],
      "metadata": {
        "id": "m3jK7mYx2xVp"
      },
      "execution_count": null,
      "outputs": []
    },
    {
      "cell_type": "code",
      "source": [
        "print(f'Média: {media_apartamentos:.2f}')\n",
        "print(f'Mediana: {mediana_apartamentos:.0f}')\n",
        "print(f'Moda: {moda_apartamentos}')\n",
        "print(f'Desvio Padrão: {desvio_padrao_apartamentos:.2f}')\n",
        "print(f'Coeficiente de Variação: {coeficiente_porcentagem_apartamentos:.2f}%')"
      ],
      "metadata": {
        "id": "S6QNW86O2xKQ",
        "colab": {
          "base_uri": "https://localhost:8080/"
        },
        "outputId": "5c42a744-df6f-4d4a-f838-a0f9db6887f4"
      },
      "execution_count": null,
      "outputs": [
        {
          "output_type": "stream",
          "name": "stdout",
          "text": [
            "Média: 2.74\n",
            "Mediana: 3\n",
            "Moda: 0    3\n",
            "dtype: int64\n",
            "Desvio Padrão: 0.76\n",
            "Coeficiente de Variação: 27.71%\n"
          ]
        }
      ]
    },
    {
      "cell_type": "markdown",
      "source": [
        "## Região Norte"
      ],
      "metadata": {
        "id": "YdWRMs4S-yfq"
      }
    },
    {
      "cell_type": "markdown",
      "source": [
        "### *Medidas Gerais*"
      ],
      "metadata": {
        "id": "SBVTBIgTwmWb"
      }
    },
    {
      "cell_type": "code",
      "source": [
        "len(df_norte)"
      ],
      "metadata": {
        "id": "emcwh0chpVhF",
        "colab": {
          "base_uri": "https://localhost:8080/"
        },
        "outputId": "74baf414-3292-4b72-e9d4-86e1bbce3d95"
      },
      "execution_count": null,
      "outputs": [
        {
          "output_type": "execute_result",
          "data": {
            "text/plain": [
              "73"
            ]
          },
          "metadata": {},
          "execution_count": 572
        }
      ]
    },
    {
      "cell_type": "code",
      "source": [
        "media_norte = df_norte[\"qtde_quartos\"].mean()"
      ],
      "metadata": {
        "id": "BGJrbMP1ujNn"
      },
      "execution_count": null,
      "outputs": []
    },
    {
      "cell_type": "code",
      "source": [
        "mediana_norte = df_norte[\"qtde_quartos\"].median()"
      ],
      "metadata": {
        "id": "YbiQluruuyRF"
      },
      "execution_count": null,
      "outputs": []
    },
    {
      "cell_type": "code",
      "source": [
        "moda_norte = df_norte[\"qtde_quartos\"].mode()"
      ],
      "metadata": {
        "id": "uMVh7SYju4im"
      },
      "execution_count": null,
      "outputs": []
    },
    {
      "cell_type": "code",
      "source": [
        "desvio_padrao_norte = df_norte[\"qtde_quartos\"].std()"
      ],
      "metadata": {
        "id": "L0mF6-O1u6KE"
      },
      "execution_count": null,
      "outputs": []
    },
    {
      "cell_type": "code",
      "source": [
        "coeficiente_de_variacao_norte = desvio_padrao_norte/media_norte"
      ],
      "metadata": {
        "id": "s8fvZHx5vFfm"
      },
      "execution_count": null,
      "outputs": []
    },
    {
      "cell_type": "code",
      "source": [
        "print(\"MEDIDAS GERAIS DA VARIÁVEL 'QUANTIDADE DE QUARTOS' DA REGIÃO NORTE\")\n",
        "print(f\"Média: {media_norte:.2f}\")\n",
        "print(f\"Mediana: {mediana_norte:.0f}\")\n",
        "print(f\"Moda: {moda_norte}\")\n",
        "print(f\"Desvio Padrão: {desvio_padrao_norte:.2f}\")\n",
        "print(f\"Coeficiente de Variação: {coeficiente_de_variacao_norte * 100:.2f}%\")"
      ],
      "metadata": {
        "id": "TeoBzx3xvMnQ",
        "colab": {
          "base_uri": "https://localhost:8080/"
        },
        "outputId": "966108d1-d99e-4998-8120-b485678f4399"
      },
      "execution_count": null,
      "outputs": [
        {
          "output_type": "stream",
          "name": "stdout",
          "text": [
            "MEDIDAS GERAIS DA VARIÁVEL 'QUANTIDADE DE QUARTOS' DA REGIÃO NORTE\n",
            "Média: 2.84\n",
            "Mediana: 3\n",
            "Moda: 0    3\n",
            "dtype: int64\n",
            "Desvio Padrão: 0.88\n",
            "Coeficiente de Variação: 31.11%\n"
          ]
        }
      ]
    },
    {
      "cell_type": "markdown",
      "source": [
        "###*Casas*\n",
        "\n",
        "Aproximadamente 67,5% de todos os imóveis disponíveis na *Região Norte*"
      ],
      "metadata": {
        "id": "wRdqPXFyq0gs"
      }
    },
    {
      "cell_type": "code",
      "source": [
        "len(df_casas_norte)"
      ],
      "metadata": {
        "id": "F-aujYXFqyQr",
        "colab": {
          "base_uri": "https://localhost:8080/"
        },
        "outputId": "67d07bd3-8842-4bb9-d2cb-2c7eec07ef7e"
      },
      "execution_count": null,
      "outputs": [
        {
          "output_type": "execute_result",
          "data": {
            "text/plain": [
              "62"
            ]
          },
          "metadata": {},
          "execution_count": 579
        }
      ]
    },
    {
      "cell_type": "code",
      "source": [
        "media_casas_norte = df_casas_norte[\"qtde_quartos\"].mean()"
      ],
      "metadata": {
        "id": "q06RevryrMhQ"
      },
      "execution_count": null,
      "outputs": []
    },
    {
      "cell_type": "code",
      "source": [
        "mediana_casas_norte = df_casas_norte[\"qtde_quartos\"].median()"
      ],
      "metadata": {
        "id": "_zIo6KA2rqkC"
      },
      "execution_count": null,
      "outputs": []
    },
    {
      "cell_type": "code",
      "source": [
        "moda_casas_norte = df_casas_norte[\"qtde_quartos\"].mode()"
      ],
      "metadata": {
        "id": "CE4ON1O6r6a9"
      },
      "execution_count": null,
      "outputs": []
    },
    {
      "cell_type": "code",
      "source": [
        "desvio_padrao_casas_norte = df_casas_norte[\"qtde_quartos\"].std()"
      ],
      "metadata": {
        "id": "v7nB1sywr8-1"
      },
      "execution_count": null,
      "outputs": []
    },
    {
      "cell_type": "code",
      "source": [
        "coeficiente_de_variacao_casas_norte = desvio_padrao_casas_norte/media_casas_norte"
      ],
      "metadata": {
        "id": "YSsmw1-ZsPSj"
      },
      "execution_count": null,
      "outputs": []
    },
    {
      "cell_type": "code",
      "source": [
        "print(\"MEDIDAS DA 'QUANTIDADE DE QUARTOS' DAS CASAS DA REGIÃO NORTE\")\n",
        "print(f\"Média: {media_casas_norte:.2f}\")\n",
        "printModa(moda_casas_norte)\n",
        "print(f\"Mediana: {mediana_casas_norte:.0f}\")\n",
        "print(f\"Desvio Padrão: {desvio_padrao_casas_norte:.2f}\")\n",
        "print(f\"Coeficiente de Variação: {coeficiente_de_variacao_casas_norte * 100:.2f}%\")"
      ],
      "metadata": {
        "id": "FxDtAMOR20jM",
        "colab": {
          "base_uri": "https://localhost:8080/"
        },
        "outputId": "35b3d5f0-a02e-464d-ab2a-f25aa005d938"
      },
      "execution_count": null,
      "outputs": [
        {
          "output_type": "stream",
          "name": "stdout",
          "text": [
            "MEDIDAS DA 'QUANTIDADE DE QUARTOS' DAS CASAS DA REGIÃO NORTE\n",
            "Média: 2.92\n",
            "Moda: \n",
            "3\n",
            "Mediana: 3\n",
            "Desvio Padrão: 0.91\n",
            "Coeficiente de Variação: 31.20%\n"
          ]
        }
      ]
    },
    {
      "cell_type": "markdown",
      "source": [
        "### *Apartamentos*\n",
        "\n",
        "Aproximadamente 32,5% de todos os imóveis disponíveis na *Região Norte*"
      ],
      "metadata": {
        "id": "QwBXulgSstdl"
      }
    },
    {
      "cell_type": "code",
      "source": [
        "len(df_apartamentos_norte)"
      ],
      "metadata": {
        "id": "tgU3k2fbswy0",
        "colab": {
          "base_uri": "https://localhost:8080/"
        },
        "outputId": "96363e1d-3b20-44aa-d609-0913db43dd3e"
      },
      "execution_count": null,
      "outputs": [
        {
          "output_type": "execute_result",
          "data": {
            "text/plain": [
              "11"
            ]
          },
          "metadata": {},
          "execution_count": 586
        }
      ]
    },
    {
      "cell_type": "code",
      "source": [
        "media_apartamentos_norte= df_apartamentos_norte[\"qtde_quartos\"].mean()\n",
        "mediana_apartamentos_norte= df_apartamentos_norte[\"qtde_quartos\"].median()\n",
        "moda_apartamentos_norte= df_apartamentos_norte[\"qtde_quartos\"].mode()\n",
        "desvio_padrao_apartamentos_norte= df_apartamentos_norte[\"qtde_quartos\"].std()\n",
        "coeficiente_de_variacao_apartamentos_norte= desvio_padrao_apartamentos_norte/media_apartamentos_norte"
      ],
      "metadata": {
        "id": "Mkbm86b2tnKd"
      },
      "execution_count": null,
      "outputs": []
    },
    {
      "cell_type": "code",
      "source": [
        "print(\"MEDIDAS DA 'QUANTIDADE DE QUARTOS' DOS APARTAMENTOS DA REGIÃO NORTE\")\n",
        "print(f\"Média: {media_apartamentos_norte:.2f}\")\n",
        "print(f\"Moda: {moda_apartamentos_norte}\")\n",
        "print(f\"Mediana: {mediana_apartamentos_norte:.0f}\")\n",
        "print(f\"Desvio Padrão: {desvio_padrao_casas_norte:.2f}\")\n",
        "print(f\"Coeficiente de Variação: {coeficiente_de_variacao_casas_norte * 100:.2f}%\")"
      ],
      "metadata": {
        "id": "TUpiKRfo3b3G",
        "colab": {
          "base_uri": "https://localhost:8080/"
        },
        "outputId": "6123db2d-e5a4-4e90-c264-54f290515f15"
      },
      "execution_count": null,
      "outputs": [
        {
          "output_type": "stream",
          "name": "stdout",
          "text": [
            "MEDIDAS DA 'QUANTIDADE DE QUARTOS' DOS APARTAMENTOS DA REGIÃO NORTE\n",
            "Média: 2.36\n",
            "Moda: 0    2\n",
            "dtype: int64\n",
            "Mediana: 2\n",
            "Desvio Padrão: 0.91\n",
            "Coeficiente de Variação: 31.20%\n"
          ]
        }
      ]
    },
    {
      "cell_type": "markdown",
      "source": [
        "## Região Sul"
      ],
      "metadata": {
        "id": "ePnI5rhu4PCd"
      }
    },
    {
      "cell_type": "markdown",
      "source": [
        "### *Medidas Gerais*"
      ],
      "metadata": {
        "id": "dfxd3UMb4Vd8"
      }
    },
    {
      "cell_type": "code",
      "source": [
        "len(df_sul)"
      ],
      "metadata": {
        "id": "GbR0Vnp84kVQ",
        "colab": {
          "base_uri": "https://localhost:8080/"
        },
        "outputId": "4ec29499-adb1-49b5-be8d-7044b78e8838"
      },
      "execution_count": null,
      "outputs": [
        {
          "output_type": "execute_result",
          "data": {
            "text/plain": [
              "15"
            ]
          },
          "metadata": {},
          "execution_count": 589
        }
      ]
    },
    {
      "cell_type": "code",
      "source": [
        "media_sul = df_sul[\"qtde_quartos\"].mean()\n",
        "mediana_sul = df_sul[\"qtde_quartos\"].median()\n",
        "moda_sul = df_sul[\"qtde_quartos\"].mode()\n",
        "desvio_padrao_sul = df_sul[\"qtde_quartos\"].std()\n",
        "coeficiente_de_variacao_sul = desvio_padrao_sul/media_sul"
      ],
      "metadata": {
        "id": "eASVP9JwNWkb"
      },
      "execution_count": null,
      "outputs": []
    },
    {
      "cell_type": "code",
      "source": [
        "print(\"MEDIDAS DA VARIAVEL 'QUANTIDADE DE QUARTOS' DA REGIÃO SUL\")\n",
        "print(f\"Média: {media_sul:.0f}\")\n",
        "print(f\"Moda: {moda_sul}\")\n",
        "print(f\"Mediana: {mediana_sul:.0f}\")\n",
        "print(f\"Desvio Padrão:  {desvio_padrao_sul:.2f}\")\n",
        "print(f\"Coeficiente de variação:  {coeficiente_de_variacao_sul *100:.2f}%\")"
      ],
      "metadata": {
        "id": "4WCVn0QZN5bR",
        "colab": {
          "base_uri": "https://localhost:8080/"
        },
        "outputId": "deae42ae-cf67-423e-f114-5e1452dfb149"
      },
      "execution_count": null,
      "outputs": [
        {
          "output_type": "stream",
          "name": "stdout",
          "text": [
            "MEDIDAS DA VARIAVEL 'QUANTIDADE DE QUARTOS' DA REGIÃO SUL\n",
            "Média: 3\n",
            "Moda: 0    3\n",
            "dtype: int64\n",
            "Mediana: 3\n",
            "Desvio Padrão:  1.06\n",
            "Coeficiente de variação:  36.98%\n"
          ]
        }
      ]
    },
    {
      "cell_type": "markdown",
      "source": [
        "### *Casas*"
      ],
      "metadata": {
        "id": "bRgC-mA34Xa0"
      }
    },
    {
      "cell_type": "code",
      "source": [
        "len(df_casas_sul)"
      ],
      "metadata": {
        "id": "kC6KuIK14jpX",
        "colab": {
          "base_uri": "https://localhost:8080/"
        },
        "outputId": "fcc134dc-1165-4adc-b927-28ac4004a676"
      },
      "execution_count": null,
      "outputs": [
        {
          "output_type": "execute_result",
          "data": {
            "text/plain": [
              "10"
            ]
          },
          "metadata": {},
          "execution_count": 592
        }
      ]
    },
    {
      "cell_type": "code",
      "source": [
        "media_casas_sul = df_casas_sul[\"qtde_quartos\"].mean()\n",
        "moda_casas_sul = df_casas_sul[\"qtde_quartos\"].mode()\n",
        "mediana_casas_sul = df_casas_sul[\"qtde_quartos\"].median()\n",
        "desvio_padrao_casas_sul = df_casas_sul[\"qtde_quartos\"].std()\n",
        "coeficiente_de_variacao_casas_sul = desvio_padrao_casas_sul/media_casas_sul"
      ],
      "metadata": {
        "id": "5c21MRiAQ_g0"
      },
      "execution_count": null,
      "outputs": []
    },
    {
      "cell_type": "code",
      "source": [
        "print(\"MEDIDAS DA VARIAVEL 'QUANTIDADE DE QUARTOS'DAS CASAS DA REGIÃO SUL\")\n",
        "print(f\"Média: {media_casas_sul:.2f}\")\n",
        "printModa(moda_casas_sul)\n",
        "print(f\"Mediana: {mediana_casas_sul:.0f}\")\n",
        "print(f\"Desvio Padrão:  {desvio_padrao_casas_sul:.2f}\")\n",
        "print(f\"Coeficiente de variação:  {coeficiente_de_variacao_casas_sul *100:.2f}%\")"
      ],
      "metadata": {
        "id": "6fPQXOH8RfBg",
        "colab": {
          "base_uri": "https://localhost:8080/"
        },
        "outputId": "82c8134a-2a46-4abe-d6b3-64cbfebab607"
      },
      "execution_count": null,
      "outputs": [
        {
          "output_type": "stream",
          "name": "stdout",
          "text": [
            "MEDIDAS DA VARIAVEL 'QUANTIDADE DE QUARTOS'DAS CASAS DA REGIÃO SUL\n",
            "Média: 3.10\n",
            "Moda: \n",
            "3\n",
            "Mediana: 3\n",
            "Desvio Padrão:  0.88\n",
            "Coeficiente de variação:  28.25%\n"
          ]
        }
      ]
    },
    {
      "cell_type": "markdown",
      "source": [
        "### *Apartamentos*"
      ],
      "metadata": {
        "id": "woRPYbe24ZJz"
      }
    },
    {
      "cell_type": "code",
      "source": [
        "len(df_apartamentos_co)"
      ],
      "metadata": {
        "id": "_WvQdlw534t4",
        "colab": {
          "base_uri": "https://localhost:8080/"
        },
        "outputId": "f6dfb7b9-360e-4d0f-e03d-223f91ec5be0"
      },
      "execution_count": null,
      "outputs": [
        {
          "output_type": "execute_result",
          "data": {
            "text/plain": [
              "18"
            ]
          },
          "metadata": {},
          "execution_count": 595
        }
      ]
    },
    {
      "cell_type": "code",
      "source": [
        "media_apartamentos_sul = df_apartamentos_sul[\"qtde_quartos\"].mean()\n",
        "moda_apartamentos_sul = df_apartamentos_sul[\"qtde_quartos\"].mode()\n",
        "mediana_apartamentos_sul = df_apartamentos_sul[\"qtde_quartos\"].median()\n",
        "desvio_padrao_apartamentos_sul = df_apartamentos_sul[\"qtde_quartos\"].std()\n",
        "coeficiente_de_variacao_apartamentos_sul = desvio_padrao_apartamentos_sul/media_apartamentos_sul"
      ],
      "metadata": {
        "id": "FT7PdHarIOSe"
      },
      "execution_count": null,
      "outputs": []
    },
    {
      "cell_type": "code",
      "source": [
        "print(\"MEDIDAS DA VARIAVEL 'QUANTIDADE DE QUARTOS' DA REGIÃO SUL\")\n",
        "print(f\"Média: {media_apartamentos_sul:.2f}\")\n",
        "printModa(moda_apartamentos_sul)\n",
        "print(f\"Mediana: {mediana_apartamentos_sul:.0f}\")\n",
        "print(f\"Desvio Padrão:  {desvio_padrao_apartamentos_sul:.2f}\")\n",
        "print(f\"Coeficiente de variação:  {coeficiente_de_variacao_apartamentos_sul *100:.2f}%\")"
      ],
      "metadata": {
        "id": "zO11GS-GJmKS",
        "colab": {
          "base_uri": "https://localhost:8080/"
        },
        "outputId": "04b4a729-95c2-4be7-fec7-8e27ef4117d9"
      },
      "execution_count": null,
      "outputs": [
        {
          "output_type": "stream",
          "name": "stdout",
          "text": [
            "MEDIDAS DA VARIAVEL 'QUANTIDADE DE QUARTOS' DA REGIÃO SUL\n",
            "Média: 2.40\n",
            "Moda: \n",
            "1\n",
            "3\n",
            "Mediana: 3\n",
            "Desvio Padrão:  1.34\n",
            "Coeficiente de variação:  55.90%\n"
          ]
        }
      ]
    },
    {
      "cell_type": "markdown",
      "source": [
        "## Região Leste"
      ],
      "metadata": {
        "id": "I5sYxBBg4wwZ"
      }
    },
    {
      "cell_type": "markdown",
      "source": [
        "### *Medidas Gerais*"
      ],
      "metadata": {
        "id": "Znlq7iSi41Nu"
      }
    },
    {
      "cell_type": "code",
      "source": [
        "len(df_leste)"
      ],
      "metadata": {
        "id": "c3lC6TbiNMXN",
        "colab": {
          "base_uri": "https://localhost:8080/"
        },
        "outputId": "2667ffa3-b48e-4844-8763-4e8674ba81d2"
      },
      "execution_count": null,
      "outputs": [
        {
          "output_type": "execute_result",
          "data": {
            "text/plain": [
              "10"
            ]
          },
          "metadata": {},
          "execution_count": 598
        }
      ]
    },
    {
      "cell_type": "code",
      "source": [
        "media_leste = df_leste[\"qtde_quartos\"].mean()\n",
        "moda_leste = df_leste[\"qtde_quartos\"].mode()\n",
        "mediana_leste = df_leste[\"qtde_quartos\"].median()\n",
        "desvio_padrao_leste = df_leste[\"qtde_quartos\"].std()\n",
        "coeficiente_de_variacao_leste = desvio_padrao_leste/media_leste"
      ],
      "metadata": {
        "id": "MO16s-32QGCK"
      },
      "execution_count": null,
      "outputs": []
    },
    {
      "cell_type": "code",
      "source": [
        "print(\"MEDIDAS DA VARIAVEL 'QUANTIDADE DE QUARTOS' DA REGIÃO LESTE\")\n",
        "print(f\"Média: {media_leste:.2f}\")\n",
        "printModa(moda_leste)\n",
        "print(f\"Mediana: {mediana_leste:.0f}\")\n",
        "print(f\"Desvio Padrão:  {desvio_padrao_leste:.2f}%\")\n",
        "print(f\"Coeficiente de variação:  {coeficiente_de_variacao_leste *100:.2f}%\")"
      ],
      "metadata": {
        "id": "qj8nzCDe41Nu",
        "colab": {
          "base_uri": "https://localhost:8080/"
        },
        "outputId": "d9ee5171-153b-4eb1-8386-d40bc4e8b1d3"
      },
      "execution_count": null,
      "outputs": [
        {
          "output_type": "stream",
          "name": "stdout",
          "text": [
            "MEDIDAS DA VARIAVEL 'QUANTIDADE DE QUARTOS' DA REGIÃO LESTE\n",
            "Média: 2.90\n",
            "Moda: \n",
            "2\n",
            "3\n",
            "Mediana: 3\n",
            "Desvio Padrão:  0.99%\n",
            "Coeficiente de variação:  34.29%\n"
          ]
        }
      ]
    },
    {
      "cell_type": "markdown",
      "source": [
        "### *Casas*"
      ],
      "metadata": {
        "id": "Dz1LbG0C41Nv"
      }
    },
    {
      "cell_type": "code",
      "source": [
        "len(df_casas_leste)"
      ],
      "metadata": {
        "id": "eKUPIvzDQ2ri",
        "colab": {
          "base_uri": "https://localhost:8080/"
        },
        "outputId": "1736a1dd-9e76-4fc8-bfbb-e9a56f858078"
      },
      "execution_count": null,
      "outputs": [
        {
          "output_type": "execute_result",
          "data": {
            "text/plain": [
              "5"
            ]
          },
          "metadata": {},
          "execution_count": 601
        }
      ]
    },
    {
      "cell_type": "code",
      "source": [
        "media_casas_leste = df_casas_leste[\"qtde_quartos\"].mean()\n",
        "moda_casas_leste = df_casas_leste[\"qtde_quartos\"].mode()\n",
        "mediana_casas_leste = df_casas_leste[\"qtde_quartos\"].median()\n",
        "desvio_padrao_casas_leste = df_casas_leste[\"qtde_quartos\"].std()\n",
        "coeficiente_de_variacao_casas_leste = desvio_padrao_casas_leste/media_casas_leste"
      ],
      "metadata": {
        "id": "RuhkKpDbSlJA"
      },
      "execution_count": null,
      "outputs": []
    },
    {
      "cell_type": "code",
      "source": [
        "print(\"MEDIDAS DA VARIAVEL 'QUANTIDADE DE QUARTOS' DAS CASAS DA REGIÃO SUL\")\n",
        "print(f\"Média: {media_casas_leste:.1f}\")\n",
        "printModa(moda_casas_leste)\n",
        "print(f\"Mediana: {mediana_casas_leste:.0f}\")\n",
        "print(f\"Desvio Padrão:  {desvio_padrao_casas_leste:.2f}\")\n",
        "print(f\"Coeficiente de variação:  {coeficiente_de_variacao_casas_leste *100:.2f}%\")"
      ],
      "metadata": {
        "id": "0YdGNcN941Nv",
        "colab": {
          "base_uri": "https://localhost:8080/"
        },
        "outputId": "8b917bbe-0ed6-4898-d717-bc07ec258a77"
      },
      "execution_count": null,
      "outputs": [
        {
          "output_type": "stream",
          "name": "stdout",
          "text": [
            "MEDIDAS DA VARIAVEL 'QUANTIDADE DE QUARTOS' DAS CASAS DA REGIÃO SUL\n",
            "Média: 3.4\n",
            "Moda: \n",
            "3\n",
            "Mediana: 3\n",
            "Desvio Padrão:  1.14\n",
            "Coeficiente de variação:  33.53%\n"
          ]
        }
      ]
    },
    {
      "cell_type": "markdown",
      "source": [
        "### *Apartamentos*"
      ],
      "metadata": {
        "id": "n_2XqHuS41Nv"
      }
    },
    {
      "cell_type": "code",
      "source": [
        "len(df_apartamentos_leste)"
      ],
      "metadata": {
        "id": "MZbknWv4TJFk",
        "colab": {
          "base_uri": "https://localhost:8080/"
        },
        "outputId": "fd40dfc2-4214-4000-d2e3-68a378020164"
      },
      "execution_count": null,
      "outputs": [
        {
          "output_type": "execute_result",
          "data": {
            "text/plain": [
              "5"
            ]
          },
          "metadata": {},
          "execution_count": 604
        }
      ]
    },
    {
      "cell_type": "code",
      "source": [
        "media_apartamentos_leste = df_apartamentos_leste[\"qtde_quartos\"].mean()\n",
        "moda_apartamentos_leste = df_apartamentos_leste[\"qtde_quartos\"].mode()\n",
        "mediana_apartamentos_leste = df_apartamentos_leste[\"qtde_quartos\"].median()\n",
        "desvio_padrao_apartamentos_leste = df_apartamentos_leste[\"qtde_quartos\"].std()\n",
        "coeficiente_de_variacao_apartamentos_leste = desvio_padrao_apartamentos_leste/media_apartamentos_leste"
      ],
      "metadata": {
        "id": "AI85dl-WTI30"
      },
      "execution_count": null,
      "outputs": []
    },
    {
      "cell_type": "code",
      "source": [
        "print(\"MEDIDAS DA VARIAVEL 'QUANTIDADE DE QUARTOS' DOS APARTAMENTOS DA REGIÃO LESTE\")\n",
        "print(f\"Média: {media_apartamentos_leste:.1f}\")\n",
        "printModa(moda_apartamentos_leste)\n",
        "print(f\"Mediana: {mediana_apartamentos_leste:.0f}\")\n",
        "print(f\"Desvio Padrão:  {desvio_padrao_apartamentos_leste:.2f}\")\n",
        "print(f\"Coeficiente de variação:  {coeficiente_de_variacao_apartamentos_leste *100:.2f}%\")"
      ],
      "metadata": {
        "id": "YKBjol_r41Nv",
        "colab": {
          "base_uri": "https://localhost:8080/"
        },
        "outputId": "90095b8c-ec6a-4215-ffc4-41812233a3c1"
      },
      "execution_count": null,
      "outputs": [
        {
          "output_type": "stream",
          "name": "stdout",
          "text": [
            "MEDIDAS DA VARIAVEL 'QUANTIDADE DE QUARTOS' DOS APARTAMENTOS DA REGIÃO LESTE\n",
            "Média: 2.4\n",
            "Moda: \n",
            "2\n",
            "Mediana: 2\n",
            "Desvio Padrão:  0.55\n",
            "Coeficiente de variação:  22.82%\n"
          ]
        }
      ]
    },
    {
      "cell_type": "code",
      "source": [],
      "metadata": {
        "id": "ZaDHyGA2WR96"
      },
      "execution_count": null,
      "outputs": []
    },
    {
      "cell_type": "markdown",
      "source": [
        "## Região Oeste"
      ],
      "metadata": {
        "id": "h_kWIgsz41Nt"
      }
    },
    {
      "cell_type": "markdown",
      "source": [
        "### *Medidas Gerais*"
      ],
      "metadata": {
        "id": "HekEOnT74wwa"
      }
    },
    {
      "cell_type": "code",
      "source": [
        "len(df_oeste)"
      ],
      "metadata": {
        "id": "hhd-sf_hbjhW",
        "colab": {
          "base_uri": "https://localhost:8080/"
        },
        "outputId": "7c1e1e67-16bb-4e20-9ef0-113da67a1b8e"
      },
      "execution_count": null,
      "outputs": [
        {
          "output_type": "execute_result",
          "data": {
            "text/plain": [
              "128"
            ]
          },
          "metadata": {},
          "execution_count": 607
        }
      ]
    },
    {
      "cell_type": "code",
      "source": [
        "media_oeste = df_oeste[\"qtde_quartos\"].mean()\n",
        "moda_oeste = df_oeste[\"qtde_quartos\"].mode()\n",
        "mediana_oeste = df_oeste[\"qtde_quartos\"].median()\n",
        "desvio_padrao_oeste = df_oeste[\"qtde_quartos\"].std()\n",
        "coeficiente_de_variacao_oeste = desvio_padrao_oeste/media_oeste"
      ],
      "metadata": {
        "id": "SMaBcrr5bjSG"
      },
      "execution_count": null,
      "outputs": []
    },
    {
      "cell_type": "code",
      "source": [
        "print(\"MEDIDAS DA VARIAVEL 'QUANTIDADE DE QUARTOS' DA REGIÃO OESTE\")\n",
        "print(f\"Média: {media_oeste:.1f}\")\n",
        "printModa(moda_oeste)\n",
        "print(f\"Mediana: {mediana_oeste:.0f}\")\n",
        "print(f\"Desvio Padrão:  {desvio_padrao_oeste:.2f}\")\n",
        "print(f\"Coeficiente de variação:  {coeficiente_de_variacao_oeste *100:.2f}%\")"
      ],
      "metadata": {
        "id": "_1ItFGvE4wwb",
        "colab": {
          "base_uri": "https://localhost:8080/"
        },
        "outputId": "4d8d10fe-02c9-4cb1-ba1a-98920ba09941"
      },
      "execution_count": null,
      "outputs": [
        {
          "output_type": "stream",
          "name": "stdout",
          "text": [
            "MEDIDAS DA VARIAVEL 'QUANTIDADE DE QUARTOS' DA REGIÃO OESTE\n",
            "Média: 3.1\n",
            "Moda: \n",
            "3\n",
            "Mediana: 3\n",
            "Desvio Padrão:  0.84\n",
            "Coeficiente de variação:  26.89%\n"
          ]
        }
      ]
    },
    {
      "cell_type": "markdown",
      "source": [
        "### *Casas*"
      ],
      "metadata": {
        "id": "5DwQeBYO4wwc"
      }
    },
    {
      "cell_type": "code",
      "source": [
        "len(df_casas_oeste)"
      ],
      "metadata": {
        "id": "kEuJs9KlcVPn",
        "colab": {
          "base_uri": "https://localhost:8080/"
        },
        "outputId": "c565e2a4-7b1b-4d52-bc97-dc0377b71d09"
      },
      "execution_count": null,
      "outputs": [
        {
          "output_type": "execute_result",
          "data": {
            "text/plain": [
              "78"
            ]
          },
          "metadata": {},
          "execution_count": 610
        }
      ]
    },
    {
      "cell_type": "code",
      "source": [
        "media_casas_oeste = df_casas_oeste[\"qtde_quartos\"].mean()\n",
        "moda_casas_oeste = df_casas_oeste[\"qtde_quartos\"].mode()\n",
        "mediana_casas_oeste = df_casas_oeste[\"qtde_quartos\"].median()\n",
        "desvio_padrao_casas_oeste = df_casas_oeste[\"qtde_quartos\"].std()\n",
        "coeficiente_de_variacao_casas_oeste = desvio_padrao_casas_oeste/media_casas_oeste"
      ],
      "metadata": {
        "id": "EOskvlnNcVC3"
      },
      "execution_count": null,
      "outputs": []
    },
    {
      "cell_type": "code",
      "source": [
        "print(\"MEDIDAS DA VARIAVEL 'QUANTIDADE DE QUARTOS' DAS CASAS DA REGIÃO OESTE\")\n",
        "print(f\"Média: {media_casas_oeste:.1f}\")\n",
        "printModa(moda_casas_oeste)\n",
        "print(f\"Mediana: {mediana_casas_oeste:.0f}\")\n",
        "print(f\"Desvio Padrão:  {desvio_padrao_casas_oeste:.2f}\")\n",
        "print(f\"Coeficiente de variação:  {coeficiente_de_variacao_casas_oeste *100:.2f}%\")"
      ],
      "metadata": {
        "id": "PMN_7ToR4wwc",
        "colab": {
          "base_uri": "https://localhost:8080/"
        },
        "outputId": "c66a81be-d3f5-4098-9cf7-9fbff4dce6ad"
      },
      "execution_count": null,
      "outputs": [
        {
          "output_type": "stream",
          "name": "stdout",
          "text": [
            "MEDIDAS DA VARIAVEL 'QUANTIDADE DE QUARTOS' DAS CASAS DA REGIÃO OESTE\n",
            "Média: 3.4\n",
            "Moda: \n",
            "3\n",
            "Mediana: 3\n",
            "Desvio Padrão:  0.84\n",
            "Coeficiente de variação:  24.80%\n"
          ]
        }
      ]
    },
    {
      "cell_type": "markdown",
      "source": [
        "### *Apartamentos*"
      ],
      "metadata": {
        "id": "em4Xl5D94wwc"
      }
    },
    {
      "cell_type": "code",
      "source": [
        "len(df_casas_oeste)"
      ],
      "metadata": {
        "id": "_Y0SMtUUlcQ4",
        "colab": {
          "base_uri": "https://localhost:8080/"
        },
        "outputId": "0d4feb2c-00c6-46f3-e991-3c766f43646b"
      },
      "execution_count": null,
      "outputs": [
        {
          "output_type": "execute_result",
          "data": {
            "text/plain": [
              "78"
            ]
          },
          "metadata": {},
          "execution_count": 613
        }
      ]
    },
    {
      "cell_type": "code",
      "source": [
        "media_apartamentos_oeste = df_apartamentos_oeste[\"qtde_quartos\"].mean()\n",
        "moda_apartamentos_oeste = df_apartamentos_oeste[\"qtde_quartos\"].mode()\n",
        "mediana_apartamentos_oeste = df_apartamentos_oeste[\"qtde_quartos\"].median()\n",
        "desvio_padrao_apartamentos_oeste = df_apartamentos_oeste[\"qtde_quartos\"].std()\n",
        "coeficiente_de_variacao_apartamentos_oeste = desvio_padrao_apartamentos_oeste/media_apartamentos_oeste"
      ],
      "metadata": {
        "id": "wH5uLgQ0lcJB"
      },
      "execution_count": null,
      "outputs": []
    },
    {
      "cell_type": "code",
      "source": [
        "print(\"MEDIDAS DA VARIAVEL 'QUANTIDADE DE QUARTOS' DOS APARTAMENTOS DA REGIÃO OESTE\")\n",
        "print(f\"Média: {media_apartamentos_oeste:.2f}\")\n",
        "printModa(moda_apartamentos_oeste)\n",
        "print(f\"Mediana: {mediana_apartamentos_oeste:.0f}\")\n",
        "print(f\"Desvio Padrão:  {desvio_padrao_apartamentos_oeste:.2f}\")\n",
        "print(f\"Coeficiente de variação:  {coeficiente_de_variacao_apartamentos_oeste *100:.2f}%\")"
      ],
      "metadata": {
        "id": "I_3Du5WV4wwc",
        "colab": {
          "base_uri": "https://localhost:8080/"
        },
        "outputId": "ce24d27a-e73e-4445-b662-06ac1b962bd1"
      },
      "execution_count": null,
      "outputs": [
        {
          "output_type": "stream",
          "name": "stdout",
          "text": [
            "MEDIDAS DA VARIAVEL 'QUANTIDADE DE QUARTOS' DOS APARTAMENTOS DA REGIÃO OESTE\n",
            "Média: 2.68\n",
            "Moda: \n",
            "3\n",
            "Mediana: 3\n",
            "Desvio Padrão:  0.62\n",
            "Coeficiente de variação:  23.16%\n"
          ]
        }
      ]
    },
    {
      "cell_type": "markdown",
      "source": [
        "## Região Centro-Oeste"
      ],
      "metadata": {
        "id": "_S4VdOHV4pKS"
      }
    },
    {
      "cell_type": "markdown",
      "source": [
        "### *Medidas Gerais*"
      ],
      "metadata": {
        "id": "9wIUh1Q94pKS"
      }
    },
    {
      "cell_type": "code",
      "source": [
        "len(df_co)"
      ],
      "metadata": {
        "id": "WZubFZoEfnM1",
        "colab": {
          "base_uri": "https://localhost:8080/"
        },
        "outputId": "d3fb77e2-e3a9-4d13-e8db-febc2c51826c"
      },
      "execution_count": null,
      "outputs": [
        {
          "output_type": "execute_result",
          "data": {
            "text/plain": [
              "42"
            ]
          },
          "metadata": {},
          "execution_count": 616
        }
      ]
    },
    {
      "cell_type": "code",
      "source": [
        "media_co = df_co[\"qtde_quartos\"].mean()\n",
        "moda_co = df_co[\"qtde_quartos\"].mode()\n",
        "mediana_co = df_co[\"qtde_quartos\"].median()\n",
        "desvio_padrao_co = df_co[\"qtde_quartos\"].std()\n",
        "coeficiente_de_variacao_co = desvio_padrao_co/media_co"
      ],
      "metadata": {
        "id": "XTEerRbqfnBe"
      },
      "execution_count": null,
      "outputs": []
    },
    {
      "cell_type": "code",
      "source": [
        "print(\"MEDIDAS DA VARIAVEL 'QUANTIDADE DE QUARTOS' DA REGIÃO CENTRO-OESTE\")\n",
        "print(f\"Média: {media_co:.1f}\")\n",
        "printModa(moda_co)\n",
        "print(f\"Mediana: {mediana_co:.0f}\")\n",
        "print(f\"Desvio Padrão:  {desvio_padrao_co:.2f}\")\n",
        "print(f\"Coeficiente de variação:  {coeficiente_de_variacao_co *100:.2f}%\")"
      ],
      "metadata": {
        "id": "HEmGb9v34pKS",
        "colab": {
          "base_uri": "https://localhost:8080/"
        },
        "outputId": "9247f10b-3ef0-4400-953a-72cae01abf25"
      },
      "execution_count": null,
      "outputs": [
        {
          "output_type": "stream",
          "name": "stdout",
          "text": [
            "MEDIDAS DA VARIAVEL 'QUANTIDADE DE QUARTOS' DA REGIÃO CENTRO-OESTE\n",
            "Média: 2.9\n",
            "Moda: \n",
            "3\n",
            "Mediana: 3\n",
            "Desvio Padrão:  0.87\n",
            "Coeficiente de variação:  29.59%\n"
          ]
        }
      ]
    },
    {
      "cell_type": "markdown",
      "source": [
        "### *Casas*"
      ],
      "metadata": {
        "id": "phx5xp8e4pKT"
      }
    },
    {
      "cell_type": "code",
      "source": [
        "len(df_casas_co)"
      ],
      "metadata": {
        "id": "aQB5o4IZgPIm",
        "colab": {
          "base_uri": "https://localhost:8080/"
        },
        "outputId": "4f862808-386a-49f4-e5a3-65fa42e0f070"
      },
      "execution_count": null,
      "outputs": [
        {
          "output_type": "execute_result",
          "data": {
            "text/plain": [
              "24"
            ]
          },
          "metadata": {},
          "execution_count": 619
        }
      ]
    },
    {
      "cell_type": "code",
      "source": [
        "media_casas_co = df_casas_co[\"qtde_quartos\"].mean()\n",
        "moda_casas_co = df_casas_co[\"qtde_quartos\"].mode()\n",
        "mediana_casas_co = df_casas_co[\"qtde_quartos\"].median()\n",
        "desvio_padrao_casas_co = df_casas_co[\"qtde_quartos\"].std()\n",
        "coeficiente_de_variacao_casas_co = desvio_padrao_casas_co/media_casas_co"
      ],
      "metadata": {
        "id": "Lsu78pbngOvG"
      },
      "execution_count": null,
      "outputs": []
    },
    {
      "cell_type": "code",
      "source": [
        "print(\"MEDIDAS DA VARIAVEL 'QUANTIDADE DE QUARTOS' DAS CASAS DA REGIÃO CENTRO-OESTE\")\n",
        "print(f\"Média: {media_casas_co:.1f}\")\n",
        "printModa(moda_casas_co)\n",
        "print(f\"Mediana: {mediana_casas_co:.0f}\")\n",
        "print(f\"Desvio Padrão:  {desvio_padrao_casas_co:.2f}\")\n",
        "print(f\"Coeficiente de variação:  {coeficiente_de_variacao_casas_co *100:.2f}%\")"
      ],
      "metadata": {
        "id": "VfO4FxoH4pKT",
        "colab": {
          "base_uri": "https://localhost:8080/"
        },
        "outputId": "8d77cfd5-0664-4c8c-ca29-0715425dd771"
      },
      "execution_count": null,
      "outputs": [
        {
          "output_type": "stream",
          "name": "stdout",
          "text": [
            "MEDIDAS DA VARIAVEL 'QUANTIDADE DE QUARTOS' DAS CASAS DA REGIÃO CENTRO-OESTE\n",
            "Média: 3.2\n",
            "Moda: \n",
            "3\n",
            "Mediana: 3\n",
            "Desvio Padrão:  0.88\n",
            "Coeficiente de variação:  27.54%\n"
          ]
        }
      ]
    },
    {
      "cell_type": "markdown",
      "source": [
        "### *Apartamentos*"
      ],
      "metadata": {
        "id": "SC9okbAV4pKT"
      }
    },
    {
      "cell_type": "code",
      "source": [
        "len(df_apartamentos_co)"
      ],
      "metadata": {
        "id": "yRCAVBe-h-tD",
        "colab": {
          "base_uri": "https://localhost:8080/"
        },
        "outputId": "54550031-825c-4910-efcf-494a61090960"
      },
      "execution_count": null,
      "outputs": [
        {
          "output_type": "execute_result",
          "data": {
            "text/plain": [
              "18"
            ]
          },
          "metadata": {},
          "execution_count": 622
        }
      ]
    },
    {
      "cell_type": "code",
      "source": [
        "media_apartamentos_co = df_apartamentos_co[\"qtde_quartos\"].mean()\n",
        "moda_apartamentos_co = df_apartamentos_co[\"qtde_quartos\"].mode()\n",
        "mediana_apartamentos_co = df_apartamentos_co[\"qtde_quartos\"].median()\n",
        "desvio_padrao_apartamentos_co = df_apartamentos_co[\"qtde_quartos\"].std()\n",
        "coeficiente_de_variacao_apartamentos_co = desvio_padrao_apartamentos_co/media_apartamentos_co"
      ],
      "metadata": {
        "id": "mc8uVTrzh-nn"
      },
      "execution_count": null,
      "outputs": []
    },
    {
      "cell_type": "code",
      "source": [
        "print(\"MEDIDAS DA VARIAVEL 'QUANTIDADE DE QUARTOS' DOS APARTAMENTOS DA REGIÃO CENTRO-OESTE\")\n",
        "print(f\"Média: {media_apartamentos_co:.2f}\")\n",
        "printModa(moda_apartamentos_co)\n",
        "print(f\"Mediana: {mediana_apartamentos_co:.0f}\")\n",
        "print(f\"Desvio Padrão:  {desvio_padrao_apartamentos_co:.2f}\")\n",
        "print(f\"Coeficiente de variação:  {coeficiente_de_variacao_apartamentos_co *100:.2f}%\")"
      ],
      "metadata": {
        "id": "0DQkUzlr4pKT",
        "colab": {
          "base_uri": "https://localhost:8080/"
        },
        "outputId": "e2216ff6-1fac-471b-c541-7ea1c18c8106"
      },
      "execution_count": null,
      "outputs": [
        {
          "output_type": "stream",
          "name": "stdout",
          "text": [
            "MEDIDAS DA VARIAVEL 'QUANTIDADE DE QUARTOS' DOS APARTAMENTOS DA REGIÃO CENTRO-OESTE\n",
            "Média: 2.56\n",
            "Moda: \n",
            "3\n",
            "Mediana: 3\n",
            "Desvio Padrão:  0.70\n",
            "Coeficiente de variação:  27.58%\n"
          ]
        }
      ]
    },
    {
      "cell_type": "markdown",
      "source": [
        "## Região Centro-Sul"
      ],
      "metadata": {
        "id": "SeWMACQ15NRw"
      }
    },
    {
      "cell_type": "markdown",
      "source": [
        "### *Medidas Gerais*"
      ],
      "metadata": {
        "id": "s0M6I0M55NRx"
      }
    },
    {
      "cell_type": "code",
      "source": [
        "len(df_cs)"
      ],
      "metadata": {
        "id": "3DZAxnRVmGtF",
        "colab": {
          "base_uri": "https://localhost:8080/"
        },
        "outputId": "e9004c83-5109-4aad-a420-606a3cc8fbc3"
      },
      "execution_count": null,
      "outputs": [
        {
          "output_type": "execute_result",
          "data": {
            "text/plain": [
              "122"
            ]
          },
          "metadata": {},
          "execution_count": 625
        }
      ]
    },
    {
      "cell_type": "code",
      "source": [
        "media_cs = df_cs[\"qtde_quartos\"].mean()\n",
        "moda_cs = df_cs[\"qtde_quartos\"].mode()\n",
        "mediana_cs = df_cs[\"qtde_quartos\"].median()\n",
        "desvio_padrao_cs = df_cs[\"qtde_quartos\"].std()\n",
        "coeficiente_de_variacao_cs = desvio_padrao_cs/media_cs"
      ],
      "metadata": {
        "id": "-GUMJZ1vmGf4"
      },
      "execution_count": null,
      "outputs": []
    },
    {
      "cell_type": "code",
      "source": [
        "print(\"MEDIDAS DA VARIAVEL 'QUANTIDADE DE QUARTOS' DA REGIÃO CENTRO-SUL\")\n",
        "print(f\"Média: {media_cs:.2f}\")\n",
        "printModa(moda_cs)\n",
        "print(f\"Mediana: {mediana_cs:.0f}\")\n",
        "print(f\"Desvio Padrão:  {desvio_padrao_cs:.2f}\")\n",
        "print(f\"Coeficiente de variação:  {coeficiente_de_variacao_cs *100:.2f}%\")"
      ],
      "metadata": {
        "id": "GzjiX5Hq5NRx",
        "colab": {
          "base_uri": "https://localhost:8080/"
        },
        "outputId": "702c0c69-0ddd-4e9e-a4e0-0372099d0091"
      },
      "execution_count": null,
      "outputs": [
        {
          "output_type": "stream",
          "name": "stdout",
          "text": [
            "MEDIDAS DA VARIAVEL 'QUANTIDADE DE QUARTOS' DA REGIÃO CENTRO-SUL\n",
            "Média: 3.03\n",
            "Moda: \n",
            "3\n",
            "Mediana: 3\n",
            "Desvio Padrão:  0.94\n",
            "Coeficiente de variação:  31.13%\n"
          ]
        }
      ]
    },
    {
      "cell_type": "markdown",
      "source": [
        "### *Casas*"
      ],
      "metadata": {
        "id": "s8L5XlnK5NRy"
      }
    },
    {
      "cell_type": "code",
      "source": [
        "len(df_casas_cs)"
      ],
      "metadata": {
        "id": "aqa_wWQ4mt9d",
        "colab": {
          "base_uri": "https://localhost:8080/"
        },
        "outputId": "1a839e13-d42b-4960-d9af-3296584588d6"
      },
      "execution_count": null,
      "outputs": [
        {
          "output_type": "execute_result",
          "data": {
            "text/plain": [
              "58"
            ]
          },
          "metadata": {},
          "execution_count": 628
        }
      ]
    },
    {
      "cell_type": "code",
      "source": [
        "media_casas_cs = df_casas_cs[\"qtde_quartos\"].mean()\n",
        "moda_casas_cs = df_casas_cs[\"qtde_quartos\"].mode()\n",
        "mediana_casas_cs = df_casas_cs[\"qtde_quartos\"].median()\n",
        "desvio_padrao_casas_cs = df_casas_cs[\"qtde_quartos\"].std()\n",
        "coeficiente_de_variacao_casas_cs = desvio_padrao_casas_cs/media_casas_cs\n",
        "variancia = df_casas_cs[\"qtde_quartos\"].var()"
      ],
      "metadata": {
        "id": "uHAsobLWmtxX"
      },
      "execution_count": null,
      "outputs": []
    },
    {
      "cell_type": "code",
      "source": [
        "print(\"MEDIDAS DA VARIAVEL 'QUANTIDADE DE QUARTOS' DAS CASAS DA REGIÃO CENTRO-SUL\")\n",
        "print(f\"Média: {media_casas_cs:.2f}\")\n",
        "printModa(moda_casas_cs)\n",
        "print(f\"Mediana: {mediana_casas_cs:.0f}\")\n",
        "print(f\"Desvio Padrão:  {desvio_padrao_casas_cs:.2f}\")\n",
        "print(f\"Coeficiente de variação:  {coeficiente_de_variacao_casas_cs *100:.2f}%\")"
      ],
      "metadata": {
        "id": "JrkeEf_N5NRy",
        "colab": {
          "base_uri": "https://localhost:8080/"
        },
        "outputId": "61cd5ec4-a1d7-403a-a556-c0cbedbae90d"
      },
      "execution_count": null,
      "outputs": [
        {
          "output_type": "stream",
          "name": "stdout",
          "text": [
            "MEDIDAS DA VARIAVEL 'QUANTIDADE DE QUARTOS' DAS CASAS DA REGIÃO CENTRO-SUL\n",
            "Média: 3.12\n",
            "Moda: \n",
            "3\n",
            "Mediana: 3\n",
            "Desvio Padrão:  1.06\n",
            "Coeficiente de variação:  34.00%\n"
          ]
        }
      ]
    },
    {
      "cell_type": "markdown",
      "source": [
        "### *Apartamentos*"
      ],
      "metadata": {
        "id": "2teOgXip5NRy"
      }
    },
    {
      "cell_type": "code",
      "source": [
        "len(df_apartamentos_cs)"
      ],
      "metadata": {
        "id": "kUJhORhpnfuL",
        "colab": {
          "base_uri": "https://localhost:8080/"
        },
        "outputId": "4634d1af-21f2-49ac-be81-9bc973b9b8b7"
      },
      "execution_count": null,
      "outputs": [
        {
          "output_type": "execute_result",
          "data": {
            "text/plain": [
              "64"
            ]
          },
          "metadata": {},
          "execution_count": 631
        }
      ]
    },
    {
      "cell_type": "code",
      "source": [
        "media_apartamentos_cs = df_apartamentos_cs[\"qtde_quartos\"].mean()\n",
        "moda_apartamentos_cs = df_apartamentos_cs[\"qtde_quartos\"].mode()\n",
        "mediana_apartamentos_cs = df_apartamentos_cs[\"qtde_quartos\"].median()\n",
        "desvio_padrao_apartamentos_cs = df_apartamentos_cs[\"qtde_quartos\"].std()\n",
        "coeficiente_de_variacao_apartamentos_cs = desvio_padrao_apartamentos_cs/media_apartamentos_cs"
      ],
      "metadata": {
        "id": "0k7EL-C1nfm2"
      },
      "execution_count": null,
      "outputs": []
    },
    {
      "cell_type": "code",
      "source": [
        "print(\"MEDIDAS DA VARIAVEL 'QUANTIDADE DE QUARTOS' DOS APARTAMENTOS DA REGIÃO CENTRO-OESTE\")\n",
        "print(f\"Média: {media_apartamentos_cs:.2f}\")\n",
        "printModa(moda_apartamentos_cs)\n",
        "print(f\"Mediana: {mediana_apartamentos_cs:.0f}\")\n",
        "print(f\"Desvio Padrão:  {desvio_padrao_apartamentos_cs:.2f}\")\n",
        "print(f\"Coeficiente de variação:  {coeficiente_de_variacao_apartamentos_cs *100:.2f}%\")"
      ],
      "metadata": {
        "id": "6wKaIvRh5NRy",
        "colab": {
          "base_uri": "https://localhost:8080/"
        },
        "outputId": "ad7d8fa2-7195-49a7-c7ed-49549fc026ad"
      },
      "execution_count": null,
      "outputs": [
        {
          "output_type": "stream",
          "name": "stdout",
          "text": [
            "MEDIDAS DA VARIAVEL 'QUANTIDADE DE QUARTOS' DOS APARTAMENTOS DA REGIÃO CENTRO-OESTE\n",
            "Média: 2.95\n",
            "Moda: \n",
            "3\n",
            "Mediana: 3\n",
            "Desvio Padrão:  0.82\n",
            "Coeficiente de variação:  27.93%\n"
          ]
        }
      ]
    },
    {
      "cell_type": "code",
      "source": [],
      "metadata": {
        "id": "yqGPP3487Y6G"
      },
      "execution_count": null,
      "outputs": []
    },
    {
      "cell_type": "markdown",
      "source": [
        "# → ***Resultados: Quantidade de Quartos***\n",
        "\n",
        "\n",
        "---\n",
        "\n"
      ],
      "metadata": {
        "id": "3EaxPG-b3fj_"
      }
    },
    {
      "cell_type": "markdown",
      "source": [
        "### *Geral*"
      ],
      "metadata": {
        "id": "k7OEZZfU5Nlj"
      }
    },
    {
      "cell_type": "code",
      "source": [
        "df_resultados = pd.DataFrame([\n",
        "    (len(df_norte), f'{media_norte:.2f}', mediana_norte, list(moda_norte), f'{desvio_padrao_norte:.2f}', f'{coeficiente_de_variacao_norte * 100:.2f}%'),\n",
        "    (len(df_sul), f'{media_sul:.2f}', mediana_sul, list(moda_sul), f'{desvio_padrao_sul:.2f}', f'{coeficiente_de_variacao_sul * 100:.2f}%'),\n",
        "    (len(df_leste), f'{media_leste:.2f}', mediana_leste, list(moda_leste), f'{desvio_padrao_leste:.2f}', f'{coeficiente_de_variacao_leste * 100:.2f}%'),\n",
        "    (len(df_oeste), f'{media_oeste:.2f}', mediana_oeste, list(moda_oeste), f'{desvio_padrao_oeste:.2f}', f'{coeficiente_de_variacao_oeste * 100:.2f}%'),\n",
        "    (len(df_co), f'{media_co:.2f}', mediana_co, list(moda_co), f'{desvio_padrao_co:.2f}', f'{coeficiente_de_variacao_co:.2f}%'),\n",
        "    (len(df_cs), f'{media_cs:.2f}', mediana_cs, list(moda_cs), f'{desvio_padrao_cs:.2f}', f'{coeficiente_de_variacao_cs:.2f}%')],\n",
        "    index=('Zona Norte', 'Zona Sul', 'Zona Leste', 'Zona Oeste', 'Zona Centro Oeste', 'Zona Centro-Sul'),\n",
        "    columns=('Total Imóveis', 'Média', 'Mediana', 'Moda', 'Desvio Padrão', 'Coeficiente de Variação'))\n",
        "\n",
        "df_resultados"
      ],
      "metadata": {
        "id": "wCGjPX4i3iqH",
        "colab": {
          "base_uri": "https://localhost:8080/",
          "height": 237
        },
        "outputId": "c6a0a864-88ed-427c-9ea2-13543fc0b777"
      },
      "execution_count": null,
      "outputs": [
        {
          "output_type": "execute_result",
          "data": {
            "text/plain": [
              "                   Total Imóveis Média  Mediana    Moda Desvio Padrão  \\\n",
              "Zona Norte                    73  2.84      3.0     [3]          0.88   \n",
              "Zona Sul                      15  2.87      3.0     [3]          1.06   \n",
              "Zona Leste                    10  2.90      3.0  [2, 3]          0.99   \n",
              "Zona Oeste                   128  3.12      3.0     [3]          0.84   \n",
              "Zona Centro Oeste             42  2.93      3.0     [3]          0.87   \n",
              "Zona Centro-Sul              122  3.03      3.0     [3]          0.94   \n",
              "\n",
              "                  Coeficiente de Variação  \n",
              "Zona Norte                         31.11%  \n",
              "Zona Sul                           36.98%  \n",
              "Zona Leste                         34.29%  \n",
              "Zona Oeste                         26.89%  \n",
              "Zona Centro Oeste                   0.30%  \n",
              "Zona Centro-Sul                     0.31%  "
            ],
            "text/html": [
              "\n",
              "  <div id=\"df-b51325bc-0f1f-4a59-87bb-8b3db3039cab\">\n",
              "    <div class=\"colab-df-container\">\n",
              "      <div>\n",
              "<style scoped>\n",
              "    .dataframe tbody tr th:only-of-type {\n",
              "        vertical-align: middle;\n",
              "    }\n",
              "\n",
              "    .dataframe tbody tr th {\n",
              "        vertical-align: top;\n",
              "    }\n",
              "\n",
              "    .dataframe thead th {\n",
              "        text-align: right;\n",
              "    }\n",
              "</style>\n",
              "<table border=\"1\" class=\"dataframe\">\n",
              "  <thead>\n",
              "    <tr style=\"text-align: right;\">\n",
              "      <th></th>\n",
              "      <th>Total Imóveis</th>\n",
              "      <th>Média</th>\n",
              "      <th>Mediana</th>\n",
              "      <th>Moda</th>\n",
              "      <th>Desvio Padrão</th>\n",
              "      <th>Coeficiente de Variação</th>\n",
              "    </tr>\n",
              "  </thead>\n",
              "  <tbody>\n",
              "    <tr>\n",
              "      <th>Zona Norte</th>\n",
              "      <td>73</td>\n",
              "      <td>2.84</td>\n",
              "      <td>3.0</td>\n",
              "      <td>[3]</td>\n",
              "      <td>0.88</td>\n",
              "      <td>31.11%</td>\n",
              "    </tr>\n",
              "    <tr>\n",
              "      <th>Zona Sul</th>\n",
              "      <td>15</td>\n",
              "      <td>2.87</td>\n",
              "      <td>3.0</td>\n",
              "      <td>[3]</td>\n",
              "      <td>1.06</td>\n",
              "      <td>36.98%</td>\n",
              "    </tr>\n",
              "    <tr>\n",
              "      <th>Zona Leste</th>\n",
              "      <td>10</td>\n",
              "      <td>2.90</td>\n",
              "      <td>3.0</td>\n",
              "      <td>[2, 3]</td>\n",
              "      <td>0.99</td>\n",
              "      <td>34.29%</td>\n",
              "    </tr>\n",
              "    <tr>\n",
              "      <th>Zona Oeste</th>\n",
              "      <td>128</td>\n",
              "      <td>3.12</td>\n",
              "      <td>3.0</td>\n",
              "      <td>[3]</td>\n",
              "      <td>0.84</td>\n",
              "      <td>26.89%</td>\n",
              "    </tr>\n",
              "    <tr>\n",
              "      <th>Zona Centro Oeste</th>\n",
              "      <td>42</td>\n",
              "      <td>2.93</td>\n",
              "      <td>3.0</td>\n",
              "      <td>[3]</td>\n",
              "      <td>0.87</td>\n",
              "      <td>0.30%</td>\n",
              "    </tr>\n",
              "    <tr>\n",
              "      <th>Zona Centro-Sul</th>\n",
              "      <td>122</td>\n",
              "      <td>3.03</td>\n",
              "      <td>3.0</td>\n",
              "      <td>[3]</td>\n",
              "      <td>0.94</td>\n",
              "      <td>0.31%</td>\n",
              "    </tr>\n",
              "  </tbody>\n",
              "</table>\n",
              "</div>\n",
              "      <button class=\"colab-df-convert\" onclick=\"convertToInteractive('df-b51325bc-0f1f-4a59-87bb-8b3db3039cab')\"\n",
              "              title=\"Convert this dataframe to an interactive table.\"\n",
              "              style=\"display:none;\">\n",
              "        \n",
              "  <svg xmlns=\"http://www.w3.org/2000/svg\" height=\"24px\"viewBox=\"0 0 24 24\"\n",
              "       width=\"24px\">\n",
              "    <path d=\"M0 0h24v24H0V0z\" fill=\"none\"/>\n",
              "    <path d=\"M18.56 5.44l.94 2.06.94-2.06 2.06-.94-2.06-.94-.94-2.06-.94 2.06-2.06.94zm-11 1L8.5 8.5l.94-2.06 2.06-.94-2.06-.94L8.5 2.5l-.94 2.06-2.06.94zm10 10l.94 2.06.94-2.06 2.06-.94-2.06-.94-.94-2.06-.94 2.06-2.06.94z\"/><path d=\"M17.41 7.96l-1.37-1.37c-.4-.4-.92-.59-1.43-.59-.52 0-1.04.2-1.43.59L10.3 9.45l-7.72 7.72c-.78.78-.78 2.05 0 2.83L4 21.41c.39.39.9.59 1.41.59.51 0 1.02-.2 1.41-.59l7.78-7.78 2.81-2.81c.8-.78.8-2.07 0-2.86zM5.41 20L4 18.59l7.72-7.72 1.47 1.35L5.41 20z\"/>\n",
              "  </svg>\n",
              "      </button>\n",
              "      \n",
              "  <style>\n",
              "    .colab-df-container {\n",
              "      display:flex;\n",
              "      flex-wrap:wrap;\n",
              "      gap: 12px;\n",
              "    }\n",
              "\n",
              "    .colab-df-convert {\n",
              "      background-color: #E8F0FE;\n",
              "      border: none;\n",
              "      border-radius: 50%;\n",
              "      cursor: pointer;\n",
              "      display: none;\n",
              "      fill: #1967D2;\n",
              "      height: 32px;\n",
              "      padding: 0 0 0 0;\n",
              "      width: 32px;\n",
              "    }\n",
              "\n",
              "    .colab-df-convert:hover {\n",
              "      background-color: #E2EBFA;\n",
              "      box-shadow: 0px 1px 2px rgba(60, 64, 67, 0.3), 0px 1px 3px 1px rgba(60, 64, 67, 0.15);\n",
              "      fill: #174EA6;\n",
              "    }\n",
              "\n",
              "    [theme=dark] .colab-df-convert {\n",
              "      background-color: #3B4455;\n",
              "      fill: #D2E3FC;\n",
              "    }\n",
              "\n",
              "    [theme=dark] .colab-df-convert:hover {\n",
              "      background-color: #434B5C;\n",
              "      box-shadow: 0px 1px 3px 1px rgba(0, 0, 0, 0.15);\n",
              "      filter: drop-shadow(0px 1px 2px rgba(0, 0, 0, 0.3));\n",
              "      fill: #FFFFFF;\n",
              "    }\n",
              "  </style>\n",
              "\n",
              "      <script>\n",
              "        const buttonEl =\n",
              "          document.querySelector('#df-b51325bc-0f1f-4a59-87bb-8b3db3039cab button.colab-df-convert');\n",
              "        buttonEl.style.display =\n",
              "          google.colab.kernel.accessAllowed ? 'block' : 'none';\n",
              "\n",
              "        async function convertToInteractive(key) {\n",
              "          const element = document.querySelector('#df-b51325bc-0f1f-4a59-87bb-8b3db3039cab');\n",
              "          const dataTable =\n",
              "            await google.colab.kernel.invokeFunction('convertToInteractive',\n",
              "                                                     [key], {});\n",
              "          if (!dataTable) return;\n",
              "\n",
              "          const docLinkHtml = 'Like what you see? Visit the ' +\n",
              "            '<a target=\"_blank\" href=https://colab.research.google.com/notebooks/data_table.ipynb>data table notebook</a>'\n",
              "            + ' to learn more about interactive tables.';\n",
              "          element.innerHTML = '';\n",
              "          dataTable['output_type'] = 'display_data';\n",
              "          await google.colab.output.renderOutput(dataTable, element);\n",
              "          const docLink = document.createElement('div');\n",
              "          docLink.innerHTML = docLinkHtml;\n",
              "          element.appendChild(docLink);\n",
              "        }\n",
              "      </script>\n",
              "    </div>\n",
              "  </div>\n",
              "  "
            ]
          },
          "metadata": {},
          "execution_count": 634
        }
      ]
    },
    {
      "cell_type": "markdown",
      "source": [
        "### *Casas*"
      ],
      "metadata": {
        "id": "4ayGp7Mb5Yez"
      }
    },
    {
      "cell_type": "code",
      "source": [
        "df_resultados = pd.DataFrame([\n",
        "    (len(df_casas_norte), f'{media_casas_norte:.2f}', mediana_casas_norte, list(moda_casas_norte), f'{desvio_padrao_casas_norte:.2f}', f'{coeficiente_de_variacao_casas_norte * 100:.2f}%'),\n",
        "    (len(df_casas_sul), f'{media_casas_sul:.2f}', mediana_casas_sul, list(moda_casas_sul), f'{desvio_padrao_casas_sul:.2f}', f'{coeficiente_de_variacao_casas_sul * 100:.2f}%'),\n",
        "    (len(df_casas_leste), f'{media_casas_leste:.2f}', mediana_casas_leste, list(moda_casas_leste), f'{desvio_padrao_casas_leste:.2f}', f'{coeficiente_de_variacao_casas_leste * 100:.2f}%'),\n",
        "    (len(df_casas_oeste), f'{media_casas_oeste:.2f}', mediana_casas_oeste, list(moda_casas_oeste), f'{desvio_padrao_casas_oeste:.2f}', f'{coeficiente_de_variacao_casas_oeste * 100:.2f}%'),\n",
        "    (len(df_casas_co), f'{media_casas_co:.2f}', mediana_casas_co, list(moda_casas_co), f'{desvio_padrao_casas_co:.2f}', f'{coeficiente_de_variacao_casas_co * 100:.2f}%'),\n",
        "    (len(df_casas_cs), f'{media_casas_cs:.2f}', mediana_casas_cs, list(moda_casas_cs), f'{desvio_padrao_casas_cs:.2f}', f'{coeficiente_de_variacao_casas_cs * 100:.2f}%')],\n",
        "    index=('Zona Norte', 'Zona Sul', 'Zona Leste', 'Zona Oeste', 'Zona Centro Oeste', 'Zona Centro-Sul'),\n",
        "    columns=('Total Imóveis', 'Média', 'Mediana', 'Moda', 'Desvio Padrão', 'Coeficiente de Variação'))\n",
        "\n",
        "df_resultados"
      ],
      "metadata": {
        "id": "iyKJ6DS35cTi",
        "colab": {
          "base_uri": "https://localhost:8080/",
          "height": 237
        },
        "outputId": "1a1de456-66c1-40c3-af65-e4b4b66c666d"
      },
      "execution_count": null,
      "outputs": [
        {
          "output_type": "execute_result",
          "data": {
            "text/plain": [
              "                   Total Imóveis Média  Mediana Moda Desvio Padrão  \\\n",
              "Zona Norte                    62  2.92      3.0  [3]          0.91   \n",
              "Zona Sul                      10  3.10      3.0  [3]          0.88   \n",
              "Zona Leste                     5  3.40      3.0  [3]          1.14   \n",
              "Zona Oeste                    78  3.40      3.0  [3]          0.84   \n",
              "Zona Centro Oeste             24  3.21      3.0  [3]          0.88   \n",
              "Zona Centro-Sul               58  3.12      3.0  [3]          1.06   \n",
              "\n",
              "                  Coeficiente de Variação  \n",
              "Zona Norte                         31.20%  \n",
              "Zona Sul                           28.25%  \n",
              "Zona Leste                         33.53%  \n",
              "Zona Oeste                         24.80%  \n",
              "Zona Centro Oeste                  27.54%  \n",
              "Zona Centro-Sul                    34.00%  "
            ],
            "text/html": [
              "\n",
              "  <div id=\"df-eeb9dbc0-2a9b-4424-8249-34cac64a2a74\">\n",
              "    <div class=\"colab-df-container\">\n",
              "      <div>\n",
              "<style scoped>\n",
              "    .dataframe tbody tr th:only-of-type {\n",
              "        vertical-align: middle;\n",
              "    }\n",
              "\n",
              "    .dataframe tbody tr th {\n",
              "        vertical-align: top;\n",
              "    }\n",
              "\n",
              "    .dataframe thead th {\n",
              "        text-align: right;\n",
              "    }\n",
              "</style>\n",
              "<table border=\"1\" class=\"dataframe\">\n",
              "  <thead>\n",
              "    <tr style=\"text-align: right;\">\n",
              "      <th></th>\n",
              "      <th>Total Imóveis</th>\n",
              "      <th>Média</th>\n",
              "      <th>Mediana</th>\n",
              "      <th>Moda</th>\n",
              "      <th>Desvio Padrão</th>\n",
              "      <th>Coeficiente de Variação</th>\n",
              "    </tr>\n",
              "  </thead>\n",
              "  <tbody>\n",
              "    <tr>\n",
              "      <th>Zona Norte</th>\n",
              "      <td>62</td>\n",
              "      <td>2.92</td>\n",
              "      <td>3.0</td>\n",
              "      <td>[3]</td>\n",
              "      <td>0.91</td>\n",
              "      <td>31.20%</td>\n",
              "    </tr>\n",
              "    <tr>\n",
              "      <th>Zona Sul</th>\n",
              "      <td>10</td>\n",
              "      <td>3.10</td>\n",
              "      <td>3.0</td>\n",
              "      <td>[3]</td>\n",
              "      <td>0.88</td>\n",
              "      <td>28.25%</td>\n",
              "    </tr>\n",
              "    <tr>\n",
              "      <th>Zona Leste</th>\n",
              "      <td>5</td>\n",
              "      <td>3.40</td>\n",
              "      <td>3.0</td>\n",
              "      <td>[3]</td>\n",
              "      <td>1.14</td>\n",
              "      <td>33.53%</td>\n",
              "    </tr>\n",
              "    <tr>\n",
              "      <th>Zona Oeste</th>\n",
              "      <td>78</td>\n",
              "      <td>3.40</td>\n",
              "      <td>3.0</td>\n",
              "      <td>[3]</td>\n",
              "      <td>0.84</td>\n",
              "      <td>24.80%</td>\n",
              "    </tr>\n",
              "    <tr>\n",
              "      <th>Zona Centro Oeste</th>\n",
              "      <td>24</td>\n",
              "      <td>3.21</td>\n",
              "      <td>3.0</td>\n",
              "      <td>[3]</td>\n",
              "      <td>0.88</td>\n",
              "      <td>27.54%</td>\n",
              "    </tr>\n",
              "    <tr>\n",
              "      <th>Zona Centro-Sul</th>\n",
              "      <td>58</td>\n",
              "      <td>3.12</td>\n",
              "      <td>3.0</td>\n",
              "      <td>[3]</td>\n",
              "      <td>1.06</td>\n",
              "      <td>34.00%</td>\n",
              "    </tr>\n",
              "  </tbody>\n",
              "</table>\n",
              "</div>\n",
              "      <button class=\"colab-df-convert\" onclick=\"convertToInteractive('df-eeb9dbc0-2a9b-4424-8249-34cac64a2a74')\"\n",
              "              title=\"Convert this dataframe to an interactive table.\"\n",
              "              style=\"display:none;\">\n",
              "        \n",
              "  <svg xmlns=\"http://www.w3.org/2000/svg\" height=\"24px\"viewBox=\"0 0 24 24\"\n",
              "       width=\"24px\">\n",
              "    <path d=\"M0 0h24v24H0V0z\" fill=\"none\"/>\n",
              "    <path d=\"M18.56 5.44l.94 2.06.94-2.06 2.06-.94-2.06-.94-.94-2.06-.94 2.06-2.06.94zm-11 1L8.5 8.5l.94-2.06 2.06-.94-2.06-.94L8.5 2.5l-.94 2.06-2.06.94zm10 10l.94 2.06.94-2.06 2.06-.94-2.06-.94-.94-2.06-.94 2.06-2.06.94z\"/><path d=\"M17.41 7.96l-1.37-1.37c-.4-.4-.92-.59-1.43-.59-.52 0-1.04.2-1.43.59L10.3 9.45l-7.72 7.72c-.78.78-.78 2.05 0 2.83L4 21.41c.39.39.9.59 1.41.59.51 0 1.02-.2 1.41-.59l7.78-7.78 2.81-2.81c.8-.78.8-2.07 0-2.86zM5.41 20L4 18.59l7.72-7.72 1.47 1.35L5.41 20z\"/>\n",
              "  </svg>\n",
              "      </button>\n",
              "      \n",
              "  <style>\n",
              "    .colab-df-container {\n",
              "      display:flex;\n",
              "      flex-wrap:wrap;\n",
              "      gap: 12px;\n",
              "    }\n",
              "\n",
              "    .colab-df-convert {\n",
              "      background-color: #E8F0FE;\n",
              "      border: none;\n",
              "      border-radius: 50%;\n",
              "      cursor: pointer;\n",
              "      display: none;\n",
              "      fill: #1967D2;\n",
              "      height: 32px;\n",
              "      padding: 0 0 0 0;\n",
              "      width: 32px;\n",
              "    }\n",
              "\n",
              "    .colab-df-convert:hover {\n",
              "      background-color: #E2EBFA;\n",
              "      box-shadow: 0px 1px 2px rgba(60, 64, 67, 0.3), 0px 1px 3px 1px rgba(60, 64, 67, 0.15);\n",
              "      fill: #174EA6;\n",
              "    }\n",
              "\n",
              "    [theme=dark] .colab-df-convert {\n",
              "      background-color: #3B4455;\n",
              "      fill: #D2E3FC;\n",
              "    }\n",
              "\n",
              "    [theme=dark] .colab-df-convert:hover {\n",
              "      background-color: #434B5C;\n",
              "      box-shadow: 0px 1px 3px 1px rgba(0, 0, 0, 0.15);\n",
              "      filter: drop-shadow(0px 1px 2px rgba(0, 0, 0, 0.3));\n",
              "      fill: #FFFFFF;\n",
              "    }\n",
              "  </style>\n",
              "\n",
              "      <script>\n",
              "        const buttonEl =\n",
              "          document.querySelector('#df-eeb9dbc0-2a9b-4424-8249-34cac64a2a74 button.colab-df-convert');\n",
              "        buttonEl.style.display =\n",
              "          google.colab.kernel.accessAllowed ? 'block' : 'none';\n",
              "\n",
              "        async function convertToInteractive(key) {\n",
              "          const element = document.querySelector('#df-eeb9dbc0-2a9b-4424-8249-34cac64a2a74');\n",
              "          const dataTable =\n",
              "            await google.colab.kernel.invokeFunction('convertToInteractive',\n",
              "                                                     [key], {});\n",
              "          if (!dataTable) return;\n",
              "\n",
              "          const docLinkHtml = 'Like what you see? Visit the ' +\n",
              "            '<a target=\"_blank\" href=https://colab.research.google.com/notebooks/data_table.ipynb>data table notebook</a>'\n",
              "            + ' to learn more about interactive tables.';\n",
              "          element.innerHTML = '';\n",
              "          dataTable['output_type'] = 'display_data';\n",
              "          await google.colab.output.renderOutput(dataTable, element);\n",
              "          const docLink = document.createElement('div');\n",
              "          docLink.innerHTML = docLinkHtml;\n",
              "          element.appendChild(docLink);\n",
              "        }\n",
              "      </script>\n",
              "    </div>\n",
              "  </div>\n",
              "  "
            ]
          },
          "metadata": {},
          "execution_count": 635
        }
      ]
    },
    {
      "cell_type": "markdown",
      "source": [
        "### *Apartamentos*"
      ],
      "metadata": {
        "id": "-7Ke-2ih5aGD"
      }
    },
    {
      "cell_type": "code",
      "source": [
        "df_resultados = pd.DataFrame([\n",
        "    (len(df_apartamentos_norte), f'{media_apartamentos_norte:.2f}', mediana_apartamentos_norte, list(moda_apartamentos_norte), f'{desvio_padrao_apartamentos_norte:.2f}', f'{coeficiente_de_variacao_apartamentos_norte * 100:.2f}%'),\n",
        "    (len(df_apartamentos_sul), f'{media_apartamentos_sul:.2f}', mediana_apartamentos_sul, list(moda_apartamentos_sul), f'{desvio_padrao_apartamentos_sul:.2f}', f'{coeficiente_de_variacao_apartamentos_sul * 100:.2f}%'),\n",
        "    (len(df_apartamentos_leste), f'{media_apartamentos_leste:.2f}', mediana_apartamentos_leste, list(moda_apartamentos_leste), f'{desvio_padrao_apartamentos_leste:.2f}', f'{coeficiente_de_variacao_apartamentos_leste * 100:.2f}%'),\n",
        "    (len(df_apartamentos_oeste), f'{media_apartamentos_oeste:.2f}', mediana_oeste, list(moda_oeste), f'{desvio_padrao_apartamentos_oeste:.2f}', f'{coeficiente_de_variacao_apartamentos_oeste * 100:.2f}%'),\n",
        "    (len(df_apartamentos_co), f'{media_apartamentos_co:.2f}', mediana_apartamentos_co, list(moda_apartamentos_co), f'{desvio_padrao_apartamentos_co:.2f}', f'{coeficiente_de_variacao_apartamentos_co * 100:.2f}%'),\n",
        "    (len(df_apartamentos_cs), f'{media_apartamentos_cs:.2f}', mediana_apartamentos_cs, list(moda_apartamentos_cs), f'{desvio_padrao_apartamentos_cs:.2f}', f'{coeficiente_de_variacao_apartamentos_cs * 100:.2f}%')],\n",
        "    index=('Zona Norte', 'Zona Sul', 'Zona Leste', 'Zona Oeste', 'Zona Centro Oeste', 'Zona Centro-Sul'),\n",
        "    columns=('Total Imóveis', 'Média', 'Mediana', 'Moda', 'Desvio Padrão', 'Coeficiente de Variação'))\n",
        "\n",
        "df_resultados"
      ],
      "metadata": {
        "id": "S1zg6oAl6nGc",
        "colab": {
          "base_uri": "https://localhost:8080/",
          "height": 237
        },
        "outputId": "50318054-49cf-4c03-8d8e-1ebc969930c4"
      },
      "execution_count": null,
      "outputs": [
        {
          "output_type": "execute_result",
          "data": {
            "text/plain": [
              "                   Total Imóveis Média  Mediana    Moda Desvio Padrão  \\\n",
              "Zona Norte                    11  2.36      2.0     [2]          0.50   \n",
              "Zona Sul                       5  2.40      3.0  [1, 3]          1.34   \n",
              "Zona Leste                     5  2.40      2.0     [2]          0.55   \n",
              "Zona Oeste                    50  2.68      3.0     [3]          0.62   \n",
              "Zona Centro Oeste             18  2.56      3.0     [3]          0.70   \n",
              "Zona Centro-Sul               64  2.95      3.0     [3]          0.82   \n",
              "\n",
              "                  Coeficiente de Variação  \n",
              "Zona Norte                         21.35%  \n",
              "Zona Sul                           55.90%  \n",
              "Zona Leste                         22.82%  \n",
              "Zona Oeste                         23.16%  \n",
              "Zona Centro Oeste                  27.58%  \n",
              "Zona Centro-Sul                    27.93%  "
            ],
            "text/html": [
              "\n",
              "  <div id=\"df-4850da65-8b20-4b7b-bdfa-4e1a22390517\">\n",
              "    <div class=\"colab-df-container\">\n",
              "      <div>\n",
              "<style scoped>\n",
              "    .dataframe tbody tr th:only-of-type {\n",
              "        vertical-align: middle;\n",
              "    }\n",
              "\n",
              "    .dataframe tbody tr th {\n",
              "        vertical-align: top;\n",
              "    }\n",
              "\n",
              "    .dataframe thead th {\n",
              "        text-align: right;\n",
              "    }\n",
              "</style>\n",
              "<table border=\"1\" class=\"dataframe\">\n",
              "  <thead>\n",
              "    <tr style=\"text-align: right;\">\n",
              "      <th></th>\n",
              "      <th>Total Imóveis</th>\n",
              "      <th>Média</th>\n",
              "      <th>Mediana</th>\n",
              "      <th>Moda</th>\n",
              "      <th>Desvio Padrão</th>\n",
              "      <th>Coeficiente de Variação</th>\n",
              "    </tr>\n",
              "  </thead>\n",
              "  <tbody>\n",
              "    <tr>\n",
              "      <th>Zona Norte</th>\n",
              "      <td>11</td>\n",
              "      <td>2.36</td>\n",
              "      <td>2.0</td>\n",
              "      <td>[2]</td>\n",
              "      <td>0.50</td>\n",
              "      <td>21.35%</td>\n",
              "    </tr>\n",
              "    <tr>\n",
              "      <th>Zona Sul</th>\n",
              "      <td>5</td>\n",
              "      <td>2.40</td>\n",
              "      <td>3.0</td>\n",
              "      <td>[1, 3]</td>\n",
              "      <td>1.34</td>\n",
              "      <td>55.90%</td>\n",
              "    </tr>\n",
              "    <tr>\n",
              "      <th>Zona Leste</th>\n",
              "      <td>5</td>\n",
              "      <td>2.40</td>\n",
              "      <td>2.0</td>\n",
              "      <td>[2]</td>\n",
              "      <td>0.55</td>\n",
              "      <td>22.82%</td>\n",
              "    </tr>\n",
              "    <tr>\n",
              "      <th>Zona Oeste</th>\n",
              "      <td>50</td>\n",
              "      <td>2.68</td>\n",
              "      <td>3.0</td>\n",
              "      <td>[3]</td>\n",
              "      <td>0.62</td>\n",
              "      <td>23.16%</td>\n",
              "    </tr>\n",
              "    <tr>\n",
              "      <th>Zona Centro Oeste</th>\n",
              "      <td>18</td>\n",
              "      <td>2.56</td>\n",
              "      <td>3.0</td>\n",
              "      <td>[3]</td>\n",
              "      <td>0.70</td>\n",
              "      <td>27.58%</td>\n",
              "    </tr>\n",
              "    <tr>\n",
              "      <th>Zona Centro-Sul</th>\n",
              "      <td>64</td>\n",
              "      <td>2.95</td>\n",
              "      <td>3.0</td>\n",
              "      <td>[3]</td>\n",
              "      <td>0.82</td>\n",
              "      <td>27.93%</td>\n",
              "    </tr>\n",
              "  </tbody>\n",
              "</table>\n",
              "</div>\n",
              "      <button class=\"colab-df-convert\" onclick=\"convertToInteractive('df-4850da65-8b20-4b7b-bdfa-4e1a22390517')\"\n",
              "              title=\"Convert this dataframe to an interactive table.\"\n",
              "              style=\"display:none;\">\n",
              "        \n",
              "  <svg xmlns=\"http://www.w3.org/2000/svg\" height=\"24px\"viewBox=\"0 0 24 24\"\n",
              "       width=\"24px\">\n",
              "    <path d=\"M0 0h24v24H0V0z\" fill=\"none\"/>\n",
              "    <path d=\"M18.56 5.44l.94 2.06.94-2.06 2.06-.94-2.06-.94-.94-2.06-.94 2.06-2.06.94zm-11 1L8.5 8.5l.94-2.06 2.06-.94-2.06-.94L8.5 2.5l-.94 2.06-2.06.94zm10 10l.94 2.06.94-2.06 2.06-.94-2.06-.94-.94-2.06-.94 2.06-2.06.94z\"/><path d=\"M17.41 7.96l-1.37-1.37c-.4-.4-.92-.59-1.43-.59-.52 0-1.04.2-1.43.59L10.3 9.45l-7.72 7.72c-.78.78-.78 2.05 0 2.83L4 21.41c.39.39.9.59 1.41.59.51 0 1.02-.2 1.41-.59l7.78-7.78 2.81-2.81c.8-.78.8-2.07 0-2.86zM5.41 20L4 18.59l7.72-7.72 1.47 1.35L5.41 20z\"/>\n",
              "  </svg>\n",
              "      </button>\n",
              "      \n",
              "  <style>\n",
              "    .colab-df-container {\n",
              "      display:flex;\n",
              "      flex-wrap:wrap;\n",
              "      gap: 12px;\n",
              "    }\n",
              "\n",
              "    .colab-df-convert {\n",
              "      background-color: #E8F0FE;\n",
              "      border: none;\n",
              "      border-radius: 50%;\n",
              "      cursor: pointer;\n",
              "      display: none;\n",
              "      fill: #1967D2;\n",
              "      height: 32px;\n",
              "      padding: 0 0 0 0;\n",
              "      width: 32px;\n",
              "    }\n",
              "\n",
              "    .colab-df-convert:hover {\n",
              "      background-color: #E2EBFA;\n",
              "      box-shadow: 0px 1px 2px rgba(60, 64, 67, 0.3), 0px 1px 3px 1px rgba(60, 64, 67, 0.15);\n",
              "      fill: #174EA6;\n",
              "    }\n",
              "\n",
              "    [theme=dark] .colab-df-convert {\n",
              "      background-color: #3B4455;\n",
              "      fill: #D2E3FC;\n",
              "    }\n",
              "\n",
              "    [theme=dark] .colab-df-convert:hover {\n",
              "      background-color: #434B5C;\n",
              "      box-shadow: 0px 1px 3px 1px rgba(0, 0, 0, 0.15);\n",
              "      filter: drop-shadow(0px 1px 2px rgba(0, 0, 0, 0.3));\n",
              "      fill: #FFFFFF;\n",
              "    }\n",
              "  </style>\n",
              "\n",
              "      <script>\n",
              "        const buttonEl =\n",
              "          document.querySelector('#df-4850da65-8b20-4b7b-bdfa-4e1a22390517 button.colab-df-convert');\n",
              "        buttonEl.style.display =\n",
              "          google.colab.kernel.accessAllowed ? 'block' : 'none';\n",
              "\n",
              "        async function convertToInteractive(key) {\n",
              "          const element = document.querySelector('#df-4850da65-8b20-4b7b-bdfa-4e1a22390517');\n",
              "          const dataTable =\n",
              "            await google.colab.kernel.invokeFunction('convertToInteractive',\n",
              "                                                     [key], {});\n",
              "          if (!dataTable) return;\n",
              "\n",
              "          const docLinkHtml = 'Like what you see? Visit the ' +\n",
              "            '<a target=\"_blank\" href=https://colab.research.google.com/notebooks/data_table.ipynb>data table notebook</a>'\n",
              "            + ' to learn more about interactive tables.';\n",
              "          element.innerHTML = '';\n",
              "          dataTable['output_type'] = 'display_data';\n",
              "          await google.colab.output.renderOutput(dataTable, element);\n",
              "          const docLink = document.createElement('div');\n",
              "          docLink.innerHTML = docLinkHtml;\n",
              "          element.appendChild(docLink);\n",
              "        }\n",
              "      </script>\n",
              "    </div>\n",
              "  </div>\n",
              "  "
            ]
          },
          "metadata": {},
          "execution_count": 636
        }
      ]
    },
    {
      "cell_type": "markdown",
      "source": [
        "# 🟆 Variável: Quantidade de Banheiros (Quantitativa)\n",
        "\n",
        "\n",
        "---\n",
        "\n"
      ],
      "metadata": {
        "id": "qFO9kw-Zea2t"
      }
    },
    {
      "cell_type": "markdown",
      "source": [
        "## Medidas Gerais"
      ],
      "metadata": {
        "id": "QxfRp0FaRh7o"
      }
    },
    {
      "cell_type": "markdown",
      "source": [
        "### *Geral*"
      ],
      "metadata": {
        "id": "AQ11hYvqU67f"
      }
    },
    {
      "cell_type": "code",
      "source": [
        "media = df[\"qtde_banheiros\"].mean()\n",
        "moda = int(df[\"qtde_banheiros\"].mode())\n",
        "mediana = df[\"qtde_banheiros\"].median()\n",
        "desvio_padrao = df[\"qtde_banheiros\"].std()\n",
        "coeficiente_de_variacao = desvio_padrao/media\n",
        "coeficiente_porcentagem = coeficiente_de_variacao * 100"
      ],
      "metadata": {
        "id": "8SLvBnUJP47E"
      },
      "execution_count": null,
      "outputs": []
    },
    {
      "cell_type": "code",
      "source": [
        "print(f'Média: {media:.2f}')\n",
        "print(f'Mediana: {mediana:.0f}')\n",
        "print(f'Moda: {moda}')\n",
        "print(f'Desvio Padrão: {desvio_padrao:.2f}%')\n",
        "print(f'Coeficiente de Variação: {coeficiente_porcentagem:.2f}%')"
      ],
      "metadata": {
        "id": "HbXWRHAWQDlg",
        "colab": {
          "base_uri": "https://localhost:8080/"
        },
        "outputId": "e3201172-6400-4bcb-c0c9-d0f34bc8d523"
      },
      "execution_count": null,
      "outputs": [
        {
          "output_type": "stream",
          "name": "stdout",
          "text": [
            "Média: 2.76\n",
            "Mediana: 2\n",
            "Moda: 2\n",
            "Desvio Padrão: 1.41%\n",
            "Coeficiente de Variação: 51.10%\n"
          ]
        }
      ]
    },
    {
      "cell_type": "markdown",
      "source": [
        "### *Casas*"
      ],
      "metadata": {
        "id": "Z1rdmW4HU21D"
      }
    },
    {
      "cell_type": "code",
      "source": [
        "len(df_casas)"
      ],
      "metadata": {
        "id": "VPFyUI9vPxMi",
        "colab": {
          "base_uri": "https://localhost:8080/"
        },
        "outputId": "3e14b8f7-e091-448d-b67c-75bd9fcd59cb"
      },
      "execution_count": null,
      "outputs": [
        {
          "output_type": "execute_result",
          "data": {
            "text/plain": [
              "237"
            ]
          },
          "metadata": {},
          "execution_count": 639
        }
      ]
    },
    {
      "cell_type": "code",
      "source": [
        "media_casas = df_casas[\"qtde_banheiros\"].mean()\n",
        "moda_casas = df_casas[\"qtde_banheiros\"].mode()\n",
        "mediana_casas = df_casas[\"qtde_banheiros\"].median()\n",
        "desvio_padrao_casas = df_casas[\"qtde_banheiros\"].std()\n",
        "coeficiente_de_variacao_casas = desvio_padrao_casas/media_casas\n",
        "coeficiente_porcentagem_casas = coeficiente_de_variacao_casas * 100"
      ],
      "metadata": {
        "id": "LBmplHP7P1pG"
      },
      "execution_count": null,
      "outputs": []
    },
    {
      "cell_type": "code",
      "source": [
        "print(f'Média: {media_casas:.2f}')\n",
        "print(f'Mediana: {mediana_casas:.0f}')\n",
        "print(f'Moda: {moda_casas}')\n",
        "print(f'Desvio Padrão: {desvio_padrao_casas:.2f}%')\n",
        "print(f'Coeficiente de Variação: {coeficiente_porcentagem_casas:.2f}%')"
      ],
      "metadata": {
        "id": "gIf6i0PkYzRu",
        "colab": {
          "base_uri": "https://localhost:8080/"
        },
        "outputId": "6e20feb9-3154-4bfb-a4ab-ed4f08aab1a0"
      },
      "execution_count": null,
      "outputs": [
        {
          "output_type": "stream",
          "name": "stdout",
          "text": [
            "Média: 2.97\n",
            "Mediana: 3\n",
            "Moda: 0    2\n",
            "dtype: int64\n",
            "Desvio Padrão: 1.44%\n",
            "Coeficiente de Variação: 48.45%\n"
          ]
        }
      ]
    },
    {
      "cell_type": "markdown",
      "source": [
        "### *Apartamentos*"
      ],
      "metadata": {
        "id": "WsLzajjRU47x"
      }
    },
    {
      "cell_type": "code",
      "source": [
        "len(df_apartamentos)"
      ],
      "metadata": {
        "id": "LPnTIqnuWLkA",
        "colab": {
          "base_uri": "https://localhost:8080/"
        },
        "outputId": "fc45ec05-723b-48bb-cd64-a8e2a1690cca"
      },
      "execution_count": null,
      "outputs": [
        {
          "output_type": "execute_result",
          "data": {
            "text/plain": [
              "153"
            ]
          },
          "metadata": {},
          "execution_count": 642
        }
      ]
    },
    {
      "cell_type": "code",
      "source": [
        "media_apartamentos = df_apartamentos[\"qtde_banheiros\"].mean()\n",
        "moda_apartamentos = df_apartamentos[\"qtde_banheiros\"].mode()\n",
        "mediana_apartamentos = df_apartamentos[\"qtde_banheiros\"].median()\n",
        "desvio_padrao_apartamentos = df_apartamentos[\"qtde_banheiros\"].std()\n",
        "coeficiente_de_variacao_apartamentos = desvio_padrao_apartamentos/media_apartamentos\n",
        "coeficiente_porcentagem_apartamentos = coeficiente_de_variacao_apartamentos * 100"
      ],
      "metadata": {
        "id": "dGQgVCGHWSRK"
      },
      "execution_count": null,
      "outputs": []
    },
    {
      "cell_type": "code",
      "source": [
        "print(f'Média: {media_apartamentos:.2f}')\n",
        "print(f'Mediana: {mediana_apartamentos:.0f}')\n",
        "print(f'Moda: {moda_apartamentos}')\n",
        "print(f'Desvio Padrão: {desvio_padrao_apartamentos:.2f}%')\n",
        "print(f'Coeficiente de Variação: {coeficiente_porcentagem_apartamentos:.2f}%')"
      ],
      "metadata": {
        "id": "BB4rbvM1W7sE",
        "colab": {
          "base_uri": "https://localhost:8080/"
        },
        "outputId": "97dbb5b5-16f5-425c-8703-d2fc21a4c82e"
      },
      "execution_count": null,
      "outputs": [
        {
          "output_type": "stream",
          "name": "stdout",
          "text": [
            "Média: 2.42\n",
            "Mediana: 2\n",
            "Moda: 0    2\n",
            "dtype: int64\n",
            "Desvio Padrão: 1.30%\n",
            "Coeficiente de Variação: 53.46%\n"
          ]
        }
      ]
    },
    {
      "cell_type": "markdown",
      "source": [
        "## Região Norte"
      ],
      "metadata": {
        "id": "u0vbjxkYRxsT"
      }
    },
    {
      "cell_type": "code",
      "source": [
        "len(df_norte)"
      ],
      "metadata": {
        "id": "WmcsvfjXkxRa",
        "colab": {
          "base_uri": "https://localhost:8080/"
        },
        "outputId": "621ed429-5c41-416e-8ee1-d96f825fe8ff"
      },
      "execution_count": null,
      "outputs": [
        {
          "output_type": "execute_result",
          "data": {
            "text/plain": [
              "73"
            ]
          },
          "metadata": {},
          "execution_count": 645
        }
      ]
    },
    {
      "cell_type": "markdown",
      "source": [
        "### *Casas*"
      ],
      "metadata": {
        "id": "NH_bcEVpVQDX"
      }
    },
    {
      "cell_type": "code",
      "source": [
        "df_casas_norte = df_norte.loc[df[\"categoria\"] == \"Casas\"]\n",
        "\n",
        "len(df_casas_norte)"
      ],
      "metadata": {
        "id": "iets2wWwk_Xm",
        "colab": {
          "base_uri": "https://localhost:8080/"
        },
        "outputId": "52882708-3f61-4e46-a24c-0c32a074a594"
      },
      "execution_count": null,
      "outputs": [
        {
          "output_type": "execute_result",
          "data": {
            "text/plain": [
              "62"
            ]
          },
          "metadata": {},
          "execution_count": 646
        }
      ]
    },
    {
      "cell_type": "code",
      "source": [
        "media_casas_norte = df_casas_norte[\"qtde_banheiros\"].mean()\n",
        "moda_casas_norte = df_casas_norte[\"qtde_banheiros\"].mode()\n",
        "mediana_casas_norte = df_casas_norte[\"qtde_banheiros\"].median()\n",
        "desvio_padrao_casas_norte = df_casas_norte[\"qtde_banheiros\"].std()\n",
        "coeficiente_de_variacao_casas_norte = desvio_padrao_casas_norte/media_casas_norte\n",
        "coeficiente_porcentagem_casas_norte = coeficiente_de_variacao_casas_norte * 100"
      ],
      "metadata": {
        "id": "hxEdCW6Wledf"
      },
      "execution_count": null,
      "outputs": []
    },
    {
      "cell_type": "code",
      "source": [
        "print(f'Média: {media_casas_norte:.2f}')\n",
        "print(f'Mediana: {mediana_casas_norte:.0f}')\n",
        "print(f'Moda: {moda_casas_norte}')\n",
        "print(f'Desvio Padrão: {desvio_padrao_casas_norte:.2f}%')\n",
        "print(f'Coeficiente de Variação: {coeficiente_porcentagem_casas_norte:.2f}%')"
      ],
      "metadata": {
        "id": "auFAGdx4lv83",
        "colab": {
          "base_uri": "https://localhost:8080/"
        },
        "outputId": "bbb530d9-1607-4835-e108-07b9fc8bafce"
      },
      "execution_count": null,
      "outputs": [
        {
          "output_type": "stream",
          "name": "stdout",
          "text": [
            "Média: 2.39\n",
            "Mediana: 2\n",
            "Moda: 0    2\n",
            "dtype: int64\n",
            "Desvio Padrão: 1.15%\n",
            "Coeficiente de Variação: 48.19%\n"
          ]
        }
      ]
    },
    {
      "cell_type": "markdown",
      "source": [
        "### *Apartamentos*"
      ],
      "metadata": {
        "id": "8SiNjiGCVRQW"
      }
    },
    {
      "cell_type": "code",
      "source": [
        "len(df_apartamentos_sul)"
      ],
      "metadata": {
        "id": "ANZazOPql62X",
        "colab": {
          "base_uri": "https://localhost:8080/"
        },
        "outputId": "ceb35c56-d3bf-43bd-cc83-dc422752e872"
      },
      "execution_count": null,
      "outputs": [
        {
          "output_type": "execute_result",
          "data": {
            "text/plain": [
              "5"
            ]
          },
          "metadata": {},
          "execution_count": 649
        }
      ]
    },
    {
      "cell_type": "code",
      "source": [
        "media_apartamentos_norte= df_apartamentos_norte[\"qtde_banheiros\"].mean()\n",
        "moda_apartamentos_norte = df_apartamentos_norte[\"qtde_banheiros\"].mode()\n",
        "mediana_apartamentos_norte = df_apartamentos_norte[\"qtde_banheiros\"].median()\n",
        "desvio_padrao_apartamentos_norte = df_apartamentos_norte[\"qtde_banheiros\"].std()\n",
        "coeficiente_de_variacao_apartamentos_norte = desvio_padrao_apartamentos_norte/media_apartamentos_norte\n",
        "coeficiente_porcentagem_apartamentos_norte = coeficiente_de_variacao_apartamentos_norte * 100"
      ],
      "metadata": {
        "id": "JBWqqgsemFOw"
      },
      "execution_count": null,
      "outputs": []
    },
    {
      "cell_type": "code",
      "source": [
        "print(f'Média: {media_apartamentos_norte:.2f}')\n",
        "print(f'Mediana: {mediana_apartamentos_norte:.0f}')\n",
        "print(f'Moda: {moda_apartamentos_norte}')\n",
        "print(f'Desvio Padrão: {desvio_padrao_apartamentos_norte:.2f}%')\n",
        "print(f'Coeficiente de Variação: {coeficiente_porcentagem_apartamentos_norte:.2f}%')"
      ],
      "metadata": {
        "id": "pYOMfB3TmHW7",
        "colab": {
          "base_uri": "https://localhost:8080/"
        },
        "outputId": "1849b5cf-e697-4aef-e52a-e774cf447432"
      },
      "execution_count": null,
      "outputs": [
        {
          "output_type": "stream",
          "name": "stdout",
          "text": [
            "Média: 1.45\n",
            "Mediana: 1\n",
            "Moda: 0    1\n",
            "dtype: int64\n",
            "Desvio Padrão: 0.52%\n",
            "Coeficiente de Variação: 35.90%\n"
          ]
        }
      ]
    },
    {
      "cell_type": "markdown",
      "source": [
        "### *Geral*"
      ],
      "metadata": {
        "id": "PkeBNgP5VS4G"
      }
    },
    {
      "cell_type": "code",
      "source": [
        "media_norte = df_norte[\"qtde_banheiros\"].mean()\n",
        "moda_norte = int(df_norte[\"qtde_banheiros\"].mode())\n",
        "mediana_norte = df_norte[\"qtde_banheiros\"].median()\n",
        "desvio_padrao_norte = df_norte[\"qtde_banheiros\"].std()\n",
        "coeficiente_de_variacao_norte = desvio_padrao_norte/media_norte\n",
        "coeficiente_porcentagem_norte = coeficiente_de_variacao_norte * 100"
      ],
      "metadata": {
        "id": "i-9khW5JmkmE"
      },
      "execution_count": null,
      "outputs": []
    },
    {
      "cell_type": "code",
      "source": [
        "print(f'Média: {media_norte:.2f}')\n",
        "print(f'Mediana: {mediana_norte:.0f}')\n",
        "print(f'Moda: {moda_norte}')\n",
        "print(f'Desvio Padrão: {desvio_padrao_norte:.2f}%')\n",
        "print(f'Coeficiente de Variação: {coeficiente_porcentagem_norte:.2f}%')"
      ],
      "metadata": {
        "id": "8ITocRGVmnQV",
        "colab": {
          "base_uri": "https://localhost:8080/"
        },
        "outputId": "f5965f7e-38d0-4840-8575-c76fc594f86e"
      },
      "execution_count": null,
      "outputs": [
        {
          "output_type": "stream",
          "name": "stdout",
          "text": [
            "Média: 2.25\n",
            "Mediana: 2\n",
            "Moda: 2\n",
            "Desvio Padrão: 1.13%\n",
            "Coeficiente de Variação: 50.20%\n"
          ]
        }
      ]
    },
    {
      "cell_type": "markdown",
      "source": [
        "## Região Sul"
      ],
      "metadata": {
        "id": "icw2I1QIR3T8"
      }
    },
    {
      "cell_type": "code",
      "source": [
        "len(df_sul)"
      ],
      "metadata": {
        "id": "-UZ20sJ2m54R",
        "colab": {
          "base_uri": "https://localhost:8080/"
        },
        "outputId": "b1342447-5953-4626-d0bf-6a31b45d157c"
      },
      "execution_count": null,
      "outputs": [
        {
          "output_type": "execute_result",
          "data": {
            "text/plain": [
              "15"
            ]
          },
          "metadata": {},
          "execution_count": 654
        }
      ]
    },
    {
      "cell_type": "markdown",
      "source": [
        "### *Casas*"
      ],
      "metadata": {
        "id": "wT37kZ1WVUOx"
      }
    },
    {
      "cell_type": "code",
      "source": [
        "len(df_casas_sul)"
      ],
      "metadata": {
        "id": "Ns43wDmdnFgR",
        "colab": {
          "base_uri": "https://localhost:8080/"
        },
        "outputId": "04595f2a-d0a8-4738-d640-83c231550046"
      },
      "execution_count": null,
      "outputs": [
        {
          "output_type": "execute_result",
          "data": {
            "text/plain": [
              "10"
            ]
          },
          "metadata": {},
          "execution_count": 655
        }
      ]
    },
    {
      "cell_type": "code",
      "source": [
        "media_casas_sul = df_casas_sul[\"qtde_banheiros\"].mean()\n",
        "moda_casas_sul = df_casas_sul[\"qtde_banheiros\"].mode()\n",
        "mediana_casas_sul = df_casas_sul[\"qtde_banheiros\"].median()\n",
        "desvio_padrao_casas_sul = df_casas_sul[\"qtde_banheiros\"].std()\n",
        "coeficiente_de_variacao_casas_sul = desvio_padrao_casas_sul/media_casas\n",
        "coeficiente_porcentagem_casas_sul = coeficiente_de_variacao_casas_sul * 100"
      ],
      "metadata": {
        "id": "PR4hveIJnHie"
      },
      "execution_count": null,
      "outputs": []
    },
    {
      "cell_type": "code",
      "source": [
        "print(f'Média: {media_casas_sul:.2f}')\n",
        "print(f'Mediana: {mediana_casas_sul:.0f}')\n",
        "print(f'Moda: {moda_casas_sul}')\n",
        "print(f'Desvio Padrão: {desvio_padrao_casas_sul:.2f}%')\n",
        "print(f'Coeficiente de Variação: {coeficiente_porcentagem_casas_sul:.2f}%')"
      ],
      "metadata": {
        "id": "gaB1eWfKnJe1",
        "colab": {
          "base_uri": "https://localhost:8080/"
        },
        "outputId": "a8b6fd33-7e68-402a-e225-af9078964df0"
      },
      "execution_count": null,
      "outputs": [
        {
          "output_type": "stream",
          "name": "stdout",
          "text": [
            "Média: 2.60\n",
            "Mediana: 3\n",
            "Moda: 0    3\n",
            "dtype: int64\n",
            "Desvio Padrão: 1.35%\n",
            "Coeficiente de Variação: 45.44%\n"
          ]
        }
      ]
    },
    {
      "cell_type": "markdown",
      "source": [
        "### *Apartamentos*"
      ],
      "metadata": {
        "id": "887rao6RVVet"
      }
    },
    {
      "cell_type": "code",
      "source": [
        "\n",
        "len(df_apartamentos_sul)"
      ],
      "metadata": {
        "id": "C7ZRoii-njTM",
        "colab": {
          "base_uri": "https://localhost:8080/"
        },
        "outputId": "10ebcf87-11d3-4573-c014-9ab443ecb12e"
      },
      "execution_count": null,
      "outputs": [
        {
          "output_type": "execute_result",
          "data": {
            "text/plain": [
              "5"
            ]
          },
          "metadata": {},
          "execution_count": 658
        }
      ]
    },
    {
      "cell_type": "code",
      "source": [
        "media_apartamentos_sul = df_apartamentos_sul[\"qtde_banheiros\"].mean()\n",
        "moda_apartamentos_sul = df_apartamentos_sul[\"qtde_banheiros\"].mode()\n",
        "mediana_apartamentos_sul = df_apartamentos_sul[\"qtde_banheiros\"].median()\n",
        "desvio_padrao_apartamentos_sul = df_apartamentos_sul[\"qtde_banheiros\"].std()\n",
        "coeficiente_de_variacao_apartamentos_sul = desvio_padrao_apartamentos_sul/media_apartamentos_sul\n",
        "coeficiente_porcentagem_apartamentos_sul = coeficiente_de_variacao_apartamentos_sul * 100"
      ],
      "metadata": {
        "id": "o6QQo9lRnr9u"
      },
      "execution_count": null,
      "outputs": []
    },
    {
      "cell_type": "code",
      "source": [
        "print(f'Média: {media_apartamentos_sul:.2f}')\n",
        "print(f'Mediana: {mediana_apartamentos_sul:.0f}')\n",
        "print(f'Moda: {moda_apartamentos_sul}')\n",
        "print(f'Desvio Padrão: {desvio_padrao_apartamentos_sul:.2f}%')\n",
        "print(f'Coeficiente de Variação: {coeficiente_porcentagem_apartamentos_sul:.2f}%')"
      ],
      "metadata": {
        "id": "a6KG7jv2nt7w",
        "colab": {
          "base_uri": "https://localhost:8080/"
        },
        "outputId": "2202d222-8a49-4fc1-9ae4-f6b2047db072"
      },
      "execution_count": null,
      "outputs": [
        {
          "output_type": "stream",
          "name": "stdout",
          "text": [
            "Média: 2.00\n",
            "Mediana: 1\n",
            "Moda: 0    1\n",
            "dtype: int64\n",
            "Desvio Padrão: 1.73%\n",
            "Coeficiente de Variação: 86.60%\n"
          ]
        }
      ]
    },
    {
      "cell_type": "markdown",
      "source": [
        "### *Geral*"
      ],
      "metadata": {
        "id": "MnRUATGoVW6h"
      }
    },
    {
      "cell_type": "code",
      "source": [
        "media_sul = df_sul[\"qtde_banheiros\"].mean()\n",
        "moda_sul = int(df_sul[\"qtde_banheiros\"].mode())\n",
        "mediana_sul = df_sul[\"qtde_banheiros\"].median()\n",
        "desvio_padrao_sul = df_sul[\"qtde_banheiros\"].std()\n",
        "coeficiente_de_variacao_sul = desvio_padrao_sul/media_sul\n",
        "coeficiente_porcentagem_sul = coeficiente_de_variacao_sul * 100"
      ],
      "metadata": {
        "id": "gFxQMpt5osMB"
      },
      "execution_count": null,
      "outputs": []
    },
    {
      "cell_type": "code",
      "source": [
        "print(f'Média: {media_sul:.2f}')\n",
        "print(f'Mediana: {mediana_sul:.0f}')\n",
        "print(f'Moda: {moda_sul}')\n",
        "print(f'Desvio Padrão: {desvio_padrao_sul:.2f}%')\n",
        "print(f'Coeficiente de Variação: {coeficiente_porcentagem_sul:.2f}%')"
      ],
      "metadata": {
        "id": "hdoQwDgFouMi",
        "colab": {
          "base_uri": "https://localhost:8080/"
        },
        "outputId": "cbcb025b-bc60-4614-f372-ffe8f2976058"
      },
      "execution_count": null,
      "outputs": [
        {
          "output_type": "stream",
          "name": "stdout",
          "text": [
            "Média: 2.40\n",
            "Mediana: 2\n",
            "Moda: 1\n",
            "Desvio Padrão: 1.45%\n",
            "Coeficiente de Variação: 60.59%\n"
          ]
        }
      ]
    },
    {
      "cell_type": "markdown",
      "source": [
        "## Região Leste"
      ],
      "metadata": {
        "id": "V25lq9icR5MN"
      }
    },
    {
      "cell_type": "code",
      "source": [
        "len(df_leste)"
      ],
      "metadata": {
        "id": "Wg-mbi4zo_pE",
        "colab": {
          "base_uri": "https://localhost:8080/"
        },
        "outputId": "a2b82e8d-cc94-4ced-c6f4-e8b2c524eb56"
      },
      "execution_count": null,
      "outputs": [
        {
          "output_type": "execute_result",
          "data": {
            "text/plain": [
              "10"
            ]
          },
          "metadata": {},
          "execution_count": 663
        }
      ]
    },
    {
      "cell_type": "markdown",
      "source": [
        "### *Casas*"
      ],
      "metadata": {
        "id": "3PnJc6LUVaP2"
      }
    },
    {
      "cell_type": "code",
      "source": [
        "\n",
        "len(df_casas_leste)"
      ],
      "metadata": {
        "id": "zmst6ku-pIRb",
        "colab": {
          "base_uri": "https://localhost:8080/"
        },
        "outputId": "fe8b7018-871c-41f2-a191-834de480a14a"
      },
      "execution_count": null,
      "outputs": [
        {
          "output_type": "execute_result",
          "data": {
            "text/plain": [
              "5"
            ]
          },
          "metadata": {},
          "execution_count": 664
        }
      ]
    },
    {
      "cell_type": "code",
      "source": [
        "media_casas_leste = df_casas_leste[\"qtde_banheiros\"].mean()\n",
        "moda_casas_leste = df_casas_leste[\"qtde_banheiros\"].mode()\n",
        "mediana_casas_leste = df_casas_leste[\"qtde_banheiros\"].median()\n",
        "desvio_padrao_casas_leste = df_casas_leste[\"qtde_banheiros\"].std()\n",
        "coeficiente_de_variacao_casas_leste = desvio_padrao_casas_leste/media_casas_leste\n",
        "coeficiente_porcentagem_casas_leste = coeficiente_de_variacao_casas_leste * 100"
      ],
      "metadata": {
        "id": "IFUR2-P6pKg9"
      },
      "execution_count": null,
      "outputs": []
    },
    {
      "cell_type": "code",
      "source": [
        "print(f'Média: {media_casas_leste:.2f}')\n",
        "print(f'Mediana: {mediana_casas_leste:.0f}')\n",
        "print(f'Moda: {moda_casas_leste}')\n",
        "print(f'Desvio Padrão: {desvio_padrao_casas_leste:.2f}%')\n",
        "print(f'Coeficiente de Variação: {coeficiente_porcentagem_casas_leste:.2f}%')"
      ],
      "metadata": {
        "id": "zbS83QADpOuc",
        "colab": {
          "base_uri": "https://localhost:8080/"
        },
        "outputId": "88a209ef-d76a-4031-d9ed-745ea4750757"
      },
      "execution_count": null,
      "outputs": [
        {
          "output_type": "stream",
          "name": "stdout",
          "text": [
            "Média: 3.00\n",
            "Mediana: 3\n",
            "Moda: 0    2\n",
            "1    4\n",
            "dtype: int64\n",
            "Desvio Padrão: 1.00%\n",
            "Coeficiente de Variação: 33.33%\n"
          ]
        }
      ]
    },
    {
      "cell_type": "markdown",
      "source": [
        "### *Apartamentos*"
      ],
      "metadata": {
        "id": "dUtZ5QjEVbOZ"
      }
    },
    {
      "cell_type": "code",
      "source": [
        "len(df_apartamentos_oeste)"
      ],
      "metadata": {
        "id": "CH2BrP0wpjRB",
        "colab": {
          "base_uri": "https://localhost:8080/"
        },
        "outputId": "48260bfe-b10a-4bb7-a2e0-47f9f9dcad99"
      },
      "execution_count": null,
      "outputs": [
        {
          "output_type": "execute_result",
          "data": {
            "text/plain": [
              "50"
            ]
          },
          "metadata": {},
          "execution_count": 667
        }
      ]
    },
    {
      "cell_type": "code",
      "source": [
        "media_apartamentos_leste = df_apartamentos_leste[\"qtde_banheiros\"].mean()\n",
        "moda_apartamentos_leste = df_apartamentos_leste[\"qtde_banheiros\"].mode()\n",
        "mediana_apartamentos_leste = df_apartamentos_leste[\"qtde_banheiros\"].median()\n",
        "desvio_padrao_apartamentos_leste = df_apartamentos_leste[\"qtde_banheiros\"].std()\n",
        "coeficiente_de_variacao_apartamentos_leste = desvio_padrao_apartamentos_leste/media_apartamentos_leste\n",
        "coeficiente_porcentagem_apartamentos_leste = coeficiente_de_variacao_apartamentos_leste * 100"
      ],
      "metadata": {
        "id": "nxTW3_cmplWd"
      },
      "execution_count": null,
      "outputs": []
    },
    {
      "cell_type": "code",
      "source": [
        "print(f'Média: {media_apartamentos_leste:.2f}')\n",
        "print(f'Mediana: {mediana_apartamentos_leste:.0f}')\n",
        "print(f'Moda: {moda_apartamentos_leste}')\n",
        "print(f'Desvio Padrão: {desvio_padrao_apartamentos_leste:.2f}%')\n",
        "print(f'Coeficiente de Variação: {coeficiente_porcentagem_apartamentos_leste:.2f}%')"
      ],
      "metadata": {
        "id": "sZOi1HzwpnMb",
        "colab": {
          "base_uri": "https://localhost:8080/"
        },
        "outputId": "5ec6157b-a4a7-4512-f584-abfc5969981c"
      },
      "execution_count": null,
      "outputs": [
        {
          "output_type": "stream",
          "name": "stdout",
          "text": [
            "Média: 1.60\n",
            "Mediana: 2\n",
            "Moda: 0    2\n",
            "dtype: int64\n",
            "Desvio Padrão: 0.55%\n",
            "Coeficiente de Variação: 34.23%\n"
          ]
        }
      ]
    },
    {
      "cell_type": "markdown",
      "source": [
        "### *Geral*"
      ],
      "metadata": {
        "id": "8ViC63u_Vc4Z"
      }
    },
    {
      "cell_type": "code",
      "source": [
        "media_leste = df_leste[\"qtde_banheiros\"].mean()\n",
        "moda_leste = int(df_leste[\"qtde_banheiros\"].mode())\n",
        "mediana_leste = df_leste[\"qtde_banheiros\"].median()\n",
        "desvio_padrao_leste = df_leste[\"qtde_banheiros\"].std()\n",
        "coeficiente_de_variacao_leste = desvio_padrao_leste/media_leste\n",
        "coeficiente_porcentagem_leste = coeficiente_de_variacao_leste * 100"
      ],
      "metadata": {
        "id": "szYLsBqcp_t9"
      },
      "execution_count": null,
      "outputs": []
    },
    {
      "cell_type": "code",
      "source": [
        "print(f'Média: {media_leste:.2f}')\n",
        "print(f'Mediana: {mediana_leste:.0f}')\n",
        "print(f'Moda: {moda_leste}')\n",
        "print(f'Desvio Padrão: {desvio_padrao_leste:.2f}%')\n",
        "print(f'Coeficiente de Variação: {coeficiente_porcentagem_leste:.2f}%')"
      ],
      "metadata": {
        "id": "AuuMUnxQqBrR",
        "colab": {
          "base_uri": "https://localhost:8080/"
        },
        "outputId": "ec79dabd-af5f-40e9-9de5-3568e440ad1b"
      },
      "execution_count": null,
      "outputs": [
        {
          "output_type": "stream",
          "name": "stdout",
          "text": [
            "Média: 2.30\n",
            "Mediana: 2\n",
            "Moda: 2\n",
            "Desvio Padrão: 1.06%\n",
            "Coeficiente de Variação: 46.06%\n"
          ]
        }
      ]
    },
    {
      "cell_type": "markdown",
      "source": [
        "## Região Oeste"
      ],
      "metadata": {
        "id": "bXmthrXtR5kZ"
      }
    },
    {
      "cell_type": "code",
      "source": [
        "len(df_oeste)"
      ],
      "metadata": {
        "id": "ioISrrvrqdWw",
        "colab": {
          "base_uri": "https://localhost:8080/"
        },
        "outputId": "f7a5cb12-bbff-4150-d8f7-431cbddb1c1b"
      },
      "execution_count": null,
      "outputs": [
        {
          "output_type": "execute_result",
          "data": {
            "text/plain": [
              "128"
            ]
          },
          "metadata": {},
          "execution_count": 672
        }
      ]
    },
    {
      "cell_type": "markdown",
      "source": [
        "### *Geral*"
      ],
      "metadata": {
        "id": "1ajiUl43VhPf"
      }
    },
    {
      "cell_type": "code",
      "source": [
        "media_oeste = df_oeste[\"qtde_banheiros\"].mean()\n",
        "moda_oeste = int(df_oeste[\"qtde_banheiros\"].mode())\n",
        "mediana_oeste = df_oeste[\"qtde_banheiros\"].median()\n",
        "desvio_padrao_oeste = df_oeste[\"qtde_banheiros\"].std()\n",
        "coeficiente_de_variacao_oeste = desvio_padrao_oeste/media_oeste\n",
        "coeficiente_porcentagem_oeste = coeficiente_de_variacao_oeste * 100"
      ],
      "metadata": {
        "id": "DlR5Si6sraaR"
      },
      "execution_count": null,
      "outputs": []
    },
    {
      "cell_type": "code",
      "source": [
        "print(f'Média: {media_oeste:.2f}')\n",
        "print(f'Mediana: {mediana_oeste:.0f}')\n",
        "print(f'Moda: {moda_oeste}')\n",
        "print(f'Desvio Padrão: {desvio_padrao_oeste:.2f}%')\n",
        "print(f'Coeficiente de Variação: {coeficiente_porcentagem_oeste:.2f}%')"
      ],
      "metadata": {
        "id": "z8RNcIOOrcRd",
        "colab": {
          "base_uri": "https://localhost:8080/"
        },
        "outputId": "2628bc8b-e015-4d98-d132-5851b170ae10"
      },
      "execution_count": null,
      "outputs": [
        {
          "output_type": "stream",
          "name": "stdout",
          "text": [
            "Média: 3.09\n",
            "Mediana: 3\n",
            "Moda: 5\n",
            "Desvio Padrão: 1.53%\n",
            "Coeficiente de Variação: 49.48%\n"
          ]
        }
      ]
    },
    {
      "cell_type": "markdown",
      "source": [
        "### *Casas*"
      ],
      "metadata": {
        "id": "WJWRTKQiVe56"
      }
    },
    {
      "cell_type": "code",
      "source": [
        "len(df_casas_oeste)"
      ],
      "metadata": {
        "id": "0VFIcx0uqpe1",
        "colab": {
          "base_uri": "https://localhost:8080/"
        },
        "outputId": "bde8e891-3d84-4559-eff4-3c897b75fda4"
      },
      "execution_count": null,
      "outputs": [
        {
          "output_type": "execute_result",
          "data": {
            "text/plain": [
              "78"
            ]
          },
          "metadata": {},
          "execution_count": 675
        }
      ]
    },
    {
      "cell_type": "code",
      "source": [
        "media_casas_oeste = df_casas_oeste[\"qtde_banheiros\"].mean()\n",
        "moda_casas_oeste = df_casas_oeste[\"qtde_banheiros\"].mode()\n",
        "mediana_casas_oeste = df_casas_oeste[\"qtde_banheiros\"].median()\n",
        "desvio_padrao_casas_oeste = df_casas_oeste[\"qtde_banheiros\"].std()\n",
        "coeficiente_de_variacao_casas_oeste = desvio_padrao_casas_oeste/media_casas_oeste\n",
        "coeficiente_porcentagem_casas_oeste = coeficiente_de_variacao_casas_oeste * 100"
      ],
      "metadata": {
        "id": "sn75mtF0qrZG"
      },
      "execution_count": null,
      "outputs": []
    },
    {
      "cell_type": "code",
      "source": [
        "print(f'Média: {media_casas_oeste:.2f}')\n",
        "print(f'Mediana: {mediana_casas_oeste:.0f}')\n",
        "print(f'Moda: {moda_casas_oeste}')\n",
        "print(f'Desvio Padrão: {desvio_padrao_casas_oeste:.2f}%')\n",
        "print(f'Coeficiente de Variação: {coeficiente_porcentagem_casas_oeste:.2f}%')"
      ],
      "metadata": {
        "id": "nWSoZsiiqtYg",
        "colab": {
          "base_uri": "https://localhost:8080/"
        },
        "outputId": "17e0d3cb-a91b-46c4-9525-7092953c369f"
      },
      "execution_count": null,
      "outputs": [
        {
          "output_type": "stream",
          "name": "stdout",
          "text": [
            "Média: 3.62\n",
            "Mediana: 4\n",
            "Moda: 0    5\n",
            "dtype: int64\n",
            "Desvio Padrão: 1.43%\n",
            "Coeficiente de Variação: 39.68%\n"
          ]
        }
      ]
    },
    {
      "cell_type": "markdown",
      "source": [
        "### *Apartamentos*"
      ],
      "metadata": {
        "id": "-Nrddie_Vf8z"
      }
    },
    {
      "cell_type": "code",
      "source": [
        "len(df_apartamentos_oeste)"
      ],
      "metadata": {
        "id": "-qzKWRoPrDP_",
        "colab": {
          "base_uri": "https://localhost:8080/"
        },
        "outputId": "a29d1f94-fe53-4ed4-a227-5347f93f8e50"
      },
      "execution_count": null,
      "outputs": [
        {
          "output_type": "execute_result",
          "data": {
            "text/plain": [
              "50"
            ]
          },
          "metadata": {},
          "execution_count": 678
        }
      ]
    },
    {
      "cell_type": "code",
      "source": [
        "media_apartamentos_oeste = df_apartamentos_oeste[\"qtde_banheiros\"].mean()\n",
        "moda_apartamentos_oeste = df_apartamentos_oeste[\"qtde_banheiros\"].mode()\n",
        "mediana_apartamentos_oeste = df_apartamentos_oeste[\"qtde_banheiros\"].median()\n",
        "desvio_padrao_apartamentos_oeste = df_apartamentos_oeste[\"qtde_banheiros\"].std()\n",
        "coeficiente_de_variacao_apartamentos_oeste = desvio_padrao_apartamentos_oeste/media_apartamentos_oeste\n",
        "coeficiente_porcentagem_apartamentos_oeste = coeficiente_de_variacao_apartamentos_oeste * 100"
      ],
      "metadata": {
        "id": "J6GK4XdSrFzB"
      },
      "execution_count": null,
      "outputs": []
    },
    {
      "cell_type": "code",
      "source": [
        "print(f'Média: {media_apartamentos_oeste:.2f}')\n",
        "print(f'Mediana: {mediana_apartamentos_oeste:.0f}')\n",
        "print(f'Moda: {moda_apartamentos_oeste}')\n",
        "print(f'Desvio Padrão: {desvio_padrao_apartamentos_oeste:.2f}%')\n",
        "print(f'Coeficiente de Variação: {coeficiente_porcentagem_apartamentos_oeste:.2f}%')"
      ],
      "metadata": {
        "id": "UrJk3fzjrHuS",
        "colab": {
          "base_uri": "https://localhost:8080/"
        },
        "outputId": "740ff295-6df5-48d3-e47e-0788f44c61d8"
      },
      "execution_count": null,
      "outputs": [
        {
          "output_type": "stream",
          "name": "stdout",
          "text": [
            "Média: 2.26\n",
            "Mediana: 2\n",
            "Moda: 0    1\n",
            "dtype: int64\n",
            "Desvio Padrão: 1.29%\n",
            "Coeficiente de Variação: 57.11%\n"
          ]
        }
      ]
    },
    {
      "cell_type": "markdown",
      "source": [
        "## Região Centro Oeste"
      ],
      "metadata": {
        "id": "Bit832NQR53R"
      }
    },
    {
      "cell_type": "code",
      "source": [
        "len(df_co)"
      ],
      "metadata": {
        "id": "PRKU2_ybr4Cj",
        "colab": {
          "base_uri": "https://localhost:8080/"
        },
        "outputId": "1f7a659d-c047-4b8f-cd89-69ea65109957"
      },
      "execution_count": null,
      "outputs": [
        {
          "output_type": "execute_result",
          "data": {
            "text/plain": [
              "42"
            ]
          },
          "metadata": {},
          "execution_count": 681
        }
      ]
    },
    {
      "cell_type": "markdown",
      "source": [
        "### *Casas*"
      ],
      "metadata": {
        "id": "D_VWmNuUVjjF"
      }
    },
    {
      "cell_type": "code",
      "source": [
        "len(df_casas_co)"
      ],
      "metadata": {
        "id": "MvWDeKUUsAoz",
        "colab": {
          "base_uri": "https://localhost:8080/"
        },
        "outputId": "7e52b866-e6fe-49ea-8713-8c7332498822"
      },
      "execution_count": null,
      "outputs": [
        {
          "output_type": "execute_result",
          "data": {
            "text/plain": [
              "24"
            ]
          },
          "metadata": {},
          "execution_count": 682
        }
      ]
    },
    {
      "cell_type": "code",
      "source": [
        "media_casas_co = df_casas_co[\"qtde_banheiros\"].mean()\n",
        "moda_casas_co = df_casas_co[\"qtde_banheiros\"].mode()\n",
        "mediana_casas_co = df_casas_co[\"qtde_banheiros\"].median()\n",
        "desvio_padrao_casas_co = df_casas_co[\"qtde_banheiros\"].std()\n",
        "coeficiente_de_variacao_casas_co = desvio_padrao_casas_co/media_casas_co\n",
        "coeficiente_porcentagem_casas_co = coeficiente_de_variacao_casas_co * 100"
      ],
      "metadata": {
        "id": "o_P5dr0_sCdw"
      },
      "execution_count": null,
      "outputs": []
    },
    {
      "cell_type": "code",
      "source": [
        "print(f'Média: {media_casas_co:.2f}')\n",
        "print(f'Mediana: {mediana_casas_co:.0f}')\n",
        "print(f'Moda: {moda_casas_co}')\n",
        "print(f'Desvio Padrão: {desvio_padrao_casas_co:.2f}%')\n",
        "print(f'Coeficiente de Variação: {coeficiente_porcentagem_casas_co:.2f}%')"
      ],
      "metadata": {
        "id": "_1AAYroasElX",
        "colab": {
          "base_uri": "https://localhost:8080/"
        },
        "outputId": "dd80614a-c413-4d63-da6a-b6b2efc050aa"
      },
      "execution_count": null,
      "outputs": [
        {
          "output_type": "stream",
          "name": "stdout",
          "text": [
            "Média: 2.54\n",
            "Mediana: 2\n",
            "Moda: 0    2\n",
            "dtype: int64\n",
            "Desvio Padrão: 1.22%\n",
            "Coeficiente de Variação: 47.81%\n"
          ]
        }
      ]
    },
    {
      "cell_type": "markdown",
      "source": [
        "### *Apartamentos*"
      ],
      "metadata": {
        "id": "lD9gFhrKVkwj"
      }
    },
    {
      "cell_type": "code",
      "source": [
        "len(df_apartamentos_co)"
      ],
      "metadata": {
        "id": "XYFCpoH3sXm8",
        "colab": {
          "base_uri": "https://localhost:8080/"
        },
        "outputId": "49a023f8-de2e-40f7-beff-d073ff1605c8"
      },
      "execution_count": null,
      "outputs": [
        {
          "output_type": "execute_result",
          "data": {
            "text/plain": [
              "18"
            ]
          },
          "metadata": {},
          "execution_count": 685
        }
      ]
    },
    {
      "cell_type": "code",
      "source": [
        "media_apartamentos_co = df_apartamentos_co[\"qtde_banheiros\"].mean()\n",
        "moda_apartamentos_co = df_apartamentos_co[\"qtde_banheiros\"].mode()\n",
        "mediana_apartamentos_co = df_apartamentos_co[\"qtde_banheiros\"].median()\n",
        "desvio_padrao_apartamentos_co = df_apartamentos_co[\"qtde_banheiros\"].std()\n",
        "coeficiente_de_variacao_apartamentos_co = desvio_padrao_apartamentos_co/media_apartamentos_co\n",
        "coeficiente_porcentagem_apartamentos_co = coeficiente_de_variacao_apartamentos_co * 100"
      ],
      "metadata": {
        "id": "yKk2Iy7usZgg"
      },
      "execution_count": null,
      "outputs": []
    },
    {
      "cell_type": "code",
      "source": [
        "print(f'Média: {media_apartamentos_co:.2f}')\n",
        "print(f'Mediana: {mediana_apartamentos_co:.0f}')\n",
        "print(f'Moda: {moda_apartamentos_co}')\n",
        "print(f'Desvio Padrão: {desvio_padrao_apartamentos_co:.2f}%')\n",
        "print(f'Coeficiente de Variação: {coeficiente_porcentagem_apartamentos_co:.2f}%')"
      ],
      "metadata": {
        "id": "sn1csSiEsb6m",
        "colab": {
          "base_uri": "https://localhost:8080/"
        },
        "outputId": "a2c1a1c2-c5c5-4391-8cd7-576ce5866284"
      },
      "execution_count": null,
      "outputs": [
        {
          "output_type": "stream",
          "name": "stdout",
          "text": [
            "Média: 1.94\n",
            "Mediana: 2\n",
            "Moda: 0    2\n",
            "dtype: int64\n",
            "Desvio Padrão: 0.87%\n",
            "Coeficiente de Variação: 44.88%\n"
          ]
        }
      ]
    },
    {
      "cell_type": "markdown",
      "source": [
        "### *Geral*"
      ],
      "metadata": {
        "id": "oV-N1WqmVmJS"
      }
    },
    {
      "cell_type": "code",
      "source": [
        "media_co = df_co[\"qtde_banheiros\"].mean()\n",
        "moda_co = int(df_co[\"qtde_banheiros\"].mode())\n",
        "mediana_co = df_co[\"qtde_banheiros\"].median()\n",
        "desvio_padrao_co = df_co[\"qtde_banheiros\"].std()\n",
        "coeficiente_de_variacao_co = desvio_padrao_co/media_co\n",
        "coeficiente_porcentagem_co = coeficiente_de_variacao_co * 100"
      ],
      "metadata": {
        "id": "0IxWUxWCs2xN"
      },
      "execution_count": null,
      "outputs": []
    },
    {
      "cell_type": "code",
      "source": [
        "print(f'Média: {media_co:.2f}')\n",
        "print(f'Mediana: {mediana_co:.0f}')\n",
        "print(f'Moda: {moda_co}')\n",
        "print(f'Desvio Padrão: {desvio_padrao_co:.2f}%')\n",
        "print(f'Coeficiente de Variação: {coeficiente_porcentagem_co:.2f}%')"
      ],
      "metadata": {
        "id": "fpmKoSHDs4zm",
        "colab": {
          "base_uri": "https://localhost:8080/"
        },
        "outputId": "c90bc2c2-d90e-4d5b-fea9-91b267894cfc"
      },
      "execution_count": null,
      "outputs": [
        {
          "output_type": "stream",
          "name": "stdout",
          "text": [
            "Média: 2.29\n",
            "Mediana: 2\n",
            "Moda: 2\n",
            "Desvio Padrão: 1.11%\n",
            "Coeficiente de Variação: 48.59%\n"
          ]
        }
      ]
    },
    {
      "cell_type": "markdown",
      "source": [
        "## Região Centro-Sul"
      ],
      "metadata": {
        "id": "IHY7Gz-kR6Hj"
      }
    },
    {
      "cell_type": "code",
      "source": [
        "len(df_cs)"
      ],
      "metadata": {
        "id": "4ggX2tHDtFds",
        "colab": {
          "base_uri": "https://localhost:8080/"
        },
        "outputId": "d57621b2-8ffd-4ba5-b328-d45c9a87c79a"
      },
      "execution_count": null,
      "outputs": [
        {
          "output_type": "execute_result",
          "data": {
            "text/plain": [
              "122"
            ]
          },
          "metadata": {},
          "execution_count": 690
        }
      ]
    },
    {
      "cell_type": "markdown",
      "source": [
        "### *Casas*"
      ],
      "metadata": {
        "id": "ajzZQGEXVnXR"
      }
    },
    {
      "cell_type": "code",
      "source": [
        "len(df_casas_cs)"
      ],
      "metadata": {
        "id": "sZrBxwuKtL2M",
        "colab": {
          "base_uri": "https://localhost:8080/"
        },
        "outputId": "ac5121be-642d-495f-a83a-8918d9699382"
      },
      "execution_count": null,
      "outputs": [
        {
          "output_type": "execute_result",
          "data": {
            "text/plain": [
              "58"
            ]
          },
          "metadata": {},
          "execution_count": 691
        }
      ]
    },
    {
      "cell_type": "code",
      "source": [
        "media_casas_cs = df_casas_cs[\"qtde_banheiros\"].mean()\n",
        "moda_casas_cs = df_casas_cs[\"qtde_banheiros\"].mode()\n",
        "mediana_casas_cs = df_casas_cs[\"qtde_banheiros\"].median()\n",
        "desvio_padrao_casas_cs = df_casas_cs[\"qtde_banheiros\"].std()\n",
        "coeficiente_de_variacao_casas_cs = desvio_padrao_casas_cs/media_casas_cs\n",
        "coeficiente_porcentagem_casas_cs = coeficiente_de_variacao_casas_cs * 100"
      ],
      "metadata": {
        "id": "RX4w1tzntNkr"
      },
      "execution_count": null,
      "outputs": []
    },
    {
      "cell_type": "code",
      "source": [
        "print(f'Média: {media_casas_cs:.2f}')\n",
        "print(f'Mediana: {mediana_casas_cs:.0f}')\n",
        "print(f'Moda: {moda_casas_cs}')\n",
        "print(f'Desvio Padrão: {desvio_padrao_casas_cs:.2f}%')\n",
        "print(f'Coeficiente de Variação: {coeficiente_porcentagem_casas_cs:.2f}%')"
      ],
      "metadata": {
        "id": "OOaJ31d8tPY8",
        "colab": {
          "base_uri": "https://localhost:8080/"
        },
        "outputId": "1944bcc9-46c3-4599-f10a-01333c63aaba"
      },
      "execution_count": null,
      "outputs": [
        {
          "output_type": "stream",
          "name": "stdout",
          "text": [
            "Média: 2.97\n",
            "Mediana: 2\n",
            "Moda: 0    2\n",
            "dtype: int64\n",
            "Desvio Padrão: 1.54%\n",
            "Coeficiente de Variação: 52.07%\n"
          ]
        }
      ]
    },
    {
      "cell_type": "markdown",
      "source": [
        "### *Apartamentos*"
      ],
      "metadata": {
        "id": "usFh9UPmVouY"
      }
    },
    {
      "cell_type": "code",
      "source": [
        "len(df_apartamentos_cs)"
      ],
      "metadata": {
        "id": "T8VFrhHoteqw",
        "colab": {
          "base_uri": "https://localhost:8080/"
        },
        "outputId": "6346aeca-3afa-4031-a789-9133a1882d4b"
      },
      "execution_count": null,
      "outputs": [
        {
          "output_type": "execute_result",
          "data": {
            "text/plain": [
              "64"
            ]
          },
          "metadata": {},
          "execution_count": 694
        }
      ]
    },
    {
      "cell_type": "code",
      "source": [
        "media_apartamentos_cs = df_apartamentos_cs[\"qtde_banheiros\"].mean()\n",
        "moda_apartamentos_cs = df_apartamentos_cs[\"qtde_banheiros\"].mode()\n",
        "mediana_apartamentos_cs = df_apartamentos_cs[\"qtde_banheiros\"].median()\n",
        "desvio_padrao_apartamentos_cs = df_apartamentos_cs[\"qtde_banheiros\"].std()\n",
        "coeficiente_de_variacao_apartamentos_cs = desvio_padrao_apartamentos_cs/media_apartamentos_cs\n",
        "coeficiente_porcentagem_apartamentos_cs = coeficiente_de_variacao_apartamentos_cs * 100"
      ],
      "metadata": {
        "id": "xw7fxG_ctgw5"
      },
      "execution_count": null,
      "outputs": []
    },
    {
      "cell_type": "code",
      "source": [
        "print(f'Média: {media_apartamentos_cs:.2f}')\n",
        "print(f'Mediana: {mediana_apartamentos_cs:.0f}')\n",
        "print(f'Moda: {moda_apartamentos_cs}')\n",
        "print(f'Desvio Padrão: {desvio_padrao_apartamentos_cs:.2f}%')\n",
        "print(f'Coeficiente de Variação: {coeficiente_porcentagem_apartamentos_cs:.2f}%')"
      ],
      "metadata": {
        "id": "zdvmEzV0tjf-",
        "colab": {
          "base_uri": "https://localhost:8080/"
        },
        "outputId": "35b93614-fcdb-4edf-d13d-17946ff6996b"
      },
      "execution_count": null,
      "outputs": [
        {
          "output_type": "stream",
          "name": "stdout",
          "text": [
            "Média: 2.95\n",
            "Mediana: 3\n",
            "Moda: 0    2\n",
            "dtype: int64\n",
            "Desvio Padrão: 1.30%\n",
            "Coeficiente de Variação: 44.10%\n"
          ]
        }
      ]
    },
    {
      "cell_type": "markdown",
      "source": [
        "### *Geral*"
      ],
      "metadata": {
        "id": "yS24azWUVqAb"
      }
    },
    {
      "cell_type": "code",
      "source": [
        "media_cs = df_cs[\"qtde_banheiros\"].mean()\n",
        "moda_cs = int(df_cs[\"qtde_banheiros\"].mode())\n",
        "mediana_cs = df_cs[\"qtde_banheiros\"].median()\n",
        "desvio_padrao_cs = df_cs[\"qtde_banheiros\"].std()\n",
        "coeficiente_de_variacao_cs = desvio_padrao_cs/media_cs\n",
        "coeficiente_porcentagem_cs = coeficiente_de_variacao_cs * 100"
      ],
      "metadata": {
        "id": "0S0E4X6ktylj"
      },
      "execution_count": null,
      "outputs": []
    },
    {
      "cell_type": "code",
      "source": [
        "print(f'Média: {media_cs:.2f}')\n",
        "print(f'Mediana: {mediana_cs:.0f}')\n",
        "print(f'Moda: {moda_cs}')\n",
        "print(f'Desvio Padrão: {desvio_padrao_cs:.2f}%')\n",
        "print(f'Coeficiente de Variação: {coeficiente_porcentagem_cs:.2f}%')"
      ],
      "metadata": {
        "id": "-fITQvISt2kf",
        "colab": {
          "base_uri": "https://localhost:8080/"
        },
        "outputId": "a7c1fffb-edd0-45e7-8495-ff173bb6f869"
      },
      "execution_count": null,
      "outputs": [
        {
          "output_type": "stream",
          "name": "stdout",
          "text": [
            "Média: 2.96\n",
            "Mediana: 3\n",
            "Moda: 2\n",
            "Desvio Padrão: 1.42%\n",
            "Coeficiente de Variação: 47.87%\n"
          ]
        }
      ]
    },
    {
      "cell_type": "markdown",
      "source": [
        "# → ***Resultados: Quantidade de Banheiros (Quantitativa)***\n",
        "\n",
        "---\n",
        "\n"
      ],
      "metadata": {
        "id": "KHInlhKNv4e3"
      }
    },
    {
      "cell_type": "markdown",
      "source": [
        "## Dados Gerais"
      ],
      "metadata": {
        "id": "vml158vr-D2s"
      }
    },
    {
      "cell_type": "code",
      "source": [
        "df_resultados = pd.DataFrame([\n",
        "    (len(df_norte), f'{media_norte:.2f}', mediana_norte, moda_norte, f'{desvio_padrao_norte:.2f}', f'{coeficiente_porcentagem_norte:.2f}%'),\n",
        "    (len(df_sul), f'{media_sul:.2f}', mediana_sul, moda_sul, f'{desvio_padrao_sul:.2f}', f'{coeficiente_porcentagem_sul:.2f}%'),\n",
        "    (len(df_leste), f'{media_leste:.2f}', mediana_leste, moda_leste, f'{desvio_padrao_leste:.2f}', f'{coeficiente_porcentagem_leste:.2f}%'),\n",
        "    (len(df_oeste), f'{media_oeste:.2f}', mediana_oeste, moda_oeste, f'{desvio_padrao_oeste:.2f}', f'{coeficiente_porcentagem_oeste:.2f}%'),\n",
        "    (len(df_co), f'{media_co:.2f}', mediana_co, moda_co, f'{desvio_padrao_co:.2f}', f'{coeficiente_porcentagem_co:.2f}%'),\n",
        "    (len(df_cs), f'{media_cs:.2f}', mediana_cs, moda_cs, f'{desvio_padrao_cs:.2f}', f'{coeficiente_porcentagem_cs:.2f}%')],\n",
        "    index=('Zona Norte', 'Zona Sul', 'Zona Leste', 'Zona Oeste', 'Zona Centro Oeste', 'Zona Centro-Sul'),\n",
        "    columns=('Total Imóveis', 'Média', 'Mediana', 'Moda', 'Desvio Padrão', 'Coeficiente de Variação'))\n",
        "\n",
        "df_resultados"
      ],
      "metadata": {
        "id": "Edpc2csK1Ksx",
        "colab": {
          "base_uri": "https://localhost:8080/",
          "height": 237
        },
        "outputId": "f604319f-4501-4b61-ccc2-e0814fc25222"
      },
      "execution_count": null,
      "outputs": [
        {
          "output_type": "execute_result",
          "data": {
            "text/plain": [
              "                   Total Imóveis Média  Mediana  Moda Desvio Padrão  \\\n",
              "Zona Norte                    73  2.25      2.0     2          1.13   \n",
              "Zona Sul                      15  2.40      2.0     1          1.45   \n",
              "Zona Leste                    10  2.30      2.0     2          1.06   \n",
              "Zona Oeste                   128  3.09      3.0     5          1.53   \n",
              "Zona Centro Oeste             42  2.29      2.0     2          1.11   \n",
              "Zona Centro-Sul              122  2.96      3.0     2          1.42   \n",
              "\n",
              "                  Coeficiente de Variação  \n",
              "Zona Norte                         50.20%  \n",
              "Zona Sul                           60.59%  \n",
              "Zona Leste                         46.06%  \n",
              "Zona Oeste                         49.48%  \n",
              "Zona Centro Oeste                  48.59%  \n",
              "Zona Centro-Sul                    47.87%  "
            ],
            "text/html": [
              "\n",
              "  <div id=\"df-2a3b9b9d-6b2f-4bc1-b9de-e487907fa436\">\n",
              "    <div class=\"colab-df-container\">\n",
              "      <div>\n",
              "<style scoped>\n",
              "    .dataframe tbody tr th:only-of-type {\n",
              "        vertical-align: middle;\n",
              "    }\n",
              "\n",
              "    .dataframe tbody tr th {\n",
              "        vertical-align: top;\n",
              "    }\n",
              "\n",
              "    .dataframe thead th {\n",
              "        text-align: right;\n",
              "    }\n",
              "</style>\n",
              "<table border=\"1\" class=\"dataframe\">\n",
              "  <thead>\n",
              "    <tr style=\"text-align: right;\">\n",
              "      <th></th>\n",
              "      <th>Total Imóveis</th>\n",
              "      <th>Média</th>\n",
              "      <th>Mediana</th>\n",
              "      <th>Moda</th>\n",
              "      <th>Desvio Padrão</th>\n",
              "      <th>Coeficiente de Variação</th>\n",
              "    </tr>\n",
              "  </thead>\n",
              "  <tbody>\n",
              "    <tr>\n",
              "      <th>Zona Norte</th>\n",
              "      <td>73</td>\n",
              "      <td>2.25</td>\n",
              "      <td>2.0</td>\n",
              "      <td>2</td>\n",
              "      <td>1.13</td>\n",
              "      <td>50.20%</td>\n",
              "    </tr>\n",
              "    <tr>\n",
              "      <th>Zona Sul</th>\n",
              "      <td>15</td>\n",
              "      <td>2.40</td>\n",
              "      <td>2.0</td>\n",
              "      <td>1</td>\n",
              "      <td>1.45</td>\n",
              "      <td>60.59%</td>\n",
              "    </tr>\n",
              "    <tr>\n",
              "      <th>Zona Leste</th>\n",
              "      <td>10</td>\n",
              "      <td>2.30</td>\n",
              "      <td>2.0</td>\n",
              "      <td>2</td>\n",
              "      <td>1.06</td>\n",
              "      <td>46.06%</td>\n",
              "    </tr>\n",
              "    <tr>\n",
              "      <th>Zona Oeste</th>\n",
              "      <td>128</td>\n",
              "      <td>3.09</td>\n",
              "      <td>3.0</td>\n",
              "      <td>5</td>\n",
              "      <td>1.53</td>\n",
              "      <td>49.48%</td>\n",
              "    </tr>\n",
              "    <tr>\n",
              "      <th>Zona Centro Oeste</th>\n",
              "      <td>42</td>\n",
              "      <td>2.29</td>\n",
              "      <td>2.0</td>\n",
              "      <td>2</td>\n",
              "      <td>1.11</td>\n",
              "      <td>48.59%</td>\n",
              "    </tr>\n",
              "    <tr>\n",
              "      <th>Zona Centro-Sul</th>\n",
              "      <td>122</td>\n",
              "      <td>2.96</td>\n",
              "      <td>3.0</td>\n",
              "      <td>2</td>\n",
              "      <td>1.42</td>\n",
              "      <td>47.87%</td>\n",
              "    </tr>\n",
              "  </tbody>\n",
              "</table>\n",
              "</div>\n",
              "      <button class=\"colab-df-convert\" onclick=\"convertToInteractive('df-2a3b9b9d-6b2f-4bc1-b9de-e487907fa436')\"\n",
              "              title=\"Convert this dataframe to an interactive table.\"\n",
              "              style=\"display:none;\">\n",
              "        \n",
              "  <svg xmlns=\"http://www.w3.org/2000/svg\" height=\"24px\"viewBox=\"0 0 24 24\"\n",
              "       width=\"24px\">\n",
              "    <path d=\"M0 0h24v24H0V0z\" fill=\"none\"/>\n",
              "    <path d=\"M18.56 5.44l.94 2.06.94-2.06 2.06-.94-2.06-.94-.94-2.06-.94 2.06-2.06.94zm-11 1L8.5 8.5l.94-2.06 2.06-.94-2.06-.94L8.5 2.5l-.94 2.06-2.06.94zm10 10l.94 2.06.94-2.06 2.06-.94-2.06-.94-.94-2.06-.94 2.06-2.06.94z\"/><path d=\"M17.41 7.96l-1.37-1.37c-.4-.4-.92-.59-1.43-.59-.52 0-1.04.2-1.43.59L10.3 9.45l-7.72 7.72c-.78.78-.78 2.05 0 2.83L4 21.41c.39.39.9.59 1.41.59.51 0 1.02-.2 1.41-.59l7.78-7.78 2.81-2.81c.8-.78.8-2.07 0-2.86zM5.41 20L4 18.59l7.72-7.72 1.47 1.35L5.41 20z\"/>\n",
              "  </svg>\n",
              "      </button>\n",
              "      \n",
              "  <style>\n",
              "    .colab-df-container {\n",
              "      display:flex;\n",
              "      flex-wrap:wrap;\n",
              "      gap: 12px;\n",
              "    }\n",
              "\n",
              "    .colab-df-convert {\n",
              "      background-color: #E8F0FE;\n",
              "      border: none;\n",
              "      border-radius: 50%;\n",
              "      cursor: pointer;\n",
              "      display: none;\n",
              "      fill: #1967D2;\n",
              "      height: 32px;\n",
              "      padding: 0 0 0 0;\n",
              "      width: 32px;\n",
              "    }\n",
              "\n",
              "    .colab-df-convert:hover {\n",
              "      background-color: #E2EBFA;\n",
              "      box-shadow: 0px 1px 2px rgba(60, 64, 67, 0.3), 0px 1px 3px 1px rgba(60, 64, 67, 0.15);\n",
              "      fill: #174EA6;\n",
              "    }\n",
              "\n",
              "    [theme=dark] .colab-df-convert {\n",
              "      background-color: #3B4455;\n",
              "      fill: #D2E3FC;\n",
              "    }\n",
              "\n",
              "    [theme=dark] .colab-df-convert:hover {\n",
              "      background-color: #434B5C;\n",
              "      box-shadow: 0px 1px 3px 1px rgba(0, 0, 0, 0.15);\n",
              "      filter: drop-shadow(0px 1px 2px rgba(0, 0, 0, 0.3));\n",
              "      fill: #FFFFFF;\n",
              "    }\n",
              "  </style>\n",
              "\n",
              "      <script>\n",
              "        const buttonEl =\n",
              "          document.querySelector('#df-2a3b9b9d-6b2f-4bc1-b9de-e487907fa436 button.colab-df-convert');\n",
              "        buttonEl.style.display =\n",
              "          google.colab.kernel.accessAllowed ? 'block' : 'none';\n",
              "\n",
              "        async function convertToInteractive(key) {\n",
              "          const element = document.querySelector('#df-2a3b9b9d-6b2f-4bc1-b9de-e487907fa436');\n",
              "          const dataTable =\n",
              "            await google.colab.kernel.invokeFunction('convertToInteractive',\n",
              "                                                     [key], {});\n",
              "          if (!dataTable) return;\n",
              "\n",
              "          const docLinkHtml = 'Like what you see? Visit the ' +\n",
              "            '<a target=\"_blank\" href=https://colab.research.google.com/notebooks/data_table.ipynb>data table notebook</a>'\n",
              "            + ' to learn more about interactive tables.';\n",
              "          element.innerHTML = '';\n",
              "          dataTable['output_type'] = 'display_data';\n",
              "          await google.colab.output.renderOutput(dataTable, element);\n",
              "          const docLink = document.createElement('div');\n",
              "          docLink.innerHTML = docLinkHtml;\n",
              "          element.appendChild(docLink);\n",
              "        }\n",
              "      </script>\n",
              "    </div>\n",
              "  </div>\n",
              "  "
            ]
          },
          "metadata": {},
          "execution_count": 699
        }
      ]
    },
    {
      "cell_type": "markdown",
      "source": [
        "## Casas"
      ],
      "metadata": {
        "id": "qRAOgxhA-Hl-"
      }
    },
    {
      "cell_type": "code",
      "source": [
        "df_resultados_casas = pd.DataFrame([\n",
        "    (len(df_casas_norte), f'{media_casas_norte:.2f}', mediana_casas_norte, list(moda_casas_norte), f'{desvio_padrao_casas_norte:.2f}', f'{coeficiente_porcentagem_casas_norte:.2f}%'),\n",
        "    (len(df_casas_sul), f'{media_casas_sul:.2f}', mediana_casas_sul, list(moda_casas_sul), f'{desvio_padrao_casas_sul:.2f}', f'{coeficiente_porcentagem_casas_sul:.2f}%'),\n",
        "    (len(df_casas_leste), f'{media_casas_leste:.2f}', mediana_casas_leste, list(moda_casas_leste), f'{desvio_padrao_casas_leste:.2f}', f'{coeficiente_porcentagem_casas_leste:.2f}%'),\n",
        "    (len(df_casas_oeste), f'{media_casas_oeste:.2f}', mediana_casas_oeste, list(moda_casas_oeste), f'{desvio_padrao_casas_oeste:.2f}', f'{coeficiente_porcentagem_casas_oeste:.2f}%'),\n",
        "    (len(df_casas_co), f'{media_casas_co:.2f}', mediana_casas_co, list(moda_casas_co), f'{desvio_padrao_casas_co:.2f}', f'{coeficiente_porcentagem_casas_co:.2f}%'),\n",
        "    (len(df_casas_cs), f'{media_casas_cs:.2f}', mediana_casas_cs, list(moda_casas_cs), f'{desvio_padrao_casas_cs:.2f}', f'{coeficiente_porcentagem_casas_cs:.2f}%')],\n",
        "    index=('Zona Norte', 'Zona Sul', 'Zona Leste', 'Zona Oeste', 'Zona Centro Oeste', 'Zona Centro-Sul'),\n",
        "    columns=('Total Imóveis', 'Média', 'Mediana', 'Moda', 'Desvio Padrão', 'Coeficiente de Variação'))\n",
        "\n",
        "df_resultados_casas"
      ],
      "metadata": {
        "id": "pj-teKDSAURz",
        "colab": {
          "base_uri": "https://localhost:8080/",
          "height": 237
        },
        "outputId": "09c6bfa3-6d28-449c-84af-d884d72b339c"
      },
      "execution_count": null,
      "outputs": [
        {
          "output_type": "execute_result",
          "data": {
            "text/plain": [
              "                   Total Imóveis Média  Mediana    Moda Desvio Padrão  \\\n",
              "Zona Norte                    62  2.39      2.0     [2]          1.15   \n",
              "Zona Sul                      10  2.60      3.0     [3]          1.35   \n",
              "Zona Leste                     5  3.00      3.0  [2, 4]          1.00   \n",
              "Zona Oeste                    78  3.62      4.0     [5]          1.43   \n",
              "Zona Centro Oeste             24  2.54      2.0     [2]          1.22   \n",
              "Zona Centro-Sul               58  2.97      2.5     [2]          1.54   \n",
              "\n",
              "                  Coeficiente de Variação  \n",
              "Zona Norte                         48.19%  \n",
              "Zona Sul                           45.44%  \n",
              "Zona Leste                         33.33%  \n",
              "Zona Oeste                         39.68%  \n",
              "Zona Centro Oeste                  47.81%  \n",
              "Zona Centro-Sul                    52.07%  "
            ],
            "text/html": [
              "\n",
              "  <div id=\"df-1e9970a9-966b-4536-b43f-ea9b1e51fdb4\">\n",
              "    <div class=\"colab-df-container\">\n",
              "      <div>\n",
              "<style scoped>\n",
              "    .dataframe tbody tr th:only-of-type {\n",
              "        vertical-align: middle;\n",
              "    }\n",
              "\n",
              "    .dataframe tbody tr th {\n",
              "        vertical-align: top;\n",
              "    }\n",
              "\n",
              "    .dataframe thead th {\n",
              "        text-align: right;\n",
              "    }\n",
              "</style>\n",
              "<table border=\"1\" class=\"dataframe\">\n",
              "  <thead>\n",
              "    <tr style=\"text-align: right;\">\n",
              "      <th></th>\n",
              "      <th>Total Imóveis</th>\n",
              "      <th>Média</th>\n",
              "      <th>Mediana</th>\n",
              "      <th>Moda</th>\n",
              "      <th>Desvio Padrão</th>\n",
              "      <th>Coeficiente de Variação</th>\n",
              "    </tr>\n",
              "  </thead>\n",
              "  <tbody>\n",
              "    <tr>\n",
              "      <th>Zona Norte</th>\n",
              "      <td>62</td>\n",
              "      <td>2.39</td>\n",
              "      <td>2.0</td>\n",
              "      <td>[2]</td>\n",
              "      <td>1.15</td>\n",
              "      <td>48.19%</td>\n",
              "    </tr>\n",
              "    <tr>\n",
              "      <th>Zona Sul</th>\n",
              "      <td>10</td>\n",
              "      <td>2.60</td>\n",
              "      <td>3.0</td>\n",
              "      <td>[3]</td>\n",
              "      <td>1.35</td>\n",
              "      <td>45.44%</td>\n",
              "    </tr>\n",
              "    <tr>\n",
              "      <th>Zona Leste</th>\n",
              "      <td>5</td>\n",
              "      <td>3.00</td>\n",
              "      <td>3.0</td>\n",
              "      <td>[2, 4]</td>\n",
              "      <td>1.00</td>\n",
              "      <td>33.33%</td>\n",
              "    </tr>\n",
              "    <tr>\n",
              "      <th>Zona Oeste</th>\n",
              "      <td>78</td>\n",
              "      <td>3.62</td>\n",
              "      <td>4.0</td>\n",
              "      <td>[5]</td>\n",
              "      <td>1.43</td>\n",
              "      <td>39.68%</td>\n",
              "    </tr>\n",
              "    <tr>\n",
              "      <th>Zona Centro Oeste</th>\n",
              "      <td>24</td>\n",
              "      <td>2.54</td>\n",
              "      <td>2.0</td>\n",
              "      <td>[2]</td>\n",
              "      <td>1.22</td>\n",
              "      <td>47.81%</td>\n",
              "    </tr>\n",
              "    <tr>\n",
              "      <th>Zona Centro-Sul</th>\n",
              "      <td>58</td>\n",
              "      <td>2.97</td>\n",
              "      <td>2.5</td>\n",
              "      <td>[2]</td>\n",
              "      <td>1.54</td>\n",
              "      <td>52.07%</td>\n",
              "    </tr>\n",
              "  </tbody>\n",
              "</table>\n",
              "</div>\n",
              "      <button class=\"colab-df-convert\" onclick=\"convertToInteractive('df-1e9970a9-966b-4536-b43f-ea9b1e51fdb4')\"\n",
              "              title=\"Convert this dataframe to an interactive table.\"\n",
              "              style=\"display:none;\">\n",
              "        \n",
              "  <svg xmlns=\"http://www.w3.org/2000/svg\" height=\"24px\"viewBox=\"0 0 24 24\"\n",
              "       width=\"24px\">\n",
              "    <path d=\"M0 0h24v24H0V0z\" fill=\"none\"/>\n",
              "    <path d=\"M18.56 5.44l.94 2.06.94-2.06 2.06-.94-2.06-.94-.94-2.06-.94 2.06-2.06.94zm-11 1L8.5 8.5l.94-2.06 2.06-.94-2.06-.94L8.5 2.5l-.94 2.06-2.06.94zm10 10l.94 2.06.94-2.06 2.06-.94-2.06-.94-.94-2.06-.94 2.06-2.06.94z\"/><path d=\"M17.41 7.96l-1.37-1.37c-.4-.4-.92-.59-1.43-.59-.52 0-1.04.2-1.43.59L10.3 9.45l-7.72 7.72c-.78.78-.78 2.05 0 2.83L4 21.41c.39.39.9.59 1.41.59.51 0 1.02-.2 1.41-.59l7.78-7.78 2.81-2.81c.8-.78.8-2.07 0-2.86zM5.41 20L4 18.59l7.72-7.72 1.47 1.35L5.41 20z\"/>\n",
              "  </svg>\n",
              "      </button>\n",
              "      \n",
              "  <style>\n",
              "    .colab-df-container {\n",
              "      display:flex;\n",
              "      flex-wrap:wrap;\n",
              "      gap: 12px;\n",
              "    }\n",
              "\n",
              "    .colab-df-convert {\n",
              "      background-color: #E8F0FE;\n",
              "      border: none;\n",
              "      border-radius: 50%;\n",
              "      cursor: pointer;\n",
              "      display: none;\n",
              "      fill: #1967D2;\n",
              "      height: 32px;\n",
              "      padding: 0 0 0 0;\n",
              "      width: 32px;\n",
              "    }\n",
              "\n",
              "    .colab-df-convert:hover {\n",
              "      background-color: #E2EBFA;\n",
              "      box-shadow: 0px 1px 2px rgba(60, 64, 67, 0.3), 0px 1px 3px 1px rgba(60, 64, 67, 0.15);\n",
              "      fill: #174EA6;\n",
              "    }\n",
              "\n",
              "    [theme=dark] .colab-df-convert {\n",
              "      background-color: #3B4455;\n",
              "      fill: #D2E3FC;\n",
              "    }\n",
              "\n",
              "    [theme=dark] .colab-df-convert:hover {\n",
              "      background-color: #434B5C;\n",
              "      box-shadow: 0px 1px 3px 1px rgba(0, 0, 0, 0.15);\n",
              "      filter: drop-shadow(0px 1px 2px rgba(0, 0, 0, 0.3));\n",
              "      fill: #FFFFFF;\n",
              "    }\n",
              "  </style>\n",
              "\n",
              "      <script>\n",
              "        const buttonEl =\n",
              "          document.querySelector('#df-1e9970a9-966b-4536-b43f-ea9b1e51fdb4 button.colab-df-convert');\n",
              "        buttonEl.style.display =\n",
              "          google.colab.kernel.accessAllowed ? 'block' : 'none';\n",
              "\n",
              "        async function convertToInteractive(key) {\n",
              "          const element = document.querySelector('#df-1e9970a9-966b-4536-b43f-ea9b1e51fdb4');\n",
              "          const dataTable =\n",
              "            await google.colab.kernel.invokeFunction('convertToInteractive',\n",
              "                                                     [key], {});\n",
              "          if (!dataTable) return;\n",
              "\n",
              "          const docLinkHtml = 'Like what you see? Visit the ' +\n",
              "            '<a target=\"_blank\" href=https://colab.research.google.com/notebooks/data_table.ipynb>data table notebook</a>'\n",
              "            + ' to learn more about interactive tables.';\n",
              "          element.innerHTML = '';\n",
              "          dataTable['output_type'] = 'display_data';\n",
              "          await google.colab.output.renderOutput(dataTable, element);\n",
              "          const docLink = document.createElement('div');\n",
              "          docLink.innerHTML = docLinkHtml;\n",
              "          element.appendChild(docLink);\n",
              "        }\n",
              "      </script>\n",
              "    </div>\n",
              "  </div>\n",
              "  "
            ]
          },
          "metadata": {},
          "execution_count": 700
        }
      ]
    },
    {
      "cell_type": "markdown",
      "source": [
        "## Apartamentos"
      ],
      "metadata": {
        "id": "SXHFjuy--JLh"
      }
    },
    {
      "cell_type": "code",
      "source": [
        "df_resultados_apartamentos = pd.DataFrame([\n",
        "    (len(df_apartamentos_sul), f'{media_apartamentos_norte:.2f}', mediana_apartamentos_norte, list(moda_apartamentos_norte), f'{desvio_padrao_apartamentos_norte:.2f}', f'{coeficiente_porcentagem_apartamentos_norte:.2f}%'),\n",
        "    (len(df_apartamentos_sul), f'{media_apartamentos_sul:.2f}', mediana_apartamentos_sul, list(moda_apartamentos_sul), f'{desvio_padrao_apartamentos_sul:.2f}', f'{coeficiente_porcentagem_apartamentos_sul:.2f}%'),\n",
        "    (len(df_apartamentos_leste), f'{media_apartamentos_leste:.2f}', mediana_apartamentos_leste, list(moda_apartamentos_leste), f'{desvio_padrao_apartamentos_leste:.2f}', f'{coeficiente_porcentagem_apartamentos_leste:.2f}%'),\n",
        "    (len(df_apartamentos_oeste), f'{media_apartamentos_oeste:.2f}', mediana_apartamentos_oeste, list(moda_apartamentos_oeste), f'{desvio_padrao_apartamentos_oeste:.2f}', f'{coeficiente_porcentagem_apartamentos_oeste:.2f}%'),\n",
        "    (len(df_apartamentos_co), f'{media_apartamentos_co:.2f}', mediana_apartamentos_co, list(moda_apartamentos_co), f'{desvio_padrao_apartamentos_co:.2f}', f'{coeficiente_porcentagem_apartamentos_co:.2f}%'),\n",
        "    (len(df_apartamentos_cs), f'{media_apartamentos_cs:.2f}', mediana_apartamentos_cs, list(moda_apartamentos_cs), f'{desvio_padrao_apartamentos_cs:.2f}', f'{coeficiente_porcentagem_apartamentos_cs:.2f}%')],\n",
        "    index=('Zona Norte', 'Zona Sul', 'Zona Leste', 'Zona Oeste', 'Zona Centro Oeste', 'Zona Centro-Sul'),\n",
        "    columns=('Total Imóveis', 'Média', 'Mediana', 'Moda', 'Desvio Padrão', 'Coeficiente de Variação'))\n",
        "\n",
        "df_resultados_apartamentos"
      ],
      "metadata": {
        "id": "grJDHfU6BUJ_",
        "colab": {
          "base_uri": "https://localhost:8080/",
          "height": 237
        },
        "outputId": "a566cdbd-6544-420e-f8c3-b73b1ad7f932"
      },
      "execution_count": null,
      "outputs": [
        {
          "output_type": "execute_result",
          "data": {
            "text/plain": [
              "                   Total Imóveis Média  Mediana Moda Desvio Padrão  \\\n",
              "Zona Norte                     5  1.45      1.0  [1]          0.52   \n",
              "Zona Sul                       5  2.00      1.0  [1]          1.73   \n",
              "Zona Leste                     5  1.60      2.0  [2]          0.55   \n",
              "Zona Oeste                    50  2.26      2.0  [1]          1.29   \n",
              "Zona Centro Oeste             18  1.94      2.0  [2]          0.87   \n",
              "Zona Centro-Sul               64  2.95      3.0  [2]          1.30   \n",
              "\n",
              "                  Coeficiente de Variação  \n",
              "Zona Norte                         35.90%  \n",
              "Zona Sul                           86.60%  \n",
              "Zona Leste                         34.23%  \n",
              "Zona Oeste                         57.11%  \n",
              "Zona Centro Oeste                  44.88%  \n",
              "Zona Centro-Sul                    44.10%  "
            ],
            "text/html": [
              "\n",
              "  <div id=\"df-2e230ecc-328f-47ae-8ae3-23f49057717c\">\n",
              "    <div class=\"colab-df-container\">\n",
              "      <div>\n",
              "<style scoped>\n",
              "    .dataframe tbody tr th:only-of-type {\n",
              "        vertical-align: middle;\n",
              "    }\n",
              "\n",
              "    .dataframe tbody tr th {\n",
              "        vertical-align: top;\n",
              "    }\n",
              "\n",
              "    .dataframe thead th {\n",
              "        text-align: right;\n",
              "    }\n",
              "</style>\n",
              "<table border=\"1\" class=\"dataframe\">\n",
              "  <thead>\n",
              "    <tr style=\"text-align: right;\">\n",
              "      <th></th>\n",
              "      <th>Total Imóveis</th>\n",
              "      <th>Média</th>\n",
              "      <th>Mediana</th>\n",
              "      <th>Moda</th>\n",
              "      <th>Desvio Padrão</th>\n",
              "      <th>Coeficiente de Variação</th>\n",
              "    </tr>\n",
              "  </thead>\n",
              "  <tbody>\n",
              "    <tr>\n",
              "      <th>Zona Norte</th>\n",
              "      <td>5</td>\n",
              "      <td>1.45</td>\n",
              "      <td>1.0</td>\n",
              "      <td>[1]</td>\n",
              "      <td>0.52</td>\n",
              "      <td>35.90%</td>\n",
              "    </tr>\n",
              "    <tr>\n",
              "      <th>Zona Sul</th>\n",
              "      <td>5</td>\n",
              "      <td>2.00</td>\n",
              "      <td>1.0</td>\n",
              "      <td>[1]</td>\n",
              "      <td>1.73</td>\n",
              "      <td>86.60%</td>\n",
              "    </tr>\n",
              "    <tr>\n",
              "      <th>Zona Leste</th>\n",
              "      <td>5</td>\n",
              "      <td>1.60</td>\n",
              "      <td>2.0</td>\n",
              "      <td>[2]</td>\n",
              "      <td>0.55</td>\n",
              "      <td>34.23%</td>\n",
              "    </tr>\n",
              "    <tr>\n",
              "      <th>Zona Oeste</th>\n",
              "      <td>50</td>\n",
              "      <td>2.26</td>\n",
              "      <td>2.0</td>\n",
              "      <td>[1]</td>\n",
              "      <td>1.29</td>\n",
              "      <td>57.11%</td>\n",
              "    </tr>\n",
              "    <tr>\n",
              "      <th>Zona Centro Oeste</th>\n",
              "      <td>18</td>\n",
              "      <td>1.94</td>\n",
              "      <td>2.0</td>\n",
              "      <td>[2]</td>\n",
              "      <td>0.87</td>\n",
              "      <td>44.88%</td>\n",
              "    </tr>\n",
              "    <tr>\n",
              "      <th>Zona Centro-Sul</th>\n",
              "      <td>64</td>\n",
              "      <td>2.95</td>\n",
              "      <td>3.0</td>\n",
              "      <td>[2]</td>\n",
              "      <td>1.30</td>\n",
              "      <td>44.10%</td>\n",
              "    </tr>\n",
              "  </tbody>\n",
              "</table>\n",
              "</div>\n",
              "      <button class=\"colab-df-convert\" onclick=\"convertToInteractive('df-2e230ecc-328f-47ae-8ae3-23f49057717c')\"\n",
              "              title=\"Convert this dataframe to an interactive table.\"\n",
              "              style=\"display:none;\">\n",
              "        \n",
              "  <svg xmlns=\"http://www.w3.org/2000/svg\" height=\"24px\"viewBox=\"0 0 24 24\"\n",
              "       width=\"24px\">\n",
              "    <path d=\"M0 0h24v24H0V0z\" fill=\"none\"/>\n",
              "    <path d=\"M18.56 5.44l.94 2.06.94-2.06 2.06-.94-2.06-.94-.94-2.06-.94 2.06-2.06.94zm-11 1L8.5 8.5l.94-2.06 2.06-.94-2.06-.94L8.5 2.5l-.94 2.06-2.06.94zm10 10l.94 2.06.94-2.06 2.06-.94-2.06-.94-.94-2.06-.94 2.06-2.06.94z\"/><path d=\"M17.41 7.96l-1.37-1.37c-.4-.4-.92-.59-1.43-.59-.52 0-1.04.2-1.43.59L10.3 9.45l-7.72 7.72c-.78.78-.78 2.05 0 2.83L4 21.41c.39.39.9.59 1.41.59.51 0 1.02-.2 1.41-.59l7.78-7.78 2.81-2.81c.8-.78.8-2.07 0-2.86zM5.41 20L4 18.59l7.72-7.72 1.47 1.35L5.41 20z\"/>\n",
              "  </svg>\n",
              "      </button>\n",
              "      \n",
              "  <style>\n",
              "    .colab-df-container {\n",
              "      display:flex;\n",
              "      flex-wrap:wrap;\n",
              "      gap: 12px;\n",
              "    }\n",
              "\n",
              "    .colab-df-convert {\n",
              "      background-color: #E8F0FE;\n",
              "      border: none;\n",
              "      border-radius: 50%;\n",
              "      cursor: pointer;\n",
              "      display: none;\n",
              "      fill: #1967D2;\n",
              "      height: 32px;\n",
              "      padding: 0 0 0 0;\n",
              "      width: 32px;\n",
              "    }\n",
              "\n",
              "    .colab-df-convert:hover {\n",
              "      background-color: #E2EBFA;\n",
              "      box-shadow: 0px 1px 2px rgba(60, 64, 67, 0.3), 0px 1px 3px 1px rgba(60, 64, 67, 0.15);\n",
              "      fill: #174EA6;\n",
              "    }\n",
              "\n",
              "    [theme=dark] .colab-df-convert {\n",
              "      background-color: #3B4455;\n",
              "      fill: #D2E3FC;\n",
              "    }\n",
              "\n",
              "    [theme=dark] .colab-df-convert:hover {\n",
              "      background-color: #434B5C;\n",
              "      box-shadow: 0px 1px 3px 1px rgba(0, 0, 0, 0.15);\n",
              "      filter: drop-shadow(0px 1px 2px rgba(0, 0, 0, 0.3));\n",
              "      fill: #FFFFFF;\n",
              "    }\n",
              "  </style>\n",
              "\n",
              "      <script>\n",
              "        const buttonEl =\n",
              "          document.querySelector('#df-2e230ecc-328f-47ae-8ae3-23f49057717c button.colab-df-convert');\n",
              "        buttonEl.style.display =\n",
              "          google.colab.kernel.accessAllowed ? 'block' : 'none';\n",
              "\n",
              "        async function convertToInteractive(key) {\n",
              "          const element = document.querySelector('#df-2e230ecc-328f-47ae-8ae3-23f49057717c');\n",
              "          const dataTable =\n",
              "            await google.colab.kernel.invokeFunction('convertToInteractive',\n",
              "                                                     [key], {});\n",
              "          if (!dataTable) return;\n",
              "\n",
              "          const docLinkHtml = 'Like what you see? Visit the ' +\n",
              "            '<a target=\"_blank\" href=https://colab.research.google.com/notebooks/data_table.ipynb>data table notebook</a>'\n",
              "            + ' to learn more about interactive tables.';\n",
              "          element.innerHTML = '';\n",
              "          dataTable['output_type'] = 'display_data';\n",
              "          await google.colab.output.renderOutput(dataTable, element);\n",
              "          const docLink = document.createElement('div');\n",
              "          docLink.innerHTML = docLinkHtml;\n",
              "          element.appendChild(docLink);\n",
              "        }\n",
              "      </script>\n",
              "    </div>\n",
              "  </div>\n",
              "  "
            ]
          },
          "metadata": {},
          "execution_count": 701
        }
      ]
    },
    {
      "cell_type": "markdown",
      "source": [
        "# ✴ Distribuição de Frequência\n",
        "\n",
        "*Obs: Só é necessário ter rodado a célula de 'Dataframes'*"
      ],
      "metadata": {
        "id": "3yfySFemPsUI"
      }
    },
    {
      "cell_type": "markdown",
      "source": [
        "#### *Função para mostrar valores no topo do gráfico*"
      ],
      "metadata": {
        "id": "pMJe6sllXaTv"
      }
    },
    {
      "cell_type": "code",
      "source": [
        "def show_values(axs, space=0.6):\n",
        "    def _single(ax):\n",
        "            for p in ax.patches:\n",
        "                _x = p.get_x() + p.get_width() / 2\n",
        "                _y = p.get_y() + p.get_height() + space\n",
        "                value = f'{p.get_height():.2f}%'\n",
        "                ax.text(_x, _y, value, ha=\"center\") \n",
        "\n",
        "    if isinstance(axs, np.ndarray):\n",
        "        for idx, ax in np.ndenumerate(axs):\n",
        "            _single(ax)\n",
        "    else:\n",
        "        _single(axs)"
      ],
      "metadata": {
        "id": "-JdiXhqDqBcw"
      },
      "execution_count": 344,
      "outputs": []
    },
    {
      "cell_type": "markdown",
      "source": [
        "## ✧ Para variáveis qualitativas"
      ],
      "metadata": {
        "id": "Yky_GaxpXLF5"
      }
    },
    {
      "cell_type": "markdown",
      "source": [
        "### Zona (Nominal)"
      ],
      "metadata": {
        "id": "h-ha7UwKRpzl"
      }
    },
    {
      "cell_type": "markdown",
      "source": [
        "#### *Medidas Gerais*"
      ],
      "metadata": {
        "id": "htEVmQsIXEC1"
      }
    },
    {
      "cell_type": "code",
      "source": [
        "frequencia = df[\"zona\"].value_counts()\n",
        "percentual = round(df[\"zona\"].value_counts(normalize=True) * 100, 2)\n",
        "zonas = 'Centro-Sul', 'Oeste', 'Norte', 'Centro-Oeste', 'Sul', 'Leste'"
      ],
      "metadata": {
        "id": "J9TPIePMQokG"
      },
      "execution_count": 348,
      "outputs": []
    },
    {
      "cell_type": "code",
      "source": [
        "distribuicao_frequencia = pd.DataFrame({\"Zona\": zonas, \"Frequencia\": frequencia, \"Percentual (%)\": percentual})\n",
        "distribuicao_frequencia.reset_index(inplace=True)\n",
        "distribuicao_frequencia = distribuicao_frequencia.drop('index', axis=1)\n",
        "\n",
        "distribuicao_frequencia"
      ],
      "metadata": {
        "id": "Bg6TwA-PT3bK",
        "colab": {
          "base_uri": "https://localhost:8080/",
          "height": 237
        },
        "outputId": "f78fce68-d459-4d4a-fe45-9aa7789aa726"
      },
      "execution_count": 349,
      "outputs": [
        {
          "output_type": "execute_result",
          "data": {
            "text/plain": [
              "           Zona  Frequencia  Percentual (%)\n",
              "0    Centro-Sul         128           32.82\n",
              "1         Oeste         122           31.28\n",
              "2         Norte          73           18.72\n",
              "3  Centro-Oeste          42           10.77\n",
              "4           Sul          15            3.85\n",
              "5         Leste          10            2.56"
            ],
            "text/html": [
              "\n",
              "  <div id=\"df-976ea426-f3fe-43d6-b19c-0ef5d7d0a964\">\n",
              "    <div class=\"colab-df-container\">\n",
              "      <div>\n",
              "<style scoped>\n",
              "    .dataframe tbody tr th:only-of-type {\n",
              "        vertical-align: middle;\n",
              "    }\n",
              "\n",
              "    .dataframe tbody tr th {\n",
              "        vertical-align: top;\n",
              "    }\n",
              "\n",
              "    .dataframe thead th {\n",
              "        text-align: right;\n",
              "    }\n",
              "</style>\n",
              "<table border=\"1\" class=\"dataframe\">\n",
              "  <thead>\n",
              "    <tr style=\"text-align: right;\">\n",
              "      <th></th>\n",
              "      <th>Zona</th>\n",
              "      <th>Frequencia</th>\n",
              "      <th>Percentual (%)</th>\n",
              "    </tr>\n",
              "  </thead>\n",
              "  <tbody>\n",
              "    <tr>\n",
              "      <th>0</th>\n",
              "      <td>Centro-Sul</td>\n",
              "      <td>128</td>\n",
              "      <td>32.82</td>\n",
              "    </tr>\n",
              "    <tr>\n",
              "      <th>1</th>\n",
              "      <td>Oeste</td>\n",
              "      <td>122</td>\n",
              "      <td>31.28</td>\n",
              "    </tr>\n",
              "    <tr>\n",
              "      <th>2</th>\n",
              "      <td>Norte</td>\n",
              "      <td>73</td>\n",
              "      <td>18.72</td>\n",
              "    </tr>\n",
              "    <tr>\n",
              "      <th>3</th>\n",
              "      <td>Centro-Oeste</td>\n",
              "      <td>42</td>\n",
              "      <td>10.77</td>\n",
              "    </tr>\n",
              "    <tr>\n",
              "      <th>4</th>\n",
              "      <td>Sul</td>\n",
              "      <td>15</td>\n",
              "      <td>3.85</td>\n",
              "    </tr>\n",
              "    <tr>\n",
              "      <th>5</th>\n",
              "      <td>Leste</td>\n",
              "      <td>10</td>\n",
              "      <td>2.56</td>\n",
              "    </tr>\n",
              "  </tbody>\n",
              "</table>\n",
              "</div>\n",
              "      <button class=\"colab-df-convert\" onclick=\"convertToInteractive('df-976ea426-f3fe-43d6-b19c-0ef5d7d0a964')\"\n",
              "              title=\"Convert this dataframe to an interactive table.\"\n",
              "              style=\"display:none;\">\n",
              "        \n",
              "  <svg xmlns=\"http://www.w3.org/2000/svg\" height=\"24px\"viewBox=\"0 0 24 24\"\n",
              "       width=\"24px\">\n",
              "    <path d=\"M0 0h24v24H0V0z\" fill=\"none\"/>\n",
              "    <path d=\"M18.56 5.44l.94 2.06.94-2.06 2.06-.94-2.06-.94-.94-2.06-.94 2.06-2.06.94zm-11 1L8.5 8.5l.94-2.06 2.06-.94-2.06-.94L8.5 2.5l-.94 2.06-2.06.94zm10 10l.94 2.06.94-2.06 2.06-.94-2.06-.94-.94-2.06-.94 2.06-2.06.94z\"/><path d=\"M17.41 7.96l-1.37-1.37c-.4-.4-.92-.59-1.43-.59-.52 0-1.04.2-1.43.59L10.3 9.45l-7.72 7.72c-.78.78-.78 2.05 0 2.83L4 21.41c.39.39.9.59 1.41.59.51 0 1.02-.2 1.41-.59l7.78-7.78 2.81-2.81c.8-.78.8-2.07 0-2.86zM5.41 20L4 18.59l7.72-7.72 1.47 1.35L5.41 20z\"/>\n",
              "  </svg>\n",
              "      </button>\n",
              "      \n",
              "  <style>\n",
              "    .colab-df-container {\n",
              "      display:flex;\n",
              "      flex-wrap:wrap;\n",
              "      gap: 12px;\n",
              "    }\n",
              "\n",
              "    .colab-df-convert {\n",
              "      background-color: #E8F0FE;\n",
              "      border: none;\n",
              "      border-radius: 50%;\n",
              "      cursor: pointer;\n",
              "      display: none;\n",
              "      fill: #1967D2;\n",
              "      height: 32px;\n",
              "      padding: 0 0 0 0;\n",
              "      width: 32px;\n",
              "    }\n",
              "\n",
              "    .colab-df-convert:hover {\n",
              "      background-color: #E2EBFA;\n",
              "      box-shadow: 0px 1px 2px rgba(60, 64, 67, 0.3), 0px 1px 3px 1px rgba(60, 64, 67, 0.15);\n",
              "      fill: #174EA6;\n",
              "    }\n",
              "\n",
              "    [theme=dark] .colab-df-convert {\n",
              "      background-color: #3B4455;\n",
              "      fill: #D2E3FC;\n",
              "    }\n",
              "\n",
              "    [theme=dark] .colab-df-convert:hover {\n",
              "      background-color: #434B5C;\n",
              "      box-shadow: 0px 1px 3px 1px rgba(0, 0, 0, 0.15);\n",
              "      filter: drop-shadow(0px 1px 2px rgba(0, 0, 0, 0.3));\n",
              "      fill: #FFFFFF;\n",
              "    }\n",
              "  </style>\n",
              "\n",
              "      <script>\n",
              "        const buttonEl =\n",
              "          document.querySelector('#df-976ea426-f3fe-43d6-b19c-0ef5d7d0a964 button.colab-df-convert');\n",
              "        buttonEl.style.display =\n",
              "          google.colab.kernel.accessAllowed ? 'block' : 'none';\n",
              "\n",
              "        async function convertToInteractive(key) {\n",
              "          const element = document.querySelector('#df-976ea426-f3fe-43d6-b19c-0ef5d7d0a964');\n",
              "          const dataTable =\n",
              "            await google.colab.kernel.invokeFunction('convertToInteractive',\n",
              "                                                     [key], {});\n",
              "          if (!dataTable) return;\n",
              "\n",
              "          const docLinkHtml = 'Like what you see? Visit the ' +\n",
              "            '<a target=\"_blank\" href=https://colab.research.google.com/notebooks/data_table.ipynb>data table notebook</a>'\n",
              "            + ' to learn more about interactive tables.';\n",
              "          element.innerHTML = '';\n",
              "          dataTable['output_type'] = 'display_data';\n",
              "          await google.colab.output.renderOutput(dataTable, element);\n",
              "          const docLink = document.createElement('div');\n",
              "          docLink.innerHTML = docLinkHtml;\n",
              "          element.appendChild(docLink);\n",
              "        }\n",
              "      </script>\n",
              "    </div>\n",
              "  </div>\n",
              "  "
            ]
          },
          "metadata": {},
          "execution_count": 349
        }
      ]
    },
    {
      "cell_type": "code",
      "source": [
        "ax = sns.barplot(data=distribuicao_frequencia, x=\"Zona\", y=\"Percentual (%)\", color=\"#32545e\")\n",
        "show_values(ax)"
      ],
      "metadata": {
        "colab": {
          "base_uri": "https://localhost:8080/",
          "height": 281
        },
        "id": "gAIqBB3chwAB",
        "outputId": "4fa16b53-ac61-4da8-ddf7-f8c719cae776"
      },
      "execution_count": 350,
      "outputs": [
        {
          "output_type": "display_data",
          "data": {
            "text/plain": [
              "<Figure size 432x288 with 1 Axes>"
            ],
            "image/png": "[encoded data removed]"
          },
          "metadata": {
            "needs_background": "light"
          }
        }
      ]
    },
    {
      "cell_type": "markdown",
      "source": [
        "#### *Casas*"
      ],
      "metadata": {
        "id": "gHSr-mZdVCrC"
      }
    },
    {
      "cell_type": "code",
      "source": [
        "frequencia = df_casas[\"zona\"].value_counts()\n",
        "percentual = round(df_casas[\"zona\"].value_counts(normalize=True) * 100, 2)"
      ],
      "metadata": {
        "id": "2T47iDigVHZM"
      },
      "execution_count": 360,
      "outputs": []
    },
    {
      "cell_type": "code",
      "source": [
        "distribuicao_frequencia = pd.DataFrame({\"Zona\": zonas, \"Frequencia\": frequencia, \"Percentual (%)\": percentual})\n",
        "distribuicao_frequencia.reset_index(inplace=True)\n",
        "distribuicao_frequencia = distribuicao_frequencia.drop('index', axis=1)\n",
        "\n",
        "distribuicao_frequencia"
      ],
      "metadata": {
        "colab": {
          "base_uri": "https://localhost:8080/",
          "height": 237
        },
        "id": "wQ7x1QOkVG65",
        "outputId": "feb1989b-c3aa-40f6-920a-ff4ce6a10c86"
      },
      "execution_count": 361,
      "outputs": [
        {
          "output_type": "execute_result",
          "data": {
            "text/plain": [
              "           Zona  Frequencia  Percentual (%)\n",
              "0    Centro-Sul          78           32.91\n",
              "1         Oeste          62           26.16\n",
              "2         Norte          58           24.47\n",
              "3  Centro-Oeste          24           10.13\n",
              "4           Sul          10            4.22\n",
              "5         Leste           5            2.11"
            ],
            "text/html": [
              "\n",
              "  <div id=\"df-8f4b3f9f-8406-47fd-8fd6-6323ce2f2054\">\n",
              "    <div class=\"colab-df-container\">\n",
              "      <div>\n",
              "<style scoped>\n",
              "    .dataframe tbody tr th:only-of-type {\n",
              "        vertical-align: middle;\n",
              "    }\n",
              "\n",
              "    .dataframe tbody tr th {\n",
              "        vertical-align: top;\n",
              "    }\n",
              "\n",
              "    .dataframe thead th {\n",
              "        text-align: right;\n",
              "    }\n",
              "</style>\n",
              "<table border=\"1\" class=\"dataframe\">\n",
              "  <thead>\n",
              "    <tr style=\"text-align: right;\">\n",
              "      <th></th>\n",
              "      <th>Zona</th>\n",
              "      <th>Frequencia</th>\n",
              "      <th>Percentual (%)</th>\n",
              "    </tr>\n",
              "  </thead>\n",
              "  <tbody>\n",
              "    <tr>\n",
              "      <th>0</th>\n",
              "      <td>Centro-Sul</td>\n",
              "      <td>78</td>\n",
              "      <td>32.91</td>\n",
              "    </tr>\n",
              "    <tr>\n",
              "      <th>1</th>\n",
              "      <td>Oeste</td>\n",
              "      <td>62</td>\n",
              "      <td>26.16</td>\n",
              "    </tr>\n",
              "    <tr>\n",
              "      <th>2</th>\n",
              "      <td>Norte</td>\n",
              "      <td>58</td>\n",
              "      <td>24.47</td>\n",
              "    </tr>\n",
              "    <tr>\n",
              "      <th>3</th>\n",
              "      <td>Centro-Oeste</td>\n",
              "      <td>24</td>\n",
              "      <td>10.13</td>\n",
              "    </tr>\n",
              "    <tr>\n",
              "      <th>4</th>\n",
              "      <td>Sul</td>\n",
              "      <td>10</td>\n",
              "      <td>4.22</td>\n",
              "    </tr>\n",
              "    <tr>\n",
              "      <th>5</th>\n",
              "      <td>Leste</td>\n",
              "      <td>5</td>\n",
              "      <td>2.11</td>\n",
              "    </tr>\n",
              "  </tbody>\n",
              "</table>\n",
              "</div>\n",
              "      <button class=\"colab-df-convert\" onclick=\"convertToInteractive('df-8f4b3f9f-8406-47fd-8fd6-6323ce2f2054')\"\n",
              "              title=\"Convert this dataframe to an interactive table.\"\n",
              "              style=\"display:none;\">\n",
              "        \n",
              "  <svg xmlns=\"http://www.w3.org/2000/svg\" height=\"24px\"viewBox=\"0 0 24 24\"\n",
              "       width=\"24px\">\n",
              "    <path d=\"M0 0h24v24H0V0z\" fill=\"none\"/>\n",
              "    <path d=\"M18.56 5.44l.94 2.06.94-2.06 2.06-.94-2.06-.94-.94-2.06-.94 2.06-2.06.94zm-11 1L8.5 8.5l.94-2.06 2.06-.94-2.06-.94L8.5 2.5l-.94 2.06-2.06.94zm10 10l.94 2.06.94-2.06 2.06-.94-2.06-.94-.94-2.06-.94 2.06-2.06.94z\"/><path d=\"M17.41 7.96l-1.37-1.37c-.4-.4-.92-.59-1.43-.59-.52 0-1.04.2-1.43.59L10.3 9.45l-7.72 7.72c-.78.78-.78 2.05 0 2.83L4 21.41c.39.39.9.59 1.41.59.51 0 1.02-.2 1.41-.59l7.78-7.78 2.81-2.81c.8-.78.8-2.07 0-2.86zM5.41 20L4 18.59l7.72-7.72 1.47 1.35L5.41 20z\"/>\n",
              "  </svg>\n",
              "      </button>\n",
              "      \n",
              "  <style>\n",
              "    .colab-df-container {\n",
              "      display:flex;\n",
              "      flex-wrap:wrap;\n",
              "      gap: 12px;\n",
              "    }\n",
              "\n",
              "    .colab-df-convert {\n",
              "      background-color: #E8F0FE;\n",
              "      border: none;\n",
              "      border-radius: 50%;\n",
              "      cursor: pointer;\n",
              "      display: none;\n",
              "      fill: #1967D2;\n",
              "      height: 32px;\n",
              "      padding: 0 0 0 0;\n",
              "      width: 32px;\n",
              "    }\n",
              "\n",
              "    .colab-df-convert:hover {\n",
              "      background-color: #E2EBFA;\n",
              "      box-shadow: 0px 1px 2px rgba(60, 64, 67, 0.3), 0px 1px 3px 1px rgba(60, 64, 67, 0.15);\n",
              "      fill: #174EA6;\n",
              "    }\n",
              "\n",
              "    [theme=dark] .colab-df-convert {\n",
              "      background-color: #3B4455;\n",
              "      fill: #D2E3FC;\n",
              "    }\n",
              "\n",
              "    [theme=dark] .colab-df-convert:hover {\n",
              "      background-color: #434B5C;\n",
              "      box-shadow: 0px 1px 3px 1px rgba(0, 0, 0, 0.15);\n",
              "      filter: drop-shadow(0px 1px 2px rgba(0, 0, 0, 0.3));\n",
              "      fill: #FFFFFF;\n",
              "    }\n",
              "  </style>\n",
              "\n",
              "      <script>\n",
              "        const buttonEl =\n",
              "          document.querySelector('#df-8f4b3f9f-8406-47fd-8fd6-6323ce2f2054 button.colab-df-convert');\n",
              "        buttonEl.style.display =\n",
              "          google.colab.kernel.accessAllowed ? 'block' : 'none';\n",
              "\n",
              "        async function convertToInteractive(key) {\n",
              "          const element = document.querySelector('#df-8f4b3f9f-8406-47fd-8fd6-6323ce2f2054');\n",
              "          const dataTable =\n",
              "            await google.colab.kernel.invokeFunction('convertToInteractive',\n",
              "                                                     [key], {});\n",
              "          if (!dataTable) return;\n",
              "\n",
              "          const docLinkHtml = 'Like what you see? Visit the ' +\n",
              "            '<a target=\"_blank\" href=https://colab.research.google.com/notebooks/data_table.ipynb>data table notebook</a>'\n",
              "            + ' to learn more about interactive tables.';\n",
              "          element.innerHTML = '';\n",
              "          dataTable['output_type'] = 'display_data';\n",
              "          await google.colab.output.renderOutput(dataTable, element);\n",
              "          const docLink = document.createElement('div');\n",
              "          docLink.innerHTML = docLinkHtml;\n",
              "          element.appendChild(docLink);\n",
              "        }\n",
              "      </script>\n",
              "    </div>\n",
              "  </div>\n",
              "  "
            ]
          },
          "metadata": {},
          "execution_count": 361
        }
      ]
    },
    {
      "cell_type": "code",
      "source": [
        "ax = sns.barplot(data=distribuicao_frequencia, x=\"Zona\", y=\"Percentual (%)\", color= \"#32545e\")\n",
        "show_values(ax)"
      ],
      "metadata": {
        "colab": {
          "base_uri": "https://localhost:8080/",
          "height": 281
        },
        "id": "AoHHBCSamDs4",
        "outputId": "3bd9efa5-f586-484a-a099-655632541658"
      },
      "execution_count": 362,
      "outputs": [
        {
          "output_type": "display_data",
          "data": {
            "text/plain": [
              "<Figure size 432x288 with 1 Axes>"
            ],
            "image/png": "[encoded data removed]"
          },
          "metadata": {
            "needs_background": "light"
          }
        }
      ]
    },
    {
      "cell_type": "markdown",
      "source": [
        "#### *Apartamentos*"
      ],
      "metadata": {
        "id": "-gpTXi1GWmLo"
      }
    },
    {
      "cell_type": "code",
      "source": [
        "frequencia = df_apartamentos[\"zona\"].value_counts()\n",
        "percentual = round(df_apartamentos[\"zona\"].value_counts(normalize=True) * 100, 2)"
      ],
      "metadata": {
        "id": "xyK14LWuWo5D"
      },
      "execution_count": 366,
      "outputs": []
    },
    {
      "cell_type": "code",
      "source": [
        "distribuicao_frequencia = pd.DataFrame({\"Zona\": zonas, \"Frequencia\": frequencia, \"Percentual (%)\": percentual})\n",
        "distribuicao_frequencia.reset_index(inplace=True)\n",
        "distribuicao_frequencia = distribuicao_frequencia.drop('index', axis=1)\n",
        "\n",
        "distribuicao_frequencia"
      ],
      "metadata": {
        "colab": {
          "base_uri": "https://localhost:8080/",
          "height": 237
        },
        "id": "0_nCT5h7388w",
        "outputId": "66354df3-aff1-4fa8-8d14-1699ef59c22d"
      },
      "execution_count": 367,
      "outputs": [
        {
          "output_type": "execute_result",
          "data": {
            "text/plain": [
              "           Zona  Frequencia  Percentual (%)\n",
              "0    Centro-Sul          64           41.83\n",
              "1         Oeste          50           32.68\n",
              "2         Norte          18           11.76\n",
              "3  Centro-Oeste          11            7.19\n",
              "4           Sul           5            3.27\n",
              "5         Leste           5            3.27"
            ],
            "text/html": [
              "\n",
              "  <div id=\"df-d3e491ca-d2a8-4a57-8345-083bc9646131\">\n",
              "    <div class=\"colab-df-container\">\n",
              "      <div>\n",
              "<style scoped>\n",
              "    .dataframe tbody tr th:only-of-type {\n",
              "        vertical-align: middle;\n",
              "    }\n",
              "\n",
              "    .dataframe tbody tr th {\n",
              "        vertical-align: top;\n",
              "    }\n",
              "\n",
              "    .dataframe thead th {\n",
              "        text-align: right;\n",
              "    }\n",
              "</style>\n",
              "<table border=\"1\" class=\"dataframe\">\n",
              "  <thead>\n",
              "    <tr style=\"text-align: right;\">\n",
              "      <th></th>\n",
              "      <th>Zona</th>\n",
              "      <th>Frequencia</th>\n",
              "      <th>Percentual (%)</th>\n",
              "    </tr>\n",
              "  </thead>\n",
              "  <tbody>\n",
              "    <tr>\n",
              "      <th>0</th>\n",
              "      <td>Centro-Sul</td>\n",
              "      <td>64</td>\n",
              "      <td>41.83</td>\n",
              "    </tr>\n",
              "    <tr>\n",
              "      <th>1</th>\n",
              "      <td>Oeste</td>\n",
              "      <td>50</td>\n",
              "      <td>32.68</td>\n",
              "    </tr>\n",
              "    <tr>\n",
              "      <th>2</th>\n",
              "      <td>Norte</td>\n",
              "      <td>18</td>\n",
              "      <td>11.76</td>\n",
              "    </tr>\n",
              "    <tr>\n",
              "      <th>3</th>\n",
              "      <td>Centro-Oeste</td>\n",
              "      <td>11</td>\n",
              "      <td>7.19</td>\n",
              "    </tr>\n",
              "    <tr>\n",
              "      <th>4</th>\n",
              "      <td>Sul</td>\n",
              "      <td>5</td>\n",
              "      <td>3.27</td>\n",
              "    </tr>\n",
              "    <tr>\n",
              "      <th>5</th>\n",
              "      <td>Leste</td>\n",
              "      <td>5</td>\n",
              "      <td>3.27</td>\n",
              "    </tr>\n",
              "  </tbody>\n",
              "</table>\n",
              "</div>\n",
              "      <button class=\"colab-df-convert\" onclick=\"convertToInteractive('df-d3e491ca-d2a8-4a57-8345-083bc9646131')\"\n",
              "              title=\"Convert this dataframe to an interactive table.\"\n",
              "              style=\"display:none;\">\n",
              "        \n",
              "  <svg xmlns=\"http://www.w3.org/2000/svg\" height=\"24px\"viewBox=\"0 0 24 24\"\n",
              "       width=\"24px\">\n",
              "    <path d=\"M0 0h24v24H0V0z\" fill=\"none\"/>\n",
              "    <path d=\"M18.56 5.44l.94 2.06.94-2.06 2.06-.94-2.06-.94-.94-2.06-.94 2.06-2.06.94zm-11 1L8.5 8.5l.94-2.06 2.06-.94-2.06-.94L8.5 2.5l-.94 2.06-2.06.94zm10 10l.94 2.06.94-2.06 2.06-.94-2.06-.94-.94-2.06-.94 2.06-2.06.94z\"/><path d=\"M17.41 7.96l-1.37-1.37c-.4-.4-.92-.59-1.43-.59-.52 0-1.04.2-1.43.59L10.3 9.45l-7.72 7.72c-.78.78-.78 2.05 0 2.83L4 21.41c.39.39.9.59 1.41.59.51 0 1.02-.2 1.41-.59l7.78-7.78 2.81-2.81c.8-.78.8-2.07 0-2.86zM5.41 20L4 18.59l7.72-7.72 1.47 1.35L5.41 20z\"/>\n",
              "  </svg>\n",
              "      </button>\n",
              "      \n",
              "  <style>\n",
              "    .colab-df-container {\n",
              "      display:flex;\n",
              "      flex-wrap:wrap;\n",
              "      gap: 12px;\n",
              "    }\n",
              "\n",
              "    .colab-df-convert {\n",
              "      background-color: #E8F0FE;\n",
              "      border: none;\n",
              "      border-radius: 50%;\n",
              "      cursor: pointer;\n",
              "      display: none;\n",
              "      fill: #1967D2;\n",
              "      height: 32px;\n",
              "      padding: 0 0 0 0;\n",
              "      width: 32px;\n",
              "    }\n",
              "\n",
              "    .colab-df-convert:hover {\n",
              "      background-color: #E2EBFA;\n",
              "      box-shadow: 0px 1px 2px rgba(60, 64, 67, 0.3), 0px 1px 3px 1px rgba(60, 64, 67, 0.15);\n",
              "      fill: #174EA6;\n",
              "    }\n",
              "\n",
              "    [theme=dark] .colab-df-convert {\n",
              "      background-color: #3B4455;\n",
              "      fill: #D2E3FC;\n",
              "    }\n",
              "\n",
              "    [theme=dark] .colab-df-convert:hover {\n",
              "      background-color: #434B5C;\n",
              "      box-shadow: 0px 1px 3px 1px rgba(0, 0, 0, 0.15);\n",
              "      filter: drop-shadow(0px 1px 2px rgba(0, 0, 0, 0.3));\n",
              "      fill: #FFFFFF;\n",
              "    }\n",
              "  </style>\n",
              "\n",
              "      <script>\n",
              "        const buttonEl =\n",
              "          document.querySelector('#df-d3e491ca-d2a8-4a57-8345-083bc9646131 button.colab-df-convert');\n",
              "        buttonEl.style.display =\n",
              "          google.colab.kernel.accessAllowed ? 'block' : 'none';\n",
              "\n",
              "        async function convertToInteractive(key) {\n",
              "          const element = document.querySelector('#df-d3e491ca-d2a8-4a57-8345-083bc9646131');\n",
              "          const dataTable =\n",
              "            await google.colab.kernel.invokeFunction('convertToInteractive',\n",
              "                                                     [key], {});\n",
              "          if (!dataTable) return;\n",
              "\n",
              "          const docLinkHtml = 'Like what you see? Visit the ' +\n",
              "            '<a target=\"_blank\" href=https://colab.research.google.com/notebooks/data_table.ipynb>data table notebook</a>'\n",
              "            + ' to learn more about interactive tables.';\n",
              "          element.innerHTML = '';\n",
              "          dataTable['output_type'] = 'display_data';\n",
              "          await google.colab.output.renderOutput(dataTable, element);\n",
              "          const docLink = document.createElement('div');\n",
              "          docLink.innerHTML = docLinkHtml;\n",
              "          element.appendChild(docLink);\n",
              "        }\n",
              "      </script>\n",
              "    </div>\n",
              "  </div>\n",
              "  "
            ]
          },
          "metadata": {},
          "execution_count": 367
        }
      ]
    },
    {
      "cell_type": "code",
      "source": [
        "ax = sns.barplot(data=distribuicao_frequencia, x=\"Zona\", y=\"Percentual (%)\", color= \"#32545e\")\n",
        "show_values(ax)"
      ],
      "metadata": {
        "colab": {
          "base_uri": "https://localhost:8080/",
          "height": 280
        },
        "id": "vzjVeuV2mdgF",
        "outputId": "646438b4-efc7-41f7-9bd7-61f4d68536ac"
      },
      "execution_count": 368,
      "outputs": [
        {
          "output_type": "display_data",
          "data": {
            "text/plain": [
              "<Figure size 432x288 with 1 Axes>"
            ],
            "image/png": "[encoded data removed]"
          },
          "metadata": {
            "needs_background": "light"
          }
        }
      ]
    },
    {
      "cell_type": "markdown",
      "source": [
        "### Categoria (Nominal)"
      ],
      "metadata": {
        "id": "g-spMKIOk9cR"
      }
    },
    {
      "cell_type": "code",
      "source": [
        "frequencia = df[\"categoria\"].value_counts()\n",
        "percentual = round(df[\"categoria\"].value_counts(normalize=True) * 100, 2)\n",
        "categorias = 'Casas', 'Apartamentos'"
      ],
      "metadata": {
        "id": "oCixzHVkk9cS"
      },
      "execution_count": 369,
      "outputs": []
    },
    {
      "cell_type": "code",
      "source": [
        "distribuicao_frequencia = pd.DataFrame({\"Categoria\":categorias,\"Frequencia\": frequencia, \"Percentual (%)\": percentual})\n",
        "distribuicao_frequencia.reset_index(inplace=True)\n",
        "distribuicao_frequencia = distribuicao_frequencia.drop('index', axis=1)\n",
        "\n",
        "distribuicao_frequencia"
      ],
      "metadata": {
        "colab": {
          "base_uri": "https://localhost:8080/",
          "height": 112
        },
        "outputId": "736d49a7-b9b5-4830-bb84-019c303a467f",
        "id": "E34_04Fik9cT"
      },
      "execution_count": 370,
      "outputs": [
        {
          "output_type": "execute_result",
          "data": {
            "text/plain": [
              "      Categoria  Frequencia  Percentual (%)\n",
              "0         Casas         237           60.77\n",
              "1  Apartamentos         153           39.23"
            ],
            "text/html": [
              "\n",
              "  <div id=\"df-b486f77d-072b-4ec7-83c4-b7ae53d54df8\">\n",
              "    <div class=\"colab-df-container\">\n",
              "      <div>\n",
              "<style scoped>\n",
              "    .dataframe tbody tr th:only-of-type {\n",
              "        vertical-align: middle;\n",
              "    }\n",
              "\n",
              "    .dataframe tbody tr th {\n",
              "        vertical-align: top;\n",
              "    }\n",
              "\n",
              "    .dataframe thead th {\n",
              "        text-align: right;\n",
              "    }\n",
              "</style>\n",
              "<table border=\"1\" class=\"dataframe\">\n",
              "  <thead>\n",
              "    <tr style=\"text-align: right;\">\n",
              "      <th></th>\n",
              "      <th>Categoria</th>\n",
              "      <th>Frequencia</th>\n",
              "      <th>Percentual (%)</th>\n",
              "    </tr>\n",
              "  </thead>\n",
              "  <tbody>\n",
              "    <tr>\n",
              "      <th>0</th>\n",
              "      <td>Casas</td>\n",
              "      <td>237</td>\n",
              "      <td>60.77</td>\n",
              "    </tr>\n",
              "    <tr>\n",
              "      <th>1</th>\n",
              "      <td>Apartamentos</td>\n",
              "      <td>153</td>\n",
              "      <td>39.23</td>\n",
              "    </tr>\n",
              "  </tbody>\n",
              "</table>\n",
              "</div>\n",
              "      <button class=\"colab-df-convert\" onclick=\"convertToInteractive('df-b486f77d-072b-4ec7-83c4-b7ae53d54df8')\"\n",
              "              title=\"Convert this dataframe to an interactive table.\"\n",
              "              style=\"display:none;\">\n",
              "        \n",
              "  <svg xmlns=\"http://www.w3.org/2000/svg\" height=\"24px\"viewBox=\"0 0 24 24\"\n",
              "       width=\"24px\">\n",
              "    <path d=\"M0 0h24v24H0V0z\" fill=\"none\"/>\n",
              "    <path d=\"M18.56 5.44l.94 2.06.94-2.06 2.06-.94-2.06-.94-.94-2.06-.94 2.06-2.06.94zm-11 1L8.5 8.5l.94-2.06 2.06-.94-2.06-.94L8.5 2.5l-.94 2.06-2.06.94zm10 10l.94 2.06.94-2.06 2.06-.94-2.06-.94-.94-2.06-.94 2.06-2.06.94z\"/><path d=\"M17.41 7.96l-1.37-1.37c-.4-.4-.92-.59-1.43-.59-.52 0-1.04.2-1.43.59L10.3 9.45l-7.72 7.72c-.78.78-.78 2.05 0 2.83L4 21.41c.39.39.9.59 1.41.59.51 0 1.02-.2 1.41-.59l7.78-7.78 2.81-2.81c.8-.78.8-2.07 0-2.86zM5.41 20L4 18.59l7.72-7.72 1.47 1.35L5.41 20z\"/>\n",
              "  </svg>\n",
              "      </button>\n",
              "      \n",
              "  <style>\n",
              "    .colab-df-container {\n",
              "      display:flex;\n",
              "      flex-wrap:wrap;\n",
              "      gap: 12px;\n",
              "    }\n",
              "\n",
              "    .colab-df-convert {\n",
              "      background-color: #E8F0FE;\n",
              "      border: none;\n",
              "      border-radius: 50%;\n",
              "      cursor: pointer;\n",
              "      display: none;\n",
              "      fill: #1967D2;\n",
              "      height: 32px;\n",
              "      padding: 0 0 0 0;\n",
              "      width: 32px;\n",
              "    }\n",
              "\n",
              "    .colab-df-convert:hover {\n",
              "      background-color: #E2EBFA;\n",
              "      box-shadow: 0px 1px 2px rgba(60, 64, 67, 0.3), 0px 1px 3px 1px rgba(60, 64, 67, 0.15);\n",
              "      fill: #174EA6;\n",
              "    }\n",
              "\n",
              "    [theme=dark] .colab-df-convert {\n",
              "      background-color: #3B4455;\n",
              "      fill: #D2E3FC;\n",
              "    }\n",
              "\n",
              "    [theme=dark] .colab-df-convert:hover {\n",
              "      background-color: #434B5C;\n",
              "      box-shadow: 0px 1px 3px 1px rgba(0, 0, 0, 0.15);\n",
              "      filter: drop-shadow(0px 1px 2px rgba(0, 0, 0, 0.3));\n",
              "      fill: #FFFFFF;\n",
              "    }\n",
              "  </style>\n",
              "\n",
              "      <script>\n",
              "        const buttonEl =\n",
              "          document.querySelector('#df-b486f77d-072b-4ec7-83c4-b7ae53d54df8 button.colab-df-convert');\n",
              "        buttonEl.style.display =\n",
              "          google.colab.kernel.accessAllowed ? 'block' : 'none';\n",
              "\n",
              "        async function convertToInteractive(key) {\n",
              "          const element = document.querySelector('#df-b486f77d-072b-4ec7-83c4-b7ae53d54df8');\n",
              "          const dataTable =\n",
              "            await google.colab.kernel.invokeFunction('convertToInteractive',\n",
              "                                                     [key], {});\n",
              "          if (!dataTable) return;\n",
              "\n",
              "          const docLinkHtml = 'Like what you see? Visit the ' +\n",
              "            '<a target=\"_blank\" href=https://colab.research.google.com/notebooks/data_table.ipynb>data table notebook</a>'\n",
              "            + ' to learn more about interactive tables.';\n",
              "          element.innerHTML = '';\n",
              "          dataTable['output_type'] = 'display_data';\n",
              "          await google.colab.output.renderOutput(dataTable, element);\n",
              "          const docLink = document.createElement('div');\n",
              "          docLink.innerHTML = docLinkHtml;\n",
              "          element.appendChild(docLink);\n",
              "        }\n",
              "      </script>\n",
              "    </div>\n",
              "  </div>\n",
              "  "
            ]
          },
          "metadata": {},
          "execution_count": 370
        }
      ]
    },
    {
      "cell_type": "code",
      "source": [
        "ax = sns.barplot(data=distribuicao_frequencia, x=\"Categoria\", y=\"Percentual (%)\", color=\"#32545e\")\n",
        "show_values(ax)"
      ],
      "metadata": {
        "colab": {
          "base_uri": "https://localhost:8080/",
          "height": 279
        },
        "outputId": "e59eeba0-4663-4715-81c2-4cfc1ab603b0",
        "id": "t7KgFrZFk9cT"
      },
      "execution_count": 371,
      "outputs": [
        {
          "output_type": "display_data",
          "data": {
            "text/plain": [
              "<Figure size 432x288 with 1 Axes>"
            ],
            "image/png": "[encoded data removed]"
          },
          "metadata": {
            "needs_background": "light"
          }
        }
      ]
    },
    {
      "cell_type": "markdown",
      "source": [
        "## ✧ Para variáveis quantitativas"
      ],
      "metadata": {
        "id": "ndU4FHQUUIre"
      }
    },
    {
      "cell_type": "markdown",
      "source": [
        "#### Função para Distribuição de Frequência de Variáveis Contínuas"
      ],
      "metadata": {
        "id": "s_-rp0-F85tK"
      }
    },
    {
      "cell_type": "code",
      "source": [
        "def n_classes(dados: pd.Series, tipo='Padrão'):\n",
        "    n_obs = len(dados)\n",
        "    if tipo=='Padrão':\n",
        "        return 5 if n_obs<25 else np.ceil(np.sqrt(n_obs)).astype(int)\n",
        "    if tipo=='Sturges':\n",
        "        return (1 + np.ceil(np.log2(n_obs))).astype(int)\n",
        "\n",
        "def amplitude_classes(dados: pd.Series, tipo='Padrão', arredondar=True):\n",
        "    amplitude = np.ceil((dados.max() - dados.min())/n_classes(dados, tipo=tipo)) \\\n",
        "    if arredondar else (dados.max() - dados.min())/n_classes(dados, tipo=tipo)\n",
        "    return amplitude\n",
        "\n",
        "def construir_tabela(dados, tipo='Padrão', direita=False, arredondar=True):\n",
        "    dados_series = pd.Series(dados)\n",
        "    n_class = n_classes(dados_series, tipo=tipo)\n",
        "    amp_class = amplitude_classes(dados_series, tipo=tipo, arredondar=arredondar)\n",
        "    bins = [dados_series.min() + i*amp_class for i in range(n_class+1)]\n",
        "    return pd.cut(dados_series, bins=bins, right=direita).value_counts(sort=False).rename('fi')\n",
        "\n",
        "def formatar_intervalos(intervalos, prec, direita=False):   \n",
        "    fechado = 'right' if direita else 'left'\n",
        "    return [pd.Interval(left=np.round(intervalo.left,prec), \n",
        "                        right=np.round(intervalo.right,prec), closed=fechado) for intervalo in intervalos]\n",
        "\n",
        "\n",
        "def dist_freq(dados, tipo='Padrão', prec=2, direita=False, arredondar=True, exibir_total=True):    \n",
        "    df_dist_freq = pd.DataFrame(construir_tabela(dados, tipo=tipo, direita=direita, arredondar=arredondar))\n",
        "    df_dist_freq.index = formatar_intervalos(df_dist_freq.index.array, prec, direita=direita)\n",
        "    df_dist_freq.index = df_dist_freq.index.rename('Classes')\n",
        "    if exibir_total:\n",
        "        total = df_dist_freq['fi'].sum()\n",
        "        total_dist = pd.DataFrame({'fi':total}, index=['Total'])\n",
        "        total_dist.index = total_dist.index.rename('Classes')\n",
        "        df_dist_freq = pd.concat([df_dist_freq, total_dist])\n",
        "    \n",
        "    list_freq = np.asarray(df_dist_freq[\"fi\"])\n",
        "    list_per = [(round(list_freq[i]/total,4) * 100) for i in range(len(list_freq))]\n",
        "    df_dist_freq.insert(loc=1, column=\"(%)\", value=list_per)\n",
        "    \n",
        "        \n",
        "    return  df_dist_freq.query('fi>0')"
      ],
      "metadata": {
        "id": "4nN88q5-7Tgs"
      },
      "execution_count": 504,
      "outputs": []
    },
    {
      "cell_type": "code",
      "source": [
        "distribuicao_frequencia = dist_freq(df[\"valor\"], 'Sturges')\n",
        "distribuicao_frequencia.reset_index(inplace=True)\n",
        "distribuicao_frequencia"
      ],
      "metadata": {
        "colab": {
          "base_uri": "https://localhost:8080/",
          "height": 332
        },
        "id": "E6-V1YoImilW",
        "outputId": "57c7ad78-44ed-4abb-adc0-e81a6d0a12ee"
      },
      "execution_count": 505,
      "outputs": [
        {
          "output_type": "execute_result",
          "data": {
            "text/plain": [
              "                  Classes   fi     (%)\n",
              "0     [40000.0, 786000.0)  271   69.67\n",
              "1   [786000.0, 1532000.0)   66   16.97\n",
              "2  [1532000.0, 2278000.0)   23    5.91\n",
              "3  [2278000.0, 3024000.0)   11    2.83\n",
              "4  [3024000.0, 3770000.0)    6    1.54\n",
              "5  [3770000.0, 4516000.0)    9    2.31\n",
              "6  [4516000.0, 5262000.0)    2    0.51\n",
              "7  [5262000.0, 6008000.0)    1    0.26\n",
              "8                   Total  389  100.00"
            ],
            "text/html": [
              "\n",
              "  <div id=\"df-f013b174-ad0b-4975-ad31-2f4d67071cdd\">\n",
              "    <div class=\"colab-df-container\">\n",
              "      <div>\n",
              "<style scoped>\n",
              "    .dataframe tbody tr th:only-of-type {\n",
              "        vertical-align: middle;\n",
              "    }\n",
              "\n",
              "    .dataframe tbody tr th {\n",
              "        vertical-align: top;\n",
              "    }\n",
              "\n",
              "    .dataframe thead th {\n",
              "        text-align: right;\n",
              "    }\n",
              "</style>\n",
              "<table border=\"1\" class=\"dataframe\">\n",
              "  <thead>\n",
              "    <tr style=\"text-align: right;\">\n",
              "      <th></th>\n",
              "      <th>Classes</th>\n",
              "      <th>fi</th>\n",
              "      <th>(%)</th>\n",
              "    </tr>\n",
              "  </thead>\n",
              "  <tbody>\n",
              "    <tr>\n",
              "      <th>0</th>\n",
              "      <td>[40000.0, 786000.0)</td>\n",
              "      <td>271</td>\n",
              "      <td>69.67</td>\n",
              "    </tr>\n",
              "    <tr>\n",
              "      <th>1</th>\n",
              "      <td>[786000.0, 1532000.0)</td>\n",
              "      <td>66</td>\n",
              "      <td>16.97</td>\n",
              "    </tr>\n",
              "    <tr>\n",
              "      <th>2</th>\n",
              "      <td>[1532000.0, 2278000.0)</td>\n",
              "      <td>23</td>\n",
              "      <td>5.91</td>\n",
              "    </tr>\n",
              "    <tr>\n",
              "      <th>3</th>\n",
              "      <td>[2278000.0, 3024000.0)</td>\n",
              "      <td>11</td>\n",
              "      <td>2.83</td>\n",
              "    </tr>\n",
              "    <tr>\n",
              "      <th>4</th>\n",
              "      <td>[3024000.0, 3770000.0)</td>\n",
              "      <td>6</td>\n",
              "      <td>1.54</td>\n",
              "    </tr>\n",
              "    <tr>\n",
              "      <th>5</th>\n",
              "      <td>[3770000.0, 4516000.0)</td>\n",
              "      <td>9</td>\n",
              "      <td>2.31</td>\n",
              "    </tr>\n",
              "    <tr>\n",
              "      <th>6</th>\n",
              "      <td>[4516000.0, 5262000.0)</td>\n",
              "      <td>2</td>\n",
              "      <td>0.51</td>\n",
              "    </tr>\n",
              "    <tr>\n",
              "      <th>7</th>\n",
              "      <td>[5262000.0, 6008000.0)</td>\n",
              "      <td>1</td>\n",
              "      <td>0.26</td>\n",
              "    </tr>\n",
              "    <tr>\n",
              "      <th>8</th>\n",
              "      <td>Total</td>\n",
              "      <td>389</td>\n",
              "      <td>100.00</td>\n",
              "    </tr>\n",
              "  </tbody>\n",
              "</table>\n",
              "</div>\n",
              "      <button class=\"colab-df-convert\" onclick=\"convertToInteractive('df-f013b174-ad0b-4975-ad31-2f4d67071cdd')\"\n",
              "              title=\"Convert this dataframe to an interactive table.\"\n",
              "              style=\"display:none;\">\n",
              "        \n",
              "  <svg xmlns=\"http://www.w3.org/2000/svg\" height=\"24px\"viewBox=\"0 0 24 24\"\n",
              "       width=\"24px\">\n",
              "    <path d=\"M0 0h24v24H0V0z\" fill=\"none\"/>\n",
              "    <path d=\"M18.56 5.44l.94 2.06.94-2.06 2.06-.94-2.06-.94-.94-2.06-.94 2.06-2.06.94zm-11 1L8.5 8.5l.94-2.06 2.06-.94-2.06-.94L8.5 2.5l-.94 2.06-2.06.94zm10 10l.94 2.06.94-2.06 2.06-.94-2.06-.94-.94-2.06-.94 2.06-2.06.94z\"/><path d=\"M17.41 7.96l-1.37-1.37c-.4-.4-.92-.59-1.43-.59-.52 0-1.04.2-1.43.59L10.3 9.45l-7.72 7.72c-.78.78-.78 2.05 0 2.83L4 21.41c.39.39.9.59 1.41.59.51 0 1.02-.2 1.41-.59l7.78-7.78 2.81-2.81c.8-.78.8-2.07 0-2.86zM5.41 20L4 18.59l7.72-7.72 1.47 1.35L5.41 20z\"/>\n",
              "  </svg>\n",
              "      </button>\n",
              "      \n",
              "  <style>\n",
              "    .colab-df-container {\n",
              "      display:flex;\n",
              "      flex-wrap:wrap;\n",
              "      gap: 12px;\n",
              "    }\n",
              "\n",
              "    .colab-df-convert {\n",
              "      background-color: #E8F0FE;\n",
              "      border: none;\n",
              "      border-radius: 50%;\n",
              "      cursor: pointer;\n",
              "      display: none;\n",
              "      fill: #1967D2;\n",
              "      height: 32px;\n",
              "      padding: 0 0 0 0;\n",
              "      width: 32px;\n",
              "    }\n",
              "\n",
              "    .colab-df-convert:hover {\n",
              "      background-color: #E2EBFA;\n",
              "      box-shadow: 0px 1px 2px rgba(60, 64, 67, 0.3), 0px 1px 3px 1px rgba(60, 64, 67, 0.15);\n",
              "      fill: #174EA6;\n",
              "    }\n",
              "\n",
              "    [theme=dark] .colab-df-convert {\n",
              "      background-color: #3B4455;\n",
              "      fill: #D2E3FC;\n",
              "    }\n",
              "\n",
              "    [theme=dark] .colab-df-convert:hover {\n",
              "      background-color: #434B5C;\n",
              "      box-shadow: 0px 1px 3px 1px rgba(0, 0, 0, 0.15);\n",
              "      filter: drop-shadow(0px 1px 2px rgba(0, 0, 0, 0.3));\n",
              "      fill: #FFFFFF;\n",
              "    }\n",
              "  </style>\n",
              "\n",
              "      <script>\n",
              "        const buttonEl =\n",
              "          document.querySelector('#df-f013b174-ad0b-4975-ad31-2f4d67071cdd button.colab-df-convert');\n",
              "        buttonEl.style.display =\n",
              "          google.colab.kernel.accessAllowed ? 'block' : 'none';\n",
              "\n",
              "        async function convertToInteractive(key) {\n",
              "          const element = document.querySelector('#df-f013b174-ad0b-4975-ad31-2f4d67071cdd');\n",
              "          const dataTable =\n",
              "            await google.colab.kernel.invokeFunction('convertToInteractive',\n",
              "                                                     [key], {});\n",
              "          if (!dataTable) return;\n",
              "\n",
              "          const docLinkHtml = 'Like what you see? Visit the ' +\n",
              "            '<a target=\"_blank\" href=https://colab.research.google.com/notebooks/data_table.ipynb>data table notebook</a>'\n",
              "            + ' to learn more about interactive tables.';\n",
              "          element.innerHTML = '';\n",
              "          dataTable['output_type'] = 'display_data';\n",
              "          await google.colab.output.renderOutput(dataTable, element);\n",
              "          const docLink = document.createElement('div');\n",
              "          docLink.innerHTML = docLinkHtml;\n",
              "          element.appendChild(docLink);\n",
              "        }\n",
              "      </script>\n",
              "    </div>\n",
              "  </div>\n",
              "  "
            ]
          },
          "metadata": {},
          "execution_count": 505
        }
      ]
    },
    {
      "cell_type": "markdown",
      "source": [
        "### Valor do Imóvel (Quantitativa Contínua)"
      ],
      "metadata": {
        "id": "EY7ZzV9HnIJy"
      }
    },
    {
      "cell_type": "markdown",
      "source": [
        "#### Geral"
      ],
      "metadata": {
        "id": "VYUWAvJMnIJy"
      }
    },
    {
      "cell_type": "code",
      "source": [
        "distribuicao_frequencia = dist_freq(df[\"valor\"], 'Sturges')\n",
        "distribuicao_frequencia.reset_index(inplace=True)"
      ],
      "metadata": {
        "id": "_Y-XzOKM7rMq"
      },
      "execution_count": 506,
      "outputs": []
    },
    {
      "cell_type": "code",
      "source": [
        "distribuicao_frequencia"
      ],
      "metadata": {
        "colab": {
          "base_uri": "https://localhost:8080/",
          "height": 332
        },
        "outputId": "fdfde30b-7c0c-44d7-da63-361c98bf8eea",
        "id": "e5g8QOA_nIJz"
      },
      "execution_count": 507,
      "outputs": [
        {
          "output_type": "execute_result",
          "data": {
            "text/plain": [
              "                  Classes   fi     (%)\n",
              "0     [40000.0, 786000.0)  271   69.67\n",
              "1   [786000.0, 1532000.0)   66   16.97\n",
              "2  [1532000.0, 2278000.0)   23    5.91\n",
              "3  [2278000.0, 3024000.0)   11    2.83\n",
              "4  [3024000.0, 3770000.0)    6    1.54\n",
              "5  [3770000.0, 4516000.0)    9    2.31\n",
              "6  [4516000.0, 5262000.0)    2    0.51\n",
              "7  [5262000.0, 6008000.0)    1    0.26\n",
              "8                   Total  389  100.00"
            ],
            "text/html": [
              "\n",
              "  <div id=\"df-43234d64-0574-4128-b10a-56f9b698aeae\">\n",
              "    <div class=\"colab-df-container\">\n",
              "      <div>\n",
              "<style scoped>\n",
              "    .dataframe tbody tr th:only-of-type {\n",
              "        vertical-align: middle;\n",
              "    }\n",
              "\n",
              "    .dataframe tbody tr th {\n",
              "        vertical-align: top;\n",
              "    }\n",
              "\n",
              "    .dataframe thead th {\n",
              "        text-align: right;\n",
              "    }\n",
              "</style>\n",
              "<table border=\"1\" class=\"dataframe\">\n",
              "  <thead>\n",
              "    <tr style=\"text-align: right;\">\n",
              "      <th></th>\n",
              "      <th>Classes</th>\n",
              "      <th>fi</th>\n",
              "      <th>(%)</th>\n",
              "    </tr>\n",
              "  </thead>\n",
              "  <tbody>\n",
              "    <tr>\n",
              "      <th>0</th>\n",
              "      <td>[40000.0, 786000.0)</td>\n",
              "      <td>271</td>\n",
              "      <td>69.67</td>\n",
              "    </tr>\n",
              "    <tr>\n",
              "      <th>1</th>\n",
              "      <td>[786000.0, 1532000.0)</td>\n",
              "      <td>66</td>\n",
              "      <td>16.97</td>\n",
              "    </tr>\n",
              "    <tr>\n",
              "      <th>2</th>\n",
              "      <td>[1532000.0, 2278000.0)</td>\n",
              "      <td>23</td>\n",
              "      <td>5.91</td>\n",
              "    </tr>\n",
              "    <tr>\n",
              "      <th>3</th>\n",
              "      <td>[2278000.0, 3024000.0)</td>\n",
              "      <td>11</td>\n",
              "      <td>2.83</td>\n",
              "    </tr>\n",
              "    <tr>\n",
              "      <th>4</th>\n",
              "      <td>[3024000.0, 3770000.0)</td>\n",
              "      <td>6</td>\n",
              "      <td>1.54</td>\n",
              "    </tr>\n",
              "    <tr>\n",
              "      <th>5</th>\n",
              "      <td>[3770000.0, 4516000.0)</td>\n",
              "      <td>9</td>\n",
              "      <td>2.31</td>\n",
              "    </tr>\n",
              "    <tr>\n",
              "      <th>6</th>\n",
              "      <td>[4516000.0, 5262000.0)</td>\n",
              "      <td>2</td>\n",
              "      <td>0.51</td>\n",
              "    </tr>\n",
              "    <tr>\n",
              "      <th>7</th>\n",
              "      <td>[5262000.0, 6008000.0)</td>\n",
              "      <td>1</td>\n",
              "      <td>0.26</td>\n",
              "    </tr>\n",
              "    <tr>\n",
              "      <th>8</th>\n",
              "      <td>Total</td>\n",
              "      <td>389</td>\n",
              "      <td>100.00</td>\n",
              "    </tr>\n",
              "  </tbody>\n",
              "</table>\n",
              "</div>\n",
              "      <button class=\"colab-df-convert\" onclick=\"convertToInteractive('df-43234d64-0574-4128-b10a-56f9b698aeae')\"\n",
              "              title=\"Convert this dataframe to an interactive table.\"\n",
              "              style=\"display:none;\">\n",
              "        \n",
              "  <svg xmlns=\"http://www.w3.org/2000/svg\" height=\"24px\"viewBox=\"0 0 24 24\"\n",
              "       width=\"24px\">\n",
              "    <path d=\"M0 0h24v24H0V0z\" fill=\"none\"/>\n",
              "    <path d=\"M18.56 5.44l.94 2.06.94-2.06 2.06-.94-2.06-.94-.94-2.06-.94 2.06-2.06.94zm-11 1L8.5 8.5l.94-2.06 2.06-.94-2.06-.94L8.5 2.5l-.94 2.06-2.06.94zm10 10l.94 2.06.94-2.06 2.06-.94-2.06-.94-.94-2.06-.94 2.06-2.06.94z\"/><path d=\"M17.41 7.96l-1.37-1.37c-.4-.4-.92-.59-1.43-.59-.52 0-1.04.2-1.43.59L10.3 9.45l-7.72 7.72c-.78.78-.78 2.05 0 2.83L4 21.41c.39.39.9.59 1.41.59.51 0 1.02-.2 1.41-.59l7.78-7.78 2.81-2.81c.8-.78.8-2.07 0-2.86zM5.41 20L4 18.59l7.72-7.72 1.47 1.35L5.41 20z\"/>\n",
              "  </svg>\n",
              "      </button>\n",
              "      \n",
              "  <style>\n",
              "    .colab-df-container {\n",
              "      display:flex;\n",
              "      flex-wrap:wrap;\n",
              "      gap: 12px;\n",
              "    }\n",
              "\n",
              "    .colab-df-convert {\n",
              "      background-color: #E8F0FE;\n",
              "      border: none;\n",
              "      border-radius: 50%;\n",
              "      cursor: pointer;\n",
              "      display: none;\n",
              "      fill: #1967D2;\n",
              "      height: 32px;\n",
              "      padding: 0 0 0 0;\n",
              "      width: 32px;\n",
              "    }\n",
              "\n",
              "    .colab-df-convert:hover {\n",
              "      background-color: #E2EBFA;\n",
              "      box-shadow: 0px 1px 2px rgba(60, 64, 67, 0.3), 0px 1px 3px 1px rgba(60, 64, 67, 0.15);\n",
              "      fill: #174EA6;\n",
              "    }\n",
              "\n",
              "    [theme=dark] .colab-df-convert {\n",
              "      background-color: #3B4455;\n",
              "      fill: #D2E3FC;\n",
              "    }\n",
              "\n",
              "    [theme=dark] .colab-df-convert:hover {\n",
              "      background-color: #434B5C;\n",
              "      box-shadow: 0px 1px 3px 1px rgba(0, 0, 0, 0.15);\n",
              "      filter: drop-shadow(0px 1px 2px rgba(0, 0, 0, 0.3));\n",
              "      fill: #FFFFFF;\n",
              "    }\n",
              "  </style>\n",
              "\n",
              "      <script>\n",
              "        const buttonEl =\n",
              "          document.querySelector('#df-43234d64-0574-4128-b10a-56f9b698aeae button.colab-df-convert');\n",
              "        buttonEl.style.display =\n",
              "          google.colab.kernel.accessAllowed ? 'block' : 'none';\n",
              "\n",
              "        async function convertToInteractive(key) {\n",
              "          const element = document.querySelector('#df-43234d64-0574-4128-b10a-56f9b698aeae');\n",
              "          const dataTable =\n",
              "            await google.colab.kernel.invokeFunction('convertToInteractive',\n",
              "                                                     [key], {});\n",
              "          if (!dataTable) return;\n",
              "\n",
              "          const docLinkHtml = 'Like what you see? Visit the ' +\n",
              "            '<a target=\"_blank\" href=https://colab.research.google.com/notebooks/data_table.ipynb>data table notebook</a>'\n",
              "            + ' to learn more about interactive tables.';\n",
              "          element.innerHTML = '';\n",
              "          dataTable['output_type'] = 'display_data';\n",
              "          await google.colab.output.renderOutput(dataTable, element);\n",
              "          const docLink = document.createElement('div');\n",
              "          docLink.innerHTML = docLinkHtml;\n",
              "          element.appendChild(docLink);\n",
              "        }\n",
              "      </script>\n",
              "    </div>\n",
              "  </div>\n",
              "  "
            ]
          },
          "metadata": {},
          "execution_count": 507
        }
      ]
    },
    {
      "cell_type": "markdown",
      "source": [
        "#### Casas"
      ],
      "metadata": {
        "id": "bMYZpTpXnIJ0"
      }
    },
    {
      "cell_type": "code",
      "source": [
        "distribuicao_frequencia = dist_freq(df_casas[\"valor\"], 'Sturges')"
      ],
      "metadata": {
        "id": "40nRacG6D_F5"
      },
      "execution_count": 508,
      "outputs": []
    },
    {
      "cell_type": "code",
      "source": [
        "distribuicao_frequencia"
      ],
      "metadata": {
        "colab": {
          "base_uri": "https://localhost:8080/",
          "height": 363
        },
        "outputId": "b32cf598-6b8e-47c5-d82c-868f2f88421b",
        "id": "1r90liOpnIJ0"
      },
      "execution_count": 509,
      "outputs": [
        {
          "output_type": "execute_result",
          "data": {
            "text/plain": [
              "                         fi     (%)\n",
              "Classes                            \n",
              "[45000.0, 873334.0)     167   70.46\n",
              "[873334.0, 1701668.0)    36   15.19\n",
              "[1701668.0, 2530002.0)   13    5.49\n",
              "[2530002.0, 3358336.0)    7    2.95\n",
              "[3358336.0, 4186670.0)    7    2.95\n",
              "[4186670.0, 5015004.0)    5    2.11\n",
              "[5015004.0, 5843338.0)    1    0.42\n",
              "[6671672.0, 7500006.0)    1    0.42\n",
              "Total                   237  100.00"
            ],
            "text/html": [
              "\n",
              "  <div id=\"df-8482475f-17be-4625-ac13-b8b7a9587a56\">\n",
              "    <div class=\"colab-df-container\">\n",
              "      <div>\n",
              "<style scoped>\n",
              "    .dataframe tbody tr th:only-of-type {\n",
              "        vertical-align: middle;\n",
              "    }\n",
              "\n",
              "    .dataframe tbody tr th {\n",
              "        vertical-align: top;\n",
              "    }\n",
              "\n",
              "    .dataframe thead th {\n",
              "        text-align: right;\n",
              "    }\n",
              "</style>\n",
              "<table border=\"1\" class=\"dataframe\">\n",
              "  <thead>\n",
              "    <tr style=\"text-align: right;\">\n",
              "      <th></th>\n",
              "      <th>fi</th>\n",
              "      <th>(%)</th>\n",
              "    </tr>\n",
              "    <tr>\n",
              "      <th>Classes</th>\n",
              "      <th></th>\n",
              "      <th></th>\n",
              "    </tr>\n",
              "  </thead>\n",
              "  <tbody>\n",
              "    <tr>\n",
              "      <th>[45000.0, 873334.0)</th>\n",
              "      <td>167</td>\n",
              "      <td>70.46</td>\n",
              "    </tr>\n",
              "    <tr>\n",
              "      <th>[873334.0, 1701668.0)</th>\n",
              "      <td>36</td>\n",
              "      <td>15.19</td>\n",
              "    </tr>\n",
              "    <tr>\n",
              "      <th>[1701668.0, 2530002.0)</th>\n",
              "      <td>13</td>\n",
              "      <td>5.49</td>\n",
              "    </tr>\n",
              "    <tr>\n",
              "      <th>[2530002.0, 3358336.0)</th>\n",
              "      <td>7</td>\n",
              "      <td>2.95</td>\n",
              "    </tr>\n",
              "    <tr>\n",
              "      <th>[3358336.0, 4186670.0)</th>\n",
              "      <td>7</td>\n",
              "      <td>2.95</td>\n",
              "    </tr>\n",
              "    <tr>\n",
              "      <th>[4186670.0, 5015004.0)</th>\n",
              "      <td>5</td>\n",
              "      <td>2.11</td>\n",
              "    </tr>\n",
              "    <tr>\n",
              "      <th>[5015004.0, 5843338.0)</th>\n",
              "      <td>1</td>\n",
              "      <td>0.42</td>\n",
              "    </tr>\n",
              "    <tr>\n",
              "      <th>[6671672.0, 7500006.0)</th>\n",
              "      <td>1</td>\n",
              "      <td>0.42</td>\n",
              "    </tr>\n",
              "    <tr>\n",
              "      <th>Total</th>\n",
              "      <td>237</td>\n",
              "      <td>100.00</td>\n",
              "    </tr>\n",
              "  </tbody>\n",
              "</table>\n",
              "</div>\n",
              "      <button class=\"colab-df-convert\" onclick=\"convertToInteractive('df-8482475f-17be-4625-ac13-b8b7a9587a56')\"\n",
              "              title=\"Convert this dataframe to an interactive table.\"\n",
              "              style=\"display:none;\">\n",
              "        \n",
              "  <svg xmlns=\"http://www.w3.org/2000/svg\" height=\"24px\"viewBox=\"0 0 24 24\"\n",
              "       width=\"24px\">\n",
              "    <path d=\"M0 0h24v24H0V0z\" fill=\"none\"/>\n",
              "    <path d=\"M18.56 5.44l.94 2.06.94-2.06 2.06-.94-2.06-.94-.94-2.06-.94 2.06-2.06.94zm-11 1L8.5 8.5l.94-2.06 2.06-.94-2.06-.94L8.5 2.5l-.94 2.06-2.06.94zm10 10l.94 2.06.94-2.06 2.06-.94-2.06-.94-.94-2.06-.94 2.06-2.06.94z\"/><path d=\"M17.41 7.96l-1.37-1.37c-.4-.4-.92-.59-1.43-.59-.52 0-1.04.2-1.43.59L10.3 9.45l-7.72 7.72c-.78.78-.78 2.05 0 2.83L4 21.41c.39.39.9.59 1.41.59.51 0 1.02-.2 1.41-.59l7.78-7.78 2.81-2.81c.8-.78.8-2.07 0-2.86zM5.41 20L4 18.59l7.72-7.72 1.47 1.35L5.41 20z\"/>\n",
              "  </svg>\n",
              "      </button>\n",
              "      \n",
              "  <style>\n",
              "    .colab-df-container {\n",
              "      display:flex;\n",
              "      flex-wrap:wrap;\n",
              "      gap: 12px;\n",
              "    }\n",
              "\n",
              "    .colab-df-convert {\n",
              "      background-color: #E8F0FE;\n",
              "      border: none;\n",
              "      border-radius: 50%;\n",
              "      cursor: pointer;\n",
              "      display: none;\n",
              "      fill: #1967D2;\n",
              "      height: 32px;\n",
              "      padding: 0 0 0 0;\n",
              "      width: 32px;\n",
              "    }\n",
              "\n",
              "    .colab-df-convert:hover {\n",
              "      background-color: #E2EBFA;\n",
              "      box-shadow: 0px 1px 2px rgba(60, 64, 67, 0.3), 0px 1px 3px 1px rgba(60, 64, 67, 0.15);\n",
              "      fill: #174EA6;\n",
              "    }\n",
              "\n",
              "    [theme=dark] .colab-df-convert {\n",
              "      background-color: #3B4455;\n",
              "      fill: #D2E3FC;\n",
              "    }\n",
              "\n",
              "    [theme=dark] .colab-df-convert:hover {\n",
              "      background-color: #434B5C;\n",
              "      box-shadow: 0px 1px 3px 1px rgba(0, 0, 0, 0.15);\n",
              "      filter: drop-shadow(0px 1px 2px rgba(0, 0, 0, 0.3));\n",
              "      fill: #FFFFFF;\n",
              "    }\n",
              "  </style>\n",
              "\n",
              "      <script>\n",
              "        const buttonEl =\n",
              "          document.querySelector('#df-8482475f-17be-4625-ac13-b8b7a9587a56 button.colab-df-convert');\n",
              "        buttonEl.style.display =\n",
              "          google.colab.kernel.accessAllowed ? 'block' : 'none';\n",
              "\n",
              "        async function convertToInteractive(key) {\n",
              "          const element = document.querySelector('#df-8482475f-17be-4625-ac13-b8b7a9587a56');\n",
              "          const dataTable =\n",
              "            await google.colab.kernel.invokeFunction('convertToInteractive',\n",
              "                                                     [key], {});\n",
              "          if (!dataTable) return;\n",
              "\n",
              "          const docLinkHtml = 'Like what you see? Visit the ' +\n",
              "            '<a target=\"_blank\" href=https://colab.research.google.com/notebooks/data_table.ipynb>data table notebook</a>'\n",
              "            + ' to learn more about interactive tables.';\n",
              "          element.innerHTML = '';\n",
              "          dataTable['output_type'] = 'display_data';\n",
              "          await google.colab.output.renderOutput(dataTable, element);\n",
              "          const docLink = document.createElement('div');\n",
              "          docLink.innerHTML = docLinkHtml;\n",
              "          element.appendChild(docLink);\n",
              "        }\n",
              "      </script>\n",
              "    </div>\n",
              "  </div>\n",
              "  "
            ]
          },
          "metadata": {},
          "execution_count": 509
        }
      ]
    },
    {
      "cell_type": "markdown",
      "source": [
        "#### Apartamentos"
      ],
      "metadata": {
        "id": "WeJiyAkpnIJ0"
      }
    },
    {
      "cell_type": "code",
      "source": [
        "distribuicao_frequencia = dist_freq(df_apartamentos[\"valor\"], 'Sturges')"
      ],
      "metadata": {
        "id": "n5uy_DT2EFVo"
      },
      "execution_count": 510,
      "outputs": []
    },
    {
      "cell_type": "code",
      "source": [
        "distribuicao_frequencia"
      ],
      "metadata": {
        "colab": {
          "base_uri": "https://localhost:8080/",
          "height": 332
        },
        "outputId": "a9610b34-4df3-4fe4-ec3f-0ed0dc37e294",
        "id": "egf6liBtnIJ1"
      },
      "execution_count": 511,
      "outputs": [
        {
          "output_type": "execute_result",
          "data": {
            "text/plain": [
              "                         fi     (%)\n",
              "Classes                            \n",
              "[40000.0, 580000.0)      98   64.47\n",
              "[580000.0, 1120000.0)    33   21.71\n",
              "[1120000.0, 1660000.0)   13    8.55\n",
              "[1660000.0, 2200000.0)    4    2.63\n",
              "[2200000.0, 2740000.0)    2    1.32\n",
              "[2740000.0, 3280000.0)    1    0.66\n",
              "[4360000.0, 4900000.0)    1    0.66\n",
              "Total                   152  100.00"
            ],
            "text/html": [
              "\n",
              "  <div id=\"df-f1a4e539-d83b-4be5-b2b6-833042eae439\">\n",
              "    <div class=\"colab-df-container\">\n",
              "      <div>\n",
              "<style scoped>\n",
              "    .dataframe tbody tr th:only-of-type {\n",
              "        vertical-align: middle;\n",
              "    }\n",
              "\n",
              "    .dataframe tbody tr th {\n",
              "        vertical-align: top;\n",
              "    }\n",
              "\n",
              "    .dataframe thead th {\n",
              "        text-align: right;\n",
              "    }\n",
              "</style>\n",
              "<table border=\"1\" class=\"dataframe\">\n",
              "  <thead>\n",
              "    <tr style=\"text-align: right;\">\n",
              "      <th></th>\n",
              "      <th>fi</th>\n",
              "      <th>(%)</th>\n",
              "    </tr>\n",
              "    <tr>\n",
              "      <th>Classes</th>\n",
              "      <th></th>\n",
              "      <th></th>\n",
              "    </tr>\n",
              "  </thead>\n",
              "  <tbody>\n",
              "    <tr>\n",
              "      <th>[40000.0, 580000.0)</th>\n",
              "      <td>98</td>\n",
              "      <td>64.47</td>\n",
              "    </tr>\n",
              "    <tr>\n",
              "      <th>[580000.0, 1120000.0)</th>\n",
              "      <td>33</td>\n",
              "      <td>21.71</td>\n",
              "    </tr>\n",
              "    <tr>\n",
              "      <th>[1120000.0, 1660000.0)</th>\n",
              "      <td>13</td>\n",
              "      <td>8.55</td>\n",
              "    </tr>\n",
              "    <tr>\n",
              "      <th>[1660000.0, 2200000.0)</th>\n",
              "      <td>4</td>\n",
              "      <td>2.63</td>\n",
              "    </tr>\n",
              "    <tr>\n",
              "      <th>[2200000.0, 2740000.0)</th>\n",
              "      <td>2</td>\n",
              "      <td>1.32</td>\n",
              "    </tr>\n",
              "    <tr>\n",
              "      <th>[2740000.0, 3280000.0)</th>\n",
              "      <td>1</td>\n",
              "      <td>0.66</td>\n",
              "    </tr>\n",
              "    <tr>\n",
              "      <th>[4360000.0, 4900000.0)</th>\n",
              "      <td>1</td>\n",
              "      <td>0.66</td>\n",
              "    </tr>\n",
              "    <tr>\n",
              "      <th>Total</th>\n",
              "      <td>152</td>\n",
              "      <td>100.00</td>\n",
              "    </tr>\n",
              "  </tbody>\n",
              "</table>\n",
              "</div>\n",
              "      <button class=\"colab-df-convert\" onclick=\"convertToInteractive('df-f1a4e539-d83b-4be5-b2b6-833042eae439')\"\n",
              "              title=\"Convert this dataframe to an interactive table.\"\n",
              "              style=\"display:none;\">\n",
              "        \n",
              "  <svg xmlns=\"http://www.w3.org/2000/svg\" height=\"24px\"viewBox=\"0 0 24 24\"\n",
              "       width=\"24px\">\n",
              "    <path d=\"M0 0h24v24H0V0z\" fill=\"none\"/>\n",
              "    <path d=\"M18.56 5.44l.94 2.06.94-2.06 2.06-.94-2.06-.94-.94-2.06-.94 2.06-2.06.94zm-11 1L8.5 8.5l.94-2.06 2.06-.94-2.06-.94L8.5 2.5l-.94 2.06-2.06.94zm10 10l.94 2.06.94-2.06 2.06-.94-2.06-.94-.94-2.06-.94 2.06-2.06.94z\"/><path d=\"M17.41 7.96l-1.37-1.37c-.4-.4-.92-.59-1.43-.59-.52 0-1.04.2-1.43.59L10.3 9.45l-7.72 7.72c-.78.78-.78 2.05 0 2.83L4 21.41c.39.39.9.59 1.41.59.51 0 1.02-.2 1.41-.59l7.78-7.78 2.81-2.81c.8-.78.8-2.07 0-2.86zM5.41 20L4 18.59l7.72-7.72 1.47 1.35L5.41 20z\"/>\n",
              "  </svg>\n",
              "      </button>\n",
              "      \n",
              "  <style>\n",
              "    .colab-df-container {\n",
              "      display:flex;\n",
              "      flex-wrap:wrap;\n",
              "      gap: 12px;\n",
              "    }\n",
              "\n",
              "    .colab-df-convert {\n",
              "      background-color: #E8F0FE;\n",
              "      border: none;\n",
              "      border-radius: 50%;\n",
              "      cursor: pointer;\n",
              "      display: none;\n",
              "      fill: #1967D2;\n",
              "      height: 32px;\n",
              "      padding: 0 0 0 0;\n",
              "      width: 32px;\n",
              "    }\n",
              "\n",
              "    .colab-df-convert:hover {\n",
              "      background-color: #E2EBFA;\n",
              "      box-shadow: 0px 1px 2px rgba(60, 64, 67, 0.3), 0px 1px 3px 1px rgba(60, 64, 67, 0.15);\n",
              "      fill: #174EA6;\n",
              "    }\n",
              "\n",
              "    [theme=dark] .colab-df-convert {\n",
              "      background-color: #3B4455;\n",
              "      fill: #D2E3FC;\n",
              "    }\n",
              "\n",
              "    [theme=dark] .colab-df-convert:hover {\n",
              "      background-color: #434B5C;\n",
              "      box-shadow: 0px 1px 3px 1px rgba(0, 0, 0, 0.15);\n",
              "      filter: drop-shadow(0px 1px 2px rgba(0, 0, 0, 0.3));\n",
              "      fill: #FFFFFF;\n",
              "    }\n",
              "  </style>\n",
              "\n",
              "      <script>\n",
              "        const buttonEl =\n",
              "          document.querySelector('#df-f1a4e539-d83b-4be5-b2b6-833042eae439 button.colab-df-convert');\n",
              "        buttonEl.style.display =\n",
              "          google.colab.kernel.accessAllowed ? 'block' : 'none';\n",
              "\n",
              "        async function convertToInteractive(key) {\n",
              "          const element = document.querySelector('#df-f1a4e539-d83b-4be5-b2b6-833042eae439');\n",
              "          const dataTable =\n",
              "            await google.colab.kernel.invokeFunction('convertToInteractive',\n",
              "                                                     [key], {});\n",
              "          if (!dataTable) return;\n",
              "\n",
              "          const docLinkHtml = 'Like what you see? Visit the ' +\n",
              "            '<a target=\"_blank\" href=https://colab.research.google.com/notebooks/data_table.ipynb>data table notebook</a>'\n",
              "            + ' to learn more about interactive tables.';\n",
              "          element.innerHTML = '';\n",
              "          dataTable['output_type'] = 'display_data';\n",
              "          await google.colab.output.renderOutput(dataTable, element);\n",
              "          const docLink = document.createElement('div');\n",
              "          docLink.innerHTML = docLinkHtml;\n",
              "          element.appendChild(docLink);\n",
              "        }\n",
              "      </script>\n",
              "    </div>\n",
              "  </div>\n",
              "  "
            ]
          },
          "metadata": {},
          "execution_count": 511
        }
      ]
    },
    {
      "cell_type": "markdown",
      "source": [
        "### Área Construída (Quantitativa Contínua)"
      ],
      "metadata": {
        "id": "0s1g8cNAFXWw"
      }
    },
    {
      "cell_type": "markdown",
      "source": [
        "#### *Geral*"
      ],
      "metadata": {
        "id": "hx-svseRFXWw"
      }
    },
    {
      "cell_type": "code",
      "source": [
        "distribuicao_frequencia = dist_freq(df[\"area\"], 'Sturges')"
      ],
      "metadata": {
        "id": "MljYVKjiFXWw"
      },
      "execution_count": 512,
      "outputs": []
    },
    {
      "cell_type": "code",
      "source": [
        "distribuicao_frequencia"
      ],
      "metadata": {
        "colab": {
          "base_uri": "https://localhost:8080/",
          "height": 363
        },
        "outputId": "cdab3c17-47ae-44fb-e1c5-e7e9a768c488",
        "id": "FdrWJyNjFXWx"
      },
      "execution_count": 513,
      "outputs": [
        {
          "output_type": "execute_result",
          "data": {
            "text/plain": [
              "                   fi     (%)\n",
              "Classes                      \n",
              "[30.0, 275.0)     309   79.23\n",
              "[275.0, 520.0)     61   15.64\n",
              "[520.0, 765.0)     12    3.08\n",
              "[765.0, 1010.0)     4    1.03\n",
              "[1010.0, 1255.0)    1    0.26\n",
              "[1500.0, 1745.0)    1    0.26\n",
              "[1990.0, 2235.0)    1    0.26\n",
              "[2235.0, 2480.0)    1    0.26\n",
              "Total             390  100.00"
            ],
            "text/html": [
              "\n",
              "  <div id=\"df-59f3a940-24f6-4f84-8ab9-d3af35aa4330\">\n",
              "    <div class=\"colab-df-container\">\n",
              "      <div>\n",
              "<style scoped>\n",
              "    .dataframe tbody tr th:only-of-type {\n",
              "        vertical-align: middle;\n",
              "    }\n",
              "\n",
              "    .dataframe tbody tr th {\n",
              "        vertical-align: top;\n",
              "    }\n",
              "\n",
              "    .dataframe thead th {\n",
              "        text-align: right;\n",
              "    }\n",
              "</style>\n",
              "<table border=\"1\" class=\"dataframe\">\n",
              "  <thead>\n",
              "    <tr style=\"text-align: right;\">\n",
              "      <th></th>\n",
              "      <th>fi</th>\n",
              "      <th>(%)</th>\n",
              "    </tr>\n",
              "    <tr>\n",
              "      <th>Classes</th>\n",
              "      <th></th>\n",
              "      <th></th>\n",
              "    </tr>\n",
              "  </thead>\n",
              "  <tbody>\n",
              "    <tr>\n",
              "      <th>[30.0, 275.0)</th>\n",
              "      <td>309</td>\n",
              "      <td>79.23</td>\n",
              "    </tr>\n",
              "    <tr>\n",
              "      <th>[275.0, 520.0)</th>\n",
              "      <td>61</td>\n",
              "      <td>15.64</td>\n",
              "    </tr>\n",
              "    <tr>\n",
              "      <th>[520.0, 765.0)</th>\n",
              "      <td>12</td>\n",
              "      <td>3.08</td>\n",
              "    </tr>\n",
              "    <tr>\n",
              "      <th>[765.0, 1010.0)</th>\n",
              "      <td>4</td>\n",
              "      <td>1.03</td>\n",
              "    </tr>\n",
              "    <tr>\n",
              "      <th>[1010.0, 1255.0)</th>\n",
              "      <td>1</td>\n",
              "      <td>0.26</td>\n",
              "    </tr>\n",
              "    <tr>\n",
              "      <th>[1500.0, 1745.0)</th>\n",
              "      <td>1</td>\n",
              "      <td>0.26</td>\n",
              "    </tr>\n",
              "    <tr>\n",
              "      <th>[1990.0, 2235.0)</th>\n",
              "      <td>1</td>\n",
              "      <td>0.26</td>\n",
              "    </tr>\n",
              "    <tr>\n",
              "      <th>[2235.0, 2480.0)</th>\n",
              "      <td>1</td>\n",
              "      <td>0.26</td>\n",
              "    </tr>\n",
              "    <tr>\n",
              "      <th>Total</th>\n",
              "      <td>390</td>\n",
              "      <td>100.00</td>\n",
              "    </tr>\n",
              "  </tbody>\n",
              "</table>\n",
              "</div>\n",
              "      <button class=\"colab-df-convert\" onclick=\"convertToInteractive('df-59f3a940-24f6-4f84-8ab9-d3af35aa4330')\"\n",
              "              title=\"Convert this dataframe to an interactive table.\"\n",
              "              style=\"display:none;\">\n",
              "        \n",
              "  <svg xmlns=\"http://www.w3.org/2000/svg\" height=\"24px\"viewBox=\"0 0 24 24\"\n",
              "       width=\"24px\">\n",
              "    <path d=\"M0 0h24v24H0V0z\" fill=\"none\"/>\n",
              "    <path d=\"M18.56 5.44l.94 2.06.94-2.06 2.06-.94-2.06-.94-.94-2.06-.94 2.06-2.06.94zm-11 1L8.5 8.5l.94-2.06 2.06-.94-2.06-.94L8.5 2.5l-.94 2.06-2.06.94zm10 10l.94 2.06.94-2.06 2.06-.94-2.06-.94-.94-2.06-.94 2.06-2.06.94z\"/><path d=\"M17.41 7.96l-1.37-1.37c-.4-.4-.92-.59-1.43-.59-.52 0-1.04.2-1.43.59L10.3 9.45l-7.72 7.72c-.78.78-.78 2.05 0 2.83L4 21.41c.39.39.9.59 1.41.59.51 0 1.02-.2 1.41-.59l7.78-7.78 2.81-2.81c.8-.78.8-2.07 0-2.86zM5.41 20L4 18.59l7.72-7.72 1.47 1.35L5.41 20z\"/>\n",
              "  </svg>\n",
              "      </button>\n",
              "      \n",
              "  <style>\n",
              "    .colab-df-container {\n",
              "      display:flex;\n",
              "      flex-wrap:wrap;\n",
              "      gap: 12px;\n",
              "    }\n",
              "\n",
              "    .colab-df-convert {\n",
              "      background-color: #E8F0FE;\n",
              "      border: none;\n",
              "      border-radius: 50%;\n",
              "      cursor: pointer;\n",
              "      display: none;\n",
              "      fill: #1967D2;\n",
              "      height: 32px;\n",
              "      padding: 0 0 0 0;\n",
              "      width: 32px;\n",
              "    }\n",
              "\n",
              "    .colab-df-convert:hover {\n",
              "      background-color: #E2EBFA;\n",
              "      box-shadow: 0px 1px 2px rgba(60, 64, 67, 0.3), 0px 1px 3px 1px rgba(60, 64, 67, 0.15);\n",
              "      fill: #174EA6;\n",
              "    }\n",
              "\n",
              "    [theme=dark] .colab-df-convert {\n",
              "      background-color: #3B4455;\n",
              "      fill: #D2E3FC;\n",
              "    }\n",
              "\n",
              "    [theme=dark] .colab-df-convert:hover {\n",
              "      background-color: #434B5C;\n",
              "      box-shadow: 0px 1px 3px 1px rgba(0, 0, 0, 0.15);\n",
              "      filter: drop-shadow(0px 1px 2px rgba(0, 0, 0, 0.3));\n",
              "      fill: #FFFFFF;\n",
              "    }\n",
              "  </style>\n",
              "\n",
              "      <script>\n",
              "        const buttonEl =\n",
              "          document.querySelector('#df-59f3a940-24f6-4f84-8ab9-d3af35aa4330 button.colab-df-convert');\n",
              "        buttonEl.style.display =\n",
              "          google.colab.kernel.accessAllowed ? 'block' : 'none';\n",
              "\n",
              "        async function convertToInteractive(key) {\n",
              "          const element = document.querySelector('#df-59f3a940-24f6-4f84-8ab9-d3af35aa4330');\n",
              "          const dataTable =\n",
              "            await google.colab.kernel.invokeFunction('convertToInteractive',\n",
              "                                                     [key], {});\n",
              "          if (!dataTable) return;\n",
              "\n",
              "          const docLinkHtml = 'Like what you see? Visit the ' +\n",
              "            '<a target=\"_blank\" href=https://colab.research.google.com/notebooks/data_table.ipynb>data table notebook</a>'\n",
              "            + ' to learn more about interactive tables.';\n",
              "          element.innerHTML = '';\n",
              "          dataTable['output_type'] = 'display_data';\n",
              "          await google.colab.output.renderOutput(dataTable, element);\n",
              "          const docLink = document.createElement('div');\n",
              "          docLink.innerHTML = docLinkHtml;\n",
              "          element.appendChild(docLink);\n",
              "        }\n",
              "      </script>\n",
              "    </div>\n",
              "  </div>\n",
              "  "
            ]
          },
          "metadata": {},
          "execution_count": 513
        }
      ]
    },
    {
      "cell_type": "markdown",
      "source": [
        "#### *Casas*"
      ],
      "metadata": {
        "id": "4whov5KbFXWx"
      }
    },
    {
      "cell_type": "code",
      "source": [
        "distribuicao_frequencia = dist_freq(df_casas[\"area\"], 'Sturges')"
      ],
      "metadata": {
        "id": "MUhb5ymKFXWx"
      },
      "execution_count": 514,
      "outputs": []
    },
    {
      "cell_type": "code",
      "source": [
        "distribuicao_frequencia"
      ],
      "metadata": {
        "colab": {
          "base_uri": "https://localhost:8080/",
          "height": 332
        },
        "id": "J3mLwI6O6I0Z",
        "outputId": "9d415150-e416-46c6-e258-1cce63101552"
      },
      "execution_count": 515,
      "outputs": [
        {
          "output_type": "execute_result",
          "data": {
            "text/plain": [
              "                   fi     (%)\n",
              "Classes                      \n",
              "[30.0, 302.0)     175   74.15\n",
              "[302.0, 574.0)     43   18.22\n",
              "[574.0, 846.0)     13    5.51\n",
              "[846.0, 1118.0)     2    0.85\n",
              "[1118.0, 1390.0)    1    0.42\n",
              "[1390.0, 1662.0)    1    0.42\n",
              "[1934.0, 2206.0)    1    0.42\n",
              "Total             236  100.00"
            ],
            "text/html": [
              "\n",
              "  <div id=\"df-38ddd36d-2ad3-4a9c-b5f9-3de34652b1a5\">\n",
              "    <div class=\"colab-df-container\">\n",
              "      <div>\n",
              "<style scoped>\n",
              "    .dataframe tbody tr th:only-of-type {\n",
              "        vertical-align: middle;\n",
              "    }\n",
              "\n",
              "    .dataframe tbody tr th {\n",
              "        vertical-align: top;\n",
              "    }\n",
              "\n",
              "    .dataframe thead th {\n",
              "        text-align: right;\n",
              "    }\n",
              "</style>\n",
              "<table border=\"1\" class=\"dataframe\">\n",
              "  <thead>\n",
              "    <tr style=\"text-align: right;\">\n",
              "      <th></th>\n",
              "      <th>fi</th>\n",
              "      <th>(%)</th>\n",
              "    </tr>\n",
              "    <tr>\n",
              "      <th>Classes</th>\n",
              "      <th></th>\n",
              "      <th></th>\n",
              "    </tr>\n",
              "  </thead>\n",
              "  <tbody>\n",
              "    <tr>\n",
              "      <th>[30.0, 302.0)</th>\n",
              "      <td>175</td>\n",
              "      <td>74.15</td>\n",
              "    </tr>\n",
              "    <tr>\n",
              "      <th>[302.0, 574.0)</th>\n",
              "      <td>43</td>\n",
              "      <td>18.22</td>\n",
              "    </tr>\n",
              "    <tr>\n",
              "      <th>[574.0, 846.0)</th>\n",
              "      <td>13</td>\n",
              "      <td>5.51</td>\n",
              "    </tr>\n",
              "    <tr>\n",
              "      <th>[846.0, 1118.0)</th>\n",
              "      <td>2</td>\n",
              "      <td>0.85</td>\n",
              "    </tr>\n",
              "    <tr>\n",
              "      <th>[1118.0, 1390.0)</th>\n",
              "      <td>1</td>\n",
              "      <td>0.42</td>\n",
              "    </tr>\n",
              "    <tr>\n",
              "      <th>[1390.0, 1662.0)</th>\n",
              "      <td>1</td>\n",
              "      <td>0.42</td>\n",
              "    </tr>\n",
              "    <tr>\n",
              "      <th>[1934.0, 2206.0)</th>\n",
              "      <td>1</td>\n",
              "      <td>0.42</td>\n",
              "    </tr>\n",
              "    <tr>\n",
              "      <th>Total</th>\n",
              "      <td>236</td>\n",
              "      <td>100.00</td>\n",
              "    </tr>\n",
              "  </tbody>\n",
              "</table>\n",
              "</div>\n",
              "      <button class=\"colab-df-convert\" onclick=\"convertToInteractive('df-38ddd36d-2ad3-4a9c-b5f9-3de34652b1a5')\"\n",
              "              title=\"Convert this dataframe to an interactive table.\"\n",
              "              style=\"display:none;\">\n",
              "        \n",
              "  <svg xmlns=\"http://www.w3.org/2000/svg\" height=\"24px\"viewBox=\"0 0 24 24\"\n",
              "       width=\"24px\">\n",
              "    <path d=\"M0 0h24v24H0V0z\" fill=\"none\"/>\n",
              "    <path d=\"M18.56 5.44l.94 2.06.94-2.06 2.06-.94-2.06-.94-.94-2.06-.94 2.06-2.06.94zm-11 1L8.5 8.5l.94-2.06 2.06-.94-2.06-.94L8.5 2.5l-.94 2.06-2.06.94zm10 10l.94 2.06.94-2.06 2.06-.94-2.06-.94-.94-2.06-.94 2.06-2.06.94z\"/><path d=\"M17.41 7.96l-1.37-1.37c-.4-.4-.92-.59-1.43-.59-.52 0-1.04.2-1.43.59L10.3 9.45l-7.72 7.72c-.78.78-.78 2.05 0 2.83L4 21.41c.39.39.9.59 1.41.59.51 0 1.02-.2 1.41-.59l7.78-7.78 2.81-2.81c.8-.78.8-2.07 0-2.86zM5.41 20L4 18.59l7.72-7.72 1.47 1.35L5.41 20z\"/>\n",
              "  </svg>\n",
              "      </button>\n",
              "      \n",
              "  <style>\n",
              "    .colab-df-container {\n",
              "      display:flex;\n",
              "      flex-wrap:wrap;\n",
              "      gap: 12px;\n",
              "    }\n",
              "\n",
              "    .colab-df-convert {\n",
              "      background-color: #E8F0FE;\n",
              "      border: none;\n",
              "      border-radius: 50%;\n",
              "      cursor: pointer;\n",
              "      display: none;\n",
              "      fill: #1967D2;\n",
              "      height: 32px;\n",
              "      padding: 0 0 0 0;\n",
              "      width: 32px;\n",
              "    }\n",
              "\n",
              "    .colab-df-convert:hover {\n",
              "      background-color: #E2EBFA;\n",
              "      box-shadow: 0px 1px 2px rgba(60, 64, 67, 0.3), 0px 1px 3px 1px rgba(60, 64, 67, 0.15);\n",
              "      fill: #174EA6;\n",
              "    }\n",
              "\n",
              "    [theme=dark] .colab-df-convert {\n",
              "      background-color: #3B4455;\n",
              "      fill: #D2E3FC;\n",
              "    }\n",
              "\n",
              "    [theme=dark] .colab-df-convert:hover {\n",
              "      background-color: #434B5C;\n",
              "      box-shadow: 0px 1px 3px 1px rgba(0, 0, 0, 0.15);\n",
              "      filter: drop-shadow(0px 1px 2px rgba(0, 0, 0, 0.3));\n",
              "      fill: #FFFFFF;\n",
              "    }\n",
              "  </style>\n",
              "\n",
              "      <script>\n",
              "        const buttonEl =\n",
              "          document.querySelector('#df-38ddd36d-2ad3-4a9c-b5f9-3de34652b1a5 button.colab-df-convert');\n",
              "        buttonEl.style.display =\n",
              "          google.colab.kernel.accessAllowed ? 'block' : 'none';\n",
              "\n",
              "        async function convertToInteractive(key) {\n",
              "          const element = document.querySelector('#df-38ddd36d-2ad3-4a9c-b5f9-3de34652b1a5');\n",
              "          const dataTable =\n",
              "            await google.colab.kernel.invokeFunction('convertToInteractive',\n",
              "                                                     [key], {});\n",
              "          if (!dataTable) return;\n",
              "\n",
              "          const docLinkHtml = 'Like what you see? Visit the ' +\n",
              "            '<a target=\"_blank\" href=https://colab.research.google.com/notebooks/data_table.ipynb>data table notebook</a>'\n",
              "            + ' to learn more about interactive tables.';\n",
              "          element.innerHTML = '';\n",
              "          dataTable['output_type'] = 'display_data';\n",
              "          await google.colab.output.renderOutput(dataTable, element);\n",
              "          const docLink = document.createElement('div');\n",
              "          docLink.innerHTML = docLinkHtml;\n",
              "          element.appendChild(docLink);\n",
              "        }\n",
              "      </script>\n",
              "    </div>\n",
              "  </div>\n",
              "  "
            ]
          },
          "metadata": {},
          "execution_count": 515
        }
      ]
    },
    {
      "cell_type": "markdown",
      "source": [
        "#### *Apartamentos*"
      ],
      "metadata": {
        "id": "aex4gnWUFXWy"
      }
    },
    {
      "cell_type": "code",
      "source": [
        "distribuicao_frequencia = dist_freq(df_apartamentos[\"area\"], 'Sturges')"
      ],
      "metadata": {
        "id": "fCJcS6qSFXWy"
      },
      "execution_count": 516,
      "outputs": []
    },
    {
      "cell_type": "code",
      "source": [
        "distribuicao_frequencia"
      ],
      "metadata": {
        "colab": {
          "base_uri": "https://localhost:8080/",
          "height": 363
        },
        "outputId": "61e3f230-9214-41d5-a9e6-09a83c7ff395",
        "id": "lb26JUrWFXWy"
      },
      "execution_count": 517,
      "outputs": [
        {
          "output_type": "execute_result",
          "data": {
            "text/plain": [
              "                 fi     (%)\n",
              "Classes                    \n",
              "[32.0, 84.0)     75   49.34\n",
              "[84.0, 136.0)    45   29.61\n",
              "[136.0, 188.0)   20   13.16\n",
              "[188.0, 240.0)    6    3.95\n",
              "[240.0, 292.0)    3    1.97\n",
              "[292.0, 344.0)    1    0.66\n",
              "[344.0, 396.0)    1    0.66\n",
              "[396.0, 448.0)    1    0.66\n",
              "Total           152  100.00"
            ],
            "text/html": [
              "\n",
              "  <div id=\"df-0d663098-692c-4bc5-b276-59809ac128af\">\n",
              "    <div class=\"colab-df-container\">\n",
              "      <div>\n",
              "<style scoped>\n",
              "    .dataframe tbody tr th:only-of-type {\n",
              "        vertical-align: middle;\n",
              "    }\n",
              "\n",
              "    .dataframe tbody tr th {\n",
              "        vertical-align: top;\n",
              "    }\n",
              "\n",
              "    .dataframe thead th {\n",
              "        text-align: right;\n",
              "    }\n",
              "</style>\n",
              "<table border=\"1\" class=\"dataframe\">\n",
              "  <thead>\n",
              "    <tr style=\"text-align: right;\">\n",
              "      <th></th>\n",
              "      <th>fi</th>\n",
              "      <th>(%)</th>\n",
              "    </tr>\n",
              "    <tr>\n",
              "      <th>Classes</th>\n",
              "      <th></th>\n",
              "      <th></th>\n",
              "    </tr>\n",
              "  </thead>\n",
              "  <tbody>\n",
              "    <tr>\n",
              "      <th>[32.0, 84.0)</th>\n",
              "      <td>75</td>\n",
              "      <td>49.34</td>\n",
              "    </tr>\n",
              "    <tr>\n",
              "      <th>[84.0, 136.0)</th>\n",
              "      <td>45</td>\n",
              "      <td>29.61</td>\n",
              "    </tr>\n",
              "    <tr>\n",
              "      <th>[136.0, 188.0)</th>\n",
              "      <td>20</td>\n",
              "      <td>13.16</td>\n",
              "    </tr>\n",
              "    <tr>\n",
              "      <th>[188.0, 240.0)</th>\n",
              "      <td>6</td>\n",
              "      <td>3.95</td>\n",
              "    </tr>\n",
              "    <tr>\n",
              "      <th>[240.0, 292.0)</th>\n",
              "      <td>3</td>\n",
              "      <td>1.97</td>\n",
              "    </tr>\n",
              "    <tr>\n",
              "      <th>[292.0, 344.0)</th>\n",
              "      <td>1</td>\n",
              "      <td>0.66</td>\n",
              "    </tr>\n",
              "    <tr>\n",
              "      <th>[344.0, 396.0)</th>\n",
              "      <td>1</td>\n",
              "      <td>0.66</td>\n",
              "    </tr>\n",
              "    <tr>\n",
              "      <th>[396.0, 448.0)</th>\n",
              "      <td>1</td>\n",
              "      <td>0.66</td>\n",
              "    </tr>\n",
              "    <tr>\n",
              "      <th>Total</th>\n",
              "      <td>152</td>\n",
              "      <td>100.00</td>\n",
              "    </tr>\n",
              "  </tbody>\n",
              "</table>\n",
              "</div>\n",
              "      <button class=\"colab-df-convert\" onclick=\"convertToInteractive('df-0d663098-692c-4bc5-b276-59809ac128af')\"\n",
              "              title=\"Convert this dataframe to an interactive table.\"\n",
              "              style=\"display:none;\">\n",
              "        \n",
              "  <svg xmlns=\"http://www.w3.org/2000/svg\" height=\"24px\"viewBox=\"0 0 24 24\"\n",
              "       width=\"24px\">\n",
              "    <path d=\"M0 0h24v24H0V0z\" fill=\"none\"/>\n",
              "    <path d=\"M18.56 5.44l.94 2.06.94-2.06 2.06-.94-2.06-.94-.94-2.06-.94 2.06-2.06.94zm-11 1L8.5 8.5l.94-2.06 2.06-.94-2.06-.94L8.5 2.5l-.94 2.06-2.06.94zm10 10l.94 2.06.94-2.06 2.06-.94-2.06-.94-.94-2.06-.94 2.06-2.06.94z\"/><path d=\"M17.41 7.96l-1.37-1.37c-.4-.4-.92-.59-1.43-.59-.52 0-1.04.2-1.43.59L10.3 9.45l-7.72 7.72c-.78.78-.78 2.05 0 2.83L4 21.41c.39.39.9.59 1.41.59.51 0 1.02-.2 1.41-.59l7.78-7.78 2.81-2.81c.8-.78.8-2.07 0-2.86zM5.41 20L4 18.59l7.72-7.72 1.47 1.35L5.41 20z\"/>\n",
              "  </svg>\n",
              "      </button>\n",
              "      \n",
              "  <style>\n",
              "    .colab-df-container {\n",
              "      display:flex;\n",
              "      flex-wrap:wrap;\n",
              "      gap: 12px;\n",
              "    }\n",
              "\n",
              "    .colab-df-convert {\n",
              "      background-color: #E8F0FE;\n",
              "      border: none;\n",
              "      border-radius: 50%;\n",
              "      cursor: pointer;\n",
              "      display: none;\n",
              "      fill: #1967D2;\n",
              "      height: 32px;\n",
              "      padding: 0 0 0 0;\n",
              "      width: 32px;\n",
              "    }\n",
              "\n",
              "    .colab-df-convert:hover {\n",
              "      background-color: #E2EBFA;\n",
              "      box-shadow: 0px 1px 2px rgba(60, 64, 67, 0.3), 0px 1px 3px 1px rgba(60, 64, 67, 0.15);\n",
              "      fill: #174EA6;\n",
              "    }\n",
              "\n",
              "    [theme=dark] .colab-df-convert {\n",
              "      background-color: #3B4455;\n",
              "      fill: #D2E3FC;\n",
              "    }\n",
              "\n",
              "    [theme=dark] .colab-df-convert:hover {\n",
              "      background-color: #434B5C;\n",
              "      box-shadow: 0px 1px 3px 1px rgba(0, 0, 0, 0.15);\n",
              "      filter: drop-shadow(0px 1px 2px rgba(0, 0, 0, 0.3));\n",
              "      fill: #FFFFFF;\n",
              "    }\n",
              "  </style>\n",
              "\n",
              "      <script>\n",
              "        const buttonEl =\n",
              "          document.querySelector('#df-0d663098-692c-4bc5-b276-59809ac128af button.colab-df-convert');\n",
              "        buttonEl.style.display =\n",
              "          google.colab.kernel.accessAllowed ? 'block' : 'none';\n",
              "\n",
              "        async function convertToInteractive(key) {\n",
              "          const element = document.querySelector('#df-0d663098-692c-4bc5-b276-59809ac128af');\n",
              "          const dataTable =\n",
              "            await google.colab.kernel.invokeFunction('convertToInteractive',\n",
              "                                                     [key], {});\n",
              "          if (!dataTable) return;\n",
              "\n",
              "          const docLinkHtml = 'Like what you see? Visit the ' +\n",
              "            '<a target=\"_blank\" href=https://colab.research.google.com/notebooks/data_table.ipynb>data table notebook</a>'\n",
              "            + ' to learn more about interactive tables.';\n",
              "          element.innerHTML = '';\n",
              "          dataTable['output_type'] = 'display_data';\n",
              "          await google.colab.output.renderOutput(dataTable, element);\n",
              "          const docLink = document.createElement('div');\n",
              "          docLink.innerHTML = docLinkHtml;\n",
              "          element.appendChild(docLink);\n",
              "        }\n",
              "      </script>\n",
              "    </div>\n",
              "  </div>\n",
              "  "
            ]
          },
          "metadata": {},
          "execution_count": 517
        }
      ]
    },
    {
      "cell_type": "markdown",
      "source": [
        "### Quantidade de Quartos (Quantitativa Discreta)"
      ],
      "metadata": {
        "id": "aNVhPY-vUP8_"
      }
    },
    {
      "cell_type": "markdown",
      "source": [
        "#### Geral"
      ],
      "metadata": {
        "id": "rK2ob9-pkK0n"
      }
    },
    {
      "cell_type": "code",
      "source": [
        "frequencia = df[\"qtde_quartos\"].value_counts()\n",
        "percentual = round(df[\"qtde_quartos\"].value_counts(normalize=True) * 100, 2)"
      ],
      "metadata": {
        "id": "bNtxP5_TU_qP"
      },
      "execution_count": 545,
      "outputs": []
    },
    {
      "cell_type": "code",
      "source": [
        "distribuicao_frequencia = pd.DataFrame({\"Frequencia\": frequencia, \"Percentual (%)\": percentual})\n",
        "distribuicao_frequencia.reset_index(inplace=True)\n",
        "distribuicao_frequencia.rename(columns={\"index\":\"Qtde. Quartos\"}, inplace=True)"
      ],
      "metadata": {
        "id": "2MYw9yW0XRTw"
      },
      "execution_count": 547,
      "outputs": []
    },
    {
      "cell_type": "markdown",
      "source": [
        "#### *Geral: Resultados*"
      ],
      "metadata": {
        "id": "2hRcG_5ekUKo"
      }
    },
    {
      "cell_type": "code",
      "source": [
        "distribuicao_frequencia"
      ],
      "metadata": {
        "colab": {
          "base_uri": "https://localhost:8080/",
          "height": 206
        },
        "id": "IpgO83TekgRV",
        "outputId": "435007f5-87f7-4235-8e3f-7b207789d13e"
      },
      "execution_count": 532,
      "outputs": [
        {
          "output_type": "execute_result",
          "data": {
            "text/plain": [
              "   Qtde. Quartos  Frequencia  Percentual (%)\n",
              "0              3         194           49.74\n",
              "1              2          99           25.38\n",
              "2              4          58           14.87\n",
              "3              5          30            7.69\n",
              "4              1           9            2.31"
            ],
            "text/html": [
              "\n",
              "  <div id=\"df-ed0fdd6b-fe8a-482d-bc1c-0734a87d67a3\">\n",
              "    <div class=\"colab-df-container\">\n",
              "      <div>\n",
              "<style scoped>\n",
              "    .dataframe tbody tr th:only-of-type {\n",
              "        vertical-align: middle;\n",
              "    }\n",
              "\n",
              "    .dataframe tbody tr th {\n",
              "        vertical-align: top;\n",
              "    }\n",
              "\n",
              "    .dataframe thead th {\n",
              "        text-align: right;\n",
              "    }\n",
              "</style>\n",
              "<table border=\"1\" class=\"dataframe\">\n",
              "  <thead>\n",
              "    <tr style=\"text-align: right;\">\n",
              "      <th></th>\n",
              "      <th>Qtde. Quartos</th>\n",
              "      <th>Frequencia</th>\n",
              "      <th>Percentual (%)</th>\n",
              "    </tr>\n",
              "  </thead>\n",
              "  <tbody>\n",
              "    <tr>\n",
              "      <th>0</th>\n",
              "      <td>3</td>\n",
              "      <td>194</td>\n",
              "      <td>49.74</td>\n",
              "    </tr>\n",
              "    <tr>\n",
              "      <th>1</th>\n",
              "      <td>2</td>\n",
              "      <td>99</td>\n",
              "      <td>25.38</td>\n",
              "    </tr>\n",
              "    <tr>\n",
              "      <th>2</th>\n",
              "      <td>4</td>\n",
              "      <td>58</td>\n",
              "      <td>14.87</td>\n",
              "    </tr>\n",
              "    <tr>\n",
              "      <th>3</th>\n",
              "      <td>5</td>\n",
              "      <td>30</td>\n",
              "      <td>7.69</td>\n",
              "    </tr>\n",
              "    <tr>\n",
              "      <th>4</th>\n",
              "      <td>1</td>\n",
              "      <td>9</td>\n",
              "      <td>2.31</td>\n",
              "    </tr>\n",
              "  </tbody>\n",
              "</table>\n",
              "</div>\n",
              "      <button class=\"colab-df-convert\" onclick=\"convertToInteractive('df-ed0fdd6b-fe8a-482d-bc1c-0734a87d67a3')\"\n",
              "              title=\"Convert this dataframe to an interactive table.\"\n",
              "              style=\"display:none;\">\n",
              "        \n",
              "  <svg xmlns=\"http://www.w3.org/2000/svg\" height=\"24px\"viewBox=\"0 0 24 24\"\n",
              "       width=\"24px\">\n",
              "    <path d=\"M0 0h24v24H0V0z\" fill=\"none\"/>\n",
              "    <path d=\"M18.56 5.44l.94 2.06.94-2.06 2.06-.94-2.06-.94-.94-2.06-.94 2.06-2.06.94zm-11 1L8.5 8.5l.94-2.06 2.06-.94-2.06-.94L8.5 2.5l-.94 2.06-2.06.94zm10 10l.94 2.06.94-2.06 2.06-.94-2.06-.94-.94-2.06-.94 2.06-2.06.94z\"/><path d=\"M17.41 7.96l-1.37-1.37c-.4-.4-.92-.59-1.43-.59-.52 0-1.04.2-1.43.59L10.3 9.45l-7.72 7.72c-.78.78-.78 2.05 0 2.83L4 21.41c.39.39.9.59 1.41.59.51 0 1.02-.2 1.41-.59l7.78-7.78 2.81-2.81c.8-.78.8-2.07 0-2.86zM5.41 20L4 18.59l7.72-7.72 1.47 1.35L5.41 20z\"/>\n",
              "  </svg>\n",
              "      </button>\n",
              "      \n",
              "  <style>\n",
              "    .colab-df-container {\n",
              "      display:flex;\n",
              "      flex-wrap:wrap;\n",
              "      gap: 12px;\n",
              "    }\n",
              "\n",
              "    .colab-df-convert {\n",
              "      background-color: #E8F0FE;\n",
              "      border: none;\n",
              "      border-radius: 50%;\n",
              "      cursor: pointer;\n",
              "      display: none;\n",
              "      fill: #1967D2;\n",
              "      height: 32px;\n",
              "      padding: 0 0 0 0;\n",
              "      width: 32px;\n",
              "    }\n",
              "\n",
              "    .colab-df-convert:hover {\n",
              "      background-color: #E2EBFA;\n",
              "      box-shadow: 0px 1px 2px rgba(60, 64, 67, 0.3), 0px 1px 3px 1px rgba(60, 64, 67, 0.15);\n",
              "      fill: #174EA6;\n",
              "    }\n",
              "\n",
              "    [theme=dark] .colab-df-convert {\n",
              "      background-color: #3B4455;\n",
              "      fill: #D2E3FC;\n",
              "    }\n",
              "\n",
              "    [theme=dark] .colab-df-convert:hover {\n",
              "      background-color: #434B5C;\n",
              "      box-shadow: 0px 1px 3px 1px rgba(0, 0, 0, 0.15);\n",
              "      filter: drop-shadow(0px 1px 2px rgba(0, 0, 0, 0.3));\n",
              "      fill: #FFFFFF;\n",
              "    }\n",
              "  </style>\n",
              "\n",
              "      <script>\n",
              "        const buttonEl =\n",
              "          document.querySelector('#df-ed0fdd6b-fe8a-482d-bc1c-0734a87d67a3 button.colab-df-convert');\n",
              "        buttonEl.style.display =\n",
              "          google.colab.kernel.accessAllowed ? 'block' : 'none';\n",
              "\n",
              "        async function convertToInteractive(key) {\n",
              "          const element = document.querySelector('#df-ed0fdd6b-fe8a-482d-bc1c-0734a87d67a3');\n",
              "          const dataTable =\n",
              "            await google.colab.kernel.invokeFunction('convertToInteractive',\n",
              "                                                     [key], {});\n",
              "          if (!dataTable) return;\n",
              "\n",
              "          const docLinkHtml = 'Like what you see? Visit the ' +\n",
              "            '<a target=\"_blank\" href=https://colab.research.google.com/notebooks/data_table.ipynb>data table notebook</a>'\n",
              "            + ' to learn more about interactive tables.';\n",
              "          element.innerHTML = '';\n",
              "          dataTable['output_type'] = 'display_data';\n",
              "          await google.colab.output.renderOutput(dataTable, element);\n",
              "          const docLink = document.createElement('div');\n",
              "          docLink.innerHTML = docLinkHtml;\n",
              "          element.appendChild(docLink);\n",
              "        }\n",
              "      </script>\n",
              "    </div>\n",
              "  </div>\n",
              "  "
            ]
          },
          "metadata": {},
          "execution_count": 532
        }
      ]
    },
    {
      "cell_type": "code",
      "source": [
        "plot = sns.barplot(data=distribuicao_frequencia, x=\"Qtde. Quartos\", y=\"Percentual (%)\", color= \"#32545e\")\n",
        "show_values(plot)"
      ],
      "metadata": {
        "colab": {
          "base_uri": "https://localhost:8080/",
          "height": 279
        },
        "id": "seyoDMSokghO",
        "outputId": "308b3886-0313-413a-d6ba-dcb768158799"
      },
      "execution_count": 549,
      "outputs": [
        {
          "output_type": "display_data",
          "data": {
            "text/plain": [
              "<Figure size 432x288 with 1 Axes>"
            ],
            "image/png": "[encoded data removed]"
          },
          "metadata": {
            "needs_background": "light"
          }
        }
      ]
    },
    {
      "cell_type": "markdown",
      "source": [
        "#### Casas"
      ],
      "metadata": {
        "id": "N1_JK0tHkNpu"
      }
    },
    {
      "cell_type": "code",
      "source": [
        "frequencia = df_casas[\"qtde_quartos\"].value_counts()\n",
        "percentual = round(df_casas[\"qtde_quartos\"].value_counts(normalize=True) * 100, 2)"
      ],
      "metadata": {
        "id": "cqXf5cMakPsf"
      },
      "execution_count": 522,
      "outputs": []
    },
    {
      "cell_type": "code",
      "source": [
        "distribuicao_frequencia = pd.DataFrame({\"Frequencia\": frequencia, \"Percentual (%)\": percentual})\n",
        "distribuicao_frequencia.reset_index(inplace=True)\n",
        "distribuicao_frequencia.rename(columns={\"index\":\"Qtde. Quartos\"}, inplace=True)"
      ],
      "metadata": {
        "id": "AB-elm82k8e9"
      },
      "execution_count": 523,
      "outputs": []
    },
    {
      "cell_type": "markdown",
      "source": [
        "#### *Casas: Resultados*"
      ],
      "metadata": {
        "id": "qwAYz38wlGMV"
      }
    },
    {
      "cell_type": "code",
      "source": [
        "distribuicao_frequencia"
      ],
      "metadata": {
        "colab": {
          "base_uri": "https://localhost:8080/",
          "height": 206
        },
        "id": "nz_VhUoPlH-P",
        "outputId": "b3e9cb7e-db34-4331-a028-8e8197a23c70"
      },
      "execution_count": 524,
      "outputs": [
        {
          "output_type": "execute_result",
          "data": {
            "text/plain": [
              "   Qtde. Quartos  Frequencia  Percentual (%)\n",
              "0              3         115           48.52\n",
              "1              2          50           21.10\n",
              "2              4          41           17.30\n",
              "3              5          28           11.81\n",
              "4              1           3            1.27"
            ],
            "text/html": [
              "\n",
              "  <div id=\"df-269daa99-195f-49d2-b2a3-b8f8dc5c027a\">\n",
              "    <div class=\"colab-df-container\">\n",
              "      <div>\n",
              "<style scoped>\n",
              "    .dataframe tbody tr th:only-of-type {\n",
              "        vertical-align: middle;\n",
              "    }\n",
              "\n",
              "    .dataframe tbody tr th {\n",
              "        vertical-align: top;\n",
              "    }\n",
              "\n",
              "    .dataframe thead th {\n",
              "        text-align: right;\n",
              "    }\n",
              "</style>\n",
              "<table border=\"1\" class=\"dataframe\">\n",
              "  <thead>\n",
              "    <tr style=\"text-align: right;\">\n",
              "      <th></th>\n",
              "      <th>Qtde. Quartos</th>\n",
              "      <th>Frequencia</th>\n",
              "      <th>Percentual (%)</th>\n",
              "    </tr>\n",
              "  </thead>\n",
              "  <tbody>\n",
              "    <tr>\n",
              "      <th>0</th>\n",
              "      <td>3</td>\n",
              "      <td>115</td>\n",
              "      <td>48.52</td>\n",
              "    </tr>\n",
              "    <tr>\n",
              "      <th>1</th>\n",
              "      <td>2</td>\n",
              "      <td>50</td>\n",
              "      <td>21.10</td>\n",
              "    </tr>\n",
              "    <tr>\n",
              "      <th>2</th>\n",
              "      <td>4</td>\n",
              "      <td>41</td>\n",
              "      <td>17.30</td>\n",
              "    </tr>\n",
              "    <tr>\n",
              "      <th>3</th>\n",
              "      <td>5</td>\n",
              "      <td>28</td>\n",
              "      <td>11.81</td>\n",
              "    </tr>\n",
              "    <tr>\n",
              "      <th>4</th>\n",
              "      <td>1</td>\n",
              "      <td>3</td>\n",
              "      <td>1.27</td>\n",
              "    </tr>\n",
              "  </tbody>\n",
              "</table>\n",
              "</div>\n",
              "      <button class=\"colab-df-convert\" onclick=\"convertToInteractive('df-269daa99-195f-49d2-b2a3-b8f8dc5c027a')\"\n",
              "              title=\"Convert this dataframe to an interactive table.\"\n",
              "              style=\"display:none;\">\n",
              "        \n",
              "  <svg xmlns=\"http://www.w3.org/2000/svg\" height=\"24px\"viewBox=\"0 0 24 24\"\n",
              "       width=\"24px\">\n",
              "    <path d=\"M0 0h24v24H0V0z\" fill=\"none\"/>\n",
              "    <path d=\"M18.56 5.44l.94 2.06.94-2.06 2.06-.94-2.06-.94-.94-2.06-.94 2.06-2.06.94zm-11 1L8.5 8.5l.94-2.06 2.06-.94-2.06-.94L8.5 2.5l-.94 2.06-2.06.94zm10 10l.94 2.06.94-2.06 2.06-.94-2.06-.94-.94-2.06-.94 2.06-2.06.94z\"/><path d=\"M17.41 7.96l-1.37-1.37c-.4-.4-.92-.59-1.43-.59-.52 0-1.04.2-1.43.59L10.3 9.45l-7.72 7.72c-.78.78-.78 2.05 0 2.83L4 21.41c.39.39.9.59 1.41.59.51 0 1.02-.2 1.41-.59l7.78-7.78 2.81-2.81c.8-.78.8-2.07 0-2.86zM5.41 20L4 18.59l7.72-7.72 1.47 1.35L5.41 20z\"/>\n",
              "  </svg>\n",
              "      </button>\n",
              "      \n",
              "  <style>\n",
              "    .colab-df-container {\n",
              "      display:flex;\n",
              "      flex-wrap:wrap;\n",
              "      gap: 12px;\n",
              "    }\n",
              "\n",
              "    .colab-df-convert {\n",
              "      background-color: #E8F0FE;\n",
              "      border: none;\n",
              "      border-radius: 50%;\n",
              "      cursor: pointer;\n",
              "      display: none;\n",
              "      fill: #1967D2;\n",
              "      height: 32px;\n",
              "      padding: 0 0 0 0;\n",
              "      width: 32px;\n",
              "    }\n",
              "\n",
              "    .colab-df-convert:hover {\n",
              "      background-color: #E2EBFA;\n",
              "      box-shadow: 0px 1px 2px rgba(60, 64, 67, 0.3), 0px 1px 3px 1px rgba(60, 64, 67, 0.15);\n",
              "      fill: #174EA6;\n",
              "    }\n",
              "\n",
              "    [theme=dark] .colab-df-convert {\n",
              "      background-color: #3B4455;\n",
              "      fill: #D2E3FC;\n",
              "    }\n",
              "\n",
              "    [theme=dark] .colab-df-convert:hover {\n",
              "      background-color: #434B5C;\n",
              "      box-shadow: 0px 1px 3px 1px rgba(0, 0, 0, 0.15);\n",
              "      filter: drop-shadow(0px 1px 2px rgba(0, 0, 0, 0.3));\n",
              "      fill: #FFFFFF;\n",
              "    }\n",
              "  </style>\n",
              "\n",
              "      <script>\n",
              "        const buttonEl =\n",
              "          document.querySelector('#df-269daa99-195f-49d2-b2a3-b8f8dc5c027a button.colab-df-convert');\n",
              "        buttonEl.style.display =\n",
              "          google.colab.kernel.accessAllowed ? 'block' : 'none';\n",
              "\n",
              "        async function convertToInteractive(key) {\n",
              "          const element = document.querySelector('#df-269daa99-195f-49d2-b2a3-b8f8dc5c027a');\n",
              "          const dataTable =\n",
              "            await google.colab.kernel.invokeFunction('convertToInteractive',\n",
              "                                                     [key], {});\n",
              "          if (!dataTable) return;\n",
              "\n",
              "          const docLinkHtml = 'Like what you see? Visit the ' +\n",
              "            '<a target=\"_blank\" href=https://colab.research.google.com/notebooks/data_table.ipynb>data table notebook</a>'\n",
              "            + ' to learn more about interactive tables.';\n",
              "          element.innerHTML = '';\n",
              "          dataTable['output_type'] = 'display_data';\n",
              "          await google.colab.output.renderOutput(dataTable, element);\n",
              "          const docLink = document.createElement('div');\n",
              "          docLink.innerHTML = docLinkHtml;\n",
              "          element.appendChild(docLink);\n",
              "        }\n",
              "      </script>\n",
              "    </div>\n",
              "  </div>\n",
              "  "
            ]
          },
          "metadata": {},
          "execution_count": 524
        }
      ]
    },
    {
      "cell_type": "code",
      "source": [
        "plot = sns.barplot(data=distribuicao_frequencia, x=\"Qtde. Quartos\", y=\"Percentual (%)\", color= \"#32545e\")\n",
        "\n",
        "show_values(plot)"
      ],
      "metadata": {
        "colab": {
          "base_uri": "https://localhost:8080/",
          "height": 279
        },
        "id": "6tg2U0EsmeOS",
        "outputId": "3fb93f2f-7d1d-4f33-efd7-78dbd2867230"
      },
      "execution_count": 550,
      "outputs": [
        {
          "output_type": "display_data",
          "data": {
            "text/plain": [
              "<Figure size 432x288 with 1 Axes>"
            ],
            "image/png": "[encoded data removed]"
          },
          "metadata": {
            "needs_background": "light"
          }
        }
      ]
    },
    {
      "cell_type": "markdown",
      "source": [
        "#### Apartamentos"
      ],
      "metadata": {
        "id": "eJcRinJ9lKj2"
      }
    },
    {
      "cell_type": "code",
      "source": [
        "frequencia = df_apartamentos[\"qtde_quartos\"].value_counts()\n",
        "percentual = round(df_apartamentos[\"qtde_quartos\"].value_counts(normalize=True) * 100, 2)"
      ],
      "metadata": {
        "id": "MvNaB3pwlNMf"
      },
      "execution_count": 526,
      "outputs": []
    },
    {
      "cell_type": "code",
      "source": [
        "distribuicao_frequencia = pd.DataFrame({\"Frequencia\": frequencia, \"Percentual (%)\": percentual})\n",
        "distribuicao_frequencia.reset_index(inplace=True)\n",
        "distribuicao_frequencia.rename(columns={\"index\":\"Qtde. Quartos\"}, inplace=True)"
      ],
      "metadata": {
        "id": "vDw9zeSpmZ5h"
      },
      "execution_count": 527,
      "outputs": []
    },
    {
      "cell_type": "markdown",
      "source": [
        "#### *Apartamentos: Resultado*"
      ],
      "metadata": {
        "id": "0YUN66zdmC4g"
      }
    },
    {
      "cell_type": "code",
      "source": [
        "distribuicao_frequencia"
      ],
      "metadata": {
        "colab": {
          "base_uri": "https://localhost:8080/",
          "height": 206
        },
        "id": "hgwVkQvzmCBx",
        "outputId": "d166457f-acea-4c14-df38-14e522f33262"
      },
      "execution_count": 528,
      "outputs": [
        {
          "output_type": "execute_result",
          "data": {
            "text/plain": [
              "   Qtde. Quartos  Frequencia  Percentual (%)\n",
              "0              3          79           51.63\n",
              "1              2          49           32.03\n",
              "2              4          17           11.11\n",
              "3              1           6            3.92\n",
              "4              5           2            1.31"
            ],
            "text/html": [
              "\n",
              "  <div id=\"df-b1bd5642-424a-4326-ae58-9adcad0e81e1\">\n",
              "    <div class=\"colab-df-container\">\n",
              "      <div>\n",
              "<style scoped>\n",
              "    .dataframe tbody tr th:only-of-type {\n",
              "        vertical-align: middle;\n",
              "    }\n",
              "\n",
              "    .dataframe tbody tr th {\n",
              "        vertical-align: top;\n",
              "    }\n",
              "\n",
              "    .dataframe thead th {\n",
              "        text-align: right;\n",
              "    }\n",
              "</style>\n",
              "<table border=\"1\" class=\"dataframe\">\n",
              "  <thead>\n",
              "    <tr style=\"text-align: right;\">\n",
              "      <th></th>\n",
              "      <th>Qtde. Quartos</th>\n",
              "      <th>Frequencia</th>\n",
              "      <th>Percentual (%)</th>\n",
              "    </tr>\n",
              "  </thead>\n",
              "  <tbody>\n",
              "    <tr>\n",
              "      <th>0</th>\n",
              "      <td>3</td>\n",
              "      <td>79</td>\n",
              "      <td>51.63</td>\n",
              "    </tr>\n",
              "    <tr>\n",
              "      <th>1</th>\n",
              "      <td>2</td>\n",
              "      <td>49</td>\n",
              "      <td>32.03</td>\n",
              "    </tr>\n",
              "    <tr>\n",
              "      <th>2</th>\n",
              "      <td>4</td>\n",
              "      <td>17</td>\n",
              "      <td>11.11</td>\n",
              "    </tr>\n",
              "    <tr>\n",
              "      <th>3</th>\n",
              "      <td>1</td>\n",
              "      <td>6</td>\n",
              "      <td>3.92</td>\n",
              "    </tr>\n",
              "    <tr>\n",
              "      <th>4</th>\n",
              "      <td>5</td>\n",
              "      <td>2</td>\n",
              "      <td>1.31</td>\n",
              "    </tr>\n",
              "  </tbody>\n",
              "</table>\n",
              "</div>\n",
              "      <button class=\"colab-df-convert\" onclick=\"convertToInteractive('df-b1bd5642-424a-4326-ae58-9adcad0e81e1')\"\n",
              "              title=\"Convert this dataframe to an interactive table.\"\n",
              "              style=\"display:none;\">\n",
              "        \n",
              "  <svg xmlns=\"http://www.w3.org/2000/svg\" height=\"24px\"viewBox=\"0 0 24 24\"\n",
              "       width=\"24px\">\n",
              "    <path d=\"M0 0h24v24H0V0z\" fill=\"none\"/>\n",
              "    <path d=\"M18.56 5.44l.94 2.06.94-2.06 2.06-.94-2.06-.94-.94-2.06-.94 2.06-2.06.94zm-11 1L8.5 8.5l.94-2.06 2.06-.94-2.06-.94L8.5 2.5l-.94 2.06-2.06.94zm10 10l.94 2.06.94-2.06 2.06-.94-2.06-.94-.94-2.06-.94 2.06-2.06.94z\"/><path d=\"M17.41 7.96l-1.37-1.37c-.4-.4-.92-.59-1.43-.59-.52 0-1.04.2-1.43.59L10.3 9.45l-7.72 7.72c-.78.78-.78 2.05 0 2.83L4 21.41c.39.39.9.59 1.41.59.51 0 1.02-.2 1.41-.59l7.78-7.78 2.81-2.81c.8-.78.8-2.07 0-2.86zM5.41 20L4 18.59l7.72-7.72 1.47 1.35L5.41 20z\"/>\n",
              "  </svg>\n",
              "      </button>\n",
              "      \n",
              "  <style>\n",
              "    .colab-df-container {\n",
              "      display:flex;\n",
              "      flex-wrap:wrap;\n",
              "      gap: 12px;\n",
              "    }\n",
              "\n",
              "    .colab-df-convert {\n",
              "      background-color: #E8F0FE;\n",
              "      border: none;\n",
              "      border-radius: 50%;\n",
              "      cursor: pointer;\n",
              "      display: none;\n",
              "      fill: #1967D2;\n",
              "      height: 32px;\n",
              "      padding: 0 0 0 0;\n",
              "      width: 32px;\n",
              "    }\n",
              "\n",
              "    .colab-df-convert:hover {\n",
              "      background-color: #E2EBFA;\n",
              "      box-shadow: 0px 1px 2px rgba(60, 64, 67, 0.3), 0px 1px 3px 1px rgba(60, 64, 67, 0.15);\n",
              "      fill: #174EA6;\n",
              "    }\n",
              "\n",
              "    [theme=dark] .colab-df-convert {\n",
              "      background-color: #3B4455;\n",
              "      fill: #D2E3FC;\n",
              "    }\n",
              "\n",
              "    [theme=dark] .colab-df-convert:hover {\n",
              "      background-color: #434B5C;\n",
              "      box-shadow: 0px 1px 3px 1px rgba(0, 0, 0, 0.15);\n",
              "      filter: drop-shadow(0px 1px 2px rgba(0, 0, 0, 0.3));\n",
              "      fill: #FFFFFF;\n",
              "    }\n",
              "  </style>\n",
              "\n",
              "      <script>\n",
              "        const buttonEl =\n",
              "          document.querySelector('#df-b1bd5642-424a-4326-ae58-9adcad0e81e1 button.colab-df-convert');\n",
              "        buttonEl.style.display =\n",
              "          google.colab.kernel.accessAllowed ? 'block' : 'none';\n",
              "\n",
              "        async function convertToInteractive(key) {\n",
              "          const element = document.querySelector('#df-b1bd5642-424a-4326-ae58-9adcad0e81e1');\n",
              "          const dataTable =\n",
              "            await google.colab.kernel.invokeFunction('convertToInteractive',\n",
              "                                                     [key], {});\n",
              "          if (!dataTable) return;\n",
              "\n",
              "          const docLinkHtml = 'Like what you see? Visit the ' +\n",
              "            '<a target=\"_blank\" href=https://colab.research.google.com/notebooks/data_table.ipynb>data table notebook</a>'\n",
              "            + ' to learn more about interactive tables.';\n",
              "          element.innerHTML = '';\n",
              "          dataTable['output_type'] = 'display_data';\n",
              "          await google.colab.output.renderOutput(dataTable, element);\n",
              "          const docLink = document.createElement('div');\n",
              "          docLink.innerHTML = docLinkHtml;\n",
              "          element.appendChild(docLink);\n",
              "        }\n",
              "      </script>\n",
              "    </div>\n",
              "  </div>\n",
              "  "
            ]
          },
          "metadata": {},
          "execution_count": 528
        }
      ]
    },
    {
      "cell_type": "code",
      "source": [
        "plot = sns.barplot(data=distribuicao_frequencia, x=\"Qtde. Quartos\", y=\"Percentual (%)\", color= \"#32545e\")\n",
        "show_values(plot)"
      ],
      "metadata": {
        "colab": {
          "base_uri": "https://localhost:8080/",
          "height": 279
        },
        "id": "80Z1gicHmdQw",
        "outputId": "2364056b-3734-43d7-d05b-a74a4c414df2"
      },
      "execution_count": 529,
      "outputs": [
        {
          "output_type": "display_data",
          "data": {
            "text/plain": [
              "<Figure size 432x288 with 1 Axes>"
            ],
            "image/png": "[encoded data removed]"
          },
          "metadata": {
            "needs_background": "light"
          }
        }
      ]
    },
    {
      "cell_type": "markdown",
      "source": [
        "### Quantidade de Banheiros (Quantitativa Discreta)"
      ],
      "metadata": {
        "id": "TOjDbIUoETu3"
      }
    },
    {
      "cell_type": "markdown",
      "source": [
        "#### Geral"
      ],
      "metadata": {
        "id": "ZowBZwlAETu3"
      }
    },
    {
      "cell_type": "code",
      "source": [
        "frequencia = df[\"qtde_banheiros\"].value_counts()\n",
        "percentual = round(df[\"qtde_banheiros\"].value_counts(normalize=True) * 100, 2)"
      ],
      "metadata": {
        "id": "ord2P6bIETu4"
      },
      "execution_count": 398,
      "outputs": []
    },
    {
      "cell_type": "code",
      "source": [
        "distribuicao_frequencia = pd.DataFrame({\"Frequencia\": frequencia, \"Percentual (%)\": percentual})\n",
        "distribuicao_frequencia.reset_index(inplace=True)\n",
        "distribuicao_frequencia.rename(columns={\"index\":\"Qtde. Banheiros\"}, inplace=True)"
      ],
      "metadata": {
        "id": "BcNXZlRUETu4"
      },
      "execution_count": 399,
      "outputs": []
    },
    {
      "cell_type": "markdown",
      "source": [
        "#### *Geral: Resultados*"
      ],
      "metadata": {
        "id": "YQLaNTX6ETu4"
      }
    },
    {
      "cell_type": "code",
      "source": [
        "distribuicao_frequencia"
      ],
      "metadata": {
        "colab": {
          "base_uri": "https://localhost:8080/",
          "height": 206
        },
        "outputId": "93d6414d-ab6e-4706-f761-2831226222f6",
        "id": "-cGcf5vKETu4"
      },
      "execution_count": 400,
      "outputs": [
        {
          "output_type": "execute_result",
          "data": {
            "text/plain": [
              "   Qtde. Banheiros  Frequencia  Percentual (%)\n",
              "0                2         126           32.31\n",
              "1                1          83           21.28\n",
              "2                5          70           17.95\n",
              "3                4          57           14.62\n",
              "4                3          54           13.85"
            ],
            "text/html": [
              "\n",
              "  <div id=\"df-bec77406-9e4d-49e2-95e8-2825465d51f4\">\n",
              "    <div class=\"colab-df-container\">\n",
              "      <div>\n",
              "<style scoped>\n",
              "    .dataframe tbody tr th:only-of-type {\n",
              "        vertical-align: middle;\n",
              "    }\n",
              "\n",
              "    .dataframe tbody tr th {\n",
              "        vertical-align: top;\n",
              "    }\n",
              "\n",
              "    .dataframe thead th {\n",
              "        text-align: right;\n",
              "    }\n",
              "</style>\n",
              "<table border=\"1\" class=\"dataframe\">\n",
              "  <thead>\n",
              "    <tr style=\"text-align: right;\">\n",
              "      <th></th>\n",
              "      <th>Qtde. Banheiros</th>\n",
              "      <th>Frequencia</th>\n",
              "      <th>Percentual (%)</th>\n",
              "    </tr>\n",
              "  </thead>\n",
              "  <tbody>\n",
              "    <tr>\n",
              "      <th>0</th>\n",
              "      <td>2</td>\n",
              "      <td>126</td>\n",
              "      <td>32.31</td>\n",
              "    </tr>\n",
              "    <tr>\n",
              "      <th>1</th>\n",
              "      <td>1</td>\n",
              "      <td>83</td>\n",
              "      <td>21.28</td>\n",
              "    </tr>\n",
              "    <tr>\n",
              "      <th>2</th>\n",
              "      <td>5</td>\n",
              "      <td>70</td>\n",
              "      <td>17.95</td>\n",
              "    </tr>\n",
              "    <tr>\n",
              "      <th>3</th>\n",
              "      <td>4</td>\n",
              "      <td>57</td>\n",
              "      <td>14.62</td>\n",
              "    </tr>\n",
              "    <tr>\n",
              "      <th>4</th>\n",
              "      <td>3</td>\n",
              "      <td>54</td>\n",
              "      <td>13.85</td>\n",
              "    </tr>\n",
              "  </tbody>\n",
              "</table>\n",
              "</div>\n",
              "      <button class=\"colab-df-convert\" onclick=\"convertToInteractive('df-bec77406-9e4d-49e2-95e8-2825465d51f4')\"\n",
              "              title=\"Convert this dataframe to an interactive table.\"\n",
              "              style=\"display:none;\">\n",
              "        \n",
              "  <svg xmlns=\"http://www.w3.org/2000/svg\" height=\"24px\"viewBox=\"0 0 24 24\"\n",
              "       width=\"24px\">\n",
              "    <path d=\"M0 0h24v24H0V0z\" fill=\"none\"/>\n",
              "    <path d=\"M18.56 5.44l.94 2.06.94-2.06 2.06-.94-2.06-.94-.94-2.06-.94 2.06-2.06.94zm-11 1L8.5 8.5l.94-2.06 2.06-.94-2.06-.94L8.5 2.5l-.94 2.06-2.06.94zm10 10l.94 2.06.94-2.06 2.06-.94-2.06-.94-.94-2.06-.94 2.06-2.06.94z\"/><path d=\"M17.41 7.96l-1.37-1.37c-.4-.4-.92-.59-1.43-.59-.52 0-1.04.2-1.43.59L10.3 9.45l-7.72 7.72c-.78.78-.78 2.05 0 2.83L4 21.41c.39.39.9.59 1.41.59.51 0 1.02-.2 1.41-.59l7.78-7.78 2.81-2.81c.8-.78.8-2.07 0-2.86zM5.41 20L4 18.59l7.72-7.72 1.47 1.35L5.41 20z\"/>\n",
              "  </svg>\n",
              "      </button>\n",
              "      \n",
              "  <style>\n",
              "    .colab-df-container {\n",
              "      display:flex;\n",
              "      flex-wrap:wrap;\n",
              "      gap: 12px;\n",
              "    }\n",
              "\n",
              "    .colab-df-convert {\n",
              "      background-color: #E8F0FE;\n",
              "      border: none;\n",
              "      border-radius: 50%;\n",
              "      cursor: pointer;\n",
              "      display: none;\n",
              "      fill: #1967D2;\n",
              "      height: 32px;\n",
              "      padding: 0 0 0 0;\n",
              "      width: 32px;\n",
              "    }\n",
              "\n",
              "    .colab-df-convert:hover {\n",
              "      background-color: #E2EBFA;\n",
              "      box-shadow: 0px 1px 2px rgba(60, 64, 67, 0.3), 0px 1px 3px 1px rgba(60, 64, 67, 0.15);\n",
              "      fill: #174EA6;\n",
              "    }\n",
              "\n",
              "    [theme=dark] .colab-df-convert {\n",
              "      background-color: #3B4455;\n",
              "      fill: #D2E3FC;\n",
              "    }\n",
              "\n",
              "    [theme=dark] .colab-df-convert:hover {\n",
              "      background-color: #434B5C;\n",
              "      box-shadow: 0px 1px 3px 1px rgba(0, 0, 0, 0.15);\n",
              "      filter: drop-shadow(0px 1px 2px rgba(0, 0, 0, 0.3));\n",
              "      fill: #FFFFFF;\n",
              "    }\n",
              "  </style>\n",
              "\n",
              "      <script>\n",
              "        const buttonEl =\n",
              "          document.querySelector('#df-bec77406-9e4d-49e2-95e8-2825465d51f4 button.colab-df-convert');\n",
              "        buttonEl.style.display =\n",
              "          google.colab.kernel.accessAllowed ? 'block' : 'none';\n",
              "\n",
              "        async function convertToInteractive(key) {\n",
              "          const element = document.querySelector('#df-bec77406-9e4d-49e2-95e8-2825465d51f4');\n",
              "          const dataTable =\n",
              "            await google.colab.kernel.invokeFunction('convertToInteractive',\n",
              "                                                     [key], {});\n",
              "          if (!dataTable) return;\n",
              "\n",
              "          const docLinkHtml = 'Like what you see? Visit the ' +\n",
              "            '<a target=\"_blank\" href=https://colab.research.google.com/notebooks/data_table.ipynb>data table notebook</a>'\n",
              "            + ' to learn more about interactive tables.';\n",
              "          element.innerHTML = '';\n",
              "          dataTable['output_type'] = 'display_data';\n",
              "          await google.colab.output.renderOutput(dataTable, element);\n",
              "          const docLink = document.createElement('div');\n",
              "          docLink.innerHTML = docLinkHtml;\n",
              "          element.appendChild(docLink);\n",
              "        }\n",
              "      </script>\n",
              "    </div>\n",
              "  </div>\n",
              "  "
            ]
          },
          "metadata": {},
          "execution_count": 400
        }
      ]
    },
    {
      "cell_type": "code",
      "source": [
        "plot = sns.barplot(data=distribuicao_frequencia, x=\"Qtde. Banheiros\", y=\"Percentual (%)\", color= \"#32545e\")\n",
        "show_values(plot)"
      ],
      "metadata": {
        "colab": {
          "base_uri": "https://localhost:8080/",
          "height": 281
        },
        "outputId": "dc953e45-cca2-4f2b-9244-b8246ebecd76",
        "id": "mXYlNAmTETu4"
      },
      "execution_count": 401,
      "outputs": [
        {
          "output_type": "display_data",
          "data": {
            "text/plain": [
              "<Figure size 432x288 with 1 Axes>"
            ],
            "image/png": "[encoded data removed]"
          },
          "metadata": {
            "needs_background": "light"
          }
        }
      ]
    },
    {
      "cell_type": "markdown",
      "source": [
        "#### Casas"
      ],
      "metadata": {
        "id": "eYwAHaahETu5"
      }
    },
    {
      "cell_type": "code",
      "source": [
        "frequencia = df_casas[\"qtde_banheiros\"].value_counts()\n",
        "percentual = round(df_casas[\"qtde_banheiros\"].value_counts(normalize=True) * 100, 2)"
      ],
      "metadata": {
        "id": "ELYMOtvTETu5"
      },
      "execution_count": 402,
      "outputs": []
    },
    {
      "cell_type": "code",
      "source": [
        "distribuicao_frequencia = pd.DataFrame({\"Frequencia\": frequencia, \"Percentual (%)\": percentual})\n",
        "distribuicao_frequencia.reset_index(inplace=True)\n",
        "distribuicao_frequencia.rename(columns={\"index\":\"Qtde. Banheiros\"}, inplace=True)"
      ],
      "metadata": {
        "id": "74zDY5YSETu5"
      },
      "execution_count": 403,
      "outputs": []
    },
    {
      "cell_type": "markdown",
      "source": [
        "#### *Casas: Resultados*"
      ],
      "metadata": {
        "id": "LBU19FxpETu5"
      }
    },
    {
      "cell_type": "code",
      "source": [
        "distribuicao_frequencia"
      ],
      "metadata": {
        "colab": {
          "base_uri": "https://localhost:8080/",
          "height": 206
        },
        "outputId": "27256f8f-a07f-40fb-e6cf-bb826296150c",
        "id": "scInYRHiETu5"
      },
      "execution_count": 404,
      "outputs": [
        {
          "output_type": "execute_result",
          "data": {
            "text/plain": [
              "   Qtde. Banheiros  Frequencia  Percentual (%)\n",
              "0                2          77           32.49\n",
              "1                5          57           24.05\n",
              "2                1          38           16.03\n",
              "3                3          33           13.92\n",
              "4                4          32           13.50"
            ],
            "text/html": [
              "\n",
              "  <div id=\"df-9b7c46e3-2f78-4c6e-8449-64bdf1d5a336\">\n",
              "    <div class=\"colab-df-container\">\n",
              "      <div>\n",
              "<style scoped>\n",
              "    .dataframe tbody tr th:only-of-type {\n",
              "        vertical-align: middle;\n",
              "    }\n",
              "\n",
              "    .dataframe tbody tr th {\n",
              "        vertical-align: top;\n",
              "    }\n",
              "\n",
              "    .dataframe thead th {\n",
              "        text-align: right;\n",
              "    }\n",
              "</style>\n",
              "<table border=\"1\" class=\"dataframe\">\n",
              "  <thead>\n",
              "    <tr style=\"text-align: right;\">\n",
              "      <th></th>\n",
              "      <th>Qtde. Banheiros</th>\n",
              "      <th>Frequencia</th>\n",
              "      <th>Percentual (%)</th>\n",
              "    </tr>\n",
              "  </thead>\n",
              "  <tbody>\n",
              "    <tr>\n",
              "      <th>0</th>\n",
              "      <td>2</td>\n",
              "      <td>77</td>\n",
              "      <td>32.49</td>\n",
              "    </tr>\n",
              "    <tr>\n",
              "      <th>1</th>\n",
              "      <td>5</td>\n",
              "      <td>57</td>\n",
              "      <td>24.05</td>\n",
              "    </tr>\n",
              "    <tr>\n",
              "      <th>2</th>\n",
              "      <td>1</td>\n",
              "      <td>38</td>\n",
              "      <td>16.03</td>\n",
              "    </tr>\n",
              "    <tr>\n",
              "      <th>3</th>\n",
              "      <td>3</td>\n",
              "      <td>33</td>\n",
              "      <td>13.92</td>\n",
              "    </tr>\n",
              "    <tr>\n",
              "      <th>4</th>\n",
              "      <td>4</td>\n",
              "      <td>32</td>\n",
              "      <td>13.50</td>\n",
              "    </tr>\n",
              "  </tbody>\n",
              "</table>\n",
              "</div>\n",
              "      <button class=\"colab-df-convert\" onclick=\"convertToInteractive('df-9b7c46e3-2f78-4c6e-8449-64bdf1d5a336')\"\n",
              "              title=\"Convert this dataframe to an interactive table.\"\n",
              "              style=\"display:none;\">\n",
              "        \n",
              "  <svg xmlns=\"http://www.w3.org/2000/svg\" height=\"24px\"viewBox=\"0 0 24 24\"\n",
              "       width=\"24px\">\n",
              "    <path d=\"M0 0h24v24H0V0z\" fill=\"none\"/>\n",
              "    <path d=\"M18.56 5.44l.94 2.06.94-2.06 2.06-.94-2.06-.94-.94-2.06-.94 2.06-2.06.94zm-11 1L8.5 8.5l.94-2.06 2.06-.94-2.06-.94L8.5 2.5l-.94 2.06-2.06.94zm10 10l.94 2.06.94-2.06 2.06-.94-2.06-.94-.94-2.06-.94 2.06-2.06.94z\"/><path d=\"M17.41 7.96l-1.37-1.37c-.4-.4-.92-.59-1.43-.59-.52 0-1.04.2-1.43.59L10.3 9.45l-7.72 7.72c-.78.78-.78 2.05 0 2.83L4 21.41c.39.39.9.59 1.41.59.51 0 1.02-.2 1.41-.59l7.78-7.78 2.81-2.81c.8-.78.8-2.07 0-2.86zM5.41 20L4 18.59l7.72-7.72 1.47 1.35L5.41 20z\"/>\n",
              "  </svg>\n",
              "      </button>\n",
              "      \n",
              "  <style>\n",
              "    .colab-df-container {\n",
              "      display:flex;\n",
              "      flex-wrap:wrap;\n",
              "      gap: 12px;\n",
              "    }\n",
              "\n",
              "    .colab-df-convert {\n",
              "      background-color: #E8F0FE;\n",
              "      border: none;\n",
              "      border-radius: 50%;\n",
              "      cursor: pointer;\n",
              "      display: none;\n",
              "      fill: #1967D2;\n",
              "      height: 32px;\n",
              "      padding: 0 0 0 0;\n",
              "      width: 32px;\n",
              "    }\n",
              "\n",
              "    .colab-df-convert:hover {\n",
              "      background-color: #E2EBFA;\n",
              "      box-shadow: 0px 1px 2px rgba(60, 64, 67, 0.3), 0px 1px 3px 1px rgba(60, 64, 67, 0.15);\n",
              "      fill: #174EA6;\n",
              "    }\n",
              "\n",
              "    [theme=dark] .colab-df-convert {\n",
              "      background-color: #3B4455;\n",
              "      fill: #D2E3FC;\n",
              "    }\n",
              "\n",
              "    [theme=dark] .colab-df-convert:hover {\n",
              "      background-color: #434B5C;\n",
              "      box-shadow: 0px 1px 3px 1px rgba(0, 0, 0, 0.15);\n",
              "      filter: drop-shadow(0px 1px 2px rgba(0, 0, 0, 0.3));\n",
              "      fill: #FFFFFF;\n",
              "    }\n",
              "  </style>\n",
              "\n",
              "      <script>\n",
              "        const buttonEl =\n",
              "          document.querySelector('#df-9b7c46e3-2f78-4c6e-8449-64bdf1d5a336 button.colab-df-convert');\n",
              "        buttonEl.style.display =\n",
              "          google.colab.kernel.accessAllowed ? 'block' : 'none';\n",
              "\n",
              "        async function convertToInteractive(key) {\n",
              "          const element = document.querySelector('#df-9b7c46e3-2f78-4c6e-8449-64bdf1d5a336');\n",
              "          const dataTable =\n",
              "            await google.colab.kernel.invokeFunction('convertToInteractive',\n",
              "                                                     [key], {});\n",
              "          if (!dataTable) return;\n",
              "\n",
              "          const docLinkHtml = 'Like what you see? Visit the ' +\n",
              "            '<a target=\"_blank\" href=https://colab.research.google.com/notebooks/data_table.ipynb>data table notebook</a>'\n",
              "            + ' to learn more about interactive tables.';\n",
              "          element.innerHTML = '';\n",
              "          dataTable['output_type'] = 'display_data';\n",
              "          await google.colab.output.renderOutput(dataTable, element);\n",
              "          const docLink = document.createElement('div');\n",
              "          docLink.innerHTML = docLinkHtml;\n",
              "          element.appendChild(docLink);\n",
              "        }\n",
              "      </script>\n",
              "    </div>\n",
              "  </div>\n",
              "  "
            ]
          },
          "metadata": {},
          "execution_count": 404
        }
      ]
    },
    {
      "cell_type": "code",
      "source": [
        "plot = sns.barplot(data=distribuicao_frequencia, x=\"Qtde. Banheiros\", y=\"Percentual (%)\", color= \"#32545e\")\n",
        "\n",
        "show_values(plot)"
      ],
      "metadata": {
        "colab": {
          "base_uri": "https://localhost:8080/",
          "height": 281
        },
        "outputId": "44bebbd5-e54d-461d-c3a0-8f25155f4258",
        "id": "pJtSR6Q7ETu6"
      },
      "execution_count": 405,
      "outputs": [
        {
          "output_type": "display_data",
          "data": {
            "text/plain": [
              "<Figure size 432x288 with 1 Axes>"
            ],
            "image/png": "[encoded data removed]"
          },
          "metadata": {
            "needs_background": "light"
          }
        }
      ]
    },
    {
      "cell_type": "markdown",
      "source": [
        "#### Apartamentos"
      ],
      "metadata": {
        "id": "jQuAnlZjETu6"
      }
    },
    {
      "cell_type": "code",
      "source": [
        "frequencia = df_apartamentos[\"qtde_banheiros\"].value_counts()\n",
        "percentual = round(df_apartamentos[\"qtde_banheiros\"].value_counts(normalize=True) * 100, 2)"
      ],
      "metadata": {
        "id": "Q0o-mbSJETu6"
      },
      "execution_count": 406,
      "outputs": []
    },
    {
      "cell_type": "code",
      "source": [
        "distribuicao_frequencia = pd.DataFrame({\"Frequencia\": frequencia, \"Percentual (%)\": percentual})\n",
        "distribuicao_frequencia.reset_index(inplace=True)\n",
        "distribuicao_frequencia.rename(columns={\"index\":\"Qtde. Banheiros\"}, inplace=True)"
      ],
      "metadata": {
        "id": "XinfhKbAETu6"
      },
      "execution_count": 407,
      "outputs": []
    },
    {
      "cell_type": "markdown",
      "source": [
        "#### *Apartamentos: Resultado*"
      ],
      "metadata": {
        "id": "1ioUgvZrETu6"
      }
    },
    {
      "cell_type": "code",
      "source": [
        "distribuicao_frequencia"
      ],
      "metadata": {
        "colab": {
          "base_uri": "https://localhost:8080/",
          "height": 206
        },
        "outputId": "d68217dc-cfbf-4a3a-ae30-4371d05b7353",
        "id": "0OWN75d4ETu6"
      },
      "execution_count": 408,
      "outputs": [
        {
          "output_type": "execute_result",
          "data": {
            "text/plain": [
              "   Qtde. Banheiros  Frequencia  Percentual (%)\n",
              "0                2          49           32.03\n",
              "1                1          45           29.41\n",
              "2                4          25           16.34\n",
              "3                3          21           13.73\n",
              "4                5          13            8.50"
            ],
            "text/html": [
              "\n",
              "  <div id=\"df-5148d604-6b3f-4686-95a0-c8c4801e144f\">\n",
              "    <div class=\"colab-df-container\">\n",
              "      <div>\n",
              "<style scoped>\n",
              "    .dataframe tbody tr th:only-of-type {\n",
              "        vertical-align: middle;\n",
              "    }\n",
              "\n",
              "    .dataframe tbody tr th {\n",
              "        vertical-align: top;\n",
              "    }\n",
              "\n",
              "    .dataframe thead th {\n",
              "        text-align: right;\n",
              "    }\n",
              "</style>\n",
              "<table border=\"1\" class=\"dataframe\">\n",
              "  <thead>\n",
              "    <tr style=\"text-align: right;\">\n",
              "      <th></th>\n",
              "      <th>Qtde. Banheiros</th>\n",
              "      <th>Frequencia</th>\n",
              "      <th>Percentual (%)</th>\n",
              "    </tr>\n",
              "  </thead>\n",
              "  <tbody>\n",
              "    <tr>\n",
              "      <th>0</th>\n",
              "      <td>2</td>\n",
              "      <td>49</td>\n",
              "      <td>32.03</td>\n",
              "    </tr>\n",
              "    <tr>\n",
              "      <th>1</th>\n",
              "      <td>1</td>\n",
              "      <td>45</td>\n",
              "      <td>29.41</td>\n",
              "    </tr>\n",
              "    <tr>\n",
              "      <th>2</th>\n",
              "      <td>4</td>\n",
              "      <td>25</td>\n",
              "      <td>16.34</td>\n",
              "    </tr>\n",
              "    <tr>\n",
              "      <th>3</th>\n",
              "      <td>3</td>\n",
              "      <td>21</td>\n",
              "      <td>13.73</td>\n",
              "    </tr>\n",
              "    <tr>\n",
              "      <th>4</th>\n",
              "      <td>5</td>\n",
              "      <td>13</td>\n",
              "      <td>8.50</td>\n",
              "    </tr>\n",
              "  </tbody>\n",
              "</table>\n",
              "</div>\n",
              "      <button class=\"colab-df-convert\" onclick=\"convertToInteractive('df-5148d604-6b3f-4686-95a0-c8c4801e144f')\"\n",
              "              title=\"Convert this dataframe to an interactive table.\"\n",
              "              style=\"display:none;\">\n",
              "        \n",
              "  <svg xmlns=\"http://www.w3.org/2000/svg\" height=\"24px\"viewBox=\"0 0 24 24\"\n",
              "       width=\"24px\">\n",
              "    <path d=\"M0 0h24v24H0V0z\" fill=\"none\"/>\n",
              "    <path d=\"M18.56 5.44l.94 2.06.94-2.06 2.06-.94-2.06-.94-.94-2.06-.94 2.06-2.06.94zm-11 1L8.5 8.5l.94-2.06 2.06-.94-2.06-.94L8.5 2.5l-.94 2.06-2.06.94zm10 10l.94 2.06.94-2.06 2.06-.94-2.06-.94-.94-2.06-.94 2.06-2.06.94z\"/><path d=\"M17.41 7.96l-1.37-1.37c-.4-.4-.92-.59-1.43-.59-.52 0-1.04.2-1.43.59L10.3 9.45l-7.72 7.72c-.78.78-.78 2.05 0 2.83L4 21.41c.39.39.9.59 1.41.59.51 0 1.02-.2 1.41-.59l7.78-7.78 2.81-2.81c.8-.78.8-2.07 0-2.86zM5.41 20L4 18.59l7.72-7.72 1.47 1.35L5.41 20z\"/>\n",
              "  </svg>\n",
              "      </button>\n",
              "      \n",
              "  <style>\n",
              "    .colab-df-container {\n",
              "      display:flex;\n",
              "      flex-wrap:wrap;\n",
              "      gap: 12px;\n",
              "    }\n",
              "\n",
              "    .colab-df-convert {\n",
              "      background-color: #E8F0FE;\n",
              "      border: none;\n",
              "      border-radius: 50%;\n",
              "      cursor: pointer;\n",
              "      display: none;\n",
              "      fill: #1967D2;\n",
              "      height: 32px;\n",
              "      padding: 0 0 0 0;\n",
              "      width: 32px;\n",
              "    }\n",
              "\n",
              "    .colab-df-convert:hover {\n",
              "      background-color: #E2EBFA;\n",
              "      box-shadow: 0px 1px 2px rgba(60, 64, 67, 0.3), 0px 1px 3px 1px rgba(60, 64, 67, 0.15);\n",
              "      fill: #174EA6;\n",
              "    }\n",
              "\n",
              "    [theme=dark] .colab-df-convert {\n",
              "      background-color: #3B4455;\n",
              "      fill: #D2E3FC;\n",
              "    }\n",
              "\n",
              "    [theme=dark] .colab-df-convert:hover {\n",
              "      background-color: #434B5C;\n",
              "      box-shadow: 0px 1px 3px 1px rgba(0, 0, 0, 0.15);\n",
              "      filter: drop-shadow(0px 1px 2px rgba(0, 0, 0, 0.3));\n",
              "      fill: #FFFFFF;\n",
              "    }\n",
              "  </style>\n",
              "\n",
              "      <script>\n",
              "        const buttonEl =\n",
              "          document.querySelector('#df-5148d604-6b3f-4686-95a0-c8c4801e144f button.colab-df-convert');\n",
              "        buttonEl.style.display =\n",
              "          google.colab.kernel.accessAllowed ? 'block' : 'none';\n",
              "\n",
              "        async function convertToInteractive(key) {\n",
              "          const element = document.querySelector('#df-5148d604-6b3f-4686-95a0-c8c4801e144f');\n",
              "          const dataTable =\n",
              "            await google.colab.kernel.invokeFunction('convertToInteractive',\n",
              "                                                     [key], {});\n",
              "          if (!dataTable) return;\n",
              "\n",
              "          const docLinkHtml = 'Like what you see? Visit the ' +\n",
              "            '<a target=\"_blank\" href=https://colab.research.google.com/notebooks/data_table.ipynb>data table notebook</a>'\n",
              "            + ' to learn more about interactive tables.';\n",
              "          element.innerHTML = '';\n",
              "          dataTable['output_type'] = 'display_data';\n",
              "          await google.colab.output.renderOutput(dataTable, element);\n",
              "          const docLink = document.createElement('div');\n",
              "          docLink.innerHTML = docLinkHtml;\n",
              "          element.appendChild(docLink);\n",
              "        }\n",
              "      </script>\n",
              "    </div>\n",
              "  </div>\n",
              "  "
            ]
          },
          "metadata": {},
          "execution_count": 408
        }
      ]
    },
    {
      "cell_type": "code",
      "source": [
        "plot = sns.barplot(data=distribuicao_frequencia, x=\"Qtde. Banheiros\", y=\"Percentual (%)\", color= \"#32545e\")\n",
        "show_values(plot)"
      ],
      "metadata": {
        "colab": {
          "base_uri": "https://localhost:8080/",
          "height": 281
        },
        "outputId": "494fe07e-e386-4369-c5f6-7622a3e0a013",
        "id": "eXjEGupmETu6"
      },
      "execution_count": 409,
      "outputs": [
        {
          "output_type": "display_data",
          "data": {
            "text/plain": [
              "<Figure size 432x288 with 1 Axes>"
            ],
            "image/png": "[encoded data removed]"
          },
          "metadata": {
            "needs_background": "light"
          }
        }
      ]
    },
    {
      "cell_type": "markdown",
      "source": [
        "### Quantidade de Vagas de Garagem (Quantitativa Discreta)"
      ],
      "metadata": {
        "id": "CrfVlBTxE5H1"
      }
    },
    {
      "cell_type": "markdown",
      "source": [
        "#### Geral"
      ],
      "metadata": {
        "id": "SoO-J1I-E5H2"
      }
    },
    {
      "cell_type": "code",
      "source": [
        "frequencia = df[\"qtde_vagas\"].value_counts()\n",
        "percentual = round(df[\"qtde_vagas\"].value_counts(normalize=True) * 100, 2)"
      ],
      "metadata": {
        "id": "WDjFTyvJE5H2"
      },
      "execution_count": 410,
      "outputs": []
    },
    {
      "cell_type": "code",
      "source": [
        "distribuicao_frequencia = pd.DataFrame({\"Frequencia\": frequencia, \"Percentual (%)\": percentual})\n",
        "distribuicao_frequencia.reset_index(inplace=True)\n",
        "distribuicao_frequencia.rename(columns={\"index\":\"Qtde. Vagas\"}, inplace=True)"
      ],
      "metadata": {
        "id": "nWay2gfnE5H2"
      },
      "execution_count": 411,
      "outputs": []
    },
    {
      "cell_type": "markdown",
      "source": [
        "#### *Geral: Resultados*"
      ],
      "metadata": {
        "id": "3ztGUa_CE5H2"
      }
    },
    {
      "cell_type": "code",
      "source": [
        "distribuicao_frequencia"
      ],
      "metadata": {
        "colab": {
          "base_uri": "https://localhost:8080/",
          "height": 237
        },
        "outputId": "7f237de7-f263-4c42-9198-8e002f8ae1d5",
        "id": "24BdzvQbE5H2"
      },
      "execution_count": 412,
      "outputs": [
        {
          "output_type": "execute_result",
          "data": {
            "text/plain": [
              "   Qtde. Vagas  Frequencia  Percentual (%)\n",
              "0            2         145           37.18\n",
              "1            1          88           22.56\n",
              "2            4          66           16.92\n",
              "3            3          55           14.10\n",
              "4            5          31            7.95\n",
              "5            0           5            1.28"
            ],
            "text/html": [
              "\n",
              "  <div id=\"df-aa46e9f3-8183-44c5-bf14-4c0240e2bd33\">\n",
              "    <div class=\"colab-df-container\">\n",
              "      <div>\n",
              "<style scoped>\n",
              "    .dataframe tbody tr th:only-of-type {\n",
              "        vertical-align: middle;\n",
              "    }\n",
              "\n",
              "    .dataframe tbody tr th {\n",
              "        vertical-align: top;\n",
              "    }\n",
              "\n",
              "    .dataframe thead th {\n",
              "        text-align: right;\n",
              "    }\n",
              "</style>\n",
              "<table border=\"1\" class=\"dataframe\">\n",
              "  <thead>\n",
              "    <tr style=\"text-align: right;\">\n",
              "      <th></th>\n",
              "      <th>Qtde. Vagas</th>\n",
              "      <th>Frequencia</th>\n",
              "      <th>Percentual (%)</th>\n",
              "    </tr>\n",
              "  </thead>\n",
              "  <tbody>\n",
              "    <tr>\n",
              "      <th>0</th>\n",
              "      <td>2</td>\n",
              "      <td>145</td>\n",
              "      <td>37.18</td>\n",
              "    </tr>\n",
              "    <tr>\n",
              "      <th>1</th>\n",
              "      <td>1</td>\n",
              "      <td>88</td>\n",
              "      <td>22.56</td>\n",
              "    </tr>\n",
              "    <tr>\n",
              "      <th>2</th>\n",
              "      <td>4</td>\n",
              "      <td>66</td>\n",
              "      <td>16.92</td>\n",
              "    </tr>\n",
              "    <tr>\n",
              "      <th>3</th>\n",
              "      <td>3</td>\n",
              "      <td>55</td>\n",
              "      <td>14.10</td>\n",
              "    </tr>\n",
              "    <tr>\n",
              "      <th>4</th>\n",
              "      <td>5</td>\n",
              "      <td>31</td>\n",
              "      <td>7.95</td>\n",
              "    </tr>\n",
              "    <tr>\n",
              "      <th>5</th>\n",
              "      <td>0</td>\n",
              "      <td>5</td>\n",
              "      <td>1.28</td>\n",
              "    </tr>\n",
              "  </tbody>\n",
              "</table>\n",
              "</div>\n",
              "      <button class=\"colab-df-convert\" onclick=\"convertToInteractive('df-aa46e9f3-8183-44c5-bf14-4c0240e2bd33')\"\n",
              "              title=\"Convert this dataframe to an interactive table.\"\n",
              "              style=\"display:none;\">\n",
              "        \n",
              "  <svg xmlns=\"http://www.w3.org/2000/svg\" height=\"24px\"viewBox=\"0 0 24 24\"\n",
              "       width=\"24px\">\n",
              "    <path d=\"M0 0h24v24H0V0z\" fill=\"none\"/>\n",
              "    <path d=\"M18.56 5.44l.94 2.06.94-2.06 2.06-.94-2.06-.94-.94-2.06-.94 2.06-2.06.94zm-11 1L8.5 8.5l.94-2.06 2.06-.94-2.06-.94L8.5 2.5l-.94 2.06-2.06.94zm10 10l.94 2.06.94-2.06 2.06-.94-2.06-.94-.94-2.06-.94 2.06-2.06.94z\"/><path d=\"M17.41 7.96l-1.37-1.37c-.4-.4-.92-.59-1.43-.59-.52 0-1.04.2-1.43.59L10.3 9.45l-7.72 7.72c-.78.78-.78 2.05 0 2.83L4 21.41c.39.39.9.59 1.41.59.51 0 1.02-.2 1.41-.59l7.78-7.78 2.81-2.81c.8-.78.8-2.07 0-2.86zM5.41 20L4 18.59l7.72-7.72 1.47 1.35L5.41 20z\"/>\n",
              "  </svg>\n",
              "      </button>\n",
              "      \n",
              "  <style>\n",
              "    .colab-df-container {\n",
              "      display:flex;\n",
              "      flex-wrap:wrap;\n",
              "      gap: 12px;\n",
              "    }\n",
              "\n",
              "    .colab-df-convert {\n",
              "      background-color: #E8F0FE;\n",
              "      border: none;\n",
              "      border-radius: 50%;\n",
              "      cursor: pointer;\n",
              "      display: none;\n",
              "      fill: #1967D2;\n",
              "      height: 32px;\n",
              "      padding: 0 0 0 0;\n",
              "      width: 32px;\n",
              "    }\n",
              "\n",
              "    .colab-df-convert:hover {\n",
              "      background-color: #E2EBFA;\n",
              "      box-shadow: 0px 1px 2px rgba(60, 64, 67, 0.3), 0px 1px 3px 1px rgba(60, 64, 67, 0.15);\n",
              "      fill: #174EA6;\n",
              "    }\n",
              "\n",
              "    [theme=dark] .colab-df-convert {\n",
              "      background-color: #3B4455;\n",
              "      fill: #D2E3FC;\n",
              "    }\n",
              "\n",
              "    [theme=dark] .colab-df-convert:hover {\n",
              "      background-color: #434B5C;\n",
              "      box-shadow: 0px 1px 3px 1px rgba(0, 0, 0, 0.15);\n",
              "      filter: drop-shadow(0px 1px 2px rgba(0, 0, 0, 0.3));\n",
              "      fill: #FFFFFF;\n",
              "    }\n",
              "  </style>\n",
              "\n",
              "      <script>\n",
              "        const buttonEl =\n",
              "          document.querySelector('#df-aa46e9f3-8183-44c5-bf14-4c0240e2bd33 button.colab-df-convert');\n",
              "        buttonEl.style.display =\n",
              "          google.colab.kernel.accessAllowed ? 'block' : 'none';\n",
              "\n",
              "        async function convertToInteractive(key) {\n",
              "          const element = document.querySelector('#df-aa46e9f3-8183-44c5-bf14-4c0240e2bd33');\n",
              "          const dataTable =\n",
              "            await google.colab.kernel.invokeFunction('convertToInteractive',\n",
              "                                                     [key], {});\n",
              "          if (!dataTable) return;\n",
              "\n",
              "          const docLinkHtml = 'Like what you see? Visit the ' +\n",
              "            '<a target=\"_blank\" href=https://colab.research.google.com/notebooks/data_table.ipynb>data table notebook</a>'\n",
              "            + ' to learn more about interactive tables.';\n",
              "          element.innerHTML = '';\n",
              "          dataTable['output_type'] = 'display_data';\n",
              "          await google.colab.output.renderOutput(dataTable, element);\n",
              "          const docLink = document.createElement('div');\n",
              "          docLink.innerHTML = docLinkHtml;\n",
              "          element.appendChild(docLink);\n",
              "        }\n",
              "      </script>\n",
              "    </div>\n",
              "  </div>\n",
              "  "
            ]
          },
          "metadata": {},
          "execution_count": 412
        }
      ]
    },
    {
      "cell_type": "code",
      "source": [
        "plot = sns.barplot(data=distribuicao_frequencia, x=\"Qtde. Vagas\", y=\"Percentual (%)\", color= \"#32545e\")\n",
        "show_values(plot)"
      ],
      "metadata": {
        "colab": {
          "base_uri": "https://localhost:8080/",
          "height": 280
        },
        "outputId": "27b14e9c-145b-4003-8ccd-ec01c53dfa71",
        "id": "iLFMuEkKE5H2"
      },
      "execution_count": 413,
      "outputs": [
        {
          "output_type": "display_data",
          "data": {
            "text/plain": [
              "<Figure size 432x288 with 1 Axes>"
            ],
            "image/png": "[encoded data removed]"
          },
          "metadata": {
            "needs_background": "light"
          }
        }
      ]
    },
    {
      "cell_type": "markdown",
      "source": [
        "#### Casas"
      ],
      "metadata": {
        "id": "yaFSAy2HE5H2"
      }
    },
    {
      "cell_type": "code",
      "source": [
        "frequencia = df_casas[\"qtde_vagas\"].value_counts()\n",
        "percentual = round(df_casas[\"qtde_vagas\"].value_counts(normalize=True) * 100, 2)"
      ],
      "metadata": {
        "id": "BbMjFM4qE5H2"
      },
      "execution_count": 414,
      "outputs": []
    },
    {
      "cell_type": "code",
      "source": [
        "distribuicao_frequencia = pd.DataFrame({\"Frequencia\": frequencia, \"Percentual (%)\": percentual})\n",
        "distribuicao_frequencia.reset_index(inplace=True)\n",
        "distribuicao_frequencia.rename(columns={\"index\":\"Qtde. Vagas\"}, inplace=True)"
      ],
      "metadata": {
        "id": "YJ_SPWekE5H3"
      },
      "execution_count": 415,
      "outputs": []
    },
    {
      "cell_type": "markdown",
      "source": [
        "#### *Casas: Resultados*"
      ],
      "metadata": {
        "id": "JVW9cqS2E5H3"
      }
    },
    {
      "cell_type": "code",
      "source": [
        "distribuicao_frequencia"
      ],
      "metadata": {
        "colab": {
          "base_uri": "https://localhost:8080/",
          "height": 237
        },
        "outputId": "cb13369f-6c76-4bb9-b717-e9cdc319bbfc",
        "id": "B_KNh8OvE5H3"
      },
      "execution_count": 416,
      "outputs": [
        {
          "output_type": "execute_result",
          "data": {
            "text/plain": [
              "   Qtde. Vagas  Frequencia  Percentual (%)\n",
              "0            2          87           36.71\n",
              "1            4          59           24.89\n",
              "2            3          40           16.88\n",
              "3            5          26           10.97\n",
              "4            1          22            9.28\n",
              "5            0           3            1.27"
            ],
            "text/html": [
              "\n",
              "  <div id=\"df-fe9c0119-dabb-482c-92b2-49f7d5d877ed\">\n",
              "    <div class=\"colab-df-container\">\n",
              "      <div>\n",
              "<style scoped>\n",
              "    .dataframe tbody tr th:only-of-type {\n",
              "        vertical-align: middle;\n",
              "    }\n",
              "\n",
              "    .dataframe tbody tr th {\n",
              "        vertical-align: top;\n",
              "    }\n",
              "\n",
              "    .dataframe thead th {\n",
              "        text-align: right;\n",
              "    }\n",
              "</style>\n",
              "<table border=\"1\" class=\"dataframe\">\n",
              "  <thead>\n",
              "    <tr style=\"text-align: right;\">\n",
              "      <th></th>\n",
              "      <th>Qtde. Vagas</th>\n",
              "      <th>Frequencia</th>\n",
              "      <th>Percentual (%)</th>\n",
              "    </tr>\n",
              "  </thead>\n",
              "  <tbody>\n",
              "    <tr>\n",
              "      <th>0</th>\n",
              "      <td>2</td>\n",
              "      <td>87</td>\n",
              "      <td>36.71</td>\n",
              "    </tr>\n",
              "    <tr>\n",
              "      <th>1</th>\n",
              "      <td>4</td>\n",
              "      <td>59</td>\n",
              "      <td>24.89</td>\n",
              "    </tr>\n",
              "    <tr>\n",
              "      <th>2</th>\n",
              "      <td>3</td>\n",
              "      <td>40</td>\n",
              "      <td>16.88</td>\n",
              "    </tr>\n",
              "    <tr>\n",
              "      <th>3</th>\n",
              "      <td>5</td>\n",
              "      <td>26</td>\n",
              "      <td>10.97</td>\n",
              "    </tr>\n",
              "    <tr>\n",
              "      <th>4</th>\n",
              "      <td>1</td>\n",
              "      <td>22</td>\n",
              "      <td>9.28</td>\n",
              "    </tr>\n",
              "    <tr>\n",
              "      <th>5</th>\n",
              "      <td>0</td>\n",
              "      <td>3</td>\n",
              "      <td>1.27</td>\n",
              "    </tr>\n",
              "  </tbody>\n",
              "</table>\n",
              "</div>\n",
              "      <button class=\"colab-df-convert\" onclick=\"convertToInteractive('df-fe9c0119-dabb-482c-92b2-49f7d5d877ed')\"\n",
              "              title=\"Convert this dataframe to an interactive table.\"\n",
              "              style=\"display:none;\">\n",
              "        \n",
              "  <svg xmlns=\"http://www.w3.org/2000/svg\" height=\"24px\"viewBox=\"0 0 24 24\"\n",
              "       width=\"24px\">\n",
              "    <path d=\"M0 0h24v24H0V0z\" fill=\"none\"/>\n",
              "    <path d=\"M18.56 5.44l.94 2.06.94-2.06 2.06-.94-2.06-.94-.94-2.06-.94 2.06-2.06.94zm-11 1L8.5 8.5l.94-2.06 2.06-.94-2.06-.94L8.5 2.5l-.94 2.06-2.06.94zm10 10l.94 2.06.94-2.06 2.06-.94-2.06-.94-.94-2.06-.94 2.06-2.06.94z\"/><path d=\"M17.41 7.96l-1.37-1.37c-.4-.4-.92-.59-1.43-.59-.52 0-1.04.2-1.43.59L10.3 9.45l-7.72 7.72c-.78.78-.78 2.05 0 2.83L4 21.41c.39.39.9.59 1.41.59.51 0 1.02-.2 1.41-.59l7.78-7.78 2.81-2.81c.8-.78.8-2.07 0-2.86zM5.41 20L4 18.59l7.72-7.72 1.47 1.35L5.41 20z\"/>\n",
              "  </svg>\n",
              "      </button>\n",
              "      \n",
              "  <style>\n",
              "    .colab-df-container {\n",
              "      display:flex;\n",
              "      flex-wrap:wrap;\n",
              "      gap: 12px;\n",
              "    }\n",
              "\n",
              "    .colab-df-convert {\n",
              "      background-color: #E8F0FE;\n",
              "      border: none;\n",
              "      border-radius: 50%;\n",
              "      cursor: pointer;\n",
              "      display: none;\n",
              "      fill: #1967D2;\n",
              "      height: 32px;\n",
              "      padding: 0 0 0 0;\n",
              "      width: 32px;\n",
              "    }\n",
              "\n",
              "    .colab-df-convert:hover {\n",
              "      background-color: #E2EBFA;\n",
              "      box-shadow: 0px 1px 2px rgba(60, 64, 67, 0.3), 0px 1px 3px 1px rgba(60, 64, 67, 0.15);\n",
              "      fill: #174EA6;\n",
              "    }\n",
              "\n",
              "    [theme=dark] .colab-df-convert {\n",
              "      background-color: #3B4455;\n",
              "      fill: #D2E3FC;\n",
              "    }\n",
              "\n",
              "    [theme=dark] .colab-df-convert:hover {\n",
              "      background-color: #434B5C;\n",
              "      box-shadow: 0px 1px 3px 1px rgba(0, 0, 0, 0.15);\n",
              "      filter: drop-shadow(0px 1px 2px rgba(0, 0, 0, 0.3));\n",
              "      fill: #FFFFFF;\n",
              "    }\n",
              "  </style>\n",
              "\n",
              "      <script>\n",
              "        const buttonEl =\n",
              "          document.querySelector('#df-fe9c0119-dabb-482c-92b2-49f7d5d877ed button.colab-df-convert');\n",
              "        buttonEl.style.display =\n",
              "          google.colab.kernel.accessAllowed ? 'block' : 'none';\n",
              "\n",
              "        async function convertToInteractive(key) {\n",
              "          const element = document.querySelector('#df-fe9c0119-dabb-482c-92b2-49f7d5d877ed');\n",
              "          const dataTable =\n",
              "            await google.colab.kernel.invokeFunction('convertToInteractive',\n",
              "                                                     [key], {});\n",
              "          if (!dataTable) return;\n",
              "\n",
              "          const docLinkHtml = 'Like what you see? Visit the ' +\n",
              "            '<a target=\"_blank\" href=https://colab.research.google.com/notebooks/data_table.ipynb>data table notebook</a>'\n",
              "            + ' to learn more about interactive tables.';\n",
              "          element.innerHTML = '';\n",
              "          dataTable['output_type'] = 'display_data';\n",
              "          await google.colab.output.renderOutput(dataTable, element);\n",
              "          const docLink = document.createElement('div');\n",
              "          docLink.innerHTML = docLinkHtml;\n",
              "          element.appendChild(docLink);\n",
              "        }\n",
              "      </script>\n",
              "    </div>\n",
              "  </div>\n",
              "  "
            ]
          },
          "metadata": {},
          "execution_count": 416
        }
      ]
    },
    {
      "cell_type": "code",
      "source": [
        "plot = sns.barplot(data=distribuicao_frequencia, x=\"Qtde. Vagas\", y=\"Percentual (%)\", color= \"#32545e\")\n",
        "\n",
        "show_values(plot)"
      ],
      "metadata": {
        "colab": {
          "base_uri": "https://localhost:8080/",
          "height": 280
        },
        "outputId": "aa0f0c66-bcf8-4d18-cbbe-a093462dd604",
        "id": "eidMxdTZE5H3"
      },
      "execution_count": 417,
      "outputs": [
        {
          "output_type": "display_data",
          "data": {
            "text/plain": [
              "<Figure size 432x288 with 1 Axes>"
            ],
            "image/png": "[encoded data removed]"
          },
          "metadata": {
            "needs_background": "light"
          }
        }
      ]
    },
    {
      "cell_type": "markdown",
      "source": [
        "#### Apartamentos"
      ],
      "metadata": {
        "id": "m3U917qIE5H3"
      }
    },
    {
      "cell_type": "code",
      "source": [
        "frequencia = df_apartamentos[\"qtde_vagas\"].value_counts()\n",
        "percentual = round(df_apartamentos[\"qtde_vagas\"].value_counts(normalize=True) * 100, 2)"
      ],
      "metadata": {
        "id": "Q9v3yM3tE5H3"
      },
      "execution_count": 418,
      "outputs": []
    },
    {
      "cell_type": "code",
      "source": [
        "distribuicao_frequencia = pd.DataFrame({\"Frequencia\": frequencia, \"Percentual (%)\": percentual})\n",
        "distribuicao_frequencia.reset_index(inplace=True)\n",
        "distribuicao_frequencia.rename(columns={\"index\":\"Qtde. Vagas\"}, inplace=True)"
      ],
      "metadata": {
        "id": "QUEC_V3FE5H3"
      },
      "execution_count": 419,
      "outputs": []
    },
    {
      "cell_type": "markdown",
      "source": [
        "#### *Apartamentos: Resultado*"
      ],
      "metadata": {
        "id": "sQxVjulZE5H3"
      }
    },
    {
      "cell_type": "code",
      "source": [
        "distribuicao_frequencia"
      ],
      "metadata": {
        "colab": {
          "base_uri": "https://localhost:8080/",
          "height": 237
        },
        "outputId": "b90ad70e-563a-476b-db30-7c1abdbd370e",
        "id": "wEmU8alRE5H3"
      },
      "execution_count": 420,
      "outputs": [
        {
          "output_type": "execute_result",
          "data": {
            "text/plain": [
              "   Qtde. Vagas  Frequencia  Percentual (%)\n",
              "0            1          66           43.14\n",
              "1            2          58           37.91\n",
              "2            3          15            9.80\n",
              "3            4           7            4.58\n",
              "4            5           5            3.27\n",
              "5            0           2            1.31"
            ],
            "text/html": [
              "\n",
              "  <div id=\"df-cae68041-3fc6-423e-bf83-0905bea8bb05\">\n",
              "    <div class=\"colab-df-container\">\n",
              "      <div>\n",
              "<style scoped>\n",
              "    .dataframe tbody tr th:only-of-type {\n",
              "        vertical-align: middle;\n",
              "    }\n",
              "\n",
              "    .dataframe tbody tr th {\n",
              "        vertical-align: top;\n",
              "    }\n",
              "\n",
              "    .dataframe thead th {\n",
              "        text-align: right;\n",
              "    }\n",
              "</style>\n",
              "<table border=\"1\" class=\"dataframe\">\n",
              "  <thead>\n",
              "    <tr style=\"text-align: right;\">\n",
              "      <th></th>\n",
              "      <th>Qtde. Vagas</th>\n",
              "      <th>Frequencia</th>\n",
              "      <th>Percentual (%)</th>\n",
              "    </tr>\n",
              "  </thead>\n",
              "  <tbody>\n",
              "    <tr>\n",
              "      <th>0</th>\n",
              "      <td>1</td>\n",
              "      <td>66</td>\n",
              "      <td>43.14</td>\n",
              "    </tr>\n",
              "    <tr>\n",
              "      <th>1</th>\n",
              "      <td>2</td>\n",
              "      <td>58</td>\n",
              "      <td>37.91</td>\n",
              "    </tr>\n",
              "    <tr>\n",
              "      <th>2</th>\n",
              "      <td>3</td>\n",
              "      <td>15</td>\n",
              "      <td>9.80</td>\n",
              "    </tr>\n",
              "    <tr>\n",
              "      <th>3</th>\n",
              "      <td>4</td>\n",
              "      <td>7</td>\n",
              "      <td>4.58</td>\n",
              "    </tr>\n",
              "    <tr>\n",
              "      <th>4</th>\n",
              "      <td>5</td>\n",
              "      <td>5</td>\n",
              "      <td>3.27</td>\n",
              "    </tr>\n",
              "    <tr>\n",
              "      <th>5</th>\n",
              "      <td>0</td>\n",
              "      <td>2</td>\n",
              "      <td>1.31</td>\n",
              "    </tr>\n",
              "  </tbody>\n",
              "</table>\n",
              "</div>\n",
              "      <button class=\"colab-df-convert\" onclick=\"convertToInteractive('df-cae68041-3fc6-423e-bf83-0905bea8bb05')\"\n",
              "              title=\"Convert this dataframe to an interactive table.\"\n",
              "              style=\"display:none;\">\n",
              "        \n",
              "  <svg xmlns=\"http://www.w3.org/2000/svg\" height=\"24px\"viewBox=\"0 0 24 24\"\n",
              "       width=\"24px\">\n",
              "    <path d=\"M0 0h24v24H0V0z\" fill=\"none\"/>\n",
              "    <path d=\"M18.56 5.44l.94 2.06.94-2.06 2.06-.94-2.06-.94-.94-2.06-.94 2.06-2.06.94zm-11 1L8.5 8.5l.94-2.06 2.06-.94-2.06-.94L8.5 2.5l-.94 2.06-2.06.94zm10 10l.94 2.06.94-2.06 2.06-.94-2.06-.94-.94-2.06-.94 2.06-2.06.94z\"/><path d=\"M17.41 7.96l-1.37-1.37c-.4-.4-.92-.59-1.43-.59-.52 0-1.04.2-1.43.59L10.3 9.45l-7.72 7.72c-.78.78-.78 2.05 0 2.83L4 21.41c.39.39.9.59 1.41.59.51 0 1.02-.2 1.41-.59l7.78-7.78 2.81-2.81c.8-.78.8-2.07 0-2.86zM5.41 20L4 18.59l7.72-7.72 1.47 1.35L5.41 20z\"/>\n",
              "  </svg>\n",
              "      </button>\n",
              "      \n",
              "  <style>\n",
              "    .colab-df-container {\n",
              "      display:flex;\n",
              "      flex-wrap:wrap;\n",
              "      gap: 12px;\n",
              "    }\n",
              "\n",
              "    .colab-df-convert {\n",
              "      background-color: #E8F0FE;\n",
              "      border: none;\n",
              "      border-radius: 50%;\n",
              "      cursor: pointer;\n",
              "      display: none;\n",
              "      fill: #1967D2;\n",
              "      height: 32px;\n",
              "      padding: 0 0 0 0;\n",
              "      width: 32px;\n",
              "    }\n",
              "\n",
              "    .colab-df-convert:hover {\n",
              "      background-color: #E2EBFA;\n",
              "      box-shadow: 0px 1px 2px rgba(60, 64, 67, 0.3), 0px 1px 3px 1px rgba(60, 64, 67, 0.15);\n",
              "      fill: #174EA6;\n",
              "    }\n",
              "\n",
              "    [theme=dark] .colab-df-convert {\n",
              "      background-color: #3B4455;\n",
              "      fill: #D2E3FC;\n",
              "    }\n",
              "\n",
              "    [theme=dark] .colab-df-convert:hover {\n",
              "      background-color: #434B5C;\n",
              "      box-shadow: 0px 1px 3px 1px rgba(0, 0, 0, 0.15);\n",
              "      filter: drop-shadow(0px 1px 2px rgba(0, 0, 0, 0.3));\n",
              "      fill: #FFFFFF;\n",
              "    }\n",
              "  </style>\n",
              "\n",
              "      <script>\n",
              "        const buttonEl =\n",
              "          document.querySelector('#df-cae68041-3fc6-423e-bf83-0905bea8bb05 button.colab-df-convert');\n",
              "        buttonEl.style.display =\n",
              "          google.colab.kernel.accessAllowed ? 'block' : 'none';\n",
              "\n",
              "        async function convertToInteractive(key) {\n",
              "          const element = document.querySelector('#df-cae68041-3fc6-423e-bf83-0905bea8bb05');\n",
              "          const dataTable =\n",
              "            await google.colab.kernel.invokeFunction('convertToInteractive',\n",
              "                                                     [key], {});\n",
              "          if (!dataTable) return;\n",
              "\n",
              "          const docLinkHtml = 'Like what you see? Visit the ' +\n",
              "            '<a target=\"_blank\" href=https://colab.research.google.com/notebooks/data_table.ipynb>data table notebook</a>'\n",
              "            + ' to learn more about interactive tables.';\n",
              "          element.innerHTML = '';\n",
              "          dataTable['output_type'] = 'display_data';\n",
              "          await google.colab.output.renderOutput(dataTable, element);\n",
              "          const docLink = document.createElement('div');\n",
              "          docLink.innerHTML = docLinkHtml;\n",
              "          element.appendChild(docLink);\n",
              "        }\n",
              "      </script>\n",
              "    </div>\n",
              "  </div>\n",
              "  "
            ]
          },
          "metadata": {},
          "execution_count": 420
        }
      ]
    },
    {
      "cell_type": "code",
      "source": [
        "plot = sns.barplot(data=distribuicao_frequencia, x=\"Qtde. Vagas\", y=\"Percentual (%)\", color= \"#32545e\")\n",
        "show_values(plot)"
      ],
      "metadata": {
        "colab": {
          "base_uri": "https://localhost:8080/",
          "height": 280
        },
        "outputId": "a0808493-f5ad-49b6-e028-b25878c8d6e3",
        "id": "d9BgrfykE5H3"
      },
      "execution_count": 421,
      "outputs": [
        {
          "output_type": "display_data",
          "data": {
            "text/plain": [
              "<Figure size 432x288 with 1 Axes>"
            ],
            "image/png": "[encoded data removed]"
          },
          "metadata": {
            "needs_background": "light"
          }
        }
      ]
    },
    {
      "cell_type": "markdown",
      "source": [
        "# Testes de Hipótese"
      ],
      "metadata": {
        "id": "yUcy0ID1cevi"
      }
    },
    {
      "cell_type": "markdown",
      "source": [
        "## Hipótese de proporção"
      ],
      "metadata": {
        "id": "O4a4WeNHcgrF"
      }
    },
    {
      "cell_type": "markdown",
      "source": [
        "Um universitário deseja comprar uma casa perto de sua faculdade (UEA) na zona centro-sul de Manaus. Ao analizar os dados referentes aos imóveis à venda em Manaus, descobriu que o número de casas disponíveis representa aproximadamente x% do total de imóveis. Com base em suas ideias preconcebidas ele acredita haver uma porcentagem menor de casas nessa zona da cidade.\n",
        "\n",
        "Tendo em mãos o banco de dados utilizado neste trabalho, ele constatou que o número de casas à venda na região representa y% do total de imóveis. Seria este valor significantemente menor do que x%, ao nível de significância de 5%?"
      ],
      "metadata": {
        "id": "laytqnJtclGN"
      }
    },
    {
      "cell_type": "code",
      "source": [
        "\n",
        "\n",
        "'''\n",
        "Calculando a proporção populacional\n",
        "'''\n",
        "# Número de imóveis à venda em Manaus\n",
        "print(f'Número de casas: {len(df_casas)}')\n",
        "\n",
        "# Número de casas à venda em Manaus\n",
        "print(f'Número de imóveis(total): {len(df)}')\n",
        "\n",
        "# Proporção de casas à venda em Manaus\n",
        "print(f'Proporção de casas: {len(df_casas)/len(df)*100:.02f}%\\n')\n",
        "\n",
        "'''\n",
        "Calculando a proporção amostral\n",
        "'''\n",
        "# Número de imóveis à venda na zona centro-sul\n",
        "print(f'Número de casas no centro-sul: {len(df_casas_cs)}')\n",
        "\n",
        "# Número de casas à venda na zona centro-sul\n",
        "print(f'Número de imóveis no centro-sul(total): {len(df_cs)}')\n",
        "\n",
        "# Proporção de casas à venda na zona centro-sul\n",
        "print(f'Proporção de casas no centro-sul: {len(df_casas_cs)/len(df_cs)*100:.02f}%\\n')"
      ],
      "metadata": {
        "colab": {
          "base_uri": "https://localhost:8080/"
        },
        "id": "torb-B6zcpwg",
        "outputId": "5749c07f-b9e5-46d0-bed8-1833b9e6c815"
      },
      "execution_count": null,
      "outputs": [
        {
          "output_type": "stream",
          "name": "stdout",
          "text": [
            "Número de casas: 237\n",
            "Número de imóveis(total): 390\n",
            "Proporção de casas: 60.77%\n",
            "\n",
            "Número de casas no centro-sul: 58\n",
            "Número de imóveis no centro-sul(total): 122\n",
            "Proporção de casas no centro-sul: 47.54%\n",
            "\n"
          ]
        }
      ]
    },
    {
      "cell_type": "markdown",
      "source": [
        "![image.png](data:image/png;base64,iVBORw0KGgoAAAANSUhEUgAAAUEAAADQCAIAAAAWIUQ0AAAgAElEQVR4nOy9Z3ccR5I2+kRkmfZoeEOAXpQ0kkazu/Pes/f+//NeMzOrmZEXRQdaEN60q6qMuB+yqrraNwiQ4uwqTrPZ6K7KShNPhsnISFJV/E6/0+/0L0v8W1fgd/qdfqcrkTf3le9bXNM7PfHd7pqHRkt+N/ow9Zn0lOtqxWWpWJ/fqg7vj0Z7+7dsI03RpVWVqFg5Hay9+3wttacJ5ejIh+ITJz366rC53iH5MPX5uBjrd/pgNEMOj8D4NyEdYdDfvEofG31sTo3/UXL4N27g/Lo0Rup62aq/g75H133XPHTtQ/Kb1Oc3ZCwd+fO/H4w/IpqmSxfJXXYFmayF94EKFN7H3qWD9+bXT1K/pzxrHppen3ej912f0fKvrxWTDKbxwBzVmIpV+u+B5LFa4eWbNpMdxhWpilEIzi+HJ9RyTs4kmjwf0/hf1FV5rBGe/z/Jp/XOck8zsXm9Pq33V5+x5V9rKyapEZc1wD82v9s10vswZQTA8MLRWBk6L4aHbtYMWfMKZsXlxsoB+B1uTOlj44v3XZ/3Wf78U8HMqeayP32c9F4H0xWu40XuWLqUPZySiIik2DLGDDfp3YZE3umu3+k90Kh1NR8vacp60+j9rQV+MBrbxneH9VBhxABBBWKVmJgHLntHOayKt3tv2522Mby2thoEPhEZA1VVGTdXECCXHRgascy18Jp4y4gpMuX6y9K12G/vuz4zy8/vulRzVLU/pxKx6jyPnjJkYwdrUjkfPw3VeazZMqPDC7iR7Bty30oiJ8enZ2dnVmR9Yy0slQwbAGzGFzUbw61W69HjX9/svWHCl19+sbKyXC6X2HCKYWXNFGvn8RqE4px8M4phZD01SUDz++SJa3TAvO/6zOlGIozB4YQSR+QMUXEucCSgUVN8LIynAHhmEz5ayuvs2jUa7zi1t5UAEGd6cwofZmZr7cVF6+mzJ69fvYni+A/2i/X1jWqt6nkTEDwPhs8vzn744bsffvg+TqLEdu/cvr241AwC3zOGiTh1Vk1kI6LZ4ZyqCtAg5/wuh4foinJ4UgkjJU7QocgpecVH0+gA5X8WZ16e9fR/RQyj4HR6B1ZJJ0Qn9Yo/dNrdt2/3//LXvz198kwUlVq1Uq3U6rUptvFMDGscdff39x4+/PnN3uskaW9ubtTrVWMo8P3AN2ItAZKqXpOUqLlaNQHD0275H49hzPJ7XxrDGIYxoS+H8xKy0RlYNdDB96KYwogYn7P+HzMVG/gOdn5+S3qlqoqVXi8+OTn97rsfjw5PGgtL//4ff46iaHpBs+WwqO122/v7bx4+/CFJzpuL9TD0oEkQeKHvJ0kEkUyd1uyWvAFz843qCBrnoWvxp81Z+DvQh6nP3Oo0MJdGTRl3KgZBODpdZggkFGTvUGWGVPrBX/4l0YuRSWpsu2Y2jaGg9B9U1FoRoU4ner77Oo515+bdbrclkjBlK0H0LuvDFAReuRIEIRtjoR1mLwgCwBI6iYXYuKj3OlMq84hQZujKzEgSSnXygW6YWbfsQ7FDr5GuxY69RrpifXJum1or0j6/pBdPMmh18CXjRmHwxlGPx/X20IejQV4dMzK5ZjpleuXUMAYRExliwwQPpOUquEtBSGHAgUfMChXweLN0JobFecuC0FtZaf77f3x1+/bG8nKDOCEkahNKR05BUvRnOn2MKDXEMwxP4ULNTPz0rxFW6P820hsFDM/tuZlBw7El71jKx1Ufpcx+m3ZR9hqC7iTLpQBgGh2FSSr0f2/K1ZMJo5YqOIxMrCoAMMAq3tl59F//9cPrV0flkscsqftwskE8EcMKJZBARNWKDQJ/bX3lP//zz1999cn6etP3FIhUY06VKOkP5yCiiFlFCwM8kQqBnCMDX0TCcDlD3fSvYsdeiq6rPgSdA8OUY7g4mY5tiLi5e6r+/D+WinPcAFE6zTGR05JJVAGjwnFMe3unURSJ/BrHLJqo2vSmCTRNDitEROIk6XY7iY0D31tebq6sNJvNGnPM5BFiYgVsH8akBWnaH0hRmcmF3MfwkM5AIxgeKmrUC3p1uq6gk4+qPn39bepVxR7OO39oYu0rX+Nsmd9zS2AODBMTIw2ncJAOoh463W4YQDWKYwJswf8/fuCmYVhUNVvdZ4IaAoQgBEskxgiTGiNE6sS9qjhfeebGTGuvE73WY4lmTeqjnVLkoeuSn9ekS3+M9ZkpIQcxnL6PNYZHhTBda6v/dUkH34dZmgpIdi8iIlYiCgMQYmgMZe47sXIYD4/gRAwTgGyvEhMZZhVN4l6cdK347AmQgGJAnMqu6sCsRCDOXZrOpSWXUKzSG4duyL+ZAGCacu87UKHMKxbzcdVnTnsYRQxnSwZUjOGhvnAYtJIGfGD/M2kEt+OsSOpHRFO69s4AecYQsxWJRWIgICoG2IyfGcdguOBDJnKDBQBKUFXrGQpLHlOPWZiU2KbCORtUYqQMl0Z3KJlZs3Ihsk+BEUcfjWBYB37Mv3GtvRZxdS1y7yOsj5qZGM4dEyICkIomiWU2hj1iUiuiYgwKY1HUgwYA/BEkkPjwpMPv4xZlFMV1ojxQJCEwkRIrBiNep9A0XbqoElH6XAXEsEO2JbKUPsm6X5kA0dSN1vdFz8d/boJPpXfORrnmUJyKdOCuMXLgajRQ5rshJ6vDR1Ufna1Ls1uHEJVsxZ6ZPUOqEBFIGhIr1ilcg+UXapxpcmltPwCYP44MrdNV6D45d1bhYspskwFLRIdDLcbYKZfct0QKUqgFqSFA+2LakWjm01ItqtOX4bxc6c8BrINVz1pOxT8LNbwGKj7rnQvM2/7R1IfGy4QiiSoLWZHMkDJEJCLdbhT1EivqGc94xvfZ89jAOInRfwZRpn4PNkDfL4xHYoR+Kxpl1/GUdUih2qrIVooHNZoh7Wa4mTMwPHQTE5FCRQkCA48ZpIM2t0ItlFA0ifve6UkN63+fBWCPqevvdFWaD/5WRFXFKsCqNoqi/f3DvTf7h4cncWzr9cby8tL6+mqtXimXPQgKQb99uTvm4e9XTH483EKgHMbT5twslCZbJxABU6qCKlHu6xoE0WiKu9lyuHg55/a1KkTBGLdQQQAgBR1SCVTUisc+Jm1qH+fDU0CuS2ezlw7fmz7rWoaTrjiPXKsufS31mdvb5OQDERKrvW58fHz6w/e//PzLo5fPX0dRsrS8fOvWrU8//+TGjY3lpWYpDNjkeuBYui7sFqt92TLfrd8mPWWWU3C6zZJNeZRZqBnLK6lCQcRQkBITE0hlxhOnYljJzQekmSYuQlCCQoQ4nUnSGozfxZIpV6I0bQwcIGcOzIgxPFzYWAadf/wKtsdAmVeha8LwNdQnBfCsXqZ0lUO01+2cnJy/fLH344+//vjDz7u7p3GCpaWDs/MOmEWViBebjTAMPC9v5kDxBJX5HDNzVL5ImkuPOdBMIx9m0hSDdmYh/bto7LzmWD3rMCJSdUHKSqqEXLUlUiZlmsVCYzGc3sBEohbZxMEEqBCEoUQ0HEbYt36HaqypIB64dNhgGOeC0xEjfqZfR68A49EBy0XfZWGjhXuvi66hKAVGVdpcMcs4iRTkGU9VTk7OHz/effjLkzev9j1TvnWzYvxAQa1O/MPPv561Wienp5/cv7OxvrLQqOadp06IIGVUvlrFHVvlbI8Ck1HanDm7ehJjDHHmAI/1n+7EpqbCc8gZNfj4/KNj+7G8WtBcHJzTBAAKKHG6nktk0idOtfYny2HN6i2qKpl1K6qWVCkdpOImUircWGydgoZaMtqw2Xby1MuKJdPwN/NGLBdHJy/tUiUU7yvq0len65kLKMs+OKAsjdnxzwpScJJIElsms7qyfmOrXKsvBKXKeevi9PwkkSgIA2Jmz4AhKgwhqEL7q4zXUueUt8jVflCkuqekaWqK4BlTwHg7YizG+oErg+jpi6IhXXmkpWnF5lYth+8FXIMJCpVsF0phti2axOMx7IQiDUhP7beNNC3e6fLTxmoefWd6U+e3fK4CYPeocTB+B1a8rn0O1046HsY5OcPHSQEi+EFQb9Q3NtbXVzcWFpaaS8ulSuXo5Hj/cL/dOa/VSutry7Va2fNINXGzeca4CkxnjEtQJniLU2PWHiggBNJ+dOfEtcZxtpyMILFoEir6tsfITDettqN25RQqSv5MCSce84gJwnhcjEdRqx1fDYde91Ghkm3gH7UicvVtsCDScRdfF02XgaNfDg75wFCPTttT6Nob8h6oAOOxRJkt5gfe2vpqtVLb2Y4YJghKpXK1VCnf6K23ujtR0vMMwsAEgfE9ItbC1hfMYfVclpxrJvucltyHCg3bCBMU7ExmU3+OGdQZBwFcKO09De4gWAqNmDRAKoM7/C61PuwkeCbE83cCGCrZJDnUcsK0NYX3A+BpYnCScTs0c1/q3gnlfLQ0so9NRJkJzr+SXqMg+J6pNarVahUghvF834Sm5od+qIn4IGFSw2BSZlXrIvYAZObw9ezfTImGYTkk64ZcJyN3j4xd7rfUiQAenYkmTA0fjLKKFM9smBfD44Jgchhn2tmY6V0xpmt1WvL3d6FBlf93mklDWpGb3V1sLjFgVElVFex5hn1WcT5HhVpAPI/Vkktqyoac5xQ8ms90HgzPhYfJAatOazCAl+l8krpRB/IHcbHVKlkqSc4Ni6JWOF1DfG8w1uGstyqSORqHLhSnbDux+i75pd+BBkFW0LvTn0e1l0uVna/IzXr4tFEZ+nOqyj2e/jXnD88ja/sZ+ZVEidgjMoACrGBmIs5ietkYpJE+zEqkREJgHSMJZ2J4yDc0gdLZwtnaTgAwVCECY8AG7EM9EtjExokQkWc89hxvU+rcYcf0ompFHAzAxDTIe241KO2LSctwE9uUKqJXxDfPkUaySPOf80AYL40vRRMG9SpT24DbfZKyMPqwd6N/TZROodQ4Tv2vSWKTxEYxEVliX8HseZ4xDJbExnGS2EShbBCUjPGMiiisVQFZztZdMhfUnH01e9RT8624HmytiKiClcRaUZuIB/KN8QO/5K5JIhsnSRxbAIaN51MYBsQgtUCsKoBk0Y5De2OLAmESR83DaR+ILiGHrwzjKbNyJkuvJ7r4ivSxepXfBzmXZDamUbd3ft49Oe1aMcYvhaVqWK6UAiRRcnHeOjs773Y6olIqByvrS9VaKQjZGAKxSuIZNoTBaK2ZPTmPi2GoNEK2ki1Wkti2Wr3zi6jdpSCoNRoLS0tLgHa7nePjs/Pz8263B1AYhvV6bXl5sVwOyfMYBhDVJPPDobDZIIXo/JPQ2FpekXKszQO3uTA8lFtYRHlg69l0mtOxMVMlnnLj73QFshYAiNTK+dn506evfvjxSacrYbm+eePm8spaqVQ52Dt4/OuTp0+fdrvdMAyWlpv3HtzZ3FpbWVtcWWmWSoEfBCpdhc1WVuYkmg3jXE3Q9A+3o53VWqvtdvf57uvHT14/e35Uqy3fvHn7wYMH1iZv3779+eefXr16fXp6qqqLi0vb21tffPn59vbm0lKD2R0wZAjFZYgRGOs4/+aYxtGYT9dLU1dw58GwWzMcSRE+38Mnm6BjtZF3syZ+h/G7kqq1Ygy7Hf5RLzrYP/zpx19OTrp+uX5+YVdPe74XPvz51++//f7Rr097PZRLWFquP919cefuzdv3bn7yyd31jeWFRpnZQzqoMvee6XnyeyGb3yX9SAzDBCaSbqd3sH/06Ndn//j2aa22enqSqJQ7ndbTZ0//9te/vXnz5vw8UsXCQrC9vXV+3v3ii869+7eazbofsmFjzNA62/DWvzn0wkupEnPR0JaGmaJ4dm7aCZ8x6FjOZHJ/p+uod37s5ymPewe6/g79705Ol2aAQbCRtM7ar1/svXnb4eBIuXZ0FgP8/T+//en73d1nsAn8APX6+es33718+Xpv/yhOIMqeH5TLxmNVF7gPjJNjxa1shS+nDtmgdZ1daRggYxKbSOustfdq/8mjw7DcieMAWrponT969Os33+weHqDXA4ByJdrbexpFSbcbJVbv3L25tNwoV3x2/oCUaakQGqmF1+R65X043IQ5dc/roakYTjdMDHcx81ADBERQGWz5WGcvrnG9YY4bf4f0dHJrMMjyjbCnhsVIhE4bcSd6+epg/6QbJ8n+2wNRNBZST7Dn4e0eWq3Do5MzUcNeqVpvrPsVP/QzMy4hqKjNUsnkNCp15xggx1rFctRld1JDxCBDnmGcnnYfPXrR66EXdQ4P3kYRggBBkAZsty7w3Xcv2p3e8el5u9v7/IsH25V1RQII1KbVFE1dyzQTw8U+xAinfVC3ziXWh/NVtbG/Z+/vgOGxo3h17P0O4OmkgIIciyuUICAhFsPqx73OWQ8IjioLUq1Wbt6+ff8eeU6HhXa7nd2nu0fHydFh/OTJ8/Wt7a0bm81mOQwMs6ewyNMAFPXA/oJt/6vC+5R6jixNEqBKxEzGwLAyqddpJ93uSRhWa43y1o0b29ubnkceQ9V2u+2Li9bb/eODg6Pvf/i51lioNZtLK0u1qjHktPN8cXumsPkY3K4DNMf+4eH0C5PmJwUwbgciBr8Z+vWdbeDfit6TFfCBSce8XCC8EsEkMS4ugLBVbjSXV5a//PTe5urS4kItDDyxyenJ8d//9vd/fvfD89dnhweHu89fbr/Y2tpaLpcqXuiB4zQjsorbWEd5XjEqYngeAGOAQ4pMJCA1pExgwBBM3EuExIqsrqzcu39za2ulUS/7RpOkd3F+vvfm7X99893T3ZevXr755eGjzZ0bO7dulMoLxmdYZPlbh2A8pfcwWfB+aE54txiPSY2c4r7KfhrN8D5Hkqd3otGOvpYypwzwvwqMR3UlRY4wJVKjFqoolSo3tnf+7d///f/40+cbq81KyTMkhtFptRaqoe+z4Pu9w9NnT58vryztbK+WwnXPKxu41KYElyMizbtFhcxvQyc5vUP90zoTGMoQsokyo1or375z++uvv/ziy0+2d1Ya9TDwkCS91vnZi+dvoihptTuPnu2/evXmybMXt+7eXFqqBL5hdtvw3Gs02+5YfH5EML6uOK3pzJ39Ol5rHoXxdcHvemE8s43X+Kz3R+OMnazv3ZsKGUatio3NrXv373/2+YMbO5uLjTAwQhp5jFqZPn1w8/T0+PDk7PD0/Pj45Nnuy1ev3y4t1Rr1EgwZYtViEpnCS4t4xpxIzjq3rzJkYGMCEyhJJAyD1bW1Tz755P6Dezu3tpaWwlIJvlEVVEp1Ivn007tv9vbfHp1etNr7+0dv94+6va1qpWQ4q4zqSP/owPPn4tIPzQnTorpUp/u1p1i/IzR9pGacRj3pNQ/Nd+Xsssea8b+lN/KdaJRBs8/5QfAgKAW+12hUb2xt37l75/adW41mNQjJeAlRpNrxvWR9rXn31o07t3aqlUq3E+3vHe7tHV1cdKNEbJp0yeVPdHDlFLTOAQ4DGMADfGj2Em/0peKpeAJf4Ss8hQd4UAMnflPNP81WU6nW1tc37t6/u31za3GpFoQgjgQdNlFYwuJi9dbNre0bW82FhSS2pyfnh4fH7U4vSaxO7J/sy3Sox9qP1zfi75oz8HJy2CW7EtX0qLTrSbMCYIo0nnHbHNfMmhfHP2dE5x9+7th6/qtgGCMwVihYQUqeCcqlaqlSXVxaai42y9USGQFFql3RNpMAFHq80KiuLC8t1Bqt7kUUSRTZKBFrYVmFlHMvL8BsAIIQyEthLCmqtZB3bTRlolOXQQwigjCECGCBJgAy5R+GTRiWvUqjubTUXGxWa+WgZNj0mBNCBFgYCnytV0u1Sjn0AxX0enGr1T07bzXqPoNCY9nlV55tng/55CZ5ZOcEJA/wJ829sl6gWXktB+cGdyQSj58wLishx5ZwqalofqVl5MoZdZzVimm2z8cM47EqYv9LApiIiX3P9yrlcrnsB77xWJGIJqQxkwUswCAyBI/ZsDHsGfbIeCAGc7q7II0WhIh22hcnJ2enJ+ftdiRCKrlkNk61zo681dG6kmGvFNbqteZCvVYtlXwv8JyBrdBcIydm4wdhuVIOSr4fGOOByCoSQuIqbJgD3/M9zzMewaXLVmslsdYKC0/NGZTXa4x/F7+5AXWZeGlmZKhONxK7ZeFUzZgCYOeT/G2Ze/DpM7p9pmmQX/AxI3YSjVouA78SgQ2MYc83bEgJomJFCOIbMk4JI1aBtSpul5Pvh2Hg+Z6LmXD8oQARxXF8fHT86NHTx4933749iiILdeo0A+wU4/6RtwUYO2Ziz6ssNHZubt+7c2trY43rFUOeMUhP7s30XCLyjDGGjcfpnqtUiqeBJkRk2LAxRC6DkDHMmkYkuxU2Bhwz82Uyoo9e9nH7pTMAc57tIXXlcWHn/SQTenYs9Pte0b1evP0roncmKVRFEpskbJMkjq2ItRb+kHfKQEkESWxFwWzCMCyXS2HoG4/Tbchulle1iT0+OX3+/MX33//w6NFBuwUXZ6CDptgo17gvOMDi2mKr3a6Uy81GvVIKw8CYoj9M3bWqpOpSQlLxgAIGBDAQFoEKPM8Pw1IpDIMgSPl54Knaz0YyLHUn8aciL0WLF38gurRfmgcAPD8fz7OANAXD/y0B81tRPhbDvUpQgqhN4riXtNvtTqfXjURcuksm8lQsAChDjLVkBSogw55vgpJvPIY7C55ARJ7vqxU/CBuNhc2tG+fn3VKp3u1EqgSwClRTdTq3hEfVafK9ykJjY3Oj0aiXSiXf9wybLLA5RzKs2CRJ3L84sVaYCQpWZVKGGrHo9ZIoSpLE+r5fLleqlYpvDLtCRJXU3dHvlr6bGgPdNVaDHlAgaNwVo1SYL0BIN2xf2hodg2Hiib6q3DwmdjbJpXxas90FE2A8Sfd733L7uujqE9B1NTMXFjT4TsULVDWKorjVOj8777Q7cc8iZDY+qZAq1EK415OLdtRuR1bE802lWqqUS75vCEouVoSN+y8Er66uGvaXl1bPzlpxbJ1XWRUAAx6UtYDhogsmVdsDr96orywv1uqVsBSwT1CBaCq8Kd3X342iVrt9ft7qdntxbELfA0TFHR/FcZycnXfPztqdTuQZv1arNhcWQj/wmA1RpkVP7/zrZbZRrL6jL2kcht2MMLyFY8C/RUUAF74Gclux0PI5rIv0vLRJpyKM31n8MToYRui6lh+uD8ap/yLPu9p/uZS0INPr2dPWxd7rvcO3R+2zznK1wYahSmRUk1639/z524ePdp88e97qdBora1tb62ury/Vq1TeeR0qqsOKyfYCoUi4Fm+vLKytiXUBU9lIGvCnHqSpUSMV5tjwKPGM8SU/8goBESRQqKt1e3O0eP9198fDXx42mV63eCBohiEViYzxYOb/ovXhx+OLlweHhSXN5Zam5uL6ystCol0LyjDJJplbTIN/TGL6avQg0j4paELl9xXbSZdNosi6dGvmZ4E03eKioDCg8lNd4tN5FE2EeFpziqR+riI9OY8Xn/k5jqLiRaPAgH8r7mQ2LotvFm9dvHj18tL62KO2N5WalWmKPtdtuHe4f/eObH/7rm+9//PlxL46bi/Wdnc2FhVop9A0TgwxSvzEAqIDJY+N5XhaPkEOFs7NUs6HP+TjTY9NlTFJAmASQQjI2l3nZ+bTRanVev977+eeH1ToZY29srZZ9Q2JJcHJ4svvk9T++/enZ81dRlCwsNJaXmkuL9UopCD0hxOS6ZjyK5rSKx3T2rF8zBZOGjelBJ/EMGF/OHk79eOpODAc4P4yCxr3nH4YqN6n0yV0z5lyO65Jv75tGa/4OJXy4WYmIiNkYqOLo8PDXh7+US+biYHNzrbm4UPUNn5+dPt99+Zf/7+/f//Dzm4N47UZ9Y3355s5Go14KfGUSUuvOlC8YewDc0qs70Fjc+SMEyY4XG6Qst16eAN55y1WFc52ueC42CMRxEp2enu3uvihXKYm7x4cb9UrZKKJO9PrF64cPn3777S/7+0dBGGxsrKyvLzZq5ZKf7ZcEMvfY9M6+9rHI7UQqfDMXdHO6tE/LIXigDukskq9W53Nt9t4XkDoBz6OnUUxy2edt/kgAPH1Ei0zxbhUeNlavRrPrQEzG47AcVOLI+Ob46PC7b7999P0/amW/WikFvtftdo+PTp48eXV8AhPi1q2de/dv7eys12uB7xOzZREVq5KgnxI6VdoziwnZ2R8ElTHhBpQ5t7I3daYyJBWWebkOd0y+75dKZELT68WPHj55ufs08Dn0PA+cRMnxwcnBwfHJaa/eqNy+ufXpZ/dv7mw0FsqeZwnCnBuGRY/MdP/LPOM+J02+eL4BvwSG2Z2lxWzYECng/ArFVg2JXBpAMvIw15yyhAE6tr6T2vbRAHjmmYapcoorwG+oe69MM87lAKBsuFwpLft+ZXHRr5SY5M3r11G767JfJglEoMDiMm/tbH751Wd37m4vL9eCgAwLwQlha20y4q8oIqSfplyKCzKF40jSDyABVJVT7DtNwRS1NiIiw5VqtdaoLS0uJ8nZwf7+8eFR1IG6mBQBGzSalTv3b3/19R8+eXBrZW2hFBLDEmnfg5M7ZcZ3Ua7nzz/uH4IuvT7cX1sCBsUsQ3RECBNAIE5VJ+eKSG9w0Zp5Uye7uPs4n6lgfEi1c55nXdYjMJ0+EFsoNAwDvx6u72yX6pUk7vXOjs6OugcHaLXAjFodt++Ed+/defCH+3/8+vNbtzbr9ZLvxYyEYFUTSY9ugQ5nnCakeZ1SrxowsJ407qjx1K52MKZUXzOFn50uSJVKdW1t7fbt2+3WWxt3Xu4eHe6jcwHfoLmA9c3g/oO7f/y3L//49ac3b28uLpbZJKwJyGYMlh2BgXyb5PjeueS4v3e6yr6lwrQqCoUqi6CwxQwudI+9AMRgQK3aWCQ2HqsmIkmakxwYjADRvoju/wkFTY31+qB24wenawpNn+VTFVWbWGut75m19dWdO7fqtdLmcuPXn354/PjZwaizFZEAACAASURBVCEqFezsLH/9p6/v3r9988723fs3F1fqYUBQ6wAMCHFqYQ6eKkIjY0T9I+gnkGYnJ1J2tGcWmEBZGgAGKLFJqeKtb6x9/fVXxvRev9yulP7vJ48eHe1rEGDnxvInn37y5Z/+8PkXn9y5u7WwEPq+i8FMMn19qHvfJW75t6Ir7z3s57MmUjJs0jA6p2+Q8zp6AENE1VqBFSUlVQdJyc40xogqjtGZTNPTRKbbKh+ENH/uzIuuSwJfna3G1WQoA5uoiLU2CQiNRu3G9sbmxupqs7y9tfzJgzvn5+fVSnVtfe3uvbvrm6tLqwuLy7Vy2XiwggSaqCYpLtlNvKMYHqwNpQe7TKu0Yw4d1FFzxzUAwIo1nqnWqpub682mv7mxUK34n392//zkNPDDjY2N7Z2tG7e3trZXVlZqnmehERCDnTI4xiC/Gn1Qc++KGCaAYCWOba+bqBrAEPw8GpZIFbAaiYrAAmIlApJKxQ8Cw4aJNBt4Hl6SHjiFsN+pmuXeHa7Gh6TiIue0yz42zWBybTSfk1TVQhNASqWgsVDb2FrbXK3evrl2fvZZEselMKhUK42FerkShmUvKDGxRQZgVZv2zvApZuMAPIe8I0DHyOpceCpIBek5nb5vqrXy6mp9Y626tlTttFpxFPm+X6tW6wvVUi2oVP2wTFCrYtUmBe4qVO8arNkPKsRnYXiWmIl70cnx2cHB8evX++12FEfwTInIJzIupA5krKqSiiYKIbbVanDr9tbqarNWKxmjBKaxMSUYgvHg98DgAFwvTeH1/II5MJxeeZURvS5JPi8RIww8z7BqYm0EiB9QuVxZWggJa6RuKUcUlo2y5wxgq5pAE6iFWhFx+u2UnXRFVydoupnQP8dtZFXCyWF1YR6AqlqxsWGtlP1KuERoMpFhl0pEOSA2kVhRjaAxOUtYATKDovijcZrOR1NjPEa01mGeFTk7u3i2++Lnnx59++1Pe2+P262I1Ad8qFOqSUECAoMNicaeTytrzf/z//r3P/zh/p3bN8ol4zz72QlXsxdjqI+ioQ/XRDO8jjT4Pv3plHpKBh9w2QoVnnh13prCoKl2yqQEqzYRSURihRgPviGfTRbKxUgSUQtWAqlaqCUkKomqENxpRqnbiSY8l4YfPZaKNlbm0eyzpVtyEkCN504pEpAltr7P7JNvjOdSD4i1EqeLKSoECxcd7UIsswWrWf3znsmJq8sfFjlTl1YMmwuaz65ipXXRevXy9fff//C///cvT5/h9BQ2Sf0vnN1vAWKwBysIy7ixg2qtvLi0sLm5FoYeucBXHlKYsg4dVEdpChtcJw0p6vkH6qPXOUgHEqYW4Vr8vljYFNf6lJHTOa6Zg4b4Y0hFIHKQELEiCacOyEQlBrEiEREmheeO7E4YVlUyT6MlCEGcJ9qdtzZdT9aBj1Mw7FzZQ5ekGBZ1oVpimFKIQpjBRg0JkQUDECJLlIgm2aFQSrkvOu2F4mukgu+LCvMyZdW4fDaPeTCcP001XxxKN12Sb1iSuHVxcX6ObheJhTFQILNQQAQRiEBixAqN0Omh3U0SAbFnPI9VVNId48WWDVZhVKWc55t3Ije6ImDK7LV8sYHTz6KpkUaZy8XtQ+3/6e6jXBMkSuPGVWWUJTPTeZSBtDA3X11EFDflIZ2JFC5RBgBVsUkcxxGgxoBJDalhGAaRqlhRy7GARTUGWaSLRwpA1KpK1l8uEktApDOrPE3y5HtaXXYu6q9f2ESSJLGJFSsQsAA2sVFiI5D1/IBUmQQqUAtSZiFSHViNzuQDIV+lznrnSl09Yv+NFlUQBqkkePfHXXJ9OBXL2fOYq5XK+trq/fv3Ts7aqxsnnQ4845H6pIZgxCJO9OTk4qwl5y0kbXeTS6vgsTHOXMn4oCjzdZiPh8nNXu9tuqRBucoG5MHFAoMgSlYyDkgxTCp9L32WG10KZz2nG/fAmjrmig2kERgXajJAYxs898zloNr3GGfTEzFUe1HU6XZ7vW4UWZPEIgnBMjmppSBJYQwhEh1khqJ8H3BHX3FSzWUVDe1RJ1HEcdLpdtuddrvVMeF5r9eOoo6opVRVtiCBc7OxqApBnIKo6vbt5PP+aFzHu9c7mxtmz179p8OJDQAuCoNG1skn0uyzWooq0XC5zLVa9ebNHQE3l5b3D8+6Xet7FYbP5JOaXic6OW092X397PnLF6+PewIvQKlElUolCALDbvkwD4KdqcmMfNmf5Ae8JNdARfFLHihbMHPalzvyPo3PIxBU3I4cLd4KIEmDHIQym8sz7OLOiafAeFAVn9Gs+b167thg5zQuII0YxFCbWImTWNSC3PnaltIXZUcESna4CQ1bNmAi1tQpzZnMnKdiU076LRovBVtGLEDE7NxrSZJYgZVYEAsSVUuE7OCR/GRD17NcOOGJMndaoappXpqrMVJfc8yfPEp507g/6Hlmwsto1DMwPNS1bobo/83E5dKNna3F5ZV7n3zS6VmbkO9VPBMyfCgf7p88fvLCK33b6nWPLk67Vmp1bGyubW1tLCzUDZNqQmqh9uoKzDWbx8xpVmQyUAMr3Xan3er0ehHA4k5FAJPTQgmSByQVpjxRtaKiQkRB4IVhEIZ+tVoyxmh2tE2mWk9plKZDO9GWzpXMWUQ5owBA5stRkAEZqGX2ypXq4lJT/E65uVCrlX3f7WsZOognZ76CpkzIDAwoiIm1qLZPo2K43rimDXzOkAYyxi9Xqs3m4ubmxvZOVFtcX1tbqlZDzzeFTKnaN3hTF00xzXU+Y+ZAMpMrMz9NGanRP/NTe4sKdlbMHPQO68NExFALUbBCgcCrBEG5WoljVTWGA4IP4U4nPjq07e7F0clRJ+qEJX/7ptm6sf7ZZ3du7mwuNCqeUUli1R40Ni4ec/bsNfR9QRe6XtJMCLOB1U6r+/z5y91nz1+9etPpdOPYqhKpSyCXmrkqTrT2R08ViQgR+b63tLy4urq8tbVx8+Z2pVIyhlNkalGeFZwcg7XpI3k8zdcDqiBOTVbNmklwuXUArtUbN2/d+nOEs07s16p37t1eXloMA48L+7czA4MHaw44bTe1Hbi/3jwXTWkXsliuokLoAYAxjUZz5+atL9oUNLZL9cXbd7ZXlheDwKja7ETDPIDIZd6jfqLcfvXy2SFH/hWpiOGcRTHcG2nnS39iJYbLs6CYn6vnOfcwn7RAzNkiEAAXYilgcufwBExZ0v2k3Y723hw+evTox59+evTk0en5eaVe3rm19fnn9//wxb1bt9YXGiXDFhqrTQi2wL6jbR7l7FEYXy/1mwxRWO12e69evf7hh59+/PGng4NWtwuxYEqddkoQC1VwNtE7qayKRMDs4hO37927I2KXl5aCwGfOw87HWgGjgzdqbgzVdh7qc0fhbgKMSxy70Fy6ey9srmz1rKIUNJabC0uNwPeZE5LUhqR04mFXXl9KOpCk2M2Coq8nQnTQulSkfgePS9XSjW02pcWtu9Yv1xaateXlZhCoaGzSbsk8FJoysNOliRia7qcY1KWv4yD7VJfWEX4ebVT2q9pcQVB1nkIi5uzM4GnjexkMZ8m4Mw9t5tSxFuLsIJc62J6fXDzbff1f33z/l79++4/vft477tUXyzs7N/7tP7784x8f3L93Y2khqJbY9ywTwfOyjhviURqsBsbBePo3VyCVVJEGYNjzvDAMK9VKo7HQ6yW+H9lEDRsiLu4DcrC0bgxFRVVU2XC1Wm40GtVatVQqseEsqWBq+WSMnuWRc3w20DIHHLl66yh3AvdZSyEMNWDfa5RWq0srG0iIE4ZzawDqjGhmg9yKHs0mh3yRtS/ciGkmC85FfadApry4Yomai0ul+sq6DdT4fsi+r0RdscJpgD2ng5gfH9M/STvv0oEI/+vQpTHIyRivWzFDrIpLVaIwVFAQ8ptm995sDGebEjAi4jPLJHXEMFQk6h0cnD58uPvd9w//8td//vLr7tFJ3Fwq3fnkzpd//OyrP3567/6N9bVG6CcBW3aZRR2/apIpMwX7J5vTh6qUq1fUr0+xqaMa0eV5iBmSt5lK5fKtW7fL5dqdO5+0LtpRZKEw7OUYdg9jojzLSZoqQZUYYRgsLDSai41mc6FSqRrPc1WSLBuOiMZxksSJFVGFy5zudL+CuJ6t6RX3AI2a2TTIWE7TYFVWMmoIhtQojMAkRAmr7YolBRJGTEgY4tJloZ8TdpgkFyx9GXglDLvOLYgRLUTXk4IFxsKPoMJJp2eBGM46g2UVk005ml2fBfM77ilsG1YCoNcyUaaW2BCGs+HL5kC3cEEs5VIQBC6hLhURNydNw3DOD8XNhgMw1iwXCimsJD05Ob745Zcnf/3bt//1zfc//vKq3UWtYR58dv+rf/vyq68//eTBzZWVaqXMHqxR9A084syXQH2vSXGZCSgghZQoTQSc5grPFg/7V4/qnO8AYxe2oCD4pdLWzZtbO3egJIm4o7qITOb3yu3AvrCQNOOJuL1ZRBB1EQhKBIVoDmDVdrtzfn5xcHDY6XTjOHFZVIemp3yH1+TxGgD5EIYHe1NzSDCUlThbDAaMgFMMkwqJQhgxuygOzdmfxm5EzhuVV3uOoxMmEmXzeF4ca75OkoaMKdiSF6tniZQSlxeeNDaqZnBRBX2nNGWcNrz1/1owDChBCo9OFcxsJULhWJbF97hSDTc2VpvNRuD3+80FnaXZr2fRnD6tIUFH/f+ZoYREuxfd/b2TR49f/L9/+ebv//zp0ZPDKMbGVuP+Zw++/vOfPv3Dvdt3t5aXq2EAQqxqVS0VcjVA8pXuorKEPqo119PcyBGyUCk3nIUFvrFGY7EtOU2+bCDWl9KVYfIyAW2yIFsaKDRfKwYMQVVZs1giVREVFaPp2SOUjVOv13uzd/Do0ePvvv3+5atXpydn1rrDnqmg5vHIXtyRKnNxFgPQ375bUJzS/kkTYCjSQ5CU3ZJ+hgpKyGFYAUtIGDbf/edOURoC5+CUkU0R7nlTUDz5t1xcISsrFZep+yedRxRslRLyBBCyIEtIIJahhpBNOhjszMwjTZnASAuezjnzkxJsxkADITpZLJOCrDFYXm7eur395z//6d69O6tBiQwKc9+8VZnfLz3a1woisAeriOODvaOff3ryz3/+/Le//vPFq3NrsXNr5cHnf/ji6z98/tWDze3V5mLFc/3sTs1xXecMadWCn7PvFykokHDyNoWTkxzpPKqFIdZxFR2afYZ+n9BReW4gtz21F50cH56cnJ2dXfR6CcF4xhcBDXZ36tfJ5DDISVtl5kqlVK1W6/XqQrMeGC8/LkNViTwViqLkotU+O704PT13ngXtw7igAU4anoGduv0OzGDseibvHx0UxSBlVuswLCAhsqSWYEkBy7AMcYcjuZJ10HIb1dtTE2O2DJ6+KpZqWKTI/E79/S6ZFcNCbGHFaTfuNBm1rJnMzST5AIbzMrKOyhVskas64gjZgWTjAeyyiFljpFQOO51uFMVJYrPAm77COacGc8mceMCAtHSt7UQnB2ePf332z3/88Ldvfnj0+FwYa5uNP/7pT19+/cdPPr93885GteYbT5IkUigMAFawE8VuZSb1NPYBm861Wa9kmzwVIu4IHSKGYQO1uaRyXaYA9f2hYzWIIYk9YcqTVGJCEfV6z58/f/jw8ZMnz1oXHSLjmUCsIj8ryIkLTrN/OqxIGguhQeCvra3u3Lxx8+ZOpRKGvpctEYOJAs+rVsvLi4s3Njd8Yy4u2sxeUX902ZgvayYVFDPqD13ej0WRpGCwO4/bCTfJwlisSygJ6yzngqDnmVJiHDb7X+WG2mQMU8YBzlmmQ3p5Ni2Rgixx2hIIYFWFCyY7YbDFg2UMXHU9nvRcly5ylyLboaFqnQ9kYaG2vr5SrdYyF8lA/1ynHE6FoxtqQ2BABNYiiZNW6/WLvYe/PP/f/8/fv/3u0dMXbePjzt2dP3z91Z//83/duntrbX2xFDJDINZjQxCxkrle1QBEAhAMAwRx+0isiAv3cd8789hCIIm0o6jVtfDCUuibkDw2SIHLRLkWngtwEiV3/o+qchpdxEiFkhbirQZ7TKRwsKvaJDk/O3v+bPeH777f3+9ZCyLYBOmxB8Co2eIknVttKpVw5852r9sOfbOxtqzlMM8JSqrs8eb6yuJC7cH921EUqSI9L0hzjZqstSo6lEJ9+IlOcHMue4nIEDEbNszMzG6TmONod6qJWxpTF9hNuVrhOkXI5SZWp2gy0aAYnMU1fYni5o0+j+bwG5CBY2iMP7PYw/kHyXwzSq7LdJy9Pl2uFSaoqxEB5AKw822TotluEmuTJLGxiBWbGI/D0DQWqmHoJyI+hIZrMLun55TDOZcqoMjSANpe9HL35Xf/+Ombv//893/88vZIfR/bd+9+/sevv/q3r+4/+GxlbbFSDRgRI0kXn1QUNhGbunUgXp6wxbnHHNe7pWaQipKLVU+k124fHZ+9Pbw4PGv7pfra6vLt7RUvTI/HgrICIEOZ2u360yUu1bQngdTv5yS7IJ0hRjwZnOmuKiAThsHa6srdu3dE9OjoJIoSZ6AWPHzDot7NJmwIUD/wNzfWdrY3lxbrvk+GBMgmABDUega1aqlWCTMfBuUfoERM1oqk108epCzkS1WJmIg9EwBs3UxAzEzgAQ9lpl9jGEgFfUXTpdVRG2Q6bxUvKHZRsRwa6b13IxdhMzCXXrHEq1Dqlx5JU+F8VIlNVCwIKqJqicXzKMvHW1D8gRl6YkZT/dKF94ESM7941I12n7389tsf//qXh0+ewpSwfmPp9u0Ht+/cX1/fLoVVm1D7PIJGLi+EagISwJJRz9PQY2JPOAHA6lroQr8MGx9gtWKtJYaoJjHOztovX755+PT1y73j2sJq926yvrxUDkpAar5qgR/zvlOQqnP0qYqoKhvKdrPlDm33KlhHzqelkirDYbB1YysMyzs7N1utThJbK+KZVP+ZoOWqEohIoZ5HtVql0ag2GrVyyRDHgABJeqEg3XVg0n0SSLfa50dzkudi8frzel/lozSyRNM9F/lCPfvwAu3G3W6314vFLVuxW6xK1eo8ZIcK4dNOg0idDflcmK4qAS4/S9/Sm8lBGABq/47sgLMrwy1dxct2Zf3mlK0tDX6ZbWMwhsMwCMPAlAxgoQlIVWInYFwb+vJyDpqB4fG9m23osdaenJy9fr3/8iXOzlElJAmdnXdevdzrJfbRkycgIUgYeEwKiKhVWN+n1bXFldXGUrPaqAVQEkgQGmIihk2sptlHjcKADBtjSEk9aw9PT1ovX+49ef52cRXN5moUwVrP89jNaSKWDKccBiWFKOJEwMwgKMSqqoTsI43EKwJ4UJDm24PdArhyrVYJw/La2rpIuk5u2CX55HyQMGBQpWKBDBkmYnX5LpitFTGgVDEmhnFAzWbuAYk1qjw6XSI3JwlZlFs/XaS7WTVpd168eP3s6e7+/mG320sSEU0XpdNIHXIaLRGylb6CGYdBTuyrxgOumukchEJjhvXizL99DeRyAE3BsGISN18/kWrR7+BIxLpz5BabCzs729s7W0tLTd93+36UjDEYOFF9fpqqS49Y5USk6XFV6TjGsY2iJLGIE1y0sff2sCvfP362W6qESqIQkItnotRsgVSqwaef3/3887sP7m97W8ulAMYdCsOcxLbdieLECWRi47HxSmXP8z2FBfuxRS+SKEYiLAjixPR6GkdWVESVDALjaZplE44vO912IrFL2MCqnsd+4IKzBeMxPNQJBFUYYjahZ8JSZr/xaID3gPfCDSYAMMGk9jxEbBIzA8yUevJk0M2E1JGW+w6zbDNAoY6alYxB9nRZjZQBSSI5Ojx7+Mujb775x5Onz3rdmNhYm+2SBHIjhpCvQjmRPB4KQ9PT5TGMwU7OMXx1bGl2ssTk5dTpGQmulTLrf6CXRKyIBoG/vX2j14sr1Vq1WmX2SISNAkLpGciXNi0mYrjIj8NFZstoqcA0PhuA0Omi8xYv9g4EBwLECbLYhoG76ws4PjnyDFaWGyvLDd/4ho0Iol583uocHp6cnbe73cgohWGpWq83lxbr9YrHBuQz+yAf5BOXrPDJabvbatk4AjQoBeVquc4VPzAKtXEcd6NWu7N3eNRqd1XUY66WS/ValT2/VAocA2ebSPN+y+oqmcmQCi2kU4JrvjHpgWDZ9iMA6WcudJ7TxsHZ9iABqzECAgzBZgtjXAiwJgMuLDGkXZ3mXVCbbatwmkC2P35gjx55zjyM4uTo+Pj58+c//fzz0ycHRCiVjCgBnKeSzLRndyLwNADnD81aN08sRBHDGDdX5rEiV4FxipO+rv/bUxHAQMY4SQLPQ1jyT09Put22iFVldXnmSEkZxDTbQhmmy60tiTuLVgVi3R9eEPilwAvhhYh6iGPEUtioJi4p7UBy5CRGnMTEVCqVqpVqrRYQNIrt3tvjJ89e/PjTr0+evNjb2yfB2srqzq2dzz7/7Obt7eWlepIoe4EflBVeuxO/3T/5xz++P95/uff6le+b7Z2dew/u3/nkdnOx4TEd7B0/fvTo4cNfHz55dnR0kkRxo1a7fXPn00/vf/b5g5XVpVqtoiCFMOVhvYW+S3fAZqqpapbqwQE76WuVqY9ABkO+c10X0Lz9ArVwZuuA/JYUsQRAYCVLqVzYJ+hU3sx/lyWrKjwFgGTrn0pWkMS214vYmMXmgnffW11d29y6Efglp/xz7v2CFveTzuYgcnbKHKzWZ8fB3b8DV1wHhsnlBJpVnw+F8awxOW+oM4aTOLZiFxYWbt3aWV1dDAM2aTSqutMJ3cLKEP5n0kQMk/MNFxYIBnILEEDwfG9pdenO/dvtSPYPWxdtiS2USQuTootoVZDzOoCkVgs/++z+jRvr9XrZ842qdHu9w8Ozx493f/j50aPHu3tvj1oXbRbYZD+2SsaLVaJ43dcoSSSO7elZqydn1cpJxcjp2cXh4XEU9XqRtUTimfXuWjkIXr/ef/Lkxa+PdvePTlqtThLFrYuOja2IBGEAgu97QXr6rGTtpHEdVxA+JAWJl9mufaEkwwDOyfm/i5tah8vPP0gBuqPG8BTKKu/2T1m11orYUinY2Fy/eSu8c/vO7Tt3fM93GHZj6bLnDBz5C52ldqZMNmTvjb1ysHqjQhjoY/jdYKxwZjDnHs0p2vSHpz4/MLMbEWNMvV5rNKrGA2BBtpCoQPrBIXPTVDmsAx2szh7Of2UOS+GN7c1EdHlt87wVtdpJLxHje2xMgTFZ4BLeqUJANgzNjZ2N27e3FherxkgUxaenZ7u7L395+PjXR09Pz9qVan11Zd0oet1Ou9Peff5CmGzSW22Wu72kF9mT0/MwCZYWlzx/ubm4GEfdN69fn52d7T57YY130enVq5U3L1+/ePn26OisXG40FlZYcX563OvFL1++bjYXGo364uJCEPh5/EPeRIxnhSywlooYLiJ2UAj3YZ59Gu8EmjRlZML/EvkcFKDMkU6qIpJYG5dKwerq0urq6qcPPrlz945J0525GTo3i3J5Pif3DDV8HhoGcPYnZ6W8M4YBOM0mw/PkGvwWpEgXAEhVxYqoOHGoYhWSngfl1kCdOLlGDOdMPWIOKxHBM6ZavnV3Z3Vj/Ys/irXci6SXWD8IwFkqFhdGQ0bdcjAElBCJ8VCthtWyT2RPz05evXz900+/PH68e3Z2sXXj5oNPP793927F9549ffrTL7+8fP3qyZMn7fbZgzs3Wu2uKCVWPFE/CHZu3VxpVrqti59+/OH57svj0/Po6fPzTq9erRy8efPq1dtON9m5c+PWnTvLzYWDvb03L5+fnR6dnV2cnJ51O1G1Yg17BFBu9/b7HSP9KCOdMdTdfd1poAeBQTV7Jg3CeGBAptxUyLanVlWsjXtRRyQOAhOGxniqGomkSaTcodkqkldYXSHQ4oMmaAIjLZ3dpjGKdP66qpJLSllOu9nLS9cO5fyBAyXnawwKADbrXYCI05gaJ3Vp4BCy1CN7GZqBYQx2sKomiU2s9VlAFqxUCathWBWAA000ESVj8o3LogCxy1nqEouDLGCtJJ5HvmEbx91e++T09ODgsNPuhkF5Y2Pz9p3b9+/fLXnk+ehEnbPW+dHpyevXb5bqFRF4flip1GoLzeWV1fXNzc2Vho26Nklsou2nu6dnLXinNtZOJ+n2klare3h8srRysdRcXFlZC4y5OF+sL5QXm0ulUtl4PqcqdNEeHnRuzfg88me/v3Jl+1poHm0zUwGIAStqkzgCJAhMEBg2QpRkG2KEiKHiNsETZSklUlHmTLO+Z809vzAJ6dgl0PH1cTfTGAznet6shk3/3Qm6MXPepKuviTItK/un/e9V89X2goFGaSiBW4vXNOdmP9VRaoTmhsqcNMOnRYV3AGJFxCY2YVjjzqpxVrlnQEI++8SwCli3vccQKQTMCs0BDIgVNYYYkmjS63UvLi46nQ6zaVTr6+trKytLjWbNh11eXti6sfF6f+/4/Ozk9Oz49Lxcqvp+qd5oLq+srK2vLa8sLyxWpdfd2tw6PjrdOzw+fLPf7cZa52qtUanWT05O997shWHos1ldWqrVG/V6tV4vLy4ulcplz3iUHi1fbOXYUR6r9I4oxmMkytjSaCqzzW8cjlUKFFCxEkdxEieE1PI3BqqJy2JDpGALaLr7PI3ZyXtB+/8PVWvA+TWulcPesVyjGRXC/W1Weej4aAt1mAcndEQRRNNIMQ0hwz/o2G/TXzQL7UUa/5JmYlJVGTwJMHMfFvKRE6BZmsF0Gs2nxWE1aAY/zOuXTm0XIiZmF5nAQOoNyvZXu2ADl98krbkzA4icru/i0aGBz4BAoGq7vV6r3RK1pXLQXFxYXm5WayUimyRdP+DmYn15afHVm7fnZ+ftTs+YsvGCer2xtLi0tNisViqeMT1V3/fCMAzCkijYBAsLSxsry8uNhUq59PZw/+To6LHI2nR/DQAAIABJREFU8eFBJQyqldDKYnOx0Wl3DSMImAmFYI98u8momBk1ZYeMuKELxprWY2ODR/l7lAbZKYXbwJXp1C4C5V63d3520broJLGU/bAUloJU6ZDspkxrGNXzNQsRyzlu7Iwz/B0BhfRM7llDFxlODy9WQBlsABaxcCq9ZwaWIsm9EUCFZJTjiJxmMfH3Qo0VyPLPjWkKIQufGR0l6o+AOqjmH2wszIbIwDOSJImNWbO0IVmxUFF3KoaCiEV0yJs40J7+a2rDAUzD8DiJknMN9XNJZS7Z1JuCbGtV3mLXAORp+LOuTLdrZmscIiIu2oZJjSFJVCVJ4ihJYpskbgOAFbGJjaOo1213Oq1Op1XySmKtqMZxHEcRAN/36vXa+sZas1Zu1Mt7B2+tFSaKe929vTedTqu5UOv12n5gbgabvh/00wz3Wz5p/h3UnGfbcTSuH2nE5JxT6g5tqx5FfmYSEovVJLa9XmwTZTKe8QzzyKYcHXllJY2ZsLL/R02N7J4MdpyZJiOqilq3dp066pWUU8gYQpr/aFjBIcDMkrEK5Ol+J/w+Zj4dqLwOzq80Uol+UY69C/4nSn0lbjtA0SaXwq2KVOPobwUf2IqVL78V1uHmUS1myeGhISjOx25TkZU0isgJLiaQze7UTP9iTXWJbO5XcRhmIt/3wjAANI6i1sX5+dlp1Isc0rud3vnZ+fnpWdTrMVEY+EyIo+752Ql7/utXi/tvN4wsGNV2+6LVumh32oYReOQZeIxSo1oKdtY2VomQxMmL57t7r189evRrEHjGw+pac3NzmSgAO5fDEOvMdJTOaViNZ/nCr5cxfWjwnIaxBaa7pchaTWIBiNnzsiWlOR8zMtEUaHi+Qx+6/Z8cBLLNMe5SgopA8kSsDLDzmLBB//wQV2x/fuT8z8k9nv4iExL9ZosPAxI+/zFXqCZrzqPP03TXoyqgzATD6WIsiNlkfvJ+9fqbWLL66IBtks8fKYBH5r+JNFuXLjYp7yAiKgQkaaHTqfANstnNfeu2zimle+qIwERUKZcajXop9N/uHZ2et3afPV1bW1tqLpCNzs/Ojw6PTk9PIbpQrzcXGkR8fNo6Onx7fHrmsd3ZqEfttZLnvXrxan//bad14fukGp8cv/3x4phsYpiW11Y2tzabjWa9Vj45Onz18nm7c9HrdcVaosyEGQZwv+uvg8bCeC4zb3xhEycEhiJdFACJaBQlRASwMb7xPMMmu3RAxgygVbM9W1RUoYfqOUG1JtNXNcUZVu6JGf8SwYBgyEuTohhAoQyBJJAkC3fJCim0dqq3VpGGJKiMbM9MTdK8pHEYR0HDmEV97SKFMQjuaDZJA2KJPO3bEVl70gr0819g2FzLjVJSzDyVuU+XPKslJWfNCky2D1EB0SxneBHSaf2zCqfzljvekkih4vveQqO2sb56cdE5ODx/+fxF4IfHh4c+6+HBwas3b6NetLS02KjXV1cWW602NI6jdtTpHh68ffF8N2qdkNijg8Oz07NarXRjfbWx2KyG4enhwdnhYbvdWnjTPDp8u7Ky2rpoxUnUWKg1F2tr6yv1egUQK7HXz3KEgmC8LgAjK7bwed4DEC77EHZr8PBYFWI1ScTzPCJmdinXimaDZo3NoZJ1wlzVG9LQIHHS6bajKAI0CPxSKTS+AQqnz6oSkwpsIkkcJUkvttpT8XxTCb2Sb4gZUgx36zsUhs/OG66JFjceDuWgygvqh9ikK4mTLeixVhLl9yoypyRBxSat83Yci1XyS2U/LHm+x2wKrgf33FzAkjs4nfoslz013aB9udi1S2KYs/ypKSCz1cU04LbIH8MYzkdBVVPAE0g19P3FZuP2re0kUcWr05Ojb/9x8fDnn0Kf4zi2gsZCc2Nrc3NzbaFWevv2beCjWvG9GITk9Piwc3rQbbU67U6tVltfX7v94G692dAkSTpnB69ab9+8fPHi2e7uk4WFRTam1+k1GrX19ZXbt3aWlhc9j0QSkTy1ez5WhWpfA00qZ37dbU7qex+s1Ti2nU63VCoRse/7ho1Kbs4UWaQA43QE3dEthTEdw+1ZOf8/e+/5JbeR7AtGRGbClTftu9mkqJEZ8+7dPbN33///ZXff7t23czUylDSiN22rujyAzIz9kAAKZdqRTYma6Th1msUqFJBIZGT4XzgYE22Go/jk5Kx33kOCTru9ublREQqEAy21mOVRCTZ6NjX9/uCiPxpOZlpgrVHdaDc2WjWZ9dYoWnuvbC7raa4MXjOVi1+XABUWN4g5r5ePyc6Qi6OicyKkOj0+Pr7oj7TFWqPdbHfrzYbvS1dHmjdG5jIwfe4yXePUWJTAN1obt+7zgK6WHAnAANt5DnBWQ1PeOHMFatEuQADhSl4tSyka9Wrgh5WwVqnUorDyt2++f/bs1dn52FfQbtd29/YP9ncff/7Zzs6WQA2c9i82/td//6MBWa1UG5Xg/OTd+dmpEqJR3374YO/hg71Gq07MVY8CwQTm6fPnL56/nMUvlYR2p3744OCzzw4fHO632w3Pk65Gvzy+u6aV9edsEC4X9N8JG2d9z5gBLU+ns16vd3R01Gq1rNn2fV8qBQA2TQkZpAASeYc3BsjLpJxfw+HCWAadZmbbokDJDCWRARVBomez5OTk/Icf/vH8+TMl1VdffVGvNitV6dLls6gKIgBZw9Nx+vQfr5/8+I+Xb9+pWvXzLz6XX33erNak7+ppV1HaV6Fel4jZZhgAxUdrI1XzbyHXsDmHcnBlpBnnss1x0ZaejmVmQmaLzEIgsE2T5PT45NnTlxeDaXdz98Gjz6WMwrBOAoE1mNS4tsy4ZD2VNaBLHujN6L14uBzncsGMQhTPiRd5A9d9CIgoJIUooCUsoxCeVN7mxsbp6ZkgaLaaOzu7n3/x+e7eXqtZN+mU7SZJ0eq0mJSnPI+g1633NrqB7+/t7R08POhstsNKIBCJtySYahRsbHSOT06H44lSqruxcXCw99njw263FQSekIR5I5DS3v8enHy1lHjv3y7REiPBqmQBckBYnCTpcDg6PT11abpKKiUVokEiEAhEIGQmGQo8oUIymAzbjFnkXiLMpVx+3aJW2XI8S07P+s9evH795rjfH3c7bSUD349AeAAM1hrLaAEQOTUX/fHr1ydPfvjlm78/eXV00t7f7WztJSlojaAIhMwB0pbE1PXTuMTnS2jBy/NYmHeIArEAv0IAY3OM8Dxkwo7B3W9zkWTZknU12BT4gSA5ncRv3xwrv1Grb0SVRhj6SNKyYUa2iKIMLVzYLJe5TnOJfwNOvpKHF7myMDMWPPjW5pCSy3tnaUILbKrVYwAAEDEMvE6nFYbVTnfj66/Ho9HY2tT3vVq90d3YqNWqge+lsVWqW63Xtne3maQgIdnOxjvxZKakqjcbjXbDq3goAK3ptGoV/3B7s/v48aOLi8F4OpXKq9fr9Uat1aoHgScVIjJdysBYMqGupvdj+zXzcANaZePlzxGRLSdJOhqNz87OwzBKUy2kIpKADKiAEFyxqMMSdRgx+YpFoAy/A4FRcI48ClluVuaDnkcitBmOxkfHp0+fvTrrDUgGnc52u9WtRFUQHpjUGGYGw9ZYMxlPX71699OTX779+09Pfnh2PgLZSFJNTJ5hAUxgabGT04c6DlYRyOYM7GYABRA6j7KxNhO/DmMSBQDkEEh5Z61cXBVyXgrRaXfOO8Nef3p8OlBvjqu1Tq3eRpRSIYDIxVtZ8LpZvBvckffomQZsGQsHp7v7FQZeSUS6crDIwNbzhFJ+vV7XGrQxzNpZXL7vS4kIGtEGvpS+jGqRYQALghkbFbQghSQphBIowHBqrVGKgma13axvbW+kqU6NJSIhJQq3BRkkx8A891iuDOsqT8oHye33o1WmXZTGzuhCspbjOB6Nx4PBbDabMbMgAUKA0RlcmbZzSGAhATOoJ0Rw8PdAbmUjgbFWW5Pm4VCbW55ZyUSc6NOz/vMXr//x9LmU4YO9g0ef/WFraxf90LGKUB5ZO4uTi4vRTz/+47vvfvz2myf/9f+9OD0HDMCCJ7yKH9aRvMzEWIjXX9spYmny1zxLXnDTQJ6R4Lgo350QjUNAchdDVwjlfkPgIBLzSi9GZqRif1fK63a7s4kZDJI3b/tv3xwThY3mBqCs10MpEUmU0sjKf4vbKo/w1svpfXj4hnSFpr9CbuiWyBIJqQSARPRyRQYADDMLwQzskRDStR1HspYYkVEIwQBMBhGQDYAhRBIIQigBUlEAgEQMYNkyG8xaHuVFAlfcxFXWyp30BLg9XRoldiYxukwY13MoDyXkN2Ksqz1hi9qAQSEDH6XMoIHZas3JTAMwCpJKAhGABEBgk4P+uHbEBMxWm+ksuRhMzs4H42nS6bQ73c2Nze2oUgNGdy2jzWg0Puv1X79++7e//f2H73/+x0+vT04h0RCEkBo0LC0oBmGNJnIAKdbxVeEEunI68kdQBJ6vOsz9de6YrOWsATSIBhHA9dpxVbLMACRIkIIMQszNewFlxjYTyBQEYbPV3NrcatTenfdn796evHr1zvND3/cASCokostXC5fG9j7L6Zb40tkdsuCivI4XZUL5zU3UoMLwcO47J75NlkDidkvrOiVYIgYEwwYBlBAOti23Z3MnqvOAZgoPARs2ibuSNUWGKxPSihYNyzN4hw7jJbpFReHCz+ZjyqZ85TyMAGhN1qstjGQQ+ErJ+fqwAKlOEzscxaNJEhsI6s2oVg+jwFqTTKfj0aTfG+rUkpRRJYoqQRD5QSCldMmDOstJssAMOoXhIO73JheDGMmv1Zudza16o6mUB9oCWZ2kF4PBy1evX7x89fTZix+f/Pz2zcl0Ar4HygMvFBZEYkBbMA4h162AufunzMOr65vLt+0AmK6avMx3h8AAhnWcjAazyUwnFskPRRAqpWyq49l0Mp0mOrXMUslatRYGQeC7pHsEsoVczyYUAQRVK5Wtzc3d7Z3x+M1Ff/TqxdtqtdlotqQKJBKSWYdczaseovegK3nYZcggAgAhca5x5VdkgBzbHew8wwbKZuTa9OAlcioXCgbgohQLQTNkjTJtsSPzHIrAIAAS5y4QyDyfyGCNZUsAwBqY3QDdEQxsmbO04Xms/v32v6v07KtofZzm+p8tujRx0VuRK9XMbKw2BlEEQbi5ubGx0alUo0wIEIJUkOrRxeiHJ798+/3T1ye9zt6Dx19++eBwP5lOXz57+tOTH188fzOLte8He/sHjz579Ojx4c7eRq3uhT4RAIMFNmwtG5gM05fPT16+PB+OTKO5sbG92+52le+hEADA2pycnP/400//5//1f//008+np33P99vt7uF+cziI+8PpUFvPDwxwotNse0WGwtvC+WPLnlCuMRUfFHZtVupz5TQyuFEBIxiYjcZHb06/+/vPz18eX0zSzf3DnYcPNza3OE2ePf3lyY9PXr1+rY2u1WqPHh4+evTo8MGD3b3dsBIQ5sjckObrhsFoz5PddvMPjx9d9OOzs+e//PIirDa6W5uNVl0oREjyLhnZyHkO5FQ43q5PjV5LN5LDS9CNS1+u+QFf/tV6yp8NAsx7EbuPVx9M2UnPy84PBpzDvi9b5QiZE2vRh/khNu1dCeurB7DCwEvhnuIEzMayMZYRPN9rtZutVqMSBYQAbJwzmdN0OBi+fvn2yQ8///ziqHs2jcGbxaZ/dvL9N3/79ptv376bJgkoBZubTz97/vrd0emXf3z84HBra6teCTJwMUKKUz3oT16+ODp6159O7faDjVanW6lWSRJkaD+YpuloNB4OBvEskYIODg72dx+06t3T08GLV0dvehckJQNoay3wZbt99oxxTeFF9oCRL//14vxmBjBYbSaj6avnb5/88Oz4Yrrd1/0JHp9Mxhe9J99/+83fv3nz1lqAagX+sff88ePXX37xxR//9Kfdg91Wt+4FglBllrRbsYIIqVKRm91Ou9mQKE5Ozt++PTk57W3ubAhPCsG5s27uUyi9ymO/9Yp6n9jS6mf5ixfcbrcbEF/yfvlKCwpTgee6sMpt1hU184cXm3f53zvQYe6OLtMVi29v91ydd8rVflRrlTAKc6RqBmvTNJ3NZr3+xelp7+270QTfqqgRT+OjNy+///vff/xhNpmA1gAAR0f90/P/POudDyejOPlS0AO5VRM+EUlgSJNZrzd4+fLt0XGPpddub7Q7nbASkitoAwcACJ4n2p2WZRZCffX119tbu6GqKPn6YjA+HY9LyE2XVmM6abvuW2f+Mt9oghZzoi2Y1Fz0R8dHvTfncUrvptZ7c9Q7e/fmpyff//yzvRgCIAQ+nB6Njt7+7d3bs8Ew/stU/4E+63Qrni8BTFaK52r4SBKIZqvZqNc8Tw2HJ2dnvdPT89F44gWR7xeFcJeh7eB7PGhH7+PTyrzqiMW4PnAjyelGvFTyQeUalns/T/EtgWM5jYVK6f5ZatGHyN6PQZex8W2eq4uL5D2sECEMA9/3pSByVgkCWEuChJCe8n0vRITz8wH88rzf7w16J4PBLIygVgNm0BpmM+idwffJ01kcW6t9D6PoUehH4HmQ6tk0PjvtPX/+6uh00trcbnW6nW63Uo1IAIAGNsA6DL29vZ0wCtmCH4Y7O7uE8uJslKbT2XSUxFNhq4wAmRi99InkX5QdkHN/Bi5/tW5+5wHRTH1FFGAJQVgDg4tpgidC9QfnJ+OJjSpQqWX1V8kM3ryBXu/VeW80S9gLw7ByKKQgKQB0rhMRIIKSlZpsNOqVSmiMGQyGZ+e98Xhab4YBuoMLBXAtA78nva9fesHrcM303YYKobr0yeLFMycGLxy/FnEOoZTt7r5f5776JGjtU7zNo0Us3R2TQM/V/jvryyFvChREQrpKJsEW+v0khRNg06zXN75uhL5sNBoIOJvGZ+e9d++Oz3vjNy/f/FivtVqVjY1GtaI8X0FqRuPJWa/fvxgmGoXyKtVqGAZCEEBqTUxgADgI1cZGq9GqC5Ke70eVShqbeBILYqNjrWO6RY+ysqK3mm5wI1UaADL0cdc+DEmn9uICepNeZWZbnfZGd2t/d1cqjCohgI1n09Ojo9evT857cHTUf/b05f6D/a2dthfUpKS8nMqlOSGABalqtajdalSjEJhHo3H/YtjsVCqVCub1uvMx3dEafF8e5tX8kqsVwlucevFsvO7zy5Iv1mnIuGgV3w5o7lemOxgYW9Zp6mLCnqeUkkjIbACkE8VIKPIcD6NhPAYRJEKqzz777PHh7u52d3OjgwDj0ejd26Pvv//x798++fHnozcv3/6y0Xz0aL/bbdSrlXSWDgbjXn84naWAUVipBlEolQS0ljWBtjYlRN8XUlUABZEgIZgZLPoeSQkAxugEluVSyS+dYaY7ZzVmveCQ85aupTnjdX7ChXToHDAPwOUBZ04kpDhOLvqQCIBwthNFf/zz1/s7m812rVaPAOx4NHz57Pnfv/nuu+//cdZL3r47/scvzw8f71XrXhgEWQs+x8rWABpAUan4nU6z0ainAKPhqN+/mM46DFSquXeKxw2gv25Gdxsf/hA2XmJdWHmzrEStvL/sxIvj+XQZ+Ja0fCOZTmStnUxncZwgYhAEYRj4viekAACwDEaz1mwsMhnN2oDvw9bW9tdfff2//8dfv/z8YHerHUUeGx3Ppr0HO5udZrNWn03+jzi152eDs7NhfzBrN006SUej2XicGBYqqARRVSqJ5BAbLVjrwgwkgfIEcSQDlhE0QgpgiBiJS7AQefiU87uTHgCBZTAGiYgEIGutbdYCrvBiOn+HgFLQxGYpK5hHMRjQMht0MAPO5gA21qap1QaiOuw/2P/Lv/3lP/77v+9utSoVz/cFCTBpcrDTrtdCqdT/+H/+6/jk+Lsfnjz4fLfZiZpNX8oc0Ns1ljcaAD2PGs1Kq1U7Oh/1er3z8/5kEgMIy1nC5mqncs7AD65O8b6UrunVks3qWoVnjSh+b1plUb7k21Vl+56g7BFh5jRJjTYA6Pu+H/hSSgAAYwAtZBn+2fFEUK/7e3t7jx8/Pjh80O40g9DzPAKUvvIlVtPpxkV/sNXtvD46751fvHlzsn+4t9lpY8LJzMSxZpCkAuWHDm4VwAAYJJtlNs0dEQ6NAFyiDeHcPZslfBUrmxmsBUIweTonYNYIDoEIixzgcpgzcwXkTCAyUy9XudmyNYxFynfeL5wZEYIAWi25vb11cLi3u7e12a36HigFhNYaUtSJZwcXg+GzF6/eHPVPTk7fHZ2c9wd7cZvAAFgBVgqRFd4yS0VR6HmS0iQen8/Oe73ReJJqK9V80eaG6N0kW14vh4uZIsqwxT/8qldcDQBW7GG+7ph/ccqXRN6bSWurjQEAT/me8pVSAJDBrSz+UBBUGs3d3f0HDx92uh2pYBZPBAqlAMj4PjYawUa30ek03532LgbDN++OT88uJpPUS02amDhOkaT0feX7JNAlPCBZl4zItuwwXtatEJx5nu07+Ygwk6GGkRMkCejqq8gal5kjHMiBY7/sR663pVspRYuMzOfq0Ahs7rw2AAzIyAjMyOh5qlJNO93u9s7W5ma33ozCSChpBBlgTagbdX9np/3w4d7WZufkfDgcDs/P+6PRNEmNL8FS3tjVQYgZUIo8TxDxdDIeJvHZ2flwNE609mVR8rk6Jx9E76NLo6u9+tSZ6IN8fb83cosVmcG4Dg/GIpJUyvd9z4EPoVldM4JErVbrdrubm5tRJVIyEZwiGQAGssLDasVv1KNaNRSEs9lsOBxPpnGqGWMzGc9GowlJFVarlXpNCCLKUVdzsNXFq80vzyWjdMWv4jYjtsay0ZlFnKnMhkhQZswDUob+g+isUpifb541YYGRrbHWYnZym3nFmBApCMJW0+7sbO/sbm9udXxfABljZ8CaOUW2Soooks1G1GhWPU8OZ+ksjuMktQxCSimsAABBAOhqB0iAkIjISTLt9y9Oz04Ho1GiTQ4bjYUy/4GPvKCPmC/9XrTKeKuqdfmYuwjJ/JOQwzhCJ4eNZQD0PM/zPCFk1iR1aU6YEdFTXhAEQeBLQUIgGhYErvAVABC1kliJgigM1FgaY41mo9kam8RJnGgUQgW+8j0SgGyzJNbL1yfzdSghzIgokLTlVOvxdHJ61h8Ox9PpTGtTPNlcTc8CD6vdE5lZShVFYaPRiCphGPqVmg8kAAwgAwgAQhRSqCAIoigMo8APPCGR0CAagJRQOxhtIa3nCd+XQiIAWGu11nGcJAkr3wqnuBMBEGCaJfMSMnCqOU7SJNXGWgaRjZZxfbT7fekT4WFcebP6baFCX7EArj7PPwetBlQ4/yLrBpIkiU61tUYqSVJkDDyXw5kVijmwGwmQksj1SQZEBwfOBqx1UMmep6IorESVwPeFlITIxuokTZOEAVBK6XuYVZYDZAy2LGuyRzLHgoQ1wcC8fMp1dZ3F6dlZ77vvnrx69fb09CyOE6NN7l0uIkxIQLm7aG4qs+WoEnU6nc8//3x/f3d7ZzOMfBCUadSZxsCE6HzmQggS5KBEBBKRQLBoLRvjijVJIBEKAUISAxhjUo1GMYiS3xSB2RqjiUBQsc9gXieBC67IO/IofSI8DNdx3WXMuVYC/9PTul0ciZQy1iZp0u/3B4OBsZakkEoKKUrgIcyYdTMHMMwmSabaJAyGkAWhQAIJwBIEQGoYtbY8ixMkUa/Xd3d3NjrtMPDTgdZJkiRJqq1hACFRSABkC3kTScxZES0zMDKzmO/BGSfzEicX+jBDkujJNO71By9fvf3uuycvnp/Gs6zfK1soW9DOtJ4vEQREEBLqddzd3Q3DqNVq5dvKXBIwg051EsfxLE6SxDISSQQhiAmlEsgM1qbWWGM5K1oSKH2s1qqVauT7vpJElHdayfKfwRqrtc4byjucPBZiCVTUhbuscwMWfVHebzXcANcy3zisvXk4/mPQvwJz3pYWA3KIiGgMJ0maJGkWVyHCDLE9A9zJEZ4sgmWGOJ5OpuM4ia11/cURjAEEYALmOLGTaTIcT6ezGBGbjUa9VvEkJUYDmzxnOHcgZaNxOO9YGqIzVxd9OfPWAkWMOCuVBCJAElJ4nqrWag8ODy1Tq/kujpNMFV/phIpFjxoXSkZUSkVR1Ol0Hh4+6HbblSjIvG6FY48BmJM4Hk+S0Wgymc7S1CIIZADQzICohCCU0trUNetDpCCMavVatVrxfE9IpqxuzuYZn9nukCEKGGC21hhjDbNgZtfo3NnkCGDtZZjYt1C2r+l7mE3QpdDEKwH6TzH/6V+EMK+eR6NNqrVDbUZakw7jyucss7UwmU4Hg2G/1590615EREAGAQkspLEejZLTs8HxaW84HgeVsFatVKPQUwKJndwmQGCLbPMQEXBWoLMyPIDrlgdmd0EIAErJKAo3NjAIo4OD/cFgaLRxZ5EklsA3C/GepYeQkFJIpcIgaDabjUY9qvgoTOaXZga0SICIWpvxCPr9i35vMBiMjW5aKRAEIIEQgNbaZDxJz89Hw+GUQdRqlWazWa1WfF9JoQkx70QBeSSMAMiYrMaPmS1ba4xlsmyJLcPa+SlovqHdkO5Kl+Z7Bv6NKddgrbVJksZxQkRzTCkX1aCsex0A5AfDeDB89er1zz//0m1Wgq2mH4osGKvNaJi+fn3644/Pfv7Hs2liHrQanU6rUa96kpQUypO+J2E0TWez6XiUY9YsrIF5UcJaypdMnr2UH2cMECGC7yuhVKPV3NzqJokmRLaMAGwKdJv8TuZnzGAPhCAhpCASUkghQDCDBpg3MEAEz1PMPBrBmzdvf/nl6cHh/sFGPdioBX6EZAGsTmZHRxc//vjiv/7rh+cv3uqUN3c6mxsbjXot8JUAk7dqcwxM7l6cx1tJz/fB9z0pBQDTQhe1Yqxr3Pe3pTvh4XsG/jTI4X4DWstGG4s2t0vzRKK5CupEBxkDsxkfH50+ffq806za2eYR71wSAAAgAElEQVRWpx76xMZMJ9PXr999881P33//S/9iVGk0NzY22q1mJfQ8RZ4vfF95nmSrk9kknkwcJgZk+LJzxkUuc+fKkFddHeQKeywAEoKnBEkhFfm+sNYSIgEVfUIguz1XwOZyPLhQG4kQXbkLGkADrJd0RiIkgcwwGup3746ePn2+v9HQs06jHvo+pelsOLj46aef/+f/++233/50djZodbe2d3ZqtYrnSeFC1XnUq7gbZCIkEkJ5XhiGURj6SkoBBepehi+d6QN3YCJ+Oj6te/pAQgBgC2mqJ9PpdDqRSuVAwuis5fwwdHnIro+p0XBxMXzx4pUvYHDybrvbatYjnaYXvcHTpy++/+GnJz8/1xY63e7+g71Wqx4GSpANQj+qBEHgWZ3Ek/FkNNRpVsTjMh6WtnXMs9YLBnPeZUIUgAIRc7SJLF/CGgZEIkDLnAIAoGE2gIQkMHMAW4A8Spwr8ISEaAHAWANAuY/NjaQctWbnLvCU5/vT1ML5+fnTp08bPp29azcb1TBUSTI9PT39/rvvv/3ux6fPTjRDq9U52Nuv16qeEggsXLc9x8ZZDhgay9pYBvL8oFZvuDImJQWCLTasTBXCu8mYuufhfxayFsBOp5Pzs/Pnz56dnJw3m03PU1EY5Fg8rgkLEUqX4QCAgkASJEn6+vXb03ev/xO0L7HTrBtthsPx8fHZYGgNQ2uz/ejxo88/f9RoREqhFFypha1uq91uWv3LxfnZ6dHRdDpjRiE8ayyx69Li+vO4Tn+MCECC0IlQa6xhtp6SnpJKCEkOVjcnhwCGzGhdGzIiJOWU0sweyIEZLWBZnmcuK0ILYJGctpvZwKWAV6Y8RlHY6UzHSLPZ7Kcffz59+SyU6Do2W7aTyfjVy5NeHwzD3oPm4YPDx589bDfroacE5qgErlCTJJAExtks6V8MR6OJ8oKdZvPRo0d7O9vNelXyDNk4uFDIQ9wu7+Nj5kvfiO5V6E+DiAARkbTRFxcX571zz/eU5ylPOW90Vg9UaLjMACwkNCu15uZmp10b9E6O370bnIOkE2YwGlIDlQps7rT++G9/+fNfvnr4aK9a85VkBOv5slINa7Uo8OUoTZPpdDaNk9iYCgpnTmcRl0xrZ7aUxVi1ZdbGpGlqTBrPpiZN2OjMXex6DwCUOK3IxMQ8Cay85C5ffuXWLHNzby6HLVtjNCKGoVeptziqIMF02Dvp9QZ9sDbL8oxjiCqwu9P4b//+73/+y9eHD/bqtVBJIDYZqpjzNVgGYEj0eDwbDiej0VR5/sbm5vbWZqNeU0KCBTDARar23T35u7KH7+kTICGEFIgYx3Ecx1qnSgkpxTyjKY/vZBEOtFJAvdV4+OjB7u7m6buKnvWP3oxGAwAAP4BaHbb3G1//+au//se/ffnV4929ThRKxJQ5RYVhxa/VK9VqmIyMTuLxaDybJVoHgor0yLkhnHufkB20KAAJIiJgy2yYrWV7XWfG1WW26oVZZe+SAgsLXM1stNHMxvNke7MbbWwqT168ffl80nszgsEAhIJqDZptePiw89Wf/vzX//jrF199sbvXFTKWwiK6Kiib2SlMkJpkko4G035vOBiOo1ZnY6O70e3UKhGVJoLncfCb+Oqvp+t4+Hrhfs/AnwxZCwCChFTKU55Snqc8Isy72+G8ixIwo2WwQmKjWX306MGf//TldPSg2/AC+T+ePxtJCc2W3Nnf+/Lrr//0lz8+/vyzza1WreZJ0sgpsAZfVBuV7kaz22lM4n4ym1z0+4PBsN0I/TBrAljGQcpWCTMACCHr9drW1mZCKtrZbDfrUejq+LjU97D40c0zE68U0WXJh9m31mhtUsumVqscPDrc3tnk8cOftxud1jfHJxMgaLS8x59/+fkXX/zhyy+//PqrZqvu+SgECdJsU+bUOfpBSNBgZuloODk5OT96d3re61fa3Vaz2Wo2At8rQCO5PBtrnH3vw003qFt6j7Pe069P1gJYaywS1mq1JNH1el0pSYVwyxIqOIcBtgCuR5EOQrm93Qm9jUaE3Vbl6OiYSNSbze7mxv6Dg939ne5GsxJ5SlkBhrVm1EjSD7x2q763szFLOAWazaazWaxTzb7HztkDvMC+bNFoJKo1ag8fHZIKty5GotU5ONht1KtSEIBelBkIQC7QVQod8eIBcNMVOm/jhO5/jE6dNpYtCqzVor29rYba2Gr7h4eb/f45EFVqtZ29g+3dvc3tzU6nIhUjpUQpoUG2WIZzM9Zonozj4XA6mkylUpVqpdGo+76HCNYavDZRvBjoNcBEy/ThuvR9+tSd03yp3Y6s0UYDcK1aBcZ2u6WUzCoSSyezzE6btQiWIdUxoqlUvL3tzkZTHex1ZtMpESnfr9ZrUTUKIt/zSEomSIk1k2Fjga3ny2ardrC/NY1NbzSdTcbj0SiOExNJJRwLZxXCnFX2srWahKjWosNHB81OZzBLEy9odNr1qi+zSoNl9RjLEjTH5cCF74tJW56xpTZlCzg4QAyUcTIYy0Z5stmqHXSig53aH/5wkCQxEkrPCyvVIIyCKFAeAyYAGsEgGFc8nOEoWwuWtTbjyXQ8nWnL9Wa9023XmzWlyEH5EnARZstugxfwR/KeOLlz/8aP/RIevp3wvSL+d0+3pfIiviUbszU61VoHoS+k6rRbvpKURSLLxyED5vhaYKyxNgVIleKwFVWjTdekDxHJ5U+TRrBgGMC41thECGw9pZqt2t7+5sVoOk1mx29ft1uVnW69Ww9QkesFw2ygYD3gDAhSyForDGth22KMREoqSok1gGZwRmaWdmkBHFpeLsvdycrTwiVpvMDGWObuhfl0troAFNLzUQoLiUVDiv1QhpHyq7VG3Wc2DkvWWEuSldSEFhEQmYCJLWZpm86lLMDaOI5Pz89Gs6kfBc1m++DBbrfb9DySxASWSrk1kCWZoM2cAy45DcvZWTcT2gD3cvgTozID31IaMxtjjdHWaiWlFBhFgSB0PmEHdOmyLxiQEYvCJXAOUzAAWimQJDAL2jj7zXG6zZD6C+BuQJQiCv12u9Ht1s/6veNe//zk+Py0u7PR8FUoBK1sHgxgGZDQEpKSQgApJItAqAkNsAF3OXaMxiURehndavlR7mlDJ4ctgkU24PYag2iBrFRISgKQw6xPNSAxkUG0iER5dGhOlsEYM0sGg8Hbo6PhZOyFwfbu9sZmp1oNpAAEA9a4fomFkpxhj+axrqwgccX0v8ntXe0JvKdfk9Z6WW+h4BijtdHWGiQQkoRwtjCXzoOQ9Q1yHzljzjq1GufKYcHVJpc2RQiWclgcCSSV57VajW632W5XEfRw0D85PrroX8ziFBBt1rihuJZ7WUZr0TBYQCsES2KnnULRQWF95IVLwyteZZ2FrnvNc9TcLmYBtDXWArMBNmxTZgNgnftcCBAClQQpgMgSMiHPUzWceev+pmY8mZyf94+OT6ZxElUrm9sb7U6jUvGVdJgGl9QLFdPzAcGm+xyPT4QuY9dbSGNX5OB+VYJAW1Iy50yVe40darlFYHT91BaHlAVlIS9+yq8GRMIX9Uat0212z5vvTippPH375s3OVjeKvMBvlZqeLdxaDmhhM1s5U7stzHMPV+/6DuYnPzJ7WWZtUm3SNAWtY6sTsMZ1CGE2zAZAEGLW0QuzuFj5DrJTWWvi5Py8/+7o6Ozs3JDfaNW3trqdTjMMfYHaFYQgwJ2h0S7SnfBwMS/3VvFvScZoa6wxFpGIpHTV/yuUdzayAAYQciHMUKACrKEskTD/H2Vwc4h+4NUa1c2tzm7/4uj49OKi/+bN21qtUq2Gvo8ZxgXAWrbMUXsAwbp8UM6L8paGfOXSuiUbLxThW2vZWrA6BZMiawKD4JqNChQEAgUQ5/1Oea4lFGueQOuz0/N3796dnp6RwHarubOz2WzVw8iTEoGBLND1d/H+dFdyeP2Oe0+/GjFzmqZxHBujlZKeCoIgEEQLbMwM1lpmCxYJlS98H3yPpER0anPOw4tP0bmSKFv+mbWcI7wS1WqVzc3udJYkSXJ8fHp+dt7vXUy3ukoFNA9oQeHIccCa7ELBFohcMz67cL0McbasFFx9/9ccMa+zz/LHHE6A8H0RBcaTrkuUwaInJmYoWZjFyZy+AIg0jycBAbDV5uzs/PT0bDwZ1+r17d2t3b2der2ilGA2yOaywfMnieNxz8a/GRlrJpPJaDyazWZhGNaqjWaz6fteUSAAxoDVJjGzeJaaNKoEGxvtaZo0t1z+LwJrdq3LlnPxy0pW/rnJ2BIFVarRthRE0mijpJJSMaA21mgrMjdYwcMWCLMmHY6REdi6UApb5iKV0vX7vbl05cuM6PkBlqQEC2wtGwYAP/S7G50HD/Ya09ne7ma7UYk8RQDMlp2HSeuFWJA7D3PuGEewFtgaw4k2QBhVK516a//hg929nWo1ImSdpgSGwTAbWobygKJV7yUwADelD8CXvvQ3cM/GvwkZY5MkTZKESPi+7/t+1lrArTZktiykDKNwY6P75VcUVuoPz3t+vfr40WG9WsmOlXLd48Nc8AJA7s7J/yOFiMKw3W4f7GslQwbsdLpBEHlKSTH3PCEBZNZmJtLKfbByDiys9EJZvQmVjOhLDyEgAQRoGNn4QdDutL/6+stmZ2MYJ82N7oP9nVollA7A2mTDLoqsnN+pUKERgLJOiyikane6DKoVm6je7GzvttpN5SkA5wDDHIK31GviThnk1vjSi1Se6KWt+p6Nf1Vycs1okyQpAAgpPc8ri1O2gChAeZW6F/j1dnt7d+9wMJ5YRc12o1GvISfOdXPJFZYkc953GhEABWGjqnBLRlGDAau1aqUSKQ9gzsM5c2ZFgqWzrb3iQqXkTafg8pFjZsNbFydDFYomqq//6B88nM2sVWFQa9Zr1YpCi2yc4WuZ2TLhXMAz5GhhrpqDCRFIBhub2/VGNzYg/SioN8KowgCAFtkCOyAV68DMMtgt5ye7IxfXXfm04J51f1ty9l5u8LIgklLOeVg4dEsBwgNAIUQYqbDabCfpRCeeLxGzOCnmYJGLPItzvzRncggAsnAuMCCRp5rNKKq2LYNUQkoASMDwChOKhbV7RbldBh+ds/zVK+uqcvpiZVpwdYyMgCQjv+vXOowGkQmZgJCFi0IxMVqCrCXSvOYZ83gSIkGeAEcQVLwgBAuChWTlGcvMljAroGTDwAYzkA8CNpeM8z3pPrb0e6RV6YSuB4uxbAwDIAkhpRREAGyN1XGapkmaGmsIQCAoIsVMqTHjJCZJSoLVMVqXJgUAcIm/JavTd7gzFjOsdwQhSSELw8gOWQMMYsKs5z1ZinStQrMrqwmX361jozXu6sUZuY6QXXA6Px5RAkuSCoRgAG21tYYyF32WUs4LHr4FXdp56xAsARITAGlAFtKSYCwc7AxWI2tPUqtVE54AotwdcGcIk/c8/LujJQbGgqOMtjo1OjVCKiWV53kkBIBJU31xcXF6enZ21p9OU8fAhMIyGssznaJAJZFNanVqtS43ZLp8DJQbdpkBJUgRSofJYdky6zluaxFqXpS6WHyC7JB88o8XKGfeywezvN/wwrelz5nLOwEBCyEVSYmIDpOATZaznZVnQp5LZRfmBHMAXmYLlhVKJDKATGSJAJHZAhtrNYL1JDbqlS+++KzVrIEnAEX5bq8gzOnqw+55+LelK2ObzoVbgEW4I/OEA8jAHxBYAAhreDKOhxfjyWTWakVBEAShD0jMZhanL1+9/c///J9/+9vf+72x1oCYIT0zs2GLhITgnNI8D5ysir4yV5chddx3lJ82895kqVcEV0jZhfaiy5dYc/jNPryCh+3iV5jFzBBtVtdb/u3c/1TiOYSSBuEw+jLdBNEiABIjkxPFrAVxs1l7/NkDpSQ9Pmy06sAu09M9yfl4LPOif7rkRFhRYcp0z8O/IV0X9LflZV2WA0uuRPcia1xnUkskSBA6aQBIQhBJBrSMNoPHMbkyCAgZkHnuZMlPuKZUrvxJdvWyb6q0wpwKSgDsAjmrirT70O1PpdMUpTs3pNVBrnWqF5/T4gHMWdHCpT9ePElGtnxg6dasZUCLiBaynHT3S8sMwAUk8A1qC3nN8rjEB3bPw78VXcnAVMCs5z5VwDkK+QLeBec5EWwtp6mJ46ToZqK1lhI95TVbzYOD/ThOJ+NYa15Z+tkZ5k19Ic+SXqB1avzCf4sPy8x8BQ/Pr345lT2m19Jq5Kb885wxruX61etf8axK0tMu3p0gRuKo4m9vdRvNque50FZuYqBdd143wlv4hu8Wm/beKX1DWp2rxZVSlocF3yKUeJhL7k0GAGvtZDI77/VPT89brXaa6lx1JD/w9vd3G43Gn/70Z0K5Vl8tDLRiRdr1PLz036tl9fxOC+WzvMrJRU3vhocL7l0rhxd5+OqT3Gi7WH8S12ICoADtsNokgjgIvUajqjzBWTEJI94Zv3wgD/M6Br5n5vejEhsv8DABl6IsUIA4lsUdWAuTyeT87Pzo6Hhra8sYLaVCssZqZCTCer1ar9cEyZvww2L1/OXOpOu5mteacNnRiPMqgqt47ybEK3+Lk0A+V6vfXnaeKw+4QkgW2GXWoY9Yo1NmIwSjJNcyEcAiuZzT6y51M7pzXfqegT+ESmYhukAlGM1JEsdxAoCCSCqlpJRKLNiQANaa8Xh6dtY7PjoejoZsWSlJpJmNMSkAKKVQyFItUU7MC1atS2Oef3A1F/F1LqWrtUKXIvLhC2ZFiiwrwDfhXoAbycZ1x7gJZAYwcwYWBIBCuPxqC2jBamaTb5FrYkvvl0F9tzx8z8DvRQsbcia3UBCQNHF6ftY7Pj598+ad1rZSqW5tbW5sdFutusNPB8h6OFhrJ5NJv9/v9601loRQSjFryHodMICBxQDJ2qGU/sJ1khDXHHZD0KjCLsW8oODSS1y7iUAGHvBBOvmSInn55a53R+WerAy13mYdj6XMnHj5GXJY6cxZUE4Iyy52M0l9V30P7+3h9ycH9eySgdxTM8ayTuJ4fHbWf/XqzbOnL37+6amx3G61v/76K88LGo2GQCga8LoX5817fd9XbsUgArhk3exSueR8Px5edoOtHINr5PylF+LFcxa+gCVNuEj/LH2+uOs5yzOH71pLNzGqb7J6l8HJLjmq2CjLDioGy1mWJVxag+Cgedius0HyXhlL9IF9D4vj7hn4Q6jgHAQAy2yMHY0mZ2e9F89fP3/+8pdfXvz04wutods9jSq1ra0du49CYLZq86whIhEEYbUKYRRKpQAgT4pctQ9vLGpKftZLhn3D017y22J9Z674pZNwiRnKXy1LrBwdbO0YMD/PTYZ3JRIuro7kksOYsiti7ifjjDmBbjGeJU7OKzcX6D629JvQZSs+e8xJkhwfn/zyy7Nffnl+dtofDseIEMdwenrx5tXR+eeDJDFSqDx9AgEQkTzPq9drnW67Vq16nlpYbbhwiStpybAsydiFlI/C5iybxFcr6ldcMQ+GrxE+MIcegfyKq640vkKQrDXaL6Mrj+SCja8+Ydm4gCwhh+dQ/befoqvonod/K1pl42xvZmatTZqm1rCn/Eaj6XtVJauvXx0NR7Ozs8FFfzyb6iDwRCZjs0wjIUQYBvV61Q+UoMITyzdz1ZSHsTSqfMDrC4wWj+Elfr7uWks+rbU8fOmQyr+6zKC9lYJwA/5kWD8PS8csXR3z3heAXM6zXH+m2+2DvwIPr4k3fPyL/i4oe8ClhFguUmSDIGi2mkL4xnCaQLPZm03NxcWrfn84GEziWLMlkAgu48qytUYIDCO/Xq8GgSckZahxWFT/3XBZXCvNrjhPubsir4juteeEhctl1VArqnKZ5mbhWn1hicpjvpku/Z4ysvSzrLyp+AxzCNsikQYWbRbE5VZY5TfX0CU8fEPb4XrCdTwM92ycExZ/MmJw4nR7a7vd2rAWraXxKH7y5NnTX14lCQyH4/FomiRGkMpa9QIkaTybTYmgXq8KiY1GLQgUCF4Ef3RMtdZcLF3+KtdG4YW6ko3L9mfmwLmJNzj/gBBEgcJ3ldFRGu3Ses28Riu/vYEd8f5KbnlaSsiCzt+GACugPIiFpyn7YcnRdfW8LdCN5PAd1knd0wotLlNERPKU56nAMgELZgqCpHXUj6IKIiSJmU3TeGaMRZnhJVqtdZLEzFYpEUa+7yshoMTA167jYgzXKqU3IV5YzTf1gRdEYEtyNZNpq+e5OXMuctfVxPZ6VfnyH8/FPhaf5HZ+vh8xMyIVCV1L9+V4La89uZFSfR0P28wzZj+Ija9Uje5plY2VBBQCBYAAS6HGSrUWhpEUkKZ2Okum0zhJtJTSHW+tTdPUWkNEnlJKSdeKYdGVhSv8vESrDLx08G2dz6XfLf/ISbwiSat8ZG4kI82t5TKsBxfo8R9nIfEVmvlVP7uJOY1IKxKx0G7ek24QH37vcy/QPd9eTbj4pgQIJ9DzVL1er1ZqUnmzYTIeTQeDURynvi+EFIDWGjbGALCUJED5viekKHmDyhJvScauKtKr71eP//CnyZmSuXyh/LYLBmaYV1m6Rg3usDW+pZJr7QMH+UFs/GvTx8aX/tA95l+IuCxwGKzJYW4QiaIwDMLA83xjkul0OhpN0iS11hdAYMFYm6baWEtEQpKUJCgHjJwzyWXsWv7wim/hNk/zSoYvby6YQ8UW37kkUzcPtmgsDqVeDZCp1gylG1y0JBcu9k++/O6qV8vVTo57IXwlLeG/Odg0NmA1mARsCmiVJ6MorEShlJAk6Xg0Ho+naerKgMloTlNjjRVC+L4vlczhTlfZcq3CfLUELtOHPE3HtFdvH5hD1hMwAQjLDo9eAAiHdgAgAWT2hiWwmPN2cZK5MflPzsBwHx/+JGhBArtPisJ0ApOyYaWw02nu7+/OZgkAnp31jo9Pq9UgCn0GTlMzm8XGGKW8SrXi+z4RreRCXOZDuvVwAeA2vHG1S6loHY5gETTrNGWwKFh6PhOBA57OkOWcq5oQEYhAIIAFm4JNgZzEdgDV/L7K8K9HeDfFHgDX83AOF05Id4zGd0/XkHvAFhCR2Pdlq93Y2d06Oj6dzqavX78+fLi7u7sJQIhCaxPHaZpqIaRSKotAcu4xKoOr3s2yuSsTCQEpU5iBIEkHF5O3787iFPwwbG9seWHIAKPh4KLfH16MdGoFeYEXVqqVRqNRrVXDyEdCZqZ5G1HI/GELQ/2EqKgxviu6kRy+PF/6Ckv4nj6cCjZm5YlWs7ax0YnC4OSk9+q16ff/EMeJMx21trPpLE01OUJktswW2QKttYd/3bvg8u0U5CxeyDRhplk8PT3tf/PNj8NRHFYbn/2Bq/WGsebVqxcvnj9/8+pdPE09GdTrze2t7f2Dg72Dva3tDT+QQgAAI2Eegy0zMF6ZAP3PQPe69CdLJQsWLbAJI7/dbnieHAwu+v3e6enpZDJjBrRgtE1SrbX2fU8QkYOkZSuWbd3fgo0ZLt/inRBGAAIUaWx658Pvv/3p3fGFDKLziySq1qaz6ZMn3/3040+vnpvpGHwFzQYcHu5/+dVXX349+PpPvLXTbTQDwqKqvhyvKkJVLkh7g/jop62Br6V7Hv40adnxw2w8T1RrlUo1IoGjsZ1Op1qnAAgkLKNOjdYGEaWSOSDeJyB/1gaY5/9BBsJMo0ZjYDpNzs+GL18cpZbiVJHyhuPhi2fPXr2Es2NIE1AE5yH0z1+dn0/OzsezlP+YfvnY26tWnNPLuNbC2cXzVC2GOaz0p0S48uZ96A55+K4ih/+atBT4WSIGsMqT1WpYq1U8T1qTzmazzC8tJDNqba21RKSUkqLoWorAlAOgrlUqL3PeXv0c78DfmwlKzLVda402OrGzSXrR497IzPRTSziZxcML0BqiCoAPrmfTyTFMp+eD8d/Q86Nao7vdCcKABJXE6HL9bc7GS7Hoj0crE7icanbt1Xl1K19L930PPwW6jCUKT7JF5UWRX61GQegRoTYwncymkzhNrSfYGk5Tk6ZGCFmJIiGFEK7y3wJkjQUusYrfLwBz4+OXXCXFMs5agjJbm0WLU22TFI0VIHUMgz6kkERNqDcrBw+CVr1SC0LWnEzSQX/8/NnxaQ9OTyavXr15e3w2GMWttq88oqxJ3DKsB2d/Vlli8UaW+ry+P/E6XkAouZbYwkr8b+kMN0W3vM+X/sRp7lJ2tRBB4EtJ1sJkOo3jJE2NEGY2iyeTyXQyZWaplBQyD13QCm7TqjRY5eo7pcs8nlgsUwsAwAaYEVAJ5axYKWFja+sPXz766g/7+9vdVq3GiZkMJkdvz/7z//n279/9/PYsOT+/ODnrnfcHO7vV0Drwz4xXsSgVmt/4ryld1sfbEYnnxRh34wy+jof5VvnS9+kc70d85X8BAMCykNLzlO97RGQ0TKfTyXQ6m82Y7Wg0vuhfjEbDNE2lkEKKUvjxioXya6VArB9Cnl+V4ZCw0/sFCSnA86HVqT7+/PO//m//y1///cv97XajEoG2w97ozcsjk8DFYHw+fD4cDs/Oer3+RTzr2siTSDhP5LraG//r3PuvwRF3qEvfM/CH0NVTx87DSgI9TwqBSQLD4XAwGA4GQ9/3Tk9P3757N5uOptOHrvyYyAFFX/FQft0cpkvZuOg44wQzW2M9D1stfvjosy+/+vqLL77Y3tmqVT0QAAjVqr/RbT54sLPRbXve8yRJR6PJcDhJ0tRaWarCLSe0rN7mx7v33yCMd++X/r0QA4IUVK/XWq1Go3nBzJPxZDgcM9vxeNzv95N4kiQJiaxTy2894JtTFgbPCimtJZJRKDc2Njc2t5rtdhAEgBp0AqlGgiCgZqNar0aB7+mUdWriONGpYdeAcTkevMpUH3vz+rXZ+K7ypd+DuPS6p+sIAYCFpHa7ubu7s7XlI+J4MhkMBmmqkySdzWaz2cxam+nS9LvgYV58WWbr4FOlUtVqrVKtBUGIBIH3J8MAABCmSURBVFonaTLVesJ2JoWNQlWp+GHgCSIA0NpqbazJzT3EDOuDl6TxP2cG9W/Fw7zyuqfLCR26BSgltre3Dg8fHBwcWGP7vf75Wc8aFkIqqTzl+b7v+/7dpvJ9VMpcUGyBLZfAZdmVrrvFwQbRAmgEjZAAJkSplCwEksjK6a021hp2edfFKzsT3oyBP/I6zB3dOdrSnbHer8DDN9n57tl4lRaXHQEAC0HVatTtdlqt5mw2Oz4+ef369Wg8FiSrtXpUqfi+T4Lo7tbHR6dC9S2WeC41nVx2LA5giCySATIImtAgGCIuYkjWGjZ24bTF2xstwd/xCvzYD/uy2fsnVGk+Ai3OEqKQDrmyVq/X4zg5Pj5+9er1Rf8Cker1Rr1eD4KA6PfDwAAL9zhHUAdAdNVKgJazNg7uZRAMgiXkrEwRAZwQLyK6WV9yAsxi45hFmy6j3zEDw0f2aZWX4PqQ96Ktck+X50sZA0hAFIR+vVFrNhskaDQaHx8f9/sXANhqttLEq1SqSkkkAhLIttyi+pOk/Lmvs6iYLSDnQU0LwIQMAJhzLyETzgPCl1whw5f8RBj4Y5QH3ZyHb9cTdYWBi/erbAz3DAwAV2VrMYNOARnAFySiKGo06pUoTOLheDIZDIZCYhhGgU9h6BMRZNjxvwtaXiSc4WVZBrbs/vLcVEYkcqXGFsBYNpYzwJNlL17GLlcvrY/NwGsysa5l48V1cP0Ir+Xh5VMwA9ul4nJ30aWUIFo54LIB35Ojy4wOAOY0TYlACIlIQeDV69VKNRoMRnE8GwwuqtVISOGpyPe9LMWSr+4/BJeHQO5qWa+cH1e/LX+RLXdGBrSWLQK7Un9EBMxKKLHoyOJ8YOzysSwhQKZXF+fELHPk0ttZvdO1AuY9iK+UT/mYeM2XlMW4nf5f4I0tqSgLP7whD3PuObDWWmOtEADMYEzOqgVM7lrduHw/qxP6G4TFfxW6qw2+mDQLYEFiFHm1WhRGHgBPp6PB4IIEeB4Ggac8AWjmB18zjLVf3aFcuvxUTtaCaz7kCBmBESwbzq1fAksAgMCISAKBgYGBGIid24uBgAWwEEAO1oOzJt0LNQZrlti6rYp57lKb0+UGzjX3fg0br56J0IH+OavBZE1PV8T40v+uxfEoRdgyzSR/OeyyZSyya9XjfymBfGf8kGERIwNYqUQY+ZUokAqSxAxHF34gpQx8v6IUAViXK3HjpfZR6Tq1cf49IiIDk0AkQLIIBqwBNgACAC0DsoPcIc4DNIIA2SBYQYBLbZlyFeaSUd1w/7psWV6rDl/77dJmUYg9Rs52s5LasfDjpY9u7cNERJFP84rf/v3C6P+sDq27vC8kpMzKZSnnPVmYYTIZzmZjZqN8JaSAIuKK/GHFN78KFY2IKMe1Q0YCQpuXHwFbttaJSAIkw5mi6ZRngSzQ5hZybk1niZu8bknexFj4Fezk1dd7jucmPq3CZZ/tfgD51CP93v3yH5nWuDTel5wqZAGsEFSJwm63XW/URqOz8XiUJHUhKQwDz/fQddnLrr+6a39qO+ZcfWMAyzbVidZgMGXWAlkgEwIRonVNthHRMIAFa1xOF6cIBlhjIdnYuaGxAAG6lYuodCR8zLkqN2SC7LksOOHKbuCrxnxDHp6/Fkqrb9JP+Z7ugshtlwjABoCUEs1Wo1qJiM7G4+F0OgZgz8uq/5ltVlu/QJ9mFKDgYQQAJBSSSAALQDBsEzYpAiIz2AKNw1XRWRIgBABqtglCyXc9P2dmNpcAAH41eXOTLWCJjWHFJ32jDfeGsaXs5l0PGMsgeHU6PqmV8YnQh+/lZXuR8qwmJsJGo1avV5WC0SieTCdGa6mkVBIASrmWn/xDcZIHCZCEUkEYtNqNjdE0JVmpeJ4CAo0sgBmdbszAwFKJSi3qdKrkTxv1IPBJCha5rQHAYB1LZ+IdAXIF/LbuqNUnuM5RfBXd1q4s/81q0K7+zQ380uXowIINjICUN/X55NfK75gcqFvhoWEhhB947Xaj2aoHgez19WBwMZ1NpRCCSAjX0xSyqMHc3im5Jz8dYgYkEAShbG2Ih1b8x38fHX7eT5H2Dg93t9qVQEia+74YQSrZ2Wz96S9fqko4nqXtza3Dw61GM/I8AjCAPAflLX4FnEvjmyvSlwWlbsjDNzSjbjYepCsOvJyHEWBF2Gat2pjZwu8oJ/c3pSvik7c5y7wPIABbIbDZrDcaVd9XSaJns0maxCSQBAEUEQQAFItX/8QYGJCdOxkQECEKN7fVf/u3Pw3HsUasNhv1ViMMlEALtsiUZJJUb9YefnZQbTUMiKBSaTSrtWoghDM0Ms/W4rzfkIEZAEpR5ctCobeaxlscvHC9ouXWdSe4q1zLe8/WZfSB0o8X37iAISol6o1qq1WvN6qeNxUEJEBJKYRgtsgECCDEh47941PW4gIYGEAKqPmHjx5Yi5YQpWRJiIxsc+8UMwASqMDb2tpodjqkPJJSSCTUgGbukwd32sKp5T6/8bCQ///2rqXJjdsIf93AcMmluGtpxZUsl14lx7KVSw7JPYdU5efn7ChJpZykKo6UdVZStBJJdPuAmSHmhRmSwxXlna9UK77QeEx/6AYaj4DG+4GWXlGeM7L35Du5NkkdOJxdhNrWAgOH49gloohsQ2x6QqW15vR0du/e+cOHX11cXMzn8/n87Hg6MYZE1Jj88u5DXy+tqtmtFAq3AilGltlwdl6cqCN4DmvmGwJMPOKRJZCS8Yu0HMSlN7Ah11jKLk0vTPjGixQE5GqjPn3EGkq+Ucbfda5a/V25EPl3cQ4r4MPNAz/3ivj0Y9Bjq0LV742dTCb37p9/8/xrm9iTk5PHTx7NZlOb2HRAqDh454gAMBsC0kvDRVLfURXiawsioZJjzOneYFqfp6eAA1zJ9cyuHldFx8X+5SmlhucSp3HbZHI5XZZdWPDs5qiIkNTl77BOK+sbiKD+enJVVRFnUv8knLIeUIs4l+KPfK0umjU2QYnUWJ7Pz55/+6uzu2eT8fjO2e3prWNrGFARhSig1Zt9Du0xeTKqaupOqwCiuvJ7DsEwzBosetbUdKtPK+llakgXeLj14s2spqpBrduZzNX2qj6dqINbdpI7QH3fQ0QEMv54gCyxFv+FvQxIAYpzmPP7rFI4keVy+fHjR2udcytip7ry2YlKZev5Fnbg0FYg7IiwBapNQYFP1FTrfBicP0IFHBGYaTIdP/jq/t35mWGTjKxNrEv36mV5uVCOAtrj8RE7Q7G2JaDA21XNFh44dZpOyebhX3FgdT69X62gFFixVGPDgWTqk6CDbkl4kECRMMWSo0G383mo1qw062DJL0Ejgh0lgFUmIYiqqCippjPttaqiAEU5XDH6TExkiAylIT1/SawCYBWgdLtaXINLNc9f/FI5XIuO9dVs/fM6sKdgm4ymNpn64F4aMagskadQlbU12LgH1LcAqY9J1lSfyi9D33X9tzjEC40VAKJ1qg0MCZcdlSqNIwRGPphdd05Nvyt0LExgUAI1CnZ+Gp6ZjOkS/olz2HssaTWYDHPCPGIesVFjhCg/A0lVpeEYJ+0wQV5aZTagAirbB+fUGJOvAVAVFQGpSpHDHHIYDc9or2jgMKhFzf2vatZXVF8jULNwRqox98ayljisoajgo0a3KbPDHZqZUv8CBFYwkVVNRNg5I8oKw2zXKzLWIeLAGrePh5kgEM26f2WFVTEiFqmyiIqk3nv9xFdWzH7M0Y1FtlNvDX/LH8Mfa+GVj7ylLaasNyzXiZpHn00ax9WiViuanLtqE22DrleaNOaTcbirTSJmVhDAqiyORayoFbEK4wQu3wZOpX6E8v86+NJEzIbIfFi4//x48cPp9P3V+9GIrAWxqsTP9yh5OC01v9mIN1HtcHptV3XdUWa2o/BV4ZP9Y4OMmqsdnyMo/XaLyZcG6bK7nKaBdPlnnJlZBQOsQqDRxcXV23eLjwsVsURWkW3tCj2LwGS2cphAhjlZrfTy8t2fX/79/fu3pyfjoyNjLZGPvjfOdQZaFa9OWr4bTuPNtNAfAefPgl8fB5c+4PRt7Unx+2dyJCpTQHxkuSF6ENPrba+djDCtyekn4TgZTd+9W/7zX/9983YxPpqwOWKTAAxJr3lNXdtASusaDyayCnP55v1f//YPkeXJ7GiUwLAAIior55ysOy4i9t5I2BxaP0FfrfPA4V4kxORciyne7FFu0nVFJPdTr/5o3C6HicJOVkHMSTKauJV5+fKHxQJPnpyOx7eORhP47S4NUqMcJkBJnC6Xsli4xUKhyeTo5NatMRsVt3IiTorHggIomAV09ytuPIe3gEbflnGNF7hs8DQVgZ/Y+tN6yR11rFt5eqBxe7/ky8rpnIAfyhORAdkP4ow5BjknvFz6Y7PXFtgfL7aJHfYDXjbj8fGd23efPfv22dOH8/M7hiHqRESUNBuLpMG6CoF9wClqAQYCb4HNCOxxXTTegFQKaKdVVKGSUOWrfrD7YDgrSgc5km1G84eOgIjMcik//e8tMH316qfp8YkI3CqYCd/YDiucCBGdnc2/++7XT548/uMffv/8+dfn52fWMjMRsYL92j+/fqtaHSLu0C599qOfIVon/Gp/Hw/a1ccJovcw1U+b7YDm6FHBMVTtOutJxbf9Y/ertsPFKvEicrpiFBmNYe3o6mrx7x9fPX36p++//8tq6U5Pv7BJUpMLUU63Rg6rQJwDMJvNXrx48cXpCcH97re/uX9vfjw9hgr8Zhkw8mUDVSeEmr9a53TjCdxORWr4fUT167S80Qg3DaQ3fTTVMVT3hN0jF1ShdBcJ3cvS07x0lxhxHrVJiWJvq8xmd1VH5+cPPlx9fPTo8Ww2WzvS2ZGHoWhq8v5VsFquEmsAff369dX/3xlDD768h1ECCFYLsAHbOl3ZlI1NYcDuySM4fDnapvoRZd2Qw7FS9Sunr9xLJQn/VpsFzW9bxdaWags0eft18tfXMirSeDkBBiKXl28uL98sF8sHXz6YTCdgqMsOoczTZ1u+mjmsUCdsGAQ4XS0Xqi6ZjAGFrABkWRabcktrGj6ekk2I6FY1baEG0eTxMlyDnCoPQ+2MyLyxHK6Wp8ThCKXjAquiqhJa9bBJWjOC0E06SyVIp6BFl4vFyrnJ5NibaHVCROUtGT6z2CycBGfXikIFxkAF6jICF4u7vTsc53Ctj/cL4HCJz3VNWiNz0/bpiB7l5Gk3TbXjvMn+ONx9rLHdwLDOERNVFcoOclDnwJVtaD5BjMNh1+Y5nA59883VRYk7DWmbHoBW1KvqR3Vxh7r0o9csp8rhiJx4+1QL8wk5XFGMVFRrQnSmcZPM2m6uVVqXjrv6SV8EDuWnabWwVSH9pCmyE7fDWtj+4bPIz6PVYnF3InATigOGNJuIvWqVU8KByCk8v01kHni9NpLTl7+TS+vI4XiHW/WomwYLuxC4kneRsRECo0t8uKasWtG5vRDYyy0VYAsC18oJvzoQOVvYrs+iXh3lRNJGkuwP8fLUkn8/dqy45LFK5g7naVU1TSrHHewRpabcurfrq8C9y6nWbjs5O+IQ5PSrVNRmirt0KyF60cPNUHWqq4j60vgkW17qCxK8/rQl2QdqfekBO6L7eHg7mYfyvFo4jG49wYABAz4VDud0pQEDBmyDdjs8YMCAQ8ZghwcM+LwxcHjAgM8bA4cHDPi88TPagAzeiBb4GwAAAABJRU5ErkJggg==)"
      ],
      "metadata": {
        "id": "JsrLGmYocysL"
      }
    },
    {
      "cell_type": "code",
      "source": [
        "# Número de dados da amostra\n",
        "n = len(df_cs)\n",
        "print(f'n: {n}')\n",
        "\n",
        "# Proporção amostral\n",
        "p_chapeu = len(df_casas_cs)/len(df_cs)\n",
        "print(f'p chapeu: {p_chapeu:.02f}')\n",
        "\n",
        "# Proporção populacional\n",
        "p = len(df_casas)/len(df)\n",
        "print(f'p: {p:.02f}')\n",
        "\n",
        "# z observado\n",
        "z = (p_chapeu - p) / np.sqrt((p * (1-p)) / n)\n",
        "print(f'Zobs: {z:.02f}')"
      ],
      "metadata": {
        "colab": {
          "base_uri": "https://localhost:8080/"
        },
        "id": "XKE3XbOKc3_e",
        "outputId": "35409b07-b2eb-4f5c-fe10-a5e6241f8c15"
      },
      "execution_count": null,
      "outputs": [
        {
          "output_type": "stream",
          "name": "stdout",
          "text": [
            "n: 122\n",
            "p chapeu: 0.48\n",
            "p: 0.61\n",
            "Zobs: -2.99\n"
          ]
        }
      ]
    },
    {
      "cell_type": "code",
      "source": [
        "'''\n",
        "Partindo-se de uma probabilidade acumulada p, obtém-seo valor de z_critico (exemplo: p = 95%)\n",
        "'''\n",
        "z_critico = scipy.stats.norm.ppf(q=0.95)\n",
        "print(f'Z crítico(neste caso negativo): {z_critico * (-1)}')\n",
        "\n",
        "'''\n",
        "Hipótese e Resultado\n",
        "'''\n",
        "print(f'\\nH0 : p = {p*100:.02f}%')\n",
        "print(f'H1 < p = {p*100:.02f}%\\n')\n",
        "\n",
        "if z < z_critico:\n",
        "  print(\"Ao nível de 5%, de fato a proporção de casas à venda na zona centro-sul é significantemente menor do que a proporção de Manaus.\"\n",
        "  + \" Ou seja, H0 é rejeitada.\")\n",
        "else:\n",
        "  print(\"Ao nível de 5%, não é possível afirmar que a proporção de casas à venda na zona centro-sul é significantemente menor do que a proporção de Manaus.\"\n",
        "  + \" Ou seja, H0 é aceita.\")"
      ],
      "metadata": {
        "colab": {
          "base_uri": "https://localhost:8080/"
        },
        "id": "WlDq4LEhdv9F",
        "outputId": "ddad25f7-34e8-49b5-d3cf-ce6ecc7e3901"
      },
      "execution_count": null,
      "outputs": [
        {
          "output_type": "stream",
          "name": "stdout",
          "text": [
            "Z crítico(neste caso negativo): -1.6448536269514722\n",
            "\n",
            "H0 : p = 60.77%\n",
            "H1 < p = 60.77%\n",
            "\n",
            "Ao nível de 5%, de fato a proporção de casas à venda na zona centro-sul é significantemente menor do que a proporção de Manaus. Ou seja, H0 é rejeitada.\n"
          ]
        }
      ]
    },
    {
      "cell_type": "markdown",
      "source": [
        "## Hipóteses de média\n",
        "\n",
        "*Obs: rodar a célula da zona centro sul antes de rodar o notebook abaixo* "
      ],
      "metadata": {
        "id": "DGVAAi3Ccik1"
      }
    },
    {
      "cell_type": "markdown",
      "source": [
        "O universitário agora sabe qua há bem menos casas na sua zona de deseja do que a média da cidade. Agora está em dúvida entre uma casa e um apartamento, e decidiu se decidir pela médio do valor dos imóveis. Com os dados que possue, ele sabe que os apartamentos da zona centro-sul custam em média R$ x,00. Ele deseja saber se o valor média de uma casa na zona é superior, ao nível de 5%."
      ],
      "metadata": {
        "id": "Vid0i4wglyFd"
      }
    },
    {
      "cell_type": "code",
      "source": [
        "import statsmodels.stats.weightstats as ssw\n",
        "\n",
        "# Valor médio de um apartamento na zona centro-sul\n",
        "media_apartamentos_cs = df_apartamentos_cs[\"valor\"].mean()\n",
        "print(f'Valor médio de um apartamento: R$ {media_apartamentos_cs:.02f}')\n",
        "media_casas_cs = df_casas_cs[\"valor\"].mean()\n",
        "print(f'Valor médio de uma casa: R$ {media_casas_cs:.02f}')\n",
        "\n",
        "# Adquirindo valores de: estatística teste, valor de p e graus de liberdade\n",
        "model = ssw.DescrStatsW(df_casas_cs[\"valor\"])\n",
        "(estatistica_teste, valor_p, gl) = model.ttest_mean(value=media_apartamentos_cs, alternative=\"smaller\")\n",
        "print(f'Estatística teste: {estatistica_teste:.02f}')\n",
        "print(f'Valor de p: {valor_p:.02f}')\n",
        "print(f'Graus de liberdade: {gl:.02f}')"
      ],
      "metadata": {
        "colab": {
          "base_uri": "https://localhost:8080/"
        },
        "id": "usZsNWa1mSIn",
        "outputId": "3bba2e33-0385-4c20-aed2-60bdfae05417"
      },
      "execution_count": null,
      "outputs": [
        {
          "output_type": "stream",
          "name": "stdout",
          "text": [
            "Valor médio de um apartamento: R$ 883127.61\n",
            "Valor médio de uma casa: R$ 1107811.10\n",
            "Estatística teste: 1.36\n",
            "Valor de p: 0.91\n",
            "Graus de liberdade: 57.00\n"
          ]
        }
      ]
    },
    {
      "cell_type": "code",
      "source": [
        "'''\n",
        "Critério de decisão: valor crítico\n",
        "\n",
        "Regra (teste unicaudal de cauda inferior):\n",
        "Rejeitar H0 se (estatísica de teste <= valor crítico)\n",
        "'''\n",
        "\n",
        "# Valor crítico para unicaudal da cauda inferior\n",
        "nivel_significancia = 0.05\n",
        "valor_critico = scipy.stats.t.ppf(q=nivel_significancia, df=gl)\n",
        "\n",
        "print(f'Estatística teste: {estatistica_teste:.02f}')\n",
        "print(f'Valor Crítico: {valor_critico:.02f}')"
      ],
      "metadata": {
        "colab": {
          "base_uri": "https://localhost:8080/"
        },
        "id": "OCXQvr6Dvyfm",
        "outputId": "d1288bc2-1ca8-49b5-ee6c-880c7af1f416"
      },
      "execution_count": null,
      "outputs": [
        {
          "output_type": "stream",
          "name": "stdout",
          "text": [
            "Estatística teste: 1.36\n",
            "Valor Crítico: -1.67\n"
          ]
        }
      ]
    },
    {
      "cell_type": "code",
      "source": [
        "if estatistica_teste < valor_critico:\n",
        "  print(\"Ao nível de 5%, de fato o valor médio de uma casa na zona centro-sul é menor do que o de um apartamento.\"\n",
        "  + \" Ou seja, H0 é rejeitada.\")\n",
        "else:\n",
        "  print(\"Ao nível de 5%, não é possível afirmar que o valor médio de uma casa na zona centro-sul é menor do que o de um apartamento.\"\n",
        "  + \" Ou seja, H0 é aceita.\")"
      ],
      "metadata": {
        "colab": {
          "base_uri": "https://localhost:8080/"
        },
        "id": "lUPb1QIzx_Q2",
        "outputId": "9fd46a11-9551-4902-9563-5c8af2c7f6dc"
      },
      "execution_count": null,
      "outputs": [
        {
          "output_type": "stream",
          "name": "stdout",
          "text": [
            "Ao nível de 5%, não é possível afirmar que o valor médio de uma casa na zona centro-sul é menor do que o de um apartamento. Ou seja, H0 é aceita.\n"
          ]
        }
      ]
    },
    {
      "cell_type": "markdown",
      "source": [
        "Vendo que sai mais em conta comprar um apartamento do que uma casa, o universitário mudou de planos e vai em busca de um apartamento. Mas ele ainda deseja economizar um pouco mais.\n",
        "\n",
        "Pretendendo morar sozinho, não precisa de mais do que um banheiro. Mas pensando em receber visitas com certa frequência, ele gostaria de um apartamento com dois quartos ou duas garagens.\n",
        "\n",
        "Com seus dados em mãos, o universitário sabe que um apartamento com dois custa em média R$ x,00. Ele gostaria de saber se um apartamento com dois quartos teria um valor significantemente diferente em média se comparado à média dos apartamentos com dois banheiros. É claro, ao nível de 10%."
      ],
      "metadata": {
        "id": "rNP-WYHXywdB"
      }
    }
  ]
}