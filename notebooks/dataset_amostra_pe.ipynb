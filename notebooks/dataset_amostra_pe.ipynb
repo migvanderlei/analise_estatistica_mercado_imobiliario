{
  "nbformat": 4,
  "nbformat_minor": 0,
  "metadata": {
    "colab": {
      "provenance": [],
      "collapsed_sections": [
        "UaVz8qPDKQIK",
        "Vn-12c4ymluY",
        "ER36xwZdcPD-",
        "8vtHdsHjhJVW",
        "jwy6-M0lCqgT",
        "n1N_K8QYDUhG",
        "eKoxidwkYD84",
        "3EaxPG-b3fj_",
        "3yfySFemPsUI",
        "6KRo2siJQCTH"
      ],
      "toc_visible": true
    },
    "kernelspec": {
      "name": "python3",
      "display_name": "Python 3"
    },
    "language_info": {
      "name": "python"
    }
  },
  "cells": [
    {
      "cell_type": "code",
      "source": [
        "import pandas as pd\n",
        "import matplotlib.pyplot as plt\n",
        "import numpy as np\n",
        "import seaborn as sns\n",
        "import math"
      ],
      "metadata": {
        "id": "5Cj8rqaJ7pq1"
      },
      "execution_count": 2,
      "outputs": []
    },
    {
      "cell_type": "code",
      "execution_count": 3,
      "metadata": {
        "colab": {
          "base_uri": "https://localhost:8080/",
          "height": 73
        },
        "id": "4dJsXTyN7JOM",
        "outputId": "946cf679-1c0a-4088-a10d-a4ee25c88972"
      },
      "outputs": [
        {
          "output_type": "display_data",
          "data": {
            "text/plain": [
              "<IPython.core.display.HTML object>"
            ],
            "text/html": [
              "\n",
              "     <input type=\"file\" id=\"files-811503e8-281a-46f7-a6ac-c7dba4b1e064\" name=\"files[]\" multiple disabled\n",
              "        style=\"border:none\" />\n",
              "     <output id=\"result-811503e8-281a-46f7-a6ac-c7dba4b1e064\">\n",
              "      Upload widget is only available when the cell has been executed in the\n",
              "      current browser session. Please rerun this cell to enable.\n",
              "      </output>\n",
              "      <script>// Copyright 2017 Google LLC\n",
              "//\n",
              "// Licensed under the Apache License, Version 2.0 (the \"License\");\n",
              "// you may not use this file except in compliance with the License.\n",
              "// You may obtain a copy of the License at\n",
              "//\n",
              "//      http://www.apache.org/licenses/LICENSE-2.0\n",
              "//\n",
              "// Unless required by applicable law or agreed to in writing, software\n",
              "// distributed under the License is distributed on an \"AS IS\" BASIS,\n",
              "// WITHOUT WARRANTIES OR CONDITIONS OF ANY KIND, either express or implied.\n",
              "// See the License for the specific language governing permissions and\n",
              "// limitations under the License.\n",
              "\n",
              "/**\n",
              " * @fileoverview Helpers for google.colab Python module.\n",
              " */\n",
              "(function(scope) {\n",
              "function span(text, styleAttributes = {}) {\n",
              "  const element = document.createElement('span');\n",
              "  element.textContent = text;\n",
              "  for (const key of Object.keys(styleAttributes)) {\n",
              "    element.style[key] = styleAttributes[key];\n",
              "  }\n",
              "  return element;\n",
              "}\n",
              "\n",
              "// Max number of bytes which will be uploaded at a time.\n",
              "const MAX_PAYLOAD_SIZE = 100 * 1024;\n",
              "\n",
              "function _uploadFiles(inputId, outputId) {\n",
              "  const steps = uploadFilesStep(inputId, outputId);\n",
              "  const outputElement = document.getElementById(outputId);\n",
              "  // Cache steps on the outputElement to make it available for the next call\n",
              "  // to uploadFilesContinue from Python.\n",
              "  outputElement.steps = steps;\n",
              "\n",
              "  return _uploadFilesContinue(outputId);\n",
              "}\n",
              "\n",
              "// This is roughly an async generator (not supported in the browser yet),\n",
              "// where there are multiple asynchronous steps and the Python side is going\n",
              "// to poll for completion of each step.\n",
              "// This uses a Promise to block the python side on completion of each step,\n",
              "// then passes the result of the previous step as the input to the next step.\n",
              "function _uploadFilesContinue(outputId) {\n",
              "  const outputElement = document.getElementById(outputId);\n",
              "  const steps = outputElement.steps;\n",
              "\n",
              "  const next = steps.next(outputElement.lastPromiseValue);\n",
              "  return Promise.resolve(next.value.promise).then((value) => {\n",
              "    // Cache the last promise value to make it available to the next\n",
              "    // step of the generator.\n",
              "    outputElement.lastPromiseValue = value;\n",
              "    return next.value.response;\n",
              "  });\n",
              "}\n",
              "\n",
              "/**\n",
              " * Generator function which is called between each async step of the upload\n",
              " * process.\n",
              " * @param {string} inputId Element ID of the input file picker element.\n",
              " * @param {string} outputId Element ID of the output display.\n",
              " * @return {!Iterable<!Object>} Iterable of next steps.\n",
              " */\n",
              "function* uploadFilesStep(inputId, outputId) {\n",
              "  const inputElement = document.getElementById(inputId);\n",
              "  inputElement.disabled = false;\n",
              "\n",
              "  const outputElement = document.getElementById(outputId);\n",
              "  outputElement.innerHTML = '';\n",
              "\n",
              "  const pickedPromise = new Promise((resolve) => {\n",
              "    inputElement.addEventListener('change', (e) => {\n",
              "      resolve(e.target.files);\n",
              "    });\n",
              "  });\n",
              "\n",
              "  const cancel = document.createElement('button');\n",
              "  inputElement.parentElement.appendChild(cancel);\n",
              "  cancel.textContent = 'Cancel upload';\n",
              "  const cancelPromise = new Promise((resolve) => {\n",
              "    cancel.onclick = () => {\n",
              "      resolve(null);\n",
              "    };\n",
              "  });\n",
              "\n",
              "  // Wait for the user to pick the files.\n",
              "  const files = yield {\n",
              "    promise: Promise.race([pickedPromise, cancelPromise]),\n",
              "    response: {\n",
              "      action: 'starting',\n",
              "    }\n",
              "  };\n",
              "\n",
              "  cancel.remove();\n",
              "\n",
              "  // Disable the input element since further picks are not allowed.\n",
              "  inputElement.disabled = true;\n",
              "\n",
              "  if (!files) {\n",
              "    return {\n",
              "      response: {\n",
              "        action: 'complete',\n",
              "      }\n",
              "    };\n",
              "  }\n",
              "\n",
              "  for (const file of files) {\n",
              "    const li = document.createElement('li');\n",
              "    li.append(span(file.name, {fontWeight: 'bold'}));\n",
              "    li.append(span(\n",
              "        `(${file.type || 'n/a'}) - ${file.size} bytes, ` +\n",
              "        `last modified: ${\n",
              "            file.lastModifiedDate ? file.lastModifiedDate.toLocaleDateString() :\n",
              "                                    'n/a'} - `));\n",
              "    const percent = span('0% done');\n",
              "    li.appendChild(percent);\n",
              "\n",
              "    outputElement.appendChild(li);\n",
              "\n",
              "    const fileDataPromise = new Promise((resolve) => {\n",
              "      const reader = new FileReader();\n",
              "      reader.onload = (e) => {\n",
              "        resolve(e.target.result);\n",
              "      };\n",
              "      reader.readAsArrayBuffer(file);\n",
              "    });\n",
              "    // Wait for the data to be ready.\n",
              "    let fileData = yield {\n",
              "      promise: fileDataPromise,\n",
              "      response: {\n",
              "        action: 'continue',\n",
              "      }\n",
              "    };\n",
              "\n",
              "    // Use a chunked sending to avoid message size limits. See b/62115660.\n",
              "    let position = 0;\n",
              "    do {\n",
              "      const length = Math.min(fileData.byteLength - position, MAX_PAYLOAD_SIZE);\n",
              "      const chunk = new Uint8Array(fileData, position, length);\n",
              "      position += length;\n",
              "\n",
              "      const base64 = btoa(String.fromCharCode.apply(null, chunk));\n",
              "      yield {\n",
              "        response: {\n",
              "          action: 'append',\n",
              "          file: file.name,\n",
              "          data: base64,\n",
              "        },\n",
              "      };\n",
              "\n",
              "      let percentDone = fileData.byteLength === 0 ?\n",
              "          100 :\n",
              "          Math.round((position / fileData.byteLength) * 100);\n",
              "      percent.textContent = `${percentDone}% done`;\n",
              "\n",
              "    } while (position < fileData.byteLength);\n",
              "  }\n",
              "\n",
              "  // All done.\n",
              "  yield {\n",
              "    response: {\n",
              "      action: 'complete',\n",
              "    }\n",
              "  };\n",
              "}\n",
              "\n",
              "scope.google = scope.google || {};\n",
              "scope.google.colab = scope.google.colab || {};\n",
              "scope.google.colab._files = {\n",
              "  _uploadFiles,\n",
              "  _uploadFilesContinue,\n",
              "};\n",
              "})(self);\n",
              "</script> "
            ]
          },
          "metadata": {}
        },
        {
          "output_type": "stream",
          "name": "stdout",
          "text": [
            "Saving data_amostra_2.csv to data_amostra_2.csv\n"
          ]
        }
      ],
      "source": [
        "from google.colab import files\n",
        "\n",
        "uploaded = files.upload()"
      ]
    },
    {
      "cell_type": "code",
      "source": [
        "df = pd.read_csv('data_amostra_2.csv')\n",
        "\n",
        "tamanho_amostra = len(df)\n",
        "df[\"qtde_quartos\"], df[\"qtde_banheiros\"], df[\"qtde_vagas\"] = df[\"qtde_quartos\"].astype(int), df[\"qtde_banheiros\"].astype(int), df[\"qtde_vagas\"].astype(int)"
      ],
      "metadata": {
        "id": "7S5_YIsHR_g7"
      },
      "execution_count": 13,
      "outputs": []
    },
    {
      "cell_type": "code",
      "source": [
        "def printModa(variavel_moda):\n",
        "  print(\"Moda: \")\n",
        "  for i in range(len(variavel_moda)):\n",
        "    print(f\"{variavel_moda[i]:.0f}\")"
      ],
      "metadata": {
        "id": "aLq6OA_3PgfX"
      },
      "execution_count": 14,
      "outputs": []
    },
    {
      "cell_type": "markdown",
      "source": [
        "#Instruções\n",
        "\n",
        "\n",
        "---\n",
        "\n",
        "\n",
        "\n"
      ],
      "metadata": {
        "id": "UaVz8qPDKQIK"
      }
    },
    {
      "cell_type": "markdown",
      "source": [
        "Obs: *NÃO* esquecer de rodar o conjunto de células com os Dataframes \n",
        "\n",
        "É possível se guiar pela área de índice:\n",
        "\n",
        "![alt text](https://drive.google.com/uc?=view&id=1cCkqC8e1Y_jLv6cdCgGcsdPOXXMHxBY6)\n",
        "\n",
        "Para **exibir** a tabela com as medidas de dispersão correspondentes à variável:\n",
        "\n",
        "1. **Executar as células correspondentes à variável:**\n",
        "\n",
        "![alt text](https://drive.google.com/uc?=view&id=1dGzXSQaLbT0Z3Ofz0iAZc64TKcVPBjAA)\n",
        "\n",
        "2. **Executar as células correspondentes aos resultados:**\n",
        "\n",
        "![alt text](https://drive.google.com/uc?=view&id=1Istx8M6R5kKgSDFJXVEsdl8MUGP4Xzq9)\n",
        "\n",
        "3. **Abrir a aba de 'Resultados'**:**negrito**\n",
        "\n",
        "\n",
        "![alt text](https://drive.google.com/uc?=view&id=1QnBUvTPJMSM0AbT-lL95XnfOzbIBtSPN)"
      ],
      "metadata": {
        "id": "nxMZq1gt89m3"
      }
    },
    {
      "cell_type": "markdown",
      "source": [
        "#**Dataframes separados**"
      ],
      "metadata": {
        "id": "Vn-12c4ymluY"
      }
    },
    {
      "cell_type": "code",
      "source": [
        "df_apartamentos = df.loc[df[\"categoria\"] == \"Apartamentos\"]\n",
        "df_casas = df.loc[df[\"categoria\"] == \"Casas\"]"
      ],
      "metadata": {
        "id": "-JRV8BwfmoaI"
      },
      "execution_count": 15,
      "outputs": []
    },
    {
      "cell_type": "markdown",
      "source": [
        "Geral, sem distinção entre casas e apartamentos:"
      ],
      "metadata": {
        "id": "um8tUKPzzAVf"
      }
    },
    {
      "cell_type": "code",
      "source": [
        "df_norte = df.loc[df[\"zona\"] == \"Norte\"]\n",
        "df_sul = df.loc[df[\"zona\"] == \"Sul\"]\n",
        "df_leste = df.loc[df[\"zona\"] == \"Leste\"]\n",
        "df_oeste = df.loc[df[\"zona\"] == \"Oeste\"]\n",
        "df_co = df.loc[df[\"zona\"] == \"Centro-Oeste\"]\n",
        "df_cs = df.loc[df[\"zona\"] == \"Centro-Sul\"]"
      ],
      "metadata": {
        "id": "RseO3JOynVPC"
      },
      "execution_count": 16,
      "outputs": []
    },
    {
      "cell_type": "markdown",
      "source": [
        "Casas:"
      ],
      "metadata": {
        "id": "o_XOLEGDzEtF"
      }
    },
    {
      "cell_type": "code",
      "source": [
        "df_casas_norte = df_norte.loc[df[\"categoria\"] == \"Casas\"]\n",
        "df_casas_sul = df_sul.loc[df_sul[\"categoria\"] == \"Casas\"]\n",
        "df_casas_leste = df_leste.loc[df_leste[\"categoria\"] == \"Casas\"]\n",
        "df_casas_oeste = df_oeste.loc[df_oeste[\"categoria\"] == \"Casas\"]\n",
        "df_casas_co = df_co.loc[df_co[\"categoria\"] == \"Casas\"]\n",
        "df_casas_cs = df_cs.loc[df_cs[\"categoria\"] == \"Casas\"]"
      ],
      "metadata": {
        "id": "MLC31VqoygV2"
      },
      "execution_count": 17,
      "outputs": []
    },
    {
      "cell_type": "markdown",
      "source": [
        "Apartamentos:"
      ],
      "metadata": {
        "id": "SIa6vEbKzHhH"
      }
    },
    {
      "cell_type": "code",
      "source": [
        "df_apartamentos_norte= df_norte.loc[df[\"categoria\"] == \"Apartamentos\"]\n",
        "df_apartamentos_sul = df_sul.loc[df_sul[\"categoria\"] == \"Apartamentos\"]\n",
        "df_apartamentos_leste = df_leste.loc[df[\"categoria\"] == \"Apartamentos\"]\n",
        "df_apartamentos_oeste = df_oeste.loc[df_oeste[\"categoria\"] == \"Apartamentos\"]\n",
        "df_apartamentos_co = df_co.loc[df_co[\"categoria\"] == \"Apartamentos\"]\n",
        "df_apartamentos_cs = df_cs.loc[df_cs[\"categoria\"] == \"Apartamentos\"]"
      ],
      "metadata": {
        "id": "TRDgCOicyfRm"
      },
      "execution_count": 18,
      "outputs": []
    },
    {
      "cell_type": "markdown",
      "source": [
        "# 🟆 Variável: Valor do Imóvel (Quantitativa)\n",
        "---\n",
        "\n"
      ],
      "metadata": {
        "id": "ER36xwZdcPD-"
      }
    },
    {
      "cell_type": "markdown",
      "source": [
        "## Medidas Gerais"
      ],
      "metadata": {
        "id": "A0eEIKWNceCh"
      }
    },
    {
      "cell_type": "markdown",
      "source": [
        "### *Geral*"
      ],
      "metadata": {
        "id": "qAPzPQjfceCj"
      }
    },
    {
      "cell_type": "code",
      "source": [
        "mediana = df[\"valor\"].median()"
      ],
      "metadata": {
        "id": "EZ7FunoBceCj"
      },
      "execution_count": null,
      "outputs": []
    },
    {
      "cell_type": "code",
      "source": [
        "media = df[\"valor\"].mean()"
      ],
      "metadata": {
        "id": "vPsA4DasceCj"
      },
      "execution_count": null,
      "outputs": []
    },
    {
      "cell_type": "code",
      "source": [
        "moda = int(df[\"valor\"].mode())"
      ],
      "metadata": {
        "id": "fdEEdyeVceCj",
        "colab": {
          "base_uri": "https://localhost:8080/",
          "height": 287
        },
        "outputId": "3fe354df-924b-4160-f6b6-6bac6bbd5284"
      },
      "execution_count": null,
      "outputs": [
        {
          "output_type": "error",
          "ename": "TypeError",
          "evalue": "ignored",
          "traceback": [
            "\u001b[0;31m---------------------------------------------------------------------------\u001b[0m",
            "\u001b[0;31mTypeError\u001b[0m                                 Traceback (most recent call last)",
            "\u001b[0;32m<ipython-input-12-116eeb470240>\u001b[0m in \u001b[0;36m<module>\u001b[0;34m\u001b[0m\n\u001b[0;32m----> 1\u001b[0;31m \u001b[0mmoda\u001b[0m \u001b[0;34m=\u001b[0m \u001b[0mint\u001b[0m\u001b[0;34m(\u001b[0m\u001b[0mdf\u001b[0m\u001b[0;34m[\u001b[0m\u001b[0;34m\"valor\"\u001b[0m\u001b[0;34m]\u001b[0m\u001b[0;34m.\u001b[0m\u001b[0mmode\u001b[0m\u001b[0;34m(\u001b[0m\u001b[0;34m)\u001b[0m\u001b[0;34m)\u001b[0m\u001b[0;34m\u001b[0m\u001b[0;34m\u001b[0m\u001b[0m\n\u001b[0m",
            "\u001b[0;32m/usr/local/lib/python3.7/dist-packages/pandas/core/series.py\u001b[0m in \u001b[0;36mwrapper\u001b[0;34m(self)\u001b[0m\n\u001b[1;32m    183\u001b[0m         \u001b[0;32mif\u001b[0m \u001b[0mlen\u001b[0m\u001b[0;34m(\u001b[0m\u001b[0mself\u001b[0m\u001b[0;34m)\u001b[0m \u001b[0;34m==\u001b[0m \u001b[0;36m1\u001b[0m\u001b[0;34m:\u001b[0m\u001b[0;34m\u001b[0m\u001b[0;34m\u001b[0m\u001b[0m\n\u001b[1;32m    184\u001b[0m             \u001b[0;32mreturn\u001b[0m \u001b[0mconverter\u001b[0m\u001b[0;34m(\u001b[0m\u001b[0mself\u001b[0m\u001b[0;34m.\u001b[0m\u001b[0miloc\u001b[0m\u001b[0;34m[\u001b[0m\u001b[0;36m0\u001b[0m\u001b[0;34m]\u001b[0m\u001b[0;34m)\u001b[0m\u001b[0;34m\u001b[0m\u001b[0;34m\u001b[0m\u001b[0m\n\u001b[0;32m--> 185\u001b[0;31m         \u001b[0;32mraise\u001b[0m \u001b[0mTypeError\u001b[0m\u001b[0;34m(\u001b[0m\u001b[0;34mf\"cannot convert the series to {converter}\"\u001b[0m\u001b[0;34m)\u001b[0m\u001b[0;34m\u001b[0m\u001b[0;34m\u001b[0m\u001b[0m\n\u001b[0m\u001b[1;32m    186\u001b[0m \u001b[0;34m\u001b[0m\u001b[0m\n\u001b[1;32m    187\u001b[0m     \u001b[0mwrapper\u001b[0m\u001b[0;34m.\u001b[0m\u001b[0m__name__\u001b[0m \u001b[0;34m=\u001b[0m \u001b[0;34mf\"__{converter.__name__}__\"\u001b[0m\u001b[0;34m\u001b[0m\u001b[0;34m\u001b[0m\u001b[0m\n",
            "\u001b[0;31mTypeError\u001b[0m: cannot convert the series to <class 'int'>"
          ]
        }
      ]
    },
    {
      "cell_type": "code",
      "source": [
        "desvio_padrao = df[\"valor\"].std()"
      ],
      "metadata": {
        "id": "6KMp9ENNceCj"
      },
      "execution_count": null,
      "outputs": []
    },
    {
      "cell_type": "code",
      "source": [
        "coeficiente_de_variacao = desvio_padrao/media\n",
        "coeficiente_porcentagem = coeficiente_de_variacao * 100"
      ],
      "metadata": {
        "id": "ZvFhAf11ceCj"
      },
      "execution_count": null,
      "outputs": []
    },
    {
      "cell_type": "code",
      "source": [
        "print(f'Média: {media:.2f}')\n",
        "print(f'Mediana: {mediana:.0f}')\n",
        "print(f'Moda: {moda}')\n",
        "print(f'Desvio Padrão: {desvio_padrao:.2f}')\n",
        "print(f'Coeficiente de Variação: {coeficiente_porcentagem:.2f}%')"
      ],
      "metadata": {
        "id": "DV2mjGesceCj"
      },
      "execution_count": null,
      "outputs": []
    },
    {
      "cell_type": "markdown",
      "source": [
        "### *Casas*\n"
      ],
      "metadata": {
        "id": "xpPPkgWPceCi"
      }
    },
    {
      "cell_type": "code",
      "source": [
        "media_casas = df[\"valor\"].mean()\n",
        "moda_casas = df[\"valor\"].mode()\n",
        "mediana_casas = df[\"valor\"].median()\n",
        "desvio_padrao_casas = df[\"valor\"].std()\n",
        "coeficiente_de_variacao_casas = desvio_padrao/media"
      ],
      "metadata": {
        "id": "p5O46l4dceCi"
      },
      "execution_count": null,
      "outputs": []
    },
    {
      "cell_type": "code",
      "source": [
        "print(f'Média: {media_casas:.2f}')\n",
        "print(f'Mediana: {mediana_casas:.0f}')\n",
        "print(f'Moda: {moda_casas}')\n",
        "print(f'Desvio Padrão: {desvio_padrao_casas:.2f}')\n",
        "print(f'Coeficiente de Variação: {coeficiente_de_variacao_casas:.2f}%')"
      ],
      "metadata": {
        "id": "fCkkVm1HceCi"
      },
      "execution_count": null,
      "outputs": []
    },
    {
      "cell_type": "markdown",
      "source": [
        "###*Apartamentos*"
      ],
      "metadata": {
        "id": "Zp8Ls1tzceCj"
      }
    },
    {
      "cell_type": "code",
      "source": [
        "media_valor = df_apartamentos[\"valor\"].mean()\n",
        "moda_valor = df_apartamentos[\"valor\"].mode()\n",
        "mediana_valor = df_apartamentos[\"valor\"].median()\n",
        "desvio_padrao_valor = df_apartamentos[\"valor\"].std()\n",
        "coeficiente_de_variacao_casas = desvio_padrao_valor/media_valor"
      ],
      "metadata": {
        "id": "pVQzSA5imb8p"
      },
      "execution_count": null,
      "outputs": []
    },
    {
      "cell_type": "code",
      "source": [
        "print(f'Média: {media_casas:.2f}')\n",
        "print(f'Mediana: {mediana_casas:.0f}')\n",
        "print(f'Moda: {moda_casas}')\n",
        "print(f'Desvio Padrão: {desvio_padrao_casas:.2f}')\n",
        "print(f'Coeficiente de Variação: {coeficiente_de_variacao_casas * 100:.2f}%')"
      ],
      "metadata": {
        "id": "Yjv9Dfwpc3ML"
      },
      "execution_count": null,
      "outputs": []
    },
    {
      "cell_type": "markdown",
      "source": [
        "## Região Norte"
      ],
      "metadata": {
        "id": "dS01DZ7WdFWb"
      }
    },
    {
      "cell_type": "markdown",
      "source": [
        "### *Medidas Gerais*"
      ],
      "metadata": {
        "id": "LVXLd9NJdFWc"
      }
    },
    {
      "cell_type": "code",
      "source": [
        "len(df_norte)"
      ],
      "metadata": {
        "id": "f0SqhztBdFWc"
      },
      "execution_count": null,
      "outputs": []
    },
    {
      "cell_type": "code",
      "source": [
        "media_norte = df_norte[\"valor\"].mean()"
      ],
      "metadata": {
        "id": "jn0qpfOpdFWd"
      },
      "execution_count": null,
      "outputs": []
    },
    {
      "cell_type": "code",
      "source": [
        "mediana_norte = df_norte[\"valor\"].median()"
      ],
      "metadata": {
        "id": "Zp0OEc6LdFWd"
      },
      "execution_count": null,
      "outputs": []
    },
    {
      "cell_type": "code",
      "source": [
        "moda_norte = df_norte[\"valor\"].mode()"
      ],
      "metadata": {
        "id": "55DzZLHldFWd"
      },
      "execution_count": null,
      "outputs": []
    },
    {
      "cell_type": "code",
      "source": [
        "desvio_padrao_norte = df_norte[\"valor\"].std()"
      ],
      "metadata": {
        "id": "B51WI4WXdFWd"
      },
      "execution_count": null,
      "outputs": []
    },
    {
      "cell_type": "code",
      "source": [
        "coeficiente_de_variacao_norte = desvio_padrao_norte/media_norte"
      ],
      "metadata": {
        "id": "2PAQsL9zdFWd"
      },
      "execution_count": null,
      "outputs": []
    },
    {
      "cell_type": "code",
      "source": [
        "print(\"MEDIDAS GERAIS DA VARIÁVEL 'QUANTIDADE DE QUARTOS' DA REGIÃO NORTE\")\n",
        "print(f\"Média: {media_norte:.2f}\")\n",
        "print(f\"Mediana: {mediana_norte:.0f}\")\n",
        "print(f\"Moda: {moda_norte}\")\n",
        "print(f\"Desvio Padrão: {desvio_padrao_norte:.2f}\")\n",
        "print(f\"Coeficiente de Variação: {coeficiente_de_variacao_norte * 100:.2f}%\")"
      ],
      "metadata": {
        "id": "ZfkW91nHdFWd"
      },
      "execution_count": null,
      "outputs": []
    },
    {
      "cell_type": "markdown",
      "source": [
        "###*Casas*\n",
        "\n",
        "Aproximadamente 67,5% de todos os imóveis disponíveis na *Região Norte*"
      ],
      "metadata": {
        "id": "W5kORehZdFWe"
      }
    },
    {
      "cell_type": "code",
      "source": [
        "len(df_casas_norte)"
      ],
      "metadata": {
        "id": "3s1cT8GrdFWe"
      },
      "execution_count": null,
      "outputs": []
    },
    {
      "cell_type": "code",
      "source": [
        "media_casas_norte = df_casas_norte[\"valor\"].mean()"
      ],
      "metadata": {
        "id": "uT2a7oKQdFWe"
      },
      "execution_count": null,
      "outputs": []
    },
    {
      "cell_type": "code",
      "source": [
        "mediana_casas_norte = df_casas_norte[\"valor\"].median()"
      ],
      "metadata": {
        "id": "VccodXIYdFWe"
      },
      "execution_count": null,
      "outputs": []
    },
    {
      "cell_type": "code",
      "source": [
        "moda_casas_norte = df_casas_norte[\"valor\"].mode()"
      ],
      "metadata": {
        "id": "ihipIBPydFWe"
      },
      "execution_count": null,
      "outputs": []
    },
    {
      "cell_type": "code",
      "source": [
        "desvio_padrao_casas_norte = df_casas_norte[\"valor\"].std()"
      ],
      "metadata": {
        "id": "xnoco8rNdFWf"
      },
      "execution_count": null,
      "outputs": []
    },
    {
      "cell_type": "code",
      "source": [
        "coeficiente_de_variacao_casas_norte = desvio_padrao_casas_norte/media_casas_norte"
      ],
      "metadata": {
        "id": "9RI6nWlpdFWf"
      },
      "execution_count": null,
      "outputs": []
    },
    {
      "cell_type": "code",
      "source": [
        "print(\"MEDIDAS DO 'VALOR' DAS CASAS DA REGIÃO NORTE\")\n",
        "print(f\"Média: {media_casas_norte:.2f}\")\n",
        "printModa(moda_casas_norte)\n",
        "print(f\"Mediana: {mediana_casas_norte:.0f}\")\n",
        "print(f\"Desvio Padrão: {desvio_padrao_casas_norte:.2f}\")\n",
        "print(f\"Coeficiente de Variação: {coeficiente_de_variacao_casas_norte * 100:.2f}%\")"
      ],
      "metadata": {
        "id": "T1RfZWmadFWf"
      },
      "execution_count": null,
      "outputs": []
    },
    {
      "cell_type": "markdown",
      "source": [
        "### *Apartamentos*\n",
        "\n",
        "Aproximadamente 32,5% de todos os imóveis disponíveis na *Região Norte*"
      ],
      "metadata": {
        "id": "H9V7WYIVdFWf"
      }
    },
    {
      "cell_type": "code",
      "source": [
        "len(df_apartamentos_norte)"
      ],
      "metadata": {
        "id": "b3yzNyMadFWf"
      },
      "execution_count": null,
      "outputs": []
    },
    {
      "cell_type": "code",
      "source": [
        "media_apartamentos_norte= df_apartamentos_norte[\"valor\"].mean()\n",
        "mediana_apartamentos_norte= df_apartamentos_norte[\"valor\"].median()\n",
        "moda_apartamentos_norte= int(df_apartamentos_norte[\"valor\"].mode())\n",
        "desvio_padrao_apartamentos_norte= df_apartamentos_norte[\"valor\"].std()\n",
        "coeficiente_de_variacao_apartamentos_norte= desvio_padrao_apartamentos_norte/media_apartamentos_norte"
      ],
      "metadata": {
        "id": "QZ_49G4NdFWf"
      },
      "execution_count": null,
      "outputs": []
    },
    {
      "cell_type": "code",
      "source": [],
      "metadata": {
        "id": "AhDy-puidFWg"
      },
      "execution_count": null,
      "outputs": []
    },
    {
      "cell_type": "code",
      "source": [
        "print(\"MEDIDAS DO 'VALOR' DOS APARTAMENTOS DA REGIÃO NORTE\")\n",
        "print(f\"Média: {media_apartamentos_norte:.2f}\")\n",
        "print(f\"Moda: {moda_apartamentos_norte}\")\n",
        "print(f\"Mediana: {mediana_apartamentos_norte:.0f}\")\n",
        "print(f\"Desvio Padrão: {desvio_padrao_casas_norte:.2f}%\")\n",
        "print(f\"Coeficiente de Variação: {coeficiente_de_variacao_casas_norte * 100:.2f}%\")"
      ],
      "metadata": {
        "id": "mHk0WV6zdFWg",
        "colab": {
          "base_uri": "https://localhost:8080/",
          "height": 252
        },
        "outputId": "a0e8ae73-367e-47b9-ef0c-dccd8a6955cb"
      },
      "execution_count": null,
      "outputs": [
        {
          "output_type": "stream",
          "name": "stdout",
          "text": [
            "MEDIDAS DO 'VALOR' DOS APARTAMENTOS DA REGIÃO NORTE\n"
          ]
        },
        {
          "output_type": "error",
          "ename": "NameError",
          "evalue": "ignored",
          "traceback": [
            "\u001b[0;31m---------------------------------------------------------------------------\u001b[0m",
            "\u001b[0;31mNameError\u001b[0m                                 Traceback (most recent call last)",
            "\u001b[0;32m<ipython-input-13-43a8411a1852>\u001b[0m in \u001b[0;36m<module>\u001b[0;34m\u001b[0m\n\u001b[1;32m      1\u001b[0m \u001b[0mprint\u001b[0m\u001b[0;34m(\u001b[0m\u001b[0;34m\"MEDIDAS DO 'VALOR' DOS APARTAMENTOS DA REGIÃO NORTE\"\u001b[0m\u001b[0;34m)\u001b[0m\u001b[0;34m\u001b[0m\u001b[0;34m\u001b[0m\u001b[0m\n\u001b[0;32m----> 2\u001b[0;31m \u001b[0mprint\u001b[0m\u001b[0;34m(\u001b[0m\u001b[0;34mf\"Média: {media_apartamentos_norte:.2f}\"\u001b[0m\u001b[0;34m)\u001b[0m\u001b[0;34m\u001b[0m\u001b[0;34m\u001b[0m\u001b[0m\n\u001b[0m\u001b[1;32m      3\u001b[0m \u001b[0mprint\u001b[0m\u001b[0;34m(\u001b[0m\u001b[0;34mf\"Moda: {moda_apartamentos_norte}\"\u001b[0m\u001b[0;34m)\u001b[0m\u001b[0;34m\u001b[0m\u001b[0;34m\u001b[0m\u001b[0m\n\u001b[1;32m      4\u001b[0m \u001b[0mprint\u001b[0m\u001b[0;34m(\u001b[0m\u001b[0;34mf\"Mediana: {mediana_apartamentos_norte:.0f}\"\u001b[0m\u001b[0;34m)\u001b[0m\u001b[0;34m\u001b[0m\u001b[0;34m\u001b[0m\u001b[0m\n\u001b[1;32m      5\u001b[0m \u001b[0mprint\u001b[0m\u001b[0;34m(\u001b[0m\u001b[0;34mf\"Desvio Padrão: {desvio_padrao_casas_norte:.2f}%\"\u001b[0m\u001b[0;34m)\u001b[0m\u001b[0;34m\u001b[0m\u001b[0;34m\u001b[0m\u001b[0m\n",
            "\u001b[0;31mNameError\u001b[0m: name 'media_apartamentos_norte' is not defined"
          ]
        }
      ]
    },
    {
      "cell_type": "markdown",
      "source": [
        "## Região Sul"
      ],
      "metadata": {
        "id": "vTiH0wemdk4j"
      }
    },
    {
      "cell_type": "markdown",
      "source": [
        "### *Medidas Gerais*"
      ],
      "metadata": {
        "id": "pjiBh39vdk4j"
      }
    },
    {
      "cell_type": "code",
      "source": [
        "len(df_sul)"
      ],
      "metadata": {
        "id": "n0NLZl2Bdk4j"
      },
      "execution_count": null,
      "outputs": []
    },
    {
      "cell_type": "code",
      "source": [
        "media_sul = df_sul[\"valor\"].mean()"
      ],
      "metadata": {
        "id": "yfx5vC0Udk4k"
      },
      "execution_count": null,
      "outputs": []
    },
    {
      "cell_type": "code",
      "source": [
        "mediana_sul = df_sul[\"valor\"].median()"
      ],
      "metadata": {
        "id": "AUxse0vcdk4k"
      },
      "execution_count": null,
      "outputs": []
    },
    {
      "cell_type": "code",
      "source": [
        "moda_sul = df_sul[\"valor\"].mode()"
      ],
      "metadata": {
        "id": "vZ7vwIOVdk4k"
      },
      "execution_count": null,
      "outputs": []
    },
    {
      "cell_type": "code",
      "source": [
        "desvio_padrao_sul = df_sul[\"valor\"].std()"
      ],
      "metadata": {
        "id": "noMfFYbSdk4k"
      },
      "execution_count": null,
      "outputs": []
    },
    {
      "cell_type": "code",
      "source": [
        "coeficiente_de_variacao_sul = desvio_padrao_sul/media_sul"
      ],
      "metadata": {
        "id": "tHPakmNbdk4k"
      },
      "execution_count": null,
      "outputs": []
    },
    {
      "cell_type": "code",
      "source": [
        "print(\"MEDIDAS DA VARIAVEL 'VALOR DE IMÓVEIS' DA REGIÃO SUL\")\n",
        "print(f\"Média: {media_sul:.0f}\")\n",
        "print(f\"Moda: {moda_sul}\")\n",
        "print(f\"Mediana: {mediana_sul:.0f}\")\n",
        "print(f\"Desvio Padrão:  {desvio_padrao_sul:.2f}\")\n",
        "print(f\"Coeficiente de variação:  {coeficiente_de_variacao_sul *100:.2f}%\")"
      ],
      "metadata": {
        "id": "me6ASWwBdk4k"
      },
      "execution_count": null,
      "outputs": []
    },
    {
      "cell_type": "markdown",
      "source": [
        "### *Casas*"
      ],
      "metadata": {
        "id": "8UIdoLSKdk4k"
      }
    },
    {
      "cell_type": "code",
      "source": [
        "len(df_casas_sul)"
      ],
      "metadata": {
        "id": "wgAubA9Pdk4k"
      },
      "execution_count": null,
      "outputs": []
    },
    {
      "cell_type": "code",
      "source": [
        "media_casas_sul = df_casas_sul[\"valor\"].mean()\n",
        "moda_casas_sul = df_casas_sul[\"valor\"].mode()\n",
        "mediana_casas_sul = df_casas_sul[\"valor\"].median()\n",
        "desvio_padrao_casas_sul = df_casas_sul[\"valor\"].std()\n",
        "coeficiente_de_variacao_casas_sul = desvio_padrao_casas_sul/media_casas_sul"
      ],
      "metadata": {
        "id": "yCU9DVuydk4k"
      },
      "execution_count": null,
      "outputs": []
    },
    {
      "cell_type": "code",
      "source": [
        "print(\"MEDIDAS DA VARIAVEL DO 'VALOR' DAS CASAS DA REGIÃO SUL\")\n",
        "print(f\"Média: {media_casas_sul:.2f}\")\n",
        "printModa(moda_casas_sul)\n",
        "print(f\"Mediana: {mediana_casas_sul:.0f}\")\n",
        "print(f\"Desvio Padrão:  {desvio_padrao_casas_sul:.2f}\")\n",
        "print(f\"Coeficiente de variação:  {coeficiente_de_variacao_casas_sul *100:.2f}%\")"
      ],
      "metadata": {
        "id": "ugktS_5idk4k"
      },
      "execution_count": null,
      "outputs": []
    },
    {
      "cell_type": "markdown",
      "source": [
        "### *Apartamentos*"
      ],
      "metadata": {
        "id": "bZz4uLd7dk4l"
      }
    },
    {
      "cell_type": "code",
      "source": [
        "len(df_apartamentos_sul)"
      ],
      "metadata": {
        "id": "S5AR92axdk4l"
      },
      "execution_count": null,
      "outputs": []
    },
    {
      "cell_type": "code",
      "source": [
        "media_apartamentos_sul = df_apartamentos_sul[\"valor\"].mean()\n",
        "moda_apartamentos_sul = df_apartamentos_sul[\"valor\"].mode()\n",
        "mediana_apartamentos_sul = df_apartamentos_sul[\"valor\"].median()\n",
        "desvio_padrao_apartamentos_sul = df_apartamentos_sul[\"valor\"].std()\n",
        "coeficiente_de_variacao_apartamentos_sul = desvio_padrao_apartamentos_sul/media_apartamentos_sul"
      ],
      "metadata": {
        "id": "jVvlx91Adk4l"
      },
      "execution_count": null,
      "outputs": []
    },
    {
      "cell_type": "code",
      "source": [
        "print(\"MEDIDAS DA VARIAVEL 'VALOR' DE APARTAMENTOS DA REGIÃO SUL\")\n",
        "print(f\"Média: {media_apartamentos_sul:.2f}\")\n",
        "printModa(moda_apartamentos_sul)\n",
        "print(f\"Mediana: {mediana_apartamentos_sul:.0f}\")\n",
        "print(f\"Desvio Padrão:  {desvio_padrao_apartamentos_sul:.2f}\")\n",
        "print(f\"Coeficiente de variação:  {coeficiente_de_variacao_apartamentos_sul *100:.2f}%\")"
      ],
      "metadata": {
        "id": "Vr7jezLFdk4l"
      },
      "execution_count": null,
      "outputs": []
    },
    {
      "cell_type": "markdown",
      "source": [
        "## Região Leste"
      ],
      "metadata": {
        "id": "uHg-Ym_ndmyZ"
      }
    },
    {
      "cell_type": "markdown",
      "source": [
        "### *Medidas Gerais*"
      ],
      "metadata": {
        "id": "c8Oz7KJ_dmyZ"
      }
    },
    {
      "cell_type": "code",
      "source": [
        "len(df_leste)"
      ],
      "metadata": {
        "id": "LMgb5eZHdmyZ"
      },
      "execution_count": null,
      "outputs": []
    },
    {
      "cell_type": "code",
      "source": [
        "media_leste = df_leste[\"valor\"].mean()\n",
        "moda_leste = df_leste[\"valor\"].mode()\n",
        "mediana_leste = df_leste[\"valor\"].median()\n",
        "desvio_padrao_leste = df_leste[\"valor\"].std()\n",
        "coeficiente_de_variacao_leste = desvio_padrao_leste/media_leste"
      ],
      "metadata": {
        "id": "RWKeSCzHdmya"
      },
      "execution_count": null,
      "outputs": []
    },
    {
      "cell_type": "code",
      "source": [
        "print(\"MEDIDAS DA VARIAVEL 'VALOR' DA REGIÃO LESTE\")\n",
        "print(f\"Média: {media_leste:.2f}\")\n",
        "printModa(moda_leste)\n",
        "print(f\"Mediana: {mediana_leste:.0f}\")\n",
        "print(f\"Desvio Padrão:  {desvio_padrao_leste :.2f}\")\n",
        "print(f\"Coeficiente de variação:  {coeficiente_de_variacao_leste *100:.2f}%\")"
      ],
      "metadata": {
        "id": "lebv9OA4dmya"
      },
      "execution_count": null,
      "outputs": []
    },
    {
      "cell_type": "markdown",
      "source": [
        "### *Casas*"
      ],
      "metadata": {
        "id": "dni8nZl9dmyb"
      }
    },
    {
      "cell_type": "code",
      "source": [
        "len(df_casas_leste)"
      ],
      "metadata": {
        "id": "elqONsl-dmyb"
      },
      "execution_count": null,
      "outputs": []
    },
    {
      "cell_type": "code",
      "source": [
        "media_casas_leste = df_casas_leste[\"valor\"].mean()\n",
        "moda_casas_leste = df_casas_leste[\"valor\"].mode()\n",
        "mediana_casas_leste = df_casas_leste[\"valor\"].median()\n",
        "desvio_padrao_casas_leste = df_casas_leste[\"valor\"].std()\n",
        "coeficiente_de_variacao_casas_leste = desvio_padrao_casas_leste/media_casas_leste"
      ],
      "metadata": {
        "id": "H1_KJkhZdmyb"
      },
      "execution_count": null,
      "outputs": []
    },
    {
      "cell_type": "code",
      "source": [
        "print(\"MEDIDAS DA VARIAVEL 'VALOR' DAS CASAS DA REGIÃO SUL\")\n",
        "print(f\"Média: {media_casas_leste:.1f}\")\n",
        "printModa(moda_casas_leste)\n",
        "print(f\"Mediana: {mediana_casas_leste:.0f}\")\n",
        "print(f\"Desvio Padrão:  {desvio_padrao_casas_leste:.2f}\")\n",
        "print(f\"Coeficiente de variação:  {coeficiente_de_variacao_casas_leste *100:.2f}%\")"
      ],
      "metadata": {
        "id": "Egbvk4T7dmyb"
      },
      "execution_count": null,
      "outputs": []
    },
    {
      "cell_type": "markdown",
      "source": [
        "### *Apartamentos*"
      ],
      "metadata": {
        "id": "-d0R9HxCdmyc"
      }
    },
    {
      "cell_type": "code",
      "source": [
        "len(df_apartamentos_leste)"
      ],
      "metadata": {
        "id": "uQomyWX8dmyc"
      },
      "execution_count": null,
      "outputs": []
    },
    {
      "cell_type": "code",
      "source": [
        "media_apartamentos_leste = df_apartamentos_leste[\"valor\"].mean()\n",
        "moda_apartamentos_leste = df_apartamentos_leste[\"valor\"].mode()\n",
        "mediana_apartamentos_leste = df_apartamentos_leste[\"valor\"].median()\n",
        "desvio_padrao_apartamentos_leste = df_apartamentos_leste[\"valor\"].std()\n",
        "coeficiente_de_variacao_apartamentos_leste = desvio_padrao_apartamentos_leste/media_apartamentos_leste"
      ],
      "metadata": {
        "id": "nKstciiEdmyc"
      },
      "execution_count": null,
      "outputs": []
    },
    {
      "cell_type": "code",
      "source": [
        "print(\"MEDIDAS DA VARIAVEL 'QUANTIDADE DE QUARTOS' DOS APARTAMENTOS DA REGIÃO LESTE\")\n",
        "print(f\"Média: {media_apartamentos_leste:.1f}\")\n",
        "printModa(moda_apartamentos_leste)\n",
        "print(f\"Mediana: {mediana_apartamentos_leste:.0f}\")\n",
        "print(f\"Desvio Padrão:  {desvio_padrao_apartamentos_leste:.2f}\")\n",
        "print(f\"Coeficiente de variação:  {coeficiente_de_variacao_apartamentos_leste *100:.2f}%\")"
      ],
      "metadata": {
        "id": "ETnzEUt8dmyc"
      },
      "execution_count": null,
      "outputs": []
    },
    {
      "cell_type": "markdown",
      "source": [
        "## Região Oeste"
      ],
      "metadata": {
        "id": "R8SUuHJNduYP"
      }
    },
    {
      "cell_type": "markdown",
      "source": [
        "### *Medidas Gerais*"
      ],
      "metadata": {
        "id": "c4KjhKfRduYP"
      }
    },
    {
      "cell_type": "code",
      "source": [
        "len(df_oeste)"
      ],
      "metadata": {
        "id": "ITPaC3iVduYP"
      },
      "execution_count": null,
      "outputs": []
    },
    {
      "cell_type": "code",
      "source": [
        "media_oeste = df_oeste[\"valor\"].mean()\n",
        "moda_oeste = df_oeste[\"valor\"].mode()\n",
        "mediana_oeste = df_oeste[\"valor\"].median()\n",
        "desvio_padrao_oeste = df_oeste[\"valor\"].std()\n",
        "coeficiente_de_variacao_oeste = desvio_padrao_oeste/media_oeste"
      ],
      "metadata": {
        "id": "nj7OhjmgduYP"
      },
      "execution_count": null,
      "outputs": []
    },
    {
      "cell_type": "code",
      "source": [
        "print(\"MEDIDAS DA VARIAVEL 'QUANTIDADE DE QUARTOS' DA REGIÃO OESTE\")\n",
        "print(f\"Média: {media_oeste:.1f}\")\n",
        "printModa(moda_oeste)\n",
        "print(f\"Mediana: {mediana_oeste:.0f}\")\n",
        "print(f\"Desvio Padrão:  {desvio_padrao_oeste :.2f}\")\n",
        "print(f\"Coeficiente de variação:  {coeficiente_de_variacao_oeste *100:.2f}%\")"
      ],
      "metadata": {
        "id": "eQo_vX4HduYP"
      },
      "execution_count": null,
      "outputs": []
    },
    {
      "cell_type": "markdown",
      "source": [
        "### *Casas*"
      ],
      "metadata": {
        "id": "iicsf9-yduYQ"
      }
    },
    {
      "cell_type": "code",
      "source": [
        "len(df_casas_oeste)"
      ],
      "metadata": {
        "id": "CFgDfmqyduYQ"
      },
      "execution_count": null,
      "outputs": []
    },
    {
      "cell_type": "code",
      "source": [
        "media_casas_oeste = df_casas_oeste[\"valor\"].mean()\n",
        "moda_casas_oeste = df_casas_oeste[\"valor\"].mode()\n",
        "mediana_casas_oeste = df_casas_oeste[\"valor\"].median()\n",
        "desvio_padrao_casas_oeste = df_casas_oeste[\"valor\"].std()\n",
        "coeficiente_de_variacao_casas_oeste = desvio_padrao_casas_oeste/media_casas_oeste"
      ],
      "metadata": {
        "id": "wnhX3p9jduYQ"
      },
      "execution_count": null,
      "outputs": []
    },
    {
      "cell_type": "code",
      "source": [
        "print(\"MEDIDAS DA VARIAVEL 'VALOR' DAS CASAS DA REGIÃO OESTE\")\n",
        "print(f\"Média: {media_casas_oeste:.1f}\")\n",
        "printModa(moda_casas_oeste)\n",
        "print(f\"Mediana: {mediana_casas_oeste:.0f}\")\n",
        "print(f\"Desvio Padrão:  {desvio_padrao_casas_oeste:.2f}\")\n",
        "print(f\"Coeficiente de variação:  {coeficiente_de_variacao_casas_oeste *100:.2f}%\")"
      ],
      "metadata": {
        "id": "qwZ5znn5duYQ"
      },
      "execution_count": null,
      "outputs": []
    },
    {
      "cell_type": "markdown",
      "source": [
        "### *Apartamentos*"
      ],
      "metadata": {
        "id": "dien4In9duYQ"
      }
    },
    {
      "cell_type": "code",
      "source": [
        "len(df_apartamentos_oeste)"
      ],
      "metadata": {
        "id": "JLh5Jsl-duYQ"
      },
      "execution_count": null,
      "outputs": []
    },
    {
      "cell_type": "code",
      "source": [
        "media_apartamentos_oeste = df_apartamentos_oeste[\"valor\"].mean()\n",
        "moda_apartamentos_oeste = df_apartamentos_oeste[\"valor\"].mode()\n",
        "mediana_apartamentos_oeste = df_apartamentos_oeste[\"valor\"].median()\n",
        "desvio_padrao_apartamentos_oeste = df_apartamentos_oeste[\"valor\"].std()\n",
        "coeficiente_de_variacao_apartamentos_oeste = desvio_padrao_apartamentos_oeste/media_apartamentos_oeste"
      ],
      "metadata": {
        "id": "oRV0wHijduYQ"
      },
      "execution_count": null,
      "outputs": []
    },
    {
      "cell_type": "code",
      "source": [
        "print(\"MEDIDAS DA VARIAVEL 'VALOR' DOS APARTAMENTOS DA REGIÃO OESTE\")\n",
        "print(f\"Média: {media_apartamentos_oeste:.2f}\")\n",
        "printModa(moda_apartamentos_oeste)\n",
        "print(f\"Mediana: {mediana_apartamentos_oeste:.0f}\")\n",
        "print(f\"Desvio Padrão:  {desvio_padrao_apartamentos_oeste:.2f}\")\n",
        "print(f\"Coeficiente de variação:  {coeficiente_de_variacao_apartamentos_oeste *100:.2f}%\")"
      ],
      "metadata": {
        "id": "YFYHD9mYduYQ"
      },
      "execution_count": null,
      "outputs": []
    },
    {
      "cell_type": "markdown",
      "source": [
        "## Região Centro-Oeste"
      ],
      "metadata": {
        "id": "NW3YiMvPdwb9"
      }
    },
    {
      "cell_type": "markdown",
      "source": [
        "### *Medidas Gerais*"
      ],
      "metadata": {
        "id": "PZ4slLhFdwb9"
      }
    },
    {
      "cell_type": "code",
      "source": [
        "len(df_co)"
      ],
      "metadata": {
        "id": "MKfLk7B9dwb9"
      },
      "execution_count": null,
      "outputs": []
    },
    {
      "cell_type": "code",
      "source": [
        "media_co = df_co[\"valor\"].mean()\n",
        "moda_co = df_co[\"valor\"].mode()\n",
        "mediana_co = df_co[\"valor\"].median()\n",
        "desvio_padrao_co = df_co[\"valor\"].std()\n",
        "coeficiente_de_variacao_co = desvio_padrao_co/media_co"
      ],
      "metadata": {
        "id": "fsvRkMvUdwb9"
      },
      "execution_count": null,
      "outputs": []
    },
    {
      "cell_type": "code",
      "source": [
        "print(\"MEDIDAS DA VARIAVEL 'VALOR' DA REGIÃO CENTRO-OESTE\")\n",
        "print(f\"Média: {media_co:.1f}\")\n",
        "printModa(moda_co)\n",
        "print(f\"Mediana: {mediana_co:.0f}\")\n",
        "print(f\"Desvio Padrão:  {desvio_padrao_co:.2f}%\")\n",
        "print(f\"Coeficiente de variação:  {coeficiente_de_variacao_co *100:.2f}%\")"
      ],
      "metadata": {
        "id": "GOjqOYqvdwb9"
      },
      "execution_count": null,
      "outputs": []
    },
    {
      "cell_type": "markdown",
      "source": [
        "### *Casas*"
      ],
      "metadata": {
        "id": "BK4Ws0Kcdwb9"
      }
    },
    {
      "cell_type": "code",
      "source": [
        "len(df_casas_co)"
      ],
      "metadata": {
        "id": "g--3UGF3dwb-"
      },
      "execution_count": null,
      "outputs": []
    },
    {
      "cell_type": "code",
      "source": [
        "media_casas_co = df_casas_co[\"valor\"].mean()\n",
        "moda_casas_co = df_casas_co[\"valor\"].mode()\n",
        "mediana_casas_co = df_casas_co[\"valor\"].median()\n",
        "desvio_padrao_casas_co = df_casas_co[\"valor\"].std()\n",
        "coeficiente_de_variacao_casas_co = desvio_padrao_casas_co/media_casas_co"
      ],
      "metadata": {
        "id": "revEYTRndwb-"
      },
      "execution_count": null,
      "outputs": []
    },
    {
      "cell_type": "code",
      "source": [
        "print(\"MEDIDAS DA VARIAVEL 'VALOR' DAS CASAS DA REGIÃO CENTRO-OESTE\")\n",
        "print(f\"Média: {media_casas_co:.1f}\")\n",
        "printModa(moda_casas_co)\n",
        "print(f\"Mediana: {mediana_casas_co:.0f}\")\n",
        "print(f\"Desvio Padrão:  {desvio_padrao_casas_co :.2f}\")\n",
        "print(f\"Coeficiente de variação:  {coeficiente_de_variacao_casas_co *100:.2f}%\")"
      ],
      "metadata": {
        "id": "0JZhyt_Qdwb-"
      },
      "execution_count": null,
      "outputs": []
    },
    {
      "cell_type": "markdown",
      "source": [
        "### *Apartamentos*"
      ],
      "metadata": {
        "id": "1PxKnvXodwb-"
      }
    },
    {
      "cell_type": "code",
      "source": [
        "len(df_apartamentos_co)"
      ],
      "metadata": {
        "id": "Z6_d9lkNdwb-"
      },
      "execution_count": null,
      "outputs": []
    },
    {
      "cell_type": "code",
      "source": [
        "media_apartamentos_co = df_apartamentos_co[\"valor\"].mean()\n",
        "moda_apartamentos_co = df_apartamentos_co[\"valor\"].mode()\n",
        "mediana_apartamentos_co = df_apartamentos_co[\"valor\"].median()\n",
        "desvio_padrao_apartamentos_co = df_apartamentos_co[\"valor\"].std()\n",
        "coeficiente_de_variacao_apartamentos_co = desvio_padrao_apartamentos_co/media_apartamentos_co\n",
        "\n",
        "df_apartamentos_co[\"valor\"].median()"
      ],
      "metadata": {
        "id": "9CMhzc7hdwb-"
      },
      "execution_count": null,
      "outputs": []
    },
    {
      "cell_type": "code",
      "source": [
        "print(\"MEDIDAS DA VARIAVEL 'VALOR' DOS APARTAMENTOS DA REGIÃO CENTRO-OESTE\")\n",
        "print(f\"Média: {media_apartamentos_co:.2f}\")\n",
        "printModa(moda_apartamentos_co)\n",
        "print(f\"Mediana: {mediana_apartamentos_co:.0f}\")\n",
        "print(f\"Desvio Padrão:  {desvio_padrao_apartamentos_co:.2f}\")\n",
        "print(f\"Coeficiente de variação:  {coeficiente_de_variacao_apartamentos_co *100:.2f}%\")"
      ],
      "metadata": {
        "id": "CI6i3Ro_dwb-"
      },
      "execution_count": null,
      "outputs": []
    },
    {
      "cell_type": "markdown",
      "source": [
        "## Região Centro-Sul"
      ],
      "metadata": {
        "id": "LOkKCueJdyOs"
      }
    },
    {
      "cell_type": "markdown",
      "source": [
        "### *Medidas Gerais*"
      ],
      "metadata": {
        "id": "IISyurncdyOt"
      }
    },
    {
      "cell_type": "code",
      "source": [
        "len(df_cs)"
      ],
      "metadata": {
        "id": "jaKTgWbTdyOt"
      },
      "execution_count": null,
      "outputs": []
    },
    {
      "cell_type": "code",
      "source": [
        "media_cs = df_cs[\"valor\"].mean()\n",
        "moda_cs = df_cs[\"valor\"].mode()\n",
        "mediana_cs = df_cs[\"valor\"].median()\n",
        "desvio_padrao_cs = df_cs[\"valor\"].std()\n",
        "coeficiente_de_variacao_cs = desvio_padrao_cs/media_cs"
      ],
      "metadata": {
        "id": "keOXRFmCdyOt"
      },
      "execution_count": null,
      "outputs": []
    },
    {
      "cell_type": "code",
      "source": [
        "print(\"MEDIDAS DA VARIAVEL 'VALOR' DA REGIÃO CENTRO-SUL\")\n",
        "print(f\"Média: {media_cs:.2f}\")\n",
        "printModa(moda_cs)\n",
        "print(f\"Mediana: {mediana_cs:.0f}\")\n",
        "print(f\"Desvio Padrão:  {desvio_padrao_cs:.2f}\")\n",
        "print(f\"Coeficiente de variação:  {coeficiente_de_variacao_cs *100:.2f}%\")"
      ],
      "metadata": {
        "id": "A2m4m6RudyOt"
      },
      "execution_count": null,
      "outputs": []
    },
    {
      "cell_type": "markdown",
      "source": [
        "### *Casas*"
      ],
      "metadata": {
        "id": "KctEcdWsdyOt"
      }
    },
    {
      "cell_type": "code",
      "source": [
        "len(df_casas_cs)"
      ],
      "metadata": {
        "id": "NhemJ06IdyOt"
      },
      "execution_count": null,
      "outputs": []
    },
    {
      "cell_type": "code",
      "source": [
        "media_casas_cs = df_casas_cs[\"valor\"].mean()\n",
        "moda_casas_cs = df_casas_cs[\"valor\"].mode()\n",
        "mediana_casas_cs = df_casas_cs[\"valor\"].median()\n",
        "desvio_padrao_casas_cs = df_casas_cs[\"valor\"].std()\n",
        "coeficiente_de_variacao_casas_cs = desvio_padrao_casas_cs/media_casas_cs\n",
        "variancia = df_casas_cs[\"valor\"].var()\n"
      ],
      "metadata": {
        "id": "wjfkqQA9dyOt"
      },
      "execution_count": null,
      "outputs": []
    },
    {
      "cell_type": "code",
      "source": [
        "print(\"MEDIDAS DA VARIAVEL 'VALOR' DAS CASAS DA REGIÃO CENTRO-SUL\")\n",
        "print(f\"Média: {media_casas_cs:.2f}\")\n",
        "printModa(moda_casas_cs)\n",
        "print(f\"Mediana: {mediana_casas_cs:.0f}\")\n",
        "print(f\"Desvio Padrão:  {desvio_padrao_casas_cs:.2f}%\")\n",
        "print(f\"Coeficiente de variação:  {coeficiente_de_variacao_casas_cs *100:.2f}%\")"
      ],
      "metadata": {
        "id": "m1WL8ES9dyOt"
      },
      "execution_count": null,
      "outputs": []
    },
    {
      "cell_type": "markdown",
      "source": [
        "### *Apartamentos*"
      ],
      "metadata": {
        "id": "q_GjgVDPdyOt"
      }
    },
    {
      "cell_type": "code",
      "source": [
        "len(df_apartamentos_cs)"
      ],
      "metadata": {
        "id": "WcPqxP7mdyOt"
      },
      "execution_count": null,
      "outputs": []
    },
    {
      "cell_type": "code",
      "source": [
        "media_apartamentos_cs = df_apartamentos_cs[\"valor\"].mean()\n",
        "moda_apartamentos_cs = df_apartamentos_cs[\"valor\"].mode()\n",
        "mediana_apartamentos_cs = df_apartamentos_cs[\"valor\"].median()\n",
        "desvio_padrao_apartamentos_cs = df_apartamentos_cs[\"valor\"].std()\n",
        "coeficiente_de_variacao_apartamentos_cs = desvio_padrao_apartamentos_cs/media_apartamentos_cs"
      ],
      "metadata": {
        "id": "SDr3s2NVdyOu"
      },
      "execution_count": null,
      "outputs": []
    },
    {
      "cell_type": "code",
      "source": [
        "print(\"MEDIDAS DA VARIAVEL 'QUANTIDADE DE QUARTOS' DOS APARTAMENTOS DA REGIÃO CENTRO-OESTE\")\n",
        "print(f\"Média: {media_apartamentos_cs:.2f}\")\n",
        "printModa(moda_apartamentos_cs)\n",
        "print(f\"Mediana: {mediana_apartamentos_cs:.0f}\")\n",
        "print(f\"Desvio Padrão:  {desvio_padrao_apartamentos_cs:.2f}\")\n",
        "print(f\"Coeficiente de variação:  {coeficiente_de_variacao_apartamentos_cs *100:.2f}%\")"
      ],
      "metadata": {
        "id": "WYSGEdUydyOu"
      },
      "execution_count": null,
      "outputs": []
    },
    {
      "cell_type": "markdown",
      "source": [
        "# → ***Resultados: Valor do Imóvel (Quantitativa)***\n",
        "\n",
        "\n",
        "---\n",
        "\n"
      ],
      "metadata": {
        "id": "8vtHdsHjhJVW"
      }
    },
    {
      "cell_type": "markdown",
      "source": [
        "## Dados Gerais"
      ],
      "metadata": {
        "id": "jFZVSFPKhJVW"
      }
    },
    {
      "cell_type": "code",
      "source": [
        "df_resultados = pd.DataFrame([\n",
        "    (len(df_norte), f'{media_norte:.2f}', mediana_norte, moda_norte.tolist(), f'{desvio_padrao_norte:.2f}', f'{coeficiente_de_variacao_norte * 100:.2f}%'),\n",
        "    (len(df_sul), f'{media_sul:.2f}', mediana_sul, moda_sul.tolist(), f'{desvio_padrao_sul:.2f}', f'{coeficiente_de_variacao_sul * 100:.2f}%'),\n",
        "    (len(df_leste), f'{media_leste:.2f}', mediana_leste, float(moda_leste), f'{desvio_padrao_leste:.2f}', f'{coeficiente_de_variacao_leste * 100:.2f}%'),\n",
        "    (len(df_oeste), f'{media_oeste:.2f}', mediana_oeste, moda_oeste.tolist(), f'{desvio_padrao_oeste:.2f}', f'{coeficiente_de_variacao_oeste * 100:.2f}%'),\n",
        "    (len(df_co), f'{media_co:.2f}', mediana_co, float(moda_co), f'{desvio_padrao_co:.2f}', f'{coeficiente_de_variacao_co:.2f}%'),\n",
        "    (len(df_cs), f'{media_cs:.2f}', mediana_cs, float(moda_cs), f'{desvio_padrao_cs:.2f}', f'{coeficiente_de_variacao_cs:.2f}%')],\n",
        "    index=('Zona Norte', 'Zona Sul', 'Zona Leste', 'Zona Oeste', 'Zona Centro Oeste', 'Zona Centro-Sul'),\n",
        "    columns=('Total Imóveis', 'Média', 'Mediana', 'Moda', 'Desvio Padrão', 'Coeficiente de Variação'))\n",
        "\n",
        "df_resultados"
      ],
      "metadata": {
        "id": "L7C43eGyhJVX",
        "colab": {
          "base_uri": "https://localhost:8080/"
        },
        "outputId": "8ca82abd-2cfb-4efd-8833-56a5d1e7c0e1"
      },
      "execution_count": null,
      "outputs": [
        {
          "output_type": "execute_result",
          "data": {
            "text/plain": [
              "                   Total Imóveis      Média   Mediana                   Moda  \\\n",
              "Zona Norte                    74  336810.34  257500.0   [160000.0, 350000.0]   \n",
              "Zona Sul                      13  493353.92  350000.0   [240000.0, 600000.0]   \n",
              "Zona Leste                     8  194901.50  195001.0               150000.0   \n",
              "Zona Oeste                   116  915726.20  650000.0  [700000.0, 1600000.0]   \n",
              "Zona Centro Oeste             44  501077.95  375000.0               300000.0   \n",
              "Zona Centro-Sul              136  922618.88  455000.0               900000.0   \n",
              "\n",
              "                  Desvio Padrão Coeficiente de Variação  \n",
              "Zona Norte            376572.71                 111.81%  \n",
              "Zona Sul              340240.65                  68.96%  \n",
              "Zona Leste             76613.43                  39.31%  \n",
              "Zona Oeste           1097191.11                 119.82%  \n",
              "Zona Centro Oeste     402382.69                   0.80%  \n",
              "Zona Centro-Sul      1366829.81                   1.48%  "
            ],
            "text/html": [
              "\n",
              "  <div id=\"df-5c90f0de-045f-4fb4-8c25-d9a64e6c4c8c\">\n",
              "    <div class=\"colab-df-container\">\n",
              "      <div>\n",
              "<style scoped>\n",
              "    .dataframe tbody tr th:only-of-type {\n",
              "        vertical-align: middle;\n",
              "    }\n",
              "\n",
              "    .dataframe tbody tr th {\n",
              "        vertical-align: top;\n",
              "    }\n",
              "\n",
              "    .dataframe thead th {\n",
              "        text-align: right;\n",
              "    }\n",
              "</style>\n",
              "<table border=\"1\" class=\"dataframe\">\n",
              "  <thead>\n",
              "    <tr style=\"text-align: right;\">\n",
              "      <th></th>\n",
              "      <th>Total Imóveis</th>\n",
              "      <th>Média</th>\n",
              "      <th>Mediana</th>\n",
              "      <th>Moda</th>\n",
              "      <th>Desvio Padrão</th>\n",
              "      <th>Coeficiente de Variação</th>\n",
              "    </tr>\n",
              "  </thead>\n",
              "  <tbody>\n",
              "    <tr>\n",
              "      <th>Zona Norte</th>\n",
              "      <td>74</td>\n",
              "      <td>336810.34</td>\n",
              "      <td>257500.0</td>\n",
              "      <td>[160000.0, 350000.0]</td>\n",
              "      <td>376572.71</td>\n",
              "      <td>111.81%</td>\n",
              "    </tr>\n",
              "    <tr>\n",
              "      <th>Zona Sul</th>\n",
              "      <td>13</td>\n",
              "      <td>493353.92</td>\n",
              "      <td>350000.0</td>\n",
              "      <td>[240000.0, 600000.0]</td>\n",
              "      <td>340240.65</td>\n",
              "      <td>68.96%</td>\n",
              "    </tr>\n",
              "    <tr>\n",
              "      <th>Zona Leste</th>\n",
              "      <td>8</td>\n",
              "      <td>194901.50</td>\n",
              "      <td>195001.0</td>\n",
              "      <td>150000.0</td>\n",
              "      <td>76613.43</td>\n",
              "      <td>39.31%</td>\n",
              "    </tr>\n",
              "    <tr>\n",
              "      <th>Zona Oeste</th>\n",
              "      <td>116</td>\n",
              "      <td>915726.20</td>\n",
              "      <td>650000.0</td>\n",
              "      <td>[700000.0, 1600000.0]</td>\n",
              "      <td>1097191.11</td>\n",
              "      <td>119.82%</td>\n",
              "    </tr>\n",
              "    <tr>\n",
              "      <th>Zona Centro Oeste</th>\n",
              "      <td>44</td>\n",
              "      <td>501077.95</td>\n",
              "      <td>375000.0</td>\n",
              "      <td>300000.0</td>\n",
              "      <td>402382.69</td>\n",
              "      <td>0.80%</td>\n",
              "    </tr>\n",
              "    <tr>\n",
              "      <th>Zona Centro-Sul</th>\n",
              "      <td>136</td>\n",
              "      <td>922618.88</td>\n",
              "      <td>455000.0</td>\n",
              "      <td>900000.0</td>\n",
              "      <td>1366829.81</td>\n",
              "      <td>1.48%</td>\n",
              "    </tr>\n",
              "  </tbody>\n",
              "</table>\n",
              "</div>\n",
              "      <button class=\"colab-df-convert\" onclick=\"convertToInteractive('df-5c90f0de-045f-4fb4-8c25-d9a64e6c4c8c')\"\n",
              "              title=\"Convert this dataframe to an interactive table.\"\n",
              "              style=\"display:none;\">\n",
              "        \n",
              "  <svg xmlns=\"http://www.w3.org/2000/svg\" height=\"24px\"viewBox=\"0 0 24 24\"\n",
              "       width=\"24px\">\n",
              "    <path d=\"M0 0h24v24H0V0z\" fill=\"none\"/>\n",
              "    <path d=\"M18.56 5.44l.94 2.06.94-2.06 2.06-.94-2.06-.94-.94-2.06-.94 2.06-2.06.94zm-11 1L8.5 8.5l.94-2.06 2.06-.94-2.06-.94L8.5 2.5l-.94 2.06-2.06.94zm10 10l.94 2.06.94-2.06 2.06-.94-2.06-.94-.94-2.06-.94 2.06-2.06.94z\"/><path d=\"M17.41 7.96l-1.37-1.37c-.4-.4-.92-.59-1.43-.59-.52 0-1.04.2-1.43.59L10.3 9.45l-7.72 7.72c-.78.78-.78 2.05 0 2.83L4 21.41c.39.39.9.59 1.41.59.51 0 1.02-.2 1.41-.59l7.78-7.78 2.81-2.81c.8-.78.8-2.07 0-2.86zM5.41 20L4 18.59l7.72-7.72 1.47 1.35L5.41 20z\"/>\n",
              "  </svg>\n",
              "      </button>\n",
              "      \n",
              "  <style>\n",
              "    .colab-df-container {\n",
              "      display:flex;\n",
              "      flex-wrap:wrap;\n",
              "      gap: 12px;\n",
              "    }\n",
              "\n",
              "    .colab-df-convert {\n",
              "      background-color: #E8F0FE;\n",
              "      border: none;\n",
              "      border-radius: 50%;\n",
              "      cursor: pointer;\n",
              "      display: none;\n",
              "      fill: #1967D2;\n",
              "      height: 32px;\n",
              "      padding: 0 0 0 0;\n",
              "      width: 32px;\n",
              "    }\n",
              "\n",
              "    .colab-df-convert:hover {\n",
              "      background-color: #E2EBFA;\n",
              "      box-shadow: 0px 1px 2px rgba(60, 64, 67, 0.3), 0px 1px 3px 1px rgba(60, 64, 67, 0.15);\n",
              "      fill: #174EA6;\n",
              "    }\n",
              "\n",
              "    [theme=dark] .colab-df-convert {\n",
              "      background-color: #3B4455;\n",
              "      fill: #D2E3FC;\n",
              "    }\n",
              "\n",
              "    [theme=dark] .colab-df-convert:hover {\n",
              "      background-color: #434B5C;\n",
              "      box-shadow: 0px 1px 3px 1px rgba(0, 0, 0, 0.15);\n",
              "      filter: drop-shadow(0px 1px 2px rgba(0, 0, 0, 0.3));\n",
              "      fill: #FFFFFF;\n",
              "    }\n",
              "  </style>\n",
              "\n",
              "      <script>\n",
              "        const buttonEl =\n",
              "          document.querySelector('#df-5c90f0de-045f-4fb4-8c25-d9a64e6c4c8c button.colab-df-convert');\n",
              "        buttonEl.style.display =\n",
              "          google.colab.kernel.accessAllowed ? 'block' : 'none';\n",
              "\n",
              "        async function convertToInteractive(key) {\n",
              "          const element = document.querySelector('#df-5c90f0de-045f-4fb4-8c25-d9a64e6c4c8c');\n",
              "          const dataTable =\n",
              "            await google.colab.kernel.invokeFunction('convertToInteractive',\n",
              "                                                     [key], {});\n",
              "          if (!dataTable) return;\n",
              "\n",
              "          const docLinkHtml = 'Like what you see? Visit the ' +\n",
              "            '<a target=\"_blank\" href=https://colab.research.google.com/notebooks/data_table.ipynb>data table notebook</a>'\n",
              "            + ' to learn more about interactive tables.';\n",
              "          element.innerHTML = '';\n",
              "          dataTable['output_type'] = 'display_data';\n",
              "          await google.colab.output.renderOutput(dataTable, element);\n",
              "          const docLink = document.createElement('div');\n",
              "          docLink.innerHTML = docLinkHtml;\n",
              "          element.appendChild(docLink);\n",
              "        }\n",
              "      </script>\n",
              "    </div>\n",
              "  </div>\n",
              "  "
            ]
          },
          "metadata": {},
          "execution_count": 86
        }
      ]
    },
    {
      "cell_type": "markdown",
      "source": [
        "## Casas"
      ],
      "metadata": {
        "id": "7zcJMJGNhJVY"
      }
    },
    {
      "cell_type": "code",
      "source": [
        "pct = 100\n",
        "df_resultados_casas = pd.DataFrame([\n",
        "    (len(df_casas_norte), f'{media_casas_norte:.2f}', mediana_casas_norte, float(moda_casas_norte), f'{desvio_padrao_casas_norte:.2f}', f'{coeficiente_de_variacao_casas_norte * pct:.2f}%'),\n",
        "    (len(df_casas_sul), f'{media_casas_sul:.2f}', mediana_casas_sul, moda_casas_sul.tolist(), f'{desvio_padrao_casas_sul:.2f}', f'{coeficiente_de_variacao_casas_sul * pct:.2f}%'),\n",
        "    (len(df_casas_sul), f'{media_casas_leste:.2f}', mediana_casas_leste, float(moda_casas_leste), f'{desvio_padrao_casas_leste:.2f}', f'{coeficiente_de_variacao_casas_leste * pct:.2f}%'),\n",
        "    (len(df_casas_oeste), f'{media_casas_oeste:.2f}', mediana_casas_oeste, float(moda_casas_oeste), f'{desvio_padrao_casas_oeste:.2f}', f'{coeficiente_de_variacao_casas_oeste * pct:.2f}%'),\n",
        "    (len(df_casas_co), f'{media_casas_co:.2f}', mediana_casas_co, float(moda_casas_co), f'{desvio_padrao_casas_co:.2f}', f'{coeficiente_de_variacao_casas_co * pct:.2f}%'),\n",
        "    (len(df_casas_cs), f'{media_casas_cs:.2f}', mediana_casas_cs, moda_casas_cs.tolist(), f'{desvio_padrao_casas_cs:.2f}', f'{coeficiente_de_variacao_casas_cs * pct:.2f}%')],\n",
        "    index=('Zona Norte', 'Zona Sul', 'Zona Leste', 'Zona Oeste', 'Zona Centro Oeste', 'Zona Centro-Sul'),\n",
        "    columns=('Total Imóveis', 'Média', 'Mediana', 'Moda', 'Desvio Padrão', 'Coeficiente de Variação'))\n",
        "\n",
        "df_resultados_casas"
      ],
      "metadata": {
        "id": "mBTDVmS1hJVY",
        "colab": {
          "base_uri": "https://localhost:8080/"
        },
        "outputId": "8622b40e-d564-440a-e6ef-0976ee6cfd21"
      },
      "execution_count": null,
      "outputs": [
        {
          "output_type": "execute_result",
          "data": {
            "text/plain": [
              "                   Total Imóveis       Média   Mediana  \\\n",
              "Zona Norte                    50   399081.30  280078.5   \n",
              "Zona Sul                       6   602500.00  510000.0   \n",
              "Zona Leste                     6   171000.00  150000.0   \n",
              "Zona Oeste                    62  1249851.47  855000.0   \n",
              "Zona Centro Oeste             24   530502.83  400000.0   \n",
              "Zona Centro-Sul               63  1108624.67  400000.0   \n",
              "\n",
              "                                                                Moda  \\\n",
              "Zona Norte                                                  350000.0   \n",
              "Zona Sul           [240000.0, 265000.0, 420000.0, 600000.0, 70000...   \n",
              "Zona Leste                                                  150000.0   \n",
              "Zona Oeste                                                  700000.0   \n",
              "Zona Centro Oeste                                           300000.0   \n",
              "Zona Centro-Sul                       [350000.0, 400000.0, 900000.0]   \n",
              "\n",
              "                  Desvio Padrão Coeficiente de Variação  \n",
              "Zona Norte            438117.27                 109.78%  \n",
              "Zona Sul              426212.97                  70.74%  \n",
              "Zona Leste             85761.30                  50.15%  \n",
              "Zona Oeste           1308408.07                 104.69%  \n",
              "Zona Centro Oeste     484189.26                  91.27%  \n",
              "Zona Centro-Sul      1662668.53                 149.98%  "
            ],
            "text/html": [
              "\n",
              "  <div id=\"df-e928bc43-86f7-4e38-8dc1-68301dda7db7\">\n",
              "    <div class=\"colab-df-container\">\n",
              "      <div>\n",
              "<style scoped>\n",
              "    .dataframe tbody tr th:only-of-type {\n",
              "        vertical-align: middle;\n",
              "    }\n",
              "\n",
              "    .dataframe tbody tr th {\n",
              "        vertical-align: top;\n",
              "    }\n",
              "\n",
              "    .dataframe thead th {\n",
              "        text-align: right;\n",
              "    }\n",
              "</style>\n",
              "<table border=\"1\" class=\"dataframe\">\n",
              "  <thead>\n",
              "    <tr style=\"text-align: right;\">\n",
              "      <th></th>\n",
              "      <th>Total Imóveis</th>\n",
              "      <th>Média</th>\n",
              "      <th>Mediana</th>\n",
              "      <th>Moda</th>\n",
              "      <th>Desvio Padrão</th>\n",
              "      <th>Coeficiente de Variação</th>\n",
              "    </tr>\n",
              "  </thead>\n",
              "  <tbody>\n",
              "    <tr>\n",
              "      <th>Zona Norte</th>\n",
              "      <td>50</td>\n",
              "      <td>399081.30</td>\n",
              "      <td>280078.5</td>\n",
              "      <td>350000.0</td>\n",
              "      <td>438117.27</td>\n",
              "      <td>109.78%</td>\n",
              "    </tr>\n",
              "    <tr>\n",
              "      <th>Zona Sul</th>\n",
              "      <td>6</td>\n",
              "      <td>602500.00</td>\n",
              "      <td>510000.0</td>\n",
              "      <td>[240000.0, 265000.0, 420000.0, 600000.0, 70000...</td>\n",
              "      <td>426212.97</td>\n",
              "      <td>70.74%</td>\n",
              "    </tr>\n",
              "    <tr>\n",
              "      <th>Zona Leste</th>\n",
              "      <td>6</td>\n",
              "      <td>171000.00</td>\n",
              "      <td>150000.0</td>\n",
              "      <td>150000.0</td>\n",
              "      <td>85761.30</td>\n",
              "      <td>50.15%</td>\n",
              "    </tr>\n",
              "    <tr>\n",
              "      <th>Zona Oeste</th>\n",
              "      <td>62</td>\n",
              "      <td>1249851.47</td>\n",
              "      <td>855000.0</td>\n",
              "      <td>700000.0</td>\n",
              "      <td>1308408.07</td>\n",
              "      <td>104.69%</td>\n",
              "    </tr>\n",
              "    <tr>\n",
              "      <th>Zona Centro Oeste</th>\n",
              "      <td>24</td>\n",
              "      <td>530502.83</td>\n",
              "      <td>400000.0</td>\n",
              "      <td>300000.0</td>\n",
              "      <td>484189.26</td>\n",
              "      <td>91.27%</td>\n",
              "    </tr>\n",
              "    <tr>\n",
              "      <th>Zona Centro-Sul</th>\n",
              "      <td>63</td>\n",
              "      <td>1108624.67</td>\n",
              "      <td>400000.0</td>\n",
              "      <td>[350000.0, 400000.0, 900000.0]</td>\n",
              "      <td>1662668.53</td>\n",
              "      <td>149.98%</td>\n",
              "    </tr>\n",
              "  </tbody>\n",
              "</table>\n",
              "</div>\n",
              "      <button class=\"colab-df-convert\" onclick=\"convertToInteractive('df-e928bc43-86f7-4e38-8dc1-68301dda7db7')\"\n",
              "              title=\"Convert this dataframe to an interactive table.\"\n",
              "              style=\"display:none;\">\n",
              "        \n",
              "  <svg xmlns=\"http://www.w3.org/2000/svg\" height=\"24px\"viewBox=\"0 0 24 24\"\n",
              "       width=\"24px\">\n",
              "    <path d=\"M0 0h24v24H0V0z\" fill=\"none\"/>\n",
              "    <path d=\"M18.56 5.44l.94 2.06.94-2.06 2.06-.94-2.06-.94-.94-2.06-.94 2.06-2.06.94zm-11 1L8.5 8.5l.94-2.06 2.06-.94-2.06-.94L8.5 2.5l-.94 2.06-2.06.94zm10 10l.94 2.06.94-2.06 2.06-.94-2.06-.94-.94-2.06-.94 2.06-2.06.94z\"/><path d=\"M17.41 7.96l-1.37-1.37c-.4-.4-.92-.59-1.43-.59-.52 0-1.04.2-1.43.59L10.3 9.45l-7.72 7.72c-.78.78-.78 2.05 0 2.83L4 21.41c.39.39.9.59 1.41.59.51 0 1.02-.2 1.41-.59l7.78-7.78 2.81-2.81c.8-.78.8-2.07 0-2.86zM5.41 20L4 18.59l7.72-7.72 1.47 1.35L5.41 20z\"/>\n",
              "  </svg>\n",
              "      </button>\n",
              "      \n",
              "  <style>\n",
              "    .colab-df-container {\n",
              "      display:flex;\n",
              "      flex-wrap:wrap;\n",
              "      gap: 12px;\n",
              "    }\n",
              "\n",
              "    .colab-df-convert {\n",
              "      background-color: #E8F0FE;\n",
              "      border: none;\n",
              "      border-radius: 50%;\n",
              "      cursor: pointer;\n",
              "      display: none;\n",
              "      fill: #1967D2;\n",
              "      height: 32px;\n",
              "      padding: 0 0 0 0;\n",
              "      width: 32px;\n",
              "    }\n",
              "\n",
              "    .colab-df-convert:hover {\n",
              "      background-color: #E2EBFA;\n",
              "      box-shadow: 0px 1px 2px rgba(60, 64, 67, 0.3), 0px 1px 3px 1px rgba(60, 64, 67, 0.15);\n",
              "      fill: #174EA6;\n",
              "    }\n",
              "\n",
              "    [theme=dark] .colab-df-convert {\n",
              "      background-color: #3B4455;\n",
              "      fill: #D2E3FC;\n",
              "    }\n",
              "\n",
              "    [theme=dark] .colab-df-convert:hover {\n",
              "      background-color: #434B5C;\n",
              "      box-shadow: 0px 1px 3px 1px rgba(0, 0, 0, 0.15);\n",
              "      filter: drop-shadow(0px 1px 2px rgba(0, 0, 0, 0.3));\n",
              "      fill: #FFFFFF;\n",
              "    }\n",
              "  </style>\n",
              "\n",
              "      <script>\n",
              "        const buttonEl =\n",
              "          document.querySelector('#df-e928bc43-86f7-4e38-8dc1-68301dda7db7 button.colab-df-convert');\n",
              "        buttonEl.style.display =\n",
              "          google.colab.kernel.accessAllowed ? 'block' : 'none';\n",
              "\n",
              "        async function convertToInteractive(key) {\n",
              "          const element = document.querySelector('#df-e928bc43-86f7-4e38-8dc1-68301dda7db7');\n",
              "          const dataTable =\n",
              "            await google.colab.kernel.invokeFunction('convertToInteractive',\n",
              "                                                     [key], {});\n",
              "          if (!dataTable) return;\n",
              "\n",
              "          const docLinkHtml = 'Like what you see? Visit the ' +\n",
              "            '<a target=\"_blank\" href=https://colab.research.google.com/notebooks/data_table.ipynb>data table notebook</a>'\n",
              "            + ' to learn more about interactive tables.';\n",
              "          element.innerHTML = '';\n",
              "          dataTable['output_type'] = 'display_data';\n",
              "          await google.colab.output.renderOutput(dataTable, element);\n",
              "          const docLink = document.createElement('div');\n",
              "          docLink.innerHTML = docLinkHtml;\n",
              "          element.appendChild(docLink);\n",
              "        }\n",
              "      </script>\n",
              "    </div>\n",
              "  </div>\n",
              "  "
            ]
          },
          "metadata": {},
          "execution_count": 87
        }
      ]
    },
    {
      "cell_type": "code",
      "source": [
        "print(\"\\tSul\")\n",
        "printModa(moda_casas_sul)"
      ],
      "metadata": {
        "id": "keBqwTyG0LZX",
        "colab": {
          "base_uri": "https://localhost:8080/"
        },
        "outputId": "715d5874-3513-4d8e-fd69-0e9fd83a5086"
      },
      "execution_count": null,
      "outputs": [
        {
          "output_type": "stream",
          "name": "stdout",
          "text": [
            "\tSul\n",
            "Moda: \n",
            "240000\n",
            "265000\n",
            "420000\n",
            "600000\n",
            "700000\n",
            "1390000\n"
          ]
        }
      ]
    },
    {
      "cell_type": "markdown",
      "source": [
        "## Apartamentos"
      ],
      "metadata": {
        "id": "qbQuof5NhJVZ"
      }
    },
    {
      "cell_type": "code",
      "source": [
        "pct = 100\n",
        "df_resultados_apartamentos = pd.DataFrame([\n",
        "    (len(df_apartamentos_norte), f'{media_apartamentos_norte:.2f}', mediana_apartamentos_norte, moda_apartamentos_norte, f'{desvio_padrao_apartamentos_norte:.2f}', f'{coeficiente_de_variacao_apartamentos_norte * pct:.2f}%'),\n",
        "    (len(df_apartamentos_sul), f'{media_apartamentos_sul:.2f}', mediana_apartamentos_sul, list(moda_apartamentos_sul), f'{desvio_padrao_apartamentos_sul:.2f}', f'{coeficiente_de_variacao_apartamentos_sul * pct:.2f}%'),\n",
        "    (len(df_apartamentos_leste), f'{media_apartamentos_leste:.2f}', mediana_apartamentos_leste, list(moda_apartamentos_leste), f'{desvio_padrao_apartamentos_leste:.2f}', f'{coeficiente_de_variacao_apartamentos_leste * pct:.2f}%'),\n",
        "    (len(df_apartamentos_oeste), f'{media_apartamentos_oeste:.2f}', mediana_apartamentos_oeste, list(moda_apartamentos_oeste), f'{desvio_padrao_apartamentos_oeste:.2f}', f'{coeficiente_de_variacao_apartamentos_oeste * pct:.2f}%'),\n",
        "    (len(df_apartamentos_co), f'{media_apartamentos_co:.2f}', mediana_apartamentos_co, 'Nenhum valor se repete', f'{desvio_padrao_apartamentos_co:.2f}', f'{coeficiente_de_variacao_apartamentos_co * pct:.2f}%'),\n",
        "    (len(df_apartamentos_cs), f'{media_apartamentos_cs:.2f}', mediana_apartamentos_cs, float(moda_apartamentos_cs), f'{desvio_padrao_apartamentos_cs:.2f}', f'{coeficiente_de_variacao_apartamentos_cs * pct:.2f}%')],\n",
        "    index=('Zona Norte', 'Zona Sul', 'Zona Leste', 'Zona Oeste', 'Zona Centro Oeste', 'Zona Centro-Sul'),\n",
        "    columns=('Total Imóveis', 'Média', 'Mediana', 'Moda', 'Desvio Padrão', 'Coeficiente de Variação'))\n",
        "\n",
        "df_resultados_apartamentos"
      ],
      "metadata": {
        "id": "Sx1nRzfPhJVZ",
        "colab": {
          "base_uri": "https://localhost:8080/"
        },
        "outputId": "423be95c-fdc0-40a1-d34f-43c3a44d9cd7"
      },
      "execution_count": null,
      "outputs": [
        {
          "output_type": "execute_result",
          "data": {
            "text/plain": [
              "                   Total Imóveis      Média   Mediana  \\\n",
              "Zona Norte                    24  207079.17  161050.0   \n",
              "Zona Sul                       7  399800.14  333601.0   \n",
              "Zona Leste                     3  234737.33  234210.0   \n",
              "Zona Oeste                    54  532100.89  305005.0   \n",
              "Zona Centro Oeste             20  465768.10  325000.0   \n",
              "Zona Centro-Sul               73  762093.34  475000.0   \n",
              "\n",
              "                                                                Moda  \\\n",
              "Zona Norte                                                    160000   \n",
              "Zona Sul           [175000.0, 240000.0, 250000.0, 333601.0, 35000...   \n",
              "Zona Leste                            [190002.0, 234210.0, 280000.0]   \n",
              "Zona Oeste                                      [120000.0, 140000.0]   \n",
              "Zona Centro Oeste                             Nenhum valor se repete   \n",
              "Zona Centro-Sul                                             380000.0   \n",
              "\n",
              "                  Desvio Padrão Coeficiente de Variação  \n",
              "Zona Norte            123131.81                  59.46%  \n",
              "Zona Sul              240878.10                  60.25%  \n",
              "Zona Leste             45001.32                  19.17%  \n",
              "Zona Oeste            601000.32                 112.95%  \n",
              "Zona Centro Oeste     283250.92                  60.81%  \n",
              "Zona Centro-Sul      1032476.05                 135.48%  "
            ],
            "text/html": [
              "\n",
              "  <div id=\"df-f0934d9e-e401-4e17-a7c0-ca5643713596\">\n",
              "    <div class=\"colab-df-container\">\n",
              "      <div>\n",
              "<style scoped>\n",
              "    .dataframe tbody tr th:only-of-type {\n",
              "        vertical-align: middle;\n",
              "    }\n",
              "\n",
              "    .dataframe tbody tr th {\n",
              "        vertical-align: top;\n",
              "    }\n",
              "\n",
              "    .dataframe thead th {\n",
              "        text-align: right;\n",
              "    }\n",
              "</style>\n",
              "<table border=\"1\" class=\"dataframe\">\n",
              "  <thead>\n",
              "    <tr style=\"text-align: right;\">\n",
              "      <th></th>\n",
              "      <th>Total Imóveis</th>\n",
              "      <th>Média</th>\n",
              "      <th>Mediana</th>\n",
              "      <th>Moda</th>\n",
              "      <th>Desvio Padrão</th>\n",
              "      <th>Coeficiente de Variação</th>\n",
              "    </tr>\n",
              "  </thead>\n",
              "  <tbody>\n",
              "    <tr>\n",
              "      <th>Zona Norte</th>\n",
              "      <td>24</td>\n",
              "      <td>207079.17</td>\n",
              "      <td>161050.0</td>\n",
              "      <td>160000</td>\n",
              "      <td>123131.81</td>\n",
              "      <td>59.46%</td>\n",
              "    </tr>\n",
              "    <tr>\n",
              "      <th>Zona Sul</th>\n",
              "      <td>7</td>\n",
              "      <td>399800.14</td>\n",
              "      <td>333601.0</td>\n",
              "      <td>[175000.0, 240000.0, 250000.0, 333601.0, 35000...</td>\n",
              "      <td>240878.10</td>\n",
              "      <td>60.25%</td>\n",
              "    </tr>\n",
              "    <tr>\n",
              "      <th>Zona Leste</th>\n",
              "      <td>3</td>\n",
              "      <td>234737.33</td>\n",
              "      <td>234210.0</td>\n",
              "      <td>[190002.0, 234210.0, 280000.0]</td>\n",
              "      <td>45001.32</td>\n",
              "      <td>19.17%</td>\n",
              "    </tr>\n",
              "    <tr>\n",
              "      <th>Zona Oeste</th>\n",
              "      <td>54</td>\n",
              "      <td>532100.89</td>\n",
              "      <td>305005.0</td>\n",
              "      <td>[120000.0, 140000.0]</td>\n",
              "      <td>601000.32</td>\n",
              "      <td>112.95%</td>\n",
              "    </tr>\n",
              "    <tr>\n",
              "      <th>Zona Centro Oeste</th>\n",
              "      <td>20</td>\n",
              "      <td>465768.10</td>\n",
              "      <td>325000.0</td>\n",
              "      <td>Nenhum valor se repete</td>\n",
              "      <td>283250.92</td>\n",
              "      <td>60.81%</td>\n",
              "    </tr>\n",
              "    <tr>\n",
              "      <th>Zona Centro-Sul</th>\n",
              "      <td>73</td>\n",
              "      <td>762093.34</td>\n",
              "      <td>475000.0</td>\n",
              "      <td>380000.0</td>\n",
              "      <td>1032476.05</td>\n",
              "      <td>135.48%</td>\n",
              "    </tr>\n",
              "  </tbody>\n",
              "</table>\n",
              "</div>\n",
              "      <button class=\"colab-df-convert\" onclick=\"convertToInteractive('df-f0934d9e-e401-4e17-a7c0-ca5643713596')\"\n",
              "              title=\"Convert this dataframe to an interactive table.\"\n",
              "              style=\"display:none;\">\n",
              "        \n",
              "  <svg xmlns=\"http://www.w3.org/2000/svg\" height=\"24px\"viewBox=\"0 0 24 24\"\n",
              "       width=\"24px\">\n",
              "    <path d=\"M0 0h24v24H0V0z\" fill=\"none\"/>\n",
              "    <path d=\"M18.56 5.44l.94 2.06.94-2.06 2.06-.94-2.06-.94-.94-2.06-.94 2.06-2.06.94zm-11 1L8.5 8.5l.94-2.06 2.06-.94-2.06-.94L8.5 2.5l-.94 2.06-2.06.94zm10 10l.94 2.06.94-2.06 2.06-.94-2.06-.94-.94-2.06-.94 2.06-2.06.94z\"/><path d=\"M17.41 7.96l-1.37-1.37c-.4-.4-.92-.59-1.43-.59-.52 0-1.04.2-1.43.59L10.3 9.45l-7.72 7.72c-.78.78-.78 2.05 0 2.83L4 21.41c.39.39.9.59 1.41.59.51 0 1.02-.2 1.41-.59l7.78-7.78 2.81-2.81c.8-.78.8-2.07 0-2.86zM5.41 20L4 18.59l7.72-7.72 1.47 1.35L5.41 20z\"/>\n",
              "  </svg>\n",
              "      </button>\n",
              "      \n",
              "  <style>\n",
              "    .colab-df-container {\n",
              "      display:flex;\n",
              "      flex-wrap:wrap;\n",
              "      gap: 12px;\n",
              "    }\n",
              "\n",
              "    .colab-df-convert {\n",
              "      background-color: #E8F0FE;\n",
              "      border: none;\n",
              "      border-radius: 50%;\n",
              "      cursor: pointer;\n",
              "      display: none;\n",
              "      fill: #1967D2;\n",
              "      height: 32px;\n",
              "      padding: 0 0 0 0;\n",
              "      width: 32px;\n",
              "    }\n",
              "\n",
              "    .colab-df-convert:hover {\n",
              "      background-color: #E2EBFA;\n",
              "      box-shadow: 0px 1px 2px rgba(60, 64, 67, 0.3), 0px 1px 3px 1px rgba(60, 64, 67, 0.15);\n",
              "      fill: #174EA6;\n",
              "    }\n",
              "\n",
              "    [theme=dark] .colab-df-convert {\n",
              "      background-color: #3B4455;\n",
              "      fill: #D2E3FC;\n",
              "    }\n",
              "\n",
              "    [theme=dark] .colab-df-convert:hover {\n",
              "      background-color: #434B5C;\n",
              "      box-shadow: 0px 1px 3px 1px rgba(0, 0, 0, 0.15);\n",
              "      filter: drop-shadow(0px 1px 2px rgba(0, 0, 0, 0.3));\n",
              "      fill: #FFFFFF;\n",
              "    }\n",
              "  </style>\n",
              "\n",
              "      <script>\n",
              "        const buttonEl =\n",
              "          document.querySelector('#df-f0934d9e-e401-4e17-a7c0-ca5643713596 button.colab-df-convert');\n",
              "        buttonEl.style.display =\n",
              "          google.colab.kernel.accessAllowed ? 'block' : 'none';\n",
              "\n",
              "        async function convertToInteractive(key) {\n",
              "          const element = document.querySelector('#df-f0934d9e-e401-4e17-a7c0-ca5643713596');\n",
              "          const dataTable =\n",
              "            await google.colab.kernel.invokeFunction('convertToInteractive',\n",
              "                                                     [key], {});\n",
              "          if (!dataTable) return;\n",
              "\n",
              "          const docLinkHtml = 'Like what you see? Visit the ' +\n",
              "            '<a target=\"_blank\" href=https://colab.research.google.com/notebooks/data_table.ipynb>data table notebook</a>'\n",
              "            + ' to learn more about interactive tables.';\n",
              "          element.innerHTML = '';\n",
              "          dataTable['output_type'] = 'display_data';\n",
              "          await google.colab.output.renderOutput(dataTable, element);\n",
              "          const docLink = document.createElement('div');\n",
              "          docLink.innerHTML = docLinkHtml;\n",
              "          element.appendChild(docLink);\n",
              "        }\n",
              "      </script>\n",
              "    </div>\n",
              "  </div>\n",
              "  "
            ]
          },
          "metadata": {},
          "execution_count": 89
        }
      ]
    },
    {
      "cell_type": "code",
      "source": [
        "print(\"\\tSul\")\n",
        "printModa(moda_apartamentos_sul)"
      ],
      "metadata": {
        "id": "13o7Npks1sln",
        "colab": {
          "base_uri": "https://localhost:8080/"
        },
        "outputId": "77fee1c4-68d9-4ddc-8124-dbdd454bf110"
      },
      "execution_count": null,
      "outputs": [
        {
          "output_type": "stream",
          "name": "stdout",
          "text": [
            "\tSul\n",
            "Moda: \n",
            "175000\n",
            "240000\n",
            "250000\n",
            "333601\n",
            "350000\n",
            "600000\n",
            "850000\n"
          ]
        }
      ]
    },
    {
      "cell_type": "markdown",
      "source": [
        "# 🟆 Variável: Área (Quantitativa)\n",
        "\n",
        "\n",
        "---\n",
        "\n",
        "\n",
        "\n"
      ],
      "metadata": {
        "id": "jwy6-M0lCqgT"
      }
    },
    {
      "cell_type": "markdown",
      "source": [
        "## Medidas Gerais"
      ],
      "metadata": {
        "id": "hWvKjQeXCqgU"
      }
    },
    {
      "cell_type": "markdown",
      "source": [
        "### *Geral*"
      ],
      "metadata": {
        "id": "U8RiITDnCqgU"
      }
    },
    {
      "cell_type": "code",
      "source": [
        "mediana = df[\"area\"].median()"
      ],
      "metadata": {
        "id": "yiBcYcKKCqgU"
      },
      "execution_count": null,
      "outputs": []
    },
    {
      "cell_type": "code",
      "source": [
        "media = df[\"area\"].mean()"
      ],
      "metadata": {
        "id": "H0u2gJhxCqgU"
      },
      "execution_count": null,
      "outputs": []
    },
    {
      "cell_type": "code",
      "source": [
        "moda = df[\"area\"].mode()"
      ],
      "metadata": {
        "id": "glWUQ7WkCqgU"
      },
      "execution_count": null,
      "outputs": []
    },
    {
      "cell_type": "code",
      "source": [
        "desvio_padrao = df[\"area\"].std()"
      ],
      "metadata": {
        "id": "yw3G9lPMCqgU"
      },
      "execution_count": null,
      "outputs": []
    },
    {
      "cell_type": "code",
      "source": [
        "coeficiente_de_variacao = desvio_padrao/media\n",
        "coeficiente_porcentagem = coeficiente_de_variacao * 100"
      ],
      "metadata": {
        "id": "VRamOBHaCqgU"
      },
      "execution_count": null,
      "outputs": []
    },
    {
      "cell_type": "code",
      "source": [
        "print(f'Média: {media:.2f}')\n",
        "print(f'Mediana: {mediana:.0f}')\n",
        "print(f'Moda: {moda}')\n",
        "print(f'Desvio Padrão: {desvio_padrao:.2f}')\n",
        "print(f'Coeficiente de Variação: {coeficiente_porcentagem:.2f}%')"
      ],
      "metadata": {
        "id": "VmTeuT4FCqgU",
        "colab": {
          "base_uri": "https://localhost:8080/"
        },
        "outputId": "fb518233-21ba-4ff1-bf44-8a352b41d381"
      },
      "execution_count": null,
      "outputs": [
        {
          "output_type": "stream",
          "name": "stdout",
          "text": [
            "Média: 316.52\n",
            "Mediana: 120\n",
            "Moda: 0    150.0\n",
            "1    250.0\n",
            "dtype: float64\n",
            "Desvio Padrão: 1413.31\n",
            "Coeficiente de Variação: 446.52%\n"
          ]
        }
      ]
    },
    {
      "cell_type": "markdown",
      "source": [
        "### *Casas*\n"
      ],
      "metadata": {
        "id": "R7lwyOIaCqgU"
      }
    },
    {
      "cell_type": "code",
      "source": [
        "media_casas = df[\"area\"].mean()\n",
        "moda_casas = df[\"area\"].mode()\n",
        "mediana_casas = df[\"area\"].median()\n",
        "desvio_padrao_casas = df[\"area\"].std()\n",
        "coeficiente_de_variacao_casas = desvio_padrao/media"
      ],
      "metadata": {
        "id": "YBChF_EdCqgV"
      },
      "execution_count": null,
      "outputs": []
    },
    {
      "cell_type": "code",
      "source": [
        "print(f'Média: {media_casas:.2f}')\n",
        "print(f'Mediana: {mediana_casas:.0f}')\n",
        "print(f'Moda: {moda_casas}')\n",
        "print(f'Desvio Padrão: {desvio_padrao_casas:.2f}')\n",
        "print(f'Coeficiente de Variação: {coeficiente_de_variacao_casas:.2f}%')"
      ],
      "metadata": {
        "id": "EQgm36kNCqgV",
        "colab": {
          "base_uri": "https://localhost:8080/"
        },
        "outputId": "54f7a2f8-97f3-4632-ce4d-772aa815fc08"
      },
      "execution_count": null,
      "outputs": [
        {
          "output_type": "stream",
          "name": "stdout",
          "text": [
            "Média: 316.52\n",
            "Mediana: 120\n",
            "Moda: 0    150.0\n",
            "1    250.0\n",
            "dtype: float64\n",
            "Desvio Padrão: 1413.31\n",
            "Coeficiente de Variação: 4.47%\n"
          ]
        }
      ]
    },
    {
      "cell_type": "markdown",
      "source": [
        "###*Apartamentos*"
      ],
      "metadata": {
        "id": "ITL9sxs1CqgV"
      }
    },
    {
      "cell_type": "code",
      "source": [
        "media_area = df_apartamentos[\"area\"].mean()\n",
        "moda_area = df_apartamentos[\"area\"].mode()\n",
        "mediana_area = df_apartamentos[\"area\"].median()\n",
        "desvio_padrao_area = df_apartamentos[\"area\"].std()\n",
        "coeficiente_de_variacao_casas = desvio_padrao_area/media_area"
      ],
      "metadata": {
        "id": "Ekg1u2r9CqgV"
      },
      "execution_count": null,
      "outputs": []
    },
    {
      "cell_type": "code",
      "source": [
        "print(f'Média: {media_casas:.2f}')\n",
        "print(f'Mediana: {mediana_casas:.0f}')\n",
        "print(f'Moda: {moda_casas}')\n",
        "print(f'Desvio Padrão: {desvio_padrao_casas:.2f}')\n",
        "print(f'Coeficiente de Variação: {coeficiente_de_variacao_casas * 100:.2f}%')"
      ],
      "metadata": {
        "id": "jh02vjlxCqgV",
        "colab": {
          "base_uri": "https://localhost:8080/"
        },
        "outputId": "b663c8a6-815a-4838-f213-fb250b004f34"
      },
      "execution_count": null,
      "outputs": [
        {
          "output_type": "stream",
          "name": "stdout",
          "text": [
            "Média: 316.52\n",
            "Mediana: 120\n",
            "Moda: 0    150.0\n",
            "1    250.0\n",
            "dtype: float64\n",
            "Desvio Padrão: 1413.31\n",
            "Coeficiente de Variação: 93.19%\n"
          ]
        }
      ]
    },
    {
      "cell_type": "markdown",
      "source": [
        "## Região Norte"
      ],
      "metadata": {
        "id": "XnBeVNWLCqgW"
      }
    },
    {
      "cell_type": "markdown",
      "source": [
        "### *Medidas Gerais*"
      ],
      "metadata": {
        "id": "fa96yIgyCqgW"
      }
    },
    {
      "cell_type": "code",
      "source": [
        "len(df_norte)"
      ],
      "metadata": {
        "id": "kQwW4fq4CqgW",
        "colab": {
          "base_uri": "https://localhost:8080/"
        },
        "outputId": "93a22480-e7bd-4aa7-fcfe-a872fd25fda9"
      },
      "execution_count": null,
      "outputs": [
        {
          "output_type": "execute_result",
          "data": {
            "text/plain": [
              "74"
            ]
          },
          "metadata": {},
          "execution_count": 101
        }
      ]
    },
    {
      "cell_type": "code",
      "source": [
        "media_norte = df_norte[\"area\"].mean()"
      ],
      "metadata": {
        "id": "IWFzRUKiCqgW"
      },
      "execution_count": null,
      "outputs": []
    },
    {
      "cell_type": "code",
      "source": [
        "mediana_norte = df_norte[\"area\"].median()"
      ],
      "metadata": {
        "id": "51sIJ8ufCqgW"
      },
      "execution_count": null,
      "outputs": []
    },
    {
      "cell_type": "code",
      "source": [
        "moda_norte = df_norte[\"area\"].mode()"
      ],
      "metadata": {
        "id": "z_i52WrzCqgW"
      },
      "execution_count": null,
      "outputs": []
    },
    {
      "cell_type": "code",
      "source": [
        "desvio_padrao_norte = df_norte[\"area\"].std()"
      ],
      "metadata": {
        "id": "TtHO0-tQCqgW"
      },
      "execution_count": null,
      "outputs": []
    },
    {
      "cell_type": "code",
      "source": [
        "coeficiente_de_variacao_norte = desvio_padrao_norte/media_norte"
      ],
      "metadata": {
        "id": "FmWElF_fCqgW"
      },
      "execution_count": null,
      "outputs": []
    },
    {
      "cell_type": "code",
      "source": [
        "print(\"MEDIDAS GERAIS DA VARIÁVEL 'ÁREA' DA REGIÃO NORTE\")\n",
        "print(f\"Média: {media_norte:.2f}\")\n",
        "print(f\"Mediana: {mediana_norte:.0f}\")\n",
        "print(f\"Moda: {moda_norte}\")\n",
        "print(f\"Desvio Padrão: {desvio_padrao_norte:.2f}\")\n",
        "print(f\"Coeficiente de Variação: {coeficiente_de_variacao_norte * 100:.2f}%\")"
      ],
      "metadata": {
        "id": "XutYkI0LCqgX",
        "colab": {
          "base_uri": "https://localhost:8080/"
        },
        "outputId": "11ae8d76-78d0-4db0-efda-917a8e789be4"
      },
      "execution_count": null,
      "outputs": [
        {
          "output_type": "stream",
          "name": "stdout",
          "text": [
            "MEDIDAS GERAIS DA VARIÁVEL 'ÁREA' DA REGIÃO NORTE\n",
            "Média: 285.80\n",
            "Mediana: 90\n",
            "Moda: 0    100.0\n",
            "dtype: float64\n",
            "Desvio Padrão: 1157.98\n",
            "Coeficiente de Variação: 405.17%\n"
          ]
        }
      ]
    },
    {
      "cell_type": "markdown",
      "source": [
        "###*Casas*"
      ],
      "metadata": {
        "id": "mkf5qOsPCqgX"
      }
    },
    {
      "cell_type": "code",
      "source": [
        "len(df_casas_norte)"
      ],
      "metadata": {
        "id": "T3xdujAyCqgX",
        "colab": {
          "base_uri": "https://localhost:8080/"
        },
        "outputId": "a0fb8267-b873-4512-9e6d-3eddde270013"
      },
      "execution_count": null,
      "outputs": [
        {
          "output_type": "execute_result",
          "data": {
            "text/plain": [
              "50"
            ]
          },
          "metadata": {},
          "execution_count": 108
        }
      ]
    },
    {
      "cell_type": "code",
      "source": [
        "media_casas_norte = df_casas_norte[\"area\"].mean()"
      ],
      "metadata": {
        "id": "4aTTx0TpCqgX"
      },
      "execution_count": null,
      "outputs": []
    },
    {
      "cell_type": "code",
      "source": [
        "mediana_casas_norte = df_casas_norte[\"area\"].median()"
      ],
      "metadata": {
        "id": "1_Neyok_CqgX"
      },
      "execution_count": null,
      "outputs": []
    },
    {
      "cell_type": "code",
      "source": [
        "moda_casas_norte = df_casas_norte[\"area\"].mode()"
      ],
      "metadata": {
        "id": "aY3AFAPtCqgY"
      },
      "execution_count": null,
      "outputs": []
    },
    {
      "cell_type": "code",
      "source": [
        "desvio_padrao_casas_norte = df_casas_norte[\"area\"].std()"
      ],
      "metadata": {
        "id": "4YpBK3DZCqgY"
      },
      "execution_count": null,
      "outputs": []
    },
    {
      "cell_type": "code",
      "source": [
        "coeficiente_de_variacao_casas_norte = desvio_padrao_casas_norte/media_casas_norte"
      ],
      "metadata": {
        "id": "wuWy7X45CqgZ"
      },
      "execution_count": null,
      "outputs": []
    },
    {
      "cell_type": "code",
      "source": [
        "print(\"MEDIDAS DA 'ÁREA' DAS CASAS DA REGIÃO NORTE\")\n",
        "print(f\"Média: {media_casas_norte:.2f}\")\n",
        "printModa(moda_casas_norte)\n",
        "print(f\"Mediana: {mediana_casas_norte:.0f}\")\n",
        "print(f\"Desvio Padrão: {desvio_padrao_casas_norte:.2f}\")\n",
        "print(f\"Coeficiente de Variação: {coeficiente_de_variacao_casas_norte * 100:.2f}%\")"
      ],
      "metadata": {
        "id": "rjBtASueCqgZ",
        "colab": {
          "base_uri": "https://localhost:8080/"
        },
        "outputId": "0ae6c99d-09fe-443c-b929-156957dca94a"
      },
      "execution_count": null,
      "outputs": [
        {
          "output_type": "stream",
          "name": "stdout",
          "text": [
            "MEDIDAS DA 'ÁREA' DAS CASAS DA REGIÃO NORTE\n",
            "Média: 393.42\n",
            "Moda: \n",
            "70\n",
            "90\n",
            "100\n",
            "Mediana: 116\n",
            "Desvio Padrão: 1400.35\n",
            "Coeficiente de Variação: 355.94%\n"
          ]
        }
      ]
    },
    {
      "cell_type": "markdown",
      "source": [
        "### *Apartamentos*"
      ],
      "metadata": {
        "id": "Sr6ev-g6CqgZ"
      }
    },
    {
      "cell_type": "code",
      "source": [
        "len(df_apartamentos_norte)"
      ],
      "metadata": {
        "id": "Rz3nZM7gCqga",
        "colab": {
          "base_uri": "https://localhost:8080/"
        },
        "outputId": "01d56ef3-5131-4328-956b-046f5912f909"
      },
      "execution_count": null,
      "outputs": [
        {
          "output_type": "execute_result",
          "data": {
            "text/plain": [
              "24"
            ]
          },
          "metadata": {},
          "execution_count": 115
        }
      ]
    },
    {
      "cell_type": "code",
      "source": [
        "media_apartamentos_norte= df_apartamentos_norte[\"area\"].mean()\n",
        "mediana_apartamentos_norte= df_apartamentos_norte[\"area\"].median()\n",
        "moda_apartamentos_norte= int(df_apartamentos_norte[\"area\"].mode())\n",
        "desvio_padrao_apartamentos_norte= df_apartamentos_norte[\"area\"].std()\n",
        "coeficiente_de_variacao_apartamentos_norte= desvio_padrao_apartamentos_norte/media_apartamentos_norte"
      ],
      "metadata": {
        "id": "m0Yvu6DyCqga"
      },
      "execution_count": null,
      "outputs": []
    },
    {
      "cell_type": "code",
      "source": [
        "print(\"MEDIDAS DA 'ÁREA' DOS APARTAMENTOS DA REGIÃO NORTE\")\n",
        "print(f\"Média: {media_apartamentos_norte:.2f}\")\n",
        "print(f\"Moda: {moda_apartamentos_norte}\")\n",
        "print(f\"Mediana: {mediana_apartamentos_norte:.0f}\")\n",
        "print(f\"Desvio Padrão: {desvio_padrao_casas_norte:.2f}%\")\n",
        "print(f\"Coeficiente de Variação: {coeficiente_de_variacao_casas_norte * 100:.2f}%\")"
      ],
      "metadata": {
        "id": "Dgo5x0uTCqgb",
        "colab": {
          "base_uri": "https://localhost:8080/"
        },
        "outputId": "a1209137-aa65-4896-9e00-b019c4f9eb4e"
      },
      "execution_count": null,
      "outputs": [
        {
          "output_type": "stream",
          "name": "stdout",
          "text": [
            "MEDIDAS DA 'ÁREA' DOS APARTAMENTOS DA REGIÃO NORTE\n",
            "Média: 61.58\n",
            "Moda: 41\n",
            "Mediana: 50\n",
            "Desvio Padrão: 1400.35%\n",
            "Coeficiente de Variação: 355.94%\n"
          ]
        }
      ]
    },
    {
      "cell_type": "markdown",
      "source": [
        "## Região Sul"
      ],
      "metadata": {
        "id": "Y2eHFhNfCqgb"
      }
    },
    {
      "cell_type": "markdown",
      "source": [
        "### *Medidas Gerais*"
      ],
      "metadata": {
        "id": "NaC4dm-YCqgb"
      }
    },
    {
      "cell_type": "code",
      "source": [
        "len(df_sul)"
      ],
      "metadata": {
        "id": "af7SoxMyCqgb",
        "colab": {
          "base_uri": "https://localhost:8080/"
        },
        "outputId": "7957a712-d012-4ca3-8ea3-44b34eb88140"
      },
      "execution_count": null,
      "outputs": [
        {
          "output_type": "execute_result",
          "data": {
            "text/plain": [
              "13"
            ]
          },
          "metadata": {},
          "execution_count": 118
        }
      ]
    },
    {
      "cell_type": "code",
      "source": [
        "media_sul = df_sul[\"area\"].mean()"
      ],
      "metadata": {
        "id": "dlwOws0ACqgc"
      },
      "execution_count": null,
      "outputs": []
    },
    {
      "cell_type": "code",
      "source": [
        "mediana_sul = df_sul[\"area\"].median()"
      ],
      "metadata": {
        "id": "Ln2IfuWCCqgc"
      },
      "execution_count": null,
      "outputs": []
    },
    {
      "cell_type": "code",
      "source": [
        "moda_sul = df_sul[\"area\"].mode()"
      ],
      "metadata": {
        "id": "JbOHfQYVCqgc"
      },
      "execution_count": null,
      "outputs": []
    },
    {
      "cell_type": "code",
      "source": [
        "desvio_padrao_sul = df_sul[\"area\"].std()"
      ],
      "metadata": {
        "id": "Ol92qDllCqgc"
      },
      "execution_count": null,
      "outputs": []
    },
    {
      "cell_type": "code",
      "source": [
        "coeficiente_de_variacao_sul = desvio_padrao_sul/media_sul"
      ],
      "metadata": {
        "id": "BQrxPg6KCqgc"
      },
      "execution_count": null,
      "outputs": []
    },
    {
      "cell_type": "code",
      "source": [
        "print(\"MEDIDAS DA VARIAVEL 'ÁREA DE IMÓVEIS' DA REGIÃO SUL\")\n",
        "print(f\"Média: {media_sul:.0f}\")\n",
        "print(f\"Moda: {moda_sul}\")\n",
        "print(f\"Mediana: {mediana_sul:.0f}\")\n",
        "print(f\"Desvio Padrão:  {desvio_padrao_sul:.2f}\")\n",
        "print(f\"Coeficiente de variação:  {coeficiente_de_variacao_sul *100:.2f}%\")"
      ],
      "metadata": {
        "id": "_5O4-RC4Cqgd",
        "colab": {
          "base_uri": "https://localhost:8080/"
        },
        "outputId": "6535a0fc-08d0-440e-8f38-83162f4f2db9"
      },
      "execution_count": null,
      "outputs": [
        {
          "output_type": "stream",
          "name": "stdout",
          "text": [
            "MEDIDAS DA VARIAVEL 'ÁREA DE IMÓVEIS' DA REGIÃO SUL\n",
            "Média: 1552\n",
            "Moda: 0    200.0\n",
            "dtype: float64\n",
            "Mediana: 150\n",
            "Desvio Padrão:  4930.23\n",
            "Coeficiente de variação:  317.69%\n"
          ]
        }
      ]
    },
    {
      "cell_type": "markdown",
      "source": [
        "### *Casas*"
      ],
      "metadata": {
        "id": "qC5NOCKRCqgd"
      }
    },
    {
      "cell_type": "code",
      "source": [
        "len(df_casas_sul)"
      ],
      "metadata": {
        "id": "40UoPSmHCqgd",
        "colab": {
          "base_uri": "https://localhost:8080/"
        },
        "outputId": "28463c01-b370-4db3-eaf6-3c87d9908d4c"
      },
      "execution_count": null,
      "outputs": [
        {
          "output_type": "execute_result",
          "data": {
            "text/plain": [
              "6"
            ]
          },
          "metadata": {},
          "execution_count": 125
        }
      ]
    },
    {
      "cell_type": "code",
      "source": [
        "media_casas_sul = df_casas_sul[\"area\"].mean()\n",
        "moda_casas_sul = df_casas_sul[\"area\"].mode()\n",
        "mediana_casas_sul = df_casas_sul[\"area\"].median()\n",
        "desvio_padrao_casas_sul = df_casas_sul[\"area\"].std()\n",
        "coeficiente_de_variacao_casas_sul = desvio_padrao_casas_sul/media_casas_sul"
      ],
      "metadata": {
        "id": "G9I3R-TrCqgd"
      },
      "execution_count": null,
      "outputs": []
    },
    {
      "cell_type": "code",
      "source": [
        "print(\"MEDIDAS DA VARIAVEL 'ÁREA' DAS CASAS DA REGIÃO SUL\")\n",
        "print(f\"Média: {media_casas_sul:.2f}\")\n",
        "printModa(moda_casas_sul)\n",
        "print(f\"Mediana: {mediana_casas_sul:.0f}\")\n",
        "print(f\"Desvio Padrão:  {desvio_padrao_casas_sul:.2f}\")\n",
        "print(f\"Coeficiente de variação:  {coeficiente_de_variacao_casas_sul *100:.2f}%\")"
      ],
      "metadata": {
        "id": "FXTKMvOhCqge",
        "colab": {
          "base_uri": "https://localhost:8080/"
        },
        "outputId": "e1cf3904-e5a0-4740-a4a3-8fbdc4b6bc98"
      },
      "execution_count": null,
      "outputs": [
        {
          "output_type": "stream",
          "name": "stdout",
          "text": [
            "MEDIDAS DA VARIAVEL 'ÁREA' DAS CASAS DA REGIÃO SUL\n",
            "Média: 3244.50\n",
            "Moda: \n",
            "200\n",
            "Mediana: 200\n",
            "Desvio Padrão:  7207.48\n",
            "Coeficiente de variação:  222.14%\n"
          ]
        }
      ]
    },
    {
      "cell_type": "markdown",
      "source": [
        "### *Apartamentos*"
      ],
      "metadata": {
        "id": "XjRbQLF0Cqge"
      }
    },
    {
      "cell_type": "code",
      "source": [
        "len(df_apartamentos_sul)"
      ],
      "metadata": {
        "id": "ZbI6iZJUCqge",
        "colab": {
          "base_uri": "https://localhost:8080/"
        },
        "outputId": "9bab5163-85d8-4740-f6ab-19ee55e70c86"
      },
      "execution_count": null,
      "outputs": [
        {
          "output_type": "execute_result",
          "data": {
            "text/plain": [
              "7"
            ]
          },
          "metadata": {},
          "execution_count": 128
        }
      ]
    },
    {
      "cell_type": "code",
      "source": [
        "media_apartamentos_sul = df_apartamentos_sul[\"area\"].mean()\n",
        "moda_apartamentos_sul = df_apartamentos_sul[\"area\"].mode()\n",
        "mediana_apartamentos_sul = df_apartamentos_sul[\"area\"].median()\n",
        "desvio_padrao_apartamentos_sul = df_apartamentos_sul[\"area\"].std()\n",
        "coeficiente_de_variacao_apartamentos_sul = desvio_padrao_apartamentos_sul/media_apartamentos_sul"
      ],
      "metadata": {
        "id": "2fv7RLMYCqgf"
      },
      "execution_count": null,
      "outputs": []
    },
    {
      "cell_type": "code",
      "source": [
        "print(\"MEDIDAS DA VARIAVEL 'ÁREA' DE APARTAMENTOS DA REGIÃO SUL\")\n",
        "print(f\"Média: {media_apartamentos_sul:.2f}\")\n",
        "printModa(moda_apartamentos_sul)\n",
        "print(f\"Mediana: {mediana_apartamentos_sul:.0f}\")\n",
        "print(f\"Desvio Padrão:  {desvio_padrao_apartamentos_sul:.2f}\")\n",
        "print(f\"Coeficiente de variação:  {coeficiente_de_variacao_apartamentos_sul *100:.2f}%\")"
      ],
      "metadata": {
        "id": "5_uQi9yUCqgf",
        "colab": {
          "base_uri": "https://localhost:8080/"
        },
        "outputId": "69f63ead-435e-4fed-f237-060243b9322b"
      },
      "execution_count": null,
      "outputs": [
        {
          "output_type": "stream",
          "name": "stdout",
          "text": [
            "MEDIDAS DA VARIAVEL 'ÁREA' DE APARTAMENTOS DA REGIÃO SUL\n",
            "Média: 101.14\n",
            "Moda: \n",
            "53\n",
            "54\n",
            "72\n",
            "75\n",
            "76\n",
            "150\n",
            "228\n",
            "Mediana: 75\n",
            "Desvio Padrão:  64.79\n",
            "Coeficiente de variação:  64.06%\n"
          ]
        }
      ]
    },
    {
      "cell_type": "markdown",
      "source": [
        "## Região Leste"
      ],
      "metadata": {
        "id": "B8hC7lUjCqgf"
      }
    },
    {
      "cell_type": "markdown",
      "source": [
        "### *Medidas Gerais*"
      ],
      "metadata": {
        "id": "xkSvTaUGCqgf"
      }
    },
    {
      "cell_type": "code",
      "source": [
        "len(df_leste)"
      ],
      "metadata": {
        "id": "FMwTCZ0mCqgf",
        "colab": {
          "base_uri": "https://localhost:8080/"
        },
        "outputId": "88f66479-a8e8-4fb8-9143-5cdc7cc547ed"
      },
      "execution_count": null,
      "outputs": [
        {
          "output_type": "execute_result",
          "data": {
            "text/plain": [
              "8"
            ]
          },
          "metadata": {},
          "execution_count": 131
        }
      ]
    },
    {
      "cell_type": "code",
      "source": [
        "media_leste = df_leste[\"area\"].mean()\n",
        "moda_leste = df_leste[\"area\"].mode()\n",
        "mediana_leste = df_leste[\"area\"].median()\n",
        "desvio_padrao_leste = df_leste[\"area\"].std()\n",
        "coeficiente_de_variacao_leste = desvio_padrao_leste/media_leste"
      ],
      "metadata": {
        "id": "r29ZRCZCCqgg"
      },
      "execution_count": null,
      "outputs": []
    },
    {
      "cell_type": "code",
      "source": [
        "print(\"MEDIDAS DA VARIAVEL 'ÁREA' DA REGIÃO LESTE\")\n",
        "print(f\"Média: {media_leste:.2f}\")\n",
        "printModa(moda_leste)\n",
        "print(f\"Mediana: {mediana_leste:.0f}\")\n",
        "print(f\"Desvio Padrão:  {desvio_padrao_leste :.2f}\")\n",
        "print(f\"Coeficiente de variação:  {coeficiente_de_variacao_leste *100:.2f}%\")"
      ],
      "metadata": {
        "id": "UojAD1SVCqgg",
        "colab": {
          "base_uri": "https://localhost:8080/"
        },
        "outputId": "7d846f58-8bc6-4332-8c59-ffee8370bb5d"
      },
      "execution_count": null,
      "outputs": [
        {
          "output_type": "stream",
          "name": "stdout",
          "text": [
            "MEDIDAS DA VARIAVEL 'ÁREA' DA REGIÃO LESTE\n",
            "Média: 83.38\n",
            "Moda: \n",
            "100\n",
            "Mediana: 82\n",
            "Desvio Padrão:  42.55\n",
            "Coeficiente de variação:  51.04%\n"
          ]
        }
      ]
    },
    {
      "cell_type": "markdown",
      "source": [
        "### *Casas*"
      ],
      "metadata": {
        "id": "QvJJb0_jCqgg"
      }
    },
    {
      "cell_type": "code",
      "source": [
        "len(df_casas_leste)"
      ],
      "metadata": {
        "id": "hdg2k8mHCqgg",
        "colab": {
          "base_uri": "https://localhost:8080/"
        },
        "outputId": "9c556545-ae6f-4481-8058-a9b49e4f1df9"
      },
      "execution_count": null,
      "outputs": [
        {
          "output_type": "execute_result",
          "data": {
            "text/plain": [
              "5"
            ]
          },
          "metadata": {},
          "execution_count": 134
        }
      ]
    },
    {
      "cell_type": "code",
      "source": [
        "media_casas_leste = df_casas_leste[\"area\"].mean()\n",
        "moda_casas_leste = df_casas_leste[\"area\"].mode()\n",
        "mediana_casas_leste = df_casas_leste[\"area\"].median()\n",
        "desvio_padrao_casas_leste = df_casas_leste[\"area\"].std()\n",
        "coeficiente_de_variacao_casas_leste = desvio_padrao_casas_leste/media_casas_leste"
      ],
      "metadata": {
        "id": "tUckDPJ7Cqgg"
      },
      "execution_count": null,
      "outputs": []
    },
    {
      "cell_type": "code",
      "source": [
        "print(\"MEDIDAS DA VARIAVEL 'ÁREA' DAS CASAS DA REGIÃO SUL\")\n",
        "print(f\"Média: {media_casas_leste:.1f}\")\n",
        "printModa(moda_casas_leste)\n",
        "print(f\"Mediana: {mediana_casas_leste:.0f}\")\n",
        "print(f\"Desvio Padrão:  {desvio_padrao_casas_leste:.2f}\")\n",
        "print(f\"Coeficiente de variação:  {coeficiente_de_variacao_casas_leste *100:.2f}%\")"
      ],
      "metadata": {
        "id": "fe1qgMtPCqgg",
        "colab": {
          "base_uri": "https://localhost:8080/"
        },
        "outputId": "30283c9e-3b3a-4c3a-f0e5-a73608143457"
      },
      "execution_count": null,
      "outputs": [
        {
          "output_type": "stream",
          "name": "stdout",
          "text": [
            "MEDIDAS DA VARIAVEL 'ÁREA' DAS CASAS DA REGIÃO SUL\n",
            "Média: 99.0\n",
            "Moda: \n",
            "100\n",
            "Mediana: 100\n",
            "Desvio Padrão:  47.31\n",
            "Coeficiente de variação:  47.79%\n"
          ]
        }
      ]
    },
    {
      "cell_type": "markdown",
      "source": [
        "### *Apartamentos*"
      ],
      "metadata": {
        "id": "JgYPD6qwCqgg"
      }
    },
    {
      "cell_type": "code",
      "source": [
        "len(df_apartamentos_leste)"
      ],
      "metadata": {
        "id": "mA02ov2hCqgg",
        "colab": {
          "base_uri": "https://localhost:8080/"
        },
        "outputId": "fa214918-2472-400f-8372-e32bbe6ddd3b"
      },
      "execution_count": null,
      "outputs": [
        {
          "output_type": "execute_result",
          "data": {
            "text/plain": [
              "3"
            ]
          },
          "metadata": {},
          "execution_count": 137
        }
      ]
    },
    {
      "cell_type": "code",
      "source": [
        "media_apartamentos_leste = df_apartamentos_leste[\"area\"].mean()\n",
        "moda_apartamentos_leste = df_apartamentos_leste[\"area\"].mode()\n",
        "mediana_apartamentos_leste = df_apartamentos_leste[\"area\"].median()\n",
        "desvio_padrao_apartamentos_leste = df_apartamentos_leste[\"area\"].std()\n",
        "coeficiente_de_variacao_apartamentos_leste = desvio_padrao_apartamentos_leste/media_apartamentos_leste"
      ],
      "metadata": {
        "id": "Wj8bJm92Cqgh"
      },
      "execution_count": null,
      "outputs": []
    },
    {
      "cell_type": "code",
      "source": [
        "print(\"MEDIDAS DA VARIAVEL 'ÁREA' DOS APARTAMENTOS DA REGIÃO LESTE\")\n",
        "print(f\"Média: {media_apartamentos_leste:.1f}\")\n",
        "printModa(moda_apartamentos_leste)\n",
        "print(f\"Mediana: {mediana_apartamentos_leste:.0f}\")\n",
        "print(f\"Desvio Padrão:  {desvio_padrao_apartamentos_leste:.2f}\")\n",
        "print(f\"Coeficiente de variação:  {coeficiente_de_variacao_apartamentos_leste *100:.2f}%\")"
      ],
      "metadata": {
        "id": "o0t7YfrmCqgh",
        "colab": {
          "base_uri": "https://localhost:8080/"
        },
        "outputId": "98a062ac-4582-4e9c-ca41-349679e1ba5e"
      },
      "execution_count": null,
      "outputs": [
        {
          "output_type": "stream",
          "name": "stdout",
          "text": [
            "MEDIDAS DA VARIAVEL 'ÁREA' DOS APARTAMENTOS DA REGIÃO LESTE\n",
            "Média: 57.3\n",
            "Moda: \n",
            "44\n",
            "54\n",
            "74\n",
            "Mediana: 54\n",
            "Desvio Padrão:  15.28\n",
            "Coeficiente de variação:  26.64%\n"
          ]
        }
      ]
    },
    {
      "cell_type": "markdown",
      "source": [
        "## Região Oeste"
      ],
      "metadata": {
        "id": "fV7U-tWoCqgh"
      }
    },
    {
      "cell_type": "markdown",
      "source": [
        "### *Medidas Gerais*"
      ],
      "metadata": {
        "id": "QCqCv5S_Cqgh"
      }
    },
    {
      "cell_type": "code",
      "source": [
        "len(df_oeste)"
      ],
      "metadata": {
        "id": "r9nB8M7JCqgh",
        "colab": {
          "base_uri": "https://localhost:8080/"
        },
        "outputId": "abb1a6e6-170e-4675-f5f8-0f3478efa771"
      },
      "execution_count": null,
      "outputs": [
        {
          "output_type": "execute_result",
          "data": {
            "text/plain": [
              "116"
            ]
          },
          "metadata": {},
          "execution_count": 140
        }
      ]
    },
    {
      "cell_type": "code",
      "source": [
        "media_oeste = df_oeste[\"area\"].mean()\n",
        "moda_oeste = df_oeste[\"area\"].mode()\n",
        "mediana_oeste = df_oeste[\"area\"].median()\n",
        "desvio_padrao_oeste = df_oeste[\"area\"].std()\n",
        "coeficiente_de_variacao_oeste = desvio_padrao_oeste/media_oeste"
      ],
      "metadata": {
        "id": "j0IbfLqLCqgh"
      },
      "execution_count": null,
      "outputs": []
    },
    {
      "cell_type": "code",
      "source": [
        "print(\"MEDIDAS DA VARIAVEL 'ÁREA' DA REGIÃO OESTE\")\n",
        "print(f\"Média: {media_oeste:.1f}\")\n",
        "printModa(moda_oeste)\n",
        "print(f\"Mediana: {mediana_oeste:.0f}\")\n",
        "print(f\"Desvio Padrão:  {desvio_padrao_oeste :.2f}\")\n",
        "print(f\"Coeficiente de variação:  {coeficiente_de_variacao_oeste *100:.2f}%\")"
      ],
      "metadata": {
        "id": "SqUfLi55Cqgh",
        "colab": {
          "base_uri": "https://localhost:8080/"
        },
        "outputId": "914c730b-d3f9-40ae-e6dd-3c2d7dc5cf69"
      },
      "execution_count": null,
      "outputs": [
        {
          "output_type": "stream",
          "name": "stdout",
          "text": [
            "MEDIDAS DA VARIAVEL 'ÁREA' DA REGIÃO OESTE\n",
            "Média: 419.3\n",
            "Moda: \n",
            "56\n",
            "250\n",
            "Mediana: 161\n",
            "Desvio Padrão:  1764.51\n",
            "Coeficiente de variação:  420.86%\n"
          ]
        }
      ]
    },
    {
      "cell_type": "markdown",
      "source": [
        "### *Casas*"
      ],
      "metadata": {
        "id": "pxAshdC8Cqgh"
      }
    },
    {
      "cell_type": "code",
      "source": [
        "len(df_casas_oeste)"
      ],
      "metadata": {
        "id": "AmK6DHVSCqgh",
        "colab": {
          "base_uri": "https://localhost:8080/"
        },
        "outputId": "55ddba9d-ce56-4ac5-a9d4-1c5513d22329"
      },
      "execution_count": null,
      "outputs": [
        {
          "output_type": "execute_result",
          "data": {
            "text/plain": [
              "62"
            ]
          },
          "metadata": {},
          "execution_count": 143
        }
      ]
    },
    {
      "cell_type": "code",
      "source": [
        "media_casas_oeste = df_casas_oeste[\"area\"].mean()\n",
        "moda_casas_oeste = df_casas_oeste[\"area\"].mode()\n",
        "mediana_casas_oeste = df_casas_oeste[\"area\"].median()\n",
        "desvio_padrao_casas_oeste = df_casas_oeste[\"area\"].std()\n",
        "coeficiente_de_variacao_casas_oeste = desvio_padrao_casas_oeste/media_casas_oeste"
      ],
      "metadata": {
        "id": "9WYA1bwnCqgh"
      },
      "execution_count": null,
      "outputs": []
    },
    {
      "cell_type": "code",
      "source": [
        "print(\"MEDIDAS DA VARIAVEL 'ÁREA' DAS CASAS DA REGIÃO OESTE\")\n",
        "print(f\"Média: {media_casas_oeste:.1f}\")\n",
        "printModa(moda_casas_oeste)\n",
        "print(f\"Mediana: {mediana_casas_oeste:.0f}\")\n",
        "print(f\"Desvio Padrão:  {desvio_padrao_casas_oeste:.2f}\")\n",
        "print(f\"Coeficiente de variação:  {coeficiente_de_variacao_casas_oeste *100:.2f}%\")"
      ],
      "metadata": {
        "id": "tVS0z4AqCqgi",
        "colab": {
          "base_uri": "https://localhost:8080/"
        },
        "outputId": "8356cae7-6cca-4e24-92f4-aacce5008f76"
      },
      "execution_count": null,
      "outputs": [
        {
          "output_type": "stream",
          "name": "stdout",
          "text": [
            "MEDIDAS DA VARIAVEL 'ÁREA' DAS CASAS DA REGIÃO OESTE\n",
            "Média: 684.2\n",
            "Moda: \n",
            "250\n",
            "Mediana: 268\n",
            "Desvio Padrão:  2387.05\n",
            "Coeficiente de variação:  348.89%\n"
          ]
        }
      ]
    },
    {
      "cell_type": "markdown",
      "source": [
        "### *Apartamentos*"
      ],
      "metadata": {
        "id": "B-Wf5AvyCqgi"
      }
    },
    {
      "cell_type": "code",
      "source": [
        "len(df_apartamentos_oeste)"
      ],
      "metadata": {
        "id": "liuaMiaqCqgi",
        "colab": {
          "base_uri": "https://localhost:8080/"
        },
        "outputId": "c8f066f4-6346-4d2a-be6d-2ee4f4d312da"
      },
      "execution_count": null,
      "outputs": [
        {
          "output_type": "execute_result",
          "data": {
            "text/plain": [
              "54"
            ]
          },
          "metadata": {},
          "execution_count": 146
        }
      ]
    },
    {
      "cell_type": "code",
      "source": [
        "media_apartamentos_oeste = df_apartamentos_oeste[\"area\"].mean()\n",
        "moda_apartamentos_oeste = df_apartamentos_oeste[\"area\"].mode()\n",
        "mediana_apartamentos_oeste = df_apartamentos_oeste[\"area\"].median()\n",
        "desvio_padrao_apartamentos_oeste = df_apartamentos_oeste[\"area\"].std()\n",
        "coeficiente_de_variacao_apartamentos_oeste = desvio_padrao_apartamentos_oeste/media_apartamentos_oeste"
      ],
      "metadata": {
        "id": "1ubYg-ZqCqgi"
      },
      "execution_count": null,
      "outputs": []
    },
    {
      "cell_type": "code",
      "source": [
        "print(\"MEDIDAS DA VARIAVEL 'ÁREA' DOS APARTAMENTOS DA REGIÃO OESTE\")\n",
        "print(f\"Média: {media_apartamentos_oeste:.2f}\")\n",
        "printModa(moda_apartamentos_oeste)\n",
        "print(f\"Mediana: {mediana_apartamentos_oeste:.0f}\")\n",
        "print(f\"Desvio Padrão:  {desvio_padrao_apartamentos_oeste:.2f}\")\n",
        "print(f\"Coeficiente de variação:  {coeficiente_de_variacao_apartamentos_oeste *100:.2f}%\")"
      ],
      "metadata": {
        "id": "RVvTp4qeCqgi",
        "colab": {
          "base_uri": "https://localhost:8080/"
        },
        "outputId": "d9ab5ab1-7a7e-48b5-a994-23c4e7d48e79"
      },
      "execution_count": null,
      "outputs": [
        {
          "output_type": "stream",
          "name": "stdout",
          "text": [
            "MEDIDAS DA VARIAVEL 'ÁREA' DOS APARTAMENTOS DA REGIÃO OESTE\n",
            "Média: 115.07\n",
            "Moda: \n",
            "42\n",
            "56\n",
            "Mediana: 68\n",
            "Desvio Padrão:  145.58\n",
            "Coeficiente de variação:  126.51%\n"
          ]
        }
      ]
    },
    {
      "cell_type": "markdown",
      "source": [
        "## Região Centro-Oeste"
      ],
      "metadata": {
        "id": "jssp_UKPCqgi"
      }
    },
    {
      "cell_type": "markdown",
      "source": [
        "### *Medidas Gerais*"
      ],
      "metadata": {
        "id": "TTMuZPJsCqgi"
      }
    },
    {
      "cell_type": "code",
      "source": [
        "len(df_co)"
      ],
      "metadata": {
        "id": "kXs5GGapCqgi",
        "colab": {
          "base_uri": "https://localhost:8080/"
        },
        "outputId": "5b287fa1-9e52-48f9-b6e9-934939e4b8bd"
      },
      "execution_count": null,
      "outputs": [
        {
          "output_type": "execute_result",
          "data": {
            "text/plain": [
              "44"
            ]
          },
          "metadata": {},
          "execution_count": 149
        }
      ]
    },
    {
      "cell_type": "code",
      "source": [
        "media_co = df_co[\"area\"].mean()\n",
        "moda_co = df_co[\"area\"].mode()\n",
        "mediana_co = df_co[\"area\"].median()\n",
        "desvio_padrao_co = df_co[\"area\"].std()\n",
        "coeficiente_de_variacao_co = desvio_padrao_co/media_co"
      ],
      "metadata": {
        "id": "vSj_L-uiCqgi"
      },
      "execution_count": null,
      "outputs": []
    },
    {
      "cell_type": "code",
      "source": [
        "print(\"MEDIDAS DA VARIAVEL 'ÁREA' DA REGIÃO CENTRO-OESTE\")\n",
        "print(f\"Média: {media_co:.1f}\")\n",
        "printModa(moda_co)\n",
        "print(f\"Mediana: {mediana_co:.0f}\")\n",
        "print(f\"Desvio Padrão:  {desvio_padrao_co:.2f}%\")\n",
        "print(f\"Coeficiente de variação:  {coeficiente_de_variacao_co *100:.2f}%\")"
      ],
      "metadata": {
        "id": "OHZabAlOCqgi",
        "colab": {
          "base_uri": "https://localhost:8080/"
        },
        "outputId": "3365e9f4-dbfd-4ef1-ee47-bd69a3d4a669"
      },
      "execution_count": null,
      "outputs": [
        {
          "output_type": "stream",
          "name": "stdout",
          "text": [
            "MEDIDAS DA VARIAVEL 'ÁREA' DA REGIÃO CENTRO-OESTE\n",
            "Média: 167.8\n",
            "Moda: \n",
            "250\n",
            "300\n",
            "Mediana: 106\n",
            "Desvio Padrão:  136.49%\n",
            "Coeficiente de variação:  81.33%\n"
          ]
        }
      ]
    },
    {
      "cell_type": "markdown",
      "source": [
        "### *Casas*"
      ],
      "metadata": {
        "id": "qFrfkTBuCqgj"
      }
    },
    {
      "cell_type": "code",
      "source": [
        "len(df_casas_co)"
      ],
      "metadata": {
        "id": "vHrgPBkFCqgj",
        "colab": {
          "base_uri": "https://localhost:8080/"
        },
        "outputId": "6fd78267-2abb-489a-c7c6-002bf3a427df"
      },
      "execution_count": null,
      "outputs": [
        {
          "output_type": "execute_result",
          "data": {
            "text/plain": [
              "24"
            ]
          },
          "metadata": {},
          "execution_count": 152
        }
      ]
    },
    {
      "cell_type": "code",
      "source": [
        "media_casas_co = df_casas_co[\"area\"].mean()\n",
        "moda_casas_co = df_casas_co[\"area\"].mode()\n",
        "mediana_casas_co = df_casas_co[\"area\"].median()\n",
        "desvio_padrao_casas_co = df_casas_co[\"area\"].std()\n",
        "coeficiente_de_variacao_casas_co = desvio_padrao_casas_co/media_casas_co"
      ],
      "metadata": {
        "id": "jugzduI8Cqgj"
      },
      "execution_count": null,
      "outputs": []
    },
    {
      "cell_type": "code",
      "source": [
        "print(\"MEDIDAS DA VARIAVEL 'ÁREA' DAS CASAS DA REGIÃO CENTRO-OESTE\")\n",
        "print(f\"Média: {media_casas_co:.1f}\")\n",
        "printModa(moda_casas_co)\n",
        "print(f\"Mediana: {mediana_casas_co:.0f}\")\n",
        "print(f\"Desvio Padrão:  {desvio_padrao_casas_co :.2f}\")\n",
        "print(f\"Coeficiente de variação:  {coeficiente_de_variacao_casas_co *100:.2f}%\")"
      ],
      "metadata": {
        "id": "bwX5uKBYCqgj",
        "colab": {
          "base_uri": "https://localhost:8080/"
        },
        "outputId": "4576d54a-2081-4d6f-f98e-9ee6e8795a3f"
      },
      "execution_count": null,
      "outputs": [
        {
          "output_type": "stream",
          "name": "stdout",
          "text": [
            "MEDIDAS DA VARIAVEL 'ÁREA' DAS CASAS DA REGIÃO CENTRO-OESTE\n",
            "Média: 239.7\n",
            "Moda: \n",
            "250\n",
            "300\n",
            "Mediana: 250\n",
            "Desvio Padrão:  147.92\n",
            "Coeficiente de variação:  61.72%\n"
          ]
        }
      ]
    },
    {
      "cell_type": "markdown",
      "source": [
        "### *Apartamentos*"
      ],
      "metadata": {
        "id": "RVU_be7GCqgj"
      }
    },
    {
      "cell_type": "code",
      "source": [
        "len(df_apartamentos_co)"
      ],
      "metadata": {
        "id": "9v9eY9uDCqgl",
        "colab": {
          "base_uri": "https://localhost:8080/"
        },
        "outputId": "00f9f153-8045-4ace-bf6c-439e785700c5"
      },
      "execution_count": null,
      "outputs": [
        {
          "output_type": "execute_result",
          "data": {
            "text/plain": [
              "20"
            ]
          },
          "metadata": {},
          "execution_count": 155
        }
      ]
    },
    {
      "cell_type": "code",
      "source": [
        "media_apartamentos_co = df_apartamentos_co[\"area\"].mean()\n",
        "moda_apartamentos_co = df_apartamentos_co[\"area\"].mode()\n",
        "mediana_apartamentos_co = df_apartamentos_co[\"area\"].median()\n",
        "desvio_padrao_apartamentos_co = df_apartamentos_co[\"area\"].std()\n",
        "coeficiente_de_variacao_apartamentos_co = desvio_padrao_apartamentos_co/media_apartamentos_co"
      ],
      "metadata": {
        "id": "DB57nYk_Cqgl"
      },
      "execution_count": null,
      "outputs": []
    },
    {
      "cell_type": "code",
      "source": [
        "print(\"MEDIDAS DA VARIAVEL 'ÁREA' DOS APARTAMENTOS DA REGIÃO CENTRO-OESTE\")\n",
        "print(f\"Média: {media_apartamentos_co:.2f}\")\n",
        "printModa(moda_apartamentos_co)\n",
        "print(f\"Mediana: {mediana_apartamentos_co:.0f}\")\n",
        "print(f\"Desvio Padrão:  {desvio_padrao_apartamentos_co:.2f}\")\n",
        "print(f\"Coeficiente de variação:  {coeficiente_de_variacao_apartamentos_co *100:.2f}%\")"
      ],
      "metadata": {
        "id": "9eyDDXoXCqgl",
        "colab": {
          "base_uri": "https://localhost:8080/"
        },
        "outputId": "6afa1cd3-5cad-4a57-a724-1433f90e549c"
      },
      "execution_count": null,
      "outputs": [
        {
          "output_type": "stream",
          "name": "stdout",
          "text": [
            "MEDIDAS DA VARIAVEL 'ÁREA' DOS APARTAMENTOS DA REGIÃO CENTRO-OESTE\n",
            "Média: 81.60\n",
            "Moda: \n",
            "41\n",
            "Mediana: 73\n",
            "Desvio Padrão:  36.51\n",
            "Coeficiente de variação:  44.74%\n"
          ]
        }
      ]
    },
    {
      "cell_type": "markdown",
      "source": [
        "## Região Centro-Sul"
      ],
      "metadata": {
        "id": "kqml_B4aCqgl"
      }
    },
    {
      "cell_type": "markdown",
      "source": [
        "### *Medidas Gerais*"
      ],
      "metadata": {
        "id": "CienwV_wCqgl"
      }
    },
    {
      "cell_type": "code",
      "source": [
        "len(df_cs)"
      ],
      "metadata": {
        "id": "ypRfwktnCqgl",
        "colab": {
          "base_uri": "https://localhost:8080/"
        },
        "outputId": "6bf68db3-1f06-46cf-c559-b29c48e81813"
      },
      "execution_count": null,
      "outputs": [
        {
          "output_type": "execute_result",
          "data": {
            "text/plain": [
              "136"
            ]
          },
          "metadata": {},
          "execution_count": 158
        }
      ]
    },
    {
      "cell_type": "code",
      "source": [
        "media_cs = df_cs[\"area\"].mean()\n",
        "moda_cs = df_cs[\"area\"].mode()\n",
        "mediana_cs = df_cs[\"area\"].median()\n",
        "desvio_padrao_cs = df_cs[\"area\"].std()\n",
        "coeficiente_de_variacao_cs = desvio_padrao_cs/media_cs"
      ],
      "metadata": {
        "id": "NKyd1KugCqgl"
      },
      "execution_count": null,
      "outputs": []
    },
    {
      "cell_type": "code",
      "source": [
        "print(\"MEDIDAS DA VARIAVEL 'ÁREA' DA REGIÃO CENTRO-SUL\")\n",
        "print(f\"Média: {media_cs:.2f}\")\n",
        "printModa(moda_cs)\n",
        "print(f\"Mediana: {mediana_cs:.0f}\")\n",
        "print(f\"Desvio Padrão:  {desvio_padrao_cs:.2f}\")\n",
        "print(f\"Coeficiente de variação:  {coeficiente_de_variacao_cs *100:.2f}%\")"
      ],
      "metadata": {
        "id": "CF2i2729Cqgl",
        "colab": {
          "base_uri": "https://localhost:8080/"
        },
        "outputId": "c26aed70-7c87-4776-abff-5a82d3e9a6d1"
      },
      "execution_count": null,
      "outputs": [
        {
          "output_type": "stream",
          "name": "stdout",
          "text": [
            "MEDIDAS DA VARIAVEL 'ÁREA' DA REGIÃO CENTRO-SUL\n",
            "Média: 189.33\n",
            "Moda: \n",
            "80\n",
            "150\n",
            "Mediana: 120\n",
            "Desvio Padrão:  207.62\n",
            "Coeficiente de variação:  109.66%\n"
          ]
        }
      ]
    },
    {
      "cell_type": "markdown",
      "source": [
        "### *Casas*"
      ],
      "metadata": {
        "id": "3ZkZzvjzCqgm"
      }
    },
    {
      "cell_type": "code",
      "source": [
        "len(df_casas_cs)"
      ],
      "metadata": {
        "id": "20BSoR3TCqgm",
        "colab": {
          "base_uri": "https://localhost:8080/"
        },
        "outputId": "d74d35a2-aca4-45f5-ac69-425ba6736c18"
      },
      "execution_count": null,
      "outputs": [
        {
          "output_type": "execute_result",
          "data": {
            "text/plain": [
              "63"
            ]
          },
          "metadata": {},
          "execution_count": 161
        }
      ]
    },
    {
      "cell_type": "code",
      "source": [
        "media_casas_cs = df_casas_cs[\"area\"].mean()\n",
        "moda_casas_cs = df_casas_cs[\"area\"].mode()\n",
        "mediana_casas_cs = df_casas_cs[\"area\"].median()\n",
        "desvio_padrao_casas_cs = df_casas_cs[\"area\"].std()\n",
        "coeficiente_de_variacao_casas_cs = desvio_padrao_casas_cs/media_casas_cs\n",
        "variancia = df_casas_cs[\"area\"].var()\n"
      ],
      "metadata": {
        "id": "bvA8JGMcCqgm"
      },
      "execution_count": null,
      "outputs": []
    },
    {
      "cell_type": "code",
      "source": [
        "print(\"MEDIDAS DA VARIAVEL 'ÁREA' DAS CASAS DA REGIÃO CENTRO-SUL\")\n",
        "print(f\"Média: {media_casas_cs:.2f}\")\n",
        "printModa(moda_casas_cs)\n",
        "print(f\"Mediana: {mediana_casas_cs:.0f}\")\n",
        "print(f\"Desvio Padrão:  {desvio_padrao_casas_cs:.2f}%\")\n",
        "print(f\"Coeficiente de variação:  {coeficiente_de_variacao_casas_cs *100:.2f}%\")"
      ],
      "metadata": {
        "id": "FrAiksUjCqgm",
        "colab": {
          "base_uri": "https://localhost:8080/"
        },
        "outputId": "a863f070-498d-48d6-e3b1-8cafa8870304"
      },
      "execution_count": null,
      "outputs": [
        {
          "output_type": "stream",
          "name": "stdout",
          "text": [
            "MEDIDAS DA VARIAVEL 'ÁREA' DAS CASAS DA REGIÃO CENTRO-SUL\n",
            "Média: 263.76\n",
            "Moda: \n",
            "150\n",
            "Mediana: 150\n",
            "Desvio Padrão:  274.45%\n",
            "Coeficiente de variação:  104.05%\n"
          ]
        }
      ]
    },
    {
      "cell_type": "markdown",
      "source": [
        "### *Apartamentos*"
      ],
      "metadata": {
        "id": "dj25N_xWCqgm"
      }
    },
    {
      "cell_type": "code",
      "source": [
        "len(df_apartamentos_cs)"
      ],
      "metadata": {
        "id": "2G4SmS0uCqgm",
        "colab": {
          "base_uri": "https://localhost:8080/"
        },
        "outputId": "a4352f46-58e6-4f71-fa30-ec2ed63825e0"
      },
      "execution_count": null,
      "outputs": [
        {
          "output_type": "execute_result",
          "data": {
            "text/plain": [
              "73"
            ]
          },
          "metadata": {},
          "execution_count": 164
        }
      ]
    },
    {
      "cell_type": "code",
      "source": [
        "media_apartamentos_cs = df_apartamentos_cs[\"area\"].mean()\n",
        "moda_apartamentos_cs = df_apartamentos_cs[\"area\"].mode()\n",
        "mediana_apartamentos_cs = df_apartamentos_cs[\"area\"].median()\n",
        "desvio_padrao_apartamentos_cs = df_apartamentos_cs[\"area\"].std()\n",
        "coeficiente_de_variacao_apartamentos_cs = desvio_padrao_apartamentos_cs/media_apartamentos_cs"
      ],
      "metadata": {
        "id": "pIPAMa9nCqgm"
      },
      "execution_count": null,
      "outputs": []
    },
    {
      "cell_type": "code",
      "source": [
        "print(\"MEDIDAS DA VARIAVEL 'ÁREA' DOS APARTAMENTOS DA REGIÃO CENTRO-OESTE\")\n",
        "print(f\"Média: {media_apartamentos_cs:.2f}\")\n",
        "printModa(moda_apartamentos_cs)\n",
        "print(f\"Mediana: {mediana_apartamentos_cs:.0f}\")\n",
        "print(f\"Desvio Padrão:  {desvio_padrao_apartamentos_cs:.2f}\")\n",
        "print(f\"Coeficiente de variação:  {coeficiente_de_variacao_apartamentos_cs *100:.2f}%\")"
      ],
      "metadata": {
        "id": "7Q-vMJAACqgm",
        "colab": {
          "base_uri": "https://localhost:8080/"
        },
        "outputId": "9ef9ece0-c553-4d22-f639-4331bcd12348"
      },
      "execution_count": null,
      "outputs": [
        {
          "output_type": "stream",
          "name": "stdout",
          "text": [
            "MEDIDAS DA VARIAVEL 'ÁREA' DOS APARTAMENTOS DA REGIÃO CENTRO-OESTE\n",
            "Média: 125.10\n",
            "Moda: \n",
            "42\n",
            "60\n",
            "Mediana: 109\n",
            "Desvio Padrão:  83.24\n",
            "Coeficiente de variação:  66.54%\n"
          ]
        }
      ]
    },
    {
      "cell_type": "markdown",
      "source": [
        "# → ***Resultados: Área (Quantitativa)***\n",
        "\n",
        "\n",
        "---\n",
        "\n"
      ],
      "metadata": {
        "id": "n1N_K8QYDUhG"
      }
    },
    {
      "cell_type": "markdown",
      "source": [
        "## Dados Gerais"
      ],
      "metadata": {
        "id": "T7btpijGDUhG"
      }
    },
    {
      "cell_type": "code",
      "source": [
        "df_resultados = pd.DataFrame([\n",
        "    (len(df_norte), f'{media_norte:.2f}', mediana_norte, moda_norte.tolist(), f'{desvio_padrao_norte:.2f}', f'{coeficiente_de_variacao_norte * 100:.2f}%'),\n",
        "    (len(df_sul), f'{media_sul:.2f}', mediana_sul, moda_sul.tolist(), f'{desvio_padrao_sul:.2f}', f'{coeficiente_de_variacao_sul * 100:.2f}%'),\n",
        "    (len(df_leste), f'{media_leste:.2f}', mediana_leste, float(moda_leste), f'{desvio_padrao_leste:.2f}', f'{coeficiente_de_variacao_leste * 100:.2f}%'),\n",
        "    (len(df_oeste), f'{media_oeste:.2f}', mediana_oeste, moda_oeste.tolist(), f'{desvio_padrao_oeste:.2f}', f'{coeficiente_de_variacao_oeste * 100:.2f}%'),\n",
        "    (len(df_co), f'{media_co:.2f}', mediana_co, list(moda_co), f'{desvio_padrao_co:.2f}', f'{coeficiente_de_variacao_co * 100:.2f}%'),\n",
        "    (len(df_cs), f'{media_cs:.2f}', mediana_cs, list(moda_cs), f'{desvio_padrao_cs:.2f}', f'{coeficiente_de_variacao_cs * 100:.2f}%')],\n",
        "    index=('Zona Norte', 'Zona Sul', 'Zona Leste', 'Zona Oeste', 'Zona Centro Oeste', 'Zona Centro-Sul'),\n",
        "    columns=('Total Imóveis', 'Média', 'Mediana', 'Moda', 'Desvio Padrão', 'Coeficiente de Variação'))\n",
        "\n",
        "df_resultados"
      ],
      "metadata": {
        "id": "C5J1xTQaDUhG",
        "colab": {
          "base_uri": "https://localhost:8080/"
        },
        "outputId": "f62f7e16-468b-4095-a0d0-68b9b5cfdcc5"
      },
      "execution_count": null,
      "outputs": [
        {
          "output_type": "execute_result",
          "data": {
            "text/plain": [
              "                   Total Imóveis    Média  Mediana            Moda  \\\n",
              "Zona Norte                    74   285.80     90.0         [100.0]   \n",
              "Zona Sul                      13  1551.92    150.0         [200.0]   \n",
              "Zona Leste                     8    83.38     82.0           100.0   \n",
              "Zona Oeste                   116   419.26    161.0   [56.0, 250.0]   \n",
              "Zona Centro Oeste             44   167.82    106.5  [250.0, 300.0]   \n",
              "Zona Centro-Sul              136   189.33    120.0   [80.0, 150.0]   \n",
              "\n",
              "                  Desvio Padrão Coeficiente de Variação  \n",
              "Zona Norte              1157.98                 405.17%  \n",
              "Zona Sul                4930.23                 317.69%  \n",
              "Zona Leste                42.55                  51.04%  \n",
              "Zona Oeste              1764.51                 420.86%  \n",
              "Zona Centro Oeste        136.49                  81.33%  \n",
              "Zona Centro-Sul          207.62                 109.66%  "
            ],
            "text/html": [
              "\n",
              "  <div id=\"df-afc2684f-9551-4137-8a2e-7f9e03484f26\">\n",
              "    <div class=\"colab-df-container\">\n",
              "      <div>\n",
              "<style scoped>\n",
              "    .dataframe tbody tr th:only-of-type {\n",
              "        vertical-align: middle;\n",
              "    }\n",
              "\n",
              "    .dataframe tbody tr th {\n",
              "        vertical-align: top;\n",
              "    }\n",
              "\n",
              "    .dataframe thead th {\n",
              "        text-align: right;\n",
              "    }\n",
              "</style>\n",
              "<table border=\"1\" class=\"dataframe\">\n",
              "  <thead>\n",
              "    <tr style=\"text-align: right;\">\n",
              "      <th></th>\n",
              "      <th>Total Imóveis</th>\n",
              "      <th>Média</th>\n",
              "      <th>Mediana</th>\n",
              "      <th>Moda</th>\n",
              "      <th>Desvio Padrão</th>\n",
              "      <th>Coeficiente de Variação</th>\n",
              "    </tr>\n",
              "  </thead>\n",
              "  <tbody>\n",
              "    <tr>\n",
              "      <th>Zona Norte</th>\n",
              "      <td>74</td>\n",
              "      <td>285.80</td>\n",
              "      <td>90.0</td>\n",
              "      <td>[100.0]</td>\n",
              "      <td>1157.98</td>\n",
              "      <td>405.17%</td>\n",
              "    </tr>\n",
              "    <tr>\n",
              "      <th>Zona Sul</th>\n",
              "      <td>13</td>\n",
              "      <td>1551.92</td>\n",
              "      <td>150.0</td>\n",
              "      <td>[200.0]</td>\n",
              "      <td>4930.23</td>\n",
              "      <td>317.69%</td>\n",
              "    </tr>\n",
              "    <tr>\n",
              "      <th>Zona Leste</th>\n",
              "      <td>8</td>\n",
              "      <td>83.38</td>\n",
              "      <td>82.0</td>\n",
              "      <td>100.0</td>\n",
              "      <td>42.55</td>\n",
              "      <td>51.04%</td>\n",
              "    </tr>\n",
              "    <tr>\n",
              "      <th>Zona Oeste</th>\n",
              "      <td>116</td>\n",
              "      <td>419.26</td>\n",
              "      <td>161.0</td>\n",
              "      <td>[56.0, 250.0]</td>\n",
              "      <td>1764.51</td>\n",
              "      <td>420.86%</td>\n",
              "    </tr>\n",
              "    <tr>\n",
              "      <th>Zona Centro Oeste</th>\n",
              "      <td>44</td>\n",
              "      <td>167.82</td>\n",
              "      <td>106.5</td>\n",
              "      <td>[250.0, 300.0]</td>\n",
              "      <td>136.49</td>\n",
              "      <td>81.33%</td>\n",
              "    </tr>\n",
              "    <tr>\n",
              "      <th>Zona Centro-Sul</th>\n",
              "      <td>136</td>\n",
              "      <td>189.33</td>\n",
              "      <td>120.0</td>\n",
              "      <td>[80.0, 150.0]</td>\n",
              "      <td>207.62</td>\n",
              "      <td>109.66%</td>\n",
              "    </tr>\n",
              "  </tbody>\n",
              "</table>\n",
              "</div>\n",
              "      <button class=\"colab-df-convert\" onclick=\"convertToInteractive('df-afc2684f-9551-4137-8a2e-7f9e03484f26')\"\n",
              "              title=\"Convert this dataframe to an interactive table.\"\n",
              "              style=\"display:none;\">\n",
              "        \n",
              "  <svg xmlns=\"http://www.w3.org/2000/svg\" height=\"24px\"viewBox=\"0 0 24 24\"\n",
              "       width=\"24px\">\n",
              "    <path d=\"M0 0h24v24H0V0z\" fill=\"none\"/>\n",
              "    <path d=\"M18.56 5.44l.94 2.06.94-2.06 2.06-.94-2.06-.94-.94-2.06-.94 2.06-2.06.94zm-11 1L8.5 8.5l.94-2.06 2.06-.94-2.06-.94L8.5 2.5l-.94 2.06-2.06.94zm10 10l.94 2.06.94-2.06 2.06-.94-2.06-.94-.94-2.06-.94 2.06-2.06.94z\"/><path d=\"M17.41 7.96l-1.37-1.37c-.4-.4-.92-.59-1.43-.59-.52 0-1.04.2-1.43.59L10.3 9.45l-7.72 7.72c-.78.78-.78 2.05 0 2.83L4 21.41c.39.39.9.59 1.41.59.51 0 1.02-.2 1.41-.59l7.78-7.78 2.81-2.81c.8-.78.8-2.07 0-2.86zM5.41 20L4 18.59l7.72-7.72 1.47 1.35L5.41 20z\"/>\n",
              "  </svg>\n",
              "      </button>\n",
              "      \n",
              "  <style>\n",
              "    .colab-df-container {\n",
              "      display:flex;\n",
              "      flex-wrap:wrap;\n",
              "      gap: 12px;\n",
              "    }\n",
              "\n",
              "    .colab-df-convert {\n",
              "      background-color: #E8F0FE;\n",
              "      border: none;\n",
              "      border-radius: 50%;\n",
              "      cursor: pointer;\n",
              "      display: none;\n",
              "      fill: #1967D2;\n",
              "      height: 32px;\n",
              "      padding: 0 0 0 0;\n",
              "      width: 32px;\n",
              "    }\n",
              "\n",
              "    .colab-df-convert:hover {\n",
              "      background-color: #E2EBFA;\n",
              "      box-shadow: 0px 1px 2px rgba(60, 64, 67, 0.3), 0px 1px 3px 1px rgba(60, 64, 67, 0.15);\n",
              "      fill: #174EA6;\n",
              "    }\n",
              "\n",
              "    [theme=dark] .colab-df-convert {\n",
              "      background-color: #3B4455;\n",
              "      fill: #D2E3FC;\n",
              "    }\n",
              "\n",
              "    [theme=dark] .colab-df-convert:hover {\n",
              "      background-color: #434B5C;\n",
              "      box-shadow: 0px 1px 3px 1px rgba(0, 0, 0, 0.15);\n",
              "      filter: drop-shadow(0px 1px 2px rgba(0, 0, 0, 0.3));\n",
              "      fill: #FFFFFF;\n",
              "    }\n",
              "  </style>\n",
              "\n",
              "      <script>\n",
              "        const buttonEl =\n",
              "          document.querySelector('#df-afc2684f-9551-4137-8a2e-7f9e03484f26 button.colab-df-convert');\n",
              "        buttonEl.style.display =\n",
              "          google.colab.kernel.accessAllowed ? 'block' : 'none';\n",
              "\n",
              "        async function convertToInteractive(key) {\n",
              "          const element = document.querySelector('#df-afc2684f-9551-4137-8a2e-7f9e03484f26');\n",
              "          const dataTable =\n",
              "            await google.colab.kernel.invokeFunction('convertToInteractive',\n",
              "                                                     [key], {});\n",
              "          if (!dataTable) return;\n",
              "\n",
              "          const docLinkHtml = 'Like what you see? Visit the ' +\n",
              "            '<a target=\"_blank\" href=https://colab.research.google.com/notebooks/data_table.ipynb>data table notebook</a>'\n",
              "            + ' to learn more about interactive tables.';\n",
              "          element.innerHTML = '';\n",
              "          dataTable['output_type'] = 'display_data';\n",
              "          await google.colab.output.renderOutput(dataTable, element);\n",
              "          const docLink = document.createElement('div');\n",
              "          docLink.innerHTML = docLinkHtml;\n",
              "          element.appendChild(docLink);\n",
              "        }\n",
              "      </script>\n",
              "    </div>\n",
              "  </div>\n",
              "  "
            ]
          },
          "metadata": {},
          "execution_count": 167
        }
      ]
    },
    {
      "cell_type": "markdown",
      "source": [
        "## Casas"
      ],
      "metadata": {
        "id": "pUDlrm7WDUhG"
      }
    },
    {
      "cell_type": "code",
      "source": [
        "pct = 100\n",
        "df_resultados_casas = pd.DataFrame([\n",
        "    (len(df_casas_norte), f'{media_casas_norte:.2f}', mediana_casas_norte, list(moda_casas_norte), f'{desvio_padrao_casas_norte:.2f}', f'{coeficiente_de_variacao_casas_norte * pct:.2f}%'),\n",
        "    (len(df_casas_sul), f'{media_casas_sul:.2f}', mediana_casas_sul, moda_casas_sul.tolist(), f'{desvio_padrao_casas_sul:.2f}', f'{coeficiente_de_variacao_casas_sul * pct:.2f}%'),\n",
        "    (len(df_casas_sul), f'{media_casas_leste:.2f}', mediana_casas_leste, float(moda_casas_leste), f'{desvio_padrao_casas_leste:.2f}', f'{coeficiente_de_variacao_casas_leste * pct:.2f}%'),\n",
        "    (len(df_casas_oeste), f'{media_casas_oeste:.2f}', mediana_casas_oeste, float(moda_casas_oeste), f'{desvio_padrao_casas_oeste:.2f}', f'{coeficiente_de_variacao_casas_oeste * pct:.2f}%'),\n",
        "    (len(df_casas_co), f'{media_casas_co:.2f}', mediana_casas_co, list(moda_casas_co), f'{desvio_padrao_casas_co:.2f}', f'{coeficiente_de_variacao_casas_co * pct:.2f}%'),\n",
        "    (len(df_casas_cs), f'{media_casas_cs:.2f}', mediana_casas_cs, moda_casas_cs.tolist(), f'{desvio_padrao_casas_cs:.2f}', f'{coeficiente_de_variacao_casas_cs * pct:.2f}%')],\n",
        "    index=('Zona Norte', 'Zona Sul', 'Zona Leste', 'Zona Oeste', 'Zona Centro Oeste', 'Zona Centro-Sul'),\n",
        "    columns=('Total Imóveis', 'Média', 'Mediana', 'Moda', 'Desvio Padrão', 'Coeficiente de Variação'))\n",
        "\n",
        "df_resultados_casas"
      ],
      "metadata": {
        "id": "ePaRNuC-DUhG",
        "colab": {
          "base_uri": "https://localhost:8080/"
        },
        "outputId": "47424792-7f8e-4629-abd8-ad173a0db514"
      },
      "execution_count": null,
      "outputs": [
        {
          "output_type": "execute_result",
          "data": {
            "text/plain": [
              "                   Total Imóveis    Média  Mediana                 Moda  \\\n",
              "Zona Norte                    50   393.42    116.0  [70.0, 90.0, 100.0]   \n",
              "Zona Sul                       6  3244.50    200.0              [200.0]   \n",
              "Zona Leste                     6    99.00    100.0                100.0   \n",
              "Zona Oeste                    62   684.19    267.5                250.0   \n",
              "Zona Centro Oeste             24   239.67    250.0       [250.0, 300.0]   \n",
              "Zona Centro-Sul               63   263.76    150.0              [150.0]   \n",
              "\n",
              "                  Desvio Padrão Coeficiente de Variação  \n",
              "Zona Norte              1400.35                 355.94%  \n",
              "Zona Sul                7207.48                 222.14%  \n",
              "Zona Leste                47.31                  47.79%  \n",
              "Zona Oeste              2387.05                 348.89%  \n",
              "Zona Centro Oeste        147.92                  61.72%  \n",
              "Zona Centro-Sul          274.45                 104.05%  "
            ],
            "text/html": [
              "\n",
              "  <div id=\"df-1a010a3e-035c-44da-a4a2-5a9f266c0f45\">\n",
              "    <div class=\"colab-df-container\">\n",
              "      <div>\n",
              "<style scoped>\n",
              "    .dataframe tbody tr th:only-of-type {\n",
              "        vertical-align: middle;\n",
              "    }\n",
              "\n",
              "    .dataframe tbody tr th {\n",
              "        vertical-align: top;\n",
              "    }\n",
              "\n",
              "    .dataframe thead th {\n",
              "        text-align: right;\n",
              "    }\n",
              "</style>\n",
              "<table border=\"1\" class=\"dataframe\">\n",
              "  <thead>\n",
              "    <tr style=\"text-align: right;\">\n",
              "      <th></th>\n",
              "      <th>Total Imóveis</th>\n",
              "      <th>Média</th>\n",
              "      <th>Mediana</th>\n",
              "      <th>Moda</th>\n",
              "      <th>Desvio Padrão</th>\n",
              "      <th>Coeficiente de Variação</th>\n",
              "    </tr>\n",
              "  </thead>\n",
              "  <tbody>\n",
              "    <tr>\n",
              "      <th>Zona Norte</th>\n",
              "      <td>50</td>\n",
              "      <td>393.42</td>\n",
              "      <td>116.0</td>\n",
              "      <td>[70.0, 90.0, 100.0]</td>\n",
              "      <td>1400.35</td>\n",
              "      <td>355.94%</td>\n",
              "    </tr>\n",
              "    <tr>\n",
              "      <th>Zona Sul</th>\n",
              "      <td>6</td>\n",
              "      <td>3244.50</td>\n",
              "      <td>200.0</td>\n",
              "      <td>[200.0]</td>\n",
              "      <td>7207.48</td>\n",
              "      <td>222.14%</td>\n",
              "    </tr>\n",
              "    <tr>\n",
              "      <th>Zona Leste</th>\n",
              "      <td>6</td>\n",
              "      <td>99.00</td>\n",
              "      <td>100.0</td>\n",
              "      <td>100.0</td>\n",
              "      <td>47.31</td>\n",
              "      <td>47.79%</td>\n",
              "    </tr>\n",
              "    <tr>\n",
              "      <th>Zona Oeste</th>\n",
              "      <td>62</td>\n",
              "      <td>684.19</td>\n",
              "      <td>267.5</td>\n",
              "      <td>250.0</td>\n",
              "      <td>2387.05</td>\n",
              "      <td>348.89%</td>\n",
              "    </tr>\n",
              "    <tr>\n",
              "      <th>Zona Centro Oeste</th>\n",
              "      <td>24</td>\n",
              "      <td>239.67</td>\n",
              "      <td>250.0</td>\n",
              "      <td>[250.0, 300.0]</td>\n",
              "      <td>147.92</td>\n",
              "      <td>61.72%</td>\n",
              "    </tr>\n",
              "    <tr>\n",
              "      <th>Zona Centro-Sul</th>\n",
              "      <td>63</td>\n",
              "      <td>263.76</td>\n",
              "      <td>150.0</td>\n",
              "      <td>[150.0]</td>\n",
              "      <td>274.45</td>\n",
              "      <td>104.05%</td>\n",
              "    </tr>\n",
              "  </tbody>\n",
              "</table>\n",
              "</div>\n",
              "      <button class=\"colab-df-convert\" onclick=\"convertToInteractive('df-1a010a3e-035c-44da-a4a2-5a9f266c0f45')\"\n",
              "              title=\"Convert this dataframe to an interactive table.\"\n",
              "              style=\"display:none;\">\n",
              "        \n",
              "  <svg xmlns=\"http://www.w3.org/2000/svg\" height=\"24px\"viewBox=\"0 0 24 24\"\n",
              "       width=\"24px\">\n",
              "    <path d=\"M0 0h24v24H0V0z\" fill=\"none\"/>\n",
              "    <path d=\"M18.56 5.44l.94 2.06.94-2.06 2.06-.94-2.06-.94-.94-2.06-.94 2.06-2.06.94zm-11 1L8.5 8.5l.94-2.06 2.06-.94-2.06-.94L8.5 2.5l-.94 2.06-2.06.94zm10 10l.94 2.06.94-2.06 2.06-.94-2.06-.94-.94-2.06-.94 2.06-2.06.94z\"/><path d=\"M17.41 7.96l-1.37-1.37c-.4-.4-.92-.59-1.43-.59-.52 0-1.04.2-1.43.59L10.3 9.45l-7.72 7.72c-.78.78-.78 2.05 0 2.83L4 21.41c.39.39.9.59 1.41.59.51 0 1.02-.2 1.41-.59l7.78-7.78 2.81-2.81c.8-.78.8-2.07 0-2.86zM5.41 20L4 18.59l7.72-7.72 1.47 1.35L5.41 20z\"/>\n",
              "  </svg>\n",
              "      </button>\n",
              "      \n",
              "  <style>\n",
              "    .colab-df-container {\n",
              "      display:flex;\n",
              "      flex-wrap:wrap;\n",
              "      gap: 12px;\n",
              "    }\n",
              "\n",
              "    .colab-df-convert {\n",
              "      background-color: #E8F0FE;\n",
              "      border: none;\n",
              "      border-radius: 50%;\n",
              "      cursor: pointer;\n",
              "      display: none;\n",
              "      fill: #1967D2;\n",
              "      height: 32px;\n",
              "      padding: 0 0 0 0;\n",
              "      width: 32px;\n",
              "    }\n",
              "\n",
              "    .colab-df-convert:hover {\n",
              "      background-color: #E2EBFA;\n",
              "      box-shadow: 0px 1px 2px rgba(60, 64, 67, 0.3), 0px 1px 3px 1px rgba(60, 64, 67, 0.15);\n",
              "      fill: #174EA6;\n",
              "    }\n",
              "\n",
              "    [theme=dark] .colab-df-convert {\n",
              "      background-color: #3B4455;\n",
              "      fill: #D2E3FC;\n",
              "    }\n",
              "\n",
              "    [theme=dark] .colab-df-convert:hover {\n",
              "      background-color: #434B5C;\n",
              "      box-shadow: 0px 1px 3px 1px rgba(0, 0, 0, 0.15);\n",
              "      filter: drop-shadow(0px 1px 2px rgba(0, 0, 0, 0.3));\n",
              "      fill: #FFFFFF;\n",
              "    }\n",
              "  </style>\n",
              "\n",
              "      <script>\n",
              "        const buttonEl =\n",
              "          document.querySelector('#df-1a010a3e-035c-44da-a4a2-5a9f266c0f45 button.colab-df-convert');\n",
              "        buttonEl.style.display =\n",
              "          google.colab.kernel.accessAllowed ? 'block' : 'none';\n",
              "\n",
              "        async function convertToInteractive(key) {\n",
              "          const element = document.querySelector('#df-1a010a3e-035c-44da-a4a2-5a9f266c0f45');\n",
              "          const dataTable =\n",
              "            await google.colab.kernel.invokeFunction('convertToInteractive',\n",
              "                                                     [key], {});\n",
              "          if (!dataTable) return;\n",
              "\n",
              "          const docLinkHtml = 'Like what you see? Visit the ' +\n",
              "            '<a target=\"_blank\" href=https://colab.research.google.com/notebooks/data_table.ipynb>data table notebook</a>'\n",
              "            + ' to learn more about interactive tables.';\n",
              "          element.innerHTML = '';\n",
              "          dataTable['output_type'] = 'display_data';\n",
              "          await google.colab.output.renderOutput(dataTable, element);\n",
              "          const docLink = document.createElement('div');\n",
              "          docLink.innerHTML = docLinkHtml;\n",
              "          element.appendChild(docLink);\n",
              "        }\n",
              "      </script>\n",
              "    </div>\n",
              "  </div>\n",
              "  "
            ]
          },
          "metadata": {},
          "execution_count": 168
        }
      ]
    },
    {
      "cell_type": "markdown",
      "source": [
        "## Apartamentos"
      ],
      "metadata": {
        "id": "AMD2oHMcDUhH"
      }
    },
    {
      "cell_type": "code",
      "source": [
        "pct = 100\n",
        "df_resultados_apartamentos = pd.DataFrame([\n",
        "    (len(df_apartamentos_norte), f'{media_apartamentos_norte:.2f}', mediana_apartamentos_norte, moda_apartamentos_norte, f'{desvio_padrao_apartamentos_norte:.2f}', f'{coeficiente_de_variacao_apartamentos_norte * pct:.2f}%'),\n",
        "    (len(df_apartamentos_sul), f'{media_apartamentos_sul:.2f}', mediana_apartamentos_sul, list(moda_apartamentos_sul), f'{desvio_padrao_apartamentos_sul:.2f}', f'{coeficiente_de_variacao_apartamentos_sul * pct:.2f}%'),\n",
        "    (len(df_apartamentos_leste), f'{media_apartamentos_leste:.2f}', mediana_apartamentos_leste, list(moda_apartamentos_leste), f'{desvio_padrao_apartamentos_leste:.2f}', f'{coeficiente_de_variacao_apartamentos_leste * pct:.2f}%'),\n",
        "    (len(df_apartamentos_oeste), f'{media_apartamentos_oeste:.2f}', mediana_apartamentos_oeste, list(moda_apartamentos_oeste), f'{desvio_padrao_apartamentos_oeste:.2f}', f'{coeficiente_de_variacao_apartamentos_oeste * pct:.2f}%'),\n",
        "    (len(df_apartamentos_co), f'{media_apartamentos_co:.2f}', mediana_apartamentos_co, float(moda_apartamentos_co), f'{desvio_padrao_apartamentos_co:.2f}', f'{coeficiente_de_variacao_apartamentos_co * pct:.2f}%'),\n",
        "    (len(df_apartamentos_cs), f'{media_apartamentos_cs:.2f}', mediana_apartamentos_cs, list(moda_apartamentos_cs), f'{desvio_padrao_apartamentos_cs:.2f}', f'{coeficiente_de_variacao_apartamentos_cs * pct:.2f}%')],\n",
        "    index=('Zona Norte', 'Zona Sul', 'Zona Leste', 'Zona Oeste', 'Zona Centro Oeste', 'Zona Centro-Sul'),\n",
        "    columns=('Total Imóveis', 'Média', 'Mediana', 'Moda', 'Desvio Padrão', 'Coeficiente de Variação'))\n",
        "\n",
        "df_resultados_apartamentos"
      ],
      "metadata": {
        "id": "RBslPMkODUhH",
        "colab": {
          "base_uri": "https://localhost:8080/"
        },
        "outputId": "e8bfa9d5-2142-4707-ce90-152c08dc0302"
      },
      "execution_count": null,
      "outputs": [
        {
          "output_type": "execute_result",
          "data": {
            "text/plain": [
              "                   Total Imóveis   Média  Mediana  \\\n",
              "Zona Norte                    24   61.58     50.5   \n",
              "Zona Sul                       7  101.14     75.0   \n",
              "Zona Leste                     3   57.33     54.0   \n",
              "Zona Oeste                    54  115.07     68.0   \n",
              "Zona Centro Oeste             20   81.60     73.0   \n",
              "Zona Centro-Sul               73  125.10    109.0   \n",
              "\n",
              "                                                           Moda Desvio Padrão  \\\n",
              "Zona Norte                                                   41         23.97   \n",
              "Zona Sul           [53.0, 54.0, 72.0, 75.0, 76.0, 150.0, 228.0]         64.79   \n",
              "Zona Leste                                   [44.0, 54.0, 74.0]         15.28   \n",
              "Zona Oeste                                         [42.0, 56.0]        145.58   \n",
              "Zona Centro Oeste                                          41.0         36.51   \n",
              "Zona Centro-Sul                                    [42.0, 60.0]         83.24   \n",
              "\n",
              "                  Coeficiente de Variação  \n",
              "Zona Norte                         38.93%  \n",
              "Zona Sul                           64.06%  \n",
              "Zona Leste                         26.64%  \n",
              "Zona Oeste                        126.51%  \n",
              "Zona Centro Oeste                  44.74%  \n",
              "Zona Centro-Sul                    66.54%  "
            ],
            "text/html": [
              "\n",
              "  <div id=\"df-2293ccde-c83c-4758-8564-4abb6450ac28\">\n",
              "    <div class=\"colab-df-container\">\n",
              "      <div>\n",
              "<style scoped>\n",
              "    .dataframe tbody tr th:only-of-type {\n",
              "        vertical-align: middle;\n",
              "    }\n",
              "\n",
              "    .dataframe tbody tr th {\n",
              "        vertical-align: top;\n",
              "    }\n",
              "\n",
              "    .dataframe thead th {\n",
              "        text-align: right;\n",
              "    }\n",
              "</style>\n",
              "<table border=\"1\" class=\"dataframe\">\n",
              "  <thead>\n",
              "    <tr style=\"text-align: right;\">\n",
              "      <th></th>\n",
              "      <th>Total Imóveis</th>\n",
              "      <th>Média</th>\n",
              "      <th>Mediana</th>\n",
              "      <th>Moda</th>\n",
              "      <th>Desvio Padrão</th>\n",
              "      <th>Coeficiente de Variação</th>\n",
              "    </tr>\n",
              "  </thead>\n",
              "  <tbody>\n",
              "    <tr>\n",
              "      <th>Zona Norte</th>\n",
              "      <td>24</td>\n",
              "      <td>61.58</td>\n",
              "      <td>50.5</td>\n",
              "      <td>41</td>\n",
              "      <td>23.97</td>\n",
              "      <td>38.93%</td>\n",
              "    </tr>\n",
              "    <tr>\n",
              "      <th>Zona Sul</th>\n",
              "      <td>7</td>\n",
              "      <td>101.14</td>\n",
              "      <td>75.0</td>\n",
              "      <td>[53.0, 54.0, 72.0, 75.0, 76.0, 150.0, 228.0]</td>\n",
              "      <td>64.79</td>\n",
              "      <td>64.06%</td>\n",
              "    </tr>\n",
              "    <tr>\n",
              "      <th>Zona Leste</th>\n",
              "      <td>3</td>\n",
              "      <td>57.33</td>\n",
              "      <td>54.0</td>\n",
              "      <td>[44.0, 54.0, 74.0]</td>\n",
              "      <td>15.28</td>\n",
              "      <td>26.64%</td>\n",
              "    </tr>\n",
              "    <tr>\n",
              "      <th>Zona Oeste</th>\n",
              "      <td>54</td>\n",
              "      <td>115.07</td>\n",
              "      <td>68.0</td>\n",
              "      <td>[42.0, 56.0]</td>\n",
              "      <td>145.58</td>\n",
              "      <td>126.51%</td>\n",
              "    </tr>\n",
              "    <tr>\n",
              "      <th>Zona Centro Oeste</th>\n",
              "      <td>20</td>\n",
              "      <td>81.60</td>\n",
              "      <td>73.0</td>\n",
              "      <td>41.0</td>\n",
              "      <td>36.51</td>\n",
              "      <td>44.74%</td>\n",
              "    </tr>\n",
              "    <tr>\n",
              "      <th>Zona Centro-Sul</th>\n",
              "      <td>73</td>\n",
              "      <td>125.10</td>\n",
              "      <td>109.0</td>\n",
              "      <td>[42.0, 60.0]</td>\n",
              "      <td>83.24</td>\n",
              "      <td>66.54%</td>\n",
              "    </tr>\n",
              "  </tbody>\n",
              "</table>\n",
              "</div>\n",
              "      <button class=\"colab-df-convert\" onclick=\"convertToInteractive('df-2293ccde-c83c-4758-8564-4abb6450ac28')\"\n",
              "              title=\"Convert this dataframe to an interactive table.\"\n",
              "              style=\"display:none;\">\n",
              "        \n",
              "  <svg xmlns=\"http://www.w3.org/2000/svg\" height=\"24px\"viewBox=\"0 0 24 24\"\n",
              "       width=\"24px\">\n",
              "    <path d=\"M0 0h24v24H0V0z\" fill=\"none\"/>\n",
              "    <path d=\"M18.56 5.44l.94 2.06.94-2.06 2.06-.94-2.06-.94-.94-2.06-.94 2.06-2.06.94zm-11 1L8.5 8.5l.94-2.06 2.06-.94-2.06-.94L8.5 2.5l-.94 2.06-2.06.94zm10 10l.94 2.06.94-2.06 2.06-.94-2.06-.94-.94-2.06-.94 2.06-2.06.94z\"/><path d=\"M17.41 7.96l-1.37-1.37c-.4-.4-.92-.59-1.43-.59-.52 0-1.04.2-1.43.59L10.3 9.45l-7.72 7.72c-.78.78-.78 2.05 0 2.83L4 21.41c.39.39.9.59 1.41.59.51 0 1.02-.2 1.41-.59l7.78-7.78 2.81-2.81c.8-.78.8-2.07 0-2.86zM5.41 20L4 18.59l7.72-7.72 1.47 1.35L5.41 20z\"/>\n",
              "  </svg>\n",
              "      </button>\n",
              "      \n",
              "  <style>\n",
              "    .colab-df-container {\n",
              "      display:flex;\n",
              "      flex-wrap:wrap;\n",
              "      gap: 12px;\n",
              "    }\n",
              "\n",
              "    .colab-df-convert {\n",
              "      background-color: #E8F0FE;\n",
              "      border: none;\n",
              "      border-radius: 50%;\n",
              "      cursor: pointer;\n",
              "      display: none;\n",
              "      fill: #1967D2;\n",
              "      height: 32px;\n",
              "      padding: 0 0 0 0;\n",
              "      width: 32px;\n",
              "    }\n",
              "\n",
              "    .colab-df-convert:hover {\n",
              "      background-color: #E2EBFA;\n",
              "      box-shadow: 0px 1px 2px rgba(60, 64, 67, 0.3), 0px 1px 3px 1px rgba(60, 64, 67, 0.15);\n",
              "      fill: #174EA6;\n",
              "    }\n",
              "\n",
              "    [theme=dark] .colab-df-convert {\n",
              "      background-color: #3B4455;\n",
              "      fill: #D2E3FC;\n",
              "    }\n",
              "\n",
              "    [theme=dark] .colab-df-convert:hover {\n",
              "      background-color: #434B5C;\n",
              "      box-shadow: 0px 1px 3px 1px rgba(0, 0, 0, 0.15);\n",
              "      filter: drop-shadow(0px 1px 2px rgba(0, 0, 0, 0.3));\n",
              "      fill: #FFFFFF;\n",
              "    }\n",
              "  </style>\n",
              "\n",
              "      <script>\n",
              "        const buttonEl =\n",
              "          document.querySelector('#df-2293ccde-c83c-4758-8564-4abb6450ac28 button.colab-df-convert');\n",
              "        buttonEl.style.display =\n",
              "          google.colab.kernel.accessAllowed ? 'block' : 'none';\n",
              "\n",
              "        async function convertToInteractive(key) {\n",
              "          const element = document.querySelector('#df-2293ccde-c83c-4758-8564-4abb6450ac28');\n",
              "          const dataTable =\n",
              "            await google.colab.kernel.invokeFunction('convertToInteractive',\n",
              "                                                     [key], {});\n",
              "          if (!dataTable) return;\n",
              "\n",
              "          const docLinkHtml = 'Like what you see? Visit the ' +\n",
              "            '<a target=\"_blank\" href=https://colab.research.google.com/notebooks/data_table.ipynb>data table notebook</a>'\n",
              "            + ' to learn more about interactive tables.';\n",
              "          element.innerHTML = '';\n",
              "          dataTable['output_type'] = 'display_data';\n",
              "          await google.colab.output.renderOutput(dataTable, element);\n",
              "          const docLink = document.createElement('div');\n",
              "          docLink.innerHTML = docLinkHtml;\n",
              "          element.appendChild(docLink);\n",
              "        }\n",
              "      </script>\n",
              "    </div>\n",
              "  </div>\n",
              "  "
            ]
          },
          "metadata": {},
          "execution_count": 169
        }
      ]
    },
    {
      "cell_type": "code",
      "source": [
        "print(\"\\tSul\")\n",
        "printModa(moda_apartamentos_sul)"
      ],
      "metadata": {
        "id": "jkFLidOiDUhH",
        "colab": {
          "base_uri": "https://localhost:8080/"
        },
        "outputId": "68cf7564-513a-4424-f4de-1a20ed6cab1e"
      },
      "execution_count": null,
      "outputs": [
        {
          "output_type": "stream",
          "name": "stdout",
          "text": [
            "\tSul\n",
            "Moda: \n",
            "53\n",
            "54\n",
            "72\n",
            "75\n",
            "76\n",
            "150\n",
            "228\n"
          ]
        }
      ]
    },
    {
      "cell_type": "markdown",
      "source": [
        "#  🟆 Variável: Quantidade de Quartos (Quantitativa)\n",
        "\n",
        "\n",
        "---\n",
        "\n"
      ],
      "metadata": {
        "id": "eKoxidwkYD84"
      }
    },
    {
      "cell_type": "markdown",
      "source": [
        "## Medidas Gerais\n",
        "\n",
        "Medidas de todos os elementos da amostra, sem distinção de Região."
      ],
      "metadata": {
        "id": "e8NFhcY5pDgC"
      }
    },
    {
      "cell_type": "markdown",
      "source": [
        "### *Geral*"
      ],
      "metadata": {
        "id": "aSGp_5wC04Zi"
      }
    },
    {
      "cell_type": "code",
      "source": [
        "mediana = df[\"qtde_quartos\"].median()"
      ],
      "metadata": {
        "id": "00fsznAs9FkG"
      },
      "execution_count": null,
      "outputs": []
    },
    {
      "cell_type": "code",
      "source": [
        "media = df[\"qtde_quartos\"].mean()"
      ],
      "metadata": {
        "id": "RQuR_nQ895kh"
      },
      "execution_count": null,
      "outputs": []
    },
    {
      "cell_type": "code",
      "source": [
        "moda = int(df[\"qtde_quartos\"].mode())"
      ],
      "metadata": {
        "id": "3Ugxbf-N95a8"
      },
      "execution_count": null,
      "outputs": []
    },
    {
      "cell_type": "code",
      "source": [
        "desvio_padrao = df[\"qtde_quartos\"].std()"
      ],
      "metadata": {
        "id": "Xn7Xg4Q_95O_"
      },
      "execution_count": null,
      "outputs": []
    },
    {
      "cell_type": "code",
      "source": [
        "coeficiente_de_variacao = desvio_padrao/media"
      ],
      "metadata": {
        "id": "gnx4PRBF-Cnz"
      },
      "execution_count": null,
      "outputs": []
    },
    {
      "cell_type": "markdown",
      "source": [
        "Resultados de cada cálculo:"
      ],
      "metadata": {
        "id": "j9zqIXdQAtUo"
      }
    },
    {
      "cell_type": "code",
      "source": [
        "print(f'Média: {media:.2f}')\n",
        "print(f'Mediana: {mediana:.0f}')\n",
        "print(f'Moda: {moda}')\n",
        "print(f'Desvio Padrão: {desvio_padrao:.2f}')\n",
        "print(f'Coeficiente de Variação: {coeficiente_de_variacao * 100:.2f}%')"
      ],
      "metadata": {
        "id": "cU6Zl9WP-xp8",
        "colab": {
          "base_uri": "https://localhost:8080/"
        },
        "outputId": "d4676c2e-5526-43bd-c286-7d51202b210b"
      },
      "execution_count": null,
      "outputs": [
        {
          "output_type": "stream",
          "name": "stdout",
          "text": [
            "Média: 2.93\n",
            "Mediana: 3\n",
            "Moda: 3\n",
            "Desvio Padrão: 0.87\n",
            "Coeficiente de Variação: 29.61%\n"
          ]
        }
      ]
    },
    {
      "cell_type": "markdown",
      "source": [
        "###*Casas*"
      ],
      "metadata": {
        "id": "dXvEabN60bFt"
      }
    },
    {
      "cell_type": "code",
      "source": [
        "len(df_casas)"
      ],
      "metadata": {
        "id": "jweO3jqD0l7T",
        "colab": {
          "base_uri": "https://localhost:8080/"
        },
        "outputId": "62e66ad4-8ad4-4260-c54e-0ab38a194e75"
      },
      "execution_count": null,
      "outputs": [
        {
          "output_type": "execute_result",
          "data": {
            "text/plain": [
              "210"
            ]
          },
          "metadata": {},
          "execution_count": 177
        }
      ]
    },
    {
      "cell_type": "code",
      "source": [
        "media_casas = df_casas[\"qtde_quartos\"].mean()\n",
        "moda_casas = df_casas[\"qtde_quartos\"].mode()\n",
        "mediana_casas = df_casas[\"qtde_quartos\"].median()\n",
        "desvio_padrao_casas = df_casas[\"qtde_quartos\"].std()\n",
        "coeficiente_de_variacao_casas = desvio_padrao_casas/media_casas"
      ],
      "metadata": {
        "id": "QfH9FlZl1Ff_"
      },
      "execution_count": null,
      "outputs": []
    },
    {
      "cell_type": "markdown",
      "source": [
        "###*Apartamentos*"
      ],
      "metadata": {
        "id": "02FaDHgV0dFE"
      }
    },
    {
      "cell_type": "code",
      "source": [
        "len(df_apartamentos)"
      ],
      "metadata": {
        "id": "nYaEO6rIEz57",
        "colab": {
          "base_uri": "https://localhost:8080/"
        },
        "outputId": "083aee5d-628e-44dd-efba-5cd8a7071edf"
      },
      "execution_count": null,
      "outputs": [
        {
          "output_type": "execute_result",
          "data": {
            "text/plain": [
              "181"
            ]
          },
          "metadata": {},
          "execution_count": 179
        }
      ]
    },
    {
      "cell_type": "code",
      "source": [
        "media_apartamentos = df_apartamentos[\"qtde_quartos\"].mean()\n",
        "moda_apartamentos = df_apartamentos[\"qtde_quartos\"].mode()\n",
        "mediana_apartamentos = df_apartamentos[\"qtde_quartos\"].median()\n",
        "desvio_padrao_apartamentos = df_apartamentos[\"qtde_quartos\"].std()\n",
        "coeficiente_de_variacao_apartamentos = desvio_padrao_apartamentos/media_apartamentos\n",
        "coeficiente_porcentagem_apartamentos = coeficiente_de_variacao_apartamentos * 100"
      ],
      "metadata": {
        "id": "m3jK7mYx2xVp"
      },
      "execution_count": null,
      "outputs": []
    },
    {
      "cell_type": "code",
      "source": [
        "print(f'Média: {media_apartamentos:.2f}')\n",
        "print(f'Mediana: {mediana_apartamentos:.0f}')\n",
        "print(f'Moda: {moda_apartamentos}')\n",
        "print(f'Desvio Padrão: {desvio_padrao_apartamentos:.2f}')\n",
        "print(f'Coeficiente de Variação: {coeficiente_porcentagem_apartamentos:.2f}%')"
      ],
      "metadata": {
        "id": "S6QNW86O2xKQ",
        "colab": {
          "base_uri": "https://localhost:8080/"
        },
        "outputId": "2ce7b117-c6ae-43c7-83b0-4439232af4f4"
      },
      "execution_count": null,
      "outputs": [
        {
          "output_type": "stream",
          "name": "stdout",
          "text": [
            "Média: 2.65\n",
            "Mediana: 3\n",
            "Moda: 0    3\n",
            "dtype: int64\n",
            "Desvio Padrão: 0.75\n",
            "Coeficiente de Variação: 28.36%\n"
          ]
        }
      ]
    },
    {
      "cell_type": "markdown",
      "source": [
        "## Região Norte"
      ],
      "metadata": {
        "id": "YdWRMs4S-yfq"
      }
    },
    {
      "cell_type": "markdown",
      "source": [
        "### *Medidas Gerais*"
      ],
      "metadata": {
        "id": "SBVTBIgTwmWb"
      }
    },
    {
      "cell_type": "code",
      "source": [
        "len(df_norte)"
      ],
      "metadata": {
        "id": "emcwh0chpVhF",
        "colab": {
          "base_uri": "https://localhost:8080/"
        },
        "outputId": "4dee2064-80ac-4d81-8544-69d56bfccb7b"
      },
      "execution_count": null,
      "outputs": [
        {
          "output_type": "execute_result",
          "data": {
            "text/plain": [
              "74"
            ]
          },
          "metadata": {},
          "execution_count": 182
        }
      ]
    },
    {
      "cell_type": "code",
      "source": [
        "media_norte = df_norte[\"qtde_quartos\"].mean()"
      ],
      "metadata": {
        "id": "BGJrbMP1ujNn"
      },
      "execution_count": null,
      "outputs": []
    },
    {
      "cell_type": "code",
      "source": [
        "mediana_norte = df_norte[\"qtde_quartos\"].median()"
      ],
      "metadata": {
        "id": "YbiQluruuyRF"
      },
      "execution_count": null,
      "outputs": []
    },
    {
      "cell_type": "code",
      "source": [
        "moda_norte = int(df_norte[\"qtde_quartos\"].mode())"
      ],
      "metadata": {
        "id": "uMVh7SYju4im"
      },
      "execution_count": null,
      "outputs": []
    },
    {
      "cell_type": "code",
      "source": [
        "desvio_padrao_norte = df_norte[\"qtde_quartos\"].std()"
      ],
      "metadata": {
        "id": "L0mF6-O1u6KE"
      },
      "execution_count": null,
      "outputs": []
    },
    {
      "cell_type": "code",
      "source": [
        "coeficiente_de_variacao_norte = desvio_padrao_norte/media_norte"
      ],
      "metadata": {
        "id": "s8fvZHx5vFfm"
      },
      "execution_count": null,
      "outputs": []
    },
    {
      "cell_type": "code",
      "source": [
        "print(\"MEDIDAS GERAIS DA VARIÁVEL 'QUANTIDADE DE QUARTOS' DA REGIÃO NORTE\")\n",
        "print(f\"Média: {media_norte:.2f}\")\n",
        "print(f\"Mediana: {mediana_norte:.0f}\")\n",
        "print(f\"Moda: {moda_norte}\")\n",
        "print(f\"Desvio Padrão: {desvio_padrao_norte:.2f}\")\n",
        "print(f\"Coeficiente de Variação: {coeficiente_de_variacao_norte * 100:.2f}%\")"
      ],
      "metadata": {
        "id": "TeoBzx3xvMnQ",
        "colab": {
          "base_uri": "https://localhost:8080/"
        },
        "outputId": "d9939df1-cd34-462a-a75c-97d5aee7ac92"
      },
      "execution_count": null,
      "outputs": [
        {
          "output_type": "stream",
          "name": "stdout",
          "text": [
            "MEDIDAS GERAIS DA VARIÁVEL 'QUANTIDADE DE QUARTOS' DA REGIÃO NORTE\n",
            "Média: 2.65\n",
            "Mediana: 3\n",
            "Moda: 2\n",
            "Desvio Padrão: 0.78\n",
            "Coeficiente de Variação: 29.60%\n"
          ]
        }
      ]
    },
    {
      "cell_type": "markdown",
      "source": [
        "###*Casas*\n",
        "\n",
        "Aproximadamente 67,5% de todos os imóveis disponíveis na *Região Norte*"
      ],
      "metadata": {
        "id": "wRdqPXFyq0gs"
      }
    },
    {
      "cell_type": "code",
      "source": [
        "len(df_casas_norte)"
      ],
      "metadata": {
        "id": "F-aujYXFqyQr",
        "colab": {
          "base_uri": "https://localhost:8080/"
        },
        "outputId": "6ac8e15b-962f-4edd-9ac5-fe62308ece12"
      },
      "execution_count": null,
      "outputs": [
        {
          "output_type": "execute_result",
          "data": {
            "text/plain": [
              "50"
            ]
          },
          "metadata": {},
          "execution_count": 189
        }
      ]
    },
    {
      "cell_type": "code",
      "source": [
        "media_casas_norte = df_casas_norte[\"qtde_quartos\"].mean()"
      ],
      "metadata": {
        "id": "q06RevryrMhQ"
      },
      "execution_count": null,
      "outputs": []
    },
    {
      "cell_type": "code",
      "source": [
        "mediana_casas_norte = df_casas_norte[\"qtde_quartos\"].median()"
      ],
      "metadata": {
        "id": "_zIo6KA2rqkC"
      },
      "execution_count": null,
      "outputs": []
    },
    {
      "cell_type": "code",
      "source": [
        "moda_casas_norte = df_casas_norte[\"qtde_quartos\"].mode()"
      ],
      "metadata": {
        "id": "CE4ON1O6r6a9"
      },
      "execution_count": null,
      "outputs": []
    },
    {
      "cell_type": "code",
      "source": [
        "desvio_padrao_casas_norte = df_casas_norte[\"qtde_quartos\"].std()"
      ],
      "metadata": {
        "id": "v7nB1sywr8-1"
      },
      "execution_count": null,
      "outputs": []
    },
    {
      "cell_type": "code",
      "source": [
        "coeficiente_de_variacao_casas_norte = desvio_padrao_casas_norte/media_casas_norte"
      ],
      "metadata": {
        "id": "YSsmw1-ZsPSj"
      },
      "execution_count": null,
      "outputs": []
    },
    {
      "cell_type": "code",
      "source": [
        "print(\"MEDIDAS DA 'QUANTIDADE DE QUARTOS' DAS CASAS DA REGIÃO NORTE\")\n",
        "print(f\"Média: {media_casas_norte:.2f}\")\n",
        "printModa(moda_casas_norte)\n",
        "print(f\"Mediana: {mediana_casas_norte:.0f}\")\n",
        "print(f\"Desvio Padrão: {desvio_padrao_casas_norte:.2f}\")\n",
        "print(f\"Coeficiente de Variação: {coeficiente_de_variacao_casas_norte * 100:.2f}%\")"
      ],
      "metadata": {
        "id": "FxDtAMOR20jM",
        "colab": {
          "base_uri": "https://localhost:8080/"
        },
        "outputId": "5ca36ba8-fd83-4f1a-b450-46a23f8679b4"
      },
      "execution_count": null,
      "outputs": [
        {
          "output_type": "stream",
          "name": "stdout",
          "text": [
            "MEDIDAS DA 'QUANTIDADE DE QUARTOS' DAS CASAS DA REGIÃO NORTE\n",
            "Média: 2.84\n",
            "Moda: \n",
            "3\n",
            "Mediana: 3\n",
            "Desvio Padrão: 0.82\n",
            "Coeficiente de Variação: 28.77%\n"
          ]
        }
      ]
    },
    {
      "cell_type": "markdown",
      "source": [
        "### *Apartamentos*\n",
        "\n",
        "Aproximadamente 32,5% de todos os imóveis disponíveis na *Região Norte*"
      ],
      "metadata": {
        "id": "QwBXulgSstdl"
      }
    },
    {
      "cell_type": "code",
      "source": [
        "len(df_apartamentos_norte)"
      ],
      "metadata": {
        "id": "tgU3k2fbswy0",
        "colab": {
          "base_uri": "https://localhost:8080/"
        },
        "outputId": "5e0fce9d-7ab4-4033-f5c4-728848493d95"
      },
      "execution_count": null,
      "outputs": [
        {
          "output_type": "execute_result",
          "data": {
            "text/plain": [
              "24"
            ]
          },
          "metadata": {},
          "execution_count": 196
        }
      ]
    },
    {
      "cell_type": "code",
      "source": [
        "media_apartamentos_norte= df_apartamentos_norte[\"qtde_quartos\"].mean()\n",
        "mediana_apartamentos_norte= df_apartamentos_norte[\"qtde_quartos\"].median()\n",
        "moda_apartamentos_norte= int(df_apartamentos_norte[\"qtde_quartos\"].mode())\n",
        "desvio_padrao_apartamentos_norte= df_apartamentos_norte[\"qtde_quartos\"].std()\n",
        "coeficiente_de_variacao_apartamentos_norte= desvio_padrao_apartamentos_norte/media_apartamentos_norte"
      ],
      "metadata": {
        "id": "Mkbm86b2tnKd"
      },
      "execution_count": null,
      "outputs": []
    },
    {
      "cell_type": "code",
      "source": [
        "print(\"MEDIDAS DA 'QUANTIDADE DE QUARTOS' DOS APARTAMENTOS DA REGIÃO NORTE\")\n",
        "print(f\"Média: {media_apartamentos_norte:.2f}\")\n",
        "print(f\"Moda: {moda_apartamentos_norte}\")\n",
        "print(f\"Mediana: {mediana_apartamentos_norte:.0f}\")\n",
        "print(f\"Desvio Padrão: {desvio_padrao_casas_norte:.2f}\")\n",
        "print(f\"Coeficiente de Variação: {coeficiente_de_variacao_casas_norte * 100:.2f}%\")"
      ],
      "metadata": {
        "id": "TUpiKRfo3b3G",
        "colab": {
          "base_uri": "https://localhost:8080/"
        },
        "outputId": "defcdc0b-a880-48e0-a17e-da1c0df9260d"
      },
      "execution_count": null,
      "outputs": [
        {
          "output_type": "stream",
          "name": "stdout",
          "text": [
            "MEDIDAS DA 'QUANTIDADE DE QUARTOS' DOS APARTAMENTOS DA REGIÃO NORTE\n",
            "Média: 2.25\n",
            "Moda: 2\n",
            "Mediana: 2\n",
            "Desvio Padrão: 0.82\n",
            "Coeficiente de Variação: 28.77%\n"
          ]
        }
      ]
    },
    {
      "cell_type": "markdown",
      "source": [
        "## Região Sul"
      ],
      "metadata": {
        "id": "ePnI5rhu4PCd"
      }
    },
    {
      "cell_type": "markdown",
      "source": [
        "### *Medidas Gerais*"
      ],
      "metadata": {
        "id": "dfxd3UMb4Vd8"
      }
    },
    {
      "cell_type": "code",
      "source": [
        "len(df_sul)"
      ],
      "metadata": {
        "id": "GbR0Vnp84kVQ",
        "colab": {
          "base_uri": "https://localhost:8080/"
        },
        "outputId": "1c100705-713c-400b-bdda-0020216188de"
      },
      "execution_count": null,
      "outputs": [
        {
          "output_type": "execute_result",
          "data": {
            "text/plain": [
              "13"
            ]
          },
          "metadata": {},
          "execution_count": 199
        }
      ]
    },
    {
      "cell_type": "code",
      "source": [
        "media_sul = df_sul[\"qtde_quartos\"].mean()\n",
        "mediana_sul = df_sul[\"qtde_quartos\"].median()\n",
        "moda_sul = int(df_sul[\"qtde_quartos\"].mode())\n",
        "desvio_padrao_sul = df_sul[\"qtde_quartos\"].std()\n",
        "coeficiente_de_variacao_sul = desvio_padrao_sul/media_sul"
      ],
      "metadata": {
        "id": "eASVP9JwNWkb"
      },
      "execution_count": null,
      "outputs": []
    },
    {
      "cell_type": "code",
      "source": [
        "print(\"MEDIDAS DA VARIAVEL 'QUANTIDADE DE QUARTOS' DA REGIÃO SUL\")\n",
        "print(f\"Média: {media_sul:.0f}\")\n",
        "print(f\"Moda: {moda_sul}\")\n",
        "print(f\"Mediana: {mediana_sul:.0f}\")\n",
        "print(f\"Desvio Padrão:  {desvio_padrao_sul:.2f}\")\n",
        "print(f\"Coeficiente de variação:  {coeficiente_de_variacao_sul *100:.2f}%\")"
      ],
      "metadata": {
        "id": "4WCVn0QZN5bR",
        "colab": {
          "base_uri": "https://localhost:8080/"
        },
        "outputId": "b5ad1356-39bb-4aa8-dbc0-937167e5c847"
      },
      "execution_count": null,
      "outputs": [
        {
          "output_type": "stream",
          "name": "stdout",
          "text": [
            "MEDIDAS DA VARIAVEL 'QUANTIDADE DE QUARTOS' DA REGIÃO SUL\n",
            "Média: 3\n",
            "Moda: 3\n",
            "Mediana: 3\n",
            "Desvio Padrão:  1.41\n",
            "Coeficiente de variação:  47.14%\n"
          ]
        }
      ]
    },
    {
      "cell_type": "markdown",
      "source": [
        "### *Casas*"
      ],
      "metadata": {
        "id": "bRgC-mA34Xa0"
      }
    },
    {
      "cell_type": "code",
      "source": [
        "len(df_casas_sul)"
      ],
      "metadata": {
        "id": "kC6KuIK14jpX",
        "colab": {
          "base_uri": "https://localhost:8080/"
        },
        "outputId": "415fbd4e-118f-4d2a-a252-971a3a2a4171"
      },
      "execution_count": null,
      "outputs": [
        {
          "output_type": "execute_result",
          "data": {
            "text/plain": [
              "6"
            ]
          },
          "metadata": {},
          "execution_count": 202
        }
      ]
    },
    {
      "cell_type": "code",
      "source": [
        "media_casas_sul = df_casas_sul[\"qtde_quartos\"].mean()\n",
        "moda_casas_sul = df_casas_sul[\"qtde_quartos\"].mode()\n",
        "mediana_casas_sul = df_casas_sul[\"qtde_quartos\"].median()\n",
        "desvio_padrao_casas_sul = df_casas_sul[\"qtde_quartos\"].std()\n",
        "coeficiente_de_variacao_casas_sul = desvio_padrao_casas_sul/media_casas_sul"
      ],
      "metadata": {
        "id": "5c21MRiAQ_g0"
      },
      "execution_count": null,
      "outputs": []
    },
    {
      "cell_type": "code",
      "source": [
        "print(\"MEDIDAS DA VARIAVEL 'QUANTIDADE DE QUARTOS'DAS CASAS DA REGIÃO SUL\")\n",
        "print(f\"Média: {media_casas_sul:.2f}\")\n",
        "printModa(moda_casas_sul)\n",
        "print(f\"Mediana: {mediana_casas_sul:.0f}\")\n",
        "print(f\"Desvio Padrão:  {desvio_padrao_casas_sul:.2f}\")\n",
        "print(f\"Coeficiente de variação:  {coeficiente_de_variacao_casas_sul *100:.2f}%\")"
      ],
      "metadata": {
        "id": "6fPQXOH8RfBg",
        "colab": {
          "base_uri": "https://localhost:8080/"
        },
        "outputId": "d327dee6-f689-4871-91e1-123201db42d4"
      },
      "execution_count": null,
      "outputs": [
        {
          "output_type": "stream",
          "name": "stdout",
          "text": [
            "MEDIDAS DA VARIAVEL 'QUANTIDADE DE QUARTOS'DAS CASAS DA REGIÃO SUL\n",
            "Média: 3.67\n",
            "Moda: \n",
            "3\n",
            "5\n",
            "Mediana: 4\n",
            "Desvio Padrão:  1.21\n",
            "Coeficiente de variação:  33.03%\n"
          ]
        }
      ]
    },
    {
      "cell_type": "markdown",
      "source": [
        "### *Apartamentos*"
      ],
      "metadata": {
        "id": "woRPYbe24ZJz"
      }
    },
    {
      "cell_type": "code",
      "source": [
        "len(df_apartamentos_co)"
      ],
      "metadata": {
        "id": "_WvQdlw534t4",
        "colab": {
          "base_uri": "https://localhost:8080/"
        },
        "outputId": "aa3770ef-7c3d-4477-c953-16cf54810d3e"
      },
      "execution_count": null,
      "outputs": [
        {
          "output_type": "execute_result",
          "data": {
            "text/plain": [
              "20"
            ]
          },
          "metadata": {},
          "execution_count": 205
        }
      ]
    },
    {
      "cell_type": "code",
      "source": [
        "media_apartamentos_sul = df_apartamentos_sul[\"qtde_quartos\"].mean()\n",
        "moda_apartamentos_sul = df_apartamentos_sul[\"qtde_quartos\"].mode()\n",
        "mediana_apartamentos_sul = df_apartamentos_sul[\"qtde_quartos\"].median()\n",
        "desvio_padrao_apartamentos_sul = df_apartamentos_sul[\"qtde_quartos\"].std()\n",
        "coeficiente_de_variacao_apartamentos_sul = desvio_padrao_apartamentos_sul/media_apartamentos_sul"
      ],
      "metadata": {
        "id": "FT7PdHarIOSe"
      },
      "execution_count": null,
      "outputs": []
    },
    {
      "cell_type": "code",
      "source": [
        "print(\"MEDIDAS DA VARIAVEL 'QUANTIDADE DE QUARTOS' DA REGIÃO SUL\")\n",
        "print(f\"Média: {media_apartamentos_sul:.2f}\")\n",
        "printModa(moda_apartamentos_sul)\n",
        "print(f\"Mediana: {mediana_apartamentos_sul:.0f}\")\n",
        "print(f\"Desvio Padrão:  {desvio_padrao_apartamentos_sul:.2f}\")\n",
        "print(f\"Coeficiente de variação:  {coeficiente_de_variacao_apartamentos_sul *100:.2f}%\")"
      ],
      "metadata": {
        "id": "zO11GS-GJmKS",
        "colab": {
          "base_uri": "https://localhost:8080/"
        },
        "outputId": "f7a308eb-6567-4548-ee1a-3016acc447a3"
      },
      "execution_count": null,
      "outputs": [
        {
          "output_type": "stream",
          "name": "stdout",
          "text": [
            "MEDIDAS DA VARIAVEL 'QUANTIDADE DE QUARTOS' DA REGIÃO SUL\n",
            "Média: 2.43\n",
            "Moda: \n",
            "1\n",
            "2\n",
            "3\n",
            "Mediana: 2\n",
            "Desvio Padrão:  1.40\n",
            "Coeficiente de variação:  57.53%\n"
          ]
        }
      ]
    },
    {
      "cell_type": "markdown",
      "source": [
        "## Região Leste"
      ],
      "metadata": {
        "id": "I5sYxBBg4wwZ"
      }
    },
    {
      "cell_type": "markdown",
      "source": [
        "### *Medidas Gerais*"
      ],
      "metadata": {
        "id": "Znlq7iSi41Nu"
      }
    },
    {
      "cell_type": "code",
      "source": [
        "len(df_leste)"
      ],
      "metadata": {
        "id": "c3lC6TbiNMXN",
        "colab": {
          "base_uri": "https://localhost:8080/"
        },
        "outputId": "20895e2c-e01a-44e0-d4c7-89691f176d86"
      },
      "execution_count": null,
      "outputs": [
        {
          "output_type": "execute_result",
          "data": {
            "text/plain": [
              "8"
            ]
          },
          "metadata": {},
          "execution_count": 208
        }
      ]
    },
    {
      "cell_type": "code",
      "source": [
        "media_leste = df_leste[\"qtde_quartos\"].mean()\n",
        "moda_leste = df_leste[\"qtde_quartos\"].mode()\n",
        "mediana_leste = df_leste[\"qtde_quartos\"].median()\n",
        "desvio_padrao_leste = df_leste[\"qtde_quartos\"].std()\n",
        "coeficiente_de_variacao_leste = desvio_padrao_leste/media_leste"
      ],
      "metadata": {
        "id": "MO16s-32QGCK"
      },
      "execution_count": null,
      "outputs": []
    },
    {
      "cell_type": "code",
      "source": [
        "print(\"MEDIDAS DA VARIAVEL 'QUANTIDADE DE QUARTOS' DA REGIÃO LESTE\")\n",
        "print(f\"Média: {media_leste:.2f}\")\n",
        "printModa(moda_leste)\n",
        "print(f\"Mediana: {mediana_leste:.0f}\")\n",
        "print(f\"Desvio Padrão:  {desvio_padrao_leste:.2f}%\")\n",
        "print(f\"Coeficiente de variação:  {coeficiente_de_variacao_leste *100:.2f}%\")"
      ],
      "metadata": {
        "id": "qj8nzCDe41Nu",
        "colab": {
          "base_uri": "https://localhost:8080/"
        },
        "outputId": "75a27d0d-ad15-42d7-a8ab-abd24c8cc740"
      },
      "execution_count": null,
      "outputs": [
        {
          "output_type": "stream",
          "name": "stdout",
          "text": [
            "MEDIDAS DA VARIAVEL 'QUANTIDADE DE QUARTOS' DA REGIÃO LESTE\n",
            "Média: 2.75\n",
            "Moda: \n",
            "3\n",
            "Mediana: 3\n",
            "Desvio Padrão:  1.04%\n",
            "Coeficiente de variação:  37.64%\n"
          ]
        }
      ]
    },
    {
      "cell_type": "markdown",
      "source": [
        "### *Casas*"
      ],
      "metadata": {
        "id": "Dz1LbG0C41Nv"
      }
    },
    {
      "cell_type": "code",
      "source": [
        "len(df_casas_leste)"
      ],
      "metadata": {
        "id": "eKUPIvzDQ2ri",
        "colab": {
          "base_uri": "https://localhost:8080/"
        },
        "outputId": "e4e1ecf4-7704-4fc7-f2fa-6de2391c32ae"
      },
      "execution_count": null,
      "outputs": [
        {
          "output_type": "execute_result",
          "data": {
            "text/plain": [
              "5"
            ]
          },
          "metadata": {},
          "execution_count": 211
        }
      ]
    },
    {
      "cell_type": "code",
      "source": [
        "media_casas_leste = df_casas_leste[\"qtde_quartos\"].mean()\n",
        "moda_casas_leste = df_casas_leste[\"qtde_quartos\"].mode()\n",
        "mediana_casas_leste = df_casas_leste[\"qtde_quartos\"].median()\n",
        "desvio_padrao_casas_leste = df_casas_leste[\"qtde_quartos\"].std()\n",
        "coeficiente_de_variacao_casas_leste = desvio_padrao_casas_leste/media_casas_leste"
      ],
      "metadata": {
        "id": "RuhkKpDbSlJA"
      },
      "execution_count": null,
      "outputs": []
    },
    {
      "cell_type": "code",
      "source": [
        "print(\"MEDIDAS DA VARIAVEL 'QUANTIDADE DE QUARTOS' DAS CASAS DA REGIÃO SUL\")\n",
        "print(f\"Média: {media_casas_leste:.1f}\")\n",
        "printModa(moda_casas_leste)\n",
        "print(f\"Mediana: {mediana_casas_leste:.0f}\")\n",
        "print(f\"Desvio Padrão:  {desvio_padrao_casas_leste:.2f}\")\n",
        "print(f\"Coeficiente de variação:  {coeficiente_de_variacao_casas_leste *100:.2f}%\")"
      ],
      "metadata": {
        "id": "0YdGNcN941Nv",
        "colab": {
          "base_uri": "https://localhost:8080/"
        },
        "outputId": "e945e48f-82c4-4e01-ae18-042dd4db26a8"
      },
      "execution_count": null,
      "outputs": [
        {
          "output_type": "stream",
          "name": "stdout",
          "text": [
            "MEDIDAS DA VARIAVEL 'QUANTIDADE DE QUARTOS' DAS CASAS DA REGIÃO SUL\n",
            "Média: 2.8\n",
            "Moda: \n",
            "4\n",
            "Mediana: 3\n",
            "Desvio Padrão:  1.30\n",
            "Coeficiente de variação:  46.57%\n"
          ]
        }
      ]
    },
    {
      "cell_type": "markdown",
      "source": [
        "### *Apartamentos*"
      ],
      "metadata": {
        "id": "n_2XqHuS41Nv"
      }
    },
    {
      "cell_type": "code",
      "source": [
        "len(df_apartamentos_leste)"
      ],
      "metadata": {
        "id": "MZbknWv4TJFk",
        "colab": {
          "base_uri": "https://localhost:8080/"
        },
        "outputId": "303fc063-18b5-4f1c-e77f-3ebec7b1513c"
      },
      "execution_count": null,
      "outputs": [
        {
          "output_type": "execute_result",
          "data": {
            "text/plain": [
              "3"
            ]
          },
          "metadata": {},
          "execution_count": 214
        }
      ]
    },
    {
      "cell_type": "code",
      "source": [
        "media_apartamentos_leste = df_apartamentos_leste[\"qtde_quartos\"].mean()\n",
        "moda_apartamentos_leste = df_apartamentos_leste[\"qtde_quartos\"].mode()\n",
        "mediana_apartamentos_leste = df_apartamentos_leste[\"qtde_quartos\"].median()\n",
        "desvio_padrao_apartamentos_leste = df_apartamentos_leste[\"qtde_quartos\"].std()\n",
        "coeficiente_de_variacao_apartamentos_leste = desvio_padrao_apartamentos_leste/media_apartamentos_leste"
      ],
      "metadata": {
        "id": "AI85dl-WTI30"
      },
      "execution_count": null,
      "outputs": []
    },
    {
      "cell_type": "code",
      "source": [
        "print(\"MEDIDAS DA VARIAVEL 'QUANTIDADE DE QUARTOS' DOS APARTAMENTOS DA REGIÃO LESTE\")\n",
        "print(f\"Média: {media_apartamentos_leste:.1f}\")\n",
        "printModa(moda_apartamentos_leste)\n",
        "print(f\"Mediana: {mediana_apartamentos_leste:.0f}\")\n",
        "print(f\"Desvio Padrão:  {desvio_padrao_apartamentos_leste:.2f}\")\n",
        "print(f\"Coeficiente de variação:  {coeficiente_de_variacao_apartamentos_leste *100:.2f}%\")"
      ],
      "metadata": {
        "id": "YKBjol_r41Nv",
        "colab": {
          "base_uri": "https://localhost:8080/"
        },
        "outputId": "5cded58d-102e-4765-a9c5-109fe178a48a"
      },
      "execution_count": null,
      "outputs": [
        {
          "output_type": "stream",
          "name": "stdout",
          "text": [
            "MEDIDAS DA VARIAVEL 'QUANTIDADE DE QUARTOS' DOS APARTAMENTOS DA REGIÃO LESTE\n",
            "Média: 2.7\n",
            "Moda: \n",
            "3\n",
            "Mediana: 3\n",
            "Desvio Padrão:  0.58\n",
            "Coeficiente de variação:  21.65%\n"
          ]
        }
      ]
    },
    {
      "cell_type": "code",
      "source": [],
      "metadata": {
        "id": "ZaDHyGA2WR96"
      },
      "execution_count": null,
      "outputs": []
    },
    {
      "cell_type": "markdown",
      "source": [
        "## Região Oeste"
      ],
      "metadata": {
        "id": "h_kWIgsz41Nt"
      }
    },
    {
      "cell_type": "markdown",
      "source": [
        "### *Medidas Gerais*"
      ],
      "metadata": {
        "id": "HekEOnT74wwa"
      }
    },
    {
      "cell_type": "code",
      "source": [
        "len(df_oeste)"
      ],
      "metadata": {
        "id": "hhd-sf_hbjhW",
        "colab": {
          "base_uri": "https://localhost:8080/"
        },
        "outputId": "c92d8e4b-2944-4481-a118-84668608e6ec"
      },
      "execution_count": null,
      "outputs": [
        {
          "output_type": "execute_result",
          "data": {
            "text/plain": [
              "116"
            ]
          },
          "metadata": {},
          "execution_count": 217
        }
      ]
    },
    {
      "cell_type": "code",
      "source": [
        "media_oeste = df_oeste[\"qtde_quartos\"].mean()\n",
        "moda_oeste = df_oeste[\"qtde_quartos\"].mode()\n",
        "mediana_oeste = df_oeste[\"qtde_quartos\"].median()\n",
        "desvio_padrao_oeste = df_oeste[\"qtde_quartos\"].std()\n",
        "coeficiente_de_variacao_oeste = desvio_padrao_oeste/media_oeste"
      ],
      "metadata": {
        "id": "SMaBcrr5bjSG"
      },
      "execution_count": null,
      "outputs": []
    },
    {
      "cell_type": "code",
      "source": [
        "print(\"MEDIDAS DA VARIAVEL 'QUANTIDADE DE QUARTOS' DA REGIÃO OESTE\")\n",
        "print(f\"Média: {media_oeste:.1f}\")\n",
        "printModa(moda_oeste)\n",
        "print(f\"Mediana: {mediana_oeste:.0f}\")\n",
        "print(f\"Desvio Padrão:  {desvio_padrao_oeste:.2f}\")\n",
        "print(f\"Coeficiente de variação:  {coeficiente_de_variacao_oeste *100:.2f}%\")"
      ],
      "metadata": {
        "id": "_1ItFGvE4wwb",
        "colab": {
          "base_uri": "https://localhost:8080/"
        },
        "outputId": "9283311e-49a0-4cc6-d53c-e68e9989dce1"
      },
      "execution_count": null,
      "outputs": [
        {
          "output_type": "stream",
          "name": "stdout",
          "text": [
            "MEDIDAS DA VARIAVEL 'QUANTIDADE DE QUARTOS' DA REGIÃO OESTE\n",
            "Média: 3.1\n",
            "Moda: \n",
            "3\n",
            "Mediana: 3\n",
            "Desvio Padrão:  0.83\n",
            "Coeficiente de variação:  26.81%\n"
          ]
        }
      ]
    },
    {
      "cell_type": "markdown",
      "source": [
        "### *Casas*"
      ],
      "metadata": {
        "id": "5DwQeBYO4wwc"
      }
    },
    {
      "cell_type": "code",
      "source": [
        "len(df_casas_oeste)"
      ],
      "metadata": {
        "id": "kEuJs9KlcVPn",
        "colab": {
          "base_uri": "https://localhost:8080/"
        },
        "outputId": "b035ca1a-0c51-4b45-d28c-8381b9d829a3"
      },
      "execution_count": null,
      "outputs": [
        {
          "output_type": "execute_result",
          "data": {
            "text/plain": [
              "62"
            ]
          },
          "metadata": {},
          "execution_count": 220
        }
      ]
    },
    {
      "cell_type": "code",
      "source": [
        "media_casas_oeste = df_casas_oeste[\"qtde_quartos\"].mean()\n",
        "moda_casas_oeste = df_casas_oeste[\"qtde_quartos\"].mode()\n",
        "mediana_casas_oeste = df_casas_oeste[\"qtde_quartos\"].median()\n",
        "desvio_padrao_casas_oeste = df_casas_oeste[\"qtde_quartos\"].std()\n",
        "coeficiente_de_variacao_casas_oeste = desvio_padrao_casas_oeste/media_casas_oeste"
      ],
      "metadata": {
        "id": "EOskvlnNcVC3"
      },
      "execution_count": null,
      "outputs": []
    },
    {
      "cell_type": "code",
      "source": [
        "print(\"MEDIDAS DA VARIAVEL 'QUANTIDADE DE QUARTOS' DAS CASAS DA REGIÃO OESTE\")\n",
        "print(f\"Média: {media_casas_oeste:.1f}\")\n",
        "printModa(moda_casas_oeste)\n",
        "print(f\"Mediana: {mediana_casas_oeste:.0f}\")\n",
        "print(f\"Desvio Padrão:  {desvio_padrao_casas_oeste:.2f}\")\n",
        "print(f\"Coeficiente de variação:  {coeficiente_de_variacao_casas_oeste *100:.2f}%\")"
      ],
      "metadata": {
        "id": "PMN_7ToR4wwc",
        "colab": {
          "base_uri": "https://localhost:8080/"
        },
        "outputId": "89ba5e1e-eb8b-4a89-f016-231528d055b2"
      },
      "execution_count": null,
      "outputs": [
        {
          "output_type": "stream",
          "name": "stdout",
          "text": [
            "MEDIDAS DA VARIAVEL 'QUANTIDADE DE QUARTOS' DAS CASAS DA REGIÃO OESTE\n",
            "Média: 3.5\n",
            "Moda: \n",
            "3\n",
            "Mediana: 3\n",
            "Desvio Padrão:  0.80\n",
            "Coeficiente de variação:  23.27%\n"
          ]
        }
      ]
    },
    {
      "cell_type": "markdown",
      "source": [
        "### *Apartamentos*"
      ],
      "metadata": {
        "id": "em4Xl5D94wwc"
      }
    },
    {
      "cell_type": "code",
      "source": [
        "len(df_casas_oeste)"
      ],
      "metadata": {
        "id": "_Y0SMtUUlcQ4",
        "colab": {
          "base_uri": "https://localhost:8080/"
        },
        "outputId": "d7c5f5b4-b60d-4916-d991-7cbcae1021c9"
      },
      "execution_count": null,
      "outputs": [
        {
          "output_type": "execute_result",
          "data": {
            "text/plain": [
              "62"
            ]
          },
          "metadata": {},
          "execution_count": 223
        }
      ]
    },
    {
      "cell_type": "code",
      "source": [
        "media_apartamentos_oeste = df_apartamentos_oeste[\"qtde_quartos\"].mean()\n",
        "moda_apartamentos_oeste = df_apartamentos_oeste[\"qtde_quartos\"].mode()\n",
        "mediana_apartamentos_oeste = df_apartamentos_oeste[\"qtde_quartos\"].median()\n",
        "desvio_padrao_apartamentos_oeste = df_apartamentos_oeste[\"qtde_quartos\"].std()\n",
        "coeficiente_de_variacao_apartamentos_oeste = desvio_padrao_apartamentos_oeste/media_apartamentos_oeste"
      ],
      "metadata": {
        "id": "wH5uLgQ0lcJB"
      },
      "execution_count": null,
      "outputs": []
    },
    {
      "cell_type": "code",
      "source": [
        "print(\"MEDIDAS DA VARIAVEL 'QUANTIDADE DE QUARTOS' DOS APARTAMENTOS DA REGIÃO OESTE\")\n",
        "print(f\"Média: {media_apartamentos_oeste:.2f}\")\n",
        "printModa(moda_apartamentos_oeste)\n",
        "print(f\"Mediana: {mediana_apartamentos_oeste:.0f}\")\n",
        "print(f\"Desvio Padrão:  {desvio_padrao_apartamentos_oeste:.2f}\")\n",
        "print(f\"Coeficiente de variação:  {coeficiente_de_variacao_apartamentos_oeste *100:.2f}%\")"
      ],
      "metadata": {
        "id": "I_3Du5WV4wwc",
        "colab": {
          "base_uri": "https://localhost:8080/"
        },
        "outputId": "a7a9e1e4-eb88-4f12-ac55-584696f7f9a2"
      },
      "execution_count": null,
      "outputs": [
        {
          "output_type": "stream",
          "name": "stdout",
          "text": [
            "MEDIDAS DA VARIAVEL 'QUANTIDADE DE QUARTOS' DOS APARTAMENTOS DA REGIÃO OESTE\n",
            "Média: 2.65\n",
            "Moda: \n",
            "3\n",
            "Mediana: 3\n",
            "Desvio Padrão:  0.62\n",
            "Coeficiente de variação:  23.38%\n"
          ]
        }
      ]
    },
    {
      "cell_type": "markdown",
      "source": [
        "## Região Centro-Oeste"
      ],
      "metadata": {
        "id": "_S4VdOHV4pKS"
      }
    },
    {
      "cell_type": "markdown",
      "source": [
        "### *Medidas Gerais*"
      ],
      "metadata": {
        "id": "9wIUh1Q94pKS"
      }
    },
    {
      "cell_type": "code",
      "source": [
        "len(df_co)"
      ],
      "metadata": {
        "id": "WZubFZoEfnM1",
        "colab": {
          "base_uri": "https://localhost:8080/"
        },
        "outputId": "5babf202-050c-4773-92d9-b9d85adb6080"
      },
      "execution_count": null,
      "outputs": [
        {
          "output_type": "execute_result",
          "data": {
            "text/plain": [
              "44"
            ]
          },
          "metadata": {},
          "execution_count": 226
        }
      ]
    },
    {
      "cell_type": "code",
      "source": [
        "media_co = df_co[\"qtde_quartos\"].mean()\n",
        "moda_co = df_co[\"qtde_quartos\"].mode()\n",
        "mediana_co = df_co[\"qtde_quartos\"].median()\n",
        "desvio_padrao_co = df_co[\"qtde_quartos\"].std()\n",
        "coeficiente_de_variacao_co = desvio_padrao_co/media_co"
      ],
      "metadata": {
        "id": "XTEerRbqfnBe"
      },
      "execution_count": null,
      "outputs": []
    },
    {
      "cell_type": "code",
      "source": [
        "print(\"MEDIDAS DA VARIAVEL 'QUANTIDADE DE QUARTOS' DA REGIÃO CENTRO-OESTE\")\n",
        "print(f\"Média: {media_co:.1f}\")\n",
        "printModa(moda_co)\n",
        "print(f\"Mediana: {mediana_co:.0f}\")\n",
        "print(f\"Desvio Padrão:  {desvio_padrao_co:.2f}\")\n",
        "print(f\"Coeficiente de variação:  {coeficiente_de_variacao_co *100:.2f}%\")"
      ],
      "metadata": {
        "id": "HEmGb9v34pKS",
        "colab": {
          "base_uri": "https://localhost:8080/"
        },
        "outputId": "1508de96-4025-406a-b360-51924c86ccfd"
      },
      "execution_count": null,
      "outputs": [
        {
          "output_type": "stream",
          "name": "stdout",
          "text": [
            "MEDIDAS DA VARIAVEL 'QUANTIDADE DE QUARTOS' DA REGIÃO CENTRO-OESTE\n",
            "Média: 2.9\n",
            "Moda: \n",
            "3\n",
            "Mediana: 3\n",
            "Desvio Padrão:  0.82\n",
            "Coeficiente de variação:  27.91%\n"
          ]
        }
      ]
    },
    {
      "cell_type": "markdown",
      "source": [
        "### *Casas*"
      ],
      "metadata": {
        "id": "phx5xp8e4pKT"
      }
    },
    {
      "cell_type": "code",
      "source": [
        "len(df_casas_co)"
      ],
      "metadata": {
        "id": "aQB5o4IZgPIm",
        "colab": {
          "base_uri": "https://localhost:8080/"
        },
        "outputId": "b8db7098-8b65-42a1-ed96-9de30c32e5ba"
      },
      "execution_count": null,
      "outputs": [
        {
          "output_type": "execute_result",
          "data": {
            "text/plain": [
              "24"
            ]
          },
          "metadata": {},
          "execution_count": 229
        }
      ]
    },
    {
      "cell_type": "code",
      "source": [
        "media_casas_co = df_casas_co[\"qtde_quartos\"].mean()\n",
        "moda_casas_co = df_casas_co[\"qtde_quartos\"].mode()\n",
        "mediana_casas_co = df_casas_co[\"qtde_quartos\"].median()\n",
        "desvio_padrao_casas_co = df_casas_co[\"qtde_quartos\"].std()\n",
        "coeficiente_de_variacao_casas_co = desvio_padrao_casas_co/media_casas_co"
      ],
      "metadata": {
        "id": "Lsu78pbngOvG"
      },
      "execution_count": null,
      "outputs": []
    },
    {
      "cell_type": "code",
      "source": [
        "print(\"MEDIDAS DA VARIAVEL 'QUANTIDADE DE QUARTOS' DAS CASAS DA REGIÃO CENTRO-OESTE\")\n",
        "print(f\"Média: {media_casas_co:.1f}\")\n",
        "printModa(moda_casas_co)\n",
        "print(f\"Mediana: {mediana_casas_co:.0f}\")\n",
        "print(f\"Desvio Padrão:  {desvio_padrao_casas_co:.2f}\")\n",
        "print(f\"Coeficiente de variação:  {coeficiente_de_variacao_casas_co *100:.2f}%\")"
      ],
      "metadata": {
        "id": "VfO4FxoH4pKT",
        "colab": {
          "base_uri": "https://localhost:8080/"
        },
        "outputId": "55a11f8b-cd65-47c1-b3ef-d95e08713f8f"
      },
      "execution_count": null,
      "outputs": [
        {
          "output_type": "stream",
          "name": "stdout",
          "text": [
            "MEDIDAS DA VARIAVEL 'QUANTIDADE DE QUARTOS' DAS CASAS DA REGIÃO CENTRO-OESTE\n",
            "Média: 3.2\n",
            "Moda: \n",
            "3\n",
            "Mediana: 3\n",
            "Desvio Padrão:  0.83\n",
            "Coeficiente de variação:  25.96%\n"
          ]
        }
      ]
    },
    {
      "cell_type": "markdown",
      "source": [
        "### *Apartamentos*"
      ],
      "metadata": {
        "id": "SC9okbAV4pKT"
      }
    },
    {
      "cell_type": "code",
      "source": [
        "len(df_apartamentos_co)"
      ],
      "metadata": {
        "id": "yRCAVBe-h-tD",
        "colab": {
          "base_uri": "https://localhost:8080/"
        },
        "outputId": "614ba0be-e620-4caf-e1b8-6e782dd83d9a"
      },
      "execution_count": null,
      "outputs": [
        {
          "output_type": "execute_result",
          "data": {
            "text/plain": [
              "20"
            ]
          },
          "metadata": {},
          "execution_count": 232
        }
      ]
    },
    {
      "cell_type": "code",
      "source": [
        "media_apartamentos_co = df_apartamentos_co[\"qtde_quartos\"].mean()\n",
        "moda_apartamentos_co = df_apartamentos_co[\"qtde_quartos\"].mode()\n",
        "mediana_apartamentos_co = df_apartamentos_co[\"qtde_quartos\"].median()\n",
        "desvio_padrao_apartamentos_co = df_apartamentos_co[\"qtde_quartos\"].std()\n",
        "coeficiente_de_variacao_apartamentos_co = desvio_padrao_apartamentos_co/media_apartamentos_co"
      ],
      "metadata": {
        "id": "mc8uVTrzh-nn"
      },
      "execution_count": null,
      "outputs": []
    },
    {
      "cell_type": "code",
      "source": [
        "print(\"MEDIDAS DA VARIAVEL 'QUANTIDADE DE QUARTOS' DOS APARTAMENTOS DA REGIÃO CENTRO-OESTE\")\n",
        "print(f\"Média: {media_apartamentos_co:.2f}\")\n",
        "printModa(moda_apartamentos_co)\n",
        "print(f\"Mediana: {mediana_apartamentos_co:.0f}\")\n",
        "print(f\"Desvio Padrão:  {desvio_padrao_apartamentos_co:.2f}\")\n",
        "print(f\"Coeficiente de variação:  {coeficiente_de_variacao_apartamentos_co *100:.2f}%\")"
      ],
      "metadata": {
        "id": "0DQkUzlr4pKT",
        "colab": {
          "base_uri": "https://localhost:8080/"
        },
        "outputId": "5aaaf916-d538-4ad6-d8c0-75da4184e25b"
      },
      "execution_count": null,
      "outputs": [
        {
          "output_type": "stream",
          "name": "stdout",
          "text": [
            "MEDIDAS DA VARIAVEL 'QUANTIDADE DE QUARTOS' DOS APARTAMENTOS DA REGIÃO CENTRO-OESTE\n",
            "Média: 2.60\n",
            "Moda: \n",
            "2\n",
            "Mediana: 2\n",
            "Desvio Padrão:  0.68\n",
            "Coeficiente de variação:  26.18%\n"
          ]
        }
      ]
    },
    {
      "cell_type": "markdown",
      "source": [
        "## Região Centro-Sul"
      ],
      "metadata": {
        "id": "SeWMACQ15NRw"
      }
    },
    {
      "cell_type": "markdown",
      "source": [
        "### *Medidas Gerais*"
      ],
      "metadata": {
        "id": "s0M6I0M55NRx"
      }
    },
    {
      "cell_type": "code",
      "source": [
        "len(df_cs)"
      ],
      "metadata": {
        "id": "3DZAxnRVmGtF",
        "colab": {
          "base_uri": "https://localhost:8080/"
        },
        "outputId": "2654c4e0-ef49-4ffc-a4df-b3b60c6fb663"
      },
      "execution_count": null,
      "outputs": [
        {
          "output_type": "execute_result",
          "data": {
            "text/plain": [
              "136"
            ]
          },
          "metadata": {},
          "execution_count": 235
        }
      ]
    },
    {
      "cell_type": "code",
      "source": [
        "media_cs = df_cs[\"qtde_quartos\"].mean()\n",
        "moda_cs = df_cs[\"qtde_quartos\"].mode()\n",
        "mediana_cs = df_cs[\"qtde_quartos\"].median()\n",
        "desvio_padrao_cs = df_cs[\"qtde_quartos\"].std()\n",
        "coeficiente_de_variacao_cs = desvio_padrao_cs/media_cs"
      ],
      "metadata": {
        "id": "-GUMJZ1vmGf4"
      },
      "execution_count": null,
      "outputs": []
    },
    {
      "cell_type": "code",
      "source": [
        "print(\"MEDIDAS DA VARIAVEL 'QUANTIDADE DE QUARTOS' DA REGIÃO CENTRO-SUL\")\n",
        "print(f\"Média: {media_cs:.2f}\")\n",
        "printModa(moda_cs)\n",
        "print(f\"Mediana: {mediana_cs:.0f}\")\n",
        "print(f\"Desvio Padrão:  {desvio_padrao_cs:.2f}\")\n",
        "print(f\"Coeficiente de variação:  {coeficiente_de_variacao_cs *100:.2f}%\")"
      ],
      "metadata": {
        "id": "GzjiX5Hq5NRx",
        "colab": {
          "base_uri": "https://localhost:8080/"
        },
        "outputId": "6e167c06-f143-4bd0-d389-61fe872f68ad"
      },
      "execution_count": null,
      "outputs": [
        {
          "output_type": "stream",
          "name": "stdout",
          "text": [
            "MEDIDAS DA VARIAVEL 'QUANTIDADE DE QUARTOS' DA REGIÃO CENTRO-SUL\n",
            "Média: 2.97\n",
            "Moda: \n",
            "3\n",
            "Mediana: 3\n",
            "Desvio Padrão:  0.87\n",
            "Coeficiente de variação:  29.24%\n"
          ]
        }
      ]
    },
    {
      "cell_type": "markdown",
      "source": [
        "### *Casas*"
      ],
      "metadata": {
        "id": "s8L5XlnK5NRy"
      }
    },
    {
      "cell_type": "code",
      "source": [
        "len(df_casas_cs)"
      ],
      "metadata": {
        "id": "aqa_wWQ4mt9d",
        "colab": {
          "base_uri": "https://localhost:8080/"
        },
        "outputId": "db72e6f7-e33f-4c53-d88a-244121665335"
      },
      "execution_count": null,
      "outputs": [
        {
          "output_type": "execute_result",
          "data": {
            "text/plain": [
              "63"
            ]
          },
          "metadata": {},
          "execution_count": 238
        }
      ]
    },
    {
      "cell_type": "code",
      "source": [
        "media_casas_cs = df_casas_cs[\"qtde_quartos\"].mean()\n",
        "moda_casas_cs = df_casas_cs[\"qtde_quartos\"].mode()\n",
        "mediana_casas_cs = df_casas_cs[\"qtde_quartos\"].median()\n",
        "desvio_padrao_casas_cs = df_casas_cs[\"qtde_quartos\"].std()\n",
        "coeficiente_de_variacao_casas_cs = desvio_padrao_casas_cs/media_casas_cs\n",
        "variancia = df_casas_cs[\"qtde_quartos\"].var()"
      ],
      "metadata": {
        "id": "uHAsobLWmtxX"
      },
      "execution_count": null,
      "outputs": []
    },
    {
      "cell_type": "code",
      "source": [
        "print(\"MEDIDAS DA VARIAVEL 'QUANTIDADE DE QUARTOS' DAS CASAS DA REGIÃO CENTRO-SUL\")\n",
        "print(f\"Média: {media_casas_cs:.2f}\")\n",
        "printModa(moda_casas_cs)\n",
        "print(f\"Mediana: {mediana_casas_cs:.0f}\")\n",
        "print(f\"Desvio Padrão:  {desvio_padrao_casas_cs:.2f}\")\n",
        "print(f\"Coeficiente de variação:  {coeficiente_de_variacao_casas_cs *100:.2f}%\")"
      ],
      "metadata": {
        "id": "JrkeEf_N5NRy",
        "colab": {
          "base_uri": "https://localhost:8080/"
        },
        "outputId": "ef106e31-b364-43f2-df1f-001691898ae6"
      },
      "execution_count": null,
      "outputs": [
        {
          "output_type": "stream",
          "name": "stdout",
          "text": [
            "MEDIDAS DA VARIAVEL 'QUANTIDADE DE QUARTOS' DAS CASAS DA REGIÃO CENTRO-SUL\n",
            "Média: 3.16\n",
            "Moda: \n",
            "3\n",
            "Mediana: 3\n",
            "Desvio Padrão:  0.90\n",
            "Coeficiente de variação:  28.55%\n"
          ]
        }
      ]
    },
    {
      "cell_type": "markdown",
      "source": [
        "### *Apartamentos*"
      ],
      "metadata": {
        "id": "2teOgXip5NRy"
      }
    },
    {
      "cell_type": "code",
      "source": [
        "len(df_apartamentos_cs)"
      ],
      "metadata": {
        "id": "kUJhORhpnfuL",
        "colab": {
          "base_uri": "https://localhost:8080/"
        },
        "outputId": "e73ea873-5c11-4d8d-ab77-9924b4cb8419"
      },
      "execution_count": null,
      "outputs": [
        {
          "output_type": "execute_result",
          "data": {
            "text/plain": [
              "73"
            ]
          },
          "metadata": {},
          "execution_count": 241
        }
      ]
    },
    {
      "cell_type": "code",
      "source": [
        "media_apartamentos_cs = df_apartamentos_cs[\"qtde_quartos\"].mean()\n",
        "moda_apartamentos_cs = df_apartamentos_cs[\"qtde_quartos\"].mode()\n",
        "mediana_apartamentos_cs = df_apartamentos_cs[\"qtde_quartos\"].median()\n",
        "desvio_padrao_apartamentos_cs = df_apartamentos_cs[\"qtde_quartos\"].std()\n",
        "coeficiente_de_variacao_apartamentos_cs = desvio_padrao_apartamentos_cs/media_apartamentos_cs"
      ],
      "metadata": {
        "id": "0k7EL-C1nfm2"
      },
      "execution_count": null,
      "outputs": []
    },
    {
      "cell_type": "code",
      "source": [
        "print(\"MEDIDAS DA VARIAVEL 'QUANTIDADE DE QUARTOS' DOS APARTAMENTOS DA REGIÃO CENTRO-OESTE\")\n",
        "print(f\"Média: {media_apartamentos_cs:.2f}\")\n",
        "printModa(moda_apartamentos_cs)\n",
        "print(f\"Mediana: {mediana_apartamentos_cs:.0f}\")\n",
        "print(f\"Desvio Padrão:  {desvio_padrao_apartamentos_cs:.2f}\")\n",
        "print(f\"Coeficiente de variação:  {coeficiente_de_variacao_apartamentos_cs *100:.2f}%\")"
      ],
      "metadata": {
        "id": "6wKaIvRh5NRy",
        "colab": {
          "base_uri": "https://localhost:8080/"
        },
        "outputId": "3a9c3b86-ce46-407d-b35c-73c3c780bd02"
      },
      "execution_count": null,
      "outputs": [
        {
          "output_type": "stream",
          "name": "stdout",
          "text": [
            "MEDIDAS DA VARIAVEL 'QUANTIDADE DE QUARTOS' DOS APARTAMENTOS DA REGIÃO CENTRO-OESTE\n",
            "Média: 2.81\n",
            "Moda: \n",
            "3\n",
            "Mediana: 3\n",
            "Desvio Padrão:  0.81\n",
            "Coeficiente de variação:  28.87%\n"
          ]
        }
      ]
    },
    {
      "cell_type": "code",
      "source": [],
      "metadata": {
        "id": "yqGPP3487Y6G"
      },
      "execution_count": null,
      "outputs": []
    },
    {
      "cell_type": "markdown",
      "source": [
        "# → ***Resultados: Quantidade de Quartos***\n",
        "\n",
        "\n",
        "---\n",
        "\n"
      ],
      "metadata": {
        "id": "3EaxPG-b3fj_"
      }
    },
    {
      "cell_type": "markdown",
      "source": [
        "### *Geral*"
      ],
      "metadata": {
        "id": "k7OEZZfU5Nlj"
      }
    },
    {
      "cell_type": "code",
      "source": [
        "df_resultados = pd.DataFrame([\n",
        "    (len(df_norte), f'{media_norte:.2f}', mediana_norte, moda_norte, f'{desvio_padrao_norte:.2f}', f'{coeficiente_de_variacao_norte * 100:.2f}%'),\n",
        "    (len(df_sul), f'{media_sul:.2f}', mediana_sul, moda_sul, f'{desvio_padrao_sul:.2f}', f'{coeficiente_de_variacao_sul * 100:.2f}%'),\n",
        "    (len(df_leste), f'{media_leste:.2f}', mediana_leste, int(moda_leste), f'{desvio_padrao_leste:.2f}', f'{coeficiente_de_variacao_leste * 100:.2f}%'),\n",
        "    (len(df_oeste), f'{media_oeste:.2f}', mediana_oeste, int(moda_oeste), f'{desvio_padrao_oeste:.2f}', f'{coeficiente_de_variacao_oeste * 100:.2f}%'),\n",
        "    (len(df_co), f'{media_co:.2f}', mediana_co, int(moda_co), f'{desvio_padrao_co:.2f}', f'{coeficiente_de_variacao_co:.2f}%'),\n",
        "    (len(df_cs), f'{media_cs:.2f}', mediana_cs, int(moda_cs), f'{desvio_padrao_cs:.2f}', f'{coeficiente_de_variacao_cs:.2f}%')],\n",
        "    index=('Zona Norte', 'Zona Sul', 'Zona Leste', 'Zona Oeste', 'Zona Centro Oeste', 'Zona Centro-Sul'),\n",
        "    columns=('Total Imóveis', 'Média', 'Mediana', 'Moda', 'Desvio Padrão', 'Coeficiente de Variação'))\n",
        "\n",
        "df_resultados"
      ],
      "metadata": {
        "id": "wCGjPX4i3iqH",
        "colab": {
          "base_uri": "https://localhost:8080/"
        },
        "outputId": "8d74d1ab-2136-4caf-88b3-45f5edeb7c02"
      },
      "execution_count": null,
      "outputs": [
        {
          "output_type": "execute_result",
          "data": {
            "text/plain": [
              "                   Total Imóveis Média  Mediana  Moda Desvio Padrão  \\\n",
              "Zona Norte                    74  2.65      3.0     2          0.78   \n",
              "Zona Sul                      13  3.00      3.0     3          1.41   \n",
              "Zona Leste                     8  2.75      3.0     3          1.04   \n",
              "Zona Oeste                   116  3.08      3.0     3          0.83   \n",
              "Zona Centro Oeste             44  2.93      3.0     3          0.82   \n",
              "Zona Centro-Sul              136  2.97      3.0     3          0.87   \n",
              "\n",
              "                  Coeficiente de Variação  \n",
              "Zona Norte                         29.60%  \n",
              "Zona Sul                           47.14%  \n",
              "Zona Leste                         37.64%  \n",
              "Zona Oeste                         26.81%  \n",
              "Zona Centro Oeste                   0.28%  \n",
              "Zona Centro-Sul                     0.29%  "
            ],
            "text/html": [
              "\n",
              "  <div id=\"df-6432046b-23c9-4a6a-a532-f3238f4c53ab\">\n",
              "    <div class=\"colab-df-container\">\n",
              "      <div>\n",
              "<style scoped>\n",
              "    .dataframe tbody tr th:only-of-type {\n",
              "        vertical-align: middle;\n",
              "    }\n",
              "\n",
              "    .dataframe tbody tr th {\n",
              "        vertical-align: top;\n",
              "    }\n",
              "\n",
              "    .dataframe thead th {\n",
              "        text-align: right;\n",
              "    }\n",
              "</style>\n",
              "<table border=\"1\" class=\"dataframe\">\n",
              "  <thead>\n",
              "    <tr style=\"text-align: right;\">\n",
              "      <th></th>\n",
              "      <th>Total Imóveis</th>\n",
              "      <th>Média</th>\n",
              "      <th>Mediana</th>\n",
              "      <th>Moda</th>\n",
              "      <th>Desvio Padrão</th>\n",
              "      <th>Coeficiente de Variação</th>\n",
              "    </tr>\n",
              "  </thead>\n",
              "  <tbody>\n",
              "    <tr>\n",
              "      <th>Zona Norte</th>\n",
              "      <td>74</td>\n",
              "      <td>2.65</td>\n",
              "      <td>3.0</td>\n",
              "      <td>2</td>\n",
              "      <td>0.78</td>\n",
              "      <td>29.60%</td>\n",
              "    </tr>\n",
              "    <tr>\n",
              "      <th>Zona Sul</th>\n",
              "      <td>13</td>\n",
              "      <td>3.00</td>\n",
              "      <td>3.0</td>\n",
              "      <td>3</td>\n",
              "      <td>1.41</td>\n",
              "      <td>47.14%</td>\n",
              "    </tr>\n",
              "    <tr>\n",
              "      <th>Zona Leste</th>\n",
              "      <td>8</td>\n",
              "      <td>2.75</td>\n",
              "      <td>3.0</td>\n",
              "      <td>3</td>\n",
              "      <td>1.04</td>\n",
              "      <td>37.64%</td>\n",
              "    </tr>\n",
              "    <tr>\n",
              "      <th>Zona Oeste</th>\n",
              "      <td>116</td>\n",
              "      <td>3.08</td>\n",
              "      <td>3.0</td>\n",
              "      <td>3</td>\n",
              "      <td>0.83</td>\n",
              "      <td>26.81%</td>\n",
              "    </tr>\n",
              "    <tr>\n",
              "      <th>Zona Centro Oeste</th>\n",
              "      <td>44</td>\n",
              "      <td>2.93</td>\n",
              "      <td>3.0</td>\n",
              "      <td>3</td>\n",
              "      <td>0.82</td>\n",
              "      <td>0.28%</td>\n",
              "    </tr>\n",
              "    <tr>\n",
              "      <th>Zona Centro-Sul</th>\n",
              "      <td>136</td>\n",
              "      <td>2.97</td>\n",
              "      <td>3.0</td>\n",
              "      <td>3</td>\n",
              "      <td>0.87</td>\n",
              "      <td>0.29%</td>\n",
              "    </tr>\n",
              "  </tbody>\n",
              "</table>\n",
              "</div>\n",
              "      <button class=\"colab-df-convert\" onclick=\"convertToInteractive('df-6432046b-23c9-4a6a-a532-f3238f4c53ab')\"\n",
              "              title=\"Convert this dataframe to an interactive table.\"\n",
              "              style=\"display:none;\">\n",
              "        \n",
              "  <svg xmlns=\"http://www.w3.org/2000/svg\" height=\"24px\"viewBox=\"0 0 24 24\"\n",
              "       width=\"24px\">\n",
              "    <path d=\"M0 0h24v24H0V0z\" fill=\"none\"/>\n",
              "    <path d=\"M18.56 5.44l.94 2.06.94-2.06 2.06-.94-2.06-.94-.94-2.06-.94 2.06-2.06.94zm-11 1L8.5 8.5l.94-2.06 2.06-.94-2.06-.94L8.5 2.5l-.94 2.06-2.06.94zm10 10l.94 2.06.94-2.06 2.06-.94-2.06-.94-.94-2.06-.94 2.06-2.06.94z\"/><path d=\"M17.41 7.96l-1.37-1.37c-.4-.4-.92-.59-1.43-.59-.52 0-1.04.2-1.43.59L10.3 9.45l-7.72 7.72c-.78.78-.78 2.05 0 2.83L4 21.41c.39.39.9.59 1.41.59.51 0 1.02-.2 1.41-.59l7.78-7.78 2.81-2.81c.8-.78.8-2.07 0-2.86zM5.41 20L4 18.59l7.72-7.72 1.47 1.35L5.41 20z\"/>\n",
              "  </svg>\n",
              "      </button>\n",
              "      \n",
              "  <style>\n",
              "    .colab-df-container {\n",
              "      display:flex;\n",
              "      flex-wrap:wrap;\n",
              "      gap: 12px;\n",
              "    }\n",
              "\n",
              "    .colab-df-convert {\n",
              "      background-color: #E8F0FE;\n",
              "      border: none;\n",
              "      border-radius: 50%;\n",
              "      cursor: pointer;\n",
              "      display: none;\n",
              "      fill: #1967D2;\n",
              "      height: 32px;\n",
              "      padding: 0 0 0 0;\n",
              "      width: 32px;\n",
              "    }\n",
              "\n",
              "    .colab-df-convert:hover {\n",
              "      background-color: #E2EBFA;\n",
              "      box-shadow: 0px 1px 2px rgba(60, 64, 67, 0.3), 0px 1px 3px 1px rgba(60, 64, 67, 0.15);\n",
              "      fill: #174EA6;\n",
              "    }\n",
              "\n",
              "    [theme=dark] .colab-df-convert {\n",
              "      background-color: #3B4455;\n",
              "      fill: #D2E3FC;\n",
              "    }\n",
              "\n",
              "    [theme=dark] .colab-df-convert:hover {\n",
              "      background-color: #434B5C;\n",
              "      box-shadow: 0px 1px 3px 1px rgba(0, 0, 0, 0.15);\n",
              "      filter: drop-shadow(0px 1px 2px rgba(0, 0, 0, 0.3));\n",
              "      fill: #FFFFFF;\n",
              "    }\n",
              "  </style>\n",
              "\n",
              "      <script>\n",
              "        const buttonEl =\n",
              "          document.querySelector('#df-6432046b-23c9-4a6a-a532-f3238f4c53ab button.colab-df-convert');\n",
              "        buttonEl.style.display =\n",
              "          google.colab.kernel.accessAllowed ? 'block' : 'none';\n",
              "\n",
              "        async function convertToInteractive(key) {\n",
              "          const element = document.querySelector('#df-6432046b-23c9-4a6a-a532-f3238f4c53ab');\n",
              "          const dataTable =\n",
              "            await google.colab.kernel.invokeFunction('convertToInteractive',\n",
              "                                                     [key], {});\n",
              "          if (!dataTable) return;\n",
              "\n",
              "          const docLinkHtml = 'Like what you see? Visit the ' +\n",
              "            '<a target=\"_blank\" href=https://colab.research.google.com/notebooks/data_table.ipynb>data table notebook</a>'\n",
              "            + ' to learn more about interactive tables.';\n",
              "          element.innerHTML = '';\n",
              "          dataTable['output_type'] = 'display_data';\n",
              "          await google.colab.output.renderOutput(dataTable, element);\n",
              "          const docLink = document.createElement('div');\n",
              "          docLink.innerHTML = docLinkHtml;\n",
              "          element.appendChild(docLink);\n",
              "        }\n",
              "      </script>\n",
              "    </div>\n",
              "  </div>\n",
              "  "
            ]
          },
          "metadata": {},
          "execution_count": 244
        }
      ]
    },
    {
      "cell_type": "markdown",
      "source": [
        "### *Casas*"
      ],
      "metadata": {
        "id": "4ayGp7Mb5Yez"
      }
    },
    {
      "cell_type": "code",
      "source": [
        "df_resultados = pd.DataFrame([\n",
        "    (len(df_casas_norte), f'{media_casas_norte:.2f}', mediana_casas_norte, int(moda_casas_norte), f'{desvio_padrao_casas_norte:.2f}', f'{coeficiente_de_variacao_casas_norte * 100:.2f}%'),\n",
        "    (len(df_casas_sul), f'{media_casas_sul:.2f}', mediana_casas_sul, moda_casas_sul.tolist(), f'{desvio_padrao_casas_sul:.2f}', f'{coeficiente_de_variacao_casas_sul * 100:.2f}%'),\n",
        "    (len(df_casas_leste), f'{media_casas_leste:.2f}', mediana_casas_leste, int(moda_casas_leste), f'{desvio_padrao_casas_leste:.2f}', f'{coeficiente_de_variacao_casas_leste * 100:.2f}%'),\n",
        "    (len(df_casas_oeste), f'{media_casas_oeste:.2f}', mediana_casas_oeste, int(moda_casas_oeste), f'{desvio_padrao_casas_oeste:.2f}', f'{coeficiente_de_variacao_casas_oeste * 100:.2f}%'),\n",
        "    (len(df_casas_co), f'{media_casas_co:.2f}', mediana_casas_co, int(moda_casas_co), f'{desvio_padrao_casas_co:.2f}', f'{coeficiente_de_variacao_casas_co * 100:.2f}%'),\n",
        "    (len(df_casas_cs), f'{media_casas_cs:.2f}', mediana_casas_cs, int(moda_casas_cs), f'{desvio_padrao_casas_cs:.2f}', f'{coeficiente_de_variacao_casas_cs * 100:.2f}%')],\n",
        "    index=('Zona Norte', 'Zona Sul', 'Zona Leste', 'Zona Oeste', 'Zona Centro Oeste', 'Zona Centro-Sul'),\n",
        "    columns=('Total Imóveis', 'Média', 'Mediana', 'Moda', 'Desvio Padrão', 'Coeficiente de Variação'))\n",
        "\n",
        "df_resultados"
      ],
      "metadata": {
        "id": "iyKJ6DS35cTi",
        "colab": {
          "base_uri": "https://localhost:8080/"
        },
        "outputId": "03cbef9a-b058-4968-ad3c-b60bace77914"
      },
      "execution_count": null,
      "outputs": [
        {
          "output_type": "execute_result",
          "data": {
            "text/plain": [
              "                   Total Imóveis Média  Mediana    Moda Desvio Padrão  \\\n",
              "Zona Norte                    50  2.84      3.0       3          0.82   \n",
              "Zona Sul                       6  3.67      3.5  [3, 5]          1.21   \n",
              "Zona Leste                     5  2.80      3.0       4          1.30   \n",
              "Zona Oeste                    62  3.45      3.0       3          0.80   \n",
              "Zona Centro Oeste             24  3.21      3.0       3          0.83   \n",
              "Zona Centro-Sul               63  3.16      3.0       3          0.90   \n",
              "\n",
              "                  Coeficiente de Variação  \n",
              "Zona Norte                         28.77%  \n",
              "Zona Sul                           33.03%  \n",
              "Zona Leste                         46.57%  \n",
              "Zona Oeste                         23.27%  \n",
              "Zona Centro Oeste                  25.96%  \n",
              "Zona Centro-Sul                    28.55%  "
            ],
            "text/html": [
              "\n",
              "  <div id=\"df-93ce237a-f7d0-49a3-a262-b2d049082ca3\">\n",
              "    <div class=\"colab-df-container\">\n",
              "      <div>\n",
              "<style scoped>\n",
              "    .dataframe tbody tr th:only-of-type {\n",
              "        vertical-align: middle;\n",
              "    }\n",
              "\n",
              "    .dataframe tbody tr th {\n",
              "        vertical-align: top;\n",
              "    }\n",
              "\n",
              "    .dataframe thead th {\n",
              "        text-align: right;\n",
              "    }\n",
              "</style>\n",
              "<table border=\"1\" class=\"dataframe\">\n",
              "  <thead>\n",
              "    <tr style=\"text-align: right;\">\n",
              "      <th></th>\n",
              "      <th>Total Imóveis</th>\n",
              "      <th>Média</th>\n",
              "      <th>Mediana</th>\n",
              "      <th>Moda</th>\n",
              "      <th>Desvio Padrão</th>\n",
              "      <th>Coeficiente de Variação</th>\n",
              "    </tr>\n",
              "  </thead>\n",
              "  <tbody>\n",
              "    <tr>\n",
              "      <th>Zona Norte</th>\n",
              "      <td>50</td>\n",
              "      <td>2.84</td>\n",
              "      <td>3.0</td>\n",
              "      <td>3</td>\n",
              "      <td>0.82</td>\n",
              "      <td>28.77%</td>\n",
              "    </tr>\n",
              "    <tr>\n",
              "      <th>Zona Sul</th>\n",
              "      <td>6</td>\n",
              "      <td>3.67</td>\n",
              "      <td>3.5</td>\n",
              "      <td>[3, 5]</td>\n",
              "      <td>1.21</td>\n",
              "      <td>33.03%</td>\n",
              "    </tr>\n",
              "    <tr>\n",
              "      <th>Zona Leste</th>\n",
              "      <td>5</td>\n",
              "      <td>2.80</td>\n",
              "      <td>3.0</td>\n",
              "      <td>4</td>\n",
              "      <td>1.30</td>\n",
              "      <td>46.57%</td>\n",
              "    </tr>\n",
              "    <tr>\n",
              "      <th>Zona Oeste</th>\n",
              "      <td>62</td>\n",
              "      <td>3.45</td>\n",
              "      <td>3.0</td>\n",
              "      <td>3</td>\n",
              "      <td>0.80</td>\n",
              "      <td>23.27%</td>\n",
              "    </tr>\n",
              "    <tr>\n",
              "      <th>Zona Centro Oeste</th>\n",
              "      <td>24</td>\n",
              "      <td>3.21</td>\n",
              "      <td>3.0</td>\n",
              "      <td>3</td>\n",
              "      <td>0.83</td>\n",
              "      <td>25.96%</td>\n",
              "    </tr>\n",
              "    <tr>\n",
              "      <th>Zona Centro-Sul</th>\n",
              "      <td>63</td>\n",
              "      <td>3.16</td>\n",
              "      <td>3.0</td>\n",
              "      <td>3</td>\n",
              "      <td>0.90</td>\n",
              "      <td>28.55%</td>\n",
              "    </tr>\n",
              "  </tbody>\n",
              "</table>\n",
              "</div>\n",
              "      <button class=\"colab-df-convert\" onclick=\"convertToInteractive('df-93ce237a-f7d0-49a3-a262-b2d049082ca3')\"\n",
              "              title=\"Convert this dataframe to an interactive table.\"\n",
              "              style=\"display:none;\">\n",
              "        \n",
              "  <svg xmlns=\"http://www.w3.org/2000/svg\" height=\"24px\"viewBox=\"0 0 24 24\"\n",
              "       width=\"24px\">\n",
              "    <path d=\"M0 0h24v24H0V0z\" fill=\"none\"/>\n",
              "    <path d=\"M18.56 5.44l.94 2.06.94-2.06 2.06-.94-2.06-.94-.94-2.06-.94 2.06-2.06.94zm-11 1L8.5 8.5l.94-2.06 2.06-.94-2.06-.94L8.5 2.5l-.94 2.06-2.06.94zm10 10l.94 2.06.94-2.06 2.06-.94-2.06-.94-.94-2.06-.94 2.06-2.06.94z\"/><path d=\"M17.41 7.96l-1.37-1.37c-.4-.4-.92-.59-1.43-.59-.52 0-1.04.2-1.43.59L10.3 9.45l-7.72 7.72c-.78.78-.78 2.05 0 2.83L4 21.41c.39.39.9.59 1.41.59.51 0 1.02-.2 1.41-.59l7.78-7.78 2.81-2.81c.8-.78.8-2.07 0-2.86zM5.41 20L4 18.59l7.72-7.72 1.47 1.35L5.41 20z\"/>\n",
              "  </svg>\n",
              "      </button>\n",
              "      \n",
              "  <style>\n",
              "    .colab-df-container {\n",
              "      display:flex;\n",
              "      flex-wrap:wrap;\n",
              "      gap: 12px;\n",
              "    }\n",
              "\n",
              "    .colab-df-convert {\n",
              "      background-color: #E8F0FE;\n",
              "      border: none;\n",
              "      border-radius: 50%;\n",
              "      cursor: pointer;\n",
              "      display: none;\n",
              "      fill: #1967D2;\n",
              "      height: 32px;\n",
              "      padding: 0 0 0 0;\n",
              "      width: 32px;\n",
              "    }\n",
              "\n",
              "    .colab-df-convert:hover {\n",
              "      background-color: #E2EBFA;\n",
              "      box-shadow: 0px 1px 2px rgba(60, 64, 67, 0.3), 0px 1px 3px 1px rgba(60, 64, 67, 0.15);\n",
              "      fill: #174EA6;\n",
              "    }\n",
              "\n",
              "    [theme=dark] .colab-df-convert {\n",
              "      background-color: #3B4455;\n",
              "      fill: #D2E3FC;\n",
              "    }\n",
              "\n",
              "    [theme=dark] .colab-df-convert:hover {\n",
              "      background-color: #434B5C;\n",
              "      box-shadow: 0px 1px 3px 1px rgba(0, 0, 0, 0.15);\n",
              "      filter: drop-shadow(0px 1px 2px rgba(0, 0, 0, 0.3));\n",
              "      fill: #FFFFFF;\n",
              "    }\n",
              "  </style>\n",
              "\n",
              "      <script>\n",
              "        const buttonEl =\n",
              "          document.querySelector('#df-93ce237a-f7d0-49a3-a262-b2d049082ca3 button.colab-df-convert');\n",
              "        buttonEl.style.display =\n",
              "          google.colab.kernel.accessAllowed ? 'block' : 'none';\n",
              "\n",
              "        async function convertToInteractive(key) {\n",
              "          const element = document.querySelector('#df-93ce237a-f7d0-49a3-a262-b2d049082ca3');\n",
              "          const dataTable =\n",
              "            await google.colab.kernel.invokeFunction('convertToInteractive',\n",
              "                                                     [key], {});\n",
              "          if (!dataTable) return;\n",
              "\n",
              "          const docLinkHtml = 'Like what you see? Visit the ' +\n",
              "            '<a target=\"_blank\" href=https://colab.research.google.com/notebooks/data_table.ipynb>data table notebook</a>'\n",
              "            + ' to learn more about interactive tables.';\n",
              "          element.innerHTML = '';\n",
              "          dataTable['output_type'] = 'display_data';\n",
              "          await google.colab.output.renderOutput(dataTable, element);\n",
              "          const docLink = document.createElement('div');\n",
              "          docLink.innerHTML = docLinkHtml;\n",
              "          element.appendChild(docLink);\n",
              "        }\n",
              "      </script>\n",
              "    </div>\n",
              "  </div>\n",
              "  "
            ]
          },
          "metadata": {},
          "execution_count": 245
        }
      ]
    },
    {
      "cell_type": "markdown",
      "source": [
        "### *Apartamentos*"
      ],
      "metadata": {
        "id": "-7Ke-2ih5aGD"
      }
    },
    {
      "cell_type": "code",
      "source": [
        "df_resultados = pd.DataFrame([\n",
        "    (len(df_apartamentos_norte), f'{media_apartamentos_norte:.2f}', mediana_apartamentos_norte, moda_apartamentos_norte, f'{desvio_padrao_apartamentos_norte:.2f}', f'{coeficiente_de_variacao_apartamentos_norte * 100:.2f}%'),\n",
        "    (len(df_apartamentos_sul), f'{media_apartamentos_sul:.2f}', mediana_apartamentos_sul, moda_apartamentos_sul.tolist(), f'{desvio_padrao_apartamentos_sul:.2f}', f'{coeficiente_de_variacao_apartamentos_sul * 100:.2f}%'),\n",
        "    (len(df_apartamentos_leste), f'{media_apartamentos_leste:.2f}', mediana_apartamentos_leste, int(moda_apartamentos_leste), f'{desvio_padrao_apartamentos_leste:.2f}', f'{coeficiente_de_variacao_apartamentos_leste * 100:.2f}%'),\n",
        "    (len(df_apartamentos_oeste), f'{media_apartamentos_oeste:.2f}', mediana_oeste, int(moda_oeste), f'{desvio_padrao_apartamentos_oeste:.2f}', f'{coeficiente_de_variacao_apartamentos_oeste * 100:.2f}%'),\n",
        "    (len(df_apartamentos_co), f'{media_apartamentos_co:.2f}', mediana_apartamentos_co, int(moda_apartamentos_co), f'{desvio_padrao_apartamentos_co:.2f}', f'{coeficiente_de_variacao_apartamentos_co * 100:.2f}%'),\n",
        "    (len(df_apartamentos_cs), f'{media_apartamentos_cs:.2f}', mediana_apartamentos_cs, int(moda_apartamentos_cs), f'{desvio_padrao_apartamentos_cs:.2f}', f'{coeficiente_de_variacao_apartamentos_cs * 100:.2f}%')],\n",
        "    index=('Zona Norte', 'Zona Sul', 'Zona Leste', 'Zona Oeste', 'Zona Centro Oeste', 'Zona Centro-Sul'),\n",
        "    columns=('Total Imóveis', 'Média', 'Mediana', 'Moda', 'Desvio Padrão', 'Coeficiente de Variação'))\n",
        "\n",
        "df_resultados"
      ],
      "metadata": {
        "id": "S1zg6oAl6nGc",
        "colab": {
          "base_uri": "https://localhost:8080/"
        },
        "outputId": "d0e55766-ea2f-4dd1-f91d-1aeddbc05c06"
      },
      "execution_count": null,
      "outputs": [
        {
          "output_type": "execute_result",
          "data": {
            "text/plain": [
              "                   Total Imóveis Média  Mediana       Moda Desvio Padrão  \\\n",
              "Zona Norte                    24  2.25      2.0          2          0.53   \n",
              "Zona Sul                       7  2.43      2.0  [1, 2, 3]          1.40   \n",
              "Zona Leste                     3  2.67      3.0          3          0.58   \n",
              "Zona Oeste                    54  2.65      3.0          3          0.62   \n",
              "Zona Centro Oeste             20  2.60      2.5          2          0.68   \n",
              "Zona Centro-Sul               73  2.81      3.0          3          0.81   \n",
              "\n",
              "                  Coeficiente de Variação  \n",
              "Zona Norte                         23.63%  \n",
              "Zona Sul                           57.53%  \n",
              "Zona Leste                         21.65%  \n",
              "Zona Oeste                         23.38%  \n",
              "Zona Centro Oeste                  26.18%  \n",
              "Zona Centro-Sul                    28.87%  "
            ],
            "text/html": [
              "\n",
              "  <div id=\"df-35202488-2290-49e7-b25b-013282ca4794\">\n",
              "    <div class=\"colab-df-container\">\n",
              "      <div>\n",
              "<style scoped>\n",
              "    .dataframe tbody tr th:only-of-type {\n",
              "        vertical-align: middle;\n",
              "    }\n",
              "\n",
              "    .dataframe tbody tr th {\n",
              "        vertical-align: top;\n",
              "    }\n",
              "\n",
              "    .dataframe thead th {\n",
              "        text-align: right;\n",
              "    }\n",
              "</style>\n",
              "<table border=\"1\" class=\"dataframe\">\n",
              "  <thead>\n",
              "    <tr style=\"text-align: right;\">\n",
              "      <th></th>\n",
              "      <th>Total Imóveis</th>\n",
              "      <th>Média</th>\n",
              "      <th>Mediana</th>\n",
              "      <th>Moda</th>\n",
              "      <th>Desvio Padrão</th>\n",
              "      <th>Coeficiente de Variação</th>\n",
              "    </tr>\n",
              "  </thead>\n",
              "  <tbody>\n",
              "    <tr>\n",
              "      <th>Zona Norte</th>\n",
              "      <td>24</td>\n",
              "      <td>2.25</td>\n",
              "      <td>2.0</td>\n",
              "      <td>2</td>\n",
              "      <td>0.53</td>\n",
              "      <td>23.63%</td>\n",
              "    </tr>\n",
              "    <tr>\n",
              "      <th>Zona Sul</th>\n",
              "      <td>7</td>\n",
              "      <td>2.43</td>\n",
              "      <td>2.0</td>\n",
              "      <td>[1, 2, 3]</td>\n",
              "      <td>1.40</td>\n",
              "      <td>57.53%</td>\n",
              "    </tr>\n",
              "    <tr>\n",
              "      <th>Zona Leste</th>\n",
              "      <td>3</td>\n",
              "      <td>2.67</td>\n",
              "      <td>3.0</td>\n",
              "      <td>3</td>\n",
              "      <td>0.58</td>\n",
              "      <td>21.65%</td>\n",
              "    </tr>\n",
              "    <tr>\n",
              "      <th>Zona Oeste</th>\n",
              "      <td>54</td>\n",
              "      <td>2.65</td>\n",
              "      <td>3.0</td>\n",
              "      <td>3</td>\n",
              "      <td>0.62</td>\n",
              "      <td>23.38%</td>\n",
              "    </tr>\n",
              "    <tr>\n",
              "      <th>Zona Centro Oeste</th>\n",
              "      <td>20</td>\n",
              "      <td>2.60</td>\n",
              "      <td>2.5</td>\n",
              "      <td>2</td>\n",
              "      <td>0.68</td>\n",
              "      <td>26.18%</td>\n",
              "    </tr>\n",
              "    <tr>\n",
              "      <th>Zona Centro-Sul</th>\n",
              "      <td>73</td>\n",
              "      <td>2.81</td>\n",
              "      <td>3.0</td>\n",
              "      <td>3</td>\n",
              "      <td>0.81</td>\n",
              "      <td>28.87%</td>\n",
              "    </tr>\n",
              "  </tbody>\n",
              "</table>\n",
              "</div>\n",
              "      <button class=\"colab-df-convert\" onclick=\"convertToInteractive('df-35202488-2290-49e7-b25b-013282ca4794')\"\n",
              "              title=\"Convert this dataframe to an interactive table.\"\n",
              "              style=\"display:none;\">\n",
              "        \n",
              "  <svg xmlns=\"http://www.w3.org/2000/svg\" height=\"24px\"viewBox=\"0 0 24 24\"\n",
              "       width=\"24px\">\n",
              "    <path d=\"M0 0h24v24H0V0z\" fill=\"none\"/>\n",
              "    <path d=\"M18.56 5.44l.94 2.06.94-2.06 2.06-.94-2.06-.94-.94-2.06-.94 2.06-2.06.94zm-11 1L8.5 8.5l.94-2.06 2.06-.94-2.06-.94L8.5 2.5l-.94 2.06-2.06.94zm10 10l.94 2.06.94-2.06 2.06-.94-2.06-.94-.94-2.06-.94 2.06-2.06.94z\"/><path d=\"M17.41 7.96l-1.37-1.37c-.4-.4-.92-.59-1.43-.59-.52 0-1.04.2-1.43.59L10.3 9.45l-7.72 7.72c-.78.78-.78 2.05 0 2.83L4 21.41c.39.39.9.59 1.41.59.51 0 1.02-.2 1.41-.59l7.78-7.78 2.81-2.81c.8-.78.8-2.07 0-2.86zM5.41 20L4 18.59l7.72-7.72 1.47 1.35L5.41 20z\"/>\n",
              "  </svg>\n",
              "      </button>\n",
              "      \n",
              "  <style>\n",
              "    .colab-df-container {\n",
              "      display:flex;\n",
              "      flex-wrap:wrap;\n",
              "      gap: 12px;\n",
              "    }\n",
              "\n",
              "    .colab-df-convert {\n",
              "      background-color: #E8F0FE;\n",
              "      border: none;\n",
              "      border-radius: 50%;\n",
              "      cursor: pointer;\n",
              "      display: none;\n",
              "      fill: #1967D2;\n",
              "      height: 32px;\n",
              "      padding: 0 0 0 0;\n",
              "      width: 32px;\n",
              "    }\n",
              "\n",
              "    .colab-df-convert:hover {\n",
              "      background-color: #E2EBFA;\n",
              "      box-shadow: 0px 1px 2px rgba(60, 64, 67, 0.3), 0px 1px 3px 1px rgba(60, 64, 67, 0.15);\n",
              "      fill: #174EA6;\n",
              "    }\n",
              "\n",
              "    [theme=dark] .colab-df-convert {\n",
              "      background-color: #3B4455;\n",
              "      fill: #D2E3FC;\n",
              "    }\n",
              "\n",
              "    [theme=dark] .colab-df-convert:hover {\n",
              "      background-color: #434B5C;\n",
              "      box-shadow: 0px 1px 3px 1px rgba(0, 0, 0, 0.15);\n",
              "      filter: drop-shadow(0px 1px 2px rgba(0, 0, 0, 0.3));\n",
              "      fill: #FFFFFF;\n",
              "    }\n",
              "  </style>\n",
              "\n",
              "      <script>\n",
              "        const buttonEl =\n",
              "          document.querySelector('#df-35202488-2290-49e7-b25b-013282ca4794 button.colab-df-convert');\n",
              "        buttonEl.style.display =\n",
              "          google.colab.kernel.accessAllowed ? 'block' : 'none';\n",
              "\n",
              "        async function convertToInteractive(key) {\n",
              "          const element = document.querySelector('#df-35202488-2290-49e7-b25b-013282ca4794');\n",
              "          const dataTable =\n",
              "            await google.colab.kernel.invokeFunction('convertToInteractive',\n",
              "                                                     [key], {});\n",
              "          if (!dataTable) return;\n",
              "\n",
              "          const docLinkHtml = 'Like what you see? Visit the ' +\n",
              "            '<a target=\"_blank\" href=https://colab.research.google.com/notebooks/data_table.ipynb>data table notebook</a>'\n",
              "            + ' to learn more about interactive tables.';\n",
              "          element.innerHTML = '';\n",
              "          dataTable['output_type'] = 'display_data';\n",
              "          await google.colab.output.renderOutput(dataTable, element);\n",
              "          const docLink = document.createElement('div');\n",
              "          docLink.innerHTML = docLinkHtml;\n",
              "          element.appendChild(docLink);\n",
              "        }\n",
              "      </script>\n",
              "    </div>\n",
              "  </div>\n",
              "  "
            ]
          },
          "metadata": {},
          "execution_count": 246
        }
      ]
    },
    {
      "cell_type": "markdown",
      "source": [
        "# 🟆 Variável: Quantidade de Banheiros (Quantitativa)\n",
        "\n",
        "\n",
        "---\n",
        "\n"
      ],
      "metadata": {
        "id": "qFO9kw-Zea2t"
      }
    },
    {
      "cell_type": "markdown",
      "source": [
        "## Medidas Gerais"
      ],
      "metadata": {
        "id": "QxfRp0FaRh7o"
      }
    },
    {
      "cell_type": "markdown",
      "source": [
        "### *Geral*"
      ],
      "metadata": {
        "id": "AQ11hYvqU67f"
      }
    },
    {
      "cell_type": "code",
      "source": [
        "media = df[\"qtde_banheiros\"].mean()\n",
        "moda = int(df[\"qtde_banheiros\"].mode())\n",
        "mediana = df[\"qtde_banheiros\"].median()\n",
        "desvio_padrao = df[\"qtde_banheiros\"].std()\n",
        "coeficiente_de_variacao = desvio_padrao/media\n",
        "coeficiente_porcentagem = coeficiente_de_variacao * 100"
      ],
      "metadata": {
        "id": "8SLvBnUJP47E"
      },
      "execution_count": null,
      "outputs": []
    },
    {
      "cell_type": "code",
      "source": [
        "print(f'Média: {media:.2f}')\n",
        "print(f'Mediana: {mediana:.0f}')\n",
        "print(f'Moda: {moda}')\n",
        "print(f'Desvio Padrão: {desvio_padrao:.2f}%')\n",
        "print(f'Coeficiente de Variação: {coeficiente_porcentagem:.2f}%')"
      ],
      "metadata": {
        "id": "HbXWRHAWQDlg",
        "colab": {
          "base_uri": "https://localhost:8080/"
        },
        "outputId": "161ba2b3-b878-4ec2-804f-6bb9ce6aa0e5"
      },
      "execution_count": null,
      "outputs": [
        {
          "output_type": "stream",
          "name": "stdout",
          "text": [
            "Média: 2.59\n",
            "Mediana: 2\n",
            "Moda: 2\n",
            "Desvio Padrão: 1.39%\n",
            "Coeficiente de Variação: 53.68%\n"
          ]
        }
      ]
    },
    {
      "cell_type": "markdown",
      "source": [
        "### *Casas*"
      ],
      "metadata": {
        "id": "Z1rdmW4HU21D"
      }
    },
    {
      "cell_type": "code",
      "source": [
        "len(df_casas)"
      ],
      "metadata": {
        "id": "VPFyUI9vPxMi",
        "colab": {
          "base_uri": "https://localhost:8080/"
        },
        "outputId": "22299ad1-862d-4dc3-aa0a-e099d6c28671"
      },
      "execution_count": null,
      "outputs": [
        {
          "output_type": "execute_result",
          "data": {
            "text/plain": [
              "210"
            ]
          },
          "metadata": {},
          "execution_count": 249
        }
      ]
    },
    {
      "cell_type": "code",
      "source": [
        "media_casas = df_casas[\"qtde_banheiros\"].mean()\n",
        "moda_casas = df_casas[\"qtde_banheiros\"].mode()\n",
        "mediana_casas = df_casas[\"qtde_banheiros\"].median()\n",
        "desvio_padrao_casas = df_casas[\"qtde_banheiros\"].std()\n",
        "coeficiente_de_variacao_casas = desvio_padrao_casas/media_casas\n",
        "coeficiente_porcentagem_casas = coeficiente_de_variacao_casas * 100"
      ],
      "metadata": {
        "id": "LBmplHP7P1pG"
      },
      "execution_count": null,
      "outputs": []
    },
    {
      "cell_type": "code",
      "source": [
        "print(f'Média: {media_casas:.2f}')\n",
        "print(f'Mediana: {mediana_casas:.0f}')\n",
        "print(f'Moda: {moda_casas}')\n",
        "print(f'Desvio Padrão: {desvio_padrao_casas:.2f}%')\n",
        "print(f'Coeficiente de Variação: {coeficiente_porcentagem_casas:.2f}%')"
      ],
      "metadata": {
        "id": "gIf6i0PkYzRu",
        "colab": {
          "base_uri": "https://localhost:8080/"
        },
        "outputId": "d882a6ef-609d-496d-d81e-633b19a89812"
      },
      "execution_count": null,
      "outputs": [
        {
          "output_type": "stream",
          "name": "stdout",
          "text": [
            "Média: 2.92\n",
            "Mediana: 3\n",
            "Moda: 0    2\n",
            "dtype: int64\n",
            "Desvio Padrão: 1.33%\n",
            "Coeficiente de Variação: 45.68%\n"
          ]
        }
      ]
    },
    {
      "cell_type": "markdown",
      "source": [
        "### *Apartamentos*"
      ],
      "metadata": {
        "id": "WsLzajjRU47x"
      }
    },
    {
      "cell_type": "code",
      "source": [
        "len(df_apartamentos)"
      ],
      "metadata": {
        "id": "LPnTIqnuWLkA",
        "colab": {
          "base_uri": "https://localhost:8080/"
        },
        "outputId": "6f560bba-45a0-408a-f8f5-a9425fc349a8"
      },
      "execution_count": null,
      "outputs": [
        {
          "output_type": "execute_result",
          "data": {
            "text/plain": [
              "181"
            ]
          },
          "metadata": {},
          "execution_count": 252
        }
      ]
    },
    {
      "cell_type": "code",
      "source": [
        "media_apartamentos = df_apartamentos[\"qtde_banheiros\"].mean()\n",
        "moda_apartamentos = df_apartamentos[\"qtde_banheiros\"].mode()\n",
        "mediana_apartamentos = df_apartamentos[\"qtde_banheiros\"].median()\n",
        "desvio_padrao_apartamentos = df_apartamentos[\"qtde_banheiros\"].std()\n",
        "coeficiente_de_variacao_apartamentos = desvio_padrao_apartamentos/media_apartamentos\n",
        "coeficiente_porcentagem_apartamentos = coeficiente_de_variacao_apartamentos * 100"
      ],
      "metadata": {
        "id": "dGQgVCGHWSRK"
      },
      "execution_count": null,
      "outputs": []
    },
    {
      "cell_type": "code",
      "source": [
        "print(f'Média: {media_apartamentos:.2f}')\n",
        "print(f'Mediana: {mediana_apartamentos:.0f}')\n",
        "print(f'Moda: {moda_apartamentos}')\n",
        "print(f'Desvio Padrão: {desvio_padrao_apartamentos:.2f}%')\n",
        "print(f'Coeficiente de Variação: {coeficiente_porcentagem_apartamentos:.2f}%')"
      ],
      "metadata": {
        "id": "BB4rbvM1W7sE",
        "colab": {
          "base_uri": "https://localhost:8080/"
        },
        "outputId": "efc2fd66-fee5-42ec-be54-273ffc7d9731"
      },
      "execution_count": null,
      "outputs": [
        {
          "output_type": "stream",
          "name": "stdout",
          "text": [
            "Média: 2.20\n",
            "Mediana: 2\n",
            "Moda: 0    1\n",
            "dtype: int64\n",
            "Desvio Padrão: 1.36%\n",
            "Coeficiente de Variação: 61.56%\n"
          ]
        }
      ]
    },
    {
      "cell_type": "markdown",
      "source": [
        "## Região Norte"
      ],
      "metadata": {
        "id": "u0vbjxkYRxsT"
      }
    },
    {
      "cell_type": "code",
      "source": [
        "len(df_norte)"
      ],
      "metadata": {
        "id": "WmcsvfjXkxRa",
        "colab": {
          "base_uri": "https://localhost:8080/"
        },
        "outputId": "034141ce-752d-47fd-98ea-de02d993fe5c"
      },
      "execution_count": null,
      "outputs": [
        {
          "output_type": "execute_result",
          "data": {
            "text/plain": [
              "74"
            ]
          },
          "metadata": {},
          "execution_count": 255
        }
      ]
    },
    {
      "cell_type": "markdown",
      "source": [
        "### *Casas*"
      ],
      "metadata": {
        "id": "NH_bcEVpVQDX"
      }
    },
    {
      "cell_type": "code",
      "source": [
        "df_casas_norte = df_norte.loc[df[\"categoria\"] == \"Casas\"]\n",
        "\n",
        "len(df_casas_norte)"
      ],
      "metadata": {
        "id": "iets2wWwk_Xm",
        "colab": {
          "base_uri": "https://localhost:8080/"
        },
        "outputId": "31f7b947-478c-4d53-8497-3da232d02041"
      },
      "execution_count": null,
      "outputs": [
        {
          "output_type": "execute_result",
          "data": {
            "text/plain": [
              "50"
            ]
          },
          "metadata": {},
          "execution_count": 256
        }
      ]
    },
    {
      "cell_type": "code",
      "source": [
        "media_casas_norte = df_casas_norte[\"qtde_banheiros\"].mean()\n",
        "moda_casas_norte = df_casas_norte[\"qtde_banheiros\"].mode()\n",
        "mediana_casas_norte = df_casas_norte[\"qtde_banheiros\"].median()\n",
        "desvio_padrao_casas_norte = df_casas_norte[\"qtde_banheiros\"].std()\n",
        "coeficiente_de_variacao_casas_norte = desvio_padrao_casas_norte/media_casas_norte\n",
        "coeficiente_porcentagem_casas_norte = coeficiente_de_variacao_casas_norte * 100"
      ],
      "metadata": {
        "id": "hxEdCW6Wledf"
      },
      "execution_count": null,
      "outputs": []
    },
    {
      "cell_type": "code",
      "source": [
        "print(f'Média: {media_casas_norte:.2f}')\n",
        "print(f'Mediana: {mediana_casas_norte:.0f}')\n",
        "print(f'Moda: {moda_casas_norte}')\n",
        "print(f'Desvio Padrão: {desvio_padrao_casas_norte:.2f}%')\n",
        "print(f'Coeficiente de Variação: {coeficiente_porcentagem_casas_norte:.2f}%')"
      ],
      "metadata": {
        "id": "auFAGdx4lv83",
        "colab": {
          "base_uri": "https://localhost:8080/"
        },
        "outputId": "bc8b0059-e9d0-4697-b1db-1d0c4e0894cf"
      },
      "execution_count": null,
      "outputs": [
        {
          "output_type": "stream",
          "name": "stdout",
          "text": [
            "Média: 2.14\n",
            "Mediana: 2\n",
            "Moda: 0    2\n",
            "dtype: int64\n",
            "Desvio Padrão: 1.03%\n",
            "Coeficiente de Variação: 48.15%\n"
          ]
        }
      ]
    },
    {
      "cell_type": "markdown",
      "source": [
        "### *Apartamentos*"
      ],
      "metadata": {
        "id": "8SiNjiGCVRQW"
      }
    },
    {
      "cell_type": "code",
      "source": [
        "len(df_apartamentos_sul)"
      ],
      "metadata": {
        "id": "ANZazOPql62X",
        "colab": {
          "base_uri": "https://localhost:8080/"
        },
        "outputId": "6b02a8f9-e384-44cd-9ca6-a5fd3acfffa5"
      },
      "execution_count": null,
      "outputs": [
        {
          "output_type": "execute_result",
          "data": {
            "text/plain": [
              "7"
            ]
          },
          "metadata": {},
          "execution_count": 259
        }
      ]
    },
    {
      "cell_type": "code",
      "source": [
        "media_apartamentos_norte= df_apartamentos_norte[\"qtde_banheiros\"].mean()\n",
        "moda_apartamentos_norte = df_apartamentos_norte[\"qtde_banheiros\"].mode()\n",
        "mediana_apartamentos_norte = df_apartamentos_norte[\"qtde_banheiros\"].median()\n",
        "desvio_padrao_apartamentos_norte = df_apartamentos_norte[\"qtde_banheiros\"].std()\n",
        "coeficiente_de_variacao_apartamentos_norte = desvio_padrao_apartamentos_norte/media_apartamentos_norte\n",
        "coeficiente_porcentagem_apartamentos_norte = coeficiente_de_variacao_apartamentos_norte * 100"
      ],
      "metadata": {
        "id": "JBWqqgsemFOw"
      },
      "execution_count": null,
      "outputs": []
    },
    {
      "cell_type": "code",
      "source": [
        "print(f'Média: {media_apartamentos_norte:.2f}')\n",
        "print(f'Mediana: {mediana_apartamentos_norte:.0f}')\n",
        "print(f'Moda: {moda_apartamentos_norte}')\n",
        "print(f'Desvio Padrão: {desvio_padrao_apartamentos_norte:.2f}%')\n",
        "print(f'Coeficiente de Variação: {coeficiente_porcentagem_apartamentos_norte:.2f}%')"
      ],
      "metadata": {
        "id": "pYOMfB3TmHW7",
        "colab": {
          "base_uri": "https://localhost:8080/"
        },
        "outputId": "aca2a0ec-7037-4cb9-c70c-9afc636a2696"
      },
      "execution_count": null,
      "outputs": [
        {
          "output_type": "stream",
          "name": "stdout",
          "text": [
            "Média: 1.29\n",
            "Mediana: 1\n",
            "Moda: 0    1\n",
            "dtype: int64\n",
            "Desvio Padrão: 0.46%\n",
            "Coeficiente de Variação: 35.95%\n"
          ]
        }
      ]
    },
    {
      "cell_type": "markdown",
      "source": [
        "### *Geral*"
      ],
      "metadata": {
        "id": "PkeBNgP5VS4G"
      }
    },
    {
      "cell_type": "code",
      "source": [
        "media_norte = df_norte[\"qtde_banheiros\"].mean()\n",
        "moda_norte = int(df_norte[\"qtde_banheiros\"].mode())\n",
        "mediana_norte = df_norte[\"qtde_banheiros\"].median()\n",
        "desvio_padrao_norte = df_norte[\"qtde_banheiros\"].std()\n",
        "coeficiente_de_variacao_norte = desvio_padrao_norte/media_norte\n",
        "coeficiente_porcentagem_norte = coeficiente_de_variacao_norte * 100"
      ],
      "metadata": {
        "id": "i-9khW5JmkmE"
      },
      "execution_count": null,
      "outputs": []
    },
    {
      "cell_type": "code",
      "source": [
        "print(f'Média: {media_norte:.2f}')\n",
        "print(f'Mediana: {mediana_norte:.0f}')\n",
        "print(f'Moda: {moda_norte}')\n",
        "print(f'Desvio Padrão: {desvio_padrao_norte:.2f}%')\n",
        "print(f'Coeficiente de Variação: {coeficiente_porcentagem_norte:.2f}%')"
      ],
      "metadata": {
        "id": "8ITocRGVmnQV",
        "colab": {
          "base_uri": "https://localhost:8080/"
        },
        "outputId": "b2586635-01bf-4b3e-927a-b38fdd72784e"
      },
      "execution_count": null,
      "outputs": [
        {
          "output_type": "stream",
          "name": "stdout",
          "text": [
            "Média: 1.86\n",
            "Mediana: 2\n",
            "Moda: 2\n",
            "Desvio Padrão: 0.97%\n",
            "Coeficiente de Variação: 52.00%\n"
          ]
        }
      ]
    },
    {
      "cell_type": "markdown",
      "source": [
        "## Região Sul"
      ],
      "metadata": {
        "id": "icw2I1QIR3T8"
      }
    },
    {
      "cell_type": "code",
      "source": [
        "len(df_sul)"
      ],
      "metadata": {
        "id": "-UZ20sJ2m54R",
        "colab": {
          "base_uri": "https://localhost:8080/"
        },
        "outputId": "e93a6b36-dfdc-4efe-90fc-d678b736f67f"
      },
      "execution_count": null,
      "outputs": [
        {
          "output_type": "execute_result",
          "data": {
            "text/plain": [
              "13"
            ]
          },
          "metadata": {},
          "execution_count": 264
        }
      ]
    },
    {
      "cell_type": "markdown",
      "source": [
        "### *Casas*"
      ],
      "metadata": {
        "id": "wT37kZ1WVUOx"
      }
    },
    {
      "cell_type": "code",
      "source": [
        "len(df_casas_sul)"
      ],
      "metadata": {
        "id": "Ns43wDmdnFgR",
        "colab": {
          "base_uri": "https://localhost:8080/"
        },
        "outputId": "f3104689-ed43-49db-aafb-c3dbf9b0057a"
      },
      "execution_count": null,
      "outputs": [
        {
          "output_type": "execute_result",
          "data": {
            "text/plain": [
              "6"
            ]
          },
          "metadata": {},
          "execution_count": 265
        }
      ]
    },
    {
      "cell_type": "code",
      "source": [
        "media_casas_sul = df_casas_sul[\"qtde_banheiros\"].mean()\n",
        "moda_casas_sul = df_casas_sul[\"qtde_banheiros\"].mode()\n",
        "mediana_casas_sul = df_casas_sul[\"qtde_banheiros\"].median()\n",
        "desvio_padrao_casas_sul = df_casas_sul[\"qtde_banheiros\"].std()\n",
        "coeficiente_de_variacao_casas_sul = desvio_padrao_casas_sul/media_casas\n",
        "coeficiente_porcentagem_casas_sul = coeficiente_de_variacao_casas_sul * 100"
      ],
      "metadata": {
        "id": "PR4hveIJnHie"
      },
      "execution_count": null,
      "outputs": []
    },
    {
      "cell_type": "code",
      "source": [
        "print(f'Média: {media_casas_sul:.2f}')\n",
        "print(f'Mediana: {mediana_casas_sul:.0f}')\n",
        "print(f'Moda: {moda_casas_sul}')\n",
        "print(f'Desvio Padrão: {desvio_padrao_casas_sul:.2f}%')\n",
        "print(f'Coeficiente de Variação: {coeficiente_porcentagem_casas_sul:.2f}%')"
      ],
      "metadata": {
        "id": "gaB1eWfKnJe1",
        "colab": {
          "base_uri": "https://localhost:8080/"
        },
        "outputId": "86ae6d0d-4d5f-42e4-a3ef-6864b86fc99f"
      },
      "execution_count": null,
      "outputs": [
        {
          "output_type": "stream",
          "name": "stdout",
          "text": [
            "Média: 3.83\n",
            "Mediana: 4\n",
            "Moda: 0    4\n",
            "1    5\n",
            "dtype: int64\n",
            "Desvio Padrão: 1.17%\n",
            "Coeficiente de Variação: 40.05%\n"
          ]
        }
      ]
    },
    {
      "cell_type": "markdown",
      "source": [
        "### *Apartamentos*"
      ],
      "metadata": {
        "id": "887rao6RVVet"
      }
    },
    {
      "cell_type": "code",
      "source": [
        "\n",
        "len(df_apartamentos_sul)"
      ],
      "metadata": {
        "id": "C7ZRoii-njTM",
        "colab": {
          "base_uri": "https://localhost:8080/"
        },
        "outputId": "4c689278-1fd3-43c4-c4c8-f7ec629ff332"
      },
      "execution_count": null,
      "outputs": [
        {
          "output_type": "execute_result",
          "data": {
            "text/plain": [
              "7"
            ]
          },
          "metadata": {},
          "execution_count": 268
        }
      ]
    },
    {
      "cell_type": "code",
      "source": [
        "media_apartamentos_sul = df_apartamentos_sul[\"qtde_banheiros\"].mean()\n",
        "moda_apartamentos_sul = df_apartamentos_sul[\"qtde_banheiros\"].mode()\n",
        "mediana_apartamentos_sul = df_apartamentos_sul[\"qtde_banheiros\"].median()\n",
        "desvio_padrao_apartamentos_sul = df_apartamentos_sul[\"qtde_banheiros\"].std()\n",
        "coeficiente_de_variacao_apartamentos_sul = desvio_padrao_apartamentos_sul/media_apartamentos_sul\n",
        "coeficiente_porcentagem_apartamentos_sul = coeficiente_de_variacao_apartamentos_sul * 100"
      ],
      "metadata": {
        "id": "o6QQo9lRnr9u"
      },
      "execution_count": null,
      "outputs": []
    },
    {
      "cell_type": "code",
      "source": [
        "print(f'Média: {media_apartamentos_sul:.2f}')\n",
        "print(f'Mediana: {mediana_apartamentos_sul:.0f}')\n",
        "print(f'Moda: {moda_apartamentos_sul}')\n",
        "print(f'Desvio Padrão: {desvio_padrao_apartamentos_sul:.2f}%')\n",
        "print(f'Coeficiente de Variação: {coeficiente_porcentagem_apartamentos_sul:.2f}%')"
      ],
      "metadata": {
        "id": "a6KG7jv2nt7w",
        "colab": {
          "base_uri": "https://localhost:8080/"
        },
        "outputId": "d773910e-5377-43e1-cbd0-32045fa495ed"
      },
      "execution_count": null,
      "outputs": [
        {
          "output_type": "stream",
          "name": "stdout",
          "text": [
            "Média: 1.86\n",
            "Mediana: 2\n",
            "Moda: 0    1\n",
            "1    2\n",
            "dtype: int64\n",
            "Desvio Padrão: 1.07%\n",
            "Coeficiente de Variação: 57.56%\n"
          ]
        }
      ]
    },
    {
      "cell_type": "markdown",
      "source": [
        "### *Geral*"
      ],
      "metadata": {
        "id": "MnRUATGoVW6h"
      }
    },
    {
      "cell_type": "code",
      "source": [
        "media_sul = df_sul[\"qtde_banheiros\"].mean()\n",
        "moda_sul = int(df_sul[\"qtde_banheiros\"].mode())\n",
        "mediana_sul = df_sul[\"qtde_banheiros\"].median()\n",
        "desvio_padrao_sul = df_sul[\"qtde_banheiros\"].std()\n",
        "coeficiente_de_variacao_sul = desvio_padrao_sul/media_sul\n",
        "coeficiente_porcentagem_sul = coeficiente_de_variacao_sul * 100"
      ],
      "metadata": {
        "id": "gFxQMpt5osMB"
      },
      "execution_count": null,
      "outputs": []
    },
    {
      "cell_type": "code",
      "source": [
        "print(f'Média: {media_sul:.2f}')\n",
        "print(f'Mediana: {mediana_sul:.0f}')\n",
        "print(f'Moda: {moda_sul}')\n",
        "print(f'Desvio Padrão: {desvio_padrao_sul:.2f}%')\n",
        "print(f'Coeficiente de Variação: {coeficiente_porcentagem_sul:.2f}%')"
      ],
      "metadata": {
        "id": "hdoQwDgFouMi",
        "colab": {
          "base_uri": "https://localhost:8080/"
        },
        "outputId": "4e525d93-c39a-4d0e-f4ee-1ecf8b435e17"
      },
      "execution_count": null,
      "outputs": [
        {
          "output_type": "stream",
          "name": "stdout",
          "text": [
            "Média: 2.77\n",
            "Mediana: 2\n",
            "Moda: 2\n",
            "Desvio Padrão: 1.48%\n",
            "Coeficiente de Variação: 53.47%\n"
          ]
        }
      ]
    },
    {
      "cell_type": "markdown",
      "source": [
        "## Região Leste"
      ],
      "metadata": {
        "id": "V25lq9icR5MN"
      }
    },
    {
      "cell_type": "code",
      "source": [
        "len(df_leste)"
      ],
      "metadata": {
        "id": "Wg-mbi4zo_pE",
        "colab": {
          "base_uri": "https://localhost:8080/"
        },
        "outputId": "18a80d86-376f-4b1c-c490-08d80d6618cc"
      },
      "execution_count": null,
      "outputs": [
        {
          "output_type": "execute_result",
          "data": {
            "text/plain": [
              "8"
            ]
          },
          "metadata": {},
          "execution_count": 273
        }
      ]
    },
    {
      "cell_type": "markdown",
      "source": [
        "### *Casas*"
      ],
      "metadata": {
        "id": "3PnJc6LUVaP2"
      }
    },
    {
      "cell_type": "code",
      "source": [
        "\n",
        "len(df_casas_leste)"
      ],
      "metadata": {
        "id": "zmst6ku-pIRb",
        "colab": {
          "base_uri": "https://localhost:8080/"
        },
        "outputId": "5154e178-7ea2-45d1-e095-b55625f277ad"
      },
      "execution_count": null,
      "outputs": [
        {
          "output_type": "execute_result",
          "data": {
            "text/plain": [
              "5"
            ]
          },
          "metadata": {},
          "execution_count": 274
        }
      ]
    },
    {
      "cell_type": "code",
      "source": [
        "media_casas_leste = df_casas_leste[\"qtde_banheiros\"].mean()\n",
        "moda_casas_leste = df_casas_leste[\"qtde_banheiros\"].mode()\n",
        "mediana_casas_leste = df_casas_leste[\"qtde_banheiros\"].median()\n",
        "desvio_padrao_casas_leste = df_casas_leste[\"qtde_banheiros\"].std()\n",
        "coeficiente_de_variacao_casas_leste = desvio_padrao_casas_leste/media_casas_leste\n",
        "coeficiente_porcentagem_casas_leste = coeficiente_de_variacao_casas_leste * 100"
      ],
      "metadata": {
        "id": "IFUR2-P6pKg9"
      },
      "execution_count": null,
      "outputs": []
    },
    {
      "cell_type": "code",
      "source": [
        "print(f'Média: {media_casas_leste:.2f}')\n",
        "print(f'Mediana: {mediana_casas_leste:.0f}')\n",
        "print(f'Moda: {moda_casas_leste}')\n",
        "print(f'Desvio Padrão: {desvio_padrao_casas_leste:.2f}%')\n",
        "print(f'Coeficiente de Variação: {coeficiente_porcentagem_casas_leste:.2f}%')"
      ],
      "metadata": {
        "id": "zbS83QADpOuc",
        "colab": {
          "base_uri": "https://localhost:8080/"
        },
        "outputId": "105ca8f9-1729-4f1f-a809-472aaff72647"
      },
      "execution_count": null,
      "outputs": [
        {
          "output_type": "stream",
          "name": "stdout",
          "text": [
            "Média: 1.60\n",
            "Mediana: 1\n",
            "Moda: 0    1\n",
            "dtype: int64\n",
            "Desvio Padrão: 1.34%\n",
            "Coeficiente de Variação: 83.85%\n"
          ]
        }
      ]
    },
    {
      "cell_type": "markdown",
      "source": [
        "### *Apartamentos*"
      ],
      "metadata": {
        "id": "dUtZ5QjEVbOZ"
      }
    },
    {
      "cell_type": "code",
      "source": [
        "len(df_apartamentos_oeste)"
      ],
      "metadata": {
        "id": "CH2BrP0wpjRB",
        "colab": {
          "base_uri": "https://localhost:8080/"
        },
        "outputId": "61c25eb8-4eb8-419a-fc12-50800eee3c6d"
      },
      "execution_count": null,
      "outputs": [
        {
          "output_type": "execute_result",
          "data": {
            "text/plain": [
              "54"
            ]
          },
          "metadata": {},
          "execution_count": 277
        }
      ]
    },
    {
      "cell_type": "code",
      "source": [
        "media_apartamentos_leste = df_apartamentos_leste[\"qtde_banheiros\"].mean()\n",
        "moda_apartamentos_leste = df_apartamentos_leste[\"qtde_banheiros\"].mode()\n",
        "mediana_apartamentos_leste = df_apartamentos_leste[\"qtde_banheiros\"].median()\n",
        "desvio_padrao_apartamentos_leste = df_apartamentos_leste[\"qtde_banheiros\"].std()\n",
        "coeficiente_de_variacao_apartamentos_leste = desvio_padrao_apartamentos_leste/media_apartamentos_leste\n",
        "coeficiente_porcentagem_apartamentos_leste = coeficiente_de_variacao_apartamentos_leste * 100"
      ],
      "metadata": {
        "id": "nxTW3_cmplWd"
      },
      "execution_count": null,
      "outputs": []
    },
    {
      "cell_type": "code",
      "source": [
        "print(f'Média: {media_apartamentos_leste:.2f}')\n",
        "print(f'Mediana: {mediana_apartamentos_leste:.0f}')\n",
        "print(f'Moda: {moda_apartamentos_leste}')\n",
        "print(f'Desvio Padrão: {desvio_padrao_apartamentos_leste:.2f}%')\n",
        "print(f'Coeficiente de Variação: {coeficiente_porcentagem_apartamentos_leste:.2f}%')"
      ],
      "metadata": {
        "id": "sZOi1HzwpnMb",
        "colab": {
          "base_uri": "https://localhost:8080/"
        },
        "outputId": "8f1f63a3-567f-4966-8adc-66b3eb3d98f4"
      },
      "execution_count": null,
      "outputs": [
        {
          "output_type": "stream",
          "name": "stdout",
          "text": [
            "Média: 1.00\n",
            "Mediana: 1\n",
            "Moda: 0    1\n",
            "dtype: int64\n",
            "Desvio Padrão: 0.00%\n",
            "Coeficiente de Variação: 0.00%\n"
          ]
        }
      ]
    },
    {
      "cell_type": "markdown",
      "source": [
        "### *Geral*"
      ],
      "metadata": {
        "id": "8ViC63u_Vc4Z"
      }
    },
    {
      "cell_type": "code",
      "source": [
        "media_leste = df_leste[\"qtde_banheiros\"].mean()\n",
        "moda_leste = int(df_leste[\"qtde_banheiros\"].mode())\n",
        "mediana_leste = df_leste[\"qtde_banheiros\"].median()\n",
        "desvio_padrao_leste = df_leste[\"qtde_banheiros\"].std()\n",
        "coeficiente_de_variacao_leste = desvio_padrao_leste/media_leste\n",
        "coeficiente_porcentagem_leste = coeficiente_de_variacao_leste * 100"
      ],
      "metadata": {
        "id": "szYLsBqcp_t9"
      },
      "execution_count": null,
      "outputs": []
    },
    {
      "cell_type": "code",
      "source": [
        "print(f'Média: {media_leste:.2f}')\n",
        "print(f'Mediana: {mediana_leste:.0f}')\n",
        "print(f'Moda: {moda_leste}')\n",
        "print(f'Desvio Padrão: {desvio_padrao_leste:.2f}%')\n",
        "print(f'Coeficiente de Variação: {coeficiente_porcentagem_leste:.2f}%')"
      ],
      "metadata": {
        "id": "AuuMUnxQqBrR",
        "colab": {
          "base_uri": "https://localhost:8080/"
        },
        "outputId": "0e5aad6d-cbc0-47c5-eb7f-69afb384fad4"
      },
      "execution_count": null,
      "outputs": [
        {
          "output_type": "stream",
          "name": "stdout",
          "text": [
            "Média: 1.38\n",
            "Mediana: 1\n",
            "Moda: 1\n",
            "Desvio Padrão: 1.06%\n",
            "Coeficiente de Variação: 77.14%\n"
          ]
        }
      ]
    },
    {
      "cell_type": "markdown",
      "source": [
        "## Região Oeste"
      ],
      "metadata": {
        "id": "bXmthrXtR5kZ"
      }
    },
    {
      "cell_type": "code",
      "source": [
        "len(df_oeste)"
      ],
      "metadata": {
        "id": "ioISrrvrqdWw",
        "colab": {
          "base_uri": "https://localhost:8080/"
        },
        "outputId": "81c654a3-49f5-4a2a-b6d6-1148b46a6c50"
      },
      "execution_count": null,
      "outputs": [
        {
          "output_type": "execute_result",
          "data": {
            "text/plain": [
              "116"
            ]
          },
          "metadata": {},
          "execution_count": 282
        }
      ]
    },
    {
      "cell_type": "markdown",
      "source": [
        "### *Geral*"
      ],
      "metadata": {
        "id": "1ajiUl43VhPf"
      }
    },
    {
      "cell_type": "code",
      "source": [
        "media_oeste = df_oeste[\"qtde_banheiros\"].mean()\n",
        "moda_oeste = int(df_oeste[\"qtde_banheiros\"].mode())\n",
        "mediana_oeste = df_oeste[\"qtde_banheiros\"].median()\n",
        "desvio_padrao_oeste = df_oeste[\"qtde_banheiros\"].std()\n",
        "coeficiente_de_variacao_oeste = desvio_padrao_oeste/media_oeste\n",
        "coeficiente_porcentagem_oeste = coeficiente_de_variacao_oeste * 100"
      ],
      "metadata": {
        "id": "DlR5Si6sraaR"
      },
      "execution_count": null,
      "outputs": []
    },
    {
      "cell_type": "code",
      "source": [
        "print(f'Média: {media_oeste:.2f}')\n",
        "print(f'Mediana: {mediana_oeste:.0f}')\n",
        "print(f'Moda: {moda_oeste}')\n",
        "print(f'Desvio Padrão: {desvio_padrao_oeste:.2f}%')\n",
        "print(f'Coeficiente de Variação: {coeficiente_porcentagem_oeste:.2f}%')"
      ],
      "metadata": {
        "id": "z8RNcIOOrcRd",
        "colab": {
          "base_uri": "https://localhost:8080/"
        },
        "outputId": "47d3cd99-308b-4085-826a-aa2fc3a3232d"
      },
      "execution_count": null,
      "outputs": [
        {
          "output_type": "stream",
          "name": "stdout",
          "text": [
            "Média: 2.88\n",
            "Mediana: 3\n",
            "Moda: 1\n",
            "Desvio Padrão: 1.54%\n",
            "Coeficiente de Variação: 53.44%\n"
          ]
        }
      ]
    },
    {
      "cell_type": "markdown",
      "source": [
        "### *Casas*"
      ],
      "metadata": {
        "id": "WJWRTKQiVe56"
      }
    },
    {
      "cell_type": "code",
      "source": [
        "len(df_casas_oeste)"
      ],
      "metadata": {
        "id": "0VFIcx0uqpe1",
        "colab": {
          "base_uri": "https://localhost:8080/"
        },
        "outputId": "9bb1a614-f442-4ff7-9f1a-8ddf0de7e765"
      },
      "execution_count": null,
      "outputs": [
        {
          "output_type": "execute_result",
          "data": {
            "text/plain": [
              "62"
            ]
          },
          "metadata": {},
          "execution_count": 285
        }
      ]
    },
    {
      "cell_type": "code",
      "source": [
        "media_casas_oeste = df_casas_oeste[\"qtde_banheiros\"].mean()\n",
        "moda_casas_oeste = df_casas_oeste[\"qtde_banheiros\"].mode()\n",
        "mediana_casas_oeste = df_casas_oeste[\"qtde_banheiros\"].median()\n",
        "desvio_padrao_casas_oeste = df_casas_oeste[\"qtde_banheiros\"].std()\n",
        "coeficiente_de_variacao_casas_oeste = desvio_padrao_casas_oeste/media_casas_oeste\n",
        "coeficiente_porcentagem_casas_oeste = coeficiente_de_variacao_casas_oeste * 100"
      ],
      "metadata": {
        "id": "sn75mtF0qrZG"
      },
      "execution_count": null,
      "outputs": []
    },
    {
      "cell_type": "code",
      "source": [
        "print(f'Média: {media_casas_oeste:.2f}')\n",
        "print(f'Mediana: {mediana_casas_oeste:.0f}')\n",
        "print(f'Moda: {moda_casas_oeste}')\n",
        "print(f'Desvio Padrão: {desvio_padrao_casas_oeste:.2f}%')\n",
        "print(f'Coeficiente de Variação: {coeficiente_porcentagem_casas_oeste:.2f}%')"
      ],
      "metadata": {
        "id": "nWSoZsiiqtYg",
        "colab": {
          "base_uri": "https://localhost:8080/"
        },
        "outputId": "0101a9e9-b104-4c07-e788-616f329bb09f"
      },
      "execution_count": null,
      "outputs": [
        {
          "output_type": "stream",
          "name": "stdout",
          "text": [
            "Média: 3.58\n",
            "Mediana: 4\n",
            "Moda: 0    5\n",
            "dtype: int64\n",
            "Desvio Padrão: 1.30%\n",
            "Coeficiente de Variação: 36.31%\n"
          ]
        }
      ]
    },
    {
      "cell_type": "markdown",
      "source": [
        "### *Apartamentos*"
      ],
      "metadata": {
        "id": "-Nrddie_Vf8z"
      }
    },
    {
      "cell_type": "code",
      "source": [
        "len(df_apartamentos_oeste)"
      ],
      "metadata": {
        "id": "-qzKWRoPrDP_",
        "colab": {
          "base_uri": "https://localhost:8080/"
        },
        "outputId": "2f3b15ef-62e9-4771-c71c-b60dc43df824"
      },
      "execution_count": null,
      "outputs": [
        {
          "output_type": "execute_result",
          "data": {
            "text/plain": [
              "54"
            ]
          },
          "metadata": {},
          "execution_count": 288
        }
      ]
    },
    {
      "cell_type": "code",
      "source": [
        "media_apartamentos_oeste = df_apartamentos_oeste[\"qtde_banheiros\"].mean()\n",
        "moda_apartamentos_oeste = df_apartamentos_oeste[\"qtde_banheiros\"].mode()\n",
        "mediana_apartamentos_oeste = df_apartamentos_oeste[\"qtde_banheiros\"].median()\n",
        "desvio_padrao_apartamentos_oeste = df_apartamentos_oeste[\"qtde_banheiros\"].std()\n",
        "coeficiente_de_variacao_apartamentos_oeste = desvio_padrao_apartamentos_oeste/media_apartamentos_oeste\n",
        "coeficiente_porcentagem_apartamentos_oeste = coeficiente_de_variacao_apartamentos_oeste * 100"
      ],
      "metadata": {
        "id": "J6GK4XdSrFzB"
      },
      "execution_count": null,
      "outputs": []
    },
    {
      "cell_type": "code",
      "source": [
        "print(f'Média: {media_apartamentos_oeste:.2f}')\n",
        "print(f'Mediana: {mediana_apartamentos_oeste:.0f}')\n",
        "print(f'Moda: {moda_apartamentos_oeste}')\n",
        "print(f'Desvio Padrão: {desvio_padrao_apartamentos_oeste:.2f}%')\n",
        "print(f'Coeficiente de Variação: {coeficiente_porcentagem_apartamentos_oeste:.2f}%')"
      ],
      "metadata": {
        "id": "UrJk3fzjrHuS",
        "colab": {
          "base_uri": "https://localhost:8080/"
        },
        "outputId": "1d02602d-86a9-4443-e020-5760f1329b4b"
      },
      "execution_count": null,
      "outputs": [
        {
          "output_type": "stream",
          "name": "stdout",
          "text": [
            "Média: 2.07\n",
            "Mediana: 2\n",
            "Moda: 0    1\n",
            "dtype: int64\n",
            "Desvio Padrão: 1.40%\n",
            "Coeficiente de Variação: 67.44%\n"
          ]
        }
      ]
    },
    {
      "cell_type": "markdown",
      "source": [
        "## Região Centro Oeste"
      ],
      "metadata": {
        "id": "Bit832NQR53R"
      }
    },
    {
      "cell_type": "code",
      "source": [
        "len(df_co)"
      ],
      "metadata": {
        "id": "PRKU2_ybr4Cj",
        "colab": {
          "base_uri": "https://localhost:8080/"
        },
        "outputId": "c694f9dc-9476-41ae-bf5d-fa65c63d07d7"
      },
      "execution_count": null,
      "outputs": [
        {
          "output_type": "execute_result",
          "data": {
            "text/plain": [
              "44"
            ]
          },
          "metadata": {},
          "execution_count": 291
        }
      ]
    },
    {
      "cell_type": "markdown",
      "source": [
        "### *Casas*"
      ],
      "metadata": {
        "id": "D_VWmNuUVjjF"
      }
    },
    {
      "cell_type": "code",
      "source": [
        "len(df_casas_co)"
      ],
      "metadata": {
        "id": "MvWDeKUUsAoz",
        "colab": {
          "base_uri": "https://localhost:8080/"
        },
        "outputId": "cf752bc1-b95d-40f9-f71a-860fa9509c7c"
      },
      "execution_count": null,
      "outputs": [
        {
          "output_type": "execute_result",
          "data": {
            "text/plain": [
              "24"
            ]
          },
          "metadata": {},
          "execution_count": 292
        }
      ]
    },
    {
      "cell_type": "code",
      "source": [
        "media_casas_co = df_casas_co[\"qtde_banheiros\"].mean()\n",
        "moda_casas_co = df_casas_co[\"qtde_banheiros\"].mode()\n",
        "mediana_casas_co = df_casas_co[\"qtde_banheiros\"].median()\n",
        "desvio_padrao_casas_co = df_casas_co[\"qtde_banheiros\"].std()\n",
        "coeficiente_de_variacao_casas_co = desvio_padrao_casas_co/media_casas_co\n",
        "coeficiente_porcentagem_casas_co = coeficiente_de_variacao_casas_co * 100"
      ],
      "metadata": {
        "id": "o_P5dr0_sCdw"
      },
      "execution_count": null,
      "outputs": []
    },
    {
      "cell_type": "code",
      "source": [
        "print(f'Média: {media_casas_co:.2f}')\n",
        "print(f'Mediana: {mediana_casas_co:.0f}')\n",
        "print(f'Moda: {moda_casas_co}')\n",
        "print(f'Desvio Padrão: {desvio_padrao_casas_co:.2f}%')\n",
        "print(f'Coeficiente de Variação: {coeficiente_porcentagem_casas_co:.2f}%')"
      ],
      "metadata": {
        "id": "_1AAYroasElX",
        "colab": {
          "base_uri": "https://localhost:8080/"
        },
        "outputId": "f915d5da-2a5a-485f-ee40-fc92fc98cfd8"
      },
      "execution_count": null,
      "outputs": [
        {
          "output_type": "stream",
          "name": "stdout",
          "text": [
            "Média: 2.75\n",
            "Mediana: 3\n",
            "Moda: 0    2\n",
            "1    3\n",
            "dtype: int64\n",
            "Desvio Padrão: 1.26%\n",
            "Coeficiente de Variação: 45.81%\n"
          ]
        }
      ]
    },
    {
      "cell_type": "markdown",
      "source": [
        "### *Apartamentos*"
      ],
      "metadata": {
        "id": "lD9gFhrKVkwj"
      }
    },
    {
      "cell_type": "code",
      "source": [
        "len(df_apartamentos_co)"
      ],
      "metadata": {
        "id": "XYFCpoH3sXm8",
        "colab": {
          "base_uri": "https://localhost:8080/"
        },
        "outputId": "a364eee0-7c7f-49a6-9356-bb3768ed1e7b"
      },
      "execution_count": null,
      "outputs": [
        {
          "output_type": "execute_result",
          "data": {
            "text/plain": [
              "20"
            ]
          },
          "metadata": {},
          "execution_count": 295
        }
      ]
    },
    {
      "cell_type": "code",
      "source": [
        "media_apartamentos_co = df_apartamentos_co[\"qtde_banheiros\"].mean()\n",
        "moda_apartamentos_co = df_apartamentos_co[\"qtde_banheiros\"].mode()\n",
        "mediana_apartamentos_co = df_apartamentos_co[\"qtde_banheiros\"].median()\n",
        "desvio_padrao_apartamentos_co = df_apartamentos_co[\"qtde_banheiros\"].std()\n",
        "coeficiente_de_variacao_apartamentos_co = desvio_padrao_apartamentos_co/media_apartamentos_co\n",
        "coeficiente_porcentagem_apartamentos_co = coeficiente_de_variacao_apartamentos_co * 100"
      ],
      "metadata": {
        "id": "yKk2Iy7usZgg"
      },
      "execution_count": null,
      "outputs": []
    },
    {
      "cell_type": "code",
      "source": [
        "print(f'Média: {media_apartamentos_co:.2f}')\n",
        "print(f'Mediana: {mediana_apartamentos_co:.0f}')\n",
        "print(f'Moda: {moda_apartamentos_co}')\n",
        "print(f'Desvio Padrão: {desvio_padrao_apartamentos_co:.2f}%')\n",
        "print(f'Coeficiente de Variação: {coeficiente_porcentagem_apartamentos_co:.2f}%')"
      ],
      "metadata": {
        "id": "sn1csSiEsb6m",
        "colab": {
          "base_uri": "https://localhost:8080/"
        },
        "outputId": "b8624740-6094-41ed-c4dd-8fe52051196f"
      },
      "execution_count": null,
      "outputs": [
        {
          "output_type": "stream",
          "name": "stdout",
          "text": [
            "Média: 2.10\n",
            "Mediana: 2\n",
            "Moda: 0    2\n",
            "dtype: int64\n",
            "Desvio Padrão: 1.02%\n",
            "Coeficiente de Variação: 48.61%\n"
          ]
        }
      ]
    },
    {
      "cell_type": "markdown",
      "source": [
        "### *Geral*"
      ],
      "metadata": {
        "id": "oV-N1WqmVmJS"
      }
    },
    {
      "cell_type": "code",
      "source": [
        "media_co = df_co[\"qtde_banheiros\"].mean()\n",
        "moda_co = int(df_co[\"qtde_banheiros\"].mode())\n",
        "mediana_co = df_co[\"qtde_banheiros\"].median()\n",
        "desvio_padrao_co = df_co[\"qtde_banheiros\"].std()\n",
        "coeficiente_de_variacao_co = desvio_padrao_co/media_co\n",
        "coeficiente_porcentagem_co = coeficiente_de_variacao_co * 100"
      ],
      "metadata": {
        "id": "0IxWUxWCs2xN"
      },
      "execution_count": null,
      "outputs": []
    },
    {
      "cell_type": "code",
      "source": [
        "print(f'Média: {media_co:.2f}')\n",
        "print(f'Mediana: {mediana_co:.0f}')\n",
        "print(f'Moda: {moda_co}')\n",
        "print(f'Desvio Padrão: {desvio_padrao_co:.2f}%')\n",
        "print(f'Coeficiente de Variação: {coeficiente_porcentagem_co:.2f}%')"
      ],
      "metadata": {
        "id": "fpmKoSHDs4zm",
        "colab": {
          "base_uri": "https://localhost:8080/"
        },
        "outputId": "247aaa86-30aa-478c-e920-3d99a576710f"
      },
      "execution_count": null,
      "outputs": [
        {
          "output_type": "stream",
          "name": "stdout",
          "text": [
            "Média: 2.45\n",
            "Mediana: 2\n",
            "Moda: 2\n",
            "Desvio Padrão: 1.19%\n",
            "Coeficiente de Variação: 48.49%\n"
          ]
        }
      ]
    },
    {
      "cell_type": "markdown",
      "source": [
        "## Região Centro-Sul"
      ],
      "metadata": {
        "id": "IHY7Gz-kR6Hj"
      }
    },
    {
      "cell_type": "code",
      "source": [
        "len(df_cs)"
      ],
      "metadata": {
        "id": "4ggX2tHDtFds",
        "colab": {
          "base_uri": "https://localhost:8080/"
        },
        "outputId": "afc63611-c11b-4f59-e004-340d21743129"
      },
      "execution_count": null,
      "outputs": [
        {
          "output_type": "execute_result",
          "data": {
            "text/plain": [
              "136"
            ]
          },
          "metadata": {},
          "execution_count": 300
        }
      ]
    },
    {
      "cell_type": "markdown",
      "source": [
        "### *Casas*"
      ],
      "metadata": {
        "id": "ajzZQGEXVnXR"
      }
    },
    {
      "cell_type": "code",
      "source": [
        "len(df_casas_cs)"
      ],
      "metadata": {
        "id": "sZrBxwuKtL2M",
        "colab": {
          "base_uri": "https://localhost:8080/"
        },
        "outputId": "b80ea774-8830-4b65-ef73-da1a85958618"
      },
      "execution_count": null,
      "outputs": [
        {
          "output_type": "execute_result",
          "data": {
            "text/plain": [
              "63"
            ]
          },
          "metadata": {},
          "execution_count": 301
        }
      ]
    },
    {
      "cell_type": "code",
      "source": [
        "media_casas_cs = df_casas_cs[\"qtde_banheiros\"].mean()\n",
        "moda_casas_cs = df_casas_cs[\"qtde_banheiros\"].mode()\n",
        "mediana_casas_cs = df_casas_cs[\"qtde_banheiros\"].median()\n",
        "desvio_padrao_casas_cs = df_casas_cs[\"qtde_banheiros\"].std()\n",
        "coeficiente_de_variacao_casas_cs = desvio_padrao_casas_cs/media_casas_cs\n",
        "coeficiente_porcentagem_casas_cs = coeficiente_de_variacao_casas_cs * 100"
      ],
      "metadata": {
        "id": "RX4w1tzntNkr"
      },
      "execution_count": null,
      "outputs": []
    },
    {
      "cell_type": "code",
      "source": [
        "print(f'Média: {media_casas_cs:.2f}')\n",
        "print(f'Mediana: {mediana_casas_cs:.0f}')\n",
        "print(f'Moda: {moda_casas_cs}')\n",
        "print(f'Desvio Padrão: {desvio_padrao_casas_cs:.2f}%')\n",
        "print(f'Coeficiente de Variação: {coeficiente_porcentagem_casas_cs:.2f}%')"
      ],
      "metadata": {
        "id": "OOaJ31d8tPY8",
        "colab": {
          "base_uri": "https://localhost:8080/"
        },
        "outputId": "bdbdba72-3e91-414e-baf8-1806dfd8b993"
      },
      "execution_count": null,
      "outputs": [
        {
          "output_type": "stream",
          "name": "stdout",
          "text": [
            "Média: 2.97\n",
            "Mediana: 3\n",
            "Moda: 0    2\n",
            "dtype: int64\n",
            "Desvio Padrão: 1.23%\n",
            "Coeficiente de Variação: 41.47%\n"
          ]
        }
      ]
    },
    {
      "cell_type": "markdown",
      "source": [
        "### *Apartamentos*"
      ],
      "metadata": {
        "id": "usFh9UPmVouY"
      }
    },
    {
      "cell_type": "code",
      "source": [
        "len(df_apartamentos_cs)"
      ],
      "metadata": {
        "id": "T8VFrhHoteqw",
        "colab": {
          "base_uri": "https://localhost:8080/"
        },
        "outputId": "4bc66067-7c58-4900-d4af-631ede1fe84f"
      },
      "execution_count": null,
      "outputs": [
        {
          "output_type": "execute_result",
          "data": {
            "text/plain": [
              "73"
            ]
          },
          "metadata": {},
          "execution_count": 304
        }
      ]
    },
    {
      "cell_type": "code",
      "source": [
        "media_apartamentos_cs = df_apartamentos_cs[\"qtde_banheiros\"].mean()\n",
        "moda_apartamentos_cs = df_apartamentos_cs[\"qtde_banheiros\"].mode()\n",
        "mediana_apartamentos_cs = df_apartamentos_cs[\"qtde_banheiros\"].median()\n",
        "desvio_padrao_apartamentos_cs = df_apartamentos_cs[\"qtde_banheiros\"].std()\n",
        "coeficiente_de_variacao_apartamentos_cs = desvio_padrao_apartamentos_cs/media_apartamentos_cs\n",
        "coeficiente_porcentagem_apartamentos_cs = coeficiente_de_variacao_apartamentos_cs * 100"
      ],
      "metadata": {
        "id": "xw7fxG_ctgw5"
      },
      "execution_count": null,
      "outputs": []
    },
    {
      "cell_type": "code",
      "source": [
        "print(f'Média: {media_apartamentos_cs:.2f}')\n",
        "print(f'Mediana: {mediana_apartamentos_cs:.0f}')\n",
        "print(f'Moda: {moda_apartamentos_cs}')\n",
        "print(f'Desvio Padrão: {desvio_padrao_apartamentos_cs:.2f}%')\n",
        "print(f'Coeficiente de Variação: {coeficiente_porcentagem_apartamentos_cs:.2f}%')"
      ],
      "metadata": {
        "id": "zdvmEzV0tjf-",
        "colab": {
          "base_uri": "https://localhost:8080/"
        },
        "outputId": "0a7c14f0-6349-4d13-a9e9-24936c4b2247"
      },
      "execution_count": null,
      "outputs": [
        {
          "output_type": "stream",
          "name": "stdout",
          "text": [
            "Média: 2.71\n",
            "Mediana: 2\n",
            "Moda: 0    2\n",
            "dtype: int64\n",
            "Desvio Padrão: 1.45%\n",
            "Coeficiente de Variação: 53.39%\n"
          ]
        }
      ]
    },
    {
      "cell_type": "markdown",
      "source": [
        "### *Geral*"
      ],
      "metadata": {
        "id": "yS24azWUVqAb"
      }
    },
    {
      "cell_type": "code",
      "source": [
        "media_cs = df_cs[\"qtde_banheiros\"].mean()\n",
        "moda_cs = int(df_cs[\"qtde_banheiros\"].mode())\n",
        "mediana_cs = df_cs[\"qtde_banheiros\"].median()\n",
        "desvio_padrao_cs = df_cs[\"qtde_banheiros\"].std()\n",
        "coeficiente_de_variacao_cs = desvio_padrao_cs/media_cs\n",
        "coeficiente_porcentagem_cs = coeficiente_de_variacao_cs * 100"
      ],
      "metadata": {
        "id": "0S0E4X6ktylj"
      },
      "execution_count": null,
      "outputs": []
    },
    {
      "cell_type": "code",
      "source": [
        "print(f'Média: {media_cs:.2f}')\n",
        "print(f'Mediana: {mediana_cs:.0f}')\n",
        "print(f'Moda: {moda_cs}')\n",
        "print(f'Desvio Padrão: {desvio_padrao_cs:.2f}%')\n",
        "print(f'Coeficiente de Variação: {coeficiente_porcentagem_cs:.2f}%')"
      ],
      "metadata": {
        "id": "-fITQvISt2kf",
        "colab": {
          "base_uri": "https://localhost:8080/"
        },
        "outputId": "4a9680bb-e209-4bc4-c9ad-9bbc9d336dde"
      },
      "execution_count": null,
      "outputs": [
        {
          "output_type": "stream",
          "name": "stdout",
          "text": [
            "Média: 2.83\n",
            "Mediana: 2\n",
            "Moda: 2\n",
            "Desvio Padrão: 1.35%\n",
            "Coeficiente de Variação: 47.79%\n"
          ]
        }
      ]
    },
    {
      "cell_type": "markdown",
      "source": [
        "# → ***Resultados: Quantidade de Banheiros (Quantitativa)***\n",
        "\n",
        "---\n",
        "\n"
      ],
      "metadata": {
        "id": "KHInlhKNv4e3"
      }
    },
    {
      "cell_type": "markdown",
      "source": [
        "## Dados Gerais"
      ],
      "metadata": {
        "id": "vml158vr-D2s"
      }
    },
    {
      "cell_type": "code",
      "source": [
        "df_resultados = pd.DataFrame([\n",
        "    (len(df_norte), f'{media_norte:.2f}', mediana_norte, moda_norte, f'{desvio_padrao_norte:.2f}', f'{coeficiente_porcentagem_norte:.2f}%'),\n",
        "    (len(df_sul), f'{media_sul:.2f}', mediana_sul, moda_sul, f'{desvio_padrao_sul:.2f}', f'{coeficiente_porcentagem_sul:.2f}%'),\n",
        "    (len(df_leste), f'{media_leste:.2f}', mediana_leste, moda_leste, f'{desvio_padrao_leste:.2f}', f'{coeficiente_porcentagem_leste:.2f}%'),\n",
        "    (len(df_oeste), f'{media_oeste:.2f}', mediana_oeste, moda_oeste, f'{desvio_padrao_oeste:.2f}', f'{coeficiente_porcentagem_oeste:.2f}%'),\n",
        "    (len(df_co), f'{media_co:.2f}', mediana_co, moda_co, f'{desvio_padrao_co:.2f}', f'{coeficiente_porcentagem_co:.2f}%'),\n",
        "    (len(df_cs), f'{media_cs:.2f}', mediana_cs, moda_cs, f'{desvio_padrao_cs:.2f}', f'{coeficiente_porcentagem_cs:.2f}%')],\n",
        "    index=('Zona Norte', 'Zona Sul', 'Zona Leste', 'Zona Oeste', 'Zona Centro Oeste', 'Zona Centro-Sul'),\n",
        "    columns=('Total Imóveis', 'Média', 'Mediana', 'Moda', 'Desvio Padrão', 'Coeficiente de Variação'))\n",
        "\n",
        "df_resultados"
      ],
      "metadata": {
        "id": "Edpc2csK1Ksx",
        "colab": {
          "base_uri": "https://localhost:8080/"
        },
        "outputId": "4883f011-566a-48ae-bd3e-afeebd28ecff"
      },
      "execution_count": null,
      "outputs": [
        {
          "output_type": "execute_result",
          "data": {
            "text/plain": [
              "                   Total Imóveis Média  Mediana  Moda Desvio Padrão  \\\n",
              "Zona Norte                    74  1.86      2.0     2          0.97   \n",
              "Zona Sul                      13  2.77      2.0     2          1.48   \n",
              "Zona Leste                     8  1.38      1.0     1          1.06   \n",
              "Zona Oeste                   116  2.88      3.0     1          1.54   \n",
              "Zona Centro Oeste             44  2.45      2.0     2          1.19   \n",
              "Zona Centro-Sul              136  2.83      2.0     2          1.35   \n",
              "\n",
              "                  Coeficiente de Variação  \n",
              "Zona Norte                         52.00%  \n",
              "Zona Sul                           53.47%  \n",
              "Zona Leste                         77.14%  \n",
              "Zona Oeste                         53.44%  \n",
              "Zona Centro Oeste                  48.49%  \n",
              "Zona Centro-Sul                    47.79%  "
            ],
            "text/html": [
              "\n",
              "  <div id=\"df-d29c2867-bc03-462e-9827-e9da8b9d3532\">\n",
              "    <div class=\"colab-df-container\">\n",
              "      <div>\n",
              "<style scoped>\n",
              "    .dataframe tbody tr th:only-of-type {\n",
              "        vertical-align: middle;\n",
              "    }\n",
              "\n",
              "    .dataframe tbody tr th {\n",
              "        vertical-align: top;\n",
              "    }\n",
              "\n",
              "    .dataframe thead th {\n",
              "        text-align: right;\n",
              "    }\n",
              "</style>\n",
              "<table border=\"1\" class=\"dataframe\">\n",
              "  <thead>\n",
              "    <tr style=\"text-align: right;\">\n",
              "      <th></th>\n",
              "      <th>Total Imóveis</th>\n",
              "      <th>Média</th>\n",
              "      <th>Mediana</th>\n",
              "      <th>Moda</th>\n",
              "      <th>Desvio Padrão</th>\n",
              "      <th>Coeficiente de Variação</th>\n",
              "    </tr>\n",
              "  </thead>\n",
              "  <tbody>\n",
              "    <tr>\n",
              "      <th>Zona Norte</th>\n",
              "      <td>74</td>\n",
              "      <td>1.86</td>\n",
              "      <td>2.0</td>\n",
              "      <td>2</td>\n",
              "      <td>0.97</td>\n",
              "      <td>52.00%</td>\n",
              "    </tr>\n",
              "    <tr>\n",
              "      <th>Zona Sul</th>\n",
              "      <td>13</td>\n",
              "      <td>2.77</td>\n",
              "      <td>2.0</td>\n",
              "      <td>2</td>\n",
              "      <td>1.48</td>\n",
              "      <td>53.47%</td>\n",
              "    </tr>\n",
              "    <tr>\n",
              "      <th>Zona Leste</th>\n",
              "      <td>8</td>\n",
              "      <td>1.38</td>\n",
              "      <td>1.0</td>\n",
              "      <td>1</td>\n",
              "      <td>1.06</td>\n",
              "      <td>77.14%</td>\n",
              "    </tr>\n",
              "    <tr>\n",
              "      <th>Zona Oeste</th>\n",
              "      <td>116</td>\n",
              "      <td>2.88</td>\n",
              "      <td>3.0</td>\n",
              "      <td>1</td>\n",
              "      <td>1.54</td>\n",
              "      <td>53.44%</td>\n",
              "    </tr>\n",
              "    <tr>\n",
              "      <th>Zona Centro Oeste</th>\n",
              "      <td>44</td>\n",
              "      <td>2.45</td>\n",
              "      <td>2.0</td>\n",
              "      <td>2</td>\n",
              "      <td>1.19</td>\n",
              "      <td>48.49%</td>\n",
              "    </tr>\n",
              "    <tr>\n",
              "      <th>Zona Centro-Sul</th>\n",
              "      <td>136</td>\n",
              "      <td>2.83</td>\n",
              "      <td>2.0</td>\n",
              "      <td>2</td>\n",
              "      <td>1.35</td>\n",
              "      <td>47.79%</td>\n",
              "    </tr>\n",
              "  </tbody>\n",
              "</table>\n",
              "</div>\n",
              "      <button class=\"colab-df-convert\" onclick=\"convertToInteractive('df-d29c2867-bc03-462e-9827-e9da8b9d3532')\"\n",
              "              title=\"Convert this dataframe to an interactive table.\"\n",
              "              style=\"display:none;\">\n",
              "        \n",
              "  <svg xmlns=\"http://www.w3.org/2000/svg\" height=\"24px\"viewBox=\"0 0 24 24\"\n",
              "       width=\"24px\">\n",
              "    <path d=\"M0 0h24v24H0V0z\" fill=\"none\"/>\n",
              "    <path d=\"M18.56 5.44l.94 2.06.94-2.06 2.06-.94-2.06-.94-.94-2.06-.94 2.06-2.06.94zm-11 1L8.5 8.5l.94-2.06 2.06-.94-2.06-.94L8.5 2.5l-.94 2.06-2.06.94zm10 10l.94 2.06.94-2.06 2.06-.94-2.06-.94-.94-2.06-.94 2.06-2.06.94z\"/><path d=\"M17.41 7.96l-1.37-1.37c-.4-.4-.92-.59-1.43-.59-.52 0-1.04.2-1.43.59L10.3 9.45l-7.72 7.72c-.78.78-.78 2.05 0 2.83L4 21.41c.39.39.9.59 1.41.59.51 0 1.02-.2 1.41-.59l7.78-7.78 2.81-2.81c.8-.78.8-2.07 0-2.86zM5.41 20L4 18.59l7.72-7.72 1.47 1.35L5.41 20z\"/>\n",
              "  </svg>\n",
              "      </button>\n",
              "      \n",
              "  <style>\n",
              "    .colab-df-container {\n",
              "      display:flex;\n",
              "      flex-wrap:wrap;\n",
              "      gap: 12px;\n",
              "    }\n",
              "\n",
              "    .colab-df-convert {\n",
              "      background-color: #E8F0FE;\n",
              "      border: none;\n",
              "      border-radius: 50%;\n",
              "      cursor: pointer;\n",
              "      display: none;\n",
              "      fill: #1967D2;\n",
              "      height: 32px;\n",
              "      padding: 0 0 0 0;\n",
              "      width: 32px;\n",
              "    }\n",
              "\n",
              "    .colab-df-convert:hover {\n",
              "      background-color: #E2EBFA;\n",
              "      box-shadow: 0px 1px 2px rgba(60, 64, 67, 0.3), 0px 1px 3px 1px rgba(60, 64, 67, 0.15);\n",
              "      fill: #174EA6;\n",
              "    }\n",
              "\n",
              "    [theme=dark] .colab-df-convert {\n",
              "      background-color: #3B4455;\n",
              "      fill: #D2E3FC;\n",
              "    }\n",
              "\n",
              "    [theme=dark] .colab-df-convert:hover {\n",
              "      background-color: #434B5C;\n",
              "      box-shadow: 0px 1px 3px 1px rgba(0, 0, 0, 0.15);\n",
              "      filter: drop-shadow(0px 1px 2px rgba(0, 0, 0, 0.3));\n",
              "      fill: #FFFFFF;\n",
              "    }\n",
              "  </style>\n",
              "\n",
              "      <script>\n",
              "        const buttonEl =\n",
              "          document.querySelector('#df-d29c2867-bc03-462e-9827-e9da8b9d3532 button.colab-df-convert');\n",
              "        buttonEl.style.display =\n",
              "          google.colab.kernel.accessAllowed ? 'block' : 'none';\n",
              "\n",
              "        async function convertToInteractive(key) {\n",
              "          const element = document.querySelector('#df-d29c2867-bc03-462e-9827-e9da8b9d3532');\n",
              "          const dataTable =\n",
              "            await google.colab.kernel.invokeFunction('convertToInteractive',\n",
              "                                                     [key], {});\n",
              "          if (!dataTable) return;\n",
              "\n",
              "          const docLinkHtml = 'Like what you see? Visit the ' +\n",
              "            '<a target=\"_blank\" href=https://colab.research.google.com/notebooks/data_table.ipynb>data table notebook</a>'\n",
              "            + ' to learn more about interactive tables.';\n",
              "          element.innerHTML = '';\n",
              "          dataTable['output_type'] = 'display_data';\n",
              "          await google.colab.output.renderOutput(dataTable, element);\n",
              "          const docLink = document.createElement('div');\n",
              "          docLink.innerHTML = docLinkHtml;\n",
              "          element.appendChild(docLink);\n",
              "        }\n",
              "      </script>\n",
              "    </div>\n",
              "  </div>\n",
              "  "
            ]
          },
          "metadata": {},
          "execution_count": 309
        }
      ]
    },
    {
      "cell_type": "markdown",
      "source": [
        "## Casas"
      ],
      "metadata": {
        "id": "qRAOgxhA-Hl-"
      }
    },
    {
      "cell_type": "code",
      "source": [
        "df_resultados_casas = pd.DataFrame([\n",
        "    (len(df_casas_norte), f'{media_casas_norte:.2f}', mediana_casas_norte, int(moda_casas_norte), f'{desvio_padrao_casas_norte:.2f}', f'{coeficiente_porcentagem_casas_norte:.2f}%'),\n",
        "    (len(df_casas_sul), f'{media_casas_sul:.2f}', mediana_casas_sul, list(moda_casas_sul), f'{desvio_padrao_casas_sul:.2f}', f'{coeficiente_porcentagem_casas_sul:.2f}%'),\n",
        "    (len(df_casas_leste), f'{media_casas_leste:.2f}', mediana_casas_leste, int(moda_casas_leste), f'{desvio_padrao_casas_leste:.2f}', f'{coeficiente_porcentagem_casas_leste:.2f}%'),\n",
        "    (len(df_casas_oeste), f'{media_casas_oeste:.2f}', mediana_casas_oeste, int(moda_casas_oeste), f'{desvio_padrao_casas_oeste:.2f}', f'{coeficiente_porcentagem_casas_oeste:.2f}%'),\n",
        "    (len(df_casas_co), f'{media_casas_co:.2f}', mediana_casas_co, list(moda_casas_co), f'{desvio_padrao_casas_co:.2f}', f'{coeficiente_porcentagem_casas_co:.2f}%'),\n",
        "    (len(df_casas_cs), f'{media_casas_cs:.2f}', mediana_casas_cs, int(moda_casas_cs), f'{desvio_padrao_casas_cs:.2f}', f'{coeficiente_porcentagem_casas_cs:.2f}%')],\n",
        "    index=('Zona Norte', 'Zona Sul', 'Zona Leste', 'Zona Oeste', 'Zona Centro Oeste', 'Zona Centro-Sul'),\n",
        "    columns=('Total Imóveis', 'Média', 'Mediana', 'Moda', 'Desvio Padrão', 'Coeficiente de Variação'))\n",
        "\n",
        "df_resultados_casas"
      ],
      "metadata": {
        "id": "pj-teKDSAURz",
        "colab": {
          "base_uri": "https://localhost:8080/"
        },
        "outputId": "c4135d97-4b3c-4662-e6f5-3ffd60e7d126"
      },
      "execution_count": null,
      "outputs": [
        {
          "output_type": "execute_result",
          "data": {
            "text/plain": [
              "                   Total Imóveis Média  Mediana    Moda Desvio Padrão  \\\n",
              "Zona Norte                    50  2.14      2.0       2          1.03   \n",
              "Zona Sul                       6  3.83      4.0  [4, 5]          1.17   \n",
              "Zona Leste                     5  1.60      1.0       1          1.34   \n",
              "Zona Oeste                    62  3.58      4.0       5          1.30   \n",
              "Zona Centro Oeste             24  2.75      3.0  [2, 3]          1.26   \n",
              "Zona Centro-Sul               63  2.97      3.0       2          1.23   \n",
              "\n",
              "                  Coeficiente de Variação  \n",
              "Zona Norte                         48.15%  \n",
              "Zona Sul                           40.05%  \n",
              "Zona Leste                         83.85%  \n",
              "Zona Oeste                         36.31%  \n",
              "Zona Centro Oeste                  45.81%  \n",
              "Zona Centro-Sul                    41.47%  "
            ],
            "text/html": [
              "\n",
              "  <div id=\"df-f3ce7fd2-18bd-401f-a3d3-6c7fce85a265\">\n",
              "    <div class=\"colab-df-container\">\n",
              "      <div>\n",
              "<style scoped>\n",
              "    .dataframe tbody tr th:only-of-type {\n",
              "        vertical-align: middle;\n",
              "    }\n",
              "\n",
              "    .dataframe tbody tr th {\n",
              "        vertical-align: top;\n",
              "    }\n",
              "\n",
              "    .dataframe thead th {\n",
              "        text-align: right;\n",
              "    }\n",
              "</style>\n",
              "<table border=\"1\" class=\"dataframe\">\n",
              "  <thead>\n",
              "    <tr style=\"text-align: right;\">\n",
              "      <th></th>\n",
              "      <th>Total Imóveis</th>\n",
              "      <th>Média</th>\n",
              "      <th>Mediana</th>\n",
              "      <th>Moda</th>\n",
              "      <th>Desvio Padrão</th>\n",
              "      <th>Coeficiente de Variação</th>\n",
              "    </tr>\n",
              "  </thead>\n",
              "  <tbody>\n",
              "    <tr>\n",
              "      <th>Zona Norte</th>\n",
              "      <td>50</td>\n",
              "      <td>2.14</td>\n",
              "      <td>2.0</td>\n",
              "      <td>2</td>\n",
              "      <td>1.03</td>\n",
              "      <td>48.15%</td>\n",
              "    </tr>\n",
              "    <tr>\n",
              "      <th>Zona Sul</th>\n",
              "      <td>6</td>\n",
              "      <td>3.83</td>\n",
              "      <td>4.0</td>\n",
              "      <td>[4, 5]</td>\n",
              "      <td>1.17</td>\n",
              "      <td>40.05%</td>\n",
              "    </tr>\n",
              "    <tr>\n",
              "      <th>Zona Leste</th>\n",
              "      <td>5</td>\n",
              "      <td>1.60</td>\n",
              "      <td>1.0</td>\n",
              "      <td>1</td>\n",
              "      <td>1.34</td>\n",
              "      <td>83.85%</td>\n",
              "    </tr>\n",
              "    <tr>\n",
              "      <th>Zona Oeste</th>\n",
              "      <td>62</td>\n",
              "      <td>3.58</td>\n",
              "      <td>4.0</td>\n",
              "      <td>5</td>\n",
              "      <td>1.30</td>\n",
              "      <td>36.31%</td>\n",
              "    </tr>\n",
              "    <tr>\n",
              "      <th>Zona Centro Oeste</th>\n",
              "      <td>24</td>\n",
              "      <td>2.75</td>\n",
              "      <td>3.0</td>\n",
              "      <td>[2, 3]</td>\n",
              "      <td>1.26</td>\n",
              "      <td>45.81%</td>\n",
              "    </tr>\n",
              "    <tr>\n",
              "      <th>Zona Centro-Sul</th>\n",
              "      <td>63</td>\n",
              "      <td>2.97</td>\n",
              "      <td>3.0</td>\n",
              "      <td>2</td>\n",
              "      <td>1.23</td>\n",
              "      <td>41.47%</td>\n",
              "    </tr>\n",
              "  </tbody>\n",
              "</table>\n",
              "</div>\n",
              "      <button class=\"colab-df-convert\" onclick=\"convertToInteractive('df-f3ce7fd2-18bd-401f-a3d3-6c7fce85a265')\"\n",
              "              title=\"Convert this dataframe to an interactive table.\"\n",
              "              style=\"display:none;\">\n",
              "        \n",
              "  <svg xmlns=\"http://www.w3.org/2000/svg\" height=\"24px\"viewBox=\"0 0 24 24\"\n",
              "       width=\"24px\">\n",
              "    <path d=\"M0 0h24v24H0V0z\" fill=\"none\"/>\n",
              "    <path d=\"M18.56 5.44l.94 2.06.94-2.06 2.06-.94-2.06-.94-.94-2.06-.94 2.06-2.06.94zm-11 1L8.5 8.5l.94-2.06 2.06-.94-2.06-.94L8.5 2.5l-.94 2.06-2.06.94zm10 10l.94 2.06.94-2.06 2.06-.94-2.06-.94-.94-2.06-.94 2.06-2.06.94z\"/><path d=\"M17.41 7.96l-1.37-1.37c-.4-.4-.92-.59-1.43-.59-.52 0-1.04.2-1.43.59L10.3 9.45l-7.72 7.72c-.78.78-.78 2.05 0 2.83L4 21.41c.39.39.9.59 1.41.59.51 0 1.02-.2 1.41-.59l7.78-7.78 2.81-2.81c.8-.78.8-2.07 0-2.86zM5.41 20L4 18.59l7.72-7.72 1.47 1.35L5.41 20z\"/>\n",
              "  </svg>\n",
              "      </button>\n",
              "      \n",
              "  <style>\n",
              "    .colab-df-container {\n",
              "      display:flex;\n",
              "      flex-wrap:wrap;\n",
              "      gap: 12px;\n",
              "    }\n",
              "\n",
              "    .colab-df-convert {\n",
              "      background-color: #E8F0FE;\n",
              "      border: none;\n",
              "      border-radius: 50%;\n",
              "      cursor: pointer;\n",
              "      display: none;\n",
              "      fill: #1967D2;\n",
              "      height: 32px;\n",
              "      padding: 0 0 0 0;\n",
              "      width: 32px;\n",
              "    }\n",
              "\n",
              "    .colab-df-convert:hover {\n",
              "      background-color: #E2EBFA;\n",
              "      box-shadow: 0px 1px 2px rgba(60, 64, 67, 0.3), 0px 1px 3px 1px rgba(60, 64, 67, 0.15);\n",
              "      fill: #174EA6;\n",
              "    }\n",
              "\n",
              "    [theme=dark] .colab-df-convert {\n",
              "      background-color: #3B4455;\n",
              "      fill: #D2E3FC;\n",
              "    }\n",
              "\n",
              "    [theme=dark] .colab-df-convert:hover {\n",
              "      background-color: #434B5C;\n",
              "      box-shadow: 0px 1px 3px 1px rgba(0, 0, 0, 0.15);\n",
              "      filter: drop-shadow(0px 1px 2px rgba(0, 0, 0, 0.3));\n",
              "      fill: #FFFFFF;\n",
              "    }\n",
              "  </style>\n",
              "\n",
              "      <script>\n",
              "        const buttonEl =\n",
              "          document.querySelector('#df-f3ce7fd2-18bd-401f-a3d3-6c7fce85a265 button.colab-df-convert');\n",
              "        buttonEl.style.display =\n",
              "          google.colab.kernel.accessAllowed ? 'block' : 'none';\n",
              "\n",
              "        async function convertToInteractive(key) {\n",
              "          const element = document.querySelector('#df-f3ce7fd2-18bd-401f-a3d3-6c7fce85a265');\n",
              "          const dataTable =\n",
              "            await google.colab.kernel.invokeFunction('convertToInteractive',\n",
              "                                                     [key], {});\n",
              "          if (!dataTable) return;\n",
              "\n",
              "          const docLinkHtml = 'Like what you see? Visit the ' +\n",
              "            '<a target=\"_blank\" href=https://colab.research.google.com/notebooks/data_table.ipynb>data table notebook</a>'\n",
              "            + ' to learn more about interactive tables.';\n",
              "          element.innerHTML = '';\n",
              "          dataTable['output_type'] = 'display_data';\n",
              "          await google.colab.output.renderOutput(dataTable, element);\n",
              "          const docLink = document.createElement('div');\n",
              "          docLink.innerHTML = docLinkHtml;\n",
              "          element.appendChild(docLink);\n",
              "        }\n",
              "      </script>\n",
              "    </div>\n",
              "  </div>\n",
              "  "
            ]
          },
          "metadata": {},
          "execution_count": 310
        }
      ]
    },
    {
      "cell_type": "markdown",
      "source": [
        "## Apartamentos"
      ],
      "metadata": {
        "id": "SXHFjuy--JLh"
      }
    },
    {
      "cell_type": "code",
      "source": [
        "df_resultados_apartamentos = pd.DataFrame([\n",
        "    (len(df_apartamentos_sul), f'{media_apartamentos_norte:.2f}', mediana_apartamentos_norte, int(moda_apartamentos_norte), f'{desvio_padrao_apartamentos_norte:.2f}', f'{coeficiente_porcentagem_apartamentos_norte:.2f}%'),\n",
        "    (len(df_apartamentos_sul), f'{media_apartamentos_sul:.2f}', mediana_apartamentos_sul, list(moda_apartamentos_sul), f'{desvio_padrao_apartamentos_sul:.2f}', f'{coeficiente_porcentagem_apartamentos_sul:.2f}%'),\n",
        "    (len(df_apartamentos_leste), f'{media_apartamentos_leste:.2f}', mediana_apartamentos_leste, int(moda_apartamentos_leste), f'{desvio_padrao_apartamentos_leste:.2f}', f'{coeficiente_porcentagem_apartamentos_leste:.2f}%'),\n",
        "    (len(df_apartamentos_oeste), f'{media_apartamentos_oeste:.2f}', mediana_apartamentos_oeste, int(moda_apartamentos_oeste), f'{desvio_padrao_apartamentos_oeste:.2f}', f'{coeficiente_porcentagem_apartamentos_oeste:.2f}%'),\n",
        "    (len(df_apartamentos_co), f'{media_apartamentos_co:.2f}', mediana_apartamentos_co, int(moda_apartamentos_co), f'{desvio_padrao_apartamentos_co:.2f}', f'{coeficiente_porcentagem_apartamentos_co:.2f}%'),\n",
        "    (len(df_apartamentos_cs), f'{media_apartamentos_cs:.2f}', mediana_apartamentos_cs, int(moda_apartamentos_cs), f'{desvio_padrao_apartamentos_cs:.2f}', f'{coeficiente_porcentagem_apartamentos_cs:.2f}%')],\n",
        "    index=('Zona Norte', 'Zona Sul', 'Zona Leste', 'Zona Oeste', 'Zona Centro Oeste', 'Zona Centro-Sul'),\n",
        "    columns=('Total Imóveis', 'Média', 'Mediana', 'Moda', 'Desvio Padrão', 'Coeficiente de Variação'))\n",
        "\n",
        "df_resultados_apartamentos"
      ],
      "metadata": {
        "id": "grJDHfU6BUJ_",
        "colab": {
          "base_uri": "https://localhost:8080/"
        },
        "outputId": "d4ae3ac3-c389-4150-8fb4-a410e552f522"
      },
      "execution_count": null,
      "outputs": [
        {
          "output_type": "execute_result",
          "data": {
            "text/plain": [
              "                   Total Imóveis Média  Mediana    Moda Desvio Padrão  \\\n",
              "Zona Norte                     7  1.29      1.0       1          0.46   \n",
              "Zona Sul                       7  1.86      2.0  [1, 2]          1.07   \n",
              "Zona Leste                     3  1.00      1.0       1          0.00   \n",
              "Zona Oeste                    54  2.07      1.5       1          1.40   \n",
              "Zona Centro Oeste             20  2.10      2.0       2          1.02   \n",
              "Zona Centro-Sul               73  2.71      2.0       2          1.45   \n",
              "\n",
              "                  Coeficiente de Variação  \n",
              "Zona Norte                         35.95%  \n",
              "Zona Sul                           57.56%  \n",
              "Zona Leste                          0.00%  \n",
              "Zona Oeste                         67.44%  \n",
              "Zona Centro Oeste                  48.61%  \n",
              "Zona Centro-Sul                    53.39%  "
            ],
            "text/html": [
              "\n",
              "  <div id=\"df-e1ff1a09-2ced-4daf-a8dd-8f0df8ed1666\">\n",
              "    <div class=\"colab-df-container\">\n",
              "      <div>\n",
              "<style scoped>\n",
              "    .dataframe tbody tr th:only-of-type {\n",
              "        vertical-align: middle;\n",
              "    }\n",
              "\n",
              "    .dataframe tbody tr th {\n",
              "        vertical-align: top;\n",
              "    }\n",
              "\n",
              "    .dataframe thead th {\n",
              "        text-align: right;\n",
              "    }\n",
              "</style>\n",
              "<table border=\"1\" class=\"dataframe\">\n",
              "  <thead>\n",
              "    <tr style=\"text-align: right;\">\n",
              "      <th></th>\n",
              "      <th>Total Imóveis</th>\n",
              "      <th>Média</th>\n",
              "      <th>Mediana</th>\n",
              "      <th>Moda</th>\n",
              "      <th>Desvio Padrão</th>\n",
              "      <th>Coeficiente de Variação</th>\n",
              "    </tr>\n",
              "  </thead>\n",
              "  <tbody>\n",
              "    <tr>\n",
              "      <th>Zona Norte</th>\n",
              "      <td>7</td>\n",
              "      <td>1.29</td>\n",
              "      <td>1.0</td>\n",
              "      <td>1</td>\n",
              "      <td>0.46</td>\n",
              "      <td>35.95%</td>\n",
              "    </tr>\n",
              "    <tr>\n",
              "      <th>Zona Sul</th>\n",
              "      <td>7</td>\n",
              "      <td>1.86</td>\n",
              "      <td>2.0</td>\n",
              "      <td>[1, 2]</td>\n",
              "      <td>1.07</td>\n",
              "      <td>57.56%</td>\n",
              "    </tr>\n",
              "    <tr>\n",
              "      <th>Zona Leste</th>\n",
              "      <td>3</td>\n",
              "      <td>1.00</td>\n",
              "      <td>1.0</td>\n",
              "      <td>1</td>\n",
              "      <td>0.00</td>\n",
              "      <td>0.00%</td>\n",
              "    </tr>\n",
              "    <tr>\n",
              "      <th>Zona Oeste</th>\n",
              "      <td>54</td>\n",
              "      <td>2.07</td>\n",
              "      <td>1.5</td>\n",
              "      <td>1</td>\n",
              "      <td>1.40</td>\n",
              "      <td>67.44%</td>\n",
              "    </tr>\n",
              "    <tr>\n",
              "      <th>Zona Centro Oeste</th>\n",
              "      <td>20</td>\n",
              "      <td>2.10</td>\n",
              "      <td>2.0</td>\n",
              "      <td>2</td>\n",
              "      <td>1.02</td>\n",
              "      <td>48.61%</td>\n",
              "    </tr>\n",
              "    <tr>\n",
              "      <th>Zona Centro-Sul</th>\n",
              "      <td>73</td>\n",
              "      <td>2.71</td>\n",
              "      <td>2.0</td>\n",
              "      <td>2</td>\n",
              "      <td>1.45</td>\n",
              "      <td>53.39%</td>\n",
              "    </tr>\n",
              "  </tbody>\n",
              "</table>\n",
              "</div>\n",
              "      <button class=\"colab-df-convert\" onclick=\"convertToInteractive('df-e1ff1a09-2ced-4daf-a8dd-8f0df8ed1666')\"\n",
              "              title=\"Convert this dataframe to an interactive table.\"\n",
              "              style=\"display:none;\">\n",
              "        \n",
              "  <svg xmlns=\"http://www.w3.org/2000/svg\" height=\"24px\"viewBox=\"0 0 24 24\"\n",
              "       width=\"24px\">\n",
              "    <path d=\"M0 0h24v24H0V0z\" fill=\"none\"/>\n",
              "    <path d=\"M18.56 5.44l.94 2.06.94-2.06 2.06-.94-2.06-.94-.94-2.06-.94 2.06-2.06.94zm-11 1L8.5 8.5l.94-2.06 2.06-.94-2.06-.94L8.5 2.5l-.94 2.06-2.06.94zm10 10l.94 2.06.94-2.06 2.06-.94-2.06-.94-.94-2.06-.94 2.06-2.06.94z\"/><path d=\"M17.41 7.96l-1.37-1.37c-.4-.4-.92-.59-1.43-.59-.52 0-1.04.2-1.43.59L10.3 9.45l-7.72 7.72c-.78.78-.78 2.05 0 2.83L4 21.41c.39.39.9.59 1.41.59.51 0 1.02-.2 1.41-.59l7.78-7.78 2.81-2.81c.8-.78.8-2.07 0-2.86zM5.41 20L4 18.59l7.72-7.72 1.47 1.35L5.41 20z\"/>\n",
              "  </svg>\n",
              "      </button>\n",
              "      \n",
              "  <style>\n",
              "    .colab-df-container {\n",
              "      display:flex;\n",
              "      flex-wrap:wrap;\n",
              "      gap: 12px;\n",
              "    }\n",
              "\n",
              "    .colab-df-convert {\n",
              "      background-color: #E8F0FE;\n",
              "      border: none;\n",
              "      border-radius: 50%;\n",
              "      cursor: pointer;\n",
              "      display: none;\n",
              "      fill: #1967D2;\n",
              "      height: 32px;\n",
              "      padding: 0 0 0 0;\n",
              "      width: 32px;\n",
              "    }\n",
              "\n",
              "    .colab-df-convert:hover {\n",
              "      background-color: #E2EBFA;\n",
              "      box-shadow: 0px 1px 2px rgba(60, 64, 67, 0.3), 0px 1px 3px 1px rgba(60, 64, 67, 0.15);\n",
              "      fill: #174EA6;\n",
              "    }\n",
              "\n",
              "    [theme=dark] .colab-df-convert {\n",
              "      background-color: #3B4455;\n",
              "      fill: #D2E3FC;\n",
              "    }\n",
              "\n",
              "    [theme=dark] .colab-df-convert:hover {\n",
              "      background-color: #434B5C;\n",
              "      box-shadow: 0px 1px 3px 1px rgba(0, 0, 0, 0.15);\n",
              "      filter: drop-shadow(0px 1px 2px rgba(0, 0, 0, 0.3));\n",
              "      fill: #FFFFFF;\n",
              "    }\n",
              "  </style>\n",
              "\n",
              "      <script>\n",
              "        const buttonEl =\n",
              "          document.querySelector('#df-e1ff1a09-2ced-4daf-a8dd-8f0df8ed1666 button.colab-df-convert');\n",
              "        buttonEl.style.display =\n",
              "          google.colab.kernel.accessAllowed ? 'block' : 'none';\n",
              "\n",
              "        async function convertToInteractive(key) {\n",
              "          const element = document.querySelector('#df-e1ff1a09-2ced-4daf-a8dd-8f0df8ed1666');\n",
              "          const dataTable =\n",
              "            await google.colab.kernel.invokeFunction('convertToInteractive',\n",
              "                                                     [key], {});\n",
              "          if (!dataTable) return;\n",
              "\n",
              "          const docLinkHtml = 'Like what you see? Visit the ' +\n",
              "            '<a target=\"_blank\" href=https://colab.research.google.com/notebooks/data_table.ipynb>data table notebook</a>'\n",
              "            + ' to learn more about interactive tables.';\n",
              "          element.innerHTML = '';\n",
              "          dataTable['output_type'] = 'display_data';\n",
              "          await google.colab.output.renderOutput(dataTable, element);\n",
              "          const docLink = document.createElement('div');\n",
              "          docLink.innerHTML = docLinkHtml;\n",
              "          element.appendChild(docLink);\n",
              "        }\n",
              "      </script>\n",
              "    </div>\n",
              "  </div>\n",
              "  "
            ]
          },
          "metadata": {},
          "execution_count": 311
        }
      ]
    },
    {
      "cell_type": "markdown",
      "source": [
        "# 🟆 Variável: Quantidade de Vagas (Quantitativa)\n",
        "\n",
        "\n",
        "---\n",
        "\n"
      ],
      "metadata": {
        "id": "euipHSj1JgUf"
      }
    },
    {
      "cell_type": "markdown",
      "source": [
        "## Medidas Gerais"
      ],
      "metadata": {
        "id": "qGKr4uhYJgUh"
      }
    },
    {
      "cell_type": "markdown",
      "source": [
        "### *Geral*"
      ],
      "metadata": {
        "id": "DKoVykNAJgUh"
      }
    },
    {
      "cell_type": "code",
      "source": [
        "media = df[\"qtde_vagas\"].mean()\n",
        "moda = int(df[\"qtde_vagas\"].mode())\n",
        "mediana = df[\"qtde_vagas\"].median()\n",
        "desvio_padrao = df[\"qtde_vagas\"].std()\n",
        "coeficiente_de_variacao = desvio_padrao/media\n",
        "coeficiente_porcentagem = coeficiente_de_variacao * 100"
      ],
      "metadata": {
        "id": "qihZrNDYJgUi"
      },
      "execution_count": 19,
      "outputs": []
    },
    {
      "cell_type": "code",
      "source": [
        "print(f'Média: {media:.2f}')\n",
        "print(f'Mediana: {mediana:.0f}')\n",
        "print(f'Moda: {moda}')\n",
        "print(f'Desvio Padrão: {desvio_padrao:.2f}')\n",
        "print(f'Coeficiente de Variação: {coeficiente_porcentagem:.2f}%')"
      ],
      "metadata": {
        "colab": {
          "base_uri": "https://localhost:8080/"
        },
        "outputId": "1445c91d-88a7-432e-8586-2194103391dc",
        "id": "Ab-APOmSJgUj"
      },
      "execution_count": 25,
      "outputs": [
        {
          "output_type": "stream",
          "name": "stdout",
          "text": [
            "Média: 2.47\n",
            "Mediana: 2\n",
            "Moda: 2\n",
            "Desvio Padrão: 1.26\n",
            "Coeficiente de Variação: 51.23%\n"
          ]
        }
      ]
    },
    {
      "cell_type": "markdown",
      "source": [
        "### *Casas*"
      ],
      "metadata": {
        "id": "6xpDlSOFJgUk"
      }
    },
    {
      "cell_type": "code",
      "source": [
        "len(df_casas)"
      ],
      "metadata": {
        "colab": {
          "base_uri": "https://localhost:8080/"
        },
        "outputId": "9ac0305f-17e5-453b-ae0a-98468902e0e0",
        "id": "tr27kJg0JgUk"
      },
      "execution_count": 22,
      "outputs": [
        {
          "output_type": "execute_result",
          "data": {
            "text/plain": [
              "237"
            ]
          },
          "metadata": {},
          "execution_count": 22
        }
      ]
    },
    {
      "cell_type": "code",
      "source": [
        "media_casas = df_casas[\"qtde_vagas\"].mean()\n",
        "moda_casas = df_casas[\"qtde_vagas\"].mode()\n",
        "mediana_casas = df_casas[\"qtde_vagas\"].median()\n",
        "desvio_padrao_casas = df_casas[\"qtde_vagas\"].std()\n",
        "coeficiente_de_variacao_casas = desvio_padrao_casas/media_casas\n",
        "coeficiente_porcentagem_casas = coeficiente_de_variacao_casas * 100"
      ],
      "metadata": {
        "id": "EmqbB-zgJgUl"
      },
      "execution_count": 42,
      "outputs": []
    },
    {
      "cell_type": "code",
      "source": [
        "print(f'Média: {media_casas:.2f}')\n",
        "print(f'Mediana: {mediana_casas:.0f}')\n",
        "print(f'Moda: {moda_casas.values}')\n",
        "print(f'Desvio Padrão: {desvio_padrao_casas:.2f}')\n",
        "print(f'Coeficiente de Variação: {coeficiente_porcentagem_casas:.2f}%')"
      ],
      "metadata": {
        "colab": {
          "base_uri": "https://localhost:8080/"
        },
        "outputId": "1accde72-41d2-4a28-8653-00330e461c1c",
        "id": "IHkw08-vJgUm"
      },
      "execution_count": 58,
      "outputs": [
        {
          "output_type": "stream",
          "name": "stdout",
          "text": [
            "Média: 2.88\n",
            "Mediana: 3\n",
            "Moda: [2]\n",
            "Desvio Padrão: 1.24\n",
            "Coeficiente de Variação: 43.01%\n"
          ]
        }
      ]
    },
    {
      "cell_type": "markdown",
      "source": [
        "### *Apartamentos*"
      ],
      "metadata": {
        "id": "65lvASi_JgUm"
      }
    },
    {
      "cell_type": "code",
      "source": [
        "len(df_apartamentos)"
      ],
      "metadata": {
        "colab": {
          "base_uri": "https://localhost:8080/"
        },
        "outputId": "9074ef9d-5b36-445e-d683-8cf4382f7376",
        "id": "WIWccgsKJgUn"
      },
      "execution_count": 27,
      "outputs": [
        {
          "output_type": "execute_result",
          "data": {
            "text/plain": [
              "153"
            ]
          },
          "metadata": {},
          "execution_count": 27
        }
      ]
    },
    {
      "cell_type": "code",
      "source": [
        "media_apartamentos = df_apartamentos[\"qtde_vagas\"].mean()\n",
        "moda_apartamentos = df_apartamentos[\"qtde_vagas\"].mode()\n",
        "mediana_apartamentos = df_apartamentos[\"qtde_vagas\"].median()\n",
        "desvio_padrao_apartamentos = df_apartamentos[\"qtde_vagas\"].std()\n",
        "coeficiente_de_variacao_apartamentos = desvio_padrao_apartamentos/media_apartamentos\n",
        "coeficiente_porcentagem_apartamentos = coeficiente_de_variacao_apartamentos * 100"
      ],
      "metadata": {
        "id": "MtbtOXyCJgUn"
      },
      "execution_count": 44,
      "outputs": []
    },
    {
      "cell_type": "code",
      "source": [
        "print(f'Média: {media_apartamentos:.2f}')\n",
        "print(f'Mediana: {mediana_apartamentos:.0f}')\n",
        "print(f'Moda: {moda_apartamentos.values}')\n",
        "print(f'Desvio Padrão: {desvio_padrao_apartamentos:.2f}')\n",
        "print(f'Coeficiente de Variação: {coeficiente_porcentagem_apartamentos:.2f}%')"
      ],
      "metadata": {
        "colab": {
          "base_uri": "https://localhost:8080/"
        },
        "outputId": "5d33aafd-2e66-47bf-9f5f-33aa24e11b0d",
        "id": "yi3QqxTrJgUo"
      },
      "execution_count": 57,
      "outputs": [
        {
          "output_type": "stream",
          "name": "stdout",
          "text": [
            "Média: 1.83\n",
            "Mediana: 2\n",
            "Moda: [1]\n",
            "Desvio Padrão: 1.02\n",
            "Coeficiente de Variação: 55.64%\n"
          ]
        }
      ]
    },
    {
      "cell_type": "markdown",
      "source": [
        "## Região Norte"
      ],
      "metadata": {
        "id": "igTl3OorJgUp"
      }
    },
    {
      "cell_type": "code",
      "source": [
        "len(df_norte)"
      ],
      "metadata": {
        "colab": {
          "base_uri": "https://localhost:8080/"
        },
        "outputId": "6397ceb8-02b4-494f-e6c4-21eb840f7ca5",
        "id": "XZjW_IuIJgUp"
      },
      "execution_count": 50,
      "outputs": [
        {
          "output_type": "execute_result",
          "data": {
            "text/plain": [
              "73"
            ]
          },
          "metadata": {},
          "execution_count": 50
        }
      ]
    },
    {
      "cell_type": "markdown",
      "source": [
        "### *Casas*"
      ],
      "metadata": {
        "id": "ECTMd9kCJgUq"
      }
    },
    {
      "cell_type": "code",
      "source": [
        "df_casas_norte = df_norte.loc[df[\"categoria\"] == \"Casas\"]\n",
        "\n",
        "len(df_casas_norte)"
      ],
      "metadata": {
        "colab": {
          "base_uri": "https://localhost:8080/"
        },
        "outputId": "ec176338-adc3-49bc-a814-99a69c9adc90",
        "id": "oXuC1J41JgUq"
      },
      "execution_count": 51,
      "outputs": [
        {
          "output_type": "execute_result",
          "data": {
            "text/plain": [
              "62"
            ]
          },
          "metadata": {},
          "execution_count": 51
        }
      ]
    },
    {
      "cell_type": "code",
      "source": [
        "media_casas_norte = df_casas_norte[\"qtde_vagas\"].mean()\n",
        "moda_casas_norte = df_casas_norte[\"qtde_vagas\"].mode()\n",
        "mediana_casas_norte = df_casas_norte[\"qtde_vagas\"].median()\n",
        "desvio_padrao_casas_norte = df_casas_norte[\"qtde_vagas\"].std()\n",
        "coeficiente_de_variacao_casas_norte = desvio_padrao_casas_norte/media_casas_norte\n",
        "coeficiente_porcentagem_casas_norte = coeficiente_de_variacao_casas_norte * 100"
      ],
      "metadata": {
        "id": "RPqID2PXJgUs"
      },
      "execution_count": 52,
      "outputs": []
    },
    {
      "cell_type": "code",
      "source": [
        "print(f'Média: {media_casas_norte:.2f}')\n",
        "print(f'Mediana: {mediana_casas_norte:.0f}')\n",
        "print(f'Moda: {moda_casas_norte.values}')\n",
        "print(f'Desvio Padrão: {desvio_padrao_casas_norte:.2f}')\n",
        "print(f'Coeficiente de Variação: {coeficiente_porcentagem_casas_norte:.2f}%')"
      ],
      "metadata": {
        "colab": {
          "base_uri": "https://localhost:8080/"
        },
        "outputId": "e1141d6b-d189-45d2-a895-fb5aee9dd326",
        "id": "ACw5UCc1JgUt"
      },
      "execution_count": 56,
      "outputs": [
        {
          "output_type": "stream",
          "name": "stdout",
          "text": [
            "Média: 2.58\n",
            "Mediana: 2\n",
            "Moda: [2]\n",
            "Desvio Padrão: 1.09\n",
            "Coeficiente de Variação: 42.42%\n"
          ]
        }
      ]
    },
    {
      "cell_type": "markdown",
      "source": [
        "### *Apartamentos*"
      ],
      "metadata": {
        "id": "vtM6av3gJgUu"
      }
    },
    {
      "cell_type": "code",
      "source": [
        "len(df_apartamentos_sul)"
      ],
      "metadata": {
        "colab": {
          "base_uri": "https://localhost:8080/"
        },
        "outputId": "b3ce38e4-89e2-435c-b9b4-276124a456dc",
        "id": "e3ay8WAhJgUv"
      },
      "execution_count": 59,
      "outputs": [
        {
          "output_type": "execute_result",
          "data": {
            "text/plain": [
              "5"
            ]
          },
          "metadata": {},
          "execution_count": 59
        }
      ]
    },
    {
      "cell_type": "code",
      "source": [
        "media_apartamentos_norte= df_apartamentos_norte[\"qtde_vagas\"].mean()\n",
        "moda_apartamentos_norte = df_apartamentos_norte[\"qtde_vagas\"].mode()\n",
        "mediana_apartamentos_norte = df_apartamentos_norte[\"qtde_vagas\"].median()\n",
        "desvio_padrao_apartamentos_norte = df_apartamentos_norte[\"qtde_vagas\"].std()\n",
        "coeficiente_de_variacao_apartamentos_norte = desvio_padrao_apartamentos_norte/media_apartamentos_norte\n",
        "coeficiente_porcentagem_apartamentos_norte = coeficiente_de_variacao_apartamentos_norte * 100"
      ],
      "metadata": {
        "id": "_3TYVXMBJgUw"
      },
      "execution_count": 61,
      "outputs": []
    },
    {
      "cell_type": "code",
      "source": [
        "print(f'Média: {media_apartamentos_norte:.2f}')\n",
        "print(f'Mediana: {mediana_apartamentos_norte:.0f}')\n",
        "print(f'Moda: {moda_apartamentos_norte.values}')\n",
        "print(f'Desvio Padrão: {desvio_padrao_apartamentos_norte:.2f}')\n",
        "print(f'Coeficiente de Variação: {coeficiente_porcentagem_apartamentos_norte:.2f}%')"
      ],
      "metadata": {
        "colab": {
          "base_uri": "https://localhost:8080/"
        },
        "outputId": "b7a3c369-777f-422e-9488-c91caf62558a",
        "id": "OtMlwodbJgUx"
      },
      "execution_count": 62,
      "outputs": [
        {
          "output_type": "stream",
          "name": "stdout",
          "text": [
            "Média: 1.27\n",
            "Mediana: 1\n",
            "Moda: [1]\n",
            "Desvio Padrão: 0.65\n",
            "Coeficiente de Variação: 50.81%\n"
          ]
        }
      ]
    },
    {
      "cell_type": "markdown",
      "source": [
        "### *Geral*"
      ],
      "metadata": {
        "id": "QEDFIEIkJgUx"
      }
    },
    {
      "cell_type": "code",
      "source": [
        "media_norte = df_norte[\"qtde_vagas\"].mean()\n",
        "moda_norte = df_norte[\"qtde_vagas\"].mode()\n",
        "mediana_norte = df_norte[\"qtde_vagas\"].median()\n",
        "desvio_padrao_norte = df_norte[\"qtde_vagas\"].std()\n",
        "coeficiente_de_variacao_norte = desvio_padrao_norte/media_norte\n",
        "coeficiente_porcentagem_norte = coeficiente_de_variacao_norte * 100"
      ],
      "metadata": {
        "id": "u_HSrqzCJgUy"
      },
      "execution_count": 67,
      "outputs": []
    },
    {
      "cell_type": "code",
      "source": [
        "print(f'Média: {media_norte:.2f}')\n",
        "print(f'Mediana: {mediana_norte:.0f}')\n",
        "print(f'Moda: {moda_norte.values}')\n",
        "print(f'Desvio Padrão: {desvio_padrao_norte:.2f}')\n",
        "print(f'Coeficiente de Variação: {coeficiente_porcentagem_norte:.2f}%')"
      ],
      "metadata": {
        "colab": {
          "base_uri": "https://localhost:8080/"
        },
        "outputId": "593c014b-c1fe-48f1-f6b4-e5bc896062a3",
        "id": "qu6dRbelJgUy"
      },
      "execution_count": 68,
      "outputs": [
        {
          "output_type": "stream",
          "name": "stdout",
          "text": [
            "Média: 2.38\n",
            "Mediana: 2\n",
            "Moda: [2]\n",
            "Desvio Padrão: 1.14\n",
            "Coeficiente de Variação: 47.75%\n"
          ]
        }
      ]
    },
    {
      "cell_type": "markdown",
      "source": [
        "## Região Sul"
      ],
      "metadata": {
        "id": "KJpc1w__JgUz"
      }
    },
    {
      "cell_type": "code",
      "source": [
        "len(df_sul)"
      ],
      "metadata": {
        "colab": {
          "base_uri": "https://localhost:8080/"
        },
        "outputId": "b752c1fe-8557-4369-854b-4559b16c9331",
        "id": "JrQ1E5o9JgUz"
      },
      "execution_count": 69,
      "outputs": [
        {
          "output_type": "execute_result",
          "data": {
            "text/plain": [
              "15"
            ]
          },
          "metadata": {},
          "execution_count": 69
        }
      ]
    },
    {
      "cell_type": "markdown",
      "source": [
        "### *Casas*"
      ],
      "metadata": {
        "id": "o5ckGFJcJgU0"
      }
    },
    {
      "cell_type": "code",
      "source": [
        "len(df_casas_sul)"
      ],
      "metadata": {
        "colab": {
          "base_uri": "https://localhost:8080/"
        },
        "outputId": "b549d339-b29f-46ca-ff47-9b35470ed9e3",
        "id": "2RpNpZ8dJgU0"
      },
      "execution_count": 70,
      "outputs": [
        {
          "output_type": "execute_result",
          "data": {
            "text/plain": [
              "10"
            ]
          },
          "metadata": {},
          "execution_count": 70
        }
      ]
    },
    {
      "cell_type": "code",
      "source": [
        "media_casas_sul = df_casas_sul[\"qtde_vagas\"].mean()\n",
        "moda_casas_sul = df_casas_sul[\"qtde_vagas\"].mode()\n",
        "mediana_casas_sul = df_casas_sul[\"qtde_vagas\"].median()\n",
        "desvio_padrao_casas_sul = df_casas_sul[\"qtde_vagas\"].std()\n",
        "coeficiente_de_variacao_casas_sul = desvio_padrao_casas_sul/media_casas\n",
        "coeficiente_porcentagem_casas_sul = coeficiente_de_variacao_casas_sul * 100"
      ],
      "metadata": {
        "id": "8DW_yEfgJgU1"
      },
      "execution_count": 71,
      "outputs": []
    },
    {
      "cell_type": "code",
      "source": [
        "print(f'Média: {media_casas_sul:.2f}')\n",
        "print(f'Mediana: {mediana_casas_sul:.0f}')\n",
        "print(f'Moda: {moda_casas_sul.values}')\n",
        "print(f'Desvio Padrão: {desvio_padrao_casas_sul:.2f}')\n",
        "print(f'Coeficiente de Variação: {coeficiente_porcentagem_casas_sul:.2f}%')"
      ],
      "metadata": {
        "colab": {
          "base_uri": "https://localhost:8080/"
        },
        "outputId": "b6de184a-9d57-49a2-fdd4-72d4b6ec596c",
        "id": "3FsITn_sJgU2"
      },
      "execution_count": 72,
      "outputs": [
        {
          "output_type": "stream",
          "name": "stdout",
          "text": [
            "Média: 2.50\n",
            "Mediana: 3\n",
            "Moda: [1 3]\n",
            "Desvio Padrão: 1.43\n",
            "Coeficiente de Variação: 49.82%\n"
          ]
        }
      ]
    },
    {
      "cell_type": "markdown",
      "source": [
        "### *Apartamentos*"
      ],
      "metadata": {
        "id": "eROItGHTJgU2"
      }
    },
    {
      "cell_type": "code",
      "source": [
        "len(df_apartamentos_sul)"
      ],
      "metadata": {
        "colab": {
          "base_uri": "https://localhost:8080/"
        },
        "outputId": "370b9124-ca41-44bc-bd3a-0ef5d6b1c573",
        "id": "sUDXePtuJgU3"
      },
      "execution_count": 74,
      "outputs": [
        {
          "output_type": "execute_result",
          "data": {
            "text/plain": [
              "5"
            ]
          },
          "metadata": {},
          "execution_count": 74
        }
      ]
    },
    {
      "cell_type": "code",
      "source": [
        "media_apartamentos_sul = df_apartamentos_sul[\"qtde_vagas\"].mean()\n",
        "moda_apartamentos_sul = df_apartamentos_sul[\"qtde_vagas\"].mode()\n",
        "mediana_apartamentos_sul = df_apartamentos_sul[\"qtde_vagas\"].median()\n",
        "desvio_padrao_apartamentos_sul = df_apartamentos_sul[\"qtde_vagas\"].std()\n",
        "coeficiente_de_variacao_apartamentos_sul = desvio_padrao_apartamentos_sul/media_apartamentos_sul\n",
        "coeficiente_porcentagem_apartamentos_sul = coeficiente_de_variacao_apartamentos_sul * 100"
      ],
      "metadata": {
        "id": "ZcADYuTdJgU3"
      },
      "execution_count": 75,
      "outputs": []
    },
    {
      "cell_type": "code",
      "source": [
        "print(f'Média: {media_apartamentos_sul:.2f}')\n",
        "print(f'Mediana: {mediana_apartamentos_sul:.0f}')\n",
        "print(f'Moda: {moda_apartamentos_sul.values}')\n",
        "print(f'Desvio Padrão: {desvio_padrao_apartamentos_sul:.2f}')\n",
        "print(f'Coeficiente de Variação: {coeficiente_porcentagem_apartamentos_sul:.2f}%')"
      ],
      "metadata": {
        "colab": {
          "base_uri": "https://localhost:8080/"
        },
        "outputId": "8c77b784-19da-41c4-8963-796ff879d0e8",
        "id": "smO7OQdbJgU4"
      },
      "execution_count": 76,
      "outputs": [
        {
          "output_type": "stream",
          "name": "stdout",
          "text": [
            "Média: 1.40\n",
            "Mediana: 1\n",
            "Moda: [1]\n",
            "Desvio Padrão: 0.89\n",
            "Coeficiente de Variação: 63.89%\n"
          ]
        }
      ]
    },
    {
      "cell_type": "markdown",
      "source": [
        "### *Geral*"
      ],
      "metadata": {
        "id": "w3sGovbjJgU4"
      }
    },
    {
      "cell_type": "code",
      "source": [
        "media_sul = df_sul[\"qtde_vagas\"].mean()\n",
        "moda_sul = df_sul[\"qtde_vagas\"].mode()\n",
        "mediana_sul = df_sul[\"qtde_vagas\"].median()\n",
        "desvio_padrao_sul = df_sul[\"qtde_vagas\"].std()\n",
        "coeficiente_de_variacao_sul = desvio_padrao_sul/media_sul\n",
        "coeficiente_porcentagem_sul = coeficiente_de_variacao_sul * 100"
      ],
      "metadata": {
        "id": "mwmPReODJgU5"
      },
      "execution_count": 80,
      "outputs": []
    },
    {
      "cell_type": "code",
      "source": [
        "print(f'Média: {media_sul:.2f}')\n",
        "print(f'Mediana: {mediana_sul:.0f}')\n",
        "print(f'Moda: {moda_sul.values}')\n",
        "print(f'Desvio Padrão: {desvio_padrao_sul:.2f}')\n",
        "print(f'Coeficiente de Variação: {coeficiente_porcentagem_sul:.2f}%')"
      ],
      "metadata": {
        "colab": {
          "base_uri": "https://localhost:8080/"
        },
        "outputId": "831027b9-7f50-4461-d803-917673ddb12d",
        "id": "zDUHCqOmJgU5"
      },
      "execution_count": 81,
      "outputs": [
        {
          "output_type": "stream",
          "name": "stdout",
          "text": [
            "Média: 2.13\n",
            "Mediana: 1\n",
            "Moda: [1]\n",
            "Desvio Padrão: 1.36\n",
            "Coeficiente de Variação: 63.55%\n"
          ]
        }
      ]
    },
    {
      "cell_type": "markdown",
      "source": [
        "## Região Leste"
      ],
      "metadata": {
        "id": "CpCANF8lQ3pq"
      }
    },
    {
      "cell_type": "code",
      "source": [
        "len(df_leste)"
      ],
      "metadata": {
        "colab": {
          "base_uri": "https://localhost:8080/"
        },
        "outputId": "7c46e407-e317-4fb4-dc8a-7d2414fb131e",
        "id": "9o0TkFfiQ3pr"
      },
      "execution_count": 82,
      "outputs": [
        {
          "output_type": "execute_result",
          "data": {
            "text/plain": [
              "10"
            ]
          },
          "metadata": {},
          "execution_count": 82
        }
      ]
    },
    {
      "cell_type": "markdown",
      "source": [
        "### *Casas*"
      ],
      "metadata": {
        "id": "f5RXmtk2Q3ps"
      }
    },
    {
      "cell_type": "code",
      "source": [
        "len(df_casas_leste)"
      ],
      "metadata": {
        "colab": {
          "base_uri": "https://localhost:8080/"
        },
        "outputId": "1bde4bef-668f-4932-9982-569f1beb2430",
        "id": "HvFClgWqQ3pt"
      },
      "execution_count": 83,
      "outputs": [
        {
          "output_type": "execute_result",
          "data": {
            "text/plain": [
              "5"
            ]
          },
          "metadata": {},
          "execution_count": 83
        }
      ]
    },
    {
      "cell_type": "code",
      "source": [
        "media_casas_leste = df_casas_leste[\"qtde_vagas\"].mean()\n",
        "moda_casas_leste = df_casas_leste[\"qtde_vagas\"].mode()\n",
        "mediana_casas_leste = df_casas_leste[\"qtde_vagas\"].median()\n",
        "desvio_padrao_casas_leste = df_casas_leste[\"qtde_vagas\"].std()\n",
        "coeficiente_de_variacao_casas_leste = desvio_padrao_casas_leste/media_casas_leste\n",
        "coeficiente_porcentagem_casas_leste = coeficiente_de_variacao_casas_leste * 100"
      ],
      "metadata": {
        "id": "hbnPdjZXQ3pu"
      },
      "execution_count": 84,
      "outputs": []
    },
    {
      "cell_type": "code",
      "source": [
        "print(f'Média: {media_casas_leste:.2f}')\n",
        "print(f'Mediana: {mediana_casas_leste:.0f}')\n",
        "print(f'Moda: {moda_casas_leste.values}')\n",
        "print(f'Desvio Padrão: {desvio_padrao_casas_leste:.2f}')\n",
        "print(f'Coeficiente de Variação: {coeficiente_porcentagem_casas_leste:.2f}%')"
      ],
      "metadata": {
        "colab": {
          "base_uri": "https://localhost:8080/"
        },
        "outputId": "d9553333-8a10-4bf6-9b64-9876aa24c0ab",
        "id": "r0vX4WlwQ3pu"
      },
      "execution_count": 85,
      "outputs": [
        {
          "output_type": "stream",
          "name": "stdout",
          "text": [
            "Média: 2.60\n",
            "Mediana: 3\n",
            "Moda: [3]\n",
            "Desvio Padrão: 0.55\n",
            "Coeficiente de Variação: 21.07%\n"
          ]
        }
      ]
    },
    {
      "cell_type": "markdown",
      "source": [
        "### *Apartamentos*"
      ],
      "metadata": {
        "id": "z8zuqDfpQ3pv"
      }
    },
    {
      "cell_type": "code",
      "source": [
        "len(df_apartamentos_leste)"
      ],
      "metadata": {
        "colab": {
          "base_uri": "https://localhost:8080/"
        },
        "outputId": "f1f0e898-54e9-4d07-9ee3-3ae40bcf7392",
        "id": "LSUEIrg4Q3pw"
      },
      "execution_count": 89,
      "outputs": [
        {
          "output_type": "execute_result",
          "data": {
            "text/plain": [
              "5"
            ]
          },
          "metadata": {},
          "execution_count": 89
        }
      ]
    },
    {
      "cell_type": "code",
      "source": [
        "media_apartamentos_leste = df_apartamentos_leste[\"qtde_vagas\"].mean()\n",
        "moda_apartamentos_leste = df_apartamentos_leste[\"qtde_vagas\"].mode()\n",
        "mediana_apartamentos_leste = df_apartamentos_leste[\"qtde_vagas\"].median()\n",
        "desvio_padrao_apartamentos_leste = df_apartamentos_leste[\"qtde_vagas\"].std()\n",
        "coeficiente_de_variacao_apartamentos_leste = desvio_padrao_apartamentos_leste/media_apartamentos_leste\n",
        "coeficiente_porcentagem_apartamentos_leste = coeficiente_de_variacao_apartamentos_leste * 100"
      ],
      "metadata": {
        "id": "jMrFOlL2Q3pw"
      },
      "execution_count": 88,
      "outputs": []
    },
    {
      "cell_type": "code",
      "source": [
        "print(f'Média: {media_apartamentos_leste:.2f}')\n",
        "print(f'Mediana: {mediana_apartamentos_leste:.0f}')\n",
        "print(f'Moda: {moda_apartamentos_leste}')\n",
        "print(f'Desvio Padrão: {desvio_padrao_apartamentos_leste:.2f}%')\n",
        "print(f'Coeficiente de Variação: {coeficiente_porcentagem_apartamentos_leste:.2f}%')"
      ],
      "metadata": {
        "colab": {
          "base_uri": "https://localhost:8080/"
        },
        "outputId": "0a8f45de-beda-4258-8d6b-23817d30bb26",
        "id": "dZHy-0dlQ3px"
      },
      "execution_count": 90,
      "outputs": [
        {
          "output_type": "stream",
          "name": "stdout",
          "text": [
            "Média: 1.00\n",
            "Mediana: 1\n",
            "Moda: 0    1\n",
            "dtype: int64\n",
            "Desvio Padrão: 0.00%\n",
            "Coeficiente de Variação: 0.00%\n"
          ]
        }
      ]
    },
    {
      "cell_type": "markdown",
      "source": [
        "### *Geral*"
      ],
      "metadata": {
        "id": "PBaCrF-3Q3py"
      }
    },
    {
      "cell_type": "code",
      "source": [
        "media_leste = df_leste[\"qtde_vagas\"].mean()\n",
        "moda_leste = df_leste[\"qtde_vagas\"].mode()\n",
        "mediana_leste = df_leste[\"qtde_vagas\"].median()\n",
        "desvio_padrao_leste = df_leste[\"qtde_vagas\"].std()\n",
        "coeficiente_de_variacao_leste = desvio_padrao_leste/media_leste\n",
        "coeficiente_porcentagem_leste = coeficiente_de_variacao_leste * 100"
      ],
      "metadata": {
        "id": "FDJP-U7CQ3pz"
      },
      "execution_count": 91,
      "outputs": []
    },
    {
      "cell_type": "code",
      "source": [
        "print(f'Média: {media_leste:.2f}')\n",
        "print(f'Mediana: {mediana_leste:.0f}')\n",
        "print(f'Moda: {moda_leste.values}')\n",
        "print(f'Desvio Padrão: {desvio_padrao_leste:.2f}')\n",
        "print(f'Coeficiente de Variação: {coeficiente_porcentagem_leste:.2f}%')"
      ],
      "metadata": {
        "colab": {
          "base_uri": "https://localhost:8080/"
        },
        "outputId": "613bf46d-3d38-436b-b834-60a2a2fdf819",
        "id": "dAQeWCyjQ3pz"
      },
      "execution_count": 92,
      "outputs": [
        {
          "output_type": "stream",
          "name": "stdout",
          "text": [
            "Média: 1.80\n",
            "Mediana: 2\n",
            "Moda: [1]\n",
            "Desvio Padrão: 0.92\n",
            "Coeficiente de Variação: 51.05%\n"
          ]
        }
      ]
    },
    {
      "cell_type": "markdown",
      "source": [
        "## Região Oeste"
      ],
      "metadata": {
        "id": "ea7YUhTLQ3p0"
      }
    },
    {
      "cell_type": "code",
      "source": [
        "len(df_oeste)"
      ],
      "metadata": {
        "colab": {
          "base_uri": "https://localhost:8080/"
        },
        "outputId": "d33256d1-584e-4979-e719-9ab49e1f39dd",
        "id": "2hC3GWmTQ3p1"
      },
      "execution_count": 93,
      "outputs": [
        {
          "output_type": "execute_result",
          "data": {
            "text/plain": [
              "128"
            ]
          },
          "metadata": {},
          "execution_count": 93
        }
      ]
    },
    {
      "cell_type": "markdown",
      "source": [
        "### *Geral*"
      ],
      "metadata": {
        "id": "8Py6M-VoQ3p1"
      }
    },
    {
      "cell_type": "code",
      "source": [
        "media_oeste = df_oeste[\"qtde_vagas\"].mean()\n",
        "moda_oeste = df_oeste[\"qtde_vagas\"].mode()\n",
        "mediana_oeste = df_oeste[\"qtde_vagas\"].median()\n",
        "desvio_padrao_oeste = df_oeste[\"qtde_vagas\"].std()\n",
        "coeficiente_de_variacao_oeste = desvio_padrao_oeste/media_oeste\n",
        "coeficiente_porcentagem_oeste = coeficiente_de_variacao_oeste * 100"
      ],
      "metadata": {
        "id": "eeWxXCZGQ3p2"
      },
      "execution_count": 94,
      "outputs": []
    },
    {
      "cell_type": "code",
      "source": [
        "print(f'Média: {media_oeste:.2f}')\n",
        "print(f'Mediana: {mediana_oeste:.0f}')\n",
        "print(f'Moda: {moda_oeste.values}')\n",
        "print(f'Desvio Padrão: {desvio_padrao_oeste:.2f}')\n",
        "print(f'Coeficiente de Variação: {coeficiente_porcentagem_oeste:.2f}%')"
      ],
      "metadata": {
        "colab": {
          "base_uri": "https://localhost:8080/"
        },
        "outputId": "24d23c77-0546-4eb1-9614-3b02ca3e2eb7",
        "id": "r6aYWbcTQ3p3"
      },
      "execution_count": 95,
      "outputs": [
        {
          "output_type": "stream",
          "name": "stdout",
          "text": [
            "Média: 2.67\n",
            "Mediana: 2\n",
            "Moda: [2]\n",
            "Desvio Padrão: 1.45\n",
            "Coeficiente de Variação: 54.39%\n"
          ]
        }
      ]
    },
    {
      "cell_type": "markdown",
      "source": [
        "### *Casas*"
      ],
      "metadata": {
        "id": "lC4Fo4xvQ3p3"
      }
    },
    {
      "cell_type": "code",
      "source": [
        "len(df_casas_oeste)"
      ],
      "metadata": {
        "colab": {
          "base_uri": "https://localhost:8080/"
        },
        "outputId": "debba354-714b-4b5e-a5f6-1f8a73f05995",
        "id": "NFwaFnxiQ3p4"
      },
      "execution_count": 96,
      "outputs": [
        {
          "output_type": "execute_result",
          "data": {
            "text/plain": [
              "78"
            ]
          },
          "metadata": {},
          "execution_count": 96
        }
      ]
    },
    {
      "cell_type": "code",
      "source": [
        "media_casas_oeste = df_casas_oeste[\"qtde_vagas\"].mean()\n",
        "moda_casas_oeste = df_casas_oeste[\"qtde_vagas\"].mode()\n",
        "mediana_casas_oeste = df_casas_oeste[\"qtde_vagas\"].median()\n",
        "desvio_padrao_casas_oeste = df_casas_oeste[\"qtde_vagas\"].std()\n",
        "coeficiente_de_variacao_casas_oeste = desvio_padrao_casas_oeste/media_casas_oeste\n",
        "coeficiente_porcentagem_casas_oeste = coeficiente_de_variacao_casas_oeste * 100"
      ],
      "metadata": {
        "id": "rlFlf3ceQ3p5"
      },
      "execution_count": 97,
      "outputs": []
    },
    {
      "cell_type": "code",
      "source": [
        "print(f'Média: {media_casas_oeste:.2f}')\n",
        "print(f'Mediana: {mediana_casas_oeste:.0f}')\n",
        "print(f'Moda: {moda_casas_oeste.values}')\n",
        "print(f'Desvio Padrão: {desvio_padrao_casas_oeste:.2f}')\n",
        "print(f'Coeficiente de Variação: {coeficiente_porcentagem_casas_oeste:.2f}%')"
      ],
      "metadata": {
        "colab": {
          "base_uri": "https://localhost:8080/"
        },
        "outputId": "9ac09239-92e3-403a-e56b-ab8546e53ed2",
        "id": "Fjh19iZEQ3p8"
      },
      "execution_count": 99,
      "outputs": [
        {
          "output_type": "stream",
          "name": "stdout",
          "text": [
            "Média: 3.31\n",
            "Mediana: 4\n",
            "Moda: [4]\n",
            "Desvio Padrão: 1.38\n",
            "Coeficiente de Variação: 41.72%\n"
          ]
        }
      ]
    },
    {
      "cell_type": "markdown",
      "source": [
        "### *Apartamentos*"
      ],
      "metadata": {
        "id": "HwwMaed2Q3p9"
      }
    },
    {
      "cell_type": "code",
      "source": [
        "len(df_apartamentos_oeste)"
      ],
      "metadata": {
        "colab": {
          "base_uri": "https://localhost:8080/"
        },
        "outputId": "a3de8700-cd4d-4a6e-9a63-6f568cab28a5",
        "id": "EEFPLkwyQ3p9"
      },
      "execution_count": 100,
      "outputs": [
        {
          "output_type": "execute_result",
          "data": {
            "text/plain": [
              "50"
            ]
          },
          "metadata": {},
          "execution_count": 100
        }
      ]
    },
    {
      "cell_type": "code",
      "source": [
        "media_apartamentos_oeste = df_apartamentos_oeste[\"qtde_vagas\"].mean()\n",
        "moda_apartamentos_oeste = df_apartamentos_oeste[\"qtde_vagas\"].mode()\n",
        "mediana_apartamentos_oeste = df_apartamentos_oeste[\"qtde_vagas\"].median()\n",
        "desvio_padrao_apartamentos_oeste = df_apartamentos_oeste[\"qtde_vagas\"].std()\n",
        "coeficiente_de_variacao_apartamentos_oeste = desvio_padrao_apartamentos_oeste/media_apartamentos_oeste\n",
        "coeficiente_porcentagem_apartamentos_oeste = coeficiente_de_variacao_apartamentos_oeste * 100"
      ],
      "metadata": {
        "id": "CxH0hyUHQ3p-"
      },
      "execution_count": 101,
      "outputs": []
    },
    {
      "cell_type": "code",
      "source": [
        "print(f'Média: {media_apartamentos_oeste:.2f}')\n",
        "print(f'Mediana: {mediana_apartamentos_oeste:.0f}')\n",
        "print(f'Moda: {moda_apartamentos_oeste.values}')\n",
        "print(f'Desvio Padrão: {desvio_padrao_apartamentos_oeste:.2f}')\n",
        "print(f'Coeficiente de Variação: {coeficiente_porcentagem_apartamentos_oeste:.2f}%')"
      ],
      "metadata": {
        "colab": {
          "base_uri": "https://localhost:8080/"
        },
        "outputId": "eccfd18d-20ae-4e6f-b0ed-381db51f9af2",
        "id": "6iSlGU5oQ3p-"
      },
      "execution_count": 102,
      "outputs": [
        {
          "output_type": "stream",
          "name": "stdout",
          "text": [
            "Média: 1.68\n",
            "Mediana: 1\n",
            "Moda: [1]\n",
            "Desvio Padrão: 0.91\n",
            "Coeficiente de Variação: 54.37%\n"
          ]
        }
      ]
    },
    {
      "cell_type": "markdown",
      "source": [
        "## Região Centro Oeste"
      ],
      "metadata": {
        "id": "SkTWTKsJQ3p_"
      }
    },
    {
      "cell_type": "code",
      "source": [
        "len(df_co)"
      ],
      "metadata": {
        "colab": {
          "base_uri": "https://localhost:8080/"
        },
        "outputId": "a65aef55-9eae-42c0-a535-74d32d81af24",
        "id": "2N0AXe7gQ3p_"
      },
      "execution_count": 103,
      "outputs": [
        {
          "output_type": "execute_result",
          "data": {
            "text/plain": [
              "42"
            ]
          },
          "metadata": {},
          "execution_count": 103
        }
      ]
    },
    {
      "cell_type": "markdown",
      "source": [
        "### *Casas*"
      ],
      "metadata": {
        "id": "zb2iosY6Q3qA"
      }
    },
    {
      "cell_type": "code",
      "source": [
        "len(df_casas_co)"
      ],
      "metadata": {
        "colab": {
          "base_uri": "https://localhost:8080/"
        },
        "outputId": "90addc0c-96e4-48a3-fac4-94e1459e1b31",
        "id": "g6nfHlbPQ3qA"
      },
      "execution_count": 104,
      "outputs": [
        {
          "output_type": "execute_result",
          "data": {
            "text/plain": [
              "24"
            ]
          },
          "metadata": {},
          "execution_count": 104
        }
      ]
    },
    {
      "cell_type": "code",
      "source": [
        "media_casas_co = df_casas_co[\"qtde_vagas\"].mean()\n",
        "moda_casas_co = df_casas_co[\"qtde_vagas\"].mode()\n",
        "mediana_casas_co = df_casas_co[\"qtde_vagas\"].median()\n",
        "desvio_padrao_casas_co = df_casas_co[\"qtde_vagas\"].std()\n",
        "coeficiente_de_variacao_casas_co = desvio_padrao_casas_co/media_casas_co\n",
        "coeficiente_porcentagem_casas_co = coeficiente_de_variacao_casas_co * 100"
      ],
      "metadata": {
        "id": "RdXbv0moQ3qB"
      },
      "execution_count": 105,
      "outputs": []
    },
    {
      "cell_type": "code",
      "source": [
        "print(f'Média: {media_casas_co:.2f}')\n",
        "print(f'Mediana: {mediana_casas_co:.0f}')\n",
        "print(f'Moda: {moda_casas_co.values}')\n",
        "print(f'Desvio Padrão: {desvio_padrao_casas_co:.2f}')\n",
        "print(f'Coeficiente de Variação: {coeficiente_porcentagem_casas_co:.2f}%')"
      ],
      "metadata": {
        "colab": {
          "base_uri": "https://localhost:8080/"
        },
        "outputId": "4680d4f1-5fc2-4085-cbed-5da12c806a8b",
        "id": "roGTkG9EQ3qB"
      },
      "execution_count": 106,
      "outputs": [
        {
          "output_type": "stream",
          "name": "stdout",
          "text": [
            "Média: 2.67\n",
            "Mediana: 3\n",
            "Moda: [2 3]\n",
            "Desvio Padrão: 0.96\n",
            "Coeficiente de Variação: 36.12%\n"
          ]
        }
      ]
    },
    {
      "cell_type": "markdown",
      "source": [
        "### *Apartamentos*"
      ],
      "metadata": {
        "id": "n4_nGaHaQ3qC"
      }
    },
    {
      "cell_type": "code",
      "source": [
        "len(df_apartamentos_co)"
      ],
      "metadata": {
        "colab": {
          "base_uri": "https://localhost:8080/"
        },
        "outputId": "23c2f865-9eed-4a73-cee2-b1bd8678fb77",
        "id": "tlagHKd8Q3qC"
      },
      "execution_count": 107,
      "outputs": [
        {
          "output_type": "execute_result",
          "data": {
            "text/plain": [
              "18"
            ]
          },
          "metadata": {},
          "execution_count": 107
        }
      ]
    },
    {
      "cell_type": "code",
      "source": [
        "media_apartamentos_co = df_apartamentos_co[\"qtde_vagas\"].mean()\n",
        "moda_apartamentos_co = df_apartamentos_co[\"qtde_vagas\"].mode()\n",
        "mediana_apartamentos_co = df_apartamentos_co[\"qtde_vagas\"].median()\n",
        "desvio_padrao_apartamentos_co = df_apartamentos_co[\"qtde_vagas\"].std()\n",
        "coeficiente_de_variacao_apartamentos_co = desvio_padrao_apartamentos_co/media_apartamentos_co\n",
        "coeficiente_porcentagem_apartamentos_co = coeficiente_de_variacao_apartamentos_co * 100"
      ],
      "metadata": {
        "id": "Psau5cAFQ3qD"
      },
      "execution_count": 108,
      "outputs": []
    },
    {
      "cell_type": "code",
      "source": [
        "print(f'Média: {media_apartamentos_co:.2f}')\n",
        "print(f'Mediana: {mediana_apartamentos_co:.0f}')\n",
        "print(f'Moda: {moda_apartamentos_co.values}')\n",
        "print(f'Desvio Padrão: {desvio_padrao_apartamentos_co:.2f}')\n",
        "print(f'Coeficiente de Variação: {coeficiente_porcentagem_apartamentos_co:.2f}%')"
      ],
      "metadata": {
        "colab": {
          "base_uri": "https://localhost:8080/"
        },
        "outputId": "15a23c2e-6697-4608-a62f-880c1f5c6d8e",
        "id": "s7FS1_hWQ3qD"
      },
      "execution_count": 109,
      "outputs": [
        {
          "output_type": "stream",
          "name": "stdout",
          "text": [
            "Média: 1.39\n",
            "Mediana: 1\n",
            "Moda: [1]\n",
            "Desvio Padrão: 0.50\n",
            "Coeficiente de Variação: 36.12%\n"
          ]
        }
      ]
    },
    {
      "cell_type": "markdown",
      "source": [
        "### *Geral*"
      ],
      "metadata": {
        "id": "f1-tF2SWQ3qE"
      }
    },
    {
      "cell_type": "code",
      "source": [
        "media_co = df_co[\"qtde_vagas\"].mean()\n",
        "moda_co = df_co[\"qtde_vagas\"].mode()\n",
        "mediana_co = df_co[\"qtde_vagas\"].median()\n",
        "desvio_padrao_co = df_co[\"qtde_vagas\"].std()\n",
        "coeficiente_de_variacao_co = desvio_padrao_co/media_co\n",
        "coeficiente_porcentagem_co = coeficiente_de_variacao_co * 100"
      ],
      "metadata": {
        "id": "ifK3A_ymQ3qE"
      },
      "execution_count": 113,
      "outputs": []
    },
    {
      "cell_type": "code",
      "source": [
        "print(f'Média: {media_co:.2f}')\n",
        "print(f'Mediana: {mediana_co:.0f}')\n",
        "print(f'Moda: {moda_co.values}')\n",
        "print(f'Desvio Padrão: {desvio_padrao_co:.2f}')\n",
        "print(f'Coeficiente de Variação: {coeficiente_porcentagem_co:.2f}%')"
      ],
      "metadata": {
        "colab": {
          "base_uri": "https://localhost:8080/"
        },
        "outputId": "5e979dec-72b6-401f-d80c-3a859f019c4f",
        "id": "gNXbbcSEQ3qF"
      },
      "execution_count": 114,
      "outputs": [
        {
          "output_type": "stream",
          "name": "stdout",
          "text": [
            "Média: 2.12\n",
            "Mediana: 2\n",
            "Moda: [2]\n",
            "Desvio Padrão: 1.02\n",
            "Coeficiente de Variação: 47.99%\n"
          ]
        }
      ]
    },
    {
      "cell_type": "markdown",
      "source": [
        "## Região Centro-Sul"
      ],
      "metadata": {
        "id": "HZtCUEs4Q3qF"
      }
    },
    {
      "cell_type": "code",
      "source": [
        "len(df_cs)"
      ],
      "metadata": {
        "colab": {
          "base_uri": "https://localhost:8080/"
        },
        "outputId": "edaa0848-afb8-4372-f0ab-ac65a581b5c7",
        "id": "R1-nFH32Q3qG"
      },
      "execution_count": 115,
      "outputs": [
        {
          "output_type": "execute_result",
          "data": {
            "text/plain": [
              "122"
            ]
          },
          "metadata": {},
          "execution_count": 115
        }
      ]
    },
    {
      "cell_type": "markdown",
      "source": [
        "### *Casas*"
      ],
      "metadata": {
        "id": "QJrEF923Q3qG"
      }
    },
    {
      "cell_type": "code",
      "source": [
        "len(df_casas_cs)"
      ],
      "metadata": {
        "colab": {
          "base_uri": "https://localhost:8080/"
        },
        "outputId": "ea0cff0f-052e-4608-fd22-c7ce0cdd4bcc",
        "id": "1JBsLapPQ3qG"
      },
      "execution_count": 116,
      "outputs": [
        {
          "output_type": "execute_result",
          "data": {
            "text/plain": [
              "58"
            ]
          },
          "metadata": {},
          "execution_count": 116
        }
      ]
    },
    {
      "cell_type": "code",
      "source": [
        "media_casas_cs = df_casas_cs[\"qtde_vagas\"].mean()\n",
        "moda_casas_cs = df_casas_cs[\"qtde_vagas\"].mode()\n",
        "mediana_casas_cs = df_casas_cs[\"qtde_vagas\"].median()\n",
        "desvio_padrao_casas_cs = df_casas_cs[\"qtde_vagas\"].std()\n",
        "coeficiente_de_variacao_casas_cs = desvio_padrao_casas_cs/media_casas_cs\n",
        "coeficiente_porcentagem_casas_cs = coeficiente_de_variacao_casas_cs * 100"
      ],
      "metadata": {
        "id": "V3oPYMHVQ3qH"
      },
      "execution_count": 117,
      "outputs": []
    },
    {
      "cell_type": "code",
      "source": [
        "print(f'Média: {media_casas_cs:.2f}')\n",
        "print(f'Mediana: {mediana_casas_cs:.0f}')\n",
        "print(f'Moda: {moda_casas_cs.values}')\n",
        "print(f'Desvio Padrão: {desvio_padrao_casas_cs:.2f}')\n",
        "print(f'Coeficiente de Variação: {coeficiente_porcentagem_casas_cs:.2f}%')"
      ],
      "metadata": {
        "colab": {
          "base_uri": "https://localhost:8080/"
        },
        "outputId": "ea116648-7f66-4dd2-a605-286e736c01c7",
        "id": "vIn3b4jxQ3qH"
      },
      "execution_count": 118,
      "outputs": [
        {
          "output_type": "stream",
          "name": "stdout",
          "text": [
            "Média: 2.79\n",
            "Mediana: 2\n",
            "Moda: [2]\n",
            "Desvio Padrão: 1.17\n",
            "Coeficiente de Variação: 41.75%\n"
          ]
        }
      ]
    },
    {
      "cell_type": "markdown",
      "source": [
        "### *Apartamentos*"
      ],
      "metadata": {
        "id": "q2fJs-JfQ3qI"
      }
    },
    {
      "cell_type": "code",
      "source": [
        "len(df_apartamentos_cs)"
      ],
      "metadata": {
        "colab": {
          "base_uri": "https://localhost:8080/"
        },
        "outputId": "a1bf7443-d039-4c65-9494-cbbedbfa42ca",
        "id": "F8oLnRGlQ3qJ"
      },
      "execution_count": 119,
      "outputs": [
        {
          "output_type": "execute_result",
          "data": {
            "text/plain": [
              "64"
            ]
          },
          "metadata": {},
          "execution_count": 119
        }
      ]
    },
    {
      "cell_type": "code",
      "source": [
        "media_apartamentos_cs = df_apartamentos_cs[\"qtde_vagas\"].mean()\n",
        "moda_apartamentos_cs = df_apartamentos_cs[\"qtde_vagas\"].mode()\n",
        "mediana_apartamentos_cs = df_apartamentos_cs[\"qtde_vagas\"].median()\n",
        "desvio_padrao_apartamentos_cs = df_apartamentos_cs[\"qtde_vagas\"].std()\n",
        "coeficiente_de_variacao_apartamentos_cs = desvio_padrao_apartamentos_cs/media_apartamentos_cs\n",
        "coeficiente_porcentagem_apartamentos_cs = coeficiente_de_variacao_apartamentos_cs * 100"
      ],
      "metadata": {
        "id": "OGgDEceYQ3qJ"
      },
      "execution_count": 120,
      "outputs": []
    },
    {
      "cell_type": "code",
      "source": [
        "print(f'Média: {media_apartamentos_cs:.2f}')\n",
        "print(f'Mediana: {mediana_apartamentos_cs:.0f}')\n",
        "print(f'Moda: {moda_apartamentos_cs.values}')\n",
        "print(f'Desvio Padrão: {desvio_padrao_apartamentos_cs:.2f}')\n",
        "print(f'Coeficiente de Variação: {coeficiente_porcentagem_apartamentos_cs:.2f}%')"
      ],
      "metadata": {
        "colab": {
          "base_uri": "https://localhost:8080/"
        },
        "outputId": "9ff1d3a0-477c-438a-b8fb-c04b945ae353",
        "id": "Y-I2WqeCQ3qK"
      },
      "execution_count": 121,
      "outputs": [
        {
          "output_type": "stream",
          "name": "stdout",
          "text": [
            "Média: 2.27\n",
            "Mediana: 2\n",
            "Moda: [2]\n",
            "Desvio Padrão: 1.13\n",
            "Coeficiente de Variação: 49.89%\n"
          ]
        }
      ]
    },
    {
      "cell_type": "markdown",
      "source": [
        "### *Geral*"
      ],
      "metadata": {
        "id": "6yrYm_6LQ3qK"
      }
    },
    {
      "cell_type": "code",
      "source": [
        "media_cs = df_cs[\"qtde_vagas\"].mean()\n",
        "moda_cs = df_cs[\"qtde_vagas\"].mode()\n",
        "mediana_cs = df_cs[\"qtde_vagas\"].median()\n",
        "desvio_padrao_cs = df_cs[\"qtde_vagas\"].std()\n",
        "coeficiente_de_variacao_cs = desvio_padrao_cs/media_cs\n",
        "coeficiente_porcentagem_cs = coeficiente_de_variacao_cs * 100"
      ],
      "metadata": {
        "id": "6hx0eT0ZQ3qL"
      },
      "execution_count": 123,
      "outputs": []
    },
    {
      "cell_type": "code",
      "source": [
        "print(f'Média: {media_cs:.2f}')\n",
        "print(f'Mediana: {mediana_cs:.0f}')\n",
        "print(f'Moda: {moda_cs.values}')\n",
        "print(f'Desvio Padrão: {desvio_padrao_cs:.2f}')\n",
        "print(f'Coeficiente de Variação: {coeficiente_porcentagem_cs:.2f}%')"
      ],
      "metadata": {
        "colab": {
          "base_uri": "https://localhost:8080/"
        },
        "outputId": "9b94a40d-a614-472f-98df-dd889af7a8e2",
        "id": "Vghfw_MzQ3qL"
      },
      "execution_count": 124,
      "outputs": [
        {
          "output_type": "stream",
          "name": "stdout",
          "text": [
            "Média: 2.52\n",
            "Mediana: 2\n",
            "Moda: [2]\n",
            "Desvio Padrão: 1.17\n",
            "Coeficiente de Variação: 46.61%\n"
          ]
        }
      ]
    },
    {
      "cell_type": "markdown",
      "source": [
        "# → ***Resultados: Quantidade de Vagas (Quantitativa)***\n",
        "\n",
        "---\n",
        "\n"
      ],
      "metadata": {
        "id": "HafskoE8Q3qM"
      }
    },
    {
      "cell_type": "markdown",
      "source": [
        "## Dados Gerais"
      ],
      "metadata": {
        "id": "0n4my-K7Q3qM"
      }
    },
    {
      "cell_type": "code",
      "source": [
        "df_resultados = pd.DataFrame([\n",
        "    (len(df_norte), f'{media_norte:.2f}', mediana_norte, moda_norte.values, f'{desvio_padrao_norte:.2f}', f'{coeficiente_porcentagem_norte:.2f}%'),\n",
        "    (len(df_sul), f'{media_sul:.2f}', mediana_sul, moda_sul.values, f'{desvio_padrao_sul:.2f}', f'{coeficiente_porcentagem_sul:.2f}%'),\n",
        "    (len(df_leste), f'{media_leste:.2f}', mediana_leste, moda_leste.values, f'{desvio_padrao_leste:.2f}', f'{coeficiente_porcentagem_leste:.2f}%'),\n",
        "    (len(df_oeste), f'{media_oeste:.2f}', mediana_oeste, moda_oeste.values, f'{desvio_padrao_oeste:.2f}', f'{coeficiente_porcentagem_oeste:.2f}%'),\n",
        "    (len(df_co), f'{media_co:.2f}', mediana_co, moda_co.values, f'{desvio_padrao_co:.2f}', f'{coeficiente_porcentagem_co:.2f}%'),\n",
        "    (len(df_cs), f'{media_cs:.2f}', mediana_cs, moda_cs.values, f'{desvio_padrao_cs:.2f}', f'{coeficiente_porcentagem_cs:.2f}%')],\n",
        "    index=('Zona Norte', 'Zona Sul', 'Zona Leste', 'Zona Oeste', 'Zona Centro Oeste', 'Zona Centro-Sul'),\n",
        "    columns=('Total Imóveis', 'Média', 'Mediana', 'Moda', 'Desvio Padrão', 'Coeficiente de Variação'))\n",
        "\n",
        "df_resultados"
      ],
      "metadata": {
        "colab": {
          "base_uri": "https://localhost:8080/",
          "height": 238
        },
        "outputId": "ec842f6a-7e80-4b07-aa4e-1de921402c0f",
        "id": "2Vgq_OvRQ3qN"
      },
      "execution_count": 127,
      "outputs": [
        {
          "output_type": "execute_result",
          "data": {
            "text/plain": [
              "                   Total Imóveis Média  Mediana Moda Desvio Padrão  \\\n",
              "Zona Norte                    73  2.38      2.0  [2]          1.14   \n",
              "Zona Sul                      15  2.13      1.0  [1]          1.36   \n",
              "Zona Leste                    10  1.80      1.5  [1]          0.92   \n",
              "Zona Oeste                   128  2.67      2.0  [2]          1.45   \n",
              "Zona Centro Oeste             42  2.12      2.0  [2]          1.02   \n",
              "Zona Centro-Sul              122  2.52      2.0  [2]          1.17   \n",
              "\n",
              "                  Coeficiente de Variação  \n",
              "Zona Norte                         47.75%  \n",
              "Zona Sul                           63.55%  \n",
              "Zona Leste                         51.05%  \n",
              "Zona Oeste                         54.39%  \n",
              "Zona Centro Oeste                  47.99%  \n",
              "Zona Centro-Sul                    46.61%  "
            ],
            "text/html": [
              "\n",
              "  <div id=\"df-3fd87c6d-9551-448d-b27c-aa2b2958c6f1\">\n",
              "    <div class=\"colab-df-container\">\n",
              "      <div>\n",
              "<style scoped>\n",
              "    .dataframe tbody tr th:only-of-type {\n",
              "        vertical-align: middle;\n",
              "    }\n",
              "\n",
              "    .dataframe tbody tr th {\n",
              "        vertical-align: top;\n",
              "    }\n",
              "\n",
              "    .dataframe thead th {\n",
              "        text-align: right;\n",
              "    }\n",
              "</style>\n",
              "<table border=\"1\" class=\"dataframe\">\n",
              "  <thead>\n",
              "    <tr style=\"text-align: right;\">\n",
              "      <th></th>\n",
              "      <th>Total Imóveis</th>\n",
              "      <th>Média</th>\n",
              "      <th>Mediana</th>\n",
              "      <th>Moda</th>\n",
              "      <th>Desvio Padrão</th>\n",
              "      <th>Coeficiente de Variação</th>\n",
              "    </tr>\n",
              "  </thead>\n",
              "  <tbody>\n",
              "    <tr>\n",
              "      <th>Zona Norte</th>\n",
              "      <td>73</td>\n",
              "      <td>2.38</td>\n",
              "      <td>2.0</td>\n",
              "      <td>[2]</td>\n",
              "      <td>1.14</td>\n",
              "      <td>47.75%</td>\n",
              "    </tr>\n",
              "    <tr>\n",
              "      <th>Zona Sul</th>\n",
              "      <td>15</td>\n",
              "      <td>2.13</td>\n",
              "      <td>1.0</td>\n",
              "      <td>[1]</td>\n",
              "      <td>1.36</td>\n",
              "      <td>63.55%</td>\n",
              "    </tr>\n",
              "    <tr>\n",
              "      <th>Zona Leste</th>\n",
              "      <td>10</td>\n",
              "      <td>1.80</td>\n",
              "      <td>1.5</td>\n",
              "      <td>[1]</td>\n",
              "      <td>0.92</td>\n",
              "      <td>51.05%</td>\n",
              "    </tr>\n",
              "    <tr>\n",
              "      <th>Zona Oeste</th>\n",
              "      <td>128</td>\n",
              "      <td>2.67</td>\n",
              "      <td>2.0</td>\n",
              "      <td>[2]</td>\n",
              "      <td>1.45</td>\n",
              "      <td>54.39%</td>\n",
              "    </tr>\n",
              "    <tr>\n",
              "      <th>Zona Centro Oeste</th>\n",
              "      <td>42</td>\n",
              "      <td>2.12</td>\n",
              "      <td>2.0</td>\n",
              "      <td>[2]</td>\n",
              "      <td>1.02</td>\n",
              "      <td>47.99%</td>\n",
              "    </tr>\n",
              "    <tr>\n",
              "      <th>Zona Centro-Sul</th>\n",
              "      <td>122</td>\n",
              "      <td>2.52</td>\n",
              "      <td>2.0</td>\n",
              "      <td>[2]</td>\n",
              "      <td>1.17</td>\n",
              "      <td>46.61%</td>\n",
              "    </tr>\n",
              "  </tbody>\n",
              "</table>\n",
              "</div>\n",
              "      <button class=\"colab-df-convert\" onclick=\"convertToInteractive('df-3fd87c6d-9551-448d-b27c-aa2b2958c6f1')\"\n",
              "              title=\"Convert this dataframe to an interactive table.\"\n",
              "              style=\"display:none;\">\n",
              "        \n",
              "  <svg xmlns=\"http://www.w3.org/2000/svg\" height=\"24px\"viewBox=\"0 0 24 24\"\n",
              "       width=\"24px\">\n",
              "    <path d=\"M0 0h24v24H0V0z\" fill=\"none\"/>\n",
              "    <path d=\"M18.56 5.44l.94 2.06.94-2.06 2.06-.94-2.06-.94-.94-2.06-.94 2.06-2.06.94zm-11 1L8.5 8.5l.94-2.06 2.06-.94-2.06-.94L8.5 2.5l-.94 2.06-2.06.94zm10 10l.94 2.06.94-2.06 2.06-.94-2.06-.94-.94-2.06-.94 2.06-2.06.94z\"/><path d=\"M17.41 7.96l-1.37-1.37c-.4-.4-.92-.59-1.43-.59-.52 0-1.04.2-1.43.59L10.3 9.45l-7.72 7.72c-.78.78-.78 2.05 0 2.83L4 21.41c.39.39.9.59 1.41.59.51 0 1.02-.2 1.41-.59l7.78-7.78 2.81-2.81c.8-.78.8-2.07 0-2.86zM5.41 20L4 18.59l7.72-7.72 1.47 1.35L5.41 20z\"/>\n",
              "  </svg>\n",
              "      </button>\n",
              "      \n",
              "  <style>\n",
              "    .colab-df-container {\n",
              "      display:flex;\n",
              "      flex-wrap:wrap;\n",
              "      gap: 12px;\n",
              "    }\n",
              "\n",
              "    .colab-df-convert {\n",
              "      background-color: #E8F0FE;\n",
              "      border: none;\n",
              "      border-radius: 50%;\n",
              "      cursor: pointer;\n",
              "      display: none;\n",
              "      fill: #1967D2;\n",
              "      height: 32px;\n",
              "      padding: 0 0 0 0;\n",
              "      width: 32px;\n",
              "    }\n",
              "\n",
              "    .colab-df-convert:hover {\n",
              "      background-color: #E2EBFA;\n",
              "      box-shadow: 0px 1px 2px rgba(60, 64, 67, 0.3), 0px 1px 3px 1px rgba(60, 64, 67, 0.15);\n",
              "      fill: #174EA6;\n",
              "    }\n",
              "\n",
              "    [theme=dark] .colab-df-convert {\n",
              "      background-color: #3B4455;\n",
              "      fill: #D2E3FC;\n",
              "    }\n",
              "\n",
              "    [theme=dark] .colab-df-convert:hover {\n",
              "      background-color: #434B5C;\n",
              "      box-shadow: 0px 1px 3px 1px rgba(0, 0, 0, 0.15);\n",
              "      filter: drop-shadow(0px 1px 2px rgba(0, 0, 0, 0.3));\n",
              "      fill: #FFFFFF;\n",
              "    }\n",
              "  </style>\n",
              "\n",
              "      <script>\n",
              "        const buttonEl =\n",
              "          document.querySelector('#df-3fd87c6d-9551-448d-b27c-aa2b2958c6f1 button.colab-df-convert');\n",
              "        buttonEl.style.display =\n",
              "          google.colab.kernel.accessAllowed ? 'block' : 'none';\n",
              "\n",
              "        async function convertToInteractive(key) {\n",
              "          const element = document.querySelector('#df-3fd87c6d-9551-448d-b27c-aa2b2958c6f1');\n",
              "          const dataTable =\n",
              "            await google.colab.kernel.invokeFunction('convertToInteractive',\n",
              "                                                     [key], {});\n",
              "          if (!dataTable) return;\n",
              "\n",
              "          const docLinkHtml = 'Like what you see? Visit the ' +\n",
              "            '<a target=\"_blank\" href=https://colab.research.google.com/notebooks/data_table.ipynb>data table notebook</a>'\n",
              "            + ' to learn more about interactive tables.';\n",
              "          element.innerHTML = '';\n",
              "          dataTable['output_type'] = 'display_data';\n",
              "          await google.colab.output.renderOutput(dataTable, element);\n",
              "          const docLink = document.createElement('div');\n",
              "          docLink.innerHTML = docLinkHtml;\n",
              "          element.appendChild(docLink);\n",
              "        }\n",
              "      </script>\n",
              "    </div>\n",
              "  </div>\n",
              "  "
            ]
          },
          "metadata": {},
          "execution_count": 127
        }
      ]
    },
    {
      "cell_type": "markdown",
      "source": [
        "## Casas"
      ],
      "metadata": {
        "id": "7pyqC_thQ3qN"
      }
    },
    {
      "cell_type": "code",
      "source": [
        "df_resultados_casas = pd.DataFrame([\n",
        "    (len(df_casas_norte), f'{media_casas_norte:.2f}', mediana_casas_norte, moda_casas_norte.values, f'{desvio_padrao_casas_norte:.2f}', f'{coeficiente_porcentagem_casas_norte:.2f}%'),\n",
        "    (len(df_casas_sul), f'{media_casas_sul:.2f}', mediana_casas_sul, moda_casas_sul.values, f'{desvio_padrao_casas_sul:.2f}', f'{coeficiente_porcentagem_casas_sul:.2f}%'),\n",
        "    (len(df_casas_leste), f'{media_casas_leste:.2f}', mediana_casas_leste, moda_casas_leste.values, f'{desvio_padrao_casas_leste:.2f}', f'{coeficiente_porcentagem_casas_leste:.2f}%'),\n",
        "    (len(df_casas_oeste), f'{media_casas_oeste:.2f}', mediana_casas_oeste, moda_casas_oeste.values, f'{desvio_padrao_casas_oeste:.2f}', f'{coeficiente_porcentagem_casas_oeste:.2f}%'),\n",
        "    (len(df_casas_co), f'{media_casas_co:.2f}', mediana_casas_co, moda_casas_co.values, f'{desvio_padrao_casas_co:.2f}', f'{coeficiente_porcentagem_casas_co:.2f}%'),\n",
        "    (len(df_casas_cs), f'{media_casas_cs:.2f}', mediana_casas_cs, moda_casas_cs.values, f'{desvio_padrao_casas_cs:.2f}', f'{coeficiente_porcentagem_casas_cs:.2f}%')],\n",
        "    index=('Zona Norte', 'Zona Sul', 'Zona Leste', 'Zona Oeste', 'Zona Centro Oeste', 'Zona Centro-Sul'),\n",
        "    columns=('Total Imóveis', 'Média', 'Mediana', 'Moda', 'Desvio Padrão', 'Coeficiente de Variação'))\n",
        "\n",
        "df_resultados_casas"
      ],
      "metadata": {
        "colab": {
          "base_uri": "https://localhost:8080/",
          "height": 238
        },
        "outputId": "8a3bc0dd-8159-426d-f666-fd5d60c1c412",
        "id": "Ryy7B6L-Q3qO"
      },
      "execution_count": 129,
      "outputs": [
        {
          "output_type": "execute_result",
          "data": {
            "text/plain": [
              "                   Total Imóveis Média  Mediana    Moda Desvio Padrão  \\\n",
              "Zona Norte                    62  2.58      2.0     [2]          1.09   \n",
              "Zona Sul                      10  2.50      3.0  [1, 3]          1.43   \n",
              "Zona Leste                     5  2.60      3.0     [3]          0.55   \n",
              "Zona Oeste                    78  3.31      4.0     [4]          1.38   \n",
              "Zona Centro Oeste             24  2.67      3.0  [2, 3]          0.96   \n",
              "Zona Centro-Sul               58  2.79      2.0     [2]          1.17   \n",
              "\n",
              "                  Coeficiente de Variação  \n",
              "Zona Norte                         42.42%  \n",
              "Zona Sul                           49.82%  \n",
              "Zona Leste                         21.07%  \n",
              "Zona Oeste                         41.72%  \n",
              "Zona Centro Oeste                  36.12%  \n",
              "Zona Centro-Sul                    41.75%  "
            ],
            "text/html": [
              "\n",
              "  <div id=\"df-a140adc1-7e22-4a35-99ee-40073d7934f0\">\n",
              "    <div class=\"colab-df-container\">\n",
              "      <div>\n",
              "<style scoped>\n",
              "    .dataframe tbody tr th:only-of-type {\n",
              "        vertical-align: middle;\n",
              "    }\n",
              "\n",
              "    .dataframe tbody tr th {\n",
              "        vertical-align: top;\n",
              "    }\n",
              "\n",
              "    .dataframe thead th {\n",
              "        text-align: right;\n",
              "    }\n",
              "</style>\n",
              "<table border=\"1\" class=\"dataframe\">\n",
              "  <thead>\n",
              "    <tr style=\"text-align: right;\">\n",
              "      <th></th>\n",
              "      <th>Total Imóveis</th>\n",
              "      <th>Média</th>\n",
              "      <th>Mediana</th>\n",
              "      <th>Moda</th>\n",
              "      <th>Desvio Padrão</th>\n",
              "      <th>Coeficiente de Variação</th>\n",
              "    </tr>\n",
              "  </thead>\n",
              "  <tbody>\n",
              "    <tr>\n",
              "      <th>Zona Norte</th>\n",
              "      <td>62</td>\n",
              "      <td>2.58</td>\n",
              "      <td>2.0</td>\n",
              "      <td>[2]</td>\n",
              "      <td>1.09</td>\n",
              "      <td>42.42%</td>\n",
              "    </tr>\n",
              "    <tr>\n",
              "      <th>Zona Sul</th>\n",
              "      <td>10</td>\n",
              "      <td>2.50</td>\n",
              "      <td>3.0</td>\n",
              "      <td>[1, 3]</td>\n",
              "      <td>1.43</td>\n",
              "      <td>49.82%</td>\n",
              "    </tr>\n",
              "    <tr>\n",
              "      <th>Zona Leste</th>\n",
              "      <td>5</td>\n",
              "      <td>2.60</td>\n",
              "      <td>3.0</td>\n",
              "      <td>[3]</td>\n",
              "      <td>0.55</td>\n",
              "      <td>21.07%</td>\n",
              "    </tr>\n",
              "    <tr>\n",
              "      <th>Zona Oeste</th>\n",
              "      <td>78</td>\n",
              "      <td>3.31</td>\n",
              "      <td>4.0</td>\n",
              "      <td>[4]</td>\n",
              "      <td>1.38</td>\n",
              "      <td>41.72%</td>\n",
              "    </tr>\n",
              "    <tr>\n",
              "      <th>Zona Centro Oeste</th>\n",
              "      <td>24</td>\n",
              "      <td>2.67</td>\n",
              "      <td>3.0</td>\n",
              "      <td>[2, 3]</td>\n",
              "      <td>0.96</td>\n",
              "      <td>36.12%</td>\n",
              "    </tr>\n",
              "    <tr>\n",
              "      <th>Zona Centro-Sul</th>\n",
              "      <td>58</td>\n",
              "      <td>2.79</td>\n",
              "      <td>2.0</td>\n",
              "      <td>[2]</td>\n",
              "      <td>1.17</td>\n",
              "      <td>41.75%</td>\n",
              "    </tr>\n",
              "  </tbody>\n",
              "</table>\n",
              "</div>\n",
              "      <button class=\"colab-df-convert\" onclick=\"convertToInteractive('df-a140adc1-7e22-4a35-99ee-40073d7934f0')\"\n",
              "              title=\"Convert this dataframe to an interactive table.\"\n",
              "              style=\"display:none;\">\n",
              "        \n",
              "  <svg xmlns=\"http://www.w3.org/2000/svg\" height=\"24px\"viewBox=\"0 0 24 24\"\n",
              "       width=\"24px\">\n",
              "    <path d=\"M0 0h24v24H0V0z\" fill=\"none\"/>\n",
              "    <path d=\"M18.56 5.44l.94 2.06.94-2.06 2.06-.94-2.06-.94-.94-2.06-.94 2.06-2.06.94zm-11 1L8.5 8.5l.94-2.06 2.06-.94-2.06-.94L8.5 2.5l-.94 2.06-2.06.94zm10 10l.94 2.06.94-2.06 2.06-.94-2.06-.94-.94-2.06-.94 2.06-2.06.94z\"/><path d=\"M17.41 7.96l-1.37-1.37c-.4-.4-.92-.59-1.43-.59-.52 0-1.04.2-1.43.59L10.3 9.45l-7.72 7.72c-.78.78-.78 2.05 0 2.83L4 21.41c.39.39.9.59 1.41.59.51 0 1.02-.2 1.41-.59l7.78-7.78 2.81-2.81c.8-.78.8-2.07 0-2.86zM5.41 20L4 18.59l7.72-7.72 1.47 1.35L5.41 20z\"/>\n",
              "  </svg>\n",
              "      </button>\n",
              "      \n",
              "  <style>\n",
              "    .colab-df-container {\n",
              "      display:flex;\n",
              "      flex-wrap:wrap;\n",
              "      gap: 12px;\n",
              "    }\n",
              "\n",
              "    .colab-df-convert {\n",
              "      background-color: #E8F0FE;\n",
              "      border: none;\n",
              "      border-radius: 50%;\n",
              "      cursor: pointer;\n",
              "      display: none;\n",
              "      fill: #1967D2;\n",
              "      height: 32px;\n",
              "      padding: 0 0 0 0;\n",
              "      width: 32px;\n",
              "    }\n",
              "\n",
              "    .colab-df-convert:hover {\n",
              "      background-color: #E2EBFA;\n",
              "      box-shadow: 0px 1px 2px rgba(60, 64, 67, 0.3), 0px 1px 3px 1px rgba(60, 64, 67, 0.15);\n",
              "      fill: #174EA6;\n",
              "    }\n",
              "\n",
              "    [theme=dark] .colab-df-convert {\n",
              "      background-color: #3B4455;\n",
              "      fill: #D2E3FC;\n",
              "    }\n",
              "\n",
              "    [theme=dark] .colab-df-convert:hover {\n",
              "      background-color: #434B5C;\n",
              "      box-shadow: 0px 1px 3px 1px rgba(0, 0, 0, 0.15);\n",
              "      filter: drop-shadow(0px 1px 2px rgba(0, 0, 0, 0.3));\n",
              "      fill: #FFFFFF;\n",
              "    }\n",
              "  </style>\n",
              "\n",
              "      <script>\n",
              "        const buttonEl =\n",
              "          document.querySelector('#df-a140adc1-7e22-4a35-99ee-40073d7934f0 button.colab-df-convert');\n",
              "        buttonEl.style.display =\n",
              "          google.colab.kernel.accessAllowed ? 'block' : 'none';\n",
              "\n",
              "        async function convertToInteractive(key) {\n",
              "          const element = document.querySelector('#df-a140adc1-7e22-4a35-99ee-40073d7934f0');\n",
              "          const dataTable =\n",
              "            await google.colab.kernel.invokeFunction('convertToInteractive',\n",
              "                                                     [key], {});\n",
              "          if (!dataTable) return;\n",
              "\n",
              "          const docLinkHtml = 'Like what you see? Visit the ' +\n",
              "            '<a target=\"_blank\" href=https://colab.research.google.com/notebooks/data_table.ipynb>data table notebook</a>'\n",
              "            + ' to learn more about interactive tables.';\n",
              "          element.innerHTML = '';\n",
              "          dataTable['output_type'] = 'display_data';\n",
              "          await google.colab.output.renderOutput(dataTable, element);\n",
              "          const docLink = document.createElement('div');\n",
              "          docLink.innerHTML = docLinkHtml;\n",
              "          element.appendChild(docLink);\n",
              "        }\n",
              "      </script>\n",
              "    </div>\n",
              "  </div>\n",
              "  "
            ]
          },
          "metadata": {},
          "execution_count": 129
        }
      ]
    },
    {
      "cell_type": "markdown",
      "source": [
        "## Apartamentos"
      ],
      "metadata": {
        "id": "6ZC1RcixQ3qP"
      }
    },
    {
      "cell_type": "code",
      "source": [
        "df_resultados_apartamentos = pd.DataFrame([\n",
        "    (len(df_apartamentos_sul), f'{media_apartamentos_norte:.2f}', mediana_apartamentos_norte, moda_apartamentos_norte.values, f'{desvio_padrao_apartamentos_norte:.2f}', f'{coeficiente_porcentagem_apartamentos_norte:.2f}%'),\n",
        "    (len(df_apartamentos_sul), f'{media_apartamentos_sul:.2f}', mediana_apartamentos_sul, moda_apartamentos_sul.values, f'{desvio_padrao_apartamentos_sul:.2f}', f'{coeficiente_porcentagem_apartamentos_sul:.2f}%'),\n",
        "    (len(df_apartamentos_leste), f'{media_apartamentos_leste:.2f}', mediana_apartamentos_leste, moda_apartamentos_leste.values, f'{desvio_padrao_apartamentos_leste:.2f}', f'{coeficiente_porcentagem_apartamentos_leste:.2f}%'),\n",
        "    (len(df_apartamentos_oeste), f'{media_apartamentos_oeste:.2f}', mediana_apartamentos_oeste, moda_apartamentos_oeste.values, f'{desvio_padrao_apartamentos_oeste:.2f}', f'{coeficiente_porcentagem_apartamentos_oeste:.2f}%'),\n",
        "    (len(df_apartamentos_co), f'{media_apartamentos_co:.2f}', mediana_apartamentos_co, moda_apartamentos_co.values, f'{desvio_padrao_apartamentos_co:.2f}', f'{coeficiente_porcentagem_apartamentos_co:.2f}%'),\n",
        "    (len(df_apartamentos_cs), f'{media_apartamentos_cs:.2f}', mediana_apartamentos_cs, moda_apartamentos_cs.values, f'{desvio_padrao_apartamentos_cs:.2f}', f'{coeficiente_porcentagem_apartamentos_cs:.2f}%')],\n",
        "    index=('Zona Norte', 'Zona Sul', 'Zona Leste', 'Zona Oeste', 'Zona Centro Oeste', 'Zona Centro-Sul'),\n",
        "    columns=('Total Imóveis', 'Média', 'Mediana', 'Moda', 'Desvio Padrão', 'Coeficiente de Variação'))\n",
        "\n",
        "df_resultados_apartamentos"
      ],
      "metadata": {
        "colab": {
          "base_uri": "https://localhost:8080/",
          "height": 238
        },
        "outputId": "2e5119f5-8617-48ff-8709-18be5d79aa51",
        "id": "RTkmGw5kQ3qS"
      },
      "execution_count": 130,
      "outputs": [
        {
          "output_type": "execute_result",
          "data": {
            "text/plain": [
              "                   Total Imóveis Média  Mediana Moda Desvio Padrão  \\\n",
              "Zona Norte                     5  1.27      1.0  [1]          0.65   \n",
              "Zona Sul                       5  1.40      1.0  [1]          0.89   \n",
              "Zona Leste                     5  1.00      1.0  [1]          0.00   \n",
              "Zona Oeste                    50  1.68      1.0  [1]          0.91   \n",
              "Zona Centro Oeste             18  1.39      1.0  [1]          0.50   \n",
              "Zona Centro-Sul               64  2.27      2.0  [2]          1.13   \n",
              "\n",
              "                  Coeficiente de Variação  \n",
              "Zona Norte                         50.81%  \n",
              "Zona Sul                           63.89%  \n",
              "Zona Leste                          0.00%  \n",
              "Zona Oeste                         54.37%  \n",
              "Zona Centro Oeste                  36.12%  \n",
              "Zona Centro-Sul                    49.89%  "
            ],
            "text/html": [
              "\n",
              "  <div id=\"df-18524621-d337-4cc5-b762-decc213bc844\">\n",
              "    <div class=\"colab-df-container\">\n",
              "      <div>\n",
              "<style scoped>\n",
              "    .dataframe tbody tr th:only-of-type {\n",
              "        vertical-align: middle;\n",
              "    }\n",
              "\n",
              "    .dataframe tbody tr th {\n",
              "        vertical-align: top;\n",
              "    }\n",
              "\n",
              "    .dataframe thead th {\n",
              "        text-align: right;\n",
              "    }\n",
              "</style>\n",
              "<table border=\"1\" class=\"dataframe\">\n",
              "  <thead>\n",
              "    <tr style=\"text-align: right;\">\n",
              "      <th></th>\n",
              "      <th>Total Imóveis</th>\n",
              "      <th>Média</th>\n",
              "      <th>Mediana</th>\n",
              "      <th>Moda</th>\n",
              "      <th>Desvio Padrão</th>\n",
              "      <th>Coeficiente de Variação</th>\n",
              "    </tr>\n",
              "  </thead>\n",
              "  <tbody>\n",
              "    <tr>\n",
              "      <th>Zona Norte</th>\n",
              "      <td>5</td>\n",
              "      <td>1.27</td>\n",
              "      <td>1.0</td>\n",
              "      <td>[1]</td>\n",
              "      <td>0.65</td>\n",
              "      <td>50.81%</td>\n",
              "    </tr>\n",
              "    <tr>\n",
              "      <th>Zona Sul</th>\n",
              "      <td>5</td>\n",
              "      <td>1.40</td>\n",
              "      <td>1.0</td>\n",
              "      <td>[1]</td>\n",
              "      <td>0.89</td>\n",
              "      <td>63.89%</td>\n",
              "    </tr>\n",
              "    <tr>\n",
              "      <th>Zona Leste</th>\n",
              "      <td>5</td>\n",
              "      <td>1.00</td>\n",
              "      <td>1.0</td>\n",
              "      <td>[1]</td>\n",
              "      <td>0.00</td>\n",
              "      <td>0.00%</td>\n",
              "    </tr>\n",
              "    <tr>\n",
              "      <th>Zona Oeste</th>\n",
              "      <td>50</td>\n",
              "      <td>1.68</td>\n",
              "      <td>1.0</td>\n",
              "      <td>[1]</td>\n",
              "      <td>0.91</td>\n",
              "      <td>54.37%</td>\n",
              "    </tr>\n",
              "    <tr>\n",
              "      <th>Zona Centro Oeste</th>\n",
              "      <td>18</td>\n",
              "      <td>1.39</td>\n",
              "      <td>1.0</td>\n",
              "      <td>[1]</td>\n",
              "      <td>0.50</td>\n",
              "      <td>36.12%</td>\n",
              "    </tr>\n",
              "    <tr>\n",
              "      <th>Zona Centro-Sul</th>\n",
              "      <td>64</td>\n",
              "      <td>2.27</td>\n",
              "      <td>2.0</td>\n",
              "      <td>[2]</td>\n",
              "      <td>1.13</td>\n",
              "      <td>49.89%</td>\n",
              "    </tr>\n",
              "  </tbody>\n",
              "</table>\n",
              "</div>\n",
              "      <button class=\"colab-df-convert\" onclick=\"convertToInteractive('df-18524621-d337-4cc5-b762-decc213bc844')\"\n",
              "              title=\"Convert this dataframe to an interactive table.\"\n",
              "              style=\"display:none;\">\n",
              "        \n",
              "  <svg xmlns=\"http://www.w3.org/2000/svg\" height=\"24px\"viewBox=\"0 0 24 24\"\n",
              "       width=\"24px\">\n",
              "    <path d=\"M0 0h24v24H0V0z\" fill=\"none\"/>\n",
              "    <path d=\"M18.56 5.44l.94 2.06.94-2.06 2.06-.94-2.06-.94-.94-2.06-.94 2.06-2.06.94zm-11 1L8.5 8.5l.94-2.06 2.06-.94-2.06-.94L8.5 2.5l-.94 2.06-2.06.94zm10 10l.94 2.06.94-2.06 2.06-.94-2.06-.94-.94-2.06-.94 2.06-2.06.94z\"/><path d=\"M17.41 7.96l-1.37-1.37c-.4-.4-.92-.59-1.43-.59-.52 0-1.04.2-1.43.59L10.3 9.45l-7.72 7.72c-.78.78-.78 2.05 0 2.83L4 21.41c.39.39.9.59 1.41.59.51 0 1.02-.2 1.41-.59l7.78-7.78 2.81-2.81c.8-.78.8-2.07 0-2.86zM5.41 20L4 18.59l7.72-7.72 1.47 1.35L5.41 20z\"/>\n",
              "  </svg>\n",
              "      </button>\n",
              "      \n",
              "  <style>\n",
              "    .colab-df-container {\n",
              "      display:flex;\n",
              "      flex-wrap:wrap;\n",
              "      gap: 12px;\n",
              "    }\n",
              "\n",
              "    .colab-df-convert {\n",
              "      background-color: #E8F0FE;\n",
              "      border: none;\n",
              "      border-radius: 50%;\n",
              "      cursor: pointer;\n",
              "      display: none;\n",
              "      fill: #1967D2;\n",
              "      height: 32px;\n",
              "      padding: 0 0 0 0;\n",
              "      width: 32px;\n",
              "    }\n",
              "\n",
              "    .colab-df-convert:hover {\n",
              "      background-color: #E2EBFA;\n",
              "      box-shadow: 0px 1px 2px rgba(60, 64, 67, 0.3), 0px 1px 3px 1px rgba(60, 64, 67, 0.15);\n",
              "      fill: #174EA6;\n",
              "    }\n",
              "\n",
              "    [theme=dark] .colab-df-convert {\n",
              "      background-color: #3B4455;\n",
              "      fill: #D2E3FC;\n",
              "    }\n",
              "\n",
              "    [theme=dark] .colab-df-convert:hover {\n",
              "      background-color: #434B5C;\n",
              "      box-shadow: 0px 1px 3px 1px rgba(0, 0, 0, 0.15);\n",
              "      filter: drop-shadow(0px 1px 2px rgba(0, 0, 0, 0.3));\n",
              "      fill: #FFFFFF;\n",
              "    }\n",
              "  </style>\n",
              "\n",
              "      <script>\n",
              "        const buttonEl =\n",
              "          document.querySelector('#df-18524621-d337-4cc5-b762-decc213bc844 button.colab-df-convert');\n",
              "        buttonEl.style.display =\n",
              "          google.colab.kernel.accessAllowed ? 'block' : 'none';\n",
              "\n",
              "        async function convertToInteractive(key) {\n",
              "          const element = document.querySelector('#df-18524621-d337-4cc5-b762-decc213bc844');\n",
              "          const dataTable =\n",
              "            await google.colab.kernel.invokeFunction('convertToInteractive',\n",
              "                                                     [key], {});\n",
              "          if (!dataTable) return;\n",
              "\n",
              "          const docLinkHtml = 'Like what you see? Visit the ' +\n",
              "            '<a target=\"_blank\" href=https://colab.research.google.com/notebooks/data_table.ipynb>data table notebook</a>'\n",
              "            + ' to learn more about interactive tables.';\n",
              "          element.innerHTML = '';\n",
              "          dataTable['output_type'] = 'display_data';\n",
              "          await google.colab.output.renderOutput(dataTable, element);\n",
              "          const docLink = document.createElement('div');\n",
              "          docLink.innerHTML = docLinkHtml;\n",
              "          element.appendChild(docLink);\n",
              "        }\n",
              "      </script>\n",
              "    </div>\n",
              "  </div>\n",
              "  "
            ]
          },
          "metadata": {},
          "execution_count": 130
        }
      ]
    },
    {
      "cell_type": "markdown",
      "source": [
        "# ✴ Distribuição de Frequência"
      ],
      "metadata": {
        "id": "3yfySFemPsUI"
      }
    },
    {
      "cell_type": "markdown",
      "source": [
        "#### *Função para mostrar valores no topo do gráfico*"
      ],
      "metadata": {
        "id": "pMJe6sllXaTv"
      }
    },
    {
      "cell_type": "code",
      "source": [
        "def show_values(axs, space=0.6):\n",
        "    def _single(ax):\n",
        "            for p in ax.patches:\n",
        "                _x = p.get_x() + p.get_width() / 2\n",
        "                _y = p.get_y() + p.get_height() + space\n",
        "                value = f'{p.get_height():.2f}%'\n",
        "                ax.text(_x, _y, value, ha=\"center\") \n",
        "\n",
        "    if isinstance(axs, np.ndarray):\n",
        "        for idx, ax in np.ndenumerate(axs):\n",
        "            _single(ax)\n",
        "    else:\n",
        "        _single(axs)"
      ],
      "metadata": {
        "id": "-JdiXhqDqBcw"
      },
      "execution_count": null,
      "outputs": []
    },
    {
      "cell_type": "markdown",
      "source": [
        "## Distribuição de Frequência para variáveis qualitativas"
      ],
      "metadata": {
        "id": "Yky_GaxpXLF5"
      }
    },
    {
      "cell_type": "markdown",
      "source": [
        "### Zona"
      ],
      "metadata": {
        "id": "h-ha7UwKRpzl"
      }
    },
    {
      "cell_type": "markdown",
      "source": [
        "#### *Medidas Gerais*"
      ],
      "metadata": {
        "id": "htEVmQsIXEC1"
      }
    },
    {
      "cell_type": "code",
      "source": [
        "frequencia = df[\"zona\"].value_counts()\n",
        "percentual = round(df[\"zona\"].value_counts(normalize=True) * 100, 2)\n",
        "zonas = 'Centro-Sul', 'Oeste', 'Norte', 'Centro-Oeste', 'Sul', 'Leste'"
      ],
      "metadata": {
        "id": "J9TPIePMQokG"
      },
      "execution_count": null,
      "outputs": []
    },
    {
      "cell_type": "code",
      "source": [
        "distribuicao_frequencia = pd.DataFrame({\"Zona\": zonas, \"Frequencia\": frequencia, \"Percentual (%)\": percentual})\n",
        "distribuicao_frequencia.reset_index(inplace=True)\n",
        "distribuicao_frequencia = distribuicao_frequencia.drop('index', axis=1)\n",
        "\n",
        "distribuicao_frequencia"
      ],
      "metadata": {
        "id": "Bg6TwA-PT3bK",
        "colab": {
          "base_uri": "https://localhost:8080/",
          "height": 237
        },
        "outputId": "d2cf8507-4538-4e0b-9fd9-4894e9ff99e2"
      },
      "execution_count": null,
      "outputs": [
        {
          "output_type": "execute_result",
          "data": {
            "text/plain": [
              "           Zona  Frequencia  Percentual (%)\n",
              "0    Centro-Sul         136           34.78\n",
              "1         Oeste         116           29.67\n",
              "2         Norte          74           18.93\n",
              "3  Centro-Oeste          44           11.25\n",
              "4           Sul          13            3.32\n",
              "5         Leste           8            2.05"
            ],
            "text/html": [
              "\n",
              "  <div id=\"df-8e98e333-0c53-4386-bfe3-7ea9eedd3fb7\">\n",
              "    <div class=\"colab-df-container\">\n",
              "      <div>\n",
              "<style scoped>\n",
              "    .dataframe tbody tr th:only-of-type {\n",
              "        vertical-align: middle;\n",
              "    }\n",
              "\n",
              "    .dataframe tbody tr th {\n",
              "        vertical-align: top;\n",
              "    }\n",
              "\n",
              "    .dataframe thead th {\n",
              "        text-align: right;\n",
              "    }\n",
              "</style>\n",
              "<table border=\"1\" class=\"dataframe\">\n",
              "  <thead>\n",
              "    <tr style=\"text-align: right;\">\n",
              "      <th></th>\n",
              "      <th>Zona</th>\n",
              "      <th>Frequencia</th>\n",
              "      <th>Percentual (%)</th>\n",
              "    </tr>\n",
              "  </thead>\n",
              "  <tbody>\n",
              "    <tr>\n",
              "      <th>0</th>\n",
              "      <td>Centro-Sul</td>\n",
              "      <td>136</td>\n",
              "      <td>34.78</td>\n",
              "    </tr>\n",
              "    <tr>\n",
              "      <th>1</th>\n",
              "      <td>Oeste</td>\n",
              "      <td>116</td>\n",
              "      <td>29.67</td>\n",
              "    </tr>\n",
              "    <tr>\n",
              "      <th>2</th>\n",
              "      <td>Norte</td>\n",
              "      <td>74</td>\n",
              "      <td>18.93</td>\n",
              "    </tr>\n",
              "    <tr>\n",
              "      <th>3</th>\n",
              "      <td>Centro-Oeste</td>\n",
              "      <td>44</td>\n",
              "      <td>11.25</td>\n",
              "    </tr>\n",
              "    <tr>\n",
              "      <th>4</th>\n",
              "      <td>Sul</td>\n",
              "      <td>13</td>\n",
              "      <td>3.32</td>\n",
              "    </tr>\n",
              "    <tr>\n",
              "      <th>5</th>\n",
              "      <td>Leste</td>\n",
              "      <td>8</td>\n",
              "      <td>2.05</td>\n",
              "    </tr>\n",
              "  </tbody>\n",
              "</table>\n",
              "</div>\n",
              "      <button class=\"colab-df-convert\" onclick=\"convertToInteractive('df-8e98e333-0c53-4386-bfe3-7ea9eedd3fb7')\"\n",
              "              title=\"Convert this dataframe to an interactive table.\"\n",
              "              style=\"display:none;\">\n",
              "        \n",
              "  <svg xmlns=\"http://www.w3.org/2000/svg\" height=\"24px\"viewBox=\"0 0 24 24\"\n",
              "       width=\"24px\">\n",
              "    <path d=\"M0 0h24v24H0V0z\" fill=\"none\"/>\n",
              "    <path d=\"M18.56 5.44l.94 2.06.94-2.06 2.06-.94-2.06-.94-.94-2.06-.94 2.06-2.06.94zm-11 1L8.5 8.5l.94-2.06 2.06-.94-2.06-.94L8.5 2.5l-.94 2.06-2.06.94zm10 10l.94 2.06.94-2.06 2.06-.94-2.06-.94-.94-2.06-.94 2.06-2.06.94z\"/><path d=\"M17.41 7.96l-1.37-1.37c-.4-.4-.92-.59-1.43-.59-.52 0-1.04.2-1.43.59L10.3 9.45l-7.72 7.72c-.78.78-.78 2.05 0 2.83L4 21.41c.39.39.9.59 1.41.59.51 0 1.02-.2 1.41-.59l7.78-7.78 2.81-2.81c.8-.78.8-2.07 0-2.86zM5.41 20L4 18.59l7.72-7.72 1.47 1.35L5.41 20z\"/>\n",
              "  </svg>\n",
              "      </button>\n",
              "      \n",
              "  <style>\n",
              "    .colab-df-container {\n",
              "      display:flex;\n",
              "      flex-wrap:wrap;\n",
              "      gap: 12px;\n",
              "    }\n",
              "\n",
              "    .colab-df-convert {\n",
              "      background-color: #E8F0FE;\n",
              "      border: none;\n",
              "      border-radius: 50%;\n",
              "      cursor: pointer;\n",
              "      display: none;\n",
              "      fill: #1967D2;\n",
              "      height: 32px;\n",
              "      padding: 0 0 0 0;\n",
              "      width: 32px;\n",
              "    }\n",
              "\n",
              "    .colab-df-convert:hover {\n",
              "      background-color: #E2EBFA;\n",
              "      box-shadow: 0px 1px 2px rgba(60, 64, 67, 0.3), 0px 1px 3px 1px rgba(60, 64, 67, 0.15);\n",
              "      fill: #174EA6;\n",
              "    }\n",
              "\n",
              "    [theme=dark] .colab-df-convert {\n",
              "      background-color: #3B4455;\n",
              "      fill: #D2E3FC;\n",
              "    }\n",
              "\n",
              "    [theme=dark] .colab-df-convert:hover {\n",
              "      background-color: #434B5C;\n",
              "      box-shadow: 0px 1px 3px 1px rgba(0, 0, 0, 0.15);\n",
              "      filter: drop-shadow(0px 1px 2px rgba(0, 0, 0, 0.3));\n",
              "      fill: #FFFFFF;\n",
              "    }\n",
              "  </style>\n",
              "\n",
              "      <script>\n",
              "        const buttonEl =\n",
              "          document.querySelector('#df-8e98e333-0c53-4386-bfe3-7ea9eedd3fb7 button.colab-df-convert');\n",
              "        buttonEl.style.display =\n",
              "          google.colab.kernel.accessAllowed ? 'block' : 'none';\n",
              "\n",
              "        async function convertToInteractive(key) {\n",
              "          const element = document.querySelector('#df-8e98e333-0c53-4386-bfe3-7ea9eedd3fb7');\n",
              "          const dataTable =\n",
              "            await google.colab.kernel.invokeFunction('convertToInteractive',\n",
              "                                                     [key], {});\n",
              "          if (!dataTable) return;\n",
              "\n",
              "          const docLinkHtml = 'Like what you see? Visit the ' +\n",
              "            '<a target=\"_blank\" href=https://colab.research.google.com/notebooks/data_table.ipynb>data table notebook</a>'\n",
              "            + ' to learn more about interactive tables.';\n",
              "          element.innerHTML = '';\n",
              "          dataTable['output_type'] = 'display_data';\n",
              "          await google.colab.output.renderOutput(dataTable, element);\n",
              "          const docLink = document.createElement('div');\n",
              "          docLink.innerHTML = docLinkHtml;\n",
              "          element.appendChild(docLink);\n",
              "        }\n",
              "      </script>\n",
              "    </div>\n",
              "  </div>\n",
              "  "
            ]
          },
          "metadata": {},
          "execution_count": 314
        }
      ]
    },
    {
      "cell_type": "code",
      "source": [
        "ax = sns.barplot(data=distribuicao_frequencia, x=\"Zona\", y=\"Percentual (%)\")\n",
        "show_values(ax)"
      ],
      "metadata": {
        "colab": {
          "base_uri": "https://localhost:8080/",
          "height": 281
        },
        "id": "gAIqBB3chwAB",
        "outputId": "9c675501-8cdf-4ea0-d328-40b142f3c847"
      },
      "execution_count": null,
      "outputs": [
        {
          "output_type": "display_data",
          "data": {
            "text/plain": [
              "<Figure size 432x288 with 1 Axes>"
            ],
            "image/png": "[encoded data removed]"
          },
          "metadata": {
            "needs_background": "light"
          }
        }
      ]
    },
    {
      "cell_type": "markdown",
      "source": [
        "#### *Casas*"
      ],
      "metadata": {
        "id": "gHSr-mZdVCrC"
      }
    },
    {
      "cell_type": "code",
      "source": [
        "frequencia = df_casas[\"zona\"].value_counts()\n",
        "percentual = round(df_casas[\"zona\"].value_counts(normalize=True) * 100, 2)"
      ],
      "metadata": {
        "id": "2T47iDigVHZM"
      },
      "execution_count": null,
      "outputs": []
    },
    {
      "cell_type": "code",
      "source": [
        "distribuicao_frequencia = pd.DataFrame({\"Zona\": zonas, \"Frequencia\": frequencia, \"Percentual (%)\": percentual})\n",
        "distribuicao_frequencia.reset_index(inplace=True)\n",
        "distribuicao_frequencia = distribuicao_frequencia.drop('index', axis=1)\n",
        "\n",
        "distribuicao_frequencia"
      ],
      "metadata": {
        "colab": {
          "base_uri": "https://localhost:8080/",
          "height": 237
        },
        "id": "wQ7x1QOkVG65",
        "outputId": "9516fa59-dc49-4915-a40b-2d8434569280"
      },
      "execution_count": null,
      "outputs": [
        {
          "output_type": "execute_result",
          "data": {
            "text/plain": [
              "           Zona  Frequencia  Percentual (%)\n",
              "0    Centro-Sul          63           30.00\n",
              "1         Oeste          62           29.52\n",
              "2         Norte          50           23.81\n",
              "3  Centro-Oeste          24           11.43\n",
              "4           Sul           6            2.86\n",
              "5         Leste           5            2.38"
            ],
            "text/html": [
              "\n",
              "  <div id=\"df-9534c5c9-7183-456a-87e0-5e4fe20f5352\">\n",
              "    <div class=\"colab-df-container\">\n",
              "      <div>\n",
              "<style scoped>\n",
              "    .dataframe tbody tr th:only-of-type {\n",
              "        vertical-align: middle;\n",
              "    }\n",
              "\n",
              "    .dataframe tbody tr th {\n",
              "        vertical-align: top;\n",
              "    }\n",
              "\n",
              "    .dataframe thead th {\n",
              "        text-align: right;\n",
              "    }\n",
              "</style>\n",
              "<table border=\"1\" class=\"dataframe\">\n",
              "  <thead>\n",
              "    <tr style=\"text-align: right;\">\n",
              "      <th></th>\n",
              "      <th>Zona</th>\n",
              "      <th>Frequencia</th>\n",
              "      <th>Percentual (%)</th>\n",
              "    </tr>\n",
              "  </thead>\n",
              "  <tbody>\n",
              "    <tr>\n",
              "      <th>0</th>\n",
              "      <td>Centro-Sul</td>\n",
              "      <td>63</td>\n",
              "      <td>30.00</td>\n",
              "    </tr>\n",
              "    <tr>\n",
              "      <th>1</th>\n",
              "      <td>Oeste</td>\n",
              "      <td>62</td>\n",
              "      <td>29.52</td>\n",
              "    </tr>\n",
              "    <tr>\n",
              "      <th>2</th>\n",
              "      <td>Norte</td>\n",
              "      <td>50</td>\n",
              "      <td>23.81</td>\n",
              "    </tr>\n",
              "    <tr>\n",
              "      <th>3</th>\n",
              "      <td>Centro-Oeste</td>\n",
              "      <td>24</td>\n",
              "      <td>11.43</td>\n",
              "    </tr>\n",
              "    <tr>\n",
              "      <th>4</th>\n",
              "      <td>Sul</td>\n",
              "      <td>6</td>\n",
              "      <td>2.86</td>\n",
              "    </tr>\n",
              "    <tr>\n",
              "      <th>5</th>\n",
              "      <td>Leste</td>\n",
              "      <td>5</td>\n",
              "      <td>2.38</td>\n",
              "    </tr>\n",
              "  </tbody>\n",
              "</table>\n",
              "</div>\n",
              "      <button class=\"colab-df-convert\" onclick=\"convertToInteractive('df-9534c5c9-7183-456a-87e0-5e4fe20f5352')\"\n",
              "              title=\"Convert this dataframe to an interactive table.\"\n",
              "              style=\"display:none;\">\n",
              "        \n",
              "  <svg xmlns=\"http://www.w3.org/2000/svg\" height=\"24px\"viewBox=\"0 0 24 24\"\n",
              "       width=\"24px\">\n",
              "    <path d=\"M0 0h24v24H0V0z\" fill=\"none\"/>\n",
              "    <path d=\"M18.56 5.44l.94 2.06.94-2.06 2.06-.94-2.06-.94-.94-2.06-.94 2.06-2.06.94zm-11 1L8.5 8.5l.94-2.06 2.06-.94-2.06-.94L8.5 2.5l-.94 2.06-2.06.94zm10 10l.94 2.06.94-2.06 2.06-.94-2.06-.94-.94-2.06-.94 2.06-2.06.94z\"/><path d=\"M17.41 7.96l-1.37-1.37c-.4-.4-.92-.59-1.43-.59-.52 0-1.04.2-1.43.59L10.3 9.45l-7.72 7.72c-.78.78-.78 2.05 0 2.83L4 21.41c.39.39.9.59 1.41.59.51 0 1.02-.2 1.41-.59l7.78-7.78 2.81-2.81c.8-.78.8-2.07 0-2.86zM5.41 20L4 18.59l7.72-7.72 1.47 1.35L5.41 20z\"/>\n",
              "  </svg>\n",
              "      </button>\n",
              "      \n",
              "  <style>\n",
              "    .colab-df-container {\n",
              "      display:flex;\n",
              "      flex-wrap:wrap;\n",
              "      gap: 12px;\n",
              "    }\n",
              "\n",
              "    .colab-df-convert {\n",
              "      background-color: #E8F0FE;\n",
              "      border: none;\n",
              "      border-radius: 50%;\n",
              "      cursor: pointer;\n",
              "      display: none;\n",
              "      fill: #1967D2;\n",
              "      height: 32px;\n",
              "      padding: 0 0 0 0;\n",
              "      width: 32px;\n",
              "    }\n",
              "\n",
              "    .colab-df-convert:hover {\n",
              "      background-color: #E2EBFA;\n",
              "      box-shadow: 0px 1px 2px rgba(60, 64, 67, 0.3), 0px 1px 3px 1px rgba(60, 64, 67, 0.15);\n",
              "      fill: #174EA6;\n",
              "    }\n",
              "\n",
              "    [theme=dark] .colab-df-convert {\n",
              "      background-color: #3B4455;\n",
              "      fill: #D2E3FC;\n",
              "    }\n",
              "\n",
              "    [theme=dark] .colab-df-convert:hover {\n",
              "      background-color: #434B5C;\n",
              "      box-shadow: 0px 1px 3px 1px rgba(0, 0, 0, 0.15);\n",
              "      filter: drop-shadow(0px 1px 2px rgba(0, 0, 0, 0.3));\n",
              "      fill: #FFFFFF;\n",
              "    }\n",
              "  </style>\n",
              "\n",
              "      <script>\n",
              "        const buttonEl =\n",
              "          document.querySelector('#df-9534c5c9-7183-456a-87e0-5e4fe20f5352 button.colab-df-convert');\n",
              "        buttonEl.style.display =\n",
              "          google.colab.kernel.accessAllowed ? 'block' : 'none';\n",
              "\n",
              "        async function convertToInteractive(key) {\n",
              "          const element = document.querySelector('#df-9534c5c9-7183-456a-87e0-5e4fe20f5352');\n",
              "          const dataTable =\n",
              "            await google.colab.kernel.invokeFunction('convertToInteractive',\n",
              "                                                     [key], {});\n",
              "          if (!dataTable) return;\n",
              "\n",
              "          const docLinkHtml = 'Like what you see? Visit the ' +\n",
              "            '<a target=\"_blank\" href=https://colab.research.google.com/notebooks/data_table.ipynb>data table notebook</a>'\n",
              "            + ' to learn more about interactive tables.';\n",
              "          element.innerHTML = '';\n",
              "          dataTable['output_type'] = 'display_data';\n",
              "          await google.colab.output.renderOutput(dataTable, element);\n",
              "          const docLink = document.createElement('div');\n",
              "          docLink.innerHTML = docLinkHtml;\n",
              "          element.appendChild(docLink);\n",
              "        }\n",
              "      </script>\n",
              "    </div>\n",
              "  </div>\n",
              "  "
            ]
          },
          "metadata": {},
          "execution_count": 317
        }
      ]
    },
    {
      "cell_type": "code",
      "source": [
        "sns.barplot(data=distribuicao_frequencia, x=\"Zona\", y=\"Percentual (%)\", color= \"#565555\")"
      ],
      "metadata": {
        "colab": {
          "base_uri": "https://localhost:8080/",
          "height": 296
        },
        "id": "AoHHBCSamDs4",
        "outputId": "a1812fdc-0450-4c2c-ed09-4bc37ddc0486"
      },
      "execution_count": null,
      "outputs": [
        {
          "output_type": "execute_result",
          "data": {
            "text/plain": [
              "<matplotlib.axes._subplots.AxesSubplot at 0x7f25ff355210>"
            ]
          },
          "metadata": {},
          "execution_count": 318
        },
        {
          "output_type": "display_data",
          "data": {
            "text/plain": [
              "<Figure size 432x288 with 1 Axes>"
            ],
            "image/png": "[encoded data removed]"
          },
          "metadata": {
            "needs_background": "light"
          }
        }
      ]
    },
    {
      "cell_type": "markdown",
      "source": [
        "#### *Apartamentos*"
      ],
      "metadata": {
        "id": "-gpTXi1GWmLo"
      }
    },
    {
      "cell_type": "code",
      "source": [
        "frequencia = df_apartamentos[\"zona\"].value_counts()\n",
        "percentual = round(df_apartamentos[\"zona\"].value_counts(normalize=True) * 100, 2)"
      ],
      "metadata": {
        "id": "xyK14LWuWo5D"
      },
      "execution_count": null,
      "outputs": []
    },
    {
      "cell_type": "code",
      "source": [
        "sns.barplot(data=distribuicao_frequencia, x=\"Zona\", y=\"Percentual (%)\", color= \"#565555\")"
      ],
      "metadata": {
        "colab": {
          "base_uri": "https://localhost:8080/",
          "height": 296
        },
        "id": "vzjVeuV2mdgF",
        "outputId": "52a86e8f-0f0c-406a-93c3-b559c4a29429"
      },
      "execution_count": null,
      "outputs": [
        {
          "output_type": "execute_result",
          "data": {
            "text/plain": [
              "<matplotlib.axes._subplots.AxesSubplot at 0x7f25ff2d8b10>"
            ]
          },
          "metadata": {},
          "execution_count": 320
        },
        {
          "output_type": "display_data",
          "data": {
            "text/plain": [
              "<Figure size 432x288 with 1 Axes>"
            ],
            "image/png": "[encoded data removed]"
          },
          "metadata": {
            "needs_background": "light"
          }
        }
      ]
    },
    {
      "cell_type": "markdown",
      "source": [
        "## Distribuição de Frequência para variáveis quantitativas"
      ],
      "metadata": {
        "id": "ndU4FHQUUIre"
      }
    },
    {
      "cell_type": "markdown",
      "source": [
        "#### Função para Distribuição de Frequência de Variáveis Contínuas"
      ],
      "metadata": {
        "id": "s_-rp0-F85tK"
      }
    },
    {
      "cell_type": "code",
      "source": [
        "def n_classes(dados: pd.Series, tipo='Padrão'):\n",
        "    n_obs = len(dados)\n",
        "    if tipo=='Padrão':\n",
        "        return 5 if n_obs<25 else np.ceil(np.sqrt(n_obs)).astype(int)\n",
        "    if tipo=='Sturges':\n",
        "        return (1 + np.ceil(np.log2(n_obs))).astype(int)\n",
        "\n",
        "def amplitude_classes(dados: pd.Series, tipo='Padrão', arredondar=True):\n",
        "    amplitude = np.ceil((dados.max() - dados.min())/n_classes(dados, tipo=tipo)) \\\n",
        "    if arredondar else (dados.max() - dados.min())/n_classes(dados, tipo=tipo)\n",
        "    return amplitude\n",
        "\n",
        "def construir_tabela(dados, tipo='Padrão', direita=False, arredondar=True):\n",
        "    dados_series = pd.Series(dados)\n",
        "    n_class = n_classes(dados_series, tipo=tipo)\n",
        "    amp_class = amplitude_classes(dados_series, tipo=tipo, arredondar=arredondar)\n",
        "    bins = [dados_series.min() + i*amp_class for i in range(n_class+1)]\n",
        "    return pd.cut(dados_series, bins=bins, right=direita).value_counts(sort=False).rename('Frequência')\n",
        "\n",
        "def formatar_intervalos(intervalos, prec, direita=False):   \n",
        "    fechado = 'right' if direita else 'left'\n",
        "    return [pd.Interval(left=np.round(intervalo.left,prec), \n",
        "                        right=np.round(intervalo.right,prec), closed=fechado) for intervalo in intervalos]\n",
        "def dist_freq(dados, tipo='Padrão', prec=2, direita=False, arredondar=True, exibir_total=True):    \n",
        "    df_dist_freq = pd.DataFrame(construir_tabela(dados, tipo=tipo, direita=direita, arredondar=arredondar))\n",
        "    df_dist_freq.index = formatar_intervalos(df_dist_freq.index.array, prec, direita=direita)\n",
        "    df_dist_freq.index = df_dist_freq.index.rename('Classes')\n",
        "    if exibir_total:\n",
        "        total_dist = pd.DataFrame({'Frequência':df_dist_freq['Frequência'].sum()}, index=['Total'])\n",
        "        total_dist.index = total_dist.index.rename('Classes')\n",
        "        df_dist_freq = pd.concat([df_dist_freq, total_dist])\n",
        "    return  df_dist_freq.query('Frequência>0')"
      ],
      "metadata": {
        "id": "4nN88q5-7Tgs"
      },
      "execution_count": null,
      "outputs": []
    },
    {
      "cell_type": "markdown",
      "source": [
        "### Valor do Imóvel (Quantitativa Contínua)"
      ],
      "metadata": {
        "id": "EY7ZzV9HnIJy"
      }
    },
    {
      "cell_type": "markdown",
      "source": [
        "#### Geral"
      ],
      "metadata": {
        "id": "VYUWAvJMnIJy"
      }
    },
    {
      "cell_type": "code",
      "source": [
        "distribuicao_frequencia = dist_freq(df[\"valor\"])"
      ],
      "metadata": {
        "id": "_Y-XzOKM7rMq"
      },
      "execution_count": null,
      "outputs": []
    },
    {
      "cell_type": "markdown",
      "source": [
        "#### *Geral: Resultados*"
      ],
      "metadata": {
        "id": "whjTkpTjnIJz"
      }
    },
    {
      "cell_type": "code",
      "source": [
        "distribuicao_frequencia"
      ],
      "metadata": {
        "colab": {
          "base_uri": "https://localhost:8080/",
          "height": 582
        },
        "outputId": "c9132f4d-7160-4d57-9137-72543150450f",
        "id": "e5g8QOA_nIJz"
      },
      "execution_count": null,
      "outputs": [
        {
          "output_type": "execute_result",
          "data": {
            "text/plain": [
              "                        Frequência\n",
              "Classes                           \n",
              "[40000.0, 488000.0)            228\n",
              "[488000.0, 936000.0)            92\n",
              "[936000.0, 1384000.0)           25\n",
              "[1384000.0, 1832000.0)          18\n",
              "[1832000.0, 2280000.0)           6\n",
              "[2280000.0, 2728000.0)           8\n",
              "[2728000.0, 3176000.0)           2\n",
              "[3176000.0, 3624000.0)           3\n",
              "[4072000.0, 4520000.0)           2\n",
              "[4968000.0, 5416000.0)           1\n",
              "[5416000.0, 5864000.0)           1\n",
              "[5864000.0, 6312000.0)           1\n",
              "[6312000.0, 6760000.0)           1\n",
              "[6760000.0, 7208000.0)           1\n",
              "[7656000.0, 8104000.0)           1\n",
              "Total                          390"
            ],
            "text/html": [
              "\n",
              "  <div id=\"df-69c5184a-fa51-4577-88c5-7cebb1bfb79e\">\n",
              "    <div class=\"colab-df-container\">\n",
              "      <div>\n",
              "<style scoped>\n",
              "    .dataframe tbody tr th:only-of-type {\n",
              "        vertical-align: middle;\n",
              "    }\n",
              "\n",
              "    .dataframe tbody tr th {\n",
              "        vertical-align: top;\n",
              "    }\n",
              "\n",
              "    .dataframe thead th {\n",
              "        text-align: right;\n",
              "    }\n",
              "</style>\n",
              "<table border=\"1\" class=\"dataframe\">\n",
              "  <thead>\n",
              "    <tr style=\"text-align: right;\">\n",
              "      <th></th>\n",
              "      <th>Frequência</th>\n",
              "    </tr>\n",
              "    <tr>\n",
              "      <th>Classes</th>\n",
              "      <th></th>\n",
              "    </tr>\n",
              "  </thead>\n",
              "  <tbody>\n",
              "    <tr>\n",
              "      <th>[40000.0, 488000.0)</th>\n",
              "      <td>228</td>\n",
              "    </tr>\n",
              "    <tr>\n",
              "      <th>[488000.0, 936000.0)</th>\n",
              "      <td>92</td>\n",
              "    </tr>\n",
              "    <tr>\n",
              "      <th>[936000.0, 1384000.0)</th>\n",
              "      <td>25</td>\n",
              "    </tr>\n",
              "    <tr>\n",
              "      <th>[1384000.0, 1832000.0)</th>\n",
              "      <td>18</td>\n",
              "    </tr>\n",
              "    <tr>\n",
              "      <th>[1832000.0, 2280000.0)</th>\n",
              "      <td>6</td>\n",
              "    </tr>\n",
              "    <tr>\n",
              "      <th>[2280000.0, 2728000.0)</th>\n",
              "      <td>8</td>\n",
              "    </tr>\n",
              "    <tr>\n",
              "      <th>[2728000.0, 3176000.0)</th>\n",
              "      <td>2</td>\n",
              "    </tr>\n",
              "    <tr>\n",
              "      <th>[3176000.0, 3624000.0)</th>\n",
              "      <td>3</td>\n",
              "    </tr>\n",
              "    <tr>\n",
              "      <th>[4072000.0, 4520000.0)</th>\n",
              "      <td>2</td>\n",
              "    </tr>\n",
              "    <tr>\n",
              "      <th>[4968000.0, 5416000.0)</th>\n",
              "      <td>1</td>\n",
              "    </tr>\n",
              "    <tr>\n",
              "      <th>[5416000.0, 5864000.0)</th>\n",
              "      <td>1</td>\n",
              "    </tr>\n",
              "    <tr>\n",
              "      <th>[5864000.0, 6312000.0)</th>\n",
              "      <td>1</td>\n",
              "    </tr>\n",
              "    <tr>\n",
              "      <th>[6312000.0, 6760000.0)</th>\n",
              "      <td>1</td>\n",
              "    </tr>\n",
              "    <tr>\n",
              "      <th>[6760000.0, 7208000.0)</th>\n",
              "      <td>1</td>\n",
              "    </tr>\n",
              "    <tr>\n",
              "      <th>[7656000.0, 8104000.0)</th>\n",
              "      <td>1</td>\n",
              "    </tr>\n",
              "    <tr>\n",
              "      <th>Total</th>\n",
              "      <td>390</td>\n",
              "    </tr>\n",
              "  </tbody>\n",
              "</table>\n",
              "</div>\n",
              "      <button class=\"colab-df-convert\" onclick=\"convertToInteractive('df-69c5184a-fa51-4577-88c5-7cebb1bfb79e')\"\n",
              "              title=\"Convert this dataframe to an interactive table.\"\n",
              "              style=\"display:none;\">\n",
              "        \n",
              "  <svg xmlns=\"http://www.w3.org/2000/svg\" height=\"24px\"viewBox=\"0 0 24 24\"\n",
              "       width=\"24px\">\n",
              "    <path d=\"M0 0h24v24H0V0z\" fill=\"none\"/>\n",
              "    <path d=\"M18.56 5.44l.94 2.06.94-2.06 2.06-.94-2.06-.94-.94-2.06-.94 2.06-2.06.94zm-11 1L8.5 8.5l.94-2.06 2.06-.94-2.06-.94L8.5 2.5l-.94 2.06-2.06.94zm10 10l.94 2.06.94-2.06 2.06-.94-2.06-.94-.94-2.06-.94 2.06-2.06.94z\"/><path d=\"M17.41 7.96l-1.37-1.37c-.4-.4-.92-.59-1.43-.59-.52 0-1.04.2-1.43.59L10.3 9.45l-7.72 7.72c-.78.78-.78 2.05 0 2.83L4 21.41c.39.39.9.59 1.41.59.51 0 1.02-.2 1.41-.59l7.78-7.78 2.81-2.81c.8-.78.8-2.07 0-2.86zM5.41 20L4 18.59l7.72-7.72 1.47 1.35L5.41 20z\"/>\n",
              "  </svg>\n",
              "      </button>\n",
              "      \n",
              "  <style>\n",
              "    .colab-df-container {\n",
              "      display:flex;\n",
              "      flex-wrap:wrap;\n",
              "      gap: 12px;\n",
              "    }\n",
              "\n",
              "    .colab-df-convert {\n",
              "      background-color: #E8F0FE;\n",
              "      border: none;\n",
              "      border-radius: 50%;\n",
              "      cursor: pointer;\n",
              "      display: none;\n",
              "      fill: #1967D2;\n",
              "      height: 32px;\n",
              "      padding: 0 0 0 0;\n",
              "      width: 32px;\n",
              "    }\n",
              "\n",
              "    .colab-df-convert:hover {\n",
              "      background-color: #E2EBFA;\n",
              "      box-shadow: 0px 1px 2px rgba(60, 64, 67, 0.3), 0px 1px 3px 1px rgba(60, 64, 67, 0.15);\n",
              "      fill: #174EA6;\n",
              "    }\n",
              "\n",
              "    [theme=dark] .colab-df-convert {\n",
              "      background-color: #3B4455;\n",
              "      fill: #D2E3FC;\n",
              "    }\n",
              "\n",
              "    [theme=dark] .colab-df-convert:hover {\n",
              "      background-color: #434B5C;\n",
              "      box-shadow: 0px 1px 3px 1px rgba(0, 0, 0, 0.15);\n",
              "      filter: drop-shadow(0px 1px 2px rgba(0, 0, 0, 0.3));\n",
              "      fill: #FFFFFF;\n",
              "    }\n",
              "  </style>\n",
              "\n",
              "      <script>\n",
              "        const buttonEl =\n",
              "          document.querySelector('#df-69c5184a-fa51-4577-88c5-7cebb1bfb79e button.colab-df-convert');\n",
              "        buttonEl.style.display =\n",
              "          google.colab.kernel.accessAllowed ? 'block' : 'none';\n",
              "\n",
              "        async function convertToInteractive(key) {\n",
              "          const element = document.querySelector('#df-69c5184a-fa51-4577-88c5-7cebb1bfb79e');\n",
              "          const dataTable =\n",
              "            await google.colab.kernel.invokeFunction('convertToInteractive',\n",
              "                                                     [key], {});\n",
              "          if (!dataTable) return;\n",
              "\n",
              "          const docLinkHtml = 'Like what you see? Visit the ' +\n",
              "            '<a target=\"_blank\" href=https://colab.research.google.com/notebooks/data_table.ipynb>data table notebook</a>'\n",
              "            + ' to learn more about interactive tables.';\n",
              "          element.innerHTML = '';\n",
              "          dataTable['output_type'] = 'display_data';\n",
              "          await google.colab.output.renderOutput(dataTable, element);\n",
              "          const docLink = document.createElement('div');\n",
              "          docLink.innerHTML = docLinkHtml;\n",
              "          element.appendChild(docLink);\n",
              "        }\n",
              "      </script>\n",
              "    </div>\n",
              "  </div>\n",
              "  "
            ]
          },
          "metadata": {},
          "execution_count": 323
        }
      ]
    },
    {
      "cell_type": "markdown",
      "source": [
        "#### Casas"
      ],
      "metadata": {
        "id": "bMYZpTpXnIJ0"
      }
    },
    {
      "cell_type": "code",
      "source": [
        "distribuicao_frequencia = dist_freq(df_casas[\"valor\"])"
      ],
      "metadata": {
        "id": "40nRacG6D_F5"
      },
      "execution_count": null,
      "outputs": []
    },
    {
      "cell_type": "markdown",
      "source": [
        "#### *Casas: Resultados*"
      ],
      "metadata": {
        "id": "hucF0KmonIJ0"
      }
    },
    {
      "cell_type": "code",
      "source": [
        "distribuicao_frequencia"
      ],
      "metadata": {
        "colab": {
          "base_uri": "https://localhost:8080/",
          "height": 488
        },
        "outputId": "717dd48e-55d6-493b-bc7f-e45baf0e8e03",
        "id": "1r90liOpnIJ0"
      },
      "execution_count": null,
      "outputs": [
        {
          "output_type": "execute_result",
          "data": {
            "text/plain": [
              "                        Frequência\n",
              "Classes                           \n",
              "[40000.0, 637334.0)            130\n",
              "[637334.0, 1234668.0)           41\n",
              "[1234668.0, 1832002.0)          18\n",
              "[1832002.0, 2429336.0)           6\n",
              "[2429336.0, 3026670.0)           5\n",
              "[3026670.0, 3624004.0)           2\n",
              "[4221338.0, 4818672.0)           2\n",
              "[4818672.0, 5416006.0)           1\n",
              "[5416006.0, 6013340.0)           1\n",
              "[6013340.0, 6610674.0)           2\n",
              "[6610674.0, 7208008.0)           1\n",
              "[8402676.0, 9000010.0)           1\n",
              "Total                          210"
            ],
            "text/html": [
              "\n",
              "  <div id=\"df-25303aaa-086b-469b-bb62-0f9a1a821008\">\n",
              "    <div class=\"colab-df-container\">\n",
              "      <div>\n",
              "<style scoped>\n",
              "    .dataframe tbody tr th:only-of-type {\n",
              "        vertical-align: middle;\n",
              "    }\n",
              "\n",
              "    .dataframe tbody tr th {\n",
              "        vertical-align: top;\n",
              "    }\n",
              "\n",
              "    .dataframe thead th {\n",
              "        text-align: right;\n",
              "    }\n",
              "</style>\n",
              "<table border=\"1\" class=\"dataframe\">\n",
              "  <thead>\n",
              "    <tr style=\"text-align: right;\">\n",
              "      <th></th>\n",
              "      <th>Frequência</th>\n",
              "    </tr>\n",
              "    <tr>\n",
              "      <th>Classes</th>\n",
              "      <th></th>\n",
              "    </tr>\n",
              "  </thead>\n",
              "  <tbody>\n",
              "    <tr>\n",
              "      <th>[40000.0, 637334.0)</th>\n",
              "      <td>130</td>\n",
              "    </tr>\n",
              "    <tr>\n",
              "      <th>[637334.0, 1234668.0)</th>\n",
              "      <td>41</td>\n",
              "    </tr>\n",
              "    <tr>\n",
              "      <th>[1234668.0, 1832002.0)</th>\n",
              "      <td>18</td>\n",
              "    </tr>\n",
              "    <tr>\n",
              "      <th>[1832002.0, 2429336.0)</th>\n",
              "      <td>6</td>\n",
              "    </tr>\n",
              "    <tr>\n",
              "      <th>[2429336.0, 3026670.0)</th>\n",
              "      <td>5</td>\n",
              "    </tr>\n",
              "    <tr>\n",
              "      <th>[3026670.0, 3624004.0)</th>\n",
              "      <td>2</td>\n",
              "    </tr>\n",
              "    <tr>\n",
              "      <th>[4221338.0, 4818672.0)</th>\n",
              "      <td>2</td>\n",
              "    </tr>\n",
              "    <tr>\n",
              "      <th>[4818672.0, 5416006.0)</th>\n",
              "      <td>1</td>\n",
              "    </tr>\n",
              "    <tr>\n",
              "      <th>[5416006.0, 6013340.0)</th>\n",
              "      <td>1</td>\n",
              "    </tr>\n",
              "    <tr>\n",
              "      <th>[6013340.0, 6610674.0)</th>\n",
              "      <td>2</td>\n",
              "    </tr>\n",
              "    <tr>\n",
              "      <th>[6610674.0, 7208008.0)</th>\n",
              "      <td>1</td>\n",
              "    </tr>\n",
              "    <tr>\n",
              "      <th>[8402676.0, 9000010.0)</th>\n",
              "      <td>1</td>\n",
              "    </tr>\n",
              "    <tr>\n",
              "      <th>Total</th>\n",
              "      <td>210</td>\n",
              "    </tr>\n",
              "  </tbody>\n",
              "</table>\n",
              "</div>\n",
              "      <button class=\"colab-df-convert\" onclick=\"convertToInteractive('df-25303aaa-086b-469b-bb62-0f9a1a821008')\"\n",
              "              title=\"Convert this dataframe to an interactive table.\"\n",
              "              style=\"display:none;\">\n",
              "        \n",
              "  <svg xmlns=\"http://www.w3.org/2000/svg\" height=\"24px\"viewBox=\"0 0 24 24\"\n",
              "       width=\"24px\">\n",
              "    <path d=\"M0 0h24v24H0V0z\" fill=\"none\"/>\n",
              "    <path d=\"M18.56 5.44l.94 2.06.94-2.06 2.06-.94-2.06-.94-.94-2.06-.94 2.06-2.06.94zm-11 1L8.5 8.5l.94-2.06 2.06-.94-2.06-.94L8.5 2.5l-.94 2.06-2.06.94zm10 10l.94 2.06.94-2.06 2.06-.94-2.06-.94-.94-2.06-.94 2.06-2.06.94z\"/><path d=\"M17.41 7.96l-1.37-1.37c-.4-.4-.92-.59-1.43-.59-.52 0-1.04.2-1.43.59L10.3 9.45l-7.72 7.72c-.78.78-.78 2.05 0 2.83L4 21.41c.39.39.9.59 1.41.59.51 0 1.02-.2 1.41-.59l7.78-7.78 2.81-2.81c.8-.78.8-2.07 0-2.86zM5.41 20L4 18.59l7.72-7.72 1.47 1.35L5.41 20z\"/>\n",
              "  </svg>\n",
              "      </button>\n",
              "      \n",
              "  <style>\n",
              "    .colab-df-container {\n",
              "      display:flex;\n",
              "      flex-wrap:wrap;\n",
              "      gap: 12px;\n",
              "    }\n",
              "\n",
              "    .colab-df-convert {\n",
              "      background-color: #E8F0FE;\n",
              "      border: none;\n",
              "      border-radius: 50%;\n",
              "      cursor: pointer;\n",
              "      display: none;\n",
              "      fill: #1967D2;\n",
              "      height: 32px;\n",
              "      padding: 0 0 0 0;\n",
              "      width: 32px;\n",
              "    }\n",
              "\n",
              "    .colab-df-convert:hover {\n",
              "      background-color: #E2EBFA;\n",
              "      box-shadow: 0px 1px 2px rgba(60, 64, 67, 0.3), 0px 1px 3px 1px rgba(60, 64, 67, 0.15);\n",
              "      fill: #174EA6;\n",
              "    }\n",
              "\n",
              "    [theme=dark] .colab-df-convert {\n",
              "      background-color: #3B4455;\n",
              "      fill: #D2E3FC;\n",
              "    }\n",
              "\n",
              "    [theme=dark] .colab-df-convert:hover {\n",
              "      background-color: #434B5C;\n",
              "      box-shadow: 0px 1px 3px 1px rgba(0, 0, 0, 0.15);\n",
              "      filter: drop-shadow(0px 1px 2px rgba(0, 0, 0, 0.3));\n",
              "      fill: #FFFFFF;\n",
              "    }\n",
              "  </style>\n",
              "\n",
              "      <script>\n",
              "        const buttonEl =\n",
              "          document.querySelector('#df-25303aaa-086b-469b-bb62-0f9a1a821008 button.colab-df-convert');\n",
              "        buttonEl.style.display =\n",
              "          google.colab.kernel.accessAllowed ? 'block' : 'none';\n",
              "\n",
              "        async function convertToInteractive(key) {\n",
              "          const element = document.querySelector('#df-25303aaa-086b-469b-bb62-0f9a1a821008');\n",
              "          const dataTable =\n",
              "            await google.colab.kernel.invokeFunction('convertToInteractive',\n",
              "                                                     [key], {});\n",
              "          if (!dataTable) return;\n",
              "\n",
              "          const docLinkHtml = 'Like what you see? Visit the ' +\n",
              "            '<a target=\"_blank\" href=https://colab.research.google.com/notebooks/data_table.ipynb>data table notebook</a>'\n",
              "            + ' to learn more about interactive tables.';\n",
              "          element.innerHTML = '';\n",
              "          dataTable['output_type'] = 'display_data';\n",
              "          await google.colab.output.renderOutput(dataTable, element);\n",
              "          const docLink = document.createElement('div');\n",
              "          docLink.innerHTML = docLinkHtml;\n",
              "          element.appendChild(docLink);\n",
              "        }\n",
              "      </script>\n",
              "    </div>\n",
              "  </div>\n",
              "  "
            ]
          },
          "metadata": {},
          "execution_count": 325
        }
      ]
    },
    {
      "cell_type": "markdown",
      "source": [
        "#### Apartamentos"
      ],
      "metadata": {
        "id": "WeJiyAkpnIJ0"
      }
    },
    {
      "cell_type": "code",
      "source": [
        "distribuicao_frequencia = dist_freq(df_apartamentos[\"valor\"])"
      ],
      "metadata": {
        "id": "n5uy_DT2EFVo"
      },
      "execution_count": null,
      "outputs": []
    },
    {
      "cell_type": "markdown",
      "source": [
        "#### *Apartamentos: Resultado*"
      ],
      "metadata": {
        "id": "SqhpKDE-nIJ1"
      }
    },
    {
      "cell_type": "code",
      "source": [
        "distribuicao_frequencia"
      ],
      "metadata": {
        "colab": {
          "base_uri": "https://localhost:8080/",
          "height": 332
        },
        "outputId": "e6662d7e-c237-4d06-fdb7-b6cab9de97d6",
        "id": "egf6liBtnIJ1"
      },
      "execution_count": null,
      "outputs": [
        {
          "output_type": "execute_result",
          "data": {
            "text/plain": [
              "                        Frequência\n",
              "Classes                           \n",
              "[43000.0, 611358.0)            131\n",
              "[611358.0, 1179716.0)           32\n",
              "[1179716.0, 1748074.0)          11\n",
              "[1748074.0, 2316432.0)           2\n",
              "[2316432.0, 2884790.0)           1\n",
              "[2884790.0, 3453148.0)           3\n",
              "[7431654.0, 8000012.0)           1\n",
              "Total                          181"
            ],
            "text/html": [
              "\n",
              "  <div id=\"df-b940758c-3cbd-410d-9aeb-db392574ec7f\">\n",
              "    <div class=\"colab-df-container\">\n",
              "      <div>\n",
              "<style scoped>\n",
              "    .dataframe tbody tr th:only-of-type {\n",
              "        vertical-align: middle;\n",
              "    }\n",
              "\n",
              "    .dataframe tbody tr th {\n",
              "        vertical-align: top;\n",
              "    }\n",
              "\n",
              "    .dataframe thead th {\n",
              "        text-align: right;\n",
              "    }\n",
              "</style>\n",
              "<table border=\"1\" class=\"dataframe\">\n",
              "  <thead>\n",
              "    <tr style=\"text-align: right;\">\n",
              "      <th></th>\n",
              "      <th>Frequência</th>\n",
              "    </tr>\n",
              "    <tr>\n",
              "      <th>Classes</th>\n",
              "      <th></th>\n",
              "    </tr>\n",
              "  </thead>\n",
              "  <tbody>\n",
              "    <tr>\n",
              "      <th>[43000.0, 611358.0)</th>\n",
              "      <td>131</td>\n",
              "    </tr>\n",
              "    <tr>\n",
              "      <th>[611358.0, 1179716.0)</th>\n",
              "      <td>32</td>\n",
              "    </tr>\n",
              "    <tr>\n",
              "      <th>[1179716.0, 1748074.0)</th>\n",
              "      <td>11</td>\n",
              "    </tr>\n",
              "    <tr>\n",
              "      <th>[1748074.0, 2316432.0)</th>\n",
              "      <td>2</td>\n",
              "    </tr>\n",
              "    <tr>\n",
              "      <th>[2316432.0, 2884790.0)</th>\n",
              "      <td>1</td>\n",
              "    </tr>\n",
              "    <tr>\n",
              "      <th>[2884790.0, 3453148.0)</th>\n",
              "      <td>3</td>\n",
              "    </tr>\n",
              "    <tr>\n",
              "      <th>[7431654.0, 8000012.0)</th>\n",
              "      <td>1</td>\n",
              "    </tr>\n",
              "    <tr>\n",
              "      <th>Total</th>\n",
              "      <td>181</td>\n",
              "    </tr>\n",
              "  </tbody>\n",
              "</table>\n",
              "</div>\n",
              "      <button class=\"colab-df-convert\" onclick=\"convertToInteractive('df-b940758c-3cbd-410d-9aeb-db392574ec7f')\"\n",
              "              title=\"Convert this dataframe to an interactive table.\"\n",
              "              style=\"display:none;\">\n",
              "        \n",
              "  <svg xmlns=\"http://www.w3.org/2000/svg\" height=\"24px\"viewBox=\"0 0 24 24\"\n",
              "       width=\"24px\">\n",
              "    <path d=\"M0 0h24v24H0V0z\" fill=\"none\"/>\n",
              "    <path d=\"M18.56 5.44l.94 2.06.94-2.06 2.06-.94-2.06-.94-.94-2.06-.94 2.06-2.06.94zm-11 1L8.5 8.5l.94-2.06 2.06-.94-2.06-.94L8.5 2.5l-.94 2.06-2.06.94zm10 10l.94 2.06.94-2.06 2.06-.94-2.06-.94-.94-2.06-.94 2.06-2.06.94z\"/><path d=\"M17.41 7.96l-1.37-1.37c-.4-.4-.92-.59-1.43-.59-.52 0-1.04.2-1.43.59L10.3 9.45l-7.72 7.72c-.78.78-.78 2.05 0 2.83L4 21.41c.39.39.9.59 1.41.59.51 0 1.02-.2 1.41-.59l7.78-7.78 2.81-2.81c.8-.78.8-2.07 0-2.86zM5.41 20L4 18.59l7.72-7.72 1.47 1.35L5.41 20z\"/>\n",
              "  </svg>\n",
              "      </button>\n",
              "      \n",
              "  <style>\n",
              "    .colab-df-container {\n",
              "      display:flex;\n",
              "      flex-wrap:wrap;\n",
              "      gap: 12px;\n",
              "    }\n",
              "\n",
              "    .colab-df-convert {\n",
              "      background-color: #E8F0FE;\n",
              "      border: none;\n",
              "      border-radius: 50%;\n",
              "      cursor: pointer;\n",
              "      display: none;\n",
              "      fill: #1967D2;\n",
              "      height: 32px;\n",
              "      padding: 0 0 0 0;\n",
              "      width: 32px;\n",
              "    }\n",
              "\n",
              "    .colab-df-convert:hover {\n",
              "      background-color: #E2EBFA;\n",
              "      box-shadow: 0px 1px 2px rgba(60, 64, 67, 0.3), 0px 1px 3px 1px rgba(60, 64, 67, 0.15);\n",
              "      fill: #174EA6;\n",
              "    }\n",
              "\n",
              "    [theme=dark] .colab-df-convert {\n",
              "      background-color: #3B4455;\n",
              "      fill: #D2E3FC;\n",
              "    }\n",
              "\n",
              "    [theme=dark] .colab-df-convert:hover {\n",
              "      background-color: #434B5C;\n",
              "      box-shadow: 0px 1px 3px 1px rgba(0, 0, 0, 0.15);\n",
              "      filter: drop-shadow(0px 1px 2px rgba(0, 0, 0, 0.3));\n",
              "      fill: #FFFFFF;\n",
              "    }\n",
              "  </style>\n",
              "\n",
              "      <script>\n",
              "        const buttonEl =\n",
              "          document.querySelector('#df-b940758c-3cbd-410d-9aeb-db392574ec7f button.colab-df-convert');\n",
              "        buttonEl.style.display =\n",
              "          google.colab.kernel.accessAllowed ? 'block' : 'none';\n",
              "\n",
              "        async function convertToInteractive(key) {\n",
              "          const element = document.querySelector('#df-b940758c-3cbd-410d-9aeb-db392574ec7f');\n",
              "          const dataTable =\n",
              "            await google.colab.kernel.invokeFunction('convertToInteractive',\n",
              "                                                     [key], {});\n",
              "          if (!dataTable) return;\n",
              "\n",
              "          const docLinkHtml = 'Like what you see? Visit the ' +\n",
              "            '<a target=\"_blank\" href=https://colab.research.google.com/notebooks/data_table.ipynb>data table notebook</a>'\n",
              "            + ' to learn more about interactive tables.';\n",
              "          element.innerHTML = '';\n",
              "          dataTable['output_type'] = 'display_data';\n",
              "          await google.colab.output.renderOutput(dataTable, element);\n",
              "          const docLink = document.createElement('div');\n",
              "          docLink.innerHTML = docLinkHtml;\n",
              "          element.appendChild(docLink);\n",
              "        }\n",
              "      </script>\n",
              "    </div>\n",
              "  </div>\n",
              "  "
            ]
          },
          "metadata": {},
          "execution_count": 327
        }
      ]
    },
    {
      "cell_type": "markdown",
      "source": [
        "### Área Construída (Quantitativa Contínua)"
      ],
      "metadata": {
        "id": "0s1g8cNAFXWw"
      }
    },
    {
      "cell_type": "markdown",
      "source": [
        "#### Geral"
      ],
      "metadata": {
        "id": "hx-svseRFXWw"
      }
    },
    {
      "cell_type": "code",
      "source": [
        "distribuicao_frequencia = dist_freq(df[\"area\"])"
      ],
      "metadata": {
        "id": "MljYVKjiFXWw"
      },
      "execution_count": null,
      "outputs": []
    },
    {
      "cell_type": "markdown",
      "source": [
        "#### *Geral: Resultados*"
      ],
      "metadata": {
        "id": "_yLXg4DpFXWx"
      }
    },
    {
      "cell_type": "code",
      "source": [
        "distribuicao_frequencia"
      ],
      "metadata": {
        "colab": {
          "base_uri": "https://localhost:8080/",
          "height": 300
        },
        "outputId": "c27e6d1b-051c-40cb-b38f-7527109d5f11",
        "id": "FdrWJyNjFXWx"
      },
      "execution_count": null,
      "outputs": [
        {
          "output_type": "execute_result",
          "data": {
            "text/plain": [
              "                    Frequência\n",
              "Classes                       \n",
              "[30.0, 939.0)              381\n",
              "[939.0, 1848.0)              5\n",
              "[1848.0, 2757.0)             1\n",
              "[5484.0, 6393.0)             1\n",
              "[9120.0, 10029.0)            1\n",
              "[17301.0, 18210.0)           2\n",
              "Total                      391"
            ],
            "text/html": [
              "\n",
              "  <div id=\"df-52412f2f-3518-4f82-bb23-2cbc2fe3df8f\">\n",
              "    <div class=\"colab-df-container\">\n",
              "      <div>\n",
              "<style scoped>\n",
              "    .dataframe tbody tr th:only-of-type {\n",
              "        vertical-align: middle;\n",
              "    }\n",
              "\n",
              "    .dataframe tbody tr th {\n",
              "        vertical-align: top;\n",
              "    }\n",
              "\n",
              "    .dataframe thead th {\n",
              "        text-align: right;\n",
              "    }\n",
              "</style>\n",
              "<table border=\"1\" class=\"dataframe\">\n",
              "  <thead>\n",
              "    <tr style=\"text-align: right;\">\n",
              "      <th></th>\n",
              "      <th>Frequência</th>\n",
              "    </tr>\n",
              "    <tr>\n",
              "      <th>Classes</th>\n",
              "      <th></th>\n",
              "    </tr>\n",
              "  </thead>\n",
              "  <tbody>\n",
              "    <tr>\n",
              "      <th>[30.0, 939.0)</th>\n",
              "      <td>381</td>\n",
              "    </tr>\n",
              "    <tr>\n",
              "      <th>[939.0, 1848.0)</th>\n",
              "      <td>5</td>\n",
              "    </tr>\n",
              "    <tr>\n",
              "      <th>[1848.0, 2757.0)</th>\n",
              "      <td>1</td>\n",
              "    </tr>\n",
              "    <tr>\n",
              "      <th>[5484.0, 6393.0)</th>\n",
              "      <td>1</td>\n",
              "    </tr>\n",
              "    <tr>\n",
              "      <th>[9120.0, 10029.0)</th>\n",
              "      <td>1</td>\n",
              "    </tr>\n",
              "    <tr>\n",
              "      <th>[17301.0, 18210.0)</th>\n",
              "      <td>2</td>\n",
              "    </tr>\n",
              "    <tr>\n",
              "      <th>Total</th>\n",
              "      <td>391</td>\n",
              "    </tr>\n",
              "  </tbody>\n",
              "</table>\n",
              "</div>\n",
              "      <button class=\"colab-df-convert\" onclick=\"convertToInteractive('df-52412f2f-3518-4f82-bb23-2cbc2fe3df8f')\"\n",
              "              title=\"Convert this dataframe to an interactive table.\"\n",
              "              style=\"display:none;\">\n",
              "        \n",
              "  <svg xmlns=\"http://www.w3.org/2000/svg\" height=\"24px\"viewBox=\"0 0 24 24\"\n",
              "       width=\"24px\">\n",
              "    <path d=\"M0 0h24v24H0V0z\" fill=\"none\"/>\n",
              "    <path d=\"M18.56 5.44l.94 2.06.94-2.06 2.06-.94-2.06-.94-.94-2.06-.94 2.06-2.06.94zm-11 1L8.5 8.5l.94-2.06 2.06-.94-2.06-.94L8.5 2.5l-.94 2.06-2.06.94zm10 10l.94 2.06.94-2.06 2.06-.94-2.06-.94-.94-2.06-.94 2.06-2.06.94z\"/><path d=\"M17.41 7.96l-1.37-1.37c-.4-.4-.92-.59-1.43-.59-.52 0-1.04.2-1.43.59L10.3 9.45l-7.72 7.72c-.78.78-.78 2.05 0 2.83L4 21.41c.39.39.9.59 1.41.59.51 0 1.02-.2 1.41-.59l7.78-7.78 2.81-2.81c.8-.78.8-2.07 0-2.86zM5.41 20L4 18.59l7.72-7.72 1.47 1.35L5.41 20z\"/>\n",
              "  </svg>\n",
              "      </button>\n",
              "      \n",
              "  <style>\n",
              "    .colab-df-container {\n",
              "      display:flex;\n",
              "      flex-wrap:wrap;\n",
              "      gap: 12px;\n",
              "    }\n",
              "\n",
              "    .colab-df-convert {\n",
              "      background-color: #E8F0FE;\n",
              "      border: none;\n",
              "      border-radius: 50%;\n",
              "      cursor: pointer;\n",
              "      display: none;\n",
              "      fill: #1967D2;\n",
              "      height: 32px;\n",
              "      padding: 0 0 0 0;\n",
              "      width: 32px;\n",
              "    }\n",
              "\n",
              "    .colab-df-convert:hover {\n",
              "      background-color: #E2EBFA;\n",
              "      box-shadow: 0px 1px 2px rgba(60, 64, 67, 0.3), 0px 1px 3px 1px rgba(60, 64, 67, 0.15);\n",
              "      fill: #174EA6;\n",
              "    }\n",
              "\n",
              "    [theme=dark] .colab-df-convert {\n",
              "      background-color: #3B4455;\n",
              "      fill: #D2E3FC;\n",
              "    }\n",
              "\n",
              "    [theme=dark] .colab-df-convert:hover {\n",
              "      background-color: #434B5C;\n",
              "      box-shadow: 0px 1px 3px 1px rgba(0, 0, 0, 0.15);\n",
              "      filter: drop-shadow(0px 1px 2px rgba(0, 0, 0, 0.3));\n",
              "      fill: #FFFFFF;\n",
              "    }\n",
              "  </style>\n",
              "\n",
              "      <script>\n",
              "        const buttonEl =\n",
              "          document.querySelector('#df-52412f2f-3518-4f82-bb23-2cbc2fe3df8f button.colab-df-convert');\n",
              "        buttonEl.style.display =\n",
              "          google.colab.kernel.accessAllowed ? 'block' : 'none';\n",
              "\n",
              "        async function convertToInteractive(key) {\n",
              "          const element = document.querySelector('#df-52412f2f-3518-4f82-bb23-2cbc2fe3df8f');\n",
              "          const dataTable =\n",
              "            await google.colab.kernel.invokeFunction('convertToInteractive',\n",
              "                                                     [key], {});\n",
              "          if (!dataTable) return;\n",
              "\n",
              "          const docLinkHtml = 'Like what you see? Visit the ' +\n",
              "            '<a target=\"_blank\" href=https://colab.research.google.com/notebooks/data_table.ipynb>data table notebook</a>'\n",
              "            + ' to learn more about interactive tables.';\n",
              "          element.innerHTML = '';\n",
              "          dataTable['output_type'] = 'display_data';\n",
              "          await google.colab.output.renderOutput(dataTable, element);\n",
              "          const docLink = document.createElement('div');\n",
              "          docLink.innerHTML = docLinkHtml;\n",
              "          element.appendChild(docLink);\n",
              "        }\n",
              "      </script>\n",
              "    </div>\n",
              "  </div>\n",
              "  "
            ]
          },
          "metadata": {},
          "execution_count": 329
        }
      ]
    },
    {
      "cell_type": "markdown",
      "source": [
        "#### Casas"
      ],
      "metadata": {
        "id": "4whov5KbFXWx"
      }
    },
    {
      "cell_type": "code",
      "source": [
        "distribuicao_frequencia = dist_freq(df_casas[\"area\"])"
      ],
      "metadata": {
        "id": "MUhb5ymKFXWx"
      },
      "execution_count": null,
      "outputs": []
    },
    {
      "cell_type": "markdown",
      "source": [
        "#### *Casas: Resultados*"
      ],
      "metadata": {
        "id": "RDO__HQ4FXWy"
      }
    },
    {
      "cell_type": "code",
      "source": [
        "df.loc[df[\"area\"] > 2000]"
      ],
      "metadata": {
        "colab": {
          "base_uri": "https://localhost:8080/",
          "height": 175
        },
        "outputId": "c7846fe3-145b-4061-e57a-89b3cf8cc1ea",
        "id": "cvnpG9BDFXWy"
      },
      "execution_count": null,
      "outputs": [
        {
          "output_type": "execute_result",
          "data": {
            "text/plain": [
              "     Unnamed: 0      valor              bairro   zona categoria     area  \\\n",
              "17          182   600000.0              Centro    Sul     Casas  17947.0   \n",
              "103        1191   170000.0  Colônia Terra Nova  Norte     Casas  10000.0   \n",
              "260        2999  1150000.0         Ponta Negra  Oeste     Casas  18197.0   \n",
              "388        4476  9000000.0         Ponta Negra  Oeste     Casas   6000.0   \n",
              "\n",
              "     qtde_quartos  qtde_vagas  qtde_banheiros  \n",
              "17              3           1               2  \n",
              "103             5           3               4  \n",
              "260             3           4               4  \n",
              "388             4           5               5  "
            ],
            "text/html": [
              "\n",
              "  <div id=\"df-979d426f-b619-4e4b-93cf-cf491958b257\">\n",
              "    <div class=\"colab-df-container\">\n",
              "      <div>\n",
              "<style scoped>\n",
              "    .dataframe tbody tr th:only-of-type {\n",
              "        vertical-align: middle;\n",
              "    }\n",
              "\n",
              "    .dataframe tbody tr th {\n",
              "        vertical-align: top;\n",
              "    }\n",
              "\n",
              "    .dataframe thead th {\n",
              "        text-align: right;\n",
              "    }\n",
              "</style>\n",
              "<table border=\"1\" class=\"dataframe\">\n",
              "  <thead>\n",
              "    <tr style=\"text-align: right;\">\n",
              "      <th></th>\n",
              "      <th>Unnamed: 0</th>\n",
              "      <th>valor</th>\n",
              "      <th>bairro</th>\n",
              "      <th>zona</th>\n",
              "      <th>categoria</th>\n",
              "      <th>area</th>\n",
              "      <th>qtde_quartos</th>\n",
              "      <th>qtde_vagas</th>\n",
              "      <th>qtde_banheiros</th>\n",
              "    </tr>\n",
              "  </thead>\n",
              "  <tbody>\n",
              "    <tr>\n",
              "      <th>17</th>\n",
              "      <td>182</td>\n",
              "      <td>600000.0</td>\n",
              "      <td>Centro</td>\n",
              "      <td>Sul</td>\n",
              "      <td>Casas</td>\n",
              "      <td>17947.0</td>\n",
              "      <td>3</td>\n",
              "      <td>1</td>\n",
              "      <td>2</td>\n",
              "    </tr>\n",
              "    <tr>\n",
              "      <th>103</th>\n",
              "      <td>1191</td>\n",
              "      <td>170000.0</td>\n",
              "      <td>Colônia Terra Nova</td>\n",
              "      <td>Norte</td>\n",
              "      <td>Casas</td>\n",
              "      <td>10000.0</td>\n",
              "      <td>5</td>\n",
              "      <td>3</td>\n",
              "      <td>4</td>\n",
              "    </tr>\n",
              "    <tr>\n",
              "      <th>260</th>\n",
              "      <td>2999</td>\n",
              "      <td>1150000.0</td>\n",
              "      <td>Ponta Negra</td>\n",
              "      <td>Oeste</td>\n",
              "      <td>Casas</td>\n",
              "      <td>18197.0</td>\n",
              "      <td>3</td>\n",
              "      <td>4</td>\n",
              "      <td>4</td>\n",
              "    </tr>\n",
              "    <tr>\n",
              "      <th>388</th>\n",
              "      <td>4476</td>\n",
              "      <td>9000000.0</td>\n",
              "      <td>Ponta Negra</td>\n",
              "      <td>Oeste</td>\n",
              "      <td>Casas</td>\n",
              "      <td>6000.0</td>\n",
              "      <td>4</td>\n",
              "      <td>5</td>\n",
              "      <td>5</td>\n",
              "    </tr>\n",
              "  </tbody>\n",
              "</table>\n",
              "</div>\n",
              "      <button class=\"colab-df-convert\" onclick=\"convertToInteractive('df-979d426f-b619-4e4b-93cf-cf491958b257')\"\n",
              "              title=\"Convert this dataframe to an interactive table.\"\n",
              "              style=\"display:none;\">\n",
              "        \n",
              "  <svg xmlns=\"http://www.w3.org/2000/svg\" height=\"24px\"viewBox=\"0 0 24 24\"\n",
              "       width=\"24px\">\n",
              "    <path d=\"M0 0h24v24H0V0z\" fill=\"none\"/>\n",
              "    <path d=\"M18.56 5.44l.94 2.06.94-2.06 2.06-.94-2.06-.94-.94-2.06-.94 2.06-2.06.94zm-11 1L8.5 8.5l.94-2.06 2.06-.94-2.06-.94L8.5 2.5l-.94 2.06-2.06.94zm10 10l.94 2.06.94-2.06 2.06-.94-2.06-.94-.94-2.06-.94 2.06-2.06.94z\"/><path d=\"M17.41 7.96l-1.37-1.37c-.4-.4-.92-.59-1.43-.59-.52 0-1.04.2-1.43.59L10.3 9.45l-7.72 7.72c-.78.78-.78 2.05 0 2.83L4 21.41c.39.39.9.59 1.41.59.51 0 1.02-.2 1.41-.59l7.78-7.78 2.81-2.81c.8-.78.8-2.07 0-2.86zM5.41 20L4 18.59l7.72-7.72 1.47 1.35L5.41 20z\"/>\n",
              "  </svg>\n",
              "      </button>\n",
              "      \n",
              "  <style>\n",
              "    .colab-df-container {\n",
              "      display:flex;\n",
              "      flex-wrap:wrap;\n",
              "      gap: 12px;\n",
              "    }\n",
              "\n",
              "    .colab-df-convert {\n",
              "      background-color: #E8F0FE;\n",
              "      border: none;\n",
              "      border-radius: 50%;\n",
              "      cursor: pointer;\n",
              "      display: none;\n",
              "      fill: #1967D2;\n",
              "      height: 32px;\n",
              "      padding: 0 0 0 0;\n",
              "      width: 32px;\n",
              "    }\n",
              "\n",
              "    .colab-df-convert:hover {\n",
              "      background-color: #E2EBFA;\n",
              "      box-shadow: 0px 1px 2px rgba(60, 64, 67, 0.3), 0px 1px 3px 1px rgba(60, 64, 67, 0.15);\n",
              "      fill: #174EA6;\n",
              "    }\n",
              "\n",
              "    [theme=dark] .colab-df-convert {\n",
              "      background-color: #3B4455;\n",
              "      fill: #D2E3FC;\n",
              "    }\n",
              "\n",
              "    [theme=dark] .colab-df-convert:hover {\n",
              "      background-color: #434B5C;\n",
              "      box-shadow: 0px 1px 3px 1px rgba(0, 0, 0, 0.15);\n",
              "      filter: drop-shadow(0px 1px 2px rgba(0, 0, 0, 0.3));\n",
              "      fill: #FFFFFF;\n",
              "    }\n",
              "  </style>\n",
              "\n",
              "      <script>\n",
              "        const buttonEl =\n",
              "          document.querySelector('#df-979d426f-b619-4e4b-93cf-cf491958b257 button.colab-df-convert');\n",
              "        buttonEl.style.display =\n",
              "          google.colab.kernel.accessAllowed ? 'block' : 'none';\n",
              "\n",
              "        async function convertToInteractive(key) {\n",
              "          const element = document.querySelector('#df-979d426f-b619-4e4b-93cf-cf491958b257');\n",
              "          const dataTable =\n",
              "            await google.colab.kernel.invokeFunction('convertToInteractive',\n",
              "                                                     [key], {});\n",
              "          if (!dataTable) return;\n",
              "\n",
              "          const docLinkHtml = 'Like what you see? Visit the ' +\n",
              "            '<a target=\"_blank\" href=https://colab.research.google.com/notebooks/data_table.ipynb>data table notebook</a>'\n",
              "            + ' to learn more about interactive tables.';\n",
              "          element.innerHTML = '';\n",
              "          dataTable['output_type'] = 'display_data';\n",
              "          await google.colab.output.renderOutput(dataTable, element);\n",
              "          const docLink = document.createElement('div');\n",
              "          docLink.innerHTML = docLinkHtml;\n",
              "          element.appendChild(docLink);\n",
              "        }\n",
              "      </script>\n",
              "    </div>\n",
              "  </div>\n",
              "  "
            ]
          },
          "metadata": {},
          "execution_count": 331
        }
      ]
    },
    {
      "cell_type": "markdown",
      "source": [
        "#### Apartamentos"
      ],
      "metadata": {
        "id": "aex4gnWUFXWy"
      }
    },
    {
      "cell_type": "code",
      "source": [
        "distribuicao_frequencia = dist_freq(df_apartamentos[\"valor\"])"
      ],
      "metadata": {
        "id": "fCJcS6qSFXWy"
      },
      "execution_count": null,
      "outputs": []
    },
    {
      "cell_type": "markdown",
      "source": [
        "#### *Apartamentos: Resultado*"
      ],
      "metadata": {
        "id": "UO9u6G79FXWy"
      }
    },
    {
      "cell_type": "code",
      "source": [
        "distribuicao_frequencia"
      ],
      "metadata": {
        "colab": {
          "base_uri": "https://localhost:8080/",
          "height": 332
        },
        "outputId": "aabdcfa7-9c2c-48a0-d6ef-1652dc6b84b1",
        "id": "lb26JUrWFXWy"
      },
      "execution_count": null,
      "outputs": [
        {
          "output_type": "execute_result",
          "data": {
            "text/plain": [
              "                        Frequência\n",
              "Classes                           \n",
              "[43000.0, 611358.0)            131\n",
              "[611358.0, 1179716.0)           32\n",
              "[1179716.0, 1748074.0)          11\n",
              "[1748074.0, 2316432.0)           2\n",
              "[2316432.0, 2884790.0)           1\n",
              "[2884790.0, 3453148.0)           3\n",
              "[7431654.0, 8000012.0)           1\n",
              "Total                          181"
            ],
            "text/html": [
              "\n",
              "  <div id=\"df-be59ad28-eb21-4386-b927-f3c779990014\">\n",
              "    <div class=\"colab-df-container\">\n",
              "      <div>\n",
              "<style scoped>\n",
              "    .dataframe tbody tr th:only-of-type {\n",
              "        vertical-align: middle;\n",
              "    }\n",
              "\n",
              "    .dataframe tbody tr th {\n",
              "        vertical-align: top;\n",
              "    }\n",
              "\n",
              "    .dataframe thead th {\n",
              "        text-align: right;\n",
              "    }\n",
              "</style>\n",
              "<table border=\"1\" class=\"dataframe\">\n",
              "  <thead>\n",
              "    <tr style=\"text-align: right;\">\n",
              "      <th></th>\n",
              "      <th>Frequência</th>\n",
              "    </tr>\n",
              "    <tr>\n",
              "      <th>Classes</th>\n",
              "      <th></th>\n",
              "    </tr>\n",
              "  </thead>\n",
              "  <tbody>\n",
              "    <tr>\n",
              "      <th>[43000.0, 611358.0)</th>\n",
              "      <td>131</td>\n",
              "    </tr>\n",
              "    <tr>\n",
              "      <th>[611358.0, 1179716.0)</th>\n",
              "      <td>32</td>\n",
              "    </tr>\n",
              "    <tr>\n",
              "      <th>[1179716.0, 1748074.0)</th>\n",
              "      <td>11</td>\n",
              "    </tr>\n",
              "    <tr>\n",
              "      <th>[1748074.0, 2316432.0)</th>\n",
              "      <td>2</td>\n",
              "    </tr>\n",
              "    <tr>\n",
              "      <th>[2316432.0, 2884790.0)</th>\n",
              "      <td>1</td>\n",
              "    </tr>\n",
              "    <tr>\n",
              "      <th>[2884790.0, 3453148.0)</th>\n",
              "      <td>3</td>\n",
              "    </tr>\n",
              "    <tr>\n",
              "      <th>[7431654.0, 8000012.0)</th>\n",
              "      <td>1</td>\n",
              "    </tr>\n",
              "    <tr>\n",
              "      <th>Total</th>\n",
              "      <td>181</td>\n",
              "    </tr>\n",
              "  </tbody>\n",
              "</table>\n",
              "</div>\n",
              "      <button class=\"colab-df-convert\" onclick=\"convertToInteractive('df-be59ad28-eb21-4386-b927-f3c779990014')\"\n",
              "              title=\"Convert this dataframe to an interactive table.\"\n",
              "              style=\"display:none;\">\n",
              "        \n",
              "  <svg xmlns=\"http://www.w3.org/2000/svg\" height=\"24px\"viewBox=\"0 0 24 24\"\n",
              "       width=\"24px\">\n",
              "    <path d=\"M0 0h24v24H0V0z\" fill=\"none\"/>\n",
              "    <path d=\"M18.56 5.44l.94 2.06.94-2.06 2.06-.94-2.06-.94-.94-2.06-.94 2.06-2.06.94zm-11 1L8.5 8.5l.94-2.06 2.06-.94-2.06-.94L8.5 2.5l-.94 2.06-2.06.94zm10 10l.94 2.06.94-2.06 2.06-.94-2.06-.94-.94-2.06-.94 2.06-2.06.94z\"/><path d=\"M17.41 7.96l-1.37-1.37c-.4-.4-.92-.59-1.43-.59-.52 0-1.04.2-1.43.59L10.3 9.45l-7.72 7.72c-.78.78-.78 2.05 0 2.83L4 21.41c.39.39.9.59 1.41.59.51 0 1.02-.2 1.41-.59l7.78-7.78 2.81-2.81c.8-.78.8-2.07 0-2.86zM5.41 20L4 18.59l7.72-7.72 1.47 1.35L5.41 20z\"/>\n",
              "  </svg>\n",
              "      </button>\n",
              "      \n",
              "  <style>\n",
              "    .colab-df-container {\n",
              "      display:flex;\n",
              "      flex-wrap:wrap;\n",
              "      gap: 12px;\n",
              "    }\n",
              "\n",
              "    .colab-df-convert {\n",
              "      background-color: #E8F0FE;\n",
              "      border: none;\n",
              "      border-radius: 50%;\n",
              "      cursor: pointer;\n",
              "      display: none;\n",
              "      fill: #1967D2;\n",
              "      height: 32px;\n",
              "      padding: 0 0 0 0;\n",
              "      width: 32px;\n",
              "    }\n",
              "\n",
              "    .colab-df-convert:hover {\n",
              "      background-color: #E2EBFA;\n",
              "      box-shadow: 0px 1px 2px rgba(60, 64, 67, 0.3), 0px 1px 3px 1px rgba(60, 64, 67, 0.15);\n",
              "      fill: #174EA6;\n",
              "    }\n",
              "\n",
              "    [theme=dark] .colab-df-convert {\n",
              "      background-color: #3B4455;\n",
              "      fill: #D2E3FC;\n",
              "    }\n",
              "\n",
              "    [theme=dark] .colab-df-convert:hover {\n",
              "      background-color: #434B5C;\n",
              "      box-shadow: 0px 1px 3px 1px rgba(0, 0, 0, 0.15);\n",
              "      filter: drop-shadow(0px 1px 2px rgba(0, 0, 0, 0.3));\n",
              "      fill: #FFFFFF;\n",
              "    }\n",
              "  </style>\n",
              "\n",
              "      <script>\n",
              "        const buttonEl =\n",
              "          document.querySelector('#df-be59ad28-eb21-4386-b927-f3c779990014 button.colab-df-convert');\n",
              "        buttonEl.style.display =\n",
              "          google.colab.kernel.accessAllowed ? 'block' : 'none';\n",
              "\n",
              "        async function convertToInteractive(key) {\n",
              "          const element = document.querySelector('#df-be59ad28-eb21-4386-b927-f3c779990014');\n",
              "          const dataTable =\n",
              "            await google.colab.kernel.invokeFunction('convertToInteractive',\n",
              "                                                     [key], {});\n",
              "          if (!dataTable) return;\n",
              "\n",
              "          const docLinkHtml = 'Like what you see? Visit the ' +\n",
              "            '<a target=\"_blank\" href=https://colab.research.google.com/notebooks/data_table.ipynb>data table notebook</a>'\n",
              "            + ' to learn more about interactive tables.';\n",
              "          element.innerHTML = '';\n",
              "          dataTable['output_type'] = 'display_data';\n",
              "          await google.colab.output.renderOutput(dataTable, element);\n",
              "          const docLink = document.createElement('div');\n",
              "          docLink.innerHTML = docLinkHtml;\n",
              "          element.appendChild(docLink);\n",
              "        }\n",
              "      </script>\n",
              "    </div>\n",
              "  </div>\n",
              "  "
            ]
          },
          "metadata": {},
          "execution_count": 333
        }
      ]
    },
    {
      "cell_type": "markdown",
      "source": [
        "### Quantidade de Quartos (Quantitativa Discreta)"
      ],
      "metadata": {
        "id": "aNVhPY-vUP8_"
      }
    },
    {
      "cell_type": "markdown",
      "source": [
        "#### Geral"
      ],
      "metadata": {
        "id": "rK2ob9-pkK0n"
      }
    },
    {
      "cell_type": "code",
      "source": [
        "frequencia = df[\"qtde_quartos\"].value_counts()\n",
        "percentual = round(df[\"qtde_quartos\"].value_counts(normalize=True) * 100, 2)"
      ],
      "metadata": {
        "id": "bNtxP5_TU_qP"
      },
      "execution_count": null,
      "outputs": []
    },
    {
      "cell_type": "code",
      "source": [
        "distribuicao_frequencia = pd.DataFrame({\"Frequencia\": frequencia, \"Percentual (%)\": percentual})\n",
        "distribuicao_frequencia.reset_index(inplace=True)\n",
        "distribuicao_frequencia.rename(columns={\"index\":\"Qtde. Quartos\"}, inplace=True)"
      ],
      "metadata": {
        "id": "2MYw9yW0XRTw"
      },
      "execution_count": null,
      "outputs": []
    },
    {
      "cell_type": "markdown",
      "source": [
        "#### *Geral: Resultados*"
      ],
      "metadata": {
        "id": "2hRcG_5ekUKo"
      }
    },
    {
      "cell_type": "code",
      "source": [
        "distribuicao_frequencia"
      ],
      "metadata": {
        "colab": {
          "base_uri": "https://localhost:8080/",
          "height": 206
        },
        "id": "IpgO83TekgRV",
        "outputId": "aa4c072f-8111-46b0-86e8-a3dbbc0bb769"
      },
      "execution_count": null,
      "outputs": [
        {
          "output_type": "execute_result",
          "data": {
            "text/plain": [
              "   Qtde. Quartos  Frequencia  Percentual (%)\n",
              "0              3         194           49.62\n",
              "1              2         112           28.64\n",
              "2              4          52           13.30\n",
              "3              5          25            6.39\n",
              "4              1           8            2.05"
            ],
            "text/html": [
              "\n",
              "  <div id=\"df-8f1b3e7d-7214-4985-9ced-38d4839cbdd8\">\n",
              "    <div class=\"colab-df-container\">\n",
              "      <div>\n",
              "<style scoped>\n",
              "    .dataframe tbody tr th:only-of-type {\n",
              "        vertical-align: middle;\n",
              "    }\n",
              "\n",
              "    .dataframe tbody tr th {\n",
              "        vertical-align: top;\n",
              "    }\n",
              "\n",
              "    .dataframe thead th {\n",
              "        text-align: right;\n",
              "    }\n",
              "</style>\n",
              "<table border=\"1\" class=\"dataframe\">\n",
              "  <thead>\n",
              "    <tr style=\"text-align: right;\">\n",
              "      <th></th>\n",
              "      <th>Qtde. Quartos</th>\n",
              "      <th>Frequencia</th>\n",
              "      <th>Percentual (%)</th>\n",
              "    </tr>\n",
              "  </thead>\n",
              "  <tbody>\n",
              "    <tr>\n",
              "      <th>0</th>\n",
              "      <td>3</td>\n",
              "      <td>194</td>\n",
              "      <td>49.62</td>\n",
              "    </tr>\n",
              "    <tr>\n",
              "      <th>1</th>\n",
              "      <td>2</td>\n",
              "      <td>112</td>\n",
              "      <td>28.64</td>\n",
              "    </tr>\n",
              "    <tr>\n",
              "      <th>2</th>\n",
              "      <td>4</td>\n",
              "      <td>52</td>\n",
              "      <td>13.30</td>\n",
              "    </tr>\n",
              "    <tr>\n",
              "      <th>3</th>\n",
              "      <td>5</td>\n",
              "      <td>25</td>\n",
              "      <td>6.39</td>\n",
              "    </tr>\n",
              "    <tr>\n",
              "      <th>4</th>\n",
              "      <td>1</td>\n",
              "      <td>8</td>\n",
              "      <td>2.05</td>\n",
              "    </tr>\n",
              "  </tbody>\n",
              "</table>\n",
              "</div>\n",
              "      <button class=\"colab-df-convert\" onclick=\"convertToInteractive('df-8f1b3e7d-7214-4985-9ced-38d4839cbdd8')\"\n",
              "              title=\"Convert this dataframe to an interactive table.\"\n",
              "              style=\"display:none;\">\n",
              "        \n",
              "  <svg xmlns=\"http://www.w3.org/2000/svg\" height=\"24px\"viewBox=\"0 0 24 24\"\n",
              "       width=\"24px\">\n",
              "    <path d=\"M0 0h24v24H0V0z\" fill=\"none\"/>\n",
              "    <path d=\"M18.56 5.44l.94 2.06.94-2.06 2.06-.94-2.06-.94-.94-2.06-.94 2.06-2.06.94zm-11 1L8.5 8.5l.94-2.06 2.06-.94-2.06-.94L8.5 2.5l-.94 2.06-2.06.94zm10 10l.94 2.06.94-2.06 2.06-.94-2.06-.94-.94-2.06-.94 2.06-2.06.94z\"/><path d=\"M17.41 7.96l-1.37-1.37c-.4-.4-.92-.59-1.43-.59-.52 0-1.04.2-1.43.59L10.3 9.45l-7.72 7.72c-.78.78-.78 2.05 0 2.83L4 21.41c.39.39.9.59 1.41.59.51 0 1.02-.2 1.41-.59l7.78-7.78 2.81-2.81c.8-.78.8-2.07 0-2.86zM5.41 20L4 18.59l7.72-7.72 1.47 1.35L5.41 20z\"/>\n",
              "  </svg>\n",
              "      </button>\n",
              "      \n",
              "  <style>\n",
              "    .colab-df-container {\n",
              "      display:flex;\n",
              "      flex-wrap:wrap;\n",
              "      gap: 12px;\n",
              "    }\n",
              "\n",
              "    .colab-df-convert {\n",
              "      background-color: #E8F0FE;\n",
              "      border: none;\n",
              "      border-radius: 50%;\n",
              "      cursor: pointer;\n",
              "      display: none;\n",
              "      fill: #1967D2;\n",
              "      height: 32px;\n",
              "      padding: 0 0 0 0;\n",
              "      width: 32px;\n",
              "    }\n",
              "\n",
              "    .colab-df-convert:hover {\n",
              "      background-color: #E2EBFA;\n",
              "      box-shadow: 0px 1px 2px rgba(60, 64, 67, 0.3), 0px 1px 3px 1px rgba(60, 64, 67, 0.15);\n",
              "      fill: #174EA6;\n",
              "    }\n",
              "\n",
              "    [theme=dark] .colab-df-convert {\n",
              "      background-color: #3B4455;\n",
              "      fill: #D2E3FC;\n",
              "    }\n",
              "\n",
              "    [theme=dark] .colab-df-convert:hover {\n",
              "      background-color: #434B5C;\n",
              "      box-shadow: 0px 1px 3px 1px rgba(0, 0, 0, 0.15);\n",
              "      filter: drop-shadow(0px 1px 2px rgba(0, 0, 0, 0.3));\n",
              "      fill: #FFFFFF;\n",
              "    }\n",
              "  </style>\n",
              "\n",
              "      <script>\n",
              "        const buttonEl =\n",
              "          document.querySelector('#df-8f1b3e7d-7214-4985-9ced-38d4839cbdd8 button.colab-df-convert');\n",
              "        buttonEl.style.display =\n",
              "          google.colab.kernel.accessAllowed ? 'block' : 'none';\n",
              "\n",
              "        async function convertToInteractive(key) {\n",
              "          const element = document.querySelector('#df-8f1b3e7d-7214-4985-9ced-38d4839cbdd8');\n",
              "          const dataTable =\n",
              "            await google.colab.kernel.invokeFunction('convertToInteractive',\n",
              "                                                     [key], {});\n",
              "          if (!dataTable) return;\n",
              "\n",
              "          const docLinkHtml = 'Like what you see? Visit the ' +\n",
              "            '<a target=\"_blank\" href=https://colab.research.google.com/notebooks/data_table.ipynb>data table notebook</a>'\n",
              "            + ' to learn more about interactive tables.';\n",
              "          element.innerHTML = '';\n",
              "          dataTable['output_type'] = 'display_data';\n",
              "          await google.colab.output.renderOutput(dataTable, element);\n",
              "          const docLink = document.createElement('div');\n",
              "          docLink.innerHTML = docLinkHtml;\n",
              "          element.appendChild(docLink);\n",
              "        }\n",
              "      </script>\n",
              "    </div>\n",
              "  </div>\n",
              "  "
            ]
          },
          "metadata": {},
          "execution_count": 336
        }
      ]
    },
    {
      "cell_type": "code",
      "source": [
        "plot = sns.barplot(data=distribuicao_frequencia, x=\"Qtde. Quartos\", y=\"Percentual (%)\", color= \"blue\")\n",
        "show_values(plot)"
      ],
      "metadata": {
        "colab": {
          "base_uri": "https://localhost:8080/",
          "height": 279
        },
        "id": "seyoDMSokghO",
        "outputId": "e78a7dff-2b61-4685-8ee5-3ffb256b58fc"
      },
      "execution_count": null,
      "outputs": [
        {
          "output_type": "display_data",
          "data": {
            "text/plain": [
              "<Figure size 432x288 with 1 Axes>"
            ],
            "image/png": "[encoded data removed]"
          },
          "metadata": {
            "needs_background": "light"
          }
        }
      ]
    },
    {
      "cell_type": "markdown",
      "source": [
        "#### Casas"
      ],
      "metadata": {
        "id": "N1_JK0tHkNpu"
      }
    },
    {
      "cell_type": "code",
      "source": [
        "frequencia = df_casas[\"qtde_quartos\"].value_counts()\n",
        "percentual = round(df_casas[\"qtde_quartos\"].value_counts(normalize=True) * 100, 2)"
      ],
      "metadata": {
        "id": "cqXf5cMakPsf"
      },
      "execution_count": null,
      "outputs": []
    },
    {
      "cell_type": "code",
      "source": [
        "distribuicao_frequencia = pd.DataFrame({\"Frequencia\": frequencia, \"Percentual (%)\": percentual})\n",
        "distribuicao_frequencia.reset_index(inplace=True)\n",
        "distribuicao_frequencia.rename(columns={\"index\":\"Qtde. Quartos\"}, inplace=True)"
      ],
      "metadata": {
        "id": "AB-elm82k8e9"
      },
      "execution_count": null,
      "outputs": []
    },
    {
      "cell_type": "markdown",
      "source": [
        "#### *Casas: Resultados*"
      ],
      "metadata": {
        "id": "qwAYz38wlGMV"
      }
    },
    {
      "cell_type": "code",
      "source": [
        "distribuicao_frequencia"
      ],
      "metadata": {
        "colab": {
          "base_uri": "https://localhost:8080/",
          "height": 206
        },
        "id": "nz_VhUoPlH-P",
        "outputId": "126192c1-49f4-49d4-eff3-dcd69522676a"
      },
      "execution_count": null,
      "outputs": [
        {
          "output_type": "execute_result",
          "data": {
            "text/plain": [
              "   Qtde. Quartos  Frequencia  Percentual (%)\n",
              "0              3         110           52.38\n",
              "1              4          39           18.57\n",
              "2              2          37           17.62\n",
              "3              5          21           10.00\n",
              "4              1           3            1.43"
            ],
            "text/html": [
              "\n",
              "  <div id=\"df-fe865d41-62e7-42f0-a7d8-07ee4fd84455\">\n",
              "    <div class=\"colab-df-container\">\n",
              "      <div>\n",
              "<style scoped>\n",
              "    .dataframe tbody tr th:only-of-type {\n",
              "        vertical-align: middle;\n",
              "    }\n",
              "\n",
              "    .dataframe tbody tr th {\n",
              "        vertical-align: top;\n",
              "    }\n",
              "\n",
              "    .dataframe thead th {\n",
              "        text-align: right;\n",
              "    }\n",
              "</style>\n",
              "<table border=\"1\" class=\"dataframe\">\n",
              "  <thead>\n",
              "    <tr style=\"text-align: right;\">\n",
              "      <th></th>\n",
              "      <th>Qtde. Quartos</th>\n",
              "      <th>Frequencia</th>\n",
              "      <th>Percentual (%)</th>\n",
              "    </tr>\n",
              "  </thead>\n",
              "  <tbody>\n",
              "    <tr>\n",
              "      <th>0</th>\n",
              "      <td>3</td>\n",
              "      <td>110</td>\n",
              "      <td>52.38</td>\n",
              "    </tr>\n",
              "    <tr>\n",
              "      <th>1</th>\n",
              "      <td>4</td>\n",
              "      <td>39</td>\n",
              "      <td>18.57</td>\n",
              "    </tr>\n",
              "    <tr>\n",
              "      <th>2</th>\n",
              "      <td>2</td>\n",
              "      <td>37</td>\n",
              "      <td>17.62</td>\n",
              "    </tr>\n",
              "    <tr>\n",
              "      <th>3</th>\n",
              "      <td>5</td>\n",
              "      <td>21</td>\n",
              "      <td>10.00</td>\n",
              "    </tr>\n",
              "    <tr>\n",
              "      <th>4</th>\n",
              "      <td>1</td>\n",
              "      <td>3</td>\n",
              "      <td>1.43</td>\n",
              "    </tr>\n",
              "  </tbody>\n",
              "</table>\n",
              "</div>\n",
              "      <button class=\"colab-df-convert\" onclick=\"convertToInteractive('df-fe865d41-62e7-42f0-a7d8-07ee4fd84455')\"\n",
              "              title=\"Convert this dataframe to an interactive table.\"\n",
              "              style=\"display:none;\">\n",
              "        \n",
              "  <svg xmlns=\"http://www.w3.org/2000/svg\" height=\"24px\"viewBox=\"0 0 24 24\"\n",
              "       width=\"24px\">\n",
              "    <path d=\"M0 0h24v24H0V0z\" fill=\"none\"/>\n",
              "    <path d=\"M18.56 5.44l.94 2.06.94-2.06 2.06-.94-2.06-.94-.94-2.06-.94 2.06-2.06.94zm-11 1L8.5 8.5l.94-2.06 2.06-.94-2.06-.94L8.5 2.5l-.94 2.06-2.06.94zm10 10l.94 2.06.94-2.06 2.06-.94-2.06-.94-.94-2.06-.94 2.06-2.06.94z\"/><path d=\"M17.41 7.96l-1.37-1.37c-.4-.4-.92-.59-1.43-.59-.52 0-1.04.2-1.43.59L10.3 9.45l-7.72 7.72c-.78.78-.78 2.05 0 2.83L4 21.41c.39.39.9.59 1.41.59.51 0 1.02-.2 1.41-.59l7.78-7.78 2.81-2.81c.8-.78.8-2.07 0-2.86zM5.41 20L4 18.59l7.72-7.72 1.47 1.35L5.41 20z\"/>\n",
              "  </svg>\n",
              "      </button>\n",
              "      \n",
              "  <style>\n",
              "    .colab-df-container {\n",
              "      display:flex;\n",
              "      flex-wrap:wrap;\n",
              "      gap: 12px;\n",
              "    }\n",
              "\n",
              "    .colab-df-convert {\n",
              "      background-color: #E8F0FE;\n",
              "      border: none;\n",
              "      border-radius: 50%;\n",
              "      cursor: pointer;\n",
              "      display: none;\n",
              "      fill: #1967D2;\n",
              "      height: 32px;\n",
              "      padding: 0 0 0 0;\n",
              "      width: 32px;\n",
              "    }\n",
              "\n",
              "    .colab-df-convert:hover {\n",
              "      background-color: #E2EBFA;\n",
              "      box-shadow: 0px 1px 2px rgba(60, 64, 67, 0.3), 0px 1px 3px 1px rgba(60, 64, 67, 0.15);\n",
              "      fill: #174EA6;\n",
              "    }\n",
              "\n",
              "    [theme=dark] .colab-df-convert {\n",
              "      background-color: #3B4455;\n",
              "      fill: #D2E3FC;\n",
              "    }\n",
              "\n",
              "    [theme=dark] .colab-df-convert:hover {\n",
              "      background-color: #434B5C;\n",
              "      box-shadow: 0px 1px 3px 1px rgba(0, 0, 0, 0.15);\n",
              "      filter: drop-shadow(0px 1px 2px rgba(0, 0, 0, 0.3));\n",
              "      fill: #FFFFFF;\n",
              "    }\n",
              "  </style>\n",
              "\n",
              "      <script>\n",
              "        const buttonEl =\n",
              "          document.querySelector('#df-fe865d41-62e7-42f0-a7d8-07ee4fd84455 button.colab-df-convert');\n",
              "        buttonEl.style.display =\n",
              "          google.colab.kernel.accessAllowed ? 'block' : 'none';\n",
              "\n",
              "        async function convertToInteractive(key) {\n",
              "          const element = document.querySelector('#df-fe865d41-62e7-42f0-a7d8-07ee4fd84455');\n",
              "          const dataTable =\n",
              "            await google.colab.kernel.invokeFunction('convertToInteractive',\n",
              "                                                     [key], {});\n",
              "          if (!dataTable) return;\n",
              "\n",
              "          const docLinkHtml = 'Like what you see? Visit the ' +\n",
              "            '<a target=\"_blank\" href=https://colab.research.google.com/notebooks/data_table.ipynb>data table notebook</a>'\n",
              "            + ' to learn more about interactive tables.';\n",
              "          element.innerHTML = '';\n",
              "          dataTable['output_type'] = 'display_data';\n",
              "          await google.colab.output.renderOutput(dataTable, element);\n",
              "          const docLink = document.createElement('div');\n",
              "          docLink.innerHTML = docLinkHtml;\n",
              "          element.appendChild(docLink);\n",
              "        }\n",
              "      </script>\n",
              "    </div>\n",
              "  </div>\n",
              "  "
            ]
          },
          "metadata": {},
          "execution_count": 340
        }
      ]
    },
    {
      "cell_type": "code",
      "source": [
        "plot = sns.barplot(data=distribuicao_frequencia, x=\"Qtde. Quartos\", y=\"Percentual (%)\", color= \"blue\")\n",
        "\n",
        "show_values(plot)"
      ],
      "metadata": {
        "colab": {
          "base_uri": "https://localhost:8080/",
          "height": 279
        },
        "id": "6tg2U0EsmeOS",
        "outputId": "6e0bb312-2e2c-4f5d-f9ea-51763b9190b1"
      },
      "execution_count": null,
      "outputs": [
        {
          "output_type": "display_data",
          "data": {
            "text/plain": [
              "<Figure size 432x288 with 1 Axes>"
            ],
            "image/png": "[encoded data removed]"
          },
          "metadata": {
            "needs_background": "light"
          }
        }
      ]
    },
    {
      "cell_type": "markdown",
      "source": [
        "#### Apartamentos"
      ],
      "metadata": {
        "id": "eJcRinJ9lKj2"
      }
    },
    {
      "cell_type": "code",
      "source": [
        "frequencia = df_apartamentos[\"qtde_quartos\"].value_counts()\n",
        "percentual = round(df_apartamentos[\"qtde_quartos\"].value_counts(normalize=True) * 100, 2)"
      ],
      "metadata": {
        "id": "MvNaB3pwlNMf"
      },
      "execution_count": null,
      "outputs": []
    },
    {
      "cell_type": "code",
      "source": [
        "distribuicao_frequencia = pd.DataFrame({\"Frequencia\": frequencia, \"Percentual (%)\": percentual})\n",
        "distribuicao_frequencia.reset_index(inplace=True)\n",
        "distribuicao_frequencia.rename(columns={\"index\":\"Qtde. Quartos\"}, inplace=True)"
      ],
      "metadata": {
        "id": "vDw9zeSpmZ5h"
      },
      "execution_count": null,
      "outputs": []
    },
    {
      "cell_type": "markdown",
      "source": [
        "#### *Apartamentos: Resultado*"
      ],
      "metadata": {
        "id": "0YUN66zdmC4g"
      }
    },
    {
      "cell_type": "code",
      "source": [
        "distribuicao_frequencia"
      ],
      "metadata": {
        "colab": {
          "base_uri": "https://localhost:8080/",
          "height": 206
        },
        "id": "hgwVkQvzmCBx",
        "outputId": "b6f83c32-d2ca-469c-be65-3478a57c0203"
      },
      "execution_count": null,
      "outputs": [
        {
          "output_type": "execute_result",
          "data": {
            "text/plain": [
              "   Qtde. Quartos  Frequencia  Percentual (%)\n",
              "0              3          84           46.41\n",
              "1              2          75           41.44\n",
              "2              4          13            7.18\n",
              "3              1           5            2.76\n",
              "4              5           4            2.21"
            ],
            "text/html": [
              "\n",
              "  <div id=\"df-0d06e76e-780e-48cf-b5ca-9708e30ad9c0\">\n",
              "    <div class=\"colab-df-container\">\n",
              "      <div>\n",
              "<style scoped>\n",
              "    .dataframe tbody tr th:only-of-type {\n",
              "        vertical-align: middle;\n",
              "    }\n",
              "\n",
              "    .dataframe tbody tr th {\n",
              "        vertical-align: top;\n",
              "    }\n",
              "\n",
              "    .dataframe thead th {\n",
              "        text-align: right;\n",
              "    }\n",
              "</style>\n",
              "<table border=\"1\" class=\"dataframe\">\n",
              "  <thead>\n",
              "    <tr style=\"text-align: right;\">\n",
              "      <th></th>\n",
              "      <th>Qtde. Quartos</th>\n",
              "      <th>Frequencia</th>\n",
              "      <th>Percentual (%)</th>\n",
              "    </tr>\n",
              "  </thead>\n",
              "  <tbody>\n",
              "    <tr>\n",
              "      <th>0</th>\n",
              "      <td>3</td>\n",
              "      <td>84</td>\n",
              "      <td>46.41</td>\n",
              "    </tr>\n",
              "    <tr>\n",
              "      <th>1</th>\n",
              "      <td>2</td>\n",
              "      <td>75</td>\n",
              "      <td>41.44</td>\n",
              "    </tr>\n",
              "    <tr>\n",
              "      <th>2</th>\n",
              "      <td>4</td>\n",
              "      <td>13</td>\n",
              "      <td>7.18</td>\n",
              "    </tr>\n",
              "    <tr>\n",
              "      <th>3</th>\n",
              "      <td>1</td>\n",
              "      <td>5</td>\n",
              "      <td>2.76</td>\n",
              "    </tr>\n",
              "    <tr>\n",
              "      <th>4</th>\n",
              "      <td>5</td>\n",
              "      <td>4</td>\n",
              "      <td>2.21</td>\n",
              "    </tr>\n",
              "  </tbody>\n",
              "</table>\n",
              "</div>\n",
              "      <button class=\"colab-df-convert\" onclick=\"convertToInteractive('df-0d06e76e-780e-48cf-b5ca-9708e30ad9c0')\"\n",
              "              title=\"Convert this dataframe to an interactive table.\"\n",
              "              style=\"display:none;\">\n",
              "        \n",
              "  <svg xmlns=\"http://www.w3.org/2000/svg\" height=\"24px\"viewBox=\"0 0 24 24\"\n",
              "       width=\"24px\">\n",
              "    <path d=\"M0 0h24v24H0V0z\" fill=\"none\"/>\n",
              "    <path d=\"M18.56 5.44l.94 2.06.94-2.06 2.06-.94-2.06-.94-.94-2.06-.94 2.06-2.06.94zm-11 1L8.5 8.5l.94-2.06 2.06-.94-2.06-.94L8.5 2.5l-.94 2.06-2.06.94zm10 10l.94 2.06.94-2.06 2.06-.94-2.06-.94-.94-2.06-.94 2.06-2.06.94z\"/><path d=\"M17.41 7.96l-1.37-1.37c-.4-.4-.92-.59-1.43-.59-.52 0-1.04.2-1.43.59L10.3 9.45l-7.72 7.72c-.78.78-.78 2.05 0 2.83L4 21.41c.39.39.9.59 1.41.59.51 0 1.02-.2 1.41-.59l7.78-7.78 2.81-2.81c.8-.78.8-2.07 0-2.86zM5.41 20L4 18.59l7.72-7.72 1.47 1.35L5.41 20z\"/>\n",
              "  </svg>\n",
              "      </button>\n",
              "      \n",
              "  <style>\n",
              "    .colab-df-container {\n",
              "      display:flex;\n",
              "      flex-wrap:wrap;\n",
              "      gap: 12px;\n",
              "    }\n",
              "\n",
              "    .colab-df-convert {\n",
              "      background-color: #E8F0FE;\n",
              "      border: none;\n",
              "      border-radius: 50%;\n",
              "      cursor: pointer;\n",
              "      display: none;\n",
              "      fill: #1967D2;\n",
              "      height: 32px;\n",
              "      padding: 0 0 0 0;\n",
              "      width: 32px;\n",
              "    }\n",
              "\n",
              "    .colab-df-convert:hover {\n",
              "      background-color: #E2EBFA;\n",
              "      box-shadow: 0px 1px 2px rgba(60, 64, 67, 0.3), 0px 1px 3px 1px rgba(60, 64, 67, 0.15);\n",
              "      fill: #174EA6;\n",
              "    }\n",
              "\n",
              "    [theme=dark] .colab-df-convert {\n",
              "      background-color: #3B4455;\n",
              "      fill: #D2E3FC;\n",
              "    }\n",
              "\n",
              "    [theme=dark] .colab-df-convert:hover {\n",
              "      background-color: #434B5C;\n",
              "      box-shadow: 0px 1px 3px 1px rgba(0, 0, 0, 0.15);\n",
              "      filter: drop-shadow(0px 1px 2px rgba(0, 0, 0, 0.3));\n",
              "      fill: #FFFFFF;\n",
              "    }\n",
              "  </style>\n",
              "\n",
              "      <script>\n",
              "        const buttonEl =\n",
              "          document.querySelector('#df-0d06e76e-780e-48cf-b5ca-9708e30ad9c0 button.colab-df-convert');\n",
              "        buttonEl.style.display =\n",
              "          google.colab.kernel.accessAllowed ? 'block' : 'none';\n",
              "\n",
              "        async function convertToInteractive(key) {\n",
              "          const element = document.querySelector('#df-0d06e76e-780e-48cf-b5ca-9708e30ad9c0');\n",
              "          const dataTable =\n",
              "            await google.colab.kernel.invokeFunction('convertToInteractive',\n",
              "                                                     [key], {});\n",
              "          if (!dataTable) return;\n",
              "\n",
              "          const docLinkHtml = 'Like what you see? Visit the ' +\n",
              "            '<a target=\"_blank\" href=https://colab.research.google.com/notebooks/data_table.ipynb>data table notebook</a>'\n",
              "            + ' to learn more about interactive tables.';\n",
              "          element.innerHTML = '';\n",
              "          dataTable['output_type'] = 'display_data';\n",
              "          await google.colab.output.renderOutput(dataTable, element);\n",
              "          const docLink = document.createElement('div');\n",
              "          docLink.innerHTML = docLinkHtml;\n",
              "          element.appendChild(docLink);\n",
              "        }\n",
              "      </script>\n",
              "    </div>\n",
              "  </div>\n",
              "  "
            ]
          },
          "metadata": {},
          "execution_count": 344
        }
      ]
    },
    {
      "cell_type": "code",
      "source": [
        "plot = sns.barplot(data=distribuicao_frequencia, x=\"Qtde. Quartos\", y=\"Percentual (%)\", color= \"blue\")\n",
        "show_values(plot)"
      ],
      "metadata": {
        "colab": {
          "base_uri": "https://localhost:8080/",
          "height": 280
        },
        "id": "80Z1gicHmdQw",
        "outputId": "437e448b-89fd-4fdc-826a-4339d51bbbf5"
      },
      "execution_count": null,
      "outputs": [
        {
          "output_type": "display_data",
          "data": {
            "text/plain": [
              "<Figure size 432x288 with 1 Axes>"
            ],
            "image/png": "[encoded data removed]"
          },
          "metadata": {
            "needs_background": "light"
          }
        }
      ]
    },
    {
      "cell_type": "markdown",
      "source": [
        "### Quantidade de Banheiros (Quantitativa Discreta)"
      ],
      "metadata": {
        "id": "TOjDbIUoETu3"
      }
    },
    {
      "cell_type": "markdown",
      "source": [
        "#### Geral"
      ],
      "metadata": {
        "id": "ZowBZwlAETu3"
      }
    },
    {
      "cell_type": "code",
      "source": [
        "frequencia = df[\"qtde_banheiros\"].value_counts()\n",
        "percentual = round(df[\"qtde_banheiros\"].value_counts(normalize=True) * 100, 2)"
      ],
      "metadata": {
        "id": "ord2P6bIETu4"
      },
      "execution_count": null,
      "outputs": []
    },
    {
      "cell_type": "code",
      "source": [
        "distribuicao_frequencia = pd.DataFrame({\"Frequencia\": frequencia, \"Percentual (%)\": percentual})\n",
        "distribuicao_frequencia.reset_index(inplace=True)\n",
        "distribuicao_frequencia.rename(columns={\"index\":\"Qtde. Banheiros\"}, inplace=True)"
      ],
      "metadata": {
        "id": "BcNXZlRUETu4"
      },
      "execution_count": null,
      "outputs": []
    },
    {
      "cell_type": "markdown",
      "source": [
        "#### *Geral: Resultados*"
      ],
      "metadata": {
        "id": "YQLaNTX6ETu4"
      }
    },
    {
      "cell_type": "code",
      "source": [
        "distribuicao_frequencia"
      ],
      "metadata": {
        "colab": {
          "base_uri": "https://localhost:8080/",
          "height": 206
        },
        "outputId": "32aa0743-45e7-4bf6-8107-1c365d0e8600",
        "id": "-cGcf5vKETu4"
      },
      "execution_count": null,
      "outputs": [
        {
          "output_type": "execute_result",
          "data": {
            "text/plain": [
              "   Qtde. Banheiros  Frequencia  Percentual (%)\n",
              "0                2         123           31.46\n",
              "1                1         103           26.34\n",
              "2                5          58           14.83\n",
              "3                3          55           14.07\n",
              "4                4          52           13.30"
            ],
            "text/html": [
              "\n",
              "  <div id=\"df-44ee4da1-8e70-459c-ad03-089f7592a532\">\n",
              "    <div class=\"colab-df-container\">\n",
              "      <div>\n",
              "<style scoped>\n",
              "    .dataframe tbody tr th:only-of-type {\n",
              "        vertical-align: middle;\n",
              "    }\n",
              "\n",
              "    .dataframe tbody tr th {\n",
              "        vertical-align: top;\n",
              "    }\n",
              "\n",
              "    .dataframe thead th {\n",
              "        text-align: right;\n",
              "    }\n",
              "</style>\n",
              "<table border=\"1\" class=\"dataframe\">\n",
              "  <thead>\n",
              "    <tr style=\"text-align: right;\">\n",
              "      <th></th>\n",
              "      <th>Qtde. Banheiros</th>\n",
              "      <th>Frequencia</th>\n",
              "      <th>Percentual (%)</th>\n",
              "    </tr>\n",
              "  </thead>\n",
              "  <tbody>\n",
              "    <tr>\n",
              "      <th>0</th>\n",
              "      <td>2</td>\n",
              "      <td>123</td>\n",
              "      <td>31.46</td>\n",
              "    </tr>\n",
              "    <tr>\n",
              "      <th>1</th>\n",
              "      <td>1</td>\n",
              "      <td>103</td>\n",
              "      <td>26.34</td>\n",
              "    </tr>\n",
              "    <tr>\n",
              "      <th>2</th>\n",
              "      <td>5</td>\n",
              "      <td>58</td>\n",
              "      <td>14.83</td>\n",
              "    </tr>\n",
              "    <tr>\n",
              "      <th>3</th>\n",
              "      <td>3</td>\n",
              "      <td>55</td>\n",
              "      <td>14.07</td>\n",
              "    </tr>\n",
              "    <tr>\n",
              "      <th>4</th>\n",
              "      <td>4</td>\n",
              "      <td>52</td>\n",
              "      <td>13.30</td>\n",
              "    </tr>\n",
              "  </tbody>\n",
              "</table>\n",
              "</div>\n",
              "      <button class=\"colab-df-convert\" onclick=\"convertToInteractive('df-44ee4da1-8e70-459c-ad03-089f7592a532')\"\n",
              "              title=\"Convert this dataframe to an interactive table.\"\n",
              "              style=\"display:none;\">\n",
              "        \n",
              "  <svg xmlns=\"http://www.w3.org/2000/svg\" height=\"24px\"viewBox=\"0 0 24 24\"\n",
              "       width=\"24px\">\n",
              "    <path d=\"M0 0h24v24H0V0z\" fill=\"none\"/>\n",
              "    <path d=\"M18.56 5.44l.94 2.06.94-2.06 2.06-.94-2.06-.94-.94-2.06-.94 2.06-2.06.94zm-11 1L8.5 8.5l.94-2.06 2.06-.94-2.06-.94L8.5 2.5l-.94 2.06-2.06.94zm10 10l.94 2.06.94-2.06 2.06-.94-2.06-.94-.94-2.06-.94 2.06-2.06.94z\"/><path d=\"M17.41 7.96l-1.37-1.37c-.4-.4-.92-.59-1.43-.59-.52 0-1.04.2-1.43.59L10.3 9.45l-7.72 7.72c-.78.78-.78 2.05 0 2.83L4 21.41c.39.39.9.59 1.41.59.51 0 1.02-.2 1.41-.59l7.78-7.78 2.81-2.81c.8-.78.8-2.07 0-2.86zM5.41 20L4 18.59l7.72-7.72 1.47 1.35L5.41 20z\"/>\n",
              "  </svg>\n",
              "      </button>\n",
              "      \n",
              "  <style>\n",
              "    .colab-df-container {\n",
              "      display:flex;\n",
              "      flex-wrap:wrap;\n",
              "      gap: 12px;\n",
              "    }\n",
              "\n",
              "    .colab-df-convert {\n",
              "      background-color: #E8F0FE;\n",
              "      border: none;\n",
              "      border-radius: 50%;\n",
              "      cursor: pointer;\n",
              "      display: none;\n",
              "      fill: #1967D2;\n",
              "      height: 32px;\n",
              "      padding: 0 0 0 0;\n",
              "      width: 32px;\n",
              "    }\n",
              "\n",
              "    .colab-df-convert:hover {\n",
              "      background-color: #E2EBFA;\n",
              "      box-shadow: 0px 1px 2px rgba(60, 64, 67, 0.3), 0px 1px 3px 1px rgba(60, 64, 67, 0.15);\n",
              "      fill: #174EA6;\n",
              "    }\n",
              "\n",
              "    [theme=dark] .colab-df-convert {\n",
              "      background-color: #3B4455;\n",
              "      fill: #D2E3FC;\n",
              "    }\n",
              "\n",
              "    [theme=dark] .colab-df-convert:hover {\n",
              "      background-color: #434B5C;\n",
              "      box-shadow: 0px 1px 3px 1px rgba(0, 0, 0, 0.15);\n",
              "      filter: drop-shadow(0px 1px 2px rgba(0, 0, 0, 0.3));\n",
              "      fill: #FFFFFF;\n",
              "    }\n",
              "  </style>\n",
              "\n",
              "      <script>\n",
              "        const buttonEl =\n",
              "          document.querySelector('#df-44ee4da1-8e70-459c-ad03-089f7592a532 button.colab-df-convert');\n",
              "        buttonEl.style.display =\n",
              "          google.colab.kernel.accessAllowed ? 'block' : 'none';\n",
              "\n",
              "        async function convertToInteractive(key) {\n",
              "          const element = document.querySelector('#df-44ee4da1-8e70-459c-ad03-089f7592a532');\n",
              "          const dataTable =\n",
              "            await google.colab.kernel.invokeFunction('convertToInteractive',\n",
              "                                                     [key], {});\n",
              "          if (!dataTable) return;\n",
              "\n",
              "          const docLinkHtml = 'Like what you see? Visit the ' +\n",
              "            '<a target=\"_blank\" href=https://colab.research.google.com/notebooks/data_table.ipynb>data table notebook</a>'\n",
              "            + ' to learn more about interactive tables.';\n",
              "          element.innerHTML = '';\n",
              "          dataTable['output_type'] = 'display_data';\n",
              "          await google.colab.output.renderOutput(dataTable, element);\n",
              "          const docLink = document.createElement('div');\n",
              "          docLink.innerHTML = docLinkHtml;\n",
              "          element.appendChild(docLink);\n",
              "        }\n",
              "      </script>\n",
              "    </div>\n",
              "  </div>\n",
              "  "
            ]
          },
          "metadata": {},
          "execution_count": 348
        }
      ]
    },
    {
      "cell_type": "code",
      "source": [
        "plot = sns.barplot(data=distribuicao_frequencia, x=\"Qtde. Banheiros\", y=\"Percentual (%)\", color= \"blue\")\n",
        "show_values(plot)"
      ],
      "metadata": {
        "colab": {
          "base_uri": "https://localhost:8080/",
          "height": 281
        },
        "outputId": "11b00d32-6dc8-4535-b681-7efbdddb21a6",
        "id": "mXYlNAmTETu4"
      },
      "execution_count": null,
      "outputs": [
        {
          "output_type": "display_data",
          "data": {
            "text/plain": [
              "<Figure size 432x288 with 1 Axes>"
            ],
            "image/png": "[encoded data removed]"
          },
          "metadata": {
            "needs_background": "light"
          }
        }
      ]
    },
    {
      "cell_type": "markdown",
      "source": [
        "#### Casas"
      ],
      "metadata": {
        "id": "eYwAHaahETu5"
      }
    },
    {
      "cell_type": "code",
      "source": [
        "frequencia = df_casas[\"qtde_banheiros\"].value_counts()\n",
        "percentual = round(df_casas[\"qtde_banheiros\"].value_counts(normalize=True) * 100, 2)"
      ],
      "metadata": {
        "id": "ELYMOtvTETu5"
      },
      "execution_count": null,
      "outputs": []
    },
    {
      "cell_type": "code",
      "source": [
        "distribuicao_frequencia = pd.DataFrame({\"Frequencia\": frequencia, \"Percentual (%)\": percentual})\n",
        "distribuicao_frequencia.reset_index(inplace=True)\n",
        "distribuicao_frequencia.rename(columns={\"index\":\"Qtde. Banheiros\"}, inplace=True)"
      ],
      "metadata": {
        "id": "74zDY5YSETu5"
      },
      "execution_count": null,
      "outputs": []
    },
    {
      "cell_type": "markdown",
      "source": [
        "#### *Casas: Resultados*"
      ],
      "metadata": {
        "id": "LBU19FxpETu5"
      }
    },
    {
      "cell_type": "code",
      "source": [
        "distribuicao_frequencia"
      ],
      "metadata": {
        "colab": {
          "base_uri": "https://localhost:8080/",
          "height": 206
        },
        "outputId": "d5a91200-5b6f-4203-ccea-cc1ffb0a7876",
        "id": "scInYRHiETu5"
      },
      "execution_count": null,
      "outputs": [
        {
          "output_type": "execute_result",
          "data": {
            "text/plain": [
              "   Qtde. Banheiros  Frequencia  Percentual (%)\n",
              "0                2          68           32.38\n",
              "1                3          38           18.10\n",
              "2                4          37           17.62\n",
              "3                5          37           17.62\n",
              "4                1          30           14.29"
            ],
            "text/html": [
              "\n",
              "  <div id=\"df-2f59e1e8-15c2-4c4a-b45d-024f0933bcda\">\n",
              "    <div class=\"colab-df-container\">\n",
              "      <div>\n",
              "<style scoped>\n",
              "    .dataframe tbody tr th:only-of-type {\n",
              "        vertical-align: middle;\n",
              "    }\n",
              "\n",
              "    .dataframe tbody tr th {\n",
              "        vertical-align: top;\n",
              "    }\n",
              "\n",
              "    .dataframe thead th {\n",
              "        text-align: right;\n",
              "    }\n",
              "</style>\n",
              "<table border=\"1\" class=\"dataframe\">\n",
              "  <thead>\n",
              "    <tr style=\"text-align: right;\">\n",
              "      <th></th>\n",
              "      <th>Qtde. Banheiros</th>\n",
              "      <th>Frequencia</th>\n",
              "      <th>Percentual (%)</th>\n",
              "    </tr>\n",
              "  </thead>\n",
              "  <tbody>\n",
              "    <tr>\n",
              "      <th>0</th>\n",
              "      <td>2</td>\n",
              "      <td>68</td>\n",
              "      <td>32.38</td>\n",
              "    </tr>\n",
              "    <tr>\n",
              "      <th>1</th>\n",
              "      <td>3</td>\n",
              "      <td>38</td>\n",
              "      <td>18.10</td>\n",
              "    </tr>\n",
              "    <tr>\n",
              "      <th>2</th>\n",
              "      <td>4</td>\n",
              "      <td>37</td>\n",
              "      <td>17.62</td>\n",
              "    </tr>\n",
              "    <tr>\n",
              "      <th>3</th>\n",
              "      <td>5</td>\n",
              "      <td>37</td>\n",
              "      <td>17.62</td>\n",
              "    </tr>\n",
              "    <tr>\n",
              "      <th>4</th>\n",
              "      <td>1</td>\n",
              "      <td>30</td>\n",
              "      <td>14.29</td>\n",
              "    </tr>\n",
              "  </tbody>\n",
              "</table>\n",
              "</div>\n",
              "      <button class=\"colab-df-convert\" onclick=\"convertToInteractive('df-2f59e1e8-15c2-4c4a-b45d-024f0933bcda')\"\n",
              "              title=\"Convert this dataframe to an interactive table.\"\n",
              "              style=\"display:none;\">\n",
              "        \n",
              "  <svg xmlns=\"http://www.w3.org/2000/svg\" height=\"24px\"viewBox=\"0 0 24 24\"\n",
              "       width=\"24px\">\n",
              "    <path d=\"M0 0h24v24H0V0z\" fill=\"none\"/>\n",
              "    <path d=\"M18.56 5.44l.94 2.06.94-2.06 2.06-.94-2.06-.94-.94-2.06-.94 2.06-2.06.94zm-11 1L8.5 8.5l.94-2.06 2.06-.94-2.06-.94L8.5 2.5l-.94 2.06-2.06.94zm10 10l.94 2.06.94-2.06 2.06-.94-2.06-.94-.94-2.06-.94 2.06-2.06.94z\"/><path d=\"M17.41 7.96l-1.37-1.37c-.4-.4-.92-.59-1.43-.59-.52 0-1.04.2-1.43.59L10.3 9.45l-7.72 7.72c-.78.78-.78 2.05 0 2.83L4 21.41c.39.39.9.59 1.41.59.51 0 1.02-.2 1.41-.59l7.78-7.78 2.81-2.81c.8-.78.8-2.07 0-2.86zM5.41 20L4 18.59l7.72-7.72 1.47 1.35L5.41 20z\"/>\n",
              "  </svg>\n",
              "      </button>\n",
              "      \n",
              "  <style>\n",
              "    .colab-df-container {\n",
              "      display:flex;\n",
              "      flex-wrap:wrap;\n",
              "      gap: 12px;\n",
              "    }\n",
              "\n",
              "    .colab-df-convert {\n",
              "      background-color: #E8F0FE;\n",
              "      border: none;\n",
              "      border-radius: 50%;\n",
              "      cursor: pointer;\n",
              "      display: none;\n",
              "      fill: #1967D2;\n",
              "      height: 32px;\n",
              "      padding: 0 0 0 0;\n",
              "      width: 32px;\n",
              "    }\n",
              "\n",
              "    .colab-df-convert:hover {\n",
              "      background-color: #E2EBFA;\n",
              "      box-shadow: 0px 1px 2px rgba(60, 64, 67, 0.3), 0px 1px 3px 1px rgba(60, 64, 67, 0.15);\n",
              "      fill: #174EA6;\n",
              "    }\n",
              "\n",
              "    [theme=dark] .colab-df-convert {\n",
              "      background-color: #3B4455;\n",
              "      fill: #D2E3FC;\n",
              "    }\n",
              "\n",
              "    [theme=dark] .colab-df-convert:hover {\n",
              "      background-color: #434B5C;\n",
              "      box-shadow: 0px 1px 3px 1px rgba(0, 0, 0, 0.15);\n",
              "      filter: drop-shadow(0px 1px 2px rgba(0, 0, 0, 0.3));\n",
              "      fill: #FFFFFF;\n",
              "    }\n",
              "  </style>\n",
              "\n",
              "      <script>\n",
              "        const buttonEl =\n",
              "          document.querySelector('#df-2f59e1e8-15c2-4c4a-b45d-024f0933bcda button.colab-df-convert');\n",
              "        buttonEl.style.display =\n",
              "          google.colab.kernel.accessAllowed ? 'block' : 'none';\n",
              "\n",
              "        async function convertToInteractive(key) {\n",
              "          const element = document.querySelector('#df-2f59e1e8-15c2-4c4a-b45d-024f0933bcda');\n",
              "          const dataTable =\n",
              "            await google.colab.kernel.invokeFunction('convertToInteractive',\n",
              "                                                     [key], {});\n",
              "          if (!dataTable) return;\n",
              "\n",
              "          const docLinkHtml = 'Like what you see? Visit the ' +\n",
              "            '<a target=\"_blank\" href=https://colab.research.google.com/notebooks/data_table.ipynb>data table notebook</a>'\n",
              "            + ' to learn more about interactive tables.';\n",
              "          element.innerHTML = '';\n",
              "          dataTable['output_type'] = 'display_data';\n",
              "          await google.colab.output.renderOutput(dataTable, element);\n",
              "          const docLink = document.createElement('div');\n",
              "          docLink.innerHTML = docLinkHtml;\n",
              "          element.appendChild(docLink);\n",
              "        }\n",
              "      </script>\n",
              "    </div>\n",
              "  </div>\n",
              "  "
            ]
          },
          "metadata": {},
          "execution_count": 352
        }
      ]
    },
    {
      "cell_type": "code",
      "source": [
        "plot = sns.barplot(data=distribuicao_frequencia, x=\"Qtde. Banheiros\", y=\"Percentual (%)\", color= \"blue\")\n",
        "\n",
        "show_values(plot)"
      ],
      "metadata": {
        "colab": {
          "base_uri": "https://localhost:8080/",
          "height": 281
        },
        "outputId": "324049da-0121-4cc1-9e2f-258b74be26bb",
        "id": "pJtSR6Q7ETu6"
      },
      "execution_count": null,
      "outputs": [
        {
          "output_type": "display_data",
          "data": {
            "text/plain": [
              "<Figure size 432x288 with 1 Axes>"
            ],
            "image/png": "[encoded data removed]"
          },
          "metadata": {
            "needs_background": "light"
          }
        }
      ]
    },
    {
      "cell_type": "markdown",
      "source": [
        "#### Apartamentos"
      ],
      "metadata": {
        "id": "jQuAnlZjETu6"
      }
    },
    {
      "cell_type": "code",
      "source": [
        "frequencia = df_apartamentos[\"qtde_banheiros\"].value_counts()\n",
        "percentual = round(df_apartamentos[\"qtde_banheiros\"].value_counts(normalize=True) * 100, 2)"
      ],
      "metadata": {
        "id": "Q0o-mbSJETu6"
      },
      "execution_count": null,
      "outputs": []
    },
    {
      "cell_type": "code",
      "source": [
        "distribuicao_frequencia = pd.DataFrame({\"Frequencia\": frequencia, \"Percentual (%)\": percentual})\n",
        "distribuicao_frequencia.reset_index(inplace=True)\n",
        "distribuicao_frequencia.rename(columns={\"index\":\"Qtde. Banheiros\"}, inplace=True)"
      ],
      "metadata": {
        "id": "XinfhKbAETu6"
      },
      "execution_count": null,
      "outputs": []
    },
    {
      "cell_type": "markdown",
      "source": [
        "#### *Apartamentos: Resultado*"
      ],
      "metadata": {
        "id": "1ioUgvZrETu6"
      }
    },
    {
      "cell_type": "code",
      "source": [
        "distribuicao_frequencia"
      ],
      "metadata": {
        "colab": {
          "base_uri": "https://localhost:8080/",
          "height": 206
        },
        "outputId": "4c5466d3-e12e-4008-c0be-cbdee2d8265f",
        "id": "0OWN75d4ETu6"
      },
      "execution_count": null,
      "outputs": [
        {
          "output_type": "execute_result",
          "data": {
            "text/plain": [
              "   Qtde. Banheiros  Frequencia  Percentual (%)\n",
              "0                1          73           40.33\n",
              "1                2          55           30.39\n",
              "2                5          21           11.60\n",
              "3                3          17            9.39\n",
              "4                4          15            8.29"
            ],
            "text/html": [
              "\n",
              "  <div id=\"df-e8b9673d-e2bf-4c68-8749-94fd7c380936\">\n",
              "    <div class=\"colab-df-container\">\n",
              "      <div>\n",
              "<style scoped>\n",
              "    .dataframe tbody tr th:only-of-type {\n",
              "        vertical-align: middle;\n",
              "    }\n",
              "\n",
              "    .dataframe tbody tr th {\n",
              "        vertical-align: top;\n",
              "    }\n",
              "\n",
              "    .dataframe thead th {\n",
              "        text-align: right;\n",
              "    }\n",
              "</style>\n",
              "<table border=\"1\" class=\"dataframe\">\n",
              "  <thead>\n",
              "    <tr style=\"text-align: right;\">\n",
              "      <th></th>\n",
              "      <th>Qtde. Banheiros</th>\n",
              "      <th>Frequencia</th>\n",
              "      <th>Percentual (%)</th>\n",
              "    </tr>\n",
              "  </thead>\n",
              "  <tbody>\n",
              "    <tr>\n",
              "      <th>0</th>\n",
              "      <td>1</td>\n",
              "      <td>73</td>\n",
              "      <td>40.33</td>\n",
              "    </tr>\n",
              "    <tr>\n",
              "      <th>1</th>\n",
              "      <td>2</td>\n",
              "      <td>55</td>\n",
              "      <td>30.39</td>\n",
              "    </tr>\n",
              "    <tr>\n",
              "      <th>2</th>\n",
              "      <td>5</td>\n",
              "      <td>21</td>\n",
              "      <td>11.60</td>\n",
              "    </tr>\n",
              "    <tr>\n",
              "      <th>3</th>\n",
              "      <td>3</td>\n",
              "      <td>17</td>\n",
              "      <td>9.39</td>\n",
              "    </tr>\n",
              "    <tr>\n",
              "      <th>4</th>\n",
              "      <td>4</td>\n",
              "      <td>15</td>\n",
              "      <td>8.29</td>\n",
              "    </tr>\n",
              "  </tbody>\n",
              "</table>\n",
              "</div>\n",
              "      <button class=\"colab-df-convert\" onclick=\"convertToInteractive('df-e8b9673d-e2bf-4c68-8749-94fd7c380936')\"\n",
              "              title=\"Convert this dataframe to an interactive table.\"\n",
              "              style=\"display:none;\">\n",
              "        \n",
              "  <svg xmlns=\"http://www.w3.org/2000/svg\" height=\"24px\"viewBox=\"0 0 24 24\"\n",
              "       width=\"24px\">\n",
              "    <path d=\"M0 0h24v24H0V0z\" fill=\"none\"/>\n",
              "    <path d=\"M18.56 5.44l.94 2.06.94-2.06 2.06-.94-2.06-.94-.94-2.06-.94 2.06-2.06.94zm-11 1L8.5 8.5l.94-2.06 2.06-.94-2.06-.94L8.5 2.5l-.94 2.06-2.06.94zm10 10l.94 2.06.94-2.06 2.06-.94-2.06-.94-.94-2.06-.94 2.06-2.06.94z\"/><path d=\"M17.41 7.96l-1.37-1.37c-.4-.4-.92-.59-1.43-.59-.52 0-1.04.2-1.43.59L10.3 9.45l-7.72 7.72c-.78.78-.78 2.05 0 2.83L4 21.41c.39.39.9.59 1.41.59.51 0 1.02-.2 1.41-.59l7.78-7.78 2.81-2.81c.8-.78.8-2.07 0-2.86zM5.41 20L4 18.59l7.72-7.72 1.47 1.35L5.41 20z\"/>\n",
              "  </svg>\n",
              "      </button>\n",
              "      \n",
              "  <style>\n",
              "    .colab-df-container {\n",
              "      display:flex;\n",
              "      flex-wrap:wrap;\n",
              "      gap: 12px;\n",
              "    }\n",
              "\n",
              "    .colab-df-convert {\n",
              "      background-color: #E8F0FE;\n",
              "      border: none;\n",
              "      border-radius: 50%;\n",
              "      cursor: pointer;\n",
              "      display: none;\n",
              "      fill: #1967D2;\n",
              "      height: 32px;\n",
              "      padding: 0 0 0 0;\n",
              "      width: 32px;\n",
              "    }\n",
              "\n",
              "    .colab-df-convert:hover {\n",
              "      background-color: #E2EBFA;\n",
              "      box-shadow: 0px 1px 2px rgba(60, 64, 67, 0.3), 0px 1px 3px 1px rgba(60, 64, 67, 0.15);\n",
              "      fill: #174EA6;\n",
              "    }\n",
              "\n",
              "    [theme=dark] .colab-df-convert {\n",
              "      background-color: #3B4455;\n",
              "      fill: #D2E3FC;\n",
              "    }\n",
              "\n",
              "    [theme=dark] .colab-df-convert:hover {\n",
              "      background-color: #434B5C;\n",
              "      box-shadow: 0px 1px 3px 1px rgba(0, 0, 0, 0.15);\n",
              "      filter: drop-shadow(0px 1px 2px rgba(0, 0, 0, 0.3));\n",
              "      fill: #FFFFFF;\n",
              "    }\n",
              "  </style>\n",
              "\n",
              "      <script>\n",
              "        const buttonEl =\n",
              "          document.querySelector('#df-e8b9673d-e2bf-4c68-8749-94fd7c380936 button.colab-df-convert');\n",
              "        buttonEl.style.display =\n",
              "          google.colab.kernel.accessAllowed ? 'block' : 'none';\n",
              "\n",
              "        async function convertToInteractive(key) {\n",
              "          const element = document.querySelector('#df-e8b9673d-e2bf-4c68-8749-94fd7c380936');\n",
              "          const dataTable =\n",
              "            await google.colab.kernel.invokeFunction('convertToInteractive',\n",
              "                                                     [key], {});\n",
              "          if (!dataTable) return;\n",
              "\n",
              "          const docLinkHtml = 'Like what you see? Visit the ' +\n",
              "            '<a target=\"_blank\" href=https://colab.research.google.com/notebooks/data_table.ipynb>data table notebook</a>'\n",
              "            + ' to learn more about interactive tables.';\n",
              "          element.innerHTML = '';\n",
              "          dataTable['output_type'] = 'display_data';\n",
              "          await google.colab.output.renderOutput(dataTable, element);\n",
              "          const docLink = document.createElement('div');\n",
              "          docLink.innerHTML = docLinkHtml;\n",
              "          element.appendChild(docLink);\n",
              "        }\n",
              "      </script>\n",
              "    </div>\n",
              "  </div>\n",
              "  "
            ]
          },
          "metadata": {},
          "execution_count": 356
        }
      ]
    },
    {
      "cell_type": "code",
      "source": [
        "plot = sns.barplot(data=distribuicao_frequencia, x=\"Qtde. Banheiros\", y=\"Percentual (%)\", color= \"blue\")\n",
        "show_values(plot)"
      ],
      "metadata": {
        "colab": {
          "base_uri": "https://localhost:8080/",
          "height": 280
        },
        "outputId": "2a632873-ed58-419f-c9c4-a351d2eda8c9",
        "id": "eXjEGupmETu6"
      },
      "execution_count": null,
      "outputs": [
        {
          "output_type": "display_data",
          "data": {
            "text/plain": [
              "<Figure size 432x288 with 1 Axes>"
            ],
            "image/png": "[encoded data removed]"
          },
          "metadata": {
            "needs_background": "light"
          }
        }
      ]
    },
    {
      "cell_type": "markdown",
      "source": [
        "### Quantidade de Vagas de Garagem (Quantitativa Discreta)"
      ],
      "metadata": {
        "id": "CrfVlBTxE5H1"
      }
    },
    {
      "cell_type": "markdown",
      "source": [
        "#### Geral"
      ],
      "metadata": {
        "id": "SoO-J1I-E5H2"
      }
    },
    {
      "cell_type": "code",
      "source": [
        "frequencia = df[\"qtde_banheiros\"].value_counts()\n",
        "percentual = round(df[\"qtde_banheiros\"].value_counts(normalize=True) * 100, 2)"
      ],
      "metadata": {
        "id": "WDjFTyvJE5H2"
      },
      "execution_count": null,
      "outputs": []
    },
    {
      "cell_type": "code",
      "source": [
        "distribuicao_frequencia = pd.DataFrame({\"Frequencia\": frequencia, \"Percentual (%)\": percentual})\n",
        "distribuicao_frequencia.reset_index(inplace=True)\n",
        "distribuicao_frequencia.rename(columns={\"index\":\"Qtde. Banheiros\"}, inplace=True)"
      ],
      "metadata": {
        "id": "nWay2gfnE5H2"
      },
      "execution_count": null,
      "outputs": []
    },
    {
      "cell_type": "markdown",
      "source": [
        "#### *Geral: Resultados*"
      ],
      "metadata": {
        "id": "3ztGUa_CE5H2"
      }
    },
    {
      "cell_type": "code",
      "source": [
        "distribuicao_frequencia"
      ],
      "metadata": {
        "colab": {
          "base_uri": "https://localhost:8080/",
          "height": 206
        },
        "outputId": "886cd3d4-8e4f-46ab-ddd6-3d1e9e3fe1dd",
        "id": "24BdzvQbE5H2"
      },
      "execution_count": null,
      "outputs": [
        {
          "output_type": "execute_result",
          "data": {
            "text/plain": [
              "   Qtde. Banheiros  Frequencia  Percentual (%)\n",
              "0                2         123           31.46\n",
              "1                1         103           26.34\n",
              "2                5          58           14.83\n",
              "3                3          55           14.07\n",
              "4                4          52           13.30"
            ],
            "text/html": [
              "\n",
              "  <div id=\"df-187550e9-fc8a-41d6-9c03-ccffc627cab0\">\n",
              "    <div class=\"colab-df-container\">\n",
              "      <div>\n",
              "<style scoped>\n",
              "    .dataframe tbody tr th:only-of-type {\n",
              "        vertical-align: middle;\n",
              "    }\n",
              "\n",
              "    .dataframe tbody tr th {\n",
              "        vertical-align: top;\n",
              "    }\n",
              "\n",
              "    .dataframe thead th {\n",
              "        text-align: right;\n",
              "    }\n",
              "</style>\n",
              "<table border=\"1\" class=\"dataframe\">\n",
              "  <thead>\n",
              "    <tr style=\"text-align: right;\">\n",
              "      <th></th>\n",
              "      <th>Qtde. Banheiros</th>\n",
              "      <th>Frequencia</th>\n",
              "      <th>Percentual (%)</th>\n",
              "    </tr>\n",
              "  </thead>\n",
              "  <tbody>\n",
              "    <tr>\n",
              "      <th>0</th>\n",
              "      <td>2</td>\n",
              "      <td>123</td>\n",
              "      <td>31.46</td>\n",
              "    </tr>\n",
              "    <tr>\n",
              "      <th>1</th>\n",
              "      <td>1</td>\n",
              "      <td>103</td>\n",
              "      <td>26.34</td>\n",
              "    </tr>\n",
              "    <tr>\n",
              "      <th>2</th>\n",
              "      <td>5</td>\n",
              "      <td>58</td>\n",
              "      <td>14.83</td>\n",
              "    </tr>\n",
              "    <tr>\n",
              "      <th>3</th>\n",
              "      <td>3</td>\n",
              "      <td>55</td>\n",
              "      <td>14.07</td>\n",
              "    </tr>\n",
              "    <tr>\n",
              "      <th>4</th>\n",
              "      <td>4</td>\n",
              "      <td>52</td>\n",
              "      <td>13.30</td>\n",
              "    </tr>\n",
              "  </tbody>\n",
              "</table>\n",
              "</div>\n",
              "      <button class=\"colab-df-convert\" onclick=\"convertToInteractive('df-187550e9-fc8a-41d6-9c03-ccffc627cab0')\"\n",
              "              title=\"Convert this dataframe to an interactive table.\"\n",
              "              style=\"display:none;\">\n",
              "        \n",
              "  <svg xmlns=\"http://www.w3.org/2000/svg\" height=\"24px\"viewBox=\"0 0 24 24\"\n",
              "       width=\"24px\">\n",
              "    <path d=\"M0 0h24v24H0V0z\" fill=\"none\"/>\n",
              "    <path d=\"M18.56 5.44l.94 2.06.94-2.06 2.06-.94-2.06-.94-.94-2.06-.94 2.06-2.06.94zm-11 1L8.5 8.5l.94-2.06 2.06-.94-2.06-.94L8.5 2.5l-.94 2.06-2.06.94zm10 10l.94 2.06.94-2.06 2.06-.94-2.06-.94-.94-2.06-.94 2.06-2.06.94z\"/><path d=\"M17.41 7.96l-1.37-1.37c-.4-.4-.92-.59-1.43-.59-.52 0-1.04.2-1.43.59L10.3 9.45l-7.72 7.72c-.78.78-.78 2.05 0 2.83L4 21.41c.39.39.9.59 1.41.59.51 0 1.02-.2 1.41-.59l7.78-7.78 2.81-2.81c.8-.78.8-2.07 0-2.86zM5.41 20L4 18.59l7.72-7.72 1.47 1.35L5.41 20z\"/>\n",
              "  </svg>\n",
              "      </button>\n",
              "      \n",
              "  <style>\n",
              "    .colab-df-container {\n",
              "      display:flex;\n",
              "      flex-wrap:wrap;\n",
              "      gap: 12px;\n",
              "    }\n",
              "\n",
              "    .colab-df-convert {\n",
              "      background-color: #E8F0FE;\n",
              "      border: none;\n",
              "      border-radius: 50%;\n",
              "      cursor: pointer;\n",
              "      display: none;\n",
              "      fill: #1967D2;\n",
              "      height: 32px;\n",
              "      padding: 0 0 0 0;\n",
              "      width: 32px;\n",
              "    }\n",
              "\n",
              "    .colab-df-convert:hover {\n",
              "      background-color: #E2EBFA;\n",
              "      box-shadow: 0px 1px 2px rgba(60, 64, 67, 0.3), 0px 1px 3px 1px rgba(60, 64, 67, 0.15);\n",
              "      fill: #174EA6;\n",
              "    }\n",
              "\n",
              "    [theme=dark] .colab-df-convert {\n",
              "      background-color: #3B4455;\n",
              "      fill: #D2E3FC;\n",
              "    }\n",
              "\n",
              "    [theme=dark] .colab-df-convert:hover {\n",
              "      background-color: #434B5C;\n",
              "      box-shadow: 0px 1px 3px 1px rgba(0, 0, 0, 0.15);\n",
              "      filter: drop-shadow(0px 1px 2px rgba(0, 0, 0, 0.3));\n",
              "      fill: #FFFFFF;\n",
              "    }\n",
              "  </style>\n",
              "\n",
              "      <script>\n",
              "        const buttonEl =\n",
              "          document.querySelector('#df-187550e9-fc8a-41d6-9c03-ccffc627cab0 button.colab-df-convert');\n",
              "        buttonEl.style.display =\n",
              "          google.colab.kernel.accessAllowed ? 'block' : 'none';\n",
              "\n",
              "        async function convertToInteractive(key) {\n",
              "          const element = document.querySelector('#df-187550e9-fc8a-41d6-9c03-ccffc627cab0');\n",
              "          const dataTable =\n",
              "            await google.colab.kernel.invokeFunction('convertToInteractive',\n",
              "                                                     [key], {});\n",
              "          if (!dataTable) return;\n",
              "\n",
              "          const docLinkHtml = 'Like what you see? Visit the ' +\n",
              "            '<a target=\"_blank\" href=https://colab.research.google.com/notebooks/data_table.ipynb>data table notebook</a>'\n",
              "            + ' to learn more about interactive tables.';\n",
              "          element.innerHTML = '';\n",
              "          dataTable['output_type'] = 'display_data';\n",
              "          await google.colab.output.renderOutput(dataTable, element);\n",
              "          const docLink = document.createElement('div');\n",
              "          docLink.innerHTML = docLinkHtml;\n",
              "          element.appendChild(docLink);\n",
              "        }\n",
              "      </script>\n",
              "    </div>\n",
              "  </div>\n",
              "  "
            ]
          },
          "metadata": {},
          "execution_count": 360
        }
      ]
    },
    {
      "cell_type": "code",
      "source": [
        "plot = sns.barplot(data=distribuicao_frequencia, x=\"Qtde. Banheiros\", y=\"Percentual (%)\", color= \"blue\")\n",
        "show_values(plot)"
      ],
      "metadata": {
        "colab": {
          "base_uri": "https://localhost:8080/",
          "height": 281
        },
        "outputId": "661a06ee-ba40-4cd0-cc55-564acc1c4f9b",
        "id": "iLFMuEkKE5H2"
      },
      "execution_count": null,
      "outputs": [
        {
          "output_type": "display_data",
          "data": {
            "text/plain": [
              "<Figure size 432x288 with 1 Axes>"
            ],
            "image/png": "[encoded data removed]"
          },
          "metadata": {
            "needs_background": "light"
          }
        }
      ]
    },
    {
      "cell_type": "markdown",
      "source": [
        "#### Casas"
      ],
      "metadata": {
        "id": "yaFSAy2HE5H2"
      }
    },
    {
      "cell_type": "code",
      "source": [
        "frequencia = df_casas[\"qtde_banheiros\"].value_counts()\n",
        "percentual = round(df_casas[\"qtde_banheiros\"].value_counts(normalize=True) * 100, 2)"
      ],
      "metadata": {
        "id": "BbMjFM4qE5H2"
      },
      "execution_count": null,
      "outputs": []
    },
    {
      "cell_type": "code",
      "source": [
        "distribuicao_frequencia = pd.DataFrame({\"Frequencia\": frequencia, \"Percentual (%)\": percentual})\n",
        "distribuicao_frequencia.reset_index(inplace=True)\n",
        "distribuicao_frequencia.rename(columns={\"index\":\"Qtde. Banheiros\"}, inplace=True)"
      ],
      "metadata": {
        "id": "YJ_SPWekE5H3"
      },
      "execution_count": null,
      "outputs": []
    },
    {
      "cell_type": "markdown",
      "source": [
        "#### *Casas: Resultados*"
      ],
      "metadata": {
        "id": "JVW9cqS2E5H3"
      }
    },
    {
      "cell_type": "code",
      "source": [
        "distribuicao_frequencia"
      ],
      "metadata": {
        "colab": {
          "base_uri": "https://localhost:8080/",
          "height": 206
        },
        "outputId": "3cf7677a-8d8f-428b-f1b9-da2b712cfaa2",
        "id": "B_KNh8OvE5H3"
      },
      "execution_count": null,
      "outputs": [
        {
          "output_type": "execute_result",
          "data": {
            "text/plain": [
              "   Qtde. Banheiros  Frequencia  Percentual (%)\n",
              "0                2          68           32.38\n",
              "1                3          38           18.10\n",
              "2                4          37           17.62\n",
              "3                5          37           17.62\n",
              "4                1          30           14.29"
            ],
            "text/html": [
              "\n",
              "  <div id=\"df-1f7e4246-baea-4054-a9b1-9b4748a60099\">\n",
              "    <div class=\"colab-df-container\">\n",
              "      <div>\n",
              "<style scoped>\n",
              "    .dataframe tbody tr th:only-of-type {\n",
              "        vertical-align: middle;\n",
              "    }\n",
              "\n",
              "    .dataframe tbody tr th {\n",
              "        vertical-align: top;\n",
              "    }\n",
              "\n",
              "    .dataframe thead th {\n",
              "        text-align: right;\n",
              "    }\n",
              "</style>\n",
              "<table border=\"1\" class=\"dataframe\">\n",
              "  <thead>\n",
              "    <tr style=\"text-align: right;\">\n",
              "      <th></th>\n",
              "      <th>Qtde. Banheiros</th>\n",
              "      <th>Frequencia</th>\n",
              "      <th>Percentual (%)</th>\n",
              "    </tr>\n",
              "  </thead>\n",
              "  <tbody>\n",
              "    <tr>\n",
              "      <th>0</th>\n",
              "      <td>2</td>\n",
              "      <td>68</td>\n",
              "      <td>32.38</td>\n",
              "    </tr>\n",
              "    <tr>\n",
              "      <th>1</th>\n",
              "      <td>3</td>\n",
              "      <td>38</td>\n",
              "      <td>18.10</td>\n",
              "    </tr>\n",
              "    <tr>\n",
              "      <th>2</th>\n",
              "      <td>4</td>\n",
              "      <td>37</td>\n",
              "      <td>17.62</td>\n",
              "    </tr>\n",
              "    <tr>\n",
              "      <th>3</th>\n",
              "      <td>5</td>\n",
              "      <td>37</td>\n",
              "      <td>17.62</td>\n",
              "    </tr>\n",
              "    <tr>\n",
              "      <th>4</th>\n",
              "      <td>1</td>\n",
              "      <td>30</td>\n",
              "      <td>14.29</td>\n",
              "    </tr>\n",
              "  </tbody>\n",
              "</table>\n",
              "</div>\n",
              "      <button class=\"colab-df-convert\" onclick=\"convertToInteractive('df-1f7e4246-baea-4054-a9b1-9b4748a60099')\"\n",
              "              title=\"Convert this dataframe to an interactive table.\"\n",
              "              style=\"display:none;\">\n",
              "        \n",
              "  <svg xmlns=\"http://www.w3.org/2000/svg\" height=\"24px\"viewBox=\"0 0 24 24\"\n",
              "       width=\"24px\">\n",
              "    <path d=\"M0 0h24v24H0V0z\" fill=\"none\"/>\n",
              "    <path d=\"M18.56 5.44l.94 2.06.94-2.06 2.06-.94-2.06-.94-.94-2.06-.94 2.06-2.06.94zm-11 1L8.5 8.5l.94-2.06 2.06-.94-2.06-.94L8.5 2.5l-.94 2.06-2.06.94zm10 10l.94 2.06.94-2.06 2.06-.94-2.06-.94-.94-2.06-.94 2.06-2.06.94z\"/><path d=\"M17.41 7.96l-1.37-1.37c-.4-.4-.92-.59-1.43-.59-.52 0-1.04.2-1.43.59L10.3 9.45l-7.72 7.72c-.78.78-.78 2.05 0 2.83L4 21.41c.39.39.9.59 1.41.59.51 0 1.02-.2 1.41-.59l7.78-7.78 2.81-2.81c.8-.78.8-2.07 0-2.86zM5.41 20L4 18.59l7.72-7.72 1.47 1.35L5.41 20z\"/>\n",
              "  </svg>\n",
              "      </button>\n",
              "      \n",
              "  <style>\n",
              "    .colab-df-container {\n",
              "      display:flex;\n",
              "      flex-wrap:wrap;\n",
              "      gap: 12px;\n",
              "    }\n",
              "\n",
              "    .colab-df-convert {\n",
              "      background-color: #E8F0FE;\n",
              "      border: none;\n",
              "      border-radius: 50%;\n",
              "      cursor: pointer;\n",
              "      display: none;\n",
              "      fill: #1967D2;\n",
              "      height: 32px;\n",
              "      padding: 0 0 0 0;\n",
              "      width: 32px;\n",
              "    }\n",
              "\n",
              "    .colab-df-convert:hover {\n",
              "      background-color: #E2EBFA;\n",
              "      box-shadow: 0px 1px 2px rgba(60, 64, 67, 0.3), 0px 1px 3px 1px rgba(60, 64, 67, 0.15);\n",
              "      fill: #174EA6;\n",
              "    }\n",
              "\n",
              "    [theme=dark] .colab-df-convert {\n",
              "      background-color: #3B4455;\n",
              "      fill: #D2E3FC;\n",
              "    }\n",
              "\n",
              "    [theme=dark] .colab-df-convert:hover {\n",
              "      background-color: #434B5C;\n",
              "      box-shadow: 0px 1px 3px 1px rgba(0, 0, 0, 0.15);\n",
              "      filter: drop-shadow(0px 1px 2px rgba(0, 0, 0, 0.3));\n",
              "      fill: #FFFFFF;\n",
              "    }\n",
              "  </style>\n",
              "\n",
              "      <script>\n",
              "        const buttonEl =\n",
              "          document.querySelector('#df-1f7e4246-baea-4054-a9b1-9b4748a60099 button.colab-df-convert');\n",
              "        buttonEl.style.display =\n",
              "          google.colab.kernel.accessAllowed ? 'block' : 'none';\n",
              "\n",
              "        async function convertToInteractive(key) {\n",
              "          const element = document.querySelector('#df-1f7e4246-baea-4054-a9b1-9b4748a60099');\n",
              "          const dataTable =\n",
              "            await google.colab.kernel.invokeFunction('convertToInteractive',\n",
              "                                                     [key], {});\n",
              "          if (!dataTable) return;\n",
              "\n",
              "          const docLinkHtml = 'Like what you see? Visit the ' +\n",
              "            '<a target=\"_blank\" href=https://colab.research.google.com/notebooks/data_table.ipynb>data table notebook</a>'\n",
              "            + ' to learn more about interactive tables.';\n",
              "          element.innerHTML = '';\n",
              "          dataTable['output_type'] = 'display_data';\n",
              "          await google.colab.output.renderOutput(dataTable, element);\n",
              "          const docLink = document.createElement('div');\n",
              "          docLink.innerHTML = docLinkHtml;\n",
              "          element.appendChild(docLink);\n",
              "        }\n",
              "      </script>\n",
              "    </div>\n",
              "  </div>\n",
              "  "
            ]
          },
          "metadata": {},
          "execution_count": 364
        }
      ]
    },
    {
      "cell_type": "code",
      "source": [
        "plot = sns.barplot(data=distribuicao_frequencia, x=\"Qtde. Banheiros\", y=\"Percentual (%)\", color= \"blue\")\n",
        "\n",
        "show_values(plot)"
      ],
      "metadata": {
        "colab": {
          "base_uri": "https://localhost:8080/",
          "height": 281
        },
        "outputId": "8276c4e5-0dc3-4a59-a2da-bdd491eb9a84",
        "id": "eidMxdTZE5H3"
      },
      "execution_count": null,
      "outputs": [
        {
          "output_type": "display_data",
          "data": {
            "text/plain": [
              "<Figure size 432x288 with 1 Axes>"
            ],
            "image/png": "[encoded data removed]"
          },
          "metadata": {
            "needs_background": "light"
          }
        }
      ]
    },
    {
      "cell_type": "markdown",
      "source": [
        "#### Apartamentos"
      ],
      "metadata": {
        "id": "m3U917qIE5H3"
      }
    },
    {
      "cell_type": "code",
      "source": [
        "frequencia = df_apartamentos[\"qtde_banheiros\"].value_counts()\n",
        "percentual = round(df_apartamentos[\"qtde_banheiros\"].value_counts(normalize=True) * 100, 2)"
      ],
      "metadata": {
        "id": "Q9v3yM3tE5H3"
      },
      "execution_count": null,
      "outputs": []
    },
    {
      "cell_type": "code",
      "source": [
        "distribuicao_frequencia = pd.DataFrame({\"Frequencia\": frequencia, \"Percentual (%)\": percentual})\n",
        "distribuicao_frequencia.reset_index(inplace=True)\n",
        "distribuicao_frequencia.rename(columns={\"index\":\"Qtde. Banheiros\"}, inplace=True)"
      ],
      "metadata": {
        "id": "QUEC_V3FE5H3"
      },
      "execution_count": null,
      "outputs": []
    },
    {
      "cell_type": "markdown",
      "source": [
        "#### *Apartamentos: Resultado*"
      ],
      "metadata": {
        "id": "sQxVjulZE5H3"
      }
    },
    {
      "cell_type": "code",
      "source": [
        "distribuicao_frequencia"
      ],
      "metadata": {
        "colab": {
          "base_uri": "https://localhost:8080/",
          "height": 206
        },
        "outputId": "54ef1cb3-32f9-4c52-bc5d-048d7bc58ce4",
        "id": "wEmU8alRE5H3"
      },
      "execution_count": null,
      "outputs": [
        {
          "output_type": "execute_result",
          "data": {
            "text/plain": [
              "   Qtde. Banheiros  Frequencia  Percentual (%)\n",
              "0                1          73           40.33\n",
              "1                2          55           30.39\n",
              "2                5          21           11.60\n",
              "3                3          17            9.39\n",
              "4                4          15            8.29"
            ],
            "text/html": [
              "\n",
              "  <div id=\"df-bf394397-886a-470c-87c6-d082ae34dfc1\">\n",
              "    <div class=\"colab-df-container\">\n",
              "      <div>\n",
              "<style scoped>\n",
              "    .dataframe tbody tr th:only-of-type {\n",
              "        vertical-align: middle;\n",
              "    }\n",
              "\n",
              "    .dataframe tbody tr th {\n",
              "        vertical-align: top;\n",
              "    }\n",
              "\n",
              "    .dataframe thead th {\n",
              "        text-align: right;\n",
              "    }\n",
              "</style>\n",
              "<table border=\"1\" class=\"dataframe\">\n",
              "  <thead>\n",
              "    <tr style=\"text-align: right;\">\n",
              "      <th></th>\n",
              "      <th>Qtde. Banheiros</th>\n",
              "      <th>Frequencia</th>\n",
              "      <th>Percentual (%)</th>\n",
              "    </tr>\n",
              "  </thead>\n",
              "  <tbody>\n",
              "    <tr>\n",
              "      <th>0</th>\n",
              "      <td>1</td>\n",
              "      <td>73</td>\n",
              "      <td>40.33</td>\n",
              "    </tr>\n",
              "    <tr>\n",
              "      <th>1</th>\n",
              "      <td>2</td>\n",
              "      <td>55</td>\n",
              "      <td>30.39</td>\n",
              "    </tr>\n",
              "    <tr>\n",
              "      <th>2</th>\n",
              "      <td>5</td>\n",
              "      <td>21</td>\n",
              "      <td>11.60</td>\n",
              "    </tr>\n",
              "    <tr>\n",
              "      <th>3</th>\n",
              "      <td>3</td>\n",
              "      <td>17</td>\n",
              "      <td>9.39</td>\n",
              "    </tr>\n",
              "    <tr>\n",
              "      <th>4</th>\n",
              "      <td>4</td>\n",
              "      <td>15</td>\n",
              "      <td>8.29</td>\n",
              "    </tr>\n",
              "  </tbody>\n",
              "</table>\n",
              "</div>\n",
              "      <button class=\"colab-df-convert\" onclick=\"convertToInteractive('df-bf394397-886a-470c-87c6-d082ae34dfc1')\"\n",
              "              title=\"Convert this dataframe to an interactive table.\"\n",
              "              style=\"display:none;\">\n",
              "        \n",
              "  <svg xmlns=\"http://www.w3.org/2000/svg\" height=\"24px\"viewBox=\"0 0 24 24\"\n",
              "       width=\"24px\">\n",
              "    <path d=\"M0 0h24v24H0V0z\" fill=\"none\"/>\n",
              "    <path d=\"M18.56 5.44l.94 2.06.94-2.06 2.06-.94-2.06-.94-.94-2.06-.94 2.06-2.06.94zm-11 1L8.5 8.5l.94-2.06 2.06-.94-2.06-.94L8.5 2.5l-.94 2.06-2.06.94zm10 10l.94 2.06.94-2.06 2.06-.94-2.06-.94-.94-2.06-.94 2.06-2.06.94z\"/><path d=\"M17.41 7.96l-1.37-1.37c-.4-.4-.92-.59-1.43-.59-.52 0-1.04.2-1.43.59L10.3 9.45l-7.72 7.72c-.78.78-.78 2.05 0 2.83L4 21.41c.39.39.9.59 1.41.59.51 0 1.02-.2 1.41-.59l7.78-7.78 2.81-2.81c.8-.78.8-2.07 0-2.86zM5.41 20L4 18.59l7.72-7.72 1.47 1.35L5.41 20z\"/>\n",
              "  </svg>\n",
              "      </button>\n",
              "      \n",
              "  <style>\n",
              "    .colab-df-container {\n",
              "      display:flex;\n",
              "      flex-wrap:wrap;\n",
              "      gap: 12px;\n",
              "    }\n",
              "\n",
              "    .colab-df-convert {\n",
              "      background-color: #E8F0FE;\n",
              "      border: none;\n",
              "      border-radius: 50%;\n",
              "      cursor: pointer;\n",
              "      display: none;\n",
              "      fill: #1967D2;\n",
              "      height: 32px;\n",
              "      padding: 0 0 0 0;\n",
              "      width: 32px;\n",
              "    }\n",
              "\n",
              "    .colab-df-convert:hover {\n",
              "      background-color: #E2EBFA;\n",
              "      box-shadow: 0px 1px 2px rgba(60, 64, 67, 0.3), 0px 1px 3px 1px rgba(60, 64, 67, 0.15);\n",
              "      fill: #174EA6;\n",
              "    }\n",
              "\n",
              "    [theme=dark] .colab-df-convert {\n",
              "      background-color: #3B4455;\n",
              "      fill: #D2E3FC;\n",
              "    }\n",
              "\n",
              "    [theme=dark] .colab-df-convert:hover {\n",
              "      background-color: #434B5C;\n",
              "      box-shadow: 0px 1px 3px 1px rgba(0, 0, 0, 0.15);\n",
              "      filter: drop-shadow(0px 1px 2px rgba(0, 0, 0, 0.3));\n",
              "      fill: #FFFFFF;\n",
              "    }\n",
              "  </style>\n",
              "\n",
              "      <script>\n",
              "        const buttonEl =\n",
              "          document.querySelector('#df-bf394397-886a-470c-87c6-d082ae34dfc1 button.colab-df-convert');\n",
              "        buttonEl.style.display =\n",
              "          google.colab.kernel.accessAllowed ? 'block' : 'none';\n",
              "\n",
              "        async function convertToInteractive(key) {\n",
              "          const element = document.querySelector('#df-bf394397-886a-470c-87c6-d082ae34dfc1');\n",
              "          const dataTable =\n",
              "            await google.colab.kernel.invokeFunction('convertToInteractive',\n",
              "                                                     [key], {});\n",
              "          if (!dataTable) return;\n",
              "\n",
              "          const docLinkHtml = 'Like what you see? Visit the ' +\n",
              "            '<a target=\"_blank\" href=https://colab.research.google.com/notebooks/data_table.ipynb>data table notebook</a>'\n",
              "            + ' to learn more about interactive tables.';\n",
              "          element.innerHTML = '';\n",
              "          dataTable['output_type'] = 'display_data';\n",
              "          await google.colab.output.renderOutput(dataTable, element);\n",
              "          const docLink = document.createElement('div');\n",
              "          docLink.innerHTML = docLinkHtml;\n",
              "          element.appendChild(docLink);\n",
              "        }\n",
              "      </script>\n",
              "    </div>\n",
              "  </div>\n",
              "  "
            ]
          },
          "metadata": {},
          "execution_count": 368
        }
      ]
    },
    {
      "cell_type": "code",
      "source": [
        "plot = sns.barplot(data=distribuicao_frequencia, x=\"Qtde. Banheiros\", y=\"Percentual (%)\", color= \"blue\")\n",
        "show_values(plot)"
      ],
      "metadata": {
        "colab": {
          "base_uri": "https://localhost:8080/",
          "height": 280
        },
        "outputId": "4d9dc588-d12e-40bf-8fe6-b3cb382d3fd3",
        "id": "d9BgrfykE5H3"
      },
      "execution_count": null,
      "outputs": [
        {
          "output_type": "display_data",
          "data": {
            "text/plain": [
              "<Figure size 432x288 with 1 Axes>"
            ],
            "image/png": "[encoded data removed]"
          },
          "metadata": {
            "needs_background": "light"
          }
        }
      ]
    },
    {
      "cell_type": "code",
      "source": [
        "mean = media_apartamentos_cs + media_apartamentos_co + media_apartamentos_leste + media_apartamentos_norte + media_apartamentos_sul + media_apartamentos_oeste\n"
      ],
      "metadata": {
        "colab": {
          "base_uri": "https://localhost:8080/",
          "height": 182
        },
        "id": "f-ApgKLmsP_N",
        "outputId": "691c55f0-4a3f-4d62-c04e-5d9990e4ab89"
      },
      "execution_count": null,
      "outputs": [
        {
          "output_type": "error",
          "ename": "NameError",
          "evalue": "ignored",
          "traceback": [
            "\u001b[0;31m---------------------------------------------------------------------------\u001b[0m",
            "\u001b[0;31mNameError\u001b[0m                                 Traceback (most recent call last)",
            "\u001b[0;32m<ipython-input-32-a8e5eb232595>\u001b[0m in \u001b[0;36m<module>\u001b[0;34m\u001b[0m\n\u001b[0;32m----> 1\u001b[0;31m \u001b[0mmean\u001b[0m \u001b[0;34m=\u001b[0m \u001b[0mmedia_apartamentos_cs\u001b[0m \u001b[0;34m+\u001b[0m \u001b[0mmedia_apartamentos_co\u001b[0m \u001b[0;34m+\u001b[0m \u001b[0mmedia_apartamentos_leste\u001b[0m \u001b[0;34m+\u001b[0m \u001b[0mmedia_apartamentos_norte\u001b[0m \u001b[0;34m+\u001b[0m \u001b[0mmedia_apartamentos_sul\u001b[0m \u001b[0;34m+\u001b[0m \u001b[0mmedia_apartamentos_oeste\u001b[0m\u001b[0;34m\u001b[0m\u001b[0;34m\u001b[0m\u001b[0m\n\u001b[0m",
            "\u001b[0;31mNameError\u001b[0m: name 'media_apartamentos_cs' is not defined"
          ]
        }
      ]
    },
    {
      "cell_type": "markdown",
      "source": [
        "# Testes de Hipótese"
      ],
      "metadata": {
        "id": "GF8PKrO2QAE2"
      }
    },
    {
      "cell_type": "markdown",
      "source": [
        "## Hipótese de Proporção"
      ],
      "metadata": {
        "id": "6KRo2siJQCTH"
      }
    },
    {
      "cell_type": "markdown",
      "source": [
        "Um universitário deseja comprar uma casa perto de sua faculdade (UEA) na zona centro-sul de Manaus. Ao analizar os dados referentes aos imóveis à venda em Manaus, descobriu que o número de casas disponíveis representa aproximadamente x% do total de imóveis. Com base em suas ideias preconcebidas ele acredita haver uma porcentagem menor de casas nessa zona da cidade.\n",
        "\n",
        "Tendo em mãos o banco de dados utilizado neste trabalho, ele constatou que o número de casas à venda na região representa y% do total de imóveis. Seria este valor significantemente menor do que x%, ao nível de significância de 5%?"
      ],
      "metadata": {
        "id": "36MlffJwQIFF"
      }
    },
    {
      "cell_type": "code",
      "source": [
        "import scipy.stats\n",
        "\n",
        "'''\n",
        "Calculando a proporção populacional\n",
        "'''\n",
        "# Número de imóveis à venda em Manaus\n",
        "print(f'Número de casas: {len(df_casas)}')\n",
        "\n",
        "# Número de casas à venda em Manaus\n",
        "print(f'Número de imóveis(total): {len(df)}')\n",
        "\n",
        "# Proporção de casas à venda em Manaus\n",
        "print(f'Proporção de casas: {len(df_casas)/len(df)*100:.02f}%\\n')\n",
        "\n",
        "'''\n",
        "Calculando a proporção amostral\n",
        "'''\n",
        "# Número de imóveis à venda na zona centro-sul\n",
        "print(f'Número de casas no centro-sul: {len(df_casas_cs)}')\n",
        "\n",
        "# Número de casas à venda na zona centro-sul\n",
        "print(f'Número de imóveis no centro-sul(total): {len(df_cs)}')\n",
        "\n",
        "# Proporção de casas à venda na zona centro-sul\n",
        "print(f'Proporção de casas no centro-sul: {len(df_casas_cs)/len(df_cs)*100:.02f}%\\n')\n",
        "\n",
        "'''\n",
        "Partindo-se de uma probabilidade acumulada p, obtém-seo valor de z (exemplo: p = 95%)\n",
        "'''\n",
        "z = scipy.stats.norm.ppf(q=0.98)\n",
        "z\n"
      ],
      "metadata": {
        "colab": {
          "base_uri": "https://localhost:8080/"
        },
        "id": "qx7UHIE3QKzb",
        "outputId": "74f2270a-d2de-4aab-d48a-f1ec83df9f9b"
      },
      "execution_count": null,
      "outputs": [
        {
          "output_type": "stream",
          "name": "stdout",
          "text": [
            "Número de casas: 210\n",
            "Número de imóveis(total): 391\n",
            "Proporção de casas: 53.71%\n",
            "\n",
            "Número de casas no centro-sul: 63\n",
            "Número de imóveis no centro-sul(total): 136\n",
            "Proporção de casas no centro-sul: 46.32%\n",
            "\n"
          ]
        },
        {
          "output_type": "execute_result",
          "data": {
            "text/plain": [
              "2.0537489106318225"
            ]
          },
          "metadata": {},
          "execution_count": 382
        }
      ]
    },
    {
      "cell_type": "markdown",
      "source": [
        "![image.png](data:image/png;base64,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)"
      ],
      "metadata": {
        "id": "VlTgoGZJTfLs"
      }
    },
    {
      "cell_type": "code",
      "source": [
        "# Número de dados da amostra\n",
        "n = len(df_cs)\n",
        "print(f'n: {n}')\n",
        "\n",
        "# Proporção amostral\n",
        "p_chapeu = len(df_casas_cs)/len(df_cs)\n",
        "print(f'p chapeu: {p_chapeu:.02f}')\n",
        "\n",
        "# Proporção populacional\n",
        "p = len(df_casas)/len(df)\n",
        "print(f'p: {p:.02f}')\n",
        "\n",
        "# z observado\n",
        "z = (p_chapeu - p) / math.sqrt((p * (1-p)) / n)\n",
        "print(p_chapeu - p)\n",
        "print(math.sqrt((p * (1-p)) / n))\n",
        "print(f'Zobs: {z:.02f}')\n",
        "\n",
        "0,58122\n",
        "0.04273722719"
      ],
      "metadata": {
        "colab": {
          "base_uri": "https://localhost:8080/"
        },
        "id": "hshCHT6nTqlT",
        "outputId": "d745eee0-5f44-481c-b1cd-3da7d7210cb0"
      },
      "execution_count": null,
      "outputs": [
        {
          "output_type": "stream",
          "name": "stdout",
          "text": [
            "n: 136\n",
            "p chapeu: 0.46\n",
            "p: 0.54\n",
            "-0.07384910485933505\n",
            "0.042756556717045306\n",
            "Zobs: -1.73\n"
          ]
        },
        {
          "output_type": "execute_result",
          "data": {
            "text/plain": [
              "(0, 58122)"
            ]
          },
          "metadata": {},
          "execution_count": 396
        }
      ]
    },
    {
      "cell_type": "markdown",
      "source": [
        "## Hipóteses de Média"
      ],
      "metadata": {
        "id": "y4AM2lO7QFEV"
      }
    }
  ]
}