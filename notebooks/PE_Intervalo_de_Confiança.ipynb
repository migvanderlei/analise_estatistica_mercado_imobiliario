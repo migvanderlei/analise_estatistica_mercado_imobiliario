{
  "nbformat": 4,
  "nbformat_minor": 0,
  "metadata": {
    "colab": {
      "provenance": []
    },
    "kernelspec": {
      "name": "python3",
      "display_name": "Python 3"
    },
    "language_info": {
      "name": "python"
    }
  },
  "cells": [
    {
      "cell_type": "code",
      "source": [
        "import pandas as pd\n",
        "import matplotlib.pyplot as plt\n",
        "import numpy as np\n",
        "import seaborn as sns\n",
        "import scipy.stats"
      ],
      "metadata": {
        "id": "5Cj8rqaJ7pq1"
      },
      "execution_count": 1,
      "outputs": []
    },
    {
      "cell_type": "code",
      "execution_count": 2,
      "metadata": {
        "colab": {
          "base_uri": "https://localhost:8080/",
          "height": 74
        },
        "id": "4dJsXTyN7JOM",
        "outputId": "f73c4b9e-157c-48ea-b8ba-a90e2a51d3ee"
      },
      "outputs": [
        {
          "output_type": "display_data",
          "data": {
            "text/plain": [
              "<IPython.core.display.HTML object>"
            ],
            "text/html": [
              "\n",
              "     <input type=\"file\" id=\"files-01b57fcb-d9c1-40c3-a462-75e19c30b064\" name=\"files[]\" multiple disabled\n",
              "        style=\"border:none\" />\n",
              "     <output id=\"result-01b57fcb-d9c1-40c3-a462-75e19c30b064\">\n",
              "      Upload widget is only available when the cell has been executed in the\n",
              "      current browser session. Please rerun this cell to enable.\n",
              "      </output>\n",
              "      <script>// Copyright 2017 Google LLC\n",
              "//\n",
              "// Licensed under the Apache License, Version 2.0 (the \"License\");\n",
              "// you may not use this file except in compliance with the License.\n",
              "// You may obtain a copy of the License at\n",
              "//\n",
              "//      http://www.apache.org/licenses/LICENSE-2.0\n",
              "//\n",
              "// Unless required by applicable law or agreed to in writing, software\n",
              "// distributed under the License is distributed on an \"AS IS\" BASIS,\n",
              "// WITHOUT WARRANTIES OR CONDITIONS OF ANY KIND, either express or implied.\n",
              "// See the License for the specific language governing permissions and\n",
              "// limitations under the License.\n",
              "\n",
              "/**\n",
              " * @fileoverview Helpers for google.colab Python module.\n",
              " */\n",
              "(function(scope) {\n",
              "function span(text, styleAttributes = {}) {\n",
              "  const element = document.createElement('span');\n",
              "  element.textContent = text;\n",
              "  for (const key of Object.keys(styleAttributes)) {\n",
              "    element.style[key] = styleAttributes[key];\n",
              "  }\n",
              "  return element;\n",
              "}\n",
              "\n",
              "// Max number of bytes which will be uploaded at a time.\n",
              "const MAX_PAYLOAD_SIZE = 100 * 1024;\n",
              "\n",
              "function _uploadFiles(inputId, outputId) {\n",
              "  const steps = uploadFilesStep(inputId, outputId);\n",
              "  const outputElement = document.getElementById(outputId);\n",
              "  // Cache steps on the outputElement to make it available for the next call\n",
              "  // to uploadFilesContinue from Python.\n",
              "  outputElement.steps = steps;\n",
              "\n",
              "  return _uploadFilesContinue(outputId);\n",
              "}\n",
              "\n",
              "// This is roughly an async generator (not supported in the browser yet),\n",
              "// where there are multiple asynchronous steps and the Python side is going\n",
              "// to poll for completion of each step.\n",
              "// This uses a Promise to block the python side on completion of each step,\n",
              "// then passes the result of the previous step as the input to the next step.\n",
              "function _uploadFilesContinue(outputId) {\n",
              "  const outputElement = document.getElementById(outputId);\n",
              "  const steps = outputElement.steps;\n",
              "\n",
              "  const next = steps.next(outputElement.lastPromiseValue);\n",
              "  return Promise.resolve(next.value.promise).then((value) => {\n",
              "    // Cache the last promise value to make it available to the next\n",
              "    // step of the generator.\n",
              "    outputElement.lastPromiseValue = value;\n",
              "    return next.value.response;\n",
              "  });\n",
              "}\n",
              "\n",
              "/**\n",
              " * Generator function which is called between each async step of the upload\n",
              " * process.\n",
              " * @param {string} inputId Element ID of the input file picker element.\n",
              " * @param {string} outputId Element ID of the output display.\n",
              " * @return {!Iterable<!Object>} Iterable of next steps.\n",
              " */\n",
              "function* uploadFilesStep(inputId, outputId) {\n",
              "  const inputElement = document.getElementById(inputId);\n",
              "  inputElement.disabled = false;\n",
              "\n",
              "  const outputElement = document.getElementById(outputId);\n",
              "  outputElement.innerHTML = '';\n",
              "\n",
              "  const pickedPromise = new Promise((resolve) => {\n",
              "    inputElement.addEventListener('change', (e) => {\n",
              "      resolve(e.target.files);\n",
              "    });\n",
              "  });\n",
              "\n",
              "  const cancel = document.createElement('button');\n",
              "  inputElement.parentElement.appendChild(cancel);\n",
              "  cancel.textContent = 'Cancel upload';\n",
              "  const cancelPromise = new Promise((resolve) => {\n",
              "    cancel.onclick = () => {\n",
              "      resolve(null);\n",
              "    };\n",
              "  });\n",
              "\n",
              "  // Wait for the user to pick the files.\n",
              "  const files = yield {\n",
              "    promise: Promise.race([pickedPromise, cancelPromise]),\n",
              "    response: {\n",
              "      action: 'starting',\n",
              "    }\n",
              "  };\n",
              "\n",
              "  cancel.remove();\n",
              "\n",
              "  // Disable the input element since further picks are not allowed.\n",
              "  inputElement.disabled = true;\n",
              "\n",
              "  if (!files) {\n",
              "    return {\n",
              "      response: {\n",
              "        action: 'complete',\n",
              "      }\n",
              "    };\n",
              "  }\n",
              "\n",
              "  for (const file of files) {\n",
              "    const li = document.createElement('li');\n",
              "    li.append(span(file.name, {fontWeight: 'bold'}));\n",
              "    li.append(span(\n",
              "        `(${file.type || 'n/a'}) - ${file.size} bytes, ` +\n",
              "        `last modified: ${\n",
              "            file.lastModifiedDate ? file.lastModifiedDate.toLocaleDateString() :\n",
              "                                    'n/a'} - `));\n",
              "    const percent = span('0% done');\n",
              "    li.appendChild(percent);\n",
              "\n",
              "    outputElement.appendChild(li);\n",
              "\n",
              "    const fileDataPromise = new Promise((resolve) => {\n",
              "      const reader = new FileReader();\n",
              "      reader.onload = (e) => {\n",
              "        resolve(e.target.result);\n",
              "      };\n",
              "      reader.readAsArrayBuffer(file);\n",
              "    });\n",
              "    // Wait for the data to be ready.\n",
              "    let fileData = yield {\n",
              "      promise: fileDataPromise,\n",
              "      response: {\n",
              "        action: 'continue',\n",
              "      }\n",
              "    };\n",
              "\n",
              "    // Use a chunked sending to avoid message size limits. See b/62115660.\n",
              "    let position = 0;\n",
              "    do {\n",
              "      const length = Math.min(fileData.byteLength - position, MAX_PAYLOAD_SIZE);\n",
              "      const chunk = new Uint8Array(fileData, position, length);\n",
              "      position += length;\n",
              "\n",
              "      const base64 = btoa(String.fromCharCode.apply(null, chunk));\n",
              "      yield {\n",
              "        response: {\n",
              "          action: 'append',\n",
              "          file: file.name,\n",
              "          data: base64,\n",
              "        },\n",
              "      };\n",
              "\n",
              "      let percentDone = fileData.byteLength === 0 ?\n",
              "          100 :\n",
              "          Math.round((position / fileData.byteLength) * 100);\n",
              "      percent.textContent = `${percentDone}% done`;\n",
              "\n",
              "    } while (position < fileData.byteLength);\n",
              "  }\n",
              "\n",
              "  // All done.\n",
              "  yield {\n",
              "    response: {\n",
              "      action: 'complete',\n",
              "    }\n",
              "  };\n",
              "}\n",
              "\n",
              "scope.google = scope.google || {};\n",
              "scope.google.colab = scope.google.colab || {};\n",
              "scope.google.colab._files = {\n",
              "  _uploadFiles,\n",
              "  _uploadFilesContinue,\n",
              "};\n",
              "})(self);\n",
              "</script> "
            ]
          },
          "metadata": {}
        },
        {
          "output_type": "stream",
          "name": "stdout",
          "text": [
            "Saving data_amostra_2.csv to data_amostra_2.csv\n"
          ]
        }
      ],
      "source": [
        "from google.colab import files\n",
        "\n",
        "uploaded = files.upload()"
      ]
    },
    {
      "cell_type": "code",
      "source": [
        "from google.colab import files\n",
        "\n",
        "uploaded = files.upload()"
      ],
      "metadata": {
        "colab": {
          "base_uri": "https://localhost:8080/",
          "height": 74
        },
        "id": "Hyrm-s8dOD5t",
        "outputId": "3589211d-7c83-4ec5-ef48-975bfd1fd85f"
      },
      "execution_count": 26,
      "outputs": [
        {
          "output_type": "display_data",
          "data": {
            "text/plain": [
              "<IPython.core.display.HTML object>"
            ],
            "text/html": [
              "\n",
              "     <input type=\"file\" id=\"files-3a3e8b86-54ca-4518-ab31-76cc5e1db11d\" name=\"files[]\" multiple disabled\n",
              "        style=\"border:none\" />\n",
              "     <output id=\"result-3a3e8b86-54ca-4518-ab31-76cc5e1db11d\">\n",
              "      Upload widget is only available when the cell has been executed in the\n",
              "      current browser session. Please rerun this cell to enable.\n",
              "      </output>\n",
              "      <script>// Copyright 2017 Google LLC\n",
              "//\n",
              "// Licensed under the Apache License, Version 2.0 (the \"License\");\n",
              "// you may not use this file except in compliance with the License.\n",
              "// You may obtain a copy of the License at\n",
              "//\n",
              "//      http://www.apache.org/licenses/LICENSE-2.0\n",
              "//\n",
              "// Unless required by applicable law or agreed to in writing, software\n",
              "// distributed under the License is distributed on an \"AS IS\" BASIS,\n",
              "// WITHOUT WARRANTIES OR CONDITIONS OF ANY KIND, either express or implied.\n",
              "// See the License for the specific language governing permissions and\n",
              "// limitations under the License.\n",
              "\n",
              "/**\n",
              " * @fileoverview Helpers for google.colab Python module.\n",
              " */\n",
              "(function(scope) {\n",
              "function span(text, styleAttributes = {}) {\n",
              "  const element = document.createElement('span');\n",
              "  element.textContent = text;\n",
              "  for (const key of Object.keys(styleAttributes)) {\n",
              "    element.style[key] = styleAttributes[key];\n",
              "  }\n",
              "  return element;\n",
              "}\n",
              "\n",
              "// Max number of bytes which will be uploaded at a time.\n",
              "const MAX_PAYLOAD_SIZE = 100 * 1024;\n",
              "\n",
              "function _uploadFiles(inputId, outputId) {\n",
              "  const steps = uploadFilesStep(inputId, outputId);\n",
              "  const outputElement = document.getElementById(outputId);\n",
              "  // Cache steps on the outputElement to make it available for the next call\n",
              "  // to uploadFilesContinue from Python.\n",
              "  outputElement.steps = steps;\n",
              "\n",
              "  return _uploadFilesContinue(outputId);\n",
              "}\n",
              "\n",
              "// This is roughly an async generator (not supported in the browser yet),\n",
              "// where there are multiple asynchronous steps and the Python side is going\n",
              "// to poll for completion of each step.\n",
              "// This uses a Promise to block the python side on completion of each step,\n",
              "// then passes the result of the previous step as the input to the next step.\n",
              "function _uploadFilesContinue(outputId) {\n",
              "  const outputElement = document.getElementById(outputId);\n",
              "  const steps = outputElement.steps;\n",
              "\n",
              "  const next = steps.next(outputElement.lastPromiseValue);\n",
              "  return Promise.resolve(next.value.promise).then((value) => {\n",
              "    // Cache the last promise value to make it available to the next\n",
              "    // step of the generator.\n",
              "    outputElement.lastPromiseValue = value;\n",
              "    return next.value.response;\n",
              "  });\n",
              "}\n",
              "\n",
              "/**\n",
              " * Generator function which is called between each async step of the upload\n",
              " * process.\n",
              " * @param {string} inputId Element ID of the input file picker element.\n",
              " * @param {string} outputId Element ID of the output display.\n",
              " * @return {!Iterable<!Object>} Iterable of next steps.\n",
              " */\n",
              "function* uploadFilesStep(inputId, outputId) {\n",
              "  const inputElement = document.getElementById(inputId);\n",
              "  inputElement.disabled = false;\n",
              "\n",
              "  const outputElement = document.getElementById(outputId);\n",
              "  outputElement.innerHTML = '';\n",
              "\n",
              "  const pickedPromise = new Promise((resolve) => {\n",
              "    inputElement.addEventListener('change', (e) => {\n",
              "      resolve(e.target.files);\n",
              "    });\n",
              "  });\n",
              "\n",
              "  const cancel = document.createElement('button');\n",
              "  inputElement.parentElement.appendChild(cancel);\n",
              "  cancel.textContent = 'Cancel upload';\n",
              "  const cancelPromise = new Promise((resolve) => {\n",
              "    cancel.onclick = () => {\n",
              "      resolve(null);\n",
              "    };\n",
              "  });\n",
              "\n",
              "  // Wait for the user to pick the files.\n",
              "  const files = yield {\n",
              "    promise: Promise.race([pickedPromise, cancelPromise]),\n",
              "    response: {\n",
              "      action: 'starting',\n",
              "    }\n",
              "  };\n",
              "\n",
              "  cancel.remove();\n",
              "\n",
              "  // Disable the input element since further picks are not allowed.\n",
              "  inputElement.disabled = true;\n",
              "\n",
              "  if (!files) {\n",
              "    return {\n",
              "      response: {\n",
              "        action: 'complete',\n",
              "      }\n",
              "    };\n",
              "  }\n",
              "\n",
              "  for (const file of files) {\n",
              "    const li = document.createElement('li');\n",
              "    li.append(span(file.name, {fontWeight: 'bold'}));\n",
              "    li.append(span(\n",
              "        `(${file.type || 'n/a'}) - ${file.size} bytes, ` +\n",
              "        `last modified: ${\n",
              "            file.lastModifiedDate ? file.lastModifiedDate.toLocaleDateString() :\n",
              "                                    'n/a'} - `));\n",
              "    const percent = span('0% done');\n",
              "    li.appendChild(percent);\n",
              "\n",
              "    outputElement.appendChild(li);\n",
              "\n",
              "    const fileDataPromise = new Promise((resolve) => {\n",
              "      const reader = new FileReader();\n",
              "      reader.onload = (e) => {\n",
              "        resolve(e.target.result);\n",
              "      };\n",
              "      reader.readAsArrayBuffer(file);\n",
              "    });\n",
              "    // Wait for the data to be ready.\n",
              "    let fileData = yield {\n",
              "      promise: fileDataPromise,\n",
              "      response: {\n",
              "        action: 'continue',\n",
              "      }\n",
              "    };\n",
              "\n",
              "    // Use a chunked sending to avoid message size limits. See b/62115660.\n",
              "    let position = 0;\n",
              "    do {\n",
              "      const length = Math.min(fileData.byteLength - position, MAX_PAYLOAD_SIZE);\n",
              "      const chunk = new Uint8Array(fileData, position, length);\n",
              "      position += length;\n",
              "\n",
              "      const base64 = btoa(String.fromCharCode.apply(null, chunk));\n",
              "      yield {\n",
              "        response: {\n",
              "          action: 'append',\n",
              "          file: file.name,\n",
              "          data: base64,\n",
              "        },\n",
              "      };\n",
              "\n",
              "      let percentDone = fileData.byteLength === 0 ?\n",
              "          100 :\n",
              "          Math.round((position / fileData.byteLength) * 100);\n",
              "      percent.textContent = `${percentDone}% done`;\n",
              "\n",
              "    } while (position < fileData.byteLength);\n",
              "  }\n",
              "\n",
              "  // All done.\n",
              "  yield {\n",
              "    response: {\n",
              "      action: 'complete',\n",
              "    }\n",
              "  };\n",
              "}\n",
              "\n",
              "scope.google = scope.google || {};\n",
              "scope.google.colab = scope.google.colab || {};\n",
              "scope.google.colab._files = {\n",
              "  _uploadFiles,\n",
              "  _uploadFilesContinue,\n",
              "};\n",
              "})(self);\n",
              "</script> "
            ]
          },
          "metadata": {}
        },
        {
          "output_type": "stream",
          "name": "stdout",
          "text": [
            "Saving data_v4.csv to data_v4.csv\n"
          ]
        }
      ]
    },
    {
      "cell_type": "code",
      "source": [
        "df = pd.read_csv('data_amostra_2.csv')\n",
        "data = pd.read_csv('data_v4.csv')"
      ],
      "metadata": {
        "id": "Sj2CrFNiF614"
      },
      "execution_count": 27,
      "outputs": []
    },
    {
      "cell_type": "markdown",
      "source": [
        "#**Dataframes separados**"
      ],
      "metadata": {
        "id": "Vn-12c4ymluY"
      }
    },
    {
      "cell_type": "code",
      "source": [
        "df_apartamentos = df[df[\"categoria\"] == \"Apartamentos\"]\n",
        "df_casas = df[df[\"categoria\"] == \"Casas\"]"
      ],
      "metadata": {
        "id": "-JRV8BwfmoaI"
      },
      "execution_count": 4,
      "outputs": []
    },
    {
      "cell_type": "markdown",
      "source": [
        "Geral, sem distinção entre casas e apartamentos:"
      ],
      "metadata": {
        "id": "um8tUKPzzAVf"
      }
    },
    {
      "cell_type": "code",
      "source": [
        "df_norte = df[df[\"zona\"] == \"Norte\"]\n",
        "df_sul = df[df[\"zona\"] == \"Sul\"]\n",
        "df_leste = df[df[\"zona\"] == \"Leste\"]\n",
        "df_oeste = df[df[\"zona\"] == \"Oeste\"]\n",
        "df_co = df[df[\"zona\"] == \"Centro-Oeste\"]\n",
        "df_cs = df[df[\"zona\"] == \"Centro-Sul\"]"
      ],
      "metadata": {
        "id": "RseO3JOynVPC"
      },
      "execution_count": 5,
      "outputs": []
    },
    {
      "cell_type": "markdown",
      "source": [
        "Casas:"
      ],
      "metadata": {
        "id": "o_XOLEGDzEtF"
      }
    },
    {
      "cell_type": "code",
      "source": [
        "df_casas_norte = df_norte.loc[df[\"categoria\"] == \"Casas\"]\n",
        "df_casas_sul = df_sul.loc[df_sul[\"categoria\"] == \"Casas\"]\n",
        "df_casas_leste = df_leste.loc[df_leste[\"categoria\"] == \"Casas\"]\n",
        "df_casas_oeste = df_oeste.loc[df_oeste[\"categoria\"] == \"Casas\"]\n",
        "df_casas_co = df_co.loc[df_co[\"categoria\"] == \"Casas\"]\n",
        "df_casas_cs = df_cs.loc[df_cs[\"categoria\"] == \"Casas\"]"
      ],
      "metadata": {
        "id": "MLC31VqoygV2"
      },
      "execution_count": 6,
      "outputs": []
    },
    {
      "cell_type": "markdown",
      "source": [
        "Apartamentos:"
      ],
      "metadata": {
        "id": "SIa6vEbKzHhH"
      }
    },
    {
      "cell_type": "code",
      "source": [
        "df_apartamentos_norte= df_norte.loc[df[\"categoria\"] == \"Apartamentos\"]\n",
        "df_apartamentos_sul = df_sul.loc[df_sul[\"categoria\"] == \"Apartamentos\"]\n",
        "df_apartamentos_leste = df_leste.loc[df[\"categoria\"] == \"Apartamentos\"]\n",
        "df_apartamentos_oeste = df_oeste.loc[df_oeste[\"categoria\"] == \"Apartamentos\"]\n",
        "df_apartamentos_co = df_co.loc[df_co[\"categoria\"] == \"Apartamentos\"]\n",
        "df_apartamentos_cs = df_cs.loc[df_cs[\"categoria\"] == \"Apartamentos\"]"
      ],
      "metadata": {
        "id": "TRDgCOicyfRm"
      },
      "execution_count": 7,
      "outputs": []
    },
    {
      "cell_type": "markdown",
      "source": [
        "# Intervalos de Confiança\n",
        "\n",
        "Intervalo de confiança de 95% \n",
        "\n",
        "$Z_c = 1.96$"
      ],
      "metadata": {
        "id": "gFgFXZISQnwi"
      }
    },
    {
      "cell_type": "code",
      "source": [
        "z_critico = 1.96"
      ],
      "metadata": {
        "id": "MhYbixwoVJCF"
      },
      "execution_count": 8,
      "outputs": []
    },
    {
      "cell_type": "markdown",
      "source": [
        "## Funções"
      ],
      "metadata": {
        "id": "96TwQ5AWqyPR"
      }
    },
    {
      "cell_type": "markdown",
      "source": [
        "Função para calcular a margem de erro, retorna o valor para mais ou para menos.\n",
        "\n",
        "Exemplo: *a margem de erro dos valores dos imóveis de Manaus é de R$97.987,99 para mais ou para menos*"
      ],
      "metadata": {
        "id": "cnbD5b0RUl2Q"
      }
    },
    {
      "cell_type": "code",
      "source": [
        "def margem_de_erro(data):\n",
        "  desvio_padrao = data.std()\n",
        "  n = np.sqrt(len(data))\n",
        "  margem = round(z_critico * (desvio_padrao / n), 2)\n",
        "\n",
        "  return margem"
      ],
      "metadata": {
        "id": "Ma6YrpI3SFLx"
      },
      "execution_count": 9,
      "outputs": []
    },
    {
      "cell_type": "code",
      "source": [
        "margem_de_erro(df[\"valor\"])"
      ],
      "metadata": {
        "colab": {
          "base_uri": "https://localhost:8080/"
        },
        "id": "zj3vEztqZzCU",
        "outputId": "6085cc88-26fe-40e5-b64d-49280b95ad54"
      },
      "execution_count": 10,
      "outputs": [
        {
          "output_type": "execute_result",
          "data": {
            "text/plain": [
              "97987.99"
            ]
          },
          "metadata": {},
          "execution_count": 10
        }
      ]
    },
    {
      "cell_type": "markdown",
      "source": [
        "Função para calcular o Intervalo de Confiança para Média"
      ],
      "metadata": {
        "id": "aUfXRfbXWONp"
      }
    },
    {
      "cell_type": "code",
      "source": [
        "def intervalo_de_confianca_media(data):\n",
        "  media = round(data.mean(), 2)\n",
        "  intervalo_maior = round(media + margem_de_erro(data),2)\n",
        "  intervalo_menor = round(media - margem_de_erro(data),2)\n",
        "\n",
        "  return intervalo_maior, intervalo_menor"
      ],
      "metadata": {
        "id": "lBtdwcXISOsl"
      },
      "execution_count": 11,
      "outputs": []
    },
    {
      "cell_type": "code",
      "source": [
        "def print_ic_media(data, nome_variavel: str):\n",
        "  intervalo_maior, intervalo_menor = intervalo_de_confianca_media(data)\n",
        "  margem = margem_de_erro(data)\n",
        "\n",
        "  print(f\"Intervalo de confiança de 95% para média ({nome_variavel.upper()})\\n\")\n",
        "  if nome_variavel == \"valor\":\n",
        "    print(f\"\\tR${intervalo_menor} < R${round(data.mean(), 2)} < R${intervalo_maior}\\n\")\n",
        "    print(f\"Com margem de erro de R${margem} para mais ou para menos\")\n",
        "    print(f\"\\nOu seja, temos uma confiança de 95% de que a média real da população está contida nesse intervalo.\")\n",
        "  else: \n",
        "    print(f\"\\t{intervalo_menor} < {round(data.mean(), 2)} < {intervalo_maior}\\n\")\n",
        "    print(f\"\\t{intervalo_menor} < media real < {intervalo_maior}\\n\")\n",
        "    print(f\"Com margem de erro de {margem} para mais ou para menos\")\n",
        "    print(f\"\\nOu seja, temos uma confiança de 95% de que a média real da população está contida nesse intervalo.\")"
      ],
      "metadata": {
        "id": "PNnnWRziYDcR"
      },
      "execution_count": 12,
      "outputs": []
    },
    {
      "cell_type": "markdown",
      "source": [
        "Função para calcular o Intervalo de Confiança para proporção"
      ],
      "metadata": {
        "id": "Owo_MV9xyvEu"
      }
    },
    {
      "cell_type": "code",
      "source": [
        "def intervalo_de_confianca_proporcao(data, condicao):\n",
        "  n = len(data)\n",
        "  p_chapeu = len(condicao)/n\n",
        "  erro = z_critico * np.sqrt((p_chapeu * (1 - p_chapeu)) / n)\n",
        "  \n",
        "  intervalo_menor = round(p_chapeu + erro,4)\n",
        "  intervalo_maior = round(p_chapeu - erro,4)\n",
        "\n",
        "  return intervalo_menor, intervalo_maior"
      ],
      "metadata": {
        "id": "o_r4EOR70W7y"
      },
      "execution_count": 13,
      "outputs": []
    },
    {
      "cell_type": "code",
      "source": [
        "def print_ic_proporcao(data, condicao, descricao: str):\n",
        "  intervalo_maior, intervalo_menor = intervalo_de_confianca_proporcao(data, condicao)\n",
        "  print(f\"Intervalo de confiança de 95% para Proporção de {descricao}\\n\") \n",
        "  print(f\"\\t{intervalo_menor*100:.2f}% <= proporção real <= {intervalo_maior*100:.2f}%\\n\")\n",
        "  print(f\"\\nO intervalo [{intervalo_menor*100:.2f}% ; {intervalo_maior*100:.2f}%], com 95% de probabilidade, contém a verdadeira proporção de {descricao}.\")"
      ],
      "metadata": {
        "id": "SmQBfQmU8b2K"
      },
      "execution_count": 25,
      "outputs": []
    },
    {
      "cell_type": "markdown",
      "source": [
        "## Intervalo para Média"
      ],
      "metadata": {
        "id": "efte0fb4sBkS"
      }
    },
    {
      "cell_type": "code",
      "source": [
        "print_ic_media(df[\"valor\"], \"valor\")"
      ],
      "metadata": {
        "colab": {
          "base_uri": "https://localhost:8080/"
        },
        "id": "a1dF_R7RsSo8",
        "outputId": "213566ba-5d9a-46b2-fce7-ac4ac5a8f5ec"
      },
      "execution_count": 15,
      "outputs": [
        {
          "output_type": "stream",
          "name": "stdout",
          "text": [
            "Intervalo de confiança de 95% para média (VALOR)\n",
            "\n",
            "\tR$715283.87 < R$813271.86 < R$911259.85\n",
            "\n",
            "Com margem de erro de R$97987.99 para mais ou para menos\n",
            "\n",
            "Ou seja, temos uma confiança de 95% de que a média real da população está contida nesse intervalo.\n"
          ]
        }
      ]
    },
    {
      "cell_type": "code",
      "source": [
        "print_ic_media(df[\"area\"], \"area\")"
      ],
      "metadata": {
        "colab": {
          "base_uri": "https://localhost:8080/"
        },
        "id": "W6RZPVeQsaZ5",
        "outputId": "fbae5529-bdf3-4737-875e-9b38a25a8287"
      },
      "execution_count": 16,
      "outputs": [
        {
          "output_type": "stream",
          "name": "stdout",
          "text": [
            "Intervalo de confiança de 95% para média (AREA)\n",
            "\n",
            "\t175.72 < 198.92 < 222.12\n",
            "\n",
            "\t175.72 < media real < 222.12\n",
            "\n",
            "Com margem de erro de 23.2 para mais ou para menos\n",
            "\n",
            "Ou seja, temos uma confiança de 95% de que a média real da população está contida nesse intervalo.\n"
          ]
        }
      ]
    },
    {
      "cell_type": "code",
      "source": [
        "print_ic_media(df[\"qtde_quartos\"], \"Quartos\")"
      ],
      "metadata": {
        "colab": {
          "base_uri": "https://localhost:8080/"
        },
        "id": "APugE4XYsaS_",
        "outputId": "059a042d-46b8-4163-bc01-513e856012f7"
      },
      "execution_count": 17,
      "outputs": [
        {
          "output_type": "stream",
          "name": "stdout",
          "text": [
            "Intervalo de confiança de 95% para média (QUARTOS)\n",
            "\n",
            "\t2.91 < 3.0 < 3.09\n",
            "\n",
            "\t2.91 < media real < 3.09\n",
            "\n",
            "Com margem de erro de 0.09 para mais ou para menos\n",
            "\n",
            "Ou seja, temos uma confiança de 95% de que a média real da população está contida nesse intervalo.\n"
          ]
        }
      ]
    },
    {
      "cell_type": "code",
      "source": [
        "print_ic_media(df[\"qtde_banheiros\"], \"Banheiros\")"
      ],
      "metadata": {
        "colab": {
          "base_uri": "https://localhost:8080/"
        },
        "id": "Q58jaoQlsaOS",
        "outputId": "973fc21a-4608-404b-c505-91d86c22af41"
      },
      "execution_count": 18,
      "outputs": [
        {
          "output_type": "stream",
          "name": "stdout",
          "text": [
            "Intervalo de confiança de 95% para média (BANHEIROS)\n",
            "\n",
            "\t2.62 < 2.76 < 2.9\n",
            "\n",
            "\t2.62 < media real < 2.9\n",
            "\n",
            "Com margem de erro de 0.14 para mais ou para menos\n",
            "\n",
            "Ou seja, temos uma confiança de 95% de que a média real da população está contida nesse intervalo.\n"
          ]
        }
      ]
    },
    {
      "cell_type": "markdown",
      "source": [
        "## Intervalo para Proporção"
      ],
      "metadata": {
        "id": "c6wyIdLDsEuI"
      }
    },
    {
      "cell_type": "code",
      "source": [
        "condicao = df[df[\"zona\"] == \"Centro-Sul\"]\n",
        "\n",
        "print_ic_proporcao(df, condicao, \"Imóveis na Região Centro-Sul de Manaus\")"
      ],
      "metadata": {
        "colab": {
          "base_uri": "https://localhost:8080/"
        },
        "id": "TPAABHv9yq_4",
        "outputId": "9522ef32-8904-41fe-877e-30102580763e"
      },
      "execution_count": 31,
      "outputs": [
        {
          "output_type": "stream",
          "name": "stdout",
          "text": [
            "Intervalo de confiança de 95% para Proporção de Imóveis na Região Centro-Sul de Manaus\n",
            "\n",
            "\t26.68% <= proporção real <= 35.88%\n",
            "\n",
            "\n",
            "O intervalo [26.68% ; 35.88%], com 95% de probabilidade, contém a verdadeira proporção de Imóveis na Região Centro-Sul de Manaus.\n"
          ]
        }
      ]
    },
    {
      "cell_type": "code",
      "source": [
        "condicao = df[df[\"qtde_banheiros\"] == 1]\n",
        "\n",
        "print_ic_proporcao(df, condicao, \"Imóveis que custam menos de R$95.000\")"
      ],
      "metadata": {
        "colab": {
          "base_uri": "https://localhost:8080/"
        },
        "id": "z0vL2AiCBkTA",
        "outputId": "6552a0bc-d276-4946-965f-1495bca559c9"
      },
      "execution_count": 20,
      "outputs": [
        {
          "output_type": "stream",
          "name": "stdout",
          "text": [
            "Intervalo de confiança de 95% para Proporção de Imóveis que custam menos de R$95.000\n",
            "\n",
            "\t17.22% <= proporção real <= 25.34%\n",
            "\n",
            "\n",
            "O intervalo [17.22% ; 25.34%], com 95% de probabilidade, contém a verdadeira proporção de Imóveis que custam menos de R$95.000.\n"
          ]
        }
      ]
    },
    {
      "cell_type": "code",
      "source": [
        "condicao = df[df[\"area\"] > 150]\n",
        "print_ic_proporcao(df, condicao, \"Imóveis com área maior que 150 metros quadrados\")"
      ],
      "metadata": {
        "colab": {
          "base_uri": "https://localhost:8080/"
        },
        "id": "qOEMthAeH5h_",
        "outputId": "8a83df44-28a9-4cbc-e134-de4043ff3cd2"
      },
      "execution_count": 21,
      "outputs": [
        {
          "output_type": "stream",
          "name": "stdout",
          "text": [
            "Intervalo de confiança de 95% para Proporção de Imóveis com área maior que 150 metros quadrados\n",
            "\n",
            "\t38.16% <= proporção real <= 47.99%\n",
            "\n",
            "\n",
            "O intervalo [38.16% ; 47.99%], com 95% de probabilidade, contém a verdadeira proporção de Imóveis com área maior que 150 metros quadrados.\n"
          ]
        }
      ]
    },
    {
      "cell_type": "code",
      "source": [
        "condicao = df[(df[\"area\"] > 45)]\n",
        "condicao = condicao[condicao[\"valor\"] < 90000]\n",
        "\n",
        "print_ic_proporcao(df, condicao, \"Imóveis com área maior que 45 metros quadrados que custam menos que R$90.000\")"
      ],
      "metadata": {
        "colab": {
          "base_uri": "https://localhost:8080/"
        },
        "id": "6U0jg6O7Xlm4",
        "outputId": "1a117b2a-87f7-4e40-f39f-d24d5a8307cb"
      },
      "execution_count": 22,
      "outputs": [
        {
          "output_type": "stream",
          "name": "stdout",
          "text": [
            "Intervalo de confiança de 95% para Proporção de Imóveis com área maior que 45 metros quadrados que custam menos que R$90.000\n",
            "\n",
            "\t0.32% <= proporção real <= 2.76%\n",
            "\n",
            "\n",
            "O intervalo [0.32% ; 2.76%], com 95% de probabilidade, contém a verdadeira proporção de Imóveis com área maior que 45 metros quadrados que custam menos que R$90.000.\n"
          ]
        }
      ]
    }
  ]
}